{
 "cells": [
  {
   "cell_type": "markdown",
   "id": "4dea081f-3865-40b9-bff1-845d8db413c1",
   "metadata": {},
   "source": [
    "## Spatial Information Retrieval\n"
   ]
  },
  {
   "cell_type": "code",
   "execution_count": 1,
   "id": "64c0b62c-fdfc-46c0-a2c8-576b21facae5",
   "metadata": {},
   "outputs": [],
   "source": [
    "## Required python libraries\n",
    "import pandas as pd\n",
    "import numpy as np\n",
    "import scipy as sp\n",
    "import scipy.signal\n",
    "import os\n",
    "import math\n",
    "import sys\n",
    "from scipy.interpolate import griddata\n",
    "\n",
    "# to make this notebook's output stable across runs\n",
    "np.random.seed(42)\n",
    "\n",
    "pd.plotting.register_matplotlib_converters()\n",
    "\n",
    "import matplotlib as mpl\n",
    "import matplotlib.pyplot as plt\n",
    "mpl.rc('axes', labelsize=14)\n",
    "mpl.rc('xtick', labelsize=12)\n",
    "mpl.rc('ytick', labelsize=12)\n",
    "%matplotlib inline\n",
    "import seaborn as sns\n",
    "import librosa\n",
    "import matplotlib.font_manager as font_manager\n",
    "\n",
    "# -----------------Scikit-Learn ≥0.20 is required-------\n",
    "import sklearn\n",
    "assert sklearn.__version__ >= \"0.20\"\n",
    "from sklearn import metrics\n",
    "from sklearn.pipeline import make_pipeline\n",
    "from sklearn.preprocessing import StandardScaler\n",
    "from sklearn.model_selection import train_test_split\n",
    "from sklearn.metrics import classification_report\n",
    "from sklearn.model_selection import GridSearchCV\n",
    "from sklearn.ensemble import RandomForestClassifier\n",
    "from sklearn.svm import SVC\n",
    "from sklearn.preprocessing import MinMaxScaler\n",
    "from sklearn.preprocessing import RobustScaler\n"
   ]
  },
  {
   "cell_type": "code",
   "execution_count": 2,
   "id": "6f1e2a7a-5f24-41ec-b26c-781ab4abb4df",
   "metadata": {},
   "outputs": [],
   "source": [
    "plt.rcParams[\"axes.edgecolor\"] = \"black\"\n",
    "plt.rcParams[\"axes.linewidth\"] = 2.50"
   ]
  },
  {
   "cell_type": "code",
   "execution_count": 3,
   "id": "b603a187-0957-402d-b037-297993bbc501",
   "metadata": {},
   "outputs": [],
   "source": [
    "# ------------------- plotly visualizatoin----------------------------------\n",
    "from PIL import Image\n",
    "import plotly.io as pio\n",
    "import plotly.graph_objects as go\n",
    "import plotly.express as px\n",
    "from plotly.subplots import make_subplots\n",
    "from skimage import data\n",
    "\n",
    "import scaleogram as scg \n",
    "from glob import glob\n",
    "import glob\n",
    "import scipy\n",
    "from scipy.signal import welch\n",
    "import wave                    # library handles the parsing of WAV file headers\n",
    "import pywt\n",
    "import soundfile as sf\n",
    "import matplotlib.font_manager as font_manager"
   ]
  },
  {
   "cell_type": "code",
   "execution_count": 4,
   "id": "af4a694f-1a04-488c-a5db-25d324831953",
   "metadata": {},
   "outputs": [],
   "source": [
    "# Where to save the figures, and dataset locations\n",
    "PROJECT_ROOT_DIR = \"../../\"\n",
    "\n",
    "Multimodal_handcrafted_PATH = os.path.join(\"/home/chenlequn/Dataset/Multimodal_AM_monitoring/Handcrafted\")\n",
    "Audio_extracted_feature_PATH = os.path.join(\"/home/chenlequn/Dataset/Multimodal_AM_monitoring/Handcrafted/Acoustic_feature\")\n",
    "Raw_experiment_csv_PATH = os.path.join(Multimodal_handcrafted_PATH, \"Raw_multisensor_feature\")\n",
    "Thermal_feature_csv_PATH = os.path.join(Multimodal_handcrafted_PATH, \"Thermal_feature\", 'csv')\n",
    "Spatiotemporal_registered_PATH = os.path.join(Multimodal_handcrafted_PATH, \"Spatiotemporal_registered\")\n",
    "# IMAGE_PATH = os.path.join(PROJECT_ROOT_DIR, \"result_images\", 'handcrafted_feature', 'sample_22')\n",
    "# HTML_PATH = os.path.join(PROJECT_ROOT_DIR, \"html\", 'multimodal_experiment', \"sample_22\")\n",
    "\n",
    "# os.makedirs(IMAGE_PATH, exist_ok=True)\n",
    "# os.makedirs(HTML_PATH, exist_ok=True)\n",
    "\n",
    "## function for automatically save the diagram/graph into the folder \n",
    "def save_fig(fig_id, tight_layout=True, fig_extension=\"png\", resolution=300):\n",
    "    path = os.path.join(IMAGE_PATH, fig_id + \".\" + fig_extension)\n",
    "    print(\"Saving figure\", fig_id)\n",
    "    if tight_layout:\n",
    "        plt.tight_layout()\n",
    "    plt.savefig(path, format=fig_extension, dpi=resolution)\n",
    "\n",
    "# Ignore useless warnings (see SciPy issue #5998)\n",
    "import warnings\n",
    "warnings.filterwarnings(action=\"ignore\", message=\"^internal gelsd\")"
   ]
  },
  {
   "cell_type": "markdown",
   "id": "6dcc255c-0f3b-4a6d-a92e-f37cfedf399d",
   "metadata": {},
   "source": [
    "### import spatiotemporal fused dataset"
   ]
  },
  {
   "cell_type": "code",
   "execution_count": 5,
   "id": "1cff255f-51aa-4f38-8456-20fa6e5f32a9",
   "metadata": {},
   "outputs": [],
   "source": [
    "dataset_21_file = os.path.join(Spatiotemporal_registered_PATH, \"sample_21_resampled.csv\")\n",
    "dataset_22_file = os.path.join(Spatiotemporal_registered_PATH, \"sample_22_resampled.csv\")\n",
    "dataset_23_file = os.path.join(Spatiotemporal_registered_PATH, \"sample_23_resampled.csv\")\n",
    "dataset_24_file = os.path.join(Spatiotemporal_registered_PATH, \"sample_24_resampled.csv\")\n",
    "dataset_26_file = os.path.join(Spatiotemporal_registered_PATH, \"sample_26_resampled.csv\")\n",
    "label_file = os.path.join(Multimodal_handcrafted_PATH, 'label.csv')"
   ]
  },
  {
   "cell_type": "code",
   "execution_count": 6,
   "id": "a5363486-e06c-43ce-a65e-577970b547bc",
   "metadata": {},
   "outputs": [],
   "source": [
    "# dropna, create pandas dataframe\n",
    "labels = pd.read_csv(label_file).dropna(axis=0)\n",
    "\n",
    "def reset_dataset(dataset_filename):\n",
    "    dataset = pd.read_csv(dataset_filename).dropna(axis=0)\n",
    "    # dataset = dataset[dataset.layer != 0] # remove all the '0' layer\n",
    "    # resetting the DataFrame index\n",
    "    dataset = dataset.reset_index()\n",
    "    return dataset"
   ]
  },
  {
   "cell_type": "code",
   "execution_count": 7,
   "id": "3890a3d9-ff15-40f5-ae1b-595c6234a342",
   "metadata": {},
   "outputs": [],
   "source": [
    "dataset_21 = reset_dataset(dataset_21_file)\n",
    "dataset_22 = reset_dataset(dataset_22_file)\n",
    "dataset_23 = reset_dataset(dataset_23_file)\n",
    "dataset_24 = reset_dataset(dataset_24_file)\n",
    "dataset_26 = reset_dataset(dataset_26_file)"
   ]
  },
  {
   "cell_type": "code",
   "execution_count": 9,
   "id": "d0f6f9fd-1b2d-459f-9b0b-3e6570340506",
   "metadata": {},
   "outputs": [
    {
     "data": {
      "text/html": [
       "<div>\n",
       "<style scoped>\n",
       "    .dataframe tbody tr th:only-of-type {\n",
       "        vertical-align: middle;\n",
       "    }\n",
       "\n",
       "    .dataframe tbody tr th {\n",
       "        vertical-align: top;\n",
       "    }\n",
       "\n",
       "    .dataframe thead th {\n",
       "        text-align: right;\n",
       "    }\n",
       "</style>\n",
       "<table border=\"1\" class=\"dataframe\">\n",
       "  <thead>\n",
       "    <tr style=\"text-align: right;\">\n",
       "      <th></th>\n",
       "      <th>index</th>\n",
       "      <th>Unnamed: 0</th>\n",
       "      <th>X</th>\n",
       "      <th>Y</th>\n",
       "      <th>Z</th>\n",
       "    </tr>\n",
       "  </thead>\n",
       "  <tbody>\n",
       "    <tr>\n",
       "      <th>0</th>\n",
       "      <td>0</td>\n",
       "      <td>0</td>\n",
       "      <td>0.053223</td>\n",
       "      <td>0.332886</td>\n",
       "      <td>0.129822</td>\n",
       "    </tr>\n",
       "    <tr>\n",
       "      <th>1</th>\n",
       "      <td>1</td>\n",
       "      <td>1</td>\n",
       "      <td>0.053182</td>\n",
       "      <td>0.332865</td>\n",
       "      <td>0.129832</td>\n",
       "    </tr>\n",
       "    <tr>\n",
       "      <th>2</th>\n",
       "      <td>2</td>\n",
       "      <td>2</td>\n",
       "      <td>0.053141</td>\n",
       "      <td>0.332845</td>\n",
       "      <td>0.129842</td>\n",
       "    </tr>\n",
       "    <tr>\n",
       "      <th>3</th>\n",
       "      <td>3</td>\n",
       "      <td>3</td>\n",
       "      <td>0.053101</td>\n",
       "      <td>0.332825</td>\n",
       "      <td>0.129852</td>\n",
       "    </tr>\n",
       "    <tr>\n",
       "      <th>4</th>\n",
       "      <td>4</td>\n",
       "      <td>4</td>\n",
       "      <td>0.053060</td>\n",
       "      <td>0.332821</td>\n",
       "      <td>0.129846</td>\n",
       "    </tr>\n",
       "    <tr>\n",
       "      <th>...</th>\n",
       "      <td>...</td>\n",
       "      <td>...</td>\n",
       "      <td>...</td>\n",
       "      <td>...</td>\n",
       "      <td>...</td>\n",
       "    </tr>\n",
       "    <tr>\n",
       "      <th>326595</th>\n",
       "      <td>326595</td>\n",
       "      <td>326595</td>\n",
       "      <td>0.049878</td>\n",
       "      <td>0.333378</td>\n",
       "      <td>19.717114</td>\n",
       "    </tr>\n",
       "    <tr>\n",
       "      <th>326596</th>\n",
       "      <td>326596</td>\n",
       "      <td>326596</td>\n",
       "      <td>0.049890</td>\n",
       "      <td>0.333386</td>\n",
       "      <td>19.717105</td>\n",
       "    </tr>\n",
       "    <tr>\n",
       "      <th>326597</th>\n",
       "      <td>326597</td>\n",
       "      <td>326597</td>\n",
       "      <td>0.049898</td>\n",
       "      <td>0.333388</td>\n",
       "      <td>19.717104</td>\n",
       "    </tr>\n",
       "    <tr>\n",
       "      <th>326598</th>\n",
       "      <td>326598</td>\n",
       "      <td>326598</td>\n",
       "      <td>0.049902</td>\n",
       "      <td>0.333388</td>\n",
       "      <td>19.717105</td>\n",
       "    </tr>\n",
       "    <tr>\n",
       "      <th>326599</th>\n",
       "      <td>326599</td>\n",
       "      <td>326599</td>\n",
       "      <td>0.049902</td>\n",
       "      <td>0.333386</td>\n",
       "      <td>19.717108</td>\n",
       "    </tr>\n",
       "  </tbody>\n",
       "</table>\n",
       "<p>326600 rows × 5 columns</p>\n",
       "</div>"
      ],
      "text/plain": [
       "         index  Unnamed: 0         X         Y          Z\n",
       "0            0           0  0.053223  0.332886   0.129822\n",
       "1            1           1  0.053182  0.332865   0.129832\n",
       "2            2           2  0.053141  0.332845   0.129842\n",
       "3            3           3  0.053101  0.332825   0.129852\n",
       "4            4           4  0.053060  0.332821   0.129846\n",
       "...        ...         ...       ...       ...        ...\n",
       "326595  326595      326595  0.049878  0.333378  19.717114\n",
       "326596  326596      326596  0.049890  0.333386  19.717105\n",
       "326597  326597      326597  0.049898  0.333388  19.717104\n",
       "326598  326598      326598  0.049902  0.333388  19.717105\n",
       "326599  326599      326599  0.049902  0.333386  19.717108\n",
       "\n",
       "[326600 rows x 5 columns]"
      ]
     },
     "execution_count": 9,
     "metadata": {},
     "output_type": "execute_result"
    }
   ],
   "source": [
    "df_selected = dataset_26.iloc[:, :5]\n",
    "df_selected"
   ]
  },
  {
   "cell_type": "code",
   "execution_count": 10,
   "id": "f79d26ee-d2e8-404a-acb3-b3eb38213a20",
   "metadata": {},
   "outputs": [
    {
     "data": {
      "text/plain": [
       "<AxesSubplot:>"
      ]
     },
     "execution_count": 10,
     "metadata": {},
     "output_type": "execute_result"
    },
    {
     "data": {
      "image/png": "[encoded data removed]",
      "text/plain": [
       "<Figure size 640x480 with 1 Axes>"
      ]
     },
     "metadata": {},
     "output_type": "display_data"
    }
   ],
   "source": [
    "df_selected['Z'].plot(linewidth=1)"
   ]
  },
  {
   "cell_type": "code",
   "execution_count": 18,
   "id": "1a30ee68-9596-48cd-b461-31978bdada63",
   "metadata": {},
   "outputs": [],
   "source": [
    "from scipy.signal import savgol_filter\n",
    "length = 10986\n",
    "\n",
    "# 5141 - sample 21\n",
    "# 10987 - sample 26\n",
    "\n",
    "X = scipy.signal.resample(df_selected[\"X\"].to_numpy(), length)\n",
    "Y = scipy.signal.resample(df_selected[\"Y\"].to_numpy(), length)\n",
    "Z = scipy.signal.resample(df_selected[\"Z\"].to_numpy(), length)\n",
    "\n",
    "# X_df = pd.DataFrame(X, columns=[\"X\"]).rolling(20, min_periods=1).mean()\n",
    "# Y_df = pd.DataFrame(Y, columns=[\"Y\"]).rolling(20, min_periods=1).mean()\n",
    "# Z_df = pd.DataFrame(Z, columns=[\"Z\"]).rolling(20, min_periods=1).mean()\n",
    "X_df = pd.DataFrame(X, columns=[\"X\"])\n",
    "Y_df = pd.DataFrame(Y, columns=[\"Y\"])\n",
    "Z_df = pd.DataFrame(Z, columns=[\"Z\"])\n",
    "\n",
    "\n",
    "# X_smooth = savgol_filter(X, window_length=5, polyorder=2)\n",
    "# Y_smooth = savgol_filter(Y, window_length=5, polyorder=2)\n",
    "# Z_smooth = savgol_filter(Z, window_length=5, polyorder=2)\n",
    "\n",
    "dataframe_resampled = pd.concat([X_df, Y_df, Z_df], axis=1)"
   ]
  },
  {
   "cell_type": "code",
   "execution_count": 19,
   "id": "15935e44-0ba3-4e57-a6ff-312df23a5eae",
   "metadata": {},
   "outputs": [
    {
     "data": {
      "text/html": [
       "<div>\n",
       "<style scoped>\n",
       "    .dataframe tbody tr th:only-of-type {\n",
       "        vertical-align: middle;\n",
       "    }\n",
       "\n",
       "    .dataframe tbody tr th {\n",
       "        vertical-align: top;\n",
       "    }\n",
       "\n",
       "    .dataframe thead th {\n",
       "        text-align: right;\n",
       "    }\n",
       "</style>\n",
       "<table border=\"1\" class=\"dataframe\">\n",
       "  <thead>\n",
       "    <tr style=\"text-align: right;\">\n",
       "      <th></th>\n",
       "      <th>X</th>\n",
       "      <th>Y</th>\n",
       "      <th>Z</th>\n",
       "    </tr>\n",
       "  </thead>\n",
       "  <tbody>\n",
       "    <tr>\n",
       "      <th>0</th>\n",
       "      <td>0.051261</td>\n",
       "      <td>0.332409</td>\n",
       "      <td>9.593398</td>\n",
       "    </tr>\n",
       "    <tr>\n",
       "      <th>1</th>\n",
       "      <td>0.053637</td>\n",
       "      <td>0.333638</td>\n",
       "      <td>-1.620712</td>\n",
       "    </tr>\n",
       "    <tr>\n",
       "      <th>2</th>\n",
       "      <td>0.052480</td>\n",
       "      <td>0.332042</td>\n",
       "      <td>1.079153</td>\n",
       "    </tr>\n",
       "    <tr>\n",
       "      <th>3</th>\n",
       "      <td>0.053354</td>\n",
       "      <td>0.334101</td>\n",
       "      <td>-0.517956</td>\n",
       "    </tr>\n",
       "    <tr>\n",
       "      <th>4</th>\n",
       "      <td>0.052477</td>\n",
       "      <td>0.331523</td>\n",
       "      <td>0.617860</td>\n",
       "    </tr>\n",
       "    <tr>\n",
       "      <th>...</th>\n",
       "      <td>...</td>\n",
       "      <td>...</td>\n",
       "      <td>...</td>\n",
       "    </tr>\n",
       "    <tr>\n",
       "      <th>10981</th>\n",
       "      <td>0.049866</td>\n",
       "      <td>0.333670</td>\n",
       "      <td>20.111111</td>\n",
       "    </tr>\n",
       "    <tr>\n",
       "      <th>10982</th>\n",
       "      <td>0.049612</td>\n",
       "      <td>0.332770</td>\n",
       "      <td>19.226752</td>\n",
       "    </tr>\n",
       "    <tr>\n",
       "      <th>10983</th>\n",
       "      <td>0.049823</td>\n",
       "      <td>0.333603</td>\n",
       "      <td>20.365324</td>\n",
       "    </tr>\n",
       "    <tr>\n",
       "      <th>10984</th>\n",
       "      <td>0.049747</td>\n",
       "      <td>0.332576</td>\n",
       "      <td>18.765931</td>\n",
       "    </tr>\n",
       "    <tr>\n",
       "      <th>10985</th>\n",
       "      <td>0.049826</td>\n",
       "      <td>0.333913</td>\n",
       "      <td>21.468823</td>\n",
       "    </tr>\n",
       "  </tbody>\n",
       "</table>\n",
       "<p>10986 rows × 3 columns</p>\n",
       "</div>"
      ],
      "text/plain": [
       "              X         Y          Z\n",
       "0      0.051261  0.332409   9.593398\n",
       "1      0.053637  0.333638  -1.620712\n",
       "2      0.052480  0.332042   1.079153\n",
       "3      0.053354  0.334101  -0.517956\n",
       "4      0.052477  0.331523   0.617860\n",
       "...         ...       ...        ...\n",
       "10981  0.049866  0.333670  20.111111\n",
       "10982  0.049612  0.332770  19.226752\n",
       "10983  0.049823  0.333603  20.365324\n",
       "10984  0.049747  0.332576  18.765931\n",
       "10985  0.049826  0.333913  21.468823\n",
       "\n",
       "[10986 rows x 3 columns]"
      ]
     },
     "execution_count": 19,
     "metadata": {},
     "output_type": "execute_result"
    }
   ],
   "source": [
    "dataframe_resampled"
   ]
  },
  {
   "cell_type": "code",
   "execution_count": 20,
   "id": "294c8896-47c2-417a-a171-ec10944785b9",
   "metadata": {},
   "outputs": [
    {
     "data": {
      "text/plain": [
       "<AxesSubplot:>"
      ]
     },
     "execution_count": 20,
     "metadata": {},
     "output_type": "execute_result"
    },
    {
     "data": {
      "image/png": "[encoded data removed]",
      "text/plain": [
       "<Figure size 640x480 with 1 Axes>"
      ]
     },
     "metadata": {},
     "output_type": "display_data"
    }
   ],
   "source": [
    "dataframe_resampled['Z'].plot(linewidth=1)"
   ]
  },
  {
   "cell_type": "code",
   "execution_count": 21,
   "id": "94b6c399-eeda-4687-9fac-fefe1f0784ec",
   "metadata": {},
   "outputs": [],
   "source": [
    "dataframe_resampled.to_csv('26_position.csv', index=False)"
   ]
  }
 ],
 "metadata": {
  "kernelspec": {
   "display_name": "Python 3 (ipykernel)",
   "language": "python",
   "name": "python3"
  },
  "language_info": {
   "codemirror_mode": {
    "name": "ipython",
    "version": 3
   },
   "file_extension": ".py",
   "mimetype": "text/x-python",
   "name": "python",
   "nbconvert_exporter": "python",
   "pygments_lexer": "ipython3",
   "version": "3.9.16"
  }
 },
 "nbformat": 4,
 "nbformat_minor": 5
}
