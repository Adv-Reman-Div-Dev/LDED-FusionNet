{
 "cells": [
  {
   "cell_type": "markdown",
   "id": "0a8ac2fa-9587-47b1-907c-6b3b3cf7e2e8",
   "metadata": {},
   "source": [
    "# LDED Audiovisual Fusion \n",
    "\n",
    "Author: Chen Lequn.\n",
    "Created on 12 Oct 2023.\n",
    "\n",
    "- Material: Maraging Steel 300\n",
    "- Process: Robotic Laser-directed energy deposition\n",
    "- Recorded data: position, veolocity, coaxial ccd features, audio feature\n",
    "- Quality labels generated: keyhole pores, cracks, defect-free\n",
    "\n",
    "### Notebook 2d: Audio Visual Feature Spatial Temporal Visualization\n"
   ]
  }
 ],
 "metadata": {
  "kernelspec": {
   "display_name": "Python 3 (ipykernel)",
   "language": "python",
   "name": "python3"
  },
  "language_info": {
   "codemirror_mode": {
    "name": "ipython",
    "version": 3
   },
   "file_extension": ".py",
   "mimetype": "text/x-python",
   "name": "python",
   "nbconvert_exporter": "python",
   "pygments_lexer": "ipython3",
   "version": "3.9.16"
  }
 },
 "nbformat": 4,
 "nbformat_minor": 5
}
