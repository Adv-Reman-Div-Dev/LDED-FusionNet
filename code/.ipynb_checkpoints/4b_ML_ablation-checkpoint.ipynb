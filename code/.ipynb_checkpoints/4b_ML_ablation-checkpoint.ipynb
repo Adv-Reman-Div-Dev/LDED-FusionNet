{
 "cells": [
  {
   "cell_type": "markdown",
   "id": "0e8a73e8-62c6-478a-a623-b3285c7bb46b",
   "metadata": {},
   "source": [
    "# LDED Audiovisual Fusion \n",
    "\n",
    "Author: Chen Lequn.\n",
    "Created on 31 Oct 2023.\n",
    "\n",
    "\n",
    "### Notebook 4b: ML modelling - ablation study (feature-based audio visual fusion model)\n",
    "- Full Dataset: All features (from 4a)\n",
    "- Ablated Dataset 1: Features after removing those with Pearson correlation > 0.9 (within each modality).\n",
    "- Ablated Dataset 2: Features from Ablated Dataset 1 with MI > 0.05.\n",
    "- Ablated Dataset 3: Features from Ablated Dataset 1 with MI > 0.1.\n",
    "- Ablated Dataset 4: Audio Features from All features.\n",
    "- Ablated Dataset 5: Vision Features from All features.\n",
    "- Ablated Dataset 6: Audio Features from Ablated Dataset 1.\n",
    "- Ablated Dataset 7: Vision Features from Ablated Dataset 1.\n",
    "- Ablated Dataset 8: Audio Features from Ablated Dataset 2.\n",
    "- Ablated Dataset 9: Audio Features from Ablated Dataset 3."
   ]
  },
  {
   "cell_type": "code",
   "execution_count": 1,
   "id": "60425ac2-09bd-4bd1-af37-463a33363e08",
   "metadata": {},
   "outputs": [],
   "source": [
    "# from sklearnex import patch_sklearn, config_context\n",
    "# import dpctl\n",
    "# patch_sklearn()"
   ]
  },
  {
   "cell_type": "code",
   "execution_count": 2,
   "id": "1dd4d910-cf99-4091-9459-887c8119a16b",
   "metadata": {},
   "outputs": [],
   "source": [
    "import wandb"
   ]
  },
  {
   "cell_type": "code",
   "execution_count": 3,
   "id": "4bf02ab4-a68c-4e2d-901f-ce0b33135ef4",
   "metadata": {},
   "outputs": [],
   "source": [
    "import os\n",
    "import glob\n",
    "import sys\n",
    "import math\n",
    "import numpy as np\n",
    "import pandas as pd\n",
    "from pandas import DataFrame\n",
    "import scipy as sp\n",
    "import itertools\n",
    "from collections import defaultdict\n",
    "from pprint import pprint\n",
    "import pickle\n",
    "from joblib import dump, load\n",
    "\n",
    "# Plotting\n",
    "import matplotlib as mpl\n",
    "import matplotlib.pyplot as plt\n",
    "from matplotlib.pyplot import gca\n",
    "from pylab import *\n",
    "import seaborn as sns\n",
    "mpl.rc('axes', labelsize=14)\n",
    "mpl.rc('xtick', labelsize=12)\n",
    "mpl.rc('ytick', labelsize=12)\n",
    "%matplotlib inline\n",
    "\n",
    "# Scikit-learn general\n",
    "from sklearn import preprocessing, metrics, svm, datasets, tree, neighbors\n",
    "from sklearn.metrics import accuracy_score, f1_score, roc_auc_score, precision_score, recall_score, confusion_matrix, roc_curve, auc, classification_report\n",
    "from sklearn.model_selection import train_test_split, RandomizedSearchCV, cross_validate, KFold, StratifiedKFold, GridSearchCV\n",
    "from sklearn.preprocessing import StandardScaler, LabelEncoder, OneHotEncoder, scale\n",
    "from sklearn.ensemble import HistGradientBoostingClassifier\n",
    "\n",
    "# Scikit-learn models\n",
    "from sklearn.neighbors import KNeighborsClassifier\n",
    "from sklearn.tree import DecisionTreeClassifier\n",
    "from sklearn.linear_model import LogisticRegression, Lasso, Ridge\n",
    "from sklearn.ensemble import RandomForestClassifier, AdaBoostClassifier, GradientBoostingClassifier, GradientBoostingRegressor\n",
    "from sklearn.neural_network import MLPClassifier, MLPRegressor\n",
    "from sklearn.gaussian_process import GaussianProcessClassifier\n",
    "from sklearn.gaussian_process.kernels import RBF\n",
    "from sklearn.naive_bayes import GaussianNB\n",
    "from sklearn.svm import SVC, SVR\n",
    "from sklearn.multiclass import OneVsRestClassifier\n",
    "\n",
    "# Imbalanced learn\n",
    "from imblearn.ensemble import BalancedRandomForestClassifier, RUSBoostClassifier\n",
    "\n",
    "# XGBoost and LightGBM\n",
    "import xgboost as xgb\n",
    "from xgboost import XGBClassifier\n",
    "import lightgbm as lgb\n",
    "from lightgbm import LGBMClassifier\n",
    "\n",
    "# Utilities\n",
    "from scipy.stats import uniform, randint\n",
    "from scipy.interpolate import griddata\n",
    "from sklearn.utils import shuffle, resample, class_weight\n",
    "from utils import *\n"
   ]
  },
  {
   "cell_type": "code",
   "execution_count": 4,
   "id": "f8888f60-bf0b-4a2a-8ee6-f32931a1938a",
   "metadata": {},
   "outputs": [],
   "source": [
    "PROJECT_ROOT_DIR = \"../\"\n",
    "IMAGE_PATH = os.path.join(PROJECT_ROOT_DIR, \"result_images\", 'defect classification', 'class_name_v3', 'ML-baseline', 'ablation study')\n",
    "model_path = os.path.join(PROJECT_ROOT_DIR, \"trained_models\", 'defect classification', 'class_name_v3', 'ML-baseline', 'ablation study')\n",
    "scaler_path = os.path.join(PROJECT_ROOT_DIR, \"saved_scalers\", 'defect classification', 'class_name_v3', 'ML-baseline', 'ablation study')\n",
    "os.makedirs(IMAGE_PATH, exist_ok=True)\n",
    "os.makedirs(model_path, exist_ok=True)\n",
    "os.makedirs(scaler_path, exist_ok=True)\n",
    "\n",
    "Multimodal_dataset_PATH = \"/home/chenlequn/Dataset/LDED_acoustic_visual_monitoring_dataset\"\n",
    "Dataset_path = os.path.join(Multimodal_dataset_PATH, f'25Hz')\n",
    "                            \n",
    "\n",
    "## function for automatically save the diagram/graph into the folder \n",
    "def save_fig(fig_id, tight_layout=True, fig_extension=\"png\", resolution=300):\n",
    "    path = os.path.join(IMAGE_PATH, fig_id + \".\" + fig_extension)\n",
    "    print(\"Saving figure\", fig_id)\n",
    "    if tight_layout:\n",
    "        plt.tight_layout()\n",
    "    plt.savefig(path, format=fig_extension, dpi=resolution)\n",
    "\n",
    "import warnings\n",
    "warnings.filterwarnings(action=\"ignore\", message=\"^internal gelsd\")\n",
    "\n",
    "plt.rcParams[\"axes.edgecolor\"] = \"black\"\n",
    "plt.rcParams[\"axes.linewidth\"] = 2.50"
   ]
  },
  {
   "cell_type": "code",
   "execution_count": 5,
   "id": "78b4108b-6095-4336-9f14-56a4b96d50ea",
   "metadata": {
    "scrolled": true
   },
   "outputs": [
    {
     "name": "stderr",
     "output_type": "stream",
     "text": [
      "\u001b[34m\u001b[1mwandb\u001b[0m: Currently logged in as: \u001b[33mchen1189\u001b[0m (\u001b[33mlequn\u001b[0m). Use \u001b[1m`wandb login --relogin`\u001b[0m to force relogin\n"
     ]
    },
    {
     "data": {
      "text/html": [
       "wandb version 0.16.3 is available!  To upgrade, please run:\n",
       " $ pip install wandb --upgrade"
      ],
      "text/plain": [
       "<IPython.core.display.HTML object>"
      ]
     },
     "metadata": {},
     "output_type": "display_data"
    },
    {
     "data": {
      "text/html": [
       "Tracking run with wandb version 0.15.12"
      ],
      "text/plain": [
       "<IPython.core.display.HTML object>"
      ]
     },
     "metadata": {},
     "output_type": "display_data"
    },
    {
     "data": {
      "text/html": [
       "Run data is saved locally in <code>/home/chenlequn/GitHub/LDED-FusionNet/code/wandb/run-20240305_114653-6j1cznxv</code>"
      ],
      "text/plain": [
       "<IPython.core.display.HTML object>"
      ]
     },
     "metadata": {},
     "output_type": "display_data"
    },
    {
     "data": {
      "text/html": [
       "Syncing run <strong><a href='https://wandb.ai/lequn/AudioVisual_ML_ablation_study_v2/runs/6j1cznxv' target=\"_blank\">peach-firefly-156</a></strong> to <a href='https://wandb.ai/lequn/AudioVisual_ML_ablation_study_v2' target=\"_blank\">Weights & Biases</a> (<a href='https://wandb.me/run' target=\"_blank\">docs</a>)<br/>"
      ],
      "text/plain": [
       "<IPython.core.display.HTML object>"
      ]
     },
     "metadata": {},
     "output_type": "display_data"
    },
    {
     "data": {
      "text/html": [
       " View project at <a href='https://wandb.ai/lequn/AudioVisual_ML_ablation_study_v2' target=\"_blank\">https://wandb.ai/lequn/AudioVisual_ML_ablation_study_v2</a>"
      ],
      "text/plain": [
       "<IPython.core.display.HTML object>"
      ]
     },
     "metadata": {},
     "output_type": "display_data"
    },
    {
     "data": {
      "text/html": [
       " View run at <a href='https://wandb.ai/lequn/AudioVisual_ML_ablation_study_v2/runs/6j1cznxv' target=\"_blank\">https://wandb.ai/lequn/AudioVisual_ML_ablation_study_v2/runs/6j1cznxv</a>"
      ],
      "text/plain": [
       "<IPython.core.display.HTML object>"
      ]
     },
     "metadata": {},
     "output_type": "display_data"
    },
    {
     "data": {
      "text/html": [
       "<button onClick=\"this.nextSibling.style.display='block';this.style.display='none';\">Display W&B run</button><iframe src='https://wandb.ai/lequn/AudioVisual_ML_ablation_study_v2/runs/6j1cznxv?jupyter=true' style='border:none;width:100%;height:420px;display:none;'></iframe>"
      ],
      "text/plain": [
       "<wandb.sdk.wandb_run.Run at 0x7f277e8389d0>"
      ]
     },
     "execution_count": 5,
     "metadata": {},
     "output_type": "execute_result"
    }
   ],
   "source": [
    "# Initialize wandb\n",
    "wandb.init(project=\"AudioVisual_ML_ablation_study_v2\")"
   ]
  },
  {
   "cell_type": "markdown",
   "id": "b3c1c916-c976-42f8-bab1-877575548b65",
   "metadata": {},
   "source": [
    "## Step 1: Dataset preparation"
   ]
  },
  {
   "cell_type": "code",
   "execution_count": 6,
   "id": "b965e8e5-f8ab-4bbf-b317-b76a218aa8a1",
   "metadata": {
    "scrolled": true
   },
   "outputs": [
    {
     "data": {
      "text/html": [
       "<div>\n",
       "<style scoped>\n",
       "    .dataframe tbody tr th:only-of-type {\n",
       "        vertical-align: middle;\n",
       "    }\n",
       "\n",
       "    .dataframe tbody tr th {\n",
       "        vertical-align: top;\n",
       "    }\n",
       "\n",
       "    .dataframe thead th {\n",
       "        text-align: right;\n",
       "    }\n",
       "</style>\n",
       "<table border=\"1\" class=\"dataframe\">\n",
       "  <thead>\n",
       "    <tr style=\"text-align: right;\">\n",
       "      <th></th>\n",
       "      <th>sample index</th>\n",
       "      <th>Time_Stamps</th>\n",
       "      <th>audio_file_name</th>\n",
       "      <th>image_file_name</th>\n",
       "      <th>class_name</th>\n",
       "      <th>class_name_v2</th>\n",
       "      <th>Layer number</th>\n",
       "      <th>Sample number</th>\n",
       "      <th>class_name_v3</th>\n",
       "      <th>rms_energy</th>\n",
       "      <th>...</th>\n",
       "      <th>center_y</th>\n",
       "      <th>contour_area</th>\n",
       "      <th>contour_length</th>\n",
       "      <th>X</th>\n",
       "      <th>Y</th>\n",
       "      <th>Z</th>\n",
       "      <th>Vx</th>\n",
       "      <th>Vy</th>\n",
       "      <th>Vz</th>\n",
       "      <th>Speed</th>\n",
       "    </tr>\n",
       "  </thead>\n",
       "  <tbody>\n",
       "    <tr>\n",
       "      <th>0</th>\n",
       "      <td>1</td>\n",
       "      <td>0.00</td>\n",
       "      <td>sample_21_1.wav</td>\n",
       "      <td>sample_21_1.jpg</td>\n",
       "      <td>Laser-off</td>\n",
       "      <td>Laser-off</td>\n",
       "      <td>1.0</td>\n",
       "      <td>21</td>\n",
       "      <td>Laser-off</td>\n",
       "      <td>0.009018</td>\n",
       "      <td>...</td>\n",
       "      <td>0.000000</td>\n",
       "      <td>0.0</td>\n",
       "      <td>0.000000</td>\n",
       "      <td>0.000</td>\n",
       "      <td>0.000</td>\n",
       "      <td>0.000</td>\n",
       "      <td>0.000</td>\n",
       "      <td>-0.000</td>\n",
       "      <td>0.000</td>\n",
       "      <td>0.000</td>\n",
       "    </tr>\n",
       "    <tr>\n",
       "      <th>1</th>\n",
       "      <td>2</td>\n",
       "      <td>0.04</td>\n",
       "      <td>sample_21_2.wav</td>\n",
       "      <td>sample_21_2.jpg</td>\n",
       "      <td>Defect-free</td>\n",
       "      <td>Defect-free</td>\n",
       "      <td>1.0</td>\n",
       "      <td>21</td>\n",
       "      <td>Defect-free</td>\n",
       "      <td>0.019286</td>\n",
       "      <td>...</td>\n",
       "      <td>239.000000</td>\n",
       "      <td>305442.0</td>\n",
       "      <td>2234.000000</td>\n",
       "      <td>0.000</td>\n",
       "      <td>-0.000</td>\n",
       "      <td>0.001</td>\n",
       "      <td>-0.074</td>\n",
       "      <td>-0.074</td>\n",
       "      <td>0.000</td>\n",
       "      <td>0.105</td>\n",
       "    </tr>\n",
       "    <tr>\n",
       "      <th>2</th>\n",
       "      <td>3</td>\n",
       "      <td>0.08</td>\n",
       "      <td>sample_21_3.wav</td>\n",
       "      <td>sample_21_3.jpg</td>\n",
       "      <td>Defect-free</td>\n",
       "      <td>Defect-free</td>\n",
       "      <td>1.0</td>\n",
       "      <td>21</td>\n",
       "      <td>Defect-free</td>\n",
       "      <td>0.019593</td>\n",
       "      <td>...</td>\n",
       "      <td>239.000000</td>\n",
       "      <td>305442.0</td>\n",
       "      <td>2234.000000</td>\n",
       "      <td>-0.010</td>\n",
       "      <td>0.015</td>\n",
       "      <td>-0.007</td>\n",
       "      <td>-0.051</td>\n",
       "      <td>0.026</td>\n",
       "      <td>-0.051</td>\n",
       "      <td>0.077</td>\n",
       "    </tr>\n",
       "    <tr>\n",
       "      <th>3</th>\n",
       "      <td>4</td>\n",
       "      <td>0.12</td>\n",
       "      <td>sample_21_4.wav</td>\n",
       "      <td>sample_21_4.jpg</td>\n",
       "      <td>Defect-free</td>\n",
       "      <td>Defect-free</td>\n",
       "      <td>1.0</td>\n",
       "      <td>21</td>\n",
       "      <td>Defect-free</td>\n",
       "      <td>0.030937</td>\n",
       "      <td>...</td>\n",
       "      <td>230.264496</td>\n",
       "      <td>291865.5</td>\n",
       "      <td>2279.781744</td>\n",
       "      <td>-0.007</td>\n",
       "      <td>0.016</td>\n",
       "      <td>0.010</td>\n",
       "      <td>0.173</td>\n",
       "      <td>-0.222</td>\n",
       "      <td>2.520</td>\n",
       "      <td>2.536</td>\n",
       "    </tr>\n",
       "    <tr>\n",
       "      <th>4</th>\n",
       "      <td>5</td>\n",
       "      <td>0.16</td>\n",
       "      <td>sample_21_5.wav</td>\n",
       "      <td>sample_21_5.jpg</td>\n",
       "      <td>Defect-free</td>\n",
       "      <td>Defect-free</td>\n",
       "      <td>1.0</td>\n",
       "      <td>21</td>\n",
       "      <td>Defect-free</td>\n",
       "      <td>0.038329</td>\n",
       "      <td>...</td>\n",
       "      <td>229.109962</td>\n",
       "      <td>281970.0</td>\n",
       "      <td>2407.847760</td>\n",
       "      <td>-0.111</td>\n",
       "      <td>0.123</td>\n",
       "      <td>-0.057</td>\n",
       "      <td>-1.864</td>\n",
       "      <td>1.662</td>\n",
       "      <td>-2.468</td>\n",
       "      <td>3.511</td>\n",
       "    </tr>\n",
       "    <tr>\n",
       "      <th>...</th>\n",
       "      <td>...</td>\n",
       "      <td>...</td>\n",
       "      <td>...</td>\n",
       "      <td>...</td>\n",
       "      <td>...</td>\n",
       "      <td>...</td>\n",
       "      <td>...</td>\n",
       "      <td>...</td>\n",
       "      <td>...</td>\n",
       "      <td>...</td>\n",
       "      <td>...</td>\n",
       "      <td>...</td>\n",
       "      <td>...</td>\n",
       "      <td>...</td>\n",
       "      <td>...</td>\n",
       "      <td>...</td>\n",
       "      <td>...</td>\n",
       "      <td>...</td>\n",
       "      <td>...</td>\n",
       "      <td>...</td>\n",
       "      <td>...</td>\n",
       "    </tr>\n",
       "    <tr>\n",
       "      <th>48461</th>\n",
       "      <td>10982</td>\n",
       "      <td>439.24</td>\n",
       "      <td>sample_26_10982.wav</td>\n",
       "      <td>sample_26_10982.jpg</td>\n",
       "      <td>Laser-off</td>\n",
       "      <td>Laser-off</td>\n",
       "      <td>NaN</td>\n",
       "      <td>26</td>\n",
       "      <td>Laser-off</td>\n",
       "      <td>0.011000</td>\n",
       "      <td>...</td>\n",
       "      <td>0.000000</td>\n",
       "      <td>0.0</td>\n",
       "      <td>0.000000</td>\n",
       "      <td>0.000</td>\n",
       "      <td>0.000</td>\n",
       "      <td>0.000</td>\n",
       "      <td>-0.076</td>\n",
       "      <td>0.025</td>\n",
       "      <td>0.000</td>\n",
       "      <td>0.080</td>\n",
       "    </tr>\n",
       "    <tr>\n",
       "      <th>48462</th>\n",
       "      <td>10983</td>\n",
       "      <td>439.28</td>\n",
       "      <td>sample_26_10983.wav</td>\n",
       "      <td>sample_26_10983.jpg</td>\n",
       "      <td>Laser-off</td>\n",
       "      <td>Laser-off</td>\n",
       "      <td>NaN</td>\n",
       "      <td>26</td>\n",
       "      <td>Laser-off</td>\n",
       "      <td>0.008347</td>\n",
       "      <td>...</td>\n",
       "      <td>0.000000</td>\n",
       "      <td>0.0</td>\n",
       "      <td>0.000000</td>\n",
       "      <td>0.000</td>\n",
       "      <td>0.000</td>\n",
       "      <td>0.000</td>\n",
       "      <td>-0.076</td>\n",
       "      <td>0.025</td>\n",
       "      <td>0.000</td>\n",
       "      <td>0.080</td>\n",
       "    </tr>\n",
       "    <tr>\n",
       "      <th>48463</th>\n",
       "      <td>10984</td>\n",
       "      <td>439.32</td>\n",
       "      <td>sample_26_10984.wav</td>\n",
       "      <td>sample_26_10984.jpg</td>\n",
       "      <td>Laser-off</td>\n",
       "      <td>Laser-off</td>\n",
       "      <td>NaN</td>\n",
       "      <td>26</td>\n",
       "      <td>Laser-off</td>\n",
       "      <td>0.011081</td>\n",
       "      <td>...</td>\n",
       "      <td>0.000000</td>\n",
       "      <td>0.0</td>\n",
       "      <td>0.000000</td>\n",
       "      <td>0.000</td>\n",
       "      <td>0.000</td>\n",
       "      <td>0.000</td>\n",
       "      <td>-0.076</td>\n",
       "      <td>0.025</td>\n",
       "      <td>0.000</td>\n",
       "      <td>0.080</td>\n",
       "    </tr>\n",
       "    <tr>\n",
       "      <th>48464</th>\n",
       "      <td>10985</td>\n",
       "      <td>439.36</td>\n",
       "      <td>sample_26_10985.wav</td>\n",
       "      <td>sample_26_10985.jpg</td>\n",
       "      <td>Laser-off</td>\n",
       "      <td>Laser-off</td>\n",
       "      <td>NaN</td>\n",
       "      <td>26</td>\n",
       "      <td>Laser-off</td>\n",
       "      <td>0.011044</td>\n",
       "      <td>...</td>\n",
       "      <td>0.000000</td>\n",
       "      <td>0.0</td>\n",
       "      <td>0.000000</td>\n",
       "      <td>0.000</td>\n",
       "      <td>0.000</td>\n",
       "      <td>0.000</td>\n",
       "      <td>-0.076</td>\n",
       "      <td>0.025</td>\n",
       "      <td>0.000</td>\n",
       "      <td>0.080</td>\n",
       "    </tr>\n",
       "    <tr>\n",
       "      <th>48465</th>\n",
       "      <td>10986</td>\n",
       "      <td>439.40</td>\n",
       "      <td>sample_26_10986.wav</td>\n",
       "      <td>sample_26_10986.jpg</td>\n",
       "      <td>Laser-off</td>\n",
       "      <td>Laser-off</td>\n",
       "      <td>NaN</td>\n",
       "      <td>26</td>\n",
       "      <td>Laser-off</td>\n",
       "      <td>0.013110</td>\n",
       "      <td>...</td>\n",
       "      <td>0.000000</td>\n",
       "      <td>0.0</td>\n",
       "      <td>0.000000</td>\n",
       "      <td>0.000</td>\n",
       "      <td>0.000</td>\n",
       "      <td>0.000</td>\n",
       "      <td>-0.076</td>\n",
       "      <td>0.025</td>\n",
       "      <td>0.000</td>\n",
       "      <td>0.080</td>\n",
       "    </tr>\n",
       "  </tbody>\n",
       "</table>\n",
       "<p>36557 rows × 135 columns</p>\n",
       "</div>"
      ],
      "text/plain": [
       "       sample index  Time_Stamps      audio_file_name      image_file_name  \\\n",
       "0                 1         0.00      sample_21_1.wav      sample_21_1.jpg   \n",
       "1                 2         0.04      sample_21_2.wav      sample_21_2.jpg   \n",
       "2                 3         0.08      sample_21_3.wav      sample_21_3.jpg   \n",
       "3                 4         0.12      sample_21_4.wav      sample_21_4.jpg   \n",
       "4                 5         0.16      sample_21_5.wav      sample_21_5.jpg   \n",
       "...             ...          ...                  ...                  ...   \n",
       "48461         10982       439.24  sample_26_10982.wav  sample_26_10982.jpg   \n",
       "48462         10983       439.28  sample_26_10983.wav  sample_26_10983.jpg   \n",
       "48463         10984       439.32  sample_26_10984.wav  sample_26_10984.jpg   \n",
       "48464         10985       439.36  sample_26_10985.wav  sample_26_10985.jpg   \n",
       "48465         10986       439.40  sample_26_10986.wav  sample_26_10986.jpg   \n",
       "\n",
       "        class_name class_name_v2  Layer number  Sample number class_name_v3  \\\n",
       "0        Laser-off     Laser-off           1.0             21     Laser-off   \n",
       "1      Defect-free   Defect-free           1.0             21   Defect-free   \n",
       "2      Defect-free   Defect-free           1.0             21   Defect-free   \n",
       "3      Defect-free   Defect-free           1.0             21   Defect-free   \n",
       "4      Defect-free   Defect-free           1.0             21   Defect-free   \n",
       "...            ...           ...           ...            ...           ...   \n",
       "48461    Laser-off     Laser-off           NaN             26     Laser-off   \n",
       "48462    Laser-off     Laser-off           NaN             26     Laser-off   \n",
       "48463    Laser-off     Laser-off           NaN             26     Laser-off   \n",
       "48464    Laser-off     Laser-off           NaN             26     Laser-off   \n",
       "48465    Laser-off     Laser-off           NaN             26     Laser-off   \n",
       "\n",
       "       rms_energy  ...    center_y  contour_area  contour_length      X  \\\n",
       "0        0.009018  ...    0.000000           0.0        0.000000  0.000   \n",
       "1        0.019286  ...  239.000000      305442.0     2234.000000  0.000   \n",
       "2        0.019593  ...  239.000000      305442.0     2234.000000 -0.010   \n",
       "3        0.030937  ...  230.264496      291865.5     2279.781744 -0.007   \n",
       "4        0.038329  ...  229.109962      281970.0     2407.847760 -0.111   \n",
       "...           ...  ...         ...           ...             ...    ...   \n",
       "48461    0.011000  ...    0.000000           0.0        0.000000  0.000   \n",
       "48462    0.008347  ...    0.000000           0.0        0.000000  0.000   \n",
       "48463    0.011081  ...    0.000000           0.0        0.000000  0.000   \n",
       "48464    0.011044  ...    0.000000           0.0        0.000000  0.000   \n",
       "48465    0.013110  ...    0.000000           0.0        0.000000  0.000   \n",
       "\n",
       "           Y      Z     Vx     Vy     Vz  Speed  \n",
       "0      0.000  0.000  0.000 -0.000  0.000  0.000  \n",
       "1     -0.000  0.001 -0.074 -0.074  0.000  0.105  \n",
       "2      0.015 -0.007 -0.051  0.026 -0.051  0.077  \n",
       "3      0.016  0.010  0.173 -0.222  2.520  2.536  \n",
       "4      0.123 -0.057 -1.864  1.662 -2.468  3.511  \n",
       "...      ...    ...    ...    ...    ...    ...  \n",
       "48461  0.000  0.000 -0.076  0.025  0.000  0.080  \n",
       "48462  0.000  0.000 -0.076  0.025  0.000  0.080  \n",
       "48463  0.000  0.000 -0.076  0.025  0.000  0.080  \n",
       "48464  0.000  0.000 -0.076  0.025  0.000  0.080  \n",
       "48465  0.000  0.000 -0.076  0.025  0.000  0.080  \n",
       "\n",
       "[36557 rows x 135 columns]"
      ]
     },
     "execution_count": 6,
     "metadata": {},
     "output_type": "execute_result"
    }
   ],
   "source": [
    "# Read the data back from the HDF5 file into a new DataFrame\n",
    "df_multimodal = pd.read_hdf(os.path.join(Dataset_path, 'spatiotemporal_fused_multimodal.h5'), key='df')\n",
    "df_multimodal = df_multimodal.dropna(subset=['class_name_v3'])\n",
    "df_multimodal"
   ]
  },
  {
   "cell_type": "code",
   "execution_count": 7,
   "id": "316cfce2-4741-4b5b-9c1d-b90ff5311519",
   "metadata": {},
   "outputs": [
    {
     "data": {
      "text/plain": [
       "((36557, 119), (36557, 81), (36557, 36))"
      ]
     },
     "execution_count": 7,
     "metadata": {},
     "output_type": "execute_result"
    }
   ],
   "source": [
    "# Extract labels\n",
    "y = df_multimodal['class_name_v3'].to_list()\n",
    "y_array = np.array(y)\n",
    "le = LabelEncoder()\n",
    "le.fit(y)\n",
    "Y_encoded = le.transform(y)\n",
    "\n",
    "# Non-feature columns to be dropped\n",
    "non_feature_columns = ['sample index', 'Time_Stamps', 'audio_file_name', 'image_file_name',\n",
    "                       'class_name', 'class_name_v2', 'class_name_v3', 'Layer number', 'Sample number', 'X', 'Y', 'Z', 'Vx', 'Vy', 'Vz', 'Speed']\n",
    "\n",
    "# Extract features for the full dataset\n",
    "X_all = df_multimodal.drop(columns=non_feature_columns).to_numpy()\n",
    "\n",
    "# Redundant audio features to be dropped\n",
    "redundant_audio_features = ['dynamic_complexity','loudness']\n",
    "\n",
    "# Extract audio features\n",
    "audio_feature_columns = ['rms_energy', 'amplitude_envelope_mean',\n",
    "                           'amplitude_envelope_std', 'zero_crossing_rate', 'dynamic_complexity',\n",
    "                           'loudness', 'loudness_vickers', 'spectral_centroid_mean',\n",
    "                           'spectral_centroid_std', 'spectral_complexity_mean',\n",
    "                           'spectral_complexity_std', 'spectral_contrast_0_mean',\n",
    "                           'spectral_contrast_0_std', 'spectral_contrast_1_mean',\n",
    "                           'spectral_contrast_1_std', 'spectral_contrast_2_mean',\n",
    "                           'spectral_contrast_2_std', 'spectral_contrast_3_mean',\n",
    "                           'spectral_contrast_3_std', 'spectral_contrast_4_mean',\n",
    "                           'spectral_contrast_4_std', 'spectral_contrast_5_mean',\n",
    "                           'spectral_contrast_5_std', 'spectral_valley_0_mean',\n",
    "                           'spectral_valley_0_std', 'spectral_valley_1_mean',\n",
    "                           'spectral_valley_1_std', 'spectral_valley_2_mean',\n",
    "                           'spectral_valley_2_std', 'spectral_valley_3_mean',\n",
    "                           'spectral_valley_3_std', 'spectral_valley_4_mean',\n",
    "                           'spectral_valley_4_std', 'spectral_valley_5_mean',\n",
    "                           'spectral_valley_5_std', 'spectral_decrease_mean',\n",
    "                           'spectral_decrease_std', 'spectral_energy_mean', 'spectral_energy_std',\n",
    "                           'spectral_energy_band_ratio_mean', 'spectral_energy_band_ratio_std',\n",
    "                           'spectral_flatness_mean', 'spectral_flatness_std', 'spectral_flux_mean',\n",
    "                           'spectral_flux_std', 'spectral_rolloff_mean', 'spectral_rolloff_std',\n",
    "                           'spectral_strong_peak_mean', 'spectral_strong_peak_std',\n",
    "                           'spectral_variance_mean', 'spectral_variance_std',\n",
    "                           'spectral_skewness_mean', 'spectral_skewness_std',\n",
    "                           'spectral_kurtosis_mean', 'spectral_kurtosis_std',\n",
    "                           'spectral_crest_factor_mean', 'spectral_crest_factor_std',\n",
    "                           'mfcc_0_mean', 'mfcc_0_std', 'mfcc_1_mean', 'mfcc_1_std', 'mfcc_2_mean',\n",
    "                           'mfcc_2_std', 'mfcc_3_mean', 'mfcc_3_std', 'mfcc_4_mean', 'mfcc_4_std',\n",
    "                           'mfcc_5_mean', 'mfcc_5_std', 'mfcc_6_mean', 'mfcc_6_std', 'mfcc_7_mean',\n",
    "                           'mfcc_7_std', 'mfcc_8_mean', 'mfcc_8_std', 'mfcc_9_mean', 'mfcc_9_std',\n",
    "                           'mfcc_10_mean', 'mfcc_10_std', 'mfcc_11_mean', 'mfcc_11_std',\n",
    "                           'mfcc_12_mean', 'mfcc_12_std']\n",
    "\n",
    "X_audio = df_multimodal[audio_feature_columns].drop(columns=redundant_audio_features).to_numpy()\n",
    "\n",
    "# Extract vision features\n",
    "vision_feature_columns = ['max_contour_area', 'rectangle_angle',\n",
    "                          'rectangle_width', 'rectangle_height', 'ellipse_angle', 'ellipse_width',\n",
    "                          'ellipse_height', 'max_hull', 'm00', 'm10', 'm01', 'm20', 'm11', 'm02',\n",
    "                          'm30', 'm21', 'm12', 'm03', 'mu20', 'mu11', 'mu02', 'mu30', 'mu21',\n",
    "                          'mu12', 'mu03', 'nu20', 'nu11', 'nu02', 'nu30', 'nu21', 'nu12', 'nu03',\n",
    "                          'center_x', 'center_y', 'contour_area', 'contour_length']\n",
    "\n",
    "X_vision = df_multimodal[vision_feature_columns].to_numpy()\n",
    "\n",
    "X_all.shape, X_audio.shape, X_vision.shape"
   ]
  },
  {
   "cell_type": "code",
   "execution_count": 8,
   "id": "31e8626c-8f1a-4caa-9afc-703cc63c0cee",
   "metadata": {},
   "outputs": [
    {
     "name": "stdout",
     "output_type": "stream",
     "text": [
      "class weights: [1.20237469 1.83114606 1.472173   0.51468435]\n",
      "class weights encoded: [1.20237469 1.83114606 1.472173   0.51468435]\n",
      "class        : ['Defect-free', 'Keyhole pores', 'Laser defocus', 'Laser-off']\n"
     ]
    }
   ],
   "source": [
    "class_weights = class_weight.compute_class_weight('balanced',\n",
    "                                                 classes = np.unique(y),\n",
    "                                                 y = y)\n",
    "\n",
    "class_weights_encoded = class_weight.compute_class_weight('balanced',\n",
    "                                                 classes = np.unique(Y_encoded),\n",
    "                                                 y = Y_encoded)\n",
    "\n",
    "\n",
    "class_names = (le.classes_).tolist()\n",
    "print(f\"class weights: {class_weights}\")\n",
    "print(f\"class weights encoded: {class_weights_encoded}\")\n",
    "print(f\"class        : {class_names}\")"
   ]
  },
  {
   "cell_type": "code",
   "execution_count": 9,
   "id": "fc1bbc50-dd46-4a41-91fb-33829159863f",
   "metadata": {},
   "outputs": [
    {
     "data": {
      "text/plain": [
       "((36557, 33),\n",
       " (36557, 21),\n",
       " (36557, 33),\n",
       " (36557, 28),\n",
       " (36557, 5),\n",
       " (36557, 16),\n",
       " (36557, 28))"
      ]
     },
     "execution_count": 9,
     "metadata": {},
     "output_type": "execute_result"
    }
   ],
   "source": [
    "# Given features based on previous analysis results\n",
    "features_dropped_090 = ['loudness_vickers', 'spectral_centroid_mean',\n",
    "       'spectral_centroid_std', 'spectral_complexity_mean',\n",
    "       'spectral_complexity_std', 'spectral_contrast_1_mean',\n",
    "       'spectral_contrast_3_mean', 'spectral_contrast_3_std',\n",
    "       'spectral_contrast_4_mean', 'spectral_contrast_5_mean',\n",
    "       'spectral_valley_0_mean', 'spectral_valley_2_mean',\n",
    "       'spectral_valley_3_mean', 'spectral_valley_4_mean',\n",
    "       'spectral_valley_5_mean', 'spectral_energy_band_ratio_std',\n",
    "       'spectral_flux_mean', 'spectral_flux_std', 'spectral_rolloff_mean',\n",
    "       'spectral_strong_peak_mean', 'spectral_kurtosis_mean',\n",
    "       'spectral_crest_factor_mean', 'spectral_crest_factor_std',\n",
    "       'mfcc_1_mean', 'mfcc_2_mean', 'mfcc_3_mean', 'mfcc_4_std',\n",
    "       'mfcc_6_mean', 'max_contour_area', 'rectangle_angle', 'ellipse_angle',\n",
    "       'nu02', 'nu03']\n",
    "\n",
    "features_dropped_090_mi_filtered_01 = ['loudness_vickers', 'spectral_complexity_mean',\n",
    "       'spectral_complexity_std', 'spectral_contrast_1_mean',\n",
    "       'spectral_contrast_3_mean', 'spectral_valley_0_mean',\n",
    "       'spectral_valley_2_mean', 'spectral_valley_3_mean',\n",
    "       'spectral_valley_4_mean', 'spectral_valley_5_mean',\n",
    "       'spectral_flux_mean', 'spectral_flux_std', 'spectral_rolloff_mean',\n",
    "       'spectral_kurtosis_mean', 'mfcc_1_mean', 'mfcc_3_mean',\n",
    "       'max_contour_area', 'rectangle_angle', 'ellipse_angle', 'nu02', 'nu03']\n",
    "\n",
    "features_dropped_090_mi_filtered_005 = ['loudness_vickers', 'spectral_centroid_mean',\n",
    "       'spectral_centroid_std', 'spectral_complexity_mean',\n",
    "       'spectral_complexity_std', 'spectral_contrast_1_mean',\n",
    "       'spectral_contrast_3_mean', 'spectral_contrast_3_std',\n",
    "       'spectral_contrast_4_mean', 'spectral_contrast_5_mean',\n",
    "       'spectral_valley_0_mean', 'spectral_valley_2_mean',\n",
    "       'spectral_valley_3_mean', 'spectral_valley_4_mean',\n",
    "       'spectral_valley_5_mean', 'spectral_energy_band_ratio_std',\n",
    "       'spectral_flux_mean', 'spectral_flux_std', 'spectral_rolloff_mean',\n",
    "       'spectral_strong_peak_mean', 'spectral_kurtosis_mean',\n",
    "       'spectral_crest_factor_mean', 'spectral_crest_factor_std',\n",
    "       'mfcc_1_mean', 'mfcc_2_mean', 'mfcc_3_mean', 'mfcc_4_std',\n",
    "       'mfcc_6_mean', 'max_contour_area', 'rectangle_angle', 'ellipse_angle',\n",
    "       'nu02', 'nu03']\n",
    "\n",
    "# Create ablated datasets\n",
    "X_dropped_090 = df_multimodal[features_dropped_090].to_numpy()\n",
    "X_dropped_090_mi_filtered_01 = df_multimodal[features_dropped_090_mi_filtered_01].to_numpy()\n",
    "X_dropped_090_mi_filtered_005 = df_multimodal[features_dropped_090_mi_filtered_005].to_numpy()\n",
    "\n",
    "# Extract Audio and Vision features from the ablated datasets\n",
    "X_audio_dropped_090 = df_multimodal[[feat for feat in features_dropped_090 if feat in audio_feature_columns]].to_numpy()\n",
    "X_vision_dropped_090 = df_multimodal[[feat for feat in features_dropped_090 if feat in vision_feature_columns]].to_numpy()\n",
    "\n",
    "# Extract Audio features from the ablated datasets 2 and 3\n",
    "X_audio_dropped_090_mi_filtered_01 = df_multimodal[[feat for feat in features_dropped_090_mi_filtered_01 if feat in audio_feature_columns]].to_numpy()\n",
    "X_audio_dropped_090_mi_filtered_005 = df_multimodal[[feat for feat in features_dropped_090_mi_filtered_005 if feat in audio_feature_columns]].to_numpy()\n",
    "\n",
    "# Get the shapes of these additional ablated datasets\n",
    "X_dropped_090.shape, X_dropped_090_mi_filtered_01.shape, X_dropped_090_mi_filtered_005.shape, X_audio_dropped_090.shape, X_vision_dropped_090.shape, X_audio_dropped_090_mi_filtered_01.shape, X_audio_dropped_090_mi_filtered_005.shape"
   ]
  },
  {
   "cell_type": "markdown",
   "id": "923395bd-b023-4dd8-90be-a1ec2acbe5d2",
   "metadata": {},
   "source": [
    "- ALL Dataset (X_all):  `119 features`\n",
    "- Ablated Dataset 1 (X_dropped_090):  `33 features`\n",
    "- Ablated Dataset 2 (X_dropped_090_mi_filtered_01): `21 features`\n",
    "- Ablated Dataset 3 (X_dropped_090_mi_filtered_005):  `33 features`\n",
    "- Ablated Dataset 4 (X_audio_all): `81 audio features`\n",
    "- Ablated Dataset 5 (X_vision_all): `36 vision features`\n",
    "- Ablated Dataset 6 (X_audio_dropped_090): `28 audio features`\n",
    "- Ablated Dataset 7 (X_vision_dropped_090): `5 vision features`\n",
    "- Ablated Dataset 8 (X_audio_dropped_090_mi_filtered_01): `16 audio features`\n",
    "- Ablated Dataset 9 (X_audio_dropped_090_mi_filtered_005): `28 audio features`"
   ]
  },
  {
   "cell_type": "code",
   "execution_count": 10,
   "id": "bfc65b8f-a9ef-4518-944f-528fb2e1dfb6",
   "metadata": {},
   "outputs": [],
   "source": [
    "%store -r train_indices\n",
    "%store -r val_indices\n",
    "%store -r test_indices"
   ]
  },
  {
   "cell_type": "code",
   "execution_count": 11,
   "id": "a8fae274-2101-4ec6-9667-fd5ab8a5d20e",
   "metadata": {},
   "outputs": [
    {
     "data": {
      "text/plain": [
       "(462, 3692)"
      ]
     },
     "execution_count": 11,
     "metadata": {},
     "output_type": "execute_result"
    }
   ],
   "source": [
    "len(test_indices), len(train_indices)"
   ]
  },
  {
   "cell_type": "markdown",
   "id": "58c2e72e-9547-44bd-a5bc-de4579c69657",
   "metadata": {},
   "source": [
    "## Step 2: Create a Pipeline and Iterate Over Datasets and Models"
   ]
  },
  {
   "cell_type": "code",
   "execution_count": 12,
   "id": "f404db24-33a7-45ba-a382-ffad15476bd4",
   "metadata": {},
   "outputs": [],
   "source": [
    "# Define hyperparameters for each model\n",
    "hyperparameters = {\n",
    "    'KNN': {'n_neighbors': 12, 'weights': 'distance'},\n",
    "    'DT': {'ccp_alpha': 3.89e-05, 'max_depth': 21, 'min_samples_leaf': 1, 'min_samples_split': 13},\n",
    "    'LR': {'C': 5.15, 'max_iter': 2528, 'penalty': 'l2', 'solver': 'lbfgs'},\n",
    "    'RF': {'bootstrap': False, 'max_depth': 64, 'max_features': 'sqrt', 'min_samples_leaf': 3, 'min_samples_split': 6, 'n_estimators': 307},\n",
    "    'BalancedRF': {'bootstrap': False, 'max_depth': 23, 'max_features': 'sqrt', 'min_samples_leaf': 8, 'min_samples_split': 17, 'n_estimators': 237},\n",
    "    'RUSBoost': {'learning_rate': 0.1, 'n_estimators': 150},\n",
    "    'Ada': {'algorithm': 'SAMME', 'learning_rate': 0.57, 'n_estimators': 307},\n",
    "    'GP': {'kernel': 1**2 * RBF(length_scale=1)},\n",
    "    'NN': {'activation': 'relu', 'alpha': 0.077, 'early_stopping': True, 'hidden_layer_sizes': (229, 255, 168), 'learning_rate': 'adaptive', 'max_iter': 11805, 'solver': 'adam', 'validation_fraction': 0.1},\n",
    "    'XGBoost': {'colsample_bytree': 0.62, 'gamma': 0.48, 'learning_rate': 0.35, 'max_depth': 44, 'min_child_weight': 8, 'n_estimators': 480, 'subsample': 0.59,  'gpu_id': 0},\n",
    "    'LightGBM': {'colsample_bytree': 0.80, 'learning_rate': 0.15, 'max_depth': 35, 'min_child_weight': 1, 'n_estimators': 276, 'num_leaves': 120, 'reg_alpha': 1.94, 'reg_lambda': 1.70, 'subsample': 0.86, 'verbose': -1},\n",
    "    'SVM': {'C': 524.86, 'degree': 9, 'gamma': 0.029, 'kernel': 'rbf', 'probability': True},\n",
    "    'GB': {'learning_rate': 0.23, 'max_depth': 49, 'min_samples_leaf': 10, 'min_samples_split': 17, 'n_estimators': 271, 'n_iter_no_change': 10, 'subsample': 0.73, 'tol': 0.0001},\n",
    "    'HistGB': {'learning_rate': 0.23, 'max_iter': 100, 'max_depth': 49, 'min_samples_leaf': 10, 'n_iter_no_change': 10, 'tol': 0.0001},\n",
    "}\n",
    "\n",
    "# List of datasets\n",
    "datasets = {\n",
    "    'All Features': X_all,\n",
    "    'Ablated 1': X_dropped_090,\n",
    "    'Ablated 2': X_dropped_090_mi_filtered_01,\n",
    "    'Ablated 3': X_dropped_090_mi_filtered_005,\n",
    "    'Audio All': X_audio,\n",
    "    'Vision All': X_vision,\n",
    "    'Audio Ablated 1': X_audio_dropped_090,\n",
    "    'Vision Ablated 1': X_vision_dropped_090,\n",
    "    'Audio Ablated 2': X_audio_dropped_090_mi_filtered_01,\n",
    "    'Audio Ablated 3': X_audio_dropped_090_mi_filtered_005\n",
    "}\n",
    "\n",
    "\n",
    "# List of models\n",
    "models = {\n",
    "    'KNN': KNeighborsClassifier,\n",
    "    'DT': DecisionTreeClassifier,\n",
    "    # 'LR': LogisticRegression,\n",
    "    'RF': RandomForestClassifier,\n",
    "    'BalancedRF': BalancedRandomForestClassifier,\n",
    "    'RUSBoost': RUSBoostClassifier,\n",
    "    'Ada': AdaBoostClassifier,\n",
    "    # 'GP': GaussianProcessClassifier,\n",
    "    'NN': MLPClassifier,\n",
    "    'XGBoost': XGBClassifier,\n",
    "    'LightGBM': LGBMClassifier,\n",
    "    'SVM': SVC,\n",
    "    # 'GB': GradientBoostingClassifier,\n",
    "    'HistGB': HistGradientBoostingClassifier\n",
    "}"
   ]
  },
  {
   "cell_type": "markdown",
   "id": "e03e9c58-2a68-429c-9f67-1ad896dbd890",
   "metadata": {},
   "source": [
    "## Step 3: Model Training"
   ]
  },
  {
   "cell_type": "code",
   "execution_count": null,
   "id": "8b6a8783-3f67-4fb8-bcee-d467f559d282",
   "metadata": {
    "scrolled": true
   },
   "outputs": [
    {
     "name": "stdout",
     "output_type": "stream",
     "text": [
      "Processing dataset: All Features\n",
      "\tTraining model: KNN\n"
     ]
    },
    {
     "data": {
      "text/html": [
       "Finishing last run (ID:6j1cznxv) before initializing another..."
      ],
      "text/plain": [
       "<IPython.core.display.HTML object>"
      ]
     },
     "metadata": {},
     "output_type": "display_data"
    },
    {
     "data": {
      "text/html": [
       "Waiting for W&B process to finish... <strong style=\"color:green\">(success).</strong>"
      ],
      "text/plain": [
       "<IPython.core.display.HTML object>"
      ]
     },
     "metadata": {},
     "output_type": "display_data"
    },
    {
     "data": {
      "application/vnd.jupyter.widget-view+json": {
       "model_id": "ea1b0f31d50f4153aafae67c7c48cfba",
       "version_major": 2,
       "version_minor": 0
      },
      "text/plain": [
       "VBox(children=(Label(value='0.004 MB of 0.004 MB uploaded (0.000 MB deduped)\\r'), FloatProgress(value=1.0, max…"
      ]
     },
     "metadata": {},
     "output_type": "display_data"
    },
    {
     "data": {
      "text/html": [
       " View run <strong style=\"color:#cdcd00\">peach-firefly-156</strong> at: <a href='https://wandb.ai/lequn/AudioVisual_ML_ablation_study_v2/runs/6j1cznxv' target=\"_blank\">https://wandb.ai/lequn/AudioVisual_ML_ablation_study_v2/runs/6j1cznxv</a><br/> View job at <a href='https://wandb.ai/lequn/AudioVisual_ML_ablation_study_v2/jobs/QXJ0aWZhY3RDb2xsZWN0aW9uOjExMTQ1OTc4Ng==/version_details/v12' target=\"_blank\">https://wandb.ai/lequn/AudioVisual_ML_ablation_study_v2/jobs/QXJ0aWZhY3RDb2xsZWN0aW9uOjExMTQ1OTc4Ng==/version_details/v12</a><br/>Synced 6 W&B file(s), 0 media file(s), 2 artifact file(s) and 0 other file(s)"
      ],
      "text/plain": [
       "<IPython.core.display.HTML object>"
      ]
     },
     "metadata": {},
     "output_type": "display_data"
    },
    {
     "data": {
      "text/html": [
       "Find logs at: <code>./wandb/run-20240305_114653-6j1cznxv/logs</code>"
      ],
      "text/plain": [
       "<IPython.core.display.HTML object>"
      ]
     },
     "metadata": {},
     "output_type": "display_data"
    },
    {
     "data": {
      "text/html": [
       "Successfully finished last run (ID:6j1cznxv). Initializing new run:<br/>"
      ],
      "text/plain": [
       "<IPython.core.display.HTML object>"
      ]
     },
     "metadata": {},
     "output_type": "display_data"
    },
    {
     "data": {
      "application/vnd.jupyter.widget-view+json": {
       "model_id": "d0553c93ac964de0b43a62c593a7bebe",
       "version_major": 2,
       "version_minor": 0
      },
      "text/plain": [
       "VBox(children=(Label(value='Waiting for wandb.init()...\\r'), FloatProgress(value=0.011112493433332322, max=1.0…"
      ]
     },
     "metadata": {},
     "output_type": "display_data"
    },
    {
     "data": {
      "text/html": [
       "wandb version 0.16.3 is available!  To upgrade, please run:\n",
       " $ pip install wandb --upgrade"
      ],
      "text/plain": [
       "<IPython.core.display.HTML object>"
      ]
     },
     "metadata": {},
     "output_type": "display_data"
    },
    {
     "data": {
      "text/html": [
       "Tracking run with wandb version 0.15.12"
      ],
      "text/plain": [
       "<IPython.core.display.HTML object>"
      ]
     },
     "metadata": {},
     "output_type": "display_data"
    },
    {
     "data": {
      "text/html": [
       "Run data is saved locally in <code>/home/chenlequn/GitHub/LDED-FusionNet/code/wandb/run-20240305_114657-j2kmyvsa</code>"
      ],
      "text/plain": [
       "<IPython.core.display.HTML object>"
      ]
     },
     "metadata": {},
     "output_type": "display_data"
    },
    {
     "data": {
      "text/html": [
       "Syncing run <strong><a href='https://wandb.ai/lequn/AudioVisual_ML_ablation_study_v2/runs/j2kmyvsa' target=\"_blank\">KNN_All Features</a></strong> to <a href='https://wandb.ai/lequn/AudioVisual_ML_ablation_study_v2' target=\"_blank\">Weights & Biases</a> (<a href='https://wandb.me/run' target=\"_blank\">docs</a>)<br/>"
      ],
      "text/plain": [
       "<IPython.core.display.HTML object>"
      ]
     },
     "metadata": {},
     "output_type": "display_data"
    },
    {
     "data": {
      "text/html": [
       " View project at <a href='https://wandb.ai/lequn/AudioVisual_ML_ablation_study_v2' target=\"_blank\">https://wandb.ai/lequn/AudioVisual_ML_ablation_study_v2</a>"
      ],
      "text/plain": [
       "<IPython.core.display.HTML object>"
      ]
     },
     "metadata": {},
     "output_type": "display_data"
    },
    {
     "data": {
      "text/html": [
       " View run at <a href='https://wandb.ai/lequn/AudioVisual_ML_ablation_study_v2/runs/j2kmyvsa' target=\"_blank\">https://wandb.ai/lequn/AudioVisual_ML_ablation_study_v2/runs/j2kmyvsa</a>"
      ],
      "text/plain": [
       "<IPython.core.display.HTML object>"
      ]
     },
     "metadata": {},
     "output_type": "display_data"
    },
    {
     "name": "stdout",
     "output_type": "stream",
     "text": [
      "\t\tAccuracy: Mean = 0.8701963534361852, Std = 0.04364919371953449\n",
      "\t\tF1 Score: Mean = 0.872004096850047, Std = 0.04237379402456881\n",
      "\t\tPrecision: Mean = 0.8787829247671806, Std = 0.03908269162088463\n",
      "\t\tRecall: Mean = 0.8701963534361852, Std = 0.04364919371953449\n",
      "\t\tROC-AUC: Mean = 0.9692253336554998, Std = 0.013861821271084847\n"
     ]
    },
    {
     "data": {
      "text/html": [
       "Waiting for W&B process to finish... <strong style=\"color:green\">(success).</strong>"
      ],
      "text/plain": [
       "<IPython.core.display.HTML object>"
      ]
     },
     "metadata": {},
     "output_type": "display_data"
    },
    {
     "data": {
      "text/html": [
       "<style>\n",
       "    table.wandb td:nth-child(1) { padding: 0 10px; text-align: left ; width: auto;} td:nth-child(2) {text-align: left ; width: 100%}\n",
       "    .wandb-row { display: flex; flex-direction: row; flex-wrap: wrap; justify-content: flex-start; width: 100% }\n",
       "    .wandb-col { display: flex; flex-direction: column; flex-basis: 100%; flex: 1; padding: 10px; }\n",
       "    </style>\n",
       "<div class=\"wandb-row\"><div class=\"wandb-col\"><h3>Run history:</h3><br/><table class=\"wandb\"><tr><td>Accuracy_mean</td><td>▁</td></tr><tr><td>Accuracy_std</td><td>▁</td></tr><tr><td>F1 Score_mean</td><td>▁</td></tr><tr><td>F1 Score_std</td><td>▁</td></tr><tr><td>Precision_mean</td><td>▁</td></tr><tr><td>Precision_std</td><td>▁</td></tr><tr><td>ROC-AUC_mean</td><td>▁</td></tr><tr><td>ROC-AUC_std</td><td>▁</td></tr><tr><td>Recall_mean</td><td>▁</td></tr><tr><td>Recall_std</td><td>▁</td></tr></table><br/></div><div class=\"wandb-col\"><h3>Run summary:</h3><br/><table class=\"wandb\"><tr><td>Accuracy_mean</td><td>0.8702</td></tr><tr><td>Accuracy_std</td><td>0.04365</td></tr><tr><td>F1 Score_mean</td><td>0.872</td></tr><tr><td>F1 Score_std</td><td>0.04237</td></tr><tr><td>Precision_mean</td><td>0.87878</td></tr><tr><td>Precision_std</td><td>0.03908</td></tr><tr><td>ROC-AUC_mean</td><td>0.96923</td></tr><tr><td>ROC-AUC_std</td><td>0.01386</td></tr><tr><td>Recall_mean</td><td>0.8702</td></tr><tr><td>Recall_std</td><td>0.04365</td></tr></table><br/></div></div>"
      ],
      "text/plain": [
       "<IPython.core.display.HTML object>"
      ]
     },
     "metadata": {},
     "output_type": "display_data"
    },
    {
     "data": {
      "text/html": [
       " View run <strong style=\"color:#cdcd00\">KNN_All Features</strong> at: <a href='https://wandb.ai/lequn/AudioVisual_ML_ablation_study_v2/runs/j2kmyvsa' target=\"_blank\">https://wandb.ai/lequn/AudioVisual_ML_ablation_study_v2/runs/j2kmyvsa</a><br/> View job at <a href='https://wandb.ai/lequn/AudioVisual_ML_ablation_study_v2/jobs/QXJ0aWZhY3RDb2xsZWN0aW9uOjExMTQ1OTc4Ng==/version_details/v13' target=\"_blank\">https://wandb.ai/lequn/AudioVisual_ML_ablation_study_v2/jobs/QXJ0aWZhY3RDb2xsZWN0aW9uOjExMTQ1OTc4Ng==/version_details/v13</a><br/>Synced 6 W&B file(s), 0 media file(s), 2 artifact file(s) and 0 other file(s)"
      ],
      "text/plain": [
       "<IPython.core.display.HTML object>"
      ]
     },
     "metadata": {},
     "output_type": "display_data"
    },
    {
     "data": {
      "text/html": [
       "Find logs at: <code>./wandb/run-20240305_114657-j2kmyvsa/logs</code>"
      ],
      "text/plain": [
       "<IPython.core.display.HTML object>"
      ]
     },
     "metadata": {},
     "output_type": "display_data"
    },
    {
     "name": "stdout",
     "output_type": "stream",
     "text": [
      "\tTraining model: DT\n"
     ]
    },
    {
     "data": {
      "application/vnd.jupyter.widget-view+json": {
       "model_id": "b61c2740af4e4662b1cfdfcb6d20b261",
       "version_major": 2,
       "version_minor": 0
      },
      "text/plain": [
       "VBox(children=(Label(value='Waiting for wandb.init()...\\r'), FloatProgress(value=0.011113160811116055, max=1.0…"
      ]
     },
     "metadata": {},
     "output_type": "display_data"
    },
    {
     "data": {
      "text/html": [
       "wandb version 0.16.3 is available!  To upgrade, please run:\n",
       " $ pip install wandb --upgrade"
      ],
      "text/plain": [
       "<IPython.core.display.HTML object>"
      ]
     },
     "metadata": {},
     "output_type": "display_data"
    },
    {
     "data": {
      "text/html": [
       "Tracking run with wandb version 0.15.12"
      ],
      "text/plain": [
       "<IPython.core.display.HTML object>"
      ]
     },
     "metadata": {},
     "output_type": "display_data"
    },
    {
     "data": {
      "text/html": [
       "Run data is saved locally in <code>/home/chenlequn/GitHub/LDED-FusionNet/code/wandb/run-20240305_114721-x5o8rr37</code>"
      ],
      "text/plain": [
       "<IPython.core.display.HTML object>"
      ]
     },
     "metadata": {},
     "output_type": "display_data"
    },
    {
     "data": {
      "text/html": [
       "Syncing run <strong><a href='https://wandb.ai/lequn/AudioVisual_ML_ablation_study_v2/runs/x5o8rr37' target=\"_blank\">DT_All Features</a></strong> to <a href='https://wandb.ai/lequn/AudioVisual_ML_ablation_study_v2' target=\"_blank\">Weights & Biases</a> (<a href='https://wandb.me/run' target=\"_blank\">docs</a>)<br/>"
      ],
      "text/plain": [
       "<IPython.core.display.HTML object>"
      ]
     },
     "metadata": {},
     "output_type": "display_data"
    },
    {
     "data": {
      "text/html": [
       " View project at <a href='https://wandb.ai/lequn/AudioVisual_ML_ablation_study_v2' target=\"_blank\">https://wandb.ai/lequn/AudioVisual_ML_ablation_study_v2</a>"
      ],
      "text/plain": [
       "<IPython.core.display.HTML object>"
      ]
     },
     "metadata": {},
     "output_type": "display_data"
    },
    {
     "data": {
      "text/html": [
       " View run at <a href='https://wandb.ai/lequn/AudioVisual_ML_ablation_study_v2/runs/x5o8rr37' target=\"_blank\">https://wandb.ai/lequn/AudioVisual_ML_ablation_study_v2/runs/x5o8rr37</a>"
      ],
      "text/plain": [
       "<IPython.core.display.HTML object>"
      ]
     },
     "metadata": {},
     "output_type": "display_data"
    },
    {
     "name": "stdout",
     "output_type": "stream",
     "text": [
      "\t\tAccuracy: Mean = 0.8442730247779335, Std = 0.04490565142150513\n",
      "\t\tF1 Score: Mean = 0.8458100105448153, Std = 0.044475053765800146\n",
      "\t\tPrecision: Mean = 0.8504462469735087, Std = 0.0442976986779252\n",
      "\t\tRecall: Mean = 0.8442730247779335, Std = 0.04490565142150513\n",
      "\t\tROC-AUC: Mean = 0.8995609118256727, Std = 0.0314111711366799\n"
     ]
    },
    {
     "data": {
      "text/html": [
       "Waiting for W&B process to finish... <strong style=\"color:green\">(success).</strong>"
      ],
      "text/plain": [
       "<IPython.core.display.HTML object>"
      ]
     },
     "metadata": {},
     "output_type": "display_data"
    },
    {
     "data": {
      "text/html": [
       "<style>\n",
       "    table.wandb td:nth-child(1) { padding: 0 10px; text-align: left ; width: auto;} td:nth-child(2) {text-align: left ; width: 100%}\n",
       "    .wandb-row { display: flex; flex-direction: row; flex-wrap: wrap; justify-content: flex-start; width: 100% }\n",
       "    .wandb-col { display: flex; flex-direction: column; flex-basis: 100%; flex: 1; padding: 10px; }\n",
       "    </style>\n",
       "<div class=\"wandb-row\"><div class=\"wandb-col\"><h3>Run history:</h3><br/><table class=\"wandb\"><tr><td>Accuracy_mean</td><td>▁</td></tr><tr><td>Accuracy_std</td><td>▁</td></tr><tr><td>F1 Score_mean</td><td>▁</td></tr><tr><td>F1 Score_std</td><td>▁</td></tr><tr><td>Precision_mean</td><td>▁</td></tr><tr><td>Precision_std</td><td>▁</td></tr><tr><td>ROC-AUC_mean</td><td>▁</td></tr><tr><td>ROC-AUC_std</td><td>▁</td></tr><tr><td>Recall_mean</td><td>▁</td></tr><tr><td>Recall_std</td><td>▁</td></tr></table><br/></div><div class=\"wandb-col\"><h3>Run summary:</h3><br/><table class=\"wandb\"><tr><td>Accuracy_mean</td><td>0.84427</td></tr><tr><td>Accuracy_std</td><td>0.04491</td></tr><tr><td>F1 Score_mean</td><td>0.84581</td></tr><tr><td>F1 Score_std</td><td>0.04448</td></tr><tr><td>Precision_mean</td><td>0.85045</td></tr><tr><td>Precision_std</td><td>0.0443</td></tr><tr><td>ROC-AUC_mean</td><td>0.89956</td></tr><tr><td>ROC-AUC_std</td><td>0.03141</td></tr><tr><td>Recall_mean</td><td>0.84427</td></tr><tr><td>Recall_std</td><td>0.04491</td></tr></table><br/></div></div>"
      ],
      "text/plain": [
       "<IPython.core.display.HTML object>"
      ]
     },
     "metadata": {},
     "output_type": "display_data"
    },
    {
     "data": {
      "text/html": [
       " View run <strong style=\"color:#cdcd00\">DT_All Features</strong> at: <a href='https://wandb.ai/lequn/AudioVisual_ML_ablation_study_v2/runs/x5o8rr37' target=\"_blank\">https://wandb.ai/lequn/AudioVisual_ML_ablation_study_v2/runs/x5o8rr37</a><br/> View job at <a href='https://wandb.ai/lequn/AudioVisual_ML_ablation_study_v2/jobs/QXJ0aWZhY3RDb2xsZWN0aW9uOjExMTQ1OTc4Ng==/version_details/v14' target=\"_blank\">https://wandb.ai/lequn/AudioVisual_ML_ablation_study_v2/jobs/QXJ0aWZhY3RDb2xsZWN0aW9uOjExMTQ1OTc4Ng==/version_details/v14</a><br/>Synced 6 W&B file(s), 0 media file(s), 2 artifact file(s) and 0 other file(s)"
      ],
      "text/plain": [
       "<IPython.core.display.HTML object>"
      ]
     },
     "metadata": {},
     "output_type": "display_data"
    },
    {
     "data": {
      "text/html": [
       "Find logs at: <code>./wandb/run-20240305_114721-x5o8rr37/logs</code>"
      ],
      "text/plain": [
       "<IPython.core.display.HTML object>"
      ]
     },
     "metadata": {},
     "output_type": "display_data"
    },
    {
     "name": "stdout",
     "output_type": "stream",
     "text": [
      "\tTraining model: RF\n"
     ]
    },
    {
     "data": {
      "application/vnd.jupyter.widget-view+json": {
       "model_id": "18d2f810c5054e1d839ee69bca07155d",
       "version_major": 2,
       "version_minor": 0
      },
      "text/plain": [
       "VBox(children=(Label(value='Waiting for wandb.init()...\\r'), FloatProgress(value=0.011112402044444834, max=1.0…"
      ]
     },
     "metadata": {},
     "output_type": "display_data"
    },
    {
     "data": {
      "text/html": [
       "wandb version 0.16.3 is available!  To upgrade, please run:\n",
       " $ pip install wandb --upgrade"
      ],
      "text/plain": [
       "<IPython.core.display.HTML object>"
      ]
     },
     "metadata": {},
     "output_type": "display_data"
    },
    {
     "data": {
      "text/html": [
       "Tracking run with wandb version 0.15.12"
      ],
      "text/plain": [
       "<IPython.core.display.HTML object>"
      ]
     },
     "metadata": {},
     "output_type": "display_data"
    },
    {
     "data": {
      "text/html": [
       "Run data is saved locally in <code>/home/chenlequn/GitHub/LDED-FusionNet/code/wandb/run-20240305_114736-bka6462j</code>"
      ],
      "text/plain": [
       "<IPython.core.display.HTML object>"
      ]
     },
     "metadata": {},
     "output_type": "display_data"
    },
    {
     "data": {
      "text/html": [
       "Syncing run <strong><a href='https://wandb.ai/lequn/AudioVisual_ML_ablation_study_v2/runs/bka6462j' target=\"_blank\">RF_All Features</a></strong> to <a href='https://wandb.ai/lequn/AudioVisual_ML_ablation_study_v2' target=\"_blank\">Weights & Biases</a> (<a href='https://wandb.me/run' target=\"_blank\">docs</a>)<br/>"
      ],
      "text/plain": [
       "<IPython.core.display.HTML object>"
      ]
     },
     "metadata": {},
     "output_type": "display_data"
    },
    {
     "data": {
      "text/html": [
       " View project at <a href='https://wandb.ai/lequn/AudioVisual_ML_ablation_study_v2' target=\"_blank\">https://wandb.ai/lequn/AudioVisual_ML_ablation_study_v2</a>"
      ],
      "text/plain": [
       "<IPython.core.display.HTML object>"
      ]
     },
     "metadata": {},
     "output_type": "display_data"
    },
    {
     "data": {
      "text/html": [
       " View run at <a href='https://wandb.ai/lequn/AudioVisual_ML_ablation_study_v2/runs/bka6462j' target=\"_blank\">https://wandb.ai/lequn/AudioVisual_ML_ablation_study_v2/runs/bka6462j</a>"
      ],
      "text/plain": [
       "<IPython.core.display.HTML object>"
      ]
     },
     "metadata": {},
     "output_type": "display_data"
    },
    {
     "name": "stdout",
     "output_type": "stream",
     "text": [
      "\t\tAccuracy: Mean = 0.9069892473118278, Std = 0.014229539075207975\n",
      "\t\tF1 Score: Mean = 0.9070118062491442, Std = 0.013415782027742318\n",
      "\t\tPrecision: Mean = 0.9115972647824908, Std = 0.011923419858057498\n",
      "\t\tRecall: Mean = 0.9069892473118278, Std = 0.014229539075207975\n",
      "\t\tROC-AUC: Mean = 0.9851137803065562, Std = 0.004255251048746643\n"
     ]
    },
    {
     "data": {
      "text/html": [
       "Waiting for W&B process to finish... <strong style=\"color:green\">(success).</strong>"
      ],
      "text/plain": [
       "<IPython.core.display.HTML object>"
      ]
     },
     "metadata": {},
     "output_type": "display_data"
    },
    {
     "data": {
      "text/html": [
       "<style>\n",
       "    table.wandb td:nth-child(1) { padding: 0 10px; text-align: left ; width: auto;} td:nth-child(2) {text-align: left ; width: 100%}\n",
       "    .wandb-row { display: flex; flex-direction: row; flex-wrap: wrap; justify-content: flex-start; width: 100% }\n",
       "    .wandb-col { display: flex; flex-direction: column; flex-basis: 100%; flex: 1; padding: 10px; }\n",
       "    </style>\n",
       "<div class=\"wandb-row\"><div class=\"wandb-col\"><h3>Run history:</h3><br/><table class=\"wandb\"><tr><td>Accuracy_mean</td><td>▁</td></tr><tr><td>Accuracy_std</td><td>▁</td></tr><tr><td>F1 Score_mean</td><td>▁</td></tr><tr><td>F1 Score_std</td><td>▁</td></tr><tr><td>Precision_mean</td><td>▁</td></tr><tr><td>Precision_std</td><td>▁</td></tr><tr><td>ROC-AUC_mean</td><td>▁</td></tr><tr><td>ROC-AUC_std</td><td>▁</td></tr><tr><td>Recall_mean</td><td>▁</td></tr><tr><td>Recall_std</td><td>▁</td></tr></table><br/></div><div class=\"wandb-col\"><h3>Run summary:</h3><br/><table class=\"wandb\"><tr><td>Accuracy_mean</td><td>0.90699</td></tr><tr><td>Accuracy_std</td><td>0.01423</td></tr><tr><td>F1 Score_mean</td><td>0.90701</td></tr><tr><td>F1 Score_std</td><td>0.01342</td></tr><tr><td>Precision_mean</td><td>0.9116</td></tr><tr><td>Precision_std</td><td>0.01192</td></tr><tr><td>ROC-AUC_mean</td><td>0.98511</td></tr><tr><td>ROC-AUC_std</td><td>0.00426</td></tr><tr><td>Recall_mean</td><td>0.90699</td></tr><tr><td>Recall_std</td><td>0.01423</td></tr></table><br/></div></div>"
      ],
      "text/plain": [
       "<IPython.core.display.HTML object>"
      ]
     },
     "metadata": {},
     "output_type": "display_data"
    },
    {
     "data": {
      "text/html": [
       " View run <strong style=\"color:#cdcd00\">RF_All Features</strong> at: <a href='https://wandb.ai/lequn/AudioVisual_ML_ablation_study_v2/runs/bka6462j' target=\"_blank\">https://wandb.ai/lequn/AudioVisual_ML_ablation_study_v2/runs/bka6462j</a><br/> View job at <a href='https://wandb.ai/lequn/AudioVisual_ML_ablation_study_v2/jobs/QXJ0aWZhY3RDb2xsZWN0aW9uOjExMTQ1OTc4Ng==/version_details/v15' target=\"_blank\">https://wandb.ai/lequn/AudioVisual_ML_ablation_study_v2/jobs/QXJ0aWZhY3RDb2xsZWN0aW9uOjExMTQ1OTc4Ng==/version_details/v15</a><br/>Synced 6 W&B file(s), 0 media file(s), 2 artifact file(s) and 0 other file(s)"
      ],
      "text/plain": [
       "<IPython.core.display.HTML object>"
      ]
     },
     "metadata": {},
     "output_type": "display_data"
    },
    {
     "data": {
      "text/html": [
       "Find logs at: <code>./wandb/run-20240305_114736-bka6462j/logs</code>"
      ],
      "text/plain": [
       "<IPython.core.display.HTML object>"
      ]
     },
     "metadata": {},
     "output_type": "display_data"
    },
    {
     "name": "stdout",
     "output_type": "stream",
     "text": [
      "\tTraining model: BalancedRF\n"
     ]
    },
    {
     "data": {
      "application/vnd.jupyter.widget-view+json": {
       "model_id": "162cb40424964571b741bb095b286837",
       "version_major": 2,
       "version_minor": 0
      },
      "text/plain": [
       "VBox(children=(Label(value='Waiting for wandb.init()...\\r'), FloatProgress(value=0.011112357133333717, max=1.0…"
      ]
     },
     "metadata": {},
     "output_type": "display_data"
    },
    {
     "data": {
      "text/html": [
       "wandb version 0.16.3 is available!  To upgrade, please run:\n",
       " $ pip install wandb --upgrade"
      ],
      "text/plain": [
       "<IPython.core.display.HTML object>"
      ]
     },
     "metadata": {},
     "output_type": "display_data"
    },
    {
     "data": {
      "text/html": [
       "Tracking run with wandb version 0.15.12"
      ],
      "text/plain": [
       "<IPython.core.display.HTML object>"
      ]
     },
     "metadata": {},
     "output_type": "display_data"
    },
    {
     "data": {
      "text/html": [
       "Run data is saved locally in <code>/home/chenlequn/GitHub/LDED-FusionNet/code/wandb/run-20240305_114755-ow2ldfez</code>"
      ],
      "text/plain": [
       "<IPython.core.display.HTML object>"
      ]
     },
     "metadata": {},
     "output_type": "display_data"
    },
    {
     "data": {
      "text/html": [
       "Syncing run <strong><a href='https://wandb.ai/lequn/AudioVisual_ML_ablation_study_v2/runs/ow2ldfez' target=\"_blank\">BalancedRF_All Features</a></strong> to <a href='https://wandb.ai/lequn/AudioVisual_ML_ablation_study_v2' target=\"_blank\">Weights & Biases</a> (<a href='https://wandb.me/run' target=\"_blank\">docs</a>)<br/>"
      ],
      "text/plain": [
       "<IPython.core.display.HTML object>"
      ]
     },
     "metadata": {},
     "output_type": "display_data"
    },
    {
     "data": {
      "text/html": [
       " View project at <a href='https://wandb.ai/lequn/AudioVisual_ML_ablation_study_v2' target=\"_blank\">https://wandb.ai/lequn/AudioVisual_ML_ablation_study_v2</a>"
      ],
      "text/plain": [
       "<IPython.core.display.HTML object>"
      ]
     },
     "metadata": {},
     "output_type": "display_data"
    },
    {
     "data": {
      "text/html": [
       " View run at <a href='https://wandb.ai/lequn/AudioVisual_ML_ablation_study_v2/runs/ow2ldfez' target=\"_blank\">https://wandb.ai/lequn/AudioVisual_ML_ablation_study_v2/runs/ow2ldfez</a>"
      ],
      "text/plain": [
       "<IPython.core.display.HTML object>"
      ]
     },
     "metadata": {},
     "output_type": "display_data"
    },
    {
     "name": "stderr",
     "output_type": "stream",
     "text": [
      "/home/chenlequn/anaconda3/envs/torch/lib/python3.9/site-packages/imblearn/ensemble/_forest.py:546: FutureWarning: The default of `sampling_strategy` will change from `'auto'` to `'all'` in version 0.13. This change will follow the implementation proposed in the original paper. Set to `'all'` to silence this warning and adopt the future behaviour.\n",
      "  warn(\n",
      "/home/chenlequn/anaconda3/envs/torch/lib/python3.9/site-packages/imblearn/ensemble/_forest.py:558: FutureWarning: The default of `replacement` will change from `False` to `True` in version 0.13. This change will follow the implementation proposed in the original paper. Set to `True` to silence this warning and adopt the future behaviour.\n",
      "  warn(\n"
     ]
    },
    {
     "name": "stdout",
     "output_type": "stream",
     "text": [
      "\t\tAccuracy: Mean = 0.8550257129499765, Std = 0.034467244781384465\n",
      "\t\tF1 Score: Mean = 0.8560736138440322, Std = 0.03284455423026473\n",
      "\t\tPrecision: Mean = 0.8613628916149194, Std = 0.029465718527128017\n",
      "\t\tRecall: Mean = 0.8550257129499765, Std = 0.034467244781384465\n",
      "\t\tROC-AUC: Mean = 0.9728304161598377, Std = 0.008689111501593365\n"
     ]
    },
    {
     "data": {
      "text/html": [
       "Waiting for W&B process to finish... <strong style=\"color:green\">(success).</strong>"
      ],
      "text/plain": [
       "<IPython.core.display.HTML object>"
      ]
     },
     "metadata": {},
     "output_type": "display_data"
    },
    {
     "data": {
      "text/html": [
       "<style>\n",
       "    table.wandb td:nth-child(1) { padding: 0 10px; text-align: left ; width: auto;} td:nth-child(2) {text-align: left ; width: 100%}\n",
       "    .wandb-row { display: flex; flex-direction: row; flex-wrap: wrap; justify-content: flex-start; width: 100% }\n",
       "    .wandb-col { display: flex; flex-direction: column; flex-basis: 100%; flex: 1; padding: 10px; }\n",
       "    </style>\n",
       "<div class=\"wandb-row\"><div class=\"wandb-col\"><h3>Run history:</h3><br/><table class=\"wandb\"><tr><td>Accuracy_mean</td><td>▁</td></tr><tr><td>Accuracy_std</td><td>▁</td></tr><tr><td>F1 Score_mean</td><td>▁</td></tr><tr><td>F1 Score_std</td><td>▁</td></tr><tr><td>Precision_mean</td><td>▁</td></tr><tr><td>Precision_std</td><td>▁</td></tr><tr><td>ROC-AUC_mean</td><td>▁</td></tr><tr><td>ROC-AUC_std</td><td>▁</td></tr><tr><td>Recall_mean</td><td>▁</td></tr><tr><td>Recall_std</td><td>▁</td></tr></table><br/></div><div class=\"wandb-col\"><h3>Run summary:</h3><br/><table class=\"wandb\"><tr><td>Accuracy_mean</td><td>0.85503</td></tr><tr><td>Accuracy_std</td><td>0.03447</td></tr><tr><td>F1 Score_mean</td><td>0.85607</td></tr><tr><td>F1 Score_std</td><td>0.03284</td></tr><tr><td>Precision_mean</td><td>0.86136</td></tr><tr><td>Precision_std</td><td>0.02947</td></tr><tr><td>ROC-AUC_mean</td><td>0.97283</td></tr><tr><td>ROC-AUC_std</td><td>0.00869</td></tr><tr><td>Recall_mean</td><td>0.85503</td></tr><tr><td>Recall_std</td><td>0.03447</td></tr></table><br/></div></div>"
      ],
      "text/plain": [
       "<IPython.core.display.HTML object>"
      ]
     },
     "metadata": {},
     "output_type": "display_data"
    },
    {
     "data": {
      "text/html": [
       " View run <strong style=\"color:#cdcd00\">BalancedRF_All Features</strong> at: <a href='https://wandb.ai/lequn/AudioVisual_ML_ablation_study_v2/runs/ow2ldfez' target=\"_blank\">https://wandb.ai/lequn/AudioVisual_ML_ablation_study_v2/runs/ow2ldfez</a><br/> View job at <a href='https://wandb.ai/lequn/AudioVisual_ML_ablation_study_v2/jobs/QXJ0aWZhY3RDb2xsZWN0aW9uOjExMTQ1OTc4Ng==/version_details/v15' target=\"_blank\">https://wandb.ai/lequn/AudioVisual_ML_ablation_study_v2/jobs/QXJ0aWZhY3RDb2xsZWN0aW9uOjExMTQ1OTc4Ng==/version_details/v15</a><br/>Synced 6 W&B file(s), 0 media file(s), 0 artifact file(s) and 0 other file(s)"
      ],
      "text/plain": [
       "<IPython.core.display.HTML object>"
      ]
     },
     "metadata": {},
     "output_type": "display_data"
    },
    {
     "data": {
      "text/html": [
       "Find logs at: <code>./wandb/run-20240305_114755-ow2ldfez/logs</code>"
      ],
      "text/plain": [
       "<IPython.core.display.HTML object>"
      ]
     },
     "metadata": {},
     "output_type": "display_data"
    },
    {
     "name": "stdout",
     "output_type": "stream",
     "text": [
      "\tTraining model: RUSBoost\n"
     ]
    },
    {
     "data": {
      "application/vnd.jupyter.widget-view+json": {
       "model_id": "9305ee498993462ea64ade5f17520975",
       "version_major": 2,
       "version_minor": 0
      },
      "text/plain": [
       "VBox(children=(Label(value='Waiting for wandb.init()...\\r'), FloatProgress(value=0.011112443677777466, max=1.0…"
      ]
     },
     "metadata": {},
     "output_type": "display_data"
    },
    {
     "data": {
      "text/html": [
       "wandb version 0.16.3 is available!  To upgrade, please run:\n",
       " $ pip install wandb --upgrade"
      ],
      "text/plain": [
       "<IPython.core.display.HTML object>"
      ]
     },
     "metadata": {},
     "output_type": "display_data"
    },
    {
     "data": {
      "text/html": [
       "Tracking run with wandb version 0.15.12"
      ],
      "text/plain": [
       "<IPython.core.display.HTML object>"
      ]
     },
     "metadata": {},
     "output_type": "display_data"
    },
    {
     "data": {
      "text/html": [
       "Run data is saved locally in <code>/home/chenlequn/GitHub/LDED-FusionNet/code/wandb/run-20240305_114807-xw2qv251</code>"
      ],
      "text/plain": [
       "<IPython.core.display.HTML object>"
      ]
     },
     "metadata": {},
     "output_type": "display_data"
    },
    {
     "data": {
      "text/html": [
       "Syncing run <strong><a href='https://wandb.ai/lequn/AudioVisual_ML_ablation_study_v2/runs/xw2qv251' target=\"_blank\">RUSBoost_All Features</a></strong> to <a href='https://wandb.ai/lequn/AudioVisual_ML_ablation_study_v2' target=\"_blank\">Weights & Biases</a> (<a href='https://wandb.me/run' target=\"_blank\">docs</a>)<br/>"
      ],
      "text/plain": [
       "<IPython.core.display.HTML object>"
      ]
     },
     "metadata": {},
     "output_type": "display_data"
    },
    {
     "data": {
      "text/html": [
       " View project at <a href='https://wandb.ai/lequn/AudioVisual_ML_ablation_study_v2' target=\"_blank\">https://wandb.ai/lequn/AudioVisual_ML_ablation_study_v2</a>"
      ],
      "text/plain": [
       "<IPython.core.display.HTML object>"
      ]
     },
     "metadata": {},
     "output_type": "display_data"
    },
    {
     "data": {
      "text/html": [
       " View run at <a href='https://wandb.ai/lequn/AudioVisual_ML_ablation_study_v2/runs/xw2qv251' target=\"_blank\">https://wandb.ai/lequn/AudioVisual_ML_ablation_study_v2/runs/xw2qv251</a>"
      ],
      "text/plain": [
       "<IPython.core.display.HTML object>"
      ]
     },
     "metadata": {},
     "output_type": "display_data"
    },
    {
     "name": "stdout",
     "output_type": "stream",
     "text": [
      "\t\tAccuracy: Mean = 0.8441795231416551, Std = 0.03320932445984241\n",
      "\t\tF1 Score: Mean = 0.8451444646782551, Std = 0.033239432782763\n",
      "\t\tPrecision: Mean = 0.8547187360389156, Std = 0.029186876296783237\n",
      "\t\tRecall: Mean = 0.8441795231416551, Std = 0.03320932445984241\n",
      "\t\tROC-AUC: Mean = 0.9389214490064515, Std = 0.013661218917655118\n"
     ]
    },
    {
     "data": {
      "text/html": [
       "Waiting for W&B process to finish... <strong style=\"color:green\">(success).</strong>"
      ],
      "text/plain": [
       "<IPython.core.display.HTML object>"
      ]
     },
     "metadata": {},
     "output_type": "display_data"
    },
    {
     "data": {
      "text/html": [
       "<style>\n",
       "    table.wandb td:nth-child(1) { padding: 0 10px; text-align: left ; width: auto;} td:nth-child(2) {text-align: left ; width: 100%}\n",
       "    .wandb-row { display: flex; flex-direction: row; flex-wrap: wrap; justify-content: flex-start; width: 100% }\n",
       "    .wandb-col { display: flex; flex-direction: column; flex-basis: 100%; flex: 1; padding: 10px; }\n",
       "    </style>\n",
       "<div class=\"wandb-row\"><div class=\"wandb-col\"><h3>Run history:</h3><br/><table class=\"wandb\"><tr><td>Accuracy_mean</td><td>▁</td></tr><tr><td>Accuracy_std</td><td>▁</td></tr><tr><td>F1 Score_mean</td><td>▁</td></tr><tr><td>F1 Score_std</td><td>▁</td></tr><tr><td>Precision_mean</td><td>▁</td></tr><tr><td>Precision_std</td><td>▁</td></tr><tr><td>ROC-AUC_mean</td><td>▁</td></tr><tr><td>ROC-AUC_std</td><td>▁</td></tr><tr><td>Recall_mean</td><td>▁</td></tr><tr><td>Recall_std</td><td>▁</td></tr></table><br/></div><div class=\"wandb-col\"><h3>Run summary:</h3><br/><table class=\"wandb\"><tr><td>Accuracy_mean</td><td>0.84418</td></tr><tr><td>Accuracy_std</td><td>0.03321</td></tr><tr><td>F1 Score_mean</td><td>0.84514</td></tr><tr><td>F1 Score_std</td><td>0.03324</td></tr><tr><td>Precision_mean</td><td>0.85472</td></tr><tr><td>Precision_std</td><td>0.02919</td></tr><tr><td>ROC-AUC_mean</td><td>0.93892</td></tr><tr><td>ROC-AUC_std</td><td>0.01366</td></tr><tr><td>Recall_mean</td><td>0.84418</td></tr><tr><td>Recall_std</td><td>0.03321</td></tr></table><br/></div></div>"
      ],
      "text/plain": [
       "<IPython.core.display.HTML object>"
      ]
     },
     "metadata": {},
     "output_type": "display_data"
    },
    {
     "data": {
      "text/html": [
       " View run <strong style=\"color:#cdcd00\">RUSBoost_All Features</strong> at: <a href='https://wandb.ai/lequn/AudioVisual_ML_ablation_study_v2/runs/xw2qv251' target=\"_blank\">https://wandb.ai/lequn/AudioVisual_ML_ablation_study_v2/runs/xw2qv251</a><br/> View job at <a href='https://wandb.ai/lequn/AudioVisual_ML_ablation_study_v2/jobs/QXJ0aWZhY3RDb2xsZWN0aW9uOjExMTQ1OTc4Ng==/version_details/v16' target=\"_blank\">https://wandb.ai/lequn/AudioVisual_ML_ablation_study_v2/jobs/QXJ0aWZhY3RDb2xsZWN0aW9uOjExMTQ1OTc4Ng==/version_details/v16</a><br/>Synced 6 W&B file(s), 0 media file(s), 2 artifact file(s) and 0 other file(s)"
      ],
      "text/plain": [
       "<IPython.core.display.HTML object>"
      ]
     },
     "metadata": {},
     "output_type": "display_data"
    },
    {
     "data": {
      "text/html": [
       "Find logs at: <code>./wandb/run-20240305_114807-xw2qv251/logs</code>"
      ],
      "text/plain": [
       "<IPython.core.display.HTML object>"
      ]
     },
     "metadata": {},
     "output_type": "display_data"
    },
    {
     "name": "stdout",
     "output_type": "stream",
     "text": [
      "\tTraining model: Ada\n"
     ]
    },
    {
     "data": {
      "application/vnd.jupyter.widget-view+json": {
       "model_id": "e01aa6b5ce4b4749a2acf022edf6ddf8",
       "version_major": 2,
       "version_minor": 0
      },
      "text/plain": [
       "VBox(children=(Label(value='Waiting for wandb.init()...\\r'), FloatProgress(value=0.011112174655550512, max=1.0…"
      ]
     },
     "metadata": {},
     "output_type": "display_data"
    },
    {
     "data": {
      "text/html": [
       "wandb version 0.16.3 is available!  To upgrade, please run:\n",
       " $ pip install wandb --upgrade"
      ],
      "text/plain": [
       "<IPython.core.display.HTML object>"
      ]
     },
     "metadata": {},
     "output_type": "display_data"
    },
    {
     "data": {
      "text/html": [
       "Tracking run with wandb version 0.15.12"
      ],
      "text/plain": [
       "<IPython.core.display.HTML object>"
      ]
     },
     "metadata": {},
     "output_type": "display_data"
    },
    {
     "data": {
      "text/html": [
       "Run data is saved locally in <code>/home/chenlequn/GitHub/LDED-FusionNet/code/wandb/run-20240305_114826-72ni3gmu</code>"
      ],
      "text/plain": [
       "<IPython.core.display.HTML object>"
      ]
     },
     "metadata": {},
     "output_type": "display_data"
    },
    {
     "data": {
      "text/html": [
       "Syncing run <strong><a href='https://wandb.ai/lequn/AudioVisual_ML_ablation_study_v2/runs/72ni3gmu' target=\"_blank\">Ada_All Features</a></strong> to <a href='https://wandb.ai/lequn/AudioVisual_ML_ablation_study_v2' target=\"_blank\">Weights & Biases</a> (<a href='https://wandb.me/run' target=\"_blank\">docs</a>)<br/>"
      ],
      "text/plain": [
       "<IPython.core.display.HTML object>"
      ]
     },
     "metadata": {},
     "output_type": "display_data"
    },
    {
     "data": {
      "text/html": [
       " View project at <a href='https://wandb.ai/lequn/AudioVisual_ML_ablation_study_v2' target=\"_blank\">https://wandb.ai/lequn/AudioVisual_ML_ablation_study_v2</a>"
      ],
      "text/plain": [
       "<IPython.core.display.HTML object>"
      ]
     },
     "metadata": {},
     "output_type": "display_data"
    },
    {
     "data": {
      "text/html": [
       " View run at <a href='https://wandb.ai/lequn/AudioVisual_ML_ablation_study_v2/runs/72ni3gmu' target=\"_blank\">https://wandb.ai/lequn/AudioVisual_ML_ablation_study_v2/runs/72ni3gmu</a>"
      ],
      "text/plain": [
       "<IPython.core.display.HTML object>"
      ]
     },
     "metadata": {},
     "output_type": "display_data"
    },
    {
     "name": "stdout",
     "output_type": "stream",
     "text": [
      "\t\tAccuracy: Mean = 0.863627863487611, Std = 0.04136413211370029\n",
      "\t\tF1 Score: Mean = 0.8662772996490988, Std = 0.03917377774677887\n",
      "\t\tPrecision: Mean = 0.8791436669522676, Std = 0.03763067730564038\n",
      "\t\tRecall: Mean = 0.863627863487611, Std = 0.04136413211370029\n",
      "\t\tROC-AUC: Mean = 0.9540318947172143, Std = 0.006306090865851742\n"
     ]
    },
    {
     "data": {
      "text/html": [
       "Waiting for W&B process to finish... <strong style=\"color:green\">(success).</strong>"
      ],
      "text/plain": [
       "<IPython.core.display.HTML object>"
      ]
     },
     "metadata": {},
     "output_type": "display_data"
    },
    {
     "data": {
      "text/html": [
       "<style>\n",
       "    table.wandb td:nth-child(1) { padding: 0 10px; text-align: left ; width: auto;} td:nth-child(2) {text-align: left ; width: 100%}\n",
       "    .wandb-row { display: flex; flex-direction: row; flex-wrap: wrap; justify-content: flex-start; width: 100% }\n",
       "    .wandb-col { display: flex; flex-direction: column; flex-basis: 100%; flex: 1; padding: 10px; }\n",
       "    </style>\n",
       "<div class=\"wandb-row\"><div class=\"wandb-col\"><h3>Run history:</h3><br/><table class=\"wandb\"><tr><td>Accuracy_mean</td><td>▁</td></tr><tr><td>Accuracy_std</td><td>▁</td></tr><tr><td>F1 Score_mean</td><td>▁</td></tr><tr><td>F1 Score_std</td><td>▁</td></tr><tr><td>Precision_mean</td><td>▁</td></tr><tr><td>Precision_std</td><td>▁</td></tr><tr><td>ROC-AUC_mean</td><td>▁</td></tr><tr><td>ROC-AUC_std</td><td>▁</td></tr><tr><td>Recall_mean</td><td>▁</td></tr><tr><td>Recall_std</td><td>▁</td></tr></table><br/></div><div class=\"wandb-col\"><h3>Run summary:</h3><br/><table class=\"wandb\"><tr><td>Accuracy_mean</td><td>0.86363</td></tr><tr><td>Accuracy_std</td><td>0.04136</td></tr><tr><td>F1 Score_mean</td><td>0.86628</td></tr><tr><td>F1 Score_std</td><td>0.03917</td></tr><tr><td>Precision_mean</td><td>0.87914</td></tr><tr><td>Precision_std</td><td>0.03763</td></tr><tr><td>ROC-AUC_mean</td><td>0.95403</td></tr><tr><td>ROC-AUC_std</td><td>0.00631</td></tr><tr><td>Recall_mean</td><td>0.86363</td></tr><tr><td>Recall_std</td><td>0.04136</td></tr></table><br/></div></div>"
      ],
      "text/plain": [
       "<IPython.core.display.HTML object>"
      ]
     },
     "metadata": {},
     "output_type": "display_data"
    },
    {
     "data": {
      "text/html": [
       " View run <strong style=\"color:#cdcd00\">Ada_All Features</strong> at: <a href='https://wandb.ai/lequn/AudioVisual_ML_ablation_study_v2/runs/72ni3gmu' target=\"_blank\">https://wandb.ai/lequn/AudioVisual_ML_ablation_study_v2/runs/72ni3gmu</a><br/> View job at <a href='https://wandb.ai/lequn/AudioVisual_ML_ablation_study_v2/jobs/QXJ0aWZhY3RDb2xsZWN0aW9uOjExMTQ1OTc4Ng==/version_details/v17' target=\"_blank\">https://wandb.ai/lequn/AudioVisual_ML_ablation_study_v2/jobs/QXJ0aWZhY3RDb2xsZWN0aW9uOjExMTQ1OTc4Ng==/version_details/v17</a><br/>Synced 6 W&B file(s), 0 media file(s), 2 artifact file(s) and 0 other file(s)"
      ],
      "text/plain": [
       "<IPython.core.display.HTML object>"
      ]
     },
     "metadata": {},
     "output_type": "display_data"
    },
    {
     "data": {
      "text/html": [
       "Find logs at: <code>./wandb/run-20240305_114826-72ni3gmu/logs</code>"
      ],
      "text/plain": [
       "<IPython.core.display.HTML object>"
      ]
     },
     "metadata": {},
     "output_type": "display_data"
    },
    {
     "name": "stdout",
     "output_type": "stream",
     "text": [
      "\tTraining model: NN\n"
     ]
    },
    {
     "data": {
      "application/vnd.jupyter.widget-view+json": {
       "model_id": "6a79c590ba994daea70d95d7b4f0fce4",
       "version_major": 2,
       "version_minor": 0
      },
      "text/plain": [
       "VBox(children=(Label(value='Waiting for wandb.init()...\\r'), FloatProgress(value=0.011112087733332979, max=1.0…"
      ]
     },
     "metadata": {},
     "output_type": "display_data"
    },
    {
     "data": {
      "text/html": [
       "wandb version 0.16.3 is available!  To upgrade, please run:\n",
       " $ pip install wandb --upgrade"
      ],
      "text/plain": [
       "<IPython.core.display.HTML object>"
      ]
     },
     "metadata": {},
     "output_type": "display_data"
    },
    {
     "data": {
      "text/html": [
       "Tracking run with wandb version 0.15.12"
      ],
      "text/plain": [
       "<IPython.core.display.HTML object>"
      ]
     },
     "metadata": {},
     "output_type": "display_data"
    },
    {
     "data": {
      "text/html": [
       "Run data is saved locally in <code>/home/chenlequn/GitHub/LDED-FusionNet/code/wandb/run-20240305_114848-e8noozvk</code>"
      ],
      "text/plain": [
       "<IPython.core.display.HTML object>"
      ]
     },
     "metadata": {},
     "output_type": "display_data"
    },
    {
     "data": {
      "text/html": [
       "Syncing run <strong><a href='https://wandb.ai/lequn/AudioVisual_ML_ablation_study_v2/runs/e8noozvk' target=\"_blank\">NN_All Features</a></strong> to <a href='https://wandb.ai/lequn/AudioVisual_ML_ablation_study_v2' target=\"_blank\">Weights & Biases</a> (<a href='https://wandb.me/run' target=\"_blank\">docs</a>)<br/>"
      ],
      "text/plain": [
       "<IPython.core.display.HTML object>"
      ]
     },
     "metadata": {},
     "output_type": "display_data"
    },
    {
     "data": {
      "text/html": [
       " View project at <a href='https://wandb.ai/lequn/AudioVisual_ML_ablation_study_v2' target=\"_blank\">https://wandb.ai/lequn/AudioVisual_ML_ablation_study_v2</a>"
      ],
      "text/plain": [
       "<IPython.core.display.HTML object>"
      ]
     },
     "metadata": {},
     "output_type": "display_data"
    },
    {
     "data": {
      "text/html": [
       " View run at <a href='https://wandb.ai/lequn/AudioVisual_ML_ablation_study_v2/runs/e8noozvk' target=\"_blank\">https://wandb.ai/lequn/AudioVisual_ML_ablation_study_v2/runs/e8noozvk</a>"
      ],
      "text/plain": [
       "<IPython.core.display.HTML object>"
      ]
     },
     "metadata": {},
     "output_type": "display_data"
    },
    {
     "name": "stdout",
     "output_type": "stream",
     "text": [
      "\t\tAccuracy: Mean = 0.9199625993454885, Std = 0.02203092312041603\n",
      "\t\tF1 Score: Mean = 0.9198541353213268, Std = 0.02108884316200871\n",
      "\t\tPrecision: Mean = 0.9231193004882963, Std = 0.020026249055532578\n",
      "\t\tRecall: Mean = 0.9199625993454885, Std = 0.02203092312041603\n",
      "\t\tROC-AUC: Mean = 0.9845578006420261, Std = 0.00622152121260869\n"
     ]
    },
    {
     "data": {
      "text/html": [
       "Waiting for W&B process to finish... <strong style=\"color:green\">(success).</strong>"
      ],
      "text/plain": [
       "<IPython.core.display.HTML object>"
      ]
     },
     "metadata": {},
     "output_type": "display_data"
    },
    {
     "data": {
      "text/html": [
       "<style>\n",
       "    table.wandb td:nth-child(1) { padding: 0 10px; text-align: left ; width: auto;} td:nth-child(2) {text-align: left ; width: 100%}\n",
       "    .wandb-row { display: flex; flex-direction: row; flex-wrap: wrap; justify-content: flex-start; width: 100% }\n",
       "    .wandb-col { display: flex; flex-direction: column; flex-basis: 100%; flex: 1; padding: 10px; }\n",
       "    </style>\n",
       "<div class=\"wandb-row\"><div class=\"wandb-col\"><h3>Run history:</h3><br/><table class=\"wandb\"><tr><td>Accuracy_mean</td><td>▁</td></tr><tr><td>Accuracy_std</td><td>▁</td></tr><tr><td>F1 Score_mean</td><td>▁</td></tr><tr><td>F1 Score_std</td><td>▁</td></tr><tr><td>Precision_mean</td><td>▁</td></tr><tr><td>Precision_std</td><td>▁</td></tr><tr><td>ROC-AUC_mean</td><td>▁</td></tr><tr><td>ROC-AUC_std</td><td>▁</td></tr><tr><td>Recall_mean</td><td>▁</td></tr><tr><td>Recall_std</td><td>▁</td></tr></table><br/></div><div class=\"wandb-col\"><h3>Run summary:</h3><br/><table class=\"wandb\"><tr><td>Accuracy_mean</td><td>0.91996</td></tr><tr><td>Accuracy_std</td><td>0.02203</td></tr><tr><td>F1 Score_mean</td><td>0.91985</td></tr><tr><td>F1 Score_std</td><td>0.02109</td></tr><tr><td>Precision_mean</td><td>0.92312</td></tr><tr><td>Precision_std</td><td>0.02003</td></tr><tr><td>ROC-AUC_mean</td><td>0.98456</td></tr><tr><td>ROC-AUC_std</td><td>0.00622</td></tr><tr><td>Recall_mean</td><td>0.91996</td></tr><tr><td>Recall_std</td><td>0.02203</td></tr></table><br/></div></div>"
      ],
      "text/plain": [
       "<IPython.core.display.HTML object>"
      ]
     },
     "metadata": {},
     "output_type": "display_data"
    },
    {
     "data": {
      "text/html": [
       " View run <strong style=\"color:#cdcd00\">NN_All Features</strong> at: <a href='https://wandb.ai/lequn/AudioVisual_ML_ablation_study_v2/runs/e8noozvk' target=\"_blank\">https://wandb.ai/lequn/AudioVisual_ML_ablation_study_v2/runs/e8noozvk</a><br/> View job at <a href='https://wandb.ai/lequn/AudioVisual_ML_ablation_study_v2/jobs/QXJ0aWZhY3RDb2xsZWN0aW9uOjExMTQ1OTc4Ng==/version_details/v18' target=\"_blank\">https://wandb.ai/lequn/AudioVisual_ML_ablation_study_v2/jobs/QXJ0aWZhY3RDb2xsZWN0aW9uOjExMTQ1OTc4Ng==/version_details/v18</a><br/>Synced 6 W&B file(s), 0 media file(s), 2 artifact file(s) and 0 other file(s)"
      ],
      "text/plain": [
       "<IPython.core.display.HTML object>"
      ]
     },
     "metadata": {},
     "output_type": "display_data"
    },
    {
     "data": {
      "text/html": [
       "Find logs at: <code>./wandb/run-20240305_114848-e8noozvk/logs</code>"
      ],
      "text/plain": [
       "<IPython.core.display.HTML object>"
      ]
     },
     "metadata": {},
     "output_type": "display_data"
    },
    {
     "name": "stdout",
     "output_type": "stream",
     "text": [
      "\tTraining model: XGBoost\n"
     ]
    },
    {
     "data": {
      "application/vnd.jupyter.widget-view+json": {
       "model_id": "ab8937146dc1420190c5672b3ce0c27d",
       "version_major": 2,
       "version_minor": 0
      },
      "text/plain": [
       "VBox(children=(Label(value='Waiting for wandb.init()...\\r'), FloatProgress(value=0.01111346984444026, max=1.0)…"
      ]
     },
     "metadata": {},
     "output_type": "display_data"
    },
    {
     "data": {
      "text/html": [
       "wandb version 0.16.3 is available!  To upgrade, please run:\n",
       " $ pip install wandb --upgrade"
      ],
      "text/plain": [
       "<IPython.core.display.HTML object>"
      ]
     },
     "metadata": {},
     "output_type": "display_data"
    },
    {
     "data": {
      "text/html": [
       "Tracking run with wandb version 0.15.12"
      ],
      "text/plain": [
       "<IPython.core.display.HTML object>"
      ]
     },
     "metadata": {},
     "output_type": "display_data"
    },
    {
     "data": {
      "text/html": [
       "Run data is saved locally in <code>/home/chenlequn/GitHub/LDED-FusionNet/code/wandb/run-20240305_114903-51awb8gx</code>"
      ],
      "text/plain": [
       "<IPython.core.display.HTML object>"
      ]
     },
     "metadata": {},
     "output_type": "display_data"
    },
    {
     "data": {
      "text/html": [
       "Syncing run <strong><a href='https://wandb.ai/lequn/AudioVisual_ML_ablation_study_v2/runs/51awb8gx' target=\"_blank\">XGBoost_All Features</a></strong> to <a href='https://wandb.ai/lequn/AudioVisual_ML_ablation_study_v2' target=\"_blank\">Weights & Biases</a> (<a href='https://wandb.me/run' target=\"_blank\">docs</a>)<br/>"
      ],
      "text/plain": [
       "<IPython.core.display.HTML object>"
      ]
     },
     "metadata": {},
     "output_type": "display_data"
    },
    {
     "data": {
      "text/html": [
       " View project at <a href='https://wandb.ai/lequn/AudioVisual_ML_ablation_study_v2' target=\"_blank\">https://wandb.ai/lequn/AudioVisual_ML_ablation_study_v2</a>"
      ],
      "text/plain": [
       "<IPython.core.display.HTML object>"
      ]
     },
     "metadata": {},
     "output_type": "display_data"
    },
    {
     "data": {
      "text/html": [
       " View run at <a href='https://wandb.ai/lequn/AudioVisual_ML_ablation_study_v2/runs/51awb8gx' target=\"_blank\">https://wandb.ai/lequn/AudioVisual_ML_ablation_study_v2/runs/51awb8gx</a>"
      ],
      "text/plain": [
       "<IPython.core.display.HTML object>"
      ]
     },
     "metadata": {},
     "output_type": "display_data"
    },
    {
     "name": "stdout",
     "output_type": "stream",
     "text": [
      "\t\tAccuracy: Mean = 0.9198690977092099, Std = 0.031294827951081544\n",
      "\t\tF1 Score: Mean = 0.9196315244992157, Std = 0.030369019043249103\n",
      "\t\tPrecision: Mean = 0.922995659748211, Std = 0.030266932246708227\n",
      "\t\tRecall: Mean = 0.9198690977092099, Std = 0.031294827951081544\n",
      "\t\tROC-AUC: Mean = 0.989299498331982, Std = 0.0024162296317778165\n"
     ]
    },
    {
     "data": {
      "text/html": [
       "Waiting for W&B process to finish... <strong style=\"color:green\">(success).</strong>"
      ],
      "text/plain": [
       "<IPython.core.display.HTML object>"
      ]
     },
     "metadata": {},
     "output_type": "display_data"
    },
    {
     "data": {
      "text/html": [
       "<style>\n",
       "    table.wandb td:nth-child(1) { padding: 0 10px; text-align: left ; width: auto;} td:nth-child(2) {text-align: left ; width: 100%}\n",
       "    .wandb-row { display: flex; flex-direction: row; flex-wrap: wrap; justify-content: flex-start; width: 100% }\n",
       "    .wandb-col { display: flex; flex-direction: column; flex-basis: 100%; flex: 1; padding: 10px; }\n",
       "    </style>\n",
       "<div class=\"wandb-row\"><div class=\"wandb-col\"><h3>Run history:</h3><br/><table class=\"wandb\"><tr><td>Accuracy_mean</td><td>▁</td></tr><tr><td>Accuracy_std</td><td>▁</td></tr><tr><td>F1 Score_mean</td><td>▁</td></tr><tr><td>F1 Score_std</td><td>▁</td></tr><tr><td>Precision_mean</td><td>▁</td></tr><tr><td>Precision_std</td><td>▁</td></tr><tr><td>ROC-AUC_mean</td><td>▁</td></tr><tr><td>ROC-AUC_std</td><td>▁</td></tr><tr><td>Recall_mean</td><td>▁</td></tr><tr><td>Recall_std</td><td>▁</td></tr></table><br/></div><div class=\"wandb-col\"><h3>Run summary:</h3><br/><table class=\"wandb\"><tr><td>Accuracy_mean</td><td>0.91987</td></tr><tr><td>Accuracy_std</td><td>0.03129</td></tr><tr><td>F1 Score_mean</td><td>0.91963</td></tr><tr><td>F1 Score_std</td><td>0.03037</td></tr><tr><td>Precision_mean</td><td>0.923</td></tr><tr><td>Precision_std</td><td>0.03027</td></tr><tr><td>ROC-AUC_mean</td><td>0.9893</td></tr><tr><td>ROC-AUC_std</td><td>0.00242</td></tr><tr><td>Recall_mean</td><td>0.91987</td></tr><tr><td>Recall_std</td><td>0.03129</td></tr></table><br/></div></div>"
      ],
      "text/plain": [
       "<IPython.core.display.HTML object>"
      ]
     },
     "metadata": {},
     "output_type": "display_data"
    },
    {
     "data": {
      "text/html": [
       " View run <strong style=\"color:#cdcd00\">XGBoost_All Features</strong> at: <a href='https://wandb.ai/lequn/AudioVisual_ML_ablation_study_v2/runs/51awb8gx' target=\"_blank\">https://wandb.ai/lequn/AudioVisual_ML_ablation_study_v2/runs/51awb8gx</a><br/> View job at <a href='https://wandb.ai/lequn/AudioVisual_ML_ablation_study_v2/jobs/QXJ0aWZhY3RDb2xsZWN0aW9uOjExMTQ1OTc4Ng==/version_details/v19' target=\"_blank\">https://wandb.ai/lequn/AudioVisual_ML_ablation_study_v2/jobs/QXJ0aWZhY3RDb2xsZWN0aW9uOjExMTQ1OTc4Ng==/version_details/v19</a><br/>Synced 6 W&B file(s), 0 media file(s), 2 artifact file(s) and 0 other file(s)"
      ],
      "text/plain": [
       "<IPython.core.display.HTML object>"
      ]
     },
     "metadata": {},
     "output_type": "display_data"
    },
    {
     "data": {
      "text/html": [
       "Find logs at: <code>./wandb/run-20240305_114903-51awb8gx/logs</code>"
      ],
      "text/plain": [
       "<IPython.core.display.HTML object>"
      ]
     },
     "metadata": {},
     "output_type": "display_data"
    },
    {
     "name": "stdout",
     "output_type": "stream",
     "text": [
      "\tTraining model: LightGBM\n"
     ]
    },
    {
     "data": {
      "application/vnd.jupyter.widget-view+json": {
       "model_id": "a9c9a4aa39764a80bfe7e14bad7f29fb",
       "version_major": 2,
       "version_minor": 0
      },
      "text/plain": [
       "VBox(children=(Label(value='Waiting for wandb.init()...\\r'), FloatProgress(value=0.011113915700005035, max=1.0…"
      ]
     },
     "metadata": {},
     "output_type": "display_data"
    },
    {
     "data": {
      "text/html": [
       "wandb version 0.16.3 is available!  To upgrade, please run:\n",
       " $ pip install wandb --upgrade"
      ],
      "text/plain": [
       "<IPython.core.display.HTML object>"
      ]
     },
     "metadata": {},
     "output_type": "display_data"
    },
    {
     "data": {
      "text/html": [
       "Tracking run with wandb version 0.15.12"
      ],
      "text/plain": [
       "<IPython.core.display.HTML object>"
      ]
     },
     "metadata": {},
     "output_type": "display_data"
    },
    {
     "data": {
      "text/html": [
       "Run data is saved locally in <code>/home/chenlequn/GitHub/LDED-FusionNet/code/wandb/run-20240305_114918-ladc5wrj</code>"
      ],
      "text/plain": [
       "<IPython.core.display.HTML object>"
      ]
     },
     "metadata": {},
     "output_type": "display_data"
    },
    {
     "data": {
      "text/html": [
       "Syncing run <strong><a href='https://wandb.ai/lequn/AudioVisual_ML_ablation_study_v2/runs/ladc5wrj' target=\"_blank\">LightGBM_All Features</a></strong> to <a href='https://wandb.ai/lequn/AudioVisual_ML_ablation_study_v2' target=\"_blank\">Weights & Biases</a> (<a href='https://wandb.me/run' target=\"_blank\">docs</a>)<br/>"
      ],
      "text/plain": [
       "<IPython.core.display.HTML object>"
      ]
     },
     "metadata": {},
     "output_type": "display_data"
    },
    {
     "data": {
      "text/html": [
       " View project at <a href='https://wandb.ai/lequn/AudioVisual_ML_ablation_study_v2' target=\"_blank\">https://wandb.ai/lequn/AudioVisual_ML_ablation_study_v2</a>"
      ],
      "text/plain": [
       "<IPython.core.display.HTML object>"
      ]
     },
     "metadata": {},
     "output_type": "display_data"
    },
    {
     "data": {
      "text/html": [
       " View run at <a href='https://wandb.ai/lequn/AudioVisual_ML_ablation_study_v2/runs/ladc5wrj' target=\"_blank\">https://wandb.ai/lequn/AudioVisual_ML_ablation_study_v2/runs/ladc5wrj</a>"
      ],
      "text/plain": [
       "<IPython.core.display.HTML object>"
      ]
     },
     "metadata": {},
     "output_type": "display_data"
    },
    {
     "name": "stdout",
     "output_type": "stream",
     "text": [
      "\t\tAccuracy: Mean = 0.9177653108929406, Std = 0.031087764956929994\n",
      "\t\tF1 Score: Mean = 0.9178823358034356, Std = 0.03040725621005177\n",
      "\t\tPrecision: Mean = 0.9209861621211258, Std = 0.029451333304741305\n",
      "\t\tRecall: Mean = 0.9177653108929406, Std = 0.031087764956929994\n",
      "\t\tROC-AUC: Mean = 0.9888707206323945, Std = 0.0034436208101405645\n"
     ]
    },
    {
     "data": {
      "text/html": [
       "Waiting for W&B process to finish... <strong style=\"color:green\">(success).</strong>"
      ],
      "text/plain": [
       "<IPython.core.display.HTML object>"
      ]
     },
     "metadata": {},
     "output_type": "display_data"
    },
    {
     "data": {
      "text/html": [
       "<style>\n",
       "    table.wandb td:nth-child(1) { padding: 0 10px; text-align: left ; width: auto;} td:nth-child(2) {text-align: left ; width: 100%}\n",
       "    .wandb-row { display: flex; flex-direction: row; flex-wrap: wrap; justify-content: flex-start; width: 100% }\n",
       "    .wandb-col { display: flex; flex-direction: column; flex-basis: 100%; flex: 1; padding: 10px; }\n",
       "    </style>\n",
       "<div class=\"wandb-row\"><div class=\"wandb-col\"><h3>Run history:</h3><br/><table class=\"wandb\"><tr><td>Accuracy_mean</td><td>▁</td></tr><tr><td>Accuracy_std</td><td>▁</td></tr><tr><td>F1 Score_mean</td><td>▁</td></tr><tr><td>F1 Score_std</td><td>▁</td></tr><tr><td>Precision_mean</td><td>▁</td></tr><tr><td>Precision_std</td><td>▁</td></tr><tr><td>ROC-AUC_mean</td><td>▁</td></tr><tr><td>ROC-AUC_std</td><td>▁</td></tr><tr><td>Recall_mean</td><td>▁</td></tr><tr><td>Recall_std</td><td>▁</td></tr></table><br/></div><div class=\"wandb-col\"><h3>Run summary:</h3><br/><table class=\"wandb\"><tr><td>Accuracy_mean</td><td>0.91777</td></tr><tr><td>Accuracy_std</td><td>0.03109</td></tr><tr><td>F1 Score_mean</td><td>0.91788</td></tr><tr><td>F1 Score_std</td><td>0.03041</td></tr><tr><td>Precision_mean</td><td>0.92099</td></tr><tr><td>Precision_std</td><td>0.02945</td></tr><tr><td>ROC-AUC_mean</td><td>0.98887</td></tr><tr><td>ROC-AUC_std</td><td>0.00344</td></tr><tr><td>Recall_mean</td><td>0.91777</td></tr><tr><td>Recall_std</td><td>0.03109</td></tr></table><br/></div></div>"
      ],
      "text/plain": [
       "<IPython.core.display.HTML object>"
      ]
     },
     "metadata": {},
     "output_type": "display_data"
    },
    {
     "data": {
      "text/html": [
       " View run <strong style=\"color:#cdcd00\">LightGBM_All Features</strong> at: <a href='https://wandb.ai/lequn/AudioVisual_ML_ablation_study_v2/runs/ladc5wrj' target=\"_blank\">https://wandb.ai/lequn/AudioVisual_ML_ablation_study_v2/runs/ladc5wrj</a><br/> View job at <a href='https://wandb.ai/lequn/AudioVisual_ML_ablation_study_v2/jobs/QXJ0aWZhY3RDb2xsZWN0aW9uOjExMTQ1OTc4Ng==/version_details/v20' target=\"_blank\">https://wandb.ai/lequn/AudioVisual_ML_ablation_study_v2/jobs/QXJ0aWZhY3RDb2xsZWN0aW9uOjExMTQ1OTc4Ng==/version_details/v20</a><br/>Synced 6 W&B file(s), 0 media file(s), 2 artifact file(s) and 0 other file(s)"
      ],
      "text/plain": [
       "<IPython.core.display.HTML object>"
      ]
     },
     "metadata": {},
     "output_type": "display_data"
    },
    {
     "data": {
      "text/html": [
       "Find logs at: <code>./wandb/run-20240305_114918-ladc5wrj/logs</code>"
      ],
      "text/plain": [
       "<IPython.core.display.HTML object>"
      ]
     },
     "metadata": {},
     "output_type": "display_data"
    },
    {
     "name": "stdout",
     "output_type": "stream",
     "text": [
      "\tTraining model: SVM\n"
     ]
    },
    {
     "data": {
      "application/vnd.jupyter.widget-view+json": {
       "model_id": "4672437b45ee472a931aab96a435359b",
       "version_major": 2,
       "version_minor": 0
      },
      "text/plain": [
       "VBox(children=(Label(value='Waiting for wandb.init()...\\r'), FloatProgress(value=0.011113145599999067, max=1.0…"
      ]
     },
     "metadata": {},
     "output_type": "display_data"
    },
    {
     "data": {
      "text/html": [
       "wandb version 0.16.3 is available!  To upgrade, please run:\n",
       " $ pip install wandb --upgrade"
      ],
      "text/plain": [
       "<IPython.core.display.HTML object>"
      ]
     },
     "metadata": {},
     "output_type": "display_data"
    },
    {
     "data": {
      "text/html": [
       "Tracking run with wandb version 0.15.12"
      ],
      "text/plain": [
       "<IPython.core.display.HTML object>"
      ]
     },
     "metadata": {},
     "output_type": "display_data"
    },
    {
     "data": {
      "text/html": [
       "Run data is saved locally in <code>/home/chenlequn/GitHub/LDED-FusionNet/code/wandb/run-20240305_114932-g1xjydzg</code>"
      ],
      "text/plain": [
       "<IPython.core.display.HTML object>"
      ]
     },
     "metadata": {},
     "output_type": "display_data"
    },
    {
     "data": {
      "text/html": [
       "Syncing run <strong><a href='https://wandb.ai/lequn/AudioVisual_ML_ablation_study_v2/runs/g1xjydzg' target=\"_blank\">SVM_All Features</a></strong> to <a href='https://wandb.ai/lequn/AudioVisual_ML_ablation_study_v2' target=\"_blank\">Weights & Biases</a> (<a href='https://wandb.me/run' target=\"_blank\">docs</a>)<br/>"
      ],
      "text/plain": [
       "<IPython.core.display.HTML object>"
      ]
     },
     "metadata": {},
     "output_type": "display_data"
    },
    {
     "data": {
      "text/html": [
       " View project at <a href='https://wandb.ai/lequn/AudioVisual_ML_ablation_study_v2' target=\"_blank\">https://wandb.ai/lequn/AudioVisual_ML_ablation_study_v2</a>"
      ],
      "text/plain": [
       "<IPython.core.display.HTML object>"
      ]
     },
     "metadata": {},
     "output_type": "display_data"
    },
    {
     "data": {
      "text/html": [
       " View run at <a href='https://wandb.ai/lequn/AudioVisual_ML_ablation_study_v2/runs/g1xjydzg' target=\"_blank\">https://wandb.ai/lequn/AudioVisual_ML_ablation_study_v2/runs/g1xjydzg</a>"
      ],
      "text/plain": [
       "<IPython.core.display.HTML object>"
      ]
     },
     "metadata": {},
     "output_type": "display_data"
    },
    {
     "name": "stdout",
     "output_type": "stream",
     "text": [
      "\t\tAccuracy: Mean = 0.8767414679756896, Std = 0.03480861354268683\n",
      "\t\tF1 Score: Mean = 0.8776921406344294, Std = 0.03307198992993354\n",
      "\t\tPrecision: Mean = 0.8832507447754947, Std = 0.03012307329065782\n",
      "\t\tRecall: Mean = 0.8767414679756896, Std = 0.03480861354268683\n",
      "\t\tROC-AUC: Mean = 0.9703731724962585, Std = 0.012454497802001092\n"
     ]
    },
    {
     "data": {
      "text/html": [
       "Waiting for W&B process to finish... <strong style=\"color:green\">(success).</strong>"
      ],
      "text/plain": [
       "<IPython.core.display.HTML object>"
      ]
     },
     "metadata": {},
     "output_type": "display_data"
    },
    {
     "data": {
      "text/html": [
       "<style>\n",
       "    table.wandb td:nth-child(1) { padding: 0 10px; text-align: left ; width: auto;} td:nth-child(2) {text-align: left ; width: 100%}\n",
       "    .wandb-row { display: flex; flex-direction: row; flex-wrap: wrap; justify-content: flex-start; width: 100% }\n",
       "    .wandb-col { display: flex; flex-direction: column; flex-basis: 100%; flex: 1; padding: 10px; }\n",
       "    </style>\n",
       "<div class=\"wandb-row\"><div class=\"wandb-col\"><h3>Run history:</h3><br/><table class=\"wandb\"><tr><td>Accuracy_mean</td><td>▁</td></tr><tr><td>Accuracy_std</td><td>▁</td></tr><tr><td>F1 Score_mean</td><td>▁</td></tr><tr><td>F1 Score_std</td><td>▁</td></tr><tr><td>Precision_mean</td><td>▁</td></tr><tr><td>Precision_std</td><td>▁</td></tr><tr><td>ROC-AUC_mean</td><td>▁</td></tr><tr><td>ROC-AUC_std</td><td>▁</td></tr><tr><td>Recall_mean</td><td>▁</td></tr><tr><td>Recall_std</td><td>▁</td></tr></table><br/></div><div class=\"wandb-col\"><h3>Run summary:</h3><br/><table class=\"wandb\"><tr><td>Accuracy_mean</td><td>0.87674</td></tr><tr><td>Accuracy_std</td><td>0.03481</td></tr><tr><td>F1 Score_mean</td><td>0.87769</td></tr><tr><td>F1 Score_std</td><td>0.03307</td></tr><tr><td>Precision_mean</td><td>0.88325</td></tr><tr><td>Precision_std</td><td>0.03012</td></tr><tr><td>ROC-AUC_mean</td><td>0.97037</td></tr><tr><td>ROC-AUC_std</td><td>0.01245</td></tr><tr><td>Recall_mean</td><td>0.87674</td></tr><tr><td>Recall_std</td><td>0.03481</td></tr></table><br/></div></div>"
      ],
      "text/plain": [
       "<IPython.core.display.HTML object>"
      ]
     },
     "metadata": {},
     "output_type": "display_data"
    },
    {
     "data": {
      "text/html": [
       " View run <strong style=\"color:#cdcd00\">SVM_All Features</strong> at: <a href='https://wandb.ai/lequn/AudioVisual_ML_ablation_study_v2/runs/g1xjydzg' target=\"_blank\">https://wandb.ai/lequn/AudioVisual_ML_ablation_study_v2/runs/g1xjydzg</a><br/> View job at <a href='https://wandb.ai/lequn/AudioVisual_ML_ablation_study_v2/jobs/QXJ0aWZhY3RDb2xsZWN0aW9uOjExMTQ1OTc4Ng==/version_details/v21' target=\"_blank\">https://wandb.ai/lequn/AudioVisual_ML_ablation_study_v2/jobs/QXJ0aWZhY3RDb2xsZWN0aW9uOjExMTQ1OTc4Ng==/version_details/v21</a><br/>Synced 6 W&B file(s), 0 media file(s), 2 artifact file(s) and 0 other file(s)"
      ],
      "text/plain": [
       "<IPython.core.display.HTML object>"
      ]
     },
     "metadata": {},
     "output_type": "display_data"
    },
    {
     "data": {
      "text/html": [
       "Find logs at: <code>./wandb/run-20240305_114932-g1xjydzg/logs</code>"
      ],
      "text/plain": [
       "<IPython.core.display.HTML object>"
      ]
     },
     "metadata": {},
     "output_type": "display_data"
    },
    {
     "name": "stdout",
     "output_type": "stream",
     "text": [
      "\tTraining model: HistGB\n"
     ]
    },
    {
     "data": {
      "application/vnd.jupyter.widget-view+json": {
       "model_id": "ec99403071e04f9ca7ce99c42a939fee",
       "version_major": 2,
       "version_minor": 0
      },
      "text/plain": [
       "VBox(children=(Label(value='Waiting for wandb.init()...\\r'), FloatProgress(value=0.011113362288890332, max=1.0…"
      ]
     },
     "metadata": {},
     "output_type": "display_data"
    },
    {
     "data": {
      "text/html": [
       "wandb version 0.16.3 is available!  To upgrade, please run:\n",
       " $ pip install wandb --upgrade"
      ],
      "text/plain": [
       "<IPython.core.display.HTML object>"
      ]
     },
     "metadata": {},
     "output_type": "display_data"
    },
    {
     "data": {
      "text/html": [
       "Tracking run with wandb version 0.15.12"
      ],
      "text/plain": [
       "<IPython.core.display.HTML object>"
      ]
     },
     "metadata": {},
     "output_type": "display_data"
    },
    {
     "data": {
      "text/html": [
       "Run data is saved locally in <code>/home/chenlequn/GitHub/LDED-FusionNet/code/wandb/run-20240305_114945-7h7ffb9u</code>"
      ],
      "text/plain": [
       "<IPython.core.display.HTML object>"
      ]
     },
     "metadata": {},
     "output_type": "display_data"
    },
    {
     "data": {
      "text/html": [
       "Syncing run <strong><a href='https://wandb.ai/lequn/AudioVisual_ML_ablation_study_v2/runs/7h7ffb9u' target=\"_blank\">HistGB_All Features</a></strong> to <a href='https://wandb.ai/lequn/AudioVisual_ML_ablation_study_v2' target=\"_blank\">Weights & Biases</a> (<a href='https://wandb.me/run' target=\"_blank\">docs</a>)<br/>"
      ],
      "text/plain": [
       "<IPython.core.display.HTML object>"
      ]
     },
     "metadata": {},
     "output_type": "display_data"
    },
    {
     "data": {
      "text/html": [
       " View project at <a href='https://wandb.ai/lequn/AudioVisual_ML_ablation_study_v2' target=\"_blank\">https://wandb.ai/lequn/AudioVisual_ML_ablation_study_v2</a>"
      ],
      "text/plain": [
       "<IPython.core.display.HTML object>"
      ]
     },
     "metadata": {},
     "output_type": "display_data"
    },
    {
     "data": {
      "text/html": [
       " View run at <a href='https://wandb.ai/lequn/AudioVisual_ML_ablation_study_v2/runs/7h7ffb9u' target=\"_blank\">https://wandb.ai/lequn/AudioVisual_ML_ablation_study_v2/runs/7h7ffb9u</a>"
      ],
      "text/plain": [
       "<IPython.core.display.HTML object>"
      ]
     },
     "metadata": {},
     "output_type": "display_data"
    },
    {
     "name": "stdout",
     "output_type": "stream",
     "text": [
      "\t\tAccuracy: Mean = 0.9329593267882188, Std = 0.034414175590850686\n",
      "\t\tF1 Score: Mean = 0.933320710307977, Std = 0.03332342930032505\n",
      "\t\tPrecision: Mean = 0.9365152444999163, Std = 0.03164710686030576\n",
      "\t\tRecall: Mean = 0.9329593267882188, Std = 0.034414175590850686\n",
      "\t\tROC-AUC: Mean = 0.9883410451190491, Std = 0.004232936879810858\n"
     ]
    },
    {
     "data": {
      "text/html": [
       "Waiting for W&B process to finish... <strong style=\"color:green\">(success).</strong>"
      ],
      "text/plain": [
       "<IPython.core.display.HTML object>"
      ]
     },
     "metadata": {},
     "output_type": "display_data"
    },
    {
     "data": {
      "application/vnd.jupyter.widget-view+json": {
       "model_id": "3a52bfcfa3bc44a89bc6065154d46438",
       "version_major": 2,
       "version_minor": 0
      },
      "text/plain": [
       "VBox(children=(Label(value='0.004 MB of 0.004 MB uploaded (0.000 MB deduped)\\r'), FloatProgress(value=1.0, max…"
      ]
     },
     "metadata": {},
     "output_type": "display_data"
    },
    {
     "data": {
      "text/html": [
       "<style>\n",
       "    table.wandb td:nth-child(1) { padding: 0 10px; text-align: left ; width: auto;} td:nth-child(2) {text-align: left ; width: 100%}\n",
       "    .wandb-row { display: flex; flex-direction: row; flex-wrap: wrap; justify-content: flex-start; width: 100% }\n",
       "    .wandb-col { display: flex; flex-direction: column; flex-basis: 100%; flex: 1; padding: 10px; }\n",
       "    </style>\n",
       "<div class=\"wandb-row\"><div class=\"wandb-col\"><h3>Run history:</h3><br/><table class=\"wandb\"><tr><td>Accuracy_mean</td><td>▁</td></tr><tr><td>Accuracy_std</td><td>▁</td></tr><tr><td>F1 Score_mean</td><td>▁</td></tr><tr><td>F1 Score_std</td><td>▁</td></tr><tr><td>Precision_mean</td><td>▁</td></tr><tr><td>Precision_std</td><td>▁</td></tr><tr><td>ROC-AUC_mean</td><td>▁</td></tr><tr><td>ROC-AUC_std</td><td>▁</td></tr><tr><td>Recall_mean</td><td>▁</td></tr><tr><td>Recall_std</td><td>▁</td></tr></table><br/></div><div class=\"wandb-col\"><h3>Run summary:</h3><br/><table class=\"wandb\"><tr><td>Accuracy_mean</td><td>0.93296</td></tr><tr><td>Accuracy_std</td><td>0.03441</td></tr><tr><td>F1 Score_mean</td><td>0.93332</td></tr><tr><td>F1 Score_std</td><td>0.03332</td></tr><tr><td>Precision_mean</td><td>0.93652</td></tr><tr><td>Precision_std</td><td>0.03165</td></tr><tr><td>ROC-AUC_mean</td><td>0.98834</td></tr><tr><td>ROC-AUC_std</td><td>0.00423</td></tr><tr><td>Recall_mean</td><td>0.93296</td></tr><tr><td>Recall_std</td><td>0.03441</td></tr></table><br/></div></div>"
      ],
      "text/plain": [
       "<IPython.core.display.HTML object>"
      ]
     },
     "metadata": {},
     "output_type": "display_data"
    },
    {
     "data": {
      "text/html": [
       " View run <strong style=\"color:#cdcd00\">HistGB_All Features</strong> at: <a href='https://wandb.ai/lequn/AudioVisual_ML_ablation_study_v2/runs/7h7ffb9u' target=\"_blank\">https://wandb.ai/lequn/AudioVisual_ML_ablation_study_v2/runs/7h7ffb9u</a><br/> View job at <a href='https://wandb.ai/lequn/AudioVisual_ML_ablation_study_v2/jobs/QXJ0aWZhY3RDb2xsZWN0aW9uOjExMTQ1OTc4Ng==/version_details/v22' target=\"_blank\">https://wandb.ai/lequn/AudioVisual_ML_ablation_study_v2/jobs/QXJ0aWZhY3RDb2xsZWN0aW9uOjExMTQ1OTc4Ng==/version_details/v22</a><br/>Synced 6 W&B file(s), 0 media file(s), 2 artifact file(s) and 0 other file(s)"
      ],
      "text/plain": [
       "<IPython.core.display.HTML object>"
      ]
     },
     "metadata": {},
     "output_type": "display_data"
    },
    {
     "data": {
      "text/html": [
       "Find logs at: <code>./wandb/run-20240305_114945-7h7ffb9u/logs</code>"
      ],
      "text/plain": [
       "<IPython.core.display.HTML object>"
      ]
     },
     "metadata": {},
     "output_type": "display_data"
    },
    {
     "name": "stdout",
     "output_type": "stream",
     "text": [
      "Processing dataset: Ablated 1\n",
      "\tTraining model: KNN\n"
     ]
    },
    {
     "data": {
      "application/vnd.jupyter.widget-view+json": {
       "model_id": "f5acb11f08ea4299afcfd8fd534d4afb",
       "version_major": 2,
       "version_minor": 0
      },
      "text/plain": [
       "VBox(children=(Label(value='Waiting for wandb.init()...\\r'), FloatProgress(value=0.011112555388889531, max=1.0…"
      ]
     },
     "metadata": {},
     "output_type": "display_data"
    },
    {
     "data": {
      "text/html": [
       "wandb version 0.16.3 is available!  To upgrade, please run:\n",
       " $ pip install wandb --upgrade"
      ],
      "text/plain": [
       "<IPython.core.display.HTML object>"
      ]
     },
     "metadata": {},
     "output_type": "display_data"
    },
    {
     "data": {
      "text/html": [
       "Tracking run with wandb version 0.15.12"
      ],
      "text/plain": [
       "<IPython.core.display.HTML object>"
      ]
     },
     "metadata": {},
     "output_type": "display_data"
    },
    {
     "data": {
      "text/html": [
       "Run data is saved locally in <code>/home/chenlequn/GitHub/LDED-FusionNet/code/wandb/run-20240305_115001-63i9u1mj</code>"
      ],
      "text/plain": [
       "<IPython.core.display.HTML object>"
      ]
     },
     "metadata": {},
     "output_type": "display_data"
    },
    {
     "data": {
      "text/html": [
       "Syncing run <strong><a href='https://wandb.ai/lequn/AudioVisual_ML_ablation_study_v2/runs/63i9u1mj' target=\"_blank\">KNN_Ablated 1</a></strong> to <a href='https://wandb.ai/lequn/AudioVisual_ML_ablation_study_v2' target=\"_blank\">Weights & Biases</a> (<a href='https://wandb.me/run' target=\"_blank\">docs</a>)<br/>"
      ],
      "text/plain": [
       "<IPython.core.display.HTML object>"
      ]
     },
     "metadata": {},
     "output_type": "display_data"
    },
    {
     "data": {
      "text/html": [
       " View project at <a href='https://wandb.ai/lequn/AudioVisual_ML_ablation_study_v2' target=\"_blank\">https://wandb.ai/lequn/AudioVisual_ML_ablation_study_v2</a>"
      ],
      "text/plain": [
       "<IPython.core.display.HTML object>"
      ]
     },
     "metadata": {},
     "output_type": "display_data"
    },
    {
     "data": {
      "text/html": [
       " View run at <a href='https://wandb.ai/lequn/AudioVisual_ML_ablation_study_v2/runs/63i9u1mj' target=\"_blank\">https://wandb.ai/lequn/AudioVisual_ML_ablation_study_v2/runs/63i9u1mj</a>"
      ],
      "text/plain": [
       "<IPython.core.display.HTML object>"
      ]
     },
     "metadata": {},
     "output_type": "display_data"
    },
    {
     "name": "stdout",
     "output_type": "stream",
     "text": [
      "\t\tAccuracy: Mean = 0.874520804114072, Std = 0.024975352966933692\n",
      "\t\tF1 Score: Mean = 0.8743344123598868, Std = 0.024516346128526382\n",
      "\t\tPrecision: Mean = 0.8785796289422965, Std = 0.024317623448871704\n",
      "\t\tRecall: Mean = 0.874520804114072, Std = 0.024975352966933692\n",
      "\t\tROC-AUC: Mean = 0.9612187918303903, Std = 0.012531442361516834\n"
     ]
    },
    {
     "data": {
      "text/html": [
       "Waiting for W&B process to finish... <strong style=\"color:green\">(success).</strong>"
      ],
      "text/plain": [
       "<IPython.core.display.HTML object>"
      ]
     },
     "metadata": {},
     "output_type": "display_data"
    },
    {
     "data": {
      "text/html": [
       "<style>\n",
       "    table.wandb td:nth-child(1) { padding: 0 10px; text-align: left ; width: auto;} td:nth-child(2) {text-align: left ; width: 100%}\n",
       "    .wandb-row { display: flex; flex-direction: row; flex-wrap: wrap; justify-content: flex-start; width: 100% }\n",
       "    .wandb-col { display: flex; flex-direction: column; flex-basis: 100%; flex: 1; padding: 10px; }\n",
       "    </style>\n",
       "<div class=\"wandb-row\"><div class=\"wandb-col\"><h3>Run history:</h3><br/><table class=\"wandb\"><tr><td>Accuracy_mean</td><td>▁</td></tr><tr><td>Accuracy_std</td><td>▁</td></tr><tr><td>F1 Score_mean</td><td>▁</td></tr><tr><td>F1 Score_std</td><td>▁</td></tr><tr><td>Precision_mean</td><td>▁</td></tr><tr><td>Precision_std</td><td>▁</td></tr><tr><td>ROC-AUC_mean</td><td>▁</td></tr><tr><td>ROC-AUC_std</td><td>▁</td></tr><tr><td>Recall_mean</td><td>▁</td></tr><tr><td>Recall_std</td><td>▁</td></tr></table><br/></div><div class=\"wandb-col\"><h3>Run summary:</h3><br/><table class=\"wandb\"><tr><td>Accuracy_mean</td><td>0.87452</td></tr><tr><td>Accuracy_std</td><td>0.02498</td></tr><tr><td>F1 Score_mean</td><td>0.87433</td></tr><tr><td>F1 Score_std</td><td>0.02452</td></tr><tr><td>Precision_mean</td><td>0.87858</td></tr><tr><td>Precision_std</td><td>0.02432</td></tr><tr><td>ROC-AUC_mean</td><td>0.96122</td></tr><tr><td>ROC-AUC_std</td><td>0.01253</td></tr><tr><td>Recall_mean</td><td>0.87452</td></tr><tr><td>Recall_std</td><td>0.02498</td></tr></table><br/></div></div>"
      ],
      "text/plain": [
       "<IPython.core.display.HTML object>"
      ]
     },
     "metadata": {},
     "output_type": "display_data"
    },
    {
     "data": {
      "text/html": [
       " View run <strong style=\"color:#cdcd00\">KNN_Ablated 1</strong> at: <a href='https://wandb.ai/lequn/AudioVisual_ML_ablation_study_v2/runs/63i9u1mj' target=\"_blank\">https://wandb.ai/lequn/AudioVisual_ML_ablation_study_v2/runs/63i9u1mj</a><br/> View job at <a href='https://wandb.ai/lequn/AudioVisual_ML_ablation_study_v2/jobs/QXJ0aWZhY3RDb2xsZWN0aW9uOjExMTQ1OTc4Ng==/version_details/v23' target=\"_blank\">https://wandb.ai/lequn/AudioVisual_ML_ablation_study_v2/jobs/QXJ0aWZhY3RDb2xsZWN0aW9uOjExMTQ1OTc4Ng==/version_details/v23</a><br/>Synced 6 W&B file(s), 0 media file(s), 0 artifact file(s) and 0 other file(s)"
      ],
      "text/plain": [
       "<IPython.core.display.HTML object>"
      ]
     },
     "metadata": {},
     "output_type": "display_data"
    },
    {
     "data": {
      "text/html": [
       "Find logs at: <code>./wandb/run-20240305_115001-63i9u1mj/logs</code>"
      ],
      "text/plain": [
       "<IPython.core.display.HTML object>"
      ]
     },
     "metadata": {},
     "output_type": "display_data"
    },
    {
     "name": "stdout",
     "output_type": "stream",
     "text": [
      "\tTraining model: DT\n"
     ]
    },
    {
     "data": {
      "application/vnd.jupyter.widget-view+json": {
       "model_id": "4133c22ca41648da899e3cde35f7812c",
       "version_major": 2,
       "version_minor": 0
      },
      "text/plain": [
       "VBox(children=(Label(value='Waiting for wandb.init()...\\r'), FloatProgress(value=0.011112433922224024, max=1.0…"
      ]
     },
     "metadata": {},
     "output_type": "display_data"
    },
    {
     "data": {
      "text/html": [
       "wandb version 0.16.3 is available!  To upgrade, please run:\n",
       " $ pip install wandb --upgrade"
      ],
      "text/plain": [
       "<IPython.core.display.HTML object>"
      ]
     },
     "metadata": {},
     "output_type": "display_data"
    },
    {
     "data": {
      "text/html": [
       "Tracking run with wandb version 0.15.12"
      ],
      "text/plain": [
       "<IPython.core.display.HTML object>"
      ]
     },
     "metadata": {},
     "output_type": "display_data"
    },
    {
     "data": {
      "text/html": [
       "Run data is saved locally in <code>/home/chenlequn/GitHub/LDED-FusionNet/code/wandb/run-20240305_115012-ay1tnkb9</code>"
      ],
      "text/plain": [
       "<IPython.core.display.HTML object>"
      ]
     },
     "metadata": {},
     "output_type": "display_data"
    },
    {
     "data": {
      "text/html": [
       "Syncing run <strong><a href='https://wandb.ai/lequn/AudioVisual_ML_ablation_study_v2/runs/ay1tnkb9' target=\"_blank\">DT_Ablated 1</a></strong> to <a href='https://wandb.ai/lequn/AudioVisual_ML_ablation_study_v2' target=\"_blank\">Weights & Biases</a> (<a href='https://wandb.me/run' target=\"_blank\">docs</a>)<br/>"
      ],
      "text/plain": [
       "<IPython.core.display.HTML object>"
      ]
     },
     "metadata": {},
     "output_type": "display_data"
    },
    {
     "data": {
      "text/html": [
       " View project at <a href='https://wandb.ai/lequn/AudioVisual_ML_ablation_study_v2' target=\"_blank\">https://wandb.ai/lequn/AudioVisual_ML_ablation_study_v2</a>"
      ],
      "text/plain": [
       "<IPython.core.display.HTML object>"
      ]
     },
     "metadata": {},
     "output_type": "display_data"
    },
    {
     "data": {
      "text/html": [
       " View run at <a href='https://wandb.ai/lequn/AudioVisual_ML_ablation_study_v2/runs/ay1tnkb9' target=\"_blank\">https://wandb.ai/lequn/AudioVisual_ML_ablation_study_v2/runs/ay1tnkb9</a>"
      ],
      "text/plain": [
       "<IPython.core.display.HTML object>"
      ]
     },
     "metadata": {},
     "output_type": "display_data"
    },
    {
     "name": "stdout",
     "output_type": "stream",
     "text": [
      "\t\tAccuracy: Mean = 0.8420289855072463, Std = 0.02407900876919361\n",
      "\t\tF1 Score: Mean = 0.8432755238134686, Std = 0.024671150472418836\n",
      "\t\tPrecision: Mean = 0.8509042900951582, Std = 0.024248413809903127\n",
      "\t\tRecall: Mean = 0.8420289855072463, Std = 0.02407900876919361\n",
      "\t\tROC-AUC: Mean = 0.9152906325077478, Std = 0.019587370597239397\n"
     ]
    },
    {
     "data": {
      "text/html": [
       "Waiting for W&B process to finish... <strong style=\"color:green\">(success).</strong>"
      ],
      "text/plain": [
       "<IPython.core.display.HTML object>"
      ]
     },
     "metadata": {},
     "output_type": "display_data"
    },
    {
     "data": {
      "text/html": [
       "<style>\n",
       "    table.wandb td:nth-child(1) { padding: 0 10px; text-align: left ; width: auto;} td:nth-child(2) {text-align: left ; width: 100%}\n",
       "    .wandb-row { display: flex; flex-direction: row; flex-wrap: wrap; justify-content: flex-start; width: 100% }\n",
       "    .wandb-col { display: flex; flex-direction: column; flex-basis: 100%; flex: 1; padding: 10px; }\n",
       "    </style>\n",
       "<div class=\"wandb-row\"><div class=\"wandb-col\"><h3>Run history:</h3><br/><table class=\"wandb\"><tr><td>Accuracy_mean</td><td>▁</td></tr><tr><td>Accuracy_std</td><td>▁</td></tr><tr><td>F1 Score_mean</td><td>▁</td></tr><tr><td>F1 Score_std</td><td>▁</td></tr><tr><td>Precision_mean</td><td>▁</td></tr><tr><td>Precision_std</td><td>▁</td></tr><tr><td>ROC-AUC_mean</td><td>▁</td></tr><tr><td>ROC-AUC_std</td><td>▁</td></tr><tr><td>Recall_mean</td><td>▁</td></tr><tr><td>Recall_std</td><td>▁</td></tr></table><br/></div><div class=\"wandb-col\"><h3>Run summary:</h3><br/><table class=\"wandb\"><tr><td>Accuracy_mean</td><td>0.84203</td></tr><tr><td>Accuracy_std</td><td>0.02408</td></tr><tr><td>F1 Score_mean</td><td>0.84328</td></tr><tr><td>F1 Score_std</td><td>0.02467</td></tr><tr><td>Precision_mean</td><td>0.8509</td></tr><tr><td>Precision_std</td><td>0.02425</td></tr><tr><td>ROC-AUC_mean</td><td>0.91529</td></tr><tr><td>ROC-AUC_std</td><td>0.01959</td></tr><tr><td>Recall_mean</td><td>0.84203</td></tr><tr><td>Recall_std</td><td>0.02408</td></tr></table><br/></div></div>"
      ],
      "text/plain": [
       "<IPython.core.display.HTML object>"
      ]
     },
     "metadata": {},
     "output_type": "display_data"
    },
    {
     "data": {
      "text/html": [
       " View run <strong style=\"color:#cdcd00\">DT_Ablated 1</strong> at: <a href='https://wandb.ai/lequn/AudioVisual_ML_ablation_study_v2/runs/ay1tnkb9' target=\"_blank\">https://wandb.ai/lequn/AudioVisual_ML_ablation_study_v2/runs/ay1tnkb9</a><br/> View job at <a href='https://wandb.ai/lequn/AudioVisual_ML_ablation_study_v2/jobs/QXJ0aWZhY3RDb2xsZWN0aW9uOjExMTQ1OTc4Ng==/version_details/v23' target=\"_blank\">https://wandb.ai/lequn/AudioVisual_ML_ablation_study_v2/jobs/QXJ0aWZhY3RDb2xsZWN0aW9uOjExMTQ1OTc4Ng==/version_details/v23</a><br/>Synced 6 W&B file(s), 0 media file(s), 0 artifact file(s) and 0 other file(s)"
      ],
      "text/plain": [
       "<IPython.core.display.HTML object>"
      ]
     },
     "metadata": {},
     "output_type": "display_data"
    },
    {
     "data": {
      "text/html": [
       "Find logs at: <code>./wandb/run-20240305_115012-ay1tnkb9/logs</code>"
      ],
      "text/plain": [
       "<IPython.core.display.HTML object>"
      ]
     },
     "metadata": {},
     "output_type": "display_data"
    },
    {
     "name": "stdout",
     "output_type": "stream",
     "text": [
      "\tTraining model: RF\n"
     ]
    },
    {
     "data": {
      "application/vnd.jupyter.widget-view+json": {
       "model_id": "554e4c0af3ee445b89fa22cd360eed6d",
       "version_major": 2,
       "version_minor": 0
      },
      "text/plain": [
       "VBox(children=(Label(value='Waiting for wandb.init()...\\r'), FloatProgress(value=0.011113521211114454, max=1.0…"
      ]
     },
     "metadata": {},
     "output_type": "display_data"
    },
    {
     "data": {
      "text/html": [
       "wandb version 0.16.3 is available!  To upgrade, please run:\n",
       " $ pip install wandb --upgrade"
      ],
      "text/plain": [
       "<IPython.core.display.HTML object>"
      ]
     },
     "metadata": {},
     "output_type": "display_data"
    },
    {
     "data": {
      "text/html": [
       "Tracking run with wandb version 0.15.12"
      ],
      "text/plain": [
       "<IPython.core.display.HTML object>"
      ]
     },
     "metadata": {},
     "output_type": "display_data"
    },
    {
     "data": {
      "text/html": [
       "Run data is saved locally in <code>/home/chenlequn/GitHub/LDED-FusionNet/code/wandb/run-20240305_115025-4xelz8it</code>"
      ],
      "text/plain": [
       "<IPython.core.display.HTML object>"
      ]
     },
     "metadata": {},
     "output_type": "display_data"
    },
    {
     "data": {
      "text/html": [
       "Syncing run <strong><a href='https://wandb.ai/lequn/AudioVisual_ML_ablation_study_v2/runs/4xelz8it' target=\"_blank\">RF_Ablated 1</a></strong> to <a href='https://wandb.ai/lequn/AudioVisual_ML_ablation_study_v2' target=\"_blank\">Weights & Biases</a> (<a href='https://wandb.me/run' target=\"_blank\">docs</a>)<br/>"
      ],
      "text/plain": [
       "<IPython.core.display.HTML object>"
      ]
     },
     "metadata": {},
     "output_type": "display_data"
    },
    {
     "data": {
      "text/html": [
       " View project at <a href='https://wandb.ai/lequn/AudioVisual_ML_ablation_study_v2' target=\"_blank\">https://wandb.ai/lequn/AudioVisual_ML_ablation_study_v2</a>"
      ],
      "text/plain": [
       "<IPython.core.display.HTML object>"
      ]
     },
     "metadata": {},
     "output_type": "display_data"
    },
    {
     "data": {
      "text/html": [
       " View run at <a href='https://wandb.ai/lequn/AudioVisual_ML_ablation_study_v2/runs/4xelz8it' target=\"_blank\">https://wandb.ai/lequn/AudioVisual_ML_ablation_study_v2/runs/4xelz8it</a>"
      ],
      "text/plain": [
       "<IPython.core.display.HTML object>"
      ]
     },
     "metadata": {},
     "output_type": "display_data"
    },
    {
     "name": "stdout",
     "output_type": "stream",
     "text": [
      "\t\tAccuracy: Mean = 0.8917484805984104, Std = 0.024884481633796893\n",
      "\t\tF1 Score: Mean = 0.8915117036680789, Std = 0.02355051008270435\n",
      "\t\tPrecision: Mean = 0.8975273726303319, Std = 0.022755733961162948\n",
      "\t\tRecall: Mean = 0.8917484805984104, Std = 0.024884481633796893\n",
      "\t\tROC-AUC: Mean = 0.9818999335767504, Std = 0.0058849584174839945\n"
     ]
    },
    {
     "data": {
      "text/html": [
       "Waiting for W&B process to finish... <strong style=\"color:green\">(success).</strong>"
      ],
      "text/plain": [
       "<IPython.core.display.HTML object>"
      ]
     },
     "metadata": {},
     "output_type": "display_data"
    },
    {
     "data": {
      "text/html": [
       "<style>\n",
       "    table.wandb td:nth-child(1) { padding: 0 10px; text-align: left ; width: auto;} td:nth-child(2) {text-align: left ; width: 100%}\n",
       "    .wandb-row { display: flex; flex-direction: row; flex-wrap: wrap; justify-content: flex-start; width: 100% }\n",
       "    .wandb-col { display: flex; flex-direction: column; flex-basis: 100%; flex: 1; padding: 10px; }\n",
       "    </style>\n",
       "<div class=\"wandb-row\"><div class=\"wandb-col\"><h3>Run history:</h3><br/><table class=\"wandb\"><tr><td>Accuracy_mean</td><td>▁</td></tr><tr><td>Accuracy_std</td><td>▁</td></tr><tr><td>F1 Score_mean</td><td>▁</td></tr><tr><td>F1 Score_std</td><td>▁</td></tr><tr><td>Precision_mean</td><td>▁</td></tr><tr><td>Precision_std</td><td>▁</td></tr><tr><td>ROC-AUC_mean</td><td>▁</td></tr><tr><td>ROC-AUC_std</td><td>▁</td></tr><tr><td>Recall_mean</td><td>▁</td></tr><tr><td>Recall_std</td><td>▁</td></tr></table><br/></div><div class=\"wandb-col\"><h3>Run summary:</h3><br/><table class=\"wandb\"><tr><td>Accuracy_mean</td><td>0.89175</td></tr><tr><td>Accuracy_std</td><td>0.02488</td></tr><tr><td>F1 Score_mean</td><td>0.89151</td></tr><tr><td>F1 Score_std</td><td>0.02355</td></tr><tr><td>Precision_mean</td><td>0.89753</td></tr><tr><td>Precision_std</td><td>0.02276</td></tr><tr><td>ROC-AUC_mean</td><td>0.9819</td></tr><tr><td>ROC-AUC_std</td><td>0.00588</td></tr><tr><td>Recall_mean</td><td>0.89175</td></tr><tr><td>Recall_std</td><td>0.02488</td></tr></table><br/></div></div>"
      ],
      "text/plain": [
       "<IPython.core.display.HTML object>"
      ]
     },
     "metadata": {},
     "output_type": "display_data"
    },
    {
     "data": {
      "text/html": [
       " View run <strong style=\"color:#cdcd00\">RF_Ablated 1</strong> at: <a href='https://wandb.ai/lequn/AudioVisual_ML_ablation_study_v2/runs/4xelz8it' target=\"_blank\">https://wandb.ai/lequn/AudioVisual_ML_ablation_study_v2/runs/4xelz8it</a><br/> View job at <a href='https://wandb.ai/lequn/AudioVisual_ML_ablation_study_v2/jobs/QXJ0aWZhY3RDb2xsZWN0aW9uOjExMTQ1OTc4Ng==/version_details/v23' target=\"_blank\">https://wandb.ai/lequn/AudioVisual_ML_ablation_study_v2/jobs/QXJ0aWZhY3RDb2xsZWN0aW9uOjExMTQ1OTc4Ng==/version_details/v23</a><br/>Synced 6 W&B file(s), 0 media file(s), 0 artifact file(s) and 0 other file(s)"
      ],
      "text/plain": [
       "<IPython.core.display.HTML object>"
      ]
     },
     "metadata": {},
     "output_type": "display_data"
    },
    {
     "data": {
      "text/html": [
       "Find logs at: <code>./wandb/run-20240305_115025-4xelz8it/logs</code>"
      ],
      "text/plain": [
       "<IPython.core.display.HTML object>"
      ]
     },
     "metadata": {},
     "output_type": "display_data"
    },
    {
     "name": "stdout",
     "output_type": "stream",
     "text": [
      "\tTraining model: BalancedRF\n"
     ]
    },
    {
     "data": {
      "application/vnd.jupyter.widget-view+json": {
       "model_id": "6958d268c5174a50963ac7c64381af40",
       "version_major": 2,
       "version_minor": 0
      },
      "text/plain": [
       "VBox(children=(Label(value='Waiting for wandb.init()...\\r'), FloatProgress(value=0.011113922322217857, max=1.0…"
      ]
     },
     "metadata": {},
     "output_type": "display_data"
    },
    {
     "data": {
      "text/html": [
       "wandb version 0.16.3 is available!  To upgrade, please run:\n",
       " $ pip install wandb --upgrade"
      ],
      "text/plain": [
       "<IPython.core.display.HTML object>"
      ]
     },
     "metadata": {},
     "output_type": "display_data"
    },
    {
     "data": {
      "text/html": [
       "Tracking run with wandb version 0.15.12"
      ],
      "text/plain": [
       "<IPython.core.display.HTML object>"
      ]
     },
     "metadata": {},
     "output_type": "display_data"
    },
    {
     "data": {
      "text/html": [
       "Run data is saved locally in <code>/home/chenlequn/GitHub/LDED-FusionNet/code/wandb/run-20240305_115038-peyhginh</code>"
      ],
      "text/plain": [
       "<IPython.core.display.HTML object>"
      ]
     },
     "metadata": {},
     "output_type": "display_data"
    },
    {
     "data": {
      "text/html": [
       "Syncing run <strong><a href='https://wandb.ai/lequn/AudioVisual_ML_ablation_study_v2/runs/peyhginh' target=\"_blank\">BalancedRF_Ablated 1</a></strong> to <a href='https://wandb.ai/lequn/AudioVisual_ML_ablation_study_v2' target=\"_blank\">Weights & Biases</a> (<a href='https://wandb.me/run' target=\"_blank\">docs</a>)<br/>"
      ],
      "text/plain": [
       "<IPython.core.display.HTML object>"
      ]
     },
     "metadata": {},
     "output_type": "display_data"
    },
    {
     "data": {
      "text/html": [
       " View project at <a href='https://wandb.ai/lequn/AudioVisual_ML_ablation_study_v2' target=\"_blank\">https://wandb.ai/lequn/AudioVisual_ML_ablation_study_v2</a>"
      ],
      "text/plain": [
       "<IPython.core.display.HTML object>"
      ]
     },
     "metadata": {},
     "output_type": "display_data"
    },
    {
     "data": {
      "text/html": [
       " View run at <a href='https://wandb.ai/lequn/AudioVisual_ML_ablation_study_v2/runs/peyhginh' target=\"_blank\">https://wandb.ai/lequn/AudioVisual_ML_ablation_study_v2/runs/peyhginh</a>"
      ],
      "text/plain": [
       "<IPython.core.display.HTML object>"
      ]
     },
     "metadata": {},
     "output_type": "display_data"
    },
    {
     "name": "stderr",
     "output_type": "stream",
     "text": [
      "/home/chenlequn/anaconda3/envs/torch/lib/python3.9/site-packages/imblearn/ensemble/_forest.py:546: FutureWarning: The default of `sampling_strategy` will change from `'auto'` to `'all'` in version 0.13. This change will follow the implementation proposed in the original paper. Set to `'all'` to silence this warning and adopt the future behaviour.\n",
      "  warn(\n",
      "/home/chenlequn/anaconda3/envs/torch/lib/python3.9/site-packages/imblearn/ensemble/_forest.py:558: FutureWarning: The default of `replacement` will change from `False` to `True` in version 0.13. This change will follow the implementation proposed in the original paper. Set to `True` to silence this warning and adopt the future behaviour.\n",
      "  warn(\n"
     ]
    },
    {
     "name": "stdout",
     "output_type": "stream",
     "text": [
      "\t\tAccuracy: Mean = 0.8680691912108461, Std = 0.04161738031727703\n",
      "\t\tF1 Score: Mean = 0.8686504728368959, Std = 0.04059482712352724\n",
      "\t\tPrecision: Mean = 0.8743534759158941, Std = 0.03721064074531755\n",
      "\t\tRecall: Mean = 0.8680691912108461, Std = 0.04161738031727703\n",
      "\t\tROC-AUC: Mean = 0.9747095746073583, Std = 0.009835624024106024\n"
     ]
    },
    {
     "data": {
      "text/html": [
       "Waiting for W&B process to finish... <strong style=\"color:green\">(success).</strong>"
      ],
      "text/plain": [
       "<IPython.core.display.HTML object>"
      ]
     },
     "metadata": {},
     "output_type": "display_data"
    },
    {
     "data": {
      "text/html": [
       "<style>\n",
       "    table.wandb td:nth-child(1) { padding: 0 10px; text-align: left ; width: auto;} td:nth-child(2) {text-align: left ; width: 100%}\n",
       "    .wandb-row { display: flex; flex-direction: row; flex-wrap: wrap; justify-content: flex-start; width: 100% }\n",
       "    .wandb-col { display: flex; flex-direction: column; flex-basis: 100%; flex: 1; padding: 10px; }\n",
       "    </style>\n",
       "<div class=\"wandb-row\"><div class=\"wandb-col\"><h3>Run history:</h3><br/><table class=\"wandb\"><tr><td>Accuracy_mean</td><td>▁</td></tr><tr><td>Accuracy_std</td><td>▁</td></tr><tr><td>F1 Score_mean</td><td>▁</td></tr><tr><td>F1 Score_std</td><td>▁</td></tr><tr><td>Precision_mean</td><td>▁</td></tr><tr><td>Precision_std</td><td>▁</td></tr><tr><td>ROC-AUC_mean</td><td>▁</td></tr><tr><td>ROC-AUC_std</td><td>▁</td></tr><tr><td>Recall_mean</td><td>▁</td></tr><tr><td>Recall_std</td><td>▁</td></tr></table><br/></div><div class=\"wandb-col\"><h3>Run summary:</h3><br/><table class=\"wandb\"><tr><td>Accuracy_mean</td><td>0.86807</td></tr><tr><td>Accuracy_std</td><td>0.04162</td></tr><tr><td>F1 Score_mean</td><td>0.86865</td></tr><tr><td>F1 Score_std</td><td>0.04059</td></tr><tr><td>Precision_mean</td><td>0.87435</td></tr><tr><td>Precision_std</td><td>0.03721</td></tr><tr><td>ROC-AUC_mean</td><td>0.97471</td></tr><tr><td>ROC-AUC_std</td><td>0.00984</td></tr><tr><td>Recall_mean</td><td>0.86807</td></tr><tr><td>Recall_std</td><td>0.04162</td></tr></table><br/></div></div>"
      ],
      "text/plain": [
       "<IPython.core.display.HTML object>"
      ]
     },
     "metadata": {},
     "output_type": "display_data"
    },
    {
     "data": {
      "text/html": [
       " View run <strong style=\"color:#cdcd00\">BalancedRF_Ablated 1</strong> at: <a href='https://wandb.ai/lequn/AudioVisual_ML_ablation_study_v2/runs/peyhginh' target=\"_blank\">https://wandb.ai/lequn/AudioVisual_ML_ablation_study_v2/runs/peyhginh</a><br/> View job at <a href='https://wandb.ai/lequn/AudioVisual_ML_ablation_study_v2/jobs/QXJ0aWZhY3RDb2xsZWN0aW9uOjExMTQ1OTc4Ng==/version_details/v23' target=\"_blank\">https://wandb.ai/lequn/AudioVisual_ML_ablation_study_v2/jobs/QXJ0aWZhY3RDb2xsZWN0aW9uOjExMTQ1OTc4Ng==/version_details/v23</a><br/>Synced 6 W&B file(s), 0 media file(s), 0 artifact file(s) and 0 other file(s)"
      ],
      "text/plain": [
       "<IPython.core.display.HTML object>"
      ]
     },
     "metadata": {},
     "output_type": "display_data"
    },
    {
     "data": {
      "text/html": [
       "Find logs at: <code>./wandb/run-20240305_115038-peyhginh/logs</code>"
      ],
      "text/plain": [
       "<IPython.core.display.HTML object>"
      ]
     },
     "metadata": {},
     "output_type": "display_data"
    },
    {
     "name": "stdout",
     "output_type": "stream",
     "text": [
      "\tTraining model: RUSBoost\n"
     ]
    },
    {
     "data": {
      "application/vnd.jupyter.widget-view+json": {
       "model_id": "8ea2b1e40fb249fb93877670cd12432e",
       "version_major": 2,
       "version_minor": 0
      },
      "text/plain": [
       "VBox(children=(Label(value='Waiting for wandb.init()...\\r'), FloatProgress(value=0.011113271266670685, max=1.0…"
      ]
     },
     "metadata": {},
     "output_type": "display_data"
    },
    {
     "data": {
      "text/html": [
       "wandb version 0.16.3 is available!  To upgrade, please run:\n",
       " $ pip install wandb --upgrade"
      ],
      "text/plain": [
       "<IPython.core.display.HTML object>"
      ]
     },
     "metadata": {},
     "output_type": "display_data"
    },
    {
     "data": {
      "text/html": [
       "Tracking run with wandb version 0.15.12"
      ],
      "text/plain": [
       "<IPython.core.display.HTML object>"
      ]
     },
     "metadata": {},
     "output_type": "display_data"
    },
    {
     "data": {
      "text/html": [
       "Run data is saved locally in <code>/home/chenlequn/GitHub/LDED-FusionNet/code/wandb/run-20240305_115050-0tctj3xo</code>"
      ],
      "text/plain": [
       "<IPython.core.display.HTML object>"
      ]
     },
     "metadata": {},
     "output_type": "display_data"
    },
    {
     "data": {
      "text/html": [
       "Syncing run <strong><a href='https://wandb.ai/lequn/AudioVisual_ML_ablation_study_v2/runs/0tctj3xo' target=\"_blank\">RUSBoost_Ablated 1</a></strong> to <a href='https://wandb.ai/lequn/AudioVisual_ML_ablation_study_v2' target=\"_blank\">Weights & Biases</a> (<a href='https://wandb.me/run' target=\"_blank\">docs</a>)<br/>"
      ],
      "text/plain": [
       "<IPython.core.display.HTML object>"
      ]
     },
     "metadata": {},
     "output_type": "display_data"
    },
    {
     "data": {
      "text/html": [
       " View project at <a href='https://wandb.ai/lequn/AudioVisual_ML_ablation_study_v2' target=\"_blank\">https://wandb.ai/lequn/AudioVisual_ML_ablation_study_v2</a>"
      ],
      "text/plain": [
       "<IPython.core.display.HTML object>"
      ]
     },
     "metadata": {},
     "output_type": "display_data"
    },
    {
     "data": {
      "text/html": [
       " View run at <a href='https://wandb.ai/lequn/AudioVisual_ML_ablation_study_v2/runs/0tctj3xo' target=\"_blank\">https://wandb.ai/lequn/AudioVisual_ML_ablation_study_v2/runs/0tctj3xo</a>"
      ],
      "text/plain": [
       "<IPython.core.display.HTML object>"
      ]
     },
     "metadata": {},
     "output_type": "display_data"
    },
    {
     "name": "stdout",
     "output_type": "stream",
     "text": [
      "\t\tAccuracy: Mean = 0.8269752220663861, Std = 0.044962622131493685\n",
      "\t\tF1 Score: Mean = 0.8305368400850448, Std = 0.0435772943183485\n",
      "\t\tPrecision: Mean = 0.8469311622225796, Std = 0.03698082659890567\n",
      "\t\tRecall: Mean = 0.8269752220663861, Std = 0.044962622131493685\n",
      "\t\tROC-AUC: Mean = 0.9396914994037677, Std = 0.017874308869212374\n"
     ]
    },
    {
     "data": {
      "text/html": [
       "Waiting for W&B process to finish... <strong style=\"color:green\">(success).</strong>"
      ],
      "text/plain": [
       "<IPython.core.display.HTML object>"
      ]
     },
     "metadata": {},
     "output_type": "display_data"
    },
    {
     "data": {
      "text/html": [
       "<style>\n",
       "    table.wandb td:nth-child(1) { padding: 0 10px; text-align: left ; width: auto;} td:nth-child(2) {text-align: left ; width: 100%}\n",
       "    .wandb-row { display: flex; flex-direction: row; flex-wrap: wrap; justify-content: flex-start; width: 100% }\n",
       "    .wandb-col { display: flex; flex-direction: column; flex-basis: 100%; flex: 1; padding: 10px; }\n",
       "    </style>\n",
       "<div class=\"wandb-row\"><div class=\"wandb-col\"><h3>Run history:</h3><br/><table class=\"wandb\"><tr><td>Accuracy_mean</td><td>▁</td></tr><tr><td>Accuracy_std</td><td>▁</td></tr><tr><td>F1 Score_mean</td><td>▁</td></tr><tr><td>F1 Score_std</td><td>▁</td></tr><tr><td>Precision_mean</td><td>▁</td></tr><tr><td>Precision_std</td><td>▁</td></tr><tr><td>ROC-AUC_mean</td><td>▁</td></tr><tr><td>ROC-AUC_std</td><td>▁</td></tr><tr><td>Recall_mean</td><td>▁</td></tr><tr><td>Recall_std</td><td>▁</td></tr></table><br/></div><div class=\"wandb-col\"><h3>Run summary:</h3><br/><table class=\"wandb\"><tr><td>Accuracy_mean</td><td>0.82698</td></tr><tr><td>Accuracy_std</td><td>0.04496</td></tr><tr><td>F1 Score_mean</td><td>0.83054</td></tr><tr><td>F1 Score_std</td><td>0.04358</td></tr><tr><td>Precision_mean</td><td>0.84693</td></tr><tr><td>Precision_std</td><td>0.03698</td></tr><tr><td>ROC-AUC_mean</td><td>0.93969</td></tr><tr><td>ROC-AUC_std</td><td>0.01787</td></tr><tr><td>Recall_mean</td><td>0.82698</td></tr><tr><td>Recall_std</td><td>0.04496</td></tr></table><br/></div></div>"
      ],
      "text/plain": [
       "<IPython.core.display.HTML object>"
      ]
     },
     "metadata": {},
     "output_type": "display_data"
    },
    {
     "data": {
      "text/html": [
       " View run <strong style=\"color:#cdcd00\">RUSBoost_Ablated 1</strong> at: <a href='https://wandb.ai/lequn/AudioVisual_ML_ablation_study_v2/runs/0tctj3xo' target=\"_blank\">https://wandb.ai/lequn/AudioVisual_ML_ablation_study_v2/runs/0tctj3xo</a><br/> View job at <a href='https://wandb.ai/lequn/AudioVisual_ML_ablation_study_v2/jobs/QXJ0aWZhY3RDb2xsZWN0aW9uOjExMTQ1OTc4Ng==/version_details/v23' target=\"_blank\">https://wandb.ai/lequn/AudioVisual_ML_ablation_study_v2/jobs/QXJ0aWZhY3RDb2xsZWN0aW9uOjExMTQ1OTc4Ng==/version_details/v23</a><br/>Synced 6 W&B file(s), 0 media file(s), 0 artifact file(s) and 0 other file(s)"
      ],
      "text/plain": [
       "<IPython.core.display.HTML object>"
      ]
     },
     "metadata": {},
     "output_type": "display_data"
    },
    {
     "data": {
      "text/html": [
       "Find logs at: <code>./wandb/run-20240305_115050-0tctj3xo/logs</code>"
      ],
      "text/plain": [
       "<IPython.core.display.HTML object>"
      ]
     },
     "metadata": {},
     "output_type": "display_data"
    },
    {
     "name": "stdout",
     "output_type": "stream",
     "text": [
      "\tTraining model: Ada\n"
     ]
    },
    {
     "data": {
      "application/vnd.jupyter.widget-view+json": {
       "model_id": "cbc557a6f63b4a35887c1760e54b6749",
       "version_major": 2,
       "version_minor": 0
      },
      "text/plain": [
       "VBox(children=(Label(value='Waiting for wandb.init()...\\r'), FloatProgress(value=0.011113205311115355, max=1.0…"
      ]
     },
     "metadata": {},
     "output_type": "display_data"
    },
    {
     "data": {
      "text/html": [
       "wandb version 0.16.3 is available!  To upgrade, please run:\n",
       " $ pip install wandb --upgrade"
      ],
      "text/plain": [
       "<IPython.core.display.HTML object>"
      ]
     },
     "metadata": {},
     "output_type": "display_data"
    },
    {
     "data": {
      "text/html": [
       "Tracking run with wandb version 0.15.12"
      ],
      "text/plain": [
       "<IPython.core.display.HTML object>"
      ]
     },
     "metadata": {},
     "output_type": "display_data"
    },
    {
     "data": {
      "text/html": [
       "Run data is saved locally in <code>/home/chenlequn/GitHub/LDED-FusionNet/code/wandb/run-20240305_115103-lw8n5tf2</code>"
      ],
      "text/plain": [
       "<IPython.core.display.HTML object>"
      ]
     },
     "metadata": {},
     "output_type": "display_data"
    },
    {
     "data": {
      "text/html": [
       "Syncing run <strong><a href='https://wandb.ai/lequn/AudioVisual_ML_ablation_study_v2/runs/lw8n5tf2' target=\"_blank\">Ada_Ablated 1</a></strong> to <a href='https://wandb.ai/lequn/AudioVisual_ML_ablation_study_v2' target=\"_blank\">Weights & Biases</a> (<a href='https://wandb.me/run' target=\"_blank\">docs</a>)<br/>"
      ],
      "text/plain": [
       "<IPython.core.display.HTML object>"
      ]
     },
     "metadata": {},
     "output_type": "display_data"
    },
    {
     "data": {
      "text/html": [
       " View project at <a href='https://wandb.ai/lequn/AudioVisual_ML_ablation_study_v2' target=\"_blank\">https://wandb.ai/lequn/AudioVisual_ML_ablation_study_v2</a>"
      ],
      "text/plain": [
       "<IPython.core.display.HTML object>"
      ]
     },
     "metadata": {},
     "output_type": "display_data"
    },
    {
     "data": {
      "text/html": [
       " View run at <a href='https://wandb.ai/lequn/AudioVisual_ML_ablation_study_v2/runs/lw8n5tf2' target=\"_blank\">https://wandb.ai/lequn/AudioVisual_ML_ablation_study_v2/runs/lw8n5tf2</a>"
      ],
      "text/plain": [
       "<IPython.core.display.HTML object>"
      ]
     },
     "metadata": {},
     "output_type": "display_data"
    },
    {
     "name": "stdout",
     "output_type": "stream",
     "text": [
      "\t\tAccuracy: Mean = 0.8420991117344553, Std = 0.043291484787212696\n",
      "\t\tF1 Score: Mean = 0.843857607960628, Std = 0.04191400436367386\n",
      "\t\tPrecision: Mean = 0.856031273590528, Std = 0.03305889032571727\n",
      "\t\tRecall: Mean = 0.8420991117344553, Std = 0.043291484787212696\n",
      "\t\tROC-AUC: Mean = 0.9347136746267001, Std = 0.013096519829728068\n"
     ]
    },
    {
     "data": {
      "text/html": [
       "Waiting for W&B process to finish... <strong style=\"color:green\">(success).</strong>"
      ],
      "text/plain": [
       "<IPython.core.display.HTML object>"
      ]
     },
     "metadata": {},
     "output_type": "display_data"
    },
    {
     "data": {
      "text/html": [
       "<style>\n",
       "    table.wandb td:nth-child(1) { padding: 0 10px; text-align: left ; width: auto;} td:nth-child(2) {text-align: left ; width: 100%}\n",
       "    .wandb-row { display: flex; flex-direction: row; flex-wrap: wrap; justify-content: flex-start; width: 100% }\n",
       "    .wandb-col { display: flex; flex-direction: column; flex-basis: 100%; flex: 1; padding: 10px; }\n",
       "    </style>\n",
       "<div class=\"wandb-row\"><div class=\"wandb-col\"><h3>Run history:</h3><br/><table class=\"wandb\"><tr><td>Accuracy_mean</td><td>▁</td></tr><tr><td>Accuracy_std</td><td>▁</td></tr><tr><td>F1 Score_mean</td><td>▁</td></tr><tr><td>F1 Score_std</td><td>▁</td></tr><tr><td>Precision_mean</td><td>▁</td></tr><tr><td>Precision_std</td><td>▁</td></tr><tr><td>ROC-AUC_mean</td><td>▁</td></tr><tr><td>ROC-AUC_std</td><td>▁</td></tr><tr><td>Recall_mean</td><td>▁</td></tr><tr><td>Recall_std</td><td>▁</td></tr></table><br/></div><div class=\"wandb-col\"><h3>Run summary:</h3><br/><table class=\"wandb\"><tr><td>Accuracy_mean</td><td>0.8421</td></tr><tr><td>Accuracy_std</td><td>0.04329</td></tr><tr><td>F1 Score_mean</td><td>0.84386</td></tr><tr><td>F1 Score_std</td><td>0.04191</td></tr><tr><td>Precision_mean</td><td>0.85603</td></tr><tr><td>Precision_std</td><td>0.03306</td></tr><tr><td>ROC-AUC_mean</td><td>0.93471</td></tr><tr><td>ROC-AUC_std</td><td>0.0131</td></tr><tr><td>Recall_mean</td><td>0.8421</td></tr><tr><td>Recall_std</td><td>0.04329</td></tr></table><br/></div></div>"
      ],
      "text/plain": [
       "<IPython.core.display.HTML object>"
      ]
     },
     "metadata": {},
     "output_type": "display_data"
    },
    {
     "data": {
      "text/html": [
       " View run <strong style=\"color:#cdcd00\">Ada_Ablated 1</strong> at: <a href='https://wandb.ai/lequn/AudioVisual_ML_ablation_study_v2/runs/lw8n5tf2' target=\"_blank\">https://wandb.ai/lequn/AudioVisual_ML_ablation_study_v2/runs/lw8n5tf2</a><br/> View job at <a href='https://wandb.ai/lequn/AudioVisual_ML_ablation_study_v2/jobs/QXJ0aWZhY3RDb2xsZWN0aW9uOjExMTQ1OTc4Ng==/version_details/v23' target=\"_blank\">https://wandb.ai/lequn/AudioVisual_ML_ablation_study_v2/jobs/QXJ0aWZhY3RDb2xsZWN0aW9uOjExMTQ1OTc4Ng==/version_details/v23</a><br/>Synced 6 W&B file(s), 0 media file(s), 0 artifact file(s) and 0 other file(s)"
      ],
      "text/plain": [
       "<IPython.core.display.HTML object>"
      ]
     },
     "metadata": {},
     "output_type": "display_data"
    },
    {
     "data": {
      "text/html": [
       "Find logs at: <code>./wandb/run-20240305_115103-lw8n5tf2/logs</code>"
      ],
      "text/plain": [
       "<IPython.core.display.HTML object>"
      ]
     },
     "metadata": {},
     "output_type": "display_data"
    },
    {
     "name": "stdout",
     "output_type": "stream",
     "text": [
      "\tTraining model: NN\n"
     ]
    },
    {
     "data": {
      "application/vnd.jupyter.widget-view+json": {
       "model_id": "6de2bb44529a4502a262f0ad79ed2b25",
       "version_major": 2,
       "version_minor": 0
      },
      "text/plain": [
       "VBox(children=(Label(value='Waiting for wandb.init()...\\r'), FloatProgress(value=0.011112386255556177, max=1.0…"
      ]
     },
     "metadata": {},
     "output_type": "display_data"
    },
    {
     "data": {
      "text/html": [
       "wandb version 0.16.3 is available!  To upgrade, please run:\n",
       " $ pip install wandb --upgrade"
      ],
      "text/plain": [
       "<IPython.core.display.HTML object>"
      ]
     },
     "metadata": {},
     "output_type": "display_data"
    },
    {
     "data": {
      "text/html": [
       "Tracking run with wandb version 0.15.12"
      ],
      "text/plain": [
       "<IPython.core.display.HTML object>"
      ]
     },
     "metadata": {},
     "output_type": "display_data"
    },
    {
     "data": {
      "text/html": [
       "Run data is saved locally in <code>/home/chenlequn/GitHub/LDED-FusionNet/code/wandb/run-20240305_115116-fe9iziq8</code>"
      ],
      "text/plain": [
       "<IPython.core.display.HTML object>"
      ]
     },
     "metadata": {},
     "output_type": "display_data"
    },
    {
     "data": {
      "text/html": [
       "Syncing run <strong><a href='https://wandb.ai/lequn/AudioVisual_ML_ablation_study_v2/runs/fe9iziq8' target=\"_blank\">NN_Ablated 1</a></strong> to <a href='https://wandb.ai/lequn/AudioVisual_ML_ablation_study_v2' target=\"_blank\">Weights & Biases</a> (<a href='https://wandb.me/run' target=\"_blank\">docs</a>)<br/>"
      ],
      "text/plain": [
       "<IPython.core.display.HTML object>"
      ]
     },
     "metadata": {},
     "output_type": "display_data"
    },
    {
     "data": {
      "text/html": [
       " View project at <a href='https://wandb.ai/lequn/AudioVisual_ML_ablation_study_v2' target=\"_blank\">https://wandb.ai/lequn/AudioVisual_ML_ablation_study_v2</a>"
      ],
      "text/plain": [
       "<IPython.core.display.HTML object>"
      ]
     },
     "metadata": {},
     "output_type": "display_data"
    },
    {
     "data": {
      "text/html": [
       " View run at <a href='https://wandb.ai/lequn/AudioVisual_ML_ablation_study_v2/runs/fe9iziq8' target=\"_blank\">https://wandb.ai/lequn/AudioVisual_ML_ablation_study_v2/runs/fe9iziq8</a>"
      ],
      "text/plain": [
       "<IPython.core.display.HTML object>"
      ]
     },
     "metadata": {},
     "output_type": "display_data"
    },
    {
     "name": "stdout",
     "output_type": "stream",
     "text": [
      "\t\tAccuracy: Mean = 0.9242870500233753, Std = 0.037494068708444586\n",
      "\t\tF1 Score: Mean = 0.9248465153724439, Std = 0.03678079802913704\n",
      "\t\tPrecision: Mean = 0.9280601257607394, Std = 0.03532656823519986\n",
      "\t\tRecall: Mean = 0.9242870500233753, Std = 0.037494068708444586\n",
      "\t\tROC-AUC: Mean = 0.9868705662579009, Std = 0.009176839346313977\n"
     ]
    },
    {
     "data": {
      "text/html": [
       "Waiting for W&B process to finish... <strong style=\"color:green\">(success).</strong>"
      ],
      "text/plain": [
       "<IPython.core.display.HTML object>"
      ]
     },
     "metadata": {},
     "output_type": "display_data"
    },
    {
     "data": {
      "text/html": [
       "<style>\n",
       "    table.wandb td:nth-child(1) { padding: 0 10px; text-align: left ; width: auto;} td:nth-child(2) {text-align: left ; width: 100%}\n",
       "    .wandb-row { display: flex; flex-direction: row; flex-wrap: wrap; justify-content: flex-start; width: 100% }\n",
       "    .wandb-col { display: flex; flex-direction: column; flex-basis: 100%; flex: 1; padding: 10px; }\n",
       "    </style>\n",
       "<div class=\"wandb-row\"><div class=\"wandb-col\"><h3>Run history:</h3><br/><table class=\"wandb\"><tr><td>Accuracy_mean</td><td>▁</td></tr><tr><td>Accuracy_std</td><td>▁</td></tr><tr><td>F1 Score_mean</td><td>▁</td></tr><tr><td>F1 Score_std</td><td>▁</td></tr><tr><td>Precision_mean</td><td>▁</td></tr><tr><td>Precision_std</td><td>▁</td></tr><tr><td>ROC-AUC_mean</td><td>▁</td></tr><tr><td>ROC-AUC_std</td><td>▁</td></tr><tr><td>Recall_mean</td><td>▁</td></tr><tr><td>Recall_std</td><td>▁</td></tr></table><br/></div><div class=\"wandb-col\"><h3>Run summary:</h3><br/><table class=\"wandb\"><tr><td>Accuracy_mean</td><td>0.92429</td></tr><tr><td>Accuracy_std</td><td>0.03749</td></tr><tr><td>F1 Score_mean</td><td>0.92485</td></tr><tr><td>F1 Score_std</td><td>0.03678</td></tr><tr><td>Precision_mean</td><td>0.92806</td></tr><tr><td>Precision_std</td><td>0.03533</td></tr><tr><td>ROC-AUC_mean</td><td>0.98687</td></tr><tr><td>ROC-AUC_std</td><td>0.00918</td></tr><tr><td>Recall_mean</td><td>0.92429</td></tr><tr><td>Recall_std</td><td>0.03749</td></tr></table><br/></div></div>"
      ],
      "text/plain": [
       "<IPython.core.display.HTML object>"
      ]
     },
     "metadata": {},
     "output_type": "display_data"
    },
    {
     "data": {
      "text/html": [
       " View run <strong style=\"color:#cdcd00\">NN_Ablated 1</strong> at: <a href='https://wandb.ai/lequn/AudioVisual_ML_ablation_study_v2/runs/fe9iziq8' target=\"_blank\">https://wandb.ai/lequn/AudioVisual_ML_ablation_study_v2/runs/fe9iziq8</a><br/> View job at <a href='https://wandb.ai/lequn/AudioVisual_ML_ablation_study_v2/jobs/QXJ0aWZhY3RDb2xsZWN0aW9uOjExMTQ1OTc4Ng==/version_details/v23' target=\"_blank\">https://wandb.ai/lequn/AudioVisual_ML_ablation_study_v2/jobs/QXJ0aWZhY3RDb2xsZWN0aW9uOjExMTQ1OTc4Ng==/version_details/v23</a><br/>Synced 6 W&B file(s), 0 media file(s), 0 artifact file(s) and 0 other file(s)"
      ],
      "text/plain": [
       "<IPython.core.display.HTML object>"
      ]
     },
     "metadata": {},
     "output_type": "display_data"
    },
    {
     "data": {
      "text/html": [
       "Find logs at: <code>./wandb/run-20240305_115116-fe9iziq8/logs</code>"
      ],
      "text/plain": [
       "<IPython.core.display.HTML object>"
      ]
     },
     "metadata": {},
     "output_type": "display_data"
    },
    {
     "name": "stdout",
     "output_type": "stream",
     "text": [
      "\tTraining model: XGBoost\n"
     ]
    },
    {
     "data": {
      "application/vnd.jupyter.widget-view+json": {
       "model_id": "ccfc038b1c434793bcc15e27dbffc615",
       "version_major": 2,
       "version_minor": 0
      },
      "text/plain": [
       "VBox(children=(Label(value='Waiting for wandb.init()...\\r'), FloatProgress(value=0.01111329895555981, max=1.0)…"
      ]
     },
     "metadata": {},
     "output_type": "display_data"
    },
    {
     "data": {
      "text/html": [
       "wandb version 0.16.3 is available!  To upgrade, please run:\n",
       " $ pip install wandb --upgrade"
      ],
      "text/plain": [
       "<IPython.core.display.HTML object>"
      ]
     },
     "metadata": {},
     "output_type": "display_data"
    },
    {
     "data": {
      "text/html": [
       "Tracking run with wandb version 0.15.12"
      ],
      "text/plain": [
       "<IPython.core.display.HTML object>"
      ]
     },
     "metadata": {},
     "output_type": "display_data"
    },
    {
     "data": {
      "text/html": [
       "Run data is saved locally in <code>/home/chenlequn/GitHub/LDED-FusionNet/code/wandb/run-20240305_115128-o74l2sgb</code>"
      ],
      "text/plain": [
       "<IPython.core.display.HTML object>"
      ]
     },
     "metadata": {},
     "output_type": "display_data"
    },
    {
     "data": {
      "text/html": [
       "Syncing run <strong><a href='https://wandb.ai/lequn/AudioVisual_ML_ablation_study_v2/runs/o74l2sgb' target=\"_blank\">XGBoost_Ablated 1</a></strong> to <a href='https://wandb.ai/lequn/AudioVisual_ML_ablation_study_v2' target=\"_blank\">Weights & Biases</a> (<a href='https://wandb.me/run' target=\"_blank\">docs</a>)<br/>"
      ],
      "text/plain": [
       "<IPython.core.display.HTML object>"
      ]
     },
     "metadata": {},
     "output_type": "display_data"
    },
    {
     "data": {
      "text/html": [
       " View project at <a href='https://wandb.ai/lequn/AudioVisual_ML_ablation_study_v2' target=\"_blank\">https://wandb.ai/lequn/AudioVisual_ML_ablation_study_v2</a>"
      ],
      "text/plain": [
       "<IPython.core.display.HTML object>"
      ]
     },
     "metadata": {},
     "output_type": "display_data"
    },
    {
     "data": {
      "text/html": [
       " View run at <a href='https://wandb.ai/lequn/AudioVisual_ML_ablation_study_v2/runs/o74l2sgb' target=\"_blank\">https://wandb.ai/lequn/AudioVisual_ML_ablation_study_v2/runs/o74l2sgb</a>"
      ],
      "text/plain": [
       "<IPython.core.display.HTML object>"
      ]
     },
     "metadata": {},
     "output_type": "display_data"
    },
    {
     "name": "stdout",
     "output_type": "stream",
     "text": [
      "\t\tAccuracy: Mean = 0.9199625993454884, Std = 0.017389387710017728\n",
      "\t\tF1 Score: Mean = 0.9195041405933271, Std = 0.016706049718945605\n",
      "\t\tPrecision: Mean = 0.9225405542221562, Std = 0.016991193692168335\n",
      "\t\tRecall: Mean = 0.9199625993454884, Std = 0.017389387710017728\n",
      "\t\tROC-AUC: Mean = 0.9863168863825769, Std = 0.005528179160136851\n"
     ]
    },
    {
     "data": {
      "text/html": [
       "Waiting for W&B process to finish... <strong style=\"color:green\">(success).</strong>"
      ],
      "text/plain": [
       "<IPython.core.display.HTML object>"
      ]
     },
     "metadata": {},
     "output_type": "display_data"
    },
    {
     "data": {
      "text/html": [
       "<style>\n",
       "    table.wandb td:nth-child(1) { padding: 0 10px; text-align: left ; width: auto;} td:nth-child(2) {text-align: left ; width: 100%}\n",
       "    .wandb-row { display: flex; flex-direction: row; flex-wrap: wrap; justify-content: flex-start; width: 100% }\n",
       "    .wandb-col { display: flex; flex-direction: column; flex-basis: 100%; flex: 1; padding: 10px; }\n",
       "    </style>\n",
       "<div class=\"wandb-row\"><div class=\"wandb-col\"><h3>Run history:</h3><br/><table class=\"wandb\"><tr><td>Accuracy_mean</td><td>▁</td></tr><tr><td>Accuracy_std</td><td>▁</td></tr><tr><td>F1 Score_mean</td><td>▁</td></tr><tr><td>F1 Score_std</td><td>▁</td></tr><tr><td>Precision_mean</td><td>▁</td></tr><tr><td>Precision_std</td><td>▁</td></tr><tr><td>ROC-AUC_mean</td><td>▁</td></tr><tr><td>ROC-AUC_std</td><td>▁</td></tr><tr><td>Recall_mean</td><td>▁</td></tr><tr><td>Recall_std</td><td>▁</td></tr></table><br/></div><div class=\"wandb-col\"><h3>Run summary:</h3><br/><table class=\"wandb\"><tr><td>Accuracy_mean</td><td>0.91996</td></tr><tr><td>Accuracy_std</td><td>0.01739</td></tr><tr><td>F1 Score_mean</td><td>0.9195</td></tr><tr><td>F1 Score_std</td><td>0.01671</td></tr><tr><td>Precision_mean</td><td>0.92254</td></tr><tr><td>Precision_std</td><td>0.01699</td></tr><tr><td>ROC-AUC_mean</td><td>0.98632</td></tr><tr><td>ROC-AUC_std</td><td>0.00553</td></tr><tr><td>Recall_mean</td><td>0.91996</td></tr><tr><td>Recall_std</td><td>0.01739</td></tr></table><br/></div></div>"
      ],
      "text/plain": [
       "<IPython.core.display.HTML object>"
      ]
     },
     "metadata": {},
     "output_type": "display_data"
    },
    {
     "data": {
      "text/html": [
       " View run <strong style=\"color:#cdcd00\">XGBoost_Ablated 1</strong> at: <a href='https://wandb.ai/lequn/AudioVisual_ML_ablation_study_v2/runs/o74l2sgb' target=\"_blank\">https://wandb.ai/lequn/AudioVisual_ML_ablation_study_v2/runs/o74l2sgb</a><br/> View job at <a href='https://wandb.ai/lequn/AudioVisual_ML_ablation_study_v2/jobs/QXJ0aWZhY3RDb2xsZWN0aW9uOjExMTQ1OTc4Ng==/version_details/v23' target=\"_blank\">https://wandb.ai/lequn/AudioVisual_ML_ablation_study_v2/jobs/QXJ0aWZhY3RDb2xsZWN0aW9uOjExMTQ1OTc4Ng==/version_details/v23</a><br/>Synced 6 W&B file(s), 0 media file(s), 0 artifact file(s) and 0 other file(s)"
      ],
      "text/plain": [
       "<IPython.core.display.HTML object>"
      ]
     },
     "metadata": {},
     "output_type": "display_data"
    },
    {
     "data": {
      "text/html": [
       "Find logs at: <code>./wandb/run-20240305_115128-o74l2sgb/logs</code>"
      ],
      "text/plain": [
       "<IPython.core.display.HTML object>"
      ]
     },
     "metadata": {},
     "output_type": "display_data"
    },
    {
     "name": "stdout",
     "output_type": "stream",
     "text": [
      "\tTraining model: LightGBM\n"
     ]
    },
    {
     "data": {
      "application/vnd.jupyter.widget-view+json": {
       "model_id": "4852126c519f4e1998ee107c0c74bafc",
       "version_major": 2,
       "version_minor": 0
      },
      "text/plain": [
       "VBox(children=(Label(value='Waiting for wandb.init()...\\r'), FloatProgress(value=0.011112125122215528, max=1.0…"
      ]
     },
     "metadata": {},
     "output_type": "display_data"
    },
    {
     "data": {
      "text/html": [
       "wandb version 0.16.3 is available!  To upgrade, please run:\n",
       " $ pip install wandb --upgrade"
      ],
      "text/plain": [
       "<IPython.core.display.HTML object>"
      ]
     },
     "metadata": {},
     "output_type": "display_data"
    },
    {
     "data": {
      "text/html": [
       "Tracking run with wandb version 0.15.12"
      ],
      "text/plain": [
       "<IPython.core.display.HTML object>"
      ]
     },
     "metadata": {},
     "output_type": "display_data"
    },
    {
     "data": {
      "text/html": [
       "Run data is saved locally in <code>/home/chenlequn/GitHub/LDED-FusionNet/code/wandb/run-20240305_115140-mqhh3qdj</code>"
      ],
      "text/plain": [
       "<IPython.core.display.HTML object>"
      ]
     },
     "metadata": {},
     "output_type": "display_data"
    },
    {
     "data": {
      "text/html": [
       "Syncing run <strong><a href='https://wandb.ai/lequn/AudioVisual_ML_ablation_study_v2/runs/mqhh3qdj' target=\"_blank\">LightGBM_Ablated 1</a></strong> to <a href='https://wandb.ai/lequn/AudioVisual_ML_ablation_study_v2' target=\"_blank\">Weights & Biases</a> (<a href='https://wandb.me/run' target=\"_blank\">docs</a>)<br/>"
      ],
      "text/plain": [
       "<IPython.core.display.HTML object>"
      ]
     },
     "metadata": {},
     "output_type": "display_data"
    },
    {
     "data": {
      "text/html": [
       " View project at <a href='https://wandb.ai/lequn/AudioVisual_ML_ablation_study_v2' target=\"_blank\">https://wandb.ai/lequn/AudioVisual_ML_ablation_study_v2</a>"
      ],
      "text/plain": [
       "<IPython.core.display.HTML object>"
      ]
     },
     "metadata": {},
     "output_type": "display_data"
    },
    {
     "data": {
      "text/html": [
       " View run at <a href='https://wandb.ai/lequn/AudioVisual_ML_ablation_study_v2/runs/mqhh3qdj' target=\"_blank\">https://wandb.ai/lequn/AudioVisual_ML_ablation_study_v2/runs/mqhh3qdj</a>"
      ],
      "text/plain": [
       "<IPython.core.display.HTML object>"
      ]
     },
     "metadata": {},
     "output_type": "display_data"
    },
    {
     "name": "stdout",
     "output_type": "stream",
     "text": [
      "\t\tAccuracy: Mean = 0.9156147732585319, Std = 0.023080064999304633\n",
      "\t\tF1 Score: Mean = 0.9153085870326537, Std = 0.022467538120576853\n",
      "\t\tPrecision: Mean = 0.9174657500574032, Std = 0.023356807991051505\n",
      "\t\tRecall: Mean = 0.9156147732585319, Std = 0.023080064999304633\n",
      "\t\tROC-AUC: Mean = 0.9876381677674898, Std = 0.004432124432249788\n"
     ]
    },
    {
     "data": {
      "text/html": [
       "Waiting for W&B process to finish... <strong style=\"color:green\">(success).</strong>"
      ],
      "text/plain": [
       "<IPython.core.display.HTML object>"
      ]
     },
     "metadata": {},
     "output_type": "display_data"
    },
    {
     "data": {
      "text/html": [
       "<style>\n",
       "    table.wandb td:nth-child(1) { padding: 0 10px; text-align: left ; width: auto;} td:nth-child(2) {text-align: left ; width: 100%}\n",
       "    .wandb-row { display: flex; flex-direction: row; flex-wrap: wrap; justify-content: flex-start; width: 100% }\n",
       "    .wandb-col { display: flex; flex-direction: column; flex-basis: 100%; flex: 1; padding: 10px; }\n",
       "    </style>\n",
       "<div class=\"wandb-row\"><div class=\"wandb-col\"><h3>Run history:</h3><br/><table class=\"wandb\"><tr><td>Accuracy_mean</td><td>▁</td></tr><tr><td>Accuracy_std</td><td>▁</td></tr><tr><td>F1 Score_mean</td><td>▁</td></tr><tr><td>F1 Score_std</td><td>▁</td></tr><tr><td>Precision_mean</td><td>▁</td></tr><tr><td>Precision_std</td><td>▁</td></tr><tr><td>ROC-AUC_mean</td><td>▁</td></tr><tr><td>ROC-AUC_std</td><td>▁</td></tr><tr><td>Recall_mean</td><td>▁</td></tr><tr><td>Recall_std</td><td>▁</td></tr></table><br/></div><div class=\"wandb-col\"><h3>Run summary:</h3><br/><table class=\"wandb\"><tr><td>Accuracy_mean</td><td>0.91561</td></tr><tr><td>Accuracy_std</td><td>0.02308</td></tr><tr><td>F1 Score_mean</td><td>0.91531</td></tr><tr><td>F1 Score_std</td><td>0.02247</td></tr><tr><td>Precision_mean</td><td>0.91747</td></tr><tr><td>Precision_std</td><td>0.02336</td></tr><tr><td>ROC-AUC_mean</td><td>0.98764</td></tr><tr><td>ROC-AUC_std</td><td>0.00443</td></tr><tr><td>Recall_mean</td><td>0.91561</td></tr><tr><td>Recall_std</td><td>0.02308</td></tr></table><br/></div></div>"
      ],
      "text/plain": [
       "<IPython.core.display.HTML object>"
      ]
     },
     "metadata": {},
     "output_type": "display_data"
    },
    {
     "data": {
      "text/html": [
       " View run <strong style=\"color:#cdcd00\">LightGBM_Ablated 1</strong> at: <a href='https://wandb.ai/lequn/AudioVisual_ML_ablation_study_v2/runs/mqhh3qdj' target=\"_blank\">https://wandb.ai/lequn/AudioVisual_ML_ablation_study_v2/runs/mqhh3qdj</a><br/> View job at <a href='https://wandb.ai/lequn/AudioVisual_ML_ablation_study_v2/jobs/QXJ0aWZhY3RDb2xsZWN0aW9uOjExMTQ1OTc4Ng==/version_details/v23' target=\"_blank\">https://wandb.ai/lequn/AudioVisual_ML_ablation_study_v2/jobs/QXJ0aWZhY3RDb2xsZWN0aW9uOjExMTQ1OTc4Ng==/version_details/v23</a><br/>Synced 6 W&B file(s), 0 media file(s), 0 artifact file(s) and 0 other file(s)"
      ],
      "text/plain": [
       "<IPython.core.display.HTML object>"
      ]
     },
     "metadata": {},
     "output_type": "display_data"
    },
    {
     "data": {
      "text/html": [
       "Find logs at: <code>./wandb/run-20240305_115140-mqhh3qdj/logs</code>"
      ],
      "text/plain": [
       "<IPython.core.display.HTML object>"
      ]
     },
     "metadata": {},
     "output_type": "display_data"
    },
    {
     "name": "stdout",
     "output_type": "stream",
     "text": [
      "\tTraining model: SVM\n"
     ]
    },
    {
     "data": {
      "application/vnd.jupyter.widget-view+json": {
       "model_id": "4f147e21a4254b9b8c1eba16783d60f8",
       "version_major": 2,
       "version_minor": 0
      },
      "text/plain": [
       "VBox(children=(Label(value='Waiting for wandb.init()...\\r'), FloatProgress(value=0.011112274900006014, max=1.0…"
      ]
     },
     "metadata": {},
     "output_type": "display_data"
    },
    {
     "data": {
      "text/html": [
       "wandb version 0.16.3 is available!  To upgrade, please run:\n",
       " $ pip install wandb --upgrade"
      ],
      "text/plain": [
       "<IPython.core.display.HTML object>"
      ]
     },
     "metadata": {},
     "output_type": "display_data"
    },
    {
     "data": {
      "text/html": [
       "Tracking run with wandb version 0.15.12"
      ],
      "text/plain": [
       "<IPython.core.display.HTML object>"
      ]
     },
     "metadata": {},
     "output_type": "display_data"
    },
    {
     "data": {
      "text/html": [
       "Run data is saved locally in <code>/home/chenlequn/GitHub/LDED-FusionNet/code/wandb/run-20240305_115151-gtouillv</code>"
      ],
      "text/plain": [
       "<IPython.core.display.HTML object>"
      ]
     },
     "metadata": {},
     "output_type": "display_data"
    },
    {
     "data": {
      "text/html": [
       "Syncing run <strong><a href='https://wandb.ai/lequn/AudioVisual_ML_ablation_study_v2/runs/gtouillv' target=\"_blank\">SVM_Ablated 1</a></strong> to <a href='https://wandb.ai/lequn/AudioVisual_ML_ablation_study_v2' target=\"_blank\">Weights & Biases</a> (<a href='https://wandb.me/run' target=\"_blank\">docs</a>)<br/>"
      ],
      "text/plain": [
       "<IPython.core.display.HTML object>"
      ]
     },
     "metadata": {},
     "output_type": "display_data"
    },
    {
     "data": {
      "text/html": [
       " View project at <a href='https://wandb.ai/lequn/AudioVisual_ML_ablation_study_v2' target=\"_blank\">https://wandb.ai/lequn/AudioVisual_ML_ablation_study_v2</a>"
      ],
      "text/plain": [
       "<IPython.core.display.HTML object>"
      ]
     },
     "metadata": {},
     "output_type": "display_data"
    },
    {
     "data": {
      "text/html": [
       " View run at <a href='https://wandb.ai/lequn/AudioVisual_ML_ablation_study_v2/runs/gtouillv' target=\"_blank\">https://wandb.ai/lequn/AudioVisual_ML_ablation_study_v2/runs/gtouillv</a>"
      ],
      "text/plain": [
       "<IPython.core.display.HTML object>"
      ]
     },
     "metadata": {},
     "output_type": "display_data"
    },
    {
     "name": "stdout",
     "output_type": "stream",
     "text": [
      "\t\tAccuracy: Mean = 0.8918186068256194, Std = 0.0348991491209611\n",
      "\t\tF1 Score: Mean = 0.8910779576144776, Std = 0.034568669571857565\n",
      "\t\tPrecision: Mean = 0.8948793236654474, Std = 0.03615933906691347\n",
      "\t\tRecall: Mean = 0.8918186068256194, Std = 0.0348991491209611\n",
      "\t\tROC-AUC: Mean = 0.9766407571568461, Std = 0.008286271660978499\n"
     ]
    },
    {
     "data": {
      "text/html": [
       "Waiting for W&B process to finish... <strong style=\"color:green\">(success).</strong>"
      ],
      "text/plain": [
       "<IPython.core.display.HTML object>"
      ]
     },
     "metadata": {},
     "output_type": "display_data"
    },
    {
     "data": {
      "text/html": [
       "<style>\n",
       "    table.wandb td:nth-child(1) { padding: 0 10px; text-align: left ; width: auto;} td:nth-child(2) {text-align: left ; width: 100%}\n",
       "    .wandb-row { display: flex; flex-direction: row; flex-wrap: wrap; justify-content: flex-start; width: 100% }\n",
       "    .wandb-col { display: flex; flex-direction: column; flex-basis: 100%; flex: 1; padding: 10px; }\n",
       "    </style>\n",
       "<div class=\"wandb-row\"><div class=\"wandb-col\"><h3>Run history:</h3><br/><table class=\"wandb\"><tr><td>Accuracy_mean</td><td>▁</td></tr><tr><td>Accuracy_std</td><td>▁</td></tr><tr><td>F1 Score_mean</td><td>▁</td></tr><tr><td>F1 Score_std</td><td>▁</td></tr><tr><td>Precision_mean</td><td>▁</td></tr><tr><td>Precision_std</td><td>▁</td></tr><tr><td>ROC-AUC_mean</td><td>▁</td></tr><tr><td>ROC-AUC_std</td><td>▁</td></tr><tr><td>Recall_mean</td><td>▁</td></tr><tr><td>Recall_std</td><td>▁</td></tr></table><br/></div><div class=\"wandb-col\"><h3>Run summary:</h3><br/><table class=\"wandb\"><tr><td>Accuracy_mean</td><td>0.89182</td></tr><tr><td>Accuracy_std</td><td>0.0349</td></tr><tr><td>F1 Score_mean</td><td>0.89108</td></tr><tr><td>F1 Score_std</td><td>0.03457</td></tr><tr><td>Precision_mean</td><td>0.89488</td></tr><tr><td>Precision_std</td><td>0.03616</td></tr><tr><td>ROC-AUC_mean</td><td>0.97664</td></tr><tr><td>ROC-AUC_std</td><td>0.00829</td></tr><tr><td>Recall_mean</td><td>0.89182</td></tr><tr><td>Recall_std</td><td>0.0349</td></tr></table><br/></div></div>"
      ],
      "text/plain": [
       "<IPython.core.display.HTML object>"
      ]
     },
     "metadata": {},
     "output_type": "display_data"
    },
    {
     "data": {
      "text/html": [
       " View run <strong style=\"color:#cdcd00\">SVM_Ablated 1</strong> at: <a href='https://wandb.ai/lequn/AudioVisual_ML_ablation_study_v2/runs/gtouillv' target=\"_blank\">https://wandb.ai/lequn/AudioVisual_ML_ablation_study_v2/runs/gtouillv</a><br/> View job at <a href='https://wandb.ai/lequn/AudioVisual_ML_ablation_study_v2/jobs/QXJ0aWZhY3RDb2xsZWN0aW9uOjExMTQ1OTc4Ng==/version_details/v23' target=\"_blank\">https://wandb.ai/lequn/AudioVisual_ML_ablation_study_v2/jobs/QXJ0aWZhY3RDb2xsZWN0aW9uOjExMTQ1OTc4Ng==/version_details/v23</a><br/>Synced 6 W&B file(s), 0 media file(s), 0 artifact file(s) and 0 other file(s)"
      ],
      "text/plain": [
       "<IPython.core.display.HTML object>"
      ]
     },
     "metadata": {},
     "output_type": "display_data"
    },
    {
     "data": {
      "text/html": [
       "Find logs at: <code>./wandb/run-20240305_115151-gtouillv/logs</code>"
      ],
      "text/plain": [
       "<IPython.core.display.HTML object>"
      ]
     },
     "metadata": {},
     "output_type": "display_data"
    },
    {
     "name": "stdout",
     "output_type": "stream",
     "text": [
      "\tTraining model: HistGB\n"
     ]
    },
    {
     "data": {
      "application/vnd.jupyter.widget-view+json": {
       "model_id": "87f72cb6016b4242975be2959f95c1d0",
       "version_major": 2,
       "version_minor": 0
      },
      "text/plain": [
       "VBox(children=(Label(value='Waiting for wandb.init()...\\r'), FloatProgress(value=0.01111245634444155, max=1.0)…"
      ]
     },
     "metadata": {},
     "output_type": "display_data"
    },
    {
     "data": {
      "text/html": [
       "wandb version 0.16.3 is available!  To upgrade, please run:\n",
       " $ pip install wandb --upgrade"
      ],
      "text/plain": [
       "<IPython.core.display.HTML object>"
      ]
     },
     "metadata": {},
     "output_type": "display_data"
    },
    {
     "data": {
      "text/html": [
       "Tracking run with wandb version 0.15.12"
      ],
      "text/plain": [
       "<IPython.core.display.HTML object>"
      ]
     },
     "metadata": {},
     "output_type": "display_data"
    },
    {
     "data": {
      "text/html": [
       "Run data is saved locally in <code>/home/chenlequn/GitHub/LDED-FusionNet/code/wandb/run-20240305_115202-24dhha00</code>"
      ],
      "text/plain": [
       "<IPython.core.display.HTML object>"
      ]
     },
     "metadata": {},
     "output_type": "display_data"
    },
    {
     "data": {
      "text/html": [
       "Syncing run <strong><a href='https://wandb.ai/lequn/AudioVisual_ML_ablation_study_v2/runs/24dhha00' target=\"_blank\">HistGB_Ablated 1</a></strong> to <a href='https://wandb.ai/lequn/AudioVisual_ML_ablation_study_v2' target=\"_blank\">Weights & Biases</a> (<a href='https://wandb.me/run' target=\"_blank\">docs</a>)<br/>"
      ],
      "text/plain": [
       "<IPython.core.display.HTML object>"
      ]
     },
     "metadata": {},
     "output_type": "display_data"
    },
    {
     "data": {
      "text/html": [
       " View project at <a href='https://wandb.ai/lequn/AudioVisual_ML_ablation_study_v2' target=\"_blank\">https://wandb.ai/lequn/AudioVisual_ML_ablation_study_v2</a>"
      ],
      "text/plain": [
       "<IPython.core.display.HTML object>"
      ]
     },
     "metadata": {},
     "output_type": "display_data"
    },
    {
     "data": {
      "text/html": [
       " View run at <a href='https://wandb.ai/lequn/AudioVisual_ML_ablation_study_v2/runs/24dhha00' target=\"_blank\">https://wandb.ai/lequn/AudioVisual_ML_ablation_study_v2/runs/24dhha00</a>"
      ],
      "text/plain": [
       "<IPython.core.display.HTML object>"
      ]
     },
     "metadata": {},
     "output_type": "display_data"
    },
    {
     "name": "stdout",
     "output_type": "stream",
     "text": [
      "\t\tAccuracy: Mean = 0.9177653108929406, Std = 0.02122837230912141\n",
      "\t\tF1 Score: Mean = 0.917351275857297, Std = 0.020391727567557676\n",
      "\t\tPrecision: Mean = 0.9202993667792793, Std = 0.021168112829746965\n",
      "\t\tRecall: Mean = 0.9177653108929406, Std = 0.02122837230912141\n",
      "\t\tROC-AUC: Mean = 0.9860826830188936, Std = 0.004170727316100153\n"
     ]
    },
    {
     "data": {
      "text/html": [
       "Waiting for W&B process to finish... <strong style=\"color:green\">(success).</strong>"
      ],
      "text/plain": [
       "<IPython.core.display.HTML object>"
      ]
     },
     "metadata": {},
     "output_type": "display_data"
    },
    {
     "data": {
      "text/html": [
       "<style>\n",
       "    table.wandb td:nth-child(1) { padding: 0 10px; text-align: left ; width: auto;} td:nth-child(2) {text-align: left ; width: 100%}\n",
       "    .wandb-row { display: flex; flex-direction: row; flex-wrap: wrap; justify-content: flex-start; width: 100% }\n",
       "    .wandb-col { display: flex; flex-direction: column; flex-basis: 100%; flex: 1; padding: 10px; }\n",
       "    </style>\n",
       "<div class=\"wandb-row\"><div class=\"wandb-col\"><h3>Run history:</h3><br/><table class=\"wandb\"><tr><td>Accuracy_mean</td><td>▁</td></tr><tr><td>Accuracy_std</td><td>▁</td></tr><tr><td>F1 Score_mean</td><td>▁</td></tr><tr><td>F1 Score_std</td><td>▁</td></tr><tr><td>Precision_mean</td><td>▁</td></tr><tr><td>Precision_std</td><td>▁</td></tr><tr><td>ROC-AUC_mean</td><td>▁</td></tr><tr><td>ROC-AUC_std</td><td>▁</td></tr><tr><td>Recall_mean</td><td>▁</td></tr><tr><td>Recall_std</td><td>▁</td></tr></table><br/></div><div class=\"wandb-col\"><h3>Run summary:</h3><br/><table class=\"wandb\"><tr><td>Accuracy_mean</td><td>0.91777</td></tr><tr><td>Accuracy_std</td><td>0.02123</td></tr><tr><td>F1 Score_mean</td><td>0.91735</td></tr><tr><td>F1 Score_std</td><td>0.02039</td></tr><tr><td>Precision_mean</td><td>0.9203</td></tr><tr><td>Precision_std</td><td>0.02117</td></tr><tr><td>ROC-AUC_mean</td><td>0.98608</td></tr><tr><td>ROC-AUC_std</td><td>0.00417</td></tr><tr><td>Recall_mean</td><td>0.91777</td></tr><tr><td>Recall_std</td><td>0.02123</td></tr></table><br/></div></div>"
      ],
      "text/plain": [
       "<IPython.core.display.HTML object>"
      ]
     },
     "metadata": {},
     "output_type": "display_data"
    },
    {
     "data": {
      "text/html": [
       " View run <strong style=\"color:#cdcd00\">HistGB_Ablated 1</strong> at: <a href='https://wandb.ai/lequn/AudioVisual_ML_ablation_study_v2/runs/24dhha00' target=\"_blank\">https://wandb.ai/lequn/AudioVisual_ML_ablation_study_v2/runs/24dhha00</a><br/> View job at <a href='https://wandb.ai/lequn/AudioVisual_ML_ablation_study_v2/jobs/QXJ0aWZhY3RDb2xsZWN0aW9uOjExMTQ1OTc4Ng==/version_details/v22' target=\"_blank\">https://wandb.ai/lequn/AudioVisual_ML_ablation_study_v2/jobs/QXJ0aWZhY3RDb2xsZWN0aW9uOjExMTQ1OTc4Ng==/version_details/v22</a><br/>Synced 6 W&B file(s), 0 media file(s), 0 artifact file(s) and 0 other file(s)"
      ],
      "text/plain": [
       "<IPython.core.display.HTML object>"
      ]
     },
     "metadata": {},
     "output_type": "display_data"
    },
    {
     "data": {
      "text/html": [
       "Find logs at: <code>./wandb/run-20240305_115202-24dhha00/logs</code>"
      ],
      "text/plain": [
       "<IPython.core.display.HTML object>"
      ]
     },
     "metadata": {},
     "output_type": "display_data"
    },
    {
     "name": "stdout",
     "output_type": "stream",
     "text": [
      "Processing dataset: Ablated 2\n",
      "\tTraining model: KNN\n"
     ]
    },
    {
     "data": {
      "application/vnd.jupyter.widget-view+json": {
       "model_id": "48b88ce65ddc46469799038c85f5e282",
       "version_major": 2,
       "version_minor": 0
      },
      "text/plain": [
       "VBox(children=(Label(value='Waiting for wandb.init()...\\r'), FloatProgress(value=0.011112274900006014, max=1.0…"
      ]
     },
     "metadata": {},
     "output_type": "display_data"
    },
    {
     "data": {
      "text/html": [
       "wandb version 0.16.3 is available!  To upgrade, please run:\n",
       " $ pip install wandb --upgrade"
      ],
      "text/plain": [
       "<IPython.core.display.HTML object>"
      ]
     },
     "metadata": {},
     "output_type": "display_data"
    },
    {
     "data": {
      "text/html": [
       "Tracking run with wandb version 0.15.12"
      ],
      "text/plain": [
       "<IPython.core.display.HTML object>"
      ]
     },
     "metadata": {},
     "output_type": "display_data"
    },
    {
     "data": {
      "text/html": [
       "Run data is saved locally in <code>/home/chenlequn/GitHub/LDED-FusionNet/code/wandb/run-20240305_115215-ab38o52v</code>"
      ],
      "text/plain": [
       "<IPython.core.display.HTML object>"
      ]
     },
     "metadata": {},
     "output_type": "display_data"
    },
    {
     "data": {
      "text/html": [
       "Syncing run <strong><a href='https://wandb.ai/lequn/AudioVisual_ML_ablation_study_v2/runs/ab38o52v' target=\"_blank\">KNN_Ablated 2</a></strong> to <a href='https://wandb.ai/lequn/AudioVisual_ML_ablation_study_v2' target=\"_blank\">Weights & Biases</a> (<a href='https://wandb.me/run' target=\"_blank\">docs</a>)<br/>"
      ],
      "text/plain": [
       "<IPython.core.display.HTML object>"
      ]
     },
     "metadata": {},
     "output_type": "display_data"
    },
    {
     "data": {
      "text/html": [
       " View project at <a href='https://wandb.ai/lequn/AudioVisual_ML_ablation_study_v2' target=\"_blank\">https://wandb.ai/lequn/AudioVisual_ML_ablation_study_v2</a>"
      ],
      "text/plain": [
       "<IPython.core.display.HTML object>"
      ]
     },
     "metadata": {},
     "output_type": "display_data"
    },
    {
     "data": {
      "text/html": [
       " View run at <a href='https://wandb.ai/lequn/AudioVisual_ML_ablation_study_v2/runs/ab38o52v' target=\"_blank\">https://wandb.ai/lequn/AudioVisual_ML_ablation_study_v2/runs/ab38o52v</a>"
      ],
      "text/plain": [
       "<IPython.core.display.HTML object>"
      ]
     },
     "metadata": {},
     "output_type": "display_data"
    },
    {
     "name": "stdout",
     "output_type": "stream",
     "text": [
      "\t\tAccuracy: Mean = 0.8550490883590462, Std = 0.02669410308545048\n",
      "\t\tF1 Score: Mean = 0.8562038914199036, Std = 0.02583503161326923\n",
      "\t\tPrecision: Mean = 0.8615829017219887, Std = 0.027101581815487986\n",
      "\t\tRecall: Mean = 0.8550490883590462, Std = 0.02669410308545048\n",
      "\t\tROC-AUC: Mean = 0.9564344930576375, Std = 0.013000163569874709\n"
     ]
    },
    {
     "data": {
      "text/html": [
       "Waiting for W&B process to finish... <strong style=\"color:green\">(success).</strong>"
      ],
      "text/plain": [
       "<IPython.core.display.HTML object>"
      ]
     },
     "metadata": {},
     "output_type": "display_data"
    },
    {
     "data": {
      "text/html": [
       "<style>\n",
       "    table.wandb td:nth-child(1) { padding: 0 10px; text-align: left ; width: auto;} td:nth-child(2) {text-align: left ; width: 100%}\n",
       "    .wandb-row { display: flex; flex-direction: row; flex-wrap: wrap; justify-content: flex-start; width: 100% }\n",
       "    .wandb-col { display: flex; flex-direction: column; flex-basis: 100%; flex: 1; padding: 10px; }\n",
       "    </style>\n",
       "<div class=\"wandb-row\"><div class=\"wandb-col\"><h3>Run history:</h3><br/><table class=\"wandb\"><tr><td>Accuracy_mean</td><td>▁</td></tr><tr><td>Accuracy_std</td><td>▁</td></tr><tr><td>F1 Score_mean</td><td>▁</td></tr><tr><td>F1 Score_std</td><td>▁</td></tr><tr><td>Precision_mean</td><td>▁</td></tr><tr><td>Precision_std</td><td>▁</td></tr><tr><td>ROC-AUC_mean</td><td>▁</td></tr><tr><td>ROC-AUC_std</td><td>▁</td></tr><tr><td>Recall_mean</td><td>▁</td></tr><tr><td>Recall_std</td><td>▁</td></tr></table><br/></div><div class=\"wandb-col\"><h3>Run summary:</h3><br/><table class=\"wandb\"><tr><td>Accuracy_mean</td><td>0.85505</td></tr><tr><td>Accuracy_std</td><td>0.02669</td></tr><tr><td>F1 Score_mean</td><td>0.8562</td></tr><tr><td>F1 Score_std</td><td>0.02584</td></tr><tr><td>Precision_mean</td><td>0.86158</td></tr><tr><td>Precision_std</td><td>0.0271</td></tr><tr><td>ROC-AUC_mean</td><td>0.95643</td></tr><tr><td>ROC-AUC_std</td><td>0.013</td></tr><tr><td>Recall_mean</td><td>0.85505</td></tr><tr><td>Recall_std</td><td>0.02669</td></tr></table><br/></div></div>"
      ],
      "text/plain": [
       "<IPython.core.display.HTML object>"
      ]
     },
     "metadata": {},
     "output_type": "display_data"
    },
    {
     "data": {
      "text/html": [
       " View run <strong style=\"color:#cdcd00\">KNN_Ablated 2</strong> at: <a href='https://wandb.ai/lequn/AudioVisual_ML_ablation_study_v2/runs/ab38o52v' target=\"_blank\">https://wandb.ai/lequn/AudioVisual_ML_ablation_study_v2/runs/ab38o52v</a><br/> View job at <a href='https://wandb.ai/lequn/AudioVisual_ML_ablation_study_v2/jobs/QXJ0aWZhY3RDb2xsZWN0aW9uOjExMTQ1OTc4Ng==/version_details/v23' target=\"_blank\">https://wandb.ai/lequn/AudioVisual_ML_ablation_study_v2/jobs/QXJ0aWZhY3RDb2xsZWN0aW9uOjExMTQ1OTc4Ng==/version_details/v23</a><br/>Synced 6 W&B file(s), 0 media file(s), 0 artifact file(s) and 0 other file(s)"
      ],
      "text/plain": [
       "<IPython.core.display.HTML object>"
      ]
     },
     "metadata": {},
     "output_type": "display_data"
    },
    {
     "data": {
      "text/html": [
       "Find logs at: <code>./wandb/run-20240305_115215-ab38o52v/logs</code>"
      ],
      "text/plain": [
       "<IPython.core.display.HTML object>"
      ]
     },
     "metadata": {},
     "output_type": "display_data"
    },
    {
     "name": "stdout",
     "output_type": "stream",
     "text": [
      "\tTraining model: DT\n"
     ]
    },
    {
     "data": {
      "application/vnd.jupyter.widget-view+json": {
       "model_id": "bce62a5bef884075913d52eee822f679",
       "version_major": 2,
       "version_minor": 0
      },
      "text/plain": [
       "VBox(children=(Label(value='Waiting for wandb.init()...\\r'), FloatProgress(value=0.011113328288886098, max=1.0…"
      ]
     },
     "metadata": {},
     "output_type": "display_data"
    },
    {
     "data": {
      "text/html": [
       "wandb version 0.16.3 is available!  To upgrade, please run:\n",
       " $ pip install wandb --upgrade"
      ],
      "text/plain": [
       "<IPython.core.display.HTML object>"
      ]
     },
     "metadata": {},
     "output_type": "display_data"
    },
    {
     "data": {
      "text/html": [
       "Tracking run with wandb version 0.15.12"
      ],
      "text/plain": [
       "<IPython.core.display.HTML object>"
      ]
     },
     "metadata": {},
     "output_type": "display_data"
    },
    {
     "data": {
      "text/html": [
       "Run data is saved locally in <code>/home/chenlequn/GitHub/LDED-FusionNet/code/wandb/run-20240305_115227-l0xc0oxz</code>"
      ],
      "text/plain": [
       "<IPython.core.display.HTML object>"
      ]
     },
     "metadata": {},
     "output_type": "display_data"
    },
    {
     "data": {
      "text/html": [
       "Syncing run <strong><a href='https://wandb.ai/lequn/AudioVisual_ML_ablation_study_v2/runs/l0xc0oxz' target=\"_blank\">DT_Ablated 2</a></strong> to <a href='https://wandb.ai/lequn/AudioVisual_ML_ablation_study_v2' target=\"_blank\">Weights & Biases</a> (<a href='https://wandb.me/run' target=\"_blank\">docs</a>)<br/>"
      ],
      "text/plain": [
       "<IPython.core.display.HTML object>"
      ]
     },
     "metadata": {},
     "output_type": "display_data"
    },
    {
     "data": {
      "text/html": [
       " View project at <a href='https://wandb.ai/lequn/AudioVisual_ML_ablation_study_v2' target=\"_blank\">https://wandb.ai/lequn/AudioVisual_ML_ablation_study_v2</a>"
      ],
      "text/plain": [
       "<IPython.core.display.HTML object>"
      ]
     },
     "metadata": {},
     "output_type": "display_data"
    },
    {
     "data": {
      "text/html": [
       " View run at <a href='https://wandb.ai/lequn/AudioVisual_ML_ablation_study_v2/runs/l0xc0oxz' target=\"_blank\">https://wandb.ai/lequn/AudioVisual_ML_ablation_study_v2/runs/l0xc0oxz</a>"
      ],
      "text/plain": [
       "<IPython.core.display.HTML object>"
      ]
     },
     "metadata": {},
     "output_type": "display_data"
    },
    {
     "name": "stdout",
     "output_type": "stream",
     "text": [
      "\t\tAccuracy: Mean = 0.8376811594202899, Std = 0.05089086930747852\n",
      "\t\tF1 Score: Mean = 0.8384916796163768, Std = 0.052318580503465106\n",
      "\t\tPrecision: Mean = 0.8435031359354207, Std = 0.054143333487856625\n",
      "\t\tRecall: Mean = 0.8376811594202899, Std = 0.05089086930747852\n",
      "\t\tROC-AUC: Mean = 0.9076481991403462, Std = 0.020886278745954154\n"
     ]
    },
    {
     "data": {
      "text/html": [
       "Waiting for W&B process to finish... <strong style=\"color:green\">(success).</strong>"
      ],
      "text/plain": [
       "<IPython.core.display.HTML object>"
      ]
     },
     "metadata": {},
     "output_type": "display_data"
    },
    {
     "data": {
      "text/html": [
       "<style>\n",
       "    table.wandb td:nth-child(1) { padding: 0 10px; text-align: left ; width: auto;} td:nth-child(2) {text-align: left ; width: 100%}\n",
       "    .wandb-row { display: flex; flex-direction: row; flex-wrap: wrap; justify-content: flex-start; width: 100% }\n",
       "    .wandb-col { display: flex; flex-direction: column; flex-basis: 100%; flex: 1; padding: 10px; }\n",
       "    </style>\n",
       "<div class=\"wandb-row\"><div class=\"wandb-col\"><h3>Run history:</h3><br/><table class=\"wandb\"><tr><td>Accuracy_mean</td><td>▁</td></tr><tr><td>Accuracy_std</td><td>▁</td></tr><tr><td>F1 Score_mean</td><td>▁</td></tr><tr><td>F1 Score_std</td><td>▁</td></tr><tr><td>Precision_mean</td><td>▁</td></tr><tr><td>Precision_std</td><td>▁</td></tr><tr><td>ROC-AUC_mean</td><td>▁</td></tr><tr><td>ROC-AUC_std</td><td>▁</td></tr><tr><td>Recall_mean</td><td>▁</td></tr><tr><td>Recall_std</td><td>▁</td></tr></table><br/></div><div class=\"wandb-col\"><h3>Run summary:</h3><br/><table class=\"wandb\"><tr><td>Accuracy_mean</td><td>0.83768</td></tr><tr><td>Accuracy_std</td><td>0.05089</td></tr><tr><td>F1 Score_mean</td><td>0.83849</td></tr><tr><td>F1 Score_std</td><td>0.05232</td></tr><tr><td>Precision_mean</td><td>0.8435</td></tr><tr><td>Precision_std</td><td>0.05414</td></tr><tr><td>ROC-AUC_mean</td><td>0.90765</td></tr><tr><td>ROC-AUC_std</td><td>0.02089</td></tr><tr><td>Recall_mean</td><td>0.83768</td></tr><tr><td>Recall_std</td><td>0.05089</td></tr></table><br/></div></div>"
      ],
      "text/plain": [
       "<IPython.core.display.HTML object>"
      ]
     },
     "metadata": {},
     "output_type": "display_data"
    },
    {
     "data": {
      "text/html": [
       " View run <strong style=\"color:#cdcd00\">DT_Ablated 2</strong> at: <a href='https://wandb.ai/lequn/AudioVisual_ML_ablation_study_v2/runs/l0xc0oxz' target=\"_blank\">https://wandb.ai/lequn/AudioVisual_ML_ablation_study_v2/runs/l0xc0oxz</a><br/> View job at <a href='https://wandb.ai/lequn/AudioVisual_ML_ablation_study_v2/jobs/QXJ0aWZhY3RDb2xsZWN0aW9uOjExMTQ1OTc4Ng==/version_details/v23' target=\"_blank\">https://wandb.ai/lequn/AudioVisual_ML_ablation_study_v2/jobs/QXJ0aWZhY3RDb2xsZWN0aW9uOjExMTQ1OTc4Ng==/version_details/v23</a><br/>Synced 6 W&B file(s), 0 media file(s), 0 artifact file(s) and 0 other file(s)"
      ],
      "text/plain": [
       "<IPython.core.display.HTML object>"
      ]
     },
     "metadata": {},
     "output_type": "display_data"
    },
    {
     "data": {
      "text/html": [
       "Find logs at: <code>./wandb/run-20240305_115227-l0xc0oxz/logs</code>"
      ],
      "text/plain": [
       "<IPython.core.display.HTML object>"
      ]
     },
     "metadata": {},
     "output_type": "display_data"
    },
    {
     "name": "stdout",
     "output_type": "stream",
     "text": [
      "\tTraining model: RF\n"
     ]
    },
    {
     "data": {
      "application/vnd.jupyter.widget-view+json": {
       "model_id": "ce7039db77af4a249dd70f8294d39ed9",
       "version_major": 2,
       "version_minor": 0
      },
      "text/plain": [
       "VBox(children=(Label(value='Waiting for wandb.init()...\\r'), FloatProgress(value=0.011113101555555558, max=1.0…"
      ]
     },
     "metadata": {},
     "output_type": "display_data"
    },
    {
     "data": {
      "text/html": [
       "wandb version 0.16.3 is available!  To upgrade, please run:\n",
       " $ pip install wandb --upgrade"
      ],
      "text/plain": [
       "<IPython.core.display.HTML object>"
      ]
     },
     "metadata": {},
     "output_type": "display_data"
    },
    {
     "data": {
      "text/html": [
       "Tracking run with wandb version 0.15.12"
      ],
      "text/plain": [
       "<IPython.core.display.HTML object>"
      ]
     },
     "metadata": {},
     "output_type": "display_data"
    },
    {
     "data": {
      "text/html": [
       "Run data is saved locally in <code>/home/chenlequn/GitHub/LDED-FusionNet/code/wandb/run-20240305_115238-ddkdla7e</code>"
      ],
      "text/plain": [
       "<IPython.core.display.HTML object>"
      ]
     },
     "metadata": {},
     "output_type": "display_data"
    },
    {
     "data": {
      "text/html": [
       "Syncing run <strong><a href='https://wandb.ai/lequn/AudioVisual_ML_ablation_study_v2/runs/ddkdla7e' target=\"_blank\">RF_Ablated 2</a></strong> to <a href='https://wandb.ai/lequn/AudioVisual_ML_ablation_study_v2' target=\"_blank\">Weights & Biases</a> (<a href='https://wandb.me/run' target=\"_blank\">docs</a>)<br/>"
      ],
      "text/plain": [
       "<IPython.core.display.HTML object>"
      ]
     },
     "metadata": {},
     "output_type": "display_data"
    },
    {
     "data": {
      "text/html": [
       " View project at <a href='https://wandb.ai/lequn/AudioVisual_ML_ablation_study_v2' target=\"_blank\">https://wandb.ai/lequn/AudioVisual_ML_ablation_study_v2</a>"
      ],
      "text/plain": [
       "<IPython.core.display.HTML object>"
      ]
     },
     "metadata": {},
     "output_type": "display_data"
    },
    {
     "data": {
      "text/html": [
       " View run at <a href='https://wandb.ai/lequn/AudioVisual_ML_ablation_study_v2/runs/ddkdla7e' target=\"_blank\">https://wandb.ai/lequn/AudioVisual_ML_ablation_study_v2/runs/ddkdla7e</a>"
      ],
      "text/plain": [
       "<IPython.core.display.HTML object>"
      ]
     },
     "metadata": {},
     "output_type": "display_data"
    },
    {
     "name": "stdout",
     "output_type": "stream",
     "text": [
      "\t\tAccuracy: Mean = 0.9026180458158016, Std = 0.034273435782184405\n",
      "\t\tF1 Score: Mean = 0.9025829623847065, Std = 0.03450330856895442\n",
      "\t\tPrecision: Mean = 0.9080291670721792, Std = 0.03457775226373503\n",
      "\t\tRecall: Mean = 0.9026180458158016, Std = 0.034273435782184405\n",
      "\t\tROC-AUC: Mean = 0.9789294494386416, Std = 0.007053364702731942\n"
     ]
    },
    {
     "data": {
      "text/html": [
       "Waiting for W&B process to finish... <strong style=\"color:green\">(success).</strong>"
      ],
      "text/plain": [
       "<IPython.core.display.HTML object>"
      ]
     },
     "metadata": {},
     "output_type": "display_data"
    },
    {
     "data": {
      "text/html": [
       "<style>\n",
       "    table.wandb td:nth-child(1) { padding: 0 10px; text-align: left ; width: auto;} td:nth-child(2) {text-align: left ; width: 100%}\n",
       "    .wandb-row { display: flex; flex-direction: row; flex-wrap: wrap; justify-content: flex-start; width: 100% }\n",
       "    .wandb-col { display: flex; flex-direction: column; flex-basis: 100%; flex: 1; padding: 10px; }\n",
       "    </style>\n",
       "<div class=\"wandb-row\"><div class=\"wandb-col\"><h3>Run history:</h3><br/><table class=\"wandb\"><tr><td>Accuracy_mean</td><td>▁</td></tr><tr><td>Accuracy_std</td><td>▁</td></tr><tr><td>F1 Score_mean</td><td>▁</td></tr><tr><td>F1 Score_std</td><td>▁</td></tr><tr><td>Precision_mean</td><td>▁</td></tr><tr><td>Precision_std</td><td>▁</td></tr><tr><td>ROC-AUC_mean</td><td>▁</td></tr><tr><td>ROC-AUC_std</td><td>▁</td></tr><tr><td>Recall_mean</td><td>▁</td></tr><tr><td>Recall_std</td><td>▁</td></tr></table><br/></div><div class=\"wandb-col\"><h3>Run summary:</h3><br/><table class=\"wandb\"><tr><td>Accuracy_mean</td><td>0.90262</td></tr><tr><td>Accuracy_std</td><td>0.03427</td></tr><tr><td>F1 Score_mean</td><td>0.90258</td></tr><tr><td>F1 Score_std</td><td>0.0345</td></tr><tr><td>Precision_mean</td><td>0.90803</td></tr><tr><td>Precision_std</td><td>0.03458</td></tr><tr><td>ROC-AUC_mean</td><td>0.97893</td></tr><tr><td>ROC-AUC_std</td><td>0.00705</td></tr><tr><td>Recall_mean</td><td>0.90262</td></tr><tr><td>Recall_std</td><td>0.03427</td></tr></table><br/></div></div>"
      ],
      "text/plain": [
       "<IPython.core.display.HTML object>"
      ]
     },
     "metadata": {},
     "output_type": "display_data"
    },
    {
     "data": {
      "text/html": [
       " View run <strong style=\"color:#cdcd00\">RF_Ablated 2</strong> at: <a href='https://wandb.ai/lequn/AudioVisual_ML_ablation_study_v2/runs/ddkdla7e' target=\"_blank\">https://wandb.ai/lequn/AudioVisual_ML_ablation_study_v2/runs/ddkdla7e</a><br/> View job at <a href='https://wandb.ai/lequn/AudioVisual_ML_ablation_study_v2/jobs/QXJ0aWZhY3RDb2xsZWN0aW9uOjExMTQ1OTc4Ng==/version_details/v23' target=\"_blank\">https://wandb.ai/lequn/AudioVisual_ML_ablation_study_v2/jobs/QXJ0aWZhY3RDb2xsZWN0aW9uOjExMTQ1OTc4Ng==/version_details/v23</a><br/>Synced 6 W&B file(s), 0 media file(s), 0 artifact file(s) and 0 other file(s)"
      ],
      "text/plain": [
       "<IPython.core.display.HTML object>"
      ]
     },
     "metadata": {},
     "output_type": "display_data"
    },
    {
     "data": {
      "text/html": [
       "Find logs at: <code>./wandb/run-20240305_115238-ddkdla7e/logs</code>"
      ],
      "text/plain": [
       "<IPython.core.display.HTML object>"
      ]
     },
     "metadata": {},
     "output_type": "display_data"
    },
    {
     "name": "stdout",
     "output_type": "stream",
     "text": [
      "\tTraining model: BalancedRF\n"
     ]
    },
    {
     "data": {
      "application/vnd.jupyter.widget-view+json": {
       "model_id": "487fe8c600a8434783169356ebabac1e",
       "version_major": 2,
       "version_minor": 0
      },
      "text/plain": [
       "VBox(children=(Label(value='Waiting for wandb.init()...\\r'), FloatProgress(value=0.011113236777772626, max=1.0…"
      ]
     },
     "metadata": {},
     "output_type": "display_data"
    },
    {
     "data": {
      "text/html": [
       "wandb version 0.16.3 is available!  To upgrade, please run:\n",
       " $ pip install wandb --upgrade"
      ],
      "text/plain": [
       "<IPython.core.display.HTML object>"
      ]
     },
     "metadata": {},
     "output_type": "display_data"
    },
    {
     "data": {
      "text/html": [
       "Tracking run with wandb version 0.15.12"
      ],
      "text/plain": [
       "<IPython.core.display.HTML object>"
      ]
     },
     "metadata": {},
     "output_type": "display_data"
    },
    {
     "data": {
      "text/html": [
       "Run data is saved locally in <code>/home/chenlequn/GitHub/LDED-FusionNet/code/wandb/run-20240305_115252-1jh7v3d6</code>"
      ],
      "text/plain": [
       "<IPython.core.display.HTML object>"
      ]
     },
     "metadata": {},
     "output_type": "display_data"
    },
    {
     "data": {
      "text/html": [
       "Syncing run <strong><a href='https://wandb.ai/lequn/AudioVisual_ML_ablation_study_v2/runs/1jh7v3d6' target=\"_blank\">BalancedRF_Ablated 2</a></strong> to <a href='https://wandb.ai/lequn/AudioVisual_ML_ablation_study_v2' target=\"_blank\">Weights & Biases</a> (<a href='https://wandb.me/run' target=\"_blank\">docs</a>)<br/>"
      ],
      "text/plain": [
       "<IPython.core.display.HTML object>"
      ]
     },
     "metadata": {},
     "output_type": "display_data"
    },
    {
     "data": {
      "text/html": [
       " View project at <a href='https://wandb.ai/lequn/AudioVisual_ML_ablation_study_v2' target=\"_blank\">https://wandb.ai/lequn/AudioVisual_ML_ablation_study_v2</a>"
      ],
      "text/plain": [
       "<IPython.core.display.HTML object>"
      ]
     },
     "metadata": {},
     "output_type": "display_data"
    },
    {
     "data": {
      "text/html": [
       " View run at <a href='https://wandb.ai/lequn/AudioVisual_ML_ablation_study_v2/runs/1jh7v3d6' target=\"_blank\">https://wandb.ai/lequn/AudioVisual_ML_ablation_study_v2/runs/1jh7v3d6</a>"
      ],
      "text/plain": [
       "<IPython.core.display.HTML object>"
      ]
     },
     "metadata": {},
     "output_type": "display_data"
    },
    {
     "name": "stderr",
     "output_type": "stream",
     "text": [
      "/home/chenlequn/anaconda3/envs/torch/lib/python3.9/site-packages/imblearn/ensemble/_forest.py:546: FutureWarning: The default of `sampling_strategy` will change from `'auto'` to `'all'` in version 0.13. This change will follow the implementation proposed in the original paper. Set to `'all'` to silence this warning and adopt the future behaviour.\n",
      "  warn(\n",
      "/home/chenlequn/anaconda3/envs/torch/lib/python3.9/site-packages/imblearn/ensemble/_forest.py:558: FutureWarning: The default of `replacement` will change from `False` to `True` in version 0.13. This change will follow the implementation proposed in the original paper. Set to `True` to silence this warning and adopt the future behaviour.\n",
      "  warn(\n"
     ]
    },
    {
     "name": "stdout",
     "output_type": "stream",
     "text": [
      "\t\tAccuracy: Mean = 0.8572463768115941, Std = 0.04203471846185124\n",
      "\t\tF1 Score: Mean = 0.858083919816244, Std = 0.03906056794789252\n",
      "\t\tPrecision: Mean = 0.8636614376480332, Std = 0.034947148790041696\n",
      "\t\tRecall: Mean = 0.8572463768115941, Std = 0.04203471846185124\n",
      "\t\tROC-AUC: Mean = 0.9715377100288727, Std = 0.009644664512002047\n"
     ]
    },
    {
     "data": {
      "text/html": [
       "Waiting for W&B process to finish... <strong style=\"color:green\">(success).</strong>"
      ],
      "text/plain": [
       "<IPython.core.display.HTML object>"
      ]
     },
     "metadata": {},
     "output_type": "display_data"
    },
    {
     "data": {
      "text/html": [
       "<style>\n",
       "    table.wandb td:nth-child(1) { padding: 0 10px; text-align: left ; width: auto;} td:nth-child(2) {text-align: left ; width: 100%}\n",
       "    .wandb-row { display: flex; flex-direction: row; flex-wrap: wrap; justify-content: flex-start; width: 100% }\n",
       "    .wandb-col { display: flex; flex-direction: column; flex-basis: 100%; flex: 1; padding: 10px; }\n",
       "    </style>\n",
       "<div class=\"wandb-row\"><div class=\"wandb-col\"><h3>Run history:</h3><br/><table class=\"wandb\"><tr><td>Accuracy_mean</td><td>▁</td></tr><tr><td>Accuracy_std</td><td>▁</td></tr><tr><td>F1 Score_mean</td><td>▁</td></tr><tr><td>F1 Score_std</td><td>▁</td></tr><tr><td>Precision_mean</td><td>▁</td></tr><tr><td>Precision_std</td><td>▁</td></tr><tr><td>ROC-AUC_mean</td><td>▁</td></tr><tr><td>ROC-AUC_std</td><td>▁</td></tr><tr><td>Recall_mean</td><td>▁</td></tr><tr><td>Recall_std</td><td>▁</td></tr></table><br/></div><div class=\"wandb-col\"><h3>Run summary:</h3><br/><table class=\"wandb\"><tr><td>Accuracy_mean</td><td>0.85725</td></tr><tr><td>Accuracy_std</td><td>0.04203</td></tr><tr><td>F1 Score_mean</td><td>0.85808</td></tr><tr><td>F1 Score_std</td><td>0.03906</td></tr><tr><td>Precision_mean</td><td>0.86366</td></tr><tr><td>Precision_std</td><td>0.03495</td></tr><tr><td>ROC-AUC_mean</td><td>0.97154</td></tr><tr><td>ROC-AUC_std</td><td>0.00964</td></tr><tr><td>Recall_mean</td><td>0.85725</td></tr><tr><td>Recall_std</td><td>0.04203</td></tr></table><br/></div></div>"
      ],
      "text/plain": [
       "<IPython.core.display.HTML object>"
      ]
     },
     "metadata": {},
     "output_type": "display_data"
    },
    {
     "data": {
      "text/html": [
       " View run <strong style=\"color:#cdcd00\">BalancedRF_Ablated 2</strong> at: <a href='https://wandb.ai/lequn/AudioVisual_ML_ablation_study_v2/runs/1jh7v3d6' target=\"_blank\">https://wandb.ai/lequn/AudioVisual_ML_ablation_study_v2/runs/1jh7v3d6</a><br/> View job at <a href='https://wandb.ai/lequn/AudioVisual_ML_ablation_study_v2/jobs/QXJ0aWZhY3RDb2xsZWN0aW9uOjExMTQ1OTc4Ng==/version_details/v23' target=\"_blank\">https://wandb.ai/lequn/AudioVisual_ML_ablation_study_v2/jobs/QXJ0aWZhY3RDb2xsZWN0aW9uOjExMTQ1OTc4Ng==/version_details/v23</a><br/>Synced 6 W&B file(s), 0 media file(s), 0 artifact file(s) and 0 other file(s)"
      ],
      "text/plain": [
       "<IPython.core.display.HTML object>"
      ]
     },
     "metadata": {},
     "output_type": "display_data"
    },
    {
     "data": {
      "text/html": [
       "Find logs at: <code>./wandb/run-20240305_115252-1jh7v3d6/logs</code>"
      ],
      "text/plain": [
       "<IPython.core.display.HTML object>"
      ]
     },
     "metadata": {},
     "output_type": "display_data"
    },
    {
     "name": "stdout",
     "output_type": "stream",
     "text": [
      "\tTraining model: RUSBoost\n"
     ]
    },
    {
     "data": {
      "application/vnd.jupyter.widget-view+json": {
       "model_id": "4e8fa999a1494cd3b0e0cd784fd94342",
       "version_major": 2,
       "version_minor": 0
      },
      "text/plain": [
       "VBox(children=(Label(value='Waiting for wandb.init()...\\r'), FloatProgress(value=0.01111324765555158, max=1.0)…"
      ]
     },
     "metadata": {},
     "output_type": "display_data"
    },
    {
     "data": {
      "text/html": [
       "wandb version 0.16.3 is available!  To upgrade, please run:\n",
       " $ pip install wandb --upgrade"
      ],
      "text/plain": [
       "<IPython.core.display.HTML object>"
      ]
     },
     "metadata": {},
     "output_type": "display_data"
    },
    {
     "data": {
      "text/html": [
       "Tracking run with wandb version 0.15.12"
      ],
      "text/plain": [
       "<IPython.core.display.HTML object>"
      ]
     },
     "metadata": {},
     "output_type": "display_data"
    },
    {
     "data": {
      "text/html": [
       "Run data is saved locally in <code>/home/chenlequn/GitHub/LDED-FusionNet/code/wandb/run-20240305_115304-ork5ogvh</code>"
      ],
      "text/plain": [
       "<IPython.core.display.HTML object>"
      ]
     },
     "metadata": {},
     "output_type": "display_data"
    },
    {
     "data": {
      "text/html": [
       "Syncing run <strong><a href='https://wandb.ai/lequn/AudioVisual_ML_ablation_study_v2/runs/ork5ogvh' target=\"_blank\">RUSBoost_Ablated 2</a></strong> to <a href='https://wandb.ai/lequn/AudioVisual_ML_ablation_study_v2' target=\"_blank\">Weights & Biases</a> (<a href='https://wandb.me/run' target=\"_blank\">docs</a>)<br/>"
      ],
      "text/plain": [
       "<IPython.core.display.HTML object>"
      ]
     },
     "metadata": {},
     "output_type": "display_data"
    },
    {
     "data": {
      "text/html": [
       " View project at <a href='https://wandb.ai/lequn/AudioVisual_ML_ablation_study_v2' target=\"_blank\">https://wandb.ai/lequn/AudioVisual_ML_ablation_study_v2</a>"
      ],
      "text/plain": [
       "<IPython.core.display.HTML object>"
      ]
     },
     "metadata": {},
     "output_type": "display_data"
    },
    {
     "data": {
      "text/html": [
       " View run at <a href='https://wandb.ai/lequn/AudioVisual_ML_ablation_study_v2/runs/ork5ogvh' target=\"_blank\">https://wandb.ai/lequn/AudioVisual_ML_ablation_study_v2/runs/ork5ogvh</a>"
      ],
      "text/plain": [
       "<IPython.core.display.HTML object>"
      ]
     },
     "metadata": {},
     "output_type": "display_data"
    },
    {
     "name": "stdout",
     "output_type": "stream",
     "text": [
      "\t\tAccuracy: Mean = 0.7966339410939691, Std = 0.03521775156866642\n",
      "\t\tF1 Score: Mean = 0.7991479964529623, Std = 0.03571177755698334\n",
      "\t\tPrecision: Mean = 0.8131774918123412, Std = 0.03356260562049475\n",
      "\t\tRecall: Mean = 0.7966339410939691, Std = 0.03521775156866642\n",
      "\t\tROC-AUC: Mean = 0.9227915129517296, Std = 0.02221980655393765\n"
     ]
    },
    {
     "data": {
      "text/html": [
       "Waiting for W&B process to finish... <strong style=\"color:green\">(success).</strong>"
      ],
      "text/plain": [
       "<IPython.core.display.HTML object>"
      ]
     },
     "metadata": {},
     "output_type": "display_data"
    },
    {
     "data": {
      "text/html": [
       "<style>\n",
       "    table.wandb td:nth-child(1) { padding: 0 10px; text-align: left ; width: auto;} td:nth-child(2) {text-align: left ; width: 100%}\n",
       "    .wandb-row { display: flex; flex-direction: row; flex-wrap: wrap; justify-content: flex-start; width: 100% }\n",
       "    .wandb-col { display: flex; flex-direction: column; flex-basis: 100%; flex: 1; padding: 10px; }\n",
       "    </style>\n",
       "<div class=\"wandb-row\"><div class=\"wandb-col\"><h3>Run history:</h3><br/><table class=\"wandb\"><tr><td>Accuracy_mean</td><td>▁</td></tr><tr><td>Accuracy_std</td><td>▁</td></tr><tr><td>F1 Score_mean</td><td>▁</td></tr><tr><td>F1 Score_std</td><td>▁</td></tr><tr><td>Precision_mean</td><td>▁</td></tr><tr><td>Precision_std</td><td>▁</td></tr><tr><td>ROC-AUC_mean</td><td>▁</td></tr><tr><td>ROC-AUC_std</td><td>▁</td></tr><tr><td>Recall_mean</td><td>▁</td></tr><tr><td>Recall_std</td><td>▁</td></tr></table><br/></div><div class=\"wandb-col\"><h3>Run summary:</h3><br/><table class=\"wandb\"><tr><td>Accuracy_mean</td><td>0.79663</td></tr><tr><td>Accuracy_std</td><td>0.03522</td></tr><tr><td>F1 Score_mean</td><td>0.79915</td></tr><tr><td>F1 Score_std</td><td>0.03571</td></tr><tr><td>Precision_mean</td><td>0.81318</td></tr><tr><td>Precision_std</td><td>0.03356</td></tr><tr><td>ROC-AUC_mean</td><td>0.92279</td></tr><tr><td>ROC-AUC_std</td><td>0.02222</td></tr><tr><td>Recall_mean</td><td>0.79663</td></tr><tr><td>Recall_std</td><td>0.03522</td></tr></table><br/></div></div>"
      ],
      "text/plain": [
       "<IPython.core.display.HTML object>"
      ]
     },
     "metadata": {},
     "output_type": "display_data"
    },
    {
     "data": {
      "text/html": [
       " View run <strong style=\"color:#cdcd00\">RUSBoost_Ablated 2</strong> at: <a href='https://wandb.ai/lequn/AudioVisual_ML_ablation_study_v2/runs/ork5ogvh' target=\"_blank\">https://wandb.ai/lequn/AudioVisual_ML_ablation_study_v2/runs/ork5ogvh</a><br/> View job at <a href='https://wandb.ai/lequn/AudioVisual_ML_ablation_study_v2/jobs/QXJ0aWZhY3RDb2xsZWN0aW9uOjExMTQ1OTc4Ng==/version_details/v23' target=\"_blank\">https://wandb.ai/lequn/AudioVisual_ML_ablation_study_v2/jobs/QXJ0aWZhY3RDb2xsZWN0aW9uOjExMTQ1OTc4Ng==/version_details/v23</a><br/>Synced 6 W&B file(s), 0 media file(s), 0 artifact file(s) and 0 other file(s)"
      ],
      "text/plain": [
       "<IPython.core.display.HTML object>"
      ]
     },
     "metadata": {},
     "output_type": "display_data"
    },
    {
     "data": {
      "text/html": [
       "Find logs at: <code>./wandb/run-20240305_115304-ork5ogvh/logs</code>"
      ],
      "text/plain": [
       "<IPython.core.display.HTML object>"
      ]
     },
     "metadata": {},
     "output_type": "display_data"
    },
    {
     "name": "stdout",
     "output_type": "stream",
     "text": [
      "\tTraining model: Ada\n"
     ]
    },
    {
     "data": {
      "application/vnd.jupyter.widget-view+json": {
       "model_id": "ace6baebc3a64fd29af65a04b2f70f0d",
       "version_major": 2,
       "version_minor": 0
      },
      "text/plain": [
       "VBox(children=(Label(value='Waiting for wandb.init()...\\r'), FloatProgress(value=0.01111410922221694, max=1.0)…"
      ]
     },
     "metadata": {},
     "output_type": "display_data"
    },
    {
     "data": {
      "text/html": [
       "wandb version 0.16.3 is available!  To upgrade, please run:\n",
       " $ pip install wandb --upgrade"
      ],
      "text/plain": [
       "<IPython.core.display.HTML object>"
      ]
     },
     "metadata": {},
     "output_type": "display_data"
    },
    {
     "data": {
      "text/html": [
       "Tracking run with wandb version 0.15.12"
      ],
      "text/plain": [
       "<IPython.core.display.HTML object>"
      ]
     },
     "metadata": {},
     "output_type": "display_data"
    },
    {
     "data": {
      "text/html": [
       "Run data is saved locally in <code>/home/chenlequn/GitHub/LDED-FusionNet/code/wandb/run-20240305_115316-x1i2n709</code>"
      ],
      "text/plain": [
       "<IPython.core.display.HTML object>"
      ]
     },
     "metadata": {},
     "output_type": "display_data"
    },
    {
     "data": {
      "text/html": [
       "Syncing run <strong><a href='https://wandb.ai/lequn/AudioVisual_ML_ablation_study_v2/runs/x1i2n709' target=\"_blank\">Ada_Ablated 2</a></strong> to <a href='https://wandb.ai/lequn/AudioVisual_ML_ablation_study_v2' target=\"_blank\">Weights & Biases</a> (<a href='https://wandb.me/run' target=\"_blank\">docs</a>)<br/>"
      ],
      "text/plain": [
       "<IPython.core.display.HTML object>"
      ]
     },
     "metadata": {},
     "output_type": "display_data"
    },
    {
     "data": {
      "text/html": [
       " View project at <a href='https://wandb.ai/lequn/AudioVisual_ML_ablation_study_v2' target=\"_blank\">https://wandb.ai/lequn/AudioVisual_ML_ablation_study_v2</a>"
      ],
      "text/plain": [
       "<IPython.core.display.HTML object>"
      ]
     },
     "metadata": {},
     "output_type": "display_data"
    },
    {
     "data": {
      "text/html": [
       " View run at <a href='https://wandb.ai/lequn/AudioVisual_ML_ablation_study_v2/runs/x1i2n709' target=\"_blank\">https://wandb.ai/lequn/AudioVisual_ML_ablation_study_v2/runs/x1i2n709</a>"
      ],
      "text/plain": [
       "<IPython.core.display.HTML object>"
      ]
     },
     "metadata": {},
     "output_type": "display_data"
    },
    {
     "name": "stdout",
     "output_type": "stream",
     "text": [
      "\t\tAccuracy: Mean = 0.831229546517064, Std = 0.02392116522506494\n",
      "\t\tF1 Score: Mean = 0.834289763869727, Std = 0.023566492363657647\n",
      "\t\tPrecision: Mean = 0.8439880605931714, Std = 0.02307809332265687\n",
      "\t\tRecall: Mean = 0.831229546517064, Std = 0.02392116522506494\n",
      "\t\tROC-AUC: Mean = 0.9287650346473055, Std = 0.011805128918134143\n"
     ]
    },
    {
     "data": {
      "text/html": [
       "Waiting for W&B process to finish... <strong style=\"color:green\">(success).</strong>"
      ],
      "text/plain": [
       "<IPython.core.display.HTML object>"
      ]
     },
     "metadata": {},
     "output_type": "display_data"
    },
    {
     "data": {
      "text/html": [
       "<style>\n",
       "    table.wandb td:nth-child(1) { padding: 0 10px; text-align: left ; width: auto;} td:nth-child(2) {text-align: left ; width: 100%}\n",
       "    .wandb-row { display: flex; flex-direction: row; flex-wrap: wrap; justify-content: flex-start; width: 100% }\n",
       "    .wandb-col { display: flex; flex-direction: column; flex-basis: 100%; flex: 1; padding: 10px; }\n",
       "    </style>\n",
       "<div class=\"wandb-row\"><div class=\"wandb-col\"><h3>Run history:</h3><br/><table class=\"wandb\"><tr><td>Accuracy_mean</td><td>▁</td></tr><tr><td>Accuracy_std</td><td>▁</td></tr><tr><td>F1 Score_mean</td><td>▁</td></tr><tr><td>F1 Score_std</td><td>▁</td></tr><tr><td>Precision_mean</td><td>▁</td></tr><tr><td>Precision_std</td><td>▁</td></tr><tr><td>ROC-AUC_mean</td><td>▁</td></tr><tr><td>ROC-AUC_std</td><td>▁</td></tr><tr><td>Recall_mean</td><td>▁</td></tr><tr><td>Recall_std</td><td>▁</td></tr></table><br/></div><div class=\"wandb-col\"><h3>Run summary:</h3><br/><table class=\"wandb\"><tr><td>Accuracy_mean</td><td>0.83123</td></tr><tr><td>Accuracy_std</td><td>0.02392</td></tr><tr><td>F1 Score_mean</td><td>0.83429</td></tr><tr><td>F1 Score_std</td><td>0.02357</td></tr><tr><td>Precision_mean</td><td>0.84399</td></tr><tr><td>Precision_std</td><td>0.02308</td></tr><tr><td>ROC-AUC_mean</td><td>0.92877</td></tr><tr><td>ROC-AUC_std</td><td>0.01181</td></tr><tr><td>Recall_mean</td><td>0.83123</td></tr><tr><td>Recall_std</td><td>0.02392</td></tr></table><br/></div></div>"
      ],
      "text/plain": [
       "<IPython.core.display.HTML object>"
      ]
     },
     "metadata": {},
     "output_type": "display_data"
    },
    {
     "data": {
      "text/html": [
       " View run <strong style=\"color:#cdcd00\">Ada_Ablated 2</strong> at: <a href='https://wandb.ai/lequn/AudioVisual_ML_ablation_study_v2/runs/x1i2n709' target=\"_blank\">https://wandb.ai/lequn/AudioVisual_ML_ablation_study_v2/runs/x1i2n709</a><br/> View job at <a href='https://wandb.ai/lequn/AudioVisual_ML_ablation_study_v2/jobs/QXJ0aWZhY3RDb2xsZWN0aW9uOjExMTQ1OTc4Ng==/version_details/v23' target=\"_blank\">https://wandb.ai/lequn/AudioVisual_ML_ablation_study_v2/jobs/QXJ0aWZhY3RDb2xsZWN0aW9uOjExMTQ1OTc4Ng==/version_details/v23</a><br/>Synced 6 W&B file(s), 0 media file(s), 0 artifact file(s) and 0 other file(s)"
      ],
      "text/plain": [
       "<IPython.core.display.HTML object>"
      ]
     },
     "metadata": {},
     "output_type": "display_data"
    },
    {
     "data": {
      "text/html": [
       "Find logs at: <code>./wandb/run-20240305_115316-x1i2n709/logs</code>"
      ],
      "text/plain": [
       "<IPython.core.display.HTML object>"
      ]
     },
     "metadata": {},
     "output_type": "display_data"
    },
    {
     "name": "stdout",
     "output_type": "stream",
     "text": [
      "\tTraining model: NN\n"
     ]
    },
    {
     "data": {
      "application/vnd.jupyter.widget-view+json": {
       "model_id": "7a66632f1075462a94d8157e72cf7d88",
       "version_major": 2,
       "version_minor": 0
      },
      "text/plain": [
       "VBox(children=(Label(value='Waiting for wandb.init()...\\r'), FloatProgress(value=0.011113883200000094, max=1.0…"
      ]
     },
     "metadata": {},
     "output_type": "display_data"
    },
    {
     "data": {
      "text/html": [
       "wandb version 0.16.3 is available!  To upgrade, please run:\n",
       " $ pip install wandb --upgrade"
      ],
      "text/plain": [
       "<IPython.core.display.HTML object>"
      ]
     },
     "metadata": {},
     "output_type": "display_data"
    },
    {
     "data": {
      "text/html": [
       "Tracking run with wandb version 0.15.12"
      ],
      "text/plain": [
       "<IPython.core.display.HTML object>"
      ]
     },
     "metadata": {},
     "output_type": "display_data"
    },
    {
     "data": {
      "text/html": [
       "Run data is saved locally in <code>/home/chenlequn/GitHub/LDED-FusionNet/code/wandb/run-20240305_115328-ht3gbw50</code>"
      ],
      "text/plain": [
       "<IPython.core.display.HTML object>"
      ]
     },
     "metadata": {},
     "output_type": "display_data"
    },
    {
     "data": {
      "text/html": [
       "Syncing run <strong><a href='https://wandb.ai/lequn/AudioVisual_ML_ablation_study_v2/runs/ht3gbw50' target=\"_blank\">NN_Ablated 2</a></strong> to <a href='https://wandb.ai/lequn/AudioVisual_ML_ablation_study_v2' target=\"_blank\">Weights & Biases</a> (<a href='https://wandb.me/run' target=\"_blank\">docs</a>)<br/>"
      ],
      "text/plain": [
       "<IPython.core.display.HTML object>"
      ]
     },
     "metadata": {},
     "output_type": "display_data"
    },
    {
     "data": {
      "text/html": [
       " View project at <a href='https://wandb.ai/lequn/AudioVisual_ML_ablation_study_v2' target=\"_blank\">https://wandb.ai/lequn/AudioVisual_ML_ablation_study_v2</a>"
      ],
      "text/plain": [
       "<IPython.core.display.HTML object>"
      ]
     },
     "metadata": {},
     "output_type": "display_data"
    },
    {
     "data": {
      "text/html": [
       " View run at <a href='https://wandb.ai/lequn/AudioVisual_ML_ablation_study_v2/runs/ht3gbw50' target=\"_blank\">https://wandb.ai/lequn/AudioVisual_ML_ablation_study_v2/runs/ht3gbw50</a>"
      ],
      "text/plain": [
       "<IPython.core.display.HTML object>"
      ]
     },
     "metadata": {},
     "output_type": "display_data"
    },
    {
     "name": "stdout",
     "output_type": "stream",
     "text": [
      "\t\tAccuracy: Mean = 0.904721832632071, Std = 0.04040325689453686\n",
      "\t\tF1 Score: Mean = 0.9039904601360631, Std = 0.03996008324465928\n",
      "\t\tPrecision: Mean = 0.9057421848798137, Std = 0.04074696029142833\n",
      "\t\tRecall: Mean = 0.904721832632071, Std = 0.04040325689453686\n",
      "\t\tROC-AUC: Mean = 0.9782915608920433, Std = 0.010047630465744894\n"
     ]
    },
    {
     "data": {
      "text/html": [
       "Waiting for W&B process to finish... <strong style=\"color:green\">(success).</strong>"
      ],
      "text/plain": [
       "<IPython.core.display.HTML object>"
      ]
     },
     "metadata": {},
     "output_type": "display_data"
    },
    {
     "data": {
      "text/html": [
       "<style>\n",
       "    table.wandb td:nth-child(1) { padding: 0 10px; text-align: left ; width: auto;} td:nth-child(2) {text-align: left ; width: 100%}\n",
       "    .wandb-row { display: flex; flex-direction: row; flex-wrap: wrap; justify-content: flex-start; width: 100% }\n",
       "    .wandb-col { display: flex; flex-direction: column; flex-basis: 100%; flex: 1; padding: 10px; }\n",
       "    </style>\n",
       "<div class=\"wandb-row\"><div class=\"wandb-col\"><h3>Run history:</h3><br/><table class=\"wandb\"><tr><td>Accuracy_mean</td><td>▁</td></tr><tr><td>Accuracy_std</td><td>▁</td></tr><tr><td>F1 Score_mean</td><td>▁</td></tr><tr><td>F1 Score_std</td><td>▁</td></tr><tr><td>Precision_mean</td><td>▁</td></tr><tr><td>Precision_std</td><td>▁</td></tr><tr><td>ROC-AUC_mean</td><td>▁</td></tr><tr><td>ROC-AUC_std</td><td>▁</td></tr><tr><td>Recall_mean</td><td>▁</td></tr><tr><td>Recall_std</td><td>▁</td></tr></table><br/></div><div class=\"wandb-col\"><h3>Run summary:</h3><br/><table class=\"wandb\"><tr><td>Accuracy_mean</td><td>0.90472</td></tr><tr><td>Accuracy_std</td><td>0.0404</td></tr><tr><td>F1 Score_mean</td><td>0.90399</td></tr><tr><td>F1 Score_std</td><td>0.03996</td></tr><tr><td>Precision_mean</td><td>0.90574</td></tr><tr><td>Precision_std</td><td>0.04075</td></tr><tr><td>ROC-AUC_mean</td><td>0.97829</td></tr><tr><td>ROC-AUC_std</td><td>0.01005</td></tr><tr><td>Recall_mean</td><td>0.90472</td></tr><tr><td>Recall_std</td><td>0.0404</td></tr></table><br/></div></div>"
      ],
      "text/plain": [
       "<IPython.core.display.HTML object>"
      ]
     },
     "metadata": {},
     "output_type": "display_data"
    },
    {
     "data": {
      "text/html": [
       " View run <strong style=\"color:#cdcd00\">NN_Ablated 2</strong> at: <a href='https://wandb.ai/lequn/AudioVisual_ML_ablation_study_v2/runs/ht3gbw50' target=\"_blank\">https://wandb.ai/lequn/AudioVisual_ML_ablation_study_v2/runs/ht3gbw50</a><br/> View job at <a href='https://wandb.ai/lequn/AudioVisual_ML_ablation_study_v2/jobs/QXJ0aWZhY3RDb2xsZWN0aW9uOjExMTQ1OTc4Ng==/version_details/v23' target=\"_blank\">https://wandb.ai/lequn/AudioVisual_ML_ablation_study_v2/jobs/QXJ0aWZhY3RDb2xsZWN0aW9uOjExMTQ1OTc4Ng==/version_details/v23</a><br/>Synced 6 W&B file(s), 0 media file(s), 0 artifact file(s) and 0 other file(s)"
      ],
      "text/plain": [
       "<IPython.core.display.HTML object>"
      ]
     },
     "metadata": {},
     "output_type": "display_data"
    },
    {
     "data": {
      "text/html": [
       "Find logs at: <code>./wandb/run-20240305_115328-ht3gbw50/logs</code>"
      ],
      "text/plain": [
       "<IPython.core.display.HTML object>"
      ]
     },
     "metadata": {},
     "output_type": "display_data"
    },
    {
     "name": "stdout",
     "output_type": "stream",
     "text": [
      "\tTraining model: XGBoost\n"
     ]
    },
    {
     "data": {
      "application/vnd.jupyter.widget-view+json": {
       "model_id": "b638e5a3d870470fa9a56bc7398a81f7",
       "version_major": 2,
       "version_minor": 0
      },
      "text/plain": [
       "VBox(children=(Label(value='Waiting for wandb.init()...\\r'), FloatProgress(value=0.011112577433333272, max=1.0…"
      ]
     },
     "metadata": {},
     "output_type": "display_data"
    },
    {
     "data": {
      "text/html": [
       "wandb version 0.16.3 is available!  To upgrade, please run:\n",
       " $ pip install wandb --upgrade"
      ],
      "text/plain": [
       "<IPython.core.display.HTML object>"
      ]
     },
     "metadata": {},
     "output_type": "display_data"
    },
    {
     "data": {
      "text/html": [
       "Tracking run with wandb version 0.15.12"
      ],
      "text/plain": [
       "<IPython.core.display.HTML object>"
      ]
     },
     "metadata": {},
     "output_type": "display_data"
    },
    {
     "data": {
      "text/html": [
       "Run data is saved locally in <code>/home/chenlequn/GitHub/LDED-FusionNet/code/wandb/run-20240305_115341-jnajj5qw</code>"
      ],
      "text/plain": [
       "<IPython.core.display.HTML object>"
      ]
     },
     "metadata": {},
     "output_type": "display_data"
    },
    {
     "data": {
      "text/html": [
       "Syncing run <strong><a href='https://wandb.ai/lequn/AudioVisual_ML_ablation_study_v2/runs/jnajj5qw' target=\"_blank\">XGBoost_Ablated 2</a></strong> to <a href='https://wandb.ai/lequn/AudioVisual_ML_ablation_study_v2' target=\"_blank\">Weights & Biases</a> (<a href='https://wandb.me/run' target=\"_blank\">docs</a>)<br/>"
      ],
      "text/plain": [
       "<IPython.core.display.HTML object>"
      ]
     },
     "metadata": {},
     "output_type": "display_data"
    },
    {
     "data": {
      "text/html": [
       " View project at <a href='https://wandb.ai/lequn/AudioVisual_ML_ablation_study_v2' target=\"_blank\">https://wandb.ai/lequn/AudioVisual_ML_ablation_study_v2</a>"
      ],
      "text/plain": [
       "<IPython.core.display.HTML object>"
      ]
     },
     "metadata": {},
     "output_type": "display_data"
    },
    {
     "data": {
      "text/html": [
       " View run at <a href='https://wandb.ai/lequn/AudioVisual_ML_ablation_study_v2/runs/jnajj5qw' target=\"_blank\">https://wandb.ai/lequn/AudioVisual_ML_ablation_study_v2/runs/jnajj5qw</a>"
      ],
      "text/plain": [
       "<IPython.core.display.HTML object>"
      ]
     },
     "metadata": {},
     "output_type": "display_data"
    },
    {
     "name": "stdout",
     "output_type": "stream",
     "text": [
      "\t\tAccuracy: Mean = 0.898293595137915, Std = 0.03535969318155434\n",
      "\t\tF1 Score: Mean = 0.8978739073743593, Std = 0.035131017868795356\n",
      "\t\tPrecision: Mean = 0.9023075926803885, Std = 0.033886856251474515\n",
      "\t\tRecall: Mean = 0.898293595137915, Std = 0.03535969318155434\n",
      "\t\tROC-AUC: Mean = 0.9830502056625192, Std = 0.005880857691746197\n"
     ]
    },
    {
     "data": {
      "text/html": [
       "Waiting for W&B process to finish... <strong style=\"color:green\">(success).</strong>"
      ],
      "text/plain": [
       "<IPython.core.display.HTML object>"
      ]
     },
     "metadata": {},
     "output_type": "display_data"
    },
    {
     "data": {
      "text/html": [
       "<style>\n",
       "    table.wandb td:nth-child(1) { padding: 0 10px; text-align: left ; width: auto;} td:nth-child(2) {text-align: left ; width: 100%}\n",
       "    .wandb-row { display: flex; flex-direction: row; flex-wrap: wrap; justify-content: flex-start; width: 100% }\n",
       "    .wandb-col { display: flex; flex-direction: column; flex-basis: 100%; flex: 1; padding: 10px; }\n",
       "    </style>\n",
       "<div class=\"wandb-row\"><div class=\"wandb-col\"><h3>Run history:</h3><br/><table class=\"wandb\"><tr><td>Accuracy_mean</td><td>▁</td></tr><tr><td>Accuracy_std</td><td>▁</td></tr><tr><td>F1 Score_mean</td><td>▁</td></tr><tr><td>F1 Score_std</td><td>▁</td></tr><tr><td>Precision_mean</td><td>▁</td></tr><tr><td>Precision_std</td><td>▁</td></tr><tr><td>ROC-AUC_mean</td><td>▁</td></tr><tr><td>ROC-AUC_std</td><td>▁</td></tr><tr><td>Recall_mean</td><td>▁</td></tr><tr><td>Recall_std</td><td>▁</td></tr></table><br/></div><div class=\"wandb-col\"><h3>Run summary:</h3><br/><table class=\"wandb\"><tr><td>Accuracy_mean</td><td>0.89829</td></tr><tr><td>Accuracy_std</td><td>0.03536</td></tr><tr><td>F1 Score_mean</td><td>0.89787</td></tr><tr><td>F1 Score_std</td><td>0.03513</td></tr><tr><td>Precision_mean</td><td>0.90231</td></tr><tr><td>Precision_std</td><td>0.03389</td></tr><tr><td>ROC-AUC_mean</td><td>0.98305</td></tr><tr><td>ROC-AUC_std</td><td>0.00588</td></tr><tr><td>Recall_mean</td><td>0.89829</td></tr><tr><td>Recall_std</td><td>0.03536</td></tr></table><br/></div></div>"
      ],
      "text/plain": [
       "<IPython.core.display.HTML object>"
      ]
     },
     "metadata": {},
     "output_type": "display_data"
    },
    {
     "data": {
      "text/html": [
       " View run <strong style=\"color:#cdcd00\">XGBoost_Ablated 2</strong> at: <a href='https://wandb.ai/lequn/AudioVisual_ML_ablation_study_v2/runs/jnajj5qw' target=\"_blank\">https://wandb.ai/lequn/AudioVisual_ML_ablation_study_v2/runs/jnajj5qw</a><br/> View job at <a href='https://wandb.ai/lequn/AudioVisual_ML_ablation_study_v2/jobs/QXJ0aWZhY3RDb2xsZWN0aW9uOjExMTQ1OTc4Ng==/version_details/v23' target=\"_blank\">https://wandb.ai/lequn/AudioVisual_ML_ablation_study_v2/jobs/QXJ0aWZhY3RDb2xsZWN0aW9uOjExMTQ1OTc4Ng==/version_details/v23</a><br/>Synced 6 W&B file(s), 0 media file(s), 0 artifact file(s) and 0 other file(s)"
      ],
      "text/plain": [
       "<IPython.core.display.HTML object>"
      ]
     },
     "metadata": {},
     "output_type": "display_data"
    },
    {
     "data": {
      "text/html": [
       "Find logs at: <code>./wandb/run-20240305_115341-jnajj5qw/logs</code>"
      ],
      "text/plain": [
       "<IPython.core.display.HTML object>"
      ]
     },
     "metadata": {},
     "output_type": "display_data"
    },
    {
     "name": "stdout",
     "output_type": "stream",
     "text": [
      "\tTraining model: LightGBM\n"
     ]
    },
    {
     "data": {
      "application/vnd.jupyter.widget-view+json": {
       "model_id": "4c8848f33f754802bf2d7a7302a77aad",
       "version_major": 2,
       "version_minor": 0
      },
      "text/plain": [
       "VBox(children=(Label(value='Waiting for wandb.init()...\\r'), FloatProgress(value=0.011113320688895732, max=1.0…"
      ]
     },
     "metadata": {},
     "output_type": "display_data"
    },
    {
     "data": {
      "text/html": [
       "wandb version 0.16.3 is available!  To upgrade, please run:\n",
       " $ pip install wandb --upgrade"
      ],
      "text/plain": [
       "<IPython.core.display.HTML object>"
      ]
     },
     "metadata": {},
     "output_type": "display_data"
    },
    {
     "data": {
      "text/html": [
       "Tracking run with wandb version 0.15.12"
      ],
      "text/plain": [
       "<IPython.core.display.HTML object>"
      ]
     },
     "metadata": {},
     "output_type": "display_data"
    },
    {
     "data": {
      "text/html": [
       "Run data is saved locally in <code>/home/chenlequn/GitHub/LDED-FusionNet/code/wandb/run-20240305_115354-0imb6qfm</code>"
      ],
      "text/plain": [
       "<IPython.core.display.HTML object>"
      ]
     },
     "metadata": {},
     "output_type": "display_data"
    },
    {
     "data": {
      "text/html": [
       "Syncing run <strong><a href='https://wandb.ai/lequn/AudioVisual_ML_ablation_study_v2/runs/0imb6qfm' target=\"_blank\">LightGBM_Ablated 2</a></strong> to <a href='https://wandb.ai/lequn/AudioVisual_ML_ablation_study_v2' target=\"_blank\">Weights & Biases</a> (<a href='https://wandb.me/run' target=\"_blank\">docs</a>)<br/>"
      ],
      "text/plain": [
       "<IPython.core.display.HTML object>"
      ]
     },
     "metadata": {},
     "output_type": "display_data"
    },
    {
     "data": {
      "text/html": [
       " View project at <a href='https://wandb.ai/lequn/AudioVisual_ML_ablation_study_v2' target=\"_blank\">https://wandb.ai/lequn/AudioVisual_ML_ablation_study_v2</a>"
      ],
      "text/plain": [
       "<IPython.core.display.HTML object>"
      ]
     },
     "metadata": {},
     "output_type": "display_data"
    },
    {
     "data": {
      "text/html": [
       " View run at <a href='https://wandb.ai/lequn/AudioVisual_ML_ablation_study_v2/runs/0imb6qfm' target=\"_blank\">https://wandb.ai/lequn/AudioVisual_ML_ablation_study_v2/runs/0imb6qfm</a>"
      ],
      "text/plain": [
       "<IPython.core.display.HTML object>"
      ]
     },
     "metadata": {},
     "output_type": "display_data"
    },
    {
     "name": "stdout",
     "output_type": "stream",
     "text": [
      "\t\tAccuracy: Mean = 0.9026180458158016, Std = 0.028259835150599655\n",
      "\t\tF1 Score: Mean = 0.9024484752388959, Std = 0.02773331140264083\n",
      "\t\tPrecision: Mean = 0.9066006303280894, Std = 0.02788122905064029\n",
      "\t\tRecall: Mean = 0.9026180458158016, Std = 0.028259835150599655\n",
      "\t\tROC-AUC: Mean = 0.9817187707521517, Std = 0.00711477486712043\n"
     ]
    },
    {
     "data": {
      "text/html": [
       "Waiting for W&B process to finish... <strong style=\"color:green\">(success).</strong>"
      ],
      "text/plain": [
       "<IPython.core.display.HTML object>"
      ]
     },
     "metadata": {},
     "output_type": "display_data"
    },
    {
     "data": {
      "text/html": [
       "<style>\n",
       "    table.wandb td:nth-child(1) { padding: 0 10px; text-align: left ; width: auto;} td:nth-child(2) {text-align: left ; width: 100%}\n",
       "    .wandb-row { display: flex; flex-direction: row; flex-wrap: wrap; justify-content: flex-start; width: 100% }\n",
       "    .wandb-col { display: flex; flex-direction: column; flex-basis: 100%; flex: 1; padding: 10px; }\n",
       "    </style>\n",
       "<div class=\"wandb-row\"><div class=\"wandb-col\"><h3>Run history:</h3><br/><table class=\"wandb\"><tr><td>Accuracy_mean</td><td>▁</td></tr><tr><td>Accuracy_std</td><td>▁</td></tr><tr><td>F1 Score_mean</td><td>▁</td></tr><tr><td>F1 Score_std</td><td>▁</td></tr><tr><td>Precision_mean</td><td>▁</td></tr><tr><td>Precision_std</td><td>▁</td></tr><tr><td>ROC-AUC_mean</td><td>▁</td></tr><tr><td>ROC-AUC_std</td><td>▁</td></tr><tr><td>Recall_mean</td><td>▁</td></tr><tr><td>Recall_std</td><td>▁</td></tr></table><br/></div><div class=\"wandb-col\"><h3>Run summary:</h3><br/><table class=\"wandb\"><tr><td>Accuracy_mean</td><td>0.90262</td></tr><tr><td>Accuracy_std</td><td>0.02826</td></tr><tr><td>F1 Score_mean</td><td>0.90245</td></tr><tr><td>F1 Score_std</td><td>0.02773</td></tr><tr><td>Precision_mean</td><td>0.9066</td></tr><tr><td>Precision_std</td><td>0.02788</td></tr><tr><td>ROC-AUC_mean</td><td>0.98172</td></tr><tr><td>ROC-AUC_std</td><td>0.00711</td></tr><tr><td>Recall_mean</td><td>0.90262</td></tr><tr><td>Recall_std</td><td>0.02826</td></tr></table><br/></div></div>"
      ],
      "text/plain": [
       "<IPython.core.display.HTML object>"
      ]
     },
     "metadata": {},
     "output_type": "display_data"
    },
    {
     "data": {
      "text/html": [
       " View run <strong style=\"color:#cdcd00\">LightGBM_Ablated 2</strong> at: <a href='https://wandb.ai/lequn/AudioVisual_ML_ablation_study_v2/runs/0imb6qfm' target=\"_blank\">https://wandb.ai/lequn/AudioVisual_ML_ablation_study_v2/runs/0imb6qfm</a><br/> View job at <a href='https://wandb.ai/lequn/AudioVisual_ML_ablation_study_v2/jobs/QXJ0aWZhY3RDb2xsZWN0aW9uOjExMTQ1OTc4Ng==/version_details/v23' target=\"_blank\">https://wandb.ai/lequn/AudioVisual_ML_ablation_study_v2/jobs/QXJ0aWZhY3RDb2xsZWN0aW9uOjExMTQ1OTc4Ng==/version_details/v23</a><br/>Synced 6 W&B file(s), 0 media file(s), 0 artifact file(s) and 0 other file(s)"
      ],
      "text/plain": [
       "<IPython.core.display.HTML object>"
      ]
     },
     "metadata": {},
     "output_type": "display_data"
    },
    {
     "data": {
      "text/html": [
       "Find logs at: <code>./wandb/run-20240305_115354-0imb6qfm/logs</code>"
      ],
      "text/plain": [
       "<IPython.core.display.HTML object>"
      ]
     },
     "metadata": {},
     "output_type": "display_data"
    },
    {
     "name": "stdout",
     "output_type": "stream",
     "text": [
      "\tTraining model: SVM\n"
     ]
    },
    {
     "data": {
      "application/vnd.jupyter.widget-view+json": {
       "model_id": "204e0a6dbcf4495bae5d79c02c45439f",
       "version_major": 2,
       "version_minor": 0
      },
      "text/plain": [
       "VBox(children=(Label(value='Waiting for wandb.init()...\\r'), FloatProgress(value=0.011113842277771053, max=1.0…"
      ]
     },
     "metadata": {},
     "output_type": "display_data"
    },
    {
     "data": {
      "text/html": [
       "wandb version 0.16.3 is available!  To upgrade, please run:\n",
       " $ pip install wandb --upgrade"
      ],
      "text/plain": [
       "<IPython.core.display.HTML object>"
      ]
     },
     "metadata": {},
     "output_type": "display_data"
    },
    {
     "data": {
      "text/html": [
       "Tracking run with wandb version 0.15.12"
      ],
      "text/plain": [
       "<IPython.core.display.HTML object>"
      ]
     },
     "metadata": {},
     "output_type": "display_data"
    },
    {
     "data": {
      "text/html": [
       "Run data is saved locally in <code>/home/chenlequn/GitHub/LDED-FusionNet/code/wandb/run-20240305_115405-hlciez2m</code>"
      ],
      "text/plain": [
       "<IPython.core.display.HTML object>"
      ]
     },
     "metadata": {},
     "output_type": "display_data"
    },
    {
     "data": {
      "text/html": [
       "Syncing run <strong><a href='https://wandb.ai/lequn/AudioVisual_ML_ablation_study_v2/runs/hlciez2m' target=\"_blank\">SVM_Ablated 2</a></strong> to <a href='https://wandb.ai/lequn/AudioVisual_ML_ablation_study_v2' target=\"_blank\">Weights & Biases</a> (<a href='https://wandb.me/run' target=\"_blank\">docs</a>)<br/>"
      ],
      "text/plain": [
       "<IPython.core.display.HTML object>"
      ]
     },
     "metadata": {},
     "output_type": "display_data"
    },
    {
     "data": {
      "text/html": [
       " View project at <a href='https://wandb.ai/lequn/AudioVisual_ML_ablation_study_v2' target=\"_blank\">https://wandb.ai/lequn/AudioVisual_ML_ablation_study_v2</a>"
      ],
      "text/plain": [
       "<IPython.core.display.HTML object>"
      ]
     },
     "metadata": {},
     "output_type": "display_data"
    },
    {
     "data": {
      "text/html": [
       " View run at <a href='https://wandb.ai/lequn/AudioVisual_ML_ablation_study_v2/runs/hlciez2m' target=\"_blank\">https://wandb.ai/lequn/AudioVisual_ML_ablation_study_v2/runs/hlciez2m</a>"
      ],
      "text/plain": [
       "<IPython.core.display.HTML object>"
      ]
     },
     "metadata": {},
     "output_type": "display_data"
    },
    {
     "name": "stdout",
     "output_type": "stream",
     "text": [
      "\t\tAccuracy: Mean = 0.852805049088359, Std = 0.04043334989695092\n",
      "\t\tF1 Score: Mean = 0.8509403282325264, Std = 0.04126414637576182\n",
      "\t\tPrecision: Mean = 0.856082766448322, Std = 0.04221224046714841\n",
      "\t\tRecall: Mean = 0.852805049088359, Std = 0.04043334989695092\n",
      "\t\tROC-AUC: Mean = 0.9633700114143877, Std = 0.019887366195509168\n"
     ]
    },
    {
     "data": {
      "text/html": [
       "Waiting for W&B process to finish... <strong style=\"color:green\">(success).</strong>"
      ],
      "text/plain": [
       "<IPython.core.display.HTML object>"
      ]
     },
     "metadata": {},
     "output_type": "display_data"
    },
    {
     "data": {
      "text/html": [
       "<style>\n",
       "    table.wandb td:nth-child(1) { padding: 0 10px; text-align: left ; width: auto;} td:nth-child(2) {text-align: left ; width: 100%}\n",
       "    .wandb-row { display: flex; flex-direction: row; flex-wrap: wrap; justify-content: flex-start; width: 100% }\n",
       "    .wandb-col { display: flex; flex-direction: column; flex-basis: 100%; flex: 1; padding: 10px; }\n",
       "    </style>\n",
       "<div class=\"wandb-row\"><div class=\"wandb-col\"><h3>Run history:</h3><br/><table class=\"wandb\"><tr><td>Accuracy_mean</td><td>▁</td></tr><tr><td>Accuracy_std</td><td>▁</td></tr><tr><td>F1 Score_mean</td><td>▁</td></tr><tr><td>F1 Score_std</td><td>▁</td></tr><tr><td>Precision_mean</td><td>▁</td></tr><tr><td>Precision_std</td><td>▁</td></tr><tr><td>ROC-AUC_mean</td><td>▁</td></tr><tr><td>ROC-AUC_std</td><td>▁</td></tr><tr><td>Recall_mean</td><td>▁</td></tr><tr><td>Recall_std</td><td>▁</td></tr></table><br/></div><div class=\"wandb-col\"><h3>Run summary:</h3><br/><table class=\"wandb\"><tr><td>Accuracy_mean</td><td>0.85281</td></tr><tr><td>Accuracy_std</td><td>0.04043</td></tr><tr><td>F1 Score_mean</td><td>0.85094</td></tr><tr><td>F1 Score_std</td><td>0.04126</td></tr><tr><td>Precision_mean</td><td>0.85608</td></tr><tr><td>Precision_std</td><td>0.04221</td></tr><tr><td>ROC-AUC_mean</td><td>0.96337</td></tr><tr><td>ROC-AUC_std</td><td>0.01989</td></tr><tr><td>Recall_mean</td><td>0.85281</td></tr><tr><td>Recall_std</td><td>0.04043</td></tr></table><br/></div></div>"
      ],
      "text/plain": [
       "<IPython.core.display.HTML object>"
      ]
     },
     "metadata": {},
     "output_type": "display_data"
    },
    {
     "data": {
      "text/html": [
       " View run <strong style=\"color:#cdcd00\">SVM_Ablated 2</strong> at: <a href='https://wandb.ai/lequn/AudioVisual_ML_ablation_study_v2/runs/hlciez2m' target=\"_blank\">https://wandb.ai/lequn/AudioVisual_ML_ablation_study_v2/runs/hlciez2m</a><br/> View job at <a href='https://wandb.ai/lequn/AudioVisual_ML_ablation_study_v2/jobs/QXJ0aWZhY3RDb2xsZWN0aW9uOjExMTQ1OTc4Ng==/version_details/v23' target=\"_blank\">https://wandb.ai/lequn/AudioVisual_ML_ablation_study_v2/jobs/QXJ0aWZhY3RDb2xsZWN0aW9uOjExMTQ1OTc4Ng==/version_details/v23</a><br/>Synced 6 W&B file(s), 0 media file(s), 0 artifact file(s) and 0 other file(s)"
      ],
      "text/plain": [
       "<IPython.core.display.HTML object>"
      ]
     },
     "metadata": {},
     "output_type": "display_data"
    },
    {
     "data": {
      "text/html": [
       "Find logs at: <code>./wandb/run-20240305_115405-hlciez2m/logs</code>"
      ],
      "text/plain": [
       "<IPython.core.display.HTML object>"
      ]
     },
     "metadata": {},
     "output_type": "display_data"
    },
    {
     "name": "stdout",
     "output_type": "stream",
     "text": [
      "\tTraining model: HistGB\n"
     ]
    },
    {
     "data": {
      "application/vnd.jupyter.widget-view+json": {
       "model_id": "157c1affeb3d4660b8e49619884bc4ea",
       "version_major": 2,
       "version_minor": 0
      },
      "text/plain": [
       "VBox(children=(Label(value='Waiting for wandb.init()...\\r'), FloatProgress(value=0.011113947044436322, max=1.0…"
      ]
     },
     "metadata": {},
     "output_type": "display_data"
    },
    {
     "data": {
      "text/html": [
       "wandb version 0.16.3 is available!  To upgrade, please run:\n",
       " $ pip install wandb --upgrade"
      ],
      "text/plain": [
       "<IPython.core.display.HTML object>"
      ]
     },
     "metadata": {},
     "output_type": "display_data"
    },
    {
     "data": {
      "text/html": [
       "Tracking run with wandb version 0.15.12"
      ],
      "text/plain": [
       "<IPython.core.display.HTML object>"
      ]
     },
     "metadata": {},
     "output_type": "display_data"
    },
    {
     "data": {
      "text/html": [
       "Run data is saved locally in <code>/home/chenlequn/GitHub/LDED-FusionNet/code/wandb/run-20240305_115416-g8afor76</code>"
      ],
      "text/plain": [
       "<IPython.core.display.HTML object>"
      ]
     },
     "metadata": {},
     "output_type": "display_data"
    },
    {
     "data": {
      "text/html": [
       "Syncing run <strong><a href='https://wandb.ai/lequn/AudioVisual_ML_ablation_study_v2/runs/g8afor76' target=\"_blank\">HistGB_Ablated 2</a></strong> to <a href='https://wandb.ai/lequn/AudioVisual_ML_ablation_study_v2' target=\"_blank\">Weights & Biases</a> (<a href='https://wandb.me/run' target=\"_blank\">docs</a>)<br/>"
      ],
      "text/plain": [
       "<IPython.core.display.HTML object>"
      ]
     },
     "metadata": {},
     "output_type": "display_data"
    },
    {
     "data": {
      "text/html": [
       " View project at <a href='https://wandb.ai/lequn/AudioVisual_ML_ablation_study_v2' target=\"_blank\">https://wandb.ai/lequn/AudioVisual_ML_ablation_study_v2</a>"
      ],
      "text/plain": [
       "<IPython.core.display.HTML object>"
      ]
     },
     "metadata": {},
     "output_type": "display_data"
    },
    {
     "data": {
      "text/html": [
       " View run at <a href='https://wandb.ai/lequn/AudioVisual_ML_ablation_study_v2/runs/g8afor76' target=\"_blank\">https://wandb.ai/lequn/AudioVisual_ML_ablation_study_v2/runs/g8afor76</a>"
      ],
      "text/plain": [
       "<IPython.core.display.HTML object>"
      ]
     },
     "metadata": {},
     "output_type": "display_data"
    },
    {
     "name": "stdout",
     "output_type": "stream",
     "text": [
      "\t\tAccuracy: Mean = 0.9048620850864889, Std = 0.03941117538584906\n",
      "\t\tF1 Score: Mean = 0.9045413643555815, Std = 0.039816904527080046\n",
      "\t\tPrecision: Mean = 0.908256046508472, Std = 0.04105573357565269\n",
      "\t\tRecall: Mean = 0.9048620850864889, Std = 0.03941117538584906\n",
      "\t\tROC-AUC: Mean = 0.9848743995224123, Std = 0.005821936580561933\n"
     ]
    },
    {
     "data": {
      "text/html": [
       "Waiting for W&B process to finish... <strong style=\"color:green\">(success).</strong>"
      ],
      "text/plain": [
       "<IPython.core.display.HTML object>"
      ]
     },
     "metadata": {},
     "output_type": "display_data"
    },
    {
     "data": {
      "text/html": [
       "<style>\n",
       "    table.wandb td:nth-child(1) { padding: 0 10px; text-align: left ; width: auto;} td:nth-child(2) {text-align: left ; width: 100%}\n",
       "    .wandb-row { display: flex; flex-direction: row; flex-wrap: wrap; justify-content: flex-start; width: 100% }\n",
       "    .wandb-col { display: flex; flex-direction: column; flex-basis: 100%; flex: 1; padding: 10px; }\n",
       "    </style>\n",
       "<div class=\"wandb-row\"><div class=\"wandb-col\"><h3>Run history:</h3><br/><table class=\"wandb\"><tr><td>Accuracy_mean</td><td>▁</td></tr><tr><td>Accuracy_std</td><td>▁</td></tr><tr><td>F1 Score_mean</td><td>▁</td></tr><tr><td>F1 Score_std</td><td>▁</td></tr><tr><td>Precision_mean</td><td>▁</td></tr><tr><td>Precision_std</td><td>▁</td></tr><tr><td>ROC-AUC_mean</td><td>▁</td></tr><tr><td>ROC-AUC_std</td><td>▁</td></tr><tr><td>Recall_mean</td><td>▁</td></tr><tr><td>Recall_std</td><td>▁</td></tr></table><br/></div><div class=\"wandb-col\"><h3>Run summary:</h3><br/><table class=\"wandb\"><tr><td>Accuracy_mean</td><td>0.90486</td></tr><tr><td>Accuracy_std</td><td>0.03941</td></tr><tr><td>F1 Score_mean</td><td>0.90454</td></tr><tr><td>F1 Score_std</td><td>0.03982</td></tr><tr><td>Precision_mean</td><td>0.90826</td></tr><tr><td>Precision_std</td><td>0.04106</td></tr><tr><td>ROC-AUC_mean</td><td>0.98487</td></tr><tr><td>ROC-AUC_std</td><td>0.00582</td></tr><tr><td>Recall_mean</td><td>0.90486</td></tr><tr><td>Recall_std</td><td>0.03941</td></tr></table><br/></div></div>"
      ],
      "text/plain": [
       "<IPython.core.display.HTML object>"
      ]
     },
     "metadata": {},
     "output_type": "display_data"
    },
    {
     "data": {
      "text/html": [
       " View run <strong style=\"color:#cdcd00\">HistGB_Ablated 2</strong> at: <a href='https://wandb.ai/lequn/AudioVisual_ML_ablation_study_v2/runs/g8afor76' target=\"_blank\">https://wandb.ai/lequn/AudioVisual_ML_ablation_study_v2/runs/g8afor76</a><br/> View job at <a href='https://wandb.ai/lequn/AudioVisual_ML_ablation_study_v2/jobs/QXJ0aWZhY3RDb2xsZWN0aW9uOjExMTQ1OTc4Ng==/version_details/v22' target=\"_blank\">https://wandb.ai/lequn/AudioVisual_ML_ablation_study_v2/jobs/QXJ0aWZhY3RDb2xsZWN0aW9uOjExMTQ1OTc4Ng==/version_details/v22</a><br/>Synced 6 W&B file(s), 0 media file(s), 0 artifact file(s) and 0 other file(s)"
      ],
      "text/plain": [
       "<IPython.core.display.HTML object>"
      ]
     },
     "metadata": {},
     "output_type": "display_data"
    },
    {
     "data": {
      "text/html": [
       "Find logs at: <code>./wandb/run-20240305_115416-g8afor76/logs</code>"
      ],
      "text/plain": [
       "<IPython.core.display.HTML object>"
      ]
     },
     "metadata": {},
     "output_type": "display_data"
    },
    {
     "name": "stdout",
     "output_type": "stream",
     "text": [
      "Processing dataset: Ablated 3\n",
      "\tTraining model: KNN\n"
     ]
    },
    {
     "data": {
      "application/vnd.jupyter.widget-view+json": {
       "model_id": "14c8b2847c6e47849ca0e657b9e811bb",
       "version_major": 2,
       "version_minor": 0
      },
      "text/plain": [
       "VBox(children=(Label(value='Waiting for wandb.init()...\\r'), FloatProgress(value=0.011112571411104, max=1.0)))"
      ]
     },
     "metadata": {},
     "output_type": "display_data"
    },
    {
     "data": {
      "text/html": [
       "wandb version 0.16.3 is available!  To upgrade, please run:\n",
       " $ pip install wandb --upgrade"
      ],
      "text/plain": [
       "<IPython.core.display.HTML object>"
      ]
     },
     "metadata": {},
     "output_type": "display_data"
    },
    {
     "data": {
      "text/html": [
       "Tracking run with wandb version 0.15.12"
      ],
      "text/plain": [
       "<IPython.core.display.HTML object>"
      ]
     },
     "metadata": {},
     "output_type": "display_data"
    },
    {
     "data": {
      "text/html": [
       "Run data is saved locally in <code>/home/chenlequn/GitHub/LDED-FusionNet/code/wandb/run-20240305_115430-8clvr2oz</code>"
      ],
      "text/plain": [
       "<IPython.core.display.HTML object>"
      ]
     },
     "metadata": {},
     "output_type": "display_data"
    },
    {
     "data": {
      "text/html": [
       "Syncing run <strong><a href='https://wandb.ai/lequn/AudioVisual_ML_ablation_study_v2/runs/8clvr2oz' target=\"_blank\">KNN_Ablated 3</a></strong> to <a href='https://wandb.ai/lequn/AudioVisual_ML_ablation_study_v2' target=\"_blank\">Weights & Biases</a> (<a href='https://wandb.me/run' target=\"_blank\">docs</a>)<br/>"
      ],
      "text/plain": [
       "<IPython.core.display.HTML object>"
      ]
     },
     "metadata": {},
     "output_type": "display_data"
    },
    {
     "data": {
      "text/html": [
       " View project at <a href='https://wandb.ai/lequn/AudioVisual_ML_ablation_study_v2' target=\"_blank\">https://wandb.ai/lequn/AudioVisual_ML_ablation_study_v2</a>"
      ],
      "text/plain": [
       "<IPython.core.display.HTML object>"
      ]
     },
     "metadata": {},
     "output_type": "display_data"
    },
    {
     "data": {
      "text/html": [
       " View run at <a href='https://wandb.ai/lequn/AudioVisual_ML_ablation_study_v2/runs/8clvr2oz' target=\"_blank\">https://wandb.ai/lequn/AudioVisual_ML_ablation_study_v2/runs/8clvr2oz</a>"
      ],
      "text/plain": [
       "<IPython.core.display.HTML object>"
      ]
     },
     "metadata": {},
     "output_type": "display_data"
    },
    {
     "name": "stdout",
     "output_type": "stream",
     "text": [
      "\t\tAccuracy: Mean = 0.874520804114072, Std = 0.024975352966933692\n",
      "\t\tF1 Score: Mean = 0.8743344123598868, Std = 0.024516346128526382\n",
      "\t\tPrecision: Mean = 0.8785796289422965, Std = 0.024317623448871704\n",
      "\t\tRecall: Mean = 0.874520804114072, Std = 0.024975352966933692\n",
      "\t\tROC-AUC: Mean = 0.9612187918303903, Std = 0.012531442361516834\n"
     ]
    },
    {
     "data": {
      "text/html": [
       "Waiting for W&B process to finish... <strong style=\"color:green\">(success).</strong>"
      ],
      "text/plain": [
       "<IPython.core.display.HTML object>"
      ]
     },
     "metadata": {},
     "output_type": "display_data"
    },
    {
     "data": {
      "text/html": [
       "<style>\n",
       "    table.wandb td:nth-child(1) { padding: 0 10px; text-align: left ; width: auto;} td:nth-child(2) {text-align: left ; width: 100%}\n",
       "    .wandb-row { display: flex; flex-direction: row; flex-wrap: wrap; justify-content: flex-start; width: 100% }\n",
       "    .wandb-col { display: flex; flex-direction: column; flex-basis: 100%; flex: 1; padding: 10px; }\n",
       "    </style>\n",
       "<div class=\"wandb-row\"><div class=\"wandb-col\"><h3>Run history:</h3><br/><table class=\"wandb\"><tr><td>Accuracy_mean</td><td>▁</td></tr><tr><td>Accuracy_std</td><td>▁</td></tr><tr><td>F1 Score_mean</td><td>▁</td></tr><tr><td>F1 Score_std</td><td>▁</td></tr><tr><td>Precision_mean</td><td>▁</td></tr><tr><td>Precision_std</td><td>▁</td></tr><tr><td>ROC-AUC_mean</td><td>▁</td></tr><tr><td>ROC-AUC_std</td><td>▁</td></tr><tr><td>Recall_mean</td><td>▁</td></tr><tr><td>Recall_std</td><td>▁</td></tr></table><br/></div><div class=\"wandb-col\"><h3>Run summary:</h3><br/><table class=\"wandb\"><tr><td>Accuracy_mean</td><td>0.87452</td></tr><tr><td>Accuracy_std</td><td>0.02498</td></tr><tr><td>F1 Score_mean</td><td>0.87433</td></tr><tr><td>F1 Score_std</td><td>0.02452</td></tr><tr><td>Precision_mean</td><td>0.87858</td></tr><tr><td>Precision_std</td><td>0.02432</td></tr><tr><td>ROC-AUC_mean</td><td>0.96122</td></tr><tr><td>ROC-AUC_std</td><td>0.01253</td></tr><tr><td>Recall_mean</td><td>0.87452</td></tr><tr><td>Recall_std</td><td>0.02498</td></tr></table><br/></div></div>"
      ],
      "text/plain": [
       "<IPython.core.display.HTML object>"
      ]
     },
     "metadata": {},
     "output_type": "display_data"
    },
    {
     "data": {
      "text/html": [
       " View run <strong style=\"color:#cdcd00\">KNN_Ablated 3</strong> at: <a href='https://wandb.ai/lequn/AudioVisual_ML_ablation_study_v2/runs/8clvr2oz' target=\"_blank\">https://wandb.ai/lequn/AudioVisual_ML_ablation_study_v2/runs/8clvr2oz</a><br/> View job at <a href='https://wandb.ai/lequn/AudioVisual_ML_ablation_study_v2/jobs/QXJ0aWZhY3RDb2xsZWN0aW9uOjExMTQ1OTc4Ng==/version_details/v23' target=\"_blank\">https://wandb.ai/lequn/AudioVisual_ML_ablation_study_v2/jobs/QXJ0aWZhY3RDb2xsZWN0aW9uOjExMTQ1OTc4Ng==/version_details/v23</a><br/>Synced 6 W&B file(s), 0 media file(s), 0 artifact file(s) and 0 other file(s)"
      ],
      "text/plain": [
       "<IPython.core.display.HTML object>"
      ]
     },
     "metadata": {},
     "output_type": "display_data"
    },
    {
     "data": {
      "text/html": [
       "Find logs at: <code>./wandb/run-20240305_115430-8clvr2oz/logs</code>"
      ],
      "text/plain": [
       "<IPython.core.display.HTML object>"
      ]
     },
     "metadata": {},
     "output_type": "display_data"
    },
    {
     "name": "stdout",
     "output_type": "stream",
     "text": [
      "\tTraining model: DT\n"
     ]
    },
    {
     "data": {
      "application/vnd.jupyter.widget-view+json": {
       "model_id": "952737e2a9414f1793458bd4036c788a",
       "version_major": 2,
       "version_minor": 0
      },
      "text/plain": [
       "VBox(children=(Label(value='Waiting for wandb.init()...\\r'), FloatProgress(value=0.01111243506666142, max=1.0)…"
      ]
     },
     "metadata": {},
     "output_type": "display_data"
    },
    {
     "data": {
      "text/html": [
       "wandb version 0.16.3 is available!  To upgrade, please run:\n",
       " $ pip install wandb --upgrade"
      ],
      "text/plain": [
       "<IPython.core.display.HTML object>"
      ]
     },
     "metadata": {},
     "output_type": "display_data"
    },
    {
     "data": {
      "text/html": [
       "Tracking run with wandb version 0.15.12"
      ],
      "text/plain": [
       "<IPython.core.display.HTML object>"
      ]
     },
     "metadata": {},
     "output_type": "display_data"
    },
    {
     "data": {
      "text/html": [
       "Run data is saved locally in <code>/home/chenlequn/GitHub/LDED-FusionNet/code/wandb/run-20240305_115441-aloow76l</code>"
      ],
      "text/plain": [
       "<IPython.core.display.HTML object>"
      ]
     },
     "metadata": {},
     "output_type": "display_data"
    },
    {
     "data": {
      "text/html": [
       "Syncing run <strong><a href='https://wandb.ai/lequn/AudioVisual_ML_ablation_study_v2/runs/aloow76l' target=\"_blank\">DT_Ablated 3</a></strong> to <a href='https://wandb.ai/lequn/AudioVisual_ML_ablation_study_v2' target=\"_blank\">Weights & Biases</a> (<a href='https://wandb.me/run' target=\"_blank\">docs</a>)<br/>"
      ],
      "text/plain": [
       "<IPython.core.display.HTML object>"
      ]
     },
     "metadata": {},
     "output_type": "display_data"
    },
    {
     "data": {
      "text/html": [
       " View project at <a href='https://wandb.ai/lequn/AudioVisual_ML_ablation_study_v2' target=\"_blank\">https://wandb.ai/lequn/AudioVisual_ML_ablation_study_v2</a>"
      ],
      "text/plain": [
       "<IPython.core.display.HTML object>"
      ]
     },
     "metadata": {},
     "output_type": "display_data"
    },
    {
     "data": {
      "text/html": [
       " View run at <a href='https://wandb.ai/lequn/AudioVisual_ML_ablation_study_v2/runs/aloow76l' target=\"_blank\">https://wandb.ai/lequn/AudioVisual_ML_ablation_study_v2/runs/aloow76l</a>"
      ],
      "text/plain": [
       "<IPython.core.display.HTML object>"
      ]
     },
     "metadata": {},
     "output_type": "display_data"
    },
    {
     "name": "stdout",
     "output_type": "stream",
     "text": [
      "\t\tAccuracy: Mean = 0.8290556334735857, Std = 0.03430086212724362\n",
      "\t\tF1 Score: Mean = 0.8300685351676759, Std = 0.03565830040334056\n",
      "\t\tPrecision: Mean = 0.8394510522328875, Std = 0.03150655347204069\n",
      "\t\tRecall: Mean = 0.8290556334735857, Std = 0.03430086212724362\n",
      "\t\tROC-AUC: Mean = 0.904512718493909, Std = 0.023511951311138875\n"
     ]
    },
    {
     "data": {
      "text/html": [
       "Waiting for W&B process to finish... <strong style=\"color:green\">(success).</strong>"
      ],
      "text/plain": [
       "<IPython.core.display.HTML object>"
      ]
     },
     "metadata": {},
     "output_type": "display_data"
    },
    {
     "data": {
      "text/html": [
       "<style>\n",
       "    table.wandb td:nth-child(1) { padding: 0 10px; text-align: left ; width: auto;} td:nth-child(2) {text-align: left ; width: 100%}\n",
       "    .wandb-row { display: flex; flex-direction: row; flex-wrap: wrap; justify-content: flex-start; width: 100% }\n",
       "    .wandb-col { display: flex; flex-direction: column; flex-basis: 100%; flex: 1; padding: 10px; }\n",
       "    </style>\n",
       "<div class=\"wandb-row\"><div class=\"wandb-col\"><h3>Run history:</h3><br/><table class=\"wandb\"><tr><td>Accuracy_mean</td><td>▁</td></tr><tr><td>Accuracy_std</td><td>▁</td></tr><tr><td>F1 Score_mean</td><td>▁</td></tr><tr><td>F1 Score_std</td><td>▁</td></tr><tr><td>Precision_mean</td><td>▁</td></tr><tr><td>Precision_std</td><td>▁</td></tr><tr><td>ROC-AUC_mean</td><td>▁</td></tr><tr><td>ROC-AUC_std</td><td>▁</td></tr><tr><td>Recall_mean</td><td>▁</td></tr><tr><td>Recall_std</td><td>▁</td></tr></table><br/></div><div class=\"wandb-col\"><h3>Run summary:</h3><br/><table class=\"wandb\"><tr><td>Accuracy_mean</td><td>0.82906</td></tr><tr><td>Accuracy_std</td><td>0.0343</td></tr><tr><td>F1 Score_mean</td><td>0.83007</td></tr><tr><td>F1 Score_std</td><td>0.03566</td></tr><tr><td>Precision_mean</td><td>0.83945</td></tr><tr><td>Precision_std</td><td>0.03151</td></tr><tr><td>ROC-AUC_mean</td><td>0.90451</td></tr><tr><td>ROC-AUC_std</td><td>0.02351</td></tr><tr><td>Recall_mean</td><td>0.82906</td></tr><tr><td>Recall_std</td><td>0.0343</td></tr></table><br/></div></div>"
      ],
      "text/plain": [
       "<IPython.core.display.HTML object>"
      ]
     },
     "metadata": {},
     "output_type": "display_data"
    },
    {
     "data": {
      "text/html": [
       " View run <strong style=\"color:#cdcd00\">DT_Ablated 3</strong> at: <a href='https://wandb.ai/lequn/AudioVisual_ML_ablation_study_v2/runs/aloow76l' target=\"_blank\">https://wandb.ai/lequn/AudioVisual_ML_ablation_study_v2/runs/aloow76l</a><br/> View job at <a href='https://wandb.ai/lequn/AudioVisual_ML_ablation_study_v2/jobs/QXJ0aWZhY3RDb2xsZWN0aW9uOjExMTQ1OTc4Ng==/version_details/v23' target=\"_blank\">https://wandb.ai/lequn/AudioVisual_ML_ablation_study_v2/jobs/QXJ0aWZhY3RDb2xsZWN0aW9uOjExMTQ1OTc4Ng==/version_details/v23</a><br/>Synced 6 W&B file(s), 0 media file(s), 0 artifact file(s) and 0 other file(s)"
      ],
      "text/plain": [
       "<IPython.core.display.HTML object>"
      ]
     },
     "metadata": {},
     "output_type": "display_data"
    },
    {
     "data": {
      "text/html": [
       "Find logs at: <code>./wandb/run-20240305_115441-aloow76l/logs</code>"
      ],
      "text/plain": [
       "<IPython.core.display.HTML object>"
      ]
     },
     "metadata": {},
     "output_type": "display_data"
    },
    {
     "name": "stdout",
     "output_type": "stream",
     "text": [
      "\tTraining model: RF\n"
     ]
    },
    {
     "data": {
      "application/vnd.jupyter.widget-view+json": {
       "model_id": "f3becb5f31034fb9bb7f2fc412e59e9f",
       "version_major": 2,
       "version_minor": 0
      },
      "text/plain": [
       "VBox(children=(Label(value='Waiting for wandb.init()...\\r'), FloatProgress(value=0.011113274488889147, max=1.0…"
      ]
     },
     "metadata": {},
     "output_type": "display_data"
    },
    {
     "data": {
      "text/html": [
       "wandb version 0.16.3 is available!  To upgrade, please run:\n",
       " $ pip install wandb --upgrade"
      ],
      "text/plain": [
       "<IPython.core.display.HTML object>"
      ]
     },
     "metadata": {},
     "output_type": "display_data"
    },
    {
     "data": {
      "text/html": [
       "Tracking run with wandb version 0.15.12"
      ],
      "text/plain": [
       "<IPython.core.display.HTML object>"
      ]
     },
     "metadata": {},
     "output_type": "display_data"
    },
    {
     "data": {
      "text/html": [
       "Run data is saved locally in <code>/home/chenlequn/GitHub/LDED-FusionNet/code/wandb/run-20240305_115454-hdchj9ry</code>"
      ],
      "text/plain": [
       "<IPython.core.display.HTML object>"
      ]
     },
     "metadata": {},
     "output_type": "display_data"
    },
    {
     "data": {
      "text/html": [
       "Syncing run <strong><a href='https://wandb.ai/lequn/AudioVisual_ML_ablation_study_v2/runs/hdchj9ry' target=\"_blank\">RF_Ablated 3</a></strong> to <a href='https://wandb.ai/lequn/AudioVisual_ML_ablation_study_v2' target=\"_blank\">Weights & Biases</a> (<a href='https://wandb.me/run' target=\"_blank\">docs</a>)<br/>"
      ],
      "text/plain": [
       "<IPython.core.display.HTML object>"
      ]
     },
     "metadata": {},
     "output_type": "display_data"
    },
    {
     "data": {
      "text/html": [
       " View project at <a href='https://wandb.ai/lequn/AudioVisual_ML_ablation_study_v2' target=\"_blank\">https://wandb.ai/lequn/AudioVisual_ML_ablation_study_v2</a>"
      ],
      "text/plain": [
       "<IPython.core.display.HTML object>"
      ]
     },
     "metadata": {},
     "output_type": "display_data"
    },
    {
     "data": {
      "text/html": [
       " View run at <a href='https://wandb.ai/lequn/AudioVisual_ML_ablation_study_v2/runs/hdchj9ry' target=\"_blank\">https://wandb.ai/lequn/AudioVisual_ML_ablation_study_v2/runs/hdchj9ry</a>"
      ],
      "text/plain": [
       "<IPython.core.display.HTML object>"
      ]
     },
     "metadata": {},
     "output_type": "display_data"
    },
    {
     "name": "stdout",
     "output_type": "stream",
     "text": [
      "\t\tAccuracy: Mean = 0.8917718560074801, Std = 0.02750402721686938\n",
      "\t\tF1 Score: Mean = 0.8918392249319662, Std = 0.026787730943851357\n",
      "\t\tPrecision: Mean = 0.8973694593278815, Std = 0.025720996136875406\n",
      "\t\tRecall: Mean = 0.8917718560074801, Std = 0.02750402721686938\n",
      "\t\tROC-AUC: Mean = 0.9826825840764177, Std = 0.006253046368719198\n"
     ]
    },
    {
     "data": {
      "text/html": [
       "Waiting for W&B process to finish... <strong style=\"color:green\">(success).</strong>"
      ],
      "text/plain": [
       "<IPython.core.display.HTML object>"
      ]
     },
     "metadata": {},
     "output_type": "display_data"
    },
    {
     "data": {
      "text/html": [
       "<style>\n",
       "    table.wandb td:nth-child(1) { padding: 0 10px; text-align: left ; width: auto;} td:nth-child(2) {text-align: left ; width: 100%}\n",
       "    .wandb-row { display: flex; flex-direction: row; flex-wrap: wrap; justify-content: flex-start; width: 100% }\n",
       "    .wandb-col { display: flex; flex-direction: column; flex-basis: 100%; flex: 1; padding: 10px; }\n",
       "    </style>\n",
       "<div class=\"wandb-row\"><div class=\"wandb-col\"><h3>Run history:</h3><br/><table class=\"wandb\"><tr><td>Accuracy_mean</td><td>▁</td></tr><tr><td>Accuracy_std</td><td>▁</td></tr><tr><td>F1 Score_mean</td><td>▁</td></tr><tr><td>F1 Score_std</td><td>▁</td></tr><tr><td>Precision_mean</td><td>▁</td></tr><tr><td>Precision_std</td><td>▁</td></tr><tr><td>ROC-AUC_mean</td><td>▁</td></tr><tr><td>ROC-AUC_std</td><td>▁</td></tr><tr><td>Recall_mean</td><td>▁</td></tr><tr><td>Recall_std</td><td>▁</td></tr></table><br/></div><div class=\"wandb-col\"><h3>Run summary:</h3><br/><table class=\"wandb\"><tr><td>Accuracy_mean</td><td>0.89177</td></tr><tr><td>Accuracy_std</td><td>0.0275</td></tr><tr><td>F1 Score_mean</td><td>0.89184</td></tr><tr><td>F1 Score_std</td><td>0.02679</td></tr><tr><td>Precision_mean</td><td>0.89737</td></tr><tr><td>Precision_std</td><td>0.02572</td></tr><tr><td>ROC-AUC_mean</td><td>0.98268</td></tr><tr><td>ROC-AUC_std</td><td>0.00625</td></tr><tr><td>Recall_mean</td><td>0.89177</td></tr><tr><td>Recall_std</td><td>0.0275</td></tr></table><br/></div></div>"
      ],
      "text/plain": [
       "<IPython.core.display.HTML object>"
      ]
     },
     "metadata": {},
     "output_type": "display_data"
    },
    {
     "data": {
      "text/html": [
       " View run <strong style=\"color:#cdcd00\">RF_Ablated 3</strong> at: <a href='https://wandb.ai/lequn/AudioVisual_ML_ablation_study_v2/runs/hdchj9ry' target=\"_blank\">https://wandb.ai/lequn/AudioVisual_ML_ablation_study_v2/runs/hdchj9ry</a><br/> View job at <a href='https://wandb.ai/lequn/AudioVisual_ML_ablation_study_v2/jobs/QXJ0aWZhY3RDb2xsZWN0aW9uOjExMTQ1OTc4Ng==/version_details/v23' target=\"_blank\">https://wandb.ai/lequn/AudioVisual_ML_ablation_study_v2/jobs/QXJ0aWZhY3RDb2xsZWN0aW9uOjExMTQ1OTc4Ng==/version_details/v23</a><br/>Synced 6 W&B file(s), 0 media file(s), 0 artifact file(s) and 0 other file(s)"
      ],
      "text/plain": [
       "<IPython.core.display.HTML object>"
      ]
     },
     "metadata": {},
     "output_type": "display_data"
    },
    {
     "data": {
      "text/html": [
       "Find logs at: <code>./wandb/run-20240305_115454-hdchj9ry/logs</code>"
      ],
      "text/plain": [
       "<IPython.core.display.HTML object>"
      ]
     },
     "metadata": {},
     "output_type": "display_data"
    },
    {
     "name": "stdout",
     "output_type": "stream",
     "text": [
      "\tTraining model: BalancedRF\n"
     ]
    },
    {
     "data": {
      "application/vnd.jupyter.widget-view+json": {
       "model_id": "1393116bb29f44bb8c5c87a714753620",
       "version_major": 2,
       "version_minor": 0
      },
      "text/plain": [
       "VBox(children=(Label(value='Waiting for wandb.init()...\\r'), FloatProgress(value=0.011113230044449867, max=1.0…"
      ]
     },
     "metadata": {},
     "output_type": "display_data"
    },
    {
     "data": {
      "text/html": [
       "wandb version 0.16.3 is available!  To upgrade, please run:\n",
       " $ pip install wandb --upgrade"
      ],
      "text/plain": [
       "<IPython.core.display.HTML object>"
      ]
     },
     "metadata": {},
     "output_type": "display_data"
    },
    {
     "data": {
      "text/html": [
       "Tracking run with wandb version 0.15.12"
      ],
      "text/plain": [
       "<IPython.core.display.HTML object>"
      ]
     },
     "metadata": {},
     "output_type": "display_data"
    },
    {
     "data": {
      "text/html": [
       "Run data is saved locally in <code>/home/chenlequn/GitHub/LDED-FusionNet/code/wandb/run-20240305_115508-ai4067rz</code>"
      ],
      "text/plain": [
       "<IPython.core.display.HTML object>"
      ]
     },
     "metadata": {},
     "output_type": "display_data"
    },
    {
     "data": {
      "text/html": [
       "Syncing run <strong><a href='https://wandb.ai/lequn/AudioVisual_ML_ablation_study_v2/runs/ai4067rz' target=\"_blank\">BalancedRF_Ablated 3</a></strong> to <a href='https://wandb.ai/lequn/AudioVisual_ML_ablation_study_v2' target=\"_blank\">Weights & Biases</a> (<a href='https://wandb.me/run' target=\"_blank\">docs</a>)<br/>"
      ],
      "text/plain": [
       "<IPython.core.display.HTML object>"
      ]
     },
     "metadata": {},
     "output_type": "display_data"
    },
    {
     "data": {
      "text/html": [
       " View project at <a href='https://wandb.ai/lequn/AudioVisual_ML_ablation_study_v2' target=\"_blank\">https://wandb.ai/lequn/AudioVisual_ML_ablation_study_v2</a>"
      ],
      "text/plain": [
       "<IPython.core.display.HTML object>"
      ]
     },
     "metadata": {},
     "output_type": "display_data"
    },
    {
     "data": {
      "text/html": [
       " View run at <a href='https://wandb.ai/lequn/AudioVisual_ML_ablation_study_v2/runs/ai4067rz' target=\"_blank\">https://wandb.ai/lequn/AudioVisual_ML_ablation_study_v2/runs/ai4067rz</a>"
      ],
      "text/plain": [
       "<IPython.core.display.HTML object>"
      ]
     },
     "metadata": {},
     "output_type": "display_data"
    },
    {
     "name": "stderr",
     "output_type": "stream",
     "text": [
      "/home/chenlequn/anaconda3/envs/torch/lib/python3.9/site-packages/imblearn/ensemble/_forest.py:546: FutureWarning: The default of `sampling_strategy` will change from `'auto'` to `'all'` in version 0.13. This change will follow the implementation proposed in the original paper. Set to `'all'` to silence this warning and adopt the future behaviour.\n",
      "  warn(\n",
      "/home/chenlequn/anaconda3/envs/torch/lib/python3.9/site-packages/imblearn/ensemble/_forest.py:558: FutureWarning: The default of `replacement` will change from `False` to `True` in version 0.13. This change will follow the implementation proposed in the original paper. Set to `True` to silence this warning and adopt the future behaviour.\n",
      "  warn(\n"
     ]
    },
    {
     "name": "stdout",
     "output_type": "stream",
     "text": [
      "\t\tAccuracy: Mean = 0.865895278167368, Std = 0.03998230989749215\n",
      "\t\tF1 Score: Mean = 0.8669046793872104, Std = 0.03804111253066339\n",
      "\t\tPrecision: Mean = 0.8714058646701662, Std = 0.0347417909479754\n",
      "\t\tRecall: Mean = 0.865895278167368, Std = 0.03998230989749215\n",
      "\t\tROC-AUC: Mean = 0.9753059667813548, Std = 0.009039668724751648\n"
     ]
    },
    {
     "data": {
      "text/html": [
       "Waiting for W&B process to finish... <strong style=\"color:green\">(success).</strong>"
      ],
      "text/plain": [
       "<IPython.core.display.HTML object>"
      ]
     },
     "metadata": {},
     "output_type": "display_data"
    },
    {
     "data": {
      "text/html": [
       "<style>\n",
       "    table.wandb td:nth-child(1) { padding: 0 10px; text-align: left ; width: auto;} td:nth-child(2) {text-align: left ; width: 100%}\n",
       "    .wandb-row { display: flex; flex-direction: row; flex-wrap: wrap; justify-content: flex-start; width: 100% }\n",
       "    .wandb-col { display: flex; flex-direction: column; flex-basis: 100%; flex: 1; padding: 10px; }\n",
       "    </style>\n",
       "<div class=\"wandb-row\"><div class=\"wandb-col\"><h3>Run history:</h3><br/><table class=\"wandb\"><tr><td>Accuracy_mean</td><td>▁</td></tr><tr><td>Accuracy_std</td><td>▁</td></tr><tr><td>F1 Score_mean</td><td>▁</td></tr><tr><td>F1 Score_std</td><td>▁</td></tr><tr><td>Precision_mean</td><td>▁</td></tr><tr><td>Precision_std</td><td>▁</td></tr><tr><td>ROC-AUC_mean</td><td>▁</td></tr><tr><td>ROC-AUC_std</td><td>▁</td></tr><tr><td>Recall_mean</td><td>▁</td></tr><tr><td>Recall_std</td><td>▁</td></tr></table><br/></div><div class=\"wandb-col\"><h3>Run summary:</h3><br/><table class=\"wandb\"><tr><td>Accuracy_mean</td><td>0.8659</td></tr><tr><td>Accuracy_std</td><td>0.03998</td></tr><tr><td>F1 Score_mean</td><td>0.8669</td></tr><tr><td>F1 Score_std</td><td>0.03804</td></tr><tr><td>Precision_mean</td><td>0.87141</td></tr><tr><td>Precision_std</td><td>0.03474</td></tr><tr><td>ROC-AUC_mean</td><td>0.97531</td></tr><tr><td>ROC-AUC_std</td><td>0.00904</td></tr><tr><td>Recall_mean</td><td>0.8659</td></tr><tr><td>Recall_std</td><td>0.03998</td></tr></table><br/></div></div>"
      ],
      "text/plain": [
       "<IPython.core.display.HTML object>"
      ]
     },
     "metadata": {},
     "output_type": "display_data"
    },
    {
     "data": {
      "text/html": [
       " View run <strong style=\"color:#cdcd00\">BalancedRF_Ablated 3</strong> at: <a href='https://wandb.ai/lequn/AudioVisual_ML_ablation_study_v2/runs/ai4067rz' target=\"_blank\">https://wandb.ai/lequn/AudioVisual_ML_ablation_study_v2/runs/ai4067rz</a><br/> View job at <a href='https://wandb.ai/lequn/AudioVisual_ML_ablation_study_v2/jobs/QXJ0aWZhY3RDb2xsZWN0aW9uOjExMTQ1OTc4Ng==/version_details/v23' target=\"_blank\">https://wandb.ai/lequn/AudioVisual_ML_ablation_study_v2/jobs/QXJ0aWZhY3RDb2xsZWN0aW9uOjExMTQ1OTc4Ng==/version_details/v23</a><br/>Synced 6 W&B file(s), 0 media file(s), 0 artifact file(s) and 0 other file(s)"
      ],
      "text/plain": [
       "<IPython.core.display.HTML object>"
      ]
     },
     "metadata": {},
     "output_type": "display_data"
    },
    {
     "data": {
      "text/html": [
       "Find logs at: <code>./wandb/run-20240305_115508-ai4067rz/logs</code>"
      ],
      "text/plain": [
       "<IPython.core.display.HTML object>"
      ]
     },
     "metadata": {},
     "output_type": "display_data"
    },
    {
     "name": "stdout",
     "output_type": "stream",
     "text": [
      "\tTraining model: RUSBoost\n"
     ]
    },
    {
     "data": {
      "application/vnd.jupyter.widget-view+json": {
       "model_id": "f32698cb77424be7b9c57774f9d9ad29",
       "version_major": 2,
       "version_minor": 0
      },
      "text/plain": [
       "VBox(children=(Label(value='Waiting for wandb.init()...\\r'), FloatProgress(value=0.01111315132222646, max=1.0)…"
      ]
     },
     "metadata": {},
     "output_type": "display_data"
    },
    {
     "data": {
      "text/html": [
       "wandb version 0.16.3 is available!  To upgrade, please run:\n",
       " $ pip install wandb --upgrade"
      ],
      "text/plain": [
       "<IPython.core.display.HTML object>"
      ]
     },
     "metadata": {},
     "output_type": "display_data"
    },
    {
     "data": {
      "text/html": [
       "Tracking run with wandb version 0.15.12"
      ],
      "text/plain": [
       "<IPython.core.display.HTML object>"
      ]
     },
     "metadata": {},
     "output_type": "display_data"
    },
    {
     "data": {
      "text/html": [
       "Run data is saved locally in <code>/home/chenlequn/GitHub/LDED-FusionNet/code/wandb/run-20240305_115526-zu7osle1</code>"
      ],
      "text/plain": [
       "<IPython.core.display.HTML object>"
      ]
     },
     "metadata": {},
     "output_type": "display_data"
    },
    {
     "data": {
      "text/html": [
       "Syncing run <strong><a href='https://wandb.ai/lequn/AudioVisual_ML_ablation_study_v2/runs/zu7osle1' target=\"_blank\">RUSBoost_Ablated 3</a></strong> to <a href='https://wandb.ai/lequn/AudioVisual_ML_ablation_study_v2' target=\"_blank\">Weights & Biases</a> (<a href='https://wandb.me/run' target=\"_blank\">docs</a>)<br/>"
      ],
      "text/plain": [
       "<IPython.core.display.HTML object>"
      ]
     },
     "metadata": {},
     "output_type": "display_data"
    },
    {
     "data": {
      "text/html": [
       " View project at <a href='https://wandb.ai/lequn/AudioVisual_ML_ablation_study_v2' target=\"_blank\">https://wandb.ai/lequn/AudioVisual_ML_ablation_study_v2</a>"
      ],
      "text/plain": [
       "<IPython.core.display.HTML object>"
      ]
     },
     "metadata": {},
     "output_type": "display_data"
    },
    {
     "data": {
      "text/html": [
       " View run at <a href='https://wandb.ai/lequn/AudioVisual_ML_ablation_study_v2/runs/zu7osle1' target=\"_blank\">https://wandb.ai/lequn/AudioVisual_ML_ablation_study_v2/runs/zu7osle1</a>"
      ],
      "text/plain": [
       "<IPython.core.display.HTML object>"
      ]
     },
     "metadata": {},
     "output_type": "display_data"
    },
    {
     "name": "stdout",
     "output_type": "stream",
     "text": [
      "\t\tAccuracy: Mean = 0.8357176250584384, Std = 0.05427901861142225\n",
      "\t\tF1 Score: Mean = 0.8382105674317423, Std = 0.053285516234222695\n",
      "\t\tPrecision: Mean = 0.8536289183296901, Std = 0.047562760874982915\n",
      "\t\tRecall: Mean = 0.8357176250584384, Std = 0.05427901861142225\n",
      "\t\tROC-AUC: Mean = 0.9375273980209406, Std = 0.019777877971073433\n"
     ]
    },
    {
     "data": {
      "text/html": [
       "Waiting for W&B process to finish... <strong style=\"color:green\">(success).</strong>"
      ],
      "text/plain": [
       "<IPython.core.display.HTML object>"
      ]
     },
     "metadata": {},
     "output_type": "display_data"
    },
    {
     "data": {
      "text/html": [
       "<style>\n",
       "    table.wandb td:nth-child(1) { padding: 0 10px; text-align: left ; width: auto;} td:nth-child(2) {text-align: left ; width: 100%}\n",
       "    .wandb-row { display: flex; flex-direction: row; flex-wrap: wrap; justify-content: flex-start; width: 100% }\n",
       "    .wandb-col { display: flex; flex-direction: column; flex-basis: 100%; flex: 1; padding: 10px; }\n",
       "    </style>\n",
       "<div class=\"wandb-row\"><div class=\"wandb-col\"><h3>Run history:</h3><br/><table class=\"wandb\"><tr><td>Accuracy_mean</td><td>▁</td></tr><tr><td>Accuracy_std</td><td>▁</td></tr><tr><td>F1 Score_mean</td><td>▁</td></tr><tr><td>F1 Score_std</td><td>▁</td></tr><tr><td>Precision_mean</td><td>▁</td></tr><tr><td>Precision_std</td><td>▁</td></tr><tr><td>ROC-AUC_mean</td><td>▁</td></tr><tr><td>ROC-AUC_std</td><td>▁</td></tr><tr><td>Recall_mean</td><td>▁</td></tr><tr><td>Recall_std</td><td>▁</td></tr></table><br/></div><div class=\"wandb-col\"><h3>Run summary:</h3><br/><table class=\"wandb\"><tr><td>Accuracy_mean</td><td>0.83572</td></tr><tr><td>Accuracy_std</td><td>0.05428</td></tr><tr><td>F1 Score_mean</td><td>0.83821</td></tr><tr><td>F1 Score_std</td><td>0.05329</td></tr><tr><td>Precision_mean</td><td>0.85363</td></tr><tr><td>Precision_std</td><td>0.04756</td></tr><tr><td>ROC-AUC_mean</td><td>0.93753</td></tr><tr><td>ROC-AUC_std</td><td>0.01978</td></tr><tr><td>Recall_mean</td><td>0.83572</td></tr><tr><td>Recall_std</td><td>0.05428</td></tr></table><br/></div></div>"
      ],
      "text/plain": [
       "<IPython.core.display.HTML object>"
      ]
     },
     "metadata": {},
     "output_type": "display_data"
    },
    {
     "data": {
      "text/html": [
       " View run <strong style=\"color:#cdcd00\">RUSBoost_Ablated 3</strong> at: <a href='https://wandb.ai/lequn/AudioVisual_ML_ablation_study_v2/runs/zu7osle1' target=\"_blank\">https://wandb.ai/lequn/AudioVisual_ML_ablation_study_v2/runs/zu7osle1</a><br/> View job at <a href='https://wandb.ai/lequn/AudioVisual_ML_ablation_study_v2/jobs/QXJ0aWZhY3RDb2xsZWN0aW9uOjExMTQ1OTc4Ng==/version_details/v23' target=\"_blank\">https://wandb.ai/lequn/AudioVisual_ML_ablation_study_v2/jobs/QXJ0aWZhY3RDb2xsZWN0aW9uOjExMTQ1OTc4Ng==/version_details/v23</a><br/>Synced 6 W&B file(s), 0 media file(s), 0 artifact file(s) and 0 other file(s)"
      ],
      "text/plain": [
       "<IPython.core.display.HTML object>"
      ]
     },
     "metadata": {},
     "output_type": "display_data"
    },
    {
     "data": {
      "text/html": [
       "Find logs at: <code>./wandb/run-20240305_115526-zu7osle1/logs</code>"
      ],
      "text/plain": [
       "<IPython.core.display.HTML object>"
      ]
     },
     "metadata": {},
     "output_type": "display_data"
    },
    {
     "name": "stdout",
     "output_type": "stream",
     "text": [
      "\tTraining model: Ada\n"
     ]
    },
    {
     "data": {
      "application/vnd.jupyter.widget-view+json": {
       "model_id": "8e0cda4989b34d56b1bf8bfe32f18342",
       "version_major": 2,
       "version_minor": 0
      },
      "text/plain": [
       "VBox(children=(Label(value='Waiting for wandb.init()...\\r'), FloatProgress(value=0.011113150322216825, max=1.0…"
      ]
     },
     "metadata": {},
     "output_type": "display_data"
    },
    {
     "data": {
      "text/html": [
       "wandb version 0.16.3 is available!  To upgrade, please run:\n",
       " $ pip install wandb --upgrade"
      ],
      "text/plain": [
       "<IPython.core.display.HTML object>"
      ]
     },
     "metadata": {},
     "output_type": "display_data"
    },
    {
     "data": {
      "text/html": [
       "Tracking run with wandb version 0.15.12"
      ],
      "text/plain": [
       "<IPython.core.display.HTML object>"
      ]
     },
     "metadata": {},
     "output_type": "display_data"
    },
    {
     "data": {
      "text/html": [
       "Run data is saved locally in <code>/home/chenlequn/GitHub/LDED-FusionNet/code/wandb/run-20240305_115537-vzjj1ks7</code>"
      ],
      "text/plain": [
       "<IPython.core.display.HTML object>"
      ]
     },
     "metadata": {},
     "output_type": "display_data"
    },
    {
     "data": {
      "text/html": [
       "Syncing run <strong><a href='https://wandb.ai/lequn/AudioVisual_ML_ablation_study_v2/runs/vzjj1ks7' target=\"_blank\">Ada_Ablated 3</a></strong> to <a href='https://wandb.ai/lequn/AudioVisual_ML_ablation_study_v2' target=\"_blank\">Weights & Biases</a> (<a href='https://wandb.me/run' target=\"_blank\">docs</a>)<br/>"
      ],
      "text/plain": [
       "<IPython.core.display.HTML object>"
      ]
     },
     "metadata": {},
     "output_type": "display_data"
    },
    {
     "data": {
      "text/html": [
       " View project at <a href='https://wandb.ai/lequn/AudioVisual_ML_ablation_study_v2' target=\"_blank\">https://wandb.ai/lequn/AudioVisual_ML_ablation_study_v2</a>"
      ],
      "text/plain": [
       "<IPython.core.display.HTML object>"
      ]
     },
     "metadata": {},
     "output_type": "display_data"
    },
    {
     "data": {
      "text/html": [
       " View run at <a href='https://wandb.ai/lequn/AudioVisual_ML_ablation_study_v2/runs/vzjj1ks7' target=\"_blank\">https://wandb.ai/lequn/AudioVisual_ML_ablation_study_v2/runs/vzjj1ks7</a>"
      ],
      "text/plain": [
       "<IPython.core.display.HTML object>"
      ]
     },
     "metadata": {},
     "output_type": "display_data"
    },
    {
     "name": "stdout",
     "output_type": "stream",
     "text": [
      "\t\tAccuracy: Mean = 0.8420991117344553, Std = 0.043291484787212696\n",
      "\t\tF1 Score: Mean = 0.843857607960628, Std = 0.04191400436367386\n",
      "\t\tPrecision: Mean = 0.856031273590528, Std = 0.03305889032571727\n",
      "\t\tRecall: Mean = 0.8420991117344553, Std = 0.043291484787212696\n",
      "\t\tROC-AUC: Mean = 0.9347136746267001, Std = 0.013096519829728068\n"
     ]
    },
    {
     "data": {
      "text/html": [
       "Waiting for W&B process to finish... <strong style=\"color:green\">(success).</strong>"
      ],
      "text/plain": [
       "<IPython.core.display.HTML object>"
      ]
     },
     "metadata": {},
     "output_type": "display_data"
    },
    {
     "data": {
      "text/html": [
       "<style>\n",
       "    table.wandb td:nth-child(1) { padding: 0 10px; text-align: left ; width: auto;} td:nth-child(2) {text-align: left ; width: 100%}\n",
       "    .wandb-row { display: flex; flex-direction: row; flex-wrap: wrap; justify-content: flex-start; width: 100% }\n",
       "    .wandb-col { display: flex; flex-direction: column; flex-basis: 100%; flex: 1; padding: 10px; }\n",
       "    </style>\n",
       "<div class=\"wandb-row\"><div class=\"wandb-col\"><h3>Run history:</h3><br/><table class=\"wandb\"><tr><td>Accuracy_mean</td><td>▁</td></tr><tr><td>Accuracy_std</td><td>▁</td></tr><tr><td>F1 Score_mean</td><td>▁</td></tr><tr><td>F1 Score_std</td><td>▁</td></tr><tr><td>Precision_mean</td><td>▁</td></tr><tr><td>Precision_std</td><td>▁</td></tr><tr><td>ROC-AUC_mean</td><td>▁</td></tr><tr><td>ROC-AUC_std</td><td>▁</td></tr><tr><td>Recall_mean</td><td>▁</td></tr><tr><td>Recall_std</td><td>▁</td></tr></table><br/></div><div class=\"wandb-col\"><h3>Run summary:</h3><br/><table class=\"wandb\"><tr><td>Accuracy_mean</td><td>0.8421</td></tr><tr><td>Accuracy_std</td><td>0.04329</td></tr><tr><td>F1 Score_mean</td><td>0.84386</td></tr><tr><td>F1 Score_std</td><td>0.04191</td></tr><tr><td>Precision_mean</td><td>0.85603</td></tr><tr><td>Precision_std</td><td>0.03306</td></tr><tr><td>ROC-AUC_mean</td><td>0.93471</td></tr><tr><td>ROC-AUC_std</td><td>0.0131</td></tr><tr><td>Recall_mean</td><td>0.8421</td></tr><tr><td>Recall_std</td><td>0.04329</td></tr></table><br/></div></div>"
      ],
      "text/plain": [
       "<IPython.core.display.HTML object>"
      ]
     },
     "metadata": {},
     "output_type": "display_data"
    },
    {
     "data": {
      "text/html": [
       " View run <strong style=\"color:#cdcd00\">Ada_Ablated 3</strong> at: <a href='https://wandb.ai/lequn/AudioVisual_ML_ablation_study_v2/runs/vzjj1ks7' target=\"_blank\">https://wandb.ai/lequn/AudioVisual_ML_ablation_study_v2/runs/vzjj1ks7</a><br/> View job at <a href='https://wandb.ai/lequn/AudioVisual_ML_ablation_study_v2/jobs/QXJ0aWZhY3RDb2xsZWN0aW9uOjExMTQ1OTc4Ng==/version_details/v23' target=\"_blank\">https://wandb.ai/lequn/AudioVisual_ML_ablation_study_v2/jobs/QXJ0aWZhY3RDb2xsZWN0aW9uOjExMTQ1OTc4Ng==/version_details/v23</a><br/>Synced 6 W&B file(s), 0 media file(s), 0 artifact file(s) and 0 other file(s)"
      ],
      "text/plain": [
       "<IPython.core.display.HTML object>"
      ]
     },
     "metadata": {},
     "output_type": "display_data"
    },
    {
     "data": {
      "text/html": [
       "Find logs at: <code>./wandb/run-20240305_115537-vzjj1ks7/logs</code>"
      ],
      "text/plain": [
       "<IPython.core.display.HTML object>"
      ]
     },
     "metadata": {},
     "output_type": "display_data"
    },
    {
     "name": "stdout",
     "output_type": "stream",
     "text": [
      "\tTraining model: NN\n"
     ]
    },
    {
     "data": {
      "application/vnd.jupyter.widget-view+json": {
       "model_id": "70986626bf394bbfb1b1660dba06031a",
       "version_major": 2,
       "version_minor": 0
      },
      "text/plain": [
       "VBox(children=(Label(value='Waiting for wandb.init()...\\r'), FloatProgress(value=0.011114329455560639, max=1.0…"
      ]
     },
     "metadata": {},
     "output_type": "display_data"
    },
    {
     "data": {
      "text/html": [
       "wandb version 0.16.3 is available!  To upgrade, please run:\n",
       " $ pip install wandb --upgrade"
      ],
      "text/plain": [
       "<IPython.core.display.HTML object>"
      ]
     },
     "metadata": {},
     "output_type": "display_data"
    },
    {
     "data": {
      "text/html": [
       "Tracking run with wandb version 0.15.12"
      ],
      "text/plain": [
       "<IPython.core.display.HTML object>"
      ]
     },
     "metadata": {},
     "output_type": "display_data"
    },
    {
     "data": {
      "text/html": [
       "Run data is saved locally in <code>/home/chenlequn/GitHub/LDED-FusionNet/code/wandb/run-20240305_115550-yj6cs9zd</code>"
      ],
      "text/plain": [
       "<IPython.core.display.HTML object>"
      ]
     },
     "metadata": {},
     "output_type": "display_data"
    },
    {
     "data": {
      "text/html": [
       "Syncing run <strong><a href='https://wandb.ai/lequn/AudioVisual_ML_ablation_study_v2/runs/yj6cs9zd' target=\"_blank\">NN_Ablated 3</a></strong> to <a href='https://wandb.ai/lequn/AudioVisual_ML_ablation_study_v2' target=\"_blank\">Weights & Biases</a> (<a href='https://wandb.me/run' target=\"_blank\">docs</a>)<br/>"
      ],
      "text/plain": [
       "<IPython.core.display.HTML object>"
      ]
     },
     "metadata": {},
     "output_type": "display_data"
    },
    {
     "data": {
      "text/html": [
       " View project at <a href='https://wandb.ai/lequn/AudioVisual_ML_ablation_study_v2' target=\"_blank\">https://wandb.ai/lequn/AudioVisual_ML_ablation_study_v2</a>"
      ],
      "text/plain": [
       "<IPython.core.display.HTML object>"
      ]
     },
     "metadata": {},
     "output_type": "display_data"
    },
    {
     "data": {
      "text/html": [
       " View run at <a href='https://wandb.ai/lequn/AudioVisual_ML_ablation_study_v2/runs/yj6cs9zd' target=\"_blank\">https://wandb.ai/lequn/AudioVisual_ML_ablation_study_v2/runs/yj6cs9zd</a>"
      ],
      "text/plain": [
       "<IPython.core.display.HTML object>"
      ]
     },
     "metadata": {},
     "output_type": "display_data"
    },
    {
     "name": "stdout",
     "output_type": "stream",
     "text": [
      "\t\tAccuracy: Mean = 0.9242402992052362, Std = 0.027427374639566883\n",
      "\t\tF1 Score: Mean = 0.9235948551067331, Std = 0.027098275971719727\n",
      "\t\tPrecision: Mean = 0.9269054567564489, Std = 0.02743638485700853\n",
      "\t\tRecall: Mean = 0.9242402992052362, Std = 0.027427374639566883\n",
      "\t\tROC-AUC: Mean = 0.9888935970150623, Std = 0.006451799699544579\n"
     ]
    },
    {
     "data": {
      "text/html": [
       "Waiting for W&B process to finish... <strong style=\"color:green\">(success).</strong>"
      ],
      "text/plain": [
       "<IPython.core.display.HTML object>"
      ]
     },
     "metadata": {},
     "output_type": "display_data"
    },
    {
     "data": {
      "text/html": [
       "<style>\n",
       "    table.wandb td:nth-child(1) { padding: 0 10px; text-align: left ; width: auto;} td:nth-child(2) {text-align: left ; width: 100%}\n",
       "    .wandb-row { display: flex; flex-direction: row; flex-wrap: wrap; justify-content: flex-start; width: 100% }\n",
       "    .wandb-col { display: flex; flex-direction: column; flex-basis: 100%; flex: 1; padding: 10px; }\n",
       "    </style>\n",
       "<div class=\"wandb-row\"><div class=\"wandb-col\"><h3>Run history:</h3><br/><table class=\"wandb\"><tr><td>Accuracy_mean</td><td>▁</td></tr><tr><td>Accuracy_std</td><td>▁</td></tr><tr><td>F1 Score_mean</td><td>▁</td></tr><tr><td>F1 Score_std</td><td>▁</td></tr><tr><td>Precision_mean</td><td>▁</td></tr><tr><td>Precision_std</td><td>▁</td></tr><tr><td>ROC-AUC_mean</td><td>▁</td></tr><tr><td>ROC-AUC_std</td><td>▁</td></tr><tr><td>Recall_mean</td><td>▁</td></tr><tr><td>Recall_std</td><td>▁</td></tr></table><br/></div><div class=\"wandb-col\"><h3>Run summary:</h3><br/><table class=\"wandb\"><tr><td>Accuracy_mean</td><td>0.92424</td></tr><tr><td>Accuracy_std</td><td>0.02743</td></tr><tr><td>F1 Score_mean</td><td>0.92359</td></tr><tr><td>F1 Score_std</td><td>0.0271</td></tr><tr><td>Precision_mean</td><td>0.92691</td></tr><tr><td>Precision_std</td><td>0.02744</td></tr><tr><td>ROC-AUC_mean</td><td>0.98889</td></tr><tr><td>ROC-AUC_std</td><td>0.00645</td></tr><tr><td>Recall_mean</td><td>0.92424</td></tr><tr><td>Recall_std</td><td>0.02743</td></tr></table><br/></div></div>"
      ],
      "text/plain": [
       "<IPython.core.display.HTML object>"
      ]
     },
     "metadata": {},
     "output_type": "display_data"
    },
    {
     "data": {
      "text/html": [
       " View run <strong style=\"color:#cdcd00\">NN_Ablated 3</strong> at: <a href='https://wandb.ai/lequn/AudioVisual_ML_ablation_study_v2/runs/yj6cs9zd' target=\"_blank\">https://wandb.ai/lequn/AudioVisual_ML_ablation_study_v2/runs/yj6cs9zd</a><br/> View job at <a href='https://wandb.ai/lequn/AudioVisual_ML_ablation_study_v2/jobs/QXJ0aWZhY3RDb2xsZWN0aW9uOjExMTQ1OTc4Ng==/version_details/v23' target=\"_blank\">https://wandb.ai/lequn/AudioVisual_ML_ablation_study_v2/jobs/QXJ0aWZhY3RDb2xsZWN0aW9uOjExMTQ1OTc4Ng==/version_details/v23</a><br/>Synced 6 W&B file(s), 0 media file(s), 0 artifact file(s) and 0 other file(s)"
      ],
      "text/plain": [
       "<IPython.core.display.HTML object>"
      ]
     },
     "metadata": {},
     "output_type": "display_data"
    },
    {
     "data": {
      "text/html": [
       "Find logs at: <code>./wandb/run-20240305_115550-yj6cs9zd/logs</code>"
      ],
      "text/plain": [
       "<IPython.core.display.HTML object>"
      ]
     },
     "metadata": {},
     "output_type": "display_data"
    },
    {
     "name": "stdout",
     "output_type": "stream",
     "text": [
      "\tTraining model: XGBoost\n"
     ]
    },
    {
     "data": {
      "application/vnd.jupyter.widget-view+json": {
       "model_id": "6552da86c31e40959bd732253b870b99",
       "version_major": 2,
       "version_minor": 0
      },
      "text/plain": [
       "VBox(children=(Label(value='Waiting for wandb.init()...\\r'), FloatProgress(value=0.011113893755555182, max=1.0…"
      ]
     },
     "metadata": {},
     "output_type": "display_data"
    },
    {
     "data": {
      "text/html": [
       "wandb version 0.16.3 is available!  To upgrade, please run:\n",
       " $ pip install wandb --upgrade"
      ],
      "text/plain": [
       "<IPython.core.display.HTML object>"
      ]
     },
     "metadata": {},
     "output_type": "display_data"
    },
    {
     "data": {
      "text/html": [
       "Tracking run with wandb version 0.15.12"
      ],
      "text/plain": [
       "<IPython.core.display.HTML object>"
      ]
     },
     "metadata": {},
     "output_type": "display_data"
    },
    {
     "data": {
      "text/html": [
       "Run data is saved locally in <code>/home/chenlequn/GitHub/LDED-FusionNet/code/wandb/run-20240305_115602-1rr1le0n</code>"
      ],
      "text/plain": [
       "<IPython.core.display.HTML object>"
      ]
     },
     "metadata": {},
     "output_type": "display_data"
    },
    {
     "data": {
      "text/html": [
       "Syncing run <strong><a href='https://wandb.ai/lequn/AudioVisual_ML_ablation_study_v2/runs/1rr1le0n' target=\"_blank\">XGBoost_Ablated 3</a></strong> to <a href='https://wandb.ai/lequn/AudioVisual_ML_ablation_study_v2' target=\"_blank\">Weights & Biases</a> (<a href='https://wandb.me/run' target=\"_blank\">docs</a>)<br/>"
      ],
      "text/plain": [
       "<IPython.core.display.HTML object>"
      ]
     },
     "metadata": {},
     "output_type": "display_data"
    },
    {
     "data": {
      "text/html": [
       " View project at <a href='https://wandb.ai/lequn/AudioVisual_ML_ablation_study_v2' target=\"_blank\">https://wandb.ai/lequn/AudioVisual_ML_ablation_study_v2</a>"
      ],
      "text/plain": [
       "<IPython.core.display.HTML object>"
      ]
     },
     "metadata": {},
     "output_type": "display_data"
    },
    {
     "data": {
      "text/html": [
       " View run at <a href='https://wandb.ai/lequn/AudioVisual_ML_ablation_study_v2/runs/1rr1le0n' target=\"_blank\">https://wandb.ai/lequn/AudioVisual_ML_ablation_study_v2/runs/1rr1le0n</a>"
      ],
      "text/plain": [
       "<IPython.core.display.HTML object>"
      ]
     },
     "metadata": {},
     "output_type": "display_data"
    },
    {
     "name": "stdout",
     "output_type": "stream",
     "text": [
      "\t\tAccuracy: Mean = 0.9199625993454884, Std = 0.017389387710017728\n",
      "\t\tF1 Score: Mean = 0.9195041405933271, Std = 0.016706049718945605\n",
      "\t\tPrecision: Mean = 0.9225405542221562, Std = 0.016991193692168335\n",
      "\t\tRecall: Mean = 0.9199625993454884, Std = 0.017389387710017728\n",
      "\t\tROC-AUC: Mean = 0.9863168863825769, Std = 0.005528179160136851\n"
     ]
    },
    {
     "data": {
      "text/html": [
       "Waiting for W&B process to finish... <strong style=\"color:green\">(success).</strong>"
      ],
      "text/plain": [
       "<IPython.core.display.HTML object>"
      ]
     },
     "metadata": {},
     "output_type": "display_data"
    },
    {
     "data": {
      "text/html": [
       "<style>\n",
       "    table.wandb td:nth-child(1) { padding: 0 10px; text-align: left ; width: auto;} td:nth-child(2) {text-align: left ; width: 100%}\n",
       "    .wandb-row { display: flex; flex-direction: row; flex-wrap: wrap; justify-content: flex-start; width: 100% }\n",
       "    .wandb-col { display: flex; flex-direction: column; flex-basis: 100%; flex: 1; padding: 10px; }\n",
       "    </style>\n",
       "<div class=\"wandb-row\"><div class=\"wandb-col\"><h3>Run history:</h3><br/><table class=\"wandb\"><tr><td>Accuracy_mean</td><td>▁</td></tr><tr><td>Accuracy_std</td><td>▁</td></tr><tr><td>F1 Score_mean</td><td>▁</td></tr><tr><td>F1 Score_std</td><td>▁</td></tr><tr><td>Precision_mean</td><td>▁</td></tr><tr><td>Precision_std</td><td>▁</td></tr><tr><td>ROC-AUC_mean</td><td>▁</td></tr><tr><td>ROC-AUC_std</td><td>▁</td></tr><tr><td>Recall_mean</td><td>▁</td></tr><tr><td>Recall_std</td><td>▁</td></tr></table><br/></div><div class=\"wandb-col\"><h3>Run summary:</h3><br/><table class=\"wandb\"><tr><td>Accuracy_mean</td><td>0.91996</td></tr><tr><td>Accuracy_std</td><td>0.01739</td></tr><tr><td>F1 Score_mean</td><td>0.9195</td></tr><tr><td>F1 Score_std</td><td>0.01671</td></tr><tr><td>Precision_mean</td><td>0.92254</td></tr><tr><td>Precision_std</td><td>0.01699</td></tr><tr><td>ROC-AUC_mean</td><td>0.98632</td></tr><tr><td>ROC-AUC_std</td><td>0.00553</td></tr><tr><td>Recall_mean</td><td>0.91996</td></tr><tr><td>Recall_std</td><td>0.01739</td></tr></table><br/></div></div>"
      ],
      "text/plain": [
       "<IPython.core.display.HTML object>"
      ]
     },
     "metadata": {},
     "output_type": "display_data"
    },
    {
     "data": {
      "text/html": [
       " View run <strong style=\"color:#cdcd00\">XGBoost_Ablated 3</strong> at: <a href='https://wandb.ai/lequn/AudioVisual_ML_ablation_study_v2/runs/1rr1le0n' target=\"_blank\">https://wandb.ai/lequn/AudioVisual_ML_ablation_study_v2/runs/1rr1le0n</a><br/> View job at <a href='https://wandb.ai/lequn/AudioVisual_ML_ablation_study_v2/jobs/QXJ0aWZhY3RDb2xsZWN0aW9uOjExMTQ1OTc4Ng==/version_details/v23' target=\"_blank\">https://wandb.ai/lequn/AudioVisual_ML_ablation_study_v2/jobs/QXJ0aWZhY3RDb2xsZWN0aW9uOjExMTQ1OTc4Ng==/version_details/v23</a><br/>Synced 6 W&B file(s), 0 media file(s), 0 artifact file(s) and 0 other file(s)"
      ],
      "text/plain": [
       "<IPython.core.display.HTML object>"
      ]
     },
     "metadata": {},
     "output_type": "display_data"
    },
    {
     "data": {
      "text/html": [
       "Find logs at: <code>./wandb/run-20240305_115602-1rr1le0n/logs</code>"
      ],
      "text/plain": [
       "<IPython.core.display.HTML object>"
      ]
     },
     "metadata": {},
     "output_type": "display_data"
    },
    {
     "name": "stdout",
     "output_type": "stream",
     "text": [
      "\tTraining model: LightGBM\n"
     ]
    },
    {
     "data": {
      "application/vnd.jupyter.widget-view+json": {
       "model_id": "bd7cf090c0ca4b39a6f3adc12e51f52f",
       "version_major": 2,
       "version_minor": 0
      },
      "text/plain": [
       "VBox(children=(Label(value='Waiting for wandb.init()...\\r'), FloatProgress(value=0.011113237366660339, max=1.0…"
      ]
     },
     "metadata": {},
     "output_type": "display_data"
    },
    {
     "data": {
      "text/html": [
       "wandb version 0.16.3 is available!  To upgrade, please run:\n",
       " $ pip install wandb --upgrade"
      ],
      "text/plain": [
       "<IPython.core.display.HTML object>"
      ]
     },
     "metadata": {},
     "output_type": "display_data"
    },
    {
     "data": {
      "text/html": [
       "Tracking run with wandb version 0.15.12"
      ],
      "text/plain": [
       "<IPython.core.display.HTML object>"
      ]
     },
     "metadata": {},
     "output_type": "display_data"
    },
    {
     "data": {
      "text/html": [
       "Run data is saved locally in <code>/home/chenlequn/GitHub/LDED-FusionNet/code/wandb/run-20240305_115614-8xuqi54v</code>"
      ],
      "text/plain": [
       "<IPython.core.display.HTML object>"
      ]
     },
     "metadata": {},
     "output_type": "display_data"
    },
    {
     "data": {
      "text/html": [
       "Syncing run <strong><a href='https://wandb.ai/lequn/AudioVisual_ML_ablation_study_v2/runs/8xuqi54v' target=\"_blank\">LightGBM_Ablated 3</a></strong> to <a href='https://wandb.ai/lequn/AudioVisual_ML_ablation_study_v2' target=\"_blank\">Weights & Biases</a> (<a href='https://wandb.me/run' target=\"_blank\">docs</a>)<br/>"
      ],
      "text/plain": [
       "<IPython.core.display.HTML object>"
      ]
     },
     "metadata": {},
     "output_type": "display_data"
    },
    {
     "data": {
      "text/html": [
       " View project at <a href='https://wandb.ai/lequn/AudioVisual_ML_ablation_study_v2' target=\"_blank\">https://wandb.ai/lequn/AudioVisual_ML_ablation_study_v2</a>"
      ],
      "text/plain": [
       "<IPython.core.display.HTML object>"
      ]
     },
     "metadata": {},
     "output_type": "display_data"
    },
    {
     "data": {
      "text/html": [
       " View run at <a href='https://wandb.ai/lequn/AudioVisual_ML_ablation_study_v2/runs/8xuqi54v' target=\"_blank\">https://wandb.ai/lequn/AudioVisual_ML_ablation_study_v2/runs/8xuqi54v</a>"
      ],
      "text/plain": [
       "<IPython.core.display.HTML object>"
      ]
     },
     "metadata": {},
     "output_type": "display_data"
    },
    {
     "name": "stdout",
     "output_type": "stream",
     "text": [
      "\t\tAccuracy: Mean = 0.9156147732585319, Std = 0.023080064999304633\n",
      "\t\tF1 Score: Mean = 0.9153085870326537, Std = 0.022467538120576853\n",
      "\t\tPrecision: Mean = 0.9174657500574032, Std = 0.023356807991051505\n",
      "\t\tRecall: Mean = 0.9156147732585319, Std = 0.023080064999304633\n",
      "\t\tROC-AUC: Mean = 0.9876381677674898, Std = 0.004432124432249788\n"
     ]
    },
    {
     "data": {
      "text/html": [
       "Waiting for W&B process to finish... <strong style=\"color:green\">(success).</strong>"
      ],
      "text/plain": [
       "<IPython.core.display.HTML object>"
      ]
     },
     "metadata": {},
     "output_type": "display_data"
    },
    {
     "data": {
      "text/html": [
       "<style>\n",
       "    table.wandb td:nth-child(1) { padding: 0 10px; text-align: left ; width: auto;} td:nth-child(2) {text-align: left ; width: 100%}\n",
       "    .wandb-row { display: flex; flex-direction: row; flex-wrap: wrap; justify-content: flex-start; width: 100% }\n",
       "    .wandb-col { display: flex; flex-direction: column; flex-basis: 100%; flex: 1; padding: 10px; }\n",
       "    </style>\n",
       "<div class=\"wandb-row\"><div class=\"wandb-col\"><h3>Run history:</h3><br/><table class=\"wandb\"><tr><td>Accuracy_mean</td><td>▁</td></tr><tr><td>Accuracy_std</td><td>▁</td></tr><tr><td>F1 Score_mean</td><td>▁</td></tr><tr><td>F1 Score_std</td><td>▁</td></tr><tr><td>Precision_mean</td><td>▁</td></tr><tr><td>Precision_std</td><td>▁</td></tr><tr><td>ROC-AUC_mean</td><td>▁</td></tr><tr><td>ROC-AUC_std</td><td>▁</td></tr><tr><td>Recall_mean</td><td>▁</td></tr><tr><td>Recall_std</td><td>▁</td></tr></table><br/></div><div class=\"wandb-col\"><h3>Run summary:</h3><br/><table class=\"wandb\"><tr><td>Accuracy_mean</td><td>0.91561</td></tr><tr><td>Accuracy_std</td><td>0.02308</td></tr><tr><td>F1 Score_mean</td><td>0.91531</td></tr><tr><td>F1 Score_std</td><td>0.02247</td></tr><tr><td>Precision_mean</td><td>0.91747</td></tr><tr><td>Precision_std</td><td>0.02336</td></tr><tr><td>ROC-AUC_mean</td><td>0.98764</td></tr><tr><td>ROC-AUC_std</td><td>0.00443</td></tr><tr><td>Recall_mean</td><td>0.91561</td></tr><tr><td>Recall_std</td><td>0.02308</td></tr></table><br/></div></div>"
      ],
      "text/plain": [
       "<IPython.core.display.HTML object>"
      ]
     },
     "metadata": {},
     "output_type": "display_data"
    },
    {
     "data": {
      "text/html": [
       " View run <strong style=\"color:#cdcd00\">LightGBM_Ablated 3</strong> at: <a href='https://wandb.ai/lequn/AudioVisual_ML_ablation_study_v2/runs/8xuqi54v' target=\"_blank\">https://wandb.ai/lequn/AudioVisual_ML_ablation_study_v2/runs/8xuqi54v</a><br/> View job at <a href='https://wandb.ai/lequn/AudioVisual_ML_ablation_study_v2/jobs/QXJ0aWZhY3RDb2xsZWN0aW9uOjExMTQ1OTc4Ng==/version_details/v23' target=\"_blank\">https://wandb.ai/lequn/AudioVisual_ML_ablation_study_v2/jobs/QXJ0aWZhY3RDb2xsZWN0aW9uOjExMTQ1OTc4Ng==/version_details/v23</a><br/>Synced 6 W&B file(s), 0 media file(s), 0 artifact file(s) and 0 other file(s)"
      ],
      "text/plain": [
       "<IPython.core.display.HTML object>"
      ]
     },
     "metadata": {},
     "output_type": "display_data"
    },
    {
     "data": {
      "text/html": [
       "Find logs at: <code>./wandb/run-20240305_115614-8xuqi54v/logs</code>"
      ],
      "text/plain": [
       "<IPython.core.display.HTML object>"
      ]
     },
     "metadata": {},
     "output_type": "display_data"
    },
    {
     "name": "stdout",
     "output_type": "stream",
     "text": [
      "\tTraining model: SVM\n"
     ]
    },
    {
     "data": {
      "application/vnd.jupyter.widget-view+json": {
       "model_id": "554d23defa974bb1980918764fd3e4ce",
       "version_major": 2,
       "version_minor": 0
      },
      "text/plain": [
       "VBox(children=(Label(value='Waiting for wandb.init()...\\r'), FloatProgress(value=0.011113243977777326, max=1.0…"
      ]
     },
     "metadata": {},
     "output_type": "display_data"
    },
    {
     "data": {
      "text/html": [
       "wandb version 0.16.3 is available!  To upgrade, please run:\n",
       " $ pip install wandb --upgrade"
      ],
      "text/plain": [
       "<IPython.core.display.HTML object>"
      ]
     },
     "metadata": {},
     "output_type": "display_data"
    },
    {
     "data": {
      "text/html": [
       "Tracking run with wandb version 0.15.12"
      ],
      "text/plain": [
       "<IPython.core.display.HTML object>"
      ]
     },
     "metadata": {},
     "output_type": "display_data"
    },
    {
     "data": {
      "text/html": [
       "Run data is saved locally in <code>/home/chenlequn/GitHub/LDED-FusionNet/code/wandb/run-20240305_115625-vkzhm5cb</code>"
      ],
      "text/plain": [
       "<IPython.core.display.HTML object>"
      ]
     },
     "metadata": {},
     "output_type": "display_data"
    },
    {
     "data": {
      "text/html": [
       "Syncing run <strong><a href='https://wandb.ai/lequn/AudioVisual_ML_ablation_study_v2/runs/vkzhm5cb' target=\"_blank\">SVM_Ablated 3</a></strong> to <a href='https://wandb.ai/lequn/AudioVisual_ML_ablation_study_v2' target=\"_blank\">Weights & Biases</a> (<a href='https://wandb.me/run' target=\"_blank\">docs</a>)<br/>"
      ],
      "text/plain": [
       "<IPython.core.display.HTML object>"
      ]
     },
     "metadata": {},
     "output_type": "display_data"
    },
    {
     "data": {
      "text/html": [
       " View project at <a href='https://wandb.ai/lequn/AudioVisual_ML_ablation_study_v2' target=\"_blank\">https://wandb.ai/lequn/AudioVisual_ML_ablation_study_v2</a>"
      ],
      "text/plain": [
       "<IPython.core.display.HTML object>"
      ]
     },
     "metadata": {},
     "output_type": "display_data"
    },
    {
     "data": {
      "text/html": [
       " View run at <a href='https://wandb.ai/lequn/AudioVisual_ML_ablation_study_v2/runs/vkzhm5cb' target=\"_blank\">https://wandb.ai/lequn/AudioVisual_ML_ablation_study_v2/runs/vkzhm5cb</a>"
      ],
      "text/plain": [
       "<IPython.core.display.HTML object>"
      ]
     },
     "metadata": {},
     "output_type": "display_data"
    },
    {
     "name": "stdout",
     "output_type": "stream",
     "text": [
      "\t\tAccuracy: Mean = 0.8766713417484805, Std = 0.026005118951930466\n",
      "\t\tF1 Score: Mean = 0.8761695483478906, Std = 0.026155028305665125\n",
      "\t\tPrecision: Mean = 0.8785593968926134, Std = 0.026175590129389806\n",
      "\t\tRecall: Mean = 0.8766713417484805, Std = 0.026005118951930466\n",
      "\t\tROC-AUC: Mean = 0.9744868386016942, Std = 0.006584296462421093\n"
     ]
    },
    {
     "data": {
      "text/html": [
       "Waiting for W&B process to finish... <strong style=\"color:green\">(success).</strong>"
      ],
      "text/plain": [
       "<IPython.core.display.HTML object>"
      ]
     },
     "metadata": {},
     "output_type": "display_data"
    },
    {
     "data": {
      "text/html": [
       "<style>\n",
       "    table.wandb td:nth-child(1) { padding: 0 10px; text-align: left ; width: auto;} td:nth-child(2) {text-align: left ; width: 100%}\n",
       "    .wandb-row { display: flex; flex-direction: row; flex-wrap: wrap; justify-content: flex-start; width: 100% }\n",
       "    .wandb-col { display: flex; flex-direction: column; flex-basis: 100%; flex: 1; padding: 10px; }\n",
       "    </style>\n",
       "<div class=\"wandb-row\"><div class=\"wandb-col\"><h3>Run history:</h3><br/><table class=\"wandb\"><tr><td>Accuracy_mean</td><td>▁</td></tr><tr><td>Accuracy_std</td><td>▁</td></tr><tr><td>F1 Score_mean</td><td>▁</td></tr><tr><td>F1 Score_std</td><td>▁</td></tr><tr><td>Precision_mean</td><td>▁</td></tr><tr><td>Precision_std</td><td>▁</td></tr><tr><td>ROC-AUC_mean</td><td>▁</td></tr><tr><td>ROC-AUC_std</td><td>▁</td></tr><tr><td>Recall_mean</td><td>▁</td></tr><tr><td>Recall_std</td><td>▁</td></tr></table><br/></div><div class=\"wandb-col\"><h3>Run summary:</h3><br/><table class=\"wandb\"><tr><td>Accuracy_mean</td><td>0.87667</td></tr><tr><td>Accuracy_std</td><td>0.02601</td></tr><tr><td>F1 Score_mean</td><td>0.87617</td></tr><tr><td>F1 Score_std</td><td>0.02616</td></tr><tr><td>Precision_mean</td><td>0.87856</td></tr><tr><td>Precision_std</td><td>0.02618</td></tr><tr><td>ROC-AUC_mean</td><td>0.97449</td></tr><tr><td>ROC-AUC_std</td><td>0.00658</td></tr><tr><td>Recall_mean</td><td>0.87667</td></tr><tr><td>Recall_std</td><td>0.02601</td></tr></table><br/></div></div>"
      ],
      "text/plain": [
       "<IPython.core.display.HTML object>"
      ]
     },
     "metadata": {},
     "output_type": "display_data"
    },
    {
     "data": {
      "text/html": [
       " View run <strong style=\"color:#cdcd00\">SVM_Ablated 3</strong> at: <a href='https://wandb.ai/lequn/AudioVisual_ML_ablation_study_v2/runs/vkzhm5cb' target=\"_blank\">https://wandb.ai/lequn/AudioVisual_ML_ablation_study_v2/runs/vkzhm5cb</a><br/> View job at <a href='https://wandb.ai/lequn/AudioVisual_ML_ablation_study_v2/jobs/QXJ0aWZhY3RDb2xsZWN0aW9uOjExMTQ1OTc4Ng==/version_details/v23' target=\"_blank\">https://wandb.ai/lequn/AudioVisual_ML_ablation_study_v2/jobs/QXJ0aWZhY3RDb2xsZWN0aW9uOjExMTQ1OTc4Ng==/version_details/v23</a><br/>Synced 6 W&B file(s), 0 media file(s), 0 artifact file(s) and 0 other file(s)"
      ],
      "text/plain": [
       "<IPython.core.display.HTML object>"
      ]
     },
     "metadata": {},
     "output_type": "display_data"
    },
    {
     "data": {
      "text/html": [
       "Find logs at: <code>./wandb/run-20240305_115625-vkzhm5cb/logs</code>"
      ],
      "text/plain": [
       "<IPython.core.display.HTML object>"
      ]
     },
     "metadata": {},
     "output_type": "display_data"
    },
    {
     "name": "stdout",
     "output_type": "stream",
     "text": [
      "\tTraining model: HistGB\n"
     ]
    },
    {
     "data": {
      "application/vnd.jupyter.widget-view+json": {
       "model_id": "10ff267a79e1430d86dbead1b7922ee3",
       "version_major": 2,
       "version_minor": 0
      },
      "text/plain": [
       "VBox(children=(Label(value='Waiting for wandb.init()...\\r'), FloatProgress(value=0.011112664166668966, max=1.0…"
      ]
     },
     "metadata": {},
     "output_type": "display_data"
    },
    {
     "data": {
      "text/html": [
       "wandb version 0.16.3 is available!  To upgrade, please run:\n",
       " $ pip install wandb --upgrade"
      ],
      "text/plain": [
       "<IPython.core.display.HTML object>"
      ]
     },
     "metadata": {},
     "output_type": "display_data"
    },
    {
     "data": {
      "text/html": [
       "Tracking run with wandb version 0.15.12"
      ],
      "text/plain": [
       "<IPython.core.display.HTML object>"
      ]
     },
     "metadata": {},
     "output_type": "display_data"
    },
    {
     "data": {
      "text/html": [
       "Run data is saved locally in <code>/home/chenlequn/GitHub/LDED-FusionNet/code/wandb/run-20240305_115636-caxsshnu</code>"
      ],
      "text/plain": [
       "<IPython.core.display.HTML object>"
      ]
     },
     "metadata": {},
     "output_type": "display_data"
    },
    {
     "data": {
      "text/html": [
       "Syncing run <strong><a href='https://wandb.ai/lequn/AudioVisual_ML_ablation_study_v2/runs/caxsshnu' target=\"_blank\">HistGB_Ablated 3</a></strong> to <a href='https://wandb.ai/lequn/AudioVisual_ML_ablation_study_v2' target=\"_blank\">Weights & Biases</a> (<a href='https://wandb.me/run' target=\"_blank\">docs</a>)<br/>"
      ],
      "text/plain": [
       "<IPython.core.display.HTML object>"
      ]
     },
     "metadata": {},
     "output_type": "display_data"
    },
    {
     "data": {
      "text/html": [
       " View project at <a href='https://wandb.ai/lequn/AudioVisual_ML_ablation_study_v2' target=\"_blank\">https://wandb.ai/lequn/AudioVisual_ML_ablation_study_v2</a>"
      ],
      "text/plain": [
       "<IPython.core.display.HTML object>"
      ]
     },
     "metadata": {},
     "output_type": "display_data"
    },
    {
     "data": {
      "text/html": [
       " View run at <a href='https://wandb.ai/lequn/AudioVisual_ML_ablation_study_v2/runs/caxsshnu' target=\"_blank\">https://wandb.ai/lequn/AudioVisual_ML_ablation_study_v2/runs/caxsshnu</a>"
      ],
      "text/plain": [
       "<IPython.core.display.HTML object>"
      ]
     },
     "metadata": {},
     "output_type": "display_data"
    },
    {
     "name": "stdout",
     "output_type": "stream",
     "text": [
      "\t\tAccuracy: Mean = 0.9177653108929406, Std = 0.02122837230912141\n",
      "\t\tF1 Score: Mean = 0.917351275857297, Std = 0.020391727567557676\n",
      "\t\tPrecision: Mean = 0.9202993667792793, Std = 0.021168112829746965\n",
      "\t\tRecall: Mean = 0.9177653108929406, Std = 0.02122837230912141\n",
      "\t\tROC-AUC: Mean = 0.9860826830188936, Std = 0.004170727316100153\n"
     ]
    },
    {
     "data": {
      "text/html": [
       "Waiting for W&B process to finish... <strong style=\"color:green\">(success).</strong>"
      ],
      "text/plain": [
       "<IPython.core.display.HTML object>"
      ]
     },
     "metadata": {},
     "output_type": "display_data"
    },
    {
     "data": {
      "text/html": [
       "<style>\n",
       "    table.wandb td:nth-child(1) { padding: 0 10px; text-align: left ; width: auto;} td:nth-child(2) {text-align: left ; width: 100%}\n",
       "    .wandb-row { display: flex; flex-direction: row; flex-wrap: wrap; justify-content: flex-start; width: 100% }\n",
       "    .wandb-col { display: flex; flex-direction: column; flex-basis: 100%; flex: 1; padding: 10px; }\n",
       "    </style>\n",
       "<div class=\"wandb-row\"><div class=\"wandb-col\"><h3>Run history:</h3><br/><table class=\"wandb\"><tr><td>Accuracy_mean</td><td>▁</td></tr><tr><td>Accuracy_std</td><td>▁</td></tr><tr><td>F1 Score_mean</td><td>▁</td></tr><tr><td>F1 Score_std</td><td>▁</td></tr><tr><td>Precision_mean</td><td>▁</td></tr><tr><td>Precision_std</td><td>▁</td></tr><tr><td>ROC-AUC_mean</td><td>▁</td></tr><tr><td>ROC-AUC_std</td><td>▁</td></tr><tr><td>Recall_mean</td><td>▁</td></tr><tr><td>Recall_std</td><td>▁</td></tr></table><br/></div><div class=\"wandb-col\"><h3>Run summary:</h3><br/><table class=\"wandb\"><tr><td>Accuracy_mean</td><td>0.91777</td></tr><tr><td>Accuracy_std</td><td>0.02123</td></tr><tr><td>F1 Score_mean</td><td>0.91735</td></tr><tr><td>F1 Score_std</td><td>0.02039</td></tr><tr><td>Precision_mean</td><td>0.9203</td></tr><tr><td>Precision_std</td><td>0.02117</td></tr><tr><td>ROC-AUC_mean</td><td>0.98608</td></tr><tr><td>ROC-AUC_std</td><td>0.00417</td></tr><tr><td>Recall_mean</td><td>0.91777</td></tr><tr><td>Recall_std</td><td>0.02123</td></tr></table><br/></div></div>"
      ],
      "text/plain": [
       "<IPython.core.display.HTML object>"
      ]
     },
     "metadata": {},
     "output_type": "display_data"
    },
    {
     "data": {
      "text/html": [
       " View run <strong style=\"color:#cdcd00\">HistGB_Ablated 3</strong> at: <a href='https://wandb.ai/lequn/AudioVisual_ML_ablation_study_v2/runs/caxsshnu' target=\"_blank\">https://wandb.ai/lequn/AudioVisual_ML_ablation_study_v2/runs/caxsshnu</a><br/> View job at <a href='https://wandb.ai/lequn/AudioVisual_ML_ablation_study_v2/jobs/QXJ0aWZhY3RDb2xsZWN0aW9uOjExMTQ1OTc4Ng==/version_details/v22' target=\"_blank\">https://wandb.ai/lequn/AudioVisual_ML_ablation_study_v2/jobs/QXJ0aWZhY3RDb2xsZWN0aW9uOjExMTQ1OTc4Ng==/version_details/v22</a><br/>Synced 6 W&B file(s), 0 media file(s), 0 artifact file(s) and 0 other file(s)"
      ],
      "text/plain": [
       "<IPython.core.display.HTML object>"
      ]
     },
     "metadata": {},
     "output_type": "display_data"
    },
    {
     "data": {
      "text/html": [
       "Find logs at: <code>./wandb/run-20240305_115636-caxsshnu/logs</code>"
      ],
      "text/plain": [
       "<IPython.core.display.HTML object>"
      ]
     },
     "metadata": {},
     "output_type": "display_data"
    },
    {
     "name": "stdout",
     "output_type": "stream",
     "text": [
      "Processing dataset: Audio All\n",
      "\tTraining model: KNN\n"
     ]
    },
    {
     "data": {
      "application/vnd.jupyter.widget-view+json": {
       "model_id": "822dd367550e4188a8f006e73ae5d0cb",
       "version_major": 2,
       "version_minor": 0
      },
      "text/plain": [
       "VBox(children=(Label(value='Waiting for wandb.init()...\\r'), FloatProgress(value=0.011112741355555044, max=1.0…"
      ]
     },
     "metadata": {},
     "output_type": "display_data"
    },
    {
     "data": {
      "text/html": [
       "wandb version 0.16.3 is available!  To upgrade, please run:\n",
       " $ pip install wandb --upgrade"
      ],
      "text/plain": [
       "<IPython.core.display.HTML object>"
      ]
     },
     "metadata": {},
     "output_type": "display_data"
    },
    {
     "data": {
      "text/html": [
       "Tracking run with wandb version 0.15.12"
      ],
      "text/plain": [
       "<IPython.core.display.HTML object>"
      ]
     },
     "metadata": {},
     "output_type": "display_data"
    },
    {
     "data": {
      "text/html": [
       "Run data is saved locally in <code>/home/chenlequn/GitHub/LDED-FusionNet/code/wandb/run-20240305_115649-on87zhz9</code>"
      ],
      "text/plain": [
       "<IPython.core.display.HTML object>"
      ]
     },
     "metadata": {},
     "output_type": "display_data"
    },
    {
     "data": {
      "text/html": [
       "Syncing run <strong><a href='https://wandb.ai/lequn/AudioVisual_ML_ablation_study_v2/runs/on87zhz9' target=\"_blank\">KNN_Audio All</a></strong> to <a href='https://wandb.ai/lequn/AudioVisual_ML_ablation_study_v2' target=\"_blank\">Weights & Biases</a> (<a href='https://wandb.me/run' target=\"_blank\">docs</a>)<br/>"
      ],
      "text/plain": [
       "<IPython.core.display.HTML object>"
      ]
     },
     "metadata": {},
     "output_type": "display_data"
    },
    {
     "data": {
      "text/html": [
       " View project at <a href='https://wandb.ai/lequn/AudioVisual_ML_ablation_study_v2' target=\"_blank\">https://wandb.ai/lequn/AudioVisual_ML_ablation_study_v2</a>"
      ],
      "text/plain": [
       "<IPython.core.display.HTML object>"
      ]
     },
     "metadata": {},
     "output_type": "display_data"
    },
    {
     "data": {
      "text/html": [
       " View run at <a href='https://wandb.ai/lequn/AudioVisual_ML_ablation_study_v2/runs/on87zhz9' target=\"_blank\">https://wandb.ai/lequn/AudioVisual_ML_ablation_study_v2/runs/on87zhz9</a>"
      ],
      "text/plain": [
       "<IPython.core.display.HTML object>"
      ]
     },
     "metadata": {},
     "output_type": "display_data"
    },
    {
     "name": "stdout",
     "output_type": "stream",
     "text": [
      "\t\tAccuracy: Mean = 0.8183029453015427, Std = 0.05818907020782988\n",
      "\t\tF1 Score: Mean = 0.8065205682589915, Std = 0.06074486561264875\n",
      "\t\tPrecision: Mean = 0.8121759660687948, Std = 0.05669919447915263\n",
      "\t\tRecall: Mean = 0.8183029453015427, Std = 0.05818907020782988\n",
      "\t\tROC-AUC: Mean = 0.9461432996331446, Std = 0.02142336263292495\n"
     ]
    },
    {
     "name": "stderr",
     "output_type": "stream",
     "text": [
      "/home/chenlequn/anaconda3/envs/torch/lib/python3.9/site-packages/sklearn/metrics/_classification.py:1344: UndefinedMetricWarning: Precision is ill-defined and being set to 0.0 in labels with no predicted samples. Use `zero_division` parameter to control this behavior.\n",
      "  _warn_prf(average, modifier, msg_start, len(result))\n"
     ]
    },
    {
     "data": {
      "text/html": [
       "Waiting for W&B process to finish... <strong style=\"color:green\">(success).</strong>"
      ],
      "text/plain": [
       "<IPython.core.display.HTML object>"
      ]
     },
     "metadata": {},
     "output_type": "display_data"
    },
    {
     "data": {
      "text/html": [
       "<style>\n",
       "    table.wandb td:nth-child(1) { padding: 0 10px; text-align: left ; width: auto;} td:nth-child(2) {text-align: left ; width: 100%}\n",
       "    .wandb-row { display: flex; flex-direction: row; flex-wrap: wrap; justify-content: flex-start; width: 100% }\n",
       "    .wandb-col { display: flex; flex-direction: column; flex-basis: 100%; flex: 1; padding: 10px; }\n",
       "    </style>\n",
       "<div class=\"wandb-row\"><div class=\"wandb-col\"><h3>Run history:</h3><br/><table class=\"wandb\"><tr><td>Accuracy_mean</td><td>▁</td></tr><tr><td>Accuracy_std</td><td>▁</td></tr><tr><td>F1 Score_mean</td><td>▁</td></tr><tr><td>F1 Score_std</td><td>▁</td></tr><tr><td>Precision_mean</td><td>▁</td></tr><tr><td>Precision_std</td><td>▁</td></tr><tr><td>ROC-AUC_mean</td><td>▁</td></tr><tr><td>ROC-AUC_std</td><td>▁</td></tr><tr><td>Recall_mean</td><td>▁</td></tr><tr><td>Recall_std</td><td>▁</td></tr></table><br/></div><div class=\"wandb-col\"><h3>Run summary:</h3><br/><table class=\"wandb\"><tr><td>Accuracy_mean</td><td>0.8183</td></tr><tr><td>Accuracy_std</td><td>0.05819</td></tr><tr><td>F1 Score_mean</td><td>0.80652</td></tr><tr><td>F1 Score_std</td><td>0.06074</td></tr><tr><td>Precision_mean</td><td>0.81218</td></tr><tr><td>Precision_std</td><td>0.0567</td></tr><tr><td>ROC-AUC_mean</td><td>0.94614</td></tr><tr><td>ROC-AUC_std</td><td>0.02142</td></tr><tr><td>Recall_mean</td><td>0.8183</td></tr><tr><td>Recall_std</td><td>0.05819</td></tr></table><br/></div></div>"
      ],
      "text/plain": [
       "<IPython.core.display.HTML object>"
      ]
     },
     "metadata": {},
     "output_type": "display_data"
    },
    {
     "data": {
      "text/html": [
       " View run <strong style=\"color:#cdcd00\">KNN_Audio All</strong> at: <a href='https://wandb.ai/lequn/AudioVisual_ML_ablation_study_v2/runs/on87zhz9' target=\"_blank\">https://wandb.ai/lequn/AudioVisual_ML_ablation_study_v2/runs/on87zhz9</a><br/> View job at <a href='https://wandb.ai/lequn/AudioVisual_ML_ablation_study_v2/jobs/QXJ0aWZhY3RDb2xsZWN0aW9uOjExMTQ1OTc4Ng==/version_details/v23' target=\"_blank\">https://wandb.ai/lequn/AudioVisual_ML_ablation_study_v2/jobs/QXJ0aWZhY3RDb2xsZWN0aW9uOjExMTQ1OTc4Ng==/version_details/v23</a><br/>Synced 6 W&B file(s), 0 media file(s), 0 artifact file(s) and 0 other file(s)"
      ],
      "text/plain": [
       "<IPython.core.display.HTML object>"
      ]
     },
     "metadata": {},
     "output_type": "display_data"
    },
    {
     "data": {
      "text/html": [
       "Find logs at: <code>./wandb/run-20240305_115649-on87zhz9/logs</code>"
      ],
      "text/plain": [
       "<IPython.core.display.HTML object>"
      ]
     },
     "metadata": {},
     "output_type": "display_data"
    },
    {
     "name": "stdout",
     "output_type": "stream",
     "text": [
      "\tTraining model: DT\n"
     ]
    },
    {
     "data": {
      "application/vnd.jupyter.widget-view+json": {
       "model_id": "ade49e90c6ad4b318bf9316547b43e05",
       "version_major": 2,
       "version_minor": 0
      },
      "text/plain": [
       "VBox(children=(Label(value='Waiting for wandb.init()...\\r'), FloatProgress(value=0.011112496844442729, max=1.0…"
      ]
     },
     "metadata": {},
     "output_type": "display_data"
    },
    {
     "data": {
      "text/html": [
       "wandb version 0.16.3 is available!  To upgrade, please run:\n",
       " $ pip install wandb --upgrade"
      ],
      "text/plain": [
       "<IPython.core.display.HTML object>"
      ]
     },
     "metadata": {},
     "output_type": "display_data"
    },
    {
     "data": {
      "text/html": [
       "Tracking run with wandb version 0.15.12"
      ],
      "text/plain": [
       "<IPython.core.display.HTML object>"
      ]
     },
     "metadata": {},
     "output_type": "display_data"
    },
    {
     "data": {
      "text/html": [
       "Run data is saved locally in <code>/home/chenlequn/GitHub/LDED-FusionNet/code/wandb/run-20240305_115703-cfcglr24</code>"
      ],
      "text/plain": [
       "<IPython.core.display.HTML object>"
      ]
     },
     "metadata": {},
     "output_type": "display_data"
    },
    {
     "data": {
      "text/html": [
       "Syncing run <strong><a href='https://wandb.ai/lequn/AudioVisual_ML_ablation_study_v2/runs/cfcglr24' target=\"_blank\">DT_Audio All</a></strong> to <a href='https://wandb.ai/lequn/AudioVisual_ML_ablation_study_v2' target=\"_blank\">Weights & Biases</a> (<a href='https://wandb.me/run' target=\"_blank\">docs</a>)<br/>"
      ],
      "text/plain": [
       "<IPython.core.display.HTML object>"
      ]
     },
     "metadata": {},
     "output_type": "display_data"
    },
    {
     "data": {
      "text/html": [
       " View project at <a href='https://wandb.ai/lequn/AudioVisual_ML_ablation_study_v2' target=\"_blank\">https://wandb.ai/lequn/AudioVisual_ML_ablation_study_v2</a>"
      ],
      "text/plain": [
       "<IPython.core.display.HTML object>"
      ]
     },
     "metadata": {},
     "output_type": "display_data"
    },
    {
     "data": {
      "text/html": [
       " View run at <a href='https://wandb.ai/lequn/AudioVisual_ML_ablation_study_v2/runs/cfcglr24' target=\"_blank\">https://wandb.ai/lequn/AudioVisual_ML_ablation_study_v2/runs/cfcglr24</a>"
      ],
      "text/plain": [
       "<IPython.core.display.HTML object>"
      ]
     },
     "metadata": {},
     "output_type": "display_data"
    },
    {
     "name": "stdout",
     "output_type": "stream",
     "text": [
      "\t\tAccuracy: Mean = 0.7273024777933614, Std = 0.022599366765284023\n",
      "\t\tF1 Score: Mean = 0.7330398287954871, Std = 0.02735383724642675\n",
      "\t\tPrecision: Mean = 0.751086591336479, Std = 0.04030242286996655\n",
      "\t\tRecall: Mean = 0.7273024777933614, Std = 0.022599366765284023\n",
      "\t\tROC-AUC: Mean = 0.8317582656436604, Std = 0.013920605476771358\n"
     ]
    },
    {
     "data": {
      "text/html": [
       "Waiting for W&B process to finish... <strong style=\"color:green\">(success).</strong>"
      ],
      "text/plain": [
       "<IPython.core.display.HTML object>"
      ]
     },
     "metadata": {},
     "output_type": "display_data"
    },
    {
     "data": {
      "text/html": [
       "<style>\n",
       "    table.wandb td:nth-child(1) { padding: 0 10px; text-align: left ; width: auto;} td:nth-child(2) {text-align: left ; width: 100%}\n",
       "    .wandb-row { display: flex; flex-direction: row; flex-wrap: wrap; justify-content: flex-start; width: 100% }\n",
       "    .wandb-col { display: flex; flex-direction: column; flex-basis: 100%; flex: 1; padding: 10px; }\n",
       "    </style>\n",
       "<div class=\"wandb-row\"><div class=\"wandb-col\"><h3>Run history:</h3><br/><table class=\"wandb\"><tr><td>Accuracy_mean</td><td>▁</td></tr><tr><td>Accuracy_std</td><td>▁</td></tr><tr><td>F1 Score_mean</td><td>▁</td></tr><tr><td>F1 Score_std</td><td>▁</td></tr><tr><td>Precision_mean</td><td>▁</td></tr><tr><td>Precision_std</td><td>▁</td></tr><tr><td>ROC-AUC_mean</td><td>▁</td></tr><tr><td>ROC-AUC_std</td><td>▁</td></tr><tr><td>Recall_mean</td><td>▁</td></tr><tr><td>Recall_std</td><td>▁</td></tr></table><br/></div><div class=\"wandb-col\"><h3>Run summary:</h3><br/><table class=\"wandb\"><tr><td>Accuracy_mean</td><td>0.7273</td></tr><tr><td>Accuracy_std</td><td>0.0226</td></tr><tr><td>F1 Score_mean</td><td>0.73304</td></tr><tr><td>F1 Score_std</td><td>0.02735</td></tr><tr><td>Precision_mean</td><td>0.75109</td></tr><tr><td>Precision_std</td><td>0.0403</td></tr><tr><td>ROC-AUC_mean</td><td>0.83176</td></tr><tr><td>ROC-AUC_std</td><td>0.01392</td></tr><tr><td>Recall_mean</td><td>0.7273</td></tr><tr><td>Recall_std</td><td>0.0226</td></tr></table><br/></div></div>"
      ],
      "text/plain": [
       "<IPython.core.display.HTML object>"
      ]
     },
     "metadata": {},
     "output_type": "display_data"
    },
    {
     "data": {
      "text/html": [
       " View run <strong style=\"color:#cdcd00\">DT_Audio All</strong> at: <a href='https://wandb.ai/lequn/AudioVisual_ML_ablation_study_v2/runs/cfcglr24' target=\"_blank\">https://wandb.ai/lequn/AudioVisual_ML_ablation_study_v2/runs/cfcglr24</a><br/> View job at <a href='https://wandb.ai/lequn/AudioVisual_ML_ablation_study_v2/jobs/QXJ0aWZhY3RDb2xsZWN0aW9uOjExMTQ1OTc4Ng==/version_details/v23' target=\"_blank\">https://wandb.ai/lequn/AudioVisual_ML_ablation_study_v2/jobs/QXJ0aWZhY3RDb2xsZWN0aW9uOjExMTQ1OTc4Ng==/version_details/v23</a><br/>Synced 6 W&B file(s), 0 media file(s), 0 artifact file(s) and 0 other file(s)"
      ],
      "text/plain": [
       "<IPython.core.display.HTML object>"
      ]
     },
     "metadata": {},
     "output_type": "display_data"
    },
    {
     "data": {
      "text/html": [
       "Find logs at: <code>./wandb/run-20240305_115703-cfcglr24/logs</code>"
      ],
      "text/plain": [
       "<IPython.core.display.HTML object>"
      ]
     },
     "metadata": {},
     "output_type": "display_data"
    },
    {
     "name": "stdout",
     "output_type": "stream",
     "text": [
      "\tTraining model: RF\n"
     ]
    },
    {
     "data": {
      "application/vnd.jupyter.widget-view+json": {
       "model_id": "62a199d5a9b240399e23369a06393c24",
       "version_major": 2,
       "version_minor": 0
      },
      "text/plain": [
       "VBox(children=(Label(value='Waiting for wandb.init()...\\r'), FloatProgress(value=0.011113190877778026, max=1.0…"
      ]
     },
     "metadata": {},
     "output_type": "display_data"
    },
    {
     "data": {
      "text/html": [
       "wandb version 0.16.3 is available!  To upgrade, please run:\n",
       " $ pip install wandb --upgrade"
      ],
      "text/plain": [
       "<IPython.core.display.HTML object>"
      ]
     },
     "metadata": {},
     "output_type": "display_data"
    },
    {
     "data": {
      "text/html": [
       "Tracking run with wandb version 0.15.12"
      ],
      "text/plain": [
       "<IPython.core.display.HTML object>"
      ]
     },
     "metadata": {},
     "output_type": "display_data"
    },
    {
     "data": {
      "text/html": [
       "Run data is saved locally in <code>/home/chenlequn/GitHub/LDED-FusionNet/code/wandb/run-20240305_115715-ga7mhdg9</code>"
      ],
      "text/plain": [
       "<IPython.core.display.HTML object>"
      ]
     },
     "metadata": {},
     "output_type": "display_data"
    },
    {
     "data": {
      "text/html": [
       "Syncing run <strong><a href='https://wandb.ai/lequn/AudioVisual_ML_ablation_study_v2/runs/ga7mhdg9' target=\"_blank\">RF_Audio All</a></strong> to <a href='https://wandb.ai/lequn/AudioVisual_ML_ablation_study_v2' target=\"_blank\">Weights & Biases</a> (<a href='https://wandb.me/run' target=\"_blank\">docs</a>)<br/>"
      ],
      "text/plain": [
       "<IPython.core.display.HTML object>"
      ]
     },
     "metadata": {},
     "output_type": "display_data"
    },
    {
     "data": {
      "text/html": [
       " View project at <a href='https://wandb.ai/lequn/AudioVisual_ML_ablation_study_v2' target=\"_blank\">https://wandb.ai/lequn/AudioVisual_ML_ablation_study_v2</a>"
      ],
      "text/plain": [
       "<IPython.core.display.HTML object>"
      ]
     },
     "metadata": {},
     "output_type": "display_data"
    },
    {
     "data": {
      "text/html": [
       " View run at <a href='https://wandb.ai/lequn/AudioVisual_ML_ablation_study_v2/runs/ga7mhdg9' target=\"_blank\">https://wandb.ai/lequn/AudioVisual_ML_ablation_study_v2/runs/ga7mhdg9</a>"
      ],
      "text/plain": [
       "<IPython.core.display.HTML object>"
      ]
     },
     "metadata": {},
     "output_type": "display_data"
    },
    {
     "name": "stdout",
     "output_type": "stream",
     "text": [
      "\t\tAccuracy: Mean = 0.8139083683964469, Std = 0.055199156424326996\n",
      "\t\tF1 Score: Mean = 0.8025757013575507, Std = 0.050234275334932396\n",
      "\t\tPrecision: Mean = 0.808456230166066, Std = 0.047056904147049716\n",
      "\t\tRecall: Mean = 0.8139083683964469, Std = 0.055199156424326996\n",
      "\t\tROC-AUC: Mean = 0.9629209233176486, Std = 0.014043828398407223\n"
     ]
    },
    {
     "name": "stderr",
     "output_type": "stream",
     "text": [
      "/home/chenlequn/anaconda3/envs/torch/lib/python3.9/site-packages/sklearn/metrics/_classification.py:1344: UndefinedMetricWarning: Precision is ill-defined and being set to 0.0 in labels with no predicted samples. Use `zero_division` parameter to control this behavior.\n",
      "  _warn_prf(average, modifier, msg_start, len(result))\n"
     ]
    },
    {
     "data": {
      "text/html": [
       "Waiting for W&B process to finish... <strong style=\"color:green\">(success).</strong>"
      ],
      "text/plain": [
       "<IPython.core.display.HTML object>"
      ]
     },
     "metadata": {},
     "output_type": "display_data"
    },
    {
     "data": {
      "text/html": [
       "<style>\n",
       "    table.wandb td:nth-child(1) { padding: 0 10px; text-align: left ; width: auto;} td:nth-child(2) {text-align: left ; width: 100%}\n",
       "    .wandb-row { display: flex; flex-direction: row; flex-wrap: wrap; justify-content: flex-start; width: 100% }\n",
       "    .wandb-col { display: flex; flex-direction: column; flex-basis: 100%; flex: 1; padding: 10px; }\n",
       "    </style>\n",
       "<div class=\"wandb-row\"><div class=\"wandb-col\"><h3>Run history:</h3><br/><table class=\"wandb\"><tr><td>Accuracy_mean</td><td>▁</td></tr><tr><td>Accuracy_std</td><td>▁</td></tr><tr><td>F1 Score_mean</td><td>▁</td></tr><tr><td>F1 Score_std</td><td>▁</td></tr><tr><td>Precision_mean</td><td>▁</td></tr><tr><td>Precision_std</td><td>▁</td></tr><tr><td>ROC-AUC_mean</td><td>▁</td></tr><tr><td>ROC-AUC_std</td><td>▁</td></tr><tr><td>Recall_mean</td><td>▁</td></tr><tr><td>Recall_std</td><td>▁</td></tr></table><br/></div><div class=\"wandb-col\"><h3>Run summary:</h3><br/><table class=\"wandb\"><tr><td>Accuracy_mean</td><td>0.81391</td></tr><tr><td>Accuracy_std</td><td>0.0552</td></tr><tr><td>F1 Score_mean</td><td>0.80258</td></tr><tr><td>F1 Score_std</td><td>0.05023</td></tr><tr><td>Precision_mean</td><td>0.80846</td></tr><tr><td>Precision_std</td><td>0.04706</td></tr><tr><td>ROC-AUC_mean</td><td>0.96292</td></tr><tr><td>ROC-AUC_std</td><td>0.01404</td></tr><tr><td>Recall_mean</td><td>0.81391</td></tr><tr><td>Recall_std</td><td>0.0552</td></tr></table><br/></div></div>"
      ],
      "text/plain": [
       "<IPython.core.display.HTML object>"
      ]
     },
     "metadata": {},
     "output_type": "display_data"
    },
    {
     "data": {
      "text/html": [
       " View run <strong style=\"color:#cdcd00\">RF_Audio All</strong> at: <a href='https://wandb.ai/lequn/AudioVisual_ML_ablation_study_v2/runs/ga7mhdg9' target=\"_blank\">https://wandb.ai/lequn/AudioVisual_ML_ablation_study_v2/runs/ga7mhdg9</a><br/> View job at <a href='https://wandb.ai/lequn/AudioVisual_ML_ablation_study_v2/jobs/QXJ0aWZhY3RDb2xsZWN0aW9uOjExMTQ1OTc4Ng==/version_details/v23' target=\"_blank\">https://wandb.ai/lequn/AudioVisual_ML_ablation_study_v2/jobs/QXJ0aWZhY3RDb2xsZWN0aW9uOjExMTQ1OTc4Ng==/version_details/v23</a><br/>Synced 6 W&B file(s), 0 media file(s), 0 artifact file(s) and 0 other file(s)"
      ],
      "text/plain": [
       "<IPython.core.display.HTML object>"
      ]
     },
     "metadata": {},
     "output_type": "display_data"
    },
    {
     "data": {
      "text/html": [
       "Find logs at: <code>./wandb/run-20240305_115715-ga7mhdg9/logs</code>"
      ],
      "text/plain": [
       "<IPython.core.display.HTML object>"
      ]
     },
     "metadata": {},
     "output_type": "display_data"
    },
    {
     "name": "stdout",
     "output_type": "stream",
     "text": [
      "\tTraining model: BalancedRF\n"
     ]
    },
    {
     "data": {
      "application/vnd.jupyter.widget-view+json": {
       "model_id": "1d4981f66bc74f4eb88e4d23bde19bac",
       "version_major": 2,
       "version_minor": 0
      },
      "text/plain": [
       "VBox(children=(Label(value='Waiting for wandb.init()...\\r'), FloatProgress(value=0.011113147911116054, max=1.0…"
      ]
     },
     "metadata": {},
     "output_type": "display_data"
    },
    {
     "data": {
      "text/html": [
       "wandb version 0.16.3 is available!  To upgrade, please run:\n",
       " $ pip install wandb --upgrade"
      ],
      "text/plain": [
       "<IPython.core.display.HTML object>"
      ]
     },
     "metadata": {},
     "output_type": "display_data"
    },
    {
     "data": {
      "text/html": [
       "Tracking run with wandb version 0.15.12"
      ],
      "text/plain": [
       "<IPython.core.display.HTML object>"
      ]
     },
     "metadata": {},
     "output_type": "display_data"
    },
    {
     "data": {
      "text/html": [
       "Run data is saved locally in <code>/home/chenlequn/GitHub/LDED-FusionNet/code/wandb/run-20240305_115732-qfd1cr8k</code>"
      ],
      "text/plain": [
       "<IPython.core.display.HTML object>"
      ]
     },
     "metadata": {},
     "output_type": "display_data"
    },
    {
     "data": {
      "text/html": [
       "Syncing run <strong><a href='https://wandb.ai/lequn/AudioVisual_ML_ablation_study_v2/runs/qfd1cr8k' target=\"_blank\">BalancedRF_Audio All</a></strong> to <a href='https://wandb.ai/lequn/AudioVisual_ML_ablation_study_v2' target=\"_blank\">Weights & Biases</a> (<a href='https://wandb.me/run' target=\"_blank\">docs</a>)<br/>"
      ],
      "text/plain": [
       "<IPython.core.display.HTML object>"
      ]
     },
     "metadata": {},
     "output_type": "display_data"
    },
    {
     "data": {
      "text/html": [
       " View project at <a href='https://wandb.ai/lequn/AudioVisual_ML_ablation_study_v2' target=\"_blank\">https://wandb.ai/lequn/AudioVisual_ML_ablation_study_v2</a>"
      ],
      "text/plain": [
       "<IPython.core.display.HTML object>"
      ]
     },
     "metadata": {},
     "output_type": "display_data"
    },
    {
     "data": {
      "text/html": [
       " View run at <a href='https://wandb.ai/lequn/AudioVisual_ML_ablation_study_v2/runs/qfd1cr8k' target=\"_blank\">https://wandb.ai/lequn/AudioVisual_ML_ablation_study_v2/runs/qfd1cr8k</a>"
      ],
      "text/plain": [
       "<IPython.core.display.HTML object>"
      ]
     },
     "metadata": {},
     "output_type": "display_data"
    },
    {
     "name": "stderr",
     "output_type": "stream",
     "text": [
      "/home/chenlequn/anaconda3/envs/torch/lib/python3.9/site-packages/imblearn/ensemble/_forest.py:546: FutureWarning: The default of `sampling_strategy` will change from `'auto'` to `'all'` in version 0.13. This change will follow the implementation proposed in the original paper. Set to `'all'` to silence this warning and adopt the future behaviour.\n",
      "  warn(\n",
      "/home/chenlequn/anaconda3/envs/torch/lib/python3.9/site-packages/imblearn/ensemble/_forest.py:558: FutureWarning: The default of `replacement` will change from `False` to `True` in version 0.13. This change will follow the implementation proposed in the original paper. Set to `True` to silence this warning and adopt the future behaviour.\n",
      "  warn(\n"
     ]
    },
    {
     "name": "stdout",
     "output_type": "stream",
     "text": [
      "\t\tAccuracy: Mean = 0.7922861150070126, Std = 0.057217892578123764\n",
      "\t\tF1 Score: Mean = 0.7952528091810728, Std = 0.060357355276563794\n",
      "\t\tPrecision: Mean = 0.8088563570599943, Std = 0.06714174521747356\n",
      "\t\tRecall: Mean = 0.7922861150070126, Std = 0.057217892578123764\n",
      "\t\tROC-AUC: Mean = 0.950163799223709, Std = 0.015837979439902027\n"
     ]
    },
    {
     "data": {
      "text/html": [
       "Waiting for W&B process to finish... <strong style=\"color:green\">(success).</strong>"
      ],
      "text/plain": [
       "<IPython.core.display.HTML object>"
      ]
     },
     "metadata": {},
     "output_type": "display_data"
    },
    {
     "data": {
      "text/html": [
       "<style>\n",
       "    table.wandb td:nth-child(1) { padding: 0 10px; text-align: left ; width: auto;} td:nth-child(2) {text-align: left ; width: 100%}\n",
       "    .wandb-row { display: flex; flex-direction: row; flex-wrap: wrap; justify-content: flex-start; width: 100% }\n",
       "    .wandb-col { display: flex; flex-direction: column; flex-basis: 100%; flex: 1; padding: 10px; }\n",
       "    </style>\n",
       "<div class=\"wandb-row\"><div class=\"wandb-col\"><h3>Run history:</h3><br/><table class=\"wandb\"><tr><td>Accuracy_mean</td><td>▁</td></tr><tr><td>Accuracy_std</td><td>▁</td></tr><tr><td>F1 Score_mean</td><td>▁</td></tr><tr><td>F1 Score_std</td><td>▁</td></tr><tr><td>Precision_mean</td><td>▁</td></tr><tr><td>Precision_std</td><td>▁</td></tr><tr><td>ROC-AUC_mean</td><td>▁</td></tr><tr><td>ROC-AUC_std</td><td>▁</td></tr><tr><td>Recall_mean</td><td>▁</td></tr><tr><td>Recall_std</td><td>▁</td></tr></table><br/></div><div class=\"wandb-col\"><h3>Run summary:</h3><br/><table class=\"wandb\"><tr><td>Accuracy_mean</td><td>0.79229</td></tr><tr><td>Accuracy_std</td><td>0.05722</td></tr><tr><td>F1 Score_mean</td><td>0.79525</td></tr><tr><td>F1 Score_std</td><td>0.06036</td></tr><tr><td>Precision_mean</td><td>0.80886</td></tr><tr><td>Precision_std</td><td>0.06714</td></tr><tr><td>ROC-AUC_mean</td><td>0.95016</td></tr><tr><td>ROC-AUC_std</td><td>0.01584</td></tr><tr><td>Recall_mean</td><td>0.79229</td></tr><tr><td>Recall_std</td><td>0.05722</td></tr></table><br/></div></div>"
      ],
      "text/plain": [
       "<IPython.core.display.HTML object>"
      ]
     },
     "metadata": {},
     "output_type": "display_data"
    },
    {
     "data": {
      "text/html": [
       " View run <strong style=\"color:#cdcd00\">BalancedRF_Audio All</strong> at: <a href='https://wandb.ai/lequn/AudioVisual_ML_ablation_study_v2/runs/qfd1cr8k' target=\"_blank\">https://wandb.ai/lequn/AudioVisual_ML_ablation_study_v2/runs/qfd1cr8k</a><br/> View job at <a href='https://wandb.ai/lequn/AudioVisual_ML_ablation_study_v2/jobs/QXJ0aWZhY3RDb2xsZWN0aW9uOjExMTQ1OTc4Ng==/version_details/v23' target=\"_blank\">https://wandb.ai/lequn/AudioVisual_ML_ablation_study_v2/jobs/QXJ0aWZhY3RDb2xsZWN0aW9uOjExMTQ1OTc4Ng==/version_details/v23</a><br/>Synced 6 W&B file(s), 0 media file(s), 0 artifact file(s) and 0 other file(s)"
      ],
      "text/plain": [
       "<IPython.core.display.HTML object>"
      ]
     },
     "metadata": {},
     "output_type": "display_data"
    },
    {
     "data": {
      "text/html": [
       "Find logs at: <code>./wandb/run-20240305_115732-qfd1cr8k/logs</code>"
      ],
      "text/plain": [
       "<IPython.core.display.HTML object>"
      ]
     },
     "metadata": {},
     "output_type": "display_data"
    },
    {
     "name": "stdout",
     "output_type": "stream",
     "text": [
      "\tTraining model: RUSBoost\n"
     ]
    },
    {
     "data": {
      "application/vnd.jupyter.widget-view+json": {
       "model_id": "35ef4b7da15940f0bd07d1135a42817a",
       "version_major": 2,
       "version_minor": 0
      },
      "text/plain": [
       "VBox(children=(Label(value='Waiting for wandb.init()...\\r'), FloatProgress(value=0.011112304066672449, max=1.0…"
      ]
     },
     "metadata": {},
     "output_type": "display_data"
    },
    {
     "data": {
      "text/html": [
       "wandb version 0.16.3 is available!  To upgrade, please run:\n",
       " $ pip install wandb --upgrade"
      ],
      "text/plain": [
       "<IPython.core.display.HTML object>"
      ]
     },
     "metadata": {},
     "output_type": "display_data"
    },
    {
     "data": {
      "text/html": [
       "Tracking run with wandb version 0.15.12"
      ],
      "text/plain": [
       "<IPython.core.display.HTML object>"
      ]
     },
     "metadata": {},
     "output_type": "display_data"
    },
    {
     "data": {
      "text/html": [
       "Run data is saved locally in <code>/home/chenlequn/GitHub/LDED-FusionNet/code/wandb/run-20240305_115745-6x088y1m</code>"
      ],
      "text/plain": [
       "<IPython.core.display.HTML object>"
      ]
     },
     "metadata": {},
     "output_type": "display_data"
    },
    {
     "data": {
      "text/html": [
       "Syncing run <strong><a href='https://wandb.ai/lequn/AudioVisual_ML_ablation_study_v2/runs/6x088y1m' target=\"_blank\">RUSBoost_Audio All</a></strong> to <a href='https://wandb.ai/lequn/AudioVisual_ML_ablation_study_v2' target=\"_blank\">Weights & Biases</a> (<a href='https://wandb.me/run' target=\"_blank\">docs</a>)<br/>"
      ],
      "text/plain": [
       "<IPython.core.display.HTML object>"
      ]
     },
     "metadata": {},
     "output_type": "display_data"
    },
    {
     "data": {
      "text/html": [
       " View project at <a href='https://wandb.ai/lequn/AudioVisual_ML_ablation_study_v2' target=\"_blank\">https://wandb.ai/lequn/AudioVisual_ML_ablation_study_v2</a>"
      ],
      "text/plain": [
       "<IPython.core.display.HTML object>"
      ]
     },
     "metadata": {},
     "output_type": "display_data"
    },
    {
     "data": {
      "text/html": [
       " View run at <a href='https://wandb.ai/lequn/AudioVisual_ML_ablation_study_v2/runs/6x088y1m' target=\"_blank\">https://wandb.ai/lequn/AudioVisual_ML_ablation_study_v2/runs/6x088y1m</a>"
      ],
      "text/plain": [
       "<IPython.core.display.HTML object>"
      ]
     },
     "metadata": {},
     "output_type": "display_data"
    },
    {
     "name": "stdout",
     "output_type": "stream",
     "text": [
      "\t\tAccuracy: Mean = 0.7100514258999533, Std = 0.046397413666569846\n",
      "\t\tF1 Score: Mean = 0.7267928686363839, Std = 0.05614617568257104\n",
      "\t\tPrecision: Mean = 0.7574527022900666, Std = 0.07369964471685264\n",
      "\t\tRecall: Mean = 0.7100514258999533, Std = 0.046397413666569846\n",
      "\t\tROC-AUC: Mean = 0.9080497085523034, Std = 0.02489720434376345\n"
     ]
    },
    {
     "data": {
      "text/html": [
       "Waiting for W&B process to finish... <strong style=\"color:green\">(success).</strong>"
      ],
      "text/plain": [
       "<IPython.core.display.HTML object>"
      ]
     },
     "metadata": {},
     "output_type": "display_data"
    },
    {
     "data": {
      "text/html": [
       "<style>\n",
       "    table.wandb td:nth-child(1) { padding: 0 10px; text-align: left ; width: auto;} td:nth-child(2) {text-align: left ; width: 100%}\n",
       "    .wandb-row { display: flex; flex-direction: row; flex-wrap: wrap; justify-content: flex-start; width: 100% }\n",
       "    .wandb-col { display: flex; flex-direction: column; flex-basis: 100%; flex: 1; padding: 10px; }\n",
       "    </style>\n",
       "<div class=\"wandb-row\"><div class=\"wandb-col\"><h3>Run history:</h3><br/><table class=\"wandb\"><tr><td>Accuracy_mean</td><td>▁</td></tr><tr><td>Accuracy_std</td><td>▁</td></tr><tr><td>F1 Score_mean</td><td>▁</td></tr><tr><td>F1 Score_std</td><td>▁</td></tr><tr><td>Precision_mean</td><td>▁</td></tr><tr><td>Precision_std</td><td>▁</td></tr><tr><td>ROC-AUC_mean</td><td>▁</td></tr><tr><td>ROC-AUC_std</td><td>▁</td></tr><tr><td>Recall_mean</td><td>▁</td></tr><tr><td>Recall_std</td><td>▁</td></tr></table><br/></div><div class=\"wandb-col\"><h3>Run summary:</h3><br/><table class=\"wandb\"><tr><td>Accuracy_mean</td><td>0.71005</td></tr><tr><td>Accuracy_std</td><td>0.0464</td></tr><tr><td>F1 Score_mean</td><td>0.72679</td></tr><tr><td>F1 Score_std</td><td>0.05615</td></tr><tr><td>Precision_mean</td><td>0.75745</td></tr><tr><td>Precision_std</td><td>0.0737</td></tr><tr><td>ROC-AUC_mean</td><td>0.90805</td></tr><tr><td>ROC-AUC_std</td><td>0.0249</td></tr><tr><td>Recall_mean</td><td>0.71005</td></tr><tr><td>Recall_std</td><td>0.0464</td></tr></table><br/></div></div>"
      ],
      "text/plain": [
       "<IPython.core.display.HTML object>"
      ]
     },
     "metadata": {},
     "output_type": "display_data"
    },
    {
     "data": {
      "text/html": [
       " View run <strong style=\"color:#cdcd00\">RUSBoost_Audio All</strong> at: <a href='https://wandb.ai/lequn/AudioVisual_ML_ablation_study_v2/runs/6x088y1m' target=\"_blank\">https://wandb.ai/lequn/AudioVisual_ML_ablation_study_v2/runs/6x088y1m</a><br/> View job at <a href='https://wandb.ai/lequn/AudioVisual_ML_ablation_study_v2/jobs/QXJ0aWZhY3RDb2xsZWN0aW9uOjExMTQ1OTc4Ng==/version_details/v23' target=\"_blank\">https://wandb.ai/lequn/AudioVisual_ML_ablation_study_v2/jobs/QXJ0aWZhY3RDb2xsZWN0aW9uOjExMTQ1OTc4Ng==/version_details/v23</a><br/>Synced 6 W&B file(s), 0 media file(s), 0 artifact file(s) and 0 other file(s)"
      ],
      "text/plain": [
       "<IPython.core.display.HTML object>"
      ]
     },
     "metadata": {},
     "output_type": "display_data"
    },
    {
     "data": {
      "text/html": [
       "Find logs at: <code>./wandb/run-20240305_115745-6x088y1m/logs</code>"
      ],
      "text/plain": [
       "<IPython.core.display.HTML object>"
      ]
     },
     "metadata": {},
     "output_type": "display_data"
    },
    {
     "name": "stdout",
     "output_type": "stream",
     "text": [
      "\tTraining model: Ada\n"
     ]
    },
    {
     "data": {
      "application/vnd.jupyter.widget-view+json": {
       "model_id": "a0893168c439417dafe3965318cd324c",
       "version_major": 2,
       "version_minor": 0
      },
      "text/plain": [
       "VBox(children=(Label(value='Waiting for wandb.init()...\\r'), FloatProgress(value=0.011114015355552611, max=1.0…"
      ]
     },
     "metadata": {},
     "output_type": "display_data"
    },
    {
     "data": {
      "text/html": [
       "wandb version 0.16.3 is available!  To upgrade, please run:\n",
       " $ pip install wandb --upgrade"
      ],
      "text/plain": [
       "<IPython.core.display.HTML object>"
      ]
     },
     "metadata": {},
     "output_type": "display_data"
    },
    {
     "data": {
      "text/html": [
       "Tracking run with wandb version 0.15.12"
      ],
      "text/plain": [
       "<IPython.core.display.HTML object>"
      ]
     },
     "metadata": {},
     "output_type": "display_data"
    },
    {
     "data": {
      "text/html": [
       "Run data is saved locally in <code>/home/chenlequn/GitHub/LDED-FusionNet/code/wandb/run-20240305_115757-pl20q0ap</code>"
      ],
      "text/plain": [
       "<IPython.core.display.HTML object>"
      ]
     },
     "metadata": {},
     "output_type": "display_data"
    },
    {
     "data": {
      "text/html": [
       "Syncing run <strong><a href='https://wandb.ai/lequn/AudioVisual_ML_ablation_study_v2/runs/pl20q0ap' target=\"_blank\">Ada_Audio All</a></strong> to <a href='https://wandb.ai/lequn/AudioVisual_ML_ablation_study_v2' target=\"_blank\">Weights & Biases</a> (<a href='https://wandb.me/run' target=\"_blank\">docs</a>)<br/>"
      ],
      "text/plain": [
       "<IPython.core.display.HTML object>"
      ]
     },
     "metadata": {},
     "output_type": "display_data"
    },
    {
     "data": {
      "text/html": [
       " View project at <a href='https://wandb.ai/lequn/AudioVisual_ML_ablation_study_v2' target=\"_blank\">https://wandb.ai/lequn/AudioVisual_ML_ablation_study_v2</a>"
      ],
      "text/plain": [
       "<IPython.core.display.HTML object>"
      ]
     },
     "metadata": {},
     "output_type": "display_data"
    },
    {
     "data": {
      "text/html": [
       " View run at <a href='https://wandb.ai/lequn/AudioVisual_ML_ablation_study_v2/runs/pl20q0ap' target=\"_blank\">https://wandb.ai/lequn/AudioVisual_ML_ablation_study_v2/runs/pl20q0ap</a>"
      ],
      "text/plain": [
       "<IPython.core.display.HTML object>"
      ]
     },
     "metadata": {},
     "output_type": "display_data"
    },
    {
     "name": "stdout",
     "output_type": "stream",
     "text": [
      "\t\tAccuracy: Mean = 0.7599812996727443, Std = 0.06870559626378073\n",
      "\t\tF1 Score: Mean = 0.749793744213178, Std = 0.07009433591278796\n",
      "\t\tPrecision: Mean = 0.7575098882728054, Std = 0.06650914586662056\n",
      "\t\tRecall: Mean = 0.7599812996727443, Std = 0.06870559626378073\n",
      "\t\tROC-AUC: Mean = 0.9200703134906139, Std = 0.01834687898080332\n"
     ]
    },
    {
     "name": "stderr",
     "output_type": "stream",
     "text": [
      "/home/chenlequn/anaconda3/envs/torch/lib/python3.9/site-packages/sklearn/metrics/_classification.py:1344: UndefinedMetricWarning: Precision is ill-defined and being set to 0.0 in labels with no predicted samples. Use `zero_division` parameter to control this behavior.\n",
      "  _warn_prf(average, modifier, msg_start, len(result))\n"
     ]
    },
    {
     "data": {
      "text/html": [
       "Waiting for W&B process to finish... <strong style=\"color:green\">(success).</strong>"
      ],
      "text/plain": [
       "<IPython.core.display.HTML object>"
      ]
     },
     "metadata": {},
     "output_type": "display_data"
    },
    {
     "data": {
      "text/html": [
       "<style>\n",
       "    table.wandb td:nth-child(1) { padding: 0 10px; text-align: left ; width: auto;} td:nth-child(2) {text-align: left ; width: 100%}\n",
       "    .wandb-row { display: flex; flex-direction: row; flex-wrap: wrap; justify-content: flex-start; width: 100% }\n",
       "    .wandb-col { display: flex; flex-direction: column; flex-basis: 100%; flex: 1; padding: 10px; }\n",
       "    </style>\n",
       "<div class=\"wandb-row\"><div class=\"wandb-col\"><h3>Run history:</h3><br/><table class=\"wandb\"><tr><td>Accuracy_mean</td><td>▁</td></tr><tr><td>Accuracy_std</td><td>▁</td></tr><tr><td>F1 Score_mean</td><td>▁</td></tr><tr><td>F1 Score_std</td><td>▁</td></tr><tr><td>Precision_mean</td><td>▁</td></tr><tr><td>Precision_std</td><td>▁</td></tr><tr><td>ROC-AUC_mean</td><td>▁</td></tr><tr><td>ROC-AUC_std</td><td>▁</td></tr><tr><td>Recall_mean</td><td>▁</td></tr><tr><td>Recall_std</td><td>▁</td></tr></table><br/></div><div class=\"wandb-col\"><h3>Run summary:</h3><br/><table class=\"wandb\"><tr><td>Accuracy_mean</td><td>0.75998</td></tr><tr><td>Accuracy_std</td><td>0.06871</td></tr><tr><td>F1 Score_mean</td><td>0.74979</td></tr><tr><td>F1 Score_std</td><td>0.07009</td></tr><tr><td>Precision_mean</td><td>0.75751</td></tr><tr><td>Precision_std</td><td>0.06651</td></tr><tr><td>ROC-AUC_mean</td><td>0.92007</td></tr><tr><td>ROC-AUC_std</td><td>0.01835</td></tr><tr><td>Recall_mean</td><td>0.75998</td></tr><tr><td>Recall_std</td><td>0.06871</td></tr></table><br/></div></div>"
      ],
      "text/plain": [
       "<IPython.core.display.HTML object>"
      ]
     },
     "metadata": {},
     "output_type": "display_data"
    },
    {
     "data": {
      "text/html": [
       " View run <strong style=\"color:#cdcd00\">Ada_Audio All</strong> at: <a href='https://wandb.ai/lequn/AudioVisual_ML_ablation_study_v2/runs/pl20q0ap' target=\"_blank\">https://wandb.ai/lequn/AudioVisual_ML_ablation_study_v2/runs/pl20q0ap</a><br/> View job at <a href='https://wandb.ai/lequn/AudioVisual_ML_ablation_study_v2/jobs/QXJ0aWZhY3RDb2xsZWN0aW9uOjExMTQ1OTc4Ng==/version_details/v23' target=\"_blank\">https://wandb.ai/lequn/AudioVisual_ML_ablation_study_v2/jobs/QXJ0aWZhY3RDb2xsZWN0aW9uOjExMTQ1OTc4Ng==/version_details/v23</a><br/>Synced 6 W&B file(s), 0 media file(s), 0 artifact file(s) and 0 other file(s)"
      ],
      "text/plain": [
       "<IPython.core.display.HTML object>"
      ]
     },
     "metadata": {},
     "output_type": "display_data"
    },
    {
     "data": {
      "text/html": [
       "Find logs at: <code>./wandb/run-20240305_115757-pl20q0ap/logs</code>"
      ],
      "text/plain": [
       "<IPython.core.display.HTML object>"
      ]
     },
     "metadata": {},
     "output_type": "display_data"
    },
    {
     "name": "stdout",
     "output_type": "stream",
     "text": [
      "\tTraining model: NN\n"
     ]
    },
    {
     "data": {
      "application/vnd.jupyter.widget-view+json": {
       "model_id": "bddb33212ca14d419083945b60a7823c",
       "version_major": 2,
       "version_minor": 0
      },
      "text/plain": [
       "VBox(children=(Label(value='Waiting for wandb.init()...\\r'), FloatProgress(value=0.011113398699995338, max=1.0…"
      ]
     },
     "metadata": {},
     "output_type": "display_data"
    },
    {
     "data": {
      "text/html": [
       "wandb version 0.16.3 is available!  To upgrade, please run:\n",
       " $ pip install wandb --upgrade"
      ],
      "text/plain": [
       "<IPython.core.display.HTML object>"
      ]
     },
     "metadata": {},
     "output_type": "display_data"
    },
    {
     "data": {
      "text/html": [
       "Tracking run with wandb version 0.15.12"
      ],
      "text/plain": [
       "<IPython.core.display.HTML object>"
      ]
     },
     "metadata": {},
     "output_type": "display_data"
    },
    {
     "data": {
      "text/html": [
       "Run data is saved locally in <code>/home/chenlequn/GitHub/LDED-FusionNet/code/wandb/run-20240305_115813-6ybyzufm</code>"
      ],
      "text/plain": [
       "<IPython.core.display.HTML object>"
      ]
     },
     "metadata": {},
     "output_type": "display_data"
    },
    {
     "data": {
      "text/html": [
       "Syncing run <strong><a href='https://wandb.ai/lequn/AudioVisual_ML_ablation_study_v2/runs/6ybyzufm' target=\"_blank\">NN_Audio All</a></strong> to <a href='https://wandb.ai/lequn/AudioVisual_ML_ablation_study_v2' target=\"_blank\">Weights & Biases</a> (<a href='https://wandb.me/run' target=\"_blank\">docs</a>)<br/>"
      ],
      "text/plain": [
       "<IPython.core.display.HTML object>"
      ]
     },
     "metadata": {},
     "output_type": "display_data"
    },
    {
     "data": {
      "text/html": [
       " View project at <a href='https://wandb.ai/lequn/AudioVisual_ML_ablation_study_v2' target=\"_blank\">https://wandb.ai/lequn/AudioVisual_ML_ablation_study_v2</a>"
      ],
      "text/plain": [
       "<IPython.core.display.HTML object>"
      ]
     },
     "metadata": {},
     "output_type": "display_data"
    },
    {
     "data": {
      "text/html": [
       " View run at <a href='https://wandb.ai/lequn/AudioVisual_ML_ablation_study_v2/runs/6ybyzufm' target=\"_blank\">https://wandb.ai/lequn/AudioVisual_ML_ablation_study_v2/runs/6ybyzufm</a>"
      ],
      "text/plain": [
       "<IPython.core.display.HTML object>"
      ]
     },
     "metadata": {},
     "output_type": "display_data"
    },
    {
     "name": "stdout",
     "output_type": "stream",
     "text": [
      "\t\tAccuracy: Mean = 0.8637213651238896, Std = 0.0369491210030211\n",
      "\t\tF1 Score: Mean = 0.8614976456306982, Std = 0.033696452330773057\n",
      "\t\tPrecision: Mean = 0.8713572450673741, Std = 0.03808754305324044\n",
      "\t\tRecall: Mean = 0.8637213651238896, Std = 0.0369491210030211\n",
      "\t\tROC-AUC: Mean = 0.9730066640657187, Std = 0.011892987809720416\n"
     ]
    },
    {
     "data": {
      "text/html": [
       "Waiting for W&B process to finish... <strong style=\"color:green\">(success).</strong>"
      ],
      "text/plain": [
       "<IPython.core.display.HTML object>"
      ]
     },
     "metadata": {},
     "output_type": "display_data"
    },
    {
     "data": {
      "text/html": [
       "<style>\n",
       "    table.wandb td:nth-child(1) { padding: 0 10px; text-align: left ; width: auto;} td:nth-child(2) {text-align: left ; width: 100%}\n",
       "    .wandb-row { display: flex; flex-direction: row; flex-wrap: wrap; justify-content: flex-start; width: 100% }\n",
       "    .wandb-col { display: flex; flex-direction: column; flex-basis: 100%; flex: 1; padding: 10px; }\n",
       "    </style>\n",
       "<div class=\"wandb-row\"><div class=\"wandb-col\"><h3>Run history:</h3><br/><table class=\"wandb\"><tr><td>Accuracy_mean</td><td>▁</td></tr><tr><td>Accuracy_std</td><td>▁</td></tr><tr><td>F1 Score_mean</td><td>▁</td></tr><tr><td>F1 Score_std</td><td>▁</td></tr><tr><td>Precision_mean</td><td>▁</td></tr><tr><td>Precision_std</td><td>▁</td></tr><tr><td>ROC-AUC_mean</td><td>▁</td></tr><tr><td>ROC-AUC_std</td><td>▁</td></tr><tr><td>Recall_mean</td><td>▁</td></tr><tr><td>Recall_std</td><td>▁</td></tr></table><br/></div><div class=\"wandb-col\"><h3>Run summary:</h3><br/><table class=\"wandb\"><tr><td>Accuracy_mean</td><td>0.86372</td></tr><tr><td>Accuracy_std</td><td>0.03695</td></tr><tr><td>F1 Score_mean</td><td>0.8615</td></tr><tr><td>F1 Score_std</td><td>0.0337</td></tr><tr><td>Precision_mean</td><td>0.87136</td></tr><tr><td>Precision_std</td><td>0.03809</td></tr><tr><td>ROC-AUC_mean</td><td>0.97301</td></tr><tr><td>ROC-AUC_std</td><td>0.01189</td></tr><tr><td>Recall_mean</td><td>0.86372</td></tr><tr><td>Recall_std</td><td>0.03695</td></tr></table><br/></div></div>"
      ],
      "text/plain": [
       "<IPython.core.display.HTML object>"
      ]
     },
     "metadata": {},
     "output_type": "display_data"
    },
    {
     "data": {
      "text/html": [
       " View run <strong style=\"color:#cdcd00\">NN_Audio All</strong> at: <a href='https://wandb.ai/lequn/AudioVisual_ML_ablation_study_v2/runs/6ybyzufm' target=\"_blank\">https://wandb.ai/lequn/AudioVisual_ML_ablation_study_v2/runs/6ybyzufm</a><br/> View job at <a href='https://wandb.ai/lequn/AudioVisual_ML_ablation_study_v2/jobs/QXJ0aWZhY3RDb2xsZWN0aW9uOjExMTQ1OTc4Ng==/version_details/v23' target=\"_blank\">https://wandb.ai/lequn/AudioVisual_ML_ablation_study_v2/jobs/QXJ0aWZhY3RDb2xsZWN0aW9uOjExMTQ1OTc4Ng==/version_details/v23</a><br/>Synced 6 W&B file(s), 0 media file(s), 0 artifact file(s) and 0 other file(s)"
      ],
      "text/plain": [
       "<IPython.core.display.HTML object>"
      ]
     },
     "metadata": {},
     "output_type": "display_data"
    },
    {
     "data": {
      "text/html": [
       "Find logs at: <code>./wandb/run-20240305_115813-6ybyzufm/logs</code>"
      ],
      "text/plain": [
       "<IPython.core.display.HTML object>"
      ]
     },
     "metadata": {},
     "output_type": "display_data"
    },
    {
     "name": "stdout",
     "output_type": "stream",
     "text": [
      "\tTraining model: XGBoost\n"
     ]
    },
    {
     "data": {
      "application/vnd.jupyter.widget-view+json": {
       "model_id": "11b2cd7ef4424f85b0346932ed6fb43a",
       "version_major": 2,
       "version_minor": 0
      },
      "text/plain": [
       "VBox(children=(Label(value='Waiting for wandb.init()...\\r'), FloatProgress(value=0.011113181655552277, max=1.0…"
      ]
     },
     "metadata": {},
     "output_type": "display_data"
    },
    {
     "data": {
      "text/html": [
       "wandb version 0.16.3 is available!  To upgrade, please run:\n",
       " $ pip install wandb --upgrade"
      ],
      "text/plain": [
       "<IPython.core.display.HTML object>"
      ]
     },
     "metadata": {},
     "output_type": "display_data"
    },
    {
     "data": {
      "text/html": [
       "Tracking run with wandb version 0.15.12"
      ],
      "text/plain": [
       "<IPython.core.display.HTML object>"
      ]
     },
     "metadata": {},
     "output_type": "display_data"
    },
    {
     "data": {
      "text/html": [
       "Run data is saved locally in <code>/home/chenlequn/GitHub/LDED-FusionNet/code/wandb/run-20240305_115828-sebnv9jw</code>"
      ],
      "text/plain": [
       "<IPython.core.display.HTML object>"
      ]
     },
     "metadata": {},
     "output_type": "display_data"
    },
    {
     "data": {
      "text/html": [
       "Syncing run <strong><a href='https://wandb.ai/lequn/AudioVisual_ML_ablation_study_v2/runs/sebnv9jw' target=\"_blank\">XGBoost_Audio All</a></strong> to <a href='https://wandb.ai/lequn/AudioVisual_ML_ablation_study_v2' target=\"_blank\">Weights & Biases</a> (<a href='https://wandb.me/run' target=\"_blank\">docs</a>)<br/>"
      ],
      "text/plain": [
       "<IPython.core.display.HTML object>"
      ]
     },
     "metadata": {},
     "output_type": "display_data"
    },
    {
     "data": {
      "text/html": [
       " View project at <a href='https://wandb.ai/lequn/AudioVisual_ML_ablation_study_v2' target=\"_blank\">https://wandb.ai/lequn/AudioVisual_ML_ablation_study_v2</a>"
      ],
      "text/plain": [
       "<IPython.core.display.HTML object>"
      ]
     },
     "metadata": {},
     "output_type": "display_data"
    },
    {
     "data": {
      "text/html": [
       " View run at <a href='https://wandb.ai/lequn/AudioVisual_ML_ablation_study_v2/runs/sebnv9jw' target=\"_blank\">https://wandb.ai/lequn/AudioVisual_ML_ablation_study_v2/runs/sebnv9jw</a>"
      ],
      "text/plain": [
       "<IPython.core.display.HTML object>"
      ]
     },
     "metadata": {},
     "output_type": "display_data"
    },
    {
     "name": "stdout",
     "output_type": "stream",
     "text": [
      "\t\tAccuracy: Mean = 0.8506545114539504, Std = 0.04024254376198817\n",
      "\t\tF1 Score: Mean = 0.8482511299150689, Std = 0.039753655909299\n",
      "\t\tPrecision: Mean = 0.8518918940908617, Std = 0.042072934667644224\n",
      "\t\tRecall: Mean = 0.8506545114539504, Std = 0.04024254376198817\n",
      "\t\tROC-AUC: Mean = 0.9719225202248086, Std = 0.011583184572758169\n"
     ]
    },
    {
     "data": {
      "text/html": [
       "Waiting for W&B process to finish... <strong style=\"color:green\">(success).</strong>"
      ],
      "text/plain": [
       "<IPython.core.display.HTML object>"
      ]
     },
     "metadata": {},
     "output_type": "display_data"
    },
    {
     "data": {
      "text/html": [
       "<style>\n",
       "    table.wandb td:nth-child(1) { padding: 0 10px; text-align: left ; width: auto;} td:nth-child(2) {text-align: left ; width: 100%}\n",
       "    .wandb-row { display: flex; flex-direction: row; flex-wrap: wrap; justify-content: flex-start; width: 100% }\n",
       "    .wandb-col { display: flex; flex-direction: column; flex-basis: 100%; flex: 1; padding: 10px; }\n",
       "    </style>\n",
       "<div class=\"wandb-row\"><div class=\"wandb-col\"><h3>Run history:</h3><br/><table class=\"wandb\"><tr><td>Accuracy_mean</td><td>▁</td></tr><tr><td>Accuracy_std</td><td>▁</td></tr><tr><td>F1 Score_mean</td><td>▁</td></tr><tr><td>F1 Score_std</td><td>▁</td></tr><tr><td>Precision_mean</td><td>▁</td></tr><tr><td>Precision_std</td><td>▁</td></tr><tr><td>ROC-AUC_mean</td><td>▁</td></tr><tr><td>ROC-AUC_std</td><td>▁</td></tr><tr><td>Recall_mean</td><td>▁</td></tr><tr><td>Recall_std</td><td>▁</td></tr></table><br/></div><div class=\"wandb-col\"><h3>Run summary:</h3><br/><table class=\"wandb\"><tr><td>Accuracy_mean</td><td>0.85065</td></tr><tr><td>Accuracy_std</td><td>0.04024</td></tr><tr><td>F1 Score_mean</td><td>0.84825</td></tr><tr><td>F1 Score_std</td><td>0.03975</td></tr><tr><td>Precision_mean</td><td>0.85189</td></tr><tr><td>Precision_std</td><td>0.04207</td></tr><tr><td>ROC-AUC_mean</td><td>0.97192</td></tr><tr><td>ROC-AUC_std</td><td>0.01158</td></tr><tr><td>Recall_mean</td><td>0.85065</td></tr><tr><td>Recall_std</td><td>0.04024</td></tr></table><br/></div></div>"
      ],
      "text/plain": [
       "<IPython.core.display.HTML object>"
      ]
     },
     "metadata": {},
     "output_type": "display_data"
    },
    {
     "data": {
      "text/html": [
       " View run <strong style=\"color:#cdcd00\">XGBoost_Audio All</strong> at: <a href='https://wandb.ai/lequn/AudioVisual_ML_ablation_study_v2/runs/sebnv9jw' target=\"_blank\">https://wandb.ai/lequn/AudioVisual_ML_ablation_study_v2/runs/sebnv9jw</a><br/> View job at <a href='https://wandb.ai/lequn/AudioVisual_ML_ablation_study_v2/jobs/QXJ0aWZhY3RDb2xsZWN0aW9uOjExMTQ1OTc4Ng==/version_details/v23' target=\"_blank\">https://wandb.ai/lequn/AudioVisual_ML_ablation_study_v2/jobs/QXJ0aWZhY3RDb2xsZWN0aW9uOjExMTQ1OTc4Ng==/version_details/v23</a><br/>Synced 6 W&B file(s), 0 media file(s), 0 artifact file(s) and 0 other file(s)"
      ],
      "text/plain": [
       "<IPython.core.display.HTML object>"
      ]
     },
     "metadata": {},
     "output_type": "display_data"
    },
    {
     "data": {
      "text/html": [
       "Find logs at: <code>./wandb/run-20240305_115828-sebnv9jw/logs</code>"
      ],
      "text/plain": [
       "<IPython.core.display.HTML object>"
      ]
     },
     "metadata": {},
     "output_type": "display_data"
    },
    {
     "name": "stdout",
     "output_type": "stream",
     "text": [
      "\tTraining model: LightGBM\n"
     ]
    },
    {
     "data": {
      "application/vnd.jupyter.widget-view+json": {
       "model_id": "2efa14a5a9e146e0b25c7ddb6d522e09",
       "version_major": 2,
       "version_minor": 0
      },
      "text/plain": [
       "VBox(children=(Label(value='Waiting for wandb.init()...\\r'), FloatProgress(value=0.01111238987777041, max=1.0)…"
      ]
     },
     "metadata": {},
     "output_type": "display_data"
    },
    {
     "data": {
      "text/html": [
       "wandb version 0.16.3 is available!  To upgrade, please run:\n",
       " $ pip install wandb --upgrade"
      ],
      "text/plain": [
       "<IPython.core.display.HTML object>"
      ]
     },
     "metadata": {},
     "output_type": "display_data"
    },
    {
     "data": {
      "text/html": [
       "Tracking run with wandb version 0.15.12"
      ],
      "text/plain": [
       "<IPython.core.display.HTML object>"
      ]
     },
     "metadata": {},
     "output_type": "display_data"
    },
    {
     "data": {
      "text/html": [
       "Run data is saved locally in <code>/home/chenlequn/GitHub/LDED-FusionNet/code/wandb/run-20240305_115843-c307i32o</code>"
      ],
      "text/plain": [
       "<IPython.core.display.HTML object>"
      ]
     },
     "metadata": {},
     "output_type": "display_data"
    },
    {
     "data": {
      "text/html": [
       "Syncing run <strong><a href='https://wandb.ai/lequn/AudioVisual_ML_ablation_study_v2/runs/c307i32o' target=\"_blank\">LightGBM_Audio All</a></strong> to <a href='https://wandb.ai/lequn/AudioVisual_ML_ablation_study_v2' target=\"_blank\">Weights & Biases</a> (<a href='https://wandb.me/run' target=\"_blank\">docs</a>)<br/>"
      ],
      "text/plain": [
       "<IPython.core.display.HTML object>"
      ]
     },
     "metadata": {},
     "output_type": "display_data"
    },
    {
     "data": {
      "text/html": [
       " View project at <a href='https://wandb.ai/lequn/AudioVisual_ML_ablation_study_v2' target=\"_blank\">https://wandb.ai/lequn/AudioVisual_ML_ablation_study_v2</a>"
      ],
      "text/plain": [
       "<IPython.core.display.HTML object>"
      ]
     },
     "metadata": {},
     "output_type": "display_data"
    },
    {
     "data": {
      "text/html": [
       " View run at <a href='https://wandb.ai/lequn/AudioVisual_ML_ablation_study_v2/runs/c307i32o' target=\"_blank\">https://wandb.ai/lequn/AudioVisual_ML_ablation_study_v2/runs/c307i32o</a>"
      ],
      "text/plain": [
       "<IPython.core.display.HTML object>"
      ]
     },
     "metadata": {},
     "output_type": "display_data"
    },
    {
     "name": "stdout",
     "output_type": "stream",
     "text": [
      "\t\tAccuracy: Mean = 0.8615708274894811, Std = 0.03612908246918264\n",
      "\t\tF1 Score: Mean = 0.8558697980902773, Std = 0.03477494372576302\n",
      "\t\tPrecision: Mean = 0.8631987685197317, Std = 0.03644930755971354\n",
      "\t\tRecall: Mean = 0.8615708274894811, Std = 0.03612908246918264\n",
      "\t\tROC-AUC: Mean = 0.9722511286545655, Std = 0.01430241108765057\n"
     ]
    },
    {
     "data": {
      "text/html": [
       "Waiting for W&B process to finish... <strong style=\"color:green\">(success).</strong>"
      ],
      "text/plain": [
       "<IPython.core.display.HTML object>"
      ]
     },
     "metadata": {},
     "output_type": "display_data"
    },
    {
     "data": {
      "text/html": [
       "<style>\n",
       "    table.wandb td:nth-child(1) { padding: 0 10px; text-align: left ; width: auto;} td:nth-child(2) {text-align: left ; width: 100%}\n",
       "    .wandb-row { display: flex; flex-direction: row; flex-wrap: wrap; justify-content: flex-start; width: 100% }\n",
       "    .wandb-col { display: flex; flex-direction: column; flex-basis: 100%; flex: 1; padding: 10px; }\n",
       "    </style>\n",
       "<div class=\"wandb-row\"><div class=\"wandb-col\"><h3>Run history:</h3><br/><table class=\"wandb\"><tr><td>Accuracy_mean</td><td>▁</td></tr><tr><td>Accuracy_std</td><td>▁</td></tr><tr><td>F1 Score_mean</td><td>▁</td></tr><tr><td>F1 Score_std</td><td>▁</td></tr><tr><td>Precision_mean</td><td>▁</td></tr><tr><td>Precision_std</td><td>▁</td></tr><tr><td>ROC-AUC_mean</td><td>▁</td></tr><tr><td>ROC-AUC_std</td><td>▁</td></tr><tr><td>Recall_mean</td><td>▁</td></tr><tr><td>Recall_std</td><td>▁</td></tr></table><br/></div><div class=\"wandb-col\"><h3>Run summary:</h3><br/><table class=\"wandb\"><tr><td>Accuracy_mean</td><td>0.86157</td></tr><tr><td>Accuracy_std</td><td>0.03613</td></tr><tr><td>F1 Score_mean</td><td>0.85587</td></tr><tr><td>F1 Score_std</td><td>0.03477</td></tr><tr><td>Precision_mean</td><td>0.8632</td></tr><tr><td>Precision_std</td><td>0.03645</td></tr><tr><td>ROC-AUC_mean</td><td>0.97225</td></tr><tr><td>ROC-AUC_std</td><td>0.0143</td></tr><tr><td>Recall_mean</td><td>0.86157</td></tr><tr><td>Recall_std</td><td>0.03613</td></tr></table><br/></div></div>"
      ],
      "text/plain": [
       "<IPython.core.display.HTML object>"
      ]
     },
     "metadata": {},
     "output_type": "display_data"
    },
    {
     "data": {
      "text/html": [
       " View run <strong style=\"color:#cdcd00\">LightGBM_Audio All</strong> at: <a href='https://wandb.ai/lequn/AudioVisual_ML_ablation_study_v2/runs/c307i32o' target=\"_blank\">https://wandb.ai/lequn/AudioVisual_ML_ablation_study_v2/runs/c307i32o</a><br/> View job at <a href='https://wandb.ai/lequn/AudioVisual_ML_ablation_study_v2/jobs/QXJ0aWZhY3RDb2xsZWN0aW9uOjExMTQ1OTc4Ng==/version_details/v23' target=\"_blank\">https://wandb.ai/lequn/AudioVisual_ML_ablation_study_v2/jobs/QXJ0aWZhY3RDb2xsZWN0aW9uOjExMTQ1OTc4Ng==/version_details/v23</a><br/>Synced 6 W&B file(s), 0 media file(s), 0 artifact file(s) and 0 other file(s)"
      ],
      "text/plain": [
       "<IPython.core.display.HTML object>"
      ]
     },
     "metadata": {},
     "output_type": "display_data"
    },
    {
     "data": {
      "text/html": [
       "Find logs at: <code>./wandb/run-20240305_115843-c307i32o/logs</code>"
      ],
      "text/plain": [
       "<IPython.core.display.HTML object>"
      ]
     },
     "metadata": {},
     "output_type": "display_data"
    },
    {
     "name": "stdout",
     "output_type": "stream",
     "text": [
      "\tTraining model: SVM\n"
     ]
    },
    {
     "data": {
      "application/vnd.jupyter.widget-view+json": {
       "model_id": "d81a89a337404669bc214030901aecb9",
       "version_major": 2,
       "version_minor": 0
      },
      "text/plain": [
       "VBox(children=(Label(value='Waiting for wandb.init()...\\r'), FloatProgress(value=0.011113893666667233, max=1.0…"
      ]
     },
     "metadata": {},
     "output_type": "display_data"
    },
    {
     "data": {
      "text/html": [
       "wandb version 0.16.3 is available!  To upgrade, please run:\n",
       " $ pip install wandb --upgrade"
      ],
      "text/plain": [
       "<IPython.core.display.HTML object>"
      ]
     },
     "metadata": {},
     "output_type": "display_data"
    },
    {
     "data": {
      "text/html": [
       "Tracking run with wandb version 0.15.12"
      ],
      "text/plain": [
       "<IPython.core.display.HTML object>"
      ]
     },
     "metadata": {},
     "output_type": "display_data"
    },
    {
     "data": {
      "text/html": [
       "Run data is saved locally in <code>/home/chenlequn/GitHub/LDED-FusionNet/code/wandb/run-20240305_115858-90ca53bb</code>"
      ],
      "text/plain": [
       "<IPython.core.display.HTML object>"
      ]
     },
     "metadata": {},
     "output_type": "display_data"
    },
    {
     "data": {
      "text/html": [
       "Syncing run <strong><a href='https://wandb.ai/lequn/AudioVisual_ML_ablation_study_v2/runs/90ca53bb' target=\"_blank\">SVM_Audio All</a></strong> to <a href='https://wandb.ai/lequn/AudioVisual_ML_ablation_study_v2' target=\"_blank\">Weights & Biases</a> (<a href='https://wandb.me/run' target=\"_blank\">docs</a>)<br/>"
      ],
      "text/plain": [
       "<IPython.core.display.HTML object>"
      ]
     },
     "metadata": {},
     "output_type": "display_data"
    },
    {
     "data": {
      "text/html": [
       " View project at <a href='https://wandb.ai/lequn/AudioVisual_ML_ablation_study_v2' target=\"_blank\">https://wandb.ai/lequn/AudioVisual_ML_ablation_study_v2</a>"
      ],
      "text/plain": [
       "<IPython.core.display.HTML object>"
      ]
     },
     "metadata": {},
     "output_type": "display_data"
    },
    {
     "data": {
      "text/html": [
       " View run at <a href='https://wandb.ai/lequn/AudioVisual_ML_ablation_study_v2/runs/90ca53bb' target=\"_blank\">https://wandb.ai/lequn/AudioVisual_ML_ablation_study_v2/runs/90ca53bb</a>"
      ],
      "text/plain": [
       "<IPython.core.display.HTML object>"
      ]
     },
     "metadata": {},
     "output_type": "display_data"
    },
    {
     "name": "stdout",
     "output_type": "stream",
     "text": [
      "\t\tAccuracy: Mean = 0.8333800841514727, Std = 0.023992395066316296\n",
      "\t\tF1 Score: Mean = 0.8234156796377323, Std = 0.02361171682661116\n",
      "\t\tPrecision: Mean = 0.8393921716948901, Std = 0.029063989323492728\n",
      "\t\tRecall: Mean = 0.8333800841514727, Std = 0.023992395066316296\n",
      "\t\tROC-AUC: Mean = 0.9618721800011014, Std = 0.016413233876867012\n"
     ]
    },
    {
     "data": {
      "text/html": [
       "Waiting for W&B process to finish... <strong style=\"color:green\">(success).</strong>"
      ],
      "text/plain": [
       "<IPython.core.display.HTML object>"
      ]
     },
     "metadata": {},
     "output_type": "display_data"
    },
    {
     "data": {
      "text/html": [
       "<style>\n",
       "    table.wandb td:nth-child(1) { padding: 0 10px; text-align: left ; width: auto;} td:nth-child(2) {text-align: left ; width: 100%}\n",
       "    .wandb-row { display: flex; flex-direction: row; flex-wrap: wrap; justify-content: flex-start; width: 100% }\n",
       "    .wandb-col { display: flex; flex-direction: column; flex-basis: 100%; flex: 1; padding: 10px; }\n",
       "    </style>\n",
       "<div class=\"wandb-row\"><div class=\"wandb-col\"><h3>Run history:</h3><br/><table class=\"wandb\"><tr><td>Accuracy_mean</td><td>▁</td></tr><tr><td>Accuracy_std</td><td>▁</td></tr><tr><td>F1 Score_mean</td><td>▁</td></tr><tr><td>F1 Score_std</td><td>▁</td></tr><tr><td>Precision_mean</td><td>▁</td></tr><tr><td>Precision_std</td><td>▁</td></tr><tr><td>ROC-AUC_mean</td><td>▁</td></tr><tr><td>ROC-AUC_std</td><td>▁</td></tr><tr><td>Recall_mean</td><td>▁</td></tr><tr><td>Recall_std</td><td>▁</td></tr></table><br/></div><div class=\"wandb-col\"><h3>Run summary:</h3><br/><table class=\"wandb\"><tr><td>Accuracy_mean</td><td>0.83338</td></tr><tr><td>Accuracy_std</td><td>0.02399</td></tr><tr><td>F1 Score_mean</td><td>0.82342</td></tr><tr><td>F1 Score_std</td><td>0.02361</td></tr><tr><td>Precision_mean</td><td>0.83939</td></tr><tr><td>Precision_std</td><td>0.02906</td></tr><tr><td>ROC-AUC_mean</td><td>0.96187</td></tr><tr><td>ROC-AUC_std</td><td>0.01641</td></tr><tr><td>Recall_mean</td><td>0.83338</td></tr><tr><td>Recall_std</td><td>0.02399</td></tr></table><br/></div></div>"
      ],
      "text/plain": [
       "<IPython.core.display.HTML object>"
      ]
     },
     "metadata": {},
     "output_type": "display_data"
    },
    {
     "data": {
      "text/html": [
       " View run <strong style=\"color:#cdcd00\">SVM_Audio All</strong> at: <a href='https://wandb.ai/lequn/AudioVisual_ML_ablation_study_v2/runs/90ca53bb' target=\"_blank\">https://wandb.ai/lequn/AudioVisual_ML_ablation_study_v2/runs/90ca53bb</a><br/> View job at <a href='https://wandb.ai/lequn/AudioVisual_ML_ablation_study_v2/jobs/QXJ0aWZhY3RDb2xsZWN0aW9uOjExMTQ1OTc4Ng==/version_details/v23' target=\"_blank\">https://wandb.ai/lequn/AudioVisual_ML_ablation_study_v2/jobs/QXJ0aWZhY3RDb2xsZWN0aW9uOjExMTQ1OTc4Ng==/version_details/v23</a><br/>Synced 6 W&B file(s), 0 media file(s), 0 artifact file(s) and 0 other file(s)"
      ],
      "text/plain": [
       "<IPython.core.display.HTML object>"
      ]
     },
     "metadata": {},
     "output_type": "display_data"
    },
    {
     "data": {
      "text/html": [
       "Find logs at: <code>./wandb/run-20240305_115858-90ca53bb/logs</code>"
      ],
      "text/plain": [
       "<IPython.core.display.HTML object>"
      ]
     },
     "metadata": {},
     "output_type": "display_data"
    },
    {
     "name": "stdout",
     "output_type": "stream",
     "text": [
      "\tTraining model: HistGB\n"
     ]
    },
    {
     "data": {
      "application/vnd.jupyter.widget-view+json": {
       "model_id": "8233b3a81ae1429282cccd86ce855019",
       "version_major": 2,
       "version_minor": 0
      },
      "text/plain": [
       "VBox(children=(Label(value='Waiting for wandb.init()...\\r'), FloatProgress(value=0.011113901888883346, max=1.0…"
      ]
     },
     "metadata": {},
     "output_type": "display_data"
    },
    {
     "data": {
      "text/html": [
       "wandb version 0.16.3 is available!  To upgrade, please run:\n",
       " $ pip install wandb --upgrade"
      ],
      "text/plain": [
       "<IPython.core.display.HTML object>"
      ]
     },
     "metadata": {},
     "output_type": "display_data"
    },
    {
     "data": {
      "text/html": [
       "Tracking run with wandb version 0.15.12"
      ],
      "text/plain": [
       "<IPython.core.display.HTML object>"
      ]
     },
     "metadata": {},
     "output_type": "display_data"
    },
    {
     "data": {
      "text/html": [
       "Run data is saved locally in <code>/home/chenlequn/GitHub/LDED-FusionNet/code/wandb/run-20240305_115909-f9rfyuvk</code>"
      ],
      "text/plain": [
       "<IPython.core.display.HTML object>"
      ]
     },
     "metadata": {},
     "output_type": "display_data"
    },
    {
     "data": {
      "text/html": [
       "Syncing run <strong><a href='https://wandb.ai/lequn/AudioVisual_ML_ablation_study_v2/runs/f9rfyuvk' target=\"_blank\">HistGB_Audio All</a></strong> to <a href='https://wandb.ai/lequn/AudioVisual_ML_ablation_study_v2' target=\"_blank\">Weights & Biases</a> (<a href='https://wandb.me/run' target=\"_blank\">docs</a>)<br/>"
      ],
      "text/plain": [
       "<IPython.core.display.HTML object>"
      ]
     },
     "metadata": {},
     "output_type": "display_data"
    },
    {
     "data": {
      "text/html": [
       " View project at <a href='https://wandb.ai/lequn/AudioVisual_ML_ablation_study_v2' target=\"_blank\">https://wandb.ai/lequn/AudioVisual_ML_ablation_study_v2</a>"
      ],
      "text/plain": [
       "<IPython.core.display.HTML object>"
      ]
     },
     "metadata": {},
     "output_type": "display_data"
    },
    {
     "data": {
      "text/html": [
       " View run at <a href='https://wandb.ai/lequn/AudioVisual_ML_ablation_study_v2/runs/f9rfyuvk' target=\"_blank\">https://wandb.ai/lequn/AudioVisual_ML_ablation_study_v2/runs/f9rfyuvk</a>"
      ],
      "text/plain": [
       "<IPython.core.display.HTML object>"
      ]
     },
     "metadata": {},
     "output_type": "display_data"
    },
    {
     "name": "stdout",
     "output_type": "stream",
     "text": [
      "\t\tAccuracy: Mean = 0.8658485273492286, Std = 0.03093162873892134\n",
      "\t\tF1 Score: Mean = 0.8609370108149449, Std = 0.026350538455435318\n",
      "\t\tPrecision: Mean = 0.8685164298149578, Std = 0.03423404759214379\n",
      "\t\tRecall: Mean = 0.8658485273492286, Std = 0.03093162873892134\n",
      "\t\tROC-AUC: Mean = 0.9771695217663993, Std = 0.011806827842014202\n"
     ]
    },
    {
     "data": {
      "text/html": [
       "Waiting for W&B process to finish... <strong style=\"color:green\">(success).</strong>"
      ],
      "text/plain": [
       "<IPython.core.display.HTML object>"
      ]
     },
     "metadata": {},
     "output_type": "display_data"
    },
    {
     "data": {
      "text/html": [
       "<style>\n",
       "    table.wandb td:nth-child(1) { padding: 0 10px; text-align: left ; width: auto;} td:nth-child(2) {text-align: left ; width: 100%}\n",
       "    .wandb-row { display: flex; flex-direction: row; flex-wrap: wrap; justify-content: flex-start; width: 100% }\n",
       "    .wandb-col { display: flex; flex-direction: column; flex-basis: 100%; flex: 1; padding: 10px; }\n",
       "    </style>\n",
       "<div class=\"wandb-row\"><div class=\"wandb-col\"><h3>Run history:</h3><br/><table class=\"wandb\"><tr><td>Accuracy_mean</td><td>▁</td></tr><tr><td>Accuracy_std</td><td>▁</td></tr><tr><td>F1 Score_mean</td><td>▁</td></tr><tr><td>F1 Score_std</td><td>▁</td></tr><tr><td>Precision_mean</td><td>▁</td></tr><tr><td>Precision_std</td><td>▁</td></tr><tr><td>ROC-AUC_mean</td><td>▁</td></tr><tr><td>ROC-AUC_std</td><td>▁</td></tr><tr><td>Recall_mean</td><td>▁</td></tr><tr><td>Recall_std</td><td>▁</td></tr></table><br/></div><div class=\"wandb-col\"><h3>Run summary:</h3><br/><table class=\"wandb\"><tr><td>Accuracy_mean</td><td>0.86585</td></tr><tr><td>Accuracy_std</td><td>0.03093</td></tr><tr><td>F1 Score_mean</td><td>0.86094</td></tr><tr><td>F1 Score_std</td><td>0.02635</td></tr><tr><td>Precision_mean</td><td>0.86852</td></tr><tr><td>Precision_std</td><td>0.03423</td></tr><tr><td>ROC-AUC_mean</td><td>0.97717</td></tr><tr><td>ROC-AUC_std</td><td>0.01181</td></tr><tr><td>Recall_mean</td><td>0.86585</td></tr><tr><td>Recall_std</td><td>0.03093</td></tr></table><br/></div></div>"
      ],
      "text/plain": [
       "<IPython.core.display.HTML object>"
      ]
     },
     "metadata": {},
     "output_type": "display_data"
    },
    {
     "data": {
      "text/html": [
       " View run <strong style=\"color:#cdcd00\">HistGB_Audio All</strong> at: <a href='https://wandb.ai/lequn/AudioVisual_ML_ablation_study_v2/runs/f9rfyuvk' target=\"_blank\">https://wandb.ai/lequn/AudioVisual_ML_ablation_study_v2/runs/f9rfyuvk</a><br/> View job at <a href='https://wandb.ai/lequn/AudioVisual_ML_ablation_study_v2/jobs/QXJ0aWZhY3RDb2xsZWN0aW9uOjExMTQ1OTc4Ng==/version_details/v22' target=\"_blank\">https://wandb.ai/lequn/AudioVisual_ML_ablation_study_v2/jobs/QXJ0aWZhY3RDb2xsZWN0aW9uOjExMTQ1OTc4Ng==/version_details/v22</a><br/>Synced 6 W&B file(s), 0 media file(s), 0 artifact file(s) and 0 other file(s)"
      ],
      "text/plain": [
       "<IPython.core.display.HTML object>"
      ]
     },
     "metadata": {},
     "output_type": "display_data"
    },
    {
     "data": {
      "text/html": [
       "Find logs at: <code>./wandb/run-20240305_115909-f9rfyuvk/logs</code>"
      ],
      "text/plain": [
       "<IPython.core.display.HTML object>"
      ]
     },
     "metadata": {},
     "output_type": "display_data"
    },
    {
     "name": "stdout",
     "output_type": "stream",
     "text": [
      "Processing dataset: Vision All\n",
      "\tTraining model: KNN\n"
     ]
    },
    {
     "data": {
      "application/vnd.jupyter.widget-view+json": {
       "model_id": "8d306428d93448a8b591d1e80016450b",
       "version_major": 2,
       "version_minor": 0
      },
      "text/plain": [
       "VBox(children=(Label(value='Waiting for wandb.init()...\\r'), FloatProgress(value=0.011113146377778726, max=1.0…"
      ]
     },
     "metadata": {},
     "output_type": "display_data"
    },
    {
     "data": {
      "text/html": [
       "wandb version 0.16.3 is available!  To upgrade, please run:\n",
       " $ pip install wandb --upgrade"
      ],
      "text/plain": [
       "<IPython.core.display.HTML object>"
      ]
     },
     "metadata": {},
     "output_type": "display_data"
    },
    {
     "data": {
      "text/html": [
       "Tracking run with wandb version 0.15.12"
      ],
      "text/plain": [
       "<IPython.core.display.HTML object>"
      ]
     },
     "metadata": {},
     "output_type": "display_data"
    },
    {
     "data": {
      "text/html": [
       "Run data is saved locally in <code>/home/chenlequn/GitHub/LDED-FusionNet/code/wandb/run-20240305_115927-jb6knxtm</code>"
      ],
      "text/plain": [
       "<IPython.core.display.HTML object>"
      ]
     },
     "metadata": {},
     "output_type": "display_data"
    },
    {
     "data": {
      "text/html": [
       "Syncing run <strong><a href='https://wandb.ai/lequn/AudioVisual_ML_ablation_study_v2/runs/jb6knxtm' target=\"_blank\">KNN_Vision All</a></strong> to <a href='https://wandb.ai/lequn/AudioVisual_ML_ablation_study_v2' target=\"_blank\">Weights & Biases</a> (<a href='https://wandb.me/run' target=\"_blank\">docs</a>)<br/>"
      ],
      "text/plain": [
       "<IPython.core.display.HTML object>"
      ]
     },
     "metadata": {},
     "output_type": "display_data"
    },
    {
     "data": {
      "text/html": [
       " View project at <a href='https://wandb.ai/lequn/AudioVisual_ML_ablation_study_v2' target=\"_blank\">https://wandb.ai/lequn/AudioVisual_ML_ablation_study_v2</a>"
      ],
      "text/plain": [
       "<IPython.core.display.HTML object>"
      ]
     },
     "metadata": {},
     "output_type": "display_data"
    },
    {
     "data": {
      "text/html": [
       " View run at <a href='https://wandb.ai/lequn/AudioVisual_ML_ablation_study_v2/runs/jb6knxtm' target=\"_blank\">https://wandb.ai/lequn/AudioVisual_ML_ablation_study_v2/runs/jb6knxtm</a>"
      ],
      "text/plain": [
       "<IPython.core.display.HTML object>"
      ]
     },
     "metadata": {},
     "output_type": "display_data"
    },
    {
     "name": "stdout",
     "output_type": "stream",
     "text": [
      "\t\tAccuracy: Mean = 0.8030388031790556, Std = 0.030099631201257887\n",
      "\t\tF1 Score: Mean = 0.8046571457765108, Std = 0.028253641975963834\n",
      "\t\tPrecision: Mean = 0.8112699024855978, Std = 0.025675409593361464\n",
      "\t\tRecall: Mean = 0.8030388031790556, Std = 0.030099631201257887\n",
      "\t\tROC-AUC: Mean = 0.9353725179355274, Std = 0.00985599311017718\n"
     ]
    },
    {
     "data": {
      "text/html": [
       "Waiting for W&B process to finish... <strong style=\"color:green\">(success).</strong>"
      ],
      "text/plain": [
       "<IPython.core.display.HTML object>"
      ]
     },
     "metadata": {},
     "output_type": "display_data"
    },
    {
     "data": {
      "text/html": [
       "<style>\n",
       "    table.wandb td:nth-child(1) { padding: 0 10px; text-align: left ; width: auto;} td:nth-child(2) {text-align: left ; width: 100%}\n",
       "    .wandb-row { display: flex; flex-direction: row; flex-wrap: wrap; justify-content: flex-start; width: 100% }\n",
       "    .wandb-col { display: flex; flex-direction: column; flex-basis: 100%; flex: 1; padding: 10px; }\n",
       "    </style>\n",
       "<div class=\"wandb-row\"><div class=\"wandb-col\"><h3>Run history:</h3><br/><table class=\"wandb\"><tr><td>Accuracy_mean</td><td>▁</td></tr><tr><td>Accuracy_std</td><td>▁</td></tr><tr><td>F1 Score_mean</td><td>▁</td></tr><tr><td>F1 Score_std</td><td>▁</td></tr><tr><td>Precision_mean</td><td>▁</td></tr><tr><td>Precision_std</td><td>▁</td></tr><tr><td>ROC-AUC_mean</td><td>▁</td></tr><tr><td>ROC-AUC_std</td><td>▁</td></tr><tr><td>Recall_mean</td><td>▁</td></tr><tr><td>Recall_std</td><td>▁</td></tr></table><br/></div><div class=\"wandb-col\"><h3>Run summary:</h3><br/><table class=\"wandb\"><tr><td>Accuracy_mean</td><td>0.80304</td></tr><tr><td>Accuracy_std</td><td>0.0301</td></tr><tr><td>F1 Score_mean</td><td>0.80466</td></tr><tr><td>F1 Score_std</td><td>0.02825</td></tr><tr><td>Precision_mean</td><td>0.81127</td></tr><tr><td>Precision_std</td><td>0.02568</td></tr><tr><td>ROC-AUC_mean</td><td>0.93537</td></tr><tr><td>ROC-AUC_std</td><td>0.00986</td></tr><tr><td>Recall_mean</td><td>0.80304</td></tr><tr><td>Recall_std</td><td>0.0301</td></tr></table><br/></div></div>"
      ],
      "text/plain": [
       "<IPython.core.display.HTML object>"
      ]
     },
     "metadata": {},
     "output_type": "display_data"
    },
    {
     "data": {
      "text/html": [
       " View run <strong style=\"color:#cdcd00\">KNN_Vision All</strong> at: <a href='https://wandb.ai/lequn/AudioVisual_ML_ablation_study_v2/runs/jb6knxtm' target=\"_blank\">https://wandb.ai/lequn/AudioVisual_ML_ablation_study_v2/runs/jb6knxtm</a><br/> View job at <a href='https://wandb.ai/lequn/AudioVisual_ML_ablation_study_v2/jobs/QXJ0aWZhY3RDb2xsZWN0aW9uOjExMTQ1OTc4Ng==/version_details/v23' target=\"_blank\">https://wandb.ai/lequn/AudioVisual_ML_ablation_study_v2/jobs/QXJ0aWZhY3RDb2xsZWN0aW9uOjExMTQ1OTc4Ng==/version_details/v23</a><br/>Synced 6 W&B file(s), 0 media file(s), 0 artifact file(s) and 0 other file(s)"
      ],
      "text/plain": [
       "<IPython.core.display.HTML object>"
      ]
     },
     "metadata": {},
     "output_type": "display_data"
    },
    {
     "data": {
      "text/html": [
       "Find logs at: <code>./wandb/run-20240305_115927-jb6knxtm/logs</code>"
      ],
      "text/plain": [
       "<IPython.core.display.HTML object>"
      ]
     },
     "metadata": {},
     "output_type": "display_data"
    },
    {
     "name": "stdout",
     "output_type": "stream",
     "text": [
      "\tTraining model: DT\n"
     ]
    },
    {
     "data": {
      "application/vnd.jupyter.widget-view+json": {
       "model_id": "ac86e5cf18764c648db01677ba1cadc8",
       "version_major": 2,
       "version_minor": 0
      },
      "text/plain": [
       "VBox(children=(Label(value='Waiting for wandb.init()...\\r'), FloatProgress(value=0.011113110488885367, max=1.0…"
      ]
     },
     "metadata": {},
     "output_type": "display_data"
    },
    {
     "data": {
      "text/html": [
       "wandb version 0.16.3 is available!  To upgrade, please run:\n",
       " $ pip install wandb --upgrade"
      ],
      "text/plain": [
       "<IPython.core.display.HTML object>"
      ]
     },
     "metadata": {},
     "output_type": "display_data"
    },
    {
     "data": {
      "text/html": [
       "Tracking run with wandb version 0.15.12"
      ],
      "text/plain": [
       "<IPython.core.display.HTML object>"
      ]
     },
     "metadata": {},
     "output_type": "display_data"
    },
    {
     "data": {
      "text/html": [
       "Run data is saved locally in <code>/home/chenlequn/GitHub/LDED-FusionNet/code/wandb/run-20240305_115938-nk5apfrk</code>"
      ],
      "text/plain": [
       "<IPython.core.display.HTML object>"
      ]
     },
     "metadata": {},
     "output_type": "display_data"
    },
    {
     "data": {
      "text/html": [
       "Syncing run <strong><a href='https://wandb.ai/lequn/AudioVisual_ML_ablation_study_v2/runs/nk5apfrk' target=\"_blank\">DT_Vision All</a></strong> to <a href='https://wandb.ai/lequn/AudioVisual_ML_ablation_study_v2' target=\"_blank\">Weights & Biases</a> (<a href='https://wandb.me/run' target=\"_blank\">docs</a>)<br/>"
      ],
      "text/plain": [
       "<IPython.core.display.HTML object>"
      ]
     },
     "metadata": {},
     "output_type": "display_data"
    },
    {
     "data": {
      "text/html": [
       " View project at <a href='https://wandb.ai/lequn/AudioVisual_ML_ablation_study_v2' target=\"_blank\">https://wandb.ai/lequn/AudioVisual_ML_ablation_study_v2</a>"
      ],
      "text/plain": [
       "<IPython.core.display.HTML object>"
      ]
     },
     "metadata": {},
     "output_type": "display_data"
    },
    {
     "data": {
      "text/html": [
       " View run at <a href='https://wandb.ai/lequn/AudioVisual_ML_ablation_study_v2/runs/nk5apfrk' target=\"_blank\">https://wandb.ai/lequn/AudioVisual_ML_ablation_study_v2/runs/nk5apfrk</a>"
      ],
      "text/plain": [
       "<IPython.core.display.HTML object>"
      ]
     },
     "metadata": {},
     "output_type": "display_data"
    },
    {
     "name": "stdout",
     "output_type": "stream",
     "text": [
      "\t\tAccuracy: Mean = 0.7857176250584386, Std = 0.02098736861459898\n",
      "\t\tF1 Score: Mean = 0.7857064218343737, Std = 0.019892818158747713\n",
      "\t\tPrecision: Mean = 0.7933449788060125, Std = 0.022733979583738843\n",
      "\t\tRecall: Mean = 0.7857176250584386, Std = 0.02098736861459898\n",
      "\t\tROC-AUC: Mean = 0.8977652513811922, Std = 0.019253819980784702\n"
     ]
    },
    {
     "data": {
      "text/html": [
       "Waiting for W&B process to finish... <strong style=\"color:green\">(success).</strong>"
      ],
      "text/plain": [
       "<IPython.core.display.HTML object>"
      ]
     },
     "metadata": {},
     "output_type": "display_data"
    },
    {
     "data": {
      "text/html": [
       "<style>\n",
       "    table.wandb td:nth-child(1) { padding: 0 10px; text-align: left ; width: auto;} td:nth-child(2) {text-align: left ; width: 100%}\n",
       "    .wandb-row { display: flex; flex-direction: row; flex-wrap: wrap; justify-content: flex-start; width: 100% }\n",
       "    .wandb-col { display: flex; flex-direction: column; flex-basis: 100%; flex: 1; padding: 10px; }\n",
       "    </style>\n",
       "<div class=\"wandb-row\"><div class=\"wandb-col\"><h3>Run history:</h3><br/><table class=\"wandb\"><tr><td>Accuracy_mean</td><td>▁</td></tr><tr><td>Accuracy_std</td><td>▁</td></tr><tr><td>F1 Score_mean</td><td>▁</td></tr><tr><td>F1 Score_std</td><td>▁</td></tr><tr><td>Precision_mean</td><td>▁</td></tr><tr><td>Precision_std</td><td>▁</td></tr><tr><td>ROC-AUC_mean</td><td>▁</td></tr><tr><td>ROC-AUC_std</td><td>▁</td></tr><tr><td>Recall_mean</td><td>▁</td></tr><tr><td>Recall_std</td><td>▁</td></tr></table><br/></div><div class=\"wandb-col\"><h3>Run summary:</h3><br/><table class=\"wandb\"><tr><td>Accuracy_mean</td><td>0.78572</td></tr><tr><td>Accuracy_std</td><td>0.02099</td></tr><tr><td>F1 Score_mean</td><td>0.78571</td></tr><tr><td>F1 Score_std</td><td>0.01989</td></tr><tr><td>Precision_mean</td><td>0.79334</td></tr><tr><td>Precision_std</td><td>0.02273</td></tr><tr><td>ROC-AUC_mean</td><td>0.89777</td></tr><tr><td>ROC-AUC_std</td><td>0.01925</td></tr><tr><td>Recall_mean</td><td>0.78572</td></tr><tr><td>Recall_std</td><td>0.02099</td></tr></table><br/></div></div>"
      ],
      "text/plain": [
       "<IPython.core.display.HTML object>"
      ]
     },
     "metadata": {},
     "output_type": "display_data"
    },
    {
     "data": {
      "text/html": [
       " View run <strong style=\"color:#cdcd00\">DT_Vision All</strong> at: <a href='https://wandb.ai/lequn/AudioVisual_ML_ablation_study_v2/runs/nk5apfrk' target=\"_blank\">https://wandb.ai/lequn/AudioVisual_ML_ablation_study_v2/runs/nk5apfrk</a><br/> View job at <a href='https://wandb.ai/lequn/AudioVisual_ML_ablation_study_v2/jobs/QXJ0aWZhY3RDb2xsZWN0aW9uOjExMTQ1OTc4Ng==/version_details/v23' target=\"_blank\">https://wandb.ai/lequn/AudioVisual_ML_ablation_study_v2/jobs/QXJ0aWZhY3RDb2xsZWN0aW9uOjExMTQ1OTc4Ng==/version_details/v23</a><br/>Synced 6 W&B file(s), 0 media file(s), 0 artifact file(s) and 0 other file(s)"
      ],
      "text/plain": [
       "<IPython.core.display.HTML object>"
      ]
     },
     "metadata": {},
     "output_type": "display_data"
    },
    {
     "data": {
      "text/html": [
       "Find logs at: <code>./wandb/run-20240305_115938-nk5apfrk/logs</code>"
      ],
      "text/plain": [
       "<IPython.core.display.HTML object>"
      ]
     },
     "metadata": {},
     "output_type": "display_data"
    },
    {
     "name": "stdout",
     "output_type": "stream",
     "text": [
      "\tTraining model: RF\n"
     ]
    },
    {
     "data": {
      "application/vnd.jupyter.widget-view+json": {
       "model_id": "3d9be55274b848dfa95df851469fe226",
       "version_major": 2,
       "version_minor": 0
      },
      "text/plain": [
       "VBox(children=(Label(value='Waiting for wandb.init()...\\r'), FloatProgress(value=0.011112483344449073, max=1.0…"
      ]
     },
     "metadata": {},
     "output_type": "display_data"
    },
    {
     "data": {
      "text/html": [
       "wandb version 0.16.3 is available!  To upgrade, please run:\n",
       " $ pip install wandb --upgrade"
      ],
      "text/plain": [
       "<IPython.core.display.HTML object>"
      ]
     },
     "metadata": {},
     "output_type": "display_data"
    },
    {
     "data": {
      "text/html": [
       "Tracking run with wandb version 0.15.12"
      ],
      "text/plain": [
       "<IPython.core.display.HTML object>"
      ]
     },
     "metadata": {},
     "output_type": "display_data"
    },
    {
     "data": {
      "text/html": [
       "Run data is saved locally in <code>/home/chenlequn/GitHub/LDED-FusionNet/code/wandb/run-20240305_115949-v6kfseb2</code>"
      ],
      "text/plain": [
       "<IPython.core.display.HTML object>"
      ]
     },
     "metadata": {},
     "output_type": "display_data"
    },
    {
     "data": {
      "text/html": [
       "Syncing run <strong><a href='https://wandb.ai/lequn/AudioVisual_ML_ablation_study_v2/runs/v6kfseb2' target=\"_blank\">RF_Vision All</a></strong> to <a href='https://wandb.ai/lequn/AudioVisual_ML_ablation_study_v2' target=\"_blank\">Weights & Biases</a> (<a href='https://wandb.me/run' target=\"_blank\">docs</a>)<br/>"
      ],
      "text/plain": [
       "<IPython.core.display.HTML object>"
      ]
     },
     "metadata": {},
     "output_type": "display_data"
    },
    {
     "data": {
      "text/html": [
       " View project at <a href='https://wandb.ai/lequn/AudioVisual_ML_ablation_study_v2' target=\"_blank\">https://wandb.ai/lequn/AudioVisual_ML_ablation_study_v2</a>"
      ],
      "text/plain": [
       "<IPython.core.display.HTML object>"
      ]
     },
     "metadata": {},
     "output_type": "display_data"
    },
    {
     "data": {
      "text/html": [
       " View run at <a href='https://wandb.ai/lequn/AudioVisual_ML_ablation_study_v2/runs/v6kfseb2' target=\"_blank\">https://wandb.ai/lequn/AudioVisual_ML_ablation_study_v2/runs/v6kfseb2</a>"
      ],
      "text/plain": [
       "<IPython.core.display.HTML object>"
      ]
     },
     "metadata": {},
     "output_type": "display_data"
    },
    {
     "name": "stdout",
     "output_type": "stream",
     "text": [
      "\t\tAccuracy: Mean = 0.8571061243571764, Std = 0.021149979187216554\n",
      "\t\tF1 Score: Mean = 0.8586559078660002, Std = 0.019592215932682473\n",
      "\t\tPrecision: Mean = 0.8642304722837462, Std = 0.01615288070017582\n",
      "\t\tRecall: Mean = 0.8571061243571764, Std = 0.021149979187216554\n",
      "\t\tROC-AUC: Mean = 0.9671886233116995, Std = 0.007338149346306444\n"
     ]
    },
    {
     "data": {
      "text/html": [
       "Waiting for W&B process to finish... <strong style=\"color:green\">(success).</strong>"
      ],
      "text/plain": [
       "<IPython.core.display.HTML object>"
      ]
     },
     "metadata": {},
     "output_type": "display_data"
    },
    {
     "data": {
      "text/html": [
       "<style>\n",
       "    table.wandb td:nth-child(1) { padding: 0 10px; text-align: left ; width: auto;} td:nth-child(2) {text-align: left ; width: 100%}\n",
       "    .wandb-row { display: flex; flex-direction: row; flex-wrap: wrap; justify-content: flex-start; width: 100% }\n",
       "    .wandb-col { display: flex; flex-direction: column; flex-basis: 100%; flex: 1; padding: 10px; }\n",
       "    </style>\n",
       "<div class=\"wandb-row\"><div class=\"wandb-col\"><h3>Run history:</h3><br/><table class=\"wandb\"><tr><td>Accuracy_mean</td><td>▁</td></tr><tr><td>Accuracy_std</td><td>▁</td></tr><tr><td>F1 Score_mean</td><td>▁</td></tr><tr><td>F1 Score_std</td><td>▁</td></tr><tr><td>Precision_mean</td><td>▁</td></tr><tr><td>Precision_std</td><td>▁</td></tr><tr><td>ROC-AUC_mean</td><td>▁</td></tr><tr><td>ROC-AUC_std</td><td>▁</td></tr><tr><td>Recall_mean</td><td>▁</td></tr><tr><td>Recall_std</td><td>▁</td></tr></table><br/></div><div class=\"wandb-col\"><h3>Run summary:</h3><br/><table class=\"wandb\"><tr><td>Accuracy_mean</td><td>0.85711</td></tr><tr><td>Accuracy_std</td><td>0.02115</td></tr><tr><td>F1 Score_mean</td><td>0.85866</td></tr><tr><td>F1 Score_std</td><td>0.01959</td></tr><tr><td>Precision_mean</td><td>0.86423</td></tr><tr><td>Precision_std</td><td>0.01615</td></tr><tr><td>ROC-AUC_mean</td><td>0.96719</td></tr><tr><td>ROC-AUC_std</td><td>0.00734</td></tr><tr><td>Recall_mean</td><td>0.85711</td></tr><tr><td>Recall_std</td><td>0.02115</td></tr></table><br/></div></div>"
      ],
      "text/plain": [
       "<IPython.core.display.HTML object>"
      ]
     },
     "metadata": {},
     "output_type": "display_data"
    },
    {
     "data": {
      "text/html": [
       " View run <strong style=\"color:#cdcd00\">RF_Vision All</strong> at: <a href='https://wandb.ai/lequn/AudioVisual_ML_ablation_study_v2/runs/v6kfseb2' target=\"_blank\">https://wandb.ai/lequn/AudioVisual_ML_ablation_study_v2/runs/v6kfseb2</a><br/> View job at <a href='https://wandb.ai/lequn/AudioVisual_ML_ablation_study_v2/jobs/QXJ0aWZhY3RDb2xsZWN0aW9uOjExMTQ1OTc4Ng==/version_details/v23' target=\"_blank\">https://wandb.ai/lequn/AudioVisual_ML_ablation_study_v2/jobs/QXJ0aWZhY3RDb2xsZWN0aW9uOjExMTQ1OTc4Ng==/version_details/v23</a><br/>Synced 6 W&B file(s), 0 media file(s), 0 artifact file(s) and 0 other file(s)"
      ],
      "text/plain": [
       "<IPython.core.display.HTML object>"
      ]
     },
     "metadata": {},
     "output_type": "display_data"
    },
    {
     "data": {
      "text/html": [
       "Find logs at: <code>./wandb/run-20240305_115949-v6kfseb2/logs</code>"
      ],
      "text/plain": [
       "<IPython.core.display.HTML object>"
      ]
     },
     "metadata": {},
     "output_type": "display_data"
    },
    {
     "name": "stdout",
     "output_type": "stream",
     "text": [
      "\tTraining model: BalancedRF\n"
     ]
    },
    {
     "data": {
      "application/vnd.jupyter.widget-view+json": {
       "model_id": "60efae44087047cfa8d5f429ae0b6376",
       "version_major": 2,
       "version_minor": 0
      },
      "text/plain": [
       "VBox(children=(Label(value='Waiting for wandb.init()...\\r'), FloatProgress(value=0.011113128255551096, max=1.0…"
      ]
     },
     "metadata": {},
     "output_type": "display_data"
    },
    {
     "data": {
      "text/html": [
       "wandb version 0.16.3 is available!  To upgrade, please run:\n",
       " $ pip install wandb --upgrade"
      ],
      "text/plain": [
       "<IPython.core.display.HTML object>"
      ]
     },
     "metadata": {},
     "output_type": "display_data"
    },
    {
     "data": {
      "text/html": [
       "Tracking run with wandb version 0.15.12"
      ],
      "text/plain": [
       "<IPython.core.display.HTML object>"
      ]
     },
     "metadata": {},
     "output_type": "display_data"
    },
    {
     "data": {
      "text/html": [
       "Run data is saved locally in <code>/home/chenlequn/GitHub/LDED-FusionNet/code/wandb/run-20240305_120004-gq93lxhk</code>"
      ],
      "text/plain": [
       "<IPython.core.display.HTML object>"
      ]
     },
     "metadata": {},
     "output_type": "display_data"
    },
    {
     "data": {
      "text/html": [
       "Syncing run <strong><a href='https://wandb.ai/lequn/AudioVisual_ML_ablation_study_v2/runs/gq93lxhk' target=\"_blank\">BalancedRF_Vision All</a></strong> to <a href='https://wandb.ai/lequn/AudioVisual_ML_ablation_study_v2' target=\"_blank\">Weights & Biases</a> (<a href='https://wandb.me/run' target=\"_blank\">docs</a>)<br/>"
      ],
      "text/plain": [
       "<IPython.core.display.HTML object>"
      ]
     },
     "metadata": {},
     "output_type": "display_data"
    },
    {
     "data": {
      "text/html": [
       " View project at <a href='https://wandb.ai/lequn/AudioVisual_ML_ablation_study_v2' target=\"_blank\">https://wandb.ai/lequn/AudioVisual_ML_ablation_study_v2</a>"
      ],
      "text/plain": [
       "<IPython.core.display.HTML object>"
      ]
     },
     "metadata": {},
     "output_type": "display_data"
    },
    {
     "data": {
      "text/html": [
       " View run at <a href='https://wandb.ai/lequn/AudioVisual_ML_ablation_study_v2/runs/gq93lxhk' target=\"_blank\">https://wandb.ai/lequn/AudioVisual_ML_ablation_study_v2/runs/gq93lxhk</a>"
      ],
      "text/plain": [
       "<IPython.core.display.HTML object>"
      ]
     },
     "metadata": {},
     "output_type": "display_data"
    },
    {
     "name": "stderr",
     "output_type": "stream",
     "text": [
      "/home/chenlequn/anaconda3/envs/torch/lib/python3.9/site-packages/imblearn/ensemble/_forest.py:546: FutureWarning: The default of `sampling_strategy` will change from `'auto'` to `'all'` in version 0.13. This change will follow the implementation proposed in the original paper. Set to `'all'` to silence this warning and adopt the future behaviour.\n",
      "  warn(\n",
      "/home/chenlequn/anaconda3/envs/torch/lib/python3.9/site-packages/imblearn/ensemble/_forest.py:558: FutureWarning: The default of `replacement` will change from `False` to `True` in version 0.13. This change will follow the implementation proposed in the original paper. Set to `True` to silence this warning and adopt the future behaviour.\n",
      "  warn(\n"
     ]
    },
    {
     "name": "stdout",
     "output_type": "stream",
     "text": [
      "\t\tAccuracy: Mean = 0.828962131837307, Std = 0.031750621178125805\n",
      "\t\tF1 Score: Mean = 0.829646726449383, Std = 0.029710738742022718\n",
      "\t\tPrecision: Mean = 0.8353143762729051, Std = 0.028136702215821475\n",
      "\t\tRecall: Mean = 0.828962131837307, Std = 0.031750621178125805\n",
      "\t\tROC-AUC: Mean = 0.9572988221887124, Std = 0.004839796020220484\n"
     ]
    },
    {
     "data": {
      "text/html": [
       "Waiting for W&B process to finish... <strong style=\"color:green\">(success).</strong>"
      ],
      "text/plain": [
       "<IPython.core.display.HTML object>"
      ]
     },
     "metadata": {},
     "output_type": "display_data"
    },
    {
     "data": {
      "text/html": [
       "<style>\n",
       "    table.wandb td:nth-child(1) { padding: 0 10px; text-align: left ; width: auto;} td:nth-child(2) {text-align: left ; width: 100%}\n",
       "    .wandb-row { display: flex; flex-direction: row; flex-wrap: wrap; justify-content: flex-start; width: 100% }\n",
       "    .wandb-col { display: flex; flex-direction: column; flex-basis: 100%; flex: 1; padding: 10px; }\n",
       "    </style>\n",
       "<div class=\"wandb-row\"><div class=\"wandb-col\"><h3>Run history:</h3><br/><table class=\"wandb\"><tr><td>Accuracy_mean</td><td>▁</td></tr><tr><td>Accuracy_std</td><td>▁</td></tr><tr><td>F1 Score_mean</td><td>▁</td></tr><tr><td>F1 Score_std</td><td>▁</td></tr><tr><td>Precision_mean</td><td>▁</td></tr><tr><td>Precision_std</td><td>▁</td></tr><tr><td>ROC-AUC_mean</td><td>▁</td></tr><tr><td>ROC-AUC_std</td><td>▁</td></tr><tr><td>Recall_mean</td><td>▁</td></tr><tr><td>Recall_std</td><td>▁</td></tr></table><br/></div><div class=\"wandb-col\"><h3>Run summary:</h3><br/><table class=\"wandb\"><tr><td>Accuracy_mean</td><td>0.82896</td></tr><tr><td>Accuracy_std</td><td>0.03175</td></tr><tr><td>F1 Score_mean</td><td>0.82965</td></tr><tr><td>F1 Score_std</td><td>0.02971</td></tr><tr><td>Precision_mean</td><td>0.83531</td></tr><tr><td>Precision_std</td><td>0.02814</td></tr><tr><td>ROC-AUC_mean</td><td>0.9573</td></tr><tr><td>ROC-AUC_std</td><td>0.00484</td></tr><tr><td>Recall_mean</td><td>0.82896</td></tr><tr><td>Recall_std</td><td>0.03175</td></tr></table><br/></div></div>"
      ],
      "text/plain": [
       "<IPython.core.display.HTML object>"
      ]
     },
     "metadata": {},
     "output_type": "display_data"
    },
    {
     "data": {
      "text/html": [
       " View run <strong style=\"color:#cdcd00\">BalancedRF_Vision All</strong> at: <a href='https://wandb.ai/lequn/AudioVisual_ML_ablation_study_v2/runs/gq93lxhk' target=\"_blank\">https://wandb.ai/lequn/AudioVisual_ML_ablation_study_v2/runs/gq93lxhk</a><br/> View job at <a href='https://wandb.ai/lequn/AudioVisual_ML_ablation_study_v2/jobs/QXJ0aWZhY3RDb2xsZWN0aW9uOjExMTQ1OTc4Ng==/version_details/v23' target=\"_blank\">https://wandb.ai/lequn/AudioVisual_ML_ablation_study_v2/jobs/QXJ0aWZhY3RDb2xsZWN0aW9uOjExMTQ1OTc4Ng==/version_details/v23</a><br/>Synced 6 W&B file(s), 0 media file(s), 0 artifact file(s) and 0 other file(s)"
      ],
      "text/plain": [
       "<IPython.core.display.HTML object>"
      ]
     },
     "metadata": {},
     "output_type": "display_data"
    },
    {
     "data": {
      "text/html": [
       "Find logs at: <code>./wandb/run-20240305_120004-gq93lxhk/logs</code>"
      ],
      "text/plain": [
       "<IPython.core.display.HTML object>"
      ]
     },
     "metadata": {},
     "output_type": "display_data"
    },
    {
     "name": "stdout",
     "output_type": "stream",
     "text": [
      "\tTraining model: RUSBoost\n"
     ]
    },
    {
     "data": {
      "application/vnd.jupyter.widget-view+json": {
       "model_id": "0993353f5a984fbcae0d19e5d2bebcae",
       "version_major": 2,
       "version_minor": 0
      },
      "text/plain": [
       "VBox(children=(Label(value='Waiting for wandb.init()...\\r'), FloatProgress(value=0.01111390012223031, max=1.0)…"
      ]
     },
     "metadata": {},
     "output_type": "display_data"
    },
    {
     "data": {
      "text/html": [
       "wandb version 0.16.3 is available!  To upgrade, please run:\n",
       " $ pip install wandb --upgrade"
      ],
      "text/plain": [
       "<IPython.core.display.HTML object>"
      ]
     },
     "metadata": {},
     "output_type": "display_data"
    },
    {
     "data": {
      "text/html": [
       "Tracking run with wandb version 0.15.12"
      ],
      "text/plain": [
       "<IPython.core.display.HTML object>"
      ]
     },
     "metadata": {},
     "output_type": "display_data"
    },
    {
     "data": {
      "text/html": [
       "Run data is saved locally in <code>/home/chenlequn/GitHub/LDED-FusionNet/code/wandb/run-20240305_120017-27n959wo</code>"
      ],
      "text/plain": [
       "<IPython.core.display.HTML object>"
      ]
     },
     "metadata": {},
     "output_type": "display_data"
    },
    {
     "data": {
      "text/html": [
       "Syncing run <strong><a href='https://wandb.ai/lequn/AudioVisual_ML_ablation_study_v2/runs/27n959wo' target=\"_blank\">RUSBoost_Vision All</a></strong> to <a href='https://wandb.ai/lequn/AudioVisual_ML_ablation_study_v2' target=\"_blank\">Weights & Biases</a> (<a href='https://wandb.me/run' target=\"_blank\">docs</a>)<br/>"
      ],
      "text/plain": [
       "<IPython.core.display.HTML object>"
      ]
     },
     "metadata": {},
     "output_type": "display_data"
    },
    {
     "data": {
      "text/html": [
       " View project at <a href='https://wandb.ai/lequn/AudioVisual_ML_ablation_study_v2' target=\"_blank\">https://wandb.ai/lequn/AudioVisual_ML_ablation_study_v2</a>"
      ],
      "text/plain": [
       "<IPython.core.display.HTML object>"
      ]
     },
     "metadata": {},
     "output_type": "display_data"
    },
    {
     "data": {
      "text/html": [
       " View run at <a href='https://wandb.ai/lequn/AudioVisual_ML_ablation_study_v2/runs/27n959wo' target=\"_blank\">https://wandb.ai/lequn/AudioVisual_ML_ablation_study_v2/runs/27n959wo</a>"
      ],
      "text/plain": [
       "<IPython.core.display.HTML object>"
      ]
     },
     "metadata": {},
     "output_type": "display_data"
    },
    {
     "name": "stdout",
     "output_type": "stream",
     "text": [
      "\t\tAccuracy: Mean = 0.6927769985974755, Std = 0.04371411494656933\n",
      "\t\tF1 Score: Mean = 0.6915950985776419, Std = 0.04290033550626937\n",
      "\t\tPrecision: Mean = 0.7289775861560766, Std = 0.037653870296755036\n",
      "\t\tRecall: Mean = 0.6927769985974755, Std = 0.04371411494656933\n",
      "\t\tROC-AUC: Mean = 0.8582563387651956, Std = 0.022491676348018876\n"
     ]
    },
    {
     "data": {
      "text/html": [
       "Waiting for W&B process to finish... <strong style=\"color:green\">(success).</strong>"
      ],
      "text/plain": [
       "<IPython.core.display.HTML object>"
      ]
     },
     "metadata": {},
     "output_type": "display_data"
    },
    {
     "data": {
      "text/html": [
       "<style>\n",
       "    table.wandb td:nth-child(1) { padding: 0 10px; text-align: left ; width: auto;} td:nth-child(2) {text-align: left ; width: 100%}\n",
       "    .wandb-row { display: flex; flex-direction: row; flex-wrap: wrap; justify-content: flex-start; width: 100% }\n",
       "    .wandb-col { display: flex; flex-direction: column; flex-basis: 100%; flex: 1; padding: 10px; }\n",
       "    </style>\n",
       "<div class=\"wandb-row\"><div class=\"wandb-col\"><h3>Run history:</h3><br/><table class=\"wandb\"><tr><td>Accuracy_mean</td><td>▁</td></tr><tr><td>Accuracy_std</td><td>▁</td></tr><tr><td>F1 Score_mean</td><td>▁</td></tr><tr><td>F1 Score_std</td><td>▁</td></tr><tr><td>Precision_mean</td><td>▁</td></tr><tr><td>Precision_std</td><td>▁</td></tr><tr><td>ROC-AUC_mean</td><td>▁</td></tr><tr><td>ROC-AUC_std</td><td>▁</td></tr><tr><td>Recall_mean</td><td>▁</td></tr><tr><td>Recall_std</td><td>▁</td></tr></table><br/></div><div class=\"wandb-col\"><h3>Run summary:</h3><br/><table class=\"wandb\"><tr><td>Accuracy_mean</td><td>0.69278</td></tr><tr><td>Accuracy_std</td><td>0.04371</td></tr><tr><td>F1 Score_mean</td><td>0.6916</td></tr><tr><td>F1 Score_std</td><td>0.0429</td></tr><tr><td>Precision_mean</td><td>0.72898</td></tr><tr><td>Precision_std</td><td>0.03765</td></tr><tr><td>ROC-AUC_mean</td><td>0.85826</td></tr><tr><td>ROC-AUC_std</td><td>0.02249</td></tr><tr><td>Recall_mean</td><td>0.69278</td></tr><tr><td>Recall_std</td><td>0.04371</td></tr></table><br/></div></div>"
      ],
      "text/plain": [
       "<IPython.core.display.HTML object>"
      ]
     },
     "metadata": {},
     "output_type": "display_data"
    },
    {
     "data": {
      "text/html": [
       " View run <strong style=\"color:#cdcd00\">RUSBoost_Vision All</strong> at: <a href='https://wandb.ai/lequn/AudioVisual_ML_ablation_study_v2/runs/27n959wo' target=\"_blank\">https://wandb.ai/lequn/AudioVisual_ML_ablation_study_v2/runs/27n959wo</a><br/> View job at <a href='https://wandb.ai/lequn/AudioVisual_ML_ablation_study_v2/jobs/QXJ0aWZhY3RDb2xsZWN0aW9uOjExMTQ1OTc4Ng==/version_details/v23' target=\"_blank\">https://wandb.ai/lequn/AudioVisual_ML_ablation_study_v2/jobs/QXJ0aWZhY3RDb2xsZWN0aW9uOjExMTQ1OTc4Ng==/version_details/v23</a><br/>Synced 6 W&B file(s), 0 media file(s), 0 artifact file(s) and 0 other file(s)"
      ],
      "text/plain": [
       "<IPython.core.display.HTML object>"
      ]
     },
     "metadata": {},
     "output_type": "display_data"
    },
    {
     "data": {
      "text/html": [
       "Find logs at: <code>./wandb/run-20240305_120017-27n959wo/logs</code>"
      ],
      "text/plain": [
       "<IPython.core.display.HTML object>"
      ]
     },
     "metadata": {},
     "output_type": "display_data"
    },
    {
     "name": "stdout",
     "output_type": "stream",
     "text": [
      "\tTraining model: Ada\n"
     ]
    },
    {
     "data": {
      "application/vnd.jupyter.widget-view+json": {
       "model_id": "0407b52d422e42d8b06b1db67518a39f",
       "version_major": 2,
       "version_minor": 0
      },
      "text/plain": [
       "VBox(children=(Label(value='Waiting for wandb.init()...\\r'), FloatProgress(value=0.011113305755558637, max=1.0…"
      ]
     },
     "metadata": {},
     "output_type": "display_data"
    },
    {
     "data": {
      "text/html": [
       "wandb version 0.16.3 is available!  To upgrade, please run:\n",
       " $ pip install wandb --upgrade"
      ],
      "text/plain": [
       "<IPython.core.display.HTML object>"
      ]
     },
     "metadata": {},
     "output_type": "display_data"
    },
    {
     "data": {
      "text/html": [
       "Tracking run with wandb version 0.15.12"
      ],
      "text/plain": [
       "<IPython.core.display.HTML object>"
      ]
     },
     "metadata": {},
     "output_type": "display_data"
    },
    {
     "data": {
      "text/html": [
       "Run data is saved locally in <code>/home/chenlequn/GitHub/LDED-FusionNet/code/wandb/run-20240305_120030-jzim0okx</code>"
      ],
      "text/plain": [
       "<IPython.core.display.HTML object>"
      ]
     },
     "metadata": {},
     "output_type": "display_data"
    },
    {
     "data": {
      "text/html": [
       "Syncing run <strong><a href='https://wandb.ai/lequn/AudioVisual_ML_ablation_study_v2/runs/jzim0okx' target=\"_blank\">Ada_Vision All</a></strong> to <a href='https://wandb.ai/lequn/AudioVisual_ML_ablation_study_v2' target=\"_blank\">Weights & Biases</a> (<a href='https://wandb.me/run' target=\"_blank\">docs</a>)<br/>"
      ],
      "text/plain": [
       "<IPython.core.display.HTML object>"
      ]
     },
     "metadata": {},
     "output_type": "display_data"
    },
    {
     "data": {
      "text/html": [
       " View project at <a href='https://wandb.ai/lequn/AudioVisual_ML_ablation_study_v2' target=\"_blank\">https://wandb.ai/lequn/AudioVisual_ML_ablation_study_v2</a>"
      ],
      "text/plain": [
       "<IPython.core.display.HTML object>"
      ]
     },
     "metadata": {},
     "output_type": "display_data"
    },
    {
     "data": {
      "text/html": [
       " View run at <a href='https://wandb.ai/lequn/AudioVisual_ML_ablation_study_v2/runs/jzim0okx' target=\"_blank\">https://wandb.ai/lequn/AudioVisual_ML_ablation_study_v2/runs/jzim0okx</a>"
      ],
      "text/plain": [
       "<IPython.core.display.HTML object>"
      ]
     },
     "metadata": {},
     "output_type": "display_data"
    },
    {
     "name": "stdout",
     "output_type": "stream",
     "text": [
      "\t\tAccuracy: Mean = 0.7381954184198223, Std = 0.022893107587604218\n",
      "\t\tF1 Score: Mean = 0.7373090209671632, Std = 0.02171327794924833\n",
      "\t\tPrecision: Mean = 0.7445803721463375, Std = 0.01866350077119473\n",
      "\t\tRecall: Mean = 0.7381954184198223, Std = 0.022893107587604218\n",
      "\t\tROC-AUC: Mean = 0.8755509527251031, Std = 0.020844944568577474\n"
     ]
    },
    {
     "data": {
      "text/html": [
       "Waiting for W&B process to finish... <strong style=\"color:green\">(success).</strong>"
      ],
      "text/plain": [
       "<IPython.core.display.HTML object>"
      ]
     },
     "metadata": {},
     "output_type": "display_data"
    },
    {
     "data": {
      "text/html": [
       "<style>\n",
       "    table.wandb td:nth-child(1) { padding: 0 10px; text-align: left ; width: auto;} td:nth-child(2) {text-align: left ; width: 100%}\n",
       "    .wandb-row { display: flex; flex-direction: row; flex-wrap: wrap; justify-content: flex-start; width: 100% }\n",
       "    .wandb-col { display: flex; flex-direction: column; flex-basis: 100%; flex: 1; padding: 10px; }\n",
       "    </style>\n",
       "<div class=\"wandb-row\"><div class=\"wandb-col\"><h3>Run history:</h3><br/><table class=\"wandb\"><tr><td>Accuracy_mean</td><td>▁</td></tr><tr><td>Accuracy_std</td><td>▁</td></tr><tr><td>F1 Score_mean</td><td>▁</td></tr><tr><td>F1 Score_std</td><td>▁</td></tr><tr><td>Precision_mean</td><td>▁</td></tr><tr><td>Precision_std</td><td>▁</td></tr><tr><td>ROC-AUC_mean</td><td>▁</td></tr><tr><td>ROC-AUC_std</td><td>▁</td></tr><tr><td>Recall_mean</td><td>▁</td></tr><tr><td>Recall_std</td><td>▁</td></tr></table><br/></div><div class=\"wandb-col\"><h3>Run summary:</h3><br/><table class=\"wandb\"><tr><td>Accuracy_mean</td><td>0.7382</td></tr><tr><td>Accuracy_std</td><td>0.02289</td></tr><tr><td>F1 Score_mean</td><td>0.73731</td></tr><tr><td>F1 Score_std</td><td>0.02171</td></tr><tr><td>Precision_mean</td><td>0.74458</td></tr><tr><td>Precision_std</td><td>0.01866</td></tr><tr><td>ROC-AUC_mean</td><td>0.87555</td></tr><tr><td>ROC-AUC_std</td><td>0.02084</td></tr><tr><td>Recall_mean</td><td>0.7382</td></tr><tr><td>Recall_std</td><td>0.02289</td></tr></table><br/></div></div>"
      ],
      "text/plain": [
       "<IPython.core.display.HTML object>"
      ]
     },
     "metadata": {},
     "output_type": "display_data"
    },
    {
     "data": {
      "text/html": [
       " View run <strong style=\"color:#cdcd00\">Ada_Vision All</strong> at: <a href='https://wandb.ai/lequn/AudioVisual_ML_ablation_study_v2/runs/jzim0okx' target=\"_blank\">https://wandb.ai/lequn/AudioVisual_ML_ablation_study_v2/runs/jzim0okx</a><br/> View job at <a href='https://wandb.ai/lequn/AudioVisual_ML_ablation_study_v2/jobs/QXJ0aWZhY3RDb2xsZWN0aW9uOjExMTQ1OTc4Ng==/version_details/v23' target=\"_blank\">https://wandb.ai/lequn/AudioVisual_ML_ablation_study_v2/jobs/QXJ0aWZhY3RDb2xsZWN0aW9uOjExMTQ1OTc4Ng==/version_details/v23</a><br/>Synced 6 W&B file(s), 0 media file(s), 0 artifact file(s) and 0 other file(s)"
      ],
      "text/plain": [
       "<IPython.core.display.HTML object>"
      ]
     },
     "metadata": {},
     "output_type": "display_data"
    },
    {
     "data": {
      "text/html": [
       "Find logs at: <code>./wandb/run-20240305_120030-jzim0okx/logs</code>"
      ],
      "text/plain": [
       "<IPython.core.display.HTML object>"
      ]
     },
     "metadata": {},
     "output_type": "display_data"
    },
    {
     "name": "stdout",
     "output_type": "stream",
     "text": [
      "\tTraining model: NN\n"
     ]
    },
    {
     "data": {
      "application/vnd.jupyter.widget-view+json": {
       "model_id": "2ea690ddc4434dd1a48881fc1c82b210",
       "version_major": 2,
       "version_minor": 0
      },
      "text/plain": [
       "VBox(children=(Label(value='Waiting for wandb.init()...\\r'), FloatProgress(value=0.011113266622224829, max=1.0…"
      ]
     },
     "metadata": {},
     "output_type": "display_data"
    },
    {
     "data": {
      "text/html": [
       "wandb version 0.16.3 is available!  To upgrade, please run:\n",
       " $ pip install wandb --upgrade"
      ],
      "text/plain": [
       "<IPython.core.display.HTML object>"
      ]
     },
     "metadata": {},
     "output_type": "display_data"
    },
    {
     "data": {
      "text/html": [
       "Tracking run with wandb version 0.15.12"
      ],
      "text/plain": [
       "<IPython.core.display.HTML object>"
      ]
     },
     "metadata": {},
     "output_type": "display_data"
    },
    {
     "data": {
      "text/html": [
       "Run data is saved locally in <code>/home/chenlequn/GitHub/LDED-FusionNet/code/wandb/run-20240305_120043-veentr60</code>"
      ],
      "text/plain": [
       "<IPython.core.display.HTML object>"
      ]
     },
     "metadata": {},
     "output_type": "display_data"
    },
    {
     "data": {
      "text/html": [
       "Syncing run <strong><a href='https://wandb.ai/lequn/AudioVisual_ML_ablation_study_v2/runs/veentr60' target=\"_blank\">NN_Vision All</a></strong> to <a href='https://wandb.ai/lequn/AudioVisual_ML_ablation_study_v2' target=\"_blank\">Weights & Biases</a> (<a href='https://wandb.me/run' target=\"_blank\">docs</a>)<br/>"
      ],
      "text/plain": [
       "<IPython.core.display.HTML object>"
      ]
     },
     "metadata": {},
     "output_type": "display_data"
    },
    {
     "data": {
      "text/html": [
       " View project at <a href='https://wandb.ai/lequn/AudioVisual_ML_ablation_study_v2' target=\"_blank\">https://wandb.ai/lequn/AudioVisual_ML_ablation_study_v2</a>"
      ],
      "text/plain": [
       "<IPython.core.display.HTML object>"
      ]
     },
     "metadata": {},
     "output_type": "display_data"
    },
    {
     "data": {
      "text/html": [
       " View run at <a href='https://wandb.ai/lequn/AudioVisual_ML_ablation_study_v2/runs/veentr60' target=\"_blank\">https://wandb.ai/lequn/AudioVisual_ML_ablation_study_v2/runs/veentr60</a>"
      ],
      "text/plain": [
       "<IPython.core.display.HTML object>"
      ]
     },
     "metadata": {},
     "output_type": "display_data"
    },
    {
     "name": "stdout",
     "output_type": "stream",
     "text": [
      "\t\tAccuracy: Mean = 0.8311360448807854, Std = 0.03330199292909915\n",
      "\t\tF1 Score: Mean = 0.8302358477851806, Std = 0.03133485516278241\n",
      "\t\tPrecision: Mean = 0.8370578067530644, Std = 0.030336178950621507\n",
      "\t\tRecall: Mean = 0.8311360448807854, Std = 0.03330199292909915\n",
      "\t\tROC-AUC: Mean = 0.9570115495063855, Std = 0.010628757255354728\n"
     ]
    },
    {
     "data": {
      "text/html": [
       "Waiting for W&B process to finish... <strong style=\"color:green\">(success).</strong>"
      ],
      "text/plain": [
       "<IPython.core.display.HTML object>"
      ]
     },
     "metadata": {},
     "output_type": "display_data"
    },
    {
     "data": {
      "text/html": [
       "<style>\n",
       "    table.wandb td:nth-child(1) { padding: 0 10px; text-align: left ; width: auto;} td:nth-child(2) {text-align: left ; width: 100%}\n",
       "    .wandb-row { display: flex; flex-direction: row; flex-wrap: wrap; justify-content: flex-start; width: 100% }\n",
       "    .wandb-col { display: flex; flex-direction: column; flex-basis: 100%; flex: 1; padding: 10px; }\n",
       "    </style>\n",
       "<div class=\"wandb-row\"><div class=\"wandb-col\"><h3>Run history:</h3><br/><table class=\"wandb\"><tr><td>Accuracy_mean</td><td>▁</td></tr><tr><td>Accuracy_std</td><td>▁</td></tr><tr><td>F1 Score_mean</td><td>▁</td></tr><tr><td>F1 Score_std</td><td>▁</td></tr><tr><td>Precision_mean</td><td>▁</td></tr><tr><td>Precision_std</td><td>▁</td></tr><tr><td>ROC-AUC_mean</td><td>▁</td></tr><tr><td>ROC-AUC_std</td><td>▁</td></tr><tr><td>Recall_mean</td><td>▁</td></tr><tr><td>Recall_std</td><td>▁</td></tr></table><br/></div><div class=\"wandb-col\"><h3>Run summary:</h3><br/><table class=\"wandb\"><tr><td>Accuracy_mean</td><td>0.83114</td></tr><tr><td>Accuracy_std</td><td>0.0333</td></tr><tr><td>F1 Score_mean</td><td>0.83024</td></tr><tr><td>F1 Score_std</td><td>0.03133</td></tr><tr><td>Precision_mean</td><td>0.83706</td></tr><tr><td>Precision_std</td><td>0.03034</td></tr><tr><td>ROC-AUC_mean</td><td>0.95701</td></tr><tr><td>ROC-AUC_std</td><td>0.01063</td></tr><tr><td>Recall_mean</td><td>0.83114</td></tr><tr><td>Recall_std</td><td>0.0333</td></tr></table><br/></div></div>"
      ],
      "text/plain": [
       "<IPython.core.display.HTML object>"
      ]
     },
     "metadata": {},
     "output_type": "display_data"
    },
    {
     "data": {
      "text/html": [
       " View run <strong style=\"color:#cdcd00\">NN_Vision All</strong> at: <a href='https://wandb.ai/lequn/AudioVisual_ML_ablation_study_v2/runs/veentr60' target=\"_blank\">https://wandb.ai/lequn/AudioVisual_ML_ablation_study_v2/runs/veentr60</a><br/> View job at <a href='https://wandb.ai/lequn/AudioVisual_ML_ablation_study_v2/jobs/QXJ0aWZhY3RDb2xsZWN0aW9uOjExMTQ1OTc4Ng==/version_details/v23' target=\"_blank\">https://wandb.ai/lequn/AudioVisual_ML_ablation_study_v2/jobs/QXJ0aWZhY3RDb2xsZWN0aW9uOjExMTQ1OTc4Ng==/version_details/v23</a><br/>Synced 6 W&B file(s), 0 media file(s), 0 artifact file(s) and 0 other file(s)"
      ],
      "text/plain": [
       "<IPython.core.display.HTML object>"
      ]
     },
     "metadata": {},
     "output_type": "display_data"
    },
    {
     "data": {
      "text/html": [
       "Find logs at: <code>./wandb/run-20240305_120043-veentr60/logs</code>"
      ],
      "text/plain": [
       "<IPython.core.display.HTML object>"
      ]
     },
     "metadata": {},
     "output_type": "display_data"
    },
    {
     "name": "stdout",
     "output_type": "stream",
     "text": [
      "\tTraining model: XGBoost\n"
     ]
    },
    {
     "data": {
      "application/vnd.jupyter.widget-view+json": {
       "model_id": "681cfbd094e741c29040ae06bbc205ed",
       "version_major": 2,
       "version_minor": 0
      },
      "text/plain": [
       "VBox(children=(Label(value='Waiting for wandb.init()...\\r'), FloatProgress(value=0.011113187111105718, max=1.0…"
      ]
     },
     "metadata": {},
     "output_type": "display_data"
    },
    {
     "data": {
      "text/html": [
       "wandb version 0.16.3 is available!  To upgrade, please run:\n",
       " $ pip install wandb --upgrade"
      ],
      "text/plain": [
       "<IPython.core.display.HTML object>"
      ]
     },
     "metadata": {},
     "output_type": "display_data"
    },
    {
     "data": {
      "text/html": [
       "Tracking run with wandb version 0.15.12"
      ],
      "text/plain": [
       "<IPython.core.display.HTML object>"
      ]
     },
     "metadata": {},
     "output_type": "display_data"
    },
    {
     "data": {
      "text/html": [
       "Run data is saved locally in <code>/home/chenlequn/GitHub/LDED-FusionNet/code/wandb/run-20240305_120059-34agtu5n</code>"
      ],
      "text/plain": [
       "<IPython.core.display.HTML object>"
      ]
     },
     "metadata": {},
     "output_type": "display_data"
    },
    {
     "data": {
      "text/html": [
       "Syncing run <strong><a href='https://wandb.ai/lequn/AudioVisual_ML_ablation_study_v2/runs/34agtu5n' target=\"_blank\">XGBoost_Vision All</a></strong> to <a href='https://wandb.ai/lequn/AudioVisual_ML_ablation_study_v2' target=\"_blank\">Weights & Biases</a> (<a href='https://wandb.me/run' target=\"_blank\">docs</a>)<br/>"
      ],
      "text/plain": [
       "<IPython.core.display.HTML object>"
      ]
     },
     "metadata": {},
     "output_type": "display_data"
    },
    {
     "data": {
      "text/html": [
       " View project at <a href='https://wandb.ai/lequn/AudioVisual_ML_ablation_study_v2' target=\"_blank\">https://wandb.ai/lequn/AudioVisual_ML_ablation_study_v2</a>"
      ],
      "text/plain": [
       "<IPython.core.display.HTML object>"
      ]
     },
     "metadata": {},
     "output_type": "display_data"
    },
    {
     "data": {
      "text/html": [
       " View run at <a href='https://wandb.ai/lequn/AudioVisual_ML_ablation_study_v2/runs/34agtu5n' target=\"_blank\">https://wandb.ai/lequn/AudioVisual_ML_ablation_study_v2/runs/34agtu5n</a>"
      ],
      "text/plain": [
       "<IPython.core.display.HTML object>"
      ]
     },
     "metadata": {},
     "output_type": "display_data"
    },
    {
     "name": "stdout",
     "output_type": "stream",
     "text": [
      "\t\tAccuracy: Mean = 0.8657550257129498, Std = 0.022485102336360703\n",
      "\t\tF1 Score: Mean = 0.8658940381574795, Std = 0.02176016156585952\n",
      "\t\tPrecision: Mean = 0.8686092662098248, Std = 0.02209472315654317\n",
      "\t\tRecall: Mean = 0.8657550257129498, Std = 0.022485102336360703\n",
      "\t\tROC-AUC: Mean = 0.966206921569554, Std = 0.008106296847018747\n"
     ]
    },
    {
     "data": {
      "text/html": [
       "Waiting for W&B process to finish... <strong style=\"color:green\">(success).</strong>"
      ],
      "text/plain": [
       "<IPython.core.display.HTML object>"
      ]
     },
     "metadata": {},
     "output_type": "display_data"
    },
    {
     "data": {
      "text/html": [
       "<style>\n",
       "    table.wandb td:nth-child(1) { padding: 0 10px; text-align: left ; width: auto;} td:nth-child(2) {text-align: left ; width: 100%}\n",
       "    .wandb-row { display: flex; flex-direction: row; flex-wrap: wrap; justify-content: flex-start; width: 100% }\n",
       "    .wandb-col { display: flex; flex-direction: column; flex-basis: 100%; flex: 1; padding: 10px; }\n",
       "    </style>\n",
       "<div class=\"wandb-row\"><div class=\"wandb-col\"><h3>Run history:</h3><br/><table class=\"wandb\"><tr><td>Accuracy_mean</td><td>▁</td></tr><tr><td>Accuracy_std</td><td>▁</td></tr><tr><td>F1 Score_mean</td><td>▁</td></tr><tr><td>F1 Score_std</td><td>▁</td></tr><tr><td>Precision_mean</td><td>▁</td></tr><tr><td>Precision_std</td><td>▁</td></tr><tr><td>ROC-AUC_mean</td><td>▁</td></tr><tr><td>ROC-AUC_std</td><td>▁</td></tr><tr><td>Recall_mean</td><td>▁</td></tr><tr><td>Recall_std</td><td>▁</td></tr></table><br/></div><div class=\"wandb-col\"><h3>Run summary:</h3><br/><table class=\"wandb\"><tr><td>Accuracy_mean</td><td>0.86576</td></tr><tr><td>Accuracy_std</td><td>0.02249</td></tr><tr><td>F1 Score_mean</td><td>0.86589</td></tr><tr><td>F1 Score_std</td><td>0.02176</td></tr><tr><td>Precision_mean</td><td>0.86861</td></tr><tr><td>Precision_std</td><td>0.02209</td></tr><tr><td>ROC-AUC_mean</td><td>0.96621</td></tr><tr><td>ROC-AUC_std</td><td>0.00811</td></tr><tr><td>Recall_mean</td><td>0.86576</td></tr><tr><td>Recall_std</td><td>0.02249</td></tr></table><br/></div></div>"
      ],
      "text/plain": [
       "<IPython.core.display.HTML object>"
      ]
     },
     "metadata": {},
     "output_type": "display_data"
    },
    {
     "data": {
      "text/html": [
       " View run <strong style=\"color:#cdcd00\">XGBoost_Vision All</strong> at: <a href='https://wandb.ai/lequn/AudioVisual_ML_ablation_study_v2/runs/34agtu5n' target=\"_blank\">https://wandb.ai/lequn/AudioVisual_ML_ablation_study_v2/runs/34agtu5n</a><br/> View job at <a href='https://wandb.ai/lequn/AudioVisual_ML_ablation_study_v2/jobs/QXJ0aWZhY3RDb2xsZWN0aW9uOjExMTQ1OTc4Ng==/version_details/v23' target=\"_blank\">https://wandb.ai/lequn/AudioVisual_ML_ablation_study_v2/jobs/QXJ0aWZhY3RDb2xsZWN0aW9uOjExMTQ1OTc4Ng==/version_details/v23</a><br/>Synced 6 W&B file(s), 0 media file(s), 0 artifact file(s) and 0 other file(s)"
      ],
      "text/plain": [
       "<IPython.core.display.HTML object>"
      ]
     },
     "metadata": {},
     "output_type": "display_data"
    },
    {
     "data": {
      "text/html": [
       "Find logs at: <code>./wandb/run-20240305_120059-34agtu5n/logs</code>"
      ],
      "text/plain": [
       "<IPython.core.display.HTML object>"
      ]
     },
     "metadata": {},
     "output_type": "display_data"
    },
    {
     "name": "stdout",
     "output_type": "stream",
     "text": [
      "\tTraining model: LightGBM\n"
     ]
    },
    {
     "data": {
      "application/vnd.jupyter.widget-view+json": {
       "model_id": "4d608a15495e4e0e88825bf171bf3eaa",
       "version_major": 2,
       "version_minor": 0
      },
      "text/plain": [
       "VBox(children=(Label(value='Waiting for wandb.init()...\\r'), FloatProgress(value=0.011113322188895028, max=1.0…"
      ]
     },
     "metadata": {},
     "output_type": "display_data"
    },
    {
     "data": {
      "text/html": [
       "wandb version 0.16.3 is available!  To upgrade, please run:\n",
       " $ pip install wandb --upgrade"
      ],
      "text/plain": [
       "<IPython.core.display.HTML object>"
      ]
     },
     "metadata": {},
     "output_type": "display_data"
    },
    {
     "data": {
      "text/html": [
       "Tracking run with wandb version 0.15.12"
      ],
      "text/plain": [
       "<IPython.core.display.HTML object>"
      ]
     },
     "metadata": {},
     "output_type": "display_data"
    },
    {
     "data": {
      "text/html": [
       "Run data is saved locally in <code>/home/chenlequn/GitHub/LDED-FusionNet/code/wandb/run-20240305_120112-jrsu8ecf</code>"
      ],
      "text/plain": [
       "<IPython.core.display.HTML object>"
      ]
     },
     "metadata": {},
     "output_type": "display_data"
    },
    {
     "data": {
      "text/html": [
       "Syncing run <strong><a href='https://wandb.ai/lequn/AudioVisual_ML_ablation_study_v2/runs/jrsu8ecf' target=\"_blank\">LightGBM_Vision All</a></strong> to <a href='https://wandb.ai/lequn/AudioVisual_ML_ablation_study_v2' target=\"_blank\">Weights & Biases</a> (<a href='https://wandb.me/run' target=\"_blank\">docs</a>)<br/>"
      ],
      "text/plain": [
       "<IPython.core.display.HTML object>"
      ]
     },
     "metadata": {},
     "output_type": "display_data"
    },
    {
     "data": {
      "text/html": [
       " View project at <a href='https://wandb.ai/lequn/AudioVisual_ML_ablation_study_v2' target=\"_blank\">https://wandb.ai/lequn/AudioVisual_ML_ablation_study_v2</a>"
      ],
      "text/plain": [
       "<IPython.core.display.HTML object>"
      ]
     },
     "metadata": {},
     "output_type": "display_data"
    },
    {
     "data": {
      "text/html": [
       " View run at <a href='https://wandb.ai/lequn/AudioVisual_ML_ablation_study_v2/runs/jrsu8ecf' target=\"_blank\">https://wandb.ai/lequn/AudioVisual_ML_ablation_study_v2/runs/jrsu8ecf</a>"
      ],
      "text/plain": [
       "<IPython.core.display.HTML object>"
      ]
     },
     "metadata": {},
     "output_type": "display_data"
    },
    {
     "name": "stdout",
     "output_type": "stream",
     "text": [
      "\t\tAccuracy: Mean = 0.8636512388966807, Std = 0.023116565939993703\n",
      "\t\tF1 Score: Mean = 0.8644460082920045, Std = 0.021805468735739013\n",
      "\t\tPrecision: Mean = 0.8686343503860764, Std = 0.021138164358992573\n",
      "\t\tRecall: Mean = 0.8636512388966807, Std = 0.023116565939993703\n",
      "\t\tROC-AUC: Mean = 0.9702605212607484, Std = 0.003644047521717108\n"
     ]
    },
    {
     "data": {
      "text/html": [
       "Waiting for W&B process to finish... <strong style=\"color:green\">(success).</strong>"
      ],
      "text/plain": [
       "<IPython.core.display.HTML object>"
      ]
     },
     "metadata": {},
     "output_type": "display_data"
    },
    {
     "data": {
      "text/html": [
       "<style>\n",
       "    table.wandb td:nth-child(1) { padding: 0 10px; text-align: left ; width: auto;} td:nth-child(2) {text-align: left ; width: 100%}\n",
       "    .wandb-row { display: flex; flex-direction: row; flex-wrap: wrap; justify-content: flex-start; width: 100% }\n",
       "    .wandb-col { display: flex; flex-direction: column; flex-basis: 100%; flex: 1; padding: 10px; }\n",
       "    </style>\n",
       "<div class=\"wandb-row\"><div class=\"wandb-col\"><h3>Run history:</h3><br/><table class=\"wandb\"><tr><td>Accuracy_mean</td><td>▁</td></tr><tr><td>Accuracy_std</td><td>▁</td></tr><tr><td>F1 Score_mean</td><td>▁</td></tr><tr><td>F1 Score_std</td><td>▁</td></tr><tr><td>Precision_mean</td><td>▁</td></tr><tr><td>Precision_std</td><td>▁</td></tr><tr><td>ROC-AUC_mean</td><td>▁</td></tr><tr><td>ROC-AUC_std</td><td>▁</td></tr><tr><td>Recall_mean</td><td>▁</td></tr><tr><td>Recall_std</td><td>▁</td></tr></table><br/></div><div class=\"wandb-col\"><h3>Run summary:</h3><br/><table class=\"wandb\"><tr><td>Accuracy_mean</td><td>0.86365</td></tr><tr><td>Accuracy_std</td><td>0.02312</td></tr><tr><td>F1 Score_mean</td><td>0.86445</td></tr><tr><td>F1 Score_std</td><td>0.02181</td></tr><tr><td>Precision_mean</td><td>0.86863</td></tr><tr><td>Precision_std</td><td>0.02114</td></tr><tr><td>ROC-AUC_mean</td><td>0.97026</td></tr><tr><td>ROC-AUC_std</td><td>0.00364</td></tr><tr><td>Recall_mean</td><td>0.86365</td></tr><tr><td>Recall_std</td><td>0.02312</td></tr></table><br/></div></div>"
      ],
      "text/plain": [
       "<IPython.core.display.HTML object>"
      ]
     },
     "metadata": {},
     "output_type": "display_data"
    },
    {
     "data": {
      "text/html": [
       " View run <strong style=\"color:#cdcd00\">LightGBM_Vision All</strong> at: <a href='https://wandb.ai/lequn/AudioVisual_ML_ablation_study_v2/runs/jrsu8ecf' target=\"_blank\">https://wandb.ai/lequn/AudioVisual_ML_ablation_study_v2/runs/jrsu8ecf</a><br/> View job at <a href='https://wandb.ai/lequn/AudioVisual_ML_ablation_study_v2/jobs/QXJ0aWZhY3RDb2xsZWN0aW9uOjExMTQ1OTc4Ng==/version_details/v23' target=\"_blank\">https://wandb.ai/lequn/AudioVisual_ML_ablation_study_v2/jobs/QXJ0aWZhY3RDb2xsZWN0aW9uOjExMTQ1OTc4Ng==/version_details/v23</a><br/>Synced 6 W&B file(s), 0 media file(s), 0 artifact file(s) and 0 other file(s)"
      ],
      "text/plain": [
       "<IPython.core.display.HTML object>"
      ]
     },
     "metadata": {},
     "output_type": "display_data"
    },
    {
     "data": {
      "text/html": [
       "Find logs at: <code>./wandb/run-20240305_120112-jrsu8ecf/logs</code>"
      ],
      "text/plain": [
       "<IPython.core.display.HTML object>"
      ]
     },
     "metadata": {},
     "output_type": "display_data"
    },
    {
     "name": "stdout",
     "output_type": "stream",
     "text": [
      "\tTraining model: SVM\n"
     ]
    },
    {
     "data": {
      "application/vnd.jupyter.widget-view+json": {
       "model_id": "11c3c601d50347c78c3e23c67b2ac871",
       "version_major": 2,
       "version_minor": 0
      },
      "text/plain": [
       "VBox(children=(Label(value='Waiting for wandb.init()...\\r'), FloatProgress(value=0.011113183033335696, max=1.0…"
      ]
     },
     "metadata": {},
     "output_type": "display_data"
    },
    {
     "data": {
      "text/html": [
       "wandb version 0.16.3 is available!  To upgrade, please run:\n",
       " $ pip install wandb --upgrade"
      ],
      "text/plain": [
       "<IPython.core.display.HTML object>"
      ]
     },
     "metadata": {},
     "output_type": "display_data"
    },
    {
     "data": {
      "text/html": [
       "Tracking run with wandb version 0.15.12"
      ],
      "text/plain": [
       "<IPython.core.display.HTML object>"
      ]
     },
     "metadata": {},
     "output_type": "display_data"
    },
    {
     "data": {
      "text/html": [
       "Run data is saved locally in <code>/home/chenlequn/GitHub/LDED-FusionNet/code/wandb/run-20240305_120128-dqne8ml3</code>"
      ],
      "text/plain": [
       "<IPython.core.display.HTML object>"
      ]
     },
     "metadata": {},
     "output_type": "display_data"
    },
    {
     "data": {
      "text/html": [
       "Syncing run <strong><a href='https://wandb.ai/lequn/AudioVisual_ML_ablation_study_v2/runs/dqne8ml3' target=\"_blank\">SVM_Vision All</a></strong> to <a href='https://wandb.ai/lequn/AudioVisual_ML_ablation_study_v2' target=\"_blank\">Weights & Biases</a> (<a href='https://wandb.me/run' target=\"_blank\">docs</a>)<br/>"
      ],
      "text/plain": [
       "<IPython.core.display.HTML object>"
      ]
     },
     "metadata": {},
     "output_type": "display_data"
    },
    {
     "data": {
      "text/html": [
       " View project at <a href='https://wandb.ai/lequn/AudioVisual_ML_ablation_study_v2' target=\"_blank\">https://wandb.ai/lequn/AudioVisual_ML_ablation_study_v2</a>"
      ],
      "text/plain": [
       "<IPython.core.display.HTML object>"
      ]
     },
     "metadata": {},
     "output_type": "display_data"
    },
    {
     "data": {
      "text/html": [
       " View run at <a href='https://wandb.ai/lequn/AudioVisual_ML_ablation_study_v2/runs/dqne8ml3' target=\"_blank\">https://wandb.ai/lequn/AudioVisual_ML_ablation_study_v2/runs/dqne8ml3</a>"
      ],
      "text/plain": [
       "<IPython.core.display.HTML object>"
      ]
     },
     "metadata": {},
     "output_type": "display_data"
    },
    {
     "name": "stdout",
     "output_type": "stream",
     "text": [
      "\t\tAccuracy: Mean = 0.831229546517064, Std = 0.04865236374030303\n",
      "\t\tF1 Score: Mean = 0.8315224938561684, Std = 0.04880787741904113\n",
      "\t\tPrecision: Mean = 0.8347335076371355, Std = 0.04858204611971036\n",
      "\t\tRecall: Mean = 0.831229546517064, Std = 0.04865236374030303\n",
      "\t\tROC-AUC: Mean = 0.9425057730192986, Std = 0.01904031676471531\n"
     ]
    },
    {
     "data": {
      "text/html": [
       "Waiting for W&B process to finish... <strong style=\"color:green\">(success).</strong>"
      ],
      "text/plain": [
       "<IPython.core.display.HTML object>"
      ]
     },
     "metadata": {},
     "output_type": "display_data"
    },
    {
     "data": {
      "text/html": [
       "<style>\n",
       "    table.wandb td:nth-child(1) { padding: 0 10px; text-align: left ; width: auto;} td:nth-child(2) {text-align: left ; width: 100%}\n",
       "    .wandb-row { display: flex; flex-direction: row; flex-wrap: wrap; justify-content: flex-start; width: 100% }\n",
       "    .wandb-col { display: flex; flex-direction: column; flex-basis: 100%; flex: 1; padding: 10px; }\n",
       "    </style>\n",
       "<div class=\"wandb-row\"><div class=\"wandb-col\"><h3>Run history:</h3><br/><table class=\"wandb\"><tr><td>Accuracy_mean</td><td>▁</td></tr><tr><td>Accuracy_std</td><td>▁</td></tr><tr><td>F1 Score_mean</td><td>▁</td></tr><tr><td>F1 Score_std</td><td>▁</td></tr><tr><td>Precision_mean</td><td>▁</td></tr><tr><td>Precision_std</td><td>▁</td></tr><tr><td>ROC-AUC_mean</td><td>▁</td></tr><tr><td>ROC-AUC_std</td><td>▁</td></tr><tr><td>Recall_mean</td><td>▁</td></tr><tr><td>Recall_std</td><td>▁</td></tr></table><br/></div><div class=\"wandb-col\"><h3>Run summary:</h3><br/><table class=\"wandb\"><tr><td>Accuracy_mean</td><td>0.83123</td></tr><tr><td>Accuracy_std</td><td>0.04865</td></tr><tr><td>F1 Score_mean</td><td>0.83152</td></tr><tr><td>F1 Score_std</td><td>0.04881</td></tr><tr><td>Precision_mean</td><td>0.83473</td></tr><tr><td>Precision_std</td><td>0.04858</td></tr><tr><td>ROC-AUC_mean</td><td>0.94251</td></tr><tr><td>ROC-AUC_std</td><td>0.01904</td></tr><tr><td>Recall_mean</td><td>0.83123</td></tr><tr><td>Recall_std</td><td>0.04865</td></tr></table><br/></div></div>"
      ],
      "text/plain": [
       "<IPython.core.display.HTML object>"
      ]
     },
     "metadata": {},
     "output_type": "display_data"
    },
    {
     "data": {
      "text/html": [
       " View run <strong style=\"color:#cdcd00\">SVM_Vision All</strong> at: <a href='https://wandb.ai/lequn/AudioVisual_ML_ablation_study_v2/runs/dqne8ml3' target=\"_blank\">https://wandb.ai/lequn/AudioVisual_ML_ablation_study_v2/runs/dqne8ml3</a><br/> View job at <a href='https://wandb.ai/lequn/AudioVisual_ML_ablation_study_v2/jobs/QXJ0aWZhY3RDb2xsZWN0aW9uOjExMTQ1OTc4Ng==/version_details/v23' target=\"_blank\">https://wandb.ai/lequn/AudioVisual_ML_ablation_study_v2/jobs/QXJ0aWZhY3RDb2xsZWN0aW9uOjExMTQ1OTc4Ng==/version_details/v23</a><br/>Synced 6 W&B file(s), 0 media file(s), 0 artifact file(s) and 0 other file(s)"
      ],
      "text/plain": [
       "<IPython.core.display.HTML object>"
      ]
     },
     "metadata": {},
     "output_type": "display_data"
    },
    {
     "data": {
      "text/html": [
       "Find logs at: <code>./wandb/run-20240305_120128-dqne8ml3/logs</code>"
      ],
      "text/plain": [
       "<IPython.core.display.HTML object>"
      ]
     },
     "metadata": {},
     "output_type": "display_data"
    },
    {
     "name": "stdout",
     "output_type": "stream",
     "text": [
      "\tTraining model: HistGB\n"
     ]
    },
    {
     "data": {
      "application/vnd.jupyter.widget-view+json": {
       "model_id": "8c2798b69864498f90c12d3276cdb968",
       "version_major": 2,
       "version_minor": 0
      },
      "text/plain": [
       "VBox(children=(Label(value='Waiting for wandb.init()...\\r'), FloatProgress(value=0.011112314088889737, max=1.0…"
      ]
     },
     "metadata": {},
     "output_type": "display_data"
    },
    {
     "data": {
      "text/html": [
       "wandb version 0.16.3 is available!  To upgrade, please run:\n",
       " $ pip install wandb --upgrade"
      ],
      "text/plain": [
       "<IPython.core.display.HTML object>"
      ]
     },
     "metadata": {},
     "output_type": "display_data"
    },
    {
     "data": {
      "text/html": [
       "Tracking run with wandb version 0.15.12"
      ],
      "text/plain": [
       "<IPython.core.display.HTML object>"
      ]
     },
     "metadata": {},
     "output_type": "display_data"
    },
    {
     "data": {
      "text/html": [
       "Run data is saved locally in <code>/home/chenlequn/GitHub/LDED-FusionNet/code/wandb/run-20240305_120140-wzjiiv9s</code>"
      ],
      "text/plain": [
       "<IPython.core.display.HTML object>"
      ]
     },
     "metadata": {},
     "output_type": "display_data"
    },
    {
     "data": {
      "text/html": [
       "Syncing run <strong><a href='https://wandb.ai/lequn/AudioVisual_ML_ablation_study_v2/runs/wzjiiv9s' target=\"_blank\">HistGB_Vision All</a></strong> to <a href='https://wandb.ai/lequn/AudioVisual_ML_ablation_study_v2' target=\"_blank\">Weights & Biases</a> (<a href='https://wandb.me/run' target=\"_blank\">docs</a>)<br/>"
      ],
      "text/plain": [
       "<IPython.core.display.HTML object>"
      ]
     },
     "metadata": {},
     "output_type": "display_data"
    },
    {
     "data": {
      "text/html": [
       " View project at <a href='https://wandb.ai/lequn/AudioVisual_ML_ablation_study_v2' target=\"_blank\">https://wandb.ai/lequn/AudioVisual_ML_ablation_study_v2</a>"
      ],
      "text/plain": [
       "<IPython.core.display.HTML object>"
      ]
     },
     "metadata": {},
     "output_type": "display_data"
    },
    {
     "data": {
      "text/html": [
       " View run at <a href='https://wandb.ai/lequn/AudioVisual_ML_ablation_study_v2/runs/wzjiiv9s' target=\"_blank\">https://wandb.ai/lequn/AudioVisual_ML_ablation_study_v2/runs/wzjiiv9s</a>"
      ],
      "text/plain": [
       "<IPython.core.display.HTML object>"
      ]
     },
     "metadata": {},
     "output_type": "display_data"
    },
    {
     "name": "stdout",
     "output_type": "stream",
     "text": [
      "\t\tAccuracy: Mean = 0.8635343618513325, Std = 0.03355145677037068\n",
      "\t\tF1 Score: Mean = 0.8644255658149176, Std = 0.03203170035844946\n",
      "\t\tPrecision: Mean = 0.868011838763886, Std = 0.030486858813943415\n",
      "\t\tRecall: Mean = 0.8635343618513325, Std = 0.03355145677037068\n",
      "\t\tROC-AUC: Mean = 0.9703779496160617, Std = 0.007608821327499804\n"
     ]
    },
    {
     "data": {
      "text/html": [
       "Waiting for W&B process to finish... <strong style=\"color:green\">(success).</strong>"
      ],
      "text/plain": [
       "<IPython.core.display.HTML object>"
      ]
     },
     "metadata": {},
     "output_type": "display_data"
    },
    {
     "data": {
      "text/html": [
       "<style>\n",
       "    table.wandb td:nth-child(1) { padding: 0 10px; text-align: left ; width: auto;} td:nth-child(2) {text-align: left ; width: 100%}\n",
       "    .wandb-row { display: flex; flex-direction: row; flex-wrap: wrap; justify-content: flex-start; width: 100% }\n",
       "    .wandb-col { display: flex; flex-direction: column; flex-basis: 100%; flex: 1; padding: 10px; }\n",
       "    </style>\n",
       "<div class=\"wandb-row\"><div class=\"wandb-col\"><h3>Run history:</h3><br/><table class=\"wandb\"><tr><td>Accuracy_mean</td><td>▁</td></tr><tr><td>Accuracy_std</td><td>▁</td></tr><tr><td>F1 Score_mean</td><td>▁</td></tr><tr><td>F1 Score_std</td><td>▁</td></tr><tr><td>Precision_mean</td><td>▁</td></tr><tr><td>Precision_std</td><td>▁</td></tr><tr><td>ROC-AUC_mean</td><td>▁</td></tr><tr><td>ROC-AUC_std</td><td>▁</td></tr><tr><td>Recall_mean</td><td>▁</td></tr><tr><td>Recall_std</td><td>▁</td></tr></table><br/></div><div class=\"wandb-col\"><h3>Run summary:</h3><br/><table class=\"wandb\"><tr><td>Accuracy_mean</td><td>0.86353</td></tr><tr><td>Accuracy_std</td><td>0.03355</td></tr><tr><td>F1 Score_mean</td><td>0.86443</td></tr><tr><td>F1 Score_std</td><td>0.03203</td></tr><tr><td>Precision_mean</td><td>0.86801</td></tr><tr><td>Precision_std</td><td>0.03049</td></tr><tr><td>ROC-AUC_mean</td><td>0.97038</td></tr><tr><td>ROC-AUC_std</td><td>0.00761</td></tr><tr><td>Recall_mean</td><td>0.86353</td></tr><tr><td>Recall_std</td><td>0.03355</td></tr></table><br/></div></div>"
      ],
      "text/plain": [
       "<IPython.core.display.HTML object>"
      ]
     },
     "metadata": {},
     "output_type": "display_data"
    },
    {
     "data": {
      "text/html": [
       " View run <strong style=\"color:#cdcd00\">HistGB_Vision All</strong> at: <a href='https://wandb.ai/lequn/AudioVisual_ML_ablation_study_v2/runs/wzjiiv9s' target=\"_blank\">https://wandb.ai/lequn/AudioVisual_ML_ablation_study_v2/runs/wzjiiv9s</a><br/> View job at <a href='https://wandb.ai/lequn/AudioVisual_ML_ablation_study_v2/jobs/QXJ0aWZhY3RDb2xsZWN0aW9uOjExMTQ1OTc4Ng==/version_details/v22' target=\"_blank\">https://wandb.ai/lequn/AudioVisual_ML_ablation_study_v2/jobs/QXJ0aWZhY3RDb2xsZWN0aW9uOjExMTQ1OTc4Ng==/version_details/v22</a><br/>Synced 6 W&B file(s), 0 media file(s), 0 artifact file(s) and 0 other file(s)"
      ],
      "text/plain": [
       "<IPython.core.display.HTML object>"
      ]
     },
     "metadata": {},
     "output_type": "display_data"
    },
    {
     "data": {
      "text/html": [
       "Find logs at: <code>./wandb/run-20240305_120140-wzjiiv9s/logs</code>"
      ],
      "text/plain": [
       "<IPython.core.display.HTML object>"
      ]
     },
     "metadata": {},
     "output_type": "display_data"
    },
    {
     "name": "stdout",
     "output_type": "stream",
     "text": [
      "Processing dataset: Audio Ablated 1\n",
      "\tTraining model: KNN\n"
     ]
    },
    {
     "data": {
      "application/vnd.jupyter.widget-view+json": {
       "model_id": "a42ef1cd4b714a20b5a007e3c3679385",
       "version_major": 2,
       "version_minor": 0
      },
      "text/plain": [
       "VBox(children=(Label(value='Waiting for wandb.init()...\\r'), FloatProgress(value=0.011113165977773558, max=1.0…"
      ]
     },
     "metadata": {},
     "output_type": "display_data"
    },
    {
     "data": {
      "text/html": [
       "wandb version 0.16.3 is available!  To upgrade, please run:\n",
       " $ pip install wandb --upgrade"
      ],
      "text/plain": [
       "<IPython.core.display.HTML object>"
      ]
     },
     "metadata": {},
     "output_type": "display_data"
    },
    {
     "data": {
      "text/html": [
       "Tracking run with wandb version 0.15.12"
      ],
      "text/plain": [
       "<IPython.core.display.HTML object>"
      ]
     },
     "metadata": {},
     "output_type": "display_data"
    },
    {
     "data": {
      "text/html": [
       "Run data is saved locally in <code>/home/chenlequn/GitHub/LDED-FusionNet/code/wandb/run-20240305_120155-wlu7asbi</code>"
      ],
      "text/plain": [
       "<IPython.core.display.HTML object>"
      ]
     },
     "metadata": {},
     "output_type": "display_data"
    },
    {
     "data": {
      "text/html": [
       "Syncing run <strong><a href='https://wandb.ai/lequn/AudioVisual_ML_ablation_study_v2/runs/wlu7asbi' target=\"_blank\">KNN_Audio Ablated 1</a></strong> to <a href='https://wandb.ai/lequn/AudioVisual_ML_ablation_study_v2' target=\"_blank\">Weights & Biases</a> (<a href='https://wandb.me/run' target=\"_blank\">docs</a>)<br/>"
      ],
      "text/plain": [
       "<IPython.core.display.HTML object>"
      ]
     },
     "metadata": {},
     "output_type": "display_data"
    },
    {
     "data": {
      "text/html": [
       " View project at <a href='https://wandb.ai/lequn/AudioVisual_ML_ablation_study_v2' target=\"_blank\">https://wandb.ai/lequn/AudioVisual_ML_ablation_study_v2</a>"
      ],
      "text/plain": [
       "<IPython.core.display.HTML object>"
      ]
     },
     "metadata": {},
     "output_type": "display_data"
    },
    {
     "data": {
      "text/html": [
       " View run at <a href='https://wandb.ai/lequn/AudioVisual_ML_ablation_study_v2/runs/wlu7asbi' target=\"_blank\">https://wandb.ai/lequn/AudioVisual_ML_ablation_study_v2/runs/wlu7asbi</a>"
      ],
      "text/plain": [
       "<IPython.core.display.HTML object>"
      ]
     },
     "metadata": {},
     "output_type": "display_data"
    },
    {
     "name": "stdout",
     "output_type": "stream",
     "text": [
      "\t\tAccuracy: Mean = 0.7814633006077607, Std = 0.03542916298243898\n",
      "\t\tF1 Score: Mean = 0.7652382459883168, Std = 0.03654936756934635\n",
      "\t\tPrecision: Mean = 0.7685419784870866, Std = 0.03652102835206825\n",
      "\t\tRecall: Mean = 0.7814633006077607, Std = 0.03542916298243898\n",
      "\t\tROC-AUC: Mean = 0.9386854190231722, Std = 0.009608947217732823\n"
     ]
    },
    {
     "name": "stderr",
     "output_type": "stream",
     "text": [
      "/home/chenlequn/anaconda3/envs/torch/lib/python3.9/site-packages/sklearn/metrics/_classification.py:1344: UndefinedMetricWarning: Precision is ill-defined and being set to 0.0 in labels with no predicted samples. Use `zero_division` parameter to control this behavior.\n",
      "  _warn_prf(average, modifier, msg_start, len(result))\n"
     ]
    },
    {
     "data": {
      "text/html": [
       "Waiting for W&B process to finish... <strong style=\"color:green\">(success).</strong>"
      ],
      "text/plain": [
       "<IPython.core.display.HTML object>"
      ]
     },
     "metadata": {},
     "output_type": "display_data"
    },
    {
     "data": {
      "text/html": [
       "<style>\n",
       "    table.wandb td:nth-child(1) { padding: 0 10px; text-align: left ; width: auto;} td:nth-child(2) {text-align: left ; width: 100%}\n",
       "    .wandb-row { display: flex; flex-direction: row; flex-wrap: wrap; justify-content: flex-start; width: 100% }\n",
       "    .wandb-col { display: flex; flex-direction: column; flex-basis: 100%; flex: 1; padding: 10px; }\n",
       "    </style>\n",
       "<div class=\"wandb-row\"><div class=\"wandb-col\"><h3>Run history:</h3><br/><table class=\"wandb\"><tr><td>Accuracy_mean</td><td>▁</td></tr><tr><td>Accuracy_std</td><td>▁</td></tr><tr><td>F1 Score_mean</td><td>▁</td></tr><tr><td>F1 Score_std</td><td>▁</td></tr><tr><td>Precision_mean</td><td>▁</td></tr><tr><td>Precision_std</td><td>▁</td></tr><tr><td>ROC-AUC_mean</td><td>▁</td></tr><tr><td>ROC-AUC_std</td><td>▁</td></tr><tr><td>Recall_mean</td><td>▁</td></tr><tr><td>Recall_std</td><td>▁</td></tr></table><br/></div><div class=\"wandb-col\"><h3>Run summary:</h3><br/><table class=\"wandb\"><tr><td>Accuracy_mean</td><td>0.78146</td></tr><tr><td>Accuracy_std</td><td>0.03543</td></tr><tr><td>F1 Score_mean</td><td>0.76524</td></tr><tr><td>F1 Score_std</td><td>0.03655</td></tr><tr><td>Precision_mean</td><td>0.76854</td></tr><tr><td>Precision_std</td><td>0.03652</td></tr><tr><td>ROC-AUC_mean</td><td>0.93869</td></tr><tr><td>ROC-AUC_std</td><td>0.00961</td></tr><tr><td>Recall_mean</td><td>0.78146</td></tr><tr><td>Recall_std</td><td>0.03543</td></tr></table><br/></div></div>"
      ],
      "text/plain": [
       "<IPython.core.display.HTML object>"
      ]
     },
     "metadata": {},
     "output_type": "display_data"
    },
    {
     "data": {
      "text/html": [
       " View run <strong style=\"color:#cdcd00\">KNN_Audio Ablated 1</strong> at: <a href='https://wandb.ai/lequn/AudioVisual_ML_ablation_study_v2/runs/wlu7asbi' target=\"_blank\">https://wandb.ai/lequn/AudioVisual_ML_ablation_study_v2/runs/wlu7asbi</a><br/> View job at <a href='https://wandb.ai/lequn/AudioVisual_ML_ablation_study_v2/jobs/QXJ0aWZhY3RDb2xsZWN0aW9uOjExMTQ1OTc4Ng==/version_details/v23' target=\"_blank\">https://wandb.ai/lequn/AudioVisual_ML_ablation_study_v2/jobs/QXJ0aWZhY3RDb2xsZWN0aW9uOjExMTQ1OTc4Ng==/version_details/v23</a><br/>Synced 6 W&B file(s), 0 media file(s), 0 artifact file(s) and 0 other file(s)"
      ],
      "text/plain": [
       "<IPython.core.display.HTML object>"
      ]
     },
     "metadata": {},
     "output_type": "display_data"
    },
    {
     "data": {
      "text/html": [
       "Find logs at: <code>./wandb/run-20240305_120155-wlu7asbi/logs</code>"
      ],
      "text/plain": [
       "<IPython.core.display.HTML object>"
      ]
     },
     "metadata": {},
     "output_type": "display_data"
    },
    {
     "name": "stdout",
     "output_type": "stream",
     "text": [
      "\tTraining model: DT\n"
     ]
    },
    {
     "data": {
      "application/vnd.jupyter.widget-view+json": {
       "model_id": "bd3e382683b04a3a9ac1e869ea822568",
       "version_major": 2,
       "version_minor": 0
      },
      "text/plain": [
       "VBox(children=(Label(value='Waiting for wandb.init()...\\r'), FloatProgress(value=0.011113798477779508, max=1.0…"
      ]
     },
     "metadata": {},
     "output_type": "display_data"
    },
    {
     "data": {
      "text/html": [
       "wandb version 0.16.3 is available!  To upgrade, please run:\n",
       " $ pip install wandb --upgrade"
      ],
      "text/plain": [
       "<IPython.core.display.HTML object>"
      ]
     },
     "metadata": {},
     "output_type": "display_data"
    },
    {
     "data": {
      "text/html": [
       "Tracking run with wandb version 0.15.12"
      ],
      "text/plain": [
       "<IPython.core.display.HTML object>"
      ]
     },
     "metadata": {},
     "output_type": "display_data"
    },
    {
     "data": {
      "text/html": [
       "Run data is saved locally in <code>/home/chenlequn/GitHub/LDED-FusionNet/code/wandb/run-20240305_120208-xctu4plr</code>"
      ],
      "text/plain": [
       "<IPython.core.display.HTML object>"
      ]
     },
     "metadata": {},
     "output_type": "display_data"
    },
    {
     "data": {
      "text/html": [
       "Syncing run <strong><a href='https://wandb.ai/lequn/AudioVisual_ML_ablation_study_v2/runs/xctu4plr' target=\"_blank\">DT_Audio Ablated 1</a></strong> to <a href='https://wandb.ai/lequn/AudioVisual_ML_ablation_study_v2' target=\"_blank\">Weights & Biases</a> (<a href='https://wandb.me/run' target=\"_blank\">docs</a>)<br/>"
      ],
      "text/plain": [
       "<IPython.core.display.HTML object>"
      ]
     },
     "metadata": {},
     "output_type": "display_data"
    },
    {
     "data": {
      "text/html": [
       " View project at <a href='https://wandb.ai/lequn/AudioVisual_ML_ablation_study_v2' target=\"_blank\">https://wandb.ai/lequn/AudioVisual_ML_ablation_study_v2</a>"
      ],
      "text/plain": [
       "<IPython.core.display.HTML object>"
      ]
     },
     "metadata": {},
     "output_type": "display_data"
    },
    {
     "data": {
      "text/html": [
       " View run at <a href='https://wandb.ai/lequn/AudioVisual_ML_ablation_study_v2/runs/xctu4plr' target=\"_blank\">https://wandb.ai/lequn/AudioVisual_ML_ablation_study_v2/runs/xctu4plr</a>"
      ],
      "text/plain": [
       "<IPython.core.display.HTML object>"
      ]
     },
     "metadata": {},
     "output_type": "display_data"
    },
    {
     "name": "stdout",
     "output_type": "stream",
     "text": [
      "\t\tAccuracy: Mean = 0.7208274894810659, Std = 0.03550089797766432\n",
      "\t\tF1 Score: Mean = 0.7228704339045311, Std = 0.04013325068665368\n",
      "\t\tPrecision: Mean = 0.7319518599815914, Std = 0.04665930979045353\n",
      "\t\tRecall: Mean = 0.7208274894810659, Std = 0.03550089797766432\n",
      "\t\tROC-AUC: Mean = 0.8607846296608873, Std = 0.026250849261362764\n"
     ]
    },
    {
     "data": {
      "text/html": [
       "Waiting for W&B process to finish... <strong style=\"color:green\">(success).</strong>"
      ],
      "text/plain": [
       "<IPython.core.display.HTML object>"
      ]
     },
     "metadata": {},
     "output_type": "display_data"
    },
    {
     "data": {
      "text/html": [
       "<style>\n",
       "    table.wandb td:nth-child(1) { padding: 0 10px; text-align: left ; width: auto;} td:nth-child(2) {text-align: left ; width: 100%}\n",
       "    .wandb-row { display: flex; flex-direction: row; flex-wrap: wrap; justify-content: flex-start; width: 100% }\n",
       "    .wandb-col { display: flex; flex-direction: column; flex-basis: 100%; flex: 1; padding: 10px; }\n",
       "    </style>\n",
       "<div class=\"wandb-row\"><div class=\"wandb-col\"><h3>Run history:</h3><br/><table class=\"wandb\"><tr><td>Accuracy_mean</td><td>▁</td></tr><tr><td>Accuracy_std</td><td>▁</td></tr><tr><td>F1 Score_mean</td><td>▁</td></tr><tr><td>F1 Score_std</td><td>▁</td></tr><tr><td>Precision_mean</td><td>▁</td></tr><tr><td>Precision_std</td><td>▁</td></tr><tr><td>ROC-AUC_mean</td><td>▁</td></tr><tr><td>ROC-AUC_std</td><td>▁</td></tr><tr><td>Recall_mean</td><td>▁</td></tr><tr><td>Recall_std</td><td>▁</td></tr></table><br/></div><div class=\"wandb-col\"><h3>Run summary:</h3><br/><table class=\"wandb\"><tr><td>Accuracy_mean</td><td>0.72083</td></tr><tr><td>Accuracy_std</td><td>0.0355</td></tr><tr><td>F1 Score_mean</td><td>0.72287</td></tr><tr><td>F1 Score_std</td><td>0.04013</td></tr><tr><td>Precision_mean</td><td>0.73195</td></tr><tr><td>Precision_std</td><td>0.04666</td></tr><tr><td>ROC-AUC_mean</td><td>0.86078</td></tr><tr><td>ROC-AUC_std</td><td>0.02625</td></tr><tr><td>Recall_mean</td><td>0.72083</td></tr><tr><td>Recall_std</td><td>0.0355</td></tr></table><br/></div></div>"
      ],
      "text/plain": [
       "<IPython.core.display.HTML object>"
      ]
     },
     "metadata": {},
     "output_type": "display_data"
    },
    {
     "data": {
      "text/html": [
       " View run <strong style=\"color:#cdcd00\">DT_Audio Ablated 1</strong> at: <a href='https://wandb.ai/lequn/AudioVisual_ML_ablation_study_v2/runs/xctu4plr' target=\"_blank\">https://wandb.ai/lequn/AudioVisual_ML_ablation_study_v2/runs/xctu4plr</a><br/> View job at <a href='https://wandb.ai/lequn/AudioVisual_ML_ablation_study_v2/jobs/QXJ0aWZhY3RDb2xsZWN0aW9uOjExMTQ1OTc4Ng==/version_details/v23' target=\"_blank\">https://wandb.ai/lequn/AudioVisual_ML_ablation_study_v2/jobs/QXJ0aWZhY3RDb2xsZWN0aW9uOjExMTQ1OTc4Ng==/version_details/v23</a><br/>Synced 6 W&B file(s), 0 media file(s), 0 artifact file(s) and 0 other file(s)"
      ],
      "text/plain": [
       "<IPython.core.display.HTML object>"
      ]
     },
     "metadata": {},
     "output_type": "display_data"
    },
    {
     "data": {
      "text/html": [
       "Find logs at: <code>./wandb/run-20240305_120208-xctu4plr/logs</code>"
      ],
      "text/plain": [
       "<IPython.core.display.HTML object>"
      ]
     },
     "metadata": {},
     "output_type": "display_data"
    },
    {
     "name": "stdout",
     "output_type": "stream",
     "text": [
      "\tTraining model: RF\n"
     ]
    },
    {
     "data": {
      "application/vnd.jupyter.widget-view+json": {
       "model_id": "c323dde61a864a7cb21ef1af1eb3aaa4",
       "version_major": 2,
       "version_minor": 0
      },
      "text/plain": [
       "VBox(children=(Label(value='Waiting for wandb.init()...\\r'), FloatProgress(value=0.011113232355556748, max=1.0…"
      ]
     },
     "metadata": {},
     "output_type": "display_data"
    },
    {
     "data": {
      "text/html": [
       "wandb version 0.16.3 is available!  To upgrade, please run:\n",
       " $ pip install wandb --upgrade"
      ],
      "text/plain": [
       "<IPython.core.display.HTML object>"
      ]
     },
     "metadata": {},
     "output_type": "display_data"
    },
    {
     "data": {
      "text/html": [
       "Tracking run with wandb version 0.15.12"
      ],
      "text/plain": [
       "<IPython.core.display.HTML object>"
      ]
     },
     "metadata": {},
     "output_type": "display_data"
    },
    {
     "data": {
      "text/html": [
       "Run data is saved locally in <code>/home/chenlequn/GitHub/LDED-FusionNet/code/wandb/run-20240305_120220-6er10uk2</code>"
      ],
      "text/plain": [
       "<IPython.core.display.HTML object>"
      ]
     },
     "metadata": {},
     "output_type": "display_data"
    },
    {
     "data": {
      "text/html": [
       "Syncing run <strong><a href='https://wandb.ai/lequn/AudioVisual_ML_ablation_study_v2/runs/6er10uk2' target=\"_blank\">RF_Audio Ablated 1</a></strong> to <a href='https://wandb.ai/lequn/AudioVisual_ML_ablation_study_v2' target=\"_blank\">Weights & Biases</a> (<a href='https://wandb.me/run' target=\"_blank\">docs</a>)<br/>"
      ],
      "text/plain": [
       "<IPython.core.display.HTML object>"
      ]
     },
     "metadata": {},
     "output_type": "display_data"
    },
    {
     "data": {
      "text/html": [
       " View project at <a href='https://wandb.ai/lequn/AudioVisual_ML_ablation_study_v2' target=\"_blank\">https://wandb.ai/lequn/AudioVisual_ML_ablation_study_v2</a>"
      ],
      "text/plain": [
       "<IPython.core.display.HTML object>"
      ]
     },
     "metadata": {},
     "output_type": "display_data"
    },
    {
     "data": {
      "text/html": [
       " View run at <a href='https://wandb.ai/lequn/AudioVisual_ML_ablation_study_v2/runs/6er10uk2' target=\"_blank\">https://wandb.ai/lequn/AudioVisual_ML_ablation_study_v2/runs/6er10uk2</a>"
      ],
      "text/plain": [
       "<IPython.core.display.HTML object>"
      ]
     },
     "metadata": {},
     "output_type": "display_data"
    },
    {
     "name": "stdout",
     "output_type": "stream",
     "text": [
      "\t\tAccuracy: Mean = 0.8094904160822814, Std = 0.03733638997265139\n",
      "\t\tF1 Score: Mean = 0.7992874548503651, Std = 0.03734066394169523\n",
      "\t\tPrecision: Mean = 0.8026538124788785, Std = 0.04653436365074187\n",
      "\t\tRecall: Mean = 0.8094904160822814, Std = 0.03733638997265139\n",
      "\t\tROC-AUC: Mean = 0.9547134291623026, Std = 0.0139850063382988\n"
     ]
    },
    {
     "name": "stderr",
     "output_type": "stream",
     "text": [
      "/home/chenlequn/anaconda3/envs/torch/lib/python3.9/site-packages/sklearn/metrics/_classification.py:1344: UndefinedMetricWarning: Precision is ill-defined and being set to 0.0 in labels with no predicted samples. Use `zero_division` parameter to control this behavior.\n",
      "  _warn_prf(average, modifier, msg_start, len(result))\n"
     ]
    },
    {
     "data": {
      "text/html": [
       "Waiting for W&B process to finish... <strong style=\"color:green\">(success).</strong>"
      ],
      "text/plain": [
       "<IPython.core.display.HTML object>"
      ]
     },
     "metadata": {},
     "output_type": "display_data"
    },
    {
     "data": {
      "text/html": [
       "<style>\n",
       "    table.wandb td:nth-child(1) { padding: 0 10px; text-align: left ; width: auto;} td:nth-child(2) {text-align: left ; width: 100%}\n",
       "    .wandb-row { display: flex; flex-direction: row; flex-wrap: wrap; justify-content: flex-start; width: 100% }\n",
       "    .wandb-col { display: flex; flex-direction: column; flex-basis: 100%; flex: 1; padding: 10px; }\n",
       "    </style>\n",
       "<div class=\"wandb-row\"><div class=\"wandb-col\"><h3>Run history:</h3><br/><table class=\"wandb\"><tr><td>Accuracy_mean</td><td>▁</td></tr><tr><td>Accuracy_std</td><td>▁</td></tr><tr><td>F1 Score_mean</td><td>▁</td></tr><tr><td>F1 Score_std</td><td>▁</td></tr><tr><td>Precision_mean</td><td>▁</td></tr><tr><td>Precision_std</td><td>▁</td></tr><tr><td>ROC-AUC_mean</td><td>▁</td></tr><tr><td>ROC-AUC_std</td><td>▁</td></tr><tr><td>Recall_mean</td><td>▁</td></tr><tr><td>Recall_std</td><td>▁</td></tr></table><br/></div><div class=\"wandb-col\"><h3>Run summary:</h3><br/><table class=\"wandb\"><tr><td>Accuracy_mean</td><td>0.80949</td></tr><tr><td>Accuracy_std</td><td>0.03734</td></tr><tr><td>F1 Score_mean</td><td>0.79929</td></tr><tr><td>F1 Score_std</td><td>0.03734</td></tr><tr><td>Precision_mean</td><td>0.80265</td></tr><tr><td>Precision_std</td><td>0.04653</td></tr><tr><td>ROC-AUC_mean</td><td>0.95471</td></tr><tr><td>ROC-AUC_std</td><td>0.01399</td></tr><tr><td>Recall_mean</td><td>0.80949</td></tr><tr><td>Recall_std</td><td>0.03734</td></tr></table><br/></div></div>"
      ],
      "text/plain": [
       "<IPython.core.display.HTML object>"
      ]
     },
     "metadata": {},
     "output_type": "display_data"
    },
    {
     "data": {
      "text/html": [
       " View run <strong style=\"color:#cdcd00\">RF_Audio Ablated 1</strong> at: <a href='https://wandb.ai/lequn/AudioVisual_ML_ablation_study_v2/runs/6er10uk2' target=\"_blank\">https://wandb.ai/lequn/AudioVisual_ML_ablation_study_v2/runs/6er10uk2</a><br/> View job at <a href='https://wandb.ai/lequn/AudioVisual_ML_ablation_study_v2/jobs/QXJ0aWZhY3RDb2xsZWN0aW9uOjExMTQ1OTc4Ng==/version_details/v23' target=\"_blank\">https://wandb.ai/lequn/AudioVisual_ML_ablation_study_v2/jobs/QXJ0aWZhY3RDb2xsZWN0aW9uOjExMTQ1OTc4Ng==/version_details/v23</a><br/>Synced 6 W&B file(s), 0 media file(s), 0 artifact file(s) and 0 other file(s)"
      ],
      "text/plain": [
       "<IPython.core.display.HTML object>"
      ]
     },
     "metadata": {},
     "output_type": "display_data"
    },
    {
     "data": {
      "text/html": [
       "Find logs at: <code>./wandb/run-20240305_120220-6er10uk2/logs</code>"
      ],
      "text/plain": [
       "<IPython.core.display.HTML object>"
      ]
     },
     "metadata": {},
     "output_type": "display_data"
    },
    {
     "name": "stdout",
     "output_type": "stream",
     "text": [
      "\tTraining model: BalancedRF\n"
     ]
    },
    {
     "data": {
      "application/vnd.jupyter.widget-view+json": {
       "model_id": "61245319be2c4f84a6eb582b73df6c3f",
       "version_major": 2,
       "version_minor": 0
      },
      "text/plain": [
       "VBox(children=(Label(value='Waiting for wandb.init()...\\r'), FloatProgress(value=0.011113851144445006, max=1.0…"
      ]
     },
     "metadata": {},
     "output_type": "display_data"
    },
    {
     "data": {
      "text/html": [
       "wandb version 0.16.3 is available!  To upgrade, please run:\n",
       " $ pip install wandb --upgrade"
      ],
      "text/plain": [
       "<IPython.core.display.HTML object>"
      ]
     },
     "metadata": {},
     "output_type": "display_data"
    },
    {
     "data": {
      "text/html": [
       "Tracking run with wandb version 0.15.12"
      ],
      "text/plain": [
       "<IPython.core.display.HTML object>"
      ]
     },
     "metadata": {},
     "output_type": "display_data"
    },
    {
     "data": {
      "text/html": [
       "Run data is saved locally in <code>/home/chenlequn/GitHub/LDED-FusionNet/code/wandb/run-20240305_120234-cbs5el1k</code>"
      ],
      "text/plain": [
       "<IPython.core.display.HTML object>"
      ]
     },
     "metadata": {},
     "output_type": "display_data"
    },
    {
     "data": {
      "text/html": [
       "Syncing run <strong><a href='https://wandb.ai/lequn/AudioVisual_ML_ablation_study_v2/runs/cbs5el1k' target=\"_blank\">BalancedRF_Audio Ablated 1</a></strong> to <a href='https://wandb.ai/lequn/AudioVisual_ML_ablation_study_v2' target=\"_blank\">Weights & Biases</a> (<a href='https://wandb.me/run' target=\"_blank\">docs</a>)<br/>"
      ],
      "text/plain": [
       "<IPython.core.display.HTML object>"
      ]
     },
     "metadata": {},
     "output_type": "display_data"
    },
    {
     "data": {
      "text/html": [
       " View project at <a href='https://wandb.ai/lequn/AudioVisual_ML_ablation_study_v2' target=\"_blank\">https://wandb.ai/lequn/AudioVisual_ML_ablation_study_v2</a>"
      ],
      "text/plain": [
       "<IPython.core.display.HTML object>"
      ]
     },
     "metadata": {},
     "output_type": "display_data"
    },
    {
     "data": {
      "text/html": [
       " View run at <a href='https://wandb.ai/lequn/AudioVisual_ML_ablation_study_v2/runs/cbs5el1k' target=\"_blank\">https://wandb.ai/lequn/AudioVisual_ML_ablation_study_v2/runs/cbs5el1k</a>"
      ],
      "text/plain": [
       "<IPython.core.display.HTML object>"
      ]
     },
     "metadata": {},
     "output_type": "display_data"
    },
    {
     "name": "stderr",
     "output_type": "stream",
     "text": [
      "/home/chenlequn/anaconda3/envs/torch/lib/python3.9/site-packages/imblearn/ensemble/_forest.py:546: FutureWarning: The default of `sampling_strategy` will change from `'auto'` to `'all'` in version 0.13. This change will follow the implementation proposed in the original paper. Set to `'all'` to silence this warning and adopt the future behaviour.\n",
      "  warn(\n",
      "/home/chenlequn/anaconda3/envs/torch/lib/python3.9/site-packages/imblearn/ensemble/_forest.py:558: FutureWarning: The default of `replacement` will change from `False` to `True` in version 0.13. This change will follow the implementation proposed in the original paper. Set to `True` to silence this warning and adopt the future behaviour.\n",
      "  warn(\n"
     ]
    },
    {
     "name": "stdout",
     "output_type": "stream",
     "text": [
      "\t\tAccuracy: Mean = 0.7705236091631603, Std = 0.03259110489186567\n",
      "\t\tF1 Score: Mean = 0.7728063800436397, Std = 0.039633292804632264\n",
      "\t\tPrecision: Mean = 0.7888618771747651, Std = 0.05265473108785812\n",
      "\t\tRecall: Mean = 0.7705236091631603, Std = 0.03259110489186567\n",
      "\t\tROC-AUC: Mean = 0.941941672850648, Std = 0.014931238485908804\n"
     ]
    },
    {
     "data": {
      "text/html": [
       "Waiting for W&B process to finish... <strong style=\"color:green\">(success).</strong>"
      ],
      "text/plain": [
       "<IPython.core.display.HTML object>"
      ]
     },
     "metadata": {},
     "output_type": "display_data"
    },
    {
     "data": {
      "text/html": [
       "<style>\n",
       "    table.wandb td:nth-child(1) { padding: 0 10px; text-align: left ; width: auto;} td:nth-child(2) {text-align: left ; width: 100%}\n",
       "    .wandb-row { display: flex; flex-direction: row; flex-wrap: wrap; justify-content: flex-start; width: 100% }\n",
       "    .wandb-col { display: flex; flex-direction: column; flex-basis: 100%; flex: 1; padding: 10px; }\n",
       "    </style>\n",
       "<div class=\"wandb-row\"><div class=\"wandb-col\"><h3>Run history:</h3><br/><table class=\"wandb\"><tr><td>Accuracy_mean</td><td>▁</td></tr><tr><td>Accuracy_std</td><td>▁</td></tr><tr><td>F1 Score_mean</td><td>▁</td></tr><tr><td>F1 Score_std</td><td>▁</td></tr><tr><td>Precision_mean</td><td>▁</td></tr><tr><td>Precision_std</td><td>▁</td></tr><tr><td>ROC-AUC_mean</td><td>▁</td></tr><tr><td>ROC-AUC_std</td><td>▁</td></tr><tr><td>Recall_mean</td><td>▁</td></tr><tr><td>Recall_std</td><td>▁</td></tr></table><br/></div><div class=\"wandb-col\"><h3>Run summary:</h3><br/><table class=\"wandb\"><tr><td>Accuracy_mean</td><td>0.77052</td></tr><tr><td>Accuracy_std</td><td>0.03259</td></tr><tr><td>F1 Score_mean</td><td>0.77281</td></tr><tr><td>F1 Score_std</td><td>0.03963</td></tr><tr><td>Precision_mean</td><td>0.78886</td></tr><tr><td>Precision_std</td><td>0.05265</td></tr><tr><td>ROC-AUC_mean</td><td>0.94194</td></tr><tr><td>ROC-AUC_std</td><td>0.01493</td></tr><tr><td>Recall_mean</td><td>0.77052</td></tr><tr><td>Recall_std</td><td>0.03259</td></tr></table><br/></div></div>"
      ],
      "text/plain": [
       "<IPython.core.display.HTML object>"
      ]
     },
     "metadata": {},
     "output_type": "display_data"
    },
    {
     "data": {
      "text/html": [
       " View run <strong style=\"color:#cdcd00\">BalancedRF_Audio Ablated 1</strong> at: <a href='https://wandb.ai/lequn/AudioVisual_ML_ablation_study_v2/runs/cbs5el1k' target=\"_blank\">https://wandb.ai/lequn/AudioVisual_ML_ablation_study_v2/runs/cbs5el1k</a><br/> View job at <a href='https://wandb.ai/lequn/AudioVisual_ML_ablation_study_v2/jobs/QXJ0aWZhY3RDb2xsZWN0aW9uOjExMTQ1OTc4Ng==/version_details/v23' target=\"_blank\">https://wandb.ai/lequn/AudioVisual_ML_ablation_study_v2/jobs/QXJ0aWZhY3RDb2xsZWN0aW9uOjExMTQ1OTc4Ng==/version_details/v23</a><br/>Synced 6 W&B file(s), 0 media file(s), 0 artifact file(s) and 0 other file(s)"
      ],
      "text/plain": [
       "<IPython.core.display.HTML object>"
      ]
     },
     "metadata": {},
     "output_type": "display_data"
    },
    {
     "data": {
      "text/html": [
       "Find logs at: <code>./wandb/run-20240305_120234-cbs5el1k/logs</code>"
      ],
      "text/plain": [
       "<IPython.core.display.HTML object>"
      ]
     },
     "metadata": {},
     "output_type": "display_data"
    },
    {
     "name": "stdout",
     "output_type": "stream",
     "text": [
      "\tTraining model: RUSBoost\n"
     ]
    },
    {
     "data": {
      "application/vnd.jupyter.widget-view+json": {
       "model_id": "50befe54bbf74995a7f359d048810543",
       "version_major": 2,
       "version_minor": 0
      },
      "text/plain": [
       "VBox(children=(Label(value='Waiting for wandb.init()...\\r'), FloatProgress(value=0.011113120999996479, max=1.0…"
      ]
     },
     "metadata": {},
     "output_type": "display_data"
    },
    {
     "data": {
      "text/html": [
       "wandb version 0.16.3 is available!  To upgrade, please run:\n",
       " $ pip install wandb --upgrade"
      ],
      "text/plain": [
       "<IPython.core.display.HTML object>"
      ]
     },
     "metadata": {},
     "output_type": "display_data"
    },
    {
     "data": {
      "text/html": [
       "Tracking run with wandb version 0.15.12"
      ],
      "text/plain": [
       "<IPython.core.display.HTML object>"
      ]
     },
     "metadata": {},
     "output_type": "display_data"
    },
    {
     "data": {
      "text/html": [
       "Run data is saved locally in <code>/home/chenlequn/GitHub/LDED-FusionNet/code/wandb/run-20240305_120247-2nnn11yu</code>"
      ],
      "text/plain": [
       "<IPython.core.display.HTML object>"
      ]
     },
     "metadata": {},
     "output_type": "display_data"
    },
    {
     "data": {
      "text/html": [
       "Syncing run <strong><a href='https://wandb.ai/lequn/AudioVisual_ML_ablation_study_v2/runs/2nnn11yu' target=\"_blank\">RUSBoost_Audio Ablated 1</a></strong> to <a href='https://wandb.ai/lequn/AudioVisual_ML_ablation_study_v2' target=\"_blank\">Weights & Biases</a> (<a href='https://wandb.me/run' target=\"_blank\">docs</a>)<br/>"
      ],
      "text/plain": [
       "<IPython.core.display.HTML object>"
      ]
     },
     "metadata": {},
     "output_type": "display_data"
    },
    {
     "data": {
      "text/html": [
       " View project at <a href='https://wandb.ai/lequn/AudioVisual_ML_ablation_study_v2' target=\"_blank\">https://wandb.ai/lequn/AudioVisual_ML_ablation_study_v2</a>"
      ],
      "text/plain": [
       "<IPython.core.display.HTML object>"
      ]
     },
     "metadata": {},
     "output_type": "display_data"
    },
    {
     "data": {
      "text/html": [
       " View run at <a href='https://wandb.ai/lequn/AudioVisual_ML_ablation_study_v2/runs/2nnn11yu' target=\"_blank\">https://wandb.ai/lequn/AudioVisual_ML_ablation_study_v2/runs/2nnn11yu</a>"
      ],
      "text/plain": [
       "<IPython.core.display.HTML object>"
      ]
     },
     "metadata": {},
     "output_type": "display_data"
    },
    {
     "name": "stdout",
     "output_type": "stream",
     "text": [
      "\t\tAccuracy: Mean = 0.6884057971014493, Std = 0.04274256029369755\n",
      "\t\tF1 Score: Mean = 0.698214042029804, Std = 0.053816034266204404\n",
      "\t\tPrecision: Mean = 0.7187487870248184, Std = 0.06817851569963519\n",
      "\t\tRecall: Mean = 0.6884057971014493, Std = 0.04274256029369755\n",
      "\t\tROC-AUC: Mean = 0.8933068349975081, Std = 0.02647794784833094\n"
     ]
    },
    {
     "data": {
      "text/html": [
       "Waiting for W&B process to finish... <strong style=\"color:green\">(success).</strong>"
      ],
      "text/plain": [
       "<IPython.core.display.HTML object>"
      ]
     },
     "metadata": {},
     "output_type": "display_data"
    },
    {
     "data": {
      "text/html": [
       "<style>\n",
       "    table.wandb td:nth-child(1) { padding: 0 10px; text-align: left ; width: auto;} td:nth-child(2) {text-align: left ; width: 100%}\n",
       "    .wandb-row { display: flex; flex-direction: row; flex-wrap: wrap; justify-content: flex-start; width: 100% }\n",
       "    .wandb-col { display: flex; flex-direction: column; flex-basis: 100%; flex: 1; padding: 10px; }\n",
       "    </style>\n",
       "<div class=\"wandb-row\"><div class=\"wandb-col\"><h3>Run history:</h3><br/><table class=\"wandb\"><tr><td>Accuracy_mean</td><td>▁</td></tr><tr><td>Accuracy_std</td><td>▁</td></tr><tr><td>F1 Score_mean</td><td>▁</td></tr><tr><td>F1 Score_std</td><td>▁</td></tr><tr><td>Precision_mean</td><td>▁</td></tr><tr><td>Precision_std</td><td>▁</td></tr><tr><td>ROC-AUC_mean</td><td>▁</td></tr><tr><td>ROC-AUC_std</td><td>▁</td></tr><tr><td>Recall_mean</td><td>▁</td></tr><tr><td>Recall_std</td><td>▁</td></tr></table><br/></div><div class=\"wandb-col\"><h3>Run summary:</h3><br/><table class=\"wandb\"><tr><td>Accuracy_mean</td><td>0.68841</td></tr><tr><td>Accuracy_std</td><td>0.04274</td></tr><tr><td>F1 Score_mean</td><td>0.69821</td></tr><tr><td>F1 Score_std</td><td>0.05382</td></tr><tr><td>Precision_mean</td><td>0.71875</td></tr><tr><td>Precision_std</td><td>0.06818</td></tr><tr><td>ROC-AUC_mean</td><td>0.89331</td></tr><tr><td>ROC-AUC_std</td><td>0.02648</td></tr><tr><td>Recall_mean</td><td>0.68841</td></tr><tr><td>Recall_std</td><td>0.04274</td></tr></table><br/></div></div>"
      ],
      "text/plain": [
       "<IPython.core.display.HTML object>"
      ]
     },
     "metadata": {},
     "output_type": "display_data"
    },
    {
     "data": {
      "text/html": [
       " View run <strong style=\"color:#cdcd00\">RUSBoost_Audio Ablated 1</strong> at: <a href='https://wandb.ai/lequn/AudioVisual_ML_ablation_study_v2/runs/2nnn11yu' target=\"_blank\">https://wandb.ai/lequn/AudioVisual_ML_ablation_study_v2/runs/2nnn11yu</a><br/> View job at <a href='https://wandb.ai/lequn/AudioVisual_ML_ablation_study_v2/jobs/QXJ0aWZhY3RDb2xsZWN0aW9uOjExMTQ1OTc4Ng==/version_details/v23' target=\"_blank\">https://wandb.ai/lequn/AudioVisual_ML_ablation_study_v2/jobs/QXJ0aWZhY3RDb2xsZWN0aW9uOjExMTQ1OTc4Ng==/version_details/v23</a><br/>Synced 6 W&B file(s), 0 media file(s), 0 artifact file(s) and 0 other file(s)"
      ],
      "text/plain": [
       "<IPython.core.display.HTML object>"
      ]
     },
     "metadata": {},
     "output_type": "display_data"
    },
    {
     "data": {
      "text/html": [
       "Find logs at: <code>./wandb/run-20240305_120247-2nnn11yu/logs</code>"
      ],
      "text/plain": [
       "<IPython.core.display.HTML object>"
      ]
     },
     "metadata": {},
     "output_type": "display_data"
    },
    {
     "name": "stdout",
     "output_type": "stream",
     "text": [
      "\tTraining model: Ada\n"
     ]
    },
    {
     "data": {
      "application/vnd.jupyter.widget-view+json": {
       "model_id": "51adfd5cd4df4ee687249e3c23e38c97",
       "version_major": 2,
       "version_minor": 0
      },
      "text/plain": [
       "VBox(children=(Label(value='Waiting for wandb.init()...\\r'), FloatProgress(value=0.011112303822220485, max=1.0…"
      ]
     },
     "metadata": {},
     "output_type": "display_data"
    },
    {
     "data": {
      "text/html": [
       "wandb version 0.16.3 is available!  To upgrade, please run:\n",
       " $ pip install wandb --upgrade"
      ],
      "text/plain": [
       "<IPython.core.display.HTML object>"
      ]
     },
     "metadata": {},
     "output_type": "display_data"
    },
    {
     "data": {
      "text/html": [
       "Tracking run with wandb version 0.15.12"
      ],
      "text/plain": [
       "<IPython.core.display.HTML object>"
      ]
     },
     "metadata": {},
     "output_type": "display_data"
    },
    {
     "data": {
      "text/html": [
       "Run data is saved locally in <code>/home/chenlequn/GitHub/LDED-FusionNet/code/wandb/run-20240305_120258-umq0t0bb</code>"
      ],
      "text/plain": [
       "<IPython.core.display.HTML object>"
      ]
     },
     "metadata": {},
     "output_type": "display_data"
    },
    {
     "data": {
      "text/html": [
       "Syncing run <strong><a href='https://wandb.ai/lequn/AudioVisual_ML_ablation_study_v2/runs/umq0t0bb' target=\"_blank\">Ada_Audio Ablated 1</a></strong> to <a href='https://wandb.ai/lequn/AudioVisual_ML_ablation_study_v2' target=\"_blank\">Weights & Biases</a> (<a href='https://wandb.me/run' target=\"_blank\">docs</a>)<br/>"
      ],
      "text/plain": [
       "<IPython.core.display.HTML object>"
      ]
     },
     "metadata": {},
     "output_type": "display_data"
    },
    {
     "data": {
      "text/html": [
       " View project at <a href='https://wandb.ai/lequn/AudioVisual_ML_ablation_study_v2' target=\"_blank\">https://wandb.ai/lequn/AudioVisual_ML_ablation_study_v2</a>"
      ],
      "text/plain": [
       "<IPython.core.display.HTML object>"
      ]
     },
     "metadata": {},
     "output_type": "display_data"
    },
    {
     "data": {
      "text/html": [
       " View run at <a href='https://wandb.ai/lequn/AudioVisual_ML_ablation_study_v2/runs/umq0t0bb' target=\"_blank\">https://wandb.ai/lequn/AudioVisual_ML_ablation_study_v2/runs/umq0t0bb</a>"
      ],
      "text/plain": [
       "<IPython.core.display.HTML object>"
      ]
     },
     "metadata": {},
     "output_type": "display_data"
    },
    {
     "name": "stdout",
     "output_type": "stream",
     "text": [
      "\t\tAccuracy: Mean = 0.7208508648901356, Std = 0.06684327279495518\n",
      "\t\tF1 Score: Mean = 0.7088863751229352, Std = 0.0734138718666303\n",
      "\t\tPrecision: Mean = 0.7164260045004208, Std = 0.06750159217965945\n",
      "\t\tRecall: Mean = 0.7208508648901356, Std = 0.06684327279495518\n",
      "\t\tROC-AUC: Mean = 0.9017702871942248, Std = 0.01841213627168932\n"
     ]
    },
    {
     "name": "stderr",
     "output_type": "stream",
     "text": [
      "/home/chenlequn/anaconda3/envs/torch/lib/python3.9/site-packages/sklearn/metrics/_classification.py:1344: UndefinedMetricWarning: Precision is ill-defined and being set to 0.0 in labels with no predicted samples. Use `zero_division` parameter to control this behavior.\n",
      "  _warn_prf(average, modifier, msg_start, len(result))\n"
     ]
    },
    {
     "data": {
      "text/html": [
       "Waiting for W&B process to finish... <strong style=\"color:green\">(success).</strong>"
      ],
      "text/plain": [
       "<IPython.core.display.HTML object>"
      ]
     },
     "metadata": {},
     "output_type": "display_data"
    },
    {
     "data": {
      "text/html": [
       "<style>\n",
       "    table.wandb td:nth-child(1) { padding: 0 10px; text-align: left ; width: auto;} td:nth-child(2) {text-align: left ; width: 100%}\n",
       "    .wandb-row { display: flex; flex-direction: row; flex-wrap: wrap; justify-content: flex-start; width: 100% }\n",
       "    .wandb-col { display: flex; flex-direction: column; flex-basis: 100%; flex: 1; padding: 10px; }\n",
       "    </style>\n",
       "<div class=\"wandb-row\"><div class=\"wandb-col\"><h3>Run history:</h3><br/><table class=\"wandb\"><tr><td>Accuracy_mean</td><td>▁</td></tr><tr><td>Accuracy_std</td><td>▁</td></tr><tr><td>F1 Score_mean</td><td>▁</td></tr><tr><td>F1 Score_std</td><td>▁</td></tr><tr><td>Precision_mean</td><td>▁</td></tr><tr><td>Precision_std</td><td>▁</td></tr><tr><td>ROC-AUC_mean</td><td>▁</td></tr><tr><td>ROC-AUC_std</td><td>▁</td></tr><tr><td>Recall_mean</td><td>▁</td></tr><tr><td>Recall_std</td><td>▁</td></tr></table><br/></div><div class=\"wandb-col\"><h3>Run summary:</h3><br/><table class=\"wandb\"><tr><td>Accuracy_mean</td><td>0.72085</td></tr><tr><td>Accuracy_std</td><td>0.06684</td></tr><tr><td>F1 Score_mean</td><td>0.70889</td></tr><tr><td>F1 Score_std</td><td>0.07341</td></tr><tr><td>Precision_mean</td><td>0.71643</td></tr><tr><td>Precision_std</td><td>0.0675</td></tr><tr><td>ROC-AUC_mean</td><td>0.90177</td></tr><tr><td>ROC-AUC_std</td><td>0.01841</td></tr><tr><td>Recall_mean</td><td>0.72085</td></tr><tr><td>Recall_std</td><td>0.06684</td></tr></table><br/></div></div>"
      ],
      "text/plain": [
       "<IPython.core.display.HTML object>"
      ]
     },
     "metadata": {},
     "output_type": "display_data"
    },
    {
     "data": {
      "text/html": [
       " View run <strong style=\"color:#cdcd00\">Ada_Audio Ablated 1</strong> at: <a href='https://wandb.ai/lequn/AudioVisual_ML_ablation_study_v2/runs/umq0t0bb' target=\"_blank\">https://wandb.ai/lequn/AudioVisual_ML_ablation_study_v2/runs/umq0t0bb</a><br/> View job at <a href='https://wandb.ai/lequn/AudioVisual_ML_ablation_study_v2/jobs/QXJ0aWZhY3RDb2xsZWN0aW9uOjExMTQ1OTc4Ng==/version_details/v23' target=\"_blank\">https://wandb.ai/lequn/AudioVisual_ML_ablation_study_v2/jobs/QXJ0aWZhY3RDb2xsZWN0aW9uOjExMTQ1OTc4Ng==/version_details/v23</a><br/>Synced 6 W&B file(s), 0 media file(s), 0 artifact file(s) and 0 other file(s)"
      ],
      "text/plain": [
       "<IPython.core.display.HTML object>"
      ]
     },
     "metadata": {},
     "output_type": "display_data"
    },
    {
     "data": {
      "text/html": [
       "Find logs at: <code>./wandb/run-20240305_120258-umq0t0bb/logs</code>"
      ],
      "text/plain": [
       "<IPython.core.display.HTML object>"
      ]
     },
     "metadata": {},
     "output_type": "display_data"
    },
    {
     "name": "stdout",
     "output_type": "stream",
     "text": [
      "\tTraining model: NN\n"
     ]
    },
    {
     "data": {
      "application/vnd.jupyter.widget-view+json": {
       "model_id": "8de30d286c6b4d81a2a9339b0e4de288",
       "version_major": 2,
       "version_minor": 0
      },
      "text/plain": [
       "VBox(children=(Label(value='Waiting for wandb.init()...\\r'), FloatProgress(value=0.011112453822230842, max=1.0…"
      ]
     },
     "metadata": {},
     "output_type": "display_data"
    },
    {
     "data": {
      "text/html": [
       "wandb version 0.16.3 is available!  To upgrade, please run:\n",
       " $ pip install wandb --upgrade"
      ],
      "text/plain": [
       "<IPython.core.display.HTML object>"
      ]
     },
     "metadata": {},
     "output_type": "display_data"
    },
    {
     "data": {
      "text/html": [
       "Tracking run with wandb version 0.15.12"
      ],
      "text/plain": [
       "<IPython.core.display.HTML object>"
      ]
     },
     "metadata": {},
     "output_type": "display_data"
    },
    {
     "data": {
      "text/html": [
       "Run data is saved locally in <code>/home/chenlequn/GitHub/LDED-FusionNet/code/wandb/run-20240305_120312-nui4wyfu</code>"
      ],
      "text/plain": [
       "<IPython.core.display.HTML object>"
      ]
     },
     "metadata": {},
     "output_type": "display_data"
    },
    {
     "data": {
      "text/html": [
       "Syncing run <strong><a href='https://wandb.ai/lequn/AudioVisual_ML_ablation_study_v2/runs/nui4wyfu' target=\"_blank\">NN_Audio Ablated 1</a></strong> to <a href='https://wandb.ai/lequn/AudioVisual_ML_ablation_study_v2' target=\"_blank\">Weights & Biases</a> (<a href='https://wandb.me/run' target=\"_blank\">docs</a>)<br/>"
      ],
      "text/plain": [
       "<IPython.core.display.HTML object>"
      ]
     },
     "metadata": {},
     "output_type": "display_data"
    },
    {
     "data": {
      "text/html": [
       " View project at <a href='https://wandb.ai/lequn/AudioVisual_ML_ablation_study_v2' target=\"_blank\">https://wandb.ai/lequn/AudioVisual_ML_ablation_study_v2</a>"
      ],
      "text/plain": [
       "<IPython.core.display.HTML object>"
      ]
     },
     "metadata": {},
     "output_type": "display_data"
    },
    {
     "data": {
      "text/html": [
       " View run at <a href='https://wandb.ai/lequn/AudioVisual_ML_ablation_study_v2/runs/nui4wyfu' target=\"_blank\">https://wandb.ai/lequn/AudioVisual_ML_ablation_study_v2/runs/nui4wyfu</a>"
      ],
      "text/plain": [
       "<IPython.core.display.HTML object>"
      ]
     },
     "metadata": {},
     "output_type": "display_data"
    },
    {
     "name": "stdout",
     "output_type": "stream",
     "text": [
      "\t\tAccuracy: Mean = 0.8744974287050022, Std = 0.04878657877383371\n",
      "\t\tF1 Score: Mean = 0.8726794012382705, Std = 0.047829759250681794\n",
      "\t\tPrecision: Mean = 0.8776473991377876, Std = 0.05075354591123404\n",
      "\t\tRecall: Mean = 0.8744974287050022, Std = 0.04878657877383371\n",
      "\t\tROC-AUC: Mean = 0.9719407311160568, Std = 0.007976875677825592\n"
     ]
    },
    {
     "data": {
      "text/html": [
       "Waiting for W&B process to finish... <strong style=\"color:green\">(success).</strong>"
      ],
      "text/plain": [
       "<IPython.core.display.HTML object>"
      ]
     },
     "metadata": {},
     "output_type": "display_data"
    },
    {
     "data": {
      "text/html": [
       "<style>\n",
       "    table.wandb td:nth-child(1) { padding: 0 10px; text-align: left ; width: auto;} td:nth-child(2) {text-align: left ; width: 100%}\n",
       "    .wandb-row { display: flex; flex-direction: row; flex-wrap: wrap; justify-content: flex-start; width: 100% }\n",
       "    .wandb-col { display: flex; flex-direction: column; flex-basis: 100%; flex: 1; padding: 10px; }\n",
       "    </style>\n",
       "<div class=\"wandb-row\"><div class=\"wandb-col\"><h3>Run history:</h3><br/><table class=\"wandb\"><tr><td>Accuracy_mean</td><td>▁</td></tr><tr><td>Accuracy_std</td><td>▁</td></tr><tr><td>F1 Score_mean</td><td>▁</td></tr><tr><td>F1 Score_std</td><td>▁</td></tr><tr><td>Precision_mean</td><td>▁</td></tr><tr><td>Precision_std</td><td>▁</td></tr><tr><td>ROC-AUC_mean</td><td>▁</td></tr><tr><td>ROC-AUC_std</td><td>▁</td></tr><tr><td>Recall_mean</td><td>▁</td></tr><tr><td>Recall_std</td><td>▁</td></tr></table><br/></div><div class=\"wandb-col\"><h3>Run summary:</h3><br/><table class=\"wandb\"><tr><td>Accuracy_mean</td><td>0.8745</td></tr><tr><td>Accuracy_std</td><td>0.04879</td></tr><tr><td>F1 Score_mean</td><td>0.87268</td></tr><tr><td>F1 Score_std</td><td>0.04783</td></tr><tr><td>Precision_mean</td><td>0.87765</td></tr><tr><td>Precision_std</td><td>0.05075</td></tr><tr><td>ROC-AUC_mean</td><td>0.97194</td></tr><tr><td>ROC-AUC_std</td><td>0.00798</td></tr><tr><td>Recall_mean</td><td>0.8745</td></tr><tr><td>Recall_std</td><td>0.04879</td></tr></table><br/></div></div>"
      ],
      "text/plain": [
       "<IPython.core.display.HTML object>"
      ]
     },
     "metadata": {},
     "output_type": "display_data"
    },
    {
     "data": {
      "text/html": [
       " View run <strong style=\"color:#cdcd00\">NN_Audio Ablated 1</strong> at: <a href='https://wandb.ai/lequn/AudioVisual_ML_ablation_study_v2/runs/nui4wyfu' target=\"_blank\">https://wandb.ai/lequn/AudioVisual_ML_ablation_study_v2/runs/nui4wyfu</a><br/> View job at <a href='https://wandb.ai/lequn/AudioVisual_ML_ablation_study_v2/jobs/QXJ0aWZhY3RDb2xsZWN0aW9uOjExMTQ1OTc4Ng==/version_details/v23' target=\"_blank\">https://wandb.ai/lequn/AudioVisual_ML_ablation_study_v2/jobs/QXJ0aWZhY3RDb2xsZWN0aW9uOjExMTQ1OTc4Ng==/version_details/v23</a><br/>Synced 6 W&B file(s), 0 media file(s), 0 artifact file(s) and 0 other file(s)"
      ],
      "text/plain": [
       "<IPython.core.display.HTML object>"
      ]
     },
     "metadata": {},
     "output_type": "display_data"
    },
    {
     "data": {
      "text/html": [
       "Find logs at: <code>./wandb/run-20240305_120312-nui4wyfu/logs</code>"
      ],
      "text/plain": [
       "<IPython.core.display.HTML object>"
      ]
     },
     "metadata": {},
     "output_type": "display_data"
    },
    {
     "name": "stdout",
     "output_type": "stream",
     "text": [
      "\tTraining model: XGBoost\n"
     ]
    },
    {
     "data": {
      "application/vnd.jupyter.widget-view+json": {
       "model_id": "e8e0382c45754c8bb5eb37790dbcdb8e",
       "version_major": 2,
       "version_minor": 0
      },
      "text/plain": [
       "VBox(children=(Label(value='Waiting for wandb.init()...\\r'), FloatProgress(value=0.011113249900002604, max=1.0…"
      ]
     },
     "metadata": {},
     "output_type": "display_data"
    },
    {
     "data": {
      "text/html": [
       "wandb version 0.16.3 is available!  To upgrade, please run:\n",
       " $ pip install wandb --upgrade"
      ],
      "text/plain": [
       "<IPython.core.display.HTML object>"
      ]
     },
     "metadata": {},
     "output_type": "display_data"
    },
    {
     "data": {
      "text/html": [
       "Tracking run with wandb version 0.15.12"
      ],
      "text/plain": [
       "<IPython.core.display.HTML object>"
      ]
     },
     "metadata": {},
     "output_type": "display_data"
    },
    {
     "data": {
      "text/html": [
       "Run data is saved locally in <code>/home/chenlequn/GitHub/LDED-FusionNet/code/wandb/run-20240305_120328-ffxcdk9m</code>"
      ],
      "text/plain": [
       "<IPython.core.display.HTML object>"
      ]
     },
     "metadata": {},
     "output_type": "display_data"
    },
    {
     "data": {
      "text/html": [
       "Syncing run <strong><a href='https://wandb.ai/lequn/AudioVisual_ML_ablation_study_v2/runs/ffxcdk9m' target=\"_blank\">XGBoost_Audio Ablated 1</a></strong> to <a href='https://wandb.ai/lequn/AudioVisual_ML_ablation_study_v2' target=\"_blank\">Weights & Biases</a> (<a href='https://wandb.me/run' target=\"_blank\">docs</a>)<br/>"
      ],
      "text/plain": [
       "<IPython.core.display.HTML object>"
      ]
     },
     "metadata": {},
     "output_type": "display_data"
    },
    {
     "data": {
      "text/html": [
       " View project at <a href='https://wandb.ai/lequn/AudioVisual_ML_ablation_study_v2' target=\"_blank\">https://wandb.ai/lequn/AudioVisual_ML_ablation_study_v2</a>"
      ],
      "text/plain": [
       "<IPython.core.display.HTML object>"
      ]
     },
     "metadata": {},
     "output_type": "display_data"
    },
    {
     "data": {
      "text/html": [
       " View run at <a href='https://wandb.ai/lequn/AudioVisual_ML_ablation_study_v2/runs/ffxcdk9m' target=\"_blank\">https://wandb.ai/lequn/AudioVisual_ML_ablation_study_v2/runs/ffxcdk9m</a>"
      ],
      "text/plain": [
       "<IPython.core.display.HTML object>"
      ]
     },
     "metadata": {},
     "output_type": "display_data"
    },
    {
     "name": "stdout",
     "output_type": "stream",
     "text": [
      "\t\tAccuracy: Mean = 0.8355539971949509, Std = 0.038702717810223955\n",
      "\t\tF1 Score: Mean = 0.8313497607398489, Std = 0.03638549154270675\n",
      "\t\tPrecision: Mean = 0.8354337764222766, Std = 0.037789818597521715\n",
      "\t\tRecall: Mean = 0.8355539971949509, Std = 0.038702717810223955\n",
      "\t\tROC-AUC: Mean = 0.9640457266494561, Std = 0.01436291923377081\n"
     ]
    },
    {
     "data": {
      "text/html": [
       "Waiting for W&B process to finish... <strong style=\"color:green\">(success).</strong>"
      ],
      "text/plain": [
       "<IPython.core.display.HTML object>"
      ]
     },
     "metadata": {},
     "output_type": "display_data"
    },
    {
     "data": {
      "text/html": [
       "<style>\n",
       "    table.wandb td:nth-child(1) { padding: 0 10px; text-align: left ; width: auto;} td:nth-child(2) {text-align: left ; width: 100%}\n",
       "    .wandb-row { display: flex; flex-direction: row; flex-wrap: wrap; justify-content: flex-start; width: 100% }\n",
       "    .wandb-col { display: flex; flex-direction: column; flex-basis: 100%; flex: 1; padding: 10px; }\n",
       "    </style>\n",
       "<div class=\"wandb-row\"><div class=\"wandb-col\"><h3>Run history:</h3><br/><table class=\"wandb\"><tr><td>Accuracy_mean</td><td>▁</td></tr><tr><td>Accuracy_std</td><td>▁</td></tr><tr><td>F1 Score_mean</td><td>▁</td></tr><tr><td>F1 Score_std</td><td>▁</td></tr><tr><td>Precision_mean</td><td>▁</td></tr><tr><td>Precision_std</td><td>▁</td></tr><tr><td>ROC-AUC_mean</td><td>▁</td></tr><tr><td>ROC-AUC_std</td><td>▁</td></tr><tr><td>Recall_mean</td><td>▁</td></tr><tr><td>Recall_std</td><td>▁</td></tr></table><br/></div><div class=\"wandb-col\"><h3>Run summary:</h3><br/><table class=\"wandb\"><tr><td>Accuracy_mean</td><td>0.83555</td></tr><tr><td>Accuracy_std</td><td>0.0387</td></tr><tr><td>F1 Score_mean</td><td>0.83135</td></tr><tr><td>F1 Score_std</td><td>0.03639</td></tr><tr><td>Precision_mean</td><td>0.83543</td></tr><tr><td>Precision_std</td><td>0.03779</td></tr><tr><td>ROC-AUC_mean</td><td>0.96405</td></tr><tr><td>ROC-AUC_std</td><td>0.01436</td></tr><tr><td>Recall_mean</td><td>0.83555</td></tr><tr><td>Recall_std</td><td>0.0387</td></tr></table><br/></div></div>"
      ],
      "text/plain": [
       "<IPython.core.display.HTML object>"
      ]
     },
     "metadata": {},
     "output_type": "display_data"
    },
    {
     "data": {
      "text/html": [
       " View run <strong style=\"color:#cdcd00\">XGBoost_Audio Ablated 1</strong> at: <a href='https://wandb.ai/lequn/AudioVisual_ML_ablation_study_v2/runs/ffxcdk9m' target=\"_blank\">https://wandb.ai/lequn/AudioVisual_ML_ablation_study_v2/runs/ffxcdk9m</a><br/> View job at <a href='https://wandb.ai/lequn/AudioVisual_ML_ablation_study_v2/jobs/QXJ0aWZhY3RDb2xsZWN0aW9uOjExMTQ1OTc4Ng==/version_details/v23' target=\"_blank\">https://wandb.ai/lequn/AudioVisual_ML_ablation_study_v2/jobs/QXJ0aWZhY3RDb2xsZWN0aW9uOjExMTQ1OTc4Ng==/version_details/v23</a><br/>Synced 6 W&B file(s), 0 media file(s), 0 artifact file(s) and 0 other file(s)"
      ],
      "text/plain": [
       "<IPython.core.display.HTML object>"
      ]
     },
     "metadata": {},
     "output_type": "display_data"
    },
    {
     "data": {
      "text/html": [
       "Find logs at: <code>./wandb/run-20240305_120328-ffxcdk9m/logs</code>"
      ],
      "text/plain": [
       "<IPython.core.display.HTML object>"
      ]
     },
     "metadata": {},
     "output_type": "display_data"
    },
    {
     "name": "stdout",
     "output_type": "stream",
     "text": [
      "\tTraining model: LightGBM\n"
     ]
    },
    {
     "data": {
      "application/vnd.jupyter.widget-view+json": {
       "model_id": "6788c082fbee4c9abacad7dfd9b92554",
       "version_major": 2,
       "version_minor": 0
      },
      "text/plain": [
       "VBox(children=(Label(value='Waiting for wandb.init()...\\r'), FloatProgress(value=0.011112285677780973, max=1.0…"
      ]
     },
     "metadata": {},
     "output_type": "display_data"
    },
    {
     "data": {
      "text/html": [
       "wandb version 0.16.3 is available!  To upgrade, please run:\n",
       " $ pip install wandb --upgrade"
      ],
      "text/plain": [
       "<IPython.core.display.HTML object>"
      ]
     },
     "metadata": {},
     "output_type": "display_data"
    },
    {
     "data": {
      "text/html": [
       "Tracking run with wandb version 0.15.12"
      ],
      "text/plain": [
       "<IPython.core.display.HTML object>"
      ]
     },
     "metadata": {},
     "output_type": "display_data"
    },
    {
     "data": {
      "text/html": [
       "Run data is saved locally in <code>/home/chenlequn/GitHub/LDED-FusionNet/code/wandb/run-20240305_120340-4zw96mcv</code>"
      ],
      "text/plain": [
       "<IPython.core.display.HTML object>"
      ]
     },
     "metadata": {},
     "output_type": "display_data"
    },
    {
     "data": {
      "text/html": [
       "Syncing run <strong><a href='https://wandb.ai/lequn/AudioVisual_ML_ablation_study_v2/runs/4zw96mcv' target=\"_blank\">LightGBM_Audio Ablated 1</a></strong> to <a href='https://wandb.ai/lequn/AudioVisual_ML_ablation_study_v2' target=\"_blank\">Weights & Biases</a> (<a href='https://wandb.me/run' target=\"_blank\">docs</a>)<br/>"
      ],
      "text/plain": [
       "<IPython.core.display.HTML object>"
      ]
     },
     "metadata": {},
     "output_type": "display_data"
    },
    {
     "data": {
      "text/html": [
       " View project at <a href='https://wandb.ai/lequn/AudioVisual_ML_ablation_study_v2' target=\"_blank\">https://wandb.ai/lequn/AudioVisual_ML_ablation_study_v2</a>"
      ],
      "text/plain": [
       "<IPython.core.display.HTML object>"
      ]
     },
     "metadata": {},
     "output_type": "display_data"
    },
    {
     "data": {
      "text/html": [
       " View run at <a href='https://wandb.ai/lequn/AudioVisual_ML_ablation_study_v2/runs/4zw96mcv' target=\"_blank\">https://wandb.ai/lequn/AudioVisual_ML_ablation_study_v2/runs/4zw96mcv</a>"
      ],
      "text/plain": [
       "<IPython.core.display.HTML object>"
      ]
     },
     "metadata": {},
     "output_type": "display_data"
    },
    {
     "name": "stdout",
     "output_type": "stream",
     "text": [
      "\t\tAccuracy: Mean = 0.8333800841514727, Std = 0.03374461941327687\n",
      "\t\tF1 Score: Mean = 0.8255681147887687, Std = 0.031889795501629147\n",
      "\t\tPrecision: Mean = 0.8381026196073169, Std = 0.03258475279302458\n",
      "\t\tRecall: Mean = 0.8333800841514727, Std = 0.03374461941327687\n",
      "\t\tROC-AUC: Mean = 0.9598992131412347, Std = 0.012258619374056227\n"
     ]
    },
    {
     "data": {
      "text/html": [
       "Waiting for W&B process to finish... <strong style=\"color:green\">(success).</strong>"
      ],
      "text/plain": [
       "<IPython.core.display.HTML object>"
      ]
     },
     "metadata": {},
     "output_type": "display_data"
    },
    {
     "data": {
      "text/html": [
       "<style>\n",
       "    table.wandb td:nth-child(1) { padding: 0 10px; text-align: left ; width: auto;} td:nth-child(2) {text-align: left ; width: 100%}\n",
       "    .wandb-row { display: flex; flex-direction: row; flex-wrap: wrap; justify-content: flex-start; width: 100% }\n",
       "    .wandb-col { display: flex; flex-direction: column; flex-basis: 100%; flex: 1; padding: 10px; }\n",
       "    </style>\n",
       "<div class=\"wandb-row\"><div class=\"wandb-col\"><h3>Run history:</h3><br/><table class=\"wandb\"><tr><td>Accuracy_mean</td><td>▁</td></tr><tr><td>Accuracy_std</td><td>▁</td></tr><tr><td>F1 Score_mean</td><td>▁</td></tr><tr><td>F1 Score_std</td><td>▁</td></tr><tr><td>Precision_mean</td><td>▁</td></tr><tr><td>Precision_std</td><td>▁</td></tr><tr><td>ROC-AUC_mean</td><td>▁</td></tr><tr><td>ROC-AUC_std</td><td>▁</td></tr><tr><td>Recall_mean</td><td>▁</td></tr><tr><td>Recall_std</td><td>▁</td></tr></table><br/></div><div class=\"wandb-col\"><h3>Run summary:</h3><br/><table class=\"wandb\"><tr><td>Accuracy_mean</td><td>0.83338</td></tr><tr><td>Accuracy_std</td><td>0.03374</td></tr><tr><td>F1 Score_mean</td><td>0.82557</td></tr><tr><td>F1 Score_std</td><td>0.03189</td></tr><tr><td>Precision_mean</td><td>0.8381</td></tr><tr><td>Precision_std</td><td>0.03258</td></tr><tr><td>ROC-AUC_mean</td><td>0.9599</td></tr><tr><td>ROC-AUC_std</td><td>0.01226</td></tr><tr><td>Recall_mean</td><td>0.83338</td></tr><tr><td>Recall_std</td><td>0.03374</td></tr></table><br/></div></div>"
      ],
      "text/plain": [
       "<IPython.core.display.HTML object>"
      ]
     },
     "metadata": {},
     "output_type": "display_data"
    },
    {
     "data": {
      "text/html": [
       " View run <strong style=\"color:#cdcd00\">LightGBM_Audio Ablated 1</strong> at: <a href='https://wandb.ai/lequn/AudioVisual_ML_ablation_study_v2/runs/4zw96mcv' target=\"_blank\">https://wandb.ai/lequn/AudioVisual_ML_ablation_study_v2/runs/4zw96mcv</a><br/> View job at <a href='https://wandb.ai/lequn/AudioVisual_ML_ablation_study_v2/jobs/QXJ0aWZhY3RDb2xsZWN0aW9uOjExMTQ1OTc4Ng==/version_details/v23' target=\"_blank\">https://wandb.ai/lequn/AudioVisual_ML_ablation_study_v2/jobs/QXJ0aWZhY3RDb2xsZWN0aW9uOjExMTQ1OTc4Ng==/version_details/v23</a><br/>Synced 6 W&B file(s), 0 media file(s), 0 artifact file(s) and 0 other file(s)"
      ],
      "text/plain": [
       "<IPython.core.display.HTML object>"
      ]
     },
     "metadata": {},
     "output_type": "display_data"
    },
    {
     "data": {
      "text/html": [
       "Find logs at: <code>./wandb/run-20240305_120340-4zw96mcv/logs</code>"
      ],
      "text/plain": [
       "<IPython.core.display.HTML object>"
      ]
     },
     "metadata": {},
     "output_type": "display_data"
    },
    {
     "name": "stdout",
     "output_type": "stream",
     "text": [
      "\tTraining model: SVM\n"
     ]
    },
    {
     "data": {
      "application/vnd.jupyter.widget-view+json": {
       "model_id": "c19341b5382f4acdb99a00c54fc8eec7",
       "version_major": 2,
       "version_minor": 0
      },
      "text/plain": [
       "VBox(children=(Label(value='Waiting for wandb.init()...\\r'), FloatProgress(value=0.011112301600001552, max=1.0…"
      ]
     },
     "metadata": {},
     "output_type": "display_data"
    },
    {
     "data": {
      "text/html": [
       "wandb version 0.16.3 is available!  To upgrade, please run:\n",
       " $ pip install wandb --upgrade"
      ],
      "text/plain": [
       "<IPython.core.display.HTML object>"
      ]
     },
     "metadata": {},
     "output_type": "display_data"
    },
    {
     "data": {
      "text/html": [
       "Tracking run with wandb version 0.15.12"
      ],
      "text/plain": [
       "<IPython.core.display.HTML object>"
      ]
     },
     "metadata": {},
     "output_type": "display_data"
    },
    {
     "data": {
      "text/html": [
       "Run data is saved locally in <code>/home/chenlequn/GitHub/LDED-FusionNet/code/wandb/run-20240305_120354-02unu1uy</code>"
      ],
      "text/plain": [
       "<IPython.core.display.HTML object>"
      ]
     },
     "metadata": {},
     "output_type": "display_data"
    },
    {
     "data": {
      "text/html": [
       "Syncing run <strong><a href='https://wandb.ai/lequn/AudioVisual_ML_ablation_study_v2/runs/02unu1uy' target=\"_blank\">SVM_Audio Ablated 1</a></strong> to <a href='https://wandb.ai/lequn/AudioVisual_ML_ablation_study_v2' target=\"_blank\">Weights & Biases</a> (<a href='https://wandb.me/run' target=\"_blank\">docs</a>)<br/>"
      ],
      "text/plain": [
       "<IPython.core.display.HTML object>"
      ]
     },
     "metadata": {},
     "output_type": "display_data"
    },
    {
     "data": {
      "text/html": [
       " View project at <a href='https://wandb.ai/lequn/AudioVisual_ML_ablation_study_v2' target=\"_blank\">https://wandb.ai/lequn/AudioVisual_ML_ablation_study_v2</a>"
      ],
      "text/plain": [
       "<IPython.core.display.HTML object>"
      ]
     },
     "metadata": {},
     "output_type": "display_data"
    },
    {
     "data": {
      "text/html": [
       " View run at <a href='https://wandb.ai/lequn/AudioVisual_ML_ablation_study_v2/runs/02unu1uy' target=\"_blank\">https://wandb.ai/lequn/AudioVisual_ML_ablation_study_v2/runs/02unu1uy</a>"
      ],
      "text/plain": [
       "<IPython.core.display.HTML object>"
      ]
     },
     "metadata": {},
     "output_type": "display_data"
    },
    {
     "name": "stdout",
     "output_type": "stream",
     "text": [
      "\t\tAccuracy: Mean = 0.8030388031790556, Std = 0.03169462397643682\n",
      "\t\tF1 Score: Mean = 0.7958057543138275, Std = 0.03400422725886099\n",
      "\t\tPrecision: Mean = 0.8016315954402884, Std = 0.03454664224585548\n",
      "\t\tRecall: Mean = 0.8030388031790556, Std = 0.03169462397643682\n",
      "\t\tROC-AUC: Mean = 0.942367420425497, Std = 0.01499257958377147\n"
     ]
    },
    {
     "data": {
      "text/html": [
       "Waiting for W&B process to finish... <strong style=\"color:green\">(success).</strong>"
      ],
      "text/plain": [
       "<IPython.core.display.HTML object>"
      ]
     },
     "metadata": {},
     "output_type": "display_data"
    },
    {
     "data": {
      "text/html": [
       "<style>\n",
       "    table.wandb td:nth-child(1) { padding: 0 10px; text-align: left ; width: auto;} td:nth-child(2) {text-align: left ; width: 100%}\n",
       "    .wandb-row { display: flex; flex-direction: row; flex-wrap: wrap; justify-content: flex-start; width: 100% }\n",
       "    .wandb-col { display: flex; flex-direction: column; flex-basis: 100%; flex: 1; padding: 10px; }\n",
       "    </style>\n",
       "<div class=\"wandb-row\"><div class=\"wandb-col\"><h3>Run history:</h3><br/><table class=\"wandb\"><tr><td>Accuracy_mean</td><td>▁</td></tr><tr><td>Accuracy_std</td><td>▁</td></tr><tr><td>F1 Score_mean</td><td>▁</td></tr><tr><td>F1 Score_std</td><td>▁</td></tr><tr><td>Precision_mean</td><td>▁</td></tr><tr><td>Precision_std</td><td>▁</td></tr><tr><td>ROC-AUC_mean</td><td>▁</td></tr><tr><td>ROC-AUC_std</td><td>▁</td></tr><tr><td>Recall_mean</td><td>▁</td></tr><tr><td>Recall_std</td><td>▁</td></tr></table><br/></div><div class=\"wandb-col\"><h3>Run summary:</h3><br/><table class=\"wandb\"><tr><td>Accuracy_mean</td><td>0.80304</td></tr><tr><td>Accuracy_std</td><td>0.03169</td></tr><tr><td>F1 Score_mean</td><td>0.79581</td></tr><tr><td>F1 Score_std</td><td>0.034</td></tr><tr><td>Precision_mean</td><td>0.80163</td></tr><tr><td>Precision_std</td><td>0.03455</td></tr><tr><td>ROC-AUC_mean</td><td>0.94237</td></tr><tr><td>ROC-AUC_std</td><td>0.01499</td></tr><tr><td>Recall_mean</td><td>0.80304</td></tr><tr><td>Recall_std</td><td>0.03169</td></tr></table><br/></div></div>"
      ],
      "text/plain": [
       "<IPython.core.display.HTML object>"
      ]
     },
     "metadata": {},
     "output_type": "display_data"
    },
    {
     "data": {
      "text/html": [
       " View run <strong style=\"color:#cdcd00\">SVM_Audio Ablated 1</strong> at: <a href='https://wandb.ai/lequn/AudioVisual_ML_ablation_study_v2/runs/02unu1uy' target=\"_blank\">https://wandb.ai/lequn/AudioVisual_ML_ablation_study_v2/runs/02unu1uy</a><br/> View job at <a href='https://wandb.ai/lequn/AudioVisual_ML_ablation_study_v2/jobs/QXJ0aWZhY3RDb2xsZWN0aW9uOjExMTQ1OTc4Ng==/version_details/v23' target=\"_blank\">https://wandb.ai/lequn/AudioVisual_ML_ablation_study_v2/jobs/QXJ0aWZhY3RDb2xsZWN0aW9uOjExMTQ1OTc4Ng==/version_details/v23</a><br/>Synced 6 W&B file(s), 0 media file(s), 0 artifact file(s) and 0 other file(s)"
      ],
      "text/plain": [
       "<IPython.core.display.HTML object>"
      ]
     },
     "metadata": {},
     "output_type": "display_data"
    },
    {
     "data": {
      "text/html": [
       "Find logs at: <code>./wandb/run-20240305_120354-02unu1uy/logs</code>"
      ],
      "text/plain": [
       "<IPython.core.display.HTML object>"
      ]
     },
     "metadata": {},
     "output_type": "display_data"
    },
    {
     "name": "stdout",
     "output_type": "stream",
     "text": [
      "\tTraining model: HistGB\n"
     ]
    },
    {
     "data": {
      "application/vnd.jupyter.widget-view+json": {
       "model_id": "2c2f5af70757495ea52eabfc1cff8ca1",
       "version_major": 2,
       "version_minor": 0
      },
      "text/plain": [
       "VBox(children=(Label(value='Waiting for wandb.init()...\\r'), FloatProgress(value=0.011112455411118086, max=1.0…"
      ]
     },
     "metadata": {},
     "output_type": "display_data"
    },
    {
     "data": {
      "text/html": [
       "wandb version 0.16.3 is available!  To upgrade, please run:\n",
       " $ pip install wandb --upgrade"
      ],
      "text/plain": [
       "<IPython.core.display.HTML object>"
      ]
     },
     "metadata": {},
     "output_type": "display_data"
    },
    {
     "data": {
      "text/html": [
       "Tracking run with wandb version 0.15.12"
      ],
      "text/plain": [
       "<IPython.core.display.HTML object>"
      ]
     },
     "metadata": {},
     "output_type": "display_data"
    },
    {
     "data": {
      "text/html": [
       "Run data is saved locally in <code>/home/chenlequn/GitHub/LDED-FusionNet/code/wandb/run-20240305_120410-ucz5ssn7</code>"
      ],
      "text/plain": [
       "<IPython.core.display.HTML object>"
      ]
     },
     "metadata": {},
     "output_type": "display_data"
    },
    {
     "data": {
      "text/html": [
       "Syncing run <strong><a href='https://wandb.ai/lequn/AudioVisual_ML_ablation_study_v2/runs/ucz5ssn7' target=\"_blank\">HistGB_Audio Ablated 1</a></strong> to <a href='https://wandb.ai/lequn/AudioVisual_ML_ablation_study_v2' target=\"_blank\">Weights & Biases</a> (<a href='https://wandb.me/run' target=\"_blank\">docs</a>)<br/>"
      ],
      "text/plain": [
       "<IPython.core.display.HTML object>"
      ]
     },
     "metadata": {},
     "output_type": "display_data"
    },
    {
     "data": {
      "text/html": [
       " View project at <a href='https://wandb.ai/lequn/AudioVisual_ML_ablation_study_v2' target=\"_blank\">https://wandb.ai/lequn/AudioVisual_ML_ablation_study_v2</a>"
      ],
      "text/plain": [
       "<IPython.core.display.HTML object>"
      ]
     },
     "metadata": {},
     "output_type": "display_data"
    },
    {
     "data": {
      "text/html": [
       " View run at <a href='https://wandb.ai/lequn/AudioVisual_ML_ablation_study_v2/runs/ucz5ssn7' target=\"_blank\">https://wandb.ai/lequn/AudioVisual_ML_ablation_study_v2/runs/ucz5ssn7</a>"
      ],
      "text/plain": [
       "<IPython.core.display.HTML object>"
      ]
     },
     "metadata": {},
     "output_type": "display_data"
    },
    {
     "name": "stdout",
     "output_type": "stream",
     "text": [
      "\t\tAccuracy: Mean = 0.8420757363253857, Std = 0.03345472670594328\n",
      "\t\tF1 Score: Mean = 0.8326945505052553, Std = 0.030519909870100632\n",
      "\t\tPrecision: Mean = 0.8326716494869892, Std = 0.03408887887926169\n",
      "\t\tRecall: Mean = 0.8420757363253857, Std = 0.03345472670594328\n",
      "\t\tROC-AUC: Mean = 0.9636598126851691, Std = 0.012910291526973178\n"
     ]
    },
    {
     "name": "stderr",
     "output_type": "stream",
     "text": [
      "/home/chenlequn/anaconda3/envs/torch/lib/python3.9/site-packages/sklearn/metrics/_classification.py:1344: UndefinedMetricWarning: Precision is ill-defined and being set to 0.0 in labels with no predicted samples. Use `zero_division` parameter to control this behavior.\n",
      "  _warn_prf(average, modifier, msg_start, len(result))\n"
     ]
    },
    {
     "data": {
      "text/html": [
       "Waiting for W&B process to finish... <strong style=\"color:green\">(success).</strong>"
      ],
      "text/plain": [
       "<IPython.core.display.HTML object>"
      ]
     },
     "metadata": {},
     "output_type": "display_data"
    },
    {
     "data": {
      "text/html": [
       "<style>\n",
       "    table.wandb td:nth-child(1) { padding: 0 10px; text-align: left ; width: auto;} td:nth-child(2) {text-align: left ; width: 100%}\n",
       "    .wandb-row { display: flex; flex-direction: row; flex-wrap: wrap; justify-content: flex-start; width: 100% }\n",
       "    .wandb-col { display: flex; flex-direction: column; flex-basis: 100%; flex: 1; padding: 10px; }\n",
       "    </style>\n",
       "<div class=\"wandb-row\"><div class=\"wandb-col\"><h3>Run history:</h3><br/><table class=\"wandb\"><tr><td>Accuracy_mean</td><td>▁</td></tr><tr><td>Accuracy_std</td><td>▁</td></tr><tr><td>F1 Score_mean</td><td>▁</td></tr><tr><td>F1 Score_std</td><td>▁</td></tr><tr><td>Precision_mean</td><td>▁</td></tr><tr><td>Precision_std</td><td>▁</td></tr><tr><td>ROC-AUC_mean</td><td>▁</td></tr><tr><td>ROC-AUC_std</td><td>▁</td></tr><tr><td>Recall_mean</td><td>▁</td></tr><tr><td>Recall_std</td><td>▁</td></tr></table><br/></div><div class=\"wandb-col\"><h3>Run summary:</h3><br/><table class=\"wandb\"><tr><td>Accuracy_mean</td><td>0.84208</td></tr><tr><td>Accuracy_std</td><td>0.03345</td></tr><tr><td>F1 Score_mean</td><td>0.83269</td></tr><tr><td>F1 Score_std</td><td>0.03052</td></tr><tr><td>Precision_mean</td><td>0.83267</td></tr><tr><td>Precision_std</td><td>0.03409</td></tr><tr><td>ROC-AUC_mean</td><td>0.96366</td></tr><tr><td>ROC-AUC_std</td><td>0.01291</td></tr><tr><td>Recall_mean</td><td>0.84208</td></tr><tr><td>Recall_std</td><td>0.03345</td></tr></table><br/></div></div>"
      ],
      "text/plain": [
       "<IPython.core.display.HTML object>"
      ]
     },
     "metadata": {},
     "output_type": "display_data"
    },
    {
     "data": {
      "text/html": [
       " View run <strong style=\"color:#cdcd00\">HistGB_Audio Ablated 1</strong> at: <a href='https://wandb.ai/lequn/AudioVisual_ML_ablation_study_v2/runs/ucz5ssn7' target=\"_blank\">https://wandb.ai/lequn/AudioVisual_ML_ablation_study_v2/runs/ucz5ssn7</a><br/> View job at <a href='https://wandb.ai/lequn/AudioVisual_ML_ablation_study_v2/jobs/QXJ0aWZhY3RDb2xsZWN0aW9uOjExMTQ1OTc4Ng==/version_details/v22' target=\"_blank\">https://wandb.ai/lequn/AudioVisual_ML_ablation_study_v2/jobs/QXJ0aWZhY3RDb2xsZWN0aW9uOjExMTQ1OTc4Ng==/version_details/v22</a><br/>Synced 6 W&B file(s), 0 media file(s), 0 artifact file(s) and 0 other file(s)"
      ],
      "text/plain": [
       "<IPython.core.display.HTML object>"
      ]
     },
     "metadata": {},
     "output_type": "display_data"
    },
    {
     "data": {
      "text/html": [
       "Find logs at: <code>./wandb/run-20240305_120410-ucz5ssn7/logs</code>"
      ],
      "text/plain": [
       "<IPython.core.display.HTML object>"
      ]
     },
     "metadata": {},
     "output_type": "display_data"
    },
    {
     "name": "stdout",
     "output_type": "stream",
     "text": [
      "Processing dataset: Vision Ablated 1\n",
      "\tTraining model: KNN\n"
     ]
    },
    {
     "data": {
      "application/vnd.jupyter.widget-view+json": {
       "model_id": "d5e757dfeac44397b3280001f65c637e",
       "version_major": 2,
       "version_minor": 0
      },
      "text/plain": [
       "VBox(children=(Label(value='Waiting for wandb.init()...\\r'), FloatProgress(value=0.011113322777782741, max=1.0…"
      ]
     },
     "metadata": {},
     "output_type": "display_data"
    },
    {
     "data": {
      "text/html": [
       "wandb version 0.16.3 is available!  To upgrade, please run:\n",
       " $ pip install wandb --upgrade"
      ],
      "text/plain": [
       "<IPython.core.display.HTML object>"
      ]
     },
     "metadata": {},
     "output_type": "display_data"
    },
    {
     "data": {
      "text/html": [
       "Tracking run with wandb version 0.15.12"
      ],
      "text/plain": [
       "<IPython.core.display.HTML object>"
      ]
     },
     "metadata": {},
     "output_type": "display_data"
    },
    {
     "data": {
      "text/html": [
       "Run data is saved locally in <code>/home/chenlequn/GitHub/LDED-FusionNet/code/wandb/run-20240305_120425-td9blhnf</code>"
      ],
      "text/plain": [
       "<IPython.core.display.HTML object>"
      ]
     },
     "metadata": {},
     "output_type": "display_data"
    },
    {
     "data": {
      "text/html": [
       "Syncing run <strong><a href='https://wandb.ai/lequn/AudioVisual_ML_ablation_study_v2/runs/td9blhnf' target=\"_blank\">KNN_Vision Ablated 1</a></strong> to <a href='https://wandb.ai/lequn/AudioVisual_ML_ablation_study_v2' target=\"_blank\">Weights & Biases</a> (<a href='https://wandb.me/run' target=\"_blank\">docs</a>)<br/>"
      ],
      "text/plain": [
       "<IPython.core.display.HTML object>"
      ]
     },
     "metadata": {},
     "output_type": "display_data"
    },
    {
     "data": {
      "text/html": [
       " View project at <a href='https://wandb.ai/lequn/AudioVisual_ML_ablation_study_v2' target=\"_blank\">https://wandb.ai/lequn/AudioVisual_ML_ablation_study_v2</a>"
      ],
      "text/plain": [
       "<IPython.core.display.HTML object>"
      ]
     },
     "metadata": {},
     "output_type": "display_data"
    },
    {
     "data": {
      "text/html": [
       " View run at <a href='https://wandb.ai/lequn/AudioVisual_ML_ablation_study_v2/runs/td9blhnf' target=\"_blank\">https://wandb.ai/lequn/AudioVisual_ML_ablation_study_v2/runs/td9blhnf</a>"
      ],
      "text/plain": [
       "<IPython.core.display.HTML object>"
      ]
     },
     "metadata": {},
     "output_type": "display_data"
    },
    {
     "name": "stdout",
     "output_type": "stream",
     "text": [
      "\t\tAccuracy: Mean = 0.8225338943431509, Std = 0.019899682205497468\n",
      "\t\tF1 Score: Mean = 0.8219859567672729, Std = 0.018987215404147162\n",
      "\t\tPrecision: Mean = 0.8260440404426947, Std = 0.017122668952127225\n",
      "\t\tRecall: Mean = 0.8225338943431509, Std = 0.019899682205497468\n",
      "\t\tROC-AUC: Mean = 0.9388570028583368, Std = 0.004595587148791606\n"
     ]
    },
    {
     "data": {
      "text/html": [
       "Waiting for W&B process to finish... <strong style=\"color:green\">(success).</strong>"
      ],
      "text/plain": [
       "<IPython.core.display.HTML object>"
      ]
     },
     "metadata": {},
     "output_type": "display_data"
    },
    {
     "data": {
      "text/html": [
       "<style>\n",
       "    table.wandb td:nth-child(1) { padding: 0 10px; text-align: left ; width: auto;} td:nth-child(2) {text-align: left ; width: 100%}\n",
       "    .wandb-row { display: flex; flex-direction: row; flex-wrap: wrap; justify-content: flex-start; width: 100% }\n",
       "    .wandb-col { display: flex; flex-direction: column; flex-basis: 100%; flex: 1; padding: 10px; }\n",
       "    </style>\n",
       "<div class=\"wandb-row\"><div class=\"wandb-col\"><h3>Run history:</h3><br/><table class=\"wandb\"><tr><td>Accuracy_mean</td><td>▁</td></tr><tr><td>Accuracy_std</td><td>▁</td></tr><tr><td>F1 Score_mean</td><td>▁</td></tr><tr><td>F1 Score_std</td><td>▁</td></tr><tr><td>Precision_mean</td><td>▁</td></tr><tr><td>Precision_std</td><td>▁</td></tr><tr><td>ROC-AUC_mean</td><td>▁</td></tr><tr><td>ROC-AUC_std</td><td>▁</td></tr><tr><td>Recall_mean</td><td>▁</td></tr><tr><td>Recall_std</td><td>▁</td></tr></table><br/></div><div class=\"wandb-col\"><h3>Run summary:</h3><br/><table class=\"wandb\"><tr><td>Accuracy_mean</td><td>0.82253</td></tr><tr><td>Accuracy_std</td><td>0.0199</td></tr><tr><td>F1 Score_mean</td><td>0.82199</td></tr><tr><td>F1 Score_std</td><td>0.01899</td></tr><tr><td>Precision_mean</td><td>0.82604</td></tr><tr><td>Precision_std</td><td>0.01712</td></tr><tr><td>ROC-AUC_mean</td><td>0.93886</td></tr><tr><td>ROC-AUC_std</td><td>0.0046</td></tr><tr><td>Recall_mean</td><td>0.82253</td></tr><tr><td>Recall_std</td><td>0.0199</td></tr></table><br/></div></div>"
      ],
      "text/plain": [
       "<IPython.core.display.HTML object>"
      ]
     },
     "metadata": {},
     "output_type": "display_data"
    },
    {
     "data": {
      "text/html": [
       " View run <strong style=\"color:#cdcd00\">KNN_Vision Ablated 1</strong> at: <a href='https://wandb.ai/lequn/AudioVisual_ML_ablation_study_v2/runs/td9blhnf' target=\"_blank\">https://wandb.ai/lequn/AudioVisual_ML_ablation_study_v2/runs/td9blhnf</a><br/> View job at <a href='https://wandb.ai/lequn/AudioVisual_ML_ablation_study_v2/jobs/QXJ0aWZhY3RDb2xsZWN0aW9uOjExMTQ1OTc4Ng==/version_details/v23' target=\"_blank\">https://wandb.ai/lequn/AudioVisual_ML_ablation_study_v2/jobs/QXJ0aWZhY3RDb2xsZWN0aW9uOjExMTQ1OTc4Ng==/version_details/v23</a><br/>Synced 6 W&B file(s), 0 media file(s), 0 artifact file(s) and 0 other file(s)"
      ],
      "text/plain": [
       "<IPython.core.display.HTML object>"
      ]
     },
     "metadata": {},
     "output_type": "display_data"
    },
    {
     "data": {
      "text/html": [
       "Find logs at: <code>./wandb/run-20240305_120425-td9blhnf/logs</code>"
      ],
      "text/plain": [
       "<IPython.core.display.HTML object>"
      ]
     },
     "metadata": {},
     "output_type": "display_data"
    },
    {
     "name": "stdout",
     "output_type": "stream",
     "text": [
      "\tTraining model: DT\n"
     ]
    },
    {
     "data": {
      "application/vnd.jupyter.widget-view+json": {
       "model_id": "3c265efb78844817b26dc74b591a0cec",
       "version_major": 2,
       "version_minor": 0
      },
      "text/plain": [
       "VBox(children=(Label(value='Waiting for wandb.init()...\\r'), FloatProgress(value=0.011113140644445392, max=1.0…"
      ]
     },
     "metadata": {},
     "output_type": "display_data"
    },
    {
     "data": {
      "text/html": [
       "wandb version 0.16.3 is available!  To upgrade, please run:\n",
       " $ pip install wandb --upgrade"
      ],
      "text/plain": [
       "<IPython.core.display.HTML object>"
      ]
     },
     "metadata": {},
     "output_type": "display_data"
    },
    {
     "data": {
      "text/html": [
       "Tracking run with wandb version 0.15.12"
      ],
      "text/plain": [
       "<IPython.core.display.HTML object>"
      ]
     },
     "metadata": {},
     "output_type": "display_data"
    },
    {
     "data": {
      "text/html": [
       "Run data is saved locally in <code>/home/chenlequn/GitHub/LDED-FusionNet/code/wandb/run-20240305_120436-1hd9jymg</code>"
      ],
      "text/plain": [
       "<IPython.core.display.HTML object>"
      ]
     },
     "metadata": {},
     "output_type": "display_data"
    },
    {
     "data": {
      "text/html": [
       "Syncing run <strong><a href='https://wandb.ai/lequn/AudioVisual_ML_ablation_study_v2/runs/1hd9jymg' target=\"_blank\">DT_Vision Ablated 1</a></strong> to <a href='https://wandb.ai/lequn/AudioVisual_ML_ablation_study_v2' target=\"_blank\">Weights & Biases</a> (<a href='https://wandb.me/run' target=\"_blank\">docs</a>)<br/>"
      ],
      "text/plain": [
       "<IPython.core.display.HTML object>"
      ]
     },
     "metadata": {},
     "output_type": "display_data"
    },
    {
     "data": {
      "text/html": [
       " View project at <a href='https://wandb.ai/lequn/AudioVisual_ML_ablation_study_v2' target=\"_blank\">https://wandb.ai/lequn/AudioVisual_ML_ablation_study_v2</a>"
      ],
      "text/plain": [
       "<IPython.core.display.HTML object>"
      ]
     },
     "metadata": {},
     "output_type": "display_data"
    },
    {
     "data": {
      "text/html": [
       " View run at <a href='https://wandb.ai/lequn/AudioVisual_ML_ablation_study_v2/runs/1hd9jymg' target=\"_blank\">https://wandb.ai/lequn/AudioVisual_ML_ablation_study_v2/runs/1hd9jymg</a>"
      ],
      "text/plain": [
       "<IPython.core.display.HTML object>"
      ]
     },
     "metadata": {},
     "output_type": "display_data"
    },
    {
     "name": "stdout",
     "output_type": "stream",
     "text": [
      "\t\tAccuracy: Mean = 0.7726741467975689, Std = 0.04416059613718496\n",
      "\t\tF1 Score: Mean = 0.7747839526897232, Std = 0.04357261515435724\n",
      "\t\tPrecision: Mean = 0.7811738877536362, Std = 0.042711002339902125\n",
      "\t\tRecall: Mean = 0.7726741467975689, Std = 0.04416059613718496\n",
      "\t\tROC-AUC: Mean = 0.8830914807227277, Std = 0.02443544864122582\n"
     ]
    },
    {
     "data": {
      "text/html": [
       "Waiting for W&B process to finish... <strong style=\"color:green\">(success).</strong>"
      ],
      "text/plain": [
       "<IPython.core.display.HTML object>"
      ]
     },
     "metadata": {},
     "output_type": "display_data"
    },
    {
     "data": {
      "text/html": [
       "<style>\n",
       "    table.wandb td:nth-child(1) { padding: 0 10px; text-align: left ; width: auto;} td:nth-child(2) {text-align: left ; width: 100%}\n",
       "    .wandb-row { display: flex; flex-direction: row; flex-wrap: wrap; justify-content: flex-start; width: 100% }\n",
       "    .wandb-col { display: flex; flex-direction: column; flex-basis: 100%; flex: 1; padding: 10px; }\n",
       "    </style>\n",
       "<div class=\"wandb-row\"><div class=\"wandb-col\"><h3>Run history:</h3><br/><table class=\"wandb\"><tr><td>Accuracy_mean</td><td>▁</td></tr><tr><td>Accuracy_std</td><td>▁</td></tr><tr><td>F1 Score_mean</td><td>▁</td></tr><tr><td>F1 Score_std</td><td>▁</td></tr><tr><td>Precision_mean</td><td>▁</td></tr><tr><td>Precision_std</td><td>▁</td></tr><tr><td>ROC-AUC_mean</td><td>▁</td></tr><tr><td>ROC-AUC_std</td><td>▁</td></tr><tr><td>Recall_mean</td><td>▁</td></tr><tr><td>Recall_std</td><td>▁</td></tr></table><br/></div><div class=\"wandb-col\"><h3>Run summary:</h3><br/><table class=\"wandb\"><tr><td>Accuracy_mean</td><td>0.77267</td></tr><tr><td>Accuracy_std</td><td>0.04416</td></tr><tr><td>F1 Score_mean</td><td>0.77478</td></tr><tr><td>F1 Score_std</td><td>0.04357</td></tr><tr><td>Precision_mean</td><td>0.78117</td></tr><tr><td>Precision_std</td><td>0.04271</td></tr><tr><td>ROC-AUC_mean</td><td>0.88309</td></tr><tr><td>ROC-AUC_std</td><td>0.02444</td></tr><tr><td>Recall_mean</td><td>0.77267</td></tr><tr><td>Recall_std</td><td>0.04416</td></tr></table><br/></div></div>"
      ],
      "text/plain": [
       "<IPython.core.display.HTML object>"
      ]
     },
     "metadata": {},
     "output_type": "display_data"
    },
    {
     "data": {
      "text/html": [
       " View run <strong style=\"color:#cdcd00\">DT_Vision Ablated 1</strong> at: <a href='https://wandb.ai/lequn/AudioVisual_ML_ablation_study_v2/runs/1hd9jymg' target=\"_blank\">https://wandb.ai/lequn/AudioVisual_ML_ablation_study_v2/runs/1hd9jymg</a><br/> View job at <a href='https://wandb.ai/lequn/AudioVisual_ML_ablation_study_v2/jobs/QXJ0aWZhY3RDb2xsZWN0aW9uOjExMTQ1OTc4Ng==/version_details/v23' target=\"_blank\">https://wandb.ai/lequn/AudioVisual_ML_ablation_study_v2/jobs/QXJ0aWZhY3RDb2xsZWN0aW9uOjExMTQ1OTc4Ng==/version_details/v23</a><br/>Synced 6 W&B file(s), 0 media file(s), 0 artifact file(s) and 0 other file(s)"
      ],
      "text/plain": [
       "<IPython.core.display.HTML object>"
      ]
     },
     "metadata": {},
     "output_type": "display_data"
    },
    {
     "data": {
      "text/html": [
       "Find logs at: <code>./wandb/run-20240305_120436-1hd9jymg/logs</code>"
      ],
      "text/plain": [
       "<IPython.core.display.HTML object>"
      ]
     },
     "metadata": {},
     "output_type": "display_data"
    },
    {
     "name": "stdout",
     "output_type": "stream",
     "text": [
      "\tTraining model: RF\n"
     ]
    },
    {
     "data": {
      "application/vnd.jupyter.widget-view+json": {
       "model_id": "1e94bf54932642d7a35394850c3c1c8c",
       "version_major": 2,
       "version_minor": 0
      },
      "text/plain": [
       "VBox(children=(Label(value='Waiting for wandb.init()...\\r'), FloatProgress(value=0.011112483755550785, max=1.0…"
      ]
     },
     "metadata": {},
     "output_type": "display_data"
    },
    {
     "data": {
      "text/html": [
       "wandb version 0.16.3 is available!  To upgrade, please run:\n",
       " $ pip install wandb --upgrade"
      ],
      "text/plain": [
       "<IPython.core.display.HTML object>"
      ]
     },
     "metadata": {},
     "output_type": "display_data"
    },
    {
     "data": {
      "text/html": [
       "Tracking run with wandb version 0.15.12"
      ],
      "text/plain": [
       "<IPython.core.display.HTML object>"
      ]
     },
     "metadata": {},
     "output_type": "display_data"
    },
    {
     "data": {
      "text/html": [
       "Run data is saved locally in <code>/home/chenlequn/GitHub/LDED-FusionNet/code/wandb/run-20240305_120447-hu901u5l</code>"
      ],
      "text/plain": [
       "<IPython.core.display.HTML object>"
      ]
     },
     "metadata": {},
     "output_type": "display_data"
    },
    {
     "data": {
      "text/html": [
       "Syncing run <strong><a href='https://wandb.ai/lequn/AudioVisual_ML_ablation_study_v2/runs/hu901u5l' target=\"_blank\">RF_Vision Ablated 1</a></strong> to <a href='https://wandb.ai/lequn/AudioVisual_ML_ablation_study_v2' target=\"_blank\">Weights & Biases</a> (<a href='https://wandb.me/run' target=\"_blank\">docs</a>)<br/>"
      ],
      "text/plain": [
       "<IPython.core.display.HTML object>"
      ]
     },
     "metadata": {},
     "output_type": "display_data"
    },
    {
     "data": {
      "text/html": [
       " View project at <a href='https://wandb.ai/lequn/AudioVisual_ML_ablation_study_v2' target=\"_blank\">https://wandb.ai/lequn/AudioVisual_ML_ablation_study_v2</a>"
      ],
      "text/plain": [
       "<IPython.core.display.HTML object>"
      ]
     },
     "metadata": {},
     "output_type": "display_data"
    },
    {
     "data": {
      "text/html": [
       " View run at <a href='https://wandb.ai/lequn/AudioVisual_ML_ablation_study_v2/runs/hu901u5l' target=\"_blank\">https://wandb.ai/lequn/AudioVisual_ML_ablation_study_v2/runs/hu901u5l</a>"
      ],
      "text/plain": [
       "<IPython.core.display.HTML object>"
      ]
     },
     "metadata": {},
     "output_type": "display_data"
    },
    {
     "name": "stdout",
     "output_type": "stream",
     "text": [
      "\t\tAccuracy: Mean = 0.8310659186535764, Std = 0.030102372235356924\n",
      "\t\tF1 Score: Mean = 0.8316828575682607, Std = 0.02810890371907031\n",
      "\t\tPrecision: Mean = 0.8369191226612566, Std = 0.02611599672385443\n",
      "\t\tRecall: Mean = 0.8310659186535764, Std = 0.030102372235356924\n",
      "\t\tROC-AUC: Mean = 0.9529437763482431, Std = 0.0040782370708144266\n"
     ]
    },
    {
     "data": {
      "text/html": [
       "Waiting for W&B process to finish... <strong style=\"color:green\">(success).</strong>"
      ],
      "text/plain": [
       "<IPython.core.display.HTML object>"
      ]
     },
     "metadata": {},
     "output_type": "display_data"
    },
    {
     "data": {
      "application/vnd.jupyter.widget-view+json": {
       "model_id": "f48eec876a05432ba40eec0b3226be72",
       "version_major": 2,
       "version_minor": 0
      },
      "text/plain": [
       "VBox(children=(Label(value='0.000 MB of 0.004 MB uploaded (0.000 MB deduped)\\r'), FloatProgress(value=0.0, max…"
      ]
     },
     "metadata": {},
     "output_type": "display_data"
    },
    {
     "data": {
      "text/html": [
       "<style>\n",
       "    table.wandb td:nth-child(1) { padding: 0 10px; text-align: left ; width: auto;} td:nth-child(2) {text-align: left ; width: 100%}\n",
       "    .wandb-row { display: flex; flex-direction: row; flex-wrap: wrap; justify-content: flex-start; width: 100% }\n",
       "    .wandb-col { display: flex; flex-direction: column; flex-basis: 100%; flex: 1; padding: 10px; }\n",
       "    </style>\n",
       "<div class=\"wandb-row\"><div class=\"wandb-col\"><h3>Run history:</h3><br/><table class=\"wandb\"><tr><td>Accuracy_mean</td><td>▁</td></tr><tr><td>Accuracy_std</td><td>▁</td></tr><tr><td>F1 Score_mean</td><td>▁</td></tr><tr><td>F1 Score_std</td><td>▁</td></tr><tr><td>Precision_mean</td><td>▁</td></tr><tr><td>Precision_std</td><td>▁</td></tr><tr><td>ROC-AUC_mean</td><td>▁</td></tr><tr><td>ROC-AUC_std</td><td>▁</td></tr><tr><td>Recall_mean</td><td>▁</td></tr><tr><td>Recall_std</td><td>▁</td></tr></table><br/></div><div class=\"wandb-col\"><h3>Run summary:</h3><br/><table class=\"wandb\"><tr><td>Accuracy_mean</td><td>0.83107</td></tr><tr><td>Accuracy_std</td><td>0.0301</td></tr><tr><td>F1 Score_mean</td><td>0.83168</td></tr><tr><td>F1 Score_std</td><td>0.02811</td></tr><tr><td>Precision_mean</td><td>0.83692</td></tr><tr><td>Precision_std</td><td>0.02612</td></tr><tr><td>ROC-AUC_mean</td><td>0.95294</td></tr><tr><td>ROC-AUC_std</td><td>0.00408</td></tr><tr><td>Recall_mean</td><td>0.83107</td></tr><tr><td>Recall_std</td><td>0.0301</td></tr></table><br/></div></div>"
      ],
      "text/plain": [
       "<IPython.core.display.HTML object>"
      ]
     },
     "metadata": {},
     "output_type": "display_data"
    },
    {
     "data": {
      "text/html": [
       " View run <strong style=\"color:#cdcd00\">RF_Vision Ablated 1</strong> at: <a href='https://wandb.ai/lequn/AudioVisual_ML_ablation_study_v2/runs/hu901u5l' target=\"_blank\">https://wandb.ai/lequn/AudioVisual_ML_ablation_study_v2/runs/hu901u5l</a><br/> View job at <a href='https://wandb.ai/lequn/AudioVisual_ML_ablation_study_v2/jobs/QXJ0aWZhY3RDb2xsZWN0aW9uOjExMTQ1OTc4Ng==/version_details/v23' target=\"_blank\">https://wandb.ai/lequn/AudioVisual_ML_ablation_study_v2/jobs/QXJ0aWZhY3RDb2xsZWN0aW9uOjExMTQ1OTc4Ng==/version_details/v23</a><br/>Synced 6 W&B file(s), 0 media file(s), 0 artifact file(s) and 0 other file(s)"
      ],
      "text/plain": [
       "<IPython.core.display.HTML object>"
      ]
     },
     "metadata": {},
     "output_type": "display_data"
    },
    {
     "data": {
      "text/html": [
       "Find logs at: <code>./wandb/run-20240305_120447-hu901u5l/logs</code>"
      ],
      "text/plain": [
       "<IPython.core.display.HTML object>"
      ]
     },
     "metadata": {},
     "output_type": "display_data"
    },
    {
     "name": "stdout",
     "output_type": "stream",
     "text": [
      "\tTraining model: BalancedRF\n"
     ]
    },
    {
     "data": {
      "application/vnd.jupyter.widget-view+json": {
       "model_id": "3a62573081304df3a8c28c127002ec3a",
       "version_major": 2,
       "version_minor": 0
      },
      "text/plain": [
       "VBox(children=(Label(value='Waiting for wandb.init()...\\r'), FloatProgress(value=0.011112337911112668, max=1.0…"
      ]
     },
     "metadata": {},
     "output_type": "display_data"
    },
    {
     "data": {
      "text/html": [
       "wandb version 0.16.3 is available!  To upgrade, please run:\n",
       " $ pip install wandb --upgrade"
      ],
      "text/plain": [
       "<IPython.core.display.HTML object>"
      ]
     },
     "metadata": {},
     "output_type": "display_data"
    },
    {
     "data": {
      "text/html": [
       "Tracking run with wandb version 0.15.12"
      ],
      "text/plain": [
       "<IPython.core.display.HTML object>"
      ]
     },
     "metadata": {},
     "output_type": "display_data"
    },
    {
     "data": {
      "text/html": [
       "Run data is saved locally in <code>/home/chenlequn/GitHub/LDED-FusionNet/code/wandb/run-20240305_120500-dstb0hlb</code>"
      ],
      "text/plain": [
       "<IPython.core.display.HTML object>"
      ]
     },
     "metadata": {},
     "output_type": "display_data"
    },
    {
     "data": {
      "text/html": [
       "Syncing run <strong><a href='https://wandb.ai/lequn/AudioVisual_ML_ablation_study_v2/runs/dstb0hlb' target=\"_blank\">BalancedRF_Vision Ablated 1</a></strong> to <a href='https://wandb.ai/lequn/AudioVisual_ML_ablation_study_v2' target=\"_blank\">Weights & Biases</a> (<a href='https://wandb.me/run' target=\"_blank\">docs</a>)<br/>"
      ],
      "text/plain": [
       "<IPython.core.display.HTML object>"
      ]
     },
     "metadata": {},
     "output_type": "display_data"
    },
    {
     "data": {
      "text/html": [
       " View project at <a href='https://wandb.ai/lequn/AudioVisual_ML_ablation_study_v2' target=\"_blank\">https://wandb.ai/lequn/AudioVisual_ML_ablation_study_v2</a>"
      ],
      "text/plain": [
       "<IPython.core.display.HTML object>"
      ]
     },
     "metadata": {},
     "output_type": "display_data"
    },
    {
     "data": {
      "text/html": [
       " View run at <a href='https://wandb.ai/lequn/AudioVisual_ML_ablation_study_v2/runs/dstb0hlb' target=\"_blank\">https://wandb.ai/lequn/AudioVisual_ML_ablation_study_v2/runs/dstb0hlb</a>"
      ],
      "text/plain": [
       "<IPython.core.display.HTML object>"
      ]
     },
     "metadata": {},
     "output_type": "display_data"
    },
    {
     "name": "stderr",
     "output_type": "stream",
     "text": [
      "/home/chenlequn/anaconda3/envs/torch/lib/python3.9/site-packages/imblearn/ensemble/_forest.py:546: FutureWarning: The default of `sampling_strategy` will change from `'auto'` to `'all'` in version 0.13. This change will follow the implementation proposed in the original paper. Set to `'all'` to silence this warning and adopt the future behaviour.\n",
      "  warn(\n",
      "/home/chenlequn/anaconda3/envs/torch/lib/python3.9/site-packages/imblearn/ensemble/_forest.py:558: FutureWarning: The default of `replacement` will change from `False` to `True` in version 0.13. This change will follow the implementation proposed in the original paper. Set to `True` to silence this warning and adopt the future behaviour.\n",
      "  warn(\n"
     ]
    },
    {
     "name": "stdout",
     "output_type": "stream",
     "text": [
      "\t\tAccuracy: Mean = 0.8094202898550724, Std = 0.02689976425541668\n",
      "\t\tF1 Score: Mean = 0.8101113784974803, Std = 0.02621162659390847\n",
      "\t\tPrecision: Mean = 0.8152166044128493, Std = 0.028318363331439993\n",
      "\t\tRecall: Mean = 0.8094202898550724, Std = 0.02689976425541668\n",
      "\t\tROC-AUC: Mean = 0.9435457138672391, Std = 0.00298525323857649\n"
     ]
    },
    {
     "data": {
      "text/html": [
       "Waiting for W&B process to finish... <strong style=\"color:green\">(success).</strong>"
      ],
      "text/plain": [
       "<IPython.core.display.HTML object>"
      ]
     },
     "metadata": {},
     "output_type": "display_data"
    },
    {
     "data": {
      "text/html": [
       "<style>\n",
       "    table.wandb td:nth-child(1) { padding: 0 10px; text-align: left ; width: auto;} td:nth-child(2) {text-align: left ; width: 100%}\n",
       "    .wandb-row { display: flex; flex-direction: row; flex-wrap: wrap; justify-content: flex-start; width: 100% }\n",
       "    .wandb-col { display: flex; flex-direction: column; flex-basis: 100%; flex: 1; padding: 10px; }\n",
       "    </style>\n",
       "<div class=\"wandb-row\"><div class=\"wandb-col\"><h3>Run history:</h3><br/><table class=\"wandb\"><tr><td>Accuracy_mean</td><td>▁</td></tr><tr><td>Accuracy_std</td><td>▁</td></tr><tr><td>F1 Score_mean</td><td>▁</td></tr><tr><td>F1 Score_std</td><td>▁</td></tr><tr><td>Precision_mean</td><td>▁</td></tr><tr><td>Precision_std</td><td>▁</td></tr><tr><td>ROC-AUC_mean</td><td>▁</td></tr><tr><td>ROC-AUC_std</td><td>▁</td></tr><tr><td>Recall_mean</td><td>▁</td></tr><tr><td>Recall_std</td><td>▁</td></tr></table><br/></div><div class=\"wandb-col\"><h3>Run summary:</h3><br/><table class=\"wandb\"><tr><td>Accuracy_mean</td><td>0.80942</td></tr><tr><td>Accuracy_std</td><td>0.0269</td></tr><tr><td>F1 Score_mean</td><td>0.81011</td></tr><tr><td>F1 Score_std</td><td>0.02621</td></tr><tr><td>Precision_mean</td><td>0.81522</td></tr><tr><td>Precision_std</td><td>0.02832</td></tr><tr><td>ROC-AUC_mean</td><td>0.94355</td></tr><tr><td>ROC-AUC_std</td><td>0.00299</td></tr><tr><td>Recall_mean</td><td>0.80942</td></tr><tr><td>Recall_std</td><td>0.0269</td></tr></table><br/></div></div>"
      ],
      "text/plain": [
       "<IPython.core.display.HTML object>"
      ]
     },
     "metadata": {},
     "output_type": "display_data"
    },
    {
     "data": {
      "text/html": [
       " View run <strong style=\"color:#cdcd00\">BalancedRF_Vision Ablated 1</strong> at: <a href='https://wandb.ai/lequn/AudioVisual_ML_ablation_study_v2/runs/dstb0hlb' target=\"_blank\">https://wandb.ai/lequn/AudioVisual_ML_ablation_study_v2/runs/dstb0hlb</a><br/> View job at <a href='https://wandb.ai/lequn/AudioVisual_ML_ablation_study_v2/jobs/QXJ0aWZhY3RDb2xsZWN0aW9uOjExMTQ1OTc4Ng==/version_details/v23' target=\"_blank\">https://wandb.ai/lequn/AudioVisual_ML_ablation_study_v2/jobs/QXJ0aWZhY3RDb2xsZWN0aW9uOjExMTQ1OTc4Ng==/version_details/v23</a><br/>Synced 6 W&B file(s), 0 media file(s), 0 artifact file(s) and 0 other file(s)"
      ],
      "text/plain": [
       "<IPython.core.display.HTML object>"
      ]
     },
     "metadata": {},
     "output_type": "display_data"
    },
    {
     "data": {
      "text/html": [
       "Find logs at: <code>./wandb/run-20240305_120500-dstb0hlb/logs</code>"
      ],
      "text/plain": [
       "<IPython.core.display.HTML object>"
      ]
     },
     "metadata": {},
     "output_type": "display_data"
    },
    {
     "name": "stdout",
     "output_type": "stream",
     "text": [
      "\tTraining model: RUSBoost\n"
     ]
    },
    {
     "data": {
      "application/vnd.jupyter.widget-view+json": {
       "model_id": "8d093e6ee35f4d4195808206c5f59f7d",
       "version_major": 2,
       "version_minor": 0
      },
      "text/plain": [
       "VBox(children=(Label(value='Waiting for wandb.init()...\\r'), FloatProgress(value=0.011112409299999449, max=1.0…"
      ]
     },
     "metadata": {},
     "output_type": "display_data"
    },
    {
     "data": {
      "text/html": [
       "wandb version 0.16.3 is available!  To upgrade, please run:\n",
       " $ pip install wandb --upgrade"
      ],
      "text/plain": [
       "<IPython.core.display.HTML object>"
      ]
     },
     "metadata": {},
     "output_type": "display_data"
    },
    {
     "data": {
      "text/html": [
       "Tracking run with wandb version 0.15.12"
      ],
      "text/plain": [
       "<IPython.core.display.HTML object>"
      ]
     },
     "metadata": {},
     "output_type": "display_data"
    },
    {
     "data": {
      "text/html": [
       "Run data is saved locally in <code>/home/chenlequn/GitHub/LDED-FusionNet/code/wandb/run-20240305_120512-1k9yi52w</code>"
      ],
      "text/plain": [
       "<IPython.core.display.HTML object>"
      ]
     },
     "metadata": {},
     "output_type": "display_data"
    },
    {
     "data": {
      "text/html": [
       "Syncing run <strong><a href='https://wandb.ai/lequn/AudioVisual_ML_ablation_study_v2/runs/1k9yi52w' target=\"_blank\">RUSBoost_Vision Ablated 1</a></strong> to <a href='https://wandb.ai/lequn/AudioVisual_ML_ablation_study_v2' target=\"_blank\">Weights & Biases</a> (<a href='https://wandb.me/run' target=\"_blank\">docs</a>)<br/>"
      ],
      "text/plain": [
       "<IPython.core.display.HTML object>"
      ]
     },
     "metadata": {},
     "output_type": "display_data"
    },
    {
     "data": {
      "text/html": [
       " View project at <a href='https://wandb.ai/lequn/AudioVisual_ML_ablation_study_v2' target=\"_blank\">https://wandb.ai/lequn/AudioVisual_ML_ablation_study_v2</a>"
      ],
      "text/plain": [
       "<IPython.core.display.HTML object>"
      ]
     },
     "metadata": {},
     "output_type": "display_data"
    },
    {
     "data": {
      "text/html": [
       " View run at <a href='https://wandb.ai/lequn/AudioVisual_ML_ablation_study_v2/runs/1k9yi52w' target=\"_blank\">https://wandb.ai/lequn/AudioVisual_ML_ablation_study_v2/runs/1k9yi52w</a>"
      ],
      "text/plain": [
       "<IPython.core.display.HTML object>"
      ]
     },
     "metadata": {},
     "output_type": "display_data"
    },
    {
     "name": "stdout",
     "output_type": "stream",
     "text": [
      "\t\tAccuracy: Mean = 0.7098877980364657, Std = 0.047986327372545066\n",
      "\t\tF1 Score: Mean = 0.7016438358983117, Std = 0.04360157103673465\n",
      "\t\tPrecision: Mean = 0.7163160509022317, Std = 0.049160527094895275\n",
      "\t\tRecall: Mean = 0.7098877980364657, Std = 0.047986327372545066\n",
      "\t\tROC-AUC: Mean = 0.8653539631788585, Std = 0.018568803219984036\n"
     ]
    },
    {
     "data": {
      "text/html": [
       "Waiting for W&B process to finish... <strong style=\"color:green\">(success).</strong>"
      ],
      "text/plain": [
       "<IPython.core.display.HTML object>"
      ]
     },
     "metadata": {},
     "output_type": "display_data"
    },
    {
     "data": {
      "text/html": [
       "<style>\n",
       "    table.wandb td:nth-child(1) { padding: 0 10px; text-align: left ; width: auto;} td:nth-child(2) {text-align: left ; width: 100%}\n",
       "    .wandb-row { display: flex; flex-direction: row; flex-wrap: wrap; justify-content: flex-start; width: 100% }\n",
       "    .wandb-col { display: flex; flex-direction: column; flex-basis: 100%; flex: 1; padding: 10px; }\n",
       "    </style>\n",
       "<div class=\"wandb-row\"><div class=\"wandb-col\"><h3>Run history:</h3><br/><table class=\"wandb\"><tr><td>Accuracy_mean</td><td>▁</td></tr><tr><td>Accuracy_std</td><td>▁</td></tr><tr><td>F1 Score_mean</td><td>▁</td></tr><tr><td>F1 Score_std</td><td>▁</td></tr><tr><td>Precision_mean</td><td>▁</td></tr><tr><td>Precision_std</td><td>▁</td></tr><tr><td>ROC-AUC_mean</td><td>▁</td></tr><tr><td>ROC-AUC_std</td><td>▁</td></tr><tr><td>Recall_mean</td><td>▁</td></tr><tr><td>Recall_std</td><td>▁</td></tr></table><br/></div><div class=\"wandb-col\"><h3>Run summary:</h3><br/><table class=\"wandb\"><tr><td>Accuracy_mean</td><td>0.70989</td></tr><tr><td>Accuracy_std</td><td>0.04799</td></tr><tr><td>F1 Score_mean</td><td>0.70164</td></tr><tr><td>F1 Score_std</td><td>0.0436</td></tr><tr><td>Precision_mean</td><td>0.71632</td></tr><tr><td>Precision_std</td><td>0.04916</td></tr><tr><td>ROC-AUC_mean</td><td>0.86535</td></tr><tr><td>ROC-AUC_std</td><td>0.01857</td></tr><tr><td>Recall_mean</td><td>0.70989</td></tr><tr><td>Recall_std</td><td>0.04799</td></tr></table><br/></div></div>"
      ],
      "text/plain": [
       "<IPython.core.display.HTML object>"
      ]
     },
     "metadata": {},
     "output_type": "display_data"
    },
    {
     "data": {
      "text/html": [
       " View run <strong style=\"color:#cdcd00\">RUSBoost_Vision Ablated 1</strong> at: <a href='https://wandb.ai/lequn/AudioVisual_ML_ablation_study_v2/runs/1k9yi52w' target=\"_blank\">https://wandb.ai/lequn/AudioVisual_ML_ablation_study_v2/runs/1k9yi52w</a><br/> View job at <a href='https://wandb.ai/lequn/AudioVisual_ML_ablation_study_v2/jobs/QXJ0aWZhY3RDb2xsZWN0aW9uOjExMTQ1OTc4Ng==/version_details/v23' target=\"_blank\">https://wandb.ai/lequn/AudioVisual_ML_ablation_study_v2/jobs/QXJ0aWZhY3RDb2xsZWN0aW9uOjExMTQ1OTc4Ng==/version_details/v23</a><br/>Synced 6 W&B file(s), 0 media file(s), 0 artifact file(s) and 0 other file(s)"
      ],
      "text/plain": [
       "<IPython.core.display.HTML object>"
      ]
     },
     "metadata": {},
     "output_type": "display_data"
    },
    {
     "data": {
      "text/html": [
       "Find logs at: <code>./wandb/run-20240305_120512-1k9yi52w/logs</code>"
      ],
      "text/plain": [
       "<IPython.core.display.HTML object>"
      ]
     },
     "metadata": {},
     "output_type": "display_data"
    },
    {
     "name": "stdout",
     "output_type": "stream",
     "text": [
      "\tTraining model: Ada\n"
     ]
    },
    {
     "data": {
      "application/vnd.jupyter.widget-view+json": {
       "model_id": "3f7def43e12b4ec8adb05bc47671e7fd",
       "version_major": 2,
       "version_minor": 0
      },
      "text/plain": [
       "VBox(children=(Label(value='Waiting for wandb.init()...\\r'), FloatProgress(value=0.011113313744438831, max=1.0…"
      ]
     },
     "metadata": {},
     "output_type": "display_data"
    },
    {
     "data": {
      "text/html": [
       "wandb version 0.16.3 is available!  To upgrade, please run:\n",
       " $ pip install wandb --upgrade"
      ],
      "text/plain": [
       "<IPython.core.display.HTML object>"
      ]
     },
     "metadata": {},
     "output_type": "display_data"
    },
    {
     "data": {
      "text/html": [
       "Tracking run with wandb version 0.15.12"
      ],
      "text/plain": [
       "<IPython.core.display.HTML object>"
      ]
     },
     "metadata": {},
     "output_type": "display_data"
    },
    {
     "data": {
      "text/html": [
       "Run data is saved locally in <code>/home/chenlequn/GitHub/LDED-FusionNet/code/wandb/run-20240305_120525-s35pcbva</code>"
      ],
      "text/plain": [
       "<IPython.core.display.HTML object>"
      ]
     },
     "metadata": {},
     "output_type": "display_data"
    },
    {
     "data": {
      "text/html": [
       "Syncing run <strong><a href='https://wandb.ai/lequn/AudioVisual_ML_ablation_study_v2/runs/s35pcbva' target=\"_blank\">Ada_Vision Ablated 1</a></strong> to <a href='https://wandb.ai/lequn/AudioVisual_ML_ablation_study_v2' target=\"_blank\">Weights & Biases</a> (<a href='https://wandb.me/run' target=\"_blank\">docs</a>)<br/>"
      ],
      "text/plain": [
       "<IPython.core.display.HTML object>"
      ]
     },
     "metadata": {},
     "output_type": "display_data"
    },
    {
     "data": {
      "text/html": [
       " View project at <a href='https://wandb.ai/lequn/AudioVisual_ML_ablation_study_v2' target=\"_blank\">https://wandb.ai/lequn/AudioVisual_ML_ablation_study_v2</a>"
      ],
      "text/plain": [
       "<IPython.core.display.HTML object>"
      ]
     },
     "metadata": {},
     "output_type": "display_data"
    },
    {
     "data": {
      "text/html": [
       " View run at <a href='https://wandb.ai/lequn/AudioVisual_ML_ablation_study_v2/runs/s35pcbva' target=\"_blank\">https://wandb.ai/lequn/AudioVisual_ML_ablation_study_v2/runs/s35pcbva</a>"
      ],
      "text/plain": [
       "<IPython.core.display.HTML object>"
      ]
     },
     "metadata": {},
     "output_type": "display_data"
    },
    {
     "name": "stdout",
     "output_type": "stream",
     "text": [
      "\t\tAccuracy: Mean = 0.6753623188405797, Std = 0.06498214890617447\n",
      "\t\tF1 Score: Mean = 0.6797818892558553, Std = 0.058616515952216716\n",
      "\t\tPrecision: Mean = 0.6893451992412254, Std = 0.051058458834141805\n",
      "\t\tRecall: Mean = 0.6753623188405797, Std = 0.06498214890617447\n",
      "\t\tROC-AUC: Mean = 0.8575215097488424, Std = 0.022983856676873828\n"
     ]
    },
    {
     "data": {
      "text/html": [
       "Waiting for W&B process to finish... <strong style=\"color:green\">(success).</strong>"
      ],
      "text/plain": [
       "<IPython.core.display.HTML object>"
      ]
     },
     "metadata": {},
     "output_type": "display_data"
    },
    {
     "data": {
      "text/html": [
       "<style>\n",
       "    table.wandb td:nth-child(1) { padding: 0 10px; text-align: left ; width: auto;} td:nth-child(2) {text-align: left ; width: 100%}\n",
       "    .wandb-row { display: flex; flex-direction: row; flex-wrap: wrap; justify-content: flex-start; width: 100% }\n",
       "    .wandb-col { display: flex; flex-direction: column; flex-basis: 100%; flex: 1; padding: 10px; }\n",
       "    </style>\n",
       "<div class=\"wandb-row\"><div class=\"wandb-col\"><h3>Run history:</h3><br/><table class=\"wandb\"><tr><td>Accuracy_mean</td><td>▁</td></tr><tr><td>Accuracy_std</td><td>▁</td></tr><tr><td>F1 Score_mean</td><td>▁</td></tr><tr><td>F1 Score_std</td><td>▁</td></tr><tr><td>Precision_mean</td><td>▁</td></tr><tr><td>Precision_std</td><td>▁</td></tr><tr><td>ROC-AUC_mean</td><td>▁</td></tr><tr><td>ROC-AUC_std</td><td>▁</td></tr><tr><td>Recall_mean</td><td>▁</td></tr><tr><td>Recall_std</td><td>▁</td></tr></table><br/></div><div class=\"wandb-col\"><h3>Run summary:</h3><br/><table class=\"wandb\"><tr><td>Accuracy_mean</td><td>0.67536</td></tr><tr><td>Accuracy_std</td><td>0.06498</td></tr><tr><td>F1 Score_mean</td><td>0.67978</td></tr><tr><td>F1 Score_std</td><td>0.05862</td></tr><tr><td>Precision_mean</td><td>0.68935</td></tr><tr><td>Precision_std</td><td>0.05106</td></tr><tr><td>ROC-AUC_mean</td><td>0.85752</td></tr><tr><td>ROC-AUC_std</td><td>0.02298</td></tr><tr><td>Recall_mean</td><td>0.67536</td></tr><tr><td>Recall_std</td><td>0.06498</td></tr></table><br/></div></div>"
      ],
      "text/plain": [
       "<IPython.core.display.HTML object>"
      ]
     },
     "metadata": {},
     "output_type": "display_data"
    },
    {
     "data": {
      "text/html": [
       " View run <strong style=\"color:#cdcd00\">Ada_Vision Ablated 1</strong> at: <a href='https://wandb.ai/lequn/AudioVisual_ML_ablation_study_v2/runs/s35pcbva' target=\"_blank\">https://wandb.ai/lequn/AudioVisual_ML_ablation_study_v2/runs/s35pcbva</a><br/> View job at <a href='https://wandb.ai/lequn/AudioVisual_ML_ablation_study_v2/jobs/QXJ0aWZhY3RDb2xsZWN0aW9uOjExMTQ1OTc4Ng==/version_details/v23' target=\"_blank\">https://wandb.ai/lequn/AudioVisual_ML_ablation_study_v2/jobs/QXJ0aWZhY3RDb2xsZWN0aW9uOjExMTQ1OTc4Ng==/version_details/v23</a><br/>Synced 6 W&B file(s), 0 media file(s), 0 artifact file(s) and 0 other file(s)"
      ],
      "text/plain": [
       "<IPython.core.display.HTML object>"
      ]
     },
     "metadata": {},
     "output_type": "display_data"
    },
    {
     "data": {
      "text/html": [
       "Find logs at: <code>./wandb/run-20240305_120525-s35pcbva/logs</code>"
      ],
      "text/plain": [
       "<IPython.core.display.HTML object>"
      ]
     },
     "metadata": {},
     "output_type": "display_data"
    },
    {
     "name": "stdout",
     "output_type": "stream",
     "text": [
      "\tTraining model: NN\n"
     ]
    },
    {
     "data": {
      "application/vnd.jupyter.widget-view+json": {
       "model_id": "b803b005613746d591b53c4c86a62151",
       "version_major": 2,
       "version_minor": 0
      },
      "text/plain": [
       "VBox(children=(Label(value='Waiting for wandb.init()...\\r'), FloatProgress(value=0.011112381800002267, max=1.0…"
      ]
     },
     "metadata": {},
     "output_type": "display_data"
    },
    {
     "data": {
      "text/html": [
       "wandb version 0.16.3 is available!  To upgrade, please run:\n",
       " $ pip install wandb --upgrade"
      ],
      "text/plain": [
       "<IPython.core.display.HTML object>"
      ]
     },
     "metadata": {},
     "output_type": "display_data"
    },
    {
     "data": {
      "text/html": [
       "Tracking run with wandb version 0.15.12"
      ],
      "text/plain": [
       "<IPython.core.display.HTML object>"
      ]
     },
     "metadata": {},
     "output_type": "display_data"
    },
    {
     "data": {
      "text/html": [
       "Run data is saved locally in <code>/home/chenlequn/GitHub/LDED-FusionNet/code/wandb/run-20240305_120536-fxjr6y8u</code>"
      ],
      "text/plain": [
       "<IPython.core.display.HTML object>"
      ]
     },
     "metadata": {},
     "output_type": "display_data"
    },
    {
     "data": {
      "text/html": [
       "Syncing run <strong><a href='https://wandb.ai/lequn/AudioVisual_ML_ablation_study_v2/runs/fxjr6y8u' target=\"_blank\">NN_Vision Ablated 1</a></strong> to <a href='https://wandb.ai/lequn/AudioVisual_ML_ablation_study_v2' target=\"_blank\">Weights & Biases</a> (<a href='https://wandb.me/run' target=\"_blank\">docs</a>)<br/>"
      ],
      "text/plain": [
       "<IPython.core.display.HTML object>"
      ]
     },
     "metadata": {},
     "output_type": "display_data"
    },
    {
     "data": {
      "text/html": [
       " View project at <a href='https://wandb.ai/lequn/AudioVisual_ML_ablation_study_v2' target=\"_blank\">https://wandb.ai/lequn/AudioVisual_ML_ablation_study_v2</a>"
      ],
      "text/plain": [
       "<IPython.core.display.HTML object>"
      ]
     },
     "metadata": {},
     "output_type": "display_data"
    },
    {
     "data": {
      "text/html": [
       " View run at <a href='https://wandb.ai/lequn/AudioVisual_ML_ablation_study_v2/runs/fxjr6y8u' target=\"_blank\">https://wandb.ai/lequn/AudioVisual_ML_ablation_study_v2/runs/fxjr6y8u</a>"
      ],
      "text/plain": [
       "<IPython.core.display.HTML object>"
      ]
     },
     "metadata": {},
     "output_type": "display_data"
    },
    {
     "name": "stdout",
     "output_type": "stream",
     "text": [
      "\t\tAccuracy: Mean = 0.7920991117344552, Std = 0.030124944508694677\n",
      "\t\tF1 Score: Mean = 0.7880345211096007, Std = 0.031233458467757477\n",
      "\t\tPrecision: Mean = 0.7924231354735822, Std = 0.029932537613592616\n",
      "\t\tRecall: Mean = 0.7920991117344552, Std = 0.030124944508694677\n",
      "\t\tROC-AUC: Mean = 0.9245053376872431, Std = 0.00954575741639197\n"
     ]
    },
    {
     "data": {
      "text/html": [
       "Waiting for W&B process to finish... <strong style=\"color:green\">(success).</strong>"
      ],
      "text/plain": [
       "<IPython.core.display.HTML object>"
      ]
     },
     "metadata": {},
     "output_type": "display_data"
    },
    {
     "data": {
      "text/html": [
       "<style>\n",
       "    table.wandb td:nth-child(1) { padding: 0 10px; text-align: left ; width: auto;} td:nth-child(2) {text-align: left ; width: 100%}\n",
       "    .wandb-row { display: flex; flex-direction: row; flex-wrap: wrap; justify-content: flex-start; width: 100% }\n",
       "    .wandb-col { display: flex; flex-direction: column; flex-basis: 100%; flex: 1; padding: 10px; }\n",
       "    </style>\n",
       "<div class=\"wandb-row\"><div class=\"wandb-col\"><h3>Run history:</h3><br/><table class=\"wandb\"><tr><td>Accuracy_mean</td><td>▁</td></tr><tr><td>Accuracy_std</td><td>▁</td></tr><tr><td>F1 Score_mean</td><td>▁</td></tr><tr><td>F1 Score_std</td><td>▁</td></tr><tr><td>Precision_mean</td><td>▁</td></tr><tr><td>Precision_std</td><td>▁</td></tr><tr><td>ROC-AUC_mean</td><td>▁</td></tr><tr><td>ROC-AUC_std</td><td>▁</td></tr><tr><td>Recall_mean</td><td>▁</td></tr><tr><td>Recall_std</td><td>▁</td></tr></table><br/></div><div class=\"wandb-col\"><h3>Run summary:</h3><br/><table class=\"wandb\"><tr><td>Accuracy_mean</td><td>0.7921</td></tr><tr><td>Accuracy_std</td><td>0.03012</td></tr><tr><td>F1 Score_mean</td><td>0.78803</td></tr><tr><td>F1 Score_std</td><td>0.03123</td></tr><tr><td>Precision_mean</td><td>0.79242</td></tr><tr><td>Precision_std</td><td>0.02993</td></tr><tr><td>ROC-AUC_mean</td><td>0.92451</td></tr><tr><td>ROC-AUC_std</td><td>0.00955</td></tr><tr><td>Recall_mean</td><td>0.7921</td></tr><tr><td>Recall_std</td><td>0.03012</td></tr></table><br/></div></div>"
      ],
      "text/plain": [
       "<IPython.core.display.HTML object>"
      ]
     },
     "metadata": {},
     "output_type": "display_data"
    },
    {
     "data": {
      "text/html": [
       " View run <strong style=\"color:#cdcd00\">NN_Vision Ablated 1</strong> at: <a href='https://wandb.ai/lequn/AudioVisual_ML_ablation_study_v2/runs/fxjr6y8u' target=\"_blank\">https://wandb.ai/lequn/AudioVisual_ML_ablation_study_v2/runs/fxjr6y8u</a><br/> View job at <a href='https://wandb.ai/lequn/AudioVisual_ML_ablation_study_v2/jobs/QXJ0aWZhY3RDb2xsZWN0aW9uOjExMTQ1OTc4Ng==/version_details/v23' target=\"_blank\">https://wandb.ai/lequn/AudioVisual_ML_ablation_study_v2/jobs/QXJ0aWZhY3RDb2xsZWN0aW9uOjExMTQ1OTc4Ng==/version_details/v23</a><br/>Synced 6 W&B file(s), 0 media file(s), 0 artifact file(s) and 0 other file(s)"
      ],
      "text/plain": [
       "<IPython.core.display.HTML object>"
      ]
     },
     "metadata": {},
     "output_type": "display_data"
    },
    {
     "data": {
      "text/html": [
       "Find logs at: <code>./wandb/run-20240305_120536-fxjr6y8u/logs</code>"
      ],
      "text/plain": [
       "<IPython.core.display.HTML object>"
      ]
     },
     "metadata": {},
     "output_type": "display_data"
    },
    {
     "name": "stdout",
     "output_type": "stream",
     "text": [
      "\tTraining model: XGBoost\n"
     ]
    },
    {
     "data": {
      "application/vnd.jupyter.widget-view+json": {
       "model_id": "4c6c6d0476e74703aff7bb0441872463",
       "version_major": 2,
       "version_minor": 0
      },
      "text/plain": [
       "VBox(children=(Label(value='Waiting for wandb.init()...\\r'), FloatProgress(value=0.011112339777769698, max=1.0…"
      ]
     },
     "metadata": {},
     "output_type": "display_data"
    },
    {
     "data": {
      "text/html": [
       "wandb version 0.16.3 is available!  To upgrade, please run:\n",
       " $ pip install wandb --upgrade"
      ],
      "text/plain": [
       "<IPython.core.display.HTML object>"
      ]
     },
     "metadata": {},
     "output_type": "display_data"
    },
    {
     "data": {
      "text/html": [
       "Tracking run with wandb version 0.15.12"
      ],
      "text/plain": [
       "<IPython.core.display.HTML object>"
      ]
     },
     "metadata": {},
     "output_type": "display_data"
    },
    {
     "data": {
      "text/html": [
       "Run data is saved locally in <code>/home/chenlequn/GitHub/LDED-FusionNet/code/wandb/run-20240305_120550-qrh0y1nc</code>"
      ],
      "text/plain": [
       "<IPython.core.display.HTML object>"
      ]
     },
     "metadata": {},
     "output_type": "display_data"
    },
    {
     "data": {
      "text/html": [
       "Syncing run <strong><a href='https://wandb.ai/lequn/AudioVisual_ML_ablation_study_v2/runs/qrh0y1nc' target=\"_blank\">XGBoost_Vision Ablated 1</a></strong> to <a href='https://wandb.ai/lequn/AudioVisual_ML_ablation_study_v2' target=\"_blank\">Weights & Biases</a> (<a href='https://wandb.me/run' target=\"_blank\">docs</a>)<br/>"
      ],
      "text/plain": [
       "<IPython.core.display.HTML object>"
      ]
     },
     "metadata": {},
     "output_type": "display_data"
    },
    {
     "data": {
      "text/html": [
       " View project at <a href='https://wandb.ai/lequn/AudioVisual_ML_ablation_study_v2' target=\"_blank\">https://wandb.ai/lequn/AudioVisual_ML_ablation_study_v2</a>"
      ],
      "text/plain": [
       "<IPython.core.display.HTML object>"
      ]
     },
     "metadata": {},
     "output_type": "display_data"
    },
    {
     "data": {
      "text/html": [
       " View run at <a href='https://wandb.ai/lequn/AudioVisual_ML_ablation_study_v2/runs/qrh0y1nc' target=\"_blank\">https://wandb.ai/lequn/AudioVisual_ML_ablation_study_v2/runs/qrh0y1nc</a>"
      ],
      "text/plain": [
       "<IPython.core.display.HTML object>"
      ]
     },
     "metadata": {},
     "output_type": "display_data"
    },
    {
     "name": "stdout",
     "output_type": "stream",
     "text": [
      "\t\tAccuracy: Mean = 0.8073632538569424, Std = 0.010527345865242762\n",
      "\t\tF1 Score: Mean = 0.8067785130250174, Std = 0.011709467758045914\n",
      "\t\tPrecision: Mean = 0.8109159798625718, Std = 0.010502753673628617\n",
      "\t\tRecall: Mean = 0.8073632538569424, Std = 0.010527345865242762\n",
      "\t\tROC-AUC: Mean = 0.9391279409410881, Std = 0.009149820307064075\n"
     ]
    },
    {
     "data": {
      "text/html": [
       "Waiting for W&B process to finish... <strong style=\"color:green\">(success).</strong>"
      ],
      "text/plain": [
       "<IPython.core.display.HTML object>"
      ]
     },
     "metadata": {},
     "output_type": "display_data"
    },
    {
     "data": {
      "text/html": [
       "<style>\n",
       "    table.wandb td:nth-child(1) { padding: 0 10px; text-align: left ; width: auto;} td:nth-child(2) {text-align: left ; width: 100%}\n",
       "    .wandb-row { display: flex; flex-direction: row; flex-wrap: wrap; justify-content: flex-start; width: 100% }\n",
       "    .wandb-col { display: flex; flex-direction: column; flex-basis: 100%; flex: 1; padding: 10px; }\n",
       "    </style>\n",
       "<div class=\"wandb-row\"><div class=\"wandb-col\"><h3>Run history:</h3><br/><table class=\"wandb\"><tr><td>Accuracy_mean</td><td>▁</td></tr><tr><td>Accuracy_std</td><td>▁</td></tr><tr><td>F1 Score_mean</td><td>▁</td></tr><tr><td>F1 Score_std</td><td>▁</td></tr><tr><td>Precision_mean</td><td>▁</td></tr><tr><td>Precision_std</td><td>▁</td></tr><tr><td>ROC-AUC_mean</td><td>▁</td></tr><tr><td>ROC-AUC_std</td><td>▁</td></tr><tr><td>Recall_mean</td><td>▁</td></tr><tr><td>Recall_std</td><td>▁</td></tr></table><br/></div><div class=\"wandb-col\"><h3>Run summary:</h3><br/><table class=\"wandb\"><tr><td>Accuracy_mean</td><td>0.80736</td></tr><tr><td>Accuracy_std</td><td>0.01053</td></tr><tr><td>F1 Score_mean</td><td>0.80678</td></tr><tr><td>F1 Score_std</td><td>0.01171</td></tr><tr><td>Precision_mean</td><td>0.81092</td></tr><tr><td>Precision_std</td><td>0.0105</td></tr><tr><td>ROC-AUC_mean</td><td>0.93913</td></tr><tr><td>ROC-AUC_std</td><td>0.00915</td></tr><tr><td>Recall_mean</td><td>0.80736</td></tr><tr><td>Recall_std</td><td>0.01053</td></tr></table><br/></div></div>"
      ],
      "text/plain": [
       "<IPython.core.display.HTML object>"
      ]
     },
     "metadata": {},
     "output_type": "display_data"
    },
    {
     "data": {
      "text/html": [
       " View run <strong style=\"color:#cdcd00\">XGBoost_Vision Ablated 1</strong> at: <a href='https://wandb.ai/lequn/AudioVisual_ML_ablation_study_v2/runs/qrh0y1nc' target=\"_blank\">https://wandb.ai/lequn/AudioVisual_ML_ablation_study_v2/runs/qrh0y1nc</a><br/> View job at <a href='https://wandb.ai/lequn/AudioVisual_ML_ablation_study_v2/jobs/QXJ0aWZhY3RDb2xsZWN0aW9uOjExMTQ1OTc4Ng==/version_details/v23' target=\"_blank\">https://wandb.ai/lequn/AudioVisual_ML_ablation_study_v2/jobs/QXJ0aWZhY3RDb2xsZWN0aW9uOjExMTQ1OTc4Ng==/version_details/v23</a><br/>Synced 6 W&B file(s), 0 media file(s), 0 artifact file(s) and 0 other file(s)"
      ],
      "text/plain": [
       "<IPython.core.display.HTML object>"
      ]
     },
     "metadata": {},
     "output_type": "display_data"
    },
    {
     "data": {
      "text/html": [
       "Find logs at: <code>./wandb/run-20240305_120550-qrh0y1nc/logs</code>"
      ],
      "text/plain": [
       "<IPython.core.display.HTML object>"
      ]
     },
     "metadata": {},
     "output_type": "display_data"
    },
    {
     "name": "stdout",
     "output_type": "stream",
     "text": [
      "\tTraining model: LightGBM\n"
     ]
    },
    {
     "data": {
      "application/vnd.jupyter.widget-view+json": {
       "model_id": "a63d0c4276b846b78fc7453b03b512b5",
       "version_major": 2,
       "version_minor": 0
      },
      "text/plain": [
       "VBox(children=(Label(value='Waiting for wandb.init()...\\r'), FloatProgress(value=0.011112562577778186, max=1.0…"
      ]
     },
     "metadata": {},
     "output_type": "display_data"
    },
    {
     "data": {
      "text/html": [
       "wandb version 0.16.3 is available!  To upgrade, please run:\n",
       " $ pip install wandb --upgrade"
      ],
      "text/plain": [
       "<IPython.core.display.HTML object>"
      ]
     },
     "metadata": {},
     "output_type": "display_data"
    },
    {
     "data": {
      "text/html": [
       "Tracking run with wandb version 0.15.12"
      ],
      "text/plain": [
       "<IPython.core.display.HTML object>"
      ]
     },
     "metadata": {},
     "output_type": "display_data"
    },
    {
     "data": {
      "text/html": [
       "Run data is saved locally in <code>/home/chenlequn/GitHub/LDED-FusionNet/code/wandb/run-20240305_120602-ppo1uteb</code>"
      ],
      "text/plain": [
       "<IPython.core.display.HTML object>"
      ]
     },
     "metadata": {},
     "output_type": "display_data"
    },
    {
     "data": {
      "text/html": [
       "Syncing run <strong><a href='https://wandb.ai/lequn/AudioVisual_ML_ablation_study_v2/runs/ppo1uteb' target=\"_blank\">LightGBM_Vision Ablated 1</a></strong> to <a href='https://wandb.ai/lequn/AudioVisual_ML_ablation_study_v2' target=\"_blank\">Weights & Biases</a> (<a href='https://wandb.me/run' target=\"_blank\">docs</a>)<br/>"
      ],
      "text/plain": [
       "<IPython.core.display.HTML object>"
      ]
     },
     "metadata": {},
     "output_type": "display_data"
    },
    {
     "data": {
      "text/html": [
       " View project at <a href='https://wandb.ai/lequn/AudioVisual_ML_ablation_study_v2' target=\"_blank\">https://wandb.ai/lequn/AudioVisual_ML_ablation_study_v2</a>"
      ],
      "text/plain": [
       "<IPython.core.display.HTML object>"
      ]
     },
     "metadata": {},
     "output_type": "display_data"
    },
    {
     "data": {
      "text/html": [
       " View run at <a href='https://wandb.ai/lequn/AudioVisual_ML_ablation_study_v2/runs/ppo1uteb' target=\"_blank\">https://wandb.ai/lequn/AudioVisual_ML_ablation_study_v2/runs/ppo1uteb</a>"
      ],
      "text/plain": [
       "<IPython.core.display.HTML object>"
      ]
     },
     "metadata": {},
     "output_type": "display_data"
    },
    {
     "name": "stdout",
     "output_type": "stream",
     "text": [
      "\t\tAccuracy: Mean = 0.8116175783076205, Std = 0.028409383976931917\n",
      "\t\tF1 Score: Mean = 0.811488467684903, Std = 0.027997802394250863\n",
      "\t\tPrecision: Mean = 0.8186392647173524, Std = 0.029369203154386347\n",
      "\t\tRecall: Mean = 0.8116175783076205, Std = 0.028409383976931917\n",
      "\t\tROC-AUC: Mean = 0.9483464744978394, Std = 0.0067745896781989\n"
     ]
    },
    {
     "data": {
      "text/html": [
       "Waiting for W&B process to finish... <strong style=\"color:green\">(success).</strong>"
      ],
      "text/plain": [
       "<IPython.core.display.HTML object>"
      ]
     },
     "metadata": {},
     "output_type": "display_data"
    },
    {
     "data": {
      "text/html": [
       "<style>\n",
       "    table.wandb td:nth-child(1) { padding: 0 10px; text-align: left ; width: auto;} td:nth-child(2) {text-align: left ; width: 100%}\n",
       "    .wandb-row { display: flex; flex-direction: row; flex-wrap: wrap; justify-content: flex-start; width: 100% }\n",
       "    .wandb-col { display: flex; flex-direction: column; flex-basis: 100%; flex: 1; padding: 10px; }\n",
       "    </style>\n",
       "<div class=\"wandb-row\"><div class=\"wandb-col\"><h3>Run history:</h3><br/><table class=\"wandb\"><tr><td>Accuracy_mean</td><td>▁</td></tr><tr><td>Accuracy_std</td><td>▁</td></tr><tr><td>F1 Score_mean</td><td>▁</td></tr><tr><td>F1 Score_std</td><td>▁</td></tr><tr><td>Precision_mean</td><td>▁</td></tr><tr><td>Precision_std</td><td>▁</td></tr><tr><td>ROC-AUC_mean</td><td>▁</td></tr><tr><td>ROC-AUC_std</td><td>▁</td></tr><tr><td>Recall_mean</td><td>▁</td></tr><tr><td>Recall_std</td><td>▁</td></tr></table><br/></div><div class=\"wandb-col\"><h3>Run summary:</h3><br/><table class=\"wandb\"><tr><td>Accuracy_mean</td><td>0.81162</td></tr><tr><td>Accuracy_std</td><td>0.02841</td></tr><tr><td>F1 Score_mean</td><td>0.81149</td></tr><tr><td>F1 Score_std</td><td>0.028</td></tr><tr><td>Precision_mean</td><td>0.81864</td></tr><tr><td>Precision_std</td><td>0.02937</td></tr><tr><td>ROC-AUC_mean</td><td>0.94835</td></tr><tr><td>ROC-AUC_std</td><td>0.00677</td></tr><tr><td>Recall_mean</td><td>0.81162</td></tr><tr><td>Recall_std</td><td>0.02841</td></tr></table><br/></div></div>"
      ],
      "text/plain": [
       "<IPython.core.display.HTML object>"
      ]
     },
     "metadata": {},
     "output_type": "display_data"
    },
    {
     "data": {
      "text/html": [
       " View run <strong style=\"color:#cdcd00\">LightGBM_Vision Ablated 1</strong> at: <a href='https://wandb.ai/lequn/AudioVisual_ML_ablation_study_v2/runs/ppo1uteb' target=\"_blank\">https://wandb.ai/lequn/AudioVisual_ML_ablation_study_v2/runs/ppo1uteb</a><br/> View job at <a href='https://wandb.ai/lequn/AudioVisual_ML_ablation_study_v2/jobs/QXJ0aWZhY3RDb2xsZWN0aW9uOjExMTQ1OTc4Ng==/version_details/v23' target=\"_blank\">https://wandb.ai/lequn/AudioVisual_ML_ablation_study_v2/jobs/QXJ0aWZhY3RDb2xsZWN0aW9uOjExMTQ1OTc4Ng==/version_details/v23</a><br/>Synced 6 W&B file(s), 0 media file(s), 0 artifact file(s) and 0 other file(s)"
      ],
      "text/plain": [
       "<IPython.core.display.HTML object>"
      ]
     },
     "metadata": {},
     "output_type": "display_data"
    },
    {
     "data": {
      "text/html": [
       "Find logs at: <code>./wandb/run-20240305_120602-ppo1uteb/logs</code>"
      ],
      "text/plain": [
       "<IPython.core.display.HTML object>"
      ]
     },
     "metadata": {},
     "output_type": "display_data"
    },
    {
     "name": "stdout",
     "output_type": "stream",
     "text": [
      "\tTraining model: SVM\n"
     ]
    },
    {
     "data": {
      "application/vnd.jupyter.widget-view+json": {
       "model_id": "9227b832fed046b3ad9a240e94540a9a",
       "version_major": 2,
       "version_minor": 0
      },
      "text/plain": [
       "VBox(children=(Label(value='Waiting for wandb.init()...\\r'), FloatProgress(value=0.011112127911110293, max=1.0…"
      ]
     },
     "metadata": {},
     "output_type": "display_data"
    },
    {
     "data": {
      "text/html": [
       "wandb version 0.16.3 is available!  To upgrade, please run:\n",
       " $ pip install wandb --upgrade"
      ],
      "text/plain": [
       "<IPython.core.display.HTML object>"
      ]
     },
     "metadata": {},
     "output_type": "display_data"
    },
    {
     "data": {
      "text/html": [
       "Tracking run with wandb version 0.15.12"
      ],
      "text/plain": [
       "<IPython.core.display.HTML object>"
      ]
     },
     "metadata": {},
     "output_type": "display_data"
    },
    {
     "data": {
      "text/html": [
       "Run data is saved locally in <code>/home/chenlequn/GitHub/LDED-FusionNet/code/wandb/run-20240305_120614-47thjnyl</code>"
      ],
      "text/plain": [
       "<IPython.core.display.HTML object>"
      ]
     },
     "metadata": {},
     "output_type": "display_data"
    },
    {
     "data": {
      "text/html": [
       "Syncing run <strong><a href='https://wandb.ai/lequn/AudioVisual_ML_ablation_study_v2/runs/47thjnyl' target=\"_blank\">SVM_Vision Ablated 1</a></strong> to <a href='https://wandb.ai/lequn/AudioVisual_ML_ablation_study_v2' target=\"_blank\">Weights & Biases</a> (<a href='https://wandb.me/run' target=\"_blank\">docs</a>)<br/>"
      ],
      "text/plain": [
       "<IPython.core.display.HTML object>"
      ]
     },
     "metadata": {},
     "output_type": "display_data"
    },
    {
     "data": {
      "text/html": [
       " View project at <a href='https://wandb.ai/lequn/AudioVisual_ML_ablation_study_v2' target=\"_blank\">https://wandb.ai/lequn/AudioVisual_ML_ablation_study_v2</a>"
      ],
      "text/plain": [
       "<IPython.core.display.HTML object>"
      ]
     },
     "metadata": {},
     "output_type": "display_data"
    },
    {
     "data": {
      "text/html": [
       " View run at <a href='https://wandb.ai/lequn/AudioVisual_ML_ablation_study_v2/runs/47thjnyl' target=\"_blank\">https://wandb.ai/lequn/AudioVisual_ML_ablation_study_v2/runs/47thjnyl</a>"
      ],
      "text/plain": [
       "<IPython.core.display.HTML object>"
      ]
     },
     "metadata": {},
     "output_type": "display_data"
    },
    {
     "name": "stdout",
     "output_type": "stream",
     "text": [
      "\t\tAccuracy: Mean = 0.7620149602618046, Std = 0.027255606689832793\n",
      "\t\tF1 Score: Mean = 0.7598301970113122, Std = 0.0274037645299222\n",
      "\t\tPrecision: Mean = 0.7645540177529925, Std = 0.026553921108950065\n",
      "\t\tRecall: Mean = 0.7620149602618046, Std = 0.027255606689832793\n",
      "\t\tROC-AUC: Mean = 0.896038498623754, Std = 0.012766626807254398\n"
     ]
    },
    {
     "data": {
      "text/html": [
       "Waiting for W&B process to finish... <strong style=\"color:green\">(success).</strong>"
      ],
      "text/plain": [
       "<IPython.core.display.HTML object>"
      ]
     },
     "metadata": {},
     "output_type": "display_data"
    },
    {
     "data": {
      "text/html": [
       "<style>\n",
       "    table.wandb td:nth-child(1) { padding: 0 10px; text-align: left ; width: auto;} td:nth-child(2) {text-align: left ; width: 100%}\n",
       "    .wandb-row { display: flex; flex-direction: row; flex-wrap: wrap; justify-content: flex-start; width: 100% }\n",
       "    .wandb-col { display: flex; flex-direction: column; flex-basis: 100%; flex: 1; padding: 10px; }\n",
       "    </style>\n",
       "<div class=\"wandb-row\"><div class=\"wandb-col\"><h3>Run history:</h3><br/><table class=\"wandb\"><tr><td>Accuracy_mean</td><td>▁</td></tr><tr><td>Accuracy_std</td><td>▁</td></tr><tr><td>F1 Score_mean</td><td>▁</td></tr><tr><td>F1 Score_std</td><td>▁</td></tr><tr><td>Precision_mean</td><td>▁</td></tr><tr><td>Precision_std</td><td>▁</td></tr><tr><td>ROC-AUC_mean</td><td>▁</td></tr><tr><td>ROC-AUC_std</td><td>▁</td></tr><tr><td>Recall_mean</td><td>▁</td></tr><tr><td>Recall_std</td><td>▁</td></tr></table><br/></div><div class=\"wandb-col\"><h3>Run summary:</h3><br/><table class=\"wandb\"><tr><td>Accuracy_mean</td><td>0.76201</td></tr><tr><td>Accuracy_std</td><td>0.02726</td></tr><tr><td>F1 Score_mean</td><td>0.75983</td></tr><tr><td>F1 Score_std</td><td>0.0274</td></tr><tr><td>Precision_mean</td><td>0.76455</td></tr><tr><td>Precision_std</td><td>0.02655</td></tr><tr><td>ROC-AUC_mean</td><td>0.89604</td></tr><tr><td>ROC-AUC_std</td><td>0.01277</td></tr><tr><td>Recall_mean</td><td>0.76201</td></tr><tr><td>Recall_std</td><td>0.02726</td></tr></table><br/></div></div>"
      ],
      "text/plain": [
       "<IPython.core.display.HTML object>"
      ]
     },
     "metadata": {},
     "output_type": "display_data"
    },
    {
     "data": {
      "text/html": [
       " View run <strong style=\"color:#cdcd00\">SVM_Vision Ablated 1</strong> at: <a href='https://wandb.ai/lequn/AudioVisual_ML_ablation_study_v2/runs/47thjnyl' target=\"_blank\">https://wandb.ai/lequn/AudioVisual_ML_ablation_study_v2/runs/47thjnyl</a><br/> View job at <a href='https://wandb.ai/lequn/AudioVisual_ML_ablation_study_v2/jobs/QXJ0aWZhY3RDb2xsZWN0aW9uOjExMTQ1OTc4Ng==/version_details/v23' target=\"_blank\">https://wandb.ai/lequn/AudioVisual_ML_ablation_study_v2/jobs/QXJ0aWZhY3RDb2xsZWN0aW9uOjExMTQ1OTc4Ng==/version_details/v23</a><br/>Synced 6 W&B file(s), 0 media file(s), 0 artifact file(s) and 0 other file(s)"
      ],
      "text/plain": [
       "<IPython.core.display.HTML object>"
      ]
     },
     "metadata": {},
     "output_type": "display_data"
    },
    {
     "data": {
      "text/html": [
       "Find logs at: <code>./wandb/run-20240305_120614-47thjnyl/logs</code>"
      ],
      "text/plain": [
       "<IPython.core.display.HTML object>"
      ]
     },
     "metadata": {},
     "output_type": "display_data"
    },
    {
     "name": "stdout",
     "output_type": "stream",
     "text": [
      "\tTraining model: HistGB\n"
     ]
    },
    {
     "data": {
      "application/vnd.jupyter.widget-view+json": {
       "model_id": "5e040812f4184c2888ebcfc93d5463e3",
       "version_major": 2,
       "version_minor": 0
      },
      "text/plain": [
       "VBox(children=(Label(value='Waiting for wandb.init()...\\r'), FloatProgress(value=0.01111431428889773, max=1.0)…"
      ]
     },
     "metadata": {},
     "output_type": "display_data"
    },
    {
     "data": {
      "text/html": [
       "wandb version 0.16.3 is available!  To upgrade, please run:\n",
       " $ pip install wandb --upgrade"
      ],
      "text/plain": [
       "<IPython.core.display.HTML object>"
      ]
     },
     "metadata": {},
     "output_type": "display_data"
    },
    {
     "data": {
      "text/html": [
       "Tracking run with wandb version 0.15.12"
      ],
      "text/plain": [
       "<IPython.core.display.HTML object>"
      ]
     },
     "metadata": {},
     "output_type": "display_data"
    },
    {
     "data": {
      "text/html": [
       "Run data is saved locally in <code>/home/chenlequn/GitHub/LDED-FusionNet/code/wandb/run-20240305_120626-32v6g19t</code>"
      ],
      "text/plain": [
       "<IPython.core.display.HTML object>"
      ]
     },
     "metadata": {},
     "output_type": "display_data"
    },
    {
     "data": {
      "text/html": [
       "Syncing run <strong><a href='https://wandb.ai/lequn/AudioVisual_ML_ablation_study_v2/runs/32v6g19t' target=\"_blank\">HistGB_Vision Ablated 1</a></strong> to <a href='https://wandb.ai/lequn/AudioVisual_ML_ablation_study_v2' target=\"_blank\">Weights & Biases</a> (<a href='https://wandb.me/run' target=\"_blank\">docs</a>)<br/>"
      ],
      "text/plain": [
       "<IPython.core.display.HTML object>"
      ]
     },
     "metadata": {},
     "output_type": "display_data"
    },
    {
     "data": {
      "text/html": [
       " View project at <a href='https://wandb.ai/lequn/AudioVisual_ML_ablation_study_v2' target=\"_blank\">https://wandb.ai/lequn/AudioVisual_ML_ablation_study_v2</a>"
      ],
      "text/plain": [
       "<IPython.core.display.HTML object>"
      ]
     },
     "metadata": {},
     "output_type": "display_data"
    },
    {
     "data": {
      "text/html": [
       " View run at <a href='https://wandb.ai/lequn/AudioVisual_ML_ablation_study_v2/runs/32v6g19t' target=\"_blank\">https://wandb.ai/lequn/AudioVisual_ML_ablation_study_v2/runs/32v6g19t</a>"
      ],
      "text/plain": [
       "<IPython.core.display.HTML object>"
      ]
     },
     "metadata": {},
     "output_type": "display_data"
    },
    {
     "name": "stdout",
     "output_type": "stream",
     "text": [
      "\t\tAccuracy: Mean = 0.8332632071061242, Std = 0.029194529037259307\n",
      "\t\tF1 Score: Mean = 0.8346595908662826, Std = 0.02789713273294007\n",
      "\t\tPrecision: Mean = 0.8411507334574326, Std = 0.028025490399921273\n",
      "\t\tRecall: Mean = 0.8332632071061242, Std = 0.029194529037259307\n",
      "\t\tROC-AUC: Mean = 0.9463020395551333, Std = 0.008451052197936295\n"
     ]
    },
    {
     "data": {
      "text/html": [
       "Waiting for W&B process to finish... <strong style=\"color:green\">(success).</strong>"
      ],
      "text/plain": [
       "<IPython.core.display.HTML object>"
      ]
     },
     "metadata": {},
     "output_type": "display_data"
    },
    {
     "data": {
      "text/html": [
       "<style>\n",
       "    table.wandb td:nth-child(1) { padding: 0 10px; text-align: left ; width: auto;} td:nth-child(2) {text-align: left ; width: 100%}\n",
       "    .wandb-row { display: flex; flex-direction: row; flex-wrap: wrap; justify-content: flex-start; width: 100% }\n",
       "    .wandb-col { display: flex; flex-direction: column; flex-basis: 100%; flex: 1; padding: 10px; }\n",
       "    </style>\n",
       "<div class=\"wandb-row\"><div class=\"wandb-col\"><h3>Run history:</h3><br/><table class=\"wandb\"><tr><td>Accuracy_mean</td><td>▁</td></tr><tr><td>Accuracy_std</td><td>▁</td></tr><tr><td>F1 Score_mean</td><td>▁</td></tr><tr><td>F1 Score_std</td><td>▁</td></tr><tr><td>Precision_mean</td><td>▁</td></tr><tr><td>Precision_std</td><td>▁</td></tr><tr><td>ROC-AUC_mean</td><td>▁</td></tr><tr><td>ROC-AUC_std</td><td>▁</td></tr><tr><td>Recall_mean</td><td>▁</td></tr><tr><td>Recall_std</td><td>▁</td></tr></table><br/></div><div class=\"wandb-col\"><h3>Run summary:</h3><br/><table class=\"wandb\"><tr><td>Accuracy_mean</td><td>0.83326</td></tr><tr><td>Accuracy_std</td><td>0.02919</td></tr><tr><td>F1 Score_mean</td><td>0.83466</td></tr><tr><td>F1 Score_std</td><td>0.0279</td></tr><tr><td>Precision_mean</td><td>0.84115</td></tr><tr><td>Precision_std</td><td>0.02803</td></tr><tr><td>ROC-AUC_mean</td><td>0.9463</td></tr><tr><td>ROC-AUC_std</td><td>0.00845</td></tr><tr><td>Recall_mean</td><td>0.83326</td></tr><tr><td>Recall_std</td><td>0.02919</td></tr></table><br/></div></div>"
      ],
      "text/plain": [
       "<IPython.core.display.HTML object>"
      ]
     },
     "metadata": {},
     "output_type": "display_data"
    },
    {
     "data": {
      "text/html": [
       " View run <strong style=\"color:#cdcd00\">HistGB_Vision Ablated 1</strong> at: <a href='https://wandb.ai/lequn/AudioVisual_ML_ablation_study_v2/runs/32v6g19t' target=\"_blank\">https://wandb.ai/lequn/AudioVisual_ML_ablation_study_v2/runs/32v6g19t</a><br/> View job at <a href='https://wandb.ai/lequn/AudioVisual_ML_ablation_study_v2/jobs/QXJ0aWZhY3RDb2xsZWN0aW9uOjExMTQ1OTc4Ng==/version_details/v22' target=\"_blank\">https://wandb.ai/lequn/AudioVisual_ML_ablation_study_v2/jobs/QXJ0aWZhY3RDb2xsZWN0aW9uOjExMTQ1OTc4Ng==/version_details/v22</a><br/>Synced 6 W&B file(s), 0 media file(s), 0 artifact file(s) and 0 other file(s)"
      ],
      "text/plain": [
       "<IPython.core.display.HTML object>"
      ]
     },
     "metadata": {},
     "output_type": "display_data"
    },
    {
     "data": {
      "text/html": [
       "Find logs at: <code>./wandb/run-20240305_120626-32v6g19t/logs</code>"
      ],
      "text/plain": [
       "<IPython.core.display.HTML object>"
      ]
     },
     "metadata": {},
     "output_type": "display_data"
    },
    {
     "name": "stdout",
     "output_type": "stream",
     "text": [
      "Processing dataset: Audio Ablated 2\n",
      "\tTraining model: KNN\n"
     ]
    },
    {
     "data": {
      "application/vnd.jupyter.widget-view+json": {
       "model_id": "3db8c4dcb52b462093fb02f626c784c1",
       "version_major": 2,
       "version_minor": 0
      },
      "text/plain": [
       "VBox(children=(Label(value='Waiting for wandb.init()...\\r'), FloatProgress(value=0.011113697533326356, max=1.0…"
      ]
     },
     "metadata": {},
     "output_type": "display_data"
    }
   ],
   "source": [
    "# Initialize KFold with the number of splits you desire\n",
    "kf = KFold(n_splits=5)\n",
    "# Create a dictionary to store final results\n",
    "final_results = defaultdict(list)\n",
    "# Create a dictionary to store temporary cross-validation results for each dataset and model\n",
    "cv_results = defaultdict(lambda: defaultdict(list))\n",
    "\n",
    "\n",
    "# Iterate over datasets and models\n",
    "for dataset_name, X in datasets.items():\n",
    "    print(f\"Processing dataset: {dataset_name}\")\n",
    "    # Split data\n",
    "    X_train = X[train_indices]\n",
    "    X_val = X[val_indices]\n",
    "    X_test = X[test_indices]\n",
    "  \n",
    "    y_train = Y_encoded[train_indices]\n",
    "    y_val = Y_encoded[val_indices]\n",
    "    y_test = Y_encoded[test_indices]\n",
    "\n",
    "    # Scaling\n",
    "    scaler = StandardScaler()\n",
    "    X_train = scaler.fit_transform(X_train)\n",
    "    X_val = scaler.transform(X_val)\n",
    "    X_test = scaler.transform(X_test)\n",
    "    \n",
    "    with open(os.path.join(scaler_path, f'StandardScaler_{dataset_name}.pkl'), 'wb') as file:\n",
    "        pickle.dump(scaler, file)\n",
    "\n",
    "    for model_name, Model in models.items():\n",
    "        print(f\"\\tTraining model: {model_name}\")\n",
    "        with wandb.init(project=\"AudioVisual_ML_ablation_study_v2\", name=f\"{model_name}_{dataset_name}\", reinit=True) as run:\n",
    "            # Log model and hyperparameters\n",
    "            wandb.config.update({\"Model\": model_name, \"Hyperparameters\": hyperparameters[model_name]})\n",
    "    \n",
    "            # Initialize model with the best hyperparameters\n",
    "            model = Model(**hyperparameters[model_name])\n",
    "    \n",
    "            # If the model is SVM, use only 20% of the training data\n",
    "            if model_name == 'SVM':\n",
    "                sample_indices = np.random.choice(len(X_train), int(0.2 * len(X_train)), replace=False)\n",
    "                X_train_sampled = X_train[sample_indices]\n",
    "                y_train_sampled = y_train[sample_indices]\n",
    "                model.fit(X_train_sampled, y_train_sampled)\n",
    "            else:\n",
    "                # Train the model\n",
    "                model.fit(X_train, y_train)\n",
    "\n",
    "            # Save the model\n",
    "            dump(model, os.path.join(model_path, f'{model_name}_{dataset_name}.joblib'))\n",
    "\n",
    "\n",
    "            #####------   cross-validation on the testing dataset--------------\n",
    "            fold_metrics = defaultdict(list)\n",
    "    \n",
    "            for train_idx, test_idx in kf.split(X_test):\n",
    "                X_test_train, X_test_val = X_test[train_idx], X_test[test_idx]\n",
    "                y_test_train, y_test_val = y_test[train_idx], y_test[test_idx]\n",
    "                \n",
    "                # Make predictions\n",
    "                y_test_pred = model.predict(X_test_val)\n",
    "                \n",
    "                # Evaluate the model\n",
    "                acc = accuracy_score(y_test_val, y_test_pred)\n",
    "                f1 = f1_score(y_test_val, y_test_pred, average='weighted')\n",
    "                precision = precision_score(y_test_val, y_test_pred, average='weighted')\n",
    "                recall = recall_score(y_test_val, y_test_pred, average='weighted')\n",
    "                \n",
    "                # Optional: ROC-AUC can only be calculated for binary classification or multilabel indicator format\n",
    "                try:\n",
    "                    roc_auc = roc_auc_score(y_test_val, model.predict_proba(X_test_val), multi_class='ovr', average='weighted')\n",
    "                    \n",
    "                except:\n",
    "                    roc_auc = 'N/A'\n",
    "                \n",
    "                # Store the metrics for this fold\n",
    "                fold_metrics['Accuracy'].append(acc)\n",
    "                fold_metrics['F1 Score'].append(f1)\n",
    "                fold_metrics['Precision'].append(precision)\n",
    "                fold_metrics['Recall'].append(recall)\n",
    "                fold_metrics['ROC-AUC'].append(roc_auc if roc_auc != 'N/A' else np.nan)\n",
    "            \n",
    "            # Calculate mean and std for each metric and print them\n",
    "            for metric, values in fold_metrics.items():\n",
    "                mean_val = np.nanmean(values)  # Handle 'N/A' values\n",
    "                std_val = np.nanstd(values)    # Handle 'N/A' values\n",
    "                \n",
    "                print(f\"\\t\\t{metric}: Mean = {mean_val}, Std = {std_val}\")\n",
    "                # Log the mean and std values to wandb\n",
    "                wandb.log({f\"{metric}_mean\": mean_val, f\"{metric}_std\": std_val})\n",
    "                \n",
    "                cv_results[dataset_name][f\"{model_name}_{metric}_mean\"] = mean_val\n",
    "                cv_results[dataset_name][f\"{model_name}_{metric}_std\"] = std_val\n",
    "             \n",
    "            #####------   cross-validation on the testing dataset--------------\n",
    "            \n",
    "# Convert the temporary results to final format\n",
    "for dataset_name, metrics in cv_results.items():\n",
    "    final_results['Dataset'].append(dataset_name)\n",
    "    for metric_name, value in metrics.items():\n",
    "        final_results[metric_name].append(value)\n",
    "\n",
    "# Convert results to a DataFrame for easier viewing\n",
    "final_results_df = pd.DataFrame(final_results)"
   ]
  },
  {
   "cell_type": "code",
   "execution_count": null,
   "id": "d28920fb-c81d-4da5-ad69-47e1cc0e0cde",
   "metadata": {
    "scrolled": true
   },
   "outputs": [],
   "source": [
    "%store datasets\n",
    "%store le\n",
    "%store Y_encoded"
   ]
  }
 ],
 "metadata": {
  "kernelspec": {
   "display_name": "Python 3 (ipykernel)",
   "language": "python",
   "name": "python3"
  },
  "language_info": {
   "codemirror_mode": {
    "name": "ipython",
    "version": 3
   },
   "file_extension": ".py",
   "mimetype": "text/x-python",
   "name": "python",
   "nbconvert_exporter": "python",
   "pygments_lexer": "ipython3",
   "version": "3.9.16"
  }
 },
 "nbformat": 4,
 "nbformat_minor": 5
}
