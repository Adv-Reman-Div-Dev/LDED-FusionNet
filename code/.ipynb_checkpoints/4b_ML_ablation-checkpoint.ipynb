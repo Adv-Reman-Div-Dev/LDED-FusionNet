{
 "cells": [
  {
   "cell_type": "markdown",
   "id": "0e8a73e8-62c6-478a-a623-b3285c7bb46b",
   "metadata": {},
   "source": [
    "# LDED Audiovisual Fusion \n",
    "\n",
    "Author: Chen Lequn.\n",
    "Created on 31 Oct 2023.\n",
    "\n",
    "\n",
    "### Notebook 4b: ML modelling - ablation study (feature-based audio visual fusion model)\n",
    "- Full Dataset: All features (from 4a)\n",
    "- Ablated Dataset 1: Features after removing those with Pearson correlation > 0.9 (within each modality).\n",
    "- Ablated Dataset 2: Features from Ablated Dataset 1 with MI > 0.05.\n",
    "- Ablated Dataset 3: Features from Ablated Dataset 1 with MI > 0.1.\n",
    "- Ablated Dataset 4: Audio Features from All features.\n",
    "- Ablated Dataset 5: Vision Features from All features.\n",
    "- Ablated Dataset 6: Audio Features from Ablated Dataset 1.\n",
    "- Ablated Dataset 7: Vision Features from Ablated Dataset 1.\n",
    "- Ablated Dataset 8: Audio Features from Ablated Dataset 2.\n",
    "- Ablated Dataset 9: Audio Features from Ablated Dataset 3."
   ]
  },
  {
   "cell_type": "code",
   "execution_count": 1,
   "id": "60425ac2-09bd-4bd1-af37-463a33363e08",
   "metadata": {},
   "outputs": [],
   "source": [
    "# from sklearnex import patch_sklearn, config_context\n",
    "# import dpctl\n",
    "# patch_sklearn()"
   ]
  },
  {
   "cell_type": "code",
   "execution_count": 2,
   "id": "1dd4d910-cf99-4091-9459-887c8119a16b",
   "metadata": {},
   "outputs": [],
   "source": [
    "import wandb"
   ]
  },
  {
   "cell_type": "code",
   "execution_count": 3,
   "id": "4bf02ab4-a68c-4e2d-901f-ce0b33135ef4",
   "metadata": {},
   "outputs": [],
   "source": [
    "import os\n",
    "import glob\n",
    "import sys\n",
    "import math\n",
    "import numpy as np\n",
    "import pandas as pd\n",
    "from pandas import DataFrame\n",
    "import scipy as sp\n",
    "import itertools\n",
    "from collections import defaultdict\n",
    "from pprint import pprint\n",
    "import pickle\n",
    "from joblib import dump, load\n",
    "\n",
    "# Plotting\n",
    "import matplotlib as mpl\n",
    "import matplotlib.pyplot as plt\n",
    "from matplotlib.pyplot import gca\n",
    "from pylab import *\n",
    "import seaborn as sns\n",
    "mpl.rc('axes', labelsize=14)\n",
    "mpl.rc('xtick', labelsize=12)\n",
    "mpl.rc('ytick', labelsize=12)\n",
    "%matplotlib inline\n",
    "\n",
    "# Scikit-learn general\n",
    "from sklearn import preprocessing, metrics, svm, datasets, tree, neighbors\n",
    "from sklearn.metrics import accuracy_score, f1_score, roc_auc_score, precision_score, recall_score, confusion_matrix, roc_curve, auc, classification_report\n",
    "from sklearn.model_selection import train_test_split, RandomizedSearchCV, cross_validate, KFold, StratifiedKFold, GridSearchCV\n",
    "from sklearn.preprocessing import StandardScaler, LabelEncoder, OneHotEncoder, scale\n",
    "from sklearn.ensemble import HistGradientBoostingClassifier\n",
    "\n",
    "# Scikit-learn models\n",
    "from sklearn.neighbors import KNeighborsClassifier\n",
    "from sklearn.tree import DecisionTreeClassifier\n",
    "from sklearn.linear_model import LogisticRegression, Lasso, Ridge\n",
    "from sklearn.ensemble import RandomForestClassifier, AdaBoostClassifier, GradientBoostingClassifier, GradientBoostingRegressor\n",
    "from sklearn.neural_network import MLPClassifier, MLPRegressor\n",
    "from sklearn.gaussian_process import GaussianProcessClassifier\n",
    "from sklearn.gaussian_process.kernels import RBF\n",
    "from sklearn.naive_bayes import GaussianNB\n",
    "from sklearn.svm import SVC, SVR\n",
    "from sklearn.multiclass import OneVsRestClassifier\n",
    "\n",
    "# Imbalanced learn\n",
    "from imblearn.ensemble import BalancedRandomForestClassifier, RUSBoostClassifier\n",
    "\n",
    "# XGBoost and LightGBM\n",
    "import xgboost as xgb\n",
    "from xgboost import XGBClassifier\n",
    "import lightgbm as lgb\n",
    "from lightgbm import LGBMClassifier\n",
    "\n",
    "# Utilities\n",
    "from scipy.stats import uniform, randint\n",
    "from scipy.interpolate import griddata\n",
    "from sklearn.utils import shuffle, resample, class_weight\n",
    "from utils import *\n"
   ]
  },
  {
   "cell_type": "code",
   "execution_count": 4,
   "id": "f8888f60-bf0b-4a2a-8ee6-f32931a1938a",
   "metadata": {},
   "outputs": [],
   "source": [
    "PROJECT_ROOT_DIR = \"../\"\n",
    "IMAGE_PATH = os.path.join(PROJECT_ROOT_DIR, \"result_images\", 'defect classification', 'class_name_v3', 'ML-baseline', 'ablation study')\n",
    "model_path = os.path.join(PROJECT_ROOT_DIR, \"trained_models\", 'defect classification', 'class_name_v3', 'ML-baseline', 'ablation study')\n",
    "scaler_path = os.path.join(PROJECT_ROOT_DIR, \"saved_scalers\", 'defect classification', 'class_name_v3', 'ML-baseline', 'ablation study')\n",
    "os.makedirs(IMAGE_PATH, exist_ok=True)\n",
    "os.makedirs(model_path, exist_ok=True)\n",
    "os.makedirs(scaler_path, exist_ok=True)\n",
    "\n",
    "Multimodal_dataset_PATH = \"/home/chenlequn/Dataset/LDED_acoustic_visual_monitoring_dataset\"\n",
    "Dataset_path = os.path.join(Multimodal_dataset_PATH, f'25Hz')\n",
    "                            \n",
    "\n",
    "## function for automatically save the diagram/graph into the folder \n",
    "def save_fig(fig_id, tight_layout=True, fig_extension=\"png\", resolution=300):\n",
    "    path = os.path.join(IMAGE_PATH, fig_id + \".\" + fig_extension)\n",
    "    print(\"Saving figure\", fig_id)\n",
    "    if tight_layout:\n",
    "        plt.tight_layout()\n",
    "    plt.savefig(path, format=fig_extension, dpi=resolution)\n",
    "\n",
    "import warnings\n",
    "warnings.filterwarnings(action=\"ignore\", message=\"^internal gelsd\")\n",
    "\n",
    "plt.rcParams[\"axes.edgecolor\"] = \"black\"\n",
    "plt.rcParams[\"axes.linewidth\"] = 2.50"
   ]
  },
  {
   "cell_type": "code",
   "execution_count": 5,
   "id": "78b4108b-6095-4336-9f14-56a4b96d50ea",
   "metadata": {
    "scrolled": true
   },
   "outputs": [
    {
     "name": "stderr",
     "output_type": "stream",
     "text": [
      "\u001b[34m\u001b[1mwandb\u001b[0m: Currently logged in as: \u001b[33mchen1189\u001b[0m (\u001b[33mlequn\u001b[0m). Use \u001b[1m`wandb login --relogin`\u001b[0m to force relogin\n"
     ]
    },
    {
     "data": {
      "text/html": [
       "Tracking run with wandb version 0.15.12"
      ],
      "text/plain": [
       "<IPython.core.display.HTML object>"
      ]
     },
     "metadata": {},
     "output_type": "display_data"
    },
    {
     "data": {
      "text/html": [
       "Run data is saved locally in <code>/home/chenlequn/GitHub/LDED-FusionNet/code/wandb/run-20231031_170905-99smmtac</code>"
      ],
      "text/plain": [
       "<IPython.core.display.HTML object>"
      ]
     },
     "metadata": {},
     "output_type": "display_data"
    },
    {
     "data": {
      "text/html": [
       "Syncing run <strong><a href='https://wandb.ai/lequn/AudioVisual_ML_ablation_study_v2/runs/99smmtac' target=\"_blank\">haunted-spell-89</a></strong> to <a href='https://wandb.ai/lequn/AudioVisual_ML_ablation_study_v2' target=\"_blank\">Weights & Biases</a> (<a href='https://wandb.me/run' target=\"_blank\">docs</a>)<br/>"
      ],
      "text/plain": [
       "<IPython.core.display.HTML object>"
      ]
     },
     "metadata": {},
     "output_type": "display_data"
    },
    {
     "data": {
      "text/html": [
       " View project at <a href='https://wandb.ai/lequn/AudioVisual_ML_ablation_study_v2' target=\"_blank\">https://wandb.ai/lequn/AudioVisual_ML_ablation_study_v2</a>"
      ],
      "text/plain": [
       "<IPython.core.display.HTML object>"
      ]
     },
     "metadata": {},
     "output_type": "display_data"
    },
    {
     "data": {
      "text/html": [
       " View run at <a href='https://wandb.ai/lequn/AudioVisual_ML_ablation_study_v2/runs/99smmtac' target=\"_blank\">https://wandb.ai/lequn/AudioVisual_ML_ablation_study_v2/runs/99smmtac</a>"
      ],
      "text/plain": [
       "<IPython.core.display.HTML object>"
      ]
     },
     "metadata": {},
     "output_type": "display_data"
    },
    {
     "data": {
      "text/html": [
       "<button onClick=\"this.nextSibling.style.display='block';this.style.display='none';\">Display W&B run</button><iframe src='https://wandb.ai/lequn/AudioVisual_ML_ablation_study_v2/runs/99smmtac?jupyter=true' style='border:none;width:100%;height:420px;display:none;'></iframe>"
      ],
      "text/plain": [
       "<wandb.sdk.wandb_run.Run at 0x7f9e48793940>"
      ]
     },
     "execution_count": 5,
     "metadata": {},
     "output_type": "execute_result"
    }
   ],
   "source": [
    "# Initialize wandb\n",
    "wandb.init(project=\"AudioVisual_ML_ablation_study_v2\")"
   ]
  },
  {
   "cell_type": "markdown",
   "id": "b3c1c916-c976-42f8-bab1-877575548b65",
   "metadata": {},
   "source": [
    "## Step 1: Dataset preparation"
   ]
  },
  {
   "cell_type": "code",
   "execution_count": 6,
   "id": "b965e8e5-f8ab-4bbf-b317-b76a218aa8a1",
   "metadata": {
    "scrolled": true
   },
   "outputs": [
    {
     "data": {
      "text/html": [
       "<div>\n",
       "<style scoped>\n",
       "    .dataframe tbody tr th:only-of-type {\n",
       "        vertical-align: middle;\n",
       "    }\n",
       "\n",
       "    .dataframe tbody tr th {\n",
       "        vertical-align: top;\n",
       "    }\n",
       "\n",
       "    .dataframe thead th {\n",
       "        text-align: right;\n",
       "    }\n",
       "</style>\n",
       "<table border=\"1\" class=\"dataframe\">\n",
       "  <thead>\n",
       "    <tr style=\"text-align: right;\">\n",
       "      <th></th>\n",
       "      <th>sample index</th>\n",
       "      <th>Time_Stamps</th>\n",
       "      <th>audio_file_name</th>\n",
       "      <th>image_file_name</th>\n",
       "      <th>class_name</th>\n",
       "      <th>class_name_v2</th>\n",
       "      <th>Layer number</th>\n",
       "      <th>Sample number</th>\n",
       "      <th>class_name_v3</th>\n",
       "      <th>rms_energy</th>\n",
       "      <th>...</th>\n",
       "      <th>center_y</th>\n",
       "      <th>contour_area</th>\n",
       "      <th>contour_length</th>\n",
       "      <th>X</th>\n",
       "      <th>Y</th>\n",
       "      <th>Z</th>\n",
       "      <th>Vx</th>\n",
       "      <th>Vy</th>\n",
       "      <th>Vz</th>\n",
       "      <th>Speed</th>\n",
       "    </tr>\n",
       "  </thead>\n",
       "  <tbody>\n",
       "    <tr>\n",
       "      <th>0</th>\n",
       "      <td>1</td>\n",
       "      <td>0.00</td>\n",
       "      <td>sample_21_1.wav</td>\n",
       "      <td>sample_21_1.jpg</td>\n",
       "      <td>Laser-off</td>\n",
       "      <td>Laser-off</td>\n",
       "      <td>1.0</td>\n",
       "      <td>21</td>\n",
       "      <td>Laser-off</td>\n",
       "      <td>0.009018</td>\n",
       "      <td>...</td>\n",
       "      <td>0.000000</td>\n",
       "      <td>0.0</td>\n",
       "      <td>0.000000</td>\n",
       "      <td>0.000</td>\n",
       "      <td>0.000</td>\n",
       "      <td>0.000</td>\n",
       "      <td>0.000</td>\n",
       "      <td>-0.000</td>\n",
       "      <td>0.000</td>\n",
       "      <td>0.000</td>\n",
       "    </tr>\n",
       "    <tr>\n",
       "      <th>1</th>\n",
       "      <td>2</td>\n",
       "      <td>0.04</td>\n",
       "      <td>sample_21_2.wav</td>\n",
       "      <td>sample_21_2.jpg</td>\n",
       "      <td>Defect-free</td>\n",
       "      <td>Defect-free</td>\n",
       "      <td>1.0</td>\n",
       "      <td>21</td>\n",
       "      <td>Defect-free</td>\n",
       "      <td>0.019286</td>\n",
       "      <td>...</td>\n",
       "      <td>239.000000</td>\n",
       "      <td>305442.0</td>\n",
       "      <td>2234.000000</td>\n",
       "      <td>0.000</td>\n",
       "      <td>-0.000</td>\n",
       "      <td>0.001</td>\n",
       "      <td>-0.074</td>\n",
       "      <td>-0.074</td>\n",
       "      <td>0.000</td>\n",
       "      <td>0.105</td>\n",
       "    </tr>\n",
       "    <tr>\n",
       "      <th>2</th>\n",
       "      <td>3</td>\n",
       "      <td>0.08</td>\n",
       "      <td>sample_21_3.wav</td>\n",
       "      <td>sample_21_3.jpg</td>\n",
       "      <td>Defect-free</td>\n",
       "      <td>Defect-free</td>\n",
       "      <td>1.0</td>\n",
       "      <td>21</td>\n",
       "      <td>Defect-free</td>\n",
       "      <td>0.019593</td>\n",
       "      <td>...</td>\n",
       "      <td>239.000000</td>\n",
       "      <td>305442.0</td>\n",
       "      <td>2234.000000</td>\n",
       "      <td>-0.010</td>\n",
       "      <td>0.015</td>\n",
       "      <td>-0.007</td>\n",
       "      <td>-0.051</td>\n",
       "      <td>0.026</td>\n",
       "      <td>-0.051</td>\n",
       "      <td>0.077</td>\n",
       "    </tr>\n",
       "    <tr>\n",
       "      <th>3</th>\n",
       "      <td>4</td>\n",
       "      <td>0.12</td>\n",
       "      <td>sample_21_4.wav</td>\n",
       "      <td>sample_21_4.jpg</td>\n",
       "      <td>Defect-free</td>\n",
       "      <td>Defect-free</td>\n",
       "      <td>1.0</td>\n",
       "      <td>21</td>\n",
       "      <td>Defect-free</td>\n",
       "      <td>0.030937</td>\n",
       "      <td>...</td>\n",
       "      <td>230.264496</td>\n",
       "      <td>291865.5</td>\n",
       "      <td>2279.781744</td>\n",
       "      <td>-0.007</td>\n",
       "      <td>0.016</td>\n",
       "      <td>0.010</td>\n",
       "      <td>0.173</td>\n",
       "      <td>-0.222</td>\n",
       "      <td>2.520</td>\n",
       "      <td>2.536</td>\n",
       "    </tr>\n",
       "    <tr>\n",
       "      <th>4</th>\n",
       "      <td>5</td>\n",
       "      <td>0.16</td>\n",
       "      <td>sample_21_5.wav</td>\n",
       "      <td>sample_21_5.jpg</td>\n",
       "      <td>Defect-free</td>\n",
       "      <td>Defect-free</td>\n",
       "      <td>1.0</td>\n",
       "      <td>21</td>\n",
       "      <td>Defect-free</td>\n",
       "      <td>0.038329</td>\n",
       "      <td>...</td>\n",
       "      <td>229.109962</td>\n",
       "      <td>281970.0</td>\n",
       "      <td>2407.847760</td>\n",
       "      <td>-0.111</td>\n",
       "      <td>0.123</td>\n",
       "      <td>-0.057</td>\n",
       "      <td>-1.864</td>\n",
       "      <td>1.662</td>\n",
       "      <td>-2.468</td>\n",
       "      <td>3.511</td>\n",
       "    </tr>\n",
       "    <tr>\n",
       "      <th>...</th>\n",
       "      <td>...</td>\n",
       "      <td>...</td>\n",
       "      <td>...</td>\n",
       "      <td>...</td>\n",
       "      <td>...</td>\n",
       "      <td>...</td>\n",
       "      <td>...</td>\n",
       "      <td>...</td>\n",
       "      <td>...</td>\n",
       "      <td>...</td>\n",
       "      <td>...</td>\n",
       "      <td>...</td>\n",
       "      <td>...</td>\n",
       "      <td>...</td>\n",
       "      <td>...</td>\n",
       "      <td>...</td>\n",
       "      <td>...</td>\n",
       "      <td>...</td>\n",
       "      <td>...</td>\n",
       "      <td>...</td>\n",
       "      <td>...</td>\n",
       "    </tr>\n",
       "    <tr>\n",
       "      <th>48461</th>\n",
       "      <td>10982</td>\n",
       "      <td>439.24</td>\n",
       "      <td>sample_26_10982.wav</td>\n",
       "      <td>sample_26_10982.jpg</td>\n",
       "      <td>Laser-off</td>\n",
       "      <td>Laser-off</td>\n",
       "      <td>NaN</td>\n",
       "      <td>26</td>\n",
       "      <td>Laser-off</td>\n",
       "      <td>0.011000</td>\n",
       "      <td>...</td>\n",
       "      <td>0.000000</td>\n",
       "      <td>0.0</td>\n",
       "      <td>0.000000</td>\n",
       "      <td>0.000</td>\n",
       "      <td>0.000</td>\n",
       "      <td>0.000</td>\n",
       "      <td>-0.076</td>\n",
       "      <td>0.025</td>\n",
       "      <td>0.000</td>\n",
       "      <td>0.080</td>\n",
       "    </tr>\n",
       "    <tr>\n",
       "      <th>48462</th>\n",
       "      <td>10983</td>\n",
       "      <td>439.28</td>\n",
       "      <td>sample_26_10983.wav</td>\n",
       "      <td>sample_26_10983.jpg</td>\n",
       "      <td>Laser-off</td>\n",
       "      <td>Laser-off</td>\n",
       "      <td>NaN</td>\n",
       "      <td>26</td>\n",
       "      <td>Laser-off</td>\n",
       "      <td>0.008347</td>\n",
       "      <td>...</td>\n",
       "      <td>0.000000</td>\n",
       "      <td>0.0</td>\n",
       "      <td>0.000000</td>\n",
       "      <td>0.000</td>\n",
       "      <td>0.000</td>\n",
       "      <td>0.000</td>\n",
       "      <td>-0.076</td>\n",
       "      <td>0.025</td>\n",
       "      <td>0.000</td>\n",
       "      <td>0.080</td>\n",
       "    </tr>\n",
       "    <tr>\n",
       "      <th>48463</th>\n",
       "      <td>10984</td>\n",
       "      <td>439.32</td>\n",
       "      <td>sample_26_10984.wav</td>\n",
       "      <td>sample_26_10984.jpg</td>\n",
       "      <td>Laser-off</td>\n",
       "      <td>Laser-off</td>\n",
       "      <td>NaN</td>\n",
       "      <td>26</td>\n",
       "      <td>Laser-off</td>\n",
       "      <td>0.011081</td>\n",
       "      <td>...</td>\n",
       "      <td>0.000000</td>\n",
       "      <td>0.0</td>\n",
       "      <td>0.000000</td>\n",
       "      <td>0.000</td>\n",
       "      <td>0.000</td>\n",
       "      <td>0.000</td>\n",
       "      <td>-0.076</td>\n",
       "      <td>0.025</td>\n",
       "      <td>0.000</td>\n",
       "      <td>0.080</td>\n",
       "    </tr>\n",
       "    <tr>\n",
       "      <th>48464</th>\n",
       "      <td>10985</td>\n",
       "      <td>439.36</td>\n",
       "      <td>sample_26_10985.wav</td>\n",
       "      <td>sample_26_10985.jpg</td>\n",
       "      <td>Laser-off</td>\n",
       "      <td>Laser-off</td>\n",
       "      <td>NaN</td>\n",
       "      <td>26</td>\n",
       "      <td>Laser-off</td>\n",
       "      <td>0.011044</td>\n",
       "      <td>...</td>\n",
       "      <td>0.000000</td>\n",
       "      <td>0.0</td>\n",
       "      <td>0.000000</td>\n",
       "      <td>0.000</td>\n",
       "      <td>0.000</td>\n",
       "      <td>0.000</td>\n",
       "      <td>-0.076</td>\n",
       "      <td>0.025</td>\n",
       "      <td>0.000</td>\n",
       "      <td>0.080</td>\n",
       "    </tr>\n",
       "    <tr>\n",
       "      <th>48465</th>\n",
       "      <td>10986</td>\n",
       "      <td>439.40</td>\n",
       "      <td>sample_26_10986.wav</td>\n",
       "      <td>sample_26_10986.jpg</td>\n",
       "      <td>Laser-off</td>\n",
       "      <td>Laser-off</td>\n",
       "      <td>NaN</td>\n",
       "      <td>26</td>\n",
       "      <td>Laser-off</td>\n",
       "      <td>0.013110</td>\n",
       "      <td>...</td>\n",
       "      <td>0.000000</td>\n",
       "      <td>0.0</td>\n",
       "      <td>0.000000</td>\n",
       "      <td>0.000</td>\n",
       "      <td>0.000</td>\n",
       "      <td>0.000</td>\n",
       "      <td>-0.076</td>\n",
       "      <td>0.025</td>\n",
       "      <td>0.000</td>\n",
       "      <td>0.080</td>\n",
       "    </tr>\n",
       "  </tbody>\n",
       "</table>\n",
       "<p>36557 rows × 135 columns</p>\n",
       "</div>"
      ],
      "text/plain": [
       "       sample index  Time_Stamps      audio_file_name      image_file_name  \\\n",
       "0                 1         0.00      sample_21_1.wav      sample_21_1.jpg   \n",
       "1                 2         0.04      sample_21_2.wav      sample_21_2.jpg   \n",
       "2                 3         0.08      sample_21_3.wav      sample_21_3.jpg   \n",
       "3                 4         0.12      sample_21_4.wav      sample_21_4.jpg   \n",
       "4                 5         0.16      sample_21_5.wav      sample_21_5.jpg   \n",
       "...             ...          ...                  ...                  ...   \n",
       "48461         10982       439.24  sample_26_10982.wav  sample_26_10982.jpg   \n",
       "48462         10983       439.28  sample_26_10983.wav  sample_26_10983.jpg   \n",
       "48463         10984       439.32  sample_26_10984.wav  sample_26_10984.jpg   \n",
       "48464         10985       439.36  sample_26_10985.wav  sample_26_10985.jpg   \n",
       "48465         10986       439.40  sample_26_10986.wav  sample_26_10986.jpg   \n",
       "\n",
       "        class_name class_name_v2  Layer number  Sample number class_name_v3  \\\n",
       "0        Laser-off     Laser-off           1.0             21     Laser-off   \n",
       "1      Defect-free   Defect-free           1.0             21   Defect-free   \n",
       "2      Defect-free   Defect-free           1.0             21   Defect-free   \n",
       "3      Defect-free   Defect-free           1.0             21   Defect-free   \n",
       "4      Defect-free   Defect-free           1.0             21   Defect-free   \n",
       "...            ...           ...           ...            ...           ...   \n",
       "48461    Laser-off     Laser-off           NaN             26     Laser-off   \n",
       "48462    Laser-off     Laser-off           NaN             26     Laser-off   \n",
       "48463    Laser-off     Laser-off           NaN             26     Laser-off   \n",
       "48464    Laser-off     Laser-off           NaN             26     Laser-off   \n",
       "48465    Laser-off     Laser-off           NaN             26     Laser-off   \n",
       "\n",
       "       rms_energy  ...    center_y  contour_area  contour_length      X  \\\n",
       "0        0.009018  ...    0.000000           0.0        0.000000  0.000   \n",
       "1        0.019286  ...  239.000000      305442.0     2234.000000  0.000   \n",
       "2        0.019593  ...  239.000000      305442.0     2234.000000 -0.010   \n",
       "3        0.030937  ...  230.264496      291865.5     2279.781744 -0.007   \n",
       "4        0.038329  ...  229.109962      281970.0     2407.847760 -0.111   \n",
       "...           ...  ...         ...           ...             ...    ...   \n",
       "48461    0.011000  ...    0.000000           0.0        0.000000  0.000   \n",
       "48462    0.008347  ...    0.000000           0.0        0.000000  0.000   \n",
       "48463    0.011081  ...    0.000000           0.0        0.000000  0.000   \n",
       "48464    0.011044  ...    0.000000           0.0        0.000000  0.000   \n",
       "48465    0.013110  ...    0.000000           0.0        0.000000  0.000   \n",
       "\n",
       "           Y      Z     Vx     Vy     Vz  Speed  \n",
       "0      0.000  0.000  0.000 -0.000  0.000  0.000  \n",
       "1     -0.000  0.001 -0.074 -0.074  0.000  0.105  \n",
       "2      0.015 -0.007 -0.051  0.026 -0.051  0.077  \n",
       "3      0.016  0.010  0.173 -0.222  2.520  2.536  \n",
       "4      0.123 -0.057 -1.864  1.662 -2.468  3.511  \n",
       "...      ...    ...    ...    ...    ...    ...  \n",
       "48461  0.000  0.000 -0.076  0.025  0.000  0.080  \n",
       "48462  0.000  0.000 -0.076  0.025  0.000  0.080  \n",
       "48463  0.000  0.000 -0.076  0.025  0.000  0.080  \n",
       "48464  0.000  0.000 -0.076  0.025  0.000  0.080  \n",
       "48465  0.000  0.000 -0.076  0.025  0.000  0.080  \n",
       "\n",
       "[36557 rows x 135 columns]"
      ]
     },
     "execution_count": 6,
     "metadata": {},
     "output_type": "execute_result"
    }
   ],
   "source": [
    "# Read the data back from the HDF5 file into a new DataFrame\n",
    "df_multimodal = pd.read_hdf(os.path.join(Dataset_path, 'spatiotemporal_fused_multimodal.h5'), key='df')\n",
    "df_multimodal = df_multimodal.dropna(subset=['class_name_v3'])\n",
    "df_multimodal"
   ]
  },
  {
   "cell_type": "code",
   "execution_count": 7,
   "id": "316cfce2-4741-4b5b-9c1d-b90ff5311519",
   "metadata": {},
   "outputs": [
    {
     "data": {
      "text/plain": [
       "((36557, 119), (36557, 81), (36557, 36))"
      ]
     },
     "execution_count": 7,
     "metadata": {},
     "output_type": "execute_result"
    }
   ],
   "source": [
    "# Extract labels\n",
    "y = df_multimodal['class_name_v3'].to_list()\n",
    "y_array = np.array(y)\n",
    "le = LabelEncoder()\n",
    "le.fit(y)\n",
    "Y_encoded = le.transform(y)\n",
    "\n",
    "# Non-feature columns to be dropped\n",
    "non_feature_columns = ['sample index', 'Time_Stamps', 'audio_file_name', 'image_file_name',\n",
    "                       'class_name', 'class_name_v2', 'class_name_v3', 'Layer number', 'Sample number', 'X', 'Y', 'Z', 'Vx', 'Vy', 'Vz', 'Speed']\n",
    "\n",
    "# Extract features for the full dataset\n",
    "X_all = df_multimodal.drop(columns=non_feature_columns).to_numpy()\n",
    "\n",
    "# Redundant audio features to be dropped\n",
    "redundant_audio_features = ['dynamic_complexity','loudness']\n",
    "\n",
    "# Extract audio features\n",
    "audio_feature_columns = ['rms_energy', 'amplitude_envelope_mean',\n",
    "                           'amplitude_envelope_std', 'zero_crossing_rate', 'dynamic_complexity',\n",
    "                           'loudness', 'loudness_vickers', 'spectral_centroid_mean',\n",
    "                           'spectral_centroid_std', 'spectral_complexity_mean',\n",
    "                           'spectral_complexity_std', 'spectral_contrast_0_mean',\n",
    "                           'spectral_contrast_0_std', 'spectral_contrast_1_mean',\n",
    "                           'spectral_contrast_1_std', 'spectral_contrast_2_mean',\n",
    "                           'spectral_contrast_2_std', 'spectral_contrast_3_mean',\n",
    "                           'spectral_contrast_3_std', 'spectral_contrast_4_mean',\n",
    "                           'spectral_contrast_4_std', 'spectral_contrast_5_mean',\n",
    "                           'spectral_contrast_5_std', 'spectral_valley_0_mean',\n",
    "                           'spectral_valley_0_std', 'spectral_valley_1_mean',\n",
    "                           'spectral_valley_1_std', 'spectral_valley_2_mean',\n",
    "                           'spectral_valley_2_std', 'spectral_valley_3_mean',\n",
    "                           'spectral_valley_3_std', 'spectral_valley_4_mean',\n",
    "                           'spectral_valley_4_std', 'spectral_valley_5_mean',\n",
    "                           'spectral_valley_5_std', 'spectral_decrease_mean',\n",
    "                           'spectral_decrease_std', 'spectral_energy_mean', 'spectral_energy_std',\n",
    "                           'spectral_energy_band_ratio_mean', 'spectral_energy_band_ratio_std',\n",
    "                           'spectral_flatness_mean', 'spectral_flatness_std', 'spectral_flux_mean',\n",
    "                           'spectral_flux_std', 'spectral_rolloff_mean', 'spectral_rolloff_std',\n",
    "                           'spectral_strong_peak_mean', 'spectral_strong_peak_std',\n",
    "                           'spectral_variance_mean', 'spectral_variance_std',\n",
    "                           'spectral_skewness_mean', 'spectral_skewness_std',\n",
    "                           'spectral_kurtosis_mean', 'spectral_kurtosis_std',\n",
    "                           'spectral_crest_factor_mean', 'spectral_crest_factor_std',\n",
    "                           'mfcc_0_mean', 'mfcc_0_std', 'mfcc_1_mean', 'mfcc_1_std', 'mfcc_2_mean',\n",
    "                           'mfcc_2_std', 'mfcc_3_mean', 'mfcc_3_std', 'mfcc_4_mean', 'mfcc_4_std',\n",
    "                           'mfcc_5_mean', 'mfcc_5_std', 'mfcc_6_mean', 'mfcc_6_std', 'mfcc_7_mean',\n",
    "                           'mfcc_7_std', 'mfcc_8_mean', 'mfcc_8_std', 'mfcc_9_mean', 'mfcc_9_std',\n",
    "                           'mfcc_10_mean', 'mfcc_10_std', 'mfcc_11_mean', 'mfcc_11_std',\n",
    "                           'mfcc_12_mean', 'mfcc_12_std']\n",
    "\n",
    "X_audio = df_multimodal[audio_feature_columns].drop(columns=redundant_audio_features).to_numpy()\n",
    "\n",
    "# Extract vision features\n",
    "vision_feature_columns = ['max_contour_area', 'rectangle_angle',\n",
    "                          'rectangle_width', 'rectangle_height', 'ellipse_angle', 'ellipse_width',\n",
    "                          'ellipse_height', 'max_hull', 'm00', 'm10', 'm01', 'm20', 'm11', 'm02',\n",
    "                          'm30', 'm21', 'm12', 'm03', 'mu20', 'mu11', 'mu02', 'mu30', 'mu21',\n",
    "                          'mu12', 'mu03', 'nu20', 'nu11', 'nu02', 'nu30', 'nu21', 'nu12', 'nu03',\n",
    "                          'center_x', 'center_y', 'contour_area', 'contour_length']\n",
    "\n",
    "X_vision = df_multimodal[vision_feature_columns].to_numpy()\n",
    "\n",
    "X_all.shape, X_audio.shape, X_vision.shape"
   ]
  },
  {
   "cell_type": "code",
   "execution_count": 8,
   "id": "31e8626c-8f1a-4caa-9afc-703cc63c0cee",
   "metadata": {},
   "outputs": [
    {
     "name": "stdout",
     "output_type": "stream",
     "text": [
      "class weights: [1.20237469 1.83114606 1.472173   0.51468435]\n",
      "class weights encoded: [1.20237469 1.83114606 1.472173   0.51468435]\n",
      "class        : ['Defect-free', 'Keyhole pores', 'Laser defocus', 'Laser-off']\n"
     ]
    }
   ],
   "source": [
    "class_weights = class_weight.compute_class_weight('balanced',\n",
    "                                                 classes = np.unique(y),\n",
    "                                                 y = y)\n",
    "\n",
    "class_weights_encoded = class_weight.compute_class_weight('balanced',\n",
    "                                                 classes = np.unique(Y_encoded),\n",
    "                                                 y = Y_encoded)\n",
    "\n",
    "\n",
    "class_names = (le.classes_).tolist()\n",
    "print(f\"class weights: {class_weights}\")\n",
    "print(f\"class weights encoded: {class_weights_encoded}\")\n",
    "print(f\"class        : {class_names}\")"
   ]
  },
  {
   "cell_type": "code",
   "execution_count": 9,
   "id": "fc1bbc50-dd46-4a41-91fb-33829159863f",
   "metadata": {},
   "outputs": [
    {
     "data": {
      "text/plain": [
       "((36557, 33),\n",
       " (36557, 21),\n",
       " (36557, 33),\n",
       " (36557, 28),\n",
       " (36557, 5),\n",
       " (36557, 16),\n",
       " (36557, 28))"
      ]
     },
     "execution_count": 9,
     "metadata": {},
     "output_type": "execute_result"
    }
   ],
   "source": [
    "# Given features based on previous analysis results\n",
    "features_dropped_090 = ['loudness_vickers', 'spectral_centroid_mean',\n",
    "       'spectral_centroid_std', 'spectral_complexity_mean',\n",
    "       'spectral_complexity_std', 'spectral_contrast_1_mean',\n",
    "       'spectral_contrast_3_mean', 'spectral_contrast_3_std',\n",
    "       'spectral_contrast_4_mean', 'spectral_contrast_5_mean',\n",
    "       'spectral_valley_0_mean', 'spectral_valley_2_mean',\n",
    "       'spectral_valley_3_mean', 'spectral_valley_4_mean',\n",
    "       'spectral_valley_5_mean', 'spectral_energy_band_ratio_std',\n",
    "       'spectral_flux_mean', 'spectral_flux_std', 'spectral_rolloff_mean',\n",
    "       'spectral_strong_peak_mean', 'spectral_kurtosis_mean',\n",
    "       'spectral_crest_factor_mean', 'spectral_crest_factor_std',\n",
    "       'mfcc_1_mean', 'mfcc_2_mean', 'mfcc_3_mean', 'mfcc_4_std',\n",
    "       'mfcc_6_mean', 'max_contour_area', 'rectangle_angle', 'ellipse_angle',\n",
    "       'nu02', 'nu03']\n",
    "\n",
    "features_dropped_090_mi_filtered_01 = ['loudness_vickers', 'spectral_complexity_mean',\n",
    "       'spectral_complexity_std', 'spectral_contrast_1_mean',\n",
    "       'spectral_contrast_3_mean', 'spectral_valley_0_mean',\n",
    "       'spectral_valley_2_mean', 'spectral_valley_3_mean',\n",
    "       'spectral_valley_4_mean', 'spectral_valley_5_mean',\n",
    "       'spectral_flux_mean', 'spectral_flux_std', 'spectral_rolloff_mean',\n",
    "       'spectral_kurtosis_mean', 'mfcc_1_mean', 'mfcc_3_mean',\n",
    "       'max_contour_area', 'rectangle_angle', 'ellipse_angle', 'nu02', 'nu03']\n",
    "\n",
    "features_dropped_090_mi_filtered_005 = ['loudness_vickers', 'spectral_centroid_mean',\n",
    "       'spectral_centroid_std', 'spectral_complexity_mean',\n",
    "       'spectral_complexity_std', 'spectral_contrast_1_mean',\n",
    "       'spectral_contrast_3_mean', 'spectral_contrast_3_std',\n",
    "       'spectral_contrast_4_mean', 'spectral_contrast_5_mean',\n",
    "       'spectral_valley_0_mean', 'spectral_valley_2_mean',\n",
    "       'spectral_valley_3_mean', 'spectral_valley_4_mean',\n",
    "       'spectral_valley_5_mean', 'spectral_energy_band_ratio_std',\n",
    "       'spectral_flux_mean', 'spectral_flux_std', 'spectral_rolloff_mean',\n",
    "       'spectral_strong_peak_mean', 'spectral_kurtosis_mean',\n",
    "       'spectral_crest_factor_mean', 'spectral_crest_factor_std',\n",
    "       'mfcc_1_mean', 'mfcc_2_mean', 'mfcc_3_mean', 'mfcc_4_std',\n",
    "       'mfcc_6_mean', 'max_contour_area', 'rectangle_angle', 'ellipse_angle',\n",
    "       'nu02', 'nu03']\n",
    "\n",
    "# Create ablated datasets\n",
    "X_dropped_090 = df_multimodal[features_dropped_090].to_numpy()\n",
    "X_dropped_090_mi_filtered_01 = df_multimodal[features_dropped_090_mi_filtered_01].to_numpy()\n",
    "X_dropped_090_mi_filtered_005 = df_multimodal[features_dropped_090_mi_filtered_005].to_numpy()\n",
    "\n",
    "# Extract Audio and Vision features from the ablated datasets\n",
    "X_audio_dropped_090 = df_multimodal[[feat for feat in features_dropped_090 if feat in audio_feature_columns]].to_numpy()\n",
    "X_vision_dropped_090 = df_multimodal[[feat for feat in features_dropped_090 if feat in vision_feature_columns]].to_numpy()\n",
    "\n",
    "# Extract Audio features from the ablated datasets 2 and 3\n",
    "X_audio_dropped_090_mi_filtered_01 = df_multimodal[[feat for feat in features_dropped_090_mi_filtered_01 if feat in audio_feature_columns]].to_numpy()\n",
    "X_audio_dropped_090_mi_filtered_005 = df_multimodal[[feat for feat in features_dropped_090_mi_filtered_005 if feat in audio_feature_columns]].to_numpy()\n",
    "\n",
    "# Get the shapes of these additional ablated datasets\n",
    "X_dropped_090.shape, X_dropped_090_mi_filtered_01.shape, X_dropped_090_mi_filtered_005.shape, X_audio_dropped_090.shape, X_vision_dropped_090.shape, X_audio_dropped_090_mi_filtered_01.shape, X_audio_dropped_090_mi_filtered_005.shape"
   ]
  },
  {
   "cell_type": "markdown",
   "id": "923395bd-b023-4dd8-90be-a1ec2acbe5d2",
   "metadata": {},
   "source": [
    "- ALL Dataset (X_all):  `119 features`\n",
    "- Ablated Dataset 1 (X_dropped_090):  `33 features`\n",
    "- Ablated Dataset 2 (X_dropped_090_mi_filtered_01): `21 features`\n",
    "- Ablated Dataset 3 (X_dropped_090_mi_filtered_005):  `33 features`\n",
    "- Ablated Dataset 4 (X_audio_all): `81 audio features`\n",
    "- Ablated Dataset 5 (X_vision_all): `36 vision features`\n",
    "- Ablated Dataset 6 (X_audio_dropped_090): `28 audio features`\n",
    "- Ablated Dataset 7 (X_vision_dropped_090): `5 vision features`\n",
    "- Ablated Dataset 8 (X_audio_dropped_090_mi_filtered_01): `16 audio features`\n",
    "- Ablated Dataset 9 (X_audio_dropped_090_mi_filtered_005): `28 audio features`"
   ]
  },
  {
   "cell_type": "code",
   "execution_count": 10,
   "id": "bfc65b8f-a9ef-4518-944f-528fb2e1dfb6",
   "metadata": {},
   "outputs": [],
   "source": [
    "%store -r train_indices\n",
    "%store -r val_indices\n",
    "%store -r test_indices"
   ]
  },
  {
   "cell_type": "code",
   "execution_count": 11,
   "id": "a8fae274-2101-4ec6-9667-fd5ab8a5d20e",
   "metadata": {},
   "outputs": [
    {
     "data": {
      "text/plain": [
       "(3656, 29245)"
      ]
     },
     "execution_count": 11,
     "metadata": {},
     "output_type": "execute_result"
    }
   ],
   "source": [
    "len(test_indices), len(train_indices)"
   ]
  },
  {
   "cell_type": "markdown",
   "id": "58c2e72e-9547-44bd-a5bc-de4579c69657",
   "metadata": {},
   "source": [
    "## Step 2: Create a Pipeline and Iterate Over Datasets and Models"
   ]
  },
  {
   "cell_type": "code",
   "execution_count": 17,
   "id": "f404db24-33a7-45ba-a382-ffad15476bd4",
   "metadata": {},
   "outputs": [],
   "source": [
    "# Define hyperparameters for each model\n",
    "hyperparameters = {\n",
    "    'KNN': {'n_neighbors': 12, 'weights': 'distance'},\n",
    "    'DT': {'ccp_alpha': 3.89e-05, 'max_depth': 21, 'min_samples_leaf': 1, 'min_samples_split': 13},\n",
    "    'LR': {'C': 5.15, 'max_iter': 2528, 'penalty': 'l2', 'solver': 'lbfgs'},\n",
    "    'RF': {'bootstrap': False, 'max_depth': 64, 'max_features': 'sqrt', 'min_samples_leaf': 3, 'min_samples_split': 6, 'n_estimators': 307},\n",
    "    'BalancedRF': {'bootstrap': False, 'max_depth': 23, 'max_features': 'sqrt', 'min_samples_leaf': 8, 'min_samples_split': 17, 'n_estimators': 237},\n",
    "    'RUSBoost': {'learning_rate': 0.1, 'n_estimators': 150},\n",
    "    'Ada': {'algorithm': 'SAMME', 'learning_rate': 0.57, 'n_estimators': 307},\n",
    "    'GP': {'kernel': 1**2 * RBF(length_scale=1)},\n",
    "    'NN': {'activation': 'relu', 'alpha': 0.077, 'early_stopping': True, 'hidden_layer_sizes': (229, 255, 168), 'learning_rate': 'adaptive', 'max_iter': 11805, 'solver': 'adam', 'validation_fraction': 0.1},\n",
    "    'XGBoost': {'colsample_bytree': 0.62, 'gamma': 0.48, 'learning_rate': 0.35, 'max_depth': 44, 'min_child_weight': 8, 'n_estimators': 480, 'subsample': 0.59,  'gpu_id': 0},\n",
    "    'LightGBM': {'colsample_bytree': 0.80, 'learning_rate': 0.15, 'max_depth': 35, 'min_child_weight': 1, 'n_estimators': 276, 'num_leaves': 120, 'reg_alpha': 1.94, 'reg_lambda': 1.70, 'subsample': 0.86, 'verbose': -1},\n",
    "    'SVM': {'C': 524.86, 'degree': 9, 'gamma': 0.029, 'kernel': 'rbf', 'probability': True},\n",
    "    'GB': {'learning_rate': 0.23, 'max_depth': 49, 'min_samples_leaf': 10, 'min_samples_split': 17, 'n_estimators': 271, 'n_iter_no_change': 10, 'subsample': 0.73, 'tol': 0.0001},\n",
    "    'HistGB': {'learning_rate': 0.23, 'max_iter': 100, 'max_depth': 49, 'min_samples_leaf': 10, 'n_iter_no_change': 10, 'tol': 0.0001},\n",
    "}\n",
    "\n",
    "# List of datasets\n",
    "datasets = {\n",
    "    'All Features': X_all,\n",
    "    'Ablated 1': X_dropped_090,\n",
    "    'Ablated 2': X_dropped_090_mi_filtered_01,\n",
    "    'Ablated 3': X_dropped_090_mi_filtered_005,\n",
    "    'Audio All': X_audio,\n",
    "    'Vision All': X_vision,\n",
    "    'Audio Ablated 1': X_audio_dropped_090,\n",
    "    'Vision Ablated 1': X_vision_dropped_090,\n",
    "    'Audio Ablated 2': X_audio_dropped_090_mi_filtered_01,\n",
    "    'Audio Ablated 3': X_audio_dropped_090_mi_filtered_005\n",
    "}\n",
    "\n",
    "\n",
    "# List of models\n",
    "models = {\n",
    "    'KNN': KNeighborsClassifier,\n",
    "    'DT': DecisionTreeClassifier,\n",
    "    # 'LR': LogisticRegression,\n",
    "    'RF': RandomForestClassifier,\n",
    "    'BalancedRF': BalancedRandomForestClassifier,\n",
    "    'RUSBoost': RUSBoostClassifier,\n",
    "    'Ada': AdaBoostClassifier,\n",
    "    # 'GP': GaussianProcessClassifier,\n",
    "    'NN': MLPClassifier,\n",
    "    'XGBoost': XGBClassifier,\n",
    "    'LightGBM': LGBMClassifier,\n",
    "    'SVM': SVC,\n",
    "    # 'GB': GradientBoostingClassifier,\n",
    "    'HistGB': HistGradientBoostingClassifier\n",
    "}"
   ]
  },
  {
   "cell_type": "markdown",
   "id": "e03e9c58-2a68-429c-9f67-1ad896dbd890",
   "metadata": {},
   "source": [
    "## Step 3: Model Training"
   ]
  },
  {
   "cell_type": "code",
   "execution_count": 13,
   "id": "8b6a8783-3f67-4fb8-bcee-d467f559d282",
   "metadata": {
    "scrolled": true
   },
   "outputs": [
    {
     "name": "stdout",
     "output_type": "stream",
     "text": [
      "Processing dataset: Audio All\n",
      "\tTraining model: KNN\n"
     ]
    },
    {
     "data": {
      "text/html": [
       "Finishing last run (ID:99smmtac) before initializing another..."
      ],
      "text/plain": [
       "<IPython.core.display.HTML object>"
      ]
     },
     "metadata": {},
     "output_type": "display_data"
    },
    {
     "data": {
      "text/html": [
       "Waiting for W&B process to finish... <strong style=\"color:green\">(success).</strong>"
      ],
      "text/plain": [
       "<IPython.core.display.HTML object>"
      ]
     },
     "metadata": {},
     "output_type": "display_data"
    },
    {
     "data": {
      "application/vnd.jupyter.widget-view+json": {
       "model_id": "a4c2dc6762a34c9eb8f98bbb267e8836",
       "version_major": 2,
       "version_minor": 0
      },
      "text/plain": [
       "VBox(children=(Label(value='0.002 MB of 0.002 MB uploaded (0.000 MB deduped)\\r'), FloatProgress(value=1.0, max…"
      ]
     },
     "metadata": {},
     "output_type": "display_data"
    },
    {
     "data": {
      "text/html": [
       " View run <strong style=\"color:#cdcd00\">haunted-spell-89</strong> at: <a href='https://wandb.ai/lequn/AudioVisual_ML_ablation_study_v2/runs/99smmtac' target=\"_blank\">https://wandb.ai/lequn/AudioVisual_ML_ablation_study_v2/runs/99smmtac</a><br/> View job at <a href='https://wandb.ai/lequn/AudioVisual_ML_ablation_study_v2/jobs/QXJ0aWZhY3RDb2xsZWN0aW9uOjExMTQ1OTc4Ng==/version_details/v12' target=\"_blank\">https://wandb.ai/lequn/AudioVisual_ML_ablation_study_v2/jobs/QXJ0aWZhY3RDb2xsZWN0aW9uOjExMTQ1OTc4Ng==/version_details/v12</a><br/>Synced 6 W&B file(s), 0 media file(s), 0 artifact file(s) and 0 other file(s)"
      ],
      "text/plain": [
       "<IPython.core.display.HTML object>"
      ]
     },
     "metadata": {},
     "output_type": "display_data"
    },
    {
     "data": {
      "text/html": [
       "Find logs at: <code>./wandb/run-20231031_170905-99smmtac/logs</code>"
      ],
      "text/plain": [
       "<IPython.core.display.HTML object>"
      ]
     },
     "metadata": {},
     "output_type": "display_data"
    },
    {
     "data": {
      "text/html": [
       "Successfully finished last run (ID:99smmtac). Initializing new run:<br/>"
      ],
      "text/plain": [
       "<IPython.core.display.HTML object>"
      ]
     },
     "metadata": {},
     "output_type": "display_data"
    },
    {
     "data": {
      "application/vnd.jupyter.widget-view+json": {
       "model_id": "f18a28bf6a6144c79ba19bd8f4c1b721",
       "version_major": 2,
       "version_minor": 0
      },
      "text/plain": [
       "VBox(children=(Label(value='Waiting for wandb.init()...\\r'), FloatProgress(value=0.011113838344398472, max=1.0…"
      ]
     },
     "metadata": {},
     "output_type": "display_data"
    },
    {
     "data": {
      "text/html": [
       "Tracking run with wandb version 0.15.12"
      ],
      "text/plain": [
       "<IPython.core.display.HTML object>"
      ]
     },
     "metadata": {},
     "output_type": "display_data"
    },
    {
     "data": {
      "text/html": [
       "Run data is saved locally in <code>/home/chenlequn/GitHub/LDED-FusionNet/code/wandb/run-20231031_170915-jqg1umv6</code>"
      ],
      "text/plain": [
       "<IPython.core.display.HTML object>"
      ]
     },
     "metadata": {},
     "output_type": "display_data"
    },
    {
     "data": {
      "text/html": [
       "Syncing run <strong><a href='https://wandb.ai/lequn/AudioVisual_ML_ablation_study_v2/runs/jqg1umv6' target=\"_blank\">KNN_Audio All</a></strong> to <a href='https://wandb.ai/lequn/AudioVisual_ML_ablation_study_v2' target=\"_blank\">Weights & Biases</a> (<a href='https://wandb.me/run' target=\"_blank\">docs</a>)<br/>"
      ],
      "text/plain": [
       "<IPython.core.display.HTML object>"
      ]
     },
     "metadata": {},
     "output_type": "display_data"
    },
    {
     "data": {
      "text/html": [
       " View project at <a href='https://wandb.ai/lequn/AudioVisual_ML_ablation_study_v2' target=\"_blank\">https://wandb.ai/lequn/AudioVisual_ML_ablation_study_v2</a>"
      ],
      "text/plain": [
       "<IPython.core.display.HTML object>"
      ]
     },
     "metadata": {},
     "output_type": "display_data"
    },
    {
     "data": {
      "text/html": [
       " View run at <a href='https://wandb.ai/lequn/AudioVisual_ML_ablation_study_v2/runs/jqg1umv6' target=\"_blank\">https://wandb.ai/lequn/AudioVisual_ML_ablation_study_v2/runs/jqg1umv6</a>"
      ],
      "text/plain": [
       "<IPython.core.display.HTML object>"
      ]
     },
     "metadata": {},
     "output_type": "display_data"
    },
    {
     "name": "stdout",
     "output_type": "stream",
     "text": [
      "\t\tAccuracy: Mean = 0.85530787229112, Std = 0.018592131566065814\n",
      "\t\tF1 Score: Mean = 0.8522661468528627, Std = 0.02006164018925472\n",
      "\t\tPrecision: Mean = 0.853876188928173, Std = 0.019708938801292403\n",
      "\t\tRecall: Mean = 0.85530787229112, Std = 0.018592131566065814\n",
      "\t\tROC-AUC: Mean = 0.9639700549137267, Std = 0.004173130763581627\n"
     ]
    },
    {
     "data": {
      "text/html": [
       "Waiting for W&B process to finish... <strong style=\"color:green\">(success).</strong>"
      ],
      "text/plain": [
       "<IPython.core.display.HTML object>"
      ]
     },
     "metadata": {},
     "output_type": "display_data"
    },
    {
     "data": {
      "text/html": [
       "<style>\n",
       "    table.wandb td:nth-child(1) { padding: 0 10px; text-align: left ; width: auto;} td:nth-child(2) {text-align: left ; width: 100%}\n",
       "    .wandb-row { display: flex; flex-direction: row; flex-wrap: wrap; justify-content: flex-start; width: 100% }\n",
       "    .wandb-col { display: flex; flex-direction: column; flex-basis: 100%; flex: 1; padding: 10px; }\n",
       "    </style>\n",
       "<div class=\"wandb-row\"><div class=\"wandb-col\"><h3>Run history:</h3><br/><table class=\"wandb\"><tr><td>Accuracy_mean</td><td>▁</td></tr><tr><td>Accuracy_std</td><td>▁</td></tr><tr><td>F1 Score_mean</td><td>▁</td></tr><tr><td>F1 Score_std</td><td>▁</td></tr><tr><td>Precision_mean</td><td>▁</td></tr><tr><td>Precision_std</td><td>▁</td></tr><tr><td>ROC-AUC_mean</td><td>▁</td></tr><tr><td>ROC-AUC_std</td><td>▁</td></tr><tr><td>Recall_mean</td><td>▁</td></tr><tr><td>Recall_std</td><td>▁</td></tr></table><br/></div><div class=\"wandb-col\"><h3>Run summary:</h3><br/><table class=\"wandb\"><tr><td>Accuracy_mean</td><td>0.85531</td></tr><tr><td>Accuracy_std</td><td>0.01859</td></tr><tr><td>F1 Score_mean</td><td>0.85227</td></tr><tr><td>F1 Score_std</td><td>0.02006</td></tr><tr><td>Precision_mean</td><td>0.85388</td></tr><tr><td>Precision_std</td><td>0.01971</td></tr><tr><td>ROC-AUC_mean</td><td>0.96397</td></tr><tr><td>ROC-AUC_std</td><td>0.00417</td></tr><tr><td>Recall_mean</td><td>0.85531</td></tr><tr><td>Recall_std</td><td>0.01859</td></tr></table><br/></div></div>"
      ],
      "text/plain": [
       "<IPython.core.display.HTML object>"
      ]
     },
     "metadata": {},
     "output_type": "display_data"
    },
    {
     "data": {
      "text/html": [
       " View run <strong style=\"color:#cdcd00\">KNN_Audio All</strong> at: <a href='https://wandb.ai/lequn/AudioVisual_ML_ablation_study_v2/runs/jqg1umv6' target=\"_blank\">https://wandb.ai/lequn/AudioVisual_ML_ablation_study_v2/runs/jqg1umv6</a><br/> View job at <a href='https://wandb.ai/lequn/AudioVisual_ML_ablation_study_v2/jobs/QXJ0aWZhY3RDb2xsZWN0aW9uOjExMTQ1OTc4Ng==/version_details/v12' target=\"_blank\">https://wandb.ai/lequn/AudioVisual_ML_ablation_study_v2/jobs/QXJ0aWZhY3RDb2xsZWN0aW9uOjExMTQ1OTc4Ng==/version_details/v12</a><br/>Synced 6 W&B file(s), 0 media file(s), 0 artifact file(s) and 0 other file(s)"
      ],
      "text/plain": [
       "<IPython.core.display.HTML object>"
      ]
     },
     "metadata": {},
     "output_type": "display_data"
    },
    {
     "data": {
      "text/html": [
       "Find logs at: <code>./wandb/run-20231031_170915-jqg1umv6/logs</code>"
      ],
      "text/plain": [
       "<IPython.core.display.HTML object>"
      ]
     },
     "metadata": {},
     "output_type": "display_data"
    },
    {
     "name": "stdout",
     "output_type": "stream",
     "text": [
      "\tTraining model: DT\n"
     ]
    },
    {
     "data": {
      "application/vnd.jupyter.widget-view+json": {
       "model_id": "fcf00cdbe7724a38885dd404f321da29",
       "version_major": 2,
       "version_minor": 0
      },
      "text/plain": [
       "VBox(children=(Label(value='Waiting for wandb.init()...\\r'), FloatProgress(value=0.011113882333383016, max=1.0…"
      ]
     },
     "metadata": {},
     "output_type": "display_data"
    },
    {
     "data": {
      "text/html": [
       "Tracking run with wandb version 0.15.12"
      ],
      "text/plain": [
       "<IPython.core.display.HTML object>"
      ]
     },
     "metadata": {},
     "output_type": "display_data"
    },
    {
     "data": {
      "text/html": [
       "Run data is saved locally in <code>/home/chenlequn/GitHub/LDED-FusionNet/code/wandb/run-20231031_170944-s0xb7kol</code>"
      ],
      "text/plain": [
       "<IPython.core.display.HTML object>"
      ]
     },
     "metadata": {},
     "output_type": "display_data"
    },
    {
     "data": {
      "text/html": [
       "Syncing run <strong><a href='https://wandb.ai/lequn/AudioVisual_ML_ablation_study_v2/runs/s0xb7kol' target=\"_blank\">DT_Audio All</a></strong> to <a href='https://wandb.ai/lequn/AudioVisual_ML_ablation_study_v2' target=\"_blank\">Weights & Biases</a> (<a href='https://wandb.me/run' target=\"_blank\">docs</a>)<br/>"
      ],
      "text/plain": [
       "<IPython.core.display.HTML object>"
      ]
     },
     "metadata": {},
     "output_type": "display_data"
    },
    {
     "data": {
      "text/html": [
       " View project at <a href='https://wandb.ai/lequn/AudioVisual_ML_ablation_study_v2' target=\"_blank\">https://wandb.ai/lequn/AudioVisual_ML_ablation_study_v2</a>"
      ],
      "text/plain": [
       "<IPython.core.display.HTML object>"
      ]
     },
     "metadata": {},
     "output_type": "display_data"
    },
    {
     "data": {
      "text/html": [
       " View run at <a href='https://wandb.ai/lequn/AudioVisual_ML_ablation_study_v2/runs/s0xb7kol' target=\"_blank\">https://wandb.ai/lequn/AudioVisual_ML_ablation_study_v2/runs/s0xb7kol</a>"
      ],
      "text/plain": [
       "<IPython.core.display.HTML object>"
      ]
     },
     "metadata": {},
     "output_type": "display_data"
    },
    {
     "name": "stdout",
     "output_type": "stream",
     "text": [
      "\t\tAccuracy: Mean = 0.8052521809333723, Std = 0.013327913081461388\n",
      "\t\tF1 Score: Mean = 0.8029900503279409, Std = 0.01252891832322407\n",
      "\t\tPrecision: Mean = 0.8023196789012024, Std = 0.012145256544449099\n",
      "\t\tRecall: Mean = 0.8052521809333723, Std = 0.013327913081461388\n",
      "\t\tROC-AUC: Mean = 0.8677042530715979, Std = 0.008552652160350664\n"
     ]
    },
    {
     "data": {
      "text/html": [
       "Waiting for W&B process to finish... <strong style=\"color:green\">(success).</strong>"
      ],
      "text/plain": [
       "<IPython.core.display.HTML object>"
      ]
     },
     "metadata": {},
     "output_type": "display_data"
    },
    {
     "data": {
      "application/vnd.jupyter.widget-view+json": {
       "model_id": "7b6e43ff5bcc4b5f9112b9dba239d336",
       "version_major": 2,
       "version_minor": 0
      },
      "text/plain": [
       "VBox(children=(Label(value='0.002 MB of 0.002 MB uploaded (0.000 MB deduped)\\r'), FloatProgress(value=1.0, max…"
      ]
     },
     "metadata": {},
     "output_type": "display_data"
    },
    {
     "data": {
      "text/html": [
       "<style>\n",
       "    table.wandb td:nth-child(1) { padding: 0 10px; text-align: left ; width: auto;} td:nth-child(2) {text-align: left ; width: 100%}\n",
       "    .wandb-row { display: flex; flex-direction: row; flex-wrap: wrap; justify-content: flex-start; width: 100% }\n",
       "    .wandb-col { display: flex; flex-direction: column; flex-basis: 100%; flex: 1; padding: 10px; }\n",
       "    </style>\n",
       "<div class=\"wandb-row\"><div class=\"wandb-col\"><h3>Run history:</h3><br/><table class=\"wandb\"><tr><td>Accuracy_mean</td><td>▁</td></tr><tr><td>Accuracy_std</td><td>▁</td></tr><tr><td>F1 Score_mean</td><td>▁</td></tr><tr><td>F1 Score_std</td><td>▁</td></tr><tr><td>Precision_mean</td><td>▁</td></tr><tr><td>Precision_std</td><td>▁</td></tr><tr><td>ROC-AUC_mean</td><td>▁</td></tr><tr><td>ROC-AUC_std</td><td>▁</td></tr><tr><td>Recall_mean</td><td>▁</td></tr><tr><td>Recall_std</td><td>▁</td></tr></table><br/></div><div class=\"wandb-col\"><h3>Run summary:</h3><br/><table class=\"wandb\"><tr><td>Accuracy_mean</td><td>0.80525</td></tr><tr><td>Accuracy_std</td><td>0.01333</td></tr><tr><td>F1 Score_mean</td><td>0.80299</td></tr><tr><td>F1 Score_std</td><td>0.01253</td></tr><tr><td>Precision_mean</td><td>0.80232</td></tr><tr><td>Precision_std</td><td>0.01215</td></tr><tr><td>ROC-AUC_mean</td><td>0.8677</td></tr><tr><td>ROC-AUC_std</td><td>0.00855</td></tr><tr><td>Recall_mean</td><td>0.80525</td></tr><tr><td>Recall_std</td><td>0.01333</td></tr></table><br/></div></div>"
      ],
      "text/plain": [
       "<IPython.core.display.HTML object>"
      ]
     },
     "metadata": {},
     "output_type": "display_data"
    },
    {
     "data": {
      "text/html": [
       " View run <strong style=\"color:#cdcd00\">DT_Audio All</strong> at: <a href='https://wandb.ai/lequn/AudioVisual_ML_ablation_study_v2/runs/s0xb7kol' target=\"_blank\">https://wandb.ai/lequn/AudioVisual_ML_ablation_study_v2/runs/s0xb7kol</a><br/> View job at <a href='https://wandb.ai/lequn/AudioVisual_ML_ablation_study_v2/jobs/QXJ0aWZhY3RDb2xsZWN0aW9uOjExMTQ1OTc4Ng==/version_details/v12' target=\"_blank\">https://wandb.ai/lequn/AudioVisual_ML_ablation_study_v2/jobs/QXJ0aWZhY3RDb2xsZWN0aW9uOjExMTQ1OTc4Ng==/version_details/v12</a><br/>Synced 6 W&B file(s), 0 media file(s), 0 artifact file(s) and 0 other file(s)"
      ],
      "text/plain": [
       "<IPython.core.display.HTML object>"
      ]
     },
     "metadata": {},
     "output_type": "display_data"
    },
    {
     "data": {
      "text/html": [
       "Find logs at: <code>./wandb/run-20231031_170944-s0xb7kol/logs</code>"
      ],
      "text/plain": [
       "<IPython.core.display.HTML object>"
      ]
     },
     "metadata": {},
     "output_type": "display_data"
    },
    {
     "name": "stdout",
     "output_type": "stream",
     "text": [
      "\tTraining model: RF\n"
     ]
    },
    {
     "data": {
      "application/vnd.jupyter.widget-view+json": {
       "model_id": "e697d6ba1411408ab212d8888e5cda15",
       "version_major": 2,
       "version_minor": 0
      },
      "text/plain": [
       "VBox(children=(Label(value='Waiting for wandb.init()...\\r'), FloatProgress(value=0.011113193488886787, max=1.0…"
      ]
     },
     "metadata": {},
     "output_type": "display_data"
    },
    {
     "data": {
      "text/html": [
       "Tracking run with wandb version 0.15.12"
      ],
      "text/plain": [
       "<IPython.core.display.HTML object>"
      ]
     },
     "metadata": {},
     "output_type": "display_data"
    },
    {
     "data": {
      "text/html": [
       "Run data is saved locally in <code>/home/chenlequn/GitHub/LDED-FusionNet/code/wandb/run-20231031_171005-cn0ch09o</code>"
      ],
      "text/plain": [
       "<IPython.core.display.HTML object>"
      ]
     },
     "metadata": {},
     "output_type": "display_data"
    },
    {
     "data": {
      "text/html": [
       "Syncing run <strong><a href='https://wandb.ai/lequn/AudioVisual_ML_ablation_study_v2/runs/cn0ch09o' target=\"_blank\">RF_Audio All</a></strong> to <a href='https://wandb.ai/lequn/AudioVisual_ML_ablation_study_v2' target=\"_blank\">Weights & Biases</a> (<a href='https://wandb.me/run' target=\"_blank\">docs</a>)<br/>"
      ],
      "text/plain": [
       "<IPython.core.display.HTML object>"
      ]
     },
     "metadata": {},
     "output_type": "display_data"
    },
    {
     "data": {
      "text/html": [
       " View project at <a href='https://wandb.ai/lequn/AudioVisual_ML_ablation_study_v2' target=\"_blank\">https://wandb.ai/lequn/AudioVisual_ML_ablation_study_v2</a>"
      ],
      "text/plain": [
       "<IPython.core.display.HTML object>"
      ]
     },
     "metadata": {},
     "output_type": "display_data"
    },
    {
     "data": {
      "text/html": [
       " View run at <a href='https://wandb.ai/lequn/AudioVisual_ML_ablation_study_v2/runs/cn0ch09o' target=\"_blank\">https://wandb.ai/lequn/AudioVisual_ML_ablation_study_v2/runs/cn0ch09o</a>"
      ],
      "text/plain": [
       "<IPython.core.display.HTML object>"
      ]
     },
     "metadata": {},
     "output_type": "display_data"
    },
    {
     "name": "stdout",
     "output_type": "stream",
     "text": [
      "\t\tAccuracy: Mean = 0.8763696710098451, Std = 0.008427188047558494\n",
      "\t\tF1 Score: Mean = 0.8744638786756523, Std = 0.008706738378845367\n",
      "\t\tPrecision: Mean = 0.8758607493486286, Std = 0.009966263731181747\n",
      "\t\tRecall: Mean = 0.8763696710098451, Std = 0.008427188047558494\n",
      "\t\tROC-AUC: Mean = 0.9754555556225917, Std = 0.0029219601042964408\n"
     ]
    },
    {
     "data": {
      "text/html": [
       "Waiting for W&B process to finish... <strong style=\"color:green\">(success).</strong>"
      ],
      "text/plain": [
       "<IPython.core.display.HTML object>"
      ]
     },
     "metadata": {},
     "output_type": "display_data"
    },
    {
     "data": {
      "application/vnd.jupyter.widget-view+json": {
       "model_id": "27b367c65c8c49ce86f14c57c3c00f98",
       "version_major": 2,
       "version_minor": 0
      },
      "text/plain": [
       "VBox(children=(Label(value='0.002 MB of 0.002 MB uploaded (0.000 MB deduped)\\r'), FloatProgress(value=1.0, max…"
      ]
     },
     "metadata": {},
     "output_type": "display_data"
    },
    {
     "data": {
      "text/html": [
       "<style>\n",
       "    table.wandb td:nth-child(1) { padding: 0 10px; text-align: left ; width: auto;} td:nth-child(2) {text-align: left ; width: 100%}\n",
       "    .wandb-row { display: flex; flex-direction: row; flex-wrap: wrap; justify-content: flex-start; width: 100% }\n",
       "    .wandb-col { display: flex; flex-direction: column; flex-basis: 100%; flex: 1; padding: 10px; }\n",
       "    </style>\n",
       "<div class=\"wandb-row\"><div class=\"wandb-col\"><h3>Run history:</h3><br/><table class=\"wandb\"><tr><td>Accuracy_mean</td><td>▁</td></tr><tr><td>Accuracy_std</td><td>▁</td></tr><tr><td>F1 Score_mean</td><td>▁</td></tr><tr><td>F1 Score_std</td><td>▁</td></tr><tr><td>Precision_mean</td><td>▁</td></tr><tr><td>Precision_std</td><td>▁</td></tr><tr><td>ROC-AUC_mean</td><td>▁</td></tr><tr><td>ROC-AUC_std</td><td>▁</td></tr><tr><td>Recall_mean</td><td>▁</td></tr><tr><td>Recall_std</td><td>▁</td></tr></table><br/></div><div class=\"wandb-col\"><h3>Run summary:</h3><br/><table class=\"wandb\"><tr><td>Accuracy_mean</td><td>0.87637</td></tr><tr><td>Accuracy_std</td><td>0.00843</td></tr><tr><td>F1 Score_mean</td><td>0.87446</td></tr><tr><td>F1 Score_std</td><td>0.00871</td></tr><tr><td>Precision_mean</td><td>0.87586</td></tr><tr><td>Precision_std</td><td>0.00997</td></tr><tr><td>ROC-AUC_mean</td><td>0.97546</td></tr><tr><td>ROC-AUC_std</td><td>0.00292</td></tr><tr><td>Recall_mean</td><td>0.87637</td></tr><tr><td>Recall_std</td><td>0.00843</td></tr></table><br/></div></div>"
      ],
      "text/plain": [
       "<IPython.core.display.HTML object>"
      ]
     },
     "metadata": {},
     "output_type": "display_data"
    },
    {
     "data": {
      "text/html": [
       " View run <strong style=\"color:#cdcd00\">RF_Audio All</strong> at: <a href='https://wandb.ai/lequn/AudioVisual_ML_ablation_study_v2/runs/cn0ch09o' target=\"_blank\">https://wandb.ai/lequn/AudioVisual_ML_ablation_study_v2/runs/cn0ch09o</a><br/> View job at <a href='https://wandb.ai/lequn/AudioVisual_ML_ablation_study_v2/jobs/QXJ0aWZhY3RDb2xsZWN0aW9uOjExMTQ1OTc4Ng==/version_details/v12' target=\"_blank\">https://wandb.ai/lequn/AudioVisual_ML_ablation_study_v2/jobs/QXJ0aWZhY3RDb2xsZWN0aW9uOjExMTQ1OTc4Ng==/version_details/v12</a><br/>Synced 6 W&B file(s), 0 media file(s), 0 artifact file(s) and 0 other file(s)"
      ],
      "text/plain": [
       "<IPython.core.display.HTML object>"
      ]
     },
     "metadata": {},
     "output_type": "display_data"
    },
    {
     "data": {
      "text/html": [
       "Find logs at: <code>./wandb/run-20231031_171005-cn0ch09o/logs</code>"
      ],
      "text/plain": [
       "<IPython.core.display.HTML object>"
      ]
     },
     "metadata": {},
     "output_type": "display_data"
    },
    {
     "name": "stdout",
     "output_type": "stream",
     "text": [
      "\tTraining model: BalancedRF\n"
     ]
    },
    {
     "data": {
      "application/vnd.jupyter.widget-view+json": {
       "model_id": "84563729ef1d4667baa6c701ff9030fd",
       "version_major": 2,
       "version_minor": 0
      },
      "text/plain": [
       "VBox(children=(Label(value='Waiting for wandb.init()...\\r'), FloatProgress(value=0.011113407788798213, max=1.0…"
      ]
     },
     "metadata": {},
     "output_type": "display_data"
    },
    {
     "data": {
      "text/html": [
       "Tracking run with wandb version 0.15.12"
      ],
      "text/plain": [
       "<IPython.core.display.HTML object>"
      ]
     },
     "metadata": {},
     "output_type": "display_data"
    },
    {
     "data": {
      "text/html": [
       "Run data is saved locally in <code>/home/chenlequn/GitHub/LDED-FusionNet/code/wandb/run-20231031_171235-ffkuyw6b</code>"
      ],
      "text/plain": [
       "<IPython.core.display.HTML object>"
      ]
     },
     "metadata": {},
     "output_type": "display_data"
    },
    {
     "data": {
      "text/html": [
       "Syncing run <strong><a href='https://wandb.ai/lequn/AudioVisual_ML_ablation_study_v2/runs/ffkuyw6b' target=\"_blank\">BalancedRF_Audio All</a></strong> to <a href='https://wandb.ai/lequn/AudioVisual_ML_ablation_study_v2' target=\"_blank\">Weights & Biases</a> (<a href='https://wandb.me/run' target=\"_blank\">docs</a>)<br/>"
      ],
      "text/plain": [
       "<IPython.core.display.HTML object>"
      ]
     },
     "metadata": {},
     "output_type": "display_data"
    },
    {
     "data": {
      "text/html": [
       " View project at <a href='https://wandb.ai/lequn/AudioVisual_ML_ablation_study_v2' target=\"_blank\">https://wandb.ai/lequn/AudioVisual_ML_ablation_study_v2</a>"
      ],
      "text/plain": [
       "<IPython.core.display.HTML object>"
      ]
     },
     "metadata": {},
     "output_type": "display_data"
    },
    {
     "data": {
      "text/html": [
       " View run at <a href='https://wandb.ai/lequn/AudioVisual_ML_ablation_study_v2/runs/ffkuyw6b' target=\"_blank\">https://wandb.ai/lequn/AudioVisual_ML_ablation_study_v2/runs/ffkuyw6b</a>"
      ],
      "text/plain": [
       "<IPython.core.display.HTML object>"
      ]
     },
     "metadata": {},
     "output_type": "display_data"
    },
    {
     "name": "stderr",
     "output_type": "stream",
     "text": [
      "/home/chenlequn/anaconda3/envs/torch/lib/python3.9/site-packages/imblearn/ensemble/_forest.py:546: FutureWarning: The default of `sampling_strategy` will change from `'auto'` to `'all'` in version 0.13. This change will follow the implementation proposed in the original paper. Set to `'all'` to silence this warning and adopt the future behaviour.\n",
      "  warn(\n",
      "/home/chenlequn/anaconda3/envs/torch/lib/python3.9/site-packages/imblearn/ensemble/_forest.py:558: FutureWarning: The default of `replacement` will change from `False` to `True` in version 0.13. This change will follow the implementation proposed in the original paper. Set to `True` to silence this warning and adopt the future behaviour.\n",
      "  warn(\n"
     ]
    },
    {
     "name": "stdout",
     "output_type": "stream",
     "text": [
      "\t\tAccuracy: Mean = 0.8703516404655648, Std = 0.010590719433252934\n",
      "\t\tF1 Score: Mean = 0.8707611265773301, Std = 0.01088502862353335\n",
      "\t\tPrecision: Mean = 0.8740622942057114, Std = 0.011468541207631699\n",
      "\t\tRecall: Mean = 0.8703516404655648, Std = 0.010590719433252934\n",
      "\t\tROC-AUC: Mean = 0.9723479033420486, Std = 0.0025267346314645804\n"
     ]
    },
    {
     "data": {
      "text/html": [
       "Waiting for W&B process to finish... <strong style=\"color:green\">(success).</strong>"
      ],
      "text/plain": [
       "<IPython.core.display.HTML object>"
      ]
     },
     "metadata": {},
     "output_type": "display_data"
    },
    {
     "data": {
      "text/html": [
       "<style>\n",
       "    table.wandb td:nth-child(1) { padding: 0 10px; text-align: left ; width: auto;} td:nth-child(2) {text-align: left ; width: 100%}\n",
       "    .wandb-row { display: flex; flex-direction: row; flex-wrap: wrap; justify-content: flex-start; width: 100% }\n",
       "    .wandb-col { display: flex; flex-direction: column; flex-basis: 100%; flex: 1; padding: 10px; }\n",
       "    </style>\n",
       "<div class=\"wandb-row\"><div class=\"wandb-col\"><h3>Run history:</h3><br/><table class=\"wandb\"><tr><td>Accuracy_mean</td><td>▁</td></tr><tr><td>Accuracy_std</td><td>▁</td></tr><tr><td>F1 Score_mean</td><td>▁</td></tr><tr><td>F1 Score_std</td><td>▁</td></tr><tr><td>Precision_mean</td><td>▁</td></tr><tr><td>Precision_std</td><td>▁</td></tr><tr><td>ROC-AUC_mean</td><td>▁</td></tr><tr><td>ROC-AUC_std</td><td>▁</td></tr><tr><td>Recall_mean</td><td>▁</td></tr><tr><td>Recall_std</td><td>▁</td></tr></table><br/></div><div class=\"wandb-col\"><h3>Run summary:</h3><br/><table class=\"wandb\"><tr><td>Accuracy_mean</td><td>0.87035</td></tr><tr><td>Accuracy_std</td><td>0.01059</td></tr><tr><td>F1 Score_mean</td><td>0.87076</td></tr><tr><td>F1 Score_std</td><td>0.01089</td></tr><tr><td>Precision_mean</td><td>0.87406</td></tr><tr><td>Precision_std</td><td>0.01147</td></tr><tr><td>ROC-AUC_mean</td><td>0.97235</td></tr><tr><td>ROC-AUC_std</td><td>0.00253</td></tr><tr><td>Recall_mean</td><td>0.87035</td></tr><tr><td>Recall_std</td><td>0.01059</td></tr></table><br/></div></div>"
      ],
      "text/plain": [
       "<IPython.core.display.HTML object>"
      ]
     },
     "metadata": {},
     "output_type": "display_data"
    },
    {
     "data": {
      "text/html": [
       " View run <strong style=\"color:#cdcd00\">BalancedRF_Audio All</strong> at: <a href='https://wandb.ai/lequn/AudioVisual_ML_ablation_study_v2/runs/ffkuyw6b' target=\"_blank\">https://wandb.ai/lequn/AudioVisual_ML_ablation_study_v2/runs/ffkuyw6b</a><br/> View job at <a href='https://wandb.ai/lequn/AudioVisual_ML_ablation_study_v2/jobs/QXJ0aWZhY3RDb2xsZWN0aW9uOjExMTQ1OTc4Ng==/version_details/v12' target=\"_blank\">https://wandb.ai/lequn/AudioVisual_ML_ablation_study_v2/jobs/QXJ0aWZhY3RDb2xsZWN0aW9uOjExMTQ1OTc4Ng==/version_details/v12</a><br/>Synced 6 W&B file(s), 0 media file(s), 0 artifact file(s) and 0 other file(s)"
      ],
      "text/plain": [
       "<IPython.core.display.HTML object>"
      ]
     },
     "metadata": {},
     "output_type": "display_data"
    },
    {
     "data": {
      "text/html": [
       "Find logs at: <code>./wandb/run-20231031_171235-ffkuyw6b/logs</code>"
      ],
      "text/plain": [
       "<IPython.core.display.HTML object>"
      ]
     },
     "metadata": {},
     "output_type": "display_data"
    },
    {
     "name": "stdout",
     "output_type": "stream",
     "text": [
      "\tTraining model: RUSBoost\n"
     ]
    },
    {
     "data": {
      "application/vnd.jupyter.widget-view+json": {
       "model_id": "2e83c9abcfd3455c8648fafd8df2e5d0",
       "version_major": 2,
       "version_minor": 0
      },
      "text/plain": [
       "VBox(children=(Label(value='Waiting for wandb.init()...\\r'), FloatProgress(value=0.011113725600039794, max=1.0…"
      ]
     },
     "metadata": {},
     "output_type": "display_data"
    },
    {
     "data": {
      "text/html": [
       "Tracking run with wandb version 0.15.12"
      ],
      "text/plain": [
       "<IPython.core.display.HTML object>"
      ]
     },
     "metadata": {},
     "output_type": "display_data"
    },
    {
     "data": {
      "text/html": [
       "Run data is saved locally in <code>/home/chenlequn/GitHub/LDED-FusionNet/code/wandb/run-20231031_171342-qnqtzh4e</code>"
      ],
      "text/plain": [
       "<IPython.core.display.HTML object>"
      ]
     },
     "metadata": {},
     "output_type": "display_data"
    },
    {
     "data": {
      "text/html": [
       "Syncing run <strong><a href='https://wandb.ai/lequn/AudioVisual_ML_ablation_study_v2/runs/qnqtzh4e' target=\"_blank\">RUSBoost_Audio All</a></strong> to <a href='https://wandb.ai/lequn/AudioVisual_ML_ablation_study_v2' target=\"_blank\">Weights & Biases</a> (<a href='https://wandb.me/run' target=\"_blank\">docs</a>)<br/>"
      ],
      "text/plain": [
       "<IPython.core.display.HTML object>"
      ]
     },
     "metadata": {},
     "output_type": "display_data"
    },
    {
     "data": {
      "text/html": [
       " View project at <a href='https://wandb.ai/lequn/AudioVisual_ML_ablation_study_v2' target=\"_blank\">https://wandb.ai/lequn/AudioVisual_ML_ablation_study_v2</a>"
      ],
      "text/plain": [
       "<IPython.core.display.HTML object>"
      ]
     },
     "metadata": {},
     "output_type": "display_data"
    },
    {
     "data": {
      "text/html": [
       " View run at <a href='https://wandb.ai/lequn/AudioVisual_ML_ablation_study_v2/runs/qnqtzh4e' target=\"_blank\">https://wandb.ai/lequn/AudioVisual_ML_ablation_study_v2/runs/qnqtzh4e</a>"
      ],
      "text/plain": [
       "<IPython.core.display.HTML object>"
      ]
     },
     "metadata": {},
     "output_type": "display_data"
    },
    {
     "name": "stdout",
     "output_type": "stream",
     "text": [
      "\t\tAccuracy: Mean = 0.779271228125257, Std = 0.013060701330005337\n",
      "\t\tF1 Score: Mean = 0.7798596426115643, Std = 0.012789978392667224\n",
      "\t\tPrecision: Mean = 0.786884331590665, Std = 0.011901575050112089\n",
      "\t\tRecall: Mean = 0.779271228125257, Std = 0.013060701330005337\n",
      "\t\tROC-AUC: Mean = 0.9100147135924624, Std = 0.004359595181813616\n"
     ]
    },
    {
     "data": {
      "text/html": [
       "Waiting for W&B process to finish... <strong style=\"color:green\">(success).</strong>"
      ],
      "text/plain": [
       "<IPython.core.display.HTML object>"
      ]
     },
     "metadata": {},
     "output_type": "display_data"
    },
    {
     "data": {
      "application/vnd.jupyter.widget-view+json": {
       "model_id": "ac6dd3c69c0542a9a25329b6d85668b3",
       "version_major": 2,
       "version_minor": 0
      },
      "text/plain": [
       "VBox(children=(Label(value='0.002 MB of 0.002 MB uploaded (0.000 MB deduped)\\r'), FloatProgress(value=1.0, max…"
      ]
     },
     "metadata": {},
     "output_type": "display_data"
    },
    {
     "data": {
      "text/html": [
       "<style>\n",
       "    table.wandb td:nth-child(1) { padding: 0 10px; text-align: left ; width: auto;} td:nth-child(2) {text-align: left ; width: 100%}\n",
       "    .wandb-row { display: flex; flex-direction: row; flex-wrap: wrap; justify-content: flex-start; width: 100% }\n",
       "    .wandb-col { display: flex; flex-direction: column; flex-basis: 100%; flex: 1; padding: 10px; }\n",
       "    </style>\n",
       "<div class=\"wandb-row\"><div class=\"wandb-col\"><h3>Run history:</h3><br/><table class=\"wandb\"><tr><td>Accuracy_mean</td><td>▁</td></tr><tr><td>Accuracy_std</td><td>▁</td></tr><tr><td>F1 Score_mean</td><td>▁</td></tr><tr><td>F1 Score_std</td><td>▁</td></tr><tr><td>Precision_mean</td><td>▁</td></tr><tr><td>Precision_std</td><td>▁</td></tr><tr><td>ROC-AUC_mean</td><td>▁</td></tr><tr><td>ROC-AUC_std</td><td>▁</td></tr><tr><td>Recall_mean</td><td>▁</td></tr><tr><td>Recall_std</td><td>▁</td></tr></table><br/></div><div class=\"wandb-col\"><h3>Run summary:</h3><br/><table class=\"wandb\"><tr><td>Accuracy_mean</td><td>0.77927</td></tr><tr><td>Accuracy_std</td><td>0.01306</td></tr><tr><td>F1 Score_mean</td><td>0.77986</td></tr><tr><td>F1 Score_std</td><td>0.01279</td></tr><tr><td>Precision_mean</td><td>0.78688</td></tr><tr><td>Precision_std</td><td>0.0119</td></tr><tr><td>ROC-AUC_mean</td><td>0.91001</td></tr><tr><td>ROC-AUC_std</td><td>0.00436</td></tr><tr><td>Recall_mean</td><td>0.77927</td></tr><tr><td>Recall_std</td><td>0.01306</td></tr></table><br/></div></div>"
      ],
      "text/plain": [
       "<IPython.core.display.HTML object>"
      ]
     },
     "metadata": {},
     "output_type": "display_data"
    },
    {
     "data": {
      "text/html": [
       " View run <strong style=\"color:#cdcd00\">RUSBoost_Audio All</strong> at: <a href='https://wandb.ai/lequn/AudioVisual_ML_ablation_study_v2/runs/qnqtzh4e' target=\"_blank\">https://wandb.ai/lequn/AudioVisual_ML_ablation_study_v2/runs/qnqtzh4e</a><br/> View job at <a href='https://wandb.ai/lequn/AudioVisual_ML_ablation_study_v2/jobs/QXJ0aWZhY3RDb2xsZWN0aW9uOjExMTQ1OTc4Ng==/version_details/v12' target=\"_blank\">https://wandb.ai/lequn/AudioVisual_ML_ablation_study_v2/jobs/QXJ0aWZhY3RDb2xsZWN0aW9uOjExMTQ1OTc4Ng==/version_details/v12</a><br/>Synced 6 W&B file(s), 0 media file(s), 0 artifact file(s) and 0 other file(s)"
      ],
      "text/plain": [
       "<IPython.core.display.HTML object>"
      ]
     },
     "metadata": {},
     "output_type": "display_data"
    },
    {
     "data": {
      "text/html": [
       "Find logs at: <code>./wandb/run-20231031_171342-qnqtzh4e/logs</code>"
      ],
      "text/plain": [
       "<IPython.core.display.HTML object>"
      ]
     },
     "metadata": {},
     "output_type": "display_data"
    },
    {
     "name": "stdout",
     "output_type": "stream",
     "text": [
      "\tTraining model: Ada\n"
     ]
    },
    {
     "data": {
      "application/vnd.jupyter.widget-view+json": {
       "model_id": "f2e0f98729d84191aabc970553907297",
       "version_major": 2,
       "version_minor": 0
      },
      "text/plain": [
       "VBox(children=(Label(value='Waiting for wandb.init()...\\r'), FloatProgress(value=0.011113824311178178, max=1.0…"
      ]
     },
     "metadata": {},
     "output_type": "display_data"
    },
    {
     "data": {
      "text/html": [
       "Tracking run with wandb version 0.15.12"
      ],
      "text/plain": [
       "<IPython.core.display.HTML object>"
      ]
     },
     "metadata": {},
     "output_type": "display_data"
    },
    {
     "data": {
      "text/html": [
       "Run data is saved locally in <code>/home/chenlequn/GitHub/LDED-FusionNet/code/wandb/run-20231031_171425-7rcojv5s</code>"
      ],
      "text/plain": [
       "<IPython.core.display.HTML object>"
      ]
     },
     "metadata": {},
     "output_type": "display_data"
    },
    {
     "data": {
      "text/html": [
       "Syncing run <strong><a href='https://wandb.ai/lequn/AudioVisual_ML_ablation_study_v2/runs/7rcojv5s' target=\"_blank\">Ada_Audio All</a></strong> to <a href='https://wandb.ai/lequn/AudioVisual_ML_ablation_study_v2' target=\"_blank\">Weights & Biases</a> (<a href='https://wandb.me/run' target=\"_blank\">docs</a>)<br/>"
      ],
      "text/plain": [
       "<IPython.core.display.HTML object>"
      ]
     },
     "metadata": {},
     "output_type": "display_data"
    },
    {
     "data": {
      "text/html": [
       " View project at <a href='https://wandb.ai/lequn/AudioVisual_ML_ablation_study_v2' target=\"_blank\">https://wandb.ai/lequn/AudioVisual_ML_ablation_study_v2</a>"
      ],
      "text/plain": [
       "<IPython.core.display.HTML object>"
      ]
     },
     "metadata": {},
     "output_type": "display_data"
    },
    {
     "data": {
      "text/html": [
       " View run at <a href='https://wandb.ai/lequn/AudioVisual_ML_ablation_study_v2/runs/7rcojv5s' target=\"_blank\">https://wandb.ai/lequn/AudioVisual_ML_ablation_study_v2/runs/7rcojv5s</a>"
      ],
      "text/plain": [
       "<IPython.core.display.HTML object>"
      ]
     },
     "metadata": {},
     "output_type": "display_data"
    },
    {
     "name": "stdout",
     "output_type": "stream",
     "text": [
      "\t\tAccuracy: Mean = 0.804433256337228, Std = 0.007017944488047551\n",
      "\t\tF1 Score: Mean = 0.799863115590405, Std = 0.007983100426542033\n",
      "\t\tPrecision: Mean = 0.798606835254133, Std = 0.009199580625489109\n",
      "\t\tRecall: Mean = 0.804433256337228, Std = 0.007017944488047551\n",
      "\t\tROC-AUC: Mean = 0.9149482640480064, Std = 0.0032369209181069562\n"
     ]
    },
    {
     "data": {
      "text/html": [
       "Waiting for W&B process to finish... <strong style=\"color:green\">(success).</strong>"
      ],
      "text/plain": [
       "<IPython.core.display.HTML object>"
      ]
     },
     "metadata": {},
     "output_type": "display_data"
    },
    {
     "data": {
      "text/html": [
       "<style>\n",
       "    table.wandb td:nth-child(1) { padding: 0 10px; text-align: left ; width: auto;} td:nth-child(2) {text-align: left ; width: 100%}\n",
       "    .wandb-row { display: flex; flex-direction: row; flex-wrap: wrap; justify-content: flex-start; width: 100% }\n",
       "    .wandb-col { display: flex; flex-direction: column; flex-basis: 100%; flex: 1; padding: 10px; }\n",
       "    </style>\n",
       "<div class=\"wandb-row\"><div class=\"wandb-col\"><h3>Run history:</h3><br/><table class=\"wandb\"><tr><td>Accuracy_mean</td><td>▁</td></tr><tr><td>Accuracy_std</td><td>▁</td></tr><tr><td>F1 Score_mean</td><td>▁</td></tr><tr><td>F1 Score_std</td><td>▁</td></tr><tr><td>Precision_mean</td><td>▁</td></tr><tr><td>Precision_std</td><td>▁</td></tr><tr><td>ROC-AUC_mean</td><td>▁</td></tr><tr><td>ROC-AUC_std</td><td>▁</td></tr><tr><td>Recall_mean</td><td>▁</td></tr><tr><td>Recall_std</td><td>▁</td></tr></table><br/></div><div class=\"wandb-col\"><h3>Run summary:</h3><br/><table class=\"wandb\"><tr><td>Accuracy_mean</td><td>0.80443</td></tr><tr><td>Accuracy_std</td><td>0.00702</td></tr><tr><td>F1 Score_mean</td><td>0.79986</td></tr><tr><td>F1 Score_std</td><td>0.00798</td></tr><tr><td>Precision_mean</td><td>0.79861</td></tr><tr><td>Precision_std</td><td>0.0092</td></tr><tr><td>ROC-AUC_mean</td><td>0.91495</td></tr><tr><td>ROC-AUC_std</td><td>0.00324</td></tr><tr><td>Recall_mean</td><td>0.80443</td></tr><tr><td>Recall_std</td><td>0.00702</td></tr></table><br/></div></div>"
      ],
      "text/plain": [
       "<IPython.core.display.HTML object>"
      ]
     },
     "metadata": {},
     "output_type": "display_data"
    },
    {
     "data": {
      "text/html": [
       " View run <strong style=\"color:#cdcd00\">Ada_Audio All</strong> at: <a href='https://wandb.ai/lequn/AudioVisual_ML_ablation_study_v2/runs/7rcojv5s' target=\"_blank\">https://wandb.ai/lequn/AudioVisual_ML_ablation_study_v2/runs/7rcojv5s</a><br/> View job at <a href='https://wandb.ai/lequn/AudioVisual_ML_ablation_study_v2/jobs/QXJ0aWZhY3RDb2xsZWN0aW9uOjExMTQ1OTc4Ng==/version_details/v12' target=\"_blank\">https://wandb.ai/lequn/AudioVisual_ML_ablation_study_v2/jobs/QXJ0aWZhY3RDb2xsZWN0aW9uOjExMTQ1OTc4Ng==/version_details/v12</a><br/>Synced 6 W&B file(s), 0 media file(s), 0 artifact file(s) and 0 other file(s)"
      ],
      "text/plain": [
       "<IPython.core.display.HTML object>"
      ]
     },
     "metadata": {},
     "output_type": "display_data"
    },
    {
     "data": {
      "text/html": [
       "Find logs at: <code>./wandb/run-20231031_171425-7rcojv5s/logs</code>"
      ],
      "text/plain": [
       "<IPython.core.display.HTML object>"
      ]
     },
     "metadata": {},
     "output_type": "display_data"
    },
    {
     "name": "stdout",
     "output_type": "stream",
     "text": [
      "\tTraining model: NN\n"
     ]
    },
    {
     "data": {
      "application/vnd.jupyter.widget-view+json": {
       "model_id": "e3c1b3af63ec42f49699318c7a006acd",
       "version_major": 2,
       "version_minor": 0
      },
      "text/plain": [
       "VBox(children=(Label(value='Waiting for wandb.init()...\\r'), FloatProgress(value=0.011113705066640655, max=1.0…"
      ]
     },
     "metadata": {},
     "output_type": "display_data"
    },
    {
     "data": {
      "text/html": [
       "Tracking run with wandb version 0.15.12"
      ],
      "text/plain": [
       "<IPython.core.display.HTML object>"
      ]
     },
     "metadata": {},
     "output_type": "display_data"
    },
    {
     "data": {
      "text/html": [
       "Run data is saved locally in <code>/home/chenlequn/GitHub/LDED-FusionNet/code/wandb/run-20231031_171621-t9e8rny3</code>"
      ],
      "text/plain": [
       "<IPython.core.display.HTML object>"
      ]
     },
     "metadata": {},
     "output_type": "display_data"
    },
    {
     "data": {
      "text/html": [
       "Syncing run <strong><a href='https://wandb.ai/lequn/AudioVisual_ML_ablation_study_v2/runs/t9e8rny3' target=\"_blank\">NN_Audio All</a></strong> to <a href='https://wandb.ai/lequn/AudioVisual_ML_ablation_study_v2' target=\"_blank\">Weights & Biases</a> (<a href='https://wandb.me/run' target=\"_blank\">docs</a>)<br/>"
      ],
      "text/plain": [
       "<IPython.core.display.HTML object>"
      ]
     },
     "metadata": {},
     "output_type": "display_data"
    },
    {
     "data": {
      "text/html": [
       " View project at <a href='https://wandb.ai/lequn/AudioVisual_ML_ablation_study_v2' target=\"_blank\">https://wandb.ai/lequn/AudioVisual_ML_ablation_study_v2</a>"
      ],
      "text/plain": [
       "<IPython.core.display.HTML object>"
      ]
     },
     "metadata": {},
     "output_type": "display_data"
    },
    {
     "data": {
      "text/html": [
       " View run at <a href='https://wandb.ai/lequn/AudioVisual_ML_ablation_study_v2/runs/t9e8rny3' target=\"_blank\">https://wandb.ai/lequn/AudioVisual_ML_ablation_study_v2/runs/t9e8rny3</a>"
      ],
      "text/plain": [
       "<IPython.core.display.HTML object>"
      ]
     },
     "metadata": {},
     "output_type": "display_data"
    },
    {
     "name": "stdout",
     "output_type": "stream",
     "text": [
      "\t\tAccuracy: Mean = 0.8996131506357786, Std = 0.008275962722703749\n",
      "\t\tF1 Score: Mean = 0.8997595504643426, Std = 0.008194451685086453\n",
      "\t\tPrecision: Mean = 0.9010766096899842, Std = 0.008940502853775664\n",
      "\t\tRecall: Mean = 0.8996131506357786, Std = 0.008275962722703749\n",
      "\t\tROC-AUC: Mean = 0.9803806771180092, Std = 0.002312355840469671\n"
     ]
    },
    {
     "data": {
      "text/html": [
       "Waiting for W&B process to finish... <strong style=\"color:green\">(success).</strong>"
      ],
      "text/plain": [
       "<IPython.core.display.HTML object>"
      ]
     },
     "metadata": {},
     "output_type": "display_data"
    },
    {
     "data": {
      "text/html": [
       "<style>\n",
       "    table.wandb td:nth-child(1) { padding: 0 10px; text-align: left ; width: auto;} td:nth-child(2) {text-align: left ; width: 100%}\n",
       "    .wandb-row { display: flex; flex-direction: row; flex-wrap: wrap; justify-content: flex-start; width: 100% }\n",
       "    .wandb-col { display: flex; flex-direction: column; flex-basis: 100%; flex: 1; padding: 10px; }\n",
       "    </style>\n",
       "<div class=\"wandb-row\"><div class=\"wandb-col\"><h3>Run history:</h3><br/><table class=\"wandb\"><tr><td>Accuracy_mean</td><td>▁</td></tr><tr><td>Accuracy_std</td><td>▁</td></tr><tr><td>F1 Score_mean</td><td>▁</td></tr><tr><td>F1 Score_std</td><td>▁</td></tr><tr><td>Precision_mean</td><td>▁</td></tr><tr><td>Precision_std</td><td>▁</td></tr><tr><td>ROC-AUC_mean</td><td>▁</td></tr><tr><td>ROC-AUC_std</td><td>▁</td></tr><tr><td>Recall_mean</td><td>▁</td></tr><tr><td>Recall_std</td><td>▁</td></tr></table><br/></div><div class=\"wandb-col\"><h3>Run summary:</h3><br/><table class=\"wandb\"><tr><td>Accuracy_mean</td><td>0.89961</td></tr><tr><td>Accuracy_std</td><td>0.00828</td></tr><tr><td>F1 Score_mean</td><td>0.89976</td></tr><tr><td>F1 Score_std</td><td>0.00819</td></tr><tr><td>Precision_mean</td><td>0.90108</td></tr><tr><td>Precision_std</td><td>0.00894</td></tr><tr><td>ROC-AUC_mean</td><td>0.98038</td></tr><tr><td>ROC-AUC_std</td><td>0.00231</td></tr><tr><td>Recall_mean</td><td>0.89961</td></tr><tr><td>Recall_std</td><td>0.00828</td></tr></table><br/></div></div>"
      ],
      "text/plain": [
       "<IPython.core.display.HTML object>"
      ]
     },
     "metadata": {},
     "output_type": "display_data"
    },
    {
     "data": {
      "text/html": [
       " View run <strong style=\"color:#cdcd00\">NN_Audio All</strong> at: <a href='https://wandb.ai/lequn/AudioVisual_ML_ablation_study_v2/runs/t9e8rny3' target=\"_blank\">https://wandb.ai/lequn/AudioVisual_ML_ablation_study_v2/runs/t9e8rny3</a><br/> View job at <a href='https://wandb.ai/lequn/AudioVisual_ML_ablation_study_v2/jobs/QXJ0aWZhY3RDb2xsZWN0aW9uOjExMTQ1OTc4Ng==/version_details/v12' target=\"_blank\">https://wandb.ai/lequn/AudioVisual_ML_ablation_study_v2/jobs/QXJ0aWZhY3RDb2xsZWN0aW9uOjExMTQ1OTc4Ng==/version_details/v12</a><br/>Synced 6 W&B file(s), 0 media file(s), 0 artifact file(s) and 0 other file(s)"
      ],
      "text/plain": [
       "<IPython.core.display.HTML object>"
      ]
     },
     "metadata": {},
     "output_type": "display_data"
    },
    {
     "data": {
      "text/html": [
       "Find logs at: <code>./wandb/run-20231031_171621-t9e8rny3/logs</code>"
      ],
      "text/plain": [
       "<IPython.core.display.HTML object>"
      ]
     },
     "metadata": {},
     "output_type": "display_data"
    },
    {
     "name": "stdout",
     "output_type": "stream",
     "text": [
      "\tTraining model: XGBoost\n"
     ]
    },
    {
     "data": {
      "application/vnd.jupyter.widget-view+json": {
       "model_id": "eae2f9b82b174d1caf6cff2533b5dc3d",
       "version_major": 2,
       "version_minor": 0
      },
      "text/plain": [
       "VBox(children=(Label(value='Waiting for wandb.init()...\\r'), FloatProgress(value=0.011113923111244933, max=1.0…"
      ]
     },
     "metadata": {},
     "output_type": "display_data"
    },
    {
     "data": {
      "text/html": [
       "Tracking run with wandb version 0.15.12"
      ],
      "text/plain": [
       "<IPython.core.display.HTML object>"
      ]
     },
     "metadata": {},
     "output_type": "display_data"
    },
    {
     "data": {
      "text/html": [
       "Run data is saved locally in <code>/home/chenlequn/GitHub/LDED-FusionNet/code/wandb/run-20231031_171700-xyat50nz</code>"
      ],
      "text/plain": [
       "<IPython.core.display.HTML object>"
      ]
     },
     "metadata": {},
     "output_type": "display_data"
    },
    {
     "data": {
      "text/html": [
       "Syncing run <strong><a href='https://wandb.ai/lequn/AudioVisual_ML_ablation_study_v2/runs/xyat50nz' target=\"_blank\">XGBoost_Audio All</a></strong> to <a href='https://wandb.ai/lequn/AudioVisual_ML_ablation_study_v2' target=\"_blank\">Weights & Biases</a> (<a href='https://wandb.me/run' target=\"_blank\">docs</a>)<br/>"
      ],
      "text/plain": [
       "<IPython.core.display.HTML object>"
      ]
     },
     "metadata": {},
     "output_type": "display_data"
    },
    {
     "data": {
      "text/html": [
       " View project at <a href='https://wandb.ai/lequn/AudioVisual_ML_ablation_study_v2' target=\"_blank\">https://wandb.ai/lequn/AudioVisual_ML_ablation_study_v2</a>"
      ],
      "text/plain": [
       "<IPython.core.display.HTML object>"
      ]
     },
     "metadata": {},
     "output_type": "display_data"
    },
    {
     "data": {
      "text/html": [
       " View run at <a href='https://wandb.ai/lequn/AudioVisual_ML_ablation_study_v2/runs/xyat50nz' target=\"_blank\">https://wandb.ai/lequn/AudioVisual_ML_ablation_study_v2/runs/xyat50nz</a>"
      ],
      "text/plain": [
       "<IPython.core.display.HTML object>"
      ]
     },
     "metadata": {},
     "output_type": "display_data"
    },
    {
     "name": "stdout",
     "output_type": "stream",
     "text": [
      "\t\tAccuracy: Mean = 0.8886782086071181, Std = 0.0070256634559567755\n",
      "\t\tF1 Score: Mean = 0.8878244447289294, Std = 0.007560204481375556\n",
      "\t\tPrecision: Mean = 0.8881101695888052, Std = 0.00802903998736992\n",
      "\t\tRecall: Mean = 0.8886782086071181, Std = 0.0070256634559567755\n",
      "\t\tROC-AUC: Mean = 0.9787245630470658, Std = 0.0018675387795454794\n"
     ]
    },
    {
     "data": {
      "text/html": [
       "Waiting for W&B process to finish... <strong style=\"color:green\">(success).</strong>"
      ],
      "text/plain": [
       "<IPython.core.display.HTML object>"
      ]
     },
     "metadata": {},
     "output_type": "display_data"
    },
    {
     "data": {
      "application/vnd.jupyter.widget-view+json": {
       "model_id": "342d43ea1d254d658a8a33f8062a153f",
       "version_major": 2,
       "version_minor": 0
      },
      "text/plain": [
       "VBox(children=(Label(value='0.002 MB of 0.002 MB uploaded (0.000 MB deduped)\\r'), FloatProgress(value=1.0, max…"
      ]
     },
     "metadata": {},
     "output_type": "display_data"
    },
    {
     "data": {
      "text/html": [
       "<style>\n",
       "    table.wandb td:nth-child(1) { padding: 0 10px; text-align: left ; width: auto;} td:nth-child(2) {text-align: left ; width: 100%}\n",
       "    .wandb-row { display: flex; flex-direction: row; flex-wrap: wrap; justify-content: flex-start; width: 100% }\n",
       "    .wandb-col { display: flex; flex-direction: column; flex-basis: 100%; flex: 1; padding: 10px; }\n",
       "    </style>\n",
       "<div class=\"wandb-row\"><div class=\"wandb-col\"><h3>Run history:</h3><br/><table class=\"wandb\"><tr><td>Accuracy_mean</td><td>▁</td></tr><tr><td>Accuracy_std</td><td>▁</td></tr><tr><td>F1 Score_mean</td><td>▁</td></tr><tr><td>F1 Score_std</td><td>▁</td></tr><tr><td>Precision_mean</td><td>▁</td></tr><tr><td>Precision_std</td><td>▁</td></tr><tr><td>ROC-AUC_mean</td><td>▁</td></tr><tr><td>ROC-AUC_std</td><td>▁</td></tr><tr><td>Recall_mean</td><td>▁</td></tr><tr><td>Recall_std</td><td>▁</td></tr></table><br/></div><div class=\"wandb-col\"><h3>Run summary:</h3><br/><table class=\"wandb\"><tr><td>Accuracy_mean</td><td>0.88868</td></tr><tr><td>Accuracy_std</td><td>0.00703</td></tr><tr><td>F1 Score_mean</td><td>0.88782</td></tr><tr><td>F1 Score_std</td><td>0.00756</td></tr><tr><td>Precision_mean</td><td>0.88811</td></tr><tr><td>Precision_std</td><td>0.00803</td></tr><tr><td>ROC-AUC_mean</td><td>0.97872</td></tr><tr><td>ROC-AUC_std</td><td>0.00187</td></tr><tr><td>Recall_mean</td><td>0.88868</td></tr><tr><td>Recall_std</td><td>0.00703</td></tr></table><br/></div></div>"
      ],
      "text/plain": [
       "<IPython.core.display.HTML object>"
      ]
     },
     "metadata": {},
     "output_type": "display_data"
    },
    {
     "data": {
      "text/html": [
       " View run <strong style=\"color:#cdcd00\">XGBoost_Audio All</strong> at: <a href='https://wandb.ai/lequn/AudioVisual_ML_ablation_study_v2/runs/xyat50nz' target=\"_blank\">https://wandb.ai/lequn/AudioVisual_ML_ablation_study_v2/runs/xyat50nz</a><br/> View job at <a href='https://wandb.ai/lequn/AudioVisual_ML_ablation_study_v2/jobs/QXJ0aWZhY3RDb2xsZWN0aW9uOjExMTQ1OTc4Ng==/version_details/v12' target=\"_blank\">https://wandb.ai/lequn/AudioVisual_ML_ablation_study_v2/jobs/QXJ0aWZhY3RDb2xsZWN0aW9uOjExMTQ1OTc4Ng==/version_details/v12</a><br/>Synced 6 W&B file(s), 0 media file(s), 0 artifact file(s) and 0 other file(s)"
      ],
      "text/plain": [
       "<IPython.core.display.HTML object>"
      ]
     },
     "metadata": {},
     "output_type": "display_data"
    },
    {
     "data": {
      "text/html": [
       "Find logs at: <code>./wandb/run-20231031_171700-xyat50nz/logs</code>"
      ],
      "text/plain": [
       "<IPython.core.display.HTML object>"
      ]
     },
     "metadata": {},
     "output_type": "display_data"
    },
    {
     "name": "stdout",
     "output_type": "stream",
     "text": [
      "\tTraining model: LightGBM\n"
     ]
    },
    {
     "data": {
      "application/vnd.jupyter.widget-view+json": {
       "model_id": "1c6b34b194bd463d966e02ffafbfe299",
       "version_major": 2,
       "version_minor": 0
      },
      "text/plain": [
       "VBox(children=(Label(value='Waiting for wandb.init()...\\r'), FloatProgress(value=0.011113694700017933, max=1.0…"
      ]
     },
     "metadata": {},
     "output_type": "display_data"
    },
    {
     "data": {
      "text/html": [
       "Tracking run with wandb version 0.15.12"
      ],
      "text/plain": [
       "<IPython.core.display.HTML object>"
      ]
     },
     "metadata": {},
     "output_type": "display_data"
    },
    {
     "data": {
      "text/html": [
       "Run data is saved locally in <code>/home/chenlequn/GitHub/LDED-FusionNet/code/wandb/run-20231031_171858-6jzst28s</code>"
      ],
      "text/plain": [
       "<IPython.core.display.HTML object>"
      ]
     },
     "metadata": {},
     "output_type": "display_data"
    },
    {
     "data": {
      "text/html": [
       "Syncing run <strong><a href='https://wandb.ai/lequn/AudioVisual_ML_ablation_study_v2/runs/6jzst28s' target=\"_blank\">LightGBM_Audio All</a></strong> to <a href='https://wandb.ai/lequn/AudioVisual_ML_ablation_study_v2' target=\"_blank\">Weights & Biases</a> (<a href='https://wandb.me/run' target=\"_blank\">docs</a>)<br/>"
      ],
      "text/plain": [
       "<IPython.core.display.HTML object>"
      ]
     },
     "metadata": {},
     "output_type": "display_data"
    },
    {
     "data": {
      "text/html": [
       " View project at <a href='https://wandb.ai/lequn/AudioVisual_ML_ablation_study_v2' target=\"_blank\">https://wandb.ai/lequn/AudioVisual_ML_ablation_study_v2</a>"
      ],
      "text/plain": [
       "<IPython.core.display.HTML object>"
      ]
     },
     "metadata": {},
     "output_type": "display_data"
    },
    {
     "data": {
      "text/html": [
       " View run at <a href='https://wandb.ai/lequn/AudioVisual_ML_ablation_study_v2/runs/6jzst28s' target=\"_blank\">https://wandb.ai/lequn/AudioVisual_ML_ablation_study_v2/runs/6jzst28s</a>"
      ],
      "text/plain": [
       "<IPython.core.display.HTML object>"
      ]
     },
     "metadata": {},
     "output_type": "display_data"
    },
    {
     "name": "stdout",
     "output_type": "stream",
     "text": [
      "\t\tAccuracy: Mean = 0.893326755025304, Std = 0.004954024503607053\n",
      "\t\tF1 Score: Mean = 0.8925176144480756, Std = 0.005398863860202256\n",
      "\t\tPrecision: Mean = 0.8929747552390894, Std = 0.005863561363997042\n",
      "\t\tRecall: Mean = 0.893326755025304, Std = 0.004954024503607053\n",
      "\t\tROC-AUC: Mean = 0.9809276760493081, Std = 0.0017458546045633263\n"
     ]
    },
    {
     "data": {
      "text/html": [
       "Waiting for W&B process to finish... <strong style=\"color:green\">(success).</strong>"
      ],
      "text/plain": [
       "<IPython.core.display.HTML object>"
      ]
     },
     "metadata": {},
     "output_type": "display_data"
    },
    {
     "data": {
      "text/html": [
       "<style>\n",
       "    table.wandb td:nth-child(1) { padding: 0 10px; text-align: left ; width: auto;} td:nth-child(2) {text-align: left ; width: 100%}\n",
       "    .wandb-row { display: flex; flex-direction: row; flex-wrap: wrap; justify-content: flex-start; width: 100% }\n",
       "    .wandb-col { display: flex; flex-direction: column; flex-basis: 100%; flex: 1; padding: 10px; }\n",
       "    </style>\n",
       "<div class=\"wandb-row\"><div class=\"wandb-col\"><h3>Run history:</h3><br/><table class=\"wandb\"><tr><td>Accuracy_mean</td><td>▁</td></tr><tr><td>Accuracy_std</td><td>▁</td></tr><tr><td>F1 Score_mean</td><td>▁</td></tr><tr><td>F1 Score_std</td><td>▁</td></tr><tr><td>Precision_mean</td><td>▁</td></tr><tr><td>Precision_std</td><td>▁</td></tr><tr><td>ROC-AUC_mean</td><td>▁</td></tr><tr><td>ROC-AUC_std</td><td>▁</td></tr><tr><td>Recall_mean</td><td>▁</td></tr><tr><td>Recall_std</td><td>▁</td></tr></table><br/></div><div class=\"wandb-col\"><h3>Run summary:</h3><br/><table class=\"wandb\"><tr><td>Accuracy_mean</td><td>0.89333</td></tr><tr><td>Accuracy_std</td><td>0.00495</td></tr><tr><td>F1 Score_mean</td><td>0.89252</td></tr><tr><td>F1 Score_std</td><td>0.0054</td></tr><tr><td>Precision_mean</td><td>0.89297</td></tr><tr><td>Precision_std</td><td>0.00586</td></tr><tr><td>ROC-AUC_mean</td><td>0.98093</td></tr><tr><td>ROC-AUC_std</td><td>0.00175</td></tr><tr><td>Recall_mean</td><td>0.89333</td></tr><tr><td>Recall_std</td><td>0.00495</td></tr></table><br/></div></div>"
      ],
      "text/plain": [
       "<IPython.core.display.HTML object>"
      ]
     },
     "metadata": {},
     "output_type": "display_data"
    },
    {
     "data": {
      "text/html": [
       " View run <strong style=\"color:#cdcd00\">LightGBM_Audio All</strong> at: <a href='https://wandb.ai/lequn/AudioVisual_ML_ablation_study_v2/runs/6jzst28s' target=\"_blank\">https://wandb.ai/lequn/AudioVisual_ML_ablation_study_v2/runs/6jzst28s</a><br/> View job at <a href='https://wandb.ai/lequn/AudioVisual_ML_ablation_study_v2/jobs/QXJ0aWZhY3RDb2xsZWN0aW9uOjExMTQ1OTc4Ng==/version_details/v12' target=\"_blank\">https://wandb.ai/lequn/AudioVisual_ML_ablation_study_v2/jobs/QXJ0aWZhY3RDb2xsZWN0aW9uOjExMTQ1OTc4Ng==/version_details/v12</a><br/>Synced 6 W&B file(s), 0 media file(s), 0 artifact file(s) and 0 other file(s)"
      ],
      "text/plain": [
       "<IPython.core.display.HTML object>"
      ]
     },
     "metadata": {},
     "output_type": "display_data"
    },
    {
     "data": {
      "text/html": [
       "Find logs at: <code>./wandb/run-20231031_171858-6jzst28s/logs</code>"
      ],
      "text/plain": [
       "<IPython.core.display.HTML object>"
      ]
     },
     "metadata": {},
     "output_type": "display_data"
    },
    {
     "name": "stdout",
     "output_type": "stream",
     "text": [
      "\tTraining model: SVM\n"
     ]
    },
    {
     "data": {
      "application/vnd.jupyter.widget-view+json": {
       "model_id": "1b4b04d09dd14149a1b5178019d9688d",
       "version_major": 2,
       "version_minor": 0
      },
      "text/plain": [
       "VBox(children=(Label(value='Waiting for wandb.init()...\\r'), FloatProgress(value=0.011114160933357198, max=1.0…"
      ]
     },
     "metadata": {},
     "output_type": "display_data"
    },
    {
     "data": {
      "text/html": [
       "Tracking run with wandb version 0.15.12"
      ],
      "text/plain": [
       "<IPython.core.display.HTML object>"
      ]
     },
     "metadata": {},
     "output_type": "display_data"
    },
    {
     "data": {
      "text/html": [
       "Run data is saved locally in <code>/home/chenlequn/GitHub/LDED-FusionNet/code/wandb/run-20231031_171921-6ieo8dme</code>"
      ],
      "text/plain": [
       "<IPython.core.display.HTML object>"
      ]
     },
     "metadata": {},
     "output_type": "display_data"
    },
    {
     "data": {
      "text/html": [
       "Syncing run <strong><a href='https://wandb.ai/lequn/AudioVisual_ML_ablation_study_v2/runs/6ieo8dme' target=\"_blank\">SVM_Audio All</a></strong> to <a href='https://wandb.ai/lequn/AudioVisual_ML_ablation_study_v2' target=\"_blank\">Weights & Biases</a> (<a href='https://wandb.me/run' target=\"_blank\">docs</a>)<br/>"
      ],
      "text/plain": [
       "<IPython.core.display.HTML object>"
      ]
     },
     "metadata": {},
     "output_type": "display_data"
    },
    {
     "data": {
      "text/html": [
       " View project at <a href='https://wandb.ai/lequn/AudioVisual_ML_ablation_study_v2' target=\"_blank\">https://wandb.ai/lequn/AudioVisual_ML_ablation_study_v2</a>"
      ],
      "text/plain": [
       "<IPython.core.display.HTML object>"
      ]
     },
     "metadata": {},
     "output_type": "display_data"
    },
    {
     "data": {
      "text/html": [
       " View run at <a href='https://wandb.ai/lequn/AudioVisual_ML_ablation_study_v2/runs/6ieo8dme' target=\"_blank\">https://wandb.ai/lequn/AudioVisual_ML_ablation_study_v2/runs/6ieo8dme</a>"
      ],
      "text/plain": [
       "<IPython.core.display.HTML object>"
      ]
     },
     "metadata": {},
     "output_type": "display_data"
    },
    {
     "name": "stdout",
     "output_type": "stream",
     "text": [
      "\t\tAccuracy: Mean = 0.8733593475514491, Std = 0.00988088996231435\n",
      "\t\tF1 Score: Mean = 0.8724012979370078, Std = 0.00995453486768114\n",
      "\t\tPrecision: Mean = 0.8732353410701684, Std = 0.011190523070496658\n",
      "\t\tRecall: Mean = 0.8733593475514491, Std = 0.00988088996231435\n",
      "\t\tROC-AUC: Mean = 0.9708454182931984, Std = 0.005465827373604822\n"
     ]
    },
    {
     "data": {
      "text/html": [
       "Waiting for W&B process to finish... <strong style=\"color:green\">(success).</strong>"
      ],
      "text/plain": [
       "<IPython.core.display.HTML object>"
      ]
     },
     "metadata": {},
     "output_type": "display_data"
    },
    {
     "data": {
      "application/vnd.jupyter.widget-view+json": {
       "model_id": "ffbf4150ab9046fcbe70ee1437711400",
       "version_major": 2,
       "version_minor": 0
      },
      "text/plain": [
       "VBox(children=(Label(value='0.002 MB of 0.002 MB uploaded (0.000 MB deduped)\\r'), FloatProgress(value=1.0, max…"
      ]
     },
     "metadata": {},
     "output_type": "display_data"
    },
    {
     "data": {
      "text/html": [
       "<style>\n",
       "    table.wandb td:nth-child(1) { padding: 0 10px; text-align: left ; width: auto;} td:nth-child(2) {text-align: left ; width: 100%}\n",
       "    .wandb-row { display: flex; flex-direction: row; flex-wrap: wrap; justify-content: flex-start; width: 100% }\n",
       "    .wandb-col { display: flex; flex-direction: column; flex-basis: 100%; flex: 1; padding: 10px; }\n",
       "    </style>\n",
       "<div class=\"wandb-row\"><div class=\"wandb-col\"><h3>Run history:</h3><br/><table class=\"wandb\"><tr><td>Accuracy_mean</td><td>▁</td></tr><tr><td>Accuracy_std</td><td>▁</td></tr><tr><td>F1 Score_mean</td><td>▁</td></tr><tr><td>F1 Score_std</td><td>▁</td></tr><tr><td>Precision_mean</td><td>▁</td></tr><tr><td>Precision_std</td><td>▁</td></tr><tr><td>ROC-AUC_mean</td><td>▁</td></tr><tr><td>ROC-AUC_std</td><td>▁</td></tr><tr><td>Recall_mean</td><td>▁</td></tr><tr><td>Recall_std</td><td>▁</td></tr></table><br/></div><div class=\"wandb-col\"><h3>Run summary:</h3><br/><table class=\"wandb\"><tr><td>Accuracy_mean</td><td>0.87336</td></tr><tr><td>Accuracy_std</td><td>0.00988</td></tr><tr><td>F1 Score_mean</td><td>0.8724</td></tr><tr><td>F1 Score_std</td><td>0.00995</td></tr><tr><td>Precision_mean</td><td>0.87324</td></tr><tr><td>Precision_std</td><td>0.01119</td></tr><tr><td>ROC-AUC_mean</td><td>0.97085</td></tr><tr><td>ROC-AUC_std</td><td>0.00547</td></tr><tr><td>Recall_mean</td><td>0.87336</td></tr><tr><td>Recall_std</td><td>0.00988</td></tr></table><br/></div></div>"
      ],
      "text/plain": [
       "<IPython.core.display.HTML object>"
      ]
     },
     "metadata": {},
     "output_type": "display_data"
    },
    {
     "data": {
      "text/html": [
       " View run <strong style=\"color:#cdcd00\">SVM_Audio All</strong> at: <a href='https://wandb.ai/lequn/AudioVisual_ML_ablation_study_v2/runs/6ieo8dme' target=\"_blank\">https://wandb.ai/lequn/AudioVisual_ML_ablation_study_v2/runs/6ieo8dme</a><br/> View job at <a href='https://wandb.ai/lequn/AudioVisual_ML_ablation_study_v2/jobs/QXJ0aWZhY3RDb2xsZWN0aW9uOjExMTQ1OTc4Ng==/version_details/v12' target=\"_blank\">https://wandb.ai/lequn/AudioVisual_ML_ablation_study_v2/jobs/QXJ0aWZhY3RDb2xsZWN0aW9uOjExMTQ1OTc4Ng==/version_details/v12</a><br/>Synced 6 W&B file(s), 0 media file(s), 0 artifact file(s) and 0 other file(s)"
      ],
      "text/plain": [
       "<IPython.core.display.HTML object>"
      ]
     },
     "metadata": {},
     "output_type": "display_data"
    },
    {
     "data": {
      "text/html": [
       "Find logs at: <code>./wandb/run-20231031_171921-6ieo8dme/logs</code>"
      ],
      "text/plain": [
       "<IPython.core.display.HTML object>"
      ]
     },
     "metadata": {},
     "output_type": "display_data"
    },
    {
     "name": "stdout",
     "output_type": "stream",
     "text": [
      "\tTraining model: HistGB\n"
     ]
    },
    {
     "data": {
      "application/vnd.jupyter.widget-view+json": {
       "model_id": "2d739b56079e4649b77d105b7a8f2563",
       "version_major": 2,
       "version_minor": 0
      },
      "text/plain": [
       "VBox(children=(Label(value='Waiting for wandb.init()...\\r'), FloatProgress(value=0.01111436511111808, max=1.0)…"
      ]
     },
     "metadata": {},
     "output_type": "display_data"
    },
    {
     "data": {
      "text/html": [
       "Tracking run with wandb version 0.15.12"
      ],
      "text/plain": [
       "<IPython.core.display.HTML object>"
      ]
     },
     "metadata": {},
     "output_type": "display_data"
    },
    {
     "data": {
      "text/html": [
       "Run data is saved locally in <code>/home/chenlequn/GitHub/LDED-FusionNet/code/wandb/run-20231031_171950-qsa9rrnv</code>"
      ],
      "text/plain": [
       "<IPython.core.display.HTML object>"
      ]
     },
     "metadata": {},
     "output_type": "display_data"
    },
    {
     "data": {
      "text/html": [
       "Syncing run <strong><a href='https://wandb.ai/lequn/AudioVisual_ML_ablation_study_v2/runs/qsa9rrnv' target=\"_blank\">HistGB_Audio All</a></strong> to <a href='https://wandb.ai/lequn/AudioVisual_ML_ablation_study_v2' target=\"_blank\">Weights & Biases</a> (<a href='https://wandb.me/run' target=\"_blank\">docs</a>)<br/>"
      ],
      "text/plain": [
       "<IPython.core.display.HTML object>"
      ]
     },
     "metadata": {},
     "output_type": "display_data"
    },
    {
     "data": {
      "text/html": [
       " View project at <a href='https://wandb.ai/lequn/AudioVisual_ML_ablation_study_v2' target=\"_blank\">https://wandb.ai/lequn/AudioVisual_ML_ablation_study_v2</a>"
      ],
      "text/plain": [
       "<IPython.core.display.HTML object>"
      ]
     },
     "metadata": {},
     "output_type": "display_data"
    },
    {
     "data": {
      "text/html": [
       " View run at <a href='https://wandb.ai/lequn/AudioVisual_ML_ablation_study_v2/runs/qsa9rrnv' target=\"_blank\">https://wandb.ai/lequn/AudioVisual_ML_ablation_study_v2/runs/qsa9rrnv</a>"
      ],
      "text/plain": [
       "<IPython.core.display.HTML object>"
      ]
     },
     "metadata": {},
     "output_type": "display_data"
    },
    {
     "name": "stdout",
     "output_type": "stream",
     "text": [
      "\t\tAccuracy: Mean = 0.8810189649630343, Std = 0.011363664140846629\n",
      "\t\tF1 Score: Mean = 0.8804135397501078, Std = 0.011420288529589064\n",
      "\t\tPrecision: Mean = 0.8808904870037277, Std = 0.012079928188918418\n",
      "\t\tRecall: Mean = 0.8810189649630343, Std = 0.011363664140846629\n",
      "\t\tROC-AUC: Mean = 0.9753010059353684, Std = 0.0032098223087390055\n"
     ]
    },
    {
     "data": {
      "text/html": [
       "Waiting for W&B process to finish... <strong style=\"color:green\">(success).</strong>"
      ],
      "text/plain": [
       "<IPython.core.display.HTML object>"
      ]
     },
     "metadata": {},
     "output_type": "display_data"
    },
    {
     "data": {
      "text/html": [
       "<style>\n",
       "    table.wandb td:nth-child(1) { padding: 0 10px; text-align: left ; width: auto;} td:nth-child(2) {text-align: left ; width: 100%}\n",
       "    .wandb-row { display: flex; flex-direction: row; flex-wrap: wrap; justify-content: flex-start; width: 100% }\n",
       "    .wandb-col { display: flex; flex-direction: column; flex-basis: 100%; flex: 1; padding: 10px; }\n",
       "    </style>\n",
       "<div class=\"wandb-row\"><div class=\"wandb-col\"><h3>Run history:</h3><br/><table class=\"wandb\"><tr><td>Accuracy_mean</td><td>▁</td></tr><tr><td>Accuracy_std</td><td>▁</td></tr><tr><td>F1 Score_mean</td><td>▁</td></tr><tr><td>F1 Score_std</td><td>▁</td></tr><tr><td>Precision_mean</td><td>▁</td></tr><tr><td>Precision_std</td><td>▁</td></tr><tr><td>ROC-AUC_mean</td><td>▁</td></tr><tr><td>ROC-AUC_std</td><td>▁</td></tr><tr><td>Recall_mean</td><td>▁</td></tr><tr><td>Recall_std</td><td>▁</td></tr></table><br/></div><div class=\"wandb-col\"><h3>Run summary:</h3><br/><table class=\"wandb\"><tr><td>Accuracy_mean</td><td>0.88102</td></tr><tr><td>Accuracy_std</td><td>0.01136</td></tr><tr><td>F1 Score_mean</td><td>0.88041</td></tr><tr><td>F1 Score_std</td><td>0.01142</td></tr><tr><td>Precision_mean</td><td>0.88089</td></tr><tr><td>Precision_std</td><td>0.01208</td></tr><tr><td>ROC-AUC_mean</td><td>0.9753</td></tr><tr><td>ROC-AUC_std</td><td>0.00321</td></tr><tr><td>Recall_mean</td><td>0.88102</td></tr><tr><td>Recall_std</td><td>0.01136</td></tr></table><br/></div></div>"
      ],
      "text/plain": [
       "<IPython.core.display.HTML object>"
      ]
     },
     "metadata": {},
     "output_type": "display_data"
    },
    {
     "data": {
      "text/html": [
       " View run <strong style=\"color:#cdcd00\">HistGB_Audio All</strong> at: <a href='https://wandb.ai/lequn/AudioVisual_ML_ablation_study_v2/runs/qsa9rrnv' target=\"_blank\">https://wandb.ai/lequn/AudioVisual_ML_ablation_study_v2/runs/qsa9rrnv</a><br/> View job at <a href='https://wandb.ai/lequn/AudioVisual_ML_ablation_study_v2/jobs/QXJ0aWZhY3RDb2xsZWN0aW9uOjExMTQ1OTc4Ng==/version_details/v12' target=\"_blank\">https://wandb.ai/lequn/AudioVisual_ML_ablation_study_v2/jobs/QXJ0aWZhY3RDb2xsZWN0aW9uOjExMTQ1OTc4Ng==/version_details/v12</a><br/>Synced 6 W&B file(s), 0 media file(s), 0 artifact file(s) and 0 other file(s)"
      ],
      "text/plain": [
       "<IPython.core.display.HTML object>"
      ]
     },
     "metadata": {},
     "output_type": "display_data"
    },
    {
     "data": {
      "text/html": [
       "Find logs at: <code>./wandb/run-20231031_171950-qsa9rrnv/logs</code>"
      ],
      "text/plain": [
       "<IPython.core.display.HTML object>"
      ]
     },
     "metadata": {},
     "output_type": "display_data"
    },
    {
     "name": "stdout",
     "output_type": "stream",
     "text": [
      "Processing dataset: Vision All\n",
      "\tTraining model: KNN\n"
     ]
    },
    {
     "data": {
      "application/vnd.jupyter.widget-view+json": {
       "model_id": "946e8b5caca14fc5becb81c038fd347d",
       "version_major": 2,
       "version_minor": 0
      },
      "text/plain": [
       "VBox(children=(Label(value='Waiting for wandb.init()...\\r'), FloatProgress(value=0.011113641533302143, max=1.0…"
      ]
     },
     "metadata": {},
     "output_type": "display_data"
    },
    {
     "data": {
      "text/html": [
       "Tracking run with wandb version 0.15.12"
      ],
      "text/plain": [
       "<IPython.core.display.HTML object>"
      ]
     },
     "metadata": {},
     "output_type": "display_data"
    },
    {
     "data": {
      "text/html": [
       "Run data is saved locally in <code>/home/chenlequn/GitHub/LDED-FusionNet/code/wandb/run-20231031_172011-zm34lauj</code>"
      ],
      "text/plain": [
       "<IPython.core.display.HTML object>"
      ]
     },
     "metadata": {},
     "output_type": "display_data"
    },
    {
     "data": {
      "text/html": [
       "Syncing run <strong><a href='https://wandb.ai/lequn/AudioVisual_ML_ablation_study_v2/runs/zm34lauj' target=\"_blank\">KNN_Vision All</a></strong> to <a href='https://wandb.ai/lequn/AudioVisual_ML_ablation_study_v2' target=\"_blank\">Weights & Biases</a> (<a href='https://wandb.me/run' target=\"_blank\">docs</a>)<br/>"
      ],
      "text/plain": [
       "<IPython.core.display.HTML object>"
      ]
     },
     "metadata": {},
     "output_type": "display_data"
    },
    {
     "data": {
      "text/html": [
       " View project at <a href='https://wandb.ai/lequn/AudioVisual_ML_ablation_study_v2' target=\"_blank\">https://wandb.ai/lequn/AudioVisual_ML_ablation_study_v2</a>"
      ],
      "text/plain": [
       "<IPython.core.display.HTML object>"
      ]
     },
     "metadata": {},
     "output_type": "display_data"
    },
    {
     "data": {
      "text/html": [
       " View run at <a href='https://wandb.ai/lequn/AudioVisual_ML_ablation_study_v2/runs/zm34lauj' target=\"_blank\">https://wandb.ai/lequn/AudioVisual_ML_ablation_study_v2/runs/zm34lauj</a>"
      ],
      "text/plain": [
       "<IPython.core.display.HTML object>"
      ]
     },
     "metadata": {},
     "output_type": "display_data"
    },
    {
     "name": "stdout",
     "output_type": "stream",
     "text": [
      "\t\tAccuracy: Mean = 0.9097396335583413, Std = 0.00775849809029898\n",
      "\t\tF1 Score: Mean = 0.909526734233207, Std = 0.007422925290639343\n",
      "\t\tPrecision: Mean = 0.9114278165963728, Std = 0.00612790244003513\n",
      "\t\tRecall: Mean = 0.9097396335583413, Std = 0.00775849809029898\n",
      "\t\tROC-AUC: Mean = 0.9826950654229943, Std = 0.0023264510674119196\n"
     ]
    },
    {
     "data": {
      "text/html": [
       "Waiting for W&B process to finish... <strong style=\"color:green\">(success).</strong>"
      ],
      "text/plain": [
       "<IPython.core.display.HTML object>"
      ]
     },
     "metadata": {},
     "output_type": "display_data"
    },
    {
     "data": {
      "text/html": [
       "<style>\n",
       "    table.wandb td:nth-child(1) { padding: 0 10px; text-align: left ; width: auto;} td:nth-child(2) {text-align: left ; width: 100%}\n",
       "    .wandb-row { display: flex; flex-direction: row; flex-wrap: wrap; justify-content: flex-start; width: 100% }\n",
       "    .wandb-col { display: flex; flex-direction: column; flex-basis: 100%; flex: 1; padding: 10px; }\n",
       "    </style>\n",
       "<div class=\"wandb-row\"><div class=\"wandb-col\"><h3>Run history:</h3><br/><table class=\"wandb\"><tr><td>Accuracy_mean</td><td>▁</td></tr><tr><td>Accuracy_std</td><td>▁</td></tr><tr><td>F1 Score_mean</td><td>▁</td></tr><tr><td>F1 Score_std</td><td>▁</td></tr><tr><td>Precision_mean</td><td>▁</td></tr><tr><td>Precision_std</td><td>▁</td></tr><tr><td>ROC-AUC_mean</td><td>▁</td></tr><tr><td>ROC-AUC_std</td><td>▁</td></tr><tr><td>Recall_mean</td><td>▁</td></tr><tr><td>Recall_std</td><td>▁</td></tr></table><br/></div><div class=\"wandb-col\"><h3>Run summary:</h3><br/><table class=\"wandb\"><tr><td>Accuracy_mean</td><td>0.90974</td></tr><tr><td>Accuracy_std</td><td>0.00776</td></tr><tr><td>F1 Score_mean</td><td>0.90953</td></tr><tr><td>F1 Score_std</td><td>0.00742</td></tr><tr><td>Precision_mean</td><td>0.91143</td></tr><tr><td>Precision_std</td><td>0.00613</td></tr><tr><td>ROC-AUC_mean</td><td>0.9827</td></tr><tr><td>ROC-AUC_std</td><td>0.00233</td></tr><tr><td>Recall_mean</td><td>0.90974</td></tr><tr><td>Recall_std</td><td>0.00776</td></tr></table><br/></div></div>"
      ],
      "text/plain": [
       "<IPython.core.display.HTML object>"
      ]
     },
     "metadata": {},
     "output_type": "display_data"
    },
    {
     "data": {
      "text/html": [
       " View run <strong style=\"color:#cdcd00\">KNN_Vision All</strong> at: <a href='https://wandb.ai/lequn/AudioVisual_ML_ablation_study_v2/runs/zm34lauj' target=\"_blank\">https://wandb.ai/lequn/AudioVisual_ML_ablation_study_v2/runs/zm34lauj</a><br/> View job at <a href='https://wandb.ai/lequn/AudioVisual_ML_ablation_study_v2/jobs/QXJ0aWZhY3RDb2xsZWN0aW9uOjExMTQ1OTc4Ng==/version_details/v12' target=\"_blank\">https://wandb.ai/lequn/AudioVisual_ML_ablation_study_v2/jobs/QXJ0aWZhY3RDb2xsZWN0aW9uOjExMTQ1OTc4Ng==/version_details/v12</a><br/>Synced 6 W&B file(s), 0 media file(s), 0 artifact file(s) and 0 other file(s)"
      ],
      "text/plain": [
       "<IPython.core.display.HTML object>"
      ]
     },
     "metadata": {},
     "output_type": "display_data"
    },
    {
     "data": {
      "text/html": [
       "Find logs at: <code>./wandb/run-20231031_172011-zm34lauj/logs</code>"
      ],
      "text/plain": [
       "<IPython.core.display.HTML object>"
      ]
     },
     "metadata": {},
     "output_type": "display_data"
    },
    {
     "name": "stdout",
     "output_type": "stream",
     "text": [
      "\tTraining model: DT\n"
     ]
    },
    {
     "data": {
      "application/vnd.jupyter.widget-view+json": {
       "model_id": "6ba19d8c49af4419b45ba63dc55661ac",
       "version_major": 2,
       "version_minor": 0
      },
      "text/plain": [
       "VBox(children=(Label(value='Waiting for wandb.init()...\\r'), FloatProgress(value=0.011113983355527227, max=1.0…"
      ]
     },
     "metadata": {},
     "output_type": "display_data"
    },
    {
     "data": {
      "text/html": [
       "Tracking run with wandb version 0.15.12"
      ],
      "text/plain": [
       "<IPython.core.display.HTML object>"
      ]
     },
     "metadata": {},
     "output_type": "display_data"
    },
    {
     "data": {
      "text/html": [
       "Run data is saved locally in <code>/home/chenlequn/GitHub/LDED-FusionNet/code/wandb/run-20231031_172027-pf4u5mz8</code>"
      ],
      "text/plain": [
       "<IPython.core.display.HTML object>"
      ]
     },
     "metadata": {},
     "output_type": "display_data"
    },
    {
     "data": {
      "text/html": [
       "Syncing run <strong><a href='https://wandb.ai/lequn/AudioVisual_ML_ablation_study_v2/runs/pf4u5mz8' target=\"_blank\">DT_Vision All</a></strong> to <a href='https://wandb.ai/lequn/AudioVisual_ML_ablation_study_v2' target=\"_blank\">Weights & Biases</a> (<a href='https://wandb.me/run' target=\"_blank\">docs</a>)<br/>"
      ],
      "text/plain": [
       "<IPython.core.display.HTML object>"
      ]
     },
     "metadata": {},
     "output_type": "display_data"
    },
    {
     "data": {
      "text/html": [
       " View project at <a href='https://wandb.ai/lequn/AudioVisual_ML_ablation_study_v2' target=\"_blank\">https://wandb.ai/lequn/AudioVisual_ML_ablation_study_v2</a>"
      ],
      "text/plain": [
       "<IPython.core.display.HTML object>"
      ]
     },
     "metadata": {},
     "output_type": "display_data"
    },
    {
     "data": {
      "text/html": [
       " View run at <a href='https://wandb.ai/lequn/AudioVisual_ML_ablation_study_v2/runs/pf4u5mz8' target=\"_blank\">https://wandb.ai/lequn/AudioVisual_ML_ablation_study_v2/runs/pf4u5mz8</a>"
      ],
      "text/plain": [
       "<IPython.core.display.HTML object>"
      ]
     },
     "metadata": {},
     "output_type": "display_data"
    },
    {
     "name": "stdout",
     "output_type": "stream",
     "text": [
      "\t\tAccuracy: Mean = 0.8949698369626157, Std = 0.009810648244469576\n",
      "\t\tF1 Score: Mean = 0.8950563393943313, Std = 0.00925836348694057\n",
      "\t\tPrecision: Mean = 0.8958811588130701, Std = 0.009317624735378798\n",
      "\t\tRecall: Mean = 0.8949698369626157, Std = 0.009810648244469576\n",
      "\t\tROC-AUC: Mean = 0.9550758654922047, Std = 0.006257263238386995\n"
     ]
    },
    {
     "data": {
      "text/html": [
       "Waiting for W&B process to finish... <strong style=\"color:green\">(success).</strong>"
      ],
      "text/plain": [
       "<IPython.core.display.HTML object>"
      ]
     },
     "metadata": {},
     "output_type": "display_data"
    },
    {
     "data": {
      "text/html": [
       "<style>\n",
       "    table.wandb td:nth-child(1) { padding: 0 10px; text-align: left ; width: auto;} td:nth-child(2) {text-align: left ; width: 100%}\n",
       "    .wandb-row { display: flex; flex-direction: row; flex-wrap: wrap; justify-content: flex-start; width: 100% }\n",
       "    .wandb-col { display: flex; flex-direction: column; flex-basis: 100%; flex: 1; padding: 10px; }\n",
       "    </style>\n",
       "<div class=\"wandb-row\"><div class=\"wandb-col\"><h3>Run history:</h3><br/><table class=\"wandb\"><tr><td>Accuracy_mean</td><td>▁</td></tr><tr><td>Accuracy_std</td><td>▁</td></tr><tr><td>F1 Score_mean</td><td>▁</td></tr><tr><td>F1 Score_std</td><td>▁</td></tr><tr><td>Precision_mean</td><td>▁</td></tr><tr><td>Precision_std</td><td>▁</td></tr><tr><td>ROC-AUC_mean</td><td>▁</td></tr><tr><td>ROC-AUC_std</td><td>▁</td></tr><tr><td>Recall_mean</td><td>▁</td></tr><tr><td>Recall_std</td><td>▁</td></tr></table><br/></div><div class=\"wandb-col\"><h3>Run summary:</h3><br/><table class=\"wandb\"><tr><td>Accuracy_mean</td><td>0.89497</td></tr><tr><td>Accuracy_std</td><td>0.00981</td></tr><tr><td>F1 Score_mean</td><td>0.89506</td></tr><tr><td>F1 Score_std</td><td>0.00926</td></tr><tr><td>Precision_mean</td><td>0.89588</td></tr><tr><td>Precision_std</td><td>0.00932</td></tr><tr><td>ROC-AUC_mean</td><td>0.95508</td></tr><tr><td>ROC-AUC_std</td><td>0.00626</td></tr><tr><td>Recall_mean</td><td>0.89497</td></tr><tr><td>Recall_std</td><td>0.00981</td></tr></table><br/></div></div>"
      ],
      "text/plain": [
       "<IPython.core.display.HTML object>"
      ]
     },
     "metadata": {},
     "output_type": "display_data"
    },
    {
     "data": {
      "text/html": [
       " View run <strong style=\"color:#cdcd00\">DT_Vision All</strong> at: <a href='https://wandb.ai/lequn/AudioVisual_ML_ablation_study_v2/runs/pf4u5mz8' target=\"_blank\">https://wandb.ai/lequn/AudioVisual_ML_ablation_study_v2/runs/pf4u5mz8</a><br/> View job at <a href='https://wandb.ai/lequn/AudioVisual_ML_ablation_study_v2/jobs/QXJ0aWZhY3RDb2xsZWN0aW9uOjExMTQ1OTc4Ng==/version_details/v12' target=\"_blank\">https://wandb.ai/lequn/AudioVisual_ML_ablation_study_v2/jobs/QXJ0aWZhY3RDb2xsZWN0aW9uOjExMTQ1OTc4Ng==/version_details/v12</a><br/>Synced 6 W&B file(s), 0 media file(s), 0 artifact file(s) and 0 other file(s)"
      ],
      "text/plain": [
       "<IPython.core.display.HTML object>"
      ]
     },
     "metadata": {},
     "output_type": "display_data"
    },
    {
     "data": {
      "text/html": [
       "Find logs at: <code>./wandb/run-20231031_172027-pf4u5mz8/logs</code>"
      ],
      "text/plain": [
       "<IPython.core.display.HTML object>"
      ]
     },
     "metadata": {},
     "output_type": "display_data"
    },
    {
     "name": "stdout",
     "output_type": "stream",
     "text": [
      "\tTraining model: RF\n"
     ]
    },
    {
     "data": {
      "application/vnd.jupyter.widget-view+json": {
       "model_id": "0bc1a725c415496a8f26c692a0b7d2e4",
       "version_major": 2,
       "version_minor": 0
      },
      "text/plain": [
       "VBox(children=(Label(value='Waiting for wandb.init()...\\r'), FloatProgress(value=0.011113540977789348, max=1.0…"
      ]
     },
     "metadata": {},
     "output_type": "display_data"
    },
    {
     "data": {
      "text/html": [
       "Tracking run with wandb version 0.15.12"
      ],
      "text/plain": [
       "<IPython.core.display.HTML object>"
      ]
     },
     "metadata": {},
     "output_type": "display_data"
    },
    {
     "data": {
      "text/html": [
       "Run data is saved locally in <code>/home/chenlequn/GitHub/LDED-FusionNet/code/wandb/run-20231031_172045-679tlztk</code>"
      ],
      "text/plain": [
       "<IPython.core.display.HTML object>"
      ]
     },
     "metadata": {},
     "output_type": "display_data"
    },
    {
     "data": {
      "text/html": [
       "Syncing run <strong><a href='https://wandb.ai/lequn/AudioVisual_ML_ablation_study_v2/runs/679tlztk' target=\"_blank\">RF_Vision All</a></strong> to <a href='https://wandb.ai/lequn/AudioVisual_ML_ablation_study_v2' target=\"_blank\">Weights & Biases</a> (<a href='https://wandb.me/run' target=\"_blank\">docs</a>)<br/>"
      ],
      "text/plain": [
       "<IPython.core.display.HTML object>"
      ]
     },
     "metadata": {},
     "output_type": "display_data"
    },
    {
     "data": {
      "text/html": [
       " View project at <a href='https://wandb.ai/lequn/AudioVisual_ML_ablation_study_v2' target=\"_blank\">https://wandb.ai/lequn/AudioVisual_ML_ablation_study_v2</a>"
      ],
      "text/plain": [
       "<IPython.core.display.HTML object>"
      ]
     },
     "metadata": {},
     "output_type": "display_data"
    },
    {
     "data": {
      "text/html": [
       " View run at <a href='https://wandb.ai/lequn/AudioVisual_ML_ablation_study_v2/runs/679tlztk' target=\"_blank\">https://wandb.ai/lequn/AudioVisual_ML_ablation_study_v2/runs/679tlztk</a>"
      ],
      "text/plain": [
       "<IPython.core.display.HTML object>"
      ]
     },
     "metadata": {},
     "output_type": "display_data"
    },
    {
     "name": "stdout",
     "output_type": "stream",
     "text": [
      "\t\tAccuracy: Mean = 0.9234124225366853, Std = 0.011120979004842447\n",
      "\t\tF1 Score: Mean = 0.9236439558100292, Std = 0.011271641850519277\n",
      "\t\tPrecision: Mean = 0.9246134153890043, Std = 0.011410577887214196\n",
      "\t\tRecall: Mean = 0.9234124225366853, Std = 0.011120979004842447\n",
      "\t\tROC-AUC: Mean = 0.9916655407015529, Std = 0.0024535075311891462\n"
     ]
    },
    {
     "data": {
      "text/html": [
       "Waiting for W&B process to finish... <strong style=\"color:green\">(success).</strong>"
      ],
      "text/plain": [
       "<IPython.core.display.HTML object>"
      ]
     },
     "metadata": {},
     "output_type": "display_data"
    },
    {
     "data": {
      "application/vnd.jupyter.widget-view+json": {
       "model_id": "3dc988369c7943e9856ccc64081a193d",
       "version_major": 2,
       "version_minor": 0
      },
      "text/plain": [
       "VBox(children=(Label(value='0.002 MB of 0.002 MB uploaded (0.000 MB deduped)\\r'), FloatProgress(value=1.0, max…"
      ]
     },
     "metadata": {},
     "output_type": "display_data"
    },
    {
     "data": {
      "text/html": [
       "<style>\n",
       "    table.wandb td:nth-child(1) { padding: 0 10px; text-align: left ; width: auto;} td:nth-child(2) {text-align: left ; width: 100%}\n",
       "    .wandb-row { display: flex; flex-direction: row; flex-wrap: wrap; justify-content: flex-start; width: 100% }\n",
       "    .wandb-col { display: flex; flex-direction: column; flex-basis: 100%; flex: 1; padding: 10px; }\n",
       "    </style>\n",
       "<div class=\"wandb-row\"><div class=\"wandb-col\"><h3>Run history:</h3><br/><table class=\"wandb\"><tr><td>Accuracy_mean</td><td>▁</td></tr><tr><td>Accuracy_std</td><td>▁</td></tr><tr><td>F1 Score_mean</td><td>▁</td></tr><tr><td>F1 Score_std</td><td>▁</td></tr><tr><td>Precision_mean</td><td>▁</td></tr><tr><td>Precision_std</td><td>▁</td></tr><tr><td>ROC-AUC_mean</td><td>▁</td></tr><tr><td>ROC-AUC_std</td><td>▁</td></tr><tr><td>Recall_mean</td><td>▁</td></tr><tr><td>Recall_std</td><td>▁</td></tr></table><br/></div><div class=\"wandb-col\"><h3>Run summary:</h3><br/><table class=\"wandb\"><tr><td>Accuracy_mean</td><td>0.92341</td></tr><tr><td>Accuracy_std</td><td>0.01112</td></tr><tr><td>F1 Score_mean</td><td>0.92364</td></tr><tr><td>F1 Score_std</td><td>0.01127</td></tr><tr><td>Precision_mean</td><td>0.92461</td></tr><tr><td>Precision_std</td><td>0.01141</td></tr><tr><td>ROC-AUC_mean</td><td>0.99167</td></tr><tr><td>ROC-AUC_std</td><td>0.00245</td></tr><tr><td>Recall_mean</td><td>0.92341</td></tr><tr><td>Recall_std</td><td>0.01112</td></tr></table><br/></div></div>"
      ],
      "text/plain": [
       "<IPython.core.display.HTML object>"
      ]
     },
     "metadata": {},
     "output_type": "display_data"
    },
    {
     "data": {
      "text/html": [
       " View run <strong style=\"color:#cdcd00\">RF_Vision All</strong> at: <a href='https://wandb.ai/lequn/AudioVisual_ML_ablation_study_v2/runs/679tlztk' target=\"_blank\">https://wandb.ai/lequn/AudioVisual_ML_ablation_study_v2/runs/679tlztk</a><br/> View job at <a href='https://wandb.ai/lequn/AudioVisual_ML_ablation_study_v2/jobs/QXJ0aWZhY3RDb2xsZWN0aW9uOjExMTQ1OTc4Ng==/version_details/v12' target=\"_blank\">https://wandb.ai/lequn/AudioVisual_ML_ablation_study_v2/jobs/QXJ0aWZhY3RDb2xsZWN0aW9uOjExMTQ1OTc4Ng==/version_details/v12</a><br/>Synced 6 W&B file(s), 0 media file(s), 0 artifact file(s) and 0 other file(s)"
      ],
      "text/plain": [
       "<IPython.core.display.HTML object>"
      ]
     },
     "metadata": {},
     "output_type": "display_data"
    },
    {
     "data": {
      "text/html": [
       "Find logs at: <code>./wandb/run-20231031_172045-679tlztk/logs</code>"
      ],
      "text/plain": [
       "<IPython.core.display.HTML object>"
      ]
     },
     "metadata": {},
     "output_type": "display_data"
    },
    {
     "name": "stdout",
     "output_type": "stream",
     "text": [
      "\tTraining model: BalancedRF\n"
     ]
    },
    {
     "data": {
      "application/vnd.jupyter.widget-view+json": {
       "model_id": "b5ebab38d9b84bfab14f115eb8980107",
       "version_major": 2,
       "version_minor": 0
      },
      "text/plain": [
       "VBox(children=(Label(value='Waiting for wandb.init()...\\r'), FloatProgress(value=0.011113983199983421, max=1.0…"
      ]
     },
     "metadata": {},
     "output_type": "display_data"
    },
    {
     "data": {
      "text/html": [
       "Tracking run with wandb version 0.15.12"
      ],
      "text/plain": [
       "<IPython.core.display.HTML object>"
      ]
     },
     "metadata": {},
     "output_type": "display_data"
    },
    {
     "data": {
      "text/html": [
       "Run data is saved locally in <code>/home/chenlequn/GitHub/LDED-FusionNet/code/wandb/run-20231031_172145-88l1e0nk</code>"
      ],
      "text/plain": [
       "<IPython.core.display.HTML object>"
      ]
     },
     "metadata": {},
     "output_type": "display_data"
    },
    {
     "data": {
      "text/html": [
       "Syncing run <strong><a href='https://wandb.ai/lequn/AudioVisual_ML_ablation_study_v2/runs/88l1e0nk' target=\"_blank\">BalancedRF_Vision All</a></strong> to <a href='https://wandb.ai/lequn/AudioVisual_ML_ablation_study_v2' target=\"_blank\">Weights & Biases</a> (<a href='https://wandb.me/run' target=\"_blank\">docs</a>)<br/>"
      ],
      "text/plain": [
       "<IPython.core.display.HTML object>"
      ]
     },
     "metadata": {},
     "output_type": "display_data"
    },
    {
     "data": {
      "text/html": [
       " View project at <a href='https://wandb.ai/lequn/AudioVisual_ML_ablation_study_v2' target=\"_blank\">https://wandb.ai/lequn/AudioVisual_ML_ablation_study_v2</a>"
      ],
      "text/plain": [
       "<IPython.core.display.HTML object>"
      ]
     },
     "metadata": {},
     "output_type": "display_data"
    },
    {
     "data": {
      "text/html": [
       " View run at <a href='https://wandb.ai/lequn/AudioVisual_ML_ablation_study_v2/runs/88l1e0nk' target=\"_blank\">https://wandb.ai/lequn/AudioVisual_ML_ablation_study_v2/runs/88l1e0nk</a>"
      ],
      "text/plain": [
       "<IPython.core.display.HTML object>"
      ]
     },
     "metadata": {},
     "output_type": "display_data"
    },
    {
     "name": "stderr",
     "output_type": "stream",
     "text": [
      "/home/chenlequn/anaconda3/envs/torch/lib/python3.9/site-packages/imblearn/ensemble/_forest.py:546: FutureWarning: The default of `sampling_strategy` will change from `'auto'` to `'all'` in version 0.13. This change will follow the implementation proposed in the original paper. Set to `'all'` to silence this warning and adopt the future behaviour.\n",
      "  warn(\n",
      "/home/chenlequn/anaconda3/envs/torch/lib/python3.9/site-packages/imblearn/ensemble/_forest.py:558: FutureWarning: The default of `replacement` will change from `False` to `True` in version 0.13. This change will follow the implementation proposed in the original paper. Set to `True` to silence this warning and adopt the future behaviour.\n",
      "  warn(\n"
     ]
    },
    {
     "name": "stdout",
     "output_type": "stream",
     "text": [
      "\t\tAccuracy: Mean = 0.9204043416832993, Std = 0.010364117227208787\n",
      "\t\tF1 Score: Mean = 0.9209536757239537, Std = 0.010215184011572254\n",
      "\t\tPrecision: Mean = 0.9220091682450281, Std = 0.0100995040755372\n",
      "\t\tRecall: Mean = 0.9204043416832993, Std = 0.010364117227208787\n",
      "\t\tROC-AUC: Mean = 0.9910655449204155, Std = 0.0021169171097255644\n"
     ]
    },
    {
     "data": {
      "text/html": [
       "Waiting for W&B process to finish... <strong style=\"color:green\">(success).</strong>"
      ],
      "text/plain": [
       "<IPython.core.display.HTML object>"
      ]
     },
     "metadata": {},
     "output_type": "display_data"
    },
    {
     "data": {
      "text/html": [
       "<style>\n",
       "    table.wandb td:nth-child(1) { padding: 0 10px; text-align: left ; width: auto;} td:nth-child(2) {text-align: left ; width: 100%}\n",
       "    .wandb-row { display: flex; flex-direction: row; flex-wrap: wrap; justify-content: flex-start; width: 100% }\n",
       "    .wandb-col { display: flex; flex-direction: column; flex-basis: 100%; flex: 1; padding: 10px; }\n",
       "    </style>\n",
       "<div class=\"wandb-row\"><div class=\"wandb-col\"><h3>Run history:</h3><br/><table class=\"wandb\"><tr><td>Accuracy_mean</td><td>▁</td></tr><tr><td>Accuracy_std</td><td>▁</td></tr><tr><td>F1 Score_mean</td><td>▁</td></tr><tr><td>F1 Score_std</td><td>▁</td></tr><tr><td>Precision_mean</td><td>▁</td></tr><tr><td>Precision_std</td><td>▁</td></tr><tr><td>ROC-AUC_mean</td><td>▁</td></tr><tr><td>ROC-AUC_std</td><td>▁</td></tr><tr><td>Recall_mean</td><td>▁</td></tr><tr><td>Recall_std</td><td>▁</td></tr></table><br/></div><div class=\"wandb-col\"><h3>Run summary:</h3><br/><table class=\"wandb\"><tr><td>Accuracy_mean</td><td>0.9204</td></tr><tr><td>Accuracy_std</td><td>0.01036</td></tr><tr><td>F1 Score_mean</td><td>0.92095</td></tr><tr><td>F1 Score_std</td><td>0.01022</td></tr><tr><td>Precision_mean</td><td>0.92201</td></tr><tr><td>Precision_std</td><td>0.0101</td></tr><tr><td>ROC-AUC_mean</td><td>0.99107</td></tr><tr><td>ROC-AUC_std</td><td>0.00212</td></tr><tr><td>Recall_mean</td><td>0.9204</td></tr><tr><td>Recall_std</td><td>0.01036</td></tr></table><br/></div></div>"
      ],
      "text/plain": [
       "<IPython.core.display.HTML object>"
      ]
     },
     "metadata": {},
     "output_type": "display_data"
    },
    {
     "data": {
      "text/html": [
       " View run <strong style=\"color:#cdcd00\">BalancedRF_Vision All</strong> at: <a href='https://wandb.ai/lequn/AudioVisual_ML_ablation_study_v2/runs/88l1e0nk' target=\"_blank\">https://wandb.ai/lequn/AudioVisual_ML_ablation_study_v2/runs/88l1e0nk</a><br/> View job at <a href='https://wandb.ai/lequn/AudioVisual_ML_ablation_study_v2/jobs/QXJ0aWZhY3RDb2xsZWN0aW9uOjExMTQ1OTc4Ng==/version_details/v12' target=\"_blank\">https://wandb.ai/lequn/AudioVisual_ML_ablation_study_v2/jobs/QXJ0aWZhY3RDb2xsZWN0aW9uOjExMTQ1OTc4Ng==/version_details/v12</a><br/>Synced 6 W&B file(s), 0 media file(s), 0 artifact file(s) and 0 other file(s)"
      ],
      "text/plain": [
       "<IPython.core.display.HTML object>"
      ]
     },
     "metadata": {},
     "output_type": "display_data"
    },
    {
     "data": {
      "text/html": [
       "Find logs at: <code>./wandb/run-20231031_172145-88l1e0nk/logs</code>"
      ],
      "text/plain": [
       "<IPython.core.display.HTML object>"
      ]
     },
     "metadata": {},
     "output_type": "display_data"
    },
    {
     "name": "stdout",
     "output_type": "stream",
     "text": [
      "\tTraining model: RUSBoost\n"
     ]
    },
    {
     "data": {
      "application/vnd.jupyter.widget-view+json": {
       "model_id": "e397a1e5a9bb43ec9de9b9d85df85853",
       "version_major": 2,
       "version_minor": 0
      },
      "text/plain": [
       "VBox(children=(Label(value='Waiting for wandb.init()...\\r'), FloatProgress(value=0.011114328833193415, max=1.0…"
      ]
     },
     "metadata": {},
     "output_type": "display_data"
    },
    {
     "data": {
      "text/html": [
       "Tracking run with wandb version 0.15.12"
      ],
      "text/plain": [
       "<IPython.core.display.HTML object>"
      ]
     },
     "metadata": {},
     "output_type": "display_data"
    },
    {
     "data": {
      "text/html": [
       "Run data is saved locally in <code>/home/chenlequn/GitHub/LDED-FusionNet/code/wandb/run-20231031_172226-yw76iou2</code>"
      ],
      "text/plain": [
       "<IPython.core.display.HTML object>"
      ]
     },
     "metadata": {},
     "output_type": "display_data"
    },
    {
     "data": {
      "text/html": [
       "Syncing run <strong><a href='https://wandb.ai/lequn/AudioVisual_ML_ablation_study_v2/runs/yw76iou2' target=\"_blank\">RUSBoost_Vision All</a></strong> to <a href='https://wandb.ai/lequn/AudioVisual_ML_ablation_study_v2' target=\"_blank\">Weights & Biases</a> (<a href='https://wandb.me/run' target=\"_blank\">docs</a>)<br/>"
      ],
      "text/plain": [
       "<IPython.core.display.HTML object>"
      ]
     },
     "metadata": {},
     "output_type": "display_data"
    },
    {
     "data": {
      "text/html": [
       " View project at <a href='https://wandb.ai/lequn/AudioVisual_ML_ablation_study_v2' target=\"_blank\">https://wandb.ai/lequn/AudioVisual_ML_ablation_study_v2</a>"
      ],
      "text/plain": [
       "<IPython.core.display.HTML object>"
      ]
     },
     "metadata": {},
     "output_type": "display_data"
    },
    {
     "data": {
      "text/html": [
       " View run at <a href='https://wandb.ai/lequn/AudioVisual_ML_ablation_study_v2/runs/yw76iou2' target=\"_blank\">https://wandb.ai/lequn/AudioVisual_ML_ablation_study_v2/runs/yw76iou2</a>"
      ],
      "text/plain": [
       "<IPython.core.display.HTML object>"
      ]
     },
     "metadata": {},
     "output_type": "display_data"
    },
    {
     "name": "stdout",
     "output_type": "stream",
     "text": [
      "\t\tAccuracy: Mean = 0.8419094286589969, Std = 0.013812132363128922\n",
      "\t\tF1 Score: Mean = 0.8379264659976622, Std = 0.014666634120946357\n",
      "\t\tPrecision: Mean = 0.8458749047701076, Std = 0.01385110423821981\n",
      "\t\tRecall: Mean = 0.8419094286589969, Std = 0.013812132363128922\n",
      "\t\tROC-AUC: Mean = 0.9625599901603868, Std = 0.0023574071379109792\n"
     ]
    },
    {
     "data": {
      "text/html": [
       "Waiting for W&B process to finish... <strong style=\"color:green\">(success).</strong>"
      ],
      "text/plain": [
       "<IPython.core.display.HTML object>"
      ]
     },
     "metadata": {},
     "output_type": "display_data"
    },
    {
     "data": {
      "application/vnd.jupyter.widget-view+json": {
       "model_id": "8e274cb83ce94c879770f48c61bbf695",
       "version_major": 2,
       "version_minor": 0
      },
      "text/plain": [
       "VBox(children=(Label(value='0.002 MB of 0.002 MB uploaded (0.000 MB deduped)\\r'), FloatProgress(value=1.0, max…"
      ]
     },
     "metadata": {},
     "output_type": "display_data"
    },
    {
     "data": {
      "text/html": [
       "<style>\n",
       "    table.wandb td:nth-child(1) { padding: 0 10px; text-align: left ; width: auto;} td:nth-child(2) {text-align: left ; width: 100%}\n",
       "    .wandb-row { display: flex; flex-direction: row; flex-wrap: wrap; justify-content: flex-start; width: 100% }\n",
       "    .wandb-col { display: flex; flex-direction: column; flex-basis: 100%; flex: 1; padding: 10px; }\n",
       "    </style>\n",
       "<div class=\"wandb-row\"><div class=\"wandb-col\"><h3>Run history:</h3><br/><table class=\"wandb\"><tr><td>Accuracy_mean</td><td>▁</td></tr><tr><td>Accuracy_std</td><td>▁</td></tr><tr><td>F1 Score_mean</td><td>▁</td></tr><tr><td>F1 Score_std</td><td>▁</td></tr><tr><td>Precision_mean</td><td>▁</td></tr><tr><td>Precision_std</td><td>▁</td></tr><tr><td>ROC-AUC_mean</td><td>▁</td></tr><tr><td>ROC-AUC_std</td><td>▁</td></tr><tr><td>Recall_mean</td><td>▁</td></tr><tr><td>Recall_std</td><td>▁</td></tr></table><br/></div><div class=\"wandb-col\"><h3>Run summary:</h3><br/><table class=\"wandb\"><tr><td>Accuracy_mean</td><td>0.84191</td></tr><tr><td>Accuracy_std</td><td>0.01381</td></tr><tr><td>F1 Score_mean</td><td>0.83793</td></tr><tr><td>F1 Score_std</td><td>0.01467</td></tr><tr><td>Precision_mean</td><td>0.84587</td></tr><tr><td>Precision_std</td><td>0.01385</td></tr><tr><td>ROC-AUC_mean</td><td>0.96256</td></tr><tr><td>ROC-AUC_std</td><td>0.00236</td></tr><tr><td>Recall_mean</td><td>0.84191</td></tr><tr><td>Recall_std</td><td>0.01381</td></tr></table><br/></div></div>"
      ],
      "text/plain": [
       "<IPython.core.display.HTML object>"
      ]
     },
     "metadata": {},
     "output_type": "display_data"
    },
    {
     "data": {
      "text/html": [
       " View run <strong style=\"color:#cdcd00\">RUSBoost_Vision All</strong> at: <a href='https://wandb.ai/lequn/AudioVisual_ML_ablation_study_v2/runs/yw76iou2' target=\"_blank\">https://wandb.ai/lequn/AudioVisual_ML_ablation_study_v2/runs/yw76iou2</a><br/> View job at <a href='https://wandb.ai/lequn/AudioVisual_ML_ablation_study_v2/jobs/QXJ0aWZhY3RDb2xsZWN0aW9uOjExMTQ1OTc4Ng==/version_details/v12' target=\"_blank\">https://wandb.ai/lequn/AudioVisual_ML_ablation_study_v2/jobs/QXJ0aWZhY3RDb2xsZWN0aW9uOjExMTQ1OTc4Ng==/version_details/v12</a><br/>Synced 6 W&B file(s), 0 media file(s), 0 artifact file(s) and 0 other file(s)"
      ],
      "text/plain": [
       "<IPython.core.display.HTML object>"
      ]
     },
     "metadata": {},
     "output_type": "display_data"
    },
    {
     "data": {
      "text/html": [
       "Find logs at: <code>./wandb/run-20231031_172226-yw76iou2/logs</code>"
      ],
      "text/plain": [
       "<IPython.core.display.HTML object>"
      ]
     },
     "metadata": {},
     "output_type": "display_data"
    },
    {
     "name": "stdout",
     "output_type": "stream",
     "text": [
      "\tTraining model: Ada\n"
     ]
    },
    {
     "data": {
      "application/vnd.jupyter.widget-view+json": {
       "model_id": "561e0eb265854bc0b026d038347046a8",
       "version_major": 2,
       "version_minor": 0
      },
      "text/plain": [
       "VBox(children=(Label(value='Waiting for wandb.init()...\\r'), FloatProgress(value=0.01111379307775577, max=1.0)…"
      ]
     },
     "metadata": {},
     "output_type": "display_data"
    },
    {
     "data": {
      "text/html": [
       "Tracking run with wandb version 0.15.12"
      ],
      "text/plain": [
       "<IPython.core.display.HTML object>"
      ]
     },
     "metadata": {},
     "output_type": "display_data"
    },
    {
     "data": {
      "text/html": [
       "Run data is saved locally in <code>/home/chenlequn/GitHub/LDED-FusionNet/code/wandb/run-20231031_172253-enguw78d</code>"
      ],
      "text/plain": [
       "<IPython.core.display.HTML object>"
      ]
     },
     "metadata": {},
     "output_type": "display_data"
    },
    {
     "data": {
      "text/html": [
       "Syncing run <strong><a href='https://wandb.ai/lequn/AudioVisual_ML_ablation_study_v2/runs/enguw78d' target=\"_blank\">Ada_Vision All</a></strong> to <a href='https://wandb.ai/lequn/AudioVisual_ML_ablation_study_v2' target=\"_blank\">Weights & Biases</a> (<a href='https://wandb.me/run' target=\"_blank\">docs</a>)<br/>"
      ],
      "text/plain": [
       "<IPython.core.display.HTML object>"
      ]
     },
     "metadata": {},
     "output_type": "display_data"
    },
    {
     "data": {
      "text/html": [
       " View project at <a href='https://wandb.ai/lequn/AudioVisual_ML_ablation_study_v2' target=\"_blank\">https://wandb.ai/lequn/AudioVisual_ML_ablation_study_v2</a>"
      ],
      "text/plain": [
       "<IPython.core.display.HTML object>"
      ]
     },
     "metadata": {},
     "output_type": "display_data"
    },
    {
     "data": {
      "text/html": [
       " View run at <a href='https://wandb.ai/lequn/AudioVisual_ML_ablation_study_v2/runs/enguw78d' target=\"_blank\">https://wandb.ai/lequn/AudioVisual_ML_ablation_study_v2/runs/enguw78d</a>"
      ],
      "text/plain": [
       "<IPython.core.display.HTML object>"
      ]
     },
     "metadata": {},
     "output_type": "display_data"
    },
    {
     "name": "stdout",
     "output_type": "stream",
     "text": [
      "\t\tAccuracy: Mean = 0.8564018897684884, Std = 0.004925766800608897\n",
      "\t\tF1 Score: Mean = 0.8542730584686005, Std = 0.004568145924359394\n",
      "\t\tPrecision: Mean = 0.854233233654502, Std = 0.005177354134994402\n",
      "\t\tRecall: Mean = 0.8564018897684884, Std = 0.004925766800608897\n",
      "\t\tROC-AUC: Mean = 0.9659981263549609, Std = 0.0017337937167005218\n"
     ]
    },
    {
     "data": {
      "text/html": [
       "Waiting for W&B process to finish... <strong style=\"color:green\">(success).</strong>"
      ],
      "text/plain": [
       "<IPython.core.display.HTML object>"
      ]
     },
     "metadata": {},
     "output_type": "display_data"
    },
    {
     "data": {
      "application/vnd.jupyter.widget-view+json": {
       "model_id": "627a2f6af2c142c6bffd8f94eeea28a9",
       "version_major": 2,
       "version_minor": 0
      },
      "text/plain": [
       "VBox(children=(Label(value='0.002 MB of 0.002 MB uploaded (0.000 MB deduped)\\r'), FloatProgress(value=1.0, max…"
      ]
     },
     "metadata": {},
     "output_type": "display_data"
    },
    {
     "data": {
      "text/html": [
       "<style>\n",
       "    table.wandb td:nth-child(1) { padding: 0 10px; text-align: left ; width: auto;} td:nth-child(2) {text-align: left ; width: 100%}\n",
       "    .wandb-row { display: flex; flex-direction: row; flex-wrap: wrap; justify-content: flex-start; width: 100% }\n",
       "    .wandb-col { display: flex; flex-direction: column; flex-basis: 100%; flex: 1; padding: 10px; }\n",
       "    </style>\n",
       "<div class=\"wandb-row\"><div class=\"wandb-col\"><h3>Run history:</h3><br/><table class=\"wandb\"><tr><td>Accuracy_mean</td><td>▁</td></tr><tr><td>Accuracy_std</td><td>▁</td></tr><tr><td>F1 Score_mean</td><td>▁</td></tr><tr><td>F1 Score_std</td><td>▁</td></tr><tr><td>Precision_mean</td><td>▁</td></tr><tr><td>Precision_std</td><td>▁</td></tr><tr><td>ROC-AUC_mean</td><td>▁</td></tr><tr><td>ROC-AUC_std</td><td>▁</td></tr><tr><td>Recall_mean</td><td>▁</td></tr><tr><td>Recall_std</td><td>▁</td></tr></table><br/></div><div class=\"wandb-col\"><h3>Run summary:</h3><br/><table class=\"wandb\"><tr><td>Accuracy_mean</td><td>0.8564</td></tr><tr><td>Accuracy_std</td><td>0.00493</td></tr><tr><td>F1 Score_mean</td><td>0.85427</td></tr><tr><td>F1 Score_std</td><td>0.00457</td></tr><tr><td>Precision_mean</td><td>0.85423</td></tr><tr><td>Precision_std</td><td>0.00518</td></tr><tr><td>ROC-AUC_mean</td><td>0.966</td></tr><tr><td>ROC-AUC_std</td><td>0.00173</td></tr><tr><td>Recall_mean</td><td>0.8564</td></tr><tr><td>Recall_std</td><td>0.00493</td></tr></table><br/></div></div>"
      ],
      "text/plain": [
       "<IPython.core.display.HTML object>"
      ]
     },
     "metadata": {},
     "output_type": "display_data"
    },
    {
     "data": {
      "text/html": [
       " View run <strong style=\"color:#cdcd00\">Ada_Vision All</strong> at: <a href='https://wandb.ai/lequn/AudioVisual_ML_ablation_study_v2/runs/enguw78d' target=\"_blank\">https://wandb.ai/lequn/AudioVisual_ML_ablation_study_v2/runs/enguw78d</a><br/> View job at <a href='https://wandb.ai/lequn/AudioVisual_ML_ablation_study_v2/jobs/QXJ0aWZhY3RDb2xsZWN0aW9uOjExMTQ1OTc4Ng==/version_details/v12' target=\"_blank\">https://wandb.ai/lequn/AudioVisual_ML_ablation_study_v2/jobs/QXJ0aWZhY3RDb2xsZWN0aW9uOjExMTQ1OTc4Ng==/version_details/v12</a><br/>Synced 6 W&B file(s), 0 media file(s), 0 artifact file(s) and 0 other file(s)"
      ],
      "text/plain": [
       "<IPython.core.display.HTML object>"
      ]
     },
     "metadata": {},
     "output_type": "display_data"
    },
    {
     "data": {
      "text/html": [
       "Find logs at: <code>./wandb/run-20231031_172253-enguw78d/logs</code>"
      ],
      "text/plain": [
       "<IPython.core.display.HTML object>"
      ]
     },
     "metadata": {},
     "output_type": "display_data"
    },
    {
     "name": "stdout",
     "output_type": "stream",
     "text": [
      "\tTraining model: NN\n"
     ]
    },
    {
     "data": {
      "application/vnd.jupyter.widget-view+json": {
       "model_id": "30e8ef7f784249eba336f3ae7da04e90",
       "version_major": 2,
       "version_minor": 0
      },
      "text/plain": [
       "VBox(children=(Label(value='Waiting for wandb.init()...\\r'), FloatProgress(value=0.011114057244493677, max=1.0…"
      ]
     },
     "metadata": {},
     "output_type": "display_data"
    },
    {
     "data": {
      "text/html": [
       "Tracking run with wandb version 0.15.12"
      ],
      "text/plain": [
       "<IPython.core.display.HTML object>"
      ]
     },
     "metadata": {},
     "output_type": "display_data"
    },
    {
     "data": {
      "text/html": [
       "Run data is saved locally in <code>/home/chenlequn/GitHub/LDED-FusionNet/code/wandb/run-20231031_172335-88owjeyb</code>"
      ],
      "text/plain": [
       "<IPython.core.display.HTML object>"
      ]
     },
     "metadata": {},
     "output_type": "display_data"
    },
    {
     "data": {
      "text/html": [
       "Syncing run <strong><a href='https://wandb.ai/lequn/AudioVisual_ML_ablation_study_v2/runs/88owjeyb' target=\"_blank\">NN_Vision All</a></strong> to <a href='https://wandb.ai/lequn/AudioVisual_ML_ablation_study_v2' target=\"_blank\">Weights & Biases</a> (<a href='https://wandb.me/run' target=\"_blank\">docs</a>)<br/>"
      ],
      "text/plain": [
       "<IPython.core.display.HTML object>"
      ]
     },
     "metadata": {},
     "output_type": "display_data"
    },
    {
     "data": {
      "text/html": [
       " View project at <a href='https://wandb.ai/lequn/AudioVisual_ML_ablation_study_v2' target=\"_blank\">https://wandb.ai/lequn/AudioVisual_ML_ablation_study_v2</a>"
      ],
      "text/plain": [
       "<IPython.core.display.HTML object>"
      ]
     },
     "metadata": {},
     "output_type": "display_data"
    },
    {
     "data": {
      "text/html": [
       " View run at <a href='https://wandb.ai/lequn/AudioVisual_ML_ablation_study_v2/runs/88owjeyb' target=\"_blank\">https://wandb.ai/lequn/AudioVisual_ML_ablation_study_v2/runs/88owjeyb</a>"
      ],
      "text/plain": [
       "<IPython.core.display.HTML object>"
      ]
     },
     "metadata": {},
     "output_type": "display_data"
    },
    {
     "name": "stdout",
     "output_type": "stream",
     "text": [
      "\t\tAccuracy: Mean = 0.9056367876925837, Std = 0.006942565082778136\n",
      "\t\tF1 Score: Mean = 0.90487024818955, Std = 0.00693128666721566\n",
      "\t\tPrecision: Mean = 0.9122971376177562, Std = 0.007244248268823889\n",
      "\t\tRecall: Mean = 0.9056367876925837, Std = 0.006942565082778136\n",
      "\t\tROC-AUC: Mean = 0.9874431039328162, Std = 0.0009296349036492937\n"
     ]
    },
    {
     "data": {
      "text/html": [
       "Waiting for W&B process to finish... <strong style=\"color:green\">(success).</strong>"
      ],
      "text/plain": [
       "<IPython.core.display.HTML object>"
      ]
     },
     "metadata": {},
     "output_type": "display_data"
    },
    {
     "data": {
      "application/vnd.jupyter.widget-view+json": {
       "model_id": "c642aa7e96e04c0e923d995fecc5d3b1",
       "version_major": 2,
       "version_minor": 0
      },
      "text/plain": [
       "VBox(children=(Label(value='0.002 MB of 0.002 MB uploaded (0.000 MB deduped)\\r'), FloatProgress(value=1.0, max…"
      ]
     },
     "metadata": {},
     "output_type": "display_data"
    },
    {
     "data": {
      "text/html": [
       "<style>\n",
       "    table.wandb td:nth-child(1) { padding: 0 10px; text-align: left ; width: auto;} td:nth-child(2) {text-align: left ; width: 100%}\n",
       "    .wandb-row { display: flex; flex-direction: row; flex-wrap: wrap; justify-content: flex-start; width: 100% }\n",
       "    .wandb-col { display: flex; flex-direction: column; flex-basis: 100%; flex: 1; padding: 10px; }\n",
       "    </style>\n",
       "<div class=\"wandb-row\"><div class=\"wandb-col\"><h3>Run history:</h3><br/><table class=\"wandb\"><tr><td>Accuracy_mean</td><td>▁</td></tr><tr><td>Accuracy_std</td><td>▁</td></tr><tr><td>F1 Score_mean</td><td>▁</td></tr><tr><td>F1 Score_std</td><td>▁</td></tr><tr><td>Precision_mean</td><td>▁</td></tr><tr><td>Precision_std</td><td>▁</td></tr><tr><td>ROC-AUC_mean</td><td>▁</td></tr><tr><td>ROC-AUC_std</td><td>▁</td></tr><tr><td>Recall_mean</td><td>▁</td></tr><tr><td>Recall_std</td><td>▁</td></tr></table><br/></div><div class=\"wandb-col\"><h3>Run summary:</h3><br/><table class=\"wandb\"><tr><td>Accuracy_mean</td><td>0.90564</td></tr><tr><td>Accuracy_std</td><td>0.00694</td></tr><tr><td>F1 Score_mean</td><td>0.90487</td></tr><tr><td>F1 Score_std</td><td>0.00693</td></tr><tr><td>Precision_mean</td><td>0.9123</td></tr><tr><td>Precision_std</td><td>0.00724</td></tr><tr><td>ROC-AUC_mean</td><td>0.98744</td></tr><tr><td>ROC-AUC_std</td><td>0.00093</td></tr><tr><td>Recall_mean</td><td>0.90564</td></tr><tr><td>Recall_std</td><td>0.00694</td></tr></table><br/></div></div>"
      ],
      "text/plain": [
       "<IPython.core.display.HTML object>"
      ]
     },
     "metadata": {},
     "output_type": "display_data"
    },
    {
     "data": {
      "text/html": [
       " View run <strong style=\"color:#cdcd00\">NN_Vision All</strong> at: <a href='https://wandb.ai/lequn/AudioVisual_ML_ablation_study_v2/runs/88owjeyb' target=\"_blank\">https://wandb.ai/lequn/AudioVisual_ML_ablation_study_v2/runs/88owjeyb</a><br/> View job at <a href='https://wandb.ai/lequn/AudioVisual_ML_ablation_study_v2/jobs/QXJ0aWZhY3RDb2xsZWN0aW9uOjExMTQ1OTc4Ng==/version_details/v12' target=\"_blank\">https://wandb.ai/lequn/AudioVisual_ML_ablation_study_v2/jobs/QXJ0aWZhY3RDb2xsZWN0aW9uOjExMTQ1OTc4Ng==/version_details/v12</a><br/>Synced 6 W&B file(s), 0 media file(s), 0 artifact file(s) and 0 other file(s)"
      ],
      "text/plain": [
       "<IPython.core.display.HTML object>"
      ]
     },
     "metadata": {},
     "output_type": "display_data"
    },
    {
     "data": {
      "text/html": [
       "Find logs at: <code>./wandb/run-20231031_172335-88owjeyb/logs</code>"
      ],
      "text/plain": [
       "<IPython.core.display.HTML object>"
      ]
     },
     "metadata": {},
     "output_type": "display_data"
    },
    {
     "name": "stdout",
     "output_type": "stream",
     "text": [
      "\tTraining model: XGBoost\n"
     ]
    },
    {
     "data": {
      "application/vnd.jupyter.widget-view+json": {
       "model_id": "961981e3e5fc482588b758ea92390a8e",
       "version_major": 2,
       "version_minor": 0
      },
      "text/plain": [
       "VBox(children=(Label(value='Waiting for wandb.init()...\\r'), FloatProgress(value=0.01111637289998018, max=1.0)…"
      ]
     },
     "metadata": {},
     "output_type": "display_data"
    },
    {
     "data": {
      "text/html": [
       "Tracking run with wandb version 0.15.12"
      ],
      "text/plain": [
       "<IPython.core.display.HTML object>"
      ]
     },
     "metadata": {},
     "output_type": "display_data"
    },
    {
     "data": {
      "text/html": [
       "Run data is saved locally in <code>/home/chenlequn/GitHub/LDED-FusionNet/code/wandb/run-20231031_172418-n8444fs1</code>"
      ],
      "text/plain": [
       "<IPython.core.display.HTML object>"
      ]
     },
     "metadata": {},
     "output_type": "display_data"
    },
    {
     "data": {
      "text/html": [
       "Syncing run <strong><a href='https://wandb.ai/lequn/AudioVisual_ML_ablation_study_v2/runs/n8444fs1' target=\"_blank\">XGBoost_Vision All</a></strong> to <a href='https://wandb.ai/lequn/AudioVisual_ML_ablation_study_v2' target=\"_blank\">Weights & Biases</a> (<a href='https://wandb.me/run' target=\"_blank\">docs</a>)<br/>"
      ],
      "text/plain": [
       "<IPython.core.display.HTML object>"
      ]
     },
     "metadata": {},
     "output_type": "display_data"
    },
    {
     "data": {
      "text/html": [
       " View project at <a href='https://wandb.ai/lequn/AudioVisual_ML_ablation_study_v2' target=\"_blank\">https://wandb.ai/lequn/AudioVisual_ML_ablation_study_v2</a>"
      ],
      "text/plain": [
       "<IPython.core.display.HTML object>"
      ]
     },
     "metadata": {},
     "output_type": "display_data"
    },
    {
     "data": {
      "text/html": [
       " View run at <a href='https://wandb.ai/lequn/AudioVisual_ML_ablation_study_v2/runs/n8444fs1' target=\"_blank\">https://wandb.ai/lequn/AudioVisual_ML_ablation_study_v2/runs/n8444fs1</a>"
      ],
      "text/plain": [
       "<IPython.core.display.HTML object>"
      ]
     },
     "metadata": {},
     "output_type": "display_data"
    },
    {
     "name": "stdout",
     "output_type": "stream",
     "text": [
      "\t\tAccuracy: Mean = 0.9294326956859755, Std = 0.010746012630236494\n",
      "\t\tF1 Score: Mean = 0.9293733094129205, Std = 0.010860965135474358\n",
      "\t\tPrecision: Mean = 0.9300625411246498, Std = 0.011134203922458724\n",
      "\t\tRecall: Mean = 0.9294326956859755, Std = 0.010746012630236494\n",
      "\t\tROC-AUC: Mean = 0.992006623947078, Std = 0.002395393726894092\n"
     ]
    },
    {
     "data": {
      "text/html": [
       "Waiting for W&B process to finish... <strong style=\"color:green\">(success).</strong>"
      ],
      "text/plain": [
       "<IPython.core.display.HTML object>"
      ]
     },
     "metadata": {},
     "output_type": "display_data"
    },
    {
     "data": {
      "application/vnd.jupyter.widget-view+json": {
       "model_id": "d8c08d418bf24aa48ffea5da35b92ce2",
       "version_major": 2,
       "version_minor": 0
      },
      "text/plain": [
       "VBox(children=(Label(value='0.002 MB of 0.002 MB uploaded (0.000 MB deduped)\\r'), FloatProgress(value=1.0, max…"
      ]
     },
     "metadata": {},
     "output_type": "display_data"
    },
    {
     "data": {
      "text/html": [
       "<style>\n",
       "    table.wandb td:nth-child(1) { padding: 0 10px; text-align: left ; width: auto;} td:nth-child(2) {text-align: left ; width: 100%}\n",
       "    .wandb-row { display: flex; flex-direction: row; flex-wrap: wrap; justify-content: flex-start; width: 100% }\n",
       "    .wandb-col { display: flex; flex-direction: column; flex-basis: 100%; flex: 1; padding: 10px; }\n",
       "    </style>\n",
       "<div class=\"wandb-row\"><div class=\"wandb-col\"><h3>Run history:</h3><br/><table class=\"wandb\"><tr><td>Accuracy_mean</td><td>▁</td></tr><tr><td>Accuracy_std</td><td>▁</td></tr><tr><td>F1 Score_mean</td><td>▁</td></tr><tr><td>F1 Score_std</td><td>▁</td></tr><tr><td>Precision_mean</td><td>▁</td></tr><tr><td>Precision_std</td><td>▁</td></tr><tr><td>ROC-AUC_mean</td><td>▁</td></tr><tr><td>ROC-AUC_std</td><td>▁</td></tr><tr><td>Recall_mean</td><td>▁</td></tr><tr><td>Recall_std</td><td>▁</td></tr></table><br/></div><div class=\"wandb-col\"><h3>Run summary:</h3><br/><table class=\"wandb\"><tr><td>Accuracy_mean</td><td>0.92943</td></tr><tr><td>Accuracy_std</td><td>0.01075</td></tr><tr><td>F1 Score_mean</td><td>0.92937</td></tr><tr><td>F1 Score_std</td><td>0.01086</td></tr><tr><td>Precision_mean</td><td>0.93006</td></tr><tr><td>Precision_std</td><td>0.01113</td></tr><tr><td>ROC-AUC_mean</td><td>0.99201</td></tr><tr><td>ROC-AUC_std</td><td>0.0024</td></tr><tr><td>Recall_mean</td><td>0.92943</td></tr><tr><td>Recall_std</td><td>0.01075</td></tr></table><br/></div></div>"
      ],
      "text/plain": [
       "<IPython.core.display.HTML object>"
      ]
     },
     "metadata": {},
     "output_type": "display_data"
    },
    {
     "data": {
      "text/html": [
       " View run <strong style=\"color:#cdcd00\">XGBoost_Vision All</strong> at: <a href='https://wandb.ai/lequn/AudioVisual_ML_ablation_study_v2/runs/n8444fs1' target=\"_blank\">https://wandb.ai/lequn/AudioVisual_ML_ablation_study_v2/runs/n8444fs1</a><br/> View job at <a href='https://wandb.ai/lequn/AudioVisual_ML_ablation_study_v2/jobs/QXJ0aWZhY3RDb2xsZWN0aW9uOjExMTQ1OTc4Ng==/version_details/v12' target=\"_blank\">https://wandb.ai/lequn/AudioVisual_ML_ablation_study_v2/jobs/QXJ0aWZhY3RDb2xsZWN0aW9uOjExMTQ1OTc4Ng==/version_details/v12</a><br/>Synced 6 W&B file(s), 0 media file(s), 0 artifact file(s) and 0 other file(s)"
      ],
      "text/plain": [
       "<IPython.core.display.HTML object>"
      ]
     },
     "metadata": {},
     "output_type": "display_data"
    },
    {
     "data": {
      "text/html": [
       "Find logs at: <code>./wandb/run-20231031_172418-n8444fs1/logs</code>"
      ],
      "text/plain": [
       "<IPython.core.display.HTML object>"
      ]
     },
     "metadata": {},
     "output_type": "display_data"
    },
    {
     "name": "stdout",
     "output_type": "stream",
     "text": [
      "\tTraining model: LightGBM\n"
     ]
    },
    {
     "data": {
      "application/vnd.jupyter.widget-view+json": {
       "model_id": "0cd837712fcd40eaae14a2452d5d5a3a",
       "version_major": 2,
       "version_minor": 0
      },
      "text/plain": [
       "VBox(children=(Label(value='Waiting for wandb.init()...\\r'), FloatProgress(value=0.011114584711160407, max=1.0…"
      ]
     },
     "metadata": {},
     "output_type": "display_data"
    },
    {
     "data": {
      "text/html": [
       "Tracking run with wandb version 0.15.12"
      ],
      "text/plain": [
       "<IPython.core.display.HTML object>"
      ]
     },
     "metadata": {},
     "output_type": "display_data"
    },
    {
     "data": {
      "text/html": [
       "Run data is saved locally in <code>/home/chenlequn/GitHub/LDED-FusionNet/code/wandb/run-20231031_172515-rla5ehcc</code>"
      ],
      "text/plain": [
       "<IPython.core.display.HTML object>"
      ]
     },
     "metadata": {},
     "output_type": "display_data"
    },
    {
     "data": {
      "text/html": [
       "Syncing run <strong><a href='https://wandb.ai/lequn/AudioVisual_ML_ablation_study_v2/runs/rla5ehcc' target=\"_blank\">LightGBM_Vision All</a></strong> to <a href='https://wandb.ai/lequn/AudioVisual_ML_ablation_study_v2' target=\"_blank\">Weights & Biases</a> (<a href='https://wandb.me/run' target=\"_blank\">docs</a>)<br/>"
      ],
      "text/plain": [
       "<IPython.core.display.HTML object>"
      ]
     },
     "metadata": {},
     "output_type": "display_data"
    },
    {
     "data": {
      "text/html": [
       " View project at <a href='https://wandb.ai/lequn/AudioVisual_ML_ablation_study_v2' target=\"_blank\">https://wandb.ai/lequn/AudioVisual_ML_ablation_study_v2</a>"
      ],
      "text/plain": [
       "<IPython.core.display.HTML object>"
      ]
     },
     "metadata": {},
     "output_type": "display_data"
    },
    {
     "data": {
      "text/html": [
       " View run at <a href='https://wandb.ai/lequn/AudioVisual_ML_ablation_study_v2/runs/rla5ehcc' target=\"_blank\">https://wandb.ai/lequn/AudioVisual_ML_ablation_study_v2/runs/rla5ehcc</a>"
      ],
      "text/plain": [
       "<IPython.core.display.HTML object>"
      ]
     },
     "metadata": {},
     "output_type": "display_data"
    },
    {
     "name": "stdout",
     "output_type": "stream",
     "text": [
      "\t\tAccuracy: Mean = 0.9280628377923797, Std = 0.010263142843543039\n",
      "\t\tF1 Score: Mean = 0.9282102604008035, Std = 0.01034648585088875\n",
      "\t\tPrecision: Mean = 0.9289245067974734, Std = 0.01052589928244815\n",
      "\t\tRecall: Mean = 0.9280628377923797, Std = 0.010263142843543039\n",
      "\t\tROC-AUC: Mean = 0.9920692849677387, Std = 0.0022172214546050976\n"
     ]
    },
    {
     "data": {
      "text/html": [
       "Waiting for W&B process to finish... <strong style=\"color:green\">(success).</strong>"
      ],
      "text/plain": [
       "<IPython.core.display.HTML object>"
      ]
     },
     "metadata": {},
     "output_type": "display_data"
    },
    {
     "data": {
      "application/vnd.jupyter.widget-view+json": {
       "model_id": "75368a3a46c54241af17a9e19a496313",
       "version_major": 2,
       "version_minor": 0
      },
      "text/plain": [
       "VBox(children=(Label(value='0.002 MB of 0.002 MB uploaded (0.000 MB deduped)\\r'), FloatProgress(value=1.0, max…"
      ]
     },
     "metadata": {},
     "output_type": "display_data"
    },
    {
     "data": {
      "text/html": [
       "<style>\n",
       "    table.wandb td:nth-child(1) { padding: 0 10px; text-align: left ; width: auto;} td:nth-child(2) {text-align: left ; width: 100%}\n",
       "    .wandb-row { display: flex; flex-direction: row; flex-wrap: wrap; justify-content: flex-start; width: 100% }\n",
       "    .wandb-col { display: flex; flex-direction: column; flex-basis: 100%; flex: 1; padding: 10px; }\n",
       "    </style>\n",
       "<div class=\"wandb-row\"><div class=\"wandb-col\"><h3>Run history:</h3><br/><table class=\"wandb\"><tr><td>Accuracy_mean</td><td>▁</td></tr><tr><td>Accuracy_std</td><td>▁</td></tr><tr><td>F1 Score_mean</td><td>▁</td></tr><tr><td>F1 Score_std</td><td>▁</td></tr><tr><td>Precision_mean</td><td>▁</td></tr><tr><td>Precision_std</td><td>▁</td></tr><tr><td>ROC-AUC_mean</td><td>▁</td></tr><tr><td>ROC-AUC_std</td><td>▁</td></tr><tr><td>Recall_mean</td><td>▁</td></tr><tr><td>Recall_std</td><td>▁</td></tr></table><br/></div><div class=\"wandb-col\"><h3>Run summary:</h3><br/><table class=\"wandb\"><tr><td>Accuracy_mean</td><td>0.92806</td></tr><tr><td>Accuracy_std</td><td>0.01026</td></tr><tr><td>F1 Score_mean</td><td>0.92821</td></tr><tr><td>F1 Score_std</td><td>0.01035</td></tr><tr><td>Precision_mean</td><td>0.92892</td></tr><tr><td>Precision_std</td><td>0.01053</td></tr><tr><td>ROC-AUC_mean</td><td>0.99207</td></tr><tr><td>ROC-AUC_std</td><td>0.00222</td></tr><tr><td>Recall_mean</td><td>0.92806</td></tr><tr><td>Recall_std</td><td>0.01026</td></tr></table><br/></div></div>"
      ],
      "text/plain": [
       "<IPython.core.display.HTML object>"
      ]
     },
     "metadata": {},
     "output_type": "display_data"
    },
    {
     "data": {
      "text/html": [
       " View run <strong style=\"color:#cdcd00\">LightGBM_Vision All</strong> at: <a href='https://wandb.ai/lequn/AudioVisual_ML_ablation_study_v2/runs/rla5ehcc' target=\"_blank\">https://wandb.ai/lequn/AudioVisual_ML_ablation_study_v2/runs/rla5ehcc</a><br/> View job at <a href='https://wandb.ai/lequn/AudioVisual_ML_ablation_study_v2/jobs/QXJ0aWZhY3RDb2xsZWN0aW9uOjExMTQ1OTc4Ng==/version_details/v12' target=\"_blank\">https://wandb.ai/lequn/AudioVisual_ML_ablation_study_v2/jobs/QXJ0aWZhY3RDb2xsZWN0aW9uOjExMTQ1OTc4Ng==/version_details/v12</a><br/>Synced 6 W&B file(s), 0 media file(s), 0 artifact file(s) and 0 other file(s)"
      ],
      "text/plain": [
       "<IPython.core.display.HTML object>"
      ]
     },
     "metadata": {},
     "output_type": "display_data"
    },
    {
     "data": {
      "text/html": [
       "Find logs at: <code>./wandb/run-20231031_172515-rla5ehcc/logs</code>"
      ],
      "text/plain": [
       "<IPython.core.display.HTML object>"
      ]
     },
     "metadata": {},
     "output_type": "display_data"
    },
    {
     "name": "stdout",
     "output_type": "stream",
     "text": [
      "\tTraining model: SVM\n"
     ]
    },
    {
     "data": {
      "application/vnd.jupyter.widget-view+json": {
       "model_id": "9ea8feccb78844ba803a644c65831e71",
       "version_major": 2,
       "version_minor": 0
      },
      "text/plain": [
       "VBox(children=(Label(value='Waiting for wandb.init()...\\r'), FloatProgress(value=0.0111135216665894, max=1.0))…"
      ]
     },
     "metadata": {},
     "output_type": "display_data"
    },
    {
     "data": {
      "text/html": [
       "Tracking run with wandb version 0.15.12"
      ],
      "text/plain": [
       "<IPython.core.display.HTML object>"
      ]
     },
     "metadata": {},
     "output_type": "display_data"
    },
    {
     "data": {
      "text/html": [
       "Run data is saved locally in <code>/home/chenlequn/GitHub/LDED-FusionNet/code/wandb/run-20231031_172537-7osndbc4</code>"
      ],
      "text/plain": [
       "<IPython.core.display.HTML object>"
      ]
     },
     "metadata": {},
     "output_type": "display_data"
    },
    {
     "data": {
      "text/html": [
       "Syncing run <strong><a href='https://wandb.ai/lequn/AudioVisual_ML_ablation_study_v2/runs/7osndbc4' target=\"_blank\">SVM_Vision All</a></strong> to <a href='https://wandb.ai/lequn/AudioVisual_ML_ablation_study_v2' target=\"_blank\">Weights & Biases</a> (<a href='https://wandb.me/run' target=\"_blank\">docs</a>)<br/>"
      ],
      "text/plain": [
       "<IPython.core.display.HTML object>"
      ]
     },
     "metadata": {},
     "output_type": "display_data"
    },
    {
     "data": {
      "text/html": [
       " View project at <a href='https://wandb.ai/lequn/AudioVisual_ML_ablation_study_v2' target=\"_blank\">https://wandb.ai/lequn/AudioVisual_ML_ablation_study_v2</a>"
      ],
      "text/plain": [
       "<IPython.core.display.HTML object>"
      ]
     },
     "metadata": {},
     "output_type": "display_data"
    },
    {
     "data": {
      "text/html": [
       " View run at <a href='https://wandb.ai/lequn/AudioVisual_ML_ablation_study_v2/runs/7osndbc4' target=\"_blank\">https://wandb.ai/lequn/AudioVisual_ML_ablation_study_v2/runs/7osndbc4</a>"
      ],
      "text/plain": [
       "<IPython.core.display.HTML object>"
      ]
     },
     "metadata": {},
     "output_type": "display_data"
    },
    {
     "name": "stdout",
     "output_type": "stream",
     "text": [
      "\t\tAccuracy: Mean = 0.9102849603432681, Std = 0.003055881675344056\n",
      "\t\tF1 Score: Mean = 0.9101498607974363, Std = 0.003020339351319488\n",
      "\t\tPrecision: Mean = 0.9110803122326511, Std = 0.0032257004780930063\n",
      "\t\tRecall: Mean = 0.9102849603432681, Std = 0.003055881675344056\n",
      "\t\tROC-AUC: Mean = 0.9862909270775461, Std = 0.0008793215731135537\n"
     ]
    },
    {
     "data": {
      "text/html": [
       "Waiting for W&B process to finish... <strong style=\"color:green\">(success).</strong>"
      ],
      "text/plain": [
       "<IPython.core.display.HTML object>"
      ]
     },
     "metadata": {},
     "output_type": "display_data"
    },
    {
     "data": {
      "application/vnd.jupyter.widget-view+json": {
       "model_id": "c5713a40dd634d7ab56bb85cd7263945",
       "version_major": 2,
       "version_minor": 0
      },
      "text/plain": [
       "VBox(children=(Label(value='0.002 MB of 0.002 MB uploaded (0.000 MB deduped)\\r'), FloatProgress(value=1.0, max…"
      ]
     },
     "metadata": {},
     "output_type": "display_data"
    },
    {
     "data": {
      "text/html": [
       "<style>\n",
       "    table.wandb td:nth-child(1) { padding: 0 10px; text-align: left ; width: auto;} td:nth-child(2) {text-align: left ; width: 100%}\n",
       "    .wandb-row { display: flex; flex-direction: row; flex-wrap: wrap; justify-content: flex-start; width: 100% }\n",
       "    .wandb-col { display: flex; flex-direction: column; flex-basis: 100%; flex: 1; padding: 10px; }\n",
       "    </style>\n",
       "<div class=\"wandb-row\"><div class=\"wandb-col\"><h3>Run history:</h3><br/><table class=\"wandb\"><tr><td>Accuracy_mean</td><td>▁</td></tr><tr><td>Accuracy_std</td><td>▁</td></tr><tr><td>F1 Score_mean</td><td>▁</td></tr><tr><td>F1 Score_std</td><td>▁</td></tr><tr><td>Precision_mean</td><td>▁</td></tr><tr><td>Precision_std</td><td>▁</td></tr><tr><td>ROC-AUC_mean</td><td>▁</td></tr><tr><td>ROC-AUC_std</td><td>▁</td></tr><tr><td>Recall_mean</td><td>▁</td></tr><tr><td>Recall_std</td><td>▁</td></tr></table><br/></div><div class=\"wandb-col\"><h3>Run summary:</h3><br/><table class=\"wandb\"><tr><td>Accuracy_mean</td><td>0.91028</td></tr><tr><td>Accuracy_std</td><td>0.00306</td></tr><tr><td>F1 Score_mean</td><td>0.91015</td></tr><tr><td>F1 Score_std</td><td>0.00302</td></tr><tr><td>Precision_mean</td><td>0.91108</td></tr><tr><td>Precision_std</td><td>0.00323</td></tr><tr><td>ROC-AUC_mean</td><td>0.98629</td></tr><tr><td>ROC-AUC_std</td><td>0.00088</td></tr><tr><td>Recall_mean</td><td>0.91028</td></tr><tr><td>Recall_std</td><td>0.00306</td></tr></table><br/></div></div>"
      ],
      "text/plain": [
       "<IPython.core.display.HTML object>"
      ]
     },
     "metadata": {},
     "output_type": "display_data"
    },
    {
     "data": {
      "text/html": [
       " View run <strong style=\"color:#cdcd00\">SVM_Vision All</strong> at: <a href='https://wandb.ai/lequn/AudioVisual_ML_ablation_study_v2/runs/7osndbc4' target=\"_blank\">https://wandb.ai/lequn/AudioVisual_ML_ablation_study_v2/runs/7osndbc4</a><br/> View job at <a href='https://wandb.ai/lequn/AudioVisual_ML_ablation_study_v2/jobs/QXJ0aWZhY3RDb2xsZWN0aW9uOjExMTQ1OTc4Ng==/version_details/v12' target=\"_blank\">https://wandb.ai/lequn/AudioVisual_ML_ablation_study_v2/jobs/QXJ0aWZhY3RDb2xsZWN0aW9uOjExMTQ1OTc4Ng==/version_details/v12</a><br/>Synced 6 W&B file(s), 0 media file(s), 0 artifact file(s) and 0 other file(s)"
      ],
      "text/plain": [
       "<IPython.core.display.HTML object>"
      ]
     },
     "metadata": {},
     "output_type": "display_data"
    },
    {
     "data": {
      "text/html": [
       "Find logs at: <code>./wandb/run-20231031_172537-7osndbc4/logs</code>"
      ],
      "text/plain": [
       "<IPython.core.display.HTML object>"
      ]
     },
     "metadata": {},
     "output_type": "display_data"
    },
    {
     "name": "stdout",
     "output_type": "stream",
     "text": [
      "\tTraining model: HistGB\n"
     ]
    },
    {
     "data": {
      "application/vnd.jupyter.widget-view+json": {
       "model_id": "c08c7a94bbf043968317f8d785744d98",
       "version_major": 2,
       "version_minor": 0
      },
      "text/plain": [
       "VBox(children=(Label(value='Waiting for wandb.init()...\\r'), FloatProgress(value=0.011113853288892035, max=1.0…"
      ]
     },
     "metadata": {},
     "output_type": "display_data"
    },
    {
     "data": {
      "text/html": [
       "Tracking run with wandb version 0.15.12"
      ],
      "text/plain": [
       "<IPython.core.display.HTML object>"
      ]
     },
     "metadata": {},
     "output_type": "display_data"
    },
    {
     "data": {
      "text/html": [
       "Run data is saved locally in <code>/home/chenlequn/GitHub/LDED-FusionNet/code/wandb/run-20231031_172557-o12jt5uo</code>"
      ],
      "text/plain": [
       "<IPython.core.display.HTML object>"
      ]
     },
     "metadata": {},
     "output_type": "display_data"
    },
    {
     "data": {
      "text/html": [
       "Syncing run <strong><a href='https://wandb.ai/lequn/AudioVisual_ML_ablation_study_v2/runs/o12jt5uo' target=\"_blank\">HistGB_Vision All</a></strong> to <a href='https://wandb.ai/lequn/AudioVisual_ML_ablation_study_v2' target=\"_blank\">Weights & Biases</a> (<a href='https://wandb.me/run' target=\"_blank\">docs</a>)<br/>"
      ],
      "text/plain": [
       "<IPython.core.display.HTML object>"
      ]
     },
     "metadata": {},
     "output_type": "display_data"
    },
    {
     "data": {
      "text/html": [
       " View project at <a href='https://wandb.ai/lequn/AudioVisual_ML_ablation_study_v2' target=\"_blank\">https://wandb.ai/lequn/AudioVisual_ML_ablation_study_v2</a>"
      ],
      "text/plain": [
       "<IPython.core.display.HTML object>"
      ]
     },
     "metadata": {},
     "output_type": "display_data"
    },
    {
     "data": {
      "text/html": [
       " View run at <a href='https://wandb.ai/lequn/AudioVisual_ML_ablation_study_v2/runs/o12jt5uo' target=\"_blank\">https://wandb.ai/lequn/AudioVisual_ML_ablation_study_v2/runs/o12jt5uo</a>"
      ],
      "text/plain": [
       "<IPython.core.display.HTML object>"
      ]
     },
     "metadata": {},
     "output_type": "display_data"
    },
    {
     "name": "stdout",
     "output_type": "stream",
     "text": [
      "\t\tAccuracy: Mean = 0.9245068137815554, Std = 0.004623834301183267\n",
      "\t\tF1 Score: Mean = 0.9245466381968857, Std = 0.004546988751631808\n",
      "\t\tPrecision: Mean = 0.9255653249656615, Std = 0.003915878510194377\n",
      "\t\tRecall: Mean = 0.9245068137815554, Std = 0.004623834301183267\n",
      "\t\tROC-AUC: Mean = 0.9913394777933113, Std = 0.0015302738404703935\n"
     ]
    },
    {
     "data": {
      "text/html": [
       "Waiting for W&B process to finish... <strong style=\"color:green\">(success).</strong>"
      ],
      "text/plain": [
       "<IPython.core.display.HTML object>"
      ]
     },
     "metadata": {},
     "output_type": "display_data"
    },
    {
     "data": {
      "text/html": [
       "<style>\n",
       "    table.wandb td:nth-child(1) { padding: 0 10px; text-align: left ; width: auto;} td:nth-child(2) {text-align: left ; width: 100%}\n",
       "    .wandb-row { display: flex; flex-direction: row; flex-wrap: wrap; justify-content: flex-start; width: 100% }\n",
       "    .wandb-col { display: flex; flex-direction: column; flex-basis: 100%; flex: 1; padding: 10px; }\n",
       "    </style>\n",
       "<div class=\"wandb-row\"><div class=\"wandb-col\"><h3>Run history:</h3><br/><table class=\"wandb\"><tr><td>Accuracy_mean</td><td>▁</td></tr><tr><td>Accuracy_std</td><td>▁</td></tr><tr><td>F1 Score_mean</td><td>▁</td></tr><tr><td>F1 Score_std</td><td>▁</td></tr><tr><td>Precision_mean</td><td>▁</td></tr><tr><td>Precision_std</td><td>▁</td></tr><tr><td>ROC-AUC_mean</td><td>▁</td></tr><tr><td>ROC-AUC_std</td><td>▁</td></tr><tr><td>Recall_mean</td><td>▁</td></tr><tr><td>Recall_std</td><td>▁</td></tr></table><br/></div><div class=\"wandb-col\"><h3>Run summary:</h3><br/><table class=\"wandb\"><tr><td>Accuracy_mean</td><td>0.92451</td></tr><tr><td>Accuracy_std</td><td>0.00462</td></tr><tr><td>F1 Score_mean</td><td>0.92455</td></tr><tr><td>F1 Score_std</td><td>0.00455</td></tr><tr><td>Precision_mean</td><td>0.92557</td></tr><tr><td>Precision_std</td><td>0.00392</td></tr><tr><td>ROC-AUC_mean</td><td>0.99134</td></tr><tr><td>ROC-AUC_std</td><td>0.00153</td></tr><tr><td>Recall_mean</td><td>0.92451</td></tr><tr><td>Recall_std</td><td>0.00462</td></tr></table><br/></div></div>"
      ],
      "text/plain": [
       "<IPython.core.display.HTML object>"
      ]
     },
     "metadata": {},
     "output_type": "display_data"
    },
    {
     "data": {
      "text/html": [
       " View run <strong style=\"color:#cdcd00\">HistGB_Vision All</strong> at: <a href='https://wandb.ai/lequn/AudioVisual_ML_ablation_study_v2/runs/o12jt5uo' target=\"_blank\">https://wandb.ai/lequn/AudioVisual_ML_ablation_study_v2/runs/o12jt5uo</a><br/> View job at <a href='https://wandb.ai/lequn/AudioVisual_ML_ablation_study_v2/jobs/QXJ0aWZhY3RDb2xsZWN0aW9uOjExMTQ1OTc4Ng==/version_details/v12' target=\"_blank\">https://wandb.ai/lequn/AudioVisual_ML_ablation_study_v2/jobs/QXJ0aWZhY3RDb2xsZWN0aW9uOjExMTQ1OTc4Ng==/version_details/v12</a><br/>Synced 6 W&B file(s), 0 media file(s), 0 artifact file(s) and 0 other file(s)"
      ],
      "text/plain": [
       "<IPython.core.display.HTML object>"
      ]
     },
     "metadata": {},
     "output_type": "display_data"
    },
    {
     "data": {
      "text/html": [
       "Find logs at: <code>./wandb/run-20231031_172557-o12jt5uo/logs</code>"
      ],
      "text/plain": [
       "<IPython.core.display.HTML object>"
      ]
     },
     "metadata": {},
     "output_type": "display_data"
    },
    {
     "name": "stdout",
     "output_type": "stream",
     "text": [
      "Processing dataset: Audio Ablated 1\n",
      "\tTraining model: KNN\n"
     ]
    },
    {
     "data": {
      "application/vnd.jupyter.widget-view+json": {
       "model_id": "eae25422dbc6407f9505f793a52861df",
       "version_major": 2,
       "version_minor": 0
      },
      "text/plain": [
       "VBox(children=(Label(value='Waiting for wandb.init()...\\r'), FloatProgress(value=0.011114081322254303, max=1.0…"
      ]
     },
     "metadata": {},
     "output_type": "display_data"
    },
    {
     "data": {
      "text/html": [
       "Tracking run with wandb version 0.15.12"
      ],
      "text/plain": [
       "<IPython.core.display.HTML object>"
      ]
     },
     "metadata": {},
     "output_type": "display_data"
    },
    {
     "data": {
      "text/html": [
       "Run data is saved locally in <code>/home/chenlequn/GitHub/LDED-FusionNet/code/wandb/run-20231031_172620-zbbb3g2b</code>"
      ],
      "text/plain": [
       "<IPython.core.display.HTML object>"
      ]
     },
     "metadata": {},
     "output_type": "display_data"
    },
    {
     "data": {
      "text/html": [
       "Syncing run <strong><a href='https://wandb.ai/lequn/AudioVisual_ML_ablation_study_v2/runs/zbbb3g2b' target=\"_blank\">KNN_Audio Ablated 1</a></strong> to <a href='https://wandb.ai/lequn/AudioVisual_ML_ablation_study_v2' target=\"_blank\">Weights & Biases</a> (<a href='https://wandb.me/run' target=\"_blank\">docs</a>)<br/>"
      ],
      "text/plain": [
       "<IPython.core.display.HTML object>"
      ]
     },
     "metadata": {},
     "output_type": "display_data"
    },
    {
     "data": {
      "text/html": [
       " View project at <a href='https://wandb.ai/lequn/AudioVisual_ML_ablation_study_v2' target=\"_blank\">https://wandb.ai/lequn/AudioVisual_ML_ablation_study_v2</a>"
      ],
      "text/plain": [
       "<IPython.core.display.HTML object>"
      ]
     },
     "metadata": {},
     "output_type": "display_data"
    },
    {
     "data": {
      "text/html": [
       " View run at <a href='https://wandb.ai/lequn/AudioVisual_ML_ablation_study_v2/runs/zbbb3g2b' target=\"_blank\">https://wandb.ai/lequn/AudioVisual_ML_ablation_study_v2/runs/zbbb3g2b</a>"
      ],
      "text/plain": [
       "<IPython.core.display.HTML object>"
      ]
     },
     "metadata": {},
     "output_type": "display_data"
    },
    {
     "name": "stdout",
     "output_type": "stream",
     "text": [
      "\t\tAccuracy: Mean = 0.8323316364288758, Std = 0.00890881720426607\n",
      "\t\tF1 Score: Mean = 0.8276305358681377, Std = 0.009819816390768196\n",
      "\t\tPrecision: Mean = 0.8287767238167779, Std = 0.010937973964954944\n",
      "\t\tRecall: Mean = 0.8323316364288758, Std = 0.00890881720426607\n",
      "\t\tROC-AUC: Mean = 0.9550680629381281, Std = 0.004345225128676438\n"
     ]
    },
    {
     "data": {
      "text/html": [
       "Waiting for W&B process to finish... <strong style=\"color:green\">(success).</strong>"
      ],
      "text/plain": [
       "<IPython.core.display.HTML object>"
      ]
     },
     "metadata": {},
     "output_type": "display_data"
    },
    {
     "data": {
      "application/vnd.jupyter.widget-view+json": {
       "model_id": "2872e32a457142e5a3fe27d92e071519",
       "version_major": 2,
       "version_minor": 0
      },
      "text/plain": [
       "VBox(children=(Label(value='0.002 MB of 0.002 MB uploaded (0.000 MB deduped)\\r'), FloatProgress(value=1.0, max…"
      ]
     },
     "metadata": {},
     "output_type": "display_data"
    },
    {
     "data": {
      "text/html": [
       "<style>\n",
       "    table.wandb td:nth-child(1) { padding: 0 10px; text-align: left ; width: auto;} td:nth-child(2) {text-align: left ; width: 100%}\n",
       "    .wandb-row { display: flex; flex-direction: row; flex-wrap: wrap; justify-content: flex-start; width: 100% }\n",
       "    .wandb-col { display: flex; flex-direction: column; flex-basis: 100%; flex: 1; padding: 10px; }\n",
       "    </style>\n",
       "<div class=\"wandb-row\"><div class=\"wandb-col\"><h3>Run history:</h3><br/><table class=\"wandb\"><tr><td>Accuracy_mean</td><td>▁</td></tr><tr><td>Accuracy_std</td><td>▁</td></tr><tr><td>F1 Score_mean</td><td>▁</td></tr><tr><td>F1 Score_std</td><td>▁</td></tr><tr><td>Precision_mean</td><td>▁</td></tr><tr><td>Precision_std</td><td>▁</td></tr><tr><td>ROC-AUC_mean</td><td>▁</td></tr><tr><td>ROC-AUC_std</td><td>▁</td></tr><tr><td>Recall_mean</td><td>▁</td></tr><tr><td>Recall_std</td><td>▁</td></tr></table><br/></div><div class=\"wandb-col\"><h3>Run summary:</h3><br/><table class=\"wandb\"><tr><td>Accuracy_mean</td><td>0.83233</td></tr><tr><td>Accuracy_std</td><td>0.00891</td></tr><tr><td>F1 Score_mean</td><td>0.82763</td></tr><tr><td>F1 Score_std</td><td>0.00982</td></tr><tr><td>Precision_mean</td><td>0.82878</td></tr><tr><td>Precision_std</td><td>0.01094</td></tr><tr><td>ROC-AUC_mean</td><td>0.95507</td></tr><tr><td>ROC-AUC_std</td><td>0.00435</td></tr><tr><td>Recall_mean</td><td>0.83233</td></tr><tr><td>Recall_std</td><td>0.00891</td></tr></table><br/></div></div>"
      ],
      "text/plain": [
       "<IPython.core.display.HTML object>"
      ]
     },
     "metadata": {},
     "output_type": "display_data"
    },
    {
     "data": {
      "text/html": [
       " View run <strong style=\"color:#cdcd00\">KNN_Audio Ablated 1</strong> at: <a href='https://wandb.ai/lequn/AudioVisual_ML_ablation_study_v2/runs/zbbb3g2b' target=\"_blank\">https://wandb.ai/lequn/AudioVisual_ML_ablation_study_v2/runs/zbbb3g2b</a><br/> View job at <a href='https://wandb.ai/lequn/AudioVisual_ML_ablation_study_v2/jobs/QXJ0aWZhY3RDb2xsZWN0aW9uOjExMTQ1OTc4Ng==/version_details/v12' target=\"_blank\">https://wandb.ai/lequn/AudioVisual_ML_ablation_study_v2/jobs/QXJ0aWZhY3RDb2xsZWN0aW9uOjExMTQ1OTc4Ng==/version_details/v12</a><br/>Synced 6 W&B file(s), 0 media file(s), 0 artifact file(s) and 0 other file(s)"
      ],
      "text/plain": [
       "<IPython.core.display.HTML object>"
      ]
     },
     "metadata": {},
     "output_type": "display_data"
    },
    {
     "data": {
      "text/html": [
       "Find logs at: <code>./wandb/run-20231031_172620-zbbb3g2b/logs</code>"
      ],
      "text/plain": [
       "<IPython.core.display.HTML object>"
      ]
     },
     "metadata": {},
     "output_type": "display_data"
    },
    {
     "name": "stdout",
     "output_type": "stream",
     "text": [
      "\tTraining model: DT\n"
     ]
    },
    {
     "data": {
      "application/vnd.jupyter.widget-view+json": {
       "model_id": "40ab8615aea64626bb27e07465c52e51",
       "version_major": 2,
       "version_minor": 0
      },
      "text/plain": [
       "VBox(children=(Label(value='Waiting for wandb.init()...\\r'), FloatProgress(value=0.011113930066737035, max=1.0…"
      ]
     },
     "metadata": {},
     "output_type": "display_data"
    },
    {
     "data": {
      "text/html": [
       "Tracking run with wandb version 0.15.12"
      ],
      "text/plain": [
       "<IPython.core.display.HTML object>"
      ]
     },
     "metadata": {},
     "output_type": "display_data"
    },
    {
     "data": {
      "text/html": [
       "Run data is saved locally in <code>/home/chenlequn/GitHub/LDED-FusionNet/code/wandb/run-20231031_172636-p0md7r7k</code>"
      ],
      "text/plain": [
       "<IPython.core.display.HTML object>"
      ]
     },
     "metadata": {},
     "output_type": "display_data"
    },
    {
     "data": {
      "text/html": [
       "Syncing run <strong><a href='https://wandb.ai/lequn/AudioVisual_ML_ablation_study_v2/runs/p0md7r7k' target=\"_blank\">DT_Audio Ablated 1</a></strong> to <a href='https://wandb.ai/lequn/AudioVisual_ML_ablation_study_v2' target=\"_blank\">Weights & Biases</a> (<a href='https://wandb.me/run' target=\"_blank\">docs</a>)<br/>"
      ],
      "text/plain": [
       "<IPython.core.display.HTML object>"
      ]
     },
     "metadata": {},
     "output_type": "display_data"
    },
    {
     "data": {
      "text/html": [
       " View project at <a href='https://wandb.ai/lequn/AudioVisual_ML_ablation_study_v2' target=\"_blank\">https://wandb.ai/lequn/AudioVisual_ML_ablation_study_v2</a>"
      ],
      "text/plain": [
       "<IPython.core.display.HTML object>"
      ]
     },
     "metadata": {},
     "output_type": "display_data"
    },
    {
     "data": {
      "text/html": [
       " View run at <a href='https://wandb.ai/lequn/AudioVisual_ML_ablation_study_v2/runs/p0md7r7k' target=\"_blank\">https://wandb.ai/lequn/AudioVisual_ML_ablation_study_v2/runs/p0md7r7k</a>"
      ],
      "text/plain": [
       "<IPython.core.display.HTML object>"
      ]
     },
     "metadata": {},
     "output_type": "display_data"
    },
    {
     "name": "stdout",
     "output_type": "stream",
     "text": [
      "\t\tAccuracy: Mean = 0.7822796827461446, Std = 0.011733275788330166\n",
      "\t\tF1 Score: Mean = 0.7809541806843756, Std = 0.012834959684263106\n",
      "\t\tPrecision: Mean = 0.7811173474890772, Std = 0.01327119028316437\n",
      "\t\tRecall: Mean = 0.7822796827461446, Std = 0.011733275788330166\n",
      "\t\tROC-AUC: Mean = 0.8736646438798644, Std = 0.00999101480070965\n"
     ]
    },
    {
     "data": {
      "text/html": [
       "Waiting for W&B process to finish... <strong style=\"color:green\">(success).</strong>"
      ],
      "text/plain": [
       "<IPython.core.display.HTML object>"
      ]
     },
     "metadata": {},
     "output_type": "display_data"
    },
    {
     "data": {
      "application/vnd.jupyter.widget-view+json": {
       "model_id": "f3d234e1ec4b45ca8a856f77787b81cd",
       "version_major": 2,
       "version_minor": 0
      },
      "text/plain": [
       "VBox(children=(Label(value='0.002 MB of 0.002 MB uploaded (0.000 MB deduped)\\r'), FloatProgress(value=1.0, max…"
      ]
     },
     "metadata": {},
     "output_type": "display_data"
    },
    {
     "data": {
      "text/html": [
       "<style>\n",
       "    table.wandb td:nth-child(1) { padding: 0 10px; text-align: left ; width: auto;} td:nth-child(2) {text-align: left ; width: 100%}\n",
       "    .wandb-row { display: flex; flex-direction: row; flex-wrap: wrap; justify-content: flex-start; width: 100% }\n",
       "    .wandb-col { display: flex; flex-direction: column; flex-basis: 100%; flex: 1; padding: 10px; }\n",
       "    </style>\n",
       "<div class=\"wandb-row\"><div class=\"wandb-col\"><h3>Run history:</h3><br/><table class=\"wandb\"><tr><td>Accuracy_mean</td><td>▁</td></tr><tr><td>Accuracy_std</td><td>▁</td></tr><tr><td>F1 Score_mean</td><td>▁</td></tr><tr><td>F1 Score_std</td><td>▁</td></tr><tr><td>Precision_mean</td><td>▁</td></tr><tr><td>Precision_std</td><td>▁</td></tr><tr><td>ROC-AUC_mean</td><td>▁</td></tr><tr><td>ROC-AUC_std</td><td>▁</td></tr><tr><td>Recall_mean</td><td>▁</td></tr><tr><td>Recall_std</td><td>▁</td></tr></table><br/></div><div class=\"wandb-col\"><h3>Run summary:</h3><br/><table class=\"wandb\"><tr><td>Accuracy_mean</td><td>0.78228</td></tr><tr><td>Accuracy_std</td><td>0.01173</td></tr><tr><td>F1 Score_mean</td><td>0.78095</td></tr><tr><td>F1 Score_std</td><td>0.01283</td></tr><tr><td>Precision_mean</td><td>0.78112</td></tr><tr><td>Precision_std</td><td>0.01327</td></tr><tr><td>ROC-AUC_mean</td><td>0.87366</td></tr><tr><td>ROC-AUC_std</td><td>0.00999</td></tr><tr><td>Recall_mean</td><td>0.78228</td></tr><tr><td>Recall_std</td><td>0.01173</td></tr></table><br/></div></div>"
      ],
      "text/plain": [
       "<IPython.core.display.HTML object>"
      ]
     },
     "metadata": {},
     "output_type": "display_data"
    },
    {
     "data": {
      "text/html": [
       " View run <strong style=\"color:#cdcd00\">DT_Audio Ablated 1</strong> at: <a href='https://wandb.ai/lequn/AudioVisual_ML_ablation_study_v2/runs/p0md7r7k' target=\"_blank\">https://wandb.ai/lequn/AudioVisual_ML_ablation_study_v2/runs/p0md7r7k</a><br/> View job at <a href='https://wandb.ai/lequn/AudioVisual_ML_ablation_study_v2/jobs/QXJ0aWZhY3RDb2xsZWN0aW9uOjExMTQ1OTc4Ng==/version_details/v12' target=\"_blank\">https://wandb.ai/lequn/AudioVisual_ML_ablation_study_v2/jobs/QXJ0aWZhY3RDb2xsZWN0aW9uOjExMTQ1OTc4Ng==/version_details/v12</a><br/>Synced 6 W&B file(s), 0 media file(s), 0 artifact file(s) and 0 other file(s)"
      ],
      "text/plain": [
       "<IPython.core.display.HTML object>"
      ]
     },
     "metadata": {},
     "output_type": "display_data"
    },
    {
     "data": {
      "text/html": [
       "Find logs at: <code>./wandb/run-20231031_172636-p0md7r7k/logs</code>"
      ],
      "text/plain": [
       "<IPython.core.display.HTML object>"
      ]
     },
     "metadata": {},
     "output_type": "display_data"
    },
    {
     "name": "stdout",
     "output_type": "stream",
     "text": [
      "\tTraining model: RF\n"
     ]
    },
    {
     "data": {
      "application/vnd.jupyter.widget-view+json": {
       "model_id": "07277faf585342f590485587838758d8",
       "version_major": 2,
       "version_minor": 0
      },
      "text/plain": [
       "VBox(children=(Label(value='Waiting for wandb.init()...\\r'), FloatProgress(value=0.011114175566601464, max=1.0…"
      ]
     },
     "metadata": {},
     "output_type": "display_data"
    },
    {
     "data": {
      "text/html": [
       "Tracking run with wandb version 0.15.12"
      ],
      "text/plain": [
       "<IPython.core.display.HTML object>"
      ]
     },
     "metadata": {},
     "output_type": "display_data"
    },
    {
     "data": {
      "text/html": [
       "Run data is saved locally in <code>/home/chenlequn/GitHub/LDED-FusionNet/code/wandb/run-20231031_172653-f25fc1yu</code>"
      ],
      "text/plain": [
       "<IPython.core.display.HTML object>"
      ]
     },
     "metadata": {},
     "output_type": "display_data"
    },
    {
     "data": {
      "text/html": [
       "Syncing run <strong><a href='https://wandb.ai/lequn/AudioVisual_ML_ablation_study_v2/runs/f25fc1yu' target=\"_blank\">RF_Audio Ablated 1</a></strong> to <a href='https://wandb.ai/lequn/AudioVisual_ML_ablation_study_v2' target=\"_blank\">Weights & Biases</a> (<a href='https://wandb.me/run' target=\"_blank\">docs</a>)<br/>"
      ],
      "text/plain": [
       "<IPython.core.display.HTML object>"
      ]
     },
     "metadata": {},
     "output_type": "display_data"
    },
    {
     "data": {
      "text/html": [
       " View project at <a href='https://wandb.ai/lequn/AudioVisual_ML_ablation_study_v2' target=\"_blank\">https://wandb.ai/lequn/AudioVisual_ML_ablation_study_v2</a>"
      ],
      "text/plain": [
       "<IPython.core.display.HTML object>"
      ]
     },
     "metadata": {},
     "output_type": "display_data"
    },
    {
     "data": {
      "text/html": [
       " View run at <a href='https://wandb.ai/lequn/AudioVisual_ML_ablation_study_v2/runs/f25fc1yu' target=\"_blank\">https://wandb.ai/lequn/AudioVisual_ML_ablation_study_v2/runs/f25fc1yu</a>"
      ],
      "text/plain": [
       "<IPython.core.display.HTML object>"
      ]
     },
     "metadata": {},
     "output_type": "display_data"
    },
    {
     "name": "stdout",
     "output_type": "stream",
     "text": [
      "\t\tAccuracy: Mean = 0.8558554416810568, Std = 0.004875879734320504\n",
      "\t\tF1 Score: Mean = 0.8529583420909347, Std = 0.005044244813349125\n",
      "\t\tPrecision: Mean = 0.8535566938225323, Std = 0.005459150796069768\n",
      "\t\tRecall: Mean = 0.8558554416810568, Std = 0.004875879734320504\n",
      "\t\tROC-AUC: Mean = 0.9692189140477477, Std = 0.0029643159677730556\n"
     ]
    },
    {
     "data": {
      "text/html": [
       "Waiting for W&B process to finish... <strong style=\"color:green\">(success).</strong>"
      ],
      "text/plain": [
       "<IPython.core.display.HTML object>"
      ]
     },
     "metadata": {},
     "output_type": "display_data"
    },
    {
     "data": {
      "application/vnd.jupyter.widget-view+json": {
       "model_id": "62c05acec7cb4c91925b3d8c2852f61d",
       "version_major": 2,
       "version_minor": 0
      },
      "text/plain": [
       "VBox(children=(Label(value='0.002 MB of 0.002 MB uploaded (0.000 MB deduped)\\r'), FloatProgress(value=1.0, max…"
      ]
     },
     "metadata": {},
     "output_type": "display_data"
    },
    {
     "data": {
      "text/html": [
       "<style>\n",
       "    table.wandb td:nth-child(1) { padding: 0 10px; text-align: left ; width: auto;} td:nth-child(2) {text-align: left ; width: 100%}\n",
       "    .wandb-row { display: flex; flex-direction: row; flex-wrap: wrap; justify-content: flex-start; width: 100% }\n",
       "    .wandb-col { display: flex; flex-direction: column; flex-basis: 100%; flex: 1; padding: 10px; }\n",
       "    </style>\n",
       "<div class=\"wandb-row\"><div class=\"wandb-col\"><h3>Run history:</h3><br/><table class=\"wandb\"><tr><td>Accuracy_mean</td><td>▁</td></tr><tr><td>Accuracy_std</td><td>▁</td></tr><tr><td>F1 Score_mean</td><td>▁</td></tr><tr><td>F1 Score_std</td><td>▁</td></tr><tr><td>Precision_mean</td><td>▁</td></tr><tr><td>Precision_std</td><td>▁</td></tr><tr><td>ROC-AUC_mean</td><td>▁</td></tr><tr><td>ROC-AUC_std</td><td>▁</td></tr><tr><td>Recall_mean</td><td>▁</td></tr><tr><td>Recall_std</td><td>▁</td></tr></table><br/></div><div class=\"wandb-col\"><h3>Run summary:</h3><br/><table class=\"wandb\"><tr><td>Accuracy_mean</td><td>0.85586</td></tr><tr><td>Accuracy_std</td><td>0.00488</td></tr><tr><td>F1 Score_mean</td><td>0.85296</td></tr><tr><td>F1 Score_std</td><td>0.00504</td></tr><tr><td>Precision_mean</td><td>0.85356</td></tr><tr><td>Precision_std</td><td>0.00546</td></tr><tr><td>ROC-AUC_mean</td><td>0.96922</td></tr><tr><td>ROC-AUC_std</td><td>0.00296</td></tr><tr><td>Recall_mean</td><td>0.85586</td></tr><tr><td>Recall_std</td><td>0.00488</td></tr></table><br/></div></div>"
      ],
      "text/plain": [
       "<IPython.core.display.HTML object>"
      ]
     },
     "metadata": {},
     "output_type": "display_data"
    },
    {
     "data": {
      "text/html": [
       " View run <strong style=\"color:#cdcd00\">RF_Audio Ablated 1</strong> at: <a href='https://wandb.ai/lequn/AudioVisual_ML_ablation_study_v2/runs/f25fc1yu' target=\"_blank\">https://wandb.ai/lequn/AudioVisual_ML_ablation_study_v2/runs/f25fc1yu</a><br/> View job at <a href='https://wandb.ai/lequn/AudioVisual_ML_ablation_study_v2/jobs/QXJ0aWZhY3RDb2xsZWN0aW9uOjExMTQ1OTc4Ng==/version_details/v12' target=\"_blank\">https://wandb.ai/lequn/AudioVisual_ML_ablation_study_v2/jobs/QXJ0aWZhY3RDb2xsZWN0aW9uOjExMTQ1OTc4Ng==/version_details/v12</a><br/>Synced 6 W&B file(s), 0 media file(s), 0 artifact file(s) and 0 other file(s)"
      ],
      "text/plain": [
       "<IPython.core.display.HTML object>"
      ]
     },
     "metadata": {},
     "output_type": "display_data"
    },
    {
     "data": {
      "text/html": [
       "Find logs at: <code>./wandb/run-20231031_172653-f25fc1yu/logs</code>"
      ],
      "text/plain": [
       "<IPython.core.display.HTML object>"
      ]
     },
     "metadata": {},
     "output_type": "display_data"
    },
    {
     "name": "stdout",
     "output_type": "stream",
     "text": [
      "\tTraining model: BalancedRF\n"
     ]
    },
    {
     "data": {
      "application/vnd.jupyter.widget-view+json": {
       "model_id": "486ddc914d964456923e009443223438",
       "version_major": 2,
       "version_minor": 0
      },
      "text/plain": [
       "VBox(children=(Label(value='Waiting for wandb.init()...\\r'), FloatProgress(value=0.01111412684436396, max=1.0)…"
      ]
     },
     "metadata": {},
     "output_type": "display_data"
    },
    {
     "data": {
      "text/html": [
       "Tracking run with wandb version 0.15.12"
      ],
      "text/plain": [
       "<IPython.core.display.HTML object>"
      ]
     },
     "metadata": {},
     "output_type": "display_data"
    },
    {
     "data": {
      "text/html": [
       "Run data is saved locally in <code>/home/chenlequn/GitHub/LDED-FusionNet/code/wandb/run-20231031_172821-099rjcai</code>"
      ],
      "text/plain": [
       "<IPython.core.display.HTML object>"
      ]
     },
     "metadata": {},
     "output_type": "display_data"
    },
    {
     "data": {
      "text/html": [
       "Syncing run <strong><a href='https://wandb.ai/lequn/AudioVisual_ML_ablation_study_v2/runs/099rjcai' target=\"_blank\">BalancedRF_Audio Ablated 1</a></strong> to <a href='https://wandb.ai/lequn/AudioVisual_ML_ablation_study_v2' target=\"_blank\">Weights & Biases</a> (<a href='https://wandb.me/run' target=\"_blank\">docs</a>)<br/>"
      ],
      "text/plain": [
       "<IPython.core.display.HTML object>"
      ]
     },
     "metadata": {},
     "output_type": "display_data"
    },
    {
     "data": {
      "text/html": [
       " View project at <a href='https://wandb.ai/lequn/AudioVisual_ML_ablation_study_v2' target=\"_blank\">https://wandb.ai/lequn/AudioVisual_ML_ablation_study_v2</a>"
      ],
      "text/plain": [
       "<IPython.core.display.HTML object>"
      ]
     },
     "metadata": {},
     "output_type": "display_data"
    },
    {
     "data": {
      "text/html": [
       " View run at <a href='https://wandb.ai/lequn/AudioVisual_ML_ablation_study_v2/runs/099rjcai' target=\"_blank\">https://wandb.ai/lequn/AudioVisual_ML_ablation_study_v2/runs/099rjcai</a>"
      ],
      "text/plain": [
       "<IPython.core.display.HTML object>"
      ]
     },
     "metadata": {},
     "output_type": "display_data"
    },
    {
     "name": "stderr",
     "output_type": "stream",
     "text": [
      "/home/chenlequn/anaconda3/envs/torch/lib/python3.9/site-packages/imblearn/ensemble/_forest.py:546: FutureWarning: The default of `sampling_strategy` will change from `'auto'` to `'all'` in version 0.13. This change will follow the implementation proposed in the original paper. Set to `'all'` to silence this warning and adopt the future behaviour.\n",
      "  warn(\n",
      "/home/chenlequn/anaconda3/envs/torch/lib/python3.9/site-packages/imblearn/ensemble/_forest.py:558: FutureWarning: The default of `replacement` will change from `False` to `True` in version 0.13. This change will follow the implementation proposed in the original paper. Set to `True` to silence this warning and adopt the future behaviour.\n",
      "  warn(\n"
     ]
    },
    {
     "name": "stdout",
     "output_type": "stream",
     "text": [
      "\t\tAccuracy: Mean = 0.8531205848713868, Std = 0.007006552711936451\n",
      "\t\tF1 Score: Mean = 0.8532413997330484, Std = 0.007021891451720753\n",
      "\t\tPrecision: Mean = 0.8560556147299476, Std = 0.007825787016578808\n",
      "\t\tRecall: Mean = 0.8531205848713868, Std = 0.007006552711936451\n",
      "\t\tROC-AUC: Mean = 0.9660063201846902, Std = 0.0024273245846966746\n"
     ]
    },
    {
     "data": {
      "text/html": [
       "Waiting for W&B process to finish... <strong style=\"color:green\">(success).</strong>"
      ],
      "text/plain": [
       "<IPython.core.display.HTML object>"
      ]
     },
     "metadata": {},
     "output_type": "display_data"
    },
    {
     "data": {
      "text/html": [
       "<style>\n",
       "    table.wandb td:nth-child(1) { padding: 0 10px; text-align: left ; width: auto;} td:nth-child(2) {text-align: left ; width: 100%}\n",
       "    .wandb-row { display: flex; flex-direction: row; flex-wrap: wrap; justify-content: flex-start; width: 100% }\n",
       "    .wandb-col { display: flex; flex-direction: column; flex-basis: 100%; flex: 1; padding: 10px; }\n",
       "    </style>\n",
       "<div class=\"wandb-row\"><div class=\"wandb-col\"><h3>Run history:</h3><br/><table class=\"wandb\"><tr><td>Accuracy_mean</td><td>▁</td></tr><tr><td>Accuracy_std</td><td>▁</td></tr><tr><td>F1 Score_mean</td><td>▁</td></tr><tr><td>F1 Score_std</td><td>▁</td></tr><tr><td>Precision_mean</td><td>▁</td></tr><tr><td>Precision_std</td><td>▁</td></tr><tr><td>ROC-AUC_mean</td><td>▁</td></tr><tr><td>ROC-AUC_std</td><td>▁</td></tr><tr><td>Recall_mean</td><td>▁</td></tr><tr><td>Recall_std</td><td>▁</td></tr></table><br/></div><div class=\"wandb-col\"><h3>Run summary:</h3><br/><table class=\"wandb\"><tr><td>Accuracy_mean</td><td>0.85312</td></tr><tr><td>Accuracy_std</td><td>0.00701</td></tr><tr><td>F1 Score_mean</td><td>0.85324</td></tr><tr><td>F1 Score_std</td><td>0.00702</td></tr><tr><td>Precision_mean</td><td>0.85606</td></tr><tr><td>Precision_std</td><td>0.00783</td></tr><tr><td>ROC-AUC_mean</td><td>0.96601</td></tr><tr><td>ROC-AUC_std</td><td>0.00243</td></tr><tr><td>Recall_mean</td><td>0.85312</td></tr><tr><td>Recall_std</td><td>0.00701</td></tr></table><br/></div></div>"
      ],
      "text/plain": [
       "<IPython.core.display.HTML object>"
      ]
     },
     "metadata": {},
     "output_type": "display_data"
    },
    {
     "data": {
      "text/html": [
       " View run <strong style=\"color:#cdcd00\">BalancedRF_Audio Ablated 1</strong> at: <a href='https://wandb.ai/lequn/AudioVisual_ML_ablation_study_v2/runs/099rjcai' target=\"_blank\">https://wandb.ai/lequn/AudioVisual_ML_ablation_study_v2/runs/099rjcai</a><br/> View job at <a href='https://wandb.ai/lequn/AudioVisual_ML_ablation_study_v2/jobs/QXJ0aWZhY3RDb2xsZWN0aW9uOjExMTQ1OTc4Ng==/version_details/v12' target=\"_blank\">https://wandb.ai/lequn/AudioVisual_ML_ablation_study_v2/jobs/QXJ0aWZhY3RDb2xsZWN0aW9uOjExMTQ1OTc4Ng==/version_details/v12</a><br/>Synced 6 W&B file(s), 0 media file(s), 0 artifact file(s) and 0 other file(s)"
      ],
      "text/plain": [
       "<IPython.core.display.HTML object>"
      ]
     },
     "metadata": {},
     "output_type": "display_data"
    },
    {
     "data": {
      "text/html": [
       "Find logs at: <code>./wandb/run-20231031_172821-099rjcai/logs</code>"
      ],
      "text/plain": [
       "<IPython.core.display.HTML object>"
      ]
     },
     "metadata": {},
     "output_type": "display_data"
    },
    {
     "name": "stdout",
     "output_type": "stream",
     "text": [
      "\tTraining model: RUSBoost\n"
     ]
    },
    {
     "data": {
      "application/vnd.jupyter.widget-view+json": {
       "model_id": "aa1453b629b5463cb4e54fc4cccd7d08",
       "version_major": 2,
       "version_minor": 0
      },
      "text/plain": [
       "VBox(children=(Label(value='Waiting for wandb.init()...\\r'), FloatProgress(value=0.011114165555530539, max=1.0…"
      ]
     },
     "metadata": {},
     "output_type": "display_data"
    },
    {
     "data": {
      "text/html": [
       "Tracking run with wandb version 0.15.12"
      ],
      "text/plain": [
       "<IPython.core.display.HTML object>"
      ]
     },
     "metadata": {},
     "output_type": "display_data"
    },
    {
     "data": {
      "text/html": [
       "Run data is saved locally in <code>/home/chenlequn/GitHub/LDED-FusionNet/code/wandb/run-20231031_172904-ejto51uo</code>"
      ],
      "text/plain": [
       "<IPython.core.display.HTML object>"
      ]
     },
     "metadata": {},
     "output_type": "display_data"
    },
    {
     "data": {
      "text/html": [
       "Syncing run <strong><a href='https://wandb.ai/lequn/AudioVisual_ML_ablation_study_v2/runs/ejto51uo' target=\"_blank\">RUSBoost_Audio Ablated 1</a></strong> to <a href='https://wandb.ai/lequn/AudioVisual_ML_ablation_study_v2' target=\"_blank\">Weights & Biases</a> (<a href='https://wandb.me/run' target=\"_blank\">docs</a>)<br/>"
      ],
      "text/plain": [
       "<IPython.core.display.HTML object>"
      ]
     },
     "metadata": {},
     "output_type": "display_data"
    },
    {
     "data": {
      "text/html": [
       " View project at <a href='https://wandb.ai/lequn/AudioVisual_ML_ablation_study_v2' target=\"_blank\">https://wandb.ai/lequn/AudioVisual_ML_ablation_study_v2</a>"
      ],
      "text/plain": [
       "<IPython.core.display.HTML object>"
      ]
     },
     "metadata": {},
     "output_type": "display_data"
    },
    {
     "data": {
      "text/html": [
       " View run at <a href='https://wandb.ai/lequn/AudioVisual_ML_ablation_study_v2/runs/ejto51uo' target=\"_blank\">https://wandb.ai/lequn/AudioVisual_ML_ablation_study_v2/runs/ejto51uo</a>"
      ],
      "text/plain": [
       "<IPython.core.display.HTML object>"
      ]
     },
     "metadata": {},
     "output_type": "display_data"
    },
    {
     "name": "stdout",
     "output_type": "stream",
     "text": [
      "\t\tAccuracy: Mean = 0.76723142936168, Std = 0.005653511353508841\n",
      "\t\tF1 Score: Mean = 0.7674189010255932, Std = 0.005741598693504849\n",
      "\t\tPrecision: Mean = 0.7775485994367217, Std = 0.0055597196198366615\n",
      "\t\tRecall: Mean = 0.76723142936168, Std = 0.005653511353508841\n",
      "\t\tROC-AUC: Mean = 0.9012496265652583, Std = 0.002397068861336257\n"
     ]
    },
    {
     "data": {
      "text/html": [
       "Waiting for W&B process to finish... <strong style=\"color:green\">(success).</strong>"
      ],
      "text/plain": [
       "<IPython.core.display.HTML object>"
      ]
     },
     "metadata": {},
     "output_type": "display_data"
    },
    {
     "data": {
      "application/vnd.jupyter.widget-view+json": {
       "model_id": "9e31d6c2c446479680f36956a8134a99",
       "version_major": 2,
       "version_minor": 0
      },
      "text/plain": [
       "VBox(children=(Label(value='0.002 MB of 0.002 MB uploaded (0.000 MB deduped)\\r'), FloatProgress(value=1.0, max…"
      ]
     },
     "metadata": {},
     "output_type": "display_data"
    },
    {
     "data": {
      "text/html": [
       "<style>\n",
       "    table.wandb td:nth-child(1) { padding: 0 10px; text-align: left ; width: auto;} td:nth-child(2) {text-align: left ; width: 100%}\n",
       "    .wandb-row { display: flex; flex-direction: row; flex-wrap: wrap; justify-content: flex-start; width: 100% }\n",
       "    .wandb-col { display: flex; flex-direction: column; flex-basis: 100%; flex: 1; padding: 10px; }\n",
       "    </style>\n",
       "<div class=\"wandb-row\"><div class=\"wandb-col\"><h3>Run history:</h3><br/><table class=\"wandb\"><tr><td>Accuracy_mean</td><td>▁</td></tr><tr><td>Accuracy_std</td><td>▁</td></tr><tr><td>F1 Score_mean</td><td>▁</td></tr><tr><td>F1 Score_std</td><td>▁</td></tr><tr><td>Precision_mean</td><td>▁</td></tr><tr><td>Precision_std</td><td>▁</td></tr><tr><td>ROC-AUC_mean</td><td>▁</td></tr><tr><td>ROC-AUC_std</td><td>▁</td></tr><tr><td>Recall_mean</td><td>▁</td></tr><tr><td>Recall_std</td><td>▁</td></tr></table><br/></div><div class=\"wandb-col\"><h3>Run summary:</h3><br/><table class=\"wandb\"><tr><td>Accuracy_mean</td><td>0.76723</td></tr><tr><td>Accuracy_std</td><td>0.00565</td></tr><tr><td>F1 Score_mean</td><td>0.76742</td></tr><tr><td>F1 Score_std</td><td>0.00574</td></tr><tr><td>Precision_mean</td><td>0.77755</td></tr><tr><td>Precision_std</td><td>0.00556</td></tr><tr><td>ROC-AUC_mean</td><td>0.90125</td></tr><tr><td>ROC-AUC_std</td><td>0.0024</td></tr><tr><td>Recall_mean</td><td>0.76723</td></tr><tr><td>Recall_std</td><td>0.00565</td></tr></table><br/></div></div>"
      ],
      "text/plain": [
       "<IPython.core.display.HTML object>"
      ]
     },
     "metadata": {},
     "output_type": "display_data"
    },
    {
     "data": {
      "text/html": [
       " View run <strong style=\"color:#cdcd00\">RUSBoost_Audio Ablated 1</strong> at: <a href='https://wandb.ai/lequn/AudioVisual_ML_ablation_study_v2/runs/ejto51uo' target=\"_blank\">https://wandb.ai/lequn/AudioVisual_ML_ablation_study_v2/runs/ejto51uo</a><br/> View job at <a href='https://wandb.ai/lequn/AudioVisual_ML_ablation_study_v2/jobs/QXJ0aWZhY3RDb2xsZWN0aW9uOjExMTQ1OTc4Ng==/version_details/v12' target=\"_blank\">https://wandb.ai/lequn/AudioVisual_ML_ablation_study_v2/jobs/QXJ0aWZhY3RDb2xsZWN0aW9uOjExMTQ1OTc4Ng==/version_details/v12</a><br/>Synced 6 W&B file(s), 0 media file(s), 0 artifact file(s) and 0 other file(s)"
      ],
      "text/plain": [
       "<IPython.core.display.HTML object>"
      ]
     },
     "metadata": {},
     "output_type": "display_data"
    },
    {
     "data": {
      "text/html": [
       "Find logs at: <code>./wandb/run-20231031_172904-ejto51uo/logs</code>"
      ],
      "text/plain": [
       "<IPython.core.display.HTML object>"
      ]
     },
     "metadata": {},
     "output_type": "display_data"
    },
    {
     "name": "stdout",
     "output_type": "stream",
     "text": [
      "\tTraining model: Ada\n"
     ]
    },
    {
     "data": {
      "application/vnd.jupyter.widget-view+json": {
       "model_id": "adb2f9874e6e4c12a152d1dc6671fa32",
       "version_major": 2,
       "version_minor": 0
      },
      "text/plain": [
       "VBox(children=(Label(value='Waiting for wandb.init()...\\r'), FloatProgress(value=0.011113391222251166, max=1.0…"
      ]
     },
     "metadata": {},
     "output_type": "display_data"
    },
    {
     "data": {
      "text/html": [
       "Tracking run with wandb version 0.15.12"
      ],
      "text/plain": [
       "<IPython.core.display.HTML object>"
      ]
     },
     "metadata": {},
     "output_type": "display_data"
    },
    {
     "data": {
      "text/html": [
       "Run data is saved locally in <code>/home/chenlequn/GitHub/LDED-FusionNet/code/wandb/run-20231031_172936-oq1iz5ge</code>"
      ],
      "text/plain": [
       "<IPython.core.display.HTML object>"
      ]
     },
     "metadata": {},
     "output_type": "display_data"
    },
    {
     "data": {
      "text/html": [
       "Syncing run <strong><a href='https://wandb.ai/lequn/AudioVisual_ML_ablation_study_v2/runs/oq1iz5ge' target=\"_blank\">Ada_Audio Ablated 1</a></strong> to <a href='https://wandb.ai/lequn/AudioVisual_ML_ablation_study_v2' target=\"_blank\">Weights & Biases</a> (<a href='https://wandb.me/run' target=\"_blank\">docs</a>)<br/>"
      ],
      "text/plain": [
       "<IPython.core.display.HTML object>"
      ]
     },
     "metadata": {},
     "output_type": "display_data"
    },
    {
     "data": {
      "text/html": [
       " View project at <a href='https://wandb.ai/lequn/AudioVisual_ML_ablation_study_v2' target=\"_blank\">https://wandb.ai/lequn/AudioVisual_ML_ablation_study_v2</a>"
      ],
      "text/plain": [
       "<IPython.core.display.HTML object>"
      ]
     },
     "metadata": {},
     "output_type": "display_data"
    },
    {
     "data": {
      "text/html": [
       " View run at <a href='https://wandb.ai/lequn/AudioVisual_ML_ablation_study_v2/runs/oq1iz5ge' target=\"_blank\">https://wandb.ai/lequn/AudioVisual_ML_ablation_study_v2/runs/oq1iz5ge</a>"
      ],
      "text/plain": [
       "<IPython.core.display.HTML object>"
      ]
     },
     "metadata": {},
     "output_type": "display_data"
    },
    {
     "name": "stdout",
     "output_type": "stream",
     "text": [
      "\t\tAccuracy: Mean = 0.7871973417655281, Std = 0.009695015877765712\n",
      "\t\tF1 Score: Mean = 0.7774051681347761, Std = 0.010566978887956999\n",
      "\t\tPrecision: Mean = 0.7775050040136144, Std = 0.010157922143740629\n",
      "\t\tRecall: Mean = 0.7871973417655281, Std = 0.009695015877765712\n",
      "\t\tROC-AUC: Mean = 0.9163529538980504, Std = 0.0043744453226434105\n"
     ]
    },
    {
     "data": {
      "text/html": [
       "Waiting for W&B process to finish... <strong style=\"color:green\">(success).</strong>"
      ],
      "text/plain": [
       "<IPython.core.display.HTML object>"
      ]
     },
     "metadata": {},
     "output_type": "display_data"
    },
    {
     "data": {
      "application/vnd.jupyter.widget-view+json": {
       "model_id": "7ff76d51acab42c8bb219722956a112a",
       "version_major": 2,
       "version_minor": 0
      },
      "text/plain": [
       "VBox(children=(Label(value='0.002 MB of 0.002 MB uploaded (0.000 MB deduped)\\r'), FloatProgress(value=1.0, max…"
      ]
     },
     "metadata": {},
     "output_type": "display_data"
    },
    {
     "data": {
      "text/html": [
       "<style>\n",
       "    table.wandb td:nth-child(1) { padding: 0 10px; text-align: left ; width: auto;} td:nth-child(2) {text-align: left ; width: 100%}\n",
       "    .wandb-row { display: flex; flex-direction: row; flex-wrap: wrap; justify-content: flex-start; width: 100% }\n",
       "    .wandb-col { display: flex; flex-direction: column; flex-basis: 100%; flex: 1; padding: 10px; }\n",
       "    </style>\n",
       "<div class=\"wandb-row\"><div class=\"wandb-col\"><h3>Run history:</h3><br/><table class=\"wandb\"><tr><td>Accuracy_mean</td><td>▁</td></tr><tr><td>Accuracy_std</td><td>▁</td></tr><tr><td>F1 Score_mean</td><td>▁</td></tr><tr><td>F1 Score_std</td><td>▁</td></tr><tr><td>Precision_mean</td><td>▁</td></tr><tr><td>Precision_std</td><td>▁</td></tr><tr><td>ROC-AUC_mean</td><td>▁</td></tr><tr><td>ROC-AUC_std</td><td>▁</td></tr><tr><td>Recall_mean</td><td>▁</td></tr><tr><td>Recall_std</td><td>▁</td></tr></table><br/></div><div class=\"wandb-col\"><h3>Run summary:</h3><br/><table class=\"wandb\"><tr><td>Accuracy_mean</td><td>0.7872</td></tr><tr><td>Accuracy_std</td><td>0.0097</td></tr><tr><td>F1 Score_mean</td><td>0.77741</td></tr><tr><td>F1 Score_std</td><td>0.01057</td></tr><tr><td>Precision_mean</td><td>0.77751</td></tr><tr><td>Precision_std</td><td>0.01016</td></tr><tr><td>ROC-AUC_mean</td><td>0.91635</td></tr><tr><td>ROC-AUC_std</td><td>0.00437</td></tr><tr><td>Recall_mean</td><td>0.7872</td></tr><tr><td>Recall_std</td><td>0.0097</td></tr></table><br/></div></div>"
      ],
      "text/plain": [
       "<IPython.core.display.HTML object>"
      ]
     },
     "metadata": {},
     "output_type": "display_data"
    },
    {
     "data": {
      "text/html": [
       " View run <strong style=\"color:#cdcd00\">Ada_Audio Ablated 1</strong> at: <a href='https://wandb.ai/lequn/AudioVisual_ML_ablation_study_v2/runs/oq1iz5ge' target=\"_blank\">https://wandb.ai/lequn/AudioVisual_ML_ablation_study_v2/runs/oq1iz5ge</a><br/> View job at <a href='https://wandb.ai/lequn/AudioVisual_ML_ablation_study_v2/jobs/QXJ0aWZhY3RDb2xsZWN0aW9uOjExMTQ1OTc4Ng==/version_details/v12' target=\"_blank\">https://wandb.ai/lequn/AudioVisual_ML_ablation_study_v2/jobs/QXJ0aWZhY3RDb2xsZWN0aW9uOjExMTQ1OTc4Ng==/version_details/v12</a><br/>Synced 6 W&B file(s), 0 media file(s), 0 artifact file(s) and 0 other file(s)"
      ],
      "text/plain": [
       "<IPython.core.display.HTML object>"
      ]
     },
     "metadata": {},
     "output_type": "display_data"
    },
    {
     "data": {
      "text/html": [
       "Find logs at: <code>./wandb/run-20231031_172936-oq1iz5ge/logs</code>"
      ],
      "text/plain": [
       "<IPython.core.display.HTML object>"
      ]
     },
     "metadata": {},
     "output_type": "display_data"
    },
    {
     "name": "stdout",
     "output_type": "stream",
     "text": [
      "\tTraining model: NN\n"
     ]
    },
    {
     "data": {
      "application/vnd.jupyter.widget-view+json": {
       "model_id": "63820447e900466ba354fde057b05df8",
       "version_major": 2,
       "version_minor": 0
      },
      "text/plain": [
       "VBox(children=(Label(value='Waiting for wandb.init()...\\r'), FloatProgress(value=0.011113422988758732, max=1.0…"
      ]
     },
     "metadata": {},
     "output_type": "display_data"
    },
    {
     "data": {
      "text/html": [
       "Tracking run with wandb version 0.15.12"
      ],
      "text/plain": [
       "<IPython.core.display.HTML object>"
      ]
     },
     "metadata": {},
     "output_type": "display_data"
    },
    {
     "data": {
      "text/html": [
       "Run data is saved locally in <code>/home/chenlequn/GitHub/LDED-FusionNet/code/wandb/run-20231031_173024-m2pv0hkn</code>"
      ],
      "text/plain": [
       "<IPython.core.display.HTML object>"
      ]
     },
     "metadata": {},
     "output_type": "display_data"
    },
    {
     "data": {
      "text/html": [
       "Syncing run <strong><a href='https://wandb.ai/lequn/AudioVisual_ML_ablation_study_v2/runs/m2pv0hkn' target=\"_blank\">NN_Audio Ablated 1</a></strong> to <a href='https://wandb.ai/lequn/AudioVisual_ML_ablation_study_v2' target=\"_blank\">Weights & Biases</a> (<a href='https://wandb.me/run' target=\"_blank\">docs</a>)<br/>"
      ],
      "text/plain": [
       "<IPython.core.display.HTML object>"
      ]
     },
     "metadata": {},
     "output_type": "display_data"
    },
    {
     "data": {
      "text/html": [
       " View project at <a href='https://wandb.ai/lequn/AudioVisual_ML_ablation_study_v2' target=\"_blank\">https://wandb.ai/lequn/AudioVisual_ML_ablation_study_v2</a>"
      ],
      "text/plain": [
       "<IPython.core.display.HTML object>"
      ]
     },
     "metadata": {},
     "output_type": "display_data"
    },
    {
     "data": {
      "text/html": [
       " View run at <a href='https://wandb.ai/lequn/AudioVisual_ML_ablation_study_v2/runs/m2pv0hkn' target=\"_blank\">https://wandb.ai/lequn/AudioVisual_ML_ablation_study_v2/runs/m2pv0hkn</a>"
      ],
      "text/plain": [
       "<IPython.core.display.HTML object>"
      ]
     },
     "metadata": {},
     "output_type": "display_data"
    },
    {
     "name": "stdout",
     "output_type": "stream",
     "text": [
      "\t\tAccuracy: Mean = 0.8829322808040487, Std = 0.008141938358335333\n",
      "\t\tF1 Score: Mean = 0.8823507856822133, Std = 0.008055669199510814\n",
      "\t\tPrecision: Mean = 0.8830007425051459, Std = 0.008786068165029231\n",
      "\t\tRecall: Mean = 0.8829322808040487, Std = 0.008141938358335333\n",
      "\t\tROC-AUC: Mean = 0.9758945157004476, Std = 0.0028223225309545893\n"
     ]
    },
    {
     "data": {
      "text/html": [
       "Waiting for W&B process to finish... <strong style=\"color:green\">(success).</strong>"
      ],
      "text/plain": [
       "<IPython.core.display.HTML object>"
      ]
     },
     "metadata": {},
     "output_type": "display_data"
    },
    {
     "data": {
      "application/vnd.jupyter.widget-view+json": {
       "model_id": "0da14c04ea1a4c068b53efcfcc7a3340",
       "version_major": 2,
       "version_minor": 0
      },
      "text/plain": [
       "VBox(children=(Label(value='0.002 MB of 0.002 MB uploaded (0.000 MB deduped)\\r'), FloatProgress(value=1.0, max…"
      ]
     },
     "metadata": {},
     "output_type": "display_data"
    },
    {
     "data": {
      "text/html": [
       "<style>\n",
       "    table.wandb td:nth-child(1) { padding: 0 10px; text-align: left ; width: auto;} td:nth-child(2) {text-align: left ; width: 100%}\n",
       "    .wandb-row { display: flex; flex-direction: row; flex-wrap: wrap; justify-content: flex-start; width: 100% }\n",
       "    .wandb-col { display: flex; flex-direction: column; flex-basis: 100%; flex: 1; padding: 10px; }\n",
       "    </style>\n",
       "<div class=\"wandb-row\"><div class=\"wandb-col\"><h3>Run history:</h3><br/><table class=\"wandb\"><tr><td>Accuracy_mean</td><td>▁</td></tr><tr><td>Accuracy_std</td><td>▁</td></tr><tr><td>F1 Score_mean</td><td>▁</td></tr><tr><td>F1 Score_std</td><td>▁</td></tr><tr><td>Precision_mean</td><td>▁</td></tr><tr><td>Precision_std</td><td>▁</td></tr><tr><td>ROC-AUC_mean</td><td>▁</td></tr><tr><td>ROC-AUC_std</td><td>▁</td></tr><tr><td>Recall_mean</td><td>▁</td></tr><tr><td>Recall_std</td><td>▁</td></tr></table><br/></div><div class=\"wandb-col\"><h3>Run summary:</h3><br/><table class=\"wandb\"><tr><td>Accuracy_mean</td><td>0.88293</td></tr><tr><td>Accuracy_std</td><td>0.00814</td></tr><tr><td>F1 Score_mean</td><td>0.88235</td></tr><tr><td>F1 Score_std</td><td>0.00806</td></tr><tr><td>Precision_mean</td><td>0.883</td></tr><tr><td>Precision_std</td><td>0.00879</td></tr><tr><td>ROC-AUC_mean</td><td>0.97589</td></tr><tr><td>ROC-AUC_std</td><td>0.00282</td></tr><tr><td>Recall_mean</td><td>0.88293</td></tr><tr><td>Recall_std</td><td>0.00814</td></tr></table><br/></div></div>"
      ],
      "text/plain": [
       "<IPython.core.display.HTML object>"
      ]
     },
     "metadata": {},
     "output_type": "display_data"
    },
    {
     "data": {
      "text/html": [
       " View run <strong style=\"color:#cdcd00\">NN_Audio Ablated 1</strong> at: <a href='https://wandb.ai/lequn/AudioVisual_ML_ablation_study_v2/runs/m2pv0hkn' target=\"_blank\">https://wandb.ai/lequn/AudioVisual_ML_ablation_study_v2/runs/m2pv0hkn</a><br/> View job at <a href='https://wandb.ai/lequn/AudioVisual_ML_ablation_study_v2/jobs/QXJ0aWZhY3RDb2xsZWN0aW9uOjExMTQ1OTc4Ng==/version_details/v12' target=\"_blank\">https://wandb.ai/lequn/AudioVisual_ML_ablation_study_v2/jobs/QXJ0aWZhY3RDb2xsZWN0aW9uOjExMTQ1OTc4Ng==/version_details/v12</a><br/>Synced 6 W&B file(s), 0 media file(s), 0 artifact file(s) and 0 other file(s)"
      ],
      "text/plain": [
       "<IPython.core.display.HTML object>"
      ]
     },
     "metadata": {},
     "output_type": "display_data"
    },
    {
     "data": {
      "text/html": [
       "Find logs at: <code>./wandb/run-20231031_173024-m2pv0hkn/logs</code>"
      ],
      "text/plain": [
       "<IPython.core.display.HTML object>"
      ]
     },
     "metadata": {},
     "output_type": "display_data"
    },
    {
     "name": "stdout",
     "output_type": "stream",
     "text": [
      "\tTraining model: XGBoost\n"
     ]
    },
    {
     "data": {
      "application/vnd.jupyter.widget-view+json": {
       "model_id": "790ceb6701b1418caab021851074dba3",
       "version_major": 2,
       "version_minor": 0
      },
      "text/plain": [
       "VBox(children=(Label(value='Waiting for wandb.init()...\\r'), FloatProgress(value=0.011113570355680875, max=1.0…"
      ]
     },
     "metadata": {},
     "output_type": "display_data"
    },
    {
     "data": {
      "text/html": [
       "Tracking run with wandb version 0.15.12"
      ],
      "text/plain": [
       "<IPython.core.display.HTML object>"
      ]
     },
     "metadata": {},
     "output_type": "display_data"
    },
    {
     "data": {
      "text/html": [
       "Run data is saved locally in <code>/home/chenlequn/GitHub/LDED-FusionNet/code/wandb/run-20231031_173110-z856en22</code>"
      ],
      "text/plain": [
       "<IPython.core.display.HTML object>"
      ]
     },
     "metadata": {},
     "output_type": "display_data"
    },
    {
     "data": {
      "text/html": [
       "Syncing run <strong><a href='https://wandb.ai/lequn/AudioVisual_ML_ablation_study_v2/runs/z856en22' target=\"_blank\">XGBoost_Audio Ablated 1</a></strong> to <a href='https://wandb.ai/lequn/AudioVisual_ML_ablation_study_v2' target=\"_blank\">Weights & Biases</a> (<a href='https://wandb.me/run' target=\"_blank\">docs</a>)<br/>"
      ],
      "text/plain": [
       "<IPython.core.display.HTML object>"
      ]
     },
     "metadata": {},
     "output_type": "display_data"
    },
    {
     "data": {
      "text/html": [
       " View project at <a href='https://wandb.ai/lequn/AudioVisual_ML_ablation_study_v2' target=\"_blank\">https://wandb.ai/lequn/AudioVisual_ML_ablation_study_v2</a>"
      ],
      "text/plain": [
       "<IPython.core.display.HTML object>"
      ]
     },
     "metadata": {},
     "output_type": "display_data"
    },
    {
     "data": {
      "text/html": [
       " View run at <a href='https://wandb.ai/lequn/AudioVisual_ML_ablation_study_v2/runs/z856en22' target=\"_blank\">https://wandb.ai/lequn/AudioVisual_ML_ablation_study_v2/runs/z856en22</a>"
      ],
      "text/plain": [
       "<IPython.core.display.HTML object>"
      ]
     },
     "metadata": {},
     "output_type": "display_data"
    },
    {
     "name": "stdout",
     "output_type": "stream",
     "text": [
      "\t\tAccuracy: Mean = 0.8692557541506881, Std = 0.007819567418330023\n",
      "\t\tF1 Score: Mean = 0.867569803174739, Std = 0.00803816241824661\n",
      "\t\tPrecision: Mean = 0.8676751749197493, Std = 0.00853027810112499\n",
      "\t\tRecall: Mean = 0.8692557541506881, Std = 0.007819567418330023\n",
      "\t\tROC-AUC: Mean = 0.9703077882206397, Std = 0.0028074120455372042\n"
     ]
    },
    {
     "data": {
      "text/html": [
       "Waiting for W&B process to finish... <strong style=\"color:green\">(success).</strong>"
      ],
      "text/plain": [
       "<IPython.core.display.HTML object>"
      ]
     },
     "metadata": {},
     "output_type": "display_data"
    },
    {
     "data": {
      "application/vnd.jupyter.widget-view+json": {
       "model_id": "0aebc42b2d6c4e16a47a5f070b689563",
       "version_major": 2,
       "version_minor": 0
      },
      "text/plain": [
       "VBox(children=(Label(value='0.002 MB of 0.002 MB uploaded (0.000 MB deduped)\\r'), FloatProgress(value=1.0, max…"
      ]
     },
     "metadata": {},
     "output_type": "display_data"
    },
    {
     "data": {
      "text/html": [
       "<style>\n",
       "    table.wandb td:nth-child(1) { padding: 0 10px; text-align: left ; width: auto;} td:nth-child(2) {text-align: left ; width: 100%}\n",
       "    .wandb-row { display: flex; flex-direction: row; flex-wrap: wrap; justify-content: flex-start; width: 100% }\n",
       "    .wandb-col { display: flex; flex-direction: column; flex-basis: 100%; flex: 1; padding: 10px; }\n",
       "    </style>\n",
       "<div class=\"wandb-row\"><div class=\"wandb-col\"><h3>Run history:</h3><br/><table class=\"wandb\"><tr><td>Accuracy_mean</td><td>▁</td></tr><tr><td>Accuracy_std</td><td>▁</td></tr><tr><td>F1 Score_mean</td><td>▁</td></tr><tr><td>F1 Score_std</td><td>▁</td></tr><tr><td>Precision_mean</td><td>▁</td></tr><tr><td>Precision_std</td><td>▁</td></tr><tr><td>ROC-AUC_mean</td><td>▁</td></tr><tr><td>ROC-AUC_std</td><td>▁</td></tr><tr><td>Recall_mean</td><td>▁</td></tr><tr><td>Recall_std</td><td>▁</td></tr></table><br/></div><div class=\"wandb-col\"><h3>Run summary:</h3><br/><table class=\"wandb\"><tr><td>Accuracy_mean</td><td>0.86926</td></tr><tr><td>Accuracy_std</td><td>0.00782</td></tr><tr><td>F1 Score_mean</td><td>0.86757</td></tr><tr><td>F1 Score_std</td><td>0.00804</td></tr><tr><td>Precision_mean</td><td>0.86768</td></tr><tr><td>Precision_std</td><td>0.00853</td></tr><tr><td>ROC-AUC_mean</td><td>0.97031</td></tr><tr><td>ROC-AUC_std</td><td>0.00281</td></tr><tr><td>Recall_mean</td><td>0.86926</td></tr><tr><td>Recall_std</td><td>0.00782</td></tr></table><br/></div></div>"
      ],
      "text/plain": [
       "<IPython.core.display.HTML object>"
      ]
     },
     "metadata": {},
     "output_type": "display_data"
    },
    {
     "data": {
      "text/html": [
       " View run <strong style=\"color:#cdcd00\">XGBoost_Audio Ablated 1</strong> at: <a href='https://wandb.ai/lequn/AudioVisual_ML_ablation_study_v2/runs/z856en22' target=\"_blank\">https://wandb.ai/lequn/AudioVisual_ML_ablation_study_v2/runs/z856en22</a><br/> View job at <a href='https://wandb.ai/lequn/AudioVisual_ML_ablation_study_v2/jobs/QXJ0aWZhY3RDb2xsZWN0aW9uOjExMTQ1OTc4Ng==/version_details/v12' target=\"_blank\">https://wandb.ai/lequn/AudioVisual_ML_ablation_study_v2/jobs/QXJ0aWZhY3RDb2xsZWN0aW9uOjExMTQ1OTc4Ng==/version_details/v12</a><br/>Synced 6 W&B file(s), 0 media file(s), 0 artifact file(s) and 0 other file(s)"
      ],
      "text/plain": [
       "<IPython.core.display.HTML object>"
      ]
     },
     "metadata": {},
     "output_type": "display_data"
    },
    {
     "data": {
      "text/html": [
       "Find logs at: <code>./wandb/run-20231031_173110-z856en22/logs</code>"
      ],
      "text/plain": [
       "<IPython.core.display.HTML object>"
      ]
     },
     "metadata": {},
     "output_type": "display_data"
    },
    {
     "name": "stdout",
     "output_type": "stream",
     "text": [
      "\tTraining model: LightGBM\n"
     ]
    },
    {
     "data": {
      "application/vnd.jupyter.widget-view+json": {
       "model_id": "c80d3220e3d14e4ba12459e070542d85",
       "version_major": 2,
       "version_minor": 0
      },
      "text/plain": [
       "VBox(children=(Label(value='Waiting for wandb.init()...\\r'), FloatProgress(value=0.011113827111128356, max=1.0…"
      ]
     },
     "metadata": {},
     "output_type": "display_data"
    },
    {
     "data": {
      "text/html": [
       "Tracking run with wandb version 0.15.12"
      ],
      "text/plain": [
       "<IPython.core.display.HTML object>"
      ]
     },
     "metadata": {},
     "output_type": "display_data"
    },
    {
     "data": {
      "text/html": [
       "Run data is saved locally in <code>/home/chenlequn/GitHub/LDED-FusionNet/code/wandb/run-20231031_173249-l3znwviy</code>"
      ],
      "text/plain": [
       "<IPython.core.display.HTML object>"
      ]
     },
     "metadata": {},
     "output_type": "display_data"
    },
    {
     "data": {
      "text/html": [
       "Syncing run <strong><a href='https://wandb.ai/lequn/AudioVisual_ML_ablation_study_v2/runs/l3znwviy' target=\"_blank\">LightGBM_Audio Ablated 1</a></strong> to <a href='https://wandb.ai/lequn/AudioVisual_ML_ablation_study_v2' target=\"_blank\">Weights & Biases</a> (<a href='https://wandb.me/run' target=\"_blank\">docs</a>)<br/>"
      ],
      "text/plain": [
       "<IPython.core.display.HTML object>"
      ]
     },
     "metadata": {},
     "output_type": "display_data"
    },
    {
     "data": {
      "text/html": [
       " View project at <a href='https://wandb.ai/lequn/AudioVisual_ML_ablation_study_v2' target=\"_blank\">https://wandb.ai/lequn/AudioVisual_ML_ablation_study_v2</a>"
      ],
      "text/plain": [
       "<IPython.core.display.HTML object>"
      ]
     },
     "metadata": {},
     "output_type": "display_data"
    },
    {
     "data": {
      "text/html": [
       " View run at <a href='https://wandb.ai/lequn/AudioVisual_ML_ablation_study_v2/runs/l3znwviy' target=\"_blank\">https://wandb.ai/lequn/AudioVisual_ML_ablation_study_v2/runs/l3znwviy</a>"
      ],
      "text/plain": [
       "<IPython.core.display.HTML object>"
      ]
     },
     "metadata": {},
     "output_type": "display_data"
    },
    {
     "name": "stdout",
     "output_type": "stream",
     "text": [
      "\t\tAccuracy: Mean = 0.8741793934500983, Std = 0.006299070072354147\n",
      "\t\tF1 Score: Mean = 0.8727296126834052, Std = 0.0066231937603855396\n",
      "\t\tPrecision: Mean = 0.8728600996948757, Std = 0.006842252773787881\n",
      "\t\tRecall: Mean = 0.8741793934500983, Std = 0.006299070072354147\n",
      "\t\tROC-AUC: Mean = 0.9731900865759883, Std = 0.0020342322603311654\n"
     ]
    },
    {
     "data": {
      "text/html": [
       "Waiting for W&B process to finish... <strong style=\"color:green\">(success).</strong>"
      ],
      "text/plain": [
       "<IPython.core.display.HTML object>"
      ]
     },
     "metadata": {},
     "output_type": "display_data"
    },
    {
     "data": {
      "text/html": [
       "<style>\n",
       "    table.wandb td:nth-child(1) { padding: 0 10px; text-align: left ; width: auto;} td:nth-child(2) {text-align: left ; width: 100%}\n",
       "    .wandb-row { display: flex; flex-direction: row; flex-wrap: wrap; justify-content: flex-start; width: 100% }\n",
       "    .wandb-col { display: flex; flex-direction: column; flex-basis: 100%; flex: 1; padding: 10px; }\n",
       "    </style>\n",
       "<div class=\"wandb-row\"><div class=\"wandb-col\"><h3>Run history:</h3><br/><table class=\"wandb\"><tr><td>Accuracy_mean</td><td>▁</td></tr><tr><td>Accuracy_std</td><td>▁</td></tr><tr><td>F1 Score_mean</td><td>▁</td></tr><tr><td>F1 Score_std</td><td>▁</td></tr><tr><td>Precision_mean</td><td>▁</td></tr><tr><td>Precision_std</td><td>▁</td></tr><tr><td>ROC-AUC_mean</td><td>▁</td></tr><tr><td>ROC-AUC_std</td><td>▁</td></tr><tr><td>Recall_mean</td><td>▁</td></tr><tr><td>Recall_std</td><td>▁</td></tr></table><br/></div><div class=\"wandb-col\"><h3>Run summary:</h3><br/><table class=\"wandb\"><tr><td>Accuracy_mean</td><td>0.87418</td></tr><tr><td>Accuracy_std</td><td>0.0063</td></tr><tr><td>F1 Score_mean</td><td>0.87273</td></tr><tr><td>F1 Score_std</td><td>0.00662</td></tr><tr><td>Precision_mean</td><td>0.87286</td></tr><tr><td>Precision_std</td><td>0.00684</td></tr><tr><td>ROC-AUC_mean</td><td>0.97319</td></tr><tr><td>ROC-AUC_std</td><td>0.00203</td></tr><tr><td>Recall_mean</td><td>0.87418</td></tr><tr><td>Recall_std</td><td>0.0063</td></tr></table><br/></div></div>"
      ],
      "text/plain": [
       "<IPython.core.display.HTML object>"
      ]
     },
     "metadata": {},
     "output_type": "display_data"
    },
    {
     "data": {
      "text/html": [
       " View run <strong style=\"color:#cdcd00\">LightGBM_Audio Ablated 1</strong> at: <a href='https://wandb.ai/lequn/AudioVisual_ML_ablation_study_v2/runs/l3znwviy' target=\"_blank\">https://wandb.ai/lequn/AudioVisual_ML_ablation_study_v2/runs/l3znwviy</a><br/> View job at <a href='https://wandb.ai/lequn/AudioVisual_ML_ablation_study_v2/jobs/QXJ0aWZhY3RDb2xsZWN0aW9uOjExMTQ1OTc4Ng==/version_details/v12' target=\"_blank\">https://wandb.ai/lequn/AudioVisual_ML_ablation_study_v2/jobs/QXJ0aWZhY3RDb2xsZWN0aW9uOjExMTQ1OTc4Ng==/version_details/v12</a><br/>Synced 6 W&B file(s), 0 media file(s), 0 artifact file(s) and 0 other file(s)"
      ],
      "text/plain": [
       "<IPython.core.display.HTML object>"
      ]
     },
     "metadata": {},
     "output_type": "display_data"
    },
    {
     "data": {
      "text/html": [
       "Find logs at: <code>./wandb/run-20231031_173249-l3znwviy/logs</code>"
      ],
      "text/plain": [
       "<IPython.core.display.HTML object>"
      ]
     },
     "metadata": {},
     "output_type": "display_data"
    },
    {
     "name": "stdout",
     "output_type": "stream",
     "text": [
      "\tTraining model: SVM\n"
     ]
    },
    {
     "data": {
      "application/vnd.jupyter.widget-view+json": {
       "model_id": "7b5509ef42fa456aba52e85f6b91c1cf",
       "version_major": 2,
       "version_minor": 0
      },
      "text/plain": [
       "VBox(children=(Label(value='Waiting for wandb.init()...\\r'), FloatProgress(value=0.011113721033325419, max=1.0…"
      ]
     },
     "metadata": {},
     "output_type": "display_data"
    },
    {
     "data": {
      "text/html": [
       "Tracking run with wandb version 0.15.12"
      ],
      "text/plain": [
       "<IPython.core.display.HTML object>"
      ]
     },
     "metadata": {},
     "output_type": "display_data"
    },
    {
     "data": {
      "text/html": [
       "Run data is saved locally in <code>/home/chenlequn/GitHub/LDED-FusionNet/code/wandb/run-20231031_173310-0ygjdr5k</code>"
      ],
      "text/plain": [
       "<IPython.core.display.HTML object>"
      ]
     },
     "metadata": {},
     "output_type": "display_data"
    },
    {
     "data": {
      "text/html": [
       "Syncing run <strong><a href='https://wandb.ai/lequn/AudioVisual_ML_ablation_study_v2/runs/0ygjdr5k' target=\"_blank\">SVM_Audio Ablated 1</a></strong> to <a href='https://wandb.ai/lequn/AudioVisual_ML_ablation_study_v2' target=\"_blank\">Weights & Biases</a> (<a href='https://wandb.me/run' target=\"_blank\">docs</a>)<br/>"
      ],
      "text/plain": [
       "<IPython.core.display.HTML object>"
      ]
     },
     "metadata": {},
     "output_type": "display_data"
    },
    {
     "data": {
      "text/html": [
       " View project at <a href='https://wandb.ai/lequn/AudioVisual_ML_ablation_study_v2' target=\"_blank\">https://wandb.ai/lequn/AudioVisual_ML_ablation_study_v2</a>"
      ],
      "text/plain": [
       "<IPython.core.display.HTML object>"
      ]
     },
     "metadata": {},
     "output_type": "display_data"
    },
    {
     "data": {
      "text/html": [
       " View run at <a href='https://wandb.ai/lequn/AudioVisual_ML_ablation_study_v2/runs/0ygjdr5k' target=\"_blank\">https://wandb.ai/lequn/AudioVisual_ML_ablation_study_v2/runs/0ygjdr5k</a>"
      ],
      "text/plain": [
       "<IPython.core.display.HTML object>"
      ]
     },
     "metadata": {},
     "output_type": "display_data"
    },
    {
     "name": "stdout",
     "output_type": "stream",
     "text": [
      "\t\tAccuracy: Mean = 0.8224809939225404, Std = 0.009578030526729765\n",
      "\t\tF1 Score: Mean = 0.8219307339291595, Std = 0.00971312434720058\n",
      "\t\tPrecision: Mean = 0.8228109788250626, Std = 0.00938619161933505\n",
      "\t\tRecall: Mean = 0.8224809939225404, Std = 0.009578030526729765\n",
      "\t\tROC-AUC: Mean = 0.9566431565614512, Std = 0.004498282961795887\n"
     ]
    },
    {
     "data": {
      "text/html": [
       "Waiting for W&B process to finish... <strong style=\"color:green\">(success).</strong>"
      ],
      "text/plain": [
       "<IPython.core.display.HTML object>"
      ]
     },
     "metadata": {},
     "output_type": "display_data"
    },
    {
     "data": {
      "application/vnd.jupyter.widget-view+json": {
       "model_id": "43948f5ece844e44bfce5c993041aca3",
       "version_major": 2,
       "version_minor": 0
      },
      "text/plain": [
       "VBox(children=(Label(value='0.002 MB of 0.002 MB uploaded (0.000 MB deduped)\\r'), FloatProgress(value=1.0, max…"
      ]
     },
     "metadata": {},
     "output_type": "display_data"
    },
    {
     "data": {
      "text/html": [
       "<style>\n",
       "    table.wandb td:nth-child(1) { padding: 0 10px; text-align: left ; width: auto;} td:nth-child(2) {text-align: left ; width: 100%}\n",
       "    .wandb-row { display: flex; flex-direction: row; flex-wrap: wrap; justify-content: flex-start; width: 100% }\n",
       "    .wandb-col { display: flex; flex-direction: column; flex-basis: 100%; flex: 1; padding: 10px; }\n",
       "    </style>\n",
       "<div class=\"wandb-row\"><div class=\"wandb-col\"><h3>Run history:</h3><br/><table class=\"wandb\"><tr><td>Accuracy_mean</td><td>▁</td></tr><tr><td>Accuracy_std</td><td>▁</td></tr><tr><td>F1 Score_mean</td><td>▁</td></tr><tr><td>F1 Score_std</td><td>▁</td></tr><tr><td>Precision_mean</td><td>▁</td></tr><tr><td>Precision_std</td><td>▁</td></tr><tr><td>ROC-AUC_mean</td><td>▁</td></tr><tr><td>ROC-AUC_std</td><td>▁</td></tr><tr><td>Recall_mean</td><td>▁</td></tr><tr><td>Recall_std</td><td>▁</td></tr></table><br/></div><div class=\"wandb-col\"><h3>Run summary:</h3><br/><table class=\"wandb\"><tr><td>Accuracy_mean</td><td>0.82248</td></tr><tr><td>Accuracy_std</td><td>0.00958</td></tr><tr><td>F1 Score_mean</td><td>0.82193</td></tr><tr><td>F1 Score_std</td><td>0.00971</td></tr><tr><td>Precision_mean</td><td>0.82281</td></tr><tr><td>Precision_std</td><td>0.00939</td></tr><tr><td>ROC-AUC_mean</td><td>0.95664</td></tr><tr><td>ROC-AUC_std</td><td>0.0045</td></tr><tr><td>Recall_mean</td><td>0.82248</td></tr><tr><td>Recall_std</td><td>0.00958</td></tr></table><br/></div></div>"
      ],
      "text/plain": [
       "<IPython.core.display.HTML object>"
      ]
     },
     "metadata": {},
     "output_type": "display_data"
    },
    {
     "data": {
      "text/html": [
       " View run <strong style=\"color:#cdcd00\">SVM_Audio Ablated 1</strong> at: <a href='https://wandb.ai/lequn/AudioVisual_ML_ablation_study_v2/runs/0ygjdr5k' target=\"_blank\">https://wandb.ai/lequn/AudioVisual_ML_ablation_study_v2/runs/0ygjdr5k</a><br/> View job at <a href='https://wandb.ai/lequn/AudioVisual_ML_ablation_study_v2/jobs/QXJ0aWZhY3RDb2xsZWN0aW9uOjExMTQ1OTc4Ng==/version_details/v12' target=\"_blank\">https://wandb.ai/lequn/AudioVisual_ML_ablation_study_v2/jobs/QXJ0aWZhY3RDb2xsZWN0aW9uOjExMTQ1OTc4Ng==/version_details/v12</a><br/>Synced 6 W&B file(s), 0 media file(s), 0 artifact file(s) and 0 other file(s)"
      ],
      "text/plain": [
       "<IPython.core.display.HTML object>"
      ]
     },
     "metadata": {},
     "output_type": "display_data"
    },
    {
     "data": {
      "text/html": [
       "Find logs at: <code>./wandb/run-20231031_173310-0ygjdr5k/logs</code>"
      ],
      "text/plain": [
       "<IPython.core.display.HTML object>"
      ]
     },
     "metadata": {},
     "output_type": "display_data"
    },
    {
     "name": "stdout",
     "output_type": "stream",
     "text": [
      "\tTraining model: HistGB\n"
     ]
    },
    {
     "data": {
      "application/vnd.jupyter.widget-view+json": {
       "model_id": "1d4365ac42824044a8056d3fdfeee911",
       "version_major": 2,
       "version_minor": 0
      },
      "text/plain": [
       "VBox(children=(Label(value='Waiting for wandb.init()...\\r'), FloatProgress(value=0.011113428177810015, max=1.0…"
      ]
     },
     "metadata": {},
     "output_type": "display_data"
    },
    {
     "data": {
      "text/html": [
       "Tracking run with wandb version 0.15.12"
      ],
      "text/plain": [
       "<IPython.core.display.HTML object>"
      ]
     },
     "metadata": {},
     "output_type": "display_data"
    },
    {
     "data": {
      "text/html": [
       "Run data is saved locally in <code>/home/chenlequn/GitHub/LDED-FusionNet/code/wandb/run-20231031_173341-8fsurqfc</code>"
      ],
      "text/plain": [
       "<IPython.core.display.HTML object>"
      ]
     },
     "metadata": {},
     "output_type": "display_data"
    },
    {
     "data": {
      "text/html": [
       "Syncing run <strong><a href='https://wandb.ai/lequn/AudioVisual_ML_ablation_study_v2/runs/8fsurqfc' target=\"_blank\">HistGB_Audio Ablated 1</a></strong> to <a href='https://wandb.ai/lequn/AudioVisual_ML_ablation_study_v2' target=\"_blank\">Weights & Biases</a> (<a href='https://wandb.me/run' target=\"_blank\">docs</a>)<br/>"
      ],
      "text/plain": [
       "<IPython.core.display.HTML object>"
      ]
     },
     "metadata": {},
     "output_type": "display_data"
    },
    {
     "data": {
      "text/html": [
       " View project at <a href='https://wandb.ai/lequn/AudioVisual_ML_ablation_study_v2' target=\"_blank\">https://wandb.ai/lequn/AudioVisual_ML_ablation_study_v2</a>"
      ],
      "text/plain": [
       "<IPython.core.display.HTML object>"
      ]
     },
     "metadata": {},
     "output_type": "display_data"
    },
    {
     "data": {
      "text/html": [
       " View run at <a href='https://wandb.ai/lequn/AudioVisual_ML_ablation_study_v2/runs/8fsurqfc' target=\"_blank\">https://wandb.ai/lequn/AudioVisual_ML_ablation_study_v2/runs/8fsurqfc</a>"
      ],
      "text/plain": [
       "<IPython.core.display.HTML object>"
      ]
     },
     "metadata": {},
     "output_type": "display_data"
    },
    {
     "name": "stdout",
     "output_type": "stream",
     "text": [
      "\t\tAccuracy: Mean = 0.8588646438369476, Std = 0.009090168384089497\n",
      "\t\tF1 Score: Mean = 0.8568335229802582, Std = 0.009703735679714193\n",
      "\t\tPrecision: Mean = 0.8574800182218196, Std = 0.009986253391722329\n",
      "\t\tRecall: Mean = 0.8588646438369476, Std = 0.009090168384089497\n",
      "\t\tROC-AUC: Mean = 0.9677138051822993, Std = 0.0033762551287234103\n"
     ]
    },
    {
     "data": {
      "text/html": [
       "Waiting for W&B process to finish... <strong style=\"color:green\">(success).</strong>"
      ],
      "text/plain": [
       "<IPython.core.display.HTML object>"
      ]
     },
     "metadata": {},
     "output_type": "display_data"
    },
    {
     "data": {
      "text/html": [
       "<style>\n",
       "    table.wandb td:nth-child(1) { padding: 0 10px; text-align: left ; width: auto;} td:nth-child(2) {text-align: left ; width: 100%}\n",
       "    .wandb-row { display: flex; flex-direction: row; flex-wrap: wrap; justify-content: flex-start; width: 100% }\n",
       "    .wandb-col { display: flex; flex-direction: column; flex-basis: 100%; flex: 1; padding: 10px; }\n",
       "    </style>\n",
       "<div class=\"wandb-row\"><div class=\"wandb-col\"><h3>Run history:</h3><br/><table class=\"wandb\"><tr><td>Accuracy_mean</td><td>▁</td></tr><tr><td>Accuracy_std</td><td>▁</td></tr><tr><td>F1 Score_mean</td><td>▁</td></tr><tr><td>F1 Score_std</td><td>▁</td></tr><tr><td>Precision_mean</td><td>▁</td></tr><tr><td>Precision_std</td><td>▁</td></tr><tr><td>ROC-AUC_mean</td><td>▁</td></tr><tr><td>ROC-AUC_std</td><td>▁</td></tr><tr><td>Recall_mean</td><td>▁</td></tr><tr><td>Recall_std</td><td>▁</td></tr></table><br/></div><div class=\"wandb-col\"><h3>Run summary:</h3><br/><table class=\"wandb\"><tr><td>Accuracy_mean</td><td>0.85886</td></tr><tr><td>Accuracy_std</td><td>0.00909</td></tr><tr><td>F1 Score_mean</td><td>0.85683</td></tr><tr><td>F1 Score_std</td><td>0.0097</td></tr><tr><td>Precision_mean</td><td>0.85748</td></tr><tr><td>Precision_std</td><td>0.00999</td></tr><tr><td>ROC-AUC_mean</td><td>0.96771</td></tr><tr><td>ROC-AUC_std</td><td>0.00338</td></tr><tr><td>Recall_mean</td><td>0.85886</td></tr><tr><td>Recall_std</td><td>0.00909</td></tr></table><br/></div></div>"
      ],
      "text/plain": [
       "<IPython.core.display.HTML object>"
      ]
     },
     "metadata": {},
     "output_type": "display_data"
    },
    {
     "data": {
      "text/html": [
       " View run <strong style=\"color:#cdcd00\">HistGB_Audio Ablated 1</strong> at: <a href='https://wandb.ai/lequn/AudioVisual_ML_ablation_study_v2/runs/8fsurqfc' target=\"_blank\">https://wandb.ai/lequn/AudioVisual_ML_ablation_study_v2/runs/8fsurqfc</a><br/> View job at <a href='https://wandb.ai/lequn/AudioVisual_ML_ablation_study_v2/jobs/QXJ0aWZhY3RDb2xsZWN0aW9uOjExMTQ1OTc4Ng==/version_details/v12' target=\"_blank\">https://wandb.ai/lequn/AudioVisual_ML_ablation_study_v2/jobs/QXJ0aWZhY3RDb2xsZWN0aW9uOjExMTQ1OTc4Ng==/version_details/v12</a><br/>Synced 6 W&B file(s), 0 media file(s), 0 artifact file(s) and 0 other file(s)"
      ],
      "text/plain": [
       "<IPython.core.display.HTML object>"
      ]
     },
     "metadata": {},
     "output_type": "display_data"
    },
    {
     "data": {
      "text/html": [
       "Find logs at: <code>./wandb/run-20231031_173341-8fsurqfc/logs</code>"
      ],
      "text/plain": [
       "<IPython.core.display.HTML object>"
      ]
     },
     "metadata": {},
     "output_type": "display_data"
    },
    {
     "name": "stdout",
     "output_type": "stream",
     "text": [
      "Processing dataset: Vision Ablated 1\n",
      "\tTraining model: KNN\n"
     ]
    },
    {
     "data": {
      "application/vnd.jupyter.widget-view+json": {
       "model_id": "95781190ab7e4d5393e36fb5b6eea34a",
       "version_major": 2,
       "version_minor": 0
      },
      "text/plain": [
       "VBox(children=(Label(value='Waiting for wandb.init()...\\r'), FloatProgress(value=0.011114032944412126, max=1.0…"
      ]
     },
     "metadata": {},
     "output_type": "display_data"
    },
    {
     "data": {
      "text/html": [
       "Tracking run with wandb version 0.15.12"
      ],
      "text/plain": [
       "<IPython.core.display.HTML object>"
      ]
     },
     "metadata": {},
     "output_type": "display_data"
    },
    {
     "data": {
      "text/html": [
       "Run data is saved locally in <code>/home/chenlequn/GitHub/LDED-FusionNet/code/wandb/run-20231031_173359-nvqef5qx</code>"
      ],
      "text/plain": [
       "<IPython.core.display.HTML object>"
      ]
     },
     "metadata": {},
     "output_type": "display_data"
    },
    {
     "data": {
      "text/html": [
       "Syncing run <strong><a href='https://wandb.ai/lequn/AudioVisual_ML_ablation_study_v2/runs/nvqef5qx' target=\"_blank\">KNN_Vision Ablated 1</a></strong> to <a href='https://wandb.ai/lequn/AudioVisual_ML_ablation_study_v2' target=\"_blank\">Weights & Biases</a> (<a href='https://wandb.me/run' target=\"_blank\">docs</a>)<br/>"
      ],
      "text/plain": [
       "<IPython.core.display.HTML object>"
      ]
     },
     "metadata": {},
     "output_type": "display_data"
    },
    {
     "data": {
      "text/html": [
       " View project at <a href='https://wandb.ai/lequn/AudioVisual_ML_ablation_study_v2' target=\"_blank\">https://wandb.ai/lequn/AudioVisual_ML_ablation_study_v2</a>"
      ],
      "text/plain": [
       "<IPython.core.display.HTML object>"
      ]
     },
     "metadata": {},
     "output_type": "display_data"
    },
    {
     "data": {
      "text/html": [
       " View run at <a href='https://wandb.ai/lequn/AudioVisual_ML_ablation_study_v2/runs/nvqef5qx' target=\"_blank\">https://wandb.ai/lequn/AudioVisual_ML_ablation_study_v2/runs/nvqef5qx</a>"
      ],
      "text/plain": [
       "<IPython.core.display.HTML object>"
      ]
     },
     "metadata": {},
     "output_type": "display_data"
    },
    {
     "name": "stdout",
     "output_type": "stream",
     "text": [
      "\t\tAccuracy: Mean = 0.8911432052805873, Std = 0.012590179819250986\n",
      "\t\tF1 Score: Mean = 0.8910773689301044, Std = 0.012587472352993654\n",
      "\t\tPrecision: Mean = 0.8922734755135519, Std = 0.01197837052122251\n",
      "\t\tRecall: Mean = 0.8911432052805873, Std = 0.012590179819250986\n",
      "\t\tROC-AUC: Mean = 0.9790267453731092, Std = 0.004028886207956908\n"
     ]
    },
    {
     "data": {
      "text/html": [
       "Waiting for W&B process to finish... <strong style=\"color:green\">(success).</strong>"
      ],
      "text/plain": [
       "<IPython.core.display.HTML object>"
      ]
     },
     "metadata": {},
     "output_type": "display_data"
    },
    {
     "data": {
      "application/vnd.jupyter.widget-view+json": {
       "model_id": "b63da126b8a94f83a521e5097a88c641",
       "version_major": 2,
       "version_minor": 0
      },
      "text/plain": [
       "VBox(children=(Label(value='0.002 MB of 0.002 MB uploaded (0.000 MB deduped)\\r'), FloatProgress(value=1.0, max…"
      ]
     },
     "metadata": {},
     "output_type": "display_data"
    },
    {
     "data": {
      "text/html": [
       "<style>\n",
       "    table.wandb td:nth-child(1) { padding: 0 10px; text-align: left ; width: auto;} td:nth-child(2) {text-align: left ; width: 100%}\n",
       "    .wandb-row { display: flex; flex-direction: row; flex-wrap: wrap; justify-content: flex-start; width: 100% }\n",
       "    .wandb-col { display: flex; flex-direction: column; flex-basis: 100%; flex: 1; padding: 10px; }\n",
       "    </style>\n",
       "<div class=\"wandb-row\"><div class=\"wandb-col\"><h3>Run history:</h3><br/><table class=\"wandb\"><tr><td>Accuracy_mean</td><td>▁</td></tr><tr><td>Accuracy_std</td><td>▁</td></tr><tr><td>F1 Score_mean</td><td>▁</td></tr><tr><td>F1 Score_std</td><td>▁</td></tr><tr><td>Precision_mean</td><td>▁</td></tr><tr><td>Precision_std</td><td>▁</td></tr><tr><td>ROC-AUC_mean</td><td>▁</td></tr><tr><td>ROC-AUC_std</td><td>▁</td></tr><tr><td>Recall_mean</td><td>▁</td></tr><tr><td>Recall_std</td><td>▁</td></tr></table><br/></div><div class=\"wandb-col\"><h3>Run summary:</h3><br/><table class=\"wandb\"><tr><td>Accuracy_mean</td><td>0.89114</td></tr><tr><td>Accuracy_std</td><td>0.01259</td></tr><tr><td>F1 Score_mean</td><td>0.89108</td></tr><tr><td>F1 Score_std</td><td>0.01259</td></tr><tr><td>Precision_mean</td><td>0.89227</td></tr><tr><td>Precision_std</td><td>0.01198</td></tr><tr><td>ROC-AUC_mean</td><td>0.97903</td></tr><tr><td>ROC-AUC_std</td><td>0.00403</td></tr><tr><td>Recall_mean</td><td>0.89114</td></tr><tr><td>Recall_std</td><td>0.01259</td></tr></table><br/></div></div>"
      ],
      "text/plain": [
       "<IPython.core.display.HTML object>"
      ]
     },
     "metadata": {},
     "output_type": "display_data"
    },
    {
     "data": {
      "text/html": [
       " View run <strong style=\"color:#cdcd00\">KNN_Vision Ablated 1</strong> at: <a href='https://wandb.ai/lequn/AudioVisual_ML_ablation_study_v2/runs/nvqef5qx' target=\"_blank\">https://wandb.ai/lequn/AudioVisual_ML_ablation_study_v2/runs/nvqef5qx</a><br/> View job at <a href='https://wandb.ai/lequn/AudioVisual_ML_ablation_study_v2/jobs/QXJ0aWZhY3RDb2xsZWN0aW9uOjExMTQ1OTc4Ng==/version_details/v12' target=\"_blank\">https://wandb.ai/lequn/AudioVisual_ML_ablation_study_v2/jobs/QXJ0aWZhY3RDb2xsZWN0aW9uOjExMTQ1OTc4Ng==/version_details/v12</a><br/>Synced 6 W&B file(s), 0 media file(s), 0 artifact file(s) and 0 other file(s)"
      ],
      "text/plain": [
       "<IPython.core.display.HTML object>"
      ]
     },
     "metadata": {},
     "output_type": "display_data"
    },
    {
     "data": {
      "text/html": [
       "Find logs at: <code>./wandb/run-20231031_173359-nvqef5qx/logs</code>"
      ],
      "text/plain": [
       "<IPython.core.display.HTML object>"
      ]
     },
     "metadata": {},
     "output_type": "display_data"
    },
    {
     "name": "stdout",
     "output_type": "stream",
     "text": [
      "\tTraining model: DT\n"
     ]
    },
    {
     "data": {
      "application/vnd.jupyter.widget-view+json": {
       "model_id": "50a48b22f61e4a2f8df4791e9750e76f",
       "version_major": 2,
       "version_minor": 0
      },
      "text/plain": [
       "VBox(children=(Label(value='Waiting for wandb.init()...\\r'), FloatProgress(value=0.011114172466558455, max=1.0…"
      ]
     },
     "metadata": {},
     "output_type": "display_data"
    },
    {
     "data": {
      "text/html": [
       "Tracking run with wandb version 0.15.12"
      ],
      "text/plain": [
       "<IPython.core.display.HTML object>"
      ]
     },
     "metadata": {},
     "output_type": "display_data"
    },
    {
     "data": {
      "text/html": [
       "Run data is saved locally in <code>/home/chenlequn/GitHub/LDED-FusionNet/code/wandb/run-20231031_173416-mmso8na2</code>"
      ],
      "text/plain": [
       "<IPython.core.display.HTML object>"
      ]
     },
     "metadata": {},
     "output_type": "display_data"
    },
    {
     "data": {
      "text/html": [
       "Syncing run <strong><a href='https://wandb.ai/lequn/AudioVisual_ML_ablation_study_v2/runs/mmso8na2' target=\"_blank\">DT_Vision Ablated 1</a></strong> to <a href='https://wandb.ai/lequn/AudioVisual_ML_ablation_study_v2' target=\"_blank\">Weights & Biases</a> (<a href='https://wandb.me/run' target=\"_blank\">docs</a>)<br/>"
      ],
      "text/plain": [
       "<IPython.core.display.HTML object>"
      ]
     },
     "metadata": {},
     "output_type": "display_data"
    },
    {
     "data": {
      "text/html": [
       " View project at <a href='https://wandb.ai/lequn/AudioVisual_ML_ablation_study_v2' target=\"_blank\">https://wandb.ai/lequn/AudioVisual_ML_ablation_study_v2</a>"
      ],
      "text/plain": [
       "<IPython.core.display.HTML object>"
      ]
     },
     "metadata": {},
     "output_type": "display_data"
    },
    {
     "data": {
      "text/html": [
       " View run at <a href='https://wandb.ai/lequn/AudioVisual_ML_ablation_study_v2/runs/mmso8na2' target=\"_blank\">https://wandb.ai/lequn/AudioVisual_ML_ablation_study_v2/runs/mmso8na2</a>"
      ],
      "text/plain": [
       "<IPython.core.display.HTML object>"
      ]
     },
     "metadata": {},
     "output_type": "display_data"
    },
    {
     "name": "stdout",
     "output_type": "stream",
     "text": [
      "\t\tAccuracy: Mean = 0.8766440163560658, Std = 0.006495451012679295\n",
      "\t\tF1 Score: Mean = 0.8764337728791707, Std = 0.006527402633186239\n",
      "\t\tPrecision: Mean = 0.8772150074932595, Std = 0.006163390135015148\n",
      "\t\tRecall: Mean = 0.8766440163560658, Std = 0.006495451012679295\n",
      "\t\tROC-AUC: Mean = 0.9457294705527112, Std = 0.006917747138509306\n"
     ]
    },
    {
     "data": {
      "text/html": [
       "Waiting for W&B process to finish... <strong style=\"color:green\">(success).</strong>"
      ],
      "text/plain": [
       "<IPython.core.display.HTML object>"
      ]
     },
     "metadata": {},
     "output_type": "display_data"
    },
    {
     "data": {
      "text/html": [
       "<style>\n",
       "    table.wandb td:nth-child(1) { padding: 0 10px; text-align: left ; width: auto;} td:nth-child(2) {text-align: left ; width: 100%}\n",
       "    .wandb-row { display: flex; flex-direction: row; flex-wrap: wrap; justify-content: flex-start; width: 100% }\n",
       "    .wandb-col { display: flex; flex-direction: column; flex-basis: 100%; flex: 1; padding: 10px; }\n",
       "    </style>\n",
       "<div class=\"wandb-row\"><div class=\"wandb-col\"><h3>Run history:</h3><br/><table class=\"wandb\"><tr><td>Accuracy_mean</td><td>▁</td></tr><tr><td>Accuracy_std</td><td>▁</td></tr><tr><td>F1 Score_mean</td><td>▁</td></tr><tr><td>F1 Score_std</td><td>▁</td></tr><tr><td>Precision_mean</td><td>▁</td></tr><tr><td>Precision_std</td><td>▁</td></tr><tr><td>ROC-AUC_mean</td><td>▁</td></tr><tr><td>ROC-AUC_std</td><td>▁</td></tr><tr><td>Recall_mean</td><td>▁</td></tr><tr><td>Recall_std</td><td>▁</td></tr></table><br/></div><div class=\"wandb-col\"><h3>Run summary:</h3><br/><table class=\"wandb\"><tr><td>Accuracy_mean</td><td>0.87664</td></tr><tr><td>Accuracy_std</td><td>0.0065</td></tr><tr><td>F1 Score_mean</td><td>0.87643</td></tr><tr><td>F1 Score_std</td><td>0.00653</td></tr><tr><td>Precision_mean</td><td>0.87722</td></tr><tr><td>Precision_std</td><td>0.00616</td></tr><tr><td>ROC-AUC_mean</td><td>0.94573</td></tr><tr><td>ROC-AUC_std</td><td>0.00692</td></tr><tr><td>Recall_mean</td><td>0.87664</td></tr><tr><td>Recall_std</td><td>0.0065</td></tr></table><br/></div></div>"
      ],
      "text/plain": [
       "<IPython.core.display.HTML object>"
      ]
     },
     "metadata": {},
     "output_type": "display_data"
    },
    {
     "data": {
      "text/html": [
       " View run <strong style=\"color:#cdcd00\">DT_Vision Ablated 1</strong> at: <a href='https://wandb.ai/lequn/AudioVisual_ML_ablation_study_v2/runs/mmso8na2' target=\"_blank\">https://wandb.ai/lequn/AudioVisual_ML_ablation_study_v2/runs/mmso8na2</a><br/> View job at <a href='https://wandb.ai/lequn/AudioVisual_ML_ablation_study_v2/jobs/QXJ0aWZhY3RDb2xsZWN0aW9uOjExMTQ1OTc4Ng==/version_details/v12' target=\"_blank\">https://wandb.ai/lequn/AudioVisual_ML_ablation_study_v2/jobs/QXJ0aWZhY3RDb2xsZWN0aW9uOjExMTQ1OTc4Ng==/version_details/v12</a><br/>Synced 6 W&B file(s), 0 media file(s), 0 artifact file(s) and 0 other file(s)"
      ],
      "text/plain": [
       "<IPython.core.display.HTML object>"
      ]
     },
     "metadata": {},
     "output_type": "display_data"
    },
    {
     "data": {
      "text/html": [
       "Find logs at: <code>./wandb/run-20231031_173416-mmso8na2/logs</code>"
      ],
      "text/plain": [
       "<IPython.core.display.HTML object>"
      ]
     },
     "metadata": {},
     "output_type": "display_data"
    },
    {
     "name": "stdout",
     "output_type": "stream",
     "text": [
      "\tTraining model: RF\n"
     ]
    },
    {
     "data": {
      "application/vnd.jupyter.widget-view+json": {
       "model_id": "1ec2930fd5a64149a4d5a70a84d8c4d6",
       "version_major": 2,
       "version_minor": 0
      },
      "text/plain": [
       "VBox(children=(Label(value='Waiting for wandb.init()...\\r'), FloatProgress(value=0.011114109355548862, max=1.0…"
      ]
     },
     "metadata": {},
     "output_type": "display_data"
    },
    {
     "data": {
      "text/html": [
       "Tracking run with wandb version 0.15.12"
      ],
      "text/plain": [
       "<IPython.core.display.HTML object>"
      ]
     },
     "metadata": {},
     "output_type": "display_data"
    },
    {
     "data": {
      "text/html": [
       "Run data is saved locally in <code>/home/chenlequn/GitHub/LDED-FusionNet/code/wandb/run-20231031_173432-1du76e58</code>"
      ],
      "text/plain": [
       "<IPython.core.display.HTML object>"
      ]
     },
     "metadata": {},
     "output_type": "display_data"
    },
    {
     "data": {
      "text/html": [
       "Syncing run <strong><a href='https://wandb.ai/lequn/AudioVisual_ML_ablation_study_v2/runs/1du76e58' target=\"_blank\">RF_Vision Ablated 1</a></strong> to <a href='https://wandb.ai/lequn/AudioVisual_ML_ablation_study_v2' target=\"_blank\">Weights & Biases</a> (<a href='https://wandb.me/run' target=\"_blank\">docs</a>)<br/>"
      ],
      "text/plain": [
       "<IPython.core.display.HTML object>"
      ]
     },
     "metadata": {},
     "output_type": "display_data"
    },
    {
     "data": {
      "text/html": [
       " View project at <a href='https://wandb.ai/lequn/AudioVisual_ML_ablation_study_v2' target=\"_blank\">https://wandb.ai/lequn/AudioVisual_ML_ablation_study_v2</a>"
      ],
      "text/plain": [
       "<IPython.core.display.HTML object>"
      ]
     },
     "metadata": {},
     "output_type": "display_data"
    },
    {
     "data": {
      "text/html": [
       " View run at <a href='https://wandb.ai/lequn/AudioVisual_ML_ablation_study_v2/runs/1du76e58' target=\"_blank\">https://wandb.ai/lequn/AudioVisual_ML_ablation_study_v2/runs/1du76e58</a>"
      ],
      "text/plain": [
       "<IPython.core.display.HTML object>"
      ]
     },
     "metadata": {},
     "output_type": "display_data"
    },
    {
     "name": "stdout",
     "output_type": "stream",
     "text": [
      "\t\tAccuracy: Mean = 0.9009856249018859, Std = 0.008085628004892853\n",
      "\t\tF1 Score: Mean = 0.9012884140337556, Std = 0.007908247031412097\n",
      "\t\tPrecision: Mean = 0.9023821434777322, Std = 0.007608379101496797\n",
      "\t\tRecall: Mean = 0.9009856249018859, Std = 0.008085628004892853\n",
      "\t\tROC-AUC: Mean = 0.9858402106697731, Std = 0.002763795848164625\n"
     ]
    },
    {
     "data": {
      "text/html": [
       "Waiting for W&B process to finish... <strong style=\"color:green\">(success).</strong>"
      ],
      "text/plain": [
       "<IPython.core.display.HTML object>"
      ]
     },
     "metadata": {},
     "output_type": "display_data"
    },
    {
     "data": {
      "application/vnd.jupyter.widget-view+json": {
       "model_id": "b69c1f0a48fb4821a4c26cc60b5cfdaa",
       "version_major": 2,
       "version_minor": 0
      },
      "text/plain": [
       "VBox(children=(Label(value='0.002 MB of 0.002 MB uploaded (0.000 MB deduped)\\r'), FloatProgress(value=1.0, max…"
      ]
     },
     "metadata": {},
     "output_type": "display_data"
    },
    {
     "data": {
      "text/html": [
       "<style>\n",
       "    table.wandb td:nth-child(1) { padding: 0 10px; text-align: left ; width: auto;} td:nth-child(2) {text-align: left ; width: 100%}\n",
       "    .wandb-row { display: flex; flex-direction: row; flex-wrap: wrap; justify-content: flex-start; width: 100% }\n",
       "    .wandb-col { display: flex; flex-direction: column; flex-basis: 100%; flex: 1; padding: 10px; }\n",
       "    </style>\n",
       "<div class=\"wandb-row\"><div class=\"wandb-col\"><h3>Run history:</h3><br/><table class=\"wandb\"><tr><td>Accuracy_mean</td><td>▁</td></tr><tr><td>Accuracy_std</td><td>▁</td></tr><tr><td>F1 Score_mean</td><td>▁</td></tr><tr><td>F1 Score_std</td><td>▁</td></tr><tr><td>Precision_mean</td><td>▁</td></tr><tr><td>Precision_std</td><td>▁</td></tr><tr><td>ROC-AUC_mean</td><td>▁</td></tr><tr><td>ROC-AUC_std</td><td>▁</td></tr><tr><td>Recall_mean</td><td>▁</td></tr><tr><td>Recall_std</td><td>▁</td></tr></table><br/></div><div class=\"wandb-col\"><h3>Run summary:</h3><br/><table class=\"wandb\"><tr><td>Accuracy_mean</td><td>0.90099</td></tr><tr><td>Accuracy_std</td><td>0.00809</td></tr><tr><td>F1 Score_mean</td><td>0.90129</td></tr><tr><td>F1 Score_std</td><td>0.00791</td></tr><tr><td>Precision_mean</td><td>0.90238</td></tr><tr><td>Precision_std</td><td>0.00761</td></tr><tr><td>ROC-AUC_mean</td><td>0.98584</td></tr><tr><td>ROC-AUC_std</td><td>0.00276</td></tr><tr><td>Recall_mean</td><td>0.90099</td></tr><tr><td>Recall_std</td><td>0.00809</td></tr></table><br/></div></div>"
      ],
      "text/plain": [
       "<IPython.core.display.HTML object>"
      ]
     },
     "metadata": {},
     "output_type": "display_data"
    },
    {
     "data": {
      "text/html": [
       " View run <strong style=\"color:#cdcd00\">RF_Vision Ablated 1</strong> at: <a href='https://wandb.ai/lequn/AudioVisual_ML_ablation_study_v2/runs/1du76e58' target=\"_blank\">https://wandb.ai/lequn/AudioVisual_ML_ablation_study_v2/runs/1du76e58</a><br/> View job at <a href='https://wandb.ai/lequn/AudioVisual_ML_ablation_study_v2/jobs/QXJ0aWZhY3RDb2xsZWN0aW9uOjExMTQ1OTc4Ng==/version_details/v12' target=\"_blank\">https://wandb.ai/lequn/AudioVisual_ML_ablation_study_v2/jobs/QXJ0aWZhY3RDb2xsZWN0aW9uOjExMTQ1OTc4Ng==/version_details/v12</a><br/>Synced 6 W&B file(s), 0 media file(s), 0 artifact file(s) and 0 other file(s)"
      ],
      "text/plain": [
       "<IPython.core.display.HTML object>"
      ]
     },
     "metadata": {},
     "output_type": "display_data"
    },
    {
     "data": {
      "text/html": [
       "Find logs at: <code>./wandb/run-20231031_173432-1du76e58/logs</code>"
      ],
      "text/plain": [
       "<IPython.core.display.HTML object>"
      ]
     },
     "metadata": {},
     "output_type": "display_data"
    },
    {
     "name": "stdout",
     "output_type": "stream",
     "text": [
      "\tTraining model: BalancedRF\n"
     ]
    },
    {
     "data": {
      "application/vnd.jupyter.widget-view+json": {
       "model_id": "cf9816e28e134d5c8c95f462e2b8c1a6",
       "version_major": 2,
       "version_minor": 0
      },
      "text/plain": [
       "VBox(children=(Label(value='Waiting for wandb.init()...\\r'), FloatProgress(value=0.011113372066756711, max=1.0…"
      ]
     },
     "metadata": {},
     "output_type": "display_data"
    },
    {
     "data": {
      "text/html": [
       "Tracking run with wandb version 0.15.12"
      ],
      "text/plain": [
       "<IPython.core.display.HTML object>"
      ]
     },
     "metadata": {},
     "output_type": "display_data"
    },
    {
     "data": {
      "text/html": [
       "Run data is saved locally in <code>/home/chenlequn/GitHub/LDED-FusionNet/code/wandb/run-20231031_173503-xjaffncq</code>"
      ],
      "text/plain": [
       "<IPython.core.display.HTML object>"
      ]
     },
     "metadata": {},
     "output_type": "display_data"
    },
    {
     "data": {
      "text/html": [
       "Syncing run <strong><a href='https://wandb.ai/lequn/AudioVisual_ML_ablation_study_v2/runs/xjaffncq' target=\"_blank\">BalancedRF_Vision Ablated 1</a></strong> to <a href='https://wandb.ai/lequn/AudioVisual_ML_ablation_study_v2' target=\"_blank\">Weights & Biases</a> (<a href='https://wandb.me/run' target=\"_blank\">docs</a>)<br/>"
      ],
      "text/plain": [
       "<IPython.core.display.HTML object>"
      ]
     },
     "metadata": {},
     "output_type": "display_data"
    },
    {
     "data": {
      "text/html": [
       " View project at <a href='https://wandb.ai/lequn/AudioVisual_ML_ablation_study_v2' target=\"_blank\">https://wandb.ai/lequn/AudioVisual_ML_ablation_study_v2</a>"
      ],
      "text/plain": [
       "<IPython.core.display.HTML object>"
      ]
     },
     "metadata": {},
     "output_type": "display_data"
    },
    {
     "data": {
      "text/html": [
       " View run at <a href='https://wandb.ai/lequn/AudioVisual_ML_ablation_study_v2/runs/xjaffncq' target=\"_blank\">https://wandb.ai/lequn/AudioVisual_ML_ablation_study_v2/runs/xjaffncq</a>"
      ],
      "text/plain": [
       "<IPython.core.display.HTML object>"
      ]
     },
     "metadata": {},
     "output_type": "display_data"
    },
    {
     "name": "stderr",
     "output_type": "stream",
     "text": [
      "/home/chenlequn/anaconda3/envs/torch/lib/python3.9/site-packages/imblearn/ensemble/_forest.py:546: FutureWarning: The default of `sampling_strategy` will change from `'auto'` to `'all'` in version 0.13. This change will follow the implementation proposed in the original paper. Set to `'all'` to silence this warning and adopt the future behaviour.\n",
      "  warn(\n",
      "/home/chenlequn/anaconda3/envs/torch/lib/python3.9/site-packages/imblearn/ensemble/_forest.py:558: FutureWarning: The default of `replacement` will change from `False` to `True` in version 0.13. This change will follow the implementation proposed in the original paper. Set to `True` to silence this warning and adopt the future behaviour.\n",
      "  warn(\n"
     ]
    },
    {
     "name": "stdout",
     "output_type": "stream",
     "text": [
      "\t\tAccuracy: Mean = 0.902899314510402, Std = 0.010052765592767212\n",
      "\t\tF1 Score: Mean = 0.903674859348255, Std = 0.009842785713663878\n",
      "\t\tPrecision: Mean = 0.9050077043079365, Std = 0.009534753944176433\n",
      "\t\tRecall: Mean = 0.902899314510402, Std = 0.010052765592767212\n",
      "\t\tROC-AUC: Mean = 0.9862276455199737, Std = 0.0022912347877060146\n"
     ]
    },
    {
     "data": {
      "text/html": [
       "Waiting for W&B process to finish... <strong style=\"color:green\">(success).</strong>"
      ],
      "text/plain": [
       "<IPython.core.display.HTML object>"
      ]
     },
     "metadata": {},
     "output_type": "display_data"
    },
    {
     "data": {
      "text/html": [
       "<style>\n",
       "    table.wandb td:nth-child(1) { padding: 0 10px; text-align: left ; width: auto;} td:nth-child(2) {text-align: left ; width: 100%}\n",
       "    .wandb-row { display: flex; flex-direction: row; flex-wrap: wrap; justify-content: flex-start; width: 100% }\n",
       "    .wandb-col { display: flex; flex-direction: column; flex-basis: 100%; flex: 1; padding: 10px; }\n",
       "    </style>\n",
       "<div class=\"wandb-row\"><div class=\"wandb-col\"><h3>Run history:</h3><br/><table class=\"wandb\"><tr><td>Accuracy_mean</td><td>▁</td></tr><tr><td>Accuracy_std</td><td>▁</td></tr><tr><td>F1 Score_mean</td><td>▁</td></tr><tr><td>F1 Score_std</td><td>▁</td></tr><tr><td>Precision_mean</td><td>▁</td></tr><tr><td>Precision_std</td><td>▁</td></tr><tr><td>ROC-AUC_mean</td><td>▁</td></tr><tr><td>ROC-AUC_std</td><td>▁</td></tr><tr><td>Recall_mean</td><td>▁</td></tr><tr><td>Recall_std</td><td>▁</td></tr></table><br/></div><div class=\"wandb-col\"><h3>Run summary:</h3><br/><table class=\"wandb\"><tr><td>Accuracy_mean</td><td>0.9029</td></tr><tr><td>Accuracy_std</td><td>0.01005</td></tr><tr><td>F1 Score_mean</td><td>0.90367</td></tr><tr><td>F1 Score_std</td><td>0.00984</td></tr><tr><td>Precision_mean</td><td>0.90501</td></tr><tr><td>Precision_std</td><td>0.00953</td></tr><tr><td>ROC-AUC_mean</td><td>0.98623</td></tr><tr><td>ROC-AUC_std</td><td>0.00229</td></tr><tr><td>Recall_mean</td><td>0.9029</td></tr><tr><td>Recall_std</td><td>0.01005</td></tr></table><br/></div></div>"
      ],
      "text/plain": [
       "<IPython.core.display.HTML object>"
      ]
     },
     "metadata": {},
     "output_type": "display_data"
    },
    {
     "data": {
      "text/html": [
       " View run <strong style=\"color:#cdcd00\">BalancedRF_Vision Ablated 1</strong> at: <a href='https://wandb.ai/lequn/AudioVisual_ML_ablation_study_v2/runs/xjaffncq' target=\"_blank\">https://wandb.ai/lequn/AudioVisual_ML_ablation_study_v2/runs/xjaffncq</a><br/> View job at <a href='https://wandb.ai/lequn/AudioVisual_ML_ablation_study_v2/jobs/QXJ0aWZhY3RDb2xsZWN0aW9uOjExMTQ1OTc4Ng==/version_details/v12' target=\"_blank\">https://wandb.ai/lequn/AudioVisual_ML_ablation_study_v2/jobs/QXJ0aWZhY3RDb2xsZWN0aW9uOjExMTQ1OTc4Ng==/version_details/v12</a><br/>Synced 6 W&B file(s), 0 media file(s), 0 artifact file(s) and 0 other file(s)"
      ],
      "text/plain": [
       "<IPython.core.display.HTML object>"
      ]
     },
     "metadata": {},
     "output_type": "display_data"
    },
    {
     "data": {
      "text/html": [
       "Find logs at: <code>./wandb/run-20231031_173503-xjaffncq/logs</code>"
      ],
      "text/plain": [
       "<IPython.core.display.HTML object>"
      ]
     },
     "metadata": {},
     "output_type": "display_data"
    },
    {
     "name": "stdout",
     "output_type": "stream",
     "text": [
      "\tTraining model: RUSBoost\n"
     ]
    },
    {
     "data": {
      "application/vnd.jupyter.widget-view+json": {
       "model_id": "c0a0eea3d3554f0abb8d4c6f33bc9618",
       "version_major": 2,
       "version_minor": 0
      },
      "text/plain": [
       "VBox(children=(Label(value='Waiting for wandb.init()...\\r'), FloatProgress(value=0.011113913222248407, max=1.0…"
      ]
     },
     "metadata": {},
     "output_type": "display_data"
    },
    {
     "data": {
      "text/html": [
       "Tracking run with wandb version 0.15.12"
      ],
      "text/plain": [
       "<IPython.core.display.HTML object>"
      ]
     },
     "metadata": {},
     "output_type": "display_data"
    },
    {
     "data": {
      "text/html": [
       "Run data is saved locally in <code>/home/chenlequn/GitHub/LDED-FusionNet/code/wandb/run-20231031_173528-846sz13r</code>"
      ],
      "text/plain": [
       "<IPython.core.display.HTML object>"
      ]
     },
     "metadata": {},
     "output_type": "display_data"
    },
    {
     "data": {
      "text/html": [
       "Syncing run <strong><a href='https://wandb.ai/lequn/AudioVisual_ML_ablation_study_v2/runs/846sz13r' target=\"_blank\">RUSBoost_Vision Ablated 1</a></strong> to <a href='https://wandb.ai/lequn/AudioVisual_ML_ablation_study_v2' target=\"_blank\">Weights & Biases</a> (<a href='https://wandb.me/run' target=\"_blank\">docs</a>)<br/>"
      ],
      "text/plain": [
       "<IPython.core.display.HTML object>"
      ]
     },
     "metadata": {},
     "output_type": "display_data"
    },
    {
     "data": {
      "text/html": [
       " View project at <a href='https://wandb.ai/lequn/AudioVisual_ML_ablation_study_v2' target=\"_blank\">https://wandb.ai/lequn/AudioVisual_ML_ablation_study_v2</a>"
      ],
      "text/plain": [
       "<IPython.core.display.HTML object>"
      ]
     },
     "metadata": {},
     "output_type": "display_data"
    },
    {
     "data": {
      "text/html": [
       " View run at <a href='https://wandb.ai/lequn/AudioVisual_ML_ablation_study_v2/runs/846sz13r' target=\"_blank\">https://wandb.ai/lequn/AudioVisual_ML_ablation_study_v2/runs/846sz13r</a>"
      ],
      "text/plain": [
       "<IPython.core.display.HTML object>"
      ]
     },
     "metadata": {},
     "output_type": "display_data"
    },
    {
     "name": "stdout",
     "output_type": "stream",
     "text": [
      "\t\tAccuracy: Mean = 0.820301555620342, Std = 0.01295652665867792\n",
      "\t\tF1 Score: Mean = 0.8135344140887696, Std = 0.014714271657593689\n",
      "\t\tPrecision: Mean = 0.8238041347626106, Std = 0.012723913432785595\n",
      "\t\tRecall: Mean = 0.820301555620342, Std = 0.01295652665867792\n",
      "\t\tROC-AUC: Mean = 0.9628982026660369, Std = 0.002315726809757734\n"
     ]
    },
    {
     "data": {
      "text/html": [
       "Waiting for W&B process to finish... <strong style=\"color:green\">(success).</strong>"
      ],
      "text/plain": [
       "<IPython.core.display.HTML object>"
      ]
     },
     "metadata": {},
     "output_type": "display_data"
    },
    {
     "data": {
      "application/vnd.jupyter.widget-view+json": {
       "model_id": "bab104c561654164aca2d41c5958ca2a",
       "version_major": 2,
       "version_minor": 0
      },
      "text/plain": [
       "VBox(children=(Label(value='0.002 MB of 0.002 MB uploaded (0.000 MB deduped)\\r'), FloatProgress(value=1.0, max…"
      ]
     },
     "metadata": {},
     "output_type": "display_data"
    },
    {
     "data": {
      "text/html": [
       "<style>\n",
       "    table.wandb td:nth-child(1) { padding: 0 10px; text-align: left ; width: auto;} td:nth-child(2) {text-align: left ; width: 100%}\n",
       "    .wandb-row { display: flex; flex-direction: row; flex-wrap: wrap; justify-content: flex-start; width: 100% }\n",
       "    .wandb-col { display: flex; flex-direction: column; flex-basis: 100%; flex: 1; padding: 10px; }\n",
       "    </style>\n",
       "<div class=\"wandb-row\"><div class=\"wandb-col\"><h3>Run history:</h3><br/><table class=\"wandb\"><tr><td>Accuracy_mean</td><td>▁</td></tr><tr><td>Accuracy_std</td><td>▁</td></tr><tr><td>F1 Score_mean</td><td>▁</td></tr><tr><td>F1 Score_std</td><td>▁</td></tr><tr><td>Precision_mean</td><td>▁</td></tr><tr><td>Precision_std</td><td>▁</td></tr><tr><td>ROC-AUC_mean</td><td>▁</td></tr><tr><td>ROC-AUC_std</td><td>▁</td></tr><tr><td>Recall_mean</td><td>▁</td></tr><tr><td>Recall_std</td><td>▁</td></tr></table><br/></div><div class=\"wandb-col\"><h3>Run summary:</h3><br/><table class=\"wandb\"><tr><td>Accuracy_mean</td><td>0.8203</td></tr><tr><td>Accuracy_std</td><td>0.01296</td></tr><tr><td>F1 Score_mean</td><td>0.81353</td></tr><tr><td>F1 Score_std</td><td>0.01471</td></tr><tr><td>Precision_mean</td><td>0.8238</td></tr><tr><td>Precision_std</td><td>0.01272</td></tr><tr><td>ROC-AUC_mean</td><td>0.9629</td></tr><tr><td>ROC-AUC_std</td><td>0.00232</td></tr><tr><td>Recall_mean</td><td>0.8203</td></tr><tr><td>Recall_std</td><td>0.01296</td></tr></table><br/></div></div>"
      ],
      "text/plain": [
       "<IPython.core.display.HTML object>"
      ]
     },
     "metadata": {},
     "output_type": "display_data"
    },
    {
     "data": {
      "text/html": [
       " View run <strong style=\"color:#cdcd00\">RUSBoost_Vision Ablated 1</strong> at: <a href='https://wandb.ai/lequn/AudioVisual_ML_ablation_study_v2/runs/846sz13r' target=\"_blank\">https://wandb.ai/lequn/AudioVisual_ML_ablation_study_v2/runs/846sz13r</a><br/> View job at <a href='https://wandb.ai/lequn/AudioVisual_ML_ablation_study_v2/jobs/QXJ0aWZhY3RDb2xsZWN0aW9uOjExMTQ1OTc4Ng==/version_details/v12' target=\"_blank\">https://wandb.ai/lequn/AudioVisual_ML_ablation_study_v2/jobs/QXJ0aWZhY3RDb2xsZWN0aW9uOjExMTQ1OTc4Ng==/version_details/v12</a><br/>Synced 6 W&B file(s), 0 media file(s), 0 artifact file(s) and 0 other file(s)"
      ],
      "text/plain": [
       "<IPython.core.display.HTML object>"
      ]
     },
     "metadata": {},
     "output_type": "display_data"
    },
    {
     "data": {
      "text/html": [
       "Find logs at: <code>./wandb/run-20231031_173528-846sz13r/logs</code>"
      ],
      "text/plain": [
       "<IPython.core.display.HTML object>"
      ]
     },
     "metadata": {},
     "output_type": "display_data"
    },
    {
     "name": "stdout",
     "output_type": "stream",
     "text": [
      "\tTraining model: Ada\n"
     ]
    },
    {
     "data": {
      "application/vnd.jupyter.widget-view+json": {
       "model_id": "b4c09ca9ead840afb111d5432f3289a2",
       "version_major": 2,
       "version_minor": 0
      },
      "text/plain": [
       "VBox(children=(Label(value='Waiting for wandb.init()...\\r'), FloatProgress(value=0.011115157855480598, max=1.0…"
      ]
     },
     "metadata": {},
     "output_type": "display_data"
    },
    {
     "data": {
      "text/html": [
       "Tracking run with wandb version 0.15.12"
      ],
      "text/plain": [
       "<IPython.core.display.HTML object>"
      ]
     },
     "metadata": {},
     "output_type": "display_data"
    },
    {
     "data": {
      "text/html": [
       "Run data is saved locally in <code>/home/chenlequn/GitHub/LDED-FusionNet/code/wandb/run-20231031_173548-g9fm3qun</code>"
      ],
      "text/plain": [
       "<IPython.core.display.HTML object>"
      ]
     },
     "metadata": {},
     "output_type": "display_data"
    },
    {
     "data": {
      "text/html": [
       "Syncing run <strong><a href='https://wandb.ai/lequn/AudioVisual_ML_ablation_study_v2/runs/g9fm3qun' target=\"_blank\">Ada_Vision Ablated 1</a></strong> to <a href='https://wandb.ai/lequn/AudioVisual_ML_ablation_study_v2' target=\"_blank\">Weights & Biases</a> (<a href='https://wandb.me/run' target=\"_blank\">docs</a>)<br/>"
      ],
      "text/plain": [
       "<IPython.core.display.HTML object>"
      ]
     },
     "metadata": {},
     "output_type": "display_data"
    },
    {
     "data": {
      "text/html": [
       " View project at <a href='https://wandb.ai/lequn/AudioVisual_ML_ablation_study_v2' target=\"_blank\">https://wandb.ai/lequn/AudioVisual_ML_ablation_study_v2</a>"
      ],
      "text/plain": [
       "<IPython.core.display.HTML object>"
      ]
     },
     "metadata": {},
     "output_type": "display_data"
    },
    {
     "data": {
      "text/html": [
       " View run at <a href='https://wandb.ai/lequn/AudioVisual_ML_ablation_study_v2/runs/g9fm3qun' target=\"_blank\">https://wandb.ai/lequn/AudioVisual_ML_ablation_study_v2/runs/g9fm3qun</a>"
      ],
      "text/plain": [
       "<IPython.core.display.HTML object>"
      ]
     },
     "metadata": {},
     "output_type": "display_data"
    },
    {
     "name": "stdout",
     "output_type": "stream",
     "text": [
      "\t\tAccuracy: Mean = 0.8241300561398788, Std = 0.011951000142317402\n",
      "\t\tF1 Score: Mean = 0.821539909234058, Std = 0.011846893158634401\n",
      "\t\tPrecision: Mean = 0.8222603983603172, Std = 0.011448198083700052\n",
      "\t\tRecall: Mean = 0.8241300561398788, Std = 0.011951000142317402\n",
      "\t\tROC-AUC: Mean = 0.9638309955235524, Std = 0.0031233781200957827\n"
     ]
    },
    {
     "data": {
      "text/html": [
       "Waiting for W&B process to finish... <strong style=\"color:green\">(success).</strong>"
      ],
      "text/plain": [
       "<IPython.core.display.HTML object>"
      ]
     },
     "metadata": {},
     "output_type": "display_data"
    },
    {
     "data": {
      "application/vnd.jupyter.widget-view+json": {
       "model_id": "e7d6da98d1834ebca092703703605460",
       "version_major": 2,
       "version_minor": 0
      },
      "text/plain": [
       "VBox(children=(Label(value='0.002 MB of 0.002 MB uploaded (0.000 MB deduped)\\r'), FloatProgress(value=1.0, max…"
      ]
     },
     "metadata": {},
     "output_type": "display_data"
    },
    {
     "data": {
      "text/html": [
       "<style>\n",
       "    table.wandb td:nth-child(1) { padding: 0 10px; text-align: left ; width: auto;} td:nth-child(2) {text-align: left ; width: 100%}\n",
       "    .wandb-row { display: flex; flex-direction: row; flex-wrap: wrap; justify-content: flex-start; width: 100% }\n",
       "    .wandb-col { display: flex; flex-direction: column; flex-basis: 100%; flex: 1; padding: 10px; }\n",
       "    </style>\n",
       "<div class=\"wandb-row\"><div class=\"wandb-col\"><h3>Run history:</h3><br/><table class=\"wandb\"><tr><td>Accuracy_mean</td><td>▁</td></tr><tr><td>Accuracy_std</td><td>▁</td></tr><tr><td>F1 Score_mean</td><td>▁</td></tr><tr><td>F1 Score_std</td><td>▁</td></tr><tr><td>Precision_mean</td><td>▁</td></tr><tr><td>Precision_std</td><td>▁</td></tr><tr><td>ROC-AUC_mean</td><td>▁</td></tr><tr><td>ROC-AUC_std</td><td>▁</td></tr><tr><td>Recall_mean</td><td>▁</td></tr><tr><td>Recall_std</td><td>▁</td></tr></table><br/></div><div class=\"wandb-col\"><h3>Run summary:</h3><br/><table class=\"wandb\"><tr><td>Accuracy_mean</td><td>0.82413</td></tr><tr><td>Accuracy_std</td><td>0.01195</td></tr><tr><td>F1 Score_mean</td><td>0.82154</td></tr><tr><td>F1 Score_std</td><td>0.01185</td></tr><tr><td>Precision_mean</td><td>0.82226</td></tr><tr><td>Precision_std</td><td>0.01145</td></tr><tr><td>ROC-AUC_mean</td><td>0.96383</td></tr><tr><td>ROC-AUC_std</td><td>0.00312</td></tr><tr><td>Recall_mean</td><td>0.82413</td></tr><tr><td>Recall_std</td><td>0.01195</td></tr></table><br/></div></div>"
      ],
      "text/plain": [
       "<IPython.core.display.HTML object>"
      ]
     },
     "metadata": {},
     "output_type": "display_data"
    },
    {
     "data": {
      "text/html": [
       " View run <strong style=\"color:#cdcd00\">Ada_Vision Ablated 1</strong> at: <a href='https://wandb.ai/lequn/AudioVisual_ML_ablation_study_v2/runs/g9fm3qun' target=\"_blank\">https://wandb.ai/lequn/AudioVisual_ML_ablation_study_v2/runs/g9fm3qun</a><br/> View job at <a href='https://wandb.ai/lequn/AudioVisual_ML_ablation_study_v2/jobs/QXJ0aWZhY3RDb2xsZWN0aW9uOjExMTQ1OTc4Ng==/version_details/v12' target=\"_blank\">https://wandb.ai/lequn/AudioVisual_ML_ablation_study_v2/jobs/QXJ0aWZhY3RDb2xsZWN0aW9uOjExMTQ1OTc4Ng==/version_details/v12</a><br/>Synced 6 W&B file(s), 0 media file(s), 0 artifact file(s) and 0 other file(s)"
      ],
      "text/plain": [
       "<IPython.core.display.HTML object>"
      ]
     },
     "metadata": {},
     "output_type": "display_data"
    },
    {
     "data": {
      "text/html": [
       "Find logs at: <code>./wandb/run-20231031_173548-g9fm3qun/logs</code>"
      ],
      "text/plain": [
       "<IPython.core.display.HTML object>"
      ]
     },
     "metadata": {},
     "output_type": "display_data"
    },
    {
     "name": "stdout",
     "output_type": "stream",
     "text": [
      "\tTraining model: NN\n"
     ]
    },
    {
     "data": {
      "application/vnd.jupyter.widget-view+json": {
       "model_id": "8c06007d02bb4b41911faf7287d6159f",
       "version_major": 2,
       "version_minor": 0
      },
      "text/plain": [
       "VBox(children=(Label(value='Waiting for wandb.init()...\\r'), FloatProgress(value=0.011113754055501582, max=1.0…"
      ]
     },
     "metadata": {},
     "output_type": "display_data"
    },
    {
     "data": {
      "text/html": [
       "Tracking run with wandb version 0.15.12"
      ],
      "text/plain": [
       "<IPython.core.display.HTML object>"
      ]
     },
     "metadata": {},
     "output_type": "display_data"
    },
    {
     "data": {
      "text/html": [
       "Run data is saved locally in <code>/home/chenlequn/GitHub/LDED-FusionNet/code/wandb/run-20231031_173608-1ol9ilff</code>"
      ],
      "text/plain": [
       "<IPython.core.display.HTML object>"
      ]
     },
     "metadata": {},
     "output_type": "display_data"
    },
    {
     "data": {
      "text/html": [
       "Syncing run <strong><a href='https://wandb.ai/lequn/AudioVisual_ML_ablation_study_v2/runs/1ol9ilff' target=\"_blank\">NN_Vision Ablated 1</a></strong> to <a href='https://wandb.ai/lequn/AudioVisual_ML_ablation_study_v2' target=\"_blank\">Weights & Biases</a> (<a href='https://wandb.me/run' target=\"_blank\">docs</a>)<br/>"
      ],
      "text/plain": [
       "<IPython.core.display.HTML object>"
      ]
     },
     "metadata": {},
     "output_type": "display_data"
    },
    {
     "data": {
      "text/html": [
       " View project at <a href='https://wandb.ai/lequn/AudioVisual_ML_ablation_study_v2' target=\"_blank\">https://wandb.ai/lequn/AudioVisual_ML_ablation_study_v2</a>"
      ],
      "text/plain": [
       "<IPython.core.display.HTML object>"
      ]
     },
     "metadata": {},
     "output_type": "display_data"
    },
    {
     "data": {
      "text/html": [
       " View run at <a href='https://wandb.ai/lequn/AudioVisual_ML_ablation_study_v2/runs/1ol9ilff' target=\"_blank\">https://wandb.ai/lequn/AudioVisual_ML_ablation_study_v2/runs/1ol9ilff</a>"
      ],
      "text/plain": [
       "<IPython.core.display.HTML object>"
      ]
     },
     "metadata": {},
     "output_type": "display_data"
    },
    {
     "name": "stdout",
     "output_type": "stream",
     "text": [
      "\t\tAccuracy: Mean = 0.8766481277985841, Std = 0.013024216123485527\n",
      "\t\tF1 Score: Mean = 0.8760219726759806, Std = 0.012703993109363026\n",
      "\t\tPrecision: Mean = 0.8794166311466756, Std = 0.011834341700720986\n",
      "\t\tRecall: Mean = 0.8766481277985841, Std = 0.013024216123485527\n",
      "\t\tROC-AUC: Mean = 0.9811755071182452, Std = 0.0018767977761258007\n"
     ]
    },
    {
     "data": {
      "text/html": [
       "Waiting for W&B process to finish... <strong style=\"color:green\">(success).</strong>"
      ],
      "text/plain": [
       "<IPython.core.display.HTML object>"
      ]
     },
     "metadata": {},
     "output_type": "display_data"
    },
    {
     "data": {
      "text/html": [
       "<style>\n",
       "    table.wandb td:nth-child(1) { padding: 0 10px; text-align: left ; width: auto;} td:nth-child(2) {text-align: left ; width: 100%}\n",
       "    .wandb-row { display: flex; flex-direction: row; flex-wrap: wrap; justify-content: flex-start; width: 100% }\n",
       "    .wandb-col { display: flex; flex-direction: column; flex-basis: 100%; flex: 1; padding: 10px; }\n",
       "    </style>\n",
       "<div class=\"wandb-row\"><div class=\"wandb-col\"><h3>Run history:</h3><br/><table class=\"wandb\"><tr><td>Accuracy_mean</td><td>▁</td></tr><tr><td>Accuracy_std</td><td>▁</td></tr><tr><td>F1 Score_mean</td><td>▁</td></tr><tr><td>F1 Score_std</td><td>▁</td></tr><tr><td>Precision_mean</td><td>▁</td></tr><tr><td>Precision_std</td><td>▁</td></tr><tr><td>ROC-AUC_mean</td><td>▁</td></tr><tr><td>ROC-AUC_std</td><td>▁</td></tr><tr><td>Recall_mean</td><td>▁</td></tr><tr><td>Recall_std</td><td>▁</td></tr></table><br/></div><div class=\"wandb-col\"><h3>Run summary:</h3><br/><table class=\"wandb\"><tr><td>Accuracy_mean</td><td>0.87665</td></tr><tr><td>Accuracy_std</td><td>0.01302</td></tr><tr><td>F1 Score_mean</td><td>0.87602</td></tr><tr><td>F1 Score_std</td><td>0.0127</td></tr><tr><td>Precision_mean</td><td>0.87942</td></tr><tr><td>Precision_std</td><td>0.01183</td></tr><tr><td>ROC-AUC_mean</td><td>0.98118</td></tr><tr><td>ROC-AUC_std</td><td>0.00188</td></tr><tr><td>Recall_mean</td><td>0.87665</td></tr><tr><td>Recall_std</td><td>0.01302</td></tr></table><br/></div></div>"
      ],
      "text/plain": [
       "<IPython.core.display.HTML object>"
      ]
     },
     "metadata": {},
     "output_type": "display_data"
    },
    {
     "data": {
      "text/html": [
       " View run <strong style=\"color:#cdcd00\">NN_Vision Ablated 1</strong> at: <a href='https://wandb.ai/lequn/AudioVisual_ML_ablation_study_v2/runs/1ol9ilff' target=\"_blank\">https://wandb.ai/lequn/AudioVisual_ML_ablation_study_v2/runs/1ol9ilff</a><br/> View job at <a href='https://wandb.ai/lequn/AudioVisual_ML_ablation_study_v2/jobs/QXJ0aWZhY3RDb2xsZWN0aW9uOjExMTQ1OTc4Ng==/version_details/v12' target=\"_blank\">https://wandb.ai/lequn/AudioVisual_ML_ablation_study_v2/jobs/QXJ0aWZhY3RDb2xsZWN0aW9uOjExMTQ1OTc4Ng==/version_details/v12</a><br/>Synced 6 W&B file(s), 0 media file(s), 0 artifact file(s) and 0 other file(s)"
      ],
      "text/plain": [
       "<IPython.core.display.HTML object>"
      ]
     },
     "metadata": {},
     "output_type": "display_data"
    },
    {
     "data": {
      "text/html": [
       "Find logs at: <code>./wandb/run-20231031_173608-1ol9ilff/logs</code>"
      ],
      "text/plain": [
       "<IPython.core.display.HTML object>"
      ]
     },
     "metadata": {},
     "output_type": "display_data"
    },
    {
     "name": "stdout",
     "output_type": "stream",
     "text": [
      "\tTraining model: XGBoost\n"
     ]
    },
    {
     "data": {
      "application/vnd.jupyter.widget-view+json": {
       "model_id": "fdf45460ebcf4bdabe8301ba1a845b74",
       "version_major": 2,
       "version_minor": 0
      },
      "text/plain": [
       "VBox(children=(Label(value='Waiting for wandb.init()...\\r'), FloatProgress(value=0.011113612399882792, max=1.0…"
      ]
     },
     "metadata": {},
     "output_type": "display_data"
    },
    {
     "data": {
      "text/html": [
       "Tracking run with wandb version 0.15.12"
      ],
      "text/plain": [
       "<IPython.core.display.HTML object>"
      ]
     },
     "metadata": {},
     "output_type": "display_data"
    },
    {
     "data": {
      "text/html": [
       "Run data is saved locally in <code>/home/chenlequn/GitHub/LDED-FusionNet/code/wandb/run-20231031_173724-xkqj3oiy</code>"
      ],
      "text/plain": [
       "<IPython.core.display.HTML object>"
      ]
     },
     "metadata": {},
     "output_type": "display_data"
    },
    {
     "data": {
      "text/html": [
       "Syncing run <strong><a href='https://wandb.ai/lequn/AudioVisual_ML_ablation_study_v2/runs/xkqj3oiy' target=\"_blank\">XGBoost_Vision Ablated 1</a></strong> to <a href='https://wandb.ai/lequn/AudioVisual_ML_ablation_study_v2' target=\"_blank\">Weights & Biases</a> (<a href='https://wandb.me/run' target=\"_blank\">docs</a>)<br/>"
      ],
      "text/plain": [
       "<IPython.core.display.HTML object>"
      ]
     },
     "metadata": {},
     "output_type": "display_data"
    },
    {
     "data": {
      "text/html": [
       " View project at <a href='https://wandb.ai/lequn/AudioVisual_ML_ablation_study_v2' target=\"_blank\">https://wandb.ai/lequn/AudioVisual_ML_ablation_study_v2</a>"
      ],
      "text/plain": [
       "<IPython.core.display.HTML object>"
      ]
     },
     "metadata": {},
     "output_type": "display_data"
    },
    {
     "data": {
      "text/html": [
       " View run at <a href='https://wandb.ai/lequn/AudioVisual_ML_ablation_study_v2/runs/xkqj3oiy' target=\"_blank\">https://wandb.ai/lequn/AudioVisual_ML_ablation_study_v2/runs/xkqj3oiy</a>"
      ],
      "text/plain": [
       "<IPython.core.display.HTML object>"
      ]
     },
     "metadata": {},
     "output_type": "display_data"
    },
    {
     "name": "stdout",
     "output_type": "stream",
     "text": [
      "\t\tAccuracy: Mean = 0.8960634806724824, Std = 0.008268490179803302\n",
      "\t\tF1 Score: Mean = 0.8960957722573534, Std = 0.00815579260337365\n",
      "\t\tPrecision: Mean = 0.89677373810843, Std = 0.008002969431934185\n",
      "\t\tRecall: Mean = 0.8960634806724824, Std = 0.008268490179803302\n",
      "\t\tROC-AUC: Mean = 0.9838382989087007, Std = 0.0014652310458596251\n"
     ]
    },
    {
     "data": {
      "text/html": [
       "Waiting for W&B process to finish... <strong style=\"color:green\">(success).</strong>"
      ],
      "text/plain": [
       "<IPython.core.display.HTML object>"
      ]
     },
     "metadata": {},
     "output_type": "display_data"
    },
    {
     "data": {
      "text/html": [
       "<style>\n",
       "    table.wandb td:nth-child(1) { padding: 0 10px; text-align: left ; width: auto;} td:nth-child(2) {text-align: left ; width: 100%}\n",
       "    .wandb-row { display: flex; flex-direction: row; flex-wrap: wrap; justify-content: flex-start; width: 100% }\n",
       "    .wandb-col { display: flex; flex-direction: column; flex-basis: 100%; flex: 1; padding: 10px; }\n",
       "    </style>\n",
       "<div class=\"wandb-row\"><div class=\"wandb-col\"><h3>Run history:</h3><br/><table class=\"wandb\"><tr><td>Accuracy_mean</td><td>▁</td></tr><tr><td>Accuracy_std</td><td>▁</td></tr><tr><td>F1 Score_mean</td><td>▁</td></tr><tr><td>F1 Score_std</td><td>▁</td></tr><tr><td>Precision_mean</td><td>▁</td></tr><tr><td>Precision_std</td><td>▁</td></tr><tr><td>ROC-AUC_mean</td><td>▁</td></tr><tr><td>ROC-AUC_std</td><td>▁</td></tr><tr><td>Recall_mean</td><td>▁</td></tr><tr><td>Recall_std</td><td>▁</td></tr></table><br/></div><div class=\"wandb-col\"><h3>Run summary:</h3><br/><table class=\"wandb\"><tr><td>Accuracy_mean</td><td>0.89606</td></tr><tr><td>Accuracy_std</td><td>0.00827</td></tr><tr><td>F1 Score_mean</td><td>0.8961</td></tr><tr><td>F1 Score_std</td><td>0.00816</td></tr><tr><td>Precision_mean</td><td>0.89677</td></tr><tr><td>Precision_std</td><td>0.008</td></tr><tr><td>ROC-AUC_mean</td><td>0.98384</td></tr><tr><td>ROC-AUC_std</td><td>0.00147</td></tr><tr><td>Recall_mean</td><td>0.89606</td></tr><tr><td>Recall_std</td><td>0.00827</td></tr></table><br/></div></div>"
      ],
      "text/plain": [
       "<IPython.core.display.HTML object>"
      ]
     },
     "metadata": {},
     "output_type": "display_data"
    },
    {
     "data": {
      "text/html": [
       " View run <strong style=\"color:#cdcd00\">XGBoost_Vision Ablated 1</strong> at: <a href='https://wandb.ai/lequn/AudioVisual_ML_ablation_study_v2/runs/xkqj3oiy' target=\"_blank\">https://wandb.ai/lequn/AudioVisual_ML_ablation_study_v2/runs/xkqj3oiy</a><br/> View job at <a href='https://wandb.ai/lequn/AudioVisual_ML_ablation_study_v2/jobs/QXJ0aWZhY3RDb2xsZWN0aW9uOjExMTQ1OTc4Ng==/version_details/v12' target=\"_blank\">https://wandb.ai/lequn/AudioVisual_ML_ablation_study_v2/jobs/QXJ0aWZhY3RDb2xsZWN0aW9uOjExMTQ1OTc4Ng==/version_details/v12</a><br/>Synced 6 W&B file(s), 0 media file(s), 0 artifact file(s) and 0 other file(s)"
      ],
      "text/plain": [
       "<IPython.core.display.HTML object>"
      ]
     },
     "metadata": {},
     "output_type": "display_data"
    },
    {
     "data": {
      "text/html": [
       "Find logs at: <code>./wandb/run-20231031_173724-xkqj3oiy/logs</code>"
      ],
      "text/plain": [
       "<IPython.core.display.HTML object>"
      ]
     },
     "metadata": {},
     "output_type": "display_data"
    },
    {
     "name": "stdout",
     "output_type": "stream",
     "text": [
      "\tTraining model: LightGBM\n"
     ]
    },
    {
     "data": {
      "application/vnd.jupyter.widget-view+json": {
       "model_id": "08ac7a9d43ef4cb4b578e5be1466cc84",
       "version_major": 2,
       "version_minor": 0
      },
      "text/plain": [
       "VBox(children=(Label(value='Waiting for wandb.init()...\\r'), FloatProgress(value=0.011114089166706738, max=1.0…"
      ]
     },
     "metadata": {},
     "output_type": "display_data"
    },
    {
     "data": {
      "text/html": [
       "Tracking run with wandb version 0.15.12"
      ],
      "text/plain": [
       "<IPython.core.display.HTML object>"
      ]
     },
     "metadata": {},
     "output_type": "display_data"
    },
    {
     "data": {
      "text/html": [
       "Run data is saved locally in <code>/home/chenlequn/GitHub/LDED-FusionNet/code/wandb/run-20231031_173809-wyt6m21f</code>"
      ],
      "text/plain": [
       "<IPython.core.display.HTML object>"
      ]
     },
     "metadata": {},
     "output_type": "display_data"
    },
    {
     "data": {
      "text/html": [
       "Syncing run <strong><a href='https://wandb.ai/lequn/AudioVisual_ML_ablation_study_v2/runs/wyt6m21f' target=\"_blank\">LightGBM_Vision Ablated 1</a></strong> to <a href='https://wandb.ai/lequn/AudioVisual_ML_ablation_study_v2' target=\"_blank\">Weights & Biases</a> (<a href='https://wandb.me/run' target=\"_blank\">docs</a>)<br/>"
      ],
      "text/plain": [
       "<IPython.core.display.HTML object>"
      ]
     },
     "metadata": {},
     "output_type": "display_data"
    },
    {
     "data": {
      "text/html": [
       " View project at <a href='https://wandb.ai/lequn/AudioVisual_ML_ablation_study_v2' target=\"_blank\">https://wandb.ai/lequn/AudioVisual_ML_ablation_study_v2</a>"
      ],
      "text/plain": [
       "<IPython.core.display.HTML object>"
      ]
     },
     "metadata": {},
     "output_type": "display_data"
    },
    {
     "data": {
      "text/html": [
       " View run at <a href='https://wandb.ai/lequn/AudioVisual_ML_ablation_study_v2/runs/wyt6m21f' target=\"_blank\">https://wandb.ai/lequn/AudioVisual_ML_ablation_study_v2/runs/wyt6m21f</a>"
      ],
      "text/plain": [
       "<IPython.core.display.HTML object>"
      ]
     },
     "metadata": {},
     "output_type": "display_data"
    },
    {
     "name": "stdout",
     "output_type": "stream",
     "text": [
      "\t\tAccuracy: Mean = 0.9004380555119493, Std = 0.00699055934473642\n",
      "\t\tF1 Score: Mean = 0.900352946580026, Std = 0.007018483910176337\n",
      "\t\tPrecision: Mean = 0.9007184383092094, Std = 0.006722997099068707\n",
      "\t\tRecall: Mean = 0.9004380555119493, Std = 0.00699055934473642\n",
      "\t\tROC-AUC: Mean = 0.9856271596972409, Std = 0.0025785668790685033\n"
     ]
    },
    {
     "data": {
      "text/html": [
       "Waiting for W&B process to finish... <strong style=\"color:green\">(success).</strong>"
      ],
      "text/plain": [
       "<IPython.core.display.HTML object>"
      ]
     },
     "metadata": {},
     "output_type": "display_data"
    },
    {
     "data": {
      "text/html": [
       "<style>\n",
       "    table.wandb td:nth-child(1) { padding: 0 10px; text-align: left ; width: auto;} td:nth-child(2) {text-align: left ; width: 100%}\n",
       "    .wandb-row { display: flex; flex-direction: row; flex-wrap: wrap; justify-content: flex-start; width: 100% }\n",
       "    .wandb-col { display: flex; flex-direction: column; flex-basis: 100%; flex: 1; padding: 10px; }\n",
       "    </style>\n",
       "<div class=\"wandb-row\"><div class=\"wandb-col\"><h3>Run history:</h3><br/><table class=\"wandb\"><tr><td>Accuracy_mean</td><td>▁</td></tr><tr><td>Accuracy_std</td><td>▁</td></tr><tr><td>F1 Score_mean</td><td>▁</td></tr><tr><td>F1 Score_std</td><td>▁</td></tr><tr><td>Precision_mean</td><td>▁</td></tr><tr><td>Precision_std</td><td>▁</td></tr><tr><td>ROC-AUC_mean</td><td>▁</td></tr><tr><td>ROC-AUC_std</td><td>▁</td></tr><tr><td>Recall_mean</td><td>▁</td></tr><tr><td>Recall_std</td><td>▁</td></tr></table><br/></div><div class=\"wandb-col\"><h3>Run summary:</h3><br/><table class=\"wandb\"><tr><td>Accuracy_mean</td><td>0.90044</td></tr><tr><td>Accuracy_std</td><td>0.00699</td></tr><tr><td>F1 Score_mean</td><td>0.90035</td></tr><tr><td>F1 Score_std</td><td>0.00702</td></tr><tr><td>Precision_mean</td><td>0.90072</td></tr><tr><td>Precision_std</td><td>0.00672</td></tr><tr><td>ROC-AUC_mean</td><td>0.98563</td></tr><tr><td>ROC-AUC_std</td><td>0.00258</td></tr><tr><td>Recall_mean</td><td>0.90044</td></tr><tr><td>Recall_std</td><td>0.00699</td></tr></table><br/></div></div>"
      ],
      "text/plain": [
       "<IPython.core.display.HTML object>"
      ]
     },
     "metadata": {},
     "output_type": "display_data"
    },
    {
     "data": {
      "text/html": [
       " View run <strong style=\"color:#cdcd00\">LightGBM_Vision Ablated 1</strong> at: <a href='https://wandb.ai/lequn/AudioVisual_ML_ablation_study_v2/runs/wyt6m21f' target=\"_blank\">https://wandb.ai/lequn/AudioVisual_ML_ablation_study_v2/runs/wyt6m21f</a><br/> View job at <a href='https://wandb.ai/lequn/AudioVisual_ML_ablation_study_v2/jobs/QXJ0aWZhY3RDb2xsZWN0aW9uOjExMTQ1OTc4Ng==/version_details/v12' target=\"_blank\">https://wandb.ai/lequn/AudioVisual_ML_ablation_study_v2/jobs/QXJ0aWZhY3RDb2xsZWN0aW9uOjExMTQ1OTc4Ng==/version_details/v12</a><br/>Synced 6 W&B file(s), 0 media file(s), 0 artifact file(s) and 0 other file(s)"
      ],
      "text/plain": [
       "<IPython.core.display.HTML object>"
      ]
     },
     "metadata": {},
     "output_type": "display_data"
    },
    {
     "data": {
      "text/html": [
       "Find logs at: <code>./wandb/run-20231031_173809-wyt6m21f/logs</code>"
      ],
      "text/plain": [
       "<IPython.core.display.HTML object>"
      ]
     },
     "metadata": {},
     "output_type": "display_data"
    },
    {
     "name": "stdout",
     "output_type": "stream",
     "text": [
      "\tTraining model: SVM\n"
     ]
    },
    {
     "data": {
      "application/vnd.jupyter.widget-view+json": {
       "model_id": "10e44e44080e4169b13fd89f6146e4b1",
       "version_major": 2,
       "version_minor": 0
      },
      "text/plain": [
       "VBox(children=(Label(value='Waiting for wandb.init()...\\r'), FloatProgress(value=0.01111369238885042, max=1.0)…"
      ]
     },
     "metadata": {},
     "output_type": "display_data"
    },
    {
     "data": {
      "text/html": [
       "Tracking run with wandb version 0.15.12"
      ],
      "text/plain": [
       "<IPython.core.display.HTML object>"
      ]
     },
     "metadata": {},
     "output_type": "display_data"
    },
    {
     "data": {
      "text/html": [
       "Run data is saved locally in <code>/home/chenlequn/GitHub/LDED-FusionNet/code/wandb/run-20231031_173829-8x8pn28t</code>"
      ],
      "text/plain": [
       "<IPython.core.display.HTML object>"
      ]
     },
     "metadata": {},
     "output_type": "display_data"
    },
    {
     "data": {
      "text/html": [
       "Syncing run <strong><a href='https://wandb.ai/lequn/AudioVisual_ML_ablation_study_v2/runs/8x8pn28t' target=\"_blank\">SVM_Vision Ablated 1</a></strong> to <a href='https://wandb.ai/lequn/AudioVisual_ML_ablation_study_v2' target=\"_blank\">Weights & Biases</a> (<a href='https://wandb.me/run' target=\"_blank\">docs</a>)<br/>"
      ],
      "text/plain": [
       "<IPython.core.display.HTML object>"
      ]
     },
     "metadata": {},
     "output_type": "display_data"
    },
    {
     "data": {
      "text/html": [
       " View project at <a href='https://wandb.ai/lequn/AudioVisual_ML_ablation_study_v2' target=\"_blank\">https://wandb.ai/lequn/AudioVisual_ML_ablation_study_v2</a>"
      ],
      "text/plain": [
       "<IPython.core.display.HTML object>"
      ]
     },
     "metadata": {},
     "output_type": "display_data"
    },
    {
     "data": {
      "text/html": [
       " View run at <a href='https://wandb.ai/lequn/AudioVisual_ML_ablation_study_v2/runs/8x8pn28t' target=\"_blank\">https://wandb.ai/lequn/AudioVisual_ML_ablation_study_v2/runs/8x8pn28t</a>"
      ],
      "text/plain": [
       "<IPython.core.display.HTML object>"
      ]
     },
     "metadata": {},
     "output_type": "display_data"
    },
    {
     "name": "stdout",
     "output_type": "stream",
     "text": [
      "\t\tAccuracy: Mean = 0.8648867858237462, Std = 0.01406610258914952\n",
      "\t\tF1 Score: Mean = 0.8631673756100054, Std = 0.013713093719174788\n",
      "\t\tPrecision: Mean = 0.8667364235519823, Std = 0.01362329041317672\n",
      "\t\tRecall: Mean = 0.8648867858237462, Std = 0.01406610258914952\n",
      "\t\tROC-AUC: Mean = 0.9726107629280136, Std = 0.002951352618957056\n"
     ]
    },
    {
     "data": {
      "text/html": [
       "Waiting for W&B process to finish... <strong style=\"color:green\">(success).</strong>"
      ],
      "text/plain": [
       "<IPython.core.display.HTML object>"
      ]
     },
     "metadata": {},
     "output_type": "display_data"
    },
    {
     "data": {
      "application/vnd.jupyter.widget-view+json": {
       "model_id": "022a82ac003e42c0b32a598be6937299",
       "version_major": 2,
       "version_minor": 0
      },
      "text/plain": [
       "VBox(children=(Label(value='0.002 MB of 0.002 MB uploaded (0.000 MB deduped)\\r'), FloatProgress(value=1.0, max…"
      ]
     },
     "metadata": {},
     "output_type": "display_data"
    },
    {
     "data": {
      "text/html": [
       "<style>\n",
       "    table.wandb td:nth-child(1) { padding: 0 10px; text-align: left ; width: auto;} td:nth-child(2) {text-align: left ; width: 100%}\n",
       "    .wandb-row { display: flex; flex-direction: row; flex-wrap: wrap; justify-content: flex-start; width: 100% }\n",
       "    .wandb-col { display: flex; flex-direction: column; flex-basis: 100%; flex: 1; padding: 10px; }\n",
       "    </style>\n",
       "<div class=\"wandb-row\"><div class=\"wandb-col\"><h3>Run history:</h3><br/><table class=\"wandb\"><tr><td>Accuracy_mean</td><td>▁</td></tr><tr><td>Accuracy_std</td><td>▁</td></tr><tr><td>F1 Score_mean</td><td>▁</td></tr><tr><td>F1 Score_std</td><td>▁</td></tr><tr><td>Precision_mean</td><td>▁</td></tr><tr><td>Precision_std</td><td>▁</td></tr><tr><td>ROC-AUC_mean</td><td>▁</td></tr><tr><td>ROC-AUC_std</td><td>▁</td></tr><tr><td>Recall_mean</td><td>▁</td></tr><tr><td>Recall_std</td><td>▁</td></tr></table><br/></div><div class=\"wandb-col\"><h3>Run summary:</h3><br/><table class=\"wandb\"><tr><td>Accuracy_mean</td><td>0.86489</td></tr><tr><td>Accuracy_std</td><td>0.01407</td></tr><tr><td>F1 Score_mean</td><td>0.86317</td></tr><tr><td>F1 Score_std</td><td>0.01371</td></tr><tr><td>Precision_mean</td><td>0.86674</td></tr><tr><td>Precision_std</td><td>0.01362</td></tr><tr><td>ROC-AUC_mean</td><td>0.97261</td></tr><tr><td>ROC-AUC_std</td><td>0.00295</td></tr><tr><td>Recall_mean</td><td>0.86489</td></tr><tr><td>Recall_std</td><td>0.01407</td></tr></table><br/></div></div>"
      ],
      "text/plain": [
       "<IPython.core.display.HTML object>"
      ]
     },
     "metadata": {},
     "output_type": "display_data"
    },
    {
     "data": {
      "text/html": [
       " View run <strong style=\"color:#cdcd00\">SVM_Vision Ablated 1</strong> at: <a href='https://wandb.ai/lequn/AudioVisual_ML_ablation_study_v2/runs/8x8pn28t' target=\"_blank\">https://wandb.ai/lequn/AudioVisual_ML_ablation_study_v2/runs/8x8pn28t</a><br/> View job at <a href='https://wandb.ai/lequn/AudioVisual_ML_ablation_study_v2/jobs/QXJ0aWZhY3RDb2xsZWN0aW9uOjExMTQ1OTc4Ng==/version_details/v12' target=\"_blank\">https://wandb.ai/lequn/AudioVisual_ML_ablation_study_v2/jobs/QXJ0aWZhY3RDb2xsZWN0aW9uOjExMTQ1OTc4Ng==/version_details/v12</a><br/>Synced 6 W&B file(s), 0 media file(s), 0 artifact file(s) and 0 other file(s)"
      ],
      "text/plain": [
       "<IPython.core.display.HTML object>"
      ]
     },
     "metadata": {},
     "output_type": "display_data"
    },
    {
     "data": {
      "text/html": [
       "Find logs at: <code>./wandb/run-20231031_173829-8x8pn28t/logs</code>"
      ],
      "text/plain": [
       "<IPython.core.display.HTML object>"
      ]
     },
     "metadata": {},
     "output_type": "display_data"
    },
    {
     "name": "stdout",
     "output_type": "stream",
     "text": [
      "\tTraining model: HistGB\n"
     ]
    },
    {
     "data": {
      "application/vnd.jupyter.widget-view+json": {
       "model_id": "74809d03644d4d42a835a8e6df1a1f90",
       "version_major": 2,
       "version_minor": 0
      },
      "text/plain": [
       "VBox(children=(Label(value='Waiting for wandb.init()...\\r'), FloatProgress(value=0.01111382747767493, max=1.0)…"
      ]
     },
     "metadata": {},
     "output_type": "display_data"
    },
    {
     "data": {
      "text/html": [
       "Tracking run with wandb version 0.15.12"
      ],
      "text/plain": [
       "<IPython.core.display.HTML object>"
      ]
     },
     "metadata": {},
     "output_type": "display_data"
    },
    {
     "data": {
      "text/html": [
       "Run data is saved locally in <code>/home/chenlequn/GitHub/LDED-FusionNet/code/wandb/run-20231031_173847-sphw1rtb</code>"
      ],
      "text/plain": [
       "<IPython.core.display.HTML object>"
      ]
     },
     "metadata": {},
     "output_type": "display_data"
    },
    {
     "data": {
      "text/html": [
       "Syncing run <strong><a href='https://wandb.ai/lequn/AudioVisual_ML_ablation_study_v2/runs/sphw1rtb' target=\"_blank\">HistGB_Vision Ablated 1</a></strong> to <a href='https://wandb.ai/lequn/AudioVisual_ML_ablation_study_v2' target=\"_blank\">Weights & Biases</a> (<a href='https://wandb.me/run' target=\"_blank\">docs</a>)<br/>"
      ],
      "text/plain": [
       "<IPython.core.display.HTML object>"
      ]
     },
     "metadata": {},
     "output_type": "display_data"
    },
    {
     "data": {
      "text/html": [
       " View project at <a href='https://wandb.ai/lequn/AudioVisual_ML_ablation_study_v2' target=\"_blank\">https://wandb.ai/lequn/AudioVisual_ML_ablation_study_v2</a>"
      ],
      "text/plain": [
       "<IPython.core.display.HTML object>"
      ]
     },
     "metadata": {},
     "output_type": "display_data"
    },
    {
     "data": {
      "text/html": [
       " View run at <a href='https://wandb.ai/lequn/AudioVisual_ML_ablation_study_v2/runs/sphw1rtb' target=\"_blank\">https://wandb.ai/lequn/AudioVisual_ML_ablation_study_v2/runs/sphw1rtb</a>"
      ],
      "text/plain": [
       "<IPython.core.display.HTML object>"
      ]
     },
     "metadata": {},
     "output_type": "display_data"
    },
    {
     "name": "stdout",
     "output_type": "stream",
     "text": [
      "\t\tAccuracy: Mean = 0.8977050675397875, Std = 0.009849462767025757\n",
      "\t\tF1 Score: Mean = 0.8976271208971408, Std = 0.009715608709206729\n",
      "\t\tPrecision: Mean = 0.8985860425999966, Std = 0.009141574900576767\n",
      "\t\tRecall: Mean = 0.8977050675397875, Std = 0.009849462767025757\n",
      "\t\tROC-AUC: Mean = 0.9851589864426206, Std = 0.002650996293162004\n"
     ]
    },
    {
     "data": {
      "text/html": [
       "Waiting for W&B process to finish... <strong style=\"color:green\">(success).</strong>"
      ],
      "text/plain": [
       "<IPython.core.display.HTML object>"
      ]
     },
     "metadata": {},
     "output_type": "display_data"
    },
    {
     "data": {
      "text/html": [
       "<style>\n",
       "    table.wandb td:nth-child(1) { padding: 0 10px; text-align: left ; width: auto;} td:nth-child(2) {text-align: left ; width: 100%}\n",
       "    .wandb-row { display: flex; flex-direction: row; flex-wrap: wrap; justify-content: flex-start; width: 100% }\n",
       "    .wandb-col { display: flex; flex-direction: column; flex-basis: 100%; flex: 1; padding: 10px; }\n",
       "    </style>\n",
       "<div class=\"wandb-row\"><div class=\"wandb-col\"><h3>Run history:</h3><br/><table class=\"wandb\"><tr><td>Accuracy_mean</td><td>▁</td></tr><tr><td>Accuracy_std</td><td>▁</td></tr><tr><td>F1 Score_mean</td><td>▁</td></tr><tr><td>F1 Score_std</td><td>▁</td></tr><tr><td>Precision_mean</td><td>▁</td></tr><tr><td>Precision_std</td><td>▁</td></tr><tr><td>ROC-AUC_mean</td><td>▁</td></tr><tr><td>ROC-AUC_std</td><td>▁</td></tr><tr><td>Recall_mean</td><td>▁</td></tr><tr><td>Recall_std</td><td>▁</td></tr></table><br/></div><div class=\"wandb-col\"><h3>Run summary:</h3><br/><table class=\"wandb\"><tr><td>Accuracy_mean</td><td>0.89771</td></tr><tr><td>Accuracy_std</td><td>0.00985</td></tr><tr><td>F1 Score_mean</td><td>0.89763</td></tr><tr><td>F1 Score_std</td><td>0.00972</td></tr><tr><td>Precision_mean</td><td>0.89859</td></tr><tr><td>Precision_std</td><td>0.00914</td></tr><tr><td>ROC-AUC_mean</td><td>0.98516</td></tr><tr><td>ROC-AUC_std</td><td>0.00265</td></tr><tr><td>Recall_mean</td><td>0.89771</td></tr><tr><td>Recall_std</td><td>0.00985</td></tr></table><br/></div></div>"
      ],
      "text/plain": [
       "<IPython.core.display.HTML object>"
      ]
     },
     "metadata": {},
     "output_type": "display_data"
    },
    {
     "data": {
      "text/html": [
       " View run <strong style=\"color:#cdcd00\">HistGB_Vision Ablated 1</strong> at: <a href='https://wandb.ai/lequn/AudioVisual_ML_ablation_study_v2/runs/sphw1rtb' target=\"_blank\">https://wandb.ai/lequn/AudioVisual_ML_ablation_study_v2/runs/sphw1rtb</a><br/> View job at <a href='https://wandb.ai/lequn/AudioVisual_ML_ablation_study_v2/jobs/QXJ0aWZhY3RDb2xsZWN0aW9uOjExMTQ1OTc4Ng==/version_details/v12' target=\"_blank\">https://wandb.ai/lequn/AudioVisual_ML_ablation_study_v2/jobs/QXJ0aWZhY3RDb2xsZWN0aW9uOjExMTQ1OTc4Ng==/version_details/v12</a><br/>Synced 6 W&B file(s), 0 media file(s), 0 artifact file(s) and 0 other file(s)"
      ],
      "text/plain": [
       "<IPython.core.display.HTML object>"
      ]
     },
     "metadata": {},
     "output_type": "display_data"
    },
    {
     "data": {
      "text/html": [
       "Find logs at: <code>./wandb/run-20231031_173847-sphw1rtb/logs</code>"
      ],
      "text/plain": [
       "<IPython.core.display.HTML object>"
      ]
     },
     "metadata": {},
     "output_type": "display_data"
    },
    {
     "name": "stdout",
     "output_type": "stream",
     "text": [
      "Processing dataset: Audio Ablated 2\n",
      "\tTraining model: KNN\n"
     ]
    },
    {
     "data": {
      "application/vnd.jupyter.widget-view+json": {
       "model_id": "b2434d542f4c4cedb4209b3eea2aa724",
       "version_major": 2,
       "version_minor": 0
      },
      "text/plain": [
       "VBox(children=(Label(value='Waiting for wandb.init()...\\r'), FloatProgress(value=0.011114039399965097, max=1.0…"
      ]
     },
     "metadata": {},
     "output_type": "display_data"
    },
    {
     "data": {
      "text/html": [
       "Tracking run with wandb version 0.15.12"
      ],
      "text/plain": [
       "<IPython.core.display.HTML object>"
      ]
     },
     "metadata": {},
     "output_type": "display_data"
    },
    {
     "data": {
      "text/html": [
       "Run data is saved locally in <code>/home/chenlequn/GitHub/LDED-FusionNet/code/wandb/run-20231031_173904-bj9gpacp</code>"
      ],
      "text/plain": [
       "<IPython.core.display.HTML object>"
      ]
     },
     "metadata": {},
     "output_type": "display_data"
    },
    {
     "data": {
      "text/html": [
       "Syncing run <strong><a href='https://wandb.ai/lequn/AudioVisual_ML_ablation_study_v2/runs/bj9gpacp' target=\"_blank\">KNN_Audio Ablated 2</a></strong> to <a href='https://wandb.ai/lequn/AudioVisual_ML_ablation_study_v2' target=\"_blank\">Weights & Biases</a> (<a href='https://wandb.me/run' target=\"_blank\">docs</a>)<br/>"
      ],
      "text/plain": [
       "<IPython.core.display.HTML object>"
      ]
     },
     "metadata": {},
     "output_type": "display_data"
    },
    {
     "data": {
      "text/html": [
       " View project at <a href='https://wandb.ai/lequn/AudioVisual_ML_ablation_study_v2' target=\"_blank\">https://wandb.ai/lequn/AudioVisual_ML_ablation_study_v2</a>"
      ],
      "text/plain": [
       "<IPython.core.display.HTML object>"
      ]
     },
     "metadata": {},
     "output_type": "display_data"
    },
    {
     "data": {
      "text/html": [
       " View run at <a href='https://wandb.ai/lequn/AudioVisual_ML_ablation_study_v2/runs/bj9gpacp' target=\"_blank\">https://wandb.ai/lequn/AudioVisual_ML_ablation_study_v2/runs/bj9gpacp</a>"
      ],
      "text/plain": [
       "<IPython.core.display.HTML object>"
      ]
     },
     "metadata": {},
     "output_type": "display_data"
    },
    {
     "name": "stdout",
     "output_type": "stream",
     "text": [
      "\t\tAccuracy: Mean = 0.8287752386505499, Std = 0.006537771005571701\n",
      "\t\tF1 Score: Mean = 0.8228589083290021, Std = 0.008824334469927975\n",
      "\t\tPrecision: Mean = 0.8245466382010752, Std = 0.006804442287147621\n",
      "\t\tRecall: Mean = 0.8287752386505499, Std = 0.006537771005571701\n",
      "\t\tROC-AUC: Mean = 0.9530435483621776, Std = 0.006215546842078825\n"
     ]
    },
    {
     "data": {
      "text/html": [
       "Waiting for W&B process to finish... <strong style=\"color:green\">(success).</strong>"
      ],
      "text/plain": [
       "<IPython.core.display.HTML object>"
      ]
     },
     "metadata": {},
     "output_type": "display_data"
    },
    {
     "data": {
      "text/html": [
       "<style>\n",
       "    table.wandb td:nth-child(1) { padding: 0 10px; text-align: left ; width: auto;} td:nth-child(2) {text-align: left ; width: 100%}\n",
       "    .wandb-row { display: flex; flex-direction: row; flex-wrap: wrap; justify-content: flex-start; width: 100% }\n",
       "    .wandb-col { display: flex; flex-direction: column; flex-basis: 100%; flex: 1; padding: 10px; }\n",
       "    </style>\n",
       "<div class=\"wandb-row\"><div class=\"wandb-col\"><h3>Run history:</h3><br/><table class=\"wandb\"><tr><td>Accuracy_mean</td><td>▁</td></tr><tr><td>Accuracy_std</td><td>▁</td></tr><tr><td>F1 Score_mean</td><td>▁</td></tr><tr><td>F1 Score_std</td><td>▁</td></tr><tr><td>Precision_mean</td><td>▁</td></tr><tr><td>Precision_std</td><td>▁</td></tr><tr><td>ROC-AUC_mean</td><td>▁</td></tr><tr><td>ROC-AUC_std</td><td>▁</td></tr><tr><td>Recall_mean</td><td>▁</td></tr><tr><td>Recall_std</td><td>▁</td></tr></table><br/></div><div class=\"wandb-col\"><h3>Run summary:</h3><br/><table class=\"wandb\"><tr><td>Accuracy_mean</td><td>0.82878</td></tr><tr><td>Accuracy_std</td><td>0.00654</td></tr><tr><td>F1 Score_mean</td><td>0.82286</td></tr><tr><td>F1 Score_std</td><td>0.00882</td></tr><tr><td>Precision_mean</td><td>0.82455</td></tr><tr><td>Precision_std</td><td>0.0068</td></tr><tr><td>ROC-AUC_mean</td><td>0.95304</td></tr><tr><td>ROC-AUC_std</td><td>0.00622</td></tr><tr><td>Recall_mean</td><td>0.82878</td></tr><tr><td>Recall_std</td><td>0.00654</td></tr></table><br/></div></div>"
      ],
      "text/plain": [
       "<IPython.core.display.HTML object>"
      ]
     },
     "metadata": {},
     "output_type": "display_data"
    },
    {
     "data": {
      "text/html": [
       " View run <strong style=\"color:#cdcd00\">KNN_Audio Ablated 2</strong> at: <a href='https://wandb.ai/lequn/AudioVisual_ML_ablation_study_v2/runs/bj9gpacp' target=\"_blank\">https://wandb.ai/lequn/AudioVisual_ML_ablation_study_v2/runs/bj9gpacp</a><br/> View job at <a href='https://wandb.ai/lequn/AudioVisual_ML_ablation_study_v2/jobs/QXJ0aWZhY3RDb2xsZWN0aW9uOjExMTQ1OTc4Ng==/version_details/v12' target=\"_blank\">https://wandb.ai/lequn/AudioVisual_ML_ablation_study_v2/jobs/QXJ0aWZhY3RDb2xsZWN0aW9uOjExMTQ1OTc4Ng==/version_details/v12</a><br/>Synced 6 W&B file(s), 0 media file(s), 0 artifact file(s) and 0 other file(s)"
      ],
      "text/plain": [
       "<IPython.core.display.HTML object>"
      ]
     },
     "metadata": {},
     "output_type": "display_data"
    },
    {
     "data": {
      "text/html": [
       "Find logs at: <code>./wandb/run-20231031_173904-bj9gpacp/logs</code>"
      ],
      "text/plain": [
       "<IPython.core.display.HTML object>"
      ]
     },
     "metadata": {},
     "output_type": "display_data"
    },
    {
     "name": "stdout",
     "output_type": "stream",
     "text": [
      "\tTraining model: DT\n"
     ]
    },
    {
     "data": {
      "application/vnd.jupyter.widget-view+json": {
       "model_id": "b0194704651e4b3f88957b8525725891",
       "version_major": 2,
       "version_minor": 0
      },
      "text/plain": [
       "VBox(children=(Label(value='Waiting for wandb.init()...\\r'), FloatProgress(value=0.011115491933338086, max=1.0…"
      ]
     },
     "metadata": {},
     "output_type": "display_data"
    },
    {
     "data": {
      "text/html": [
       "Tracking run with wandb version 0.15.12"
      ],
      "text/plain": [
       "<IPython.core.display.HTML object>"
      ]
     },
     "metadata": {},
     "output_type": "display_data"
    },
    {
     "data": {
      "text/html": [
       "Run data is saved locally in <code>/home/chenlequn/GitHub/LDED-FusionNet/code/wandb/run-20231031_173921-jxtejtef</code>"
      ],
      "text/plain": [
       "<IPython.core.display.HTML object>"
      ]
     },
     "metadata": {},
     "output_type": "display_data"
    },
    {
     "data": {
      "text/html": [
       "Syncing run <strong><a href='https://wandb.ai/lequn/AudioVisual_ML_ablation_study_v2/runs/jxtejtef' target=\"_blank\">DT_Audio Ablated 2</a></strong> to <a href='https://wandb.ai/lequn/AudioVisual_ML_ablation_study_v2' target=\"_blank\">Weights & Biases</a> (<a href='https://wandb.me/run' target=\"_blank\">docs</a>)<br/>"
      ],
      "text/plain": [
       "<IPython.core.display.HTML object>"
      ]
     },
     "metadata": {},
     "output_type": "display_data"
    },
    {
     "data": {
      "text/html": [
       " View project at <a href='https://wandb.ai/lequn/AudioVisual_ML_ablation_study_v2' target=\"_blank\">https://wandb.ai/lequn/AudioVisual_ML_ablation_study_v2</a>"
      ],
      "text/plain": [
       "<IPython.core.display.HTML object>"
      ]
     },
     "metadata": {},
     "output_type": "display_data"
    },
    {
     "data": {
      "text/html": [
       " View run at <a href='https://wandb.ai/lequn/AudioVisual_ML_ablation_study_v2/runs/jxtejtef' target=\"_blank\">https://wandb.ai/lequn/AudioVisual_ML_ablation_study_v2/runs/jxtejtef</a>"
      ],
      "text/plain": [
       "<IPython.core.display.HTML object>"
      ]
     },
     "metadata": {},
     "output_type": "display_data"
    },
    {
     "name": "stdout",
     "output_type": "stream",
     "text": [
      "\t\tAccuracy: Mean = 0.7844632324908614, Std = 0.00652971718431618\n",
      "\t\tF1 Score: Mean = 0.7817331349274198, Std = 0.007901724566966854\n",
      "\t\tPrecision: Mean = 0.7807164487303876, Std = 0.008104007088436643\n",
      "\t\tRecall: Mean = 0.7844632324908614, Std = 0.00652971718431618\n",
      "\t\tROC-AUC: Mean = 0.8783194937963454, Std = 0.006812899128403997\n"
     ]
    },
    {
     "data": {
      "text/html": [
       "Waiting for W&B process to finish... <strong style=\"color:green\">(success).</strong>"
      ],
      "text/plain": [
       "<IPython.core.display.HTML object>"
      ]
     },
     "metadata": {},
     "output_type": "display_data"
    },
    {
     "data": {
      "application/vnd.jupyter.widget-view+json": {
       "model_id": "c70f8c418f13419f955c548228e9b4b9",
       "version_major": 2,
       "version_minor": 0
      },
      "text/plain": [
       "VBox(children=(Label(value='0.000 MB of 0.002 MB uploaded (0.000 MB deduped)\\r'), FloatProgress(value=0.0, max…"
      ]
     },
     "metadata": {},
     "output_type": "display_data"
    },
    {
     "data": {
      "text/html": [
       "<style>\n",
       "    table.wandb td:nth-child(1) { padding: 0 10px; text-align: left ; width: auto;} td:nth-child(2) {text-align: left ; width: 100%}\n",
       "    .wandb-row { display: flex; flex-direction: row; flex-wrap: wrap; justify-content: flex-start; width: 100% }\n",
       "    .wandb-col { display: flex; flex-direction: column; flex-basis: 100%; flex: 1; padding: 10px; }\n",
       "    </style>\n",
       "<div class=\"wandb-row\"><div class=\"wandb-col\"><h3>Run history:</h3><br/><table class=\"wandb\"><tr><td>Accuracy_mean</td><td>▁</td></tr><tr><td>Accuracy_std</td><td>▁</td></tr><tr><td>F1 Score_mean</td><td>▁</td></tr><tr><td>F1 Score_std</td><td>▁</td></tr><tr><td>Precision_mean</td><td>▁</td></tr><tr><td>Precision_std</td><td>▁</td></tr><tr><td>ROC-AUC_mean</td><td>▁</td></tr><tr><td>ROC-AUC_std</td><td>▁</td></tr><tr><td>Recall_mean</td><td>▁</td></tr><tr><td>Recall_std</td><td>▁</td></tr></table><br/></div><div class=\"wandb-col\"><h3>Run summary:</h3><br/><table class=\"wandb\"><tr><td>Accuracy_mean</td><td>0.78446</td></tr><tr><td>Accuracy_std</td><td>0.00653</td></tr><tr><td>F1 Score_mean</td><td>0.78173</td></tr><tr><td>F1 Score_std</td><td>0.0079</td></tr><tr><td>Precision_mean</td><td>0.78072</td></tr><tr><td>Precision_std</td><td>0.0081</td></tr><tr><td>ROC-AUC_mean</td><td>0.87832</td></tr><tr><td>ROC-AUC_std</td><td>0.00681</td></tr><tr><td>Recall_mean</td><td>0.78446</td></tr><tr><td>Recall_std</td><td>0.00653</td></tr></table><br/></div></div>"
      ],
      "text/plain": [
       "<IPython.core.display.HTML object>"
      ]
     },
     "metadata": {},
     "output_type": "display_data"
    },
    {
     "data": {
      "text/html": [
       " View run <strong style=\"color:#cdcd00\">DT_Audio Ablated 2</strong> at: <a href='https://wandb.ai/lequn/AudioVisual_ML_ablation_study_v2/runs/jxtejtef' target=\"_blank\">https://wandb.ai/lequn/AudioVisual_ML_ablation_study_v2/runs/jxtejtef</a><br/> View job at <a href='https://wandb.ai/lequn/AudioVisual_ML_ablation_study_v2/jobs/QXJ0aWZhY3RDb2xsZWN0aW9uOjExMTQ1OTc4Ng==/version_details/v12' target=\"_blank\">https://wandb.ai/lequn/AudioVisual_ML_ablation_study_v2/jobs/QXJ0aWZhY3RDb2xsZWN0aW9uOjExMTQ1OTc4Ng==/version_details/v12</a><br/>Synced 6 W&B file(s), 0 media file(s), 0 artifact file(s) and 0 other file(s)"
      ],
      "text/plain": [
       "<IPython.core.display.HTML object>"
      ]
     },
     "metadata": {},
     "output_type": "display_data"
    },
    {
     "data": {
      "text/html": [
       "Find logs at: <code>./wandb/run-20231031_173921-jxtejtef/logs</code>"
      ],
      "text/plain": [
       "<IPython.core.display.HTML object>"
      ]
     },
     "metadata": {},
     "output_type": "display_data"
    },
    {
     "name": "stdout",
     "output_type": "stream",
     "text": [
      "\tTraining model: RF\n"
     ]
    },
    {
     "data": {
      "application/vnd.jupyter.widget-view+json": {
       "model_id": "eda501e7de114fcb832f47c515b31fa4",
       "version_major": 2,
       "version_minor": 0
      },
      "text/plain": [
       "VBox(children=(Label(value='Waiting for wandb.init()...\\r'), FloatProgress(value=0.011113194933406905, max=1.0…"
      ]
     },
     "metadata": {},
     "output_type": "display_data"
    },
    {
     "data": {
      "text/html": [
       "Tracking run with wandb version 0.15.12"
      ],
      "text/plain": [
       "<IPython.core.display.HTML object>"
      ]
     },
     "metadata": {},
     "output_type": "display_data"
    },
    {
     "data": {
      "text/html": [
       "Run data is saved locally in <code>/home/chenlequn/GitHub/LDED-FusionNet/code/wandb/run-20231031_173943-kvkg4144</code>"
      ],
      "text/plain": [
       "<IPython.core.display.HTML object>"
      ]
     },
     "metadata": {},
     "output_type": "display_data"
    },
    {
     "data": {
      "text/html": [
       "Syncing run <strong><a href='https://wandb.ai/lequn/AudioVisual_ML_ablation_study_v2/runs/kvkg4144' target=\"_blank\">RF_Audio Ablated 2</a></strong> to <a href='https://wandb.ai/lequn/AudioVisual_ML_ablation_study_v2' target=\"_blank\">Weights & Biases</a> (<a href='https://wandb.me/run' target=\"_blank\">docs</a>)<br/>"
      ],
      "text/plain": [
       "<IPython.core.display.HTML object>"
      ]
     },
     "metadata": {},
     "output_type": "display_data"
    },
    {
     "data": {
      "text/html": [
       " View project at <a href='https://wandb.ai/lequn/AudioVisual_ML_ablation_study_v2' target=\"_blank\">https://wandb.ai/lequn/AudioVisual_ML_ablation_study_v2</a>"
      ],
      "text/plain": [
       "<IPython.core.display.HTML object>"
      ]
     },
     "metadata": {},
     "output_type": "display_data"
    },
    {
     "data": {
      "text/html": [
       " View run at <a href='https://wandb.ai/lequn/AudioVisual_ML_ablation_study_v2/runs/kvkg4144' target=\"_blank\">https://wandb.ai/lequn/AudioVisual_ML_ablation_study_v2/runs/kvkg4144</a>"
      ],
      "text/plain": [
       "<IPython.core.display.HTML object>"
      ]
     },
     "metadata": {},
     "output_type": "display_data"
    },
    {
     "name": "stdout",
     "output_type": "stream",
     "text": [
      "\t\tAccuracy: Mean = 0.8449156406748746, Std = 0.01118669745531681\n",
      "\t\tF1 Score: Mean = 0.8407916870615606, Std = 0.011876540798904706\n",
      "\t\tPrecision: Mean = 0.8407343402346594, Std = 0.01206826733072619\n",
      "\t\tRecall: Mean = 0.8449156406748746, Std = 0.01118669745531681\n",
      "\t\tROC-AUC: Mean = 0.9636945325674949, Std = 0.0038332871773587842\n"
     ]
    },
    {
     "data": {
      "text/html": [
       "Waiting for W&B process to finish... <strong style=\"color:green\">(success).</strong>"
      ],
      "text/plain": [
       "<IPython.core.display.HTML object>"
      ]
     },
     "metadata": {},
     "output_type": "display_data"
    },
    {
     "data": {
      "application/vnd.jupyter.widget-view+json": {
       "model_id": "f44f628f0f11470c9520be948a5c256e",
       "version_major": 2,
       "version_minor": 0
      },
      "text/plain": [
       "VBox(children=(Label(value='0.002 MB of 0.002 MB uploaded (0.000 MB deduped)\\r'), FloatProgress(value=1.0, max…"
      ]
     },
     "metadata": {},
     "output_type": "display_data"
    },
    {
     "data": {
      "text/html": [
       "<style>\n",
       "    table.wandb td:nth-child(1) { padding: 0 10px; text-align: left ; width: auto;} td:nth-child(2) {text-align: left ; width: 100%}\n",
       "    .wandb-row { display: flex; flex-direction: row; flex-wrap: wrap; justify-content: flex-start; width: 100% }\n",
       "    .wandb-col { display: flex; flex-direction: column; flex-basis: 100%; flex: 1; padding: 10px; }\n",
       "    </style>\n",
       "<div class=\"wandb-row\"><div class=\"wandb-col\"><h3>Run history:</h3><br/><table class=\"wandb\"><tr><td>Accuracy_mean</td><td>▁</td></tr><tr><td>Accuracy_std</td><td>▁</td></tr><tr><td>F1 Score_mean</td><td>▁</td></tr><tr><td>F1 Score_std</td><td>▁</td></tr><tr><td>Precision_mean</td><td>▁</td></tr><tr><td>Precision_std</td><td>▁</td></tr><tr><td>ROC-AUC_mean</td><td>▁</td></tr><tr><td>ROC-AUC_std</td><td>▁</td></tr><tr><td>Recall_mean</td><td>▁</td></tr><tr><td>Recall_std</td><td>▁</td></tr></table><br/></div><div class=\"wandb-col\"><h3>Run summary:</h3><br/><table class=\"wandb\"><tr><td>Accuracy_mean</td><td>0.84492</td></tr><tr><td>Accuracy_std</td><td>0.01119</td></tr><tr><td>F1 Score_mean</td><td>0.84079</td></tr><tr><td>F1 Score_std</td><td>0.01188</td></tr><tr><td>Precision_mean</td><td>0.84073</td></tr><tr><td>Precision_std</td><td>0.01207</td></tr><tr><td>ROC-AUC_mean</td><td>0.96369</td></tr><tr><td>ROC-AUC_std</td><td>0.00383</td></tr><tr><td>Recall_mean</td><td>0.84492</td></tr><tr><td>Recall_std</td><td>0.01119</td></tr></table><br/></div></div>"
      ],
      "text/plain": [
       "<IPython.core.display.HTML object>"
      ]
     },
     "metadata": {},
     "output_type": "display_data"
    },
    {
     "data": {
      "text/html": [
       " View run <strong style=\"color:#cdcd00\">RF_Audio Ablated 2</strong> at: <a href='https://wandb.ai/lequn/AudioVisual_ML_ablation_study_v2/runs/kvkg4144' target=\"_blank\">https://wandb.ai/lequn/AudioVisual_ML_ablation_study_v2/runs/kvkg4144</a><br/> View job at <a href='https://wandb.ai/lequn/AudioVisual_ML_ablation_study_v2/jobs/QXJ0aWZhY3RDb2xsZWN0aW9uOjExMTQ1OTc4Ng==/version_details/v12' target=\"_blank\">https://wandb.ai/lequn/AudioVisual_ML_ablation_study_v2/jobs/QXJ0aWZhY3RDb2xsZWN0aW9uOjExMTQ1OTc4Ng==/version_details/v12</a><br/>Synced 6 W&B file(s), 0 media file(s), 0 artifact file(s) and 0 other file(s)"
      ],
      "text/plain": [
       "<IPython.core.display.HTML object>"
      ]
     },
     "metadata": {},
     "output_type": "display_data"
    },
    {
     "data": {
      "text/html": [
       "Find logs at: <code>./wandb/run-20231031_173943-kvkg4144/logs</code>"
      ],
      "text/plain": [
       "<IPython.core.display.HTML object>"
      ]
     },
     "metadata": {},
     "output_type": "display_data"
    },
    {
     "name": "stdout",
     "output_type": "stream",
     "text": [
      "\tTraining model: BalancedRF\n"
     ]
    },
    {
     "data": {
      "application/vnd.jupyter.widget-view+json": {
       "model_id": "0438aaa87ee34889bca938951e240541",
       "version_major": 2,
       "version_minor": 0
      },
      "text/plain": [
       "VBox(children=(Label(value='Waiting for wandb.init()...\\r'), FloatProgress(value=0.011113563200019093, max=1.0…"
      ]
     },
     "metadata": {},
     "output_type": "display_data"
    },
    {
     "data": {
      "text/html": [
       "Tracking run with wandb version 0.15.12"
      ],
      "text/plain": [
       "<IPython.core.display.HTML object>"
      ]
     },
     "metadata": {},
     "output_type": "display_data"
    },
    {
     "data": {
      "text/html": [
       "Run data is saved locally in <code>/home/chenlequn/GitHub/LDED-FusionNet/code/wandb/run-20231031_174050-guukxxa6</code>"
      ],
      "text/plain": [
       "<IPython.core.display.HTML object>"
      ]
     },
     "metadata": {},
     "output_type": "display_data"
    },
    {
     "data": {
      "text/html": [
       "Syncing run <strong><a href='https://wandb.ai/lequn/AudioVisual_ML_ablation_study_v2/runs/guukxxa6' target=\"_blank\">BalancedRF_Audio Ablated 2</a></strong> to <a href='https://wandb.ai/lequn/AudioVisual_ML_ablation_study_v2' target=\"_blank\">Weights & Biases</a> (<a href='https://wandb.me/run' target=\"_blank\">docs</a>)<br/>"
      ],
      "text/plain": [
       "<IPython.core.display.HTML object>"
      ]
     },
     "metadata": {},
     "output_type": "display_data"
    },
    {
     "data": {
      "text/html": [
       " View project at <a href='https://wandb.ai/lequn/AudioVisual_ML_ablation_study_v2' target=\"_blank\">https://wandb.ai/lequn/AudioVisual_ML_ablation_study_v2</a>"
      ],
      "text/plain": [
       "<IPython.core.display.HTML object>"
      ]
     },
     "metadata": {},
     "output_type": "display_data"
    },
    {
     "data": {
      "text/html": [
       " View run at <a href='https://wandb.ai/lequn/AudioVisual_ML_ablation_study_v2/runs/guukxxa6' target=\"_blank\">https://wandb.ai/lequn/AudioVisual_ML_ablation_study_v2/runs/guukxxa6</a>"
      ],
      "text/plain": [
       "<IPython.core.display.HTML object>"
      ]
     },
     "metadata": {},
     "output_type": "display_data"
    },
    {
     "name": "stderr",
     "output_type": "stream",
     "text": [
      "/home/chenlequn/anaconda3/envs/torch/lib/python3.9/site-packages/imblearn/ensemble/_forest.py:546: FutureWarning: The default of `sampling_strategy` will change from `'auto'` to `'all'` in version 0.13. This change will follow the implementation proposed in the original paper. Set to `'all'` to silence this warning and adopt the future behaviour.\n",
      "  warn(\n",
      "/home/chenlequn/anaconda3/envs/torch/lib/python3.9/site-packages/imblearn/ensemble/_forest.py:558: FutureWarning: The default of `replacement` will change from `False` to `True` in version 0.13. This change will follow the implementation proposed in the original paper. Set to `True` to silence this warning and adopt the future behaviour.\n",
      "  warn(\n"
     ]
    },
    {
     "name": "stdout",
     "output_type": "stream",
     "text": [
      "\t\tAccuracy: Mean = 0.8388972363630927, Std = 0.012988296580639129\n",
      "\t\tF1 Score: Mean = 0.838939009870234, Std = 0.013050990465314343\n",
      "\t\tPrecision: Mean = 0.8422679988446277, Std = 0.013611842415779802\n",
      "\t\tRecall: Mean = 0.8388972363630927, Std = 0.012988296580639129\n",
      "\t\tROC-AUC: Mean = 0.9613325422743012, Std = 0.0028486699417757146\n"
     ]
    },
    {
     "data": {
      "text/html": [
       "Waiting for W&B process to finish... <strong style=\"color:green\">(success).</strong>"
      ],
      "text/plain": [
       "<IPython.core.display.HTML object>"
      ]
     },
     "metadata": {},
     "output_type": "display_data"
    },
    {
     "data": {
      "text/html": [
       "<style>\n",
       "    table.wandb td:nth-child(1) { padding: 0 10px; text-align: left ; width: auto;} td:nth-child(2) {text-align: left ; width: 100%}\n",
       "    .wandb-row { display: flex; flex-direction: row; flex-wrap: wrap; justify-content: flex-start; width: 100% }\n",
       "    .wandb-col { display: flex; flex-direction: column; flex-basis: 100%; flex: 1; padding: 10px; }\n",
       "    </style>\n",
       "<div class=\"wandb-row\"><div class=\"wandb-col\"><h3>Run history:</h3><br/><table class=\"wandb\"><tr><td>Accuracy_mean</td><td>▁</td></tr><tr><td>Accuracy_std</td><td>▁</td></tr><tr><td>F1 Score_mean</td><td>▁</td></tr><tr><td>F1 Score_std</td><td>▁</td></tr><tr><td>Precision_mean</td><td>▁</td></tr><tr><td>Precision_std</td><td>▁</td></tr><tr><td>ROC-AUC_mean</td><td>▁</td></tr><tr><td>ROC-AUC_std</td><td>▁</td></tr><tr><td>Recall_mean</td><td>▁</td></tr><tr><td>Recall_std</td><td>▁</td></tr></table><br/></div><div class=\"wandb-col\"><h3>Run summary:</h3><br/><table class=\"wandb\"><tr><td>Accuracy_mean</td><td>0.8389</td></tr><tr><td>Accuracy_std</td><td>0.01299</td></tr><tr><td>F1 Score_mean</td><td>0.83894</td></tr><tr><td>F1 Score_std</td><td>0.01305</td></tr><tr><td>Precision_mean</td><td>0.84227</td></tr><tr><td>Precision_std</td><td>0.01361</td></tr><tr><td>ROC-AUC_mean</td><td>0.96133</td></tr><tr><td>ROC-AUC_std</td><td>0.00285</td></tr><tr><td>Recall_mean</td><td>0.8389</td></tr><tr><td>Recall_std</td><td>0.01299</td></tr></table><br/></div></div>"
      ],
      "text/plain": [
       "<IPython.core.display.HTML object>"
      ]
     },
     "metadata": {},
     "output_type": "display_data"
    },
    {
     "data": {
      "text/html": [
       " View run <strong style=\"color:#cdcd00\">BalancedRF_Audio Ablated 2</strong> at: <a href='https://wandb.ai/lequn/AudioVisual_ML_ablation_study_v2/runs/guukxxa6' target=\"_blank\">https://wandb.ai/lequn/AudioVisual_ML_ablation_study_v2/runs/guukxxa6</a><br/> View job at <a href='https://wandb.ai/lequn/AudioVisual_ML_ablation_study_v2/jobs/QXJ0aWZhY3RDb2xsZWN0aW9uOjExMTQ1OTc4Ng==/version_details/v12' target=\"_blank\">https://wandb.ai/lequn/AudioVisual_ML_ablation_study_v2/jobs/QXJ0aWZhY3RDb2xsZWN0aW9uOjExMTQ1OTc4Ng==/version_details/v12</a><br/>Synced 6 W&B file(s), 0 media file(s), 0 artifact file(s) and 0 other file(s)"
      ],
      "text/plain": [
       "<IPython.core.display.HTML object>"
      ]
     },
     "metadata": {},
     "output_type": "display_data"
    },
    {
     "data": {
      "text/html": [
       "Find logs at: <code>./wandb/run-20231031_174050-guukxxa6/logs</code>"
      ],
      "text/plain": [
       "<IPython.core.display.HTML object>"
      ]
     },
     "metadata": {},
     "output_type": "display_data"
    },
    {
     "name": "stdout",
     "output_type": "stream",
     "text": [
      "\tTraining model: RUSBoost\n"
     ]
    },
    {
     "data": {
      "application/vnd.jupyter.widget-view+json": {
       "model_id": "c5e856330d444a839288ab792c80af85",
       "version_major": 2,
       "version_minor": 0
      },
      "text/plain": [
       "VBox(children=(Label(value='Waiting for wandb.init()...\\r'), FloatProgress(value=0.011113389544415339, max=1.0…"
      ]
     },
     "metadata": {},
     "output_type": "display_data"
    },
    {
     "data": {
      "text/html": [
       "Tracking run with wandb version 0.15.12"
      ],
      "text/plain": [
       "<IPython.core.display.HTML object>"
      ]
     },
     "metadata": {},
     "output_type": "display_data"
    },
    {
     "data": {
      "text/html": [
       "Run data is saved locally in <code>/home/chenlequn/GitHub/LDED-FusionNet/code/wandb/run-20231031_174129-v4mf76v2</code>"
      ],
      "text/plain": [
       "<IPython.core.display.HTML object>"
      ]
     },
     "metadata": {},
     "output_type": "display_data"
    },
    {
     "data": {
      "text/html": [
       "Syncing run <strong><a href='https://wandb.ai/lequn/AudioVisual_ML_ablation_study_v2/runs/v4mf76v2' target=\"_blank\">RUSBoost_Audio Ablated 2</a></strong> to <a href='https://wandb.ai/lequn/AudioVisual_ML_ablation_study_v2' target=\"_blank\">Weights & Biases</a> (<a href='https://wandb.me/run' target=\"_blank\">docs</a>)<br/>"
      ],
      "text/plain": [
       "<IPython.core.display.HTML object>"
      ]
     },
     "metadata": {},
     "output_type": "display_data"
    },
    {
     "data": {
      "text/html": [
       " View project at <a href='https://wandb.ai/lequn/AudioVisual_ML_ablation_study_v2' target=\"_blank\">https://wandb.ai/lequn/AudioVisual_ML_ablation_study_v2</a>"
      ],
      "text/plain": [
       "<IPython.core.display.HTML object>"
      ]
     },
     "metadata": {},
     "output_type": "display_data"
    },
    {
     "data": {
      "text/html": [
       " View run at <a href='https://wandb.ai/lequn/AudioVisual_ML_ablation_study_v2/runs/v4mf76v2' target=\"_blank\">https://wandb.ai/lequn/AudioVisual_ML_ablation_study_v2/runs/v4mf76v2</a>"
      ],
      "text/plain": [
       "<IPython.core.display.HTML object>"
      ]
     },
     "metadata": {},
     "output_type": "display_data"
    },
    {
     "name": "stdout",
     "output_type": "stream",
     "text": [
      "\t\tAccuracy: Mean = 0.768053717865339, Std = 0.014601482007309294\n",
      "\t\tF1 Score: Mean = 0.7667840764571048, Std = 0.014961975501727644\n",
      "\t\tPrecision: Mean = 0.773689377527559, Std = 0.01332923745026914\n",
      "\t\tRecall: Mean = 0.768053717865339, Std = 0.014601482007309294\n",
      "\t\tROC-AUC: Mean = 0.9003389333913651, Std = 0.002988230732094423\n"
     ]
    },
    {
     "data": {
      "text/html": [
       "Waiting for W&B process to finish... <strong style=\"color:green\">(success).</strong>"
      ],
      "text/plain": [
       "<IPython.core.display.HTML object>"
      ]
     },
     "metadata": {},
     "output_type": "display_data"
    },
    {
     "data": {
      "application/vnd.jupyter.widget-view+json": {
       "model_id": "939735f0bbe8483a9d516cbedb1b0949",
       "version_major": 2,
       "version_minor": 0
      },
      "text/plain": [
       "VBox(children=(Label(value='0.002 MB of 0.002 MB uploaded (0.000 MB deduped)\\r'), FloatProgress(value=1.0, max…"
      ]
     },
     "metadata": {},
     "output_type": "display_data"
    },
    {
     "data": {
      "text/html": [
       "<style>\n",
       "    table.wandb td:nth-child(1) { padding: 0 10px; text-align: left ; width: auto;} td:nth-child(2) {text-align: left ; width: 100%}\n",
       "    .wandb-row { display: flex; flex-direction: row; flex-wrap: wrap; justify-content: flex-start; width: 100% }\n",
       "    .wandb-col { display: flex; flex-direction: column; flex-basis: 100%; flex: 1; padding: 10px; }\n",
       "    </style>\n",
       "<div class=\"wandb-row\"><div class=\"wandb-col\"><h3>Run history:</h3><br/><table class=\"wandb\"><tr><td>Accuracy_mean</td><td>▁</td></tr><tr><td>Accuracy_std</td><td>▁</td></tr><tr><td>F1 Score_mean</td><td>▁</td></tr><tr><td>F1 Score_std</td><td>▁</td></tr><tr><td>Precision_mean</td><td>▁</td></tr><tr><td>Precision_std</td><td>▁</td></tr><tr><td>ROC-AUC_mean</td><td>▁</td></tr><tr><td>ROC-AUC_std</td><td>▁</td></tr><tr><td>Recall_mean</td><td>▁</td></tr><tr><td>Recall_std</td><td>▁</td></tr></table><br/></div><div class=\"wandb-col\"><h3>Run summary:</h3><br/><table class=\"wandb\"><tr><td>Accuracy_mean</td><td>0.76805</td></tr><tr><td>Accuracy_std</td><td>0.0146</td></tr><tr><td>F1 Score_mean</td><td>0.76678</td></tr><tr><td>F1 Score_std</td><td>0.01496</td></tr><tr><td>Precision_mean</td><td>0.77369</td></tr><tr><td>Precision_std</td><td>0.01333</td></tr><tr><td>ROC-AUC_mean</td><td>0.90034</td></tr><tr><td>ROC-AUC_std</td><td>0.00299</td></tr><tr><td>Recall_mean</td><td>0.76805</td></tr><tr><td>Recall_std</td><td>0.0146</td></tr></table><br/></div></div>"
      ],
      "text/plain": [
       "<IPython.core.display.HTML object>"
      ]
     },
     "metadata": {},
     "output_type": "display_data"
    },
    {
     "data": {
      "text/html": [
       " View run <strong style=\"color:#cdcd00\">RUSBoost_Audio Ablated 2</strong> at: <a href='https://wandb.ai/lequn/AudioVisual_ML_ablation_study_v2/runs/v4mf76v2' target=\"_blank\">https://wandb.ai/lequn/AudioVisual_ML_ablation_study_v2/runs/v4mf76v2</a><br/> View job at <a href='https://wandb.ai/lequn/AudioVisual_ML_ablation_study_v2/jobs/QXJ0aWZhY3RDb2xsZWN0aW9uOjExMTQ1OTc4Ng==/version_details/v12' target=\"_blank\">https://wandb.ai/lequn/AudioVisual_ML_ablation_study_v2/jobs/QXJ0aWZhY3RDb2xsZWN0aW9uOjExMTQ1OTc4Ng==/version_details/v12</a><br/>Synced 6 W&B file(s), 0 media file(s), 0 artifact file(s) and 0 other file(s)"
      ],
      "text/plain": [
       "<IPython.core.display.HTML object>"
      ]
     },
     "metadata": {},
     "output_type": "display_data"
    },
    {
     "data": {
      "text/html": [
       "Find logs at: <code>./wandb/run-20231031_174129-v4mf76v2/logs</code>"
      ],
      "text/plain": [
       "<IPython.core.display.HTML object>"
      ]
     },
     "metadata": {},
     "output_type": "display_data"
    },
    {
     "name": "stdout",
     "output_type": "stream",
     "text": [
      "\tTraining model: Ada\n"
     ]
    },
    {
     "data": {
      "application/vnd.jupyter.widget-view+json": {
       "model_id": "6f017efec80e4c5fbb5f52f43039b8cf",
       "version_major": 2,
       "version_minor": 0
      },
      "text/plain": [
       "VBox(children=(Label(value='Waiting for wandb.init()...\\r'), FloatProgress(value=0.01111349742229019, max=1.0)…"
      ]
     },
     "metadata": {},
     "output_type": "display_data"
    },
    {
     "data": {
      "text/html": [
       "Tracking run with wandb version 0.15.12"
      ],
      "text/plain": [
       "<IPython.core.display.HTML object>"
      ]
     },
     "metadata": {},
     "output_type": "display_data"
    },
    {
     "data": {
      "text/html": [
       "Run data is saved locally in <code>/home/chenlequn/GitHub/LDED-FusionNet/code/wandb/run-20231031_174153-08y389pn</code>"
      ],
      "text/plain": [
       "<IPython.core.display.HTML object>"
      ]
     },
     "metadata": {},
     "output_type": "display_data"
    },
    {
     "data": {
      "text/html": [
       "Syncing run <strong><a href='https://wandb.ai/lequn/AudioVisual_ML_ablation_study_v2/runs/08y389pn' target=\"_blank\">Ada_Audio Ablated 2</a></strong> to <a href='https://wandb.ai/lequn/AudioVisual_ML_ablation_study_v2' target=\"_blank\">Weights & Biases</a> (<a href='https://wandb.me/run' target=\"_blank\">docs</a>)<br/>"
      ],
      "text/plain": [
       "<IPython.core.display.HTML object>"
      ]
     },
     "metadata": {},
     "output_type": "display_data"
    },
    {
     "data": {
      "text/html": [
       " View project at <a href='https://wandb.ai/lequn/AudioVisual_ML_ablation_study_v2' target=\"_blank\">https://wandb.ai/lequn/AudioVisual_ML_ablation_study_v2</a>"
      ],
      "text/plain": [
       "<IPython.core.display.HTML object>"
      ]
     },
     "metadata": {},
     "output_type": "display_data"
    },
    {
     "data": {
      "text/html": [
       " View run at <a href='https://wandb.ai/lequn/AudioVisual_ML_ablation_study_v2/runs/08y389pn' target=\"_blank\">https://wandb.ai/lequn/AudioVisual_ML_ablation_study_v2/runs/08y389pn</a>"
      ],
      "text/plain": [
       "<IPython.core.display.HTML object>"
      ]
     },
     "metadata": {},
     "output_type": "display_data"
    },
    {
     "name": "stdout",
     "output_type": "stream",
     "text": [
      "\t\tAccuracy: Mean = 0.7740695058046093, Std = 0.011916085560081075\n",
      "\t\tF1 Score: Mean = 0.7630926390057414, Std = 0.013464668390799447\n",
      "\t\tPrecision: Mean = 0.76193677451681, Std = 0.013041629672242165\n",
      "\t\tRecall: Mean = 0.7740695058046093, Std = 0.011916085560081075\n",
      "\t\tROC-AUC: Mean = 0.9154291526127473, Std = 0.005113663893001202\n"
     ]
    },
    {
     "data": {
      "text/html": [
       "Waiting for W&B process to finish... <strong style=\"color:green\">(success).</strong>"
      ],
      "text/plain": [
       "<IPython.core.display.HTML object>"
      ]
     },
     "metadata": {},
     "output_type": "display_data"
    },
    {
     "data": {
      "application/vnd.jupyter.widget-view+json": {
       "model_id": "9c141c73d1304abea558027b54fdf0a1",
       "version_major": 2,
       "version_minor": 0
      },
      "text/plain": [
       "VBox(children=(Label(value='0.002 MB of 0.002 MB uploaded (0.000 MB deduped)\\r'), FloatProgress(value=1.0, max…"
      ]
     },
     "metadata": {},
     "output_type": "display_data"
    },
    {
     "data": {
      "text/html": [
       "<style>\n",
       "    table.wandb td:nth-child(1) { padding: 0 10px; text-align: left ; width: auto;} td:nth-child(2) {text-align: left ; width: 100%}\n",
       "    .wandb-row { display: flex; flex-direction: row; flex-wrap: wrap; justify-content: flex-start; width: 100% }\n",
       "    .wandb-col { display: flex; flex-direction: column; flex-basis: 100%; flex: 1; padding: 10px; }\n",
       "    </style>\n",
       "<div class=\"wandb-row\"><div class=\"wandb-col\"><h3>Run history:</h3><br/><table class=\"wandb\"><tr><td>Accuracy_mean</td><td>▁</td></tr><tr><td>Accuracy_std</td><td>▁</td></tr><tr><td>F1 Score_mean</td><td>▁</td></tr><tr><td>F1 Score_std</td><td>▁</td></tr><tr><td>Precision_mean</td><td>▁</td></tr><tr><td>Precision_std</td><td>▁</td></tr><tr><td>ROC-AUC_mean</td><td>▁</td></tr><tr><td>ROC-AUC_std</td><td>▁</td></tr><tr><td>Recall_mean</td><td>▁</td></tr><tr><td>Recall_std</td><td>▁</td></tr></table><br/></div><div class=\"wandb-col\"><h3>Run summary:</h3><br/><table class=\"wandb\"><tr><td>Accuracy_mean</td><td>0.77407</td></tr><tr><td>Accuracy_std</td><td>0.01192</td></tr><tr><td>F1 Score_mean</td><td>0.76309</td></tr><tr><td>F1 Score_std</td><td>0.01346</td></tr><tr><td>Precision_mean</td><td>0.76194</td></tr><tr><td>Precision_std</td><td>0.01304</td></tr><tr><td>ROC-AUC_mean</td><td>0.91543</td></tr><tr><td>ROC-AUC_std</td><td>0.00511</td></tr><tr><td>Recall_mean</td><td>0.77407</td></tr><tr><td>Recall_std</td><td>0.01192</td></tr></table><br/></div></div>"
      ],
      "text/plain": [
       "<IPython.core.display.HTML object>"
      ]
     },
     "metadata": {},
     "output_type": "display_data"
    },
    {
     "data": {
      "text/html": [
       " View run <strong style=\"color:#cdcd00\">Ada_Audio Ablated 2</strong> at: <a href='https://wandb.ai/lequn/AudioVisual_ML_ablation_study_v2/runs/08y389pn' target=\"_blank\">https://wandb.ai/lequn/AudioVisual_ML_ablation_study_v2/runs/08y389pn</a><br/> View job at <a href='https://wandb.ai/lequn/AudioVisual_ML_ablation_study_v2/jobs/QXJ0aWZhY3RDb2xsZWN0aW9uOjExMTQ1OTc4Ng==/version_details/v12' target=\"_blank\">https://wandb.ai/lequn/AudioVisual_ML_ablation_study_v2/jobs/QXJ0aWZhY3RDb2xsZWN0aW9uOjExMTQ1OTc4Ng==/version_details/v12</a><br/>Synced 6 W&B file(s), 0 media file(s), 0 artifact file(s) and 0 other file(s)"
      ],
      "text/plain": [
       "<IPython.core.display.HTML object>"
      ]
     },
     "metadata": {},
     "output_type": "display_data"
    },
    {
     "data": {
      "text/html": [
       "Find logs at: <code>./wandb/run-20231031_174153-08y389pn/logs</code>"
      ],
      "text/plain": [
       "<IPython.core.display.HTML object>"
      ]
     },
     "metadata": {},
     "output_type": "display_data"
    },
    {
     "name": "stdout",
     "output_type": "stream",
     "text": [
      "\tTraining model: NN\n"
     ]
    },
    {
     "data": {
      "application/vnd.jupyter.widget-view+json": {
       "model_id": "e0e2e6b546f94603a89fa07a7c59c67e",
       "version_major": 2,
       "version_minor": 0
      },
      "text/plain": [
       "VBox(children=(Label(value='Waiting for wandb.init()...\\r'), FloatProgress(value=0.011113593488860513, max=1.0…"
      ]
     },
     "metadata": {},
     "output_type": "display_data"
    },
    {
     "data": {
      "text/html": [
       "Tracking run with wandb version 0.15.12"
      ],
      "text/plain": [
       "<IPython.core.display.HTML object>"
      ]
     },
     "metadata": {},
     "output_type": "display_data"
    },
    {
     "data": {
      "text/html": [
       "Run data is saved locally in <code>/home/chenlequn/GitHub/LDED-FusionNet/code/wandb/run-20231031_174227-e22wioxo</code>"
      ],
      "text/plain": [
       "<IPython.core.display.HTML object>"
      ]
     },
     "metadata": {},
     "output_type": "display_data"
    },
    {
     "data": {
      "text/html": [
       "Syncing run <strong><a href='https://wandb.ai/lequn/AudioVisual_ML_ablation_study_v2/runs/e22wioxo' target=\"_blank\">NN_Audio Ablated 2</a></strong> to <a href='https://wandb.ai/lequn/AudioVisual_ML_ablation_study_v2' target=\"_blank\">Weights & Biases</a> (<a href='https://wandb.me/run' target=\"_blank\">docs</a>)<br/>"
      ],
      "text/plain": [
       "<IPython.core.display.HTML object>"
      ]
     },
     "metadata": {},
     "output_type": "display_data"
    },
    {
     "data": {
      "text/html": [
       " View project at <a href='https://wandb.ai/lequn/AudioVisual_ML_ablation_study_v2' target=\"_blank\">https://wandb.ai/lequn/AudioVisual_ML_ablation_study_v2</a>"
      ],
      "text/plain": [
       "<IPython.core.display.HTML object>"
      ]
     },
     "metadata": {},
     "output_type": "display_data"
    },
    {
     "data": {
      "text/html": [
       " View run at <a href='https://wandb.ai/lequn/AudioVisual_ML_ablation_study_v2/runs/e22wioxo' target=\"_blank\">https://wandb.ai/lequn/AudioVisual_ML_ablation_study_v2/runs/e22wioxo</a>"
      ],
      "text/plain": [
       "<IPython.core.display.HTML object>"
      ]
     },
     "metadata": {},
     "output_type": "display_data"
    },
    {
     "name": "stdout",
     "output_type": "stream",
     "text": [
      "\t\tAccuracy: Mean = 0.8561260493522609, Std = 0.0070669569260235566\n",
      "\t\tF1 Score: Mean = 0.8540437119735712, Std = 0.007679313031661349\n",
      "\t\tPrecision: Mean = 0.8538862810451381, Std = 0.00827536363515576\n",
      "\t\tRecall: Mean = 0.8561260493522609, Std = 0.0070669569260235566\n",
      "\t\tROC-AUC: Mean = 0.9687344978434039, Std = 0.0033586740258815737\n"
     ]
    },
    {
     "data": {
      "text/html": [
       "Waiting for W&B process to finish... <strong style=\"color:green\">(success).</strong>"
      ],
      "text/plain": [
       "<IPython.core.display.HTML object>"
      ]
     },
     "metadata": {},
     "output_type": "display_data"
    },
    {
     "data": {
      "text/html": [
       "<style>\n",
       "    table.wandb td:nth-child(1) { padding: 0 10px; text-align: left ; width: auto;} td:nth-child(2) {text-align: left ; width: 100%}\n",
       "    .wandb-row { display: flex; flex-direction: row; flex-wrap: wrap; justify-content: flex-start; width: 100% }\n",
       "    .wandb-col { display: flex; flex-direction: column; flex-basis: 100%; flex: 1; padding: 10px; }\n",
       "    </style>\n",
       "<div class=\"wandb-row\"><div class=\"wandb-col\"><h3>Run history:</h3><br/><table class=\"wandb\"><tr><td>Accuracy_mean</td><td>▁</td></tr><tr><td>Accuracy_std</td><td>▁</td></tr><tr><td>F1 Score_mean</td><td>▁</td></tr><tr><td>F1 Score_std</td><td>▁</td></tr><tr><td>Precision_mean</td><td>▁</td></tr><tr><td>Precision_std</td><td>▁</td></tr><tr><td>ROC-AUC_mean</td><td>▁</td></tr><tr><td>ROC-AUC_std</td><td>▁</td></tr><tr><td>Recall_mean</td><td>▁</td></tr><tr><td>Recall_std</td><td>▁</td></tr></table><br/></div><div class=\"wandb-col\"><h3>Run summary:</h3><br/><table class=\"wandb\"><tr><td>Accuracy_mean</td><td>0.85613</td></tr><tr><td>Accuracy_std</td><td>0.00707</td></tr><tr><td>F1 Score_mean</td><td>0.85404</td></tr><tr><td>F1 Score_std</td><td>0.00768</td></tr><tr><td>Precision_mean</td><td>0.85389</td></tr><tr><td>Precision_std</td><td>0.00828</td></tr><tr><td>ROC-AUC_mean</td><td>0.96873</td></tr><tr><td>ROC-AUC_std</td><td>0.00336</td></tr><tr><td>Recall_mean</td><td>0.85613</td></tr><tr><td>Recall_std</td><td>0.00707</td></tr></table><br/></div></div>"
      ],
      "text/plain": [
       "<IPython.core.display.HTML object>"
      ]
     },
     "metadata": {},
     "output_type": "display_data"
    },
    {
     "data": {
      "text/html": [
       " View run <strong style=\"color:#cdcd00\">NN_Audio Ablated 2</strong> at: <a href='https://wandb.ai/lequn/AudioVisual_ML_ablation_study_v2/runs/e22wioxo' target=\"_blank\">https://wandb.ai/lequn/AudioVisual_ML_ablation_study_v2/runs/e22wioxo</a><br/> View job at <a href='https://wandb.ai/lequn/AudioVisual_ML_ablation_study_v2/jobs/QXJ0aWZhY3RDb2xsZWN0aW9uOjExMTQ1OTc4Ng==/version_details/v12' target=\"_blank\">https://wandb.ai/lequn/AudioVisual_ML_ablation_study_v2/jobs/QXJ0aWZhY3RDb2xsZWN0aW9uOjExMTQ1OTc4Ng==/version_details/v12</a><br/>Synced 6 W&B file(s), 0 media file(s), 0 artifact file(s) and 0 other file(s)"
      ],
      "text/plain": [
       "<IPython.core.display.HTML object>"
      ]
     },
     "metadata": {},
     "output_type": "display_data"
    },
    {
     "data": {
      "text/html": [
       "Find logs at: <code>./wandb/run-20231031_174227-e22wioxo/logs</code>"
      ],
      "text/plain": [
       "<IPython.core.display.HTML object>"
      ]
     },
     "metadata": {},
     "output_type": "display_data"
    },
    {
     "name": "stdout",
     "output_type": "stream",
     "text": [
      "\tTraining model: XGBoost\n"
     ]
    },
    {
     "data": {
      "application/vnd.jupyter.widget-view+json": {
       "model_id": "c299136982844d27b8627ba3f2f5b273",
       "version_major": 2,
       "version_minor": 0
      },
      "text/plain": [
       "VBox(children=(Label(value='Waiting for wandb.init()...\\r'), FloatProgress(value=0.011115744800028754, max=1.0…"
      ]
     },
     "metadata": {},
     "output_type": "display_data"
    },
    {
     "data": {
      "text/html": [
       "Tracking run with wandb version 0.15.12"
      ],
      "text/plain": [
       "<IPython.core.display.HTML object>"
      ]
     },
     "metadata": {},
     "output_type": "display_data"
    },
    {
     "data": {
      "text/html": [
       "Run data is saved locally in <code>/home/chenlequn/GitHub/LDED-FusionNet/code/wandb/run-20231031_174318-683n020l</code>"
      ],
      "text/plain": [
       "<IPython.core.display.HTML object>"
      ]
     },
     "metadata": {},
     "output_type": "display_data"
    },
    {
     "data": {
      "text/html": [
       "Syncing run <strong><a href='https://wandb.ai/lequn/AudioVisual_ML_ablation_study_v2/runs/683n020l' target=\"_blank\">XGBoost_Audio Ablated 2</a></strong> to <a href='https://wandb.ai/lequn/AudioVisual_ML_ablation_study_v2' target=\"_blank\">Weights & Biases</a> (<a href='https://wandb.me/run' target=\"_blank\">docs</a>)<br/>"
      ],
      "text/plain": [
       "<IPython.core.display.HTML object>"
      ]
     },
     "metadata": {},
     "output_type": "display_data"
    },
    {
     "data": {
      "text/html": [
       " View project at <a href='https://wandb.ai/lequn/AudioVisual_ML_ablation_study_v2' target=\"_blank\">https://wandb.ai/lequn/AudioVisual_ML_ablation_study_v2</a>"
      ],
      "text/plain": [
       "<IPython.core.display.HTML object>"
      ]
     },
     "metadata": {},
     "output_type": "display_data"
    },
    {
     "data": {
      "text/html": [
       " View run at <a href='https://wandb.ai/lequn/AudioVisual_ML_ablation_study_v2/runs/683n020l' target=\"_blank\">https://wandb.ai/lequn/AudioVisual_ML_ablation_study_v2/runs/683n020l</a>"
      ],
      "text/plain": [
       "<IPython.core.display.HTML object>"
      ]
     },
     "metadata": {},
     "output_type": "display_data"
    },
    {
     "name": "stdout",
     "output_type": "stream",
     "text": [
      "\t\tAccuracy: Mean = 0.8490214766806454, Std = 0.013997195191118193\n",
      "\t\tF1 Score: Mean = 0.8462646615988778, Std = 0.014678297602441786\n",
      "\t\tPrecision: Mean = 0.8458858457476879, Std = 0.015185909720368172\n",
      "\t\tRecall: Mean = 0.8490214766806454, Std = 0.013997195191118193\n",
      "\t\tROC-AUC: Mean = 0.961784252084686, Std = 0.005253936718665552\n"
     ]
    },
    {
     "data": {
      "text/html": [
       "Waiting for W&B process to finish... <strong style=\"color:green\">(success).</strong>"
      ],
      "text/plain": [
       "<IPython.core.display.HTML object>"
      ]
     },
     "metadata": {},
     "output_type": "display_data"
    },
    {
     "data": {
      "application/vnd.jupyter.widget-view+json": {
       "model_id": "a01f23f122e7487095b89ad421e30a4a",
       "version_major": 2,
       "version_minor": 0
      },
      "text/plain": [
       "VBox(children=(Label(value='0.002 MB of 0.002 MB uploaded (0.000 MB deduped)\\r'), FloatProgress(value=1.0, max…"
      ]
     },
     "metadata": {},
     "output_type": "display_data"
    },
    {
     "data": {
      "text/html": [
       "<style>\n",
       "    table.wandb td:nth-child(1) { padding: 0 10px; text-align: left ; width: auto;} td:nth-child(2) {text-align: left ; width: 100%}\n",
       "    .wandb-row { display: flex; flex-direction: row; flex-wrap: wrap; justify-content: flex-start; width: 100% }\n",
       "    .wandb-col { display: flex; flex-direction: column; flex-basis: 100%; flex: 1; padding: 10px; }\n",
       "    </style>\n",
       "<div class=\"wandb-row\"><div class=\"wandb-col\"><h3>Run history:</h3><br/><table class=\"wandb\"><tr><td>Accuracy_mean</td><td>▁</td></tr><tr><td>Accuracy_std</td><td>▁</td></tr><tr><td>F1 Score_mean</td><td>▁</td></tr><tr><td>F1 Score_std</td><td>▁</td></tr><tr><td>Precision_mean</td><td>▁</td></tr><tr><td>Precision_std</td><td>▁</td></tr><tr><td>ROC-AUC_mean</td><td>▁</td></tr><tr><td>ROC-AUC_std</td><td>▁</td></tr><tr><td>Recall_mean</td><td>▁</td></tr><tr><td>Recall_std</td><td>▁</td></tr></table><br/></div><div class=\"wandb-col\"><h3>Run summary:</h3><br/><table class=\"wandb\"><tr><td>Accuracy_mean</td><td>0.84902</td></tr><tr><td>Accuracy_std</td><td>0.014</td></tr><tr><td>F1 Score_mean</td><td>0.84626</td></tr><tr><td>F1 Score_std</td><td>0.01468</td></tr><tr><td>Precision_mean</td><td>0.84589</td></tr><tr><td>Precision_std</td><td>0.01519</td></tr><tr><td>ROC-AUC_mean</td><td>0.96178</td></tr><tr><td>ROC-AUC_std</td><td>0.00525</td></tr><tr><td>Recall_mean</td><td>0.84902</td></tr><tr><td>Recall_std</td><td>0.014</td></tr></table><br/></div></div>"
      ],
      "text/plain": [
       "<IPython.core.display.HTML object>"
      ]
     },
     "metadata": {},
     "output_type": "display_data"
    },
    {
     "data": {
      "text/html": [
       " View run <strong style=\"color:#cdcd00\">XGBoost_Audio Ablated 2</strong> at: <a href='https://wandb.ai/lequn/AudioVisual_ML_ablation_study_v2/runs/683n020l' target=\"_blank\">https://wandb.ai/lequn/AudioVisual_ML_ablation_study_v2/runs/683n020l</a><br/> View job at <a href='https://wandb.ai/lequn/AudioVisual_ML_ablation_study_v2/jobs/QXJ0aWZhY3RDb2xsZWN0aW9uOjExMTQ1OTc4Ng==/version_details/v12' target=\"_blank\">https://wandb.ai/lequn/AudioVisual_ML_ablation_study_v2/jobs/QXJ0aWZhY3RDb2xsZWN0aW9uOjExMTQ1OTc4Ng==/version_details/v12</a><br/>Synced 6 W&B file(s), 0 media file(s), 0 artifact file(s) and 0 other file(s)"
      ],
      "text/plain": [
       "<IPython.core.display.HTML object>"
      ]
     },
     "metadata": {},
     "output_type": "display_data"
    },
    {
     "data": {
      "text/html": [
       "Find logs at: <code>./wandb/run-20231031_174318-683n020l/logs</code>"
      ],
      "text/plain": [
       "<IPython.core.display.HTML object>"
      ]
     },
     "metadata": {},
     "output_type": "display_data"
    },
    {
     "name": "stdout",
     "output_type": "stream",
     "text": [
      "\tTraining model: LightGBM\n"
     ]
    },
    {
     "data": {
      "application/vnd.jupyter.widget-view+json": {
       "model_id": "5317f2c018444456ad703e6a536b9a16",
       "version_major": 2,
       "version_minor": 0
      },
      "text/plain": [
       "VBox(children=(Label(value='Waiting for wandb.init()...\\r'), FloatProgress(value=0.01111436447778639, max=1.0)…"
      ]
     },
     "metadata": {},
     "output_type": "display_data"
    },
    {
     "data": {
      "text/html": [
       "Tracking run with wandb version 0.15.12"
      ],
      "text/plain": [
       "<IPython.core.display.HTML object>"
      ]
     },
     "metadata": {},
     "output_type": "display_data"
    },
    {
     "data": {
      "text/html": [
       "Run data is saved locally in <code>/home/chenlequn/GitHub/LDED-FusionNet/code/wandb/run-20231031_174443-mh73e2b9</code>"
      ],
      "text/plain": [
       "<IPython.core.display.HTML object>"
      ]
     },
     "metadata": {},
     "output_type": "display_data"
    },
    {
     "data": {
      "text/html": [
       "Syncing run <strong><a href='https://wandb.ai/lequn/AudioVisual_ML_ablation_study_v2/runs/mh73e2b9' target=\"_blank\">LightGBM_Audio Ablated 2</a></strong> to <a href='https://wandb.ai/lequn/AudioVisual_ML_ablation_study_v2' target=\"_blank\">Weights & Biases</a> (<a href='https://wandb.me/run' target=\"_blank\">docs</a>)<br/>"
      ],
      "text/plain": [
       "<IPython.core.display.HTML object>"
      ]
     },
     "metadata": {},
     "output_type": "display_data"
    },
    {
     "data": {
      "text/html": [
       " View project at <a href='https://wandb.ai/lequn/AudioVisual_ML_ablation_study_v2' target=\"_blank\">https://wandb.ai/lequn/AudioVisual_ML_ablation_study_v2</a>"
      ],
      "text/plain": [
       "<IPython.core.display.HTML object>"
      ]
     },
     "metadata": {},
     "output_type": "display_data"
    },
    {
     "data": {
      "text/html": [
       " View run at <a href='https://wandb.ai/lequn/AudioVisual_ML_ablation_study_v2/runs/mh73e2b9' target=\"_blank\">https://wandb.ai/lequn/AudioVisual_ML_ablation_study_v2/runs/mh73e2b9</a>"
      ],
      "text/plain": [
       "<IPython.core.display.HTML object>"
      ]
     },
     "metadata": {},
     "output_type": "display_data"
    },
    {
     "name": "stdout",
     "output_type": "stream",
     "text": [
      "\t\tAccuracy: Mean = 0.8536659116563132, Std = 0.010830847377980124\n",
      "\t\tF1 Score: Mean = 0.8512163102766277, Std = 0.011077747633147984\n",
      "\t\tPrecision: Mean = 0.8511044213439337, Std = 0.011550271646371629\n",
      "\t\tRecall: Mean = 0.8536659116563132, Std = 0.010830847377980124\n",
      "\t\tROC-AUC: Mean = 0.965163887493896, Std = 0.003922358559821465\n"
     ]
    },
    {
     "data": {
      "text/html": [
       "Waiting for W&B process to finish... <strong style=\"color:green\">(success).</strong>"
      ],
      "text/plain": [
       "<IPython.core.display.HTML object>"
      ]
     },
     "metadata": {},
     "output_type": "display_data"
    },
    {
     "data": {
      "text/html": [
       "<style>\n",
       "    table.wandb td:nth-child(1) { padding: 0 10px; text-align: left ; width: auto;} td:nth-child(2) {text-align: left ; width: 100%}\n",
       "    .wandb-row { display: flex; flex-direction: row; flex-wrap: wrap; justify-content: flex-start; width: 100% }\n",
       "    .wandb-col { display: flex; flex-direction: column; flex-basis: 100%; flex: 1; padding: 10px; }\n",
       "    </style>\n",
       "<div class=\"wandb-row\"><div class=\"wandb-col\"><h3>Run history:</h3><br/><table class=\"wandb\"><tr><td>Accuracy_mean</td><td>▁</td></tr><tr><td>Accuracy_std</td><td>▁</td></tr><tr><td>F1 Score_mean</td><td>▁</td></tr><tr><td>F1 Score_std</td><td>▁</td></tr><tr><td>Precision_mean</td><td>▁</td></tr><tr><td>Precision_std</td><td>▁</td></tr><tr><td>ROC-AUC_mean</td><td>▁</td></tr><tr><td>ROC-AUC_std</td><td>▁</td></tr><tr><td>Recall_mean</td><td>▁</td></tr><tr><td>Recall_std</td><td>▁</td></tr></table><br/></div><div class=\"wandb-col\"><h3>Run summary:</h3><br/><table class=\"wandb\"><tr><td>Accuracy_mean</td><td>0.85367</td></tr><tr><td>Accuracy_std</td><td>0.01083</td></tr><tr><td>F1 Score_mean</td><td>0.85122</td></tr><tr><td>F1 Score_std</td><td>0.01108</td></tr><tr><td>Precision_mean</td><td>0.8511</td></tr><tr><td>Precision_std</td><td>0.01155</td></tr><tr><td>ROC-AUC_mean</td><td>0.96516</td></tr><tr><td>ROC-AUC_std</td><td>0.00392</td></tr><tr><td>Recall_mean</td><td>0.85367</td></tr><tr><td>Recall_std</td><td>0.01083</td></tr></table><br/></div></div>"
      ],
      "text/plain": [
       "<IPython.core.display.HTML object>"
      ]
     },
     "metadata": {},
     "output_type": "display_data"
    },
    {
     "data": {
      "text/html": [
       " View run <strong style=\"color:#cdcd00\">LightGBM_Audio Ablated 2</strong> at: <a href='https://wandb.ai/lequn/AudioVisual_ML_ablation_study_v2/runs/mh73e2b9' target=\"_blank\">https://wandb.ai/lequn/AudioVisual_ML_ablation_study_v2/runs/mh73e2b9</a><br/> View job at <a href='https://wandb.ai/lequn/AudioVisual_ML_ablation_study_v2/jobs/QXJ0aWZhY3RDb2xsZWN0aW9uOjExMTQ1OTc4Ng==/version_details/v12' target=\"_blank\">https://wandb.ai/lequn/AudioVisual_ML_ablation_study_v2/jobs/QXJ0aWZhY3RDb2xsZWN0aW9uOjExMTQ1OTc4Ng==/version_details/v12</a><br/>Synced 6 W&B file(s), 0 media file(s), 0 artifact file(s) and 0 other file(s)"
      ],
      "text/plain": [
       "<IPython.core.display.HTML object>"
      ]
     },
     "metadata": {},
     "output_type": "display_data"
    },
    {
     "data": {
      "text/html": [
       "Find logs at: <code>./wandb/run-20231031_174443-mh73e2b9/logs</code>"
      ],
      "text/plain": [
       "<IPython.core.display.HTML object>"
      ]
     },
     "metadata": {},
     "output_type": "display_data"
    },
    {
     "name": "stdout",
     "output_type": "stream",
     "text": [
      "\tTraining model: SVM\n"
     ]
    },
    {
     "data": {
      "application/vnd.jupyter.widget-view+json": {
       "model_id": "00277bad860f43cb87b8b181b5934bdb",
       "version_major": 2,
       "version_minor": 0
      },
      "text/plain": [
       "VBox(children=(Label(value='Waiting for wandb.init()...\\r'), FloatProgress(value=0.011113187077798, max=1.0)))"
      ]
     },
     "metadata": {},
     "output_type": "display_data"
    },
    {
     "data": {
      "text/html": [
       "Tracking run with wandb version 0.15.12"
      ],
      "text/plain": [
       "<IPython.core.display.HTML object>"
      ]
     },
     "metadata": {},
     "output_type": "display_data"
    },
    {
     "data": {
      "text/html": [
       "Run data is saved locally in <code>/home/chenlequn/GitHub/LDED-FusionNet/code/wandb/run-20231031_174505-qhknce9x</code>"
      ],
      "text/plain": [
       "<IPython.core.display.HTML object>"
      ]
     },
     "metadata": {},
     "output_type": "display_data"
    },
    {
     "data": {
      "text/html": [
       "Syncing run <strong><a href='https://wandb.ai/lequn/AudioVisual_ML_ablation_study_v2/runs/qhknce9x' target=\"_blank\">SVM_Audio Ablated 2</a></strong> to <a href='https://wandb.ai/lequn/AudioVisual_ML_ablation_study_v2' target=\"_blank\">Weights & Biases</a> (<a href='https://wandb.me/run' target=\"_blank\">docs</a>)<br/>"
      ],
      "text/plain": [
       "<IPython.core.display.HTML object>"
      ]
     },
     "metadata": {},
     "output_type": "display_data"
    },
    {
     "data": {
      "text/html": [
       " View project at <a href='https://wandb.ai/lequn/AudioVisual_ML_ablation_study_v2' target=\"_blank\">https://wandb.ai/lequn/AudioVisual_ML_ablation_study_v2</a>"
      ],
      "text/plain": [
       "<IPython.core.display.HTML object>"
      ]
     },
     "metadata": {},
     "output_type": "display_data"
    },
    {
     "data": {
      "text/html": [
       " View run at <a href='https://wandb.ai/lequn/AudioVisual_ML_ablation_study_v2/runs/qhknce9x' target=\"_blank\">https://wandb.ai/lequn/AudioVisual_ML_ablation_study_v2/runs/qhknce9x</a>"
      ],
      "text/plain": [
       "<IPython.core.display.HTML object>"
      ]
     },
     "metadata": {},
     "output_type": "display_data"
    },
    {
     "name": "stdout",
     "output_type": "stream",
     "text": [
      "\t\tAccuracy: Mean = 0.8402592451391536, Std = 0.012010509762601748\n",
      "\t\tF1 Score: Mean = 0.8369302715613127, Std = 0.012076000514156221\n",
      "\t\tPrecision: Mean = 0.8366310435574397, Std = 0.012416597174506895\n",
      "\t\tRecall: Mean = 0.8402592451391536, Std = 0.012010509762601748\n",
      "\t\tROC-AUC: Mean = 0.9559894213751294, Std = 0.004645900538364948\n"
     ]
    },
    {
     "data": {
      "text/html": [
       "Waiting for W&B process to finish... <strong style=\"color:green\">(success).</strong>"
      ],
      "text/plain": [
       "<IPython.core.display.HTML object>"
      ]
     },
     "metadata": {},
     "output_type": "display_data"
    },
    {
     "data": {
      "application/vnd.jupyter.widget-view+json": {
       "model_id": "8e5432295e1b4df4b0e596dc55185cd3",
       "version_major": 2,
       "version_minor": 0
      },
      "text/plain": [
       "VBox(children=(Label(value='0.002 MB of 0.002 MB uploaded (0.000 MB deduped)\\r'), FloatProgress(value=1.0, max…"
      ]
     },
     "metadata": {},
     "output_type": "display_data"
    },
    {
     "data": {
      "text/html": [
       "<style>\n",
       "    table.wandb td:nth-child(1) { padding: 0 10px; text-align: left ; width: auto;} td:nth-child(2) {text-align: left ; width: 100%}\n",
       "    .wandb-row { display: flex; flex-direction: row; flex-wrap: wrap; justify-content: flex-start; width: 100% }\n",
       "    .wandb-col { display: flex; flex-direction: column; flex-basis: 100%; flex: 1; padding: 10px; }\n",
       "    </style>\n",
       "<div class=\"wandb-row\"><div class=\"wandb-col\"><h3>Run history:</h3><br/><table class=\"wandb\"><tr><td>Accuracy_mean</td><td>▁</td></tr><tr><td>Accuracy_std</td><td>▁</td></tr><tr><td>F1 Score_mean</td><td>▁</td></tr><tr><td>F1 Score_std</td><td>▁</td></tr><tr><td>Precision_mean</td><td>▁</td></tr><tr><td>Precision_std</td><td>▁</td></tr><tr><td>ROC-AUC_mean</td><td>▁</td></tr><tr><td>ROC-AUC_std</td><td>▁</td></tr><tr><td>Recall_mean</td><td>▁</td></tr><tr><td>Recall_std</td><td>▁</td></tr></table><br/></div><div class=\"wandb-col\"><h3>Run summary:</h3><br/><table class=\"wandb\"><tr><td>Accuracy_mean</td><td>0.84026</td></tr><tr><td>Accuracy_std</td><td>0.01201</td></tr><tr><td>F1 Score_mean</td><td>0.83693</td></tr><tr><td>F1 Score_std</td><td>0.01208</td></tr><tr><td>Precision_mean</td><td>0.83663</td></tr><tr><td>Precision_std</td><td>0.01242</td></tr><tr><td>ROC-AUC_mean</td><td>0.95599</td></tr><tr><td>ROC-AUC_std</td><td>0.00465</td></tr><tr><td>Recall_mean</td><td>0.84026</td></tr><tr><td>Recall_std</td><td>0.01201</td></tr></table><br/></div></div>"
      ],
      "text/plain": [
       "<IPython.core.display.HTML object>"
      ]
     },
     "metadata": {},
     "output_type": "display_data"
    },
    {
     "data": {
      "text/html": [
       " View run <strong style=\"color:#cdcd00\">SVM_Audio Ablated 2</strong> at: <a href='https://wandb.ai/lequn/AudioVisual_ML_ablation_study_v2/runs/qhknce9x' target=\"_blank\">https://wandb.ai/lequn/AudioVisual_ML_ablation_study_v2/runs/qhknce9x</a><br/> View job at <a href='https://wandb.ai/lequn/AudioVisual_ML_ablation_study_v2/jobs/QXJ0aWZhY3RDb2xsZWN0aW9uOjExMTQ1OTc4Ng==/version_details/v12' target=\"_blank\">https://wandb.ai/lequn/AudioVisual_ML_ablation_study_v2/jobs/QXJ0aWZhY3RDb2xsZWN0aW9uOjExMTQ1OTc4Ng==/version_details/v12</a><br/>Synced 6 W&B file(s), 0 media file(s), 0 artifact file(s) and 0 other file(s)"
      ],
      "text/plain": [
       "<IPython.core.display.HTML object>"
      ]
     },
     "metadata": {},
     "output_type": "display_data"
    },
    {
     "data": {
      "text/html": [
       "Find logs at: <code>./wandb/run-20231031_174505-qhknce9x/logs</code>"
      ],
      "text/plain": [
       "<IPython.core.display.HTML object>"
      ]
     },
     "metadata": {},
     "output_type": "display_data"
    },
    {
     "name": "stdout",
     "output_type": "stream",
     "text": [
      "\tTraining model: HistGB\n"
     ]
    },
    {
     "data": {
      "application/vnd.jupyter.widget-view+json": {
       "model_id": "311edbb47a4e4d4385df3421f7cfe901",
       "version_major": 2,
       "version_minor": 0
      },
      "text/plain": [
       "VBox(children=(Label(value='Waiting for wandb.init()...\\r'), FloatProgress(value=0.011113735966662514, max=1.0…"
      ]
     },
     "metadata": {},
     "output_type": "display_data"
    },
    {
     "data": {
      "text/html": [
       "Tracking run with wandb version 0.15.12"
      ],
      "text/plain": [
       "<IPython.core.display.HTML object>"
      ]
     },
     "metadata": {},
     "output_type": "display_data"
    },
    {
     "data": {
      "text/html": [
       "Run data is saved locally in <code>/home/chenlequn/GitHub/LDED-FusionNet/code/wandb/run-20231031_174538-oqtvvjtp</code>"
      ],
      "text/plain": [
       "<IPython.core.display.HTML object>"
      ]
     },
     "metadata": {},
     "output_type": "display_data"
    },
    {
     "data": {
      "text/html": [
       "Syncing run <strong><a href='https://wandb.ai/lequn/AudioVisual_ML_ablation_study_v2/runs/oqtvvjtp' target=\"_blank\">HistGB_Audio Ablated 2</a></strong> to <a href='https://wandb.ai/lequn/AudioVisual_ML_ablation_study_v2' target=\"_blank\">Weights & Biases</a> (<a href='https://wandb.me/run' target=\"_blank\">docs</a>)<br/>"
      ],
      "text/plain": [
       "<IPython.core.display.HTML object>"
      ]
     },
     "metadata": {},
     "output_type": "display_data"
    },
    {
     "data": {
      "text/html": [
       " View project at <a href='https://wandb.ai/lequn/AudioVisual_ML_ablation_study_v2' target=\"_blank\">https://wandb.ai/lequn/AudioVisual_ML_ablation_study_v2</a>"
      ],
      "text/plain": [
       "<IPython.core.display.HTML object>"
      ]
     },
     "metadata": {},
     "output_type": "display_data"
    },
    {
     "data": {
      "text/html": [
       " View run at <a href='https://wandb.ai/lequn/AudioVisual_ML_ablation_study_v2/runs/oqtvvjtp' target=\"_blank\">https://wandb.ai/lequn/AudioVisual_ML_ablation_study_v2/runs/oqtvvjtp</a>"
      ],
      "text/plain": [
       "<IPython.core.display.HTML object>"
      ]
     },
     "metadata": {},
     "output_type": "display_data"
    },
    {
     "name": "stdout",
     "output_type": "stream",
     "text": [
      "\t\tAccuracy: Mean = 0.8353423336547733, Std = 0.009402249547253922\n",
      "\t\tF1 Score: Mean = 0.8312007887249806, Std = 0.009126952680304053\n",
      "\t\tPrecision: Mean = 0.8312655954965613, Std = 0.010005676355289789\n",
      "\t\tRecall: Mean = 0.8353423336547733, Std = 0.009402249547253922\n",
      "\t\tROC-AUC: Mean = 0.9603515947641432, Std = 0.005123763596619473\n"
     ]
    },
    {
     "data": {
      "text/html": [
       "Waiting for W&B process to finish... <strong style=\"color:green\">(success).</strong>"
      ],
      "text/plain": [
       "<IPython.core.display.HTML object>"
      ]
     },
     "metadata": {},
     "output_type": "display_data"
    },
    {
     "data": {
      "text/html": [
       "<style>\n",
       "    table.wandb td:nth-child(1) { padding: 0 10px; text-align: left ; width: auto;} td:nth-child(2) {text-align: left ; width: 100%}\n",
       "    .wandb-row { display: flex; flex-direction: row; flex-wrap: wrap; justify-content: flex-start; width: 100% }\n",
       "    .wandb-col { display: flex; flex-direction: column; flex-basis: 100%; flex: 1; padding: 10px; }\n",
       "    </style>\n",
       "<div class=\"wandb-row\"><div class=\"wandb-col\"><h3>Run history:</h3><br/><table class=\"wandb\"><tr><td>Accuracy_mean</td><td>▁</td></tr><tr><td>Accuracy_std</td><td>▁</td></tr><tr><td>F1 Score_mean</td><td>▁</td></tr><tr><td>F1 Score_std</td><td>▁</td></tr><tr><td>Precision_mean</td><td>▁</td></tr><tr><td>Precision_std</td><td>▁</td></tr><tr><td>ROC-AUC_mean</td><td>▁</td></tr><tr><td>ROC-AUC_std</td><td>▁</td></tr><tr><td>Recall_mean</td><td>▁</td></tr><tr><td>Recall_std</td><td>▁</td></tr></table><br/></div><div class=\"wandb-col\"><h3>Run summary:</h3><br/><table class=\"wandb\"><tr><td>Accuracy_mean</td><td>0.83534</td></tr><tr><td>Accuracy_std</td><td>0.0094</td></tr><tr><td>F1 Score_mean</td><td>0.8312</td></tr><tr><td>F1 Score_std</td><td>0.00913</td></tr><tr><td>Precision_mean</td><td>0.83127</td></tr><tr><td>Precision_std</td><td>0.01001</td></tr><tr><td>ROC-AUC_mean</td><td>0.96035</td></tr><tr><td>ROC-AUC_std</td><td>0.00512</td></tr><tr><td>Recall_mean</td><td>0.83534</td></tr><tr><td>Recall_std</td><td>0.0094</td></tr></table><br/></div></div>"
      ],
      "text/plain": [
       "<IPython.core.display.HTML object>"
      ]
     },
     "metadata": {},
     "output_type": "display_data"
    },
    {
     "data": {
      "text/html": [
       " View run <strong style=\"color:#cdcd00\">HistGB_Audio Ablated 2</strong> at: <a href='https://wandb.ai/lequn/AudioVisual_ML_ablation_study_v2/runs/oqtvvjtp' target=\"_blank\">https://wandb.ai/lequn/AudioVisual_ML_ablation_study_v2/runs/oqtvvjtp</a><br/> View job at <a href='https://wandb.ai/lequn/AudioVisual_ML_ablation_study_v2/jobs/QXJ0aWZhY3RDb2xsZWN0aW9uOjExMTQ1OTc4Ng==/version_details/v12' target=\"_blank\">https://wandb.ai/lequn/AudioVisual_ML_ablation_study_v2/jobs/QXJ0aWZhY3RDb2xsZWN0aW9uOjExMTQ1OTc4Ng==/version_details/v12</a><br/>Synced 6 W&B file(s), 0 media file(s), 0 artifact file(s) and 0 other file(s)"
      ],
      "text/plain": [
       "<IPython.core.display.HTML object>"
      ]
     },
     "metadata": {},
     "output_type": "display_data"
    },
    {
     "data": {
      "text/html": [
       "Find logs at: <code>./wandb/run-20231031_174538-oqtvvjtp/logs</code>"
      ],
      "text/plain": [
       "<IPython.core.display.HTML object>"
      ]
     },
     "metadata": {},
     "output_type": "display_data"
    },
    {
     "name": "stdout",
     "output_type": "stream",
     "text": [
      "Processing dataset: Audio Ablated 3\n",
      "\tTraining model: KNN\n"
     ]
    },
    {
     "data": {
      "application/vnd.jupyter.widget-view+json": {
       "model_id": "14f9b180eb8346a1b4c882397799f76f",
       "version_major": 2,
       "version_minor": 0
      },
      "text/plain": [
       "VBox(children=(Label(value='Waiting for wandb.init()...\\r'), FloatProgress(value=0.011113238333362259, max=1.0…"
      ]
     },
     "metadata": {},
     "output_type": "display_data"
    },
    {
     "data": {
      "text/html": [
       "Tracking run with wandb version 0.15.12"
      ],
      "text/plain": [
       "<IPython.core.display.HTML object>"
      ]
     },
     "metadata": {},
     "output_type": "display_data"
    },
    {
     "data": {
      "text/html": [
       "Run data is saved locally in <code>/home/chenlequn/GitHub/LDED-FusionNet/code/wandb/run-20231031_174606-dtz0afj4</code>"
      ],
      "text/plain": [
       "<IPython.core.display.HTML object>"
      ]
     },
     "metadata": {},
     "output_type": "display_data"
    },
    {
     "data": {
      "text/html": [
       "Syncing run <strong><a href='https://wandb.ai/lequn/AudioVisual_ML_ablation_study_v2/runs/dtz0afj4' target=\"_blank\">KNN_Audio Ablated 3</a></strong> to <a href='https://wandb.ai/lequn/AudioVisual_ML_ablation_study_v2' target=\"_blank\">Weights & Biases</a> (<a href='https://wandb.me/run' target=\"_blank\">docs</a>)<br/>"
      ],
      "text/plain": [
       "<IPython.core.display.HTML object>"
      ]
     },
     "metadata": {},
     "output_type": "display_data"
    },
    {
     "data": {
      "text/html": [
       " View project at <a href='https://wandb.ai/lequn/AudioVisual_ML_ablation_study_v2' target=\"_blank\">https://wandb.ai/lequn/AudioVisual_ML_ablation_study_v2</a>"
      ],
      "text/plain": [
       "<IPython.core.display.HTML object>"
      ]
     },
     "metadata": {},
     "output_type": "display_data"
    },
    {
     "data": {
      "text/html": [
       " View run at <a href='https://wandb.ai/lequn/AudioVisual_ML_ablation_study_v2/runs/dtz0afj4' target=\"_blank\">https://wandb.ai/lequn/AudioVisual_ML_ablation_study_v2/runs/dtz0afj4</a>"
      ],
      "text/plain": [
       "<IPython.core.display.HTML object>"
      ]
     },
     "metadata": {},
     "output_type": "display_data"
    },
    {
     "name": "stdout",
     "output_type": "stream",
     "text": [
      "\t\tAccuracy: Mean = 0.8323316364288758, Std = 0.00890881720426607\n",
      "\t\tF1 Score: Mean = 0.8276305358681377, Std = 0.009819816390768196\n",
      "\t\tPrecision: Mean = 0.8287767238167779, Std = 0.010937973964954944\n",
      "\t\tRecall: Mean = 0.8323316364288758, Std = 0.00890881720426607\n",
      "\t\tROC-AUC: Mean = 0.9550680629381281, Std = 0.004345225128676438\n"
     ]
    },
    {
     "data": {
      "text/html": [
       "Waiting for W&B process to finish... <strong style=\"color:green\">(success).</strong>"
      ],
      "text/plain": [
       "<IPython.core.display.HTML object>"
      ]
     },
     "metadata": {},
     "output_type": "display_data"
    },
    {
     "data": {
      "text/html": [
       "<style>\n",
       "    table.wandb td:nth-child(1) { padding: 0 10px; text-align: left ; width: auto;} td:nth-child(2) {text-align: left ; width: 100%}\n",
       "    .wandb-row { display: flex; flex-direction: row; flex-wrap: wrap; justify-content: flex-start; width: 100% }\n",
       "    .wandb-col { display: flex; flex-direction: column; flex-basis: 100%; flex: 1; padding: 10px; }\n",
       "    </style>\n",
       "<div class=\"wandb-row\"><div class=\"wandb-col\"><h3>Run history:</h3><br/><table class=\"wandb\"><tr><td>Accuracy_mean</td><td>▁</td></tr><tr><td>Accuracy_std</td><td>▁</td></tr><tr><td>F1 Score_mean</td><td>▁</td></tr><tr><td>F1 Score_std</td><td>▁</td></tr><tr><td>Precision_mean</td><td>▁</td></tr><tr><td>Precision_std</td><td>▁</td></tr><tr><td>ROC-AUC_mean</td><td>▁</td></tr><tr><td>ROC-AUC_std</td><td>▁</td></tr><tr><td>Recall_mean</td><td>▁</td></tr><tr><td>Recall_std</td><td>▁</td></tr></table><br/></div><div class=\"wandb-col\"><h3>Run summary:</h3><br/><table class=\"wandb\"><tr><td>Accuracy_mean</td><td>0.83233</td></tr><tr><td>Accuracy_std</td><td>0.00891</td></tr><tr><td>F1 Score_mean</td><td>0.82763</td></tr><tr><td>F1 Score_std</td><td>0.00982</td></tr><tr><td>Precision_mean</td><td>0.82878</td></tr><tr><td>Precision_std</td><td>0.01094</td></tr><tr><td>ROC-AUC_mean</td><td>0.95507</td></tr><tr><td>ROC-AUC_std</td><td>0.00435</td></tr><tr><td>Recall_mean</td><td>0.83233</td></tr><tr><td>Recall_std</td><td>0.00891</td></tr></table><br/></div></div>"
      ],
      "text/plain": [
       "<IPython.core.display.HTML object>"
      ]
     },
     "metadata": {},
     "output_type": "display_data"
    },
    {
     "data": {
      "text/html": [
       " View run <strong style=\"color:#cdcd00\">KNN_Audio Ablated 3</strong> at: <a href='https://wandb.ai/lequn/AudioVisual_ML_ablation_study_v2/runs/dtz0afj4' target=\"_blank\">https://wandb.ai/lequn/AudioVisual_ML_ablation_study_v2/runs/dtz0afj4</a><br/> View job at <a href='https://wandb.ai/lequn/AudioVisual_ML_ablation_study_v2/jobs/QXJ0aWZhY3RDb2xsZWN0aW9uOjExMTQ1OTc4Ng==/version_details/v12' target=\"_blank\">https://wandb.ai/lequn/AudioVisual_ML_ablation_study_v2/jobs/QXJ0aWZhY3RDb2xsZWN0aW9uOjExMTQ1OTc4Ng==/version_details/v12</a><br/>Synced 6 W&B file(s), 0 media file(s), 0 artifact file(s) and 0 other file(s)"
      ],
      "text/plain": [
       "<IPython.core.display.HTML object>"
      ]
     },
     "metadata": {},
     "output_type": "display_data"
    },
    {
     "data": {
      "text/html": [
       "Find logs at: <code>./wandb/run-20231031_174606-dtz0afj4/logs</code>"
      ],
      "text/plain": [
       "<IPython.core.display.HTML object>"
      ]
     },
     "metadata": {},
     "output_type": "display_data"
    },
    {
     "name": "stdout",
     "output_type": "stream",
     "text": [
      "\tTraining model: DT\n"
     ]
    },
    {
     "data": {
      "application/vnd.jupyter.widget-view+json": {
       "model_id": "57bf4aea4f1547d2afc4e258f1d16bea",
       "version_major": 2,
       "version_minor": 0
      },
      "text/plain": [
       "VBox(children=(Label(value='Waiting for wandb.init()...\\r'), FloatProgress(value=0.011113183844362438, max=1.0…"
      ]
     },
     "metadata": {},
     "output_type": "display_data"
    },
    {
     "data": {
      "text/html": [
       "Tracking run with wandb version 0.15.12"
      ],
      "text/plain": [
       "<IPython.core.display.HTML object>"
      ]
     },
     "metadata": {},
     "output_type": "display_data"
    },
    {
     "data": {
      "text/html": [
       "Run data is saved locally in <code>/home/chenlequn/GitHub/LDED-FusionNet/code/wandb/run-20231031_174623-c76o7xzl</code>"
      ],
      "text/plain": [
       "<IPython.core.display.HTML object>"
      ]
     },
     "metadata": {},
     "output_type": "display_data"
    },
    {
     "data": {
      "text/html": [
       "Syncing run <strong><a href='https://wandb.ai/lequn/AudioVisual_ML_ablation_study_v2/runs/c76o7xzl' target=\"_blank\">DT_Audio Ablated 3</a></strong> to <a href='https://wandb.ai/lequn/AudioVisual_ML_ablation_study_v2' target=\"_blank\">Weights & Biases</a> (<a href='https://wandb.me/run' target=\"_blank\">docs</a>)<br/>"
      ],
      "text/plain": [
       "<IPython.core.display.HTML object>"
      ]
     },
     "metadata": {},
     "output_type": "display_data"
    },
    {
     "data": {
      "text/html": [
       " View project at <a href='https://wandb.ai/lequn/AudioVisual_ML_ablation_study_v2' target=\"_blank\">https://wandb.ai/lequn/AudioVisual_ML_ablation_study_v2</a>"
      ],
      "text/plain": [
       "<IPython.core.display.HTML object>"
      ]
     },
     "metadata": {},
     "output_type": "display_data"
    },
    {
     "data": {
      "text/html": [
       " View run at <a href='https://wandb.ai/lequn/AudioVisual_ML_ablation_study_v2/runs/c76o7xzl' target=\"_blank\">https://wandb.ai/lequn/AudioVisual_ML_ablation_study_v2/runs/c76o7xzl</a>"
      ],
      "text/plain": [
       "<IPython.core.display.HTML object>"
      ]
     },
     "metadata": {},
     "output_type": "display_data"
    },
    {
     "name": "stdout",
     "output_type": "stream",
     "text": [
      "\t\tAccuracy: Mean = 0.7820068324699305, Std = 0.013995308407648987\n",
      "\t\tF1 Score: Mean = 0.7808388302687518, Std = 0.0149097266490003\n",
      "\t\tPrecision: Mean = 0.7811478426729714, Std = 0.015208819629480048\n",
      "\t\tRecall: Mean = 0.7820068324699305, Std = 0.013995308407648987\n",
      "\t\tROC-AUC: Mean = 0.8734820966281797, Std = 0.01292880556853466\n"
     ]
    },
    {
     "data": {
      "text/html": [
       "Waiting for W&B process to finish... <strong style=\"color:green\">(success).</strong>"
      ],
      "text/plain": [
       "<IPython.core.display.HTML object>"
      ]
     },
     "metadata": {},
     "output_type": "display_data"
    },
    {
     "data": {
      "application/vnd.jupyter.widget-view+json": {
       "model_id": "4bddd2f62abc4d50b52cd5ad4952b369",
       "version_major": 2,
       "version_minor": 0
      },
      "text/plain": [
       "VBox(children=(Label(value='0.002 MB of 0.002 MB uploaded (0.000 MB deduped)\\r'), FloatProgress(value=1.0, max…"
      ]
     },
     "metadata": {},
     "output_type": "display_data"
    },
    {
     "data": {
      "text/html": [
       "<style>\n",
       "    table.wandb td:nth-child(1) { padding: 0 10px; text-align: left ; width: auto;} td:nth-child(2) {text-align: left ; width: 100%}\n",
       "    .wandb-row { display: flex; flex-direction: row; flex-wrap: wrap; justify-content: flex-start; width: 100% }\n",
       "    .wandb-col { display: flex; flex-direction: column; flex-basis: 100%; flex: 1; padding: 10px; }\n",
       "    </style>\n",
       "<div class=\"wandb-row\"><div class=\"wandb-col\"><h3>Run history:</h3><br/><table class=\"wandb\"><tr><td>Accuracy_mean</td><td>▁</td></tr><tr><td>Accuracy_std</td><td>▁</td></tr><tr><td>F1 Score_mean</td><td>▁</td></tr><tr><td>F1 Score_std</td><td>▁</td></tr><tr><td>Precision_mean</td><td>▁</td></tr><tr><td>Precision_std</td><td>▁</td></tr><tr><td>ROC-AUC_mean</td><td>▁</td></tr><tr><td>ROC-AUC_std</td><td>▁</td></tr><tr><td>Recall_mean</td><td>▁</td></tr><tr><td>Recall_std</td><td>▁</td></tr></table><br/></div><div class=\"wandb-col\"><h3>Run summary:</h3><br/><table class=\"wandb\"><tr><td>Accuracy_mean</td><td>0.78201</td></tr><tr><td>Accuracy_std</td><td>0.014</td></tr><tr><td>F1 Score_mean</td><td>0.78084</td></tr><tr><td>F1 Score_std</td><td>0.01491</td></tr><tr><td>Precision_mean</td><td>0.78115</td></tr><tr><td>Precision_std</td><td>0.01521</td></tr><tr><td>ROC-AUC_mean</td><td>0.87348</td></tr><tr><td>ROC-AUC_std</td><td>0.01293</td></tr><tr><td>Recall_mean</td><td>0.78201</td></tr><tr><td>Recall_std</td><td>0.014</td></tr></table><br/></div></div>"
      ],
      "text/plain": [
       "<IPython.core.display.HTML object>"
      ]
     },
     "metadata": {},
     "output_type": "display_data"
    },
    {
     "data": {
      "text/html": [
       " View run <strong style=\"color:#cdcd00\">DT_Audio Ablated 3</strong> at: <a href='https://wandb.ai/lequn/AudioVisual_ML_ablation_study_v2/runs/c76o7xzl' target=\"_blank\">https://wandb.ai/lequn/AudioVisual_ML_ablation_study_v2/runs/c76o7xzl</a><br/> View job at <a href='https://wandb.ai/lequn/AudioVisual_ML_ablation_study_v2/jobs/QXJ0aWZhY3RDb2xsZWN0aW9uOjExMTQ1OTc4Ng==/version_details/v12' target=\"_blank\">https://wandb.ai/lequn/AudioVisual_ML_ablation_study_v2/jobs/QXJ0aWZhY3RDb2xsZWN0aW9uOjExMTQ1OTc4Ng==/version_details/v12</a><br/>Synced 6 W&B file(s), 0 media file(s), 0 artifact file(s) and 0 other file(s)"
      ],
      "text/plain": [
       "<IPython.core.display.HTML object>"
      ]
     },
     "metadata": {},
     "output_type": "display_data"
    },
    {
     "data": {
      "text/html": [
       "Find logs at: <code>./wandb/run-20231031_174623-c76o7xzl/logs</code>"
      ],
      "text/plain": [
       "<IPython.core.display.HTML object>"
      ]
     },
     "metadata": {},
     "output_type": "display_data"
    },
    {
     "name": "stdout",
     "output_type": "stream",
     "text": [
      "\tTraining model: RF\n"
     ]
    },
    {
     "data": {
      "application/vnd.jupyter.widget-view+json": {
       "model_id": "cc9dab5d75504f7fa2322f1049fa3ca4",
       "version_major": 2,
       "version_minor": 0
      },
      "text/plain": [
       "VBox(children=(Label(value='Waiting for wandb.init()...\\r'), FloatProgress(value=0.011114029000034659, max=1.0…"
      ]
     },
     "metadata": {},
     "output_type": "display_data"
    },
    {
     "data": {
      "text/html": [
       "Tracking run with wandb version 0.15.12"
      ],
      "text/plain": [
       "<IPython.core.display.HTML object>"
      ]
     },
     "metadata": {},
     "output_type": "display_data"
    },
    {
     "data": {
      "text/html": [
       "Run data is saved locally in <code>/home/chenlequn/GitHub/LDED-FusionNet/code/wandb/run-20231031_174641-i5wfl83k</code>"
      ],
      "text/plain": [
       "<IPython.core.display.HTML object>"
      ]
     },
     "metadata": {},
     "output_type": "display_data"
    },
    {
     "data": {
      "text/html": [
       "Syncing run <strong><a href='https://wandb.ai/lequn/AudioVisual_ML_ablation_study_v2/runs/i5wfl83k' target=\"_blank\">RF_Audio Ablated 3</a></strong> to <a href='https://wandb.ai/lequn/AudioVisual_ML_ablation_study_v2' target=\"_blank\">Weights & Biases</a> (<a href='https://wandb.me/run' target=\"_blank\">docs</a>)<br/>"
      ],
      "text/plain": [
       "<IPython.core.display.HTML object>"
      ]
     },
     "metadata": {},
     "output_type": "display_data"
    },
    {
     "data": {
      "text/html": [
       " View project at <a href='https://wandb.ai/lequn/AudioVisual_ML_ablation_study_v2' target=\"_blank\">https://wandb.ai/lequn/AudioVisual_ML_ablation_study_v2</a>"
      ],
      "text/plain": [
       "<IPython.core.display.HTML object>"
      ]
     },
     "metadata": {},
     "output_type": "display_data"
    },
    {
     "data": {
      "text/html": [
       " View run at <a href='https://wandb.ai/lequn/AudioVisual_ML_ablation_study_v2/runs/i5wfl83k' target=\"_blank\">https://wandb.ai/lequn/AudioVisual_ML_ablation_study_v2/runs/i5wfl83k</a>"
      ],
      "text/plain": [
       "<IPython.core.display.HTML object>"
      ]
     },
     "metadata": {},
     "output_type": "display_data"
    },
    {
     "name": "stdout",
     "output_type": "stream",
     "text": [
      "\t\tAccuracy: Mean = 0.8574947859433518, Std = 0.0035979387779991596\n",
      "\t\tF1 Score: Mean = 0.8545613056042939, Std = 0.003320415702992816\n",
      "\t\tPrecision: Mean = 0.8553526674048294, Std = 0.0036131220165841766\n",
      "\t\tRecall: Mean = 0.8574947859433518, Std = 0.0035979387779991596\n",
      "\t\tROC-AUC: Mean = 0.9691405314905086, Std = 0.002356111607593388\n"
     ]
    },
    {
     "data": {
      "text/html": [
       "Waiting for W&B process to finish... <strong style=\"color:green\">(success).</strong>"
      ],
      "text/plain": [
       "<IPython.core.display.HTML object>"
      ]
     },
     "metadata": {},
     "output_type": "display_data"
    },
    {
     "data": {
      "application/vnd.jupyter.widget-view+json": {
       "model_id": "7e1d77cc9cfa48b2b850c16d998a2b57",
       "version_major": 2,
       "version_minor": 0
      },
      "text/plain": [
       "VBox(children=(Label(value='0.002 MB of 0.002 MB uploaded (0.000 MB deduped)\\r'), FloatProgress(value=1.0, max…"
      ]
     },
     "metadata": {},
     "output_type": "display_data"
    },
    {
     "data": {
      "text/html": [
       "<style>\n",
       "    table.wandb td:nth-child(1) { padding: 0 10px; text-align: left ; width: auto;} td:nth-child(2) {text-align: left ; width: 100%}\n",
       "    .wandb-row { display: flex; flex-direction: row; flex-wrap: wrap; justify-content: flex-start; width: 100% }\n",
       "    .wandb-col { display: flex; flex-direction: column; flex-basis: 100%; flex: 1; padding: 10px; }\n",
       "    </style>\n",
       "<div class=\"wandb-row\"><div class=\"wandb-col\"><h3>Run history:</h3><br/><table class=\"wandb\"><tr><td>Accuracy_mean</td><td>▁</td></tr><tr><td>Accuracy_std</td><td>▁</td></tr><tr><td>F1 Score_mean</td><td>▁</td></tr><tr><td>F1 Score_std</td><td>▁</td></tr><tr><td>Precision_mean</td><td>▁</td></tr><tr><td>Precision_std</td><td>▁</td></tr><tr><td>ROC-AUC_mean</td><td>▁</td></tr><tr><td>ROC-AUC_std</td><td>▁</td></tr><tr><td>Recall_mean</td><td>▁</td></tr><tr><td>Recall_std</td><td>▁</td></tr></table><br/></div><div class=\"wandb-col\"><h3>Run summary:</h3><br/><table class=\"wandb\"><tr><td>Accuracy_mean</td><td>0.85749</td></tr><tr><td>Accuracy_std</td><td>0.0036</td></tr><tr><td>F1 Score_mean</td><td>0.85456</td></tr><tr><td>F1 Score_std</td><td>0.00332</td></tr><tr><td>Precision_mean</td><td>0.85535</td></tr><tr><td>Precision_std</td><td>0.00361</td></tr><tr><td>ROC-AUC_mean</td><td>0.96914</td></tr><tr><td>ROC-AUC_std</td><td>0.00236</td></tr><tr><td>Recall_mean</td><td>0.85749</td></tr><tr><td>Recall_std</td><td>0.0036</td></tr></table><br/></div></div>"
      ],
      "text/plain": [
       "<IPython.core.display.HTML object>"
      ]
     },
     "metadata": {},
     "output_type": "display_data"
    },
    {
     "data": {
      "text/html": [
       " View run <strong style=\"color:#cdcd00\">RF_Audio Ablated 3</strong> at: <a href='https://wandb.ai/lequn/AudioVisual_ML_ablation_study_v2/runs/i5wfl83k' target=\"_blank\">https://wandb.ai/lequn/AudioVisual_ML_ablation_study_v2/runs/i5wfl83k</a><br/> View job at <a href='https://wandb.ai/lequn/AudioVisual_ML_ablation_study_v2/jobs/QXJ0aWZhY3RDb2xsZWN0aW9uOjExMTQ1OTc4Ng==/version_details/v12' target=\"_blank\">https://wandb.ai/lequn/AudioVisual_ML_ablation_study_v2/jobs/QXJ0aWZhY3RDb2xsZWN0aW9uOjExMTQ1OTc4Ng==/version_details/v12</a><br/>Synced 6 W&B file(s), 0 media file(s), 0 artifact file(s) and 0 other file(s)"
      ],
      "text/plain": [
       "<IPython.core.display.HTML object>"
      ]
     },
     "metadata": {},
     "output_type": "display_data"
    },
    {
     "data": {
      "text/html": [
       "Find logs at: <code>./wandb/run-20231031_174641-i5wfl83k/logs</code>"
      ],
      "text/plain": [
       "<IPython.core.display.HTML object>"
      ]
     },
     "metadata": {},
     "output_type": "display_data"
    },
    {
     "name": "stdout",
     "output_type": "stream",
     "text": [
      "\tTraining model: BalancedRF\n"
     ]
    },
    {
     "data": {
      "application/vnd.jupyter.widget-view+json": {
       "model_id": "00f205b3e7d54160b615f5f9f3c662b2",
       "version_major": 2,
       "version_minor": 0
      },
      "text/plain": [
       "VBox(children=(Label(value='Waiting for wandb.init()...\\r'), FloatProgress(value=0.011113550166677063, max=1.0…"
      ]
     },
     "metadata": {},
     "output_type": "display_data"
    },
    {
     "data": {
      "text/html": [
       "Tracking run with wandb version 0.15.12"
      ],
      "text/plain": [
       "<IPython.core.display.HTML object>"
      ]
     },
     "metadata": {},
     "output_type": "display_data"
    },
    {
     "data": {
      "text/html": [
       "Run data is saved locally in <code>/home/chenlequn/GitHub/LDED-FusionNet/code/wandb/run-20231031_174809-yhm8d75a</code>"
      ],
      "text/plain": [
       "<IPython.core.display.HTML object>"
      ]
     },
     "metadata": {},
     "output_type": "display_data"
    },
    {
     "data": {
      "text/html": [
       "Syncing run <strong><a href='https://wandb.ai/lequn/AudioVisual_ML_ablation_study_v2/runs/yhm8d75a' target=\"_blank\">BalancedRF_Audio Ablated 3</a></strong> to <a href='https://wandb.ai/lequn/AudioVisual_ML_ablation_study_v2' target=\"_blank\">Weights & Biases</a> (<a href='https://wandb.me/run' target=\"_blank\">docs</a>)<br/>"
      ],
      "text/plain": [
       "<IPython.core.display.HTML object>"
      ]
     },
     "metadata": {},
     "output_type": "display_data"
    },
    {
     "data": {
      "text/html": [
       " View project at <a href='https://wandb.ai/lequn/AudioVisual_ML_ablation_study_v2' target=\"_blank\">https://wandb.ai/lequn/AudioVisual_ML_ablation_study_v2</a>"
      ],
      "text/plain": [
       "<IPython.core.display.HTML object>"
      ]
     },
     "metadata": {},
     "output_type": "display_data"
    },
    {
     "data": {
      "text/html": [
       " View run at <a href='https://wandb.ai/lequn/AudioVisual_ML_ablation_study_v2/runs/yhm8d75a' target=\"_blank\">https://wandb.ai/lequn/AudioVisual_ML_ablation_study_v2/runs/yhm8d75a</a>"
      ],
      "text/plain": [
       "<IPython.core.display.HTML object>"
      ]
     },
     "metadata": {},
     "output_type": "display_data"
    },
    {
     "name": "stderr",
     "output_type": "stream",
     "text": [
      "/home/chenlequn/anaconda3/envs/torch/lib/python3.9/site-packages/imblearn/ensemble/_forest.py:546: FutureWarning: The default of `sampling_strategy` will change from `'auto'` to `'all'` in version 0.13. This change will follow the implementation proposed in the original paper. Set to `'all'` to silence this warning and adopt the future behaviour.\n",
      "  warn(\n",
      "/home/chenlequn/anaconda3/envs/torch/lib/python3.9/site-packages/imblearn/ensemble/_forest.py:558: FutureWarning: The default of `replacement` will change from `False` to `True` in version 0.13. This change will follow the implementation proposed in the original paper. Set to `True` to silence this warning and adopt the future behaviour.\n",
      "  warn(\n"
     ]
    },
    {
     "name": "stdout",
     "output_type": "stream",
     "text": [
      "\t\tAccuracy: Mean = 0.854488573927474, Std = 0.007363090765442521\n",
      "\t\tF1 Score: Mean = 0.854637891431812, Std = 0.007254136199596585\n",
      "\t\tPrecision: Mean = 0.8579196144817167, Std = 0.008325589390354835\n",
      "\t\tRecall: Mean = 0.854488573927474, Std = 0.007363090765442521\n",
      "\t\tROC-AUC: Mean = 0.965899405954097, Std = 0.0023019899362194643\n"
     ]
    },
    {
     "data": {
      "text/html": [
       "Waiting for W&B process to finish... <strong style=\"color:green\">(success).</strong>"
      ],
      "text/plain": [
       "<IPython.core.display.HTML object>"
      ]
     },
     "metadata": {},
     "output_type": "display_data"
    },
    {
     "data": {
      "application/vnd.jupyter.widget-view+json": {
       "model_id": "fcfeac14c0dc4ff3bd92b6db0df5ada9",
       "version_major": 2,
       "version_minor": 0
      },
      "text/plain": [
       "VBox(children=(Label(value='0.002 MB of 0.002 MB uploaded (0.000 MB deduped)\\r'), FloatProgress(value=1.0, max…"
      ]
     },
     "metadata": {},
     "output_type": "display_data"
    },
    {
     "data": {
      "text/html": [
       "<style>\n",
       "    table.wandb td:nth-child(1) { padding: 0 10px; text-align: left ; width: auto;} td:nth-child(2) {text-align: left ; width: 100%}\n",
       "    .wandb-row { display: flex; flex-direction: row; flex-wrap: wrap; justify-content: flex-start; width: 100% }\n",
       "    .wandb-col { display: flex; flex-direction: column; flex-basis: 100%; flex: 1; padding: 10px; }\n",
       "    </style>\n",
       "<div class=\"wandb-row\"><div class=\"wandb-col\"><h3>Run history:</h3><br/><table class=\"wandb\"><tr><td>Accuracy_mean</td><td>▁</td></tr><tr><td>Accuracy_std</td><td>▁</td></tr><tr><td>F1 Score_mean</td><td>▁</td></tr><tr><td>F1 Score_std</td><td>▁</td></tr><tr><td>Precision_mean</td><td>▁</td></tr><tr><td>Precision_std</td><td>▁</td></tr><tr><td>ROC-AUC_mean</td><td>▁</td></tr><tr><td>ROC-AUC_std</td><td>▁</td></tr><tr><td>Recall_mean</td><td>▁</td></tr><tr><td>Recall_std</td><td>▁</td></tr></table><br/></div><div class=\"wandb-col\"><h3>Run summary:</h3><br/><table class=\"wandb\"><tr><td>Accuracy_mean</td><td>0.85449</td></tr><tr><td>Accuracy_std</td><td>0.00736</td></tr><tr><td>F1 Score_mean</td><td>0.85464</td></tr><tr><td>F1 Score_std</td><td>0.00725</td></tr><tr><td>Precision_mean</td><td>0.85792</td></tr><tr><td>Precision_std</td><td>0.00833</td></tr><tr><td>ROC-AUC_mean</td><td>0.9659</td></tr><tr><td>ROC-AUC_std</td><td>0.0023</td></tr><tr><td>Recall_mean</td><td>0.85449</td></tr><tr><td>Recall_std</td><td>0.00736</td></tr></table><br/></div></div>"
      ],
      "text/plain": [
       "<IPython.core.display.HTML object>"
      ]
     },
     "metadata": {},
     "output_type": "display_data"
    },
    {
     "data": {
      "text/html": [
       " View run <strong style=\"color:#cdcd00\">BalancedRF_Audio Ablated 3</strong> at: <a href='https://wandb.ai/lequn/AudioVisual_ML_ablation_study_v2/runs/yhm8d75a' target=\"_blank\">https://wandb.ai/lequn/AudioVisual_ML_ablation_study_v2/runs/yhm8d75a</a><br/> View job at <a href='https://wandb.ai/lequn/AudioVisual_ML_ablation_study_v2/jobs/QXJ0aWZhY3RDb2xsZWN0aW9uOjExMTQ1OTc4Ng==/version_details/v12' target=\"_blank\">https://wandb.ai/lequn/AudioVisual_ML_ablation_study_v2/jobs/QXJ0aWZhY3RDb2xsZWN0aW9uOjExMTQ1OTc4Ng==/version_details/v12</a><br/>Synced 6 W&B file(s), 0 media file(s), 0 artifact file(s) and 0 other file(s)"
      ],
      "text/plain": [
       "<IPython.core.display.HTML object>"
      ]
     },
     "metadata": {},
     "output_type": "display_data"
    },
    {
     "data": {
      "text/html": [
       "Find logs at: <code>./wandb/run-20231031_174809-yhm8d75a/logs</code>"
      ],
      "text/plain": [
       "<IPython.core.display.HTML object>"
      ]
     },
     "metadata": {},
     "output_type": "display_data"
    },
    {
     "name": "stdout",
     "output_type": "stream",
     "text": [
      "\tTraining model: RUSBoost\n"
     ]
    },
    {
     "data": {
      "application/vnd.jupyter.widget-view+json": {
       "model_id": "caefbfb2be84412d82830924d936654e",
       "version_major": 2,
       "version_minor": 0
      },
      "text/plain": [
       "VBox(children=(Label(value='Waiting for wandb.init()...\\r'), FloatProgress(value=0.011113274011101263, max=1.0…"
      ]
     },
     "metadata": {},
     "output_type": "display_data"
    },
    {
     "data": {
      "text/html": [
       "Tracking run with wandb version 0.15.12"
      ],
      "text/plain": [
       "<IPython.core.display.HTML object>"
      ]
     },
     "metadata": {},
     "output_type": "display_data"
    },
    {
     "data": {
      "text/html": [
       "Run data is saved locally in <code>/home/chenlequn/GitHub/LDED-FusionNet/code/wandb/run-20231031_174850-7x76svbg</code>"
      ],
      "text/plain": [
       "<IPython.core.display.HTML object>"
      ]
     },
     "metadata": {},
     "output_type": "display_data"
    },
    {
     "data": {
      "text/html": [
       "Syncing run <strong><a href='https://wandb.ai/lequn/AudioVisual_ML_ablation_study_v2/runs/7x76svbg' target=\"_blank\">RUSBoost_Audio Ablated 3</a></strong> to <a href='https://wandb.ai/lequn/AudioVisual_ML_ablation_study_v2' target=\"_blank\">Weights & Biases</a> (<a href='https://wandb.me/run' target=\"_blank\">docs</a>)<br/>"
      ],
      "text/plain": [
       "<IPython.core.display.HTML object>"
      ]
     },
     "metadata": {},
     "output_type": "display_data"
    },
    {
     "data": {
      "text/html": [
       " View project at <a href='https://wandb.ai/lequn/AudioVisual_ML_ablation_study_v2' target=\"_blank\">https://wandb.ai/lequn/AudioVisual_ML_ablation_study_v2</a>"
      ],
      "text/plain": [
       "<IPython.core.display.HTML object>"
      ]
     },
     "metadata": {},
     "output_type": "display_data"
    },
    {
     "data": {
      "text/html": [
       " View run at <a href='https://wandb.ai/lequn/AudioVisual_ML_ablation_study_v2/runs/7x76svbg' target=\"_blank\">https://wandb.ai/lequn/AudioVisual_ML_ablation_study_v2/runs/7x76svbg</a>"
      ],
      "text/plain": [
       "<IPython.core.display.HTML object>"
      ]
     },
     "metadata": {},
     "output_type": "display_data"
    },
    {
     "name": "stdout",
     "output_type": "stream",
     "text": [
      "\t\tAccuracy: Mean = 0.7727022642835252, Std = 0.00705362145799041\n",
      "\t\tF1 Score: Mean = 0.7719426882719502, Std = 0.007263189689727446\n",
      "\t\tPrecision: Mean = 0.7798007153681861, Std = 0.006658052139916822\n",
      "\t\tRecall: Mean = 0.7727022642835252, Std = 0.00705362145799041\n",
      "\t\tROC-AUC: Mean = 0.896557293496719, Std = 0.0033615730001097925\n"
     ]
    },
    {
     "data": {
      "text/html": [
       "Waiting for W&B process to finish... <strong style=\"color:green\">(success).</strong>"
      ],
      "text/plain": [
       "<IPython.core.display.HTML object>"
      ]
     },
     "metadata": {},
     "output_type": "display_data"
    },
    {
     "data": {
      "application/vnd.jupyter.widget-view+json": {
       "model_id": "d44c4677401142a1a0ce07f2aef9a1f8",
       "version_major": 2,
       "version_minor": 0
      },
      "text/plain": [
       "VBox(children=(Label(value='0.002 MB of 0.002 MB uploaded (0.000 MB deduped)\\r'), FloatProgress(value=1.0, max…"
      ]
     },
     "metadata": {},
     "output_type": "display_data"
    },
    {
     "data": {
      "text/html": [
       "<style>\n",
       "    table.wandb td:nth-child(1) { padding: 0 10px; text-align: left ; width: auto;} td:nth-child(2) {text-align: left ; width: 100%}\n",
       "    .wandb-row { display: flex; flex-direction: row; flex-wrap: wrap; justify-content: flex-start; width: 100% }\n",
       "    .wandb-col { display: flex; flex-direction: column; flex-basis: 100%; flex: 1; padding: 10px; }\n",
       "    </style>\n",
       "<div class=\"wandb-row\"><div class=\"wandb-col\"><h3>Run history:</h3><br/><table class=\"wandb\"><tr><td>Accuracy_mean</td><td>▁</td></tr><tr><td>Accuracy_std</td><td>▁</td></tr><tr><td>F1 Score_mean</td><td>▁</td></tr><tr><td>F1 Score_std</td><td>▁</td></tr><tr><td>Precision_mean</td><td>▁</td></tr><tr><td>Precision_std</td><td>▁</td></tr><tr><td>ROC-AUC_mean</td><td>▁</td></tr><tr><td>ROC-AUC_std</td><td>▁</td></tr><tr><td>Recall_mean</td><td>▁</td></tr><tr><td>Recall_std</td><td>▁</td></tr></table><br/></div><div class=\"wandb-col\"><h3>Run summary:</h3><br/><table class=\"wandb\"><tr><td>Accuracy_mean</td><td>0.7727</td></tr><tr><td>Accuracy_std</td><td>0.00705</td></tr><tr><td>F1 Score_mean</td><td>0.77194</td></tr><tr><td>F1 Score_std</td><td>0.00726</td></tr><tr><td>Precision_mean</td><td>0.7798</td></tr><tr><td>Precision_std</td><td>0.00666</td></tr><tr><td>ROC-AUC_mean</td><td>0.89656</td></tr><tr><td>ROC-AUC_std</td><td>0.00336</td></tr><tr><td>Recall_mean</td><td>0.7727</td></tr><tr><td>Recall_std</td><td>0.00705</td></tr></table><br/></div></div>"
      ],
      "text/plain": [
       "<IPython.core.display.HTML object>"
      ]
     },
     "metadata": {},
     "output_type": "display_data"
    },
    {
     "data": {
      "text/html": [
       " View run <strong style=\"color:#cdcd00\">RUSBoost_Audio Ablated 3</strong> at: <a href='https://wandb.ai/lequn/AudioVisual_ML_ablation_study_v2/runs/7x76svbg' target=\"_blank\">https://wandb.ai/lequn/AudioVisual_ML_ablation_study_v2/runs/7x76svbg</a><br/> View job at <a href='https://wandb.ai/lequn/AudioVisual_ML_ablation_study_v2/jobs/QXJ0aWZhY3RDb2xsZWN0aW9uOjExMTQ1OTc4Ng==/version_details/v12' target=\"_blank\">https://wandb.ai/lequn/AudioVisual_ML_ablation_study_v2/jobs/QXJ0aWZhY3RDb2xsZWN0aW9uOjExMTQ1OTc4Ng==/version_details/v12</a><br/>Synced 6 W&B file(s), 0 media file(s), 0 artifact file(s) and 0 other file(s)"
      ],
      "text/plain": [
       "<IPython.core.display.HTML object>"
      ]
     },
     "metadata": {},
     "output_type": "display_data"
    },
    {
     "data": {
      "text/html": [
       "Find logs at: <code>./wandb/run-20231031_174850-7x76svbg/logs</code>"
      ],
      "text/plain": [
       "<IPython.core.display.HTML object>"
      ]
     },
     "metadata": {},
     "output_type": "display_data"
    },
    {
     "name": "stdout",
     "output_type": "stream",
     "text": [
      "\tTraining model: Ada\n"
     ]
    },
    {
     "data": {
      "application/vnd.jupyter.widget-view+json": {
       "model_id": "ec9161ec79b444e18789fd15b98b3be0",
       "version_major": 2,
       "version_minor": 0
      },
      "text/plain": [
       "VBox(children=(Label(value='Waiting for wandb.init()...\\r'), FloatProgress(value=0.011114571200030494, max=1.0…"
      ]
     },
     "metadata": {},
     "output_type": "display_data"
    },
    {
     "data": {
      "text/html": [
       "Tracking run with wandb version 0.15.12"
      ],
      "text/plain": [
       "<IPython.core.display.HTML object>"
      ]
     },
     "metadata": {},
     "output_type": "display_data"
    },
    {
     "data": {
      "text/html": [
       "Run data is saved locally in <code>/home/chenlequn/GitHub/LDED-FusionNet/code/wandb/run-20231031_174921-ix16e1ri</code>"
      ],
      "text/plain": [
       "<IPython.core.display.HTML object>"
      ]
     },
     "metadata": {},
     "output_type": "display_data"
    },
    {
     "data": {
      "text/html": [
       "Syncing run <strong><a href='https://wandb.ai/lequn/AudioVisual_ML_ablation_study_v2/runs/ix16e1ri' target=\"_blank\">Ada_Audio Ablated 3</a></strong> to <a href='https://wandb.ai/lequn/AudioVisual_ML_ablation_study_v2' target=\"_blank\">Weights & Biases</a> (<a href='https://wandb.me/run' target=\"_blank\">docs</a>)<br/>"
      ],
      "text/plain": [
       "<IPython.core.display.HTML object>"
      ]
     },
     "metadata": {},
     "output_type": "display_data"
    },
    {
     "data": {
      "text/html": [
       " View project at <a href='https://wandb.ai/lequn/AudioVisual_ML_ablation_study_v2' target=\"_blank\">https://wandb.ai/lequn/AudioVisual_ML_ablation_study_v2</a>"
      ],
      "text/plain": [
       "<IPython.core.display.HTML object>"
      ]
     },
     "metadata": {},
     "output_type": "display_data"
    },
    {
     "data": {
      "text/html": [
       " View run at <a href='https://wandb.ai/lequn/AudioVisual_ML_ablation_study_v2/runs/ix16e1ri' target=\"_blank\">https://wandb.ai/lequn/AudioVisual_ML_ablation_study_v2/runs/ix16e1ri</a>"
      ],
      "text/plain": [
       "<IPython.core.display.HTML object>"
      ]
     },
     "metadata": {},
     "output_type": "display_data"
    },
    {
     "name": "stdout",
     "output_type": "stream",
     "text": [
      "\t\tAccuracy: Mean = 0.7871973417655281, Std = 0.009695015877765712\n",
      "\t\tF1 Score: Mean = 0.7774051681347761, Std = 0.010566978887956999\n",
      "\t\tPrecision: Mean = 0.7775050040136144, Std = 0.010157922143740629\n",
      "\t\tRecall: Mean = 0.7871973417655281, Std = 0.009695015877765712\n",
      "\t\tROC-AUC: Mean = 0.9163529538980504, Std = 0.0043744453226434105\n"
     ]
    },
    {
     "data": {
      "text/html": [
       "Waiting for W&B process to finish... <strong style=\"color:green\">(success).</strong>"
      ],
      "text/plain": [
       "<IPython.core.display.HTML object>"
      ]
     },
     "metadata": {},
     "output_type": "display_data"
    },
    {
     "data": {
      "application/vnd.jupyter.widget-view+json": {
       "model_id": "675502005949467b9232664042fbfd9e",
       "version_major": 2,
       "version_minor": 0
      },
      "text/plain": [
       "VBox(children=(Label(value='0.002 MB of 0.002 MB uploaded (0.000 MB deduped)\\r'), FloatProgress(value=1.0, max…"
      ]
     },
     "metadata": {},
     "output_type": "display_data"
    },
    {
     "data": {
      "text/html": [
       "<style>\n",
       "    table.wandb td:nth-child(1) { padding: 0 10px; text-align: left ; width: auto;} td:nth-child(2) {text-align: left ; width: 100%}\n",
       "    .wandb-row { display: flex; flex-direction: row; flex-wrap: wrap; justify-content: flex-start; width: 100% }\n",
       "    .wandb-col { display: flex; flex-direction: column; flex-basis: 100%; flex: 1; padding: 10px; }\n",
       "    </style>\n",
       "<div class=\"wandb-row\"><div class=\"wandb-col\"><h3>Run history:</h3><br/><table class=\"wandb\"><tr><td>Accuracy_mean</td><td>▁</td></tr><tr><td>Accuracy_std</td><td>▁</td></tr><tr><td>F1 Score_mean</td><td>▁</td></tr><tr><td>F1 Score_std</td><td>▁</td></tr><tr><td>Precision_mean</td><td>▁</td></tr><tr><td>Precision_std</td><td>▁</td></tr><tr><td>ROC-AUC_mean</td><td>▁</td></tr><tr><td>ROC-AUC_std</td><td>▁</td></tr><tr><td>Recall_mean</td><td>▁</td></tr><tr><td>Recall_std</td><td>▁</td></tr></table><br/></div><div class=\"wandb-col\"><h3>Run summary:</h3><br/><table class=\"wandb\"><tr><td>Accuracy_mean</td><td>0.7872</td></tr><tr><td>Accuracy_std</td><td>0.0097</td></tr><tr><td>F1 Score_mean</td><td>0.77741</td></tr><tr><td>F1 Score_std</td><td>0.01057</td></tr><tr><td>Precision_mean</td><td>0.77751</td></tr><tr><td>Precision_std</td><td>0.01016</td></tr><tr><td>ROC-AUC_mean</td><td>0.91635</td></tr><tr><td>ROC-AUC_std</td><td>0.00437</td></tr><tr><td>Recall_mean</td><td>0.7872</td></tr><tr><td>Recall_std</td><td>0.0097</td></tr></table><br/></div></div>"
      ],
      "text/plain": [
       "<IPython.core.display.HTML object>"
      ]
     },
     "metadata": {},
     "output_type": "display_data"
    },
    {
     "data": {
      "text/html": [
       " View run <strong style=\"color:#cdcd00\">Ada_Audio Ablated 3</strong> at: <a href='https://wandb.ai/lequn/AudioVisual_ML_ablation_study_v2/runs/ix16e1ri' target=\"_blank\">https://wandb.ai/lequn/AudioVisual_ML_ablation_study_v2/runs/ix16e1ri</a><br/> View job at <a href='https://wandb.ai/lequn/AudioVisual_ML_ablation_study_v2/jobs/QXJ0aWZhY3RDb2xsZWN0aW9uOjExMTQ1OTc4Ng==/version_details/v12' target=\"_blank\">https://wandb.ai/lequn/AudioVisual_ML_ablation_study_v2/jobs/QXJ0aWZhY3RDb2xsZWN0aW9uOjExMTQ1OTc4Ng==/version_details/v12</a><br/>Synced 6 W&B file(s), 0 media file(s), 0 artifact file(s) and 0 other file(s)"
      ],
      "text/plain": [
       "<IPython.core.display.HTML object>"
      ]
     },
     "metadata": {},
     "output_type": "display_data"
    },
    {
     "data": {
      "text/html": [
       "Find logs at: <code>./wandb/run-20231031_174921-ix16e1ri/logs</code>"
      ],
      "text/plain": [
       "<IPython.core.display.HTML object>"
      ]
     },
     "metadata": {},
     "output_type": "display_data"
    },
    {
     "name": "stdout",
     "output_type": "stream",
     "text": [
      "\tTraining model: NN\n"
     ]
    },
    {
     "data": {
      "application/vnd.jupyter.widget-view+json": {
       "model_id": "fc6bb10af46941de84446864a72977eb",
       "version_major": 2,
       "version_minor": 0
      },
      "text/plain": [
       "VBox(children=(Label(value='Waiting for wandb.init()...\\r'), FloatProgress(value=0.011113458244492197, max=1.0…"
      ]
     },
     "metadata": {},
     "output_type": "display_data"
    },
    {
     "data": {
      "text/html": [
       "Tracking run with wandb version 0.15.12"
      ],
      "text/plain": [
       "<IPython.core.display.HTML object>"
      ]
     },
     "metadata": {},
     "output_type": "display_data"
    },
    {
     "data": {
      "text/html": [
       "Run data is saved locally in <code>/home/chenlequn/GitHub/LDED-FusionNet/code/wandb/run-20231031_175010-8l46j6mq</code>"
      ],
      "text/plain": [
       "<IPython.core.display.HTML object>"
      ]
     },
     "metadata": {},
     "output_type": "display_data"
    },
    {
     "data": {
      "text/html": [
       "Syncing run <strong><a href='https://wandb.ai/lequn/AudioVisual_ML_ablation_study_v2/runs/8l46j6mq' target=\"_blank\">NN_Audio Ablated 3</a></strong> to <a href='https://wandb.ai/lequn/AudioVisual_ML_ablation_study_v2' target=\"_blank\">Weights & Biases</a> (<a href='https://wandb.me/run' target=\"_blank\">docs</a>)<br/>"
      ],
      "text/plain": [
       "<IPython.core.display.HTML object>"
      ]
     },
     "metadata": {},
     "output_type": "display_data"
    },
    {
     "data": {
      "text/html": [
       " View project at <a href='https://wandb.ai/lequn/AudioVisual_ML_ablation_study_v2' target=\"_blank\">https://wandb.ai/lequn/AudioVisual_ML_ablation_study_v2</a>"
      ],
      "text/plain": [
       "<IPython.core.display.HTML object>"
      ]
     },
     "metadata": {},
     "output_type": "display_data"
    },
    {
     "data": {
      "text/html": [
       " View run at <a href='https://wandb.ai/lequn/AudioVisual_ML_ablation_study_v2/runs/8l46j6mq' target=\"_blank\">https://wandb.ai/lequn/AudioVisual_ML_ablation_study_v2/runs/8l46j6mq</a>"
      ],
      "text/plain": [
       "<IPython.core.display.HTML object>"
      ]
     },
     "metadata": {},
     "output_type": "display_data"
    },
    {
     "name": "stdout",
     "output_type": "stream",
     "text": [
      "\t\tAccuracy: Mean = 0.8815631704454561, Std = 0.006976118609047275\n",
      "\t\tF1 Score: Mean = 0.8813310021500813, Std = 0.006705059941744534\n",
      "\t\tPrecision: Mean = 0.8821963105878439, Std = 0.006639368240901325\n",
      "\t\tRecall: Mean = 0.8815631704454561, Std = 0.006976118609047275\n",
      "\t\tROC-AUC: Mean = 0.974519264083824, Std = 0.002409358398504663\n"
     ]
    },
    {
     "data": {
      "text/html": [
       "Waiting for W&B process to finish... <strong style=\"color:green\">(success).</strong>"
      ],
      "text/plain": [
       "<IPython.core.display.HTML object>"
      ]
     },
     "metadata": {},
     "output_type": "display_data"
    },
    {
     "data": {
      "text/html": [
       "<style>\n",
       "    table.wandb td:nth-child(1) { padding: 0 10px; text-align: left ; width: auto;} td:nth-child(2) {text-align: left ; width: 100%}\n",
       "    .wandb-row { display: flex; flex-direction: row; flex-wrap: wrap; justify-content: flex-start; width: 100% }\n",
       "    .wandb-col { display: flex; flex-direction: column; flex-basis: 100%; flex: 1; padding: 10px; }\n",
       "    </style>\n",
       "<div class=\"wandb-row\"><div class=\"wandb-col\"><h3>Run history:</h3><br/><table class=\"wandb\"><tr><td>Accuracy_mean</td><td>▁</td></tr><tr><td>Accuracy_std</td><td>▁</td></tr><tr><td>F1 Score_mean</td><td>▁</td></tr><tr><td>F1 Score_std</td><td>▁</td></tr><tr><td>Precision_mean</td><td>▁</td></tr><tr><td>Precision_std</td><td>▁</td></tr><tr><td>ROC-AUC_mean</td><td>▁</td></tr><tr><td>ROC-AUC_std</td><td>▁</td></tr><tr><td>Recall_mean</td><td>▁</td></tr><tr><td>Recall_std</td><td>▁</td></tr></table><br/></div><div class=\"wandb-col\"><h3>Run summary:</h3><br/><table class=\"wandb\"><tr><td>Accuracy_mean</td><td>0.88156</td></tr><tr><td>Accuracy_std</td><td>0.00698</td></tr><tr><td>F1 Score_mean</td><td>0.88133</td></tr><tr><td>F1 Score_std</td><td>0.00671</td></tr><tr><td>Precision_mean</td><td>0.8822</td></tr><tr><td>Precision_std</td><td>0.00664</td></tr><tr><td>ROC-AUC_mean</td><td>0.97452</td></tr><tr><td>ROC-AUC_std</td><td>0.00241</td></tr><tr><td>Recall_mean</td><td>0.88156</td></tr><tr><td>Recall_std</td><td>0.00698</td></tr></table><br/></div></div>"
      ],
      "text/plain": [
       "<IPython.core.display.HTML object>"
      ]
     },
     "metadata": {},
     "output_type": "display_data"
    },
    {
     "data": {
      "text/html": [
       " View run <strong style=\"color:#cdcd00\">NN_Audio Ablated 3</strong> at: <a href='https://wandb.ai/lequn/AudioVisual_ML_ablation_study_v2/runs/8l46j6mq' target=\"_blank\">https://wandb.ai/lequn/AudioVisual_ML_ablation_study_v2/runs/8l46j6mq</a><br/> View job at <a href='https://wandb.ai/lequn/AudioVisual_ML_ablation_study_v2/jobs/QXJ0aWZhY3RDb2xsZWN0aW9uOjExMTQ1OTc4Ng==/version_details/v12' target=\"_blank\">https://wandb.ai/lequn/AudioVisual_ML_ablation_study_v2/jobs/QXJ0aWZhY3RDb2xsZWN0aW9uOjExMTQ1OTc4Ng==/version_details/v12</a><br/>Synced 6 W&B file(s), 0 media file(s), 0 artifact file(s) and 0 other file(s)"
      ],
      "text/plain": [
       "<IPython.core.display.HTML object>"
      ]
     },
     "metadata": {},
     "output_type": "display_data"
    },
    {
     "data": {
      "text/html": [
       "Find logs at: <code>./wandb/run-20231031_175010-8l46j6mq/logs</code>"
      ],
      "text/plain": [
       "<IPython.core.display.HTML object>"
      ]
     },
     "metadata": {},
     "output_type": "display_data"
    },
    {
     "name": "stdout",
     "output_type": "stream",
     "text": [
      "\tTraining model: XGBoost\n"
     ]
    },
    {
     "data": {
      "application/vnd.jupyter.widget-view+json": {
       "model_id": "34747db1fa79484b8c750d0071bb77a4",
       "version_major": 2,
       "version_minor": 0
      },
      "text/plain": [
       "VBox(children=(Label(value='Waiting for wandb.init()...\\r'), FloatProgress(value=0.01111371896663008, max=1.0)…"
      ]
     },
     "metadata": {},
     "output_type": "display_data"
    },
    {
     "data": {
      "text/html": [
       "Tracking run with wandb version 0.15.12"
      ],
      "text/plain": [
       "<IPython.core.display.HTML object>"
      ]
     },
     "metadata": {},
     "output_type": "display_data"
    },
    {
     "data": {
      "text/html": [
       "Run data is saved locally in <code>/home/chenlequn/GitHub/LDED-FusionNet/code/wandb/run-20231031_175049-fwgh9lbe</code>"
      ],
      "text/plain": [
       "<IPython.core.display.HTML object>"
      ]
     },
     "metadata": {},
     "output_type": "display_data"
    },
    {
     "data": {
      "text/html": [
       "Syncing run <strong><a href='https://wandb.ai/lequn/AudioVisual_ML_ablation_study_v2/runs/fwgh9lbe' target=\"_blank\">XGBoost_Audio Ablated 3</a></strong> to <a href='https://wandb.ai/lequn/AudioVisual_ML_ablation_study_v2' target=\"_blank\">Weights & Biases</a> (<a href='https://wandb.me/run' target=\"_blank\">docs</a>)<br/>"
      ],
      "text/plain": [
       "<IPython.core.display.HTML object>"
      ]
     },
     "metadata": {},
     "output_type": "display_data"
    },
    {
     "data": {
      "text/html": [
       " View project at <a href='https://wandb.ai/lequn/AudioVisual_ML_ablation_study_v2' target=\"_blank\">https://wandb.ai/lequn/AudioVisual_ML_ablation_study_v2</a>"
      ],
      "text/plain": [
       "<IPython.core.display.HTML object>"
      ]
     },
     "metadata": {},
     "output_type": "display_data"
    },
    {
     "data": {
      "text/html": [
       " View run at <a href='https://wandb.ai/lequn/AudioVisual_ML_ablation_study_v2/runs/fwgh9lbe' target=\"_blank\">https://wandb.ai/lequn/AudioVisual_ML_ablation_study_v2/runs/fwgh9lbe</a>"
      ],
      "text/plain": [
       "<IPython.core.display.HTML object>"
      ]
     },
     "metadata": {},
     "output_type": "display_data"
    },
    {
     "name": "stdout",
     "output_type": "stream",
     "text": [
      "\t\tAccuracy: Mean = 0.8692557541506881, Std = 0.007819567418330023\n",
      "\t\tF1 Score: Mean = 0.867569803174739, Std = 0.00803816241824661\n",
      "\t\tPrecision: Mean = 0.8676751749197493, Std = 0.00853027810112499\n",
      "\t\tRecall: Mean = 0.8692557541506881, Std = 0.007819567418330023\n",
      "\t\tROC-AUC: Mean = 0.9703077882206397, Std = 0.0028074120455372042\n"
     ]
    },
    {
     "data": {
      "text/html": [
       "Waiting for W&B process to finish... <strong style=\"color:green\">(success).</strong>"
      ],
      "text/plain": [
       "<IPython.core.display.HTML object>"
      ]
     },
     "metadata": {},
     "output_type": "display_data"
    },
    {
     "data": {
      "application/vnd.jupyter.widget-view+json": {
       "model_id": "02ddebf9bc3f44e08f03bdb7e64deaf8",
       "version_major": 2,
       "version_minor": 0
      },
      "text/plain": [
       "VBox(children=(Label(value='0.002 MB of 0.002 MB uploaded (0.000 MB deduped)\\r'), FloatProgress(value=1.0, max…"
      ]
     },
     "metadata": {},
     "output_type": "display_data"
    },
    {
     "data": {
      "text/html": [
       "<style>\n",
       "    table.wandb td:nth-child(1) { padding: 0 10px; text-align: left ; width: auto;} td:nth-child(2) {text-align: left ; width: 100%}\n",
       "    .wandb-row { display: flex; flex-direction: row; flex-wrap: wrap; justify-content: flex-start; width: 100% }\n",
       "    .wandb-col { display: flex; flex-direction: column; flex-basis: 100%; flex: 1; padding: 10px; }\n",
       "    </style>\n",
       "<div class=\"wandb-row\"><div class=\"wandb-col\"><h3>Run history:</h3><br/><table class=\"wandb\"><tr><td>Accuracy_mean</td><td>▁</td></tr><tr><td>Accuracy_std</td><td>▁</td></tr><tr><td>F1 Score_mean</td><td>▁</td></tr><tr><td>F1 Score_std</td><td>▁</td></tr><tr><td>Precision_mean</td><td>▁</td></tr><tr><td>Precision_std</td><td>▁</td></tr><tr><td>ROC-AUC_mean</td><td>▁</td></tr><tr><td>ROC-AUC_std</td><td>▁</td></tr><tr><td>Recall_mean</td><td>▁</td></tr><tr><td>Recall_std</td><td>▁</td></tr></table><br/></div><div class=\"wandb-col\"><h3>Run summary:</h3><br/><table class=\"wandb\"><tr><td>Accuracy_mean</td><td>0.86926</td></tr><tr><td>Accuracy_std</td><td>0.00782</td></tr><tr><td>F1 Score_mean</td><td>0.86757</td></tr><tr><td>F1 Score_std</td><td>0.00804</td></tr><tr><td>Precision_mean</td><td>0.86768</td></tr><tr><td>Precision_std</td><td>0.00853</td></tr><tr><td>ROC-AUC_mean</td><td>0.97031</td></tr><tr><td>ROC-AUC_std</td><td>0.00281</td></tr><tr><td>Recall_mean</td><td>0.86926</td></tr><tr><td>Recall_std</td><td>0.00782</td></tr></table><br/></div></div>"
      ],
      "text/plain": [
       "<IPython.core.display.HTML object>"
      ]
     },
     "metadata": {},
     "output_type": "display_data"
    },
    {
     "data": {
      "text/html": [
       " View run <strong style=\"color:#cdcd00\">XGBoost_Audio Ablated 3</strong> at: <a href='https://wandb.ai/lequn/AudioVisual_ML_ablation_study_v2/runs/fwgh9lbe' target=\"_blank\">https://wandb.ai/lequn/AudioVisual_ML_ablation_study_v2/runs/fwgh9lbe</a><br/> View job at <a href='https://wandb.ai/lequn/AudioVisual_ML_ablation_study_v2/jobs/QXJ0aWZhY3RDb2xsZWN0aW9uOjExMTQ1OTc4Ng==/version_details/v12' target=\"_blank\">https://wandb.ai/lequn/AudioVisual_ML_ablation_study_v2/jobs/QXJ0aWZhY3RDb2xsZWN0aW9uOjExMTQ1OTc4Ng==/version_details/v12</a><br/>Synced 6 W&B file(s), 0 media file(s), 0 artifact file(s) and 0 other file(s)"
      ],
      "text/plain": [
       "<IPython.core.display.HTML object>"
      ]
     },
     "metadata": {},
     "output_type": "display_data"
    },
    {
     "data": {
      "text/html": [
       "Find logs at: <code>./wandb/run-20231031_175049-fwgh9lbe/logs</code>"
      ],
      "text/plain": [
       "<IPython.core.display.HTML object>"
      ]
     },
     "metadata": {},
     "output_type": "display_data"
    },
    {
     "name": "stdout",
     "output_type": "stream",
     "text": [
      "\tTraining model: LightGBM\n"
     ]
    },
    {
     "data": {
      "application/vnd.jupyter.widget-view+json": {
       "model_id": "e748ced311b147e9954ad639a9037454",
       "version_major": 2,
       "version_minor": 0
      },
      "text/plain": [
       "VBox(children=(Label(value='Waiting for wandb.init()...\\r'), FloatProgress(value=0.011113816333333186, max=1.0…"
      ]
     },
     "metadata": {},
     "output_type": "display_data"
    },
    {
     "data": {
      "text/html": [
       "Tracking run with wandb version 0.15.12"
      ],
      "text/plain": [
       "<IPython.core.display.HTML object>"
      ]
     },
     "metadata": {},
     "output_type": "display_data"
    },
    {
     "data": {
      "text/html": [
       "Run data is saved locally in <code>/home/chenlequn/GitHub/LDED-FusionNet/code/wandb/run-20231031_175236-1t7hklpq</code>"
      ],
      "text/plain": [
       "<IPython.core.display.HTML object>"
      ]
     },
     "metadata": {},
     "output_type": "display_data"
    },
    {
     "data": {
      "text/html": [
       "Syncing run <strong><a href='https://wandb.ai/lequn/AudioVisual_ML_ablation_study_v2/runs/1t7hklpq' target=\"_blank\">LightGBM_Audio Ablated 3</a></strong> to <a href='https://wandb.ai/lequn/AudioVisual_ML_ablation_study_v2' target=\"_blank\">Weights & Biases</a> (<a href='https://wandb.me/run' target=\"_blank\">docs</a>)<br/>"
      ],
      "text/plain": [
       "<IPython.core.display.HTML object>"
      ]
     },
     "metadata": {},
     "output_type": "display_data"
    },
    {
     "data": {
      "text/html": [
       " View project at <a href='https://wandb.ai/lequn/AudioVisual_ML_ablation_study_v2' target=\"_blank\">https://wandb.ai/lequn/AudioVisual_ML_ablation_study_v2</a>"
      ],
      "text/plain": [
       "<IPython.core.display.HTML object>"
      ]
     },
     "metadata": {},
     "output_type": "display_data"
    },
    {
     "data": {
      "text/html": [
       " View run at <a href='https://wandb.ai/lequn/AudioVisual_ML_ablation_study_v2/runs/1t7hklpq' target=\"_blank\">https://wandb.ai/lequn/AudioVisual_ML_ablation_study_v2/runs/1t7hklpq</a>"
      ],
      "text/plain": [
       "<IPython.core.display.HTML object>"
      ]
     },
     "metadata": {},
     "output_type": "display_data"
    },
    {
     "name": "stdout",
     "output_type": "stream",
     "text": [
      "\t\tAccuracy: Mean = 0.8741793934500983, Std = 0.006299070072354147\n",
      "\t\tF1 Score: Mean = 0.8727296126834052, Std = 0.0066231937603855396\n",
      "\t\tPrecision: Mean = 0.8728600996948757, Std = 0.006842252773787881\n",
      "\t\tRecall: Mean = 0.8741793934500983, Std = 0.006299070072354147\n",
      "\t\tROC-AUC: Mean = 0.9731900865759883, Std = 0.0020342322603311654\n"
     ]
    },
    {
     "data": {
      "text/html": [
       "Waiting for W&B process to finish... <strong style=\"color:green\">(success).</strong>"
      ],
      "text/plain": [
       "<IPython.core.display.HTML object>"
      ]
     },
     "metadata": {},
     "output_type": "display_data"
    },
    {
     "data": {
      "text/html": [
       "<style>\n",
       "    table.wandb td:nth-child(1) { padding: 0 10px; text-align: left ; width: auto;} td:nth-child(2) {text-align: left ; width: 100%}\n",
       "    .wandb-row { display: flex; flex-direction: row; flex-wrap: wrap; justify-content: flex-start; width: 100% }\n",
       "    .wandb-col { display: flex; flex-direction: column; flex-basis: 100%; flex: 1; padding: 10px; }\n",
       "    </style>\n",
       "<div class=\"wandb-row\"><div class=\"wandb-col\"><h3>Run history:</h3><br/><table class=\"wandb\"><tr><td>Accuracy_mean</td><td>▁</td></tr><tr><td>Accuracy_std</td><td>▁</td></tr><tr><td>F1 Score_mean</td><td>▁</td></tr><tr><td>F1 Score_std</td><td>▁</td></tr><tr><td>Precision_mean</td><td>▁</td></tr><tr><td>Precision_std</td><td>▁</td></tr><tr><td>ROC-AUC_mean</td><td>▁</td></tr><tr><td>ROC-AUC_std</td><td>▁</td></tr><tr><td>Recall_mean</td><td>▁</td></tr><tr><td>Recall_std</td><td>▁</td></tr></table><br/></div><div class=\"wandb-col\"><h3>Run summary:</h3><br/><table class=\"wandb\"><tr><td>Accuracy_mean</td><td>0.87418</td></tr><tr><td>Accuracy_std</td><td>0.0063</td></tr><tr><td>F1 Score_mean</td><td>0.87273</td></tr><tr><td>F1 Score_std</td><td>0.00662</td></tr><tr><td>Precision_mean</td><td>0.87286</td></tr><tr><td>Precision_std</td><td>0.00684</td></tr><tr><td>ROC-AUC_mean</td><td>0.97319</td></tr><tr><td>ROC-AUC_std</td><td>0.00203</td></tr><tr><td>Recall_mean</td><td>0.87418</td></tr><tr><td>Recall_std</td><td>0.0063</td></tr></table><br/></div></div>"
      ],
      "text/plain": [
       "<IPython.core.display.HTML object>"
      ]
     },
     "metadata": {},
     "output_type": "display_data"
    },
    {
     "data": {
      "text/html": [
       " View run <strong style=\"color:#cdcd00\">LightGBM_Audio Ablated 3</strong> at: <a href='https://wandb.ai/lequn/AudioVisual_ML_ablation_study_v2/runs/1t7hklpq' target=\"_blank\">https://wandb.ai/lequn/AudioVisual_ML_ablation_study_v2/runs/1t7hklpq</a><br/> View job at <a href='https://wandb.ai/lequn/AudioVisual_ML_ablation_study_v2/jobs/QXJ0aWZhY3RDb2xsZWN0aW9uOjExMTQ1OTc4Ng==/version_details/v12' target=\"_blank\">https://wandb.ai/lequn/AudioVisual_ML_ablation_study_v2/jobs/QXJ0aWZhY3RDb2xsZWN0aW9uOjExMTQ1OTc4Ng==/version_details/v12</a><br/>Synced 6 W&B file(s), 0 media file(s), 0 artifact file(s) and 0 other file(s)"
      ],
      "text/plain": [
       "<IPython.core.display.HTML object>"
      ]
     },
     "metadata": {},
     "output_type": "display_data"
    },
    {
     "data": {
      "text/html": [
       "Find logs at: <code>./wandb/run-20231031_175236-1t7hklpq/logs</code>"
      ],
      "text/plain": [
       "<IPython.core.display.HTML object>"
      ]
     },
     "metadata": {},
     "output_type": "display_data"
    },
    {
     "name": "stdout",
     "output_type": "stream",
     "text": [
      "\tTraining model: SVM\n"
     ]
    },
    {
     "data": {
      "application/vnd.jupyter.widget-view+json": {
       "model_id": "3cfcbe2d1e574ae6bb549905b95d2378",
       "version_major": 2,
       "version_minor": 0
      },
      "text/plain": [
       "VBox(children=(Label(value='Waiting for wandb.init()...\\r'), FloatProgress(value=0.011114066533304543, max=1.0…"
      ]
     },
     "metadata": {},
     "output_type": "display_data"
    },
    {
     "data": {
      "text/html": [
       "Tracking run with wandb version 0.15.12"
      ],
      "text/plain": [
       "<IPython.core.display.HTML object>"
      ]
     },
     "metadata": {},
     "output_type": "display_data"
    },
    {
     "data": {
      "text/html": [
       "Run data is saved locally in <code>/home/chenlequn/GitHub/LDED-FusionNet/code/wandb/run-20231031_175302-04vnqt7g</code>"
      ],
      "text/plain": [
       "<IPython.core.display.HTML object>"
      ]
     },
     "metadata": {},
     "output_type": "display_data"
    },
    {
     "data": {
      "text/html": [
       "Syncing run <strong><a href='https://wandb.ai/lequn/AudioVisual_ML_ablation_study_v2/runs/04vnqt7g' target=\"_blank\">SVM_Audio Ablated 3</a></strong> to <a href='https://wandb.ai/lequn/AudioVisual_ML_ablation_study_v2' target=\"_blank\">Weights & Biases</a> (<a href='https://wandb.me/run' target=\"_blank\">docs</a>)<br/>"
      ],
      "text/plain": [
       "<IPython.core.display.HTML object>"
      ]
     },
     "metadata": {},
     "output_type": "display_data"
    },
    {
     "data": {
      "text/html": [
       " View project at <a href='https://wandb.ai/lequn/AudioVisual_ML_ablation_study_v2' target=\"_blank\">https://wandb.ai/lequn/AudioVisual_ML_ablation_study_v2</a>"
      ],
      "text/plain": [
       "<IPython.core.display.HTML object>"
      ]
     },
     "metadata": {},
     "output_type": "display_data"
    },
    {
     "data": {
      "text/html": [
       " View run at <a href='https://wandb.ai/lequn/AudioVisual_ML_ablation_study_v2/runs/04vnqt7g' target=\"_blank\">https://wandb.ai/lequn/AudioVisual_ML_ablation_study_v2/runs/04vnqt7g</a>"
      ],
      "text/plain": [
       "<IPython.core.display.HTML object>"
      ]
     },
     "metadata": {},
     "output_type": "display_data"
    },
    {
     "name": "stdout",
     "output_type": "stream",
     "text": [
      "\t\tAccuracy: Mean = 0.8241263184648622, Std = 0.01350957594847517\n",
      "\t\tF1 Score: Mean = 0.8230322891875353, Std = 0.012674386140880746\n",
      "\t\tPrecision: Mean = 0.8238751876506161, Std = 0.012405677721428254\n",
      "\t\tRecall: Mean = 0.8241263184648622, Std = 0.01350957594847517\n",
      "\t\tROC-AUC: Mean = 0.9533894175618578, Std = 0.004331299945150601\n"
     ]
    },
    {
     "data": {
      "text/html": [
       "Waiting for W&B process to finish... <strong style=\"color:green\">(success).</strong>"
      ],
      "text/plain": [
       "<IPython.core.display.HTML object>"
      ]
     },
     "metadata": {},
     "output_type": "display_data"
    },
    {
     "data": {
      "text/html": [
       "<style>\n",
       "    table.wandb td:nth-child(1) { padding: 0 10px; text-align: left ; width: auto;} td:nth-child(2) {text-align: left ; width: 100%}\n",
       "    .wandb-row { display: flex; flex-direction: row; flex-wrap: wrap; justify-content: flex-start; width: 100% }\n",
       "    .wandb-col { display: flex; flex-direction: column; flex-basis: 100%; flex: 1; padding: 10px; }\n",
       "    </style>\n",
       "<div class=\"wandb-row\"><div class=\"wandb-col\"><h3>Run history:</h3><br/><table class=\"wandb\"><tr><td>Accuracy_mean</td><td>▁</td></tr><tr><td>Accuracy_std</td><td>▁</td></tr><tr><td>F1 Score_mean</td><td>▁</td></tr><tr><td>F1 Score_std</td><td>▁</td></tr><tr><td>Precision_mean</td><td>▁</td></tr><tr><td>Precision_std</td><td>▁</td></tr><tr><td>ROC-AUC_mean</td><td>▁</td></tr><tr><td>ROC-AUC_std</td><td>▁</td></tr><tr><td>Recall_mean</td><td>▁</td></tr><tr><td>Recall_std</td><td>▁</td></tr></table><br/></div><div class=\"wandb-col\"><h3>Run summary:</h3><br/><table class=\"wandb\"><tr><td>Accuracy_mean</td><td>0.82413</td></tr><tr><td>Accuracy_std</td><td>0.01351</td></tr><tr><td>F1 Score_mean</td><td>0.82303</td></tr><tr><td>F1 Score_std</td><td>0.01267</td></tr><tr><td>Precision_mean</td><td>0.82388</td></tr><tr><td>Precision_std</td><td>0.01241</td></tr><tr><td>ROC-AUC_mean</td><td>0.95339</td></tr><tr><td>ROC-AUC_std</td><td>0.00433</td></tr><tr><td>Recall_mean</td><td>0.82413</td></tr><tr><td>Recall_std</td><td>0.01351</td></tr></table><br/></div></div>"
      ],
      "text/plain": [
       "<IPython.core.display.HTML object>"
      ]
     },
     "metadata": {},
     "output_type": "display_data"
    },
    {
     "data": {
      "text/html": [
       " View run <strong style=\"color:#cdcd00\">SVM_Audio Ablated 3</strong> at: <a href='https://wandb.ai/lequn/AudioVisual_ML_ablation_study_v2/runs/04vnqt7g' target=\"_blank\">https://wandb.ai/lequn/AudioVisual_ML_ablation_study_v2/runs/04vnqt7g</a><br/> View job at <a href='https://wandb.ai/lequn/AudioVisual_ML_ablation_study_v2/jobs/QXJ0aWZhY3RDb2xsZWN0aW9uOjExMTQ1OTc4Ng==/version_details/v12' target=\"_blank\">https://wandb.ai/lequn/AudioVisual_ML_ablation_study_v2/jobs/QXJ0aWZhY3RDb2xsZWN0aW9uOjExMTQ1OTc4Ng==/version_details/v12</a><br/>Synced 6 W&B file(s), 0 media file(s), 0 artifact file(s) and 0 other file(s)"
      ],
      "text/plain": [
       "<IPython.core.display.HTML object>"
      ]
     },
     "metadata": {},
     "output_type": "display_data"
    },
    {
     "data": {
      "text/html": [
       "Find logs at: <code>./wandb/run-20231031_175302-04vnqt7g/logs</code>"
      ],
      "text/plain": [
       "<IPython.core.display.HTML object>"
      ]
     },
     "metadata": {},
     "output_type": "display_data"
    },
    {
     "name": "stdout",
     "output_type": "stream",
     "text": [
      "\tTraining model: HistGB\n"
     ]
    },
    {
     "data": {
      "application/vnd.jupyter.widget-view+json": {
       "model_id": "d58d82f688c24bd8a90a34eb5281d8a8",
       "version_major": 2,
       "version_minor": 0
      },
      "text/plain": [
       "VBox(children=(Label(value='Waiting for wandb.init()...\\r'), FloatProgress(value=0.01111378537785236, max=1.0)…"
      ]
     },
     "metadata": {},
     "output_type": "display_data"
    },
    {
     "data": {
      "text/html": [
       "Tracking run with wandb version 0.15.12"
      ],
      "text/plain": [
       "<IPython.core.display.HTML object>"
      ]
     },
     "metadata": {},
     "output_type": "display_data"
    },
    {
     "data": {
      "text/html": [
       "Run data is saved locally in <code>/home/chenlequn/GitHub/LDED-FusionNet/code/wandb/run-20231031_175330-3fogswst</code>"
      ],
      "text/plain": [
       "<IPython.core.display.HTML object>"
      ]
     },
     "metadata": {},
     "output_type": "display_data"
    },
    {
     "data": {
      "text/html": [
       "Syncing run <strong><a href='https://wandb.ai/lequn/AudioVisual_ML_ablation_study_v2/runs/3fogswst' target=\"_blank\">HistGB_Audio Ablated 3</a></strong> to <a href='https://wandb.ai/lequn/AudioVisual_ML_ablation_study_v2' target=\"_blank\">Weights & Biases</a> (<a href='https://wandb.me/run' target=\"_blank\">docs</a>)<br/>"
      ],
      "text/plain": [
       "<IPython.core.display.HTML object>"
      ]
     },
     "metadata": {},
     "output_type": "display_data"
    },
    {
     "data": {
      "text/html": [
       " View project at <a href='https://wandb.ai/lequn/AudioVisual_ML_ablation_study_v2' target=\"_blank\">https://wandb.ai/lequn/AudioVisual_ML_ablation_study_v2</a>"
      ],
      "text/plain": [
       "<IPython.core.display.HTML object>"
      ]
     },
     "metadata": {},
     "output_type": "display_data"
    },
    {
     "data": {
      "text/html": [
       " View run at <a href='https://wandb.ai/lequn/AudioVisual_ML_ablation_study_v2/runs/3fogswst' target=\"_blank\">https://wandb.ai/lequn/AudioVisual_ML_ablation_study_v2/runs/3fogswst</a>"
      ],
      "text/plain": [
       "<IPython.core.display.HTML object>"
      ]
     },
     "metadata": {},
     "output_type": "display_data"
    },
    {
     "name": "stdout",
     "output_type": "stream",
     "text": [
      "\t\tAccuracy: Mean = 0.8566739925096993, Std = 0.0013346250957121206\n",
      "\t\tF1 Score: Mean = 0.8549749133609961, Std = 0.0011024285652891806\n",
      "\t\tPrecision: Mean = 0.8553602405221788, Std = 0.001259932217401932\n",
      "\t\tRecall: Mean = 0.8566739925096993, Std = 0.0013346250957121206\n",
      "\t\tROC-AUC: Mean = 0.9663945026661954, Std = 0.003242367880614035\n"
     ]
    },
    {
     "data": {
      "text/html": [
       "Waiting for W&B process to finish... <strong style=\"color:green\">(success).</strong>"
      ],
      "text/plain": [
       "<IPython.core.display.HTML object>"
      ]
     },
     "metadata": {},
     "output_type": "display_data"
    },
    {
     "data": {
      "text/html": [
       "<style>\n",
       "    table.wandb td:nth-child(1) { padding: 0 10px; text-align: left ; width: auto;} td:nth-child(2) {text-align: left ; width: 100%}\n",
       "    .wandb-row { display: flex; flex-direction: row; flex-wrap: wrap; justify-content: flex-start; width: 100% }\n",
       "    .wandb-col { display: flex; flex-direction: column; flex-basis: 100%; flex: 1; padding: 10px; }\n",
       "    </style>\n",
       "<div class=\"wandb-row\"><div class=\"wandb-col\"><h3>Run history:</h3><br/><table class=\"wandb\"><tr><td>Accuracy_mean</td><td>▁</td></tr><tr><td>Accuracy_std</td><td>▁</td></tr><tr><td>F1 Score_mean</td><td>▁</td></tr><tr><td>F1 Score_std</td><td>▁</td></tr><tr><td>Precision_mean</td><td>▁</td></tr><tr><td>Precision_std</td><td>▁</td></tr><tr><td>ROC-AUC_mean</td><td>▁</td></tr><tr><td>ROC-AUC_std</td><td>▁</td></tr><tr><td>Recall_mean</td><td>▁</td></tr><tr><td>Recall_std</td><td>▁</td></tr></table><br/></div><div class=\"wandb-col\"><h3>Run summary:</h3><br/><table class=\"wandb\"><tr><td>Accuracy_mean</td><td>0.85667</td></tr><tr><td>Accuracy_std</td><td>0.00133</td></tr><tr><td>F1 Score_mean</td><td>0.85497</td></tr><tr><td>F1 Score_std</td><td>0.0011</td></tr><tr><td>Precision_mean</td><td>0.85536</td></tr><tr><td>Precision_std</td><td>0.00126</td></tr><tr><td>ROC-AUC_mean</td><td>0.96639</td></tr><tr><td>ROC-AUC_std</td><td>0.00324</td></tr><tr><td>Recall_mean</td><td>0.85667</td></tr><tr><td>Recall_std</td><td>0.00133</td></tr></table><br/></div></div>"
      ],
      "text/plain": [
       "<IPython.core.display.HTML object>"
      ]
     },
     "metadata": {},
     "output_type": "display_data"
    },
    {
     "data": {
      "text/html": [
       " View run <strong style=\"color:#cdcd00\">HistGB_Audio Ablated 3</strong> at: <a href='https://wandb.ai/lequn/AudioVisual_ML_ablation_study_v2/runs/3fogswst' target=\"_blank\">https://wandb.ai/lequn/AudioVisual_ML_ablation_study_v2/runs/3fogswst</a><br/> View job at <a href='https://wandb.ai/lequn/AudioVisual_ML_ablation_study_v2/jobs/QXJ0aWZhY3RDb2xsZWN0aW9uOjExMTQ1OTc4Ng==/version_details/v12' target=\"_blank\">https://wandb.ai/lequn/AudioVisual_ML_ablation_study_v2/jobs/QXJ0aWZhY3RDb2xsZWN0aW9uOjExMTQ1OTc4Ng==/version_details/v12</a><br/>Synced 6 W&B file(s), 0 media file(s), 0 artifact file(s) and 0 other file(s)"
      ],
      "text/plain": [
       "<IPython.core.display.HTML object>"
      ]
     },
     "metadata": {},
     "output_type": "display_data"
    },
    {
     "data": {
      "text/html": [
       "Find logs at: <code>./wandb/run-20231031_175330-3fogswst/logs</code>"
      ],
      "text/plain": [
       "<IPython.core.display.HTML object>"
      ]
     },
     "metadata": {},
     "output_type": "display_data"
    }
   ],
   "source": [
    "# Initialize KFold with the number of splits you desire\n",
    "kf = KFold(n_splits=5)\n",
    "# Create a dictionary to store final results\n",
    "final_results = defaultdict(list)\n",
    "# Create a dictionary to store temporary cross-validation results for each dataset and model\n",
    "cv_results = defaultdict(lambda: defaultdict(list))\n",
    "\n",
    "\n",
    "# Iterate over datasets and models\n",
    "for dataset_name, X in datasets.items():\n",
    "    print(f\"Processing dataset: {dataset_name}\")\n",
    "    # Split data\n",
    "    X_train = X[train_indices]\n",
    "    X_val = X[val_indices]\n",
    "    X_test = X[test_indices]\n",
    "  \n",
    "    y_train = Y_encoded[train_indices]\n",
    "    y_val = Y_encoded[val_indices]\n",
    "    y_test = Y_encoded[test_indices]\n",
    "\n",
    "    # Scaling\n",
    "    scaler = StandardScaler()\n",
    "    X_train = scaler.fit_transform(X_train)\n",
    "    X_val = scaler.transform(X_val)\n",
    "    X_test = scaler.transform(X_test)\n",
    "    \n",
    "    with open(os.path.join(scaler_path, f'StandardScaler_{dataset_name}.pkl'), 'wb') as file:\n",
    "        pickle.dump(scaler, file)\n",
    "\n",
    "    for model_name, Model in models.items():\n",
    "        print(f\"\\tTraining model: {model_name}\")\n",
    "        with wandb.init(project=\"AudioVisual_ML_ablation_study_v2\", name=f\"{model_name}_{dataset_name}\", reinit=True) as run:\n",
    "            # Log model and hyperparameters\n",
    "            wandb.config.update({\"Model\": model_name, \"Hyperparameters\": hyperparameters[model_name]})\n",
    "    \n",
    "            # Initialize model with the best hyperparameters\n",
    "            model = Model(**hyperparameters[model_name])\n",
    "    \n",
    "            # If the model is SVM, use only 20% of the training data\n",
    "            if model_name == 'SVM':\n",
    "                sample_indices = np.random.choice(len(X_train), int(0.2 * len(X_train)), replace=False)\n",
    "                X_train_sampled = X_train[sample_indices]\n",
    "                y_train_sampled = y_train[sample_indices]\n",
    "                model.fit(X_train_sampled, y_train_sampled)\n",
    "            else:\n",
    "                # Train the model\n",
    "                model.fit(X_train, y_train)\n",
    "\n",
    "            # Save the model\n",
    "            dump(model, os.path.join(model_path, f'{model_name}_{dataset_name}.joblib'))\n",
    "\n",
    "\n",
    "            #####------   cross-validation on the testing dataset--------------\n",
    "            fold_metrics = defaultdict(list)\n",
    "    \n",
    "            for train_idx, test_idx in kf.split(X_test):\n",
    "                X_test_train, X_test_val = X_test[train_idx], X_test[test_idx]\n",
    "                y_test_train, y_test_val = y_test[train_idx], y_test[test_idx]\n",
    "                \n",
    "                # Make predictions\n",
    "                y_test_pred = model.predict(X_test_val)\n",
    "                \n",
    "                # Evaluate the model\n",
    "                acc = accuracy_score(y_test_val, y_test_pred)\n",
    "                f1 = f1_score(y_test_val, y_test_pred, average='weighted')\n",
    "                precision = precision_score(y_test_val, y_test_pred, average='weighted')\n",
    "                recall = recall_score(y_test_val, y_test_pred, average='weighted')\n",
    "                \n",
    "                # Optional: ROC-AUC can only be calculated for binary classification or multilabel indicator format\n",
    "                try:\n",
    "                    roc_auc = roc_auc_score(y_test_val, model.predict_proba(X_test_val), multi_class='ovr', average='weighted')\n",
    "                    \n",
    "                except:\n",
    "                    roc_auc = 'N/A'\n",
    "                \n",
    "                # Store the metrics for this fold\n",
    "                fold_metrics['Accuracy'].append(acc)\n",
    "                fold_metrics['F1 Score'].append(f1)\n",
    "                fold_metrics['Precision'].append(precision)\n",
    "                fold_metrics['Recall'].append(recall)\n",
    "                fold_metrics['ROC-AUC'].append(roc_auc if roc_auc != 'N/A' else np.nan)\n",
    "            \n",
    "            # Calculate mean and std for each metric and print them\n",
    "            for metric, values in fold_metrics.items():\n",
    "                mean_val = np.nanmean(values)  # Handle 'N/A' values\n",
    "                std_val = np.nanstd(values)    # Handle 'N/A' values\n",
    "                \n",
    "                print(f\"\\t\\t{metric}: Mean = {mean_val}, Std = {std_val}\")\n",
    "                # Log the mean and std values to wandb\n",
    "                wandb.log({f\"{metric}_mean\": mean_val, f\"{metric}_std\": std_val})\n",
    "                \n",
    "                cv_results[dataset_name][f\"{model_name}_{metric}_mean\"] = mean_val\n",
    "                cv_results[dataset_name][f\"{model_name}_{metric}_std\"] = std_val\n",
    "             \n",
    "            #####------   cross-validation on the testing dataset--------------\n",
    "            \n",
    "# Convert the temporary results to final format\n",
    "for dataset_name, metrics in cv_results.items():\n",
    "    final_results['Dataset'].append(dataset_name)\n",
    "    for metric_name, value in metrics.items():\n",
    "        final_results[metric_name].append(value)\n",
    "\n",
    "# Convert results to a DataFrame for easier viewing\n",
    "final_results_df = pd.DataFrame(final_results)"
   ]
  },
  {
   "cell_type": "code",
   "execution_count": null,
   "id": "d28920fb-c81d-4da5-ad69-47e1cc0e0cde",
   "metadata": {
    "scrolled": true
   },
   "outputs": [],
   "source": [
    "%store datasets\n",
    "%store le\n",
    "%store Y_encoded"
   ]
  }
 ],
 "metadata": {
  "kernelspec": {
   "display_name": "Python 3 (ipykernel)",
   "language": "python",
   "name": "python3"
  },
  "language_info": {
   "codemirror_mode": {
    "name": "ipython",
    "version": 3
   },
   "file_extension": ".py",
   "mimetype": "text/x-python",
   "name": "python",
   "nbconvert_exporter": "python",
   "pygments_lexer": "ipython3",
   "version": "3.9.16"
  }
 },
 "nbformat": 4,
 "nbformat_minor": 5
}
