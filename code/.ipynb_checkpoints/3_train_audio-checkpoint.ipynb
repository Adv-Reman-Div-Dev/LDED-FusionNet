{
 "cells": [
  {
   "cell_type": "markdown",
   "id": "4603377d-50dd-4993-8e80-5c954a37054b",
   "metadata": {
    "tags": []
   },
   "source": [
    "# L-DED Audiovisual Fusion \n",
    "\n",
    "Author: Chen Lequn.\n",
    "Created on 01 Feb 2023.\n",
    "\n",
    "- Material： Maraging Steel 300\n",
    "- Process: Robotic Llser-directed energy deposition\n",
    "- Experiment number (single bead wall samples): 21-26\n",
    "- Recorded data: position, veolocity, coaxial melt pool images, acoustic data\n",
    "- Defect generated: keyhole pores, cracks, defect-free\n",
    "\n",
    "### Notebook 3: benchmarking on audio dataset\n",
    "\n",
    "- Performances for various deep learning models (VGG, GoogleNet, ResNet, LeNet, etc.) are evaluated and benchmarked on the coaxial melt pool image dataset.\n",
    "- Best performance will guide subsequent multimodal fusion network development."
   ]
  },
  {
   "cell_type": "code",
   "execution_count": 1,
   "id": "dfa9424f-148c-4dc8-a449-478f25f3a804",
   "metadata": {},
   "outputs": [],
   "source": [
    "import torch\n",
    "import torch.nn as nn\n",
    "import torch.optim as optim\n",
    "import torch.nn.functional as F\n",
    "import torch.backends.cudnn as cudnn\n",
    "import torch.multiprocessing as mp\n",
    "\n",
    "import torchvision\n",
    "import torchaudio\n",
    "import torch.nn as nn\n",
    "import torchvision.transforms as transforms\n",
    "from torch.utils.data import Dataset, DataLoader, random_split, SubsetRandomSampler, WeightedRandomSampler\n",
    "\n",
    "# audio signal augmentation packages\n",
    "import audiomentations\n",
    "import torch_audiomentations\n",
    "from audiomentations import Compose, AddGaussianNoise, HighPassFilter, BandPassFilter, LoudnessNormalization\n",
    "from audiomentations import Normalize, Gain\n",
    "\n",
    "from torch_audiomentations import PolarityInversion\n",
    "\n",
    "import os\n",
    "import argparse\n",
    "from torch.utils.data import Subset\n",
    "import pandas as pd\n",
    "import numpy as np\n",
    "\n",
    "# Scikit learn\n",
    "#from sklearn.model_selection import train_test_split\n",
    "from sklearn.metrics import classification_report, accuracy_score, confusion_matrix\n",
    "from sklearn.preprocessing import LabelEncoder\n",
    "from sklearn.utils import shuffle, resample, class_weight\n",
    "from sklearn.model_selection import GridSearchCV, RandomizedSearchCV\n",
    "from sklearn.model_selection import StratifiedKFold, KFold\n",
    "from sklearn.metrics import roc_curve, auc\n",
    "from sklearn.model_selection import train_test_split, StratifiedShuffleSplit\n",
    "from sklearn.preprocessing import label_binarize\n",
    "\n",
    "from audio_models import * \n",
    "from multimodaldataset import MultimodalDataset, LDEDAudioDataset, LDEDVisionDataset\n",
    "from utils import *\n",
    "from train_utils import train_single_epoch, test_single_epoch, training_loop\n",
    "\n",
    "## plot\n",
    "import matplotlib.pyplot as plt\n",
    "import seaborn as sns\n",
    "import matplotlib as mpl\n",
    "from matplotlib.pyplot import gca\n",
    "mpl.rc('axes', labelsize=14)\n",
    "mpl.rc('xtick', labelsize=12)\n",
    "mpl.rc('ytick', labelsize=12)\n",
    "# plt.rcParams[\"font.family\"] = \"serif\"\n",
    "# plt.rcParams[\"font.serif\"] = \"Times New Roman\"\n",
    "%matplotlib inline\n",
    "import seaborn as sns\n",
    "from itertools import cycle\n",
    "import itertools\n",
    "\n",
    "\n",
    "# Multimodal_dataset_PATH = os.path.join(\"C:\\\\Users\\\\Asus\\\\OneDrive_Chen1470\\\\OneDrive - Nanyang Technological University\\\\Dataset\\\\Multimodal_AM_monitoring\\\\LDED_Acoustic_Visual_Dataset\")\n",
    "# Multimodal_dataset_PATH = os.path.join(\"/home/chenlequn/Dataset/LDED_acoustic_visual_monitoring_dataset\")\n",
    "# Image_path = os.path.join(Multimodal_dataset_PATH,'Video', 'segmented',  'images')\n",
    "# Audio_raw_seg_PATH = os.path.join(Multimodal_dataset_PATH, 'Video', 'segmented', 'raw_audio')\n",
    "# Audio_equalized_seg_PATH = os.path.join(Multimodal_dataset_PATH, 'Video', 'segmented', 'equalized_audio')\n",
    "# Audio_bandpassed_seg_PATH = os.path.join(Multimodal_dataset_PATH, 'Video', 'segmented', 'bandpassed_audio')\n",
    "# Audio_denoised_seg_PATH = os.path.join(Multimodal_dataset_PATH,'Video', 'segmented',  'denoised_audio')\n",
    "\n",
    "# AUDIO_DIR = Audio_denoised_seg_PATH\n",
    "# VISON_DIR = Image_path\n",
    "\n",
    "# torch.manual_seed(0)\n",
    "\n",
    "# ANNOTATIONS_FILE = os.path.join(Multimodal_dataset_PATH, 'Video', 'segmented', \"visual_acoustic_dataset_annotations_v2.csv\")"
   ]
  },
  {
   "cell_type": "code",
   "execution_count": 2,
   "id": "3badb528-47dc-47b1-b5bb-046e870f39b4",
   "metadata": {},
   "outputs": [],
   "source": [
    "def get_sample_directories(base_path, sample_numbers):\n",
    "    sample_directories = []\n",
    "    for sample_number in sample_numbers:\n",
    "        sample_directories.append(os.path.join(base_path, f'segmented_25Hz/{sample_number}'))\n",
    "    return sample_directories\n",
    "\n",
    "Multimodal_dataset_PATH = \"/home/chenlequn/Dataset/LDED_acoustic_visual_monitoring_dataset\"\n",
    "samples = [21, 22, 23, 26]\n",
    "sample_directories = get_sample_directories(Multimodal_dataset_PATH, samples)\n",
    "\n",
    "# Get lists of image and audio directories for each sample\n",
    "image_directories = [os.path.join(sample_dir, 'images') for sample_dir in sample_directories]\n",
    "audio_directories = [os.path.join(sample_dir, 'raw_audio') for sample_dir in sample_directories]"
   ]
  },
  {
   "cell_type": "code",
   "execution_count": 3,
   "id": "3d072795-293c-4c22-aa88-c4ee8b371090",
   "metadata": {},
   "outputs": [],
   "source": [
    "classes = ('Laser-off', 'Defect-free', 'Defective')\n",
    "# classes = ('Laser-off', 'Defect-free', 'Cracks', \"Keyhole pores\")\n",
    "SAMPLE_RATE = 44100\n",
    "LEARNING_RATE = 0.00001\n",
    "BATCH_SIZE = 32\n",
    "EPOCHS = 15"
   ]
  },
  {
   "cell_type": "markdown",
   "id": "a7d98e0d-0199-4454-997d-3db30a5d7ce0",
   "metadata": {},
   "source": [
    "### Utils functions"
   ]
  },
  {
   "cell_type": "code",
   "execution_count": 4,
   "id": "8c4de261-20fc-4031-8f8c-7fcd65eee277",
   "metadata": {},
   "outputs": [],
   "source": [
    "PROJECT_ROOT_DIR = \"../\"\n",
    "IMAGE_PATH = os.path.join(PROJECT_ROOT_DIR, \"result_images\", 'train_audio')\n",
    "os.makedirs(IMAGE_PATH, exist_ok=True)\n",
    "\n",
    "## function for automatically save the diagram/graph into the folder \n",
    "def save_fig(fig_id, tight_layout=True, fig_extension=\"png\", resolution=300):\n",
    "    path = os.path.join(IMAGE_PATH, fig_id + \".\" + fig_extension)\n",
    "    print(\"Saving figure\", fig_id)\n",
    "    if tight_layout:\n",
    "        plt.tight_layout()\n",
    "    plt.savefig(path, format=fig_extension, dpi=resolution)\n",
    "\n",
    "# Ignore useless warnings (see SciPy issue #5998)\n",
    "import warnings\n",
    "warnings.filterwarnings(action=\"ignore\", message=\"^internal gelsd\")\n",
    "\n",
    "plt.rcParams[\"axes.edgecolor\"] = \"black\"\n",
    "plt.rcParams[\"axes.linewidth\"] = 2.50"
   ]
  },
  {
   "cell_type": "markdown",
   "id": "bdb40432-dab8-410b-9b6f-29db62f6d36f",
   "metadata": {},
   "source": [
    "### Use GPU if possible"
   ]
  },
  {
   "cell_type": "code",
   "execution_count": 5,
   "id": "5bc4cba0-eca1-4d20-96c9-8d2ffae56e26",
   "metadata": {},
   "outputs": [
    {
     "name": "stdout",
     "output_type": "stream",
     "text": [
      "Using cuda\n"
     ]
    }
   ],
   "source": [
    "device = 'cuda' if torch.cuda.is_available() else 'cpu'\n",
    "print(f\"Using {device}\")\n",
    "mp.set_start_method(method='forkserver', force=True)"
   ]
  },
  {
   "cell_type": "markdown",
   "id": "d7411379-7ecf-4afd-9a99-31a7e2cbd7ae",
   "metadata": {},
   "source": [
    "### Annotation file\n",
    "\n",
    "- Vision acoustic spatio-temporal registration has been done in our previous work. \n",
    "- Each frame (timestamp) corresponds to a robot TCP position.\n",
    "- The duration for each frame is 0.01 seconds (sampling freqeuncy 10 Hz.)"
   ]
  },
  {
   "cell_type": "code",
   "execution_count": 6,
   "id": "6802a997-ca33-436e-8925-d039eada53e3",
   "metadata": {},
   "outputs": [
    {
     "data": {
      "text/html": [
       "<div>\n",
       "<style scoped>\n",
       "    .dataframe tbody tr th:only-of-type {\n",
       "        vertical-align: middle;\n",
       "    }\n",
       "\n",
       "    .dataframe tbody tr th {\n",
       "        vertical-align: top;\n",
       "    }\n",
       "\n",
       "    .dataframe thead th {\n",
       "        text-align: right;\n",
       "    }\n",
       "</style>\n",
       "<table border=\"1\" class=\"dataframe\">\n",
       "  <thead>\n",
       "    <tr style=\"text-align: right;\">\n",
       "      <th></th>\n",
       "      <th>sample index</th>\n",
       "      <th>audio_file_name</th>\n",
       "      <th>image_file_name</th>\n",
       "      <th>name</th>\n",
       "      <th>class_ID</th>\n",
       "      <th>class_name_v2</th>\n",
       "      <th>class_ID_2</th>\n",
       "      <th>Layer number</th>\n",
       "      <th>Sample number</th>\n",
       "      <th>X</th>\n",
       "      <th>Y</th>\n",
       "      <th>Z</th>\n",
       "      <th>class_ID_v2</th>\n",
       "    </tr>\n",
       "  </thead>\n",
       "  <tbody>\n",
       "    <tr>\n",
       "      <th>0</th>\n",
       "      <td>1</td>\n",
       "      <td>sample_21_1.wav</td>\n",
       "      <td>sample_21_1.jpg</td>\n",
       "      <td>Laser-off</td>\n",
       "      <td>0.0</td>\n",
       "      <td>Laser-off</td>\n",
       "      <td>0.0</td>\n",
       "      <td>1.0</td>\n",
       "      <td>21</td>\n",
       "      <td>0.136620</td>\n",
       "      <td>0.265042</td>\n",
       "      <td>9.588183</td>\n",
       "      <td>NaN</td>\n",
       "    </tr>\n",
       "    <tr>\n",
       "      <th>1</th>\n",
       "      <td>2</td>\n",
       "      <td>sample_21_2.wav</td>\n",
       "      <td>sample_21_2.jpg</td>\n",
       "      <td>Crack</td>\n",
       "      <td>2.0</td>\n",
       "      <td>Defective</td>\n",
       "      <td>2.0</td>\n",
       "      <td>1.0</td>\n",
       "      <td>21</td>\n",
       "      <td>0.128219</td>\n",
       "      <td>0.275541</td>\n",
       "      <td>3.966295</td>\n",
       "      <td>NaN</td>\n",
       "    </tr>\n",
       "    <tr>\n",
       "      <th>2</th>\n",
       "      <td>3</td>\n",
       "      <td>sample_21_3.wav</td>\n",
       "      <td>sample_21_3.jpg</td>\n",
       "      <td>Crack</td>\n",
       "      <td>2.0</td>\n",
       "      <td>Defective</td>\n",
       "      <td>2.0</td>\n",
       "      <td>1.0</td>\n",
       "      <td>21</td>\n",
       "      <td>0.126358</td>\n",
       "      <td>0.276802</td>\n",
       "      <td>2.995122</td>\n",
       "      <td>NaN</td>\n",
       "    </tr>\n",
       "    <tr>\n",
       "      <th>3</th>\n",
       "      <td>4</td>\n",
       "      <td>sample_21_4.wav</td>\n",
       "      <td>sample_21_4.jpg</td>\n",
       "      <td>Crack</td>\n",
       "      <td>2.0</td>\n",
       "      <td>Defective</td>\n",
       "      <td>2.0</td>\n",
       "      <td>1.0</td>\n",
       "      <td>21</td>\n",
       "      <td>0.124890</td>\n",
       "      <td>0.278469</td>\n",
       "      <td>2.108443</td>\n",
       "      <td>NaN</td>\n",
       "    </tr>\n",
       "    <tr>\n",
       "      <th>4</th>\n",
       "      <td>5</td>\n",
       "      <td>sample_21_5.wav</td>\n",
       "      <td>sample_21_5.jpg</td>\n",
       "      <td>Defect-free</td>\n",
       "      <td>1.0</td>\n",
       "      <td>Defect-free</td>\n",
       "      <td>1.0</td>\n",
       "      <td>1.0</td>\n",
       "      <td>21</td>\n",
       "      <td>0.124157</td>\n",
       "      <td>0.278818</td>\n",
       "      <td>1.804407</td>\n",
       "      <td>NaN</td>\n",
       "    </tr>\n",
       "    <tr>\n",
       "      <th>...</th>\n",
       "      <td>...</td>\n",
       "      <td>...</td>\n",
       "      <td>...</td>\n",
       "      <td>...</td>\n",
       "      <td>...</td>\n",
       "      <td>...</td>\n",
       "      <td>...</td>\n",
       "      <td>...</td>\n",
       "      <td>...</td>\n",
       "      <td>...</td>\n",
       "      <td>...</td>\n",
       "      <td>...</td>\n",
       "      <td>...</td>\n",
       "    </tr>\n",
       "    <tr>\n",
       "      <th>10981</th>\n",
       "      <td>10982</td>\n",
       "      <td>sample_26_10982.wav</td>\n",
       "      <td>sample_26_10982.jpg</td>\n",
       "      <td>Laser-off</td>\n",
       "      <td>0.0</td>\n",
       "      <td>Laser-off</td>\n",
       "      <td>0.0</td>\n",
       "      <td>50.0</td>\n",
       "      <td>26</td>\n",
       "      <td>0.049586</td>\n",
       "      <td>0.332865</td>\n",
       "      <td>19.726104</td>\n",
       "      <td>NaN</td>\n",
       "    </tr>\n",
       "    <tr>\n",
       "      <th>10982</th>\n",
       "      <td>10983</td>\n",
       "      <td>sample_26_10983.wav</td>\n",
       "      <td>sample_26_10983.jpg</td>\n",
       "      <td>Laser-off</td>\n",
       "      <td>0.0</td>\n",
       "      <td>Laser-off</td>\n",
       "      <td>0.0</td>\n",
       "      <td>50.0</td>\n",
       "      <td>26</td>\n",
       "      <td>0.049608</td>\n",
       "      <td>0.332879</td>\n",
       "      <td>19.705723</td>\n",
       "      <td>NaN</td>\n",
       "    </tr>\n",
       "    <tr>\n",
       "      <th>10983</th>\n",
       "      <td>10984</td>\n",
       "      <td>sample_26_10984.wav</td>\n",
       "      <td>sample_26_10984.jpg</td>\n",
       "      <td>Laser-off</td>\n",
       "      <td>0.0</td>\n",
       "      <td>Laser-off</td>\n",
       "      <td>0.0</td>\n",
       "      <td>50.0</td>\n",
       "      <td>26</td>\n",
       "      <td>0.049623</td>\n",
       "      <td>0.332923</td>\n",
       "      <td>19.733791</td>\n",
       "      <td>NaN</td>\n",
       "    </tr>\n",
       "    <tr>\n",
       "      <th>10984</th>\n",
       "      <td>10985</td>\n",
       "      <td>sample_26_10985.wav</td>\n",
       "      <td>sample_26_10985.jpg</td>\n",
       "      <td>Laser-off</td>\n",
       "      <td>0.0</td>\n",
       "      <td>Laser-off</td>\n",
       "      <td>0.0</td>\n",
       "      <td>50.0</td>\n",
       "      <td>26</td>\n",
       "      <td>0.049646</td>\n",
       "      <td>0.332933</td>\n",
       "      <td>19.690738</td>\n",
       "      <td>NaN</td>\n",
       "    </tr>\n",
       "    <tr>\n",
       "      <th>10985</th>\n",
       "      <td>10986</td>\n",
       "      <td>sample_26_10986.wav</td>\n",
       "      <td>sample_26_10986.jpg</td>\n",
       "      <td>Laser-off</td>\n",
       "      <td>0.0</td>\n",
       "      <td>Laser-off</td>\n",
       "      <td>0.0</td>\n",
       "      <td>50.0</td>\n",
       "      <td>26</td>\n",
       "      <td>0.049659</td>\n",
       "      <td>0.332993</td>\n",
       "      <td>19.773568</td>\n",
       "      <td>NaN</td>\n",
       "    </tr>\n",
       "  </tbody>\n",
       "</table>\n",
       "<p>27848 rows × 13 columns</p>\n",
       "</div>"
      ],
      "text/plain": [
       "       sample index      audio_file_name      image_file_name         name  \\\n",
       "0                 1      sample_21_1.wav      sample_21_1.jpg    Laser-off   \n",
       "1                 2      sample_21_2.wav      sample_21_2.jpg        Crack   \n",
       "2                 3      sample_21_3.wav      sample_21_3.jpg        Crack   \n",
       "3                 4      sample_21_4.wav      sample_21_4.jpg        Crack   \n",
       "4                 5      sample_21_5.wav      sample_21_5.jpg  Defect-free   \n",
       "...             ...                  ...                  ...          ...   \n",
       "10981         10982  sample_26_10982.wav  sample_26_10982.jpg    Laser-off   \n",
       "10982         10983  sample_26_10983.wav  sample_26_10983.jpg    Laser-off   \n",
       "10983         10984  sample_26_10984.wav  sample_26_10984.jpg    Laser-off   \n",
       "10984         10985  sample_26_10985.wav  sample_26_10985.jpg    Laser-off   \n",
       "10985         10986  sample_26_10986.wav  sample_26_10986.jpg    Laser-off   \n",
       "\n",
       "       class_ID class_name_v2  class_ID_2  Layer number  Sample number  \\\n",
       "0           0.0     Laser-off         0.0           1.0             21   \n",
       "1           2.0     Defective         2.0           1.0             21   \n",
       "2           2.0     Defective         2.0           1.0             21   \n",
       "3           2.0     Defective         2.0           1.0             21   \n",
       "4           1.0   Defect-free         1.0           1.0             21   \n",
       "...         ...           ...         ...           ...            ...   \n",
       "10981       0.0     Laser-off         0.0          50.0             26   \n",
       "10982       0.0     Laser-off         0.0          50.0             26   \n",
       "10983       0.0     Laser-off         0.0          50.0             26   \n",
       "10984       0.0     Laser-off         0.0          50.0             26   \n",
       "10985       0.0     Laser-off         0.0          50.0             26   \n",
       "\n",
       "              X         Y          Z  class_ID_v2  \n",
       "0      0.136620  0.265042   9.588183          NaN  \n",
       "1      0.128219  0.275541   3.966295          NaN  \n",
       "2      0.126358  0.276802   2.995122          NaN  \n",
       "3      0.124890  0.278469   2.108443          NaN  \n",
       "4      0.124157  0.278818   1.804407          NaN  \n",
       "...         ...       ...        ...          ...  \n",
       "10981  0.049586  0.332865  19.726104          NaN  \n",
       "10982  0.049608  0.332879  19.705723          NaN  \n",
       "10983  0.049623  0.332923  19.733791          NaN  \n",
       "10984  0.049646  0.332933  19.690738          NaN  \n",
       "10985  0.049659  0.332993  19.773568          NaN  \n",
       "\n",
       "[27848 rows x 13 columns]"
      ]
     },
     "execution_count": 6,
     "metadata": {},
     "output_type": "execute_result"
    }
   ],
   "source": [
    "# Combine all annotation files into one DataFrame\n",
    "all_annotation_dfs = []\n",
    "for sample_dir, sample_number in zip(sample_directories, samples):\n",
    "    annotation_file = os.path.join(sample_dir, f'annotations_{sample_number}.csv')  # Update the file name\n",
    "    annotation_df = pd.read_csv(annotation_file)\n",
    "    all_annotation_dfs.append(annotation_df)\n",
    "combined_annotation_df = pd.concat(all_annotation_dfs)\n",
    "\n",
    "combined_annotation_df = combined_annotation_df.dropna(subset=['name'])\n",
    "combined_annotation_df"
   ]
  },
  {
   "cell_type": "code",
   "execution_count": 7,
   "id": "ba5ac429-ca97-4830-a990-fc8f7afa423c",
   "metadata": {},
   "outputs": [
    {
     "name": "stdout",
     "output_type": "stream",
     "text": [
      "[ 1431  9056  4841 12520]\n"
     ]
    }
   ],
   "source": [
    "# Get the labels and count the number of samples for each class\n",
    "labels = combined_annotation_df['name'].values\n",
    "label_counts = np.unique(labels, return_counts=True)[1]\n",
    "print (label_counts)"
   ]
  },
  {
   "cell_type": "markdown",
   "id": "3500075d-c4af-4c24-b010-551313b1580e",
   "metadata": {},
   "source": [
    "### Basline accuracy\n",
    "The baseline accuracy in this multi-class classificiation problem is **43%**, which is the accuracy of trivially predicting the most-frequent class (classify to the largest class– in other words)."
   ]
  },
  {
   "cell_type": "code",
   "execution_count": 8,
   "id": "ea8f62e0-21ae-42b5-a624-fd905f72e594",
   "metadata": {},
   "outputs": [
    {
     "data": {
      "text/plain": [
       "class_name_v2\n",
       "Defect-free    32.5\n",
       "Defective      22.5\n",
       "Laser-off      45.0\n",
       "Name: class_name_v2, dtype: float64"
      ]
     },
     "execution_count": 8,
     "metadata": {},
     "output_type": "execute_result"
    }
   ],
   "source": [
    "### Get the percentage distribution of each category\n",
    "round(combined_annotation_df.groupby('class_name_v2')[\"class_name_v2\"].count()/combined_annotation_df.shape[0]*100, 1)"
   ]
  },
  {
   "cell_type": "code",
   "execution_count": 9,
   "id": "69a24564-6dff-4804-832a-58ada8e8531f",
   "metadata": {
    "tags": []
   },
   "outputs": [
    {
     "name": "stdout",
     "output_type": "stream",
     "text": [
      "Saving figure dataset\n"
     ]
    },
    {
     "data": {
      "image/png": "[encoded data removed]",
      "text/plain": [
       "<Figure size 700x600 with 1 Axes>"
      ]
     },
     "metadata": {},
     "output_type": "display_data"
    }
   ],
   "source": [
    "# sns.set(style=\"darkgrid\")\n",
    "plt.figure(figsize = (7,6))\n",
    "\n",
    "\n",
    "ax = sns.countplot(x='class_name_v2', data = combined_annotation_df, palette=\"Set1\", linewidth=2,\n",
    "                   edgecolor='k'); #palette='mako' 'Set2'\n",
    "ax.set_xticklabels(ax.get_xticklabels(), rotation=30, ha=\"right\")\n",
    "# ax = sns.countplot(y='label', data = df_dataset_denoised, palette=\"Set2\");\n",
    "\n",
    "\n",
    "ax.set_title('Distribution of LDED vision-audio dataset per category', fontsize = 20, pad=20);\n",
    "ax.set_xlabel(\"Experiment number\",fontsize=18, labelpad=10)\n",
    "ax.set_ylabel(\"Count\",fontsize=18, labelpad=10)\n",
    "ax.tick_params(labelsize=15)\n",
    "\n",
    "save_fig(\"dataset\")"
   ]
  },
  {
   "cell_type": "markdown",
   "id": "d47a91d6-289e-409e-992d-8c17d325f053",
   "metadata": {},
   "source": [
    "## Preparing Dataset and DataLoader"
   ]
  },
  {
   "cell_type": "code",
   "execution_count": 10,
   "id": "f9999bb8-8133-4d6d-91a4-43ea8b0d29a0",
   "metadata": {},
   "outputs": [],
   "source": [
    "#------ transformation------\n",
    "# instantiating our dataset object and create data loader\n",
    "mel_spectrogram = torchaudio.transforms.MelSpectrogram(\n",
    "    sample_rate=SAMPLE_RATE,\n",
    "    n_fft=512,\n",
    "    hop_length=256,\n",
    "    n_mels=32\n",
    ")\n",
    "\n",
    "MFCCs = torchaudio.transforms.MFCC(sample_rate=SAMPLE_RATE,n_mfcc=20)\n",
    "\n",
    "\n",
    "\n",
    "augmentation = Compose(\n",
    "    [\n",
    "       AddGaussianNoise(min_amplitude=0.01, max_amplitude=0.015, p=0.5),\n",
    "       # HighPassFilter(min_cutoff_freq=1000, max_cutoff_freq=21000, p=0.5),\n",
    "       BandPassFilter(min_center_freq=1000, max_center_freq=21000, p=0.5),\n",
    "       # Gain(min_gain_in_db = -2, max_gain_in_db = 2, p=0.5),\n",
    "       Normalize(p=0.5)\n",
    "    ]\n",
    ")\n",
    "\n",
    "\n",
    "# Initialize augmentation callable\n",
    "apply_augmentation = Compose(\n",
    "    transforms=[\n",
    "        Gain(\n",
    "            min_gain_in_db=-15.0,\n",
    "            max_gain_in_db=5.0,\n",
    "            p=0.5,\n",
    "        ),\n",
    "        PolarityInversion(p=0.5)\n",
    "    ]\n",
    ")\n",
    "\n",
    "train_transform = transforms.Compose([\n",
    "    # augmentation,\n",
    "    # apply_augmentation,\n",
    "    # torchaudio.transforms.TimeMasking(time_mask_param=20, p=0.5),  # apply time masking with probability of 0.5\n",
    "    # torchaudio.transforms.FrequencyMasking(freq_mask_param=20),  # apply time masking with probability of 0.5\n",
    "    torchaudio.transforms.MelSpectrogram(sample_rate=SAMPLE_RATE, n_fft=512, hop_length=256, n_mels=32),  # compute Mel-frequency cepstral coefficients (MFCCs)\n",
    "])\n"
   ]
  },
  {
   "cell_type": "code",
   "execution_count": 11,
   "id": "025900b9-a6c3-43b5-86a4-73bbc8c959d1",
   "metadata": {},
   "outputs": [
    {
     "name": "stdout",
     "output_type": "stream",
     "text": [
      "length of the total dataset:27848\n"
     ]
    }
   ],
   "source": [
    "#------ data loader------\n",
    "# create the dataset for all samples\n",
    "audiodataset = LDEDAudioDataset(combined_annotation_df,\n",
    "                                audio_directories,\n",
    "                                samples,\n",
    "                                mel_spectrogram,\n",
    "                                # MFCCs,\n",
    "                                # spectral_centroid,\n",
    "                                SAMPLE_RATE,\n",
    "                                device)\n",
    "print (\"length of the total dataset:\" + str(len(audiodataset)))"
   ]
  },
  {
   "cell_type": "markdown",
   "id": "5db0fb70-fbf1-46e3-9ea9-513b9f50a4d8",
   "metadata": {
    "tags": []
   },
   "source": [
    "### Dealing with Imbalanced dataset: stratified sampling\n",
    "\n",
    "- Split the data into train, validation, and test set\n",
    "- Train and Val are used for hyperparameter tuning\n",
    "- Train set will go through some data augmentation"
   ]
  },
  {
   "cell_type": "code",
   "execution_count": 12,
   "id": "bfc8b6f7-0573-489d-961c-9d9aef5df6c1",
   "metadata": {},
   "outputs": [],
   "source": [
    "# Split the data into train and validation datasets\n",
    "# train_annotations, val_annotations = train_test_split(annotations_df, test_size=0.2)\n",
    "# create the StratifiedShuffleSplit object\n",
    "sss = StratifiedShuffleSplit(n_splits=1, test_size=0.2, random_state=0)\n",
    "\n",
    "# split the indices of annotations into train and test sets\n",
    "train_indices, test_indices = next(sss.split(combined_annotation_df, labels))\n",
    "\n",
    "# split the data into train and test sets\n",
    "train_annotations = combined_annotation_df.iloc[train_indices, :]\n",
    "test_annotations = combined_annotation_df.iloc[test_indices, :]\n",
    "\n",
    "# Create the train and validation datasets\n",
    "train_dataset = LDEDAudioDataset(train_annotations,\n",
    "                                 audio_directories,\n",
    "                                 samples, \n",
    "                                 mel_spectrogram,\n",
    "                                 SAMPLE_RATE,\n",
    "                                 device=device)\n",
    "\n",
    "val_dataset = LDEDAudioDataset(test_annotations,\n",
    "                               audio_directories,\n",
    "                               samples,\n",
    "                               mel_spectrogram,\n",
    "                               SAMPLE_RATE,\n",
    "                               device=device)"
   ]
  },
  {
   "cell_type": "markdown",
   "id": "0f8db309-f1a4-4194-9583-0eab9c2289d2",
   "metadata": {},
   "source": [
    "### Create DataLoader using the dataset"
   ]
  },
  {
   "cell_type": "code",
   "execution_count": 13,
   "id": "356ab5bf-d7bc-46d1-a8b6-ce5a9399b768",
   "metadata": {},
   "outputs": [
    {
     "name": "stdout",
     "output_type": "stream",
     "text": [
      "length of the train dataset:22278\n",
      "length of the val dataset:5570\n"
     ]
    }
   ],
   "source": [
    "# # Create train and val dataloaders\n",
    "train_dataloader = DataLoader(train_dataset, batch_size=BATCH_SIZE, shuffle=True, num_workers=4)\n",
    "val_dataloader = DataLoader(val_dataset, batch_size=BATCH_SIZE, shuffle=False, num_workers=4)\n",
    "# test_dataloader = DataLoader(test_dataset, batch_size=BATCH_SIZE, shuffle=False)\n",
    "\n",
    "print(\"length of the train dataset:\" +  str(len(train_dataloader.dataset)))\n",
    "print(\"length of the val dataset:\" +  str(len(val_dataloader.dataset)))\n",
    "# print(\"length of the test dataset:\" +  str(len(test_dataloader.dataset)))"
   ]
  },
  {
   "cell_type": "markdown",
   "id": "5913b721-5e90-47f2-9de9-6c085006982b",
   "metadata": {},
   "source": [
    "## Training the model"
   ]
  },
  {
   "cell_type": "code",
   "execution_count": 14,
   "id": "1689725d-94f4-4cbb-bfe9-f42c1c49c89e",
   "metadata": {},
   "outputs": [],
   "source": [
    "resume = False\n",
    "start_epoch = 0\n",
    "best_acc = 0"
   ]
  },
  {
   "cell_type": "code",
   "execution_count": 15,
   "id": "478dceec-22ae-4066-82d7-c4b51ddba2e3",
   "metadata": {
    "tags": []
   },
   "outputs": [
    {
     "name": "stdout",
     "output_type": "stream",
     "text": [
      "==> Building model..\n",
      "--- Using CUDA ---\n",
      "\n",
      "Epoch: 0\n"
     ]
    },
    {
     "name": "stderr",
     "output_type": "stream",
     "text": [
      "Epoch 0: 100%|██████| 697/697 [00:16<00:00, 42.58it/s, loss=1.06, accuracy=46.1]\n",
      "Epoch 0:   0%|                | 0/175 [00:09<?, ?it/s, loss=1.04, accuracy=49.7]\n"
     ]
    },
    {
     "name": "stdout",
     "output_type": "stream",
     "text": [
      "16:24:48 --- Epoch: 0\tTrain loss: 1.0582\tValid loss: 0.0325\tTrain accuracy: 46.14\tValid accuracy: 49.68\n",
      "\n",
      "Epoch: 1\n"
     ]
    },
    {
     "name": "stderr",
     "output_type": "stream",
     "text": [
      "Epoch 1: 100%|██████| 697/697 [00:15<00:00, 44.32it/s, loss=1.02, accuracy=49.5]\n",
      "Epoch 1:   0%|                | 0/175 [00:09<?, ?it/s, loss=1.01, accuracy=50.5]\n"
     ]
    },
    {
     "name": "stdout",
     "output_type": "stream",
     "text": [
      "16:25:14 --- Epoch: 1\tTrain loss: 1.0252\tValid loss: 0.0318\tTrain accuracy: 49.46\tValid accuracy: 50.47\n",
      "\n",
      "Epoch: 2\n"
     ]
    },
    {
     "name": "stderr",
     "output_type": "stream",
     "text": [
      "Epoch 2: 100%|███████████| 697/697 [00:16<00:00, 43.31it/s, loss=1, accuracy=54]\n",
      "Epoch 2:   0%|               | 0/175 [00:09<?, ?it/s, loss=0.985, accuracy=56.5]\n"
     ]
    },
    {
     "name": "stdout",
     "output_type": "stream",
     "text": [
      "16:25:40 --- Epoch: 2\tTrain loss: 1.0012\tValid loss: 0.0309\tTrain accuracy: 53.98\tValid accuracy: 56.54\n",
      "\n",
      "Epoch: 3\n"
     ]
    },
    {
     "name": "stderr",
     "output_type": "stream",
     "text": [
      "Epoch 3: 100%|███████| 697/697 [00:15<00:00, 45.14it/s, loss=0.978, accuracy=57]\n",
      "Epoch 3:   0%|                 | 0/175 [00:09<?, ?it/s, loss=0.965, accuracy=57]\n"
     ]
    },
    {
     "name": "stdout",
     "output_type": "stream",
     "text": [
      "16:26:05 --- Epoch: 3\tTrain loss: 0.9786\tValid loss: 0.0303\tTrain accuracy: 57.00\tValid accuracy: 57.02\n",
      "\n",
      "Epoch: 4\n"
     ]
    },
    {
     "name": "stderr",
     "output_type": "stream",
     "text": [
      "Epoch 4: 100%|█████| 697/697 [00:15<00:00, 44.52it/s, loss=0.959, accuracy=58.3]\n",
      "Epoch 4:   0%|               | 0/175 [00:10<?, ?it/s, loss=0.942, accuracy=58.9]\n"
     ]
    },
    {
     "name": "stdout",
     "output_type": "stream",
     "text": [
      "16:26:30 --- Epoch: 4\tTrain loss: 0.9583\tValid loss: 0.0296\tTrain accuracy: 58.28\tValid accuracy: 58.94\n",
      "\n",
      "Epoch: 5\n"
     ]
    },
    {
     "name": "stderr",
     "output_type": "stream",
     "text": [
      "Epoch 5: 100%|█████| 697/697 [00:15<00:00, 44.29it/s, loss=0.941, accuracy=60.1]\n",
      "Epoch 5:   0%|               | 0/175 [00:10<?, ?it/s, loss=0.927, accuracy=60.8]\n"
     ]
    },
    {
     "name": "stdout",
     "output_type": "stream",
     "text": [
      "16:26:56 --- Epoch: 5\tTrain loss: 0.9407\tValid loss: 0.0291\tTrain accuracy: 60.10\tValid accuracy: 60.81\n",
      "\n",
      "Epoch: 6\n"
     ]
    },
    {
     "name": "stderr",
     "output_type": "stream",
     "text": [
      "Epoch 6: 100%|█████| 697/697 [00:16<00:00, 43.45it/s, loss=0.926, accuracy=61.6]\n",
      "Epoch 6:   0%|               | 0/175 [00:09<?, ?it/s, loss=0.913, accuracy=62.7]\n"
     ]
    },
    {
     "name": "stdout",
     "output_type": "stream",
     "text": [
      "16:27:22 --- Epoch: 6\tTrain loss: 0.9265\tValid loss: 0.0287\tTrain accuracy: 61.59\tValid accuracy: 62.69\n",
      "\n",
      "Epoch: 7\n"
     ]
    },
    {
     "name": "stderr",
     "output_type": "stream",
     "text": [
      "Epoch 7: 100%|█████| 697/697 [00:15<00:00, 43.79it/s, loss=0.912, accuracy=63.4]\n",
      "Epoch 7:   0%|               | 0/175 [00:09<?, ?it/s, loss=0.901, accuracy=63.5]\n"
     ]
    },
    {
     "name": "stdout",
     "output_type": "stream",
     "text": [
      "16:27:48 --- Epoch: 7\tTrain loss: 0.9123\tValid loss: 0.0283\tTrain accuracy: 63.37\tValid accuracy: 63.54\n",
      "\n",
      "Epoch: 8\n"
     ]
    },
    {
     "name": "stderr",
     "output_type": "stream",
     "text": [
      "Epoch 8: 100%|█████| 697/697 [00:16<00:00, 43.54it/s, loss=0.901, accuracy=64.8]\n",
      "Epoch 8:   0%|                | 0/175 [00:09<?, ?it/s, loss=0.89, accuracy=65.4]\n"
     ]
    },
    {
     "name": "stdout",
     "output_type": "stream",
     "text": [
      "16:28:14 --- Epoch: 8\tTrain loss: 0.9011\tValid loss: 0.0280\tTrain accuracy: 64.78\tValid accuracy: 65.35\n",
      "\n",
      "Epoch: 9\n"
     ]
    },
    {
     "name": "stderr",
     "output_type": "stream",
     "text": [
      "Epoch 9: 100%|████████| 697/697 [00:15<00:00, 43.98it/s, loss=0.89, accuracy=66]\n",
      "Epoch 9:   0%|                | 0/175 [00:09<?, ?it/s, loss=0.88, accuracy=66.9]\n"
     ]
    },
    {
     "name": "stdout",
     "output_type": "stream",
     "text": [
      "16:28:39 --- Epoch: 9\tTrain loss: 0.8896\tValid loss: 0.0276\tTrain accuracy: 66.04\tValid accuracy: 66.95\n",
      "\n",
      "Epoch: 10\n"
     ]
    },
    {
     "name": "stderr",
     "output_type": "stream",
     "text": [
      "Epoch 10: 100%|████| 697/697 [00:15<00:00, 44.40it/s, loss=0.881, accuracy=67.1]\n",
      "Epoch 10:   0%|              | 0/175 [00:09<?, ?it/s, loss=0.871, accuracy=67.3]\n"
     ]
    },
    {
     "name": "stdout",
     "output_type": "stream",
     "text": [
      "16:29:05 --- Epoch: 10\tTrain loss: 0.8813\tValid loss: 0.0274\tTrain accuracy: 67.10\tValid accuracy: 67.34\n",
      "\n",
      "Epoch: 11\n"
     ]
    },
    {
     "name": "stderr",
     "output_type": "stream",
     "text": [
      "Epoch 11: 100%|████| 697/697 [00:15<00:00, 44.27it/s, loss=0.872, accuracy=67.9]\n",
      "Epoch 11:   0%|              | 0/175 [00:10<?, ?it/s, loss=0.862, accuracy=68.6]\n"
     ]
    },
    {
     "name": "stdout",
     "output_type": "stream",
     "text": [
      "16:29:31 --- Epoch: 11\tTrain loss: 0.8722\tValid loss: 0.0271\tTrain accuracy: 67.91\tValid accuracy: 68.64\n",
      "\n",
      "Epoch: 12\n"
     ]
    },
    {
     "name": "stderr",
     "output_type": "stream",
     "text": [
      "Epoch 12: 100%|████| 697/697 [00:15<00:00, 44.27it/s, loss=0.866, accuracy=68.6]\n",
      "Epoch 12:   0%|              | 0/175 [00:09<?, ?it/s, loss=0.857, accuracy=68.7]\n"
     ]
    },
    {
     "name": "stdout",
     "output_type": "stream",
     "text": [
      "16:29:56 --- Epoch: 12\tTrain loss: 0.8664\tValid loss: 0.0269\tTrain accuracy: 68.61\tValid accuracy: 68.67\n",
      "\n",
      "Epoch: 13\n"
     ]
    },
    {
     "name": "stderr",
     "output_type": "stream",
     "text": [
      "Epoch 13: 100%|█████| 697/697 [00:15<00:00, 43.93it/s, loss=0.86, accuracy=69.1]\n",
      "Epoch 13:   0%|              | 0/175 [00:10<?, ?it/s, loss=0.855, accuracy=68.6]\n"
     ]
    },
    {
     "name": "stdout",
     "output_type": "stream",
     "text": [
      "16:30:22 --- Epoch: 13\tTrain loss: 0.8598\tValid loss: 0.0269\tTrain accuracy: 69.10\tValid accuracy: 68.60\n",
      "\n",
      "Epoch: 14\n"
     ]
    },
    {
     "name": "stderr",
     "output_type": "stream",
     "text": [
      "Epoch 14:   0%|                                         | 0/697 [00:06<?, ?it/s]\n"
     ]
    },
    {
     "ename": "KeyboardInterrupt",
     "evalue": "",
     "output_type": "error",
     "traceback": [
      "\u001b[0;31m---------------------------------------------------------------------------\u001b[0m",
      "\u001b[0;31mKeyboardInterrupt\u001b[0m                         Traceback (most recent call last)",
      "Cell \u001b[0;32mIn[15], line 34\u001b[0m\n\u001b[1;32m     26\u001b[0m scheduler \u001b[38;5;241m=\u001b[39m torch\u001b[38;5;241m.\u001b[39moptim\u001b[38;5;241m.\u001b[39mlr_scheduler\u001b[38;5;241m.\u001b[39mCosineAnnealingLR(optimizer, T_max\u001b[38;5;241m=\u001b[39m\u001b[38;5;241m200\u001b[39m)\n\u001b[1;32m     29\u001b[0m \u001b[38;5;66;03m# for epoch in range(start_epoch, start_epoch+EPOCHS):\u001b[39;00m\n\u001b[1;32m     30\u001b[0m     \u001b[38;5;66;03m# train_single_epoch(net, epoch, train_dataloader, loss_fn, optimizer, device)\u001b[39;00m\n\u001b[1;32m     31\u001b[0m     \u001b[38;5;66;03m# test_single_epoch(net, epoch, val_dataloader, loss_fn, device)\u001b[39;00m\n\u001b[1;32m     32\u001b[0m     \u001b[38;5;66;03m# scheduler.step()\u001b[39;00m\n\u001b[0;32m---> 34\u001b[0m model, optimizer, (train_losses, valid_losses, train_accuracy, valid_accuracy) \u001b[38;5;241m=\u001b[39m \u001b[43mtraining_loop\u001b[49m\u001b[43m(\u001b[49m\u001b[43mnet\u001b[49m\u001b[43m,\u001b[49m\u001b[43m \u001b[49m\u001b[43mloss_fn\u001b[49m\u001b[43m,\u001b[49m\u001b[43m \u001b[49m\u001b[43moptimizer\u001b[49m\u001b[43m,\u001b[49m\u001b[43m \u001b[49m\u001b[43mtrain_dataloader\u001b[49m\u001b[43m,\u001b[49m\u001b[43m \u001b[49m\u001b[43mval_dataloader\u001b[49m\u001b[43m,\u001b[49m\u001b[43m \u001b[49m\u001b[43mEPOCHS\u001b[49m\u001b[43m,\u001b[49m\u001b[43m \u001b[49m\u001b[43mscheduler\u001b[49m\u001b[43m,\u001b[49m\u001b[43m \u001b[49m\u001b[43mdevice\u001b[49m\u001b[43m)\u001b[49m\n",
      "File \u001b[0;32m~/GitHub/LDED-FusionNet/code/train_utils.py:150\u001b[0m, in \u001b[0;36mtraining_loop\u001b[0;34m(model, loss_fn, optimizer, train_loader, valid_loader, epochs, scheduler, device, print_every, mode)\u001b[0m\n\u001b[1;32m    147\u001b[0m \u001b[38;5;66;03m# Train model\u001b[39;00m\n\u001b[1;32m    148\u001b[0m \u001b[38;5;28;01mfor\u001b[39;00m epoch \u001b[38;5;129;01min\u001b[39;00m \u001b[38;5;28mrange\u001b[39m(\u001b[38;5;241m0\u001b[39m, epochs):\n\u001b[1;32m    149\u001b[0m     \u001b[38;5;66;03m# training\u001b[39;00m\n\u001b[0;32m--> 150\u001b[0m     model, optimizer, train_loss, train_acc \u001b[38;5;241m=\u001b[39m \u001b[43mtrain_single_epoch\u001b[49m\u001b[43m(\u001b[49m\u001b[43mmodel\u001b[49m\u001b[43m,\u001b[49m\u001b[43m \u001b[49m\u001b[43mepoch\u001b[49m\u001b[43m,\u001b[49m\u001b[43m \u001b[49m\u001b[43mtrain_loader\u001b[49m\u001b[43m,\u001b[49m\u001b[43m \u001b[49m\u001b[43mloss_fn\u001b[49m\u001b[43m,\u001b[49m\u001b[43m \u001b[49m\u001b[43moptimizer\u001b[49m\u001b[43m,\u001b[49m\u001b[43m \u001b[49m\u001b[43mdevice\u001b[49m\u001b[43m,\u001b[49m\u001b[43m \u001b[49m\u001b[43mmode\u001b[49m\u001b[43m \u001b[49m\u001b[38;5;241;43m=\u001b[39;49m\u001b[43m \u001b[49m\u001b[43mmode\u001b[49m\u001b[43m)\u001b[49m\n\u001b[1;32m    151\u001b[0m     train_losses\u001b[38;5;241m.\u001b[39mappend(train_loss)\n\u001b[1;32m    152\u001b[0m     \u001b[38;5;66;03m# validation\u001b[39;00m\n",
      "File \u001b[0;32m~/GitHub/LDED-FusionNet/code/train_utils.py:47\u001b[0m, in \u001b[0;36mtrain_single_epoch\u001b[0;34m(model, epoch, trainloader, loss_fn, optimizer, device, mode)\u001b[0m\n\u001b[1;32m     44\u001b[0m \u001b[38;5;66;03m#  create a progress bar for the training data loader\u001b[39;00m\n\u001b[1;32m     45\u001b[0m pbar \u001b[38;5;241m=\u001b[39m tqdm(trainloader, desc\u001b[38;5;241m=\u001b[39m\u001b[38;5;124mf\u001b[39m\u001b[38;5;124m\"\u001b[39m\u001b[38;5;124mEpoch \u001b[39m\u001b[38;5;132;01m{\u001b[39;00mepoch\u001b[38;5;132;01m}\u001b[39;00m\u001b[38;5;124m\"\u001b[39m)\n\u001b[0;32m---> 47\u001b[0m \u001b[38;5;28;01mfor\u001b[39;00m batch_idx, (inputs, targets) \u001b[38;5;129;01min\u001b[39;00m \u001b[38;5;28menumerate\u001b[39m(pbar):\n\u001b[1;32m     48\u001b[0m     \u001b[38;5;28;01mif\u001b[39;00m mode \u001b[38;5;241m==\u001b[39m \u001b[38;5;124m\"\u001b[39m\u001b[38;5;124msingle_model\u001b[39m\u001b[38;5;124m\"\u001b[39m:\n\u001b[1;32m     49\u001b[0m         inputs, targets \u001b[38;5;241m=\u001b[39m inputs\u001b[38;5;241m.\u001b[39mto(device), targets\u001b[38;5;241m.\u001b[39mto(device)\n",
      "File \u001b[0;32m~/anaconda3/envs/torch/lib/python3.9/site-packages/tqdm/std.py:1195\u001b[0m, in \u001b[0;36mtqdm.__iter__\u001b[0;34m(self)\u001b[0m\n\u001b[1;32m   1192\u001b[0m time \u001b[38;5;241m=\u001b[39m \u001b[38;5;28mself\u001b[39m\u001b[38;5;241m.\u001b[39m_time\n\u001b[1;32m   1194\u001b[0m \u001b[38;5;28;01mtry\u001b[39;00m:\n\u001b[0;32m-> 1195\u001b[0m     \u001b[38;5;28;01mfor\u001b[39;00m obj \u001b[38;5;129;01min\u001b[39;00m iterable:\n\u001b[1;32m   1196\u001b[0m         \u001b[38;5;28;01myield\u001b[39;00m obj\n\u001b[1;32m   1197\u001b[0m         \u001b[38;5;66;03m# Update and possibly print the progressbar.\u001b[39;00m\n\u001b[1;32m   1198\u001b[0m         \u001b[38;5;66;03m# Note: does not call self.update(1) for speed optimisation.\u001b[39;00m\n",
      "File \u001b[0;32m~/anaconda3/envs/torch/lib/python3.9/site-packages/torch/utils/data/dataloader.py:628\u001b[0m, in \u001b[0;36m_BaseDataLoaderIter.__next__\u001b[0;34m(self)\u001b[0m\n\u001b[1;32m    625\u001b[0m \u001b[38;5;28;01mif\u001b[39;00m \u001b[38;5;28mself\u001b[39m\u001b[38;5;241m.\u001b[39m_sampler_iter \u001b[38;5;129;01mis\u001b[39;00m \u001b[38;5;28;01mNone\u001b[39;00m:\n\u001b[1;32m    626\u001b[0m     \u001b[38;5;66;03m# TODO(https://github.com/pytorch/pytorch/issues/76750)\u001b[39;00m\n\u001b[1;32m    627\u001b[0m     \u001b[38;5;28mself\u001b[39m\u001b[38;5;241m.\u001b[39m_reset()  \u001b[38;5;66;03m# type: ignore[call-arg]\u001b[39;00m\n\u001b[0;32m--> 628\u001b[0m data \u001b[38;5;241m=\u001b[39m \u001b[38;5;28;43mself\u001b[39;49m\u001b[38;5;241;43m.\u001b[39;49m\u001b[43m_next_data\u001b[49m\u001b[43m(\u001b[49m\u001b[43m)\u001b[49m\n\u001b[1;32m    629\u001b[0m \u001b[38;5;28mself\u001b[39m\u001b[38;5;241m.\u001b[39m_num_yielded \u001b[38;5;241m+\u001b[39m\u001b[38;5;241m=\u001b[39m \u001b[38;5;241m1\u001b[39m\n\u001b[1;32m    630\u001b[0m \u001b[38;5;28;01mif\u001b[39;00m \u001b[38;5;28mself\u001b[39m\u001b[38;5;241m.\u001b[39m_dataset_kind \u001b[38;5;241m==\u001b[39m _DatasetKind\u001b[38;5;241m.\u001b[39mIterable \u001b[38;5;129;01mand\u001b[39;00m \\\n\u001b[1;32m    631\u001b[0m         \u001b[38;5;28mself\u001b[39m\u001b[38;5;241m.\u001b[39m_IterableDataset_len_called \u001b[38;5;129;01mis\u001b[39;00m \u001b[38;5;129;01mnot\u001b[39;00m \u001b[38;5;28;01mNone\u001b[39;00m \u001b[38;5;129;01mand\u001b[39;00m \\\n\u001b[1;32m    632\u001b[0m         \u001b[38;5;28mself\u001b[39m\u001b[38;5;241m.\u001b[39m_num_yielded \u001b[38;5;241m>\u001b[39m \u001b[38;5;28mself\u001b[39m\u001b[38;5;241m.\u001b[39m_IterableDataset_len_called:\n",
      "File \u001b[0;32m~/anaconda3/envs/torch/lib/python3.9/site-packages/torch/utils/data/dataloader.py:1316\u001b[0m, in \u001b[0;36m_MultiProcessingDataLoaderIter._next_data\u001b[0;34m(self)\u001b[0m\n\u001b[1;32m   1313\u001b[0m     \u001b[38;5;28;01mreturn\u001b[39;00m \u001b[38;5;28mself\u001b[39m\u001b[38;5;241m.\u001b[39m_process_data(data)\n\u001b[1;32m   1315\u001b[0m \u001b[38;5;28;01massert\u001b[39;00m \u001b[38;5;129;01mnot\u001b[39;00m \u001b[38;5;28mself\u001b[39m\u001b[38;5;241m.\u001b[39m_shutdown \u001b[38;5;129;01mand\u001b[39;00m \u001b[38;5;28mself\u001b[39m\u001b[38;5;241m.\u001b[39m_tasks_outstanding \u001b[38;5;241m>\u001b[39m \u001b[38;5;241m0\u001b[39m\n\u001b[0;32m-> 1316\u001b[0m idx, data \u001b[38;5;241m=\u001b[39m \u001b[38;5;28;43mself\u001b[39;49m\u001b[38;5;241;43m.\u001b[39;49m\u001b[43m_get_data\u001b[49m\u001b[43m(\u001b[49m\u001b[43m)\u001b[49m\n\u001b[1;32m   1317\u001b[0m \u001b[38;5;28mself\u001b[39m\u001b[38;5;241m.\u001b[39m_tasks_outstanding \u001b[38;5;241m-\u001b[39m\u001b[38;5;241m=\u001b[39m \u001b[38;5;241m1\u001b[39m\n\u001b[1;32m   1318\u001b[0m \u001b[38;5;28;01mif\u001b[39;00m \u001b[38;5;28mself\u001b[39m\u001b[38;5;241m.\u001b[39m_dataset_kind \u001b[38;5;241m==\u001b[39m _DatasetKind\u001b[38;5;241m.\u001b[39mIterable:\n\u001b[1;32m   1319\u001b[0m     \u001b[38;5;66;03m# Check for _IterableDatasetStopIteration\u001b[39;00m\n",
      "File \u001b[0;32m~/anaconda3/envs/torch/lib/python3.9/site-packages/torch/utils/data/dataloader.py:1282\u001b[0m, in \u001b[0;36m_MultiProcessingDataLoaderIter._get_data\u001b[0;34m(self)\u001b[0m\n\u001b[1;32m   1278\u001b[0m     \u001b[38;5;66;03m# In this case, `self._data_queue` is a `queue.Queue`,. But we don't\u001b[39;00m\n\u001b[1;32m   1279\u001b[0m     \u001b[38;5;66;03m# need to call `.task_done()` because we don't use `.join()`.\u001b[39;00m\n\u001b[1;32m   1280\u001b[0m \u001b[38;5;28;01melse\u001b[39;00m:\n\u001b[1;32m   1281\u001b[0m     \u001b[38;5;28;01mwhile\u001b[39;00m \u001b[38;5;28;01mTrue\u001b[39;00m:\n\u001b[0;32m-> 1282\u001b[0m         success, data \u001b[38;5;241m=\u001b[39m \u001b[38;5;28;43mself\u001b[39;49m\u001b[38;5;241;43m.\u001b[39;49m\u001b[43m_try_get_data\u001b[49m\u001b[43m(\u001b[49m\u001b[43m)\u001b[49m\n\u001b[1;32m   1283\u001b[0m         \u001b[38;5;28;01mif\u001b[39;00m success:\n\u001b[1;32m   1284\u001b[0m             \u001b[38;5;28;01mreturn\u001b[39;00m data\n",
      "File \u001b[0;32m~/anaconda3/envs/torch/lib/python3.9/site-packages/torch/utils/data/dataloader.py:1120\u001b[0m, in \u001b[0;36m_MultiProcessingDataLoaderIter._try_get_data\u001b[0;34m(self, timeout)\u001b[0m\n\u001b[1;32m   1107\u001b[0m \u001b[38;5;28;01mdef\u001b[39;00m \u001b[38;5;21m_try_get_data\u001b[39m(\u001b[38;5;28mself\u001b[39m, timeout\u001b[38;5;241m=\u001b[39m_utils\u001b[38;5;241m.\u001b[39mMP_STATUS_CHECK_INTERVAL):\n\u001b[1;32m   1108\u001b[0m     \u001b[38;5;66;03m# Tries to fetch data from `self._data_queue` once for a given timeout.\u001b[39;00m\n\u001b[1;32m   1109\u001b[0m     \u001b[38;5;66;03m# This can also be used as inner loop of fetching without timeout, with\u001b[39;00m\n\u001b[0;32m   (...)\u001b[0m\n\u001b[1;32m   1117\u001b[0m     \u001b[38;5;66;03m# Returns a 2-tuple:\u001b[39;00m\n\u001b[1;32m   1118\u001b[0m     \u001b[38;5;66;03m#   (bool: whether successfully get data, any: data if successful else None)\u001b[39;00m\n\u001b[1;32m   1119\u001b[0m     \u001b[38;5;28;01mtry\u001b[39;00m:\n\u001b[0;32m-> 1120\u001b[0m         data \u001b[38;5;241m=\u001b[39m \u001b[38;5;28;43mself\u001b[39;49m\u001b[38;5;241;43m.\u001b[39;49m\u001b[43m_data_queue\u001b[49m\u001b[38;5;241;43m.\u001b[39;49m\u001b[43mget\u001b[49m\u001b[43m(\u001b[49m\u001b[43mtimeout\u001b[49m\u001b[38;5;241;43m=\u001b[39;49m\u001b[43mtimeout\u001b[49m\u001b[43m)\u001b[49m\n\u001b[1;32m   1121\u001b[0m         \u001b[38;5;28;01mreturn\u001b[39;00m (\u001b[38;5;28;01mTrue\u001b[39;00m, data)\n\u001b[1;32m   1122\u001b[0m     \u001b[38;5;28;01mexcept\u001b[39;00m \u001b[38;5;167;01mException\u001b[39;00m \u001b[38;5;28;01mas\u001b[39;00m e:\n\u001b[1;32m   1123\u001b[0m         \u001b[38;5;66;03m# At timeout and error, we manually check whether any worker has\u001b[39;00m\n\u001b[1;32m   1124\u001b[0m         \u001b[38;5;66;03m# failed. Note that this is the only mechanism for Windows to detect\u001b[39;00m\n\u001b[1;32m   1125\u001b[0m         \u001b[38;5;66;03m# worker failures.\u001b[39;00m\n",
      "File \u001b[0;32m~/anaconda3/envs/torch/lib/python3.9/multiprocessing/queues.py:113\u001b[0m, in \u001b[0;36mQueue.get\u001b[0;34m(self, block, timeout)\u001b[0m\n\u001b[1;32m    111\u001b[0m \u001b[38;5;28;01mif\u001b[39;00m block:\n\u001b[1;32m    112\u001b[0m     timeout \u001b[38;5;241m=\u001b[39m deadline \u001b[38;5;241m-\u001b[39m time\u001b[38;5;241m.\u001b[39mmonotonic()\n\u001b[0;32m--> 113\u001b[0m     \u001b[38;5;28;01mif\u001b[39;00m \u001b[38;5;129;01mnot\u001b[39;00m \u001b[38;5;28;43mself\u001b[39;49m\u001b[38;5;241;43m.\u001b[39;49m\u001b[43m_poll\u001b[49m\u001b[43m(\u001b[49m\u001b[43mtimeout\u001b[49m\u001b[43m)\u001b[49m:\n\u001b[1;32m    114\u001b[0m         \u001b[38;5;28;01mraise\u001b[39;00m Empty\n\u001b[1;32m    115\u001b[0m \u001b[38;5;28;01melif\u001b[39;00m \u001b[38;5;129;01mnot\u001b[39;00m \u001b[38;5;28mself\u001b[39m\u001b[38;5;241m.\u001b[39m_poll():\n",
      "File \u001b[0;32m~/anaconda3/envs/torch/lib/python3.9/multiprocessing/connection.py:257\u001b[0m, in \u001b[0;36m_ConnectionBase.poll\u001b[0;34m(self, timeout)\u001b[0m\n\u001b[1;32m    255\u001b[0m \u001b[38;5;28mself\u001b[39m\u001b[38;5;241m.\u001b[39m_check_closed()\n\u001b[1;32m    256\u001b[0m \u001b[38;5;28mself\u001b[39m\u001b[38;5;241m.\u001b[39m_check_readable()\n\u001b[0;32m--> 257\u001b[0m \u001b[38;5;28;01mreturn\u001b[39;00m \u001b[38;5;28;43mself\u001b[39;49m\u001b[38;5;241;43m.\u001b[39;49m\u001b[43m_poll\u001b[49m\u001b[43m(\u001b[49m\u001b[43mtimeout\u001b[49m\u001b[43m)\u001b[49m\n",
      "File \u001b[0;32m~/anaconda3/envs/torch/lib/python3.9/multiprocessing/connection.py:424\u001b[0m, in \u001b[0;36mConnection._poll\u001b[0;34m(self, timeout)\u001b[0m\n\u001b[1;32m    423\u001b[0m \u001b[38;5;28;01mdef\u001b[39;00m \u001b[38;5;21m_poll\u001b[39m(\u001b[38;5;28mself\u001b[39m, timeout):\n\u001b[0;32m--> 424\u001b[0m     r \u001b[38;5;241m=\u001b[39m \u001b[43mwait\u001b[49m\u001b[43m(\u001b[49m\u001b[43m[\u001b[49m\u001b[38;5;28;43mself\u001b[39;49m\u001b[43m]\u001b[49m\u001b[43m,\u001b[49m\u001b[43m \u001b[49m\u001b[43mtimeout\u001b[49m\u001b[43m)\u001b[49m\n\u001b[1;32m    425\u001b[0m     \u001b[38;5;28;01mreturn\u001b[39;00m \u001b[38;5;28mbool\u001b[39m(r)\n",
      "File \u001b[0;32m~/anaconda3/envs/torch/lib/python3.9/multiprocessing/connection.py:931\u001b[0m, in \u001b[0;36mwait\u001b[0;34m(object_list, timeout)\u001b[0m\n\u001b[1;32m    928\u001b[0m     deadline \u001b[38;5;241m=\u001b[39m time\u001b[38;5;241m.\u001b[39mmonotonic() \u001b[38;5;241m+\u001b[39m timeout\n\u001b[1;32m    930\u001b[0m \u001b[38;5;28;01mwhile\u001b[39;00m \u001b[38;5;28;01mTrue\u001b[39;00m:\n\u001b[0;32m--> 931\u001b[0m     ready \u001b[38;5;241m=\u001b[39m \u001b[43mselector\u001b[49m\u001b[38;5;241;43m.\u001b[39;49m\u001b[43mselect\u001b[49m\u001b[43m(\u001b[49m\u001b[43mtimeout\u001b[49m\u001b[43m)\u001b[49m\n\u001b[1;32m    932\u001b[0m     \u001b[38;5;28;01mif\u001b[39;00m ready:\n\u001b[1;32m    933\u001b[0m         \u001b[38;5;28;01mreturn\u001b[39;00m [key\u001b[38;5;241m.\u001b[39mfileobj \u001b[38;5;28;01mfor\u001b[39;00m (key, events) \u001b[38;5;129;01min\u001b[39;00m ready]\n",
      "File \u001b[0;32m~/anaconda3/envs/torch/lib/python3.9/selectors.py:416\u001b[0m, in \u001b[0;36m_PollLikeSelector.select\u001b[0;34m(self, timeout)\u001b[0m\n\u001b[1;32m    414\u001b[0m ready \u001b[38;5;241m=\u001b[39m []\n\u001b[1;32m    415\u001b[0m \u001b[38;5;28;01mtry\u001b[39;00m:\n\u001b[0;32m--> 416\u001b[0m     fd_event_list \u001b[38;5;241m=\u001b[39m \u001b[38;5;28;43mself\u001b[39;49m\u001b[38;5;241;43m.\u001b[39;49m\u001b[43m_selector\u001b[49m\u001b[38;5;241;43m.\u001b[39;49m\u001b[43mpoll\u001b[49m\u001b[43m(\u001b[49m\u001b[43mtimeout\u001b[49m\u001b[43m)\u001b[49m\n\u001b[1;32m    417\u001b[0m \u001b[38;5;28;01mexcept\u001b[39;00m \u001b[38;5;167;01mInterruptedError\u001b[39;00m:\n\u001b[1;32m    418\u001b[0m     \u001b[38;5;28;01mreturn\u001b[39;00m ready\n",
      "\u001b[0;31mKeyboardInterrupt\u001b[0m: "
     ]
    }
   ],
   "source": [
    "# -----Model---------------\n",
    "print('==> Building model..')\n",
    "\n",
    "net = MFCCCNN() \n",
    "\n",
    "net = net.to(device)\n",
    "if device == 'cuda':\n",
    "    net = torch.nn.DataParallel(net)\n",
    "    cudnn.benchmark = True\n",
    "    print (\"--- Using CUDA ---\")\n",
    "\n",
    "if resume:\n",
    "    # Load checkpoint.\n",
    "    print('==> Resuming from checkpoint..')\n",
    "    assert os.path.isdir('checkpoint'), 'Error: no checkpoint directory found!'\n",
    "    checkpoint = torch.load('./checkpoint/ckpt.pth')\n",
    "    net.load_state_dict(checkpoint['net'])\n",
    "    best_acc = checkpoint['acc']\n",
    "    start_epoch = checkpoint['epoch']\n",
    "\n",
    "loss_fn = nn.CrossEntropyLoss()\n",
    "# Note: weight_decay in pytorch is L2 regularization\n",
    "# optimizer = optim.SGD(net.parameters(), lr=LEARNING_RATE,\n",
    "#                     momentum=0.9, weight_decay=5e-4)\n",
    "optimizer = optim.Adam(net.parameters(), lr=LEARNING_RATE, weight_decay=5e-4)\n",
    "scheduler = torch.optim.lr_scheduler.CosineAnnealingLR(optimizer, T_max=200)\n",
    "\n",
    "\n",
    "# for epoch in range(start_epoch, start_epoch+EPOCHS):\n",
    "    # train_single_epoch(net, epoch, train_dataloader, loss_fn, optimizer, device)\n",
    "    # test_single_epoch(net, epoch, val_dataloader, loss_fn, device)\n",
    "    # scheduler.step()\n",
    "\n",
    "model, optimizer, (train_losses, valid_losses, train_accuracy, valid_accuracy) = training_loop(net, loss_fn, optimizer, train_dataloader, val_dataloader, EPOCHS, scheduler, device)"
   ]
  },
  {
   "cell_type": "code",
   "execution_count": null,
   "id": "97901149-558c-4241-b6d3-9f8389f3ec1f",
   "metadata": {},
   "outputs": [],
   "source": [
    "valid_accuracy"
   ]
  },
  {
   "cell_type": "code",
   "execution_count": null,
   "id": "ab7210cd-ecf4-4c73-8bd0-24c22829334c",
   "metadata": {},
   "outputs": [],
   "source": [
    "loss_acc_plot(train_losses, valid_losses, train_accuracy, valid_accuracy, 50, \"Initial Training\",\n",
    "              interval=10, yloss_limit1=0, yloss_limit2=0.3, yacc_limit1=30, yacc_limit2=100)\n",
    "\n",
    "save_fig (\"train_lost_curve_audio\")"
   ]
  },
  {
   "cell_type": "code",
   "execution_count": null,
   "id": "433ed0ce-439c-479d-9945-5f77bfb629d6",
   "metadata": {},
   "outputs": [],
   "source": [
    "get_accuracy(model, val_dataloader, device)"
   ]
  },
  {
   "cell_type": "code",
   "execution_count": null,
   "id": "fa55aa1c-93a7-4696-bc9e-c5f76627dfa3",
   "metadata": {},
   "outputs": [],
   "source": [
    "test_accuracy_mean, test_accuracy_std, auc_mean, auc_std = model_evaluation(model, val_dataloader, classes, device, classifier_name = \"MFCC-CNN\", signal_type = \"denoised\", seed=0)\n",
    "\n",
    "save_fig (\"ROC_curve (acoustic-based)\")"
   ]
  },
  {
   "cell_type": "code",
   "execution_count": null,
   "id": "d4e6a1ce-69a6-4303-b691-8708bed57ea4",
   "metadata": {},
   "outputs": [],
   "source": [
    "yt, yp = class_report(model, val_dataloader, device, classes)"
   ]
  },
  {
   "cell_type": "code",
   "execution_count": null,
   "id": "14e8a280-0af0-4caf-90bc-959d2860b83c",
   "metadata": {},
   "outputs": [],
   "source": [
    "conf_matrix(yt, yp, classes)\n",
    "save_fig(\"confusion_matrix(audio_based)\")"
   ]
  }
 ],
 "metadata": {
  "kernelspec": {
   "display_name": "Python 3 (ipykernel)",
   "language": "python",
   "name": "python3"
  },
  "language_info": {
   "codemirror_mode": {
    "name": "ipython",
    "version": 3
   },
   "file_extension": ".py",
   "mimetype": "text/x-python",
   "name": "python",
   "nbconvert_exporter": "python",
   "pygments_lexer": "ipython3",
   "version": "3.9.16"
  }
 },
 "nbformat": 4,
 "nbformat_minor": 5
}
