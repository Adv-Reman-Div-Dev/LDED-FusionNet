{
 "cells": [
  {
   "cell_type": "markdown",
   "id": "4603377d-50dd-4993-8e80-5c954a37054b",
   "metadata": {
    "tags": []
   },
   "source": [
    "from multiprocessing import set_start_method\n",
    "try:\n",
    "    set_start_method('spawn')\n",
    "except RuntimeError:\n",
    "    pass# L-DED Audiovisual Fusion \n",
    "\n",
    "Author: Chen Lequn.\n",
    "Created on 01 Feb 2023.\n",
    "\n",
    "- Material： Maraging Steel 300\n",
    "- Process: Robotic Llser-directed energy deposition\n",
    "- Experiment number (single bead wall samples): 21-26\n",
    "- Recorded data: position, veolocity, coaxial melt pool images, acoustic data\n",
    "- Defect generated: keyhole pores, cracks, defect-free\n",
    "\n",
    "### Notebook 3: benchmarking on audio dataset\n",
    "\n",
    "- Performances for various deep learning models (VGG, GoogleNet, ResNet, LeNet, etc.) are evaluated and benchmarked on the coaxial melt pool image dataset.\n",
    "- Best performance will guide subsequent multimodal fusion network development."
   ]
  },
  {
   "cell_type": "code",
   "execution_count": 1,
   "id": "dfa9424f-148c-4dc8-a449-478f25f3a804",
   "metadata": {},
   "outputs": [
    {
     "name": "stderr",
     "output_type": "stream",
     "text": [
      "/home/chenlequn/anaconda3/envs/torch/lib/python3.9/site-packages/tqdm/auto.py:22: TqdmWarning: IProgress not found. Please update jupyter and ipywidgets. See https://ipywidgets.readthedocs.io/en/stable/user_install.html\n",
      "  from .autonotebook import tqdm as notebook_tqdm\n"
     ]
    }
   ],
   "source": [
    "import torch\n",
    "import torch.nn as nn\n",
    "import torch.optim as optim\n",
    "import torch.nn.functional as F\n",
    "import torch.backends.cudnn as cudnn\n",
    "import torch.multiprocessing as mp\n",
    "\n",
    "import torchvision\n",
    "import torchaudio\n",
    "import torch.nn as nn\n",
    "import torchvision.transforms as transforms\n",
    "from torch.utils.data import Dataset, DataLoader, random_split, SubsetRandomSampler, WeightedRandomSampler\n",
    "\n",
    "# audio signal augmentation packages\n",
    "import audiomentations\n",
    "import torch_audiomentations\n",
    "from audiomentations import Compose, AddGaussianNoise, HighPassFilter, BandPassFilter, LoudnessNormalization\n",
    "from audiomentations import Normalize, Gain\n",
    "\n",
    "from torch_audiomentations import PolarityInversion\n",
    "\n",
    "import os\n",
    "import argparse\n",
    "from torch.utils.data import Subset\n",
    "import pandas as pd\n",
    "import numpy as np\n",
    "\n",
    "# Scikit learn\n",
    "#from sklearn.model_selection import train_test_split\n",
    "from sklearn.metrics import classification_report, accuracy_score, confusion_matrix\n",
    "from sklearn.preprocessing import LabelEncoder\n",
    "from sklearn.utils import shuffle, resample, class_weight\n",
    "from sklearn.model_selection import GridSearchCV, RandomizedSearchCV\n",
    "from sklearn.model_selection import StratifiedKFold, KFold\n",
    "from sklearn.metrics import roc_curve, auc\n",
    "from sklearn.model_selection import train_test_split, StratifiedShuffleSplit\n",
    "from sklearn.preprocessing import label_binarize\n",
    "\n",
    "from audio_models import * \n",
    "from multimodaldataset import MultimodalDataset, LDEDAudioDataset, LDEDVisionDataset\n",
    "from utils import *\n",
    "from train_utils import train_single_epoch, test_single_epoch, training_loop\n",
    "\n",
    "## plot\n",
    "import matplotlib.pyplot as plt\n",
    "import seaborn as sns\n",
    "import matplotlib as mpl\n",
    "from matplotlib.pyplot import gca\n",
    "mpl.rc('axes', labelsize=14)\n",
    "mpl.rc('xtick', labelsize=12)\n",
    "mpl.rc('ytick', labelsize=12)\n",
    "# plt.rcParams[\"font.family\"] = \"serif\"\n",
    "# plt.rcParams[\"font.serif\"] = \"Times New Roman\"\n",
    "%matplotlib inline\n",
    "import seaborn as sns\n",
    "from itertools import cycle\n",
    "import itertools\n",
    "\n",
    "\n",
    "# Multimodal_dataset_PATH = os.path.join(\"C:\\\\Users\\\\Asus\\\\OneDrive_Chen1470\\\\OneDrive - Nanyang Technological University\\\\Dataset\\\\Multimodal_AM_monitoring\\\\LDED_Acoustic_Visual_Dataset\")\n",
    "Multimodal_dataset_PATH = os.path.join(\"/home/chenlequn/Dataset/LDED_acoustic_visual_monitoring_dataset\")\n",
    "Image_path = os.path.join(Multimodal_dataset_PATH,'Video', 'segmented',  'images')\n",
    "Audio_raw_seg_PATH = os.path.join(Multimodal_dataset_PATH, 'Video', 'segmented', 'raw_audio')\n",
    "Audio_equalized_seg_PATH = os.path.join(Multimodal_dataset_PATH, 'Video', 'segmented', 'equalized_audio')\n",
    "Audio_bandpassed_seg_PATH = os.path.join(Multimodal_dataset_PATH, 'Video', 'segmented', 'bandpassed_audio')\n",
    "Audio_denoised_seg_PATH = os.path.join(Multimodal_dataset_PATH,'Video', 'segmented',  'denoised_audio')\n",
    "\n",
    "AUDIO_DIR = Audio_raw_seg_PATH\n",
    "VISON_DIR = Image_path\n",
    "\n",
    "torch.manual_seed(0)\n",
    "\n",
    "ANNOTATIONS_FILE = os.path.join(Multimodal_dataset_PATH, 'Video', 'segmented', \"visual_acoustic_dataset_annotations_v2.csv\")\n",
    "\n",
    "\n",
    "# classes = ('Defect-free', 'Cracks', 'Keyhole pores', 'Laser-off', 'Laser-start')\n",
    "# classes = ('Laser-off', 'Defect-free', 'Cracks', \"Keyhole pores\")\n",
    "classes = ('Laser-off', 'Defect-free', 'Defective')\n",
    "SAMPLE_RATE = 44100\n",
    "LEARNING_RATE = 0.001\n",
    "BATCH_SIZE = 32\n",
    "EPOCHS = 10"
   ]
  },
  {
   "cell_type": "markdown",
   "id": "a7d98e0d-0199-4454-997d-3db30a5d7ce0",
   "metadata": {},
   "source": [
    "### Utils functions"
   ]
  },
  {
   "cell_type": "code",
   "execution_count": 2,
   "id": "8c4de261-20fc-4031-8f8c-7fcd65eee277",
   "metadata": {},
   "outputs": [],
   "source": [
    "PROJECT_ROOT_DIR = \"../\"\n",
    "IMAGE_PATH = os.path.join(PROJECT_ROOT_DIR, \"result_images\", 'train_audio')\n",
    "os.makedirs(IMAGE_PATH, exist_ok=True)\n",
    "\n",
    "## function for automatically save the diagram/graph into the folder \n",
    "def save_fig(fig_id, tight_layout=True, fig_extension=\"png\", resolution=300):\n",
    "    path = os.path.join(IMAGE_PATH, fig_id + \".\" + fig_extension)\n",
    "    print(\"Saving figure\", fig_id)\n",
    "    if tight_layout:\n",
    "        plt.tight_layout()\n",
    "    plt.savefig(path, format=fig_extension, dpi=resolution)\n",
    "\n",
    "# Ignore useless warnings (see SciPy issue #5998)\n",
    "import warnings\n",
    "warnings.filterwarnings(action=\"ignore\", message=\"^internal gelsd\")\n",
    "\n",
    "plt.rcParams[\"axes.edgecolor\"] = \"black\"\n",
    "plt.rcParams[\"axes.linewidth\"] = 2.50"
   ]
  },
  {
   "cell_type": "markdown",
   "id": "bdb40432-dab8-410b-9b6f-29db62f6d36f",
   "metadata": {},
   "source": [
    "### Use GPU if possible"
   ]
  },
  {
   "cell_type": "code",
   "execution_count": 3,
   "id": "5bc4cba0-eca1-4d20-96c9-8d2ffae56e26",
   "metadata": {},
   "outputs": [
    {
     "name": "stdout",
     "output_type": "stream",
     "text": [
      "Using cuda\n"
     ]
    }
   ],
   "source": [
    "device = 'cuda' if torch.cuda.is_available() else 'cpu'\n",
    "print(f\"Using {device}\")\n",
    "mp.set_start_method(method='forkserver', force=True)"
   ]
  },
  {
   "cell_type": "markdown",
   "id": "d7411379-7ecf-4afd-9a99-31a7e2cbd7ae",
   "metadata": {},
   "source": [
    "### Annotation file\n",
    "\n",
    "- Vision acoustic spatio-temporal registration has been done in our previous work. \n",
    "- Each frame (timestamp) corresponds to a robot TCP position.\n",
    "- The duration for each frame is 0.01 seconds (sampling freqeuncy 10 Hz.)"
   ]
  },
  {
   "cell_type": "code",
   "execution_count": 4,
   "id": "6802a997-ca33-436e-8925-d039eada53e3",
   "metadata": {},
   "outputs": [
    {
     "data": {
      "text/html": [
       "<div>\n",
       "<style scoped>\n",
       "    .dataframe tbody tr th:only-of-type {\n",
       "        vertical-align: middle;\n",
       "    }\n",
       "\n",
       "    .dataframe tbody tr th {\n",
       "        vertical-align: top;\n",
       "    }\n",
       "\n",
       "    .dataframe thead th {\n",
       "        text-align: right;\n",
       "    }\n",
       "</style>\n",
       "<table border=\"1\" class=\"dataframe\">\n",
       "  <thead>\n",
       "    <tr style=\"text-align: right;\">\n",
       "      <th></th>\n",
       "      <th>sample index</th>\n",
       "      <th>audio_file_name</th>\n",
       "      <th>image_file_name</th>\n",
       "      <th>class_name</th>\n",
       "      <th>class_ID</th>\n",
       "      <th>class_name_v2</th>\n",
       "      <th>class_ID_2</th>\n",
       "      <th>Layer number</th>\n",
       "      <th>Sample number</th>\n",
       "    </tr>\n",
       "  </thead>\n",
       "  <tbody>\n",
       "    <tr>\n",
       "      <th>0</th>\n",
       "      <td>0</td>\n",
       "      <td>sample_24_1.wav</td>\n",
       "      <td>sample_24_1.jpg</td>\n",
       "      <td>Crack</td>\n",
       "      <td>2</td>\n",
       "      <td>Defective</td>\n",
       "      <td>2</td>\n",
       "      <td>1</td>\n",
       "      <td>24</td>\n",
       "    </tr>\n",
       "    <tr>\n",
       "      <th>1</th>\n",
       "      <td>1</td>\n",
       "      <td>sample_24_2.wav</td>\n",
       "      <td>sample_24_2.jpg</td>\n",
       "      <td>Defect-free</td>\n",
       "      <td>1</td>\n",
       "      <td>Defect-free</td>\n",
       "      <td>1</td>\n",
       "      <td>1</td>\n",
       "      <td>24</td>\n",
       "    </tr>\n",
       "    <tr>\n",
       "      <th>2</th>\n",
       "      <td>2</td>\n",
       "      <td>sample_24_3.wav</td>\n",
       "      <td>sample_24_3.jpg</td>\n",
       "      <td>Defect-free</td>\n",
       "      <td>1</td>\n",
       "      <td>Defect-free</td>\n",
       "      <td>1</td>\n",
       "      <td>1</td>\n",
       "      <td>24</td>\n",
       "    </tr>\n",
       "    <tr>\n",
       "      <th>3</th>\n",
       "      <td>3</td>\n",
       "      <td>sample_24_4.wav</td>\n",
       "      <td>sample_24_4.jpg</td>\n",
       "      <td>Defect-free</td>\n",
       "      <td>1</td>\n",
       "      <td>Defect-free</td>\n",
       "      <td>1</td>\n",
       "      <td>1</td>\n",
       "      <td>24</td>\n",
       "    </tr>\n",
       "    <tr>\n",
       "      <th>4</th>\n",
       "      <td>4</td>\n",
       "      <td>sample_24_5.wav</td>\n",
       "      <td>sample_24_5.jpg</td>\n",
       "      <td>Defect-free</td>\n",
       "      <td>1</td>\n",
       "      <td>Defect-free</td>\n",
       "      <td>1</td>\n",
       "      <td>1</td>\n",
       "      <td>24</td>\n",
       "    </tr>\n",
       "  </tbody>\n",
       "</table>\n",
       "</div>"
      ],
      "text/plain": [
       "   sample index  audio_file_name  image_file_name   class_name  class_ID  \\\n",
       "0             0  sample_24_1.wav  sample_24_1.jpg        Crack         2   \n",
       "1             1  sample_24_2.wav  sample_24_2.jpg  Defect-free         1   \n",
       "2             2  sample_24_3.wav  sample_24_3.jpg  Defect-free         1   \n",
       "3             3  sample_24_4.wav  sample_24_4.jpg  Defect-free         1   \n",
       "4             4  sample_24_5.wav  sample_24_5.jpg  Defect-free         1   \n",
       "\n",
       "  class_name_v2  class_ID_2  Layer number  Sample number  \n",
       "0     Defective           2             1             24  \n",
       "1   Defect-free           1             1             24  \n",
       "2   Defect-free           1             1             24  \n",
       "3   Defect-free           1             1             24  \n",
       "4   Defect-free           1             1             24  "
      ]
     },
     "execution_count": 4,
     "metadata": {},
     "output_type": "execute_result"
    }
   ],
   "source": [
    "annotations_df = pd.read_csv(ANNOTATIONS_FILE)\n",
    "annotations_df.head()"
   ]
  },
  {
   "cell_type": "code",
   "execution_count": 5,
   "id": "ba5ac429-ca97-4830-a990-fc8f7afa423c",
   "metadata": {},
   "outputs": [
    {
     "name": "stdout",
     "output_type": "stream",
     "text": [
      "[2760 1946  168  652]\n"
     ]
    }
   ],
   "source": [
    "# Get the labels and count the number of samples for each class\n",
    "labels = annotations_df['class_ID'].values\n",
    "label_counts = np.unique(labels, return_counts=True)[1]\n",
    "print (label_counts)"
   ]
  },
  {
   "cell_type": "markdown",
   "id": "3500075d-c4af-4c24-b010-551313b1580e",
   "metadata": {},
   "source": [
    "### Basline accuracy\n",
    "The baseline accuracy in this multi-class classificiation problem is **43%**, which is the accuracy of trivially predicting the most-frequent class (classify to the largest class– in other words)."
   ]
  },
  {
   "cell_type": "code",
   "execution_count": 6,
   "id": "ea8f62e0-21ae-42b5-a624-fd905f72e594",
   "metadata": {},
   "outputs": [
    {
     "data": {
      "text/plain": [
       "class_name\n",
       "Crack             3.0\n",
       "Defect-free      35.2\n",
       "Keyhole pores    11.8\n",
       "Laser-off        49.9\n",
       "Name: class_name_v2, dtype: float64"
      ]
     },
     "execution_count": 6,
     "metadata": {},
     "output_type": "execute_result"
    }
   ],
   "source": [
    "### Get the percentage distribution of each category\n",
    "round(annotations_df.groupby('class_name')[\"class_name_v2\"].count()/annotations_df.shape[0]*100, 1)"
   ]
  },
  {
   "cell_type": "code",
   "execution_count": 7,
   "id": "69a24564-6dff-4804-832a-58ada8e8531f",
   "metadata": {
    "tags": []
   },
   "outputs": [
    {
     "name": "stdout",
     "output_type": "stream",
     "text": [
      "Saving figure dataset\n"
     ]
    },
    {
     "data": {
      "image/png": "[encoded data removed]",
      "text/plain": [
       "<Figure size 700x600 with 1 Axes>"
      ]
     },
     "metadata": {},
     "output_type": "display_data"
    }
   ],
   "source": [
    "# sns.set(style=\"darkgrid\")\n",
    "plt.figure(figsize = (7,6))\n",
    "\n",
    "\n",
    "ax = sns.countplot(x='class_name_v2', data = annotations_df, palette=\"Set1\", linewidth=2,\n",
    "                   edgecolor='k'); #palette='mako' 'Set2'\n",
    "ax.set_xticklabels(ax.get_xticklabels(), rotation=30, ha=\"right\")\n",
    "# ax = sns.countplot(y='label', data = df_dataset_denoised, palette=\"Set2\");\n",
    "\n",
    "\n",
    "ax.set_title('Distribution of LDED vision-audio dataset per category', fontsize = 20, pad=20);\n",
    "ax.set_xlabel(\"Experiment number\",fontsize=18, labelpad=10)\n",
    "ax.set_ylabel(\"Count\",fontsize=18, labelpad=10)\n",
    "ax.tick_params(labelsize=15)\n",
    "\n",
    "save_fig(\"dataset\")"
   ]
  },
  {
   "cell_type": "markdown",
   "id": "d47a91d6-289e-409e-992d-8c17d325f053",
   "metadata": {},
   "source": [
    "## Preparing Dataset and DataLoader"
   ]
  },
  {
   "cell_type": "code",
   "execution_count": 8,
   "id": "f9999bb8-8133-4d6d-91a4-43ea8b0d29a0",
   "metadata": {},
   "outputs": [],
   "source": [
    "#------ transformation------\n",
    "# instantiating our dataset object and create data loader\n",
    "mel_spectrogram = torchaudio.transforms.MelSpectrogram(\n",
    "    sample_rate=SAMPLE_RATE,\n",
    "    n_fft=512,\n",
    "    hop_length=256,\n",
    "    n_mels=32\n",
    ")\n",
    "\n",
    "MFCCs = torchaudio.transforms.MFCC(sample_rate=SAMPLE_RATE,n_mfcc=20)\n",
    "\n",
    "\n",
    "\n",
    "augmentation = Compose(\n",
    "    [\n",
    "       AddGaussianNoise(min_amplitude=0.01, max_amplitude=0.015, p=0.5),\n",
    "       # HighPassFilter(min_cutoff_freq=1000, max_cutoff_freq=21000, p=0.5),\n",
    "       BandPassFilter(min_center_freq=1000, max_center_freq=21000, p=0.5),\n",
    "       # Gain(min_gain_in_db = -2, max_gain_in_db = 2, p=0.5),\n",
    "       Normalize(p=0.5)\n",
    "    ]\n",
    ")\n",
    "\n",
    "\n",
    "# Initialize augmentation callable\n",
    "apply_augmentation = Compose(\n",
    "    transforms=[\n",
    "        Gain(\n",
    "            min_gain_in_db=-15.0,\n",
    "            max_gain_in_db=5.0,\n",
    "            p=0.5,\n",
    "        ),\n",
    "        PolarityInversion(p=0.5)\n",
    "    ]\n",
    ")\n",
    "\n",
    "train_transform = transforms.Compose([\n",
    "    # augmentation,\n",
    "    # apply_augmentation,\n",
    "    # torchaudio.transforms.TimeMasking(time_mask_param=20, p=0.5),  # apply time masking with probability of 0.5\n",
    "    # torchaudio.transforms.FrequencyMasking(freq_mask_param=20),  # apply time masking with probability of 0.5\n",
    "    torchaudio.transforms.MelSpectrogram(sample_rate=SAMPLE_RATE, n_fft=512, hop_length=256, n_mels=32),  # compute Mel-frequency cepstral coefficients (MFCCs)\n",
    "])\n",
    "\n",
    "\n"
   ]
  },
  {
   "cell_type": "code",
   "execution_count": 9,
   "id": "025900b9-a6c3-43b5-86a4-73bbc8c959d1",
   "metadata": {},
   "outputs": [
    {
     "name": "stdout",
     "output_type": "stream",
     "text": [
      "length of the total dataset:5526\n"
     ]
    }
   ],
   "source": [
    "#------ data loader------\n",
    "# create the dataset for all samples\n",
    "audiodataset = LDEDAudioDataset(annotations_df,\n",
    "                                AUDIO_DIR,\n",
    "                                mel_spectrogram,\n",
    "                                # MFCCs,\n",
    "                                # spectral_centroid,\n",
    "                                SAMPLE_RATE,\n",
    "                                device)\n",
    "print (\"length of the total dataset:\" + str(len(audiodataset)))"
   ]
  },
  {
   "cell_type": "markdown",
   "id": "5db0fb70-fbf1-46e3-9ea9-513b9f50a4d8",
   "metadata": {
    "tags": []
   },
   "source": [
    "### Dealing with Imbalanced dataset: stratified sampling\n",
    "\n",
    "- Split the data into train, validation, and test set\n",
    "- Train and Val are used for hyperparameter tuning\n",
    "- Train set will go through some data augmentation"
   ]
  },
  {
   "cell_type": "code",
   "execution_count": 10,
   "id": "bfc8b6f7-0573-489d-961c-9d9aef5df6c1",
   "metadata": {},
   "outputs": [],
   "source": [
    "# Split the data into train and validation datasets\n",
    "# train_annotations, val_annotations = train_test_split(annotations_df, test_size=0.2)\n",
    "# create the StratifiedShuffleSplit object\n",
    "sss = StratifiedShuffleSplit(n_splits=1, test_size=0.2, random_state=0)\n",
    "\n",
    "# split the indices of annotations into train and test sets\n",
    "train_indices, test_indices = next(sss.split(annotations_df, labels))\n",
    "\n",
    "# split the data into train and test sets\n",
    "train_annotations = annotations_df.iloc[train_indices, :]\n",
    "test_annotations = annotations_df.iloc[test_indices, :]\n",
    "\n",
    "# Create the train and validation datasets\n",
    "train_dataset = LDEDAudioDataset(train_annotations,\n",
    "                                 AUDIO_DIR,\n",
    "                                 mel_spectrogram,\n",
    "                                 SAMPLE_RATE,\n",
    "                                 device=device)\n",
    "\n",
    "val_dataset = LDEDAudioDataset(test_annotations,\n",
    "                               AUDIO_DIR,\n",
    "                               mel_spectrogram,\n",
    "                               SAMPLE_RATE,\n",
    "                               device=device)"
   ]
  },
  {
   "cell_type": "markdown",
   "id": "0f8db309-f1a4-4194-9583-0eab9c2289d2",
   "metadata": {},
   "source": [
    "### Create DataLoader using the dataset"
   ]
  },
  {
   "cell_type": "code",
   "execution_count": 11,
   "id": "356ab5bf-d7bc-46d1-a8b6-ce5a9399b768",
   "metadata": {},
   "outputs": [
    {
     "name": "stdout",
     "output_type": "stream",
     "text": [
      "length of the train dataset:4420\n",
      "length of the val dataset:1106\n"
     ]
    }
   ],
   "source": [
    "# # Create train and val dataloaders\n",
    "train_dataloader = DataLoader(train_dataset, batch_size=BATCH_SIZE, shuffle=True, num_workers=4)\n",
    "val_dataloader = DataLoader(val_dataset, batch_size=BATCH_SIZE, shuffle=False, num_workers=4)\n",
    "# test_dataloader = DataLoader(test_dataset, batch_size=BATCH_SIZE, shuffle=False)\n",
    "\n",
    "print(\"length of the train dataset:\" +  str(len(train_dataloader.dataset)))\n",
    "print(\"length of the val dataset:\" +  str(len(val_dataloader.dataset)))\n",
    "# print(\"length of the test dataset:\" +  str(len(test_dataloader.dataset)))"
   ]
  },
  {
   "cell_type": "markdown",
   "id": "5913b721-5e90-47f2-9de9-6c085006982b",
   "metadata": {},
   "source": [
    "## Training the model"
   ]
  },
  {
   "cell_type": "code",
   "execution_count": 12,
   "id": "1689725d-94f4-4cbb-bfe9-f42c1c49c89e",
   "metadata": {},
   "outputs": [],
   "source": [
    "resume = False\n",
    "start_epoch = 0\n",
    "best_acc = 0"
   ]
  },
  {
   "cell_type": "code",
   "execution_count": 13,
   "id": "478dceec-22ae-4066-82d7-c4b51ddba2e3",
   "metadata": {
    "tags": []
   },
   "outputs": [
    {
     "name": "stdout",
     "output_type": "stream",
     "text": [
      "==> Building model..\n",
      "--- Using CUDA ---\n",
      "\n",
      "Epoch: 0\n"
     ]
    },
    {
     "name": "stderr",
     "output_type": "stream",
     "text": [
      "Epoch 0: 100%|█████| 139/139 [00:20<00:00,  6.80it/s, loss=0.778, accuracy=77.3]\n",
      "Epoch 0:   0%|                | 0/35 [00:12<?, ?it/s, loss=0.733, accuracy=81.5]\n"
     ]
    },
    {
     "name": "stdout",
     "output_type": "stream",
     "text": [
      "18:05:22 --- Epoch: 0\tTrain loss: 0.7764\tValid loss: 0.0232\tTrain accuracy: 77.26\tValid accuracy: 81.46\n",
      "\n",
      "Epoch: 1\n"
     ]
    },
    {
     "name": "stderr",
     "output_type": "stream",
     "text": [
      "Epoch 1: 100%|███████| 139/139 [00:19<00:00,  7.28it/s, loss=0.742, accuracy=81]\n",
      "Epoch 1:   0%|                | 0/35 [00:12<?, ?it/s, loss=0.727, accuracy=82.4]\n"
     ]
    },
    {
     "name": "stdout",
     "output_type": "stream",
     "text": [
      "18:05:53 --- Epoch: 1\tTrain loss: 0.7415\tValid loss: 0.0230\tTrain accuracy: 81.04\tValid accuracy: 82.37\n",
      "\n",
      "Epoch: 2\n"
     ]
    },
    {
     "name": "stderr",
     "output_type": "stream",
     "text": [
      "Epoch 2: 100%|█████| 139/139 [00:21<00:00,  6.33it/s, loss=0.738, accuracy=81.3]\n",
      "Epoch 2:   0%|                | 0/35 [00:11<?, ?it/s, loss=0.726, accuracy=82.5]\n"
     ]
    },
    {
     "name": "stdout",
     "output_type": "stream",
     "text": [
      "18:06:27 --- Epoch: 2\tTrain loss: 0.7382\tValid loss: 0.0230\tTrain accuracy: 81.29\tValid accuracy: 82.46\n",
      "\n",
      "Epoch: 3\n"
     ]
    },
    {
     "name": "stderr",
     "output_type": "stream",
     "text": [
      "Epoch 3: 100%|█████| 139/139 [00:18<00:00,  7.56it/s, loss=0.739, accuracy=81.1]\n",
      "Epoch 3:   0%|                   | 0/35 [00:10<?, ?it/s, loss=0.73, accuracy=82]\n"
     ]
    },
    {
     "name": "stdout",
     "output_type": "stream",
     "text": [
      "18:06:56 --- Epoch: 3\tTrain loss: 0.7402\tValid loss: 0.0231\tTrain accuracy: 81.11\tValid accuracy: 82.01\n",
      "\n",
      "Epoch: 4\n"
     ]
    },
    {
     "name": "stderr",
     "output_type": "stream",
     "text": [
      "Epoch 4: 100%|█████| 139/139 [00:19<00:00,  7.20it/s, loss=0.733, accuracy=81.9]\n",
      "Epoch 4:   0%|                 | 0/35 [00:11<?, ?it/s, loss=0.75, accuracy=80.1]\n"
     ]
    },
    {
     "name": "stdout",
     "output_type": "stream",
     "text": [
      "18:07:27 --- Epoch: 4\tTrain loss: 0.7328\tValid loss: 0.0237\tTrain accuracy: 81.86\tValid accuracy: 80.11\n",
      "\n",
      "Epoch: 5\n"
     ]
    },
    {
     "name": "stderr",
     "output_type": "stream",
     "text": [
      "Epoch 5: 100%|█████| 139/139 [00:18<00:00,  7.41it/s, loss=0.735, accuracy=81.7]\n",
      "Epoch 5:   0%|                | 0/35 [00:10<?, ?it/s, loss=0.729, accuracy=82.1]\n"
     ]
    },
    {
     "name": "stdout",
     "output_type": "stream",
     "text": [
      "18:07:56 --- Epoch: 5\tTrain loss: 0.7344\tValid loss: 0.0231\tTrain accuracy: 81.67\tValid accuracy: 82.10\n",
      "\n",
      "Epoch: 6\n"
     ]
    },
    {
     "name": "stderr",
     "output_type": "stream",
     "text": [
      "Epoch 6: 100%|█████| 139/139 [00:17<00:00,  7.92it/s, loss=0.734, accuracy=82.1]\n",
      "Epoch 6:   0%|                | 0/35 [00:11<?, ?it/s, loss=0.724, accuracy=82.7]\n"
     ]
    },
    {
     "name": "stdout",
     "output_type": "stream",
     "text": [
      "18:08:26 --- Epoch: 6\tTrain loss: 0.7306\tValid loss: 0.0229\tTrain accuracy: 82.10\tValid accuracy: 82.73\n",
      "\n",
      "Epoch: 7\n"
     ]
    },
    {
     "name": "stderr",
     "output_type": "stream",
     "text": [
      "Epoch 7: 100%|█████| 139/139 [00:18<00:00,  7.34it/s, loss=0.735, accuracy=81.7]\n",
      "Epoch 7:   0%|                | 0/35 [00:14<?, ?it/s, loss=0.723, accuracy=82.7]\n"
     ]
    },
    {
     "name": "stdout",
     "output_type": "stream",
     "text": [
      "18:08:59 --- Epoch: 7\tTrain loss: 0.7343\tValid loss: 0.0229\tTrain accuracy: 81.72\tValid accuracy: 82.73\n",
      "\n",
      "Epoch: 8\n"
     ]
    },
    {
     "name": "stderr",
     "output_type": "stream",
     "text": [
      "Epoch 8: 100%|█████| 139/139 [00:16<00:00,  8.37it/s, loss=0.734, accuracy=81.8]\n",
      "Epoch 8:   0%|                | 0/35 [00:14<?, ?it/s, loss=0.722, accuracy=82.9]\n"
     ]
    },
    {
     "name": "stdout",
     "output_type": "stream",
     "text": [
      "18:09:30 --- Epoch: 8\tTrain loss: 0.7340\tValid loss: 0.0228\tTrain accuracy: 81.76\tValid accuracy: 82.91\n",
      "\n",
      "Epoch: 9\n"
     ]
    },
    {
     "name": "stderr",
     "output_type": "stream",
     "text": [
      "Epoch 9: 100%|█████| 139/139 [00:18<00:00,  7.61it/s, loss=0.726, accuracy=82.5]\n",
      "Epoch 9:   0%|                | 0/35 [00:10<?, ?it/s, loss=0.728, accuracy=82.2]\n"
     ]
    },
    {
     "name": "stdout",
     "output_type": "stream",
     "text": [
      "18:09:59 --- Epoch: 9\tTrain loss: 0.7270\tValid loss: 0.0230\tTrain accuracy: 82.47\tValid accuracy: 82.19\n",
      "\n",
      "Epoch: 10\n"
     ]
    },
    {
     "name": "stderr",
     "output_type": "stream",
     "text": [
      "Epoch 10: 100%|████| 139/139 [00:23<00:00,  5.99it/s, loss=0.727, accuracy=82.6]\n",
      "Epoch 10:   0%|               | 0/35 [00:11<?, ?it/s, loss=0.722, accuracy=82.9]\n"
     ]
    },
    {
     "name": "stdout",
     "output_type": "stream",
     "text": [
      "18:10:34 --- Epoch: 10\tTrain loss: 0.7261\tValid loss: 0.0228\tTrain accuracy: 82.58\tValid accuracy: 82.91\n",
      "\n",
      "Epoch: 11\n"
     ]
    },
    {
     "name": "stderr",
     "output_type": "stream",
     "text": [
      "Epoch 11: 100%|████| 139/139 [00:19<00:00,  7.29it/s, loss=0.726, accuracy=82.4]\n",
      "Epoch 11:   0%|                                          | 0/35 [00:00<?, ?it/s]\n",
      "KeyboardInterrupt\n",
      "\n"
     ]
    }
   ],
   "source": [
    "# -----Model---------------\n",
    "print('==> Building model..')\n",
    "\n",
    "net = MFCCCNN() \n",
    "\n",
    "net = net.to(device)\n",
    "if device == 'cuda':\n",
    "    net = torch.nn.DataParallel(net)\n",
    "    cudnn.benchmark = True\n",
    "    print (\"--- Using CUDA ---\")\n",
    "\n",
    "if resume:\n",
    "    # Load checkpoint.\n",
    "    print('==> Resuming from checkpoint..')\n",
    "    assert os.path.isdir('checkpoint'), 'Error: no checkpoint directory found!'\n",
    "    checkpoint = torch.load('./checkpoint/ckpt.pth')\n",
    "    net.load_state_dict(checkpoint['net'])\n",
    "    best_acc = checkpoint['acc']\n",
    "    start_epoch = checkpoint['epoch']\n",
    "\n",
    "loss_fn = nn.CrossEntropyLoss()\n",
    "# Note: weight_decay in pytorch is L2 regularization\n",
    "# optimizer = optim.SGD(net.parameters(), lr=LEARNING_RATE,\n",
    "#                     momentum=0.9, weight_decay=5e-4)\n",
    "optimizer = optim.Adam(net.parameters(), lr=LEARNING_RATE, weight_decay=5e-4)\n",
    "scheduler = torch.optim.lr_scheduler.CosineAnnealingLR(optimizer, T_max=200)\n",
    "\n",
    "\n",
    "# for epoch in range(start_epoch, start_epoch+EPOCHS):\n",
    "    # train_single_epoch(net, epoch, train_dataloader, loss_fn, optimizer, device)\n",
    "    # test_single_epoch(net, epoch, val_dataloader, loss_fn, device)\n",
    "    # scheduler.step()\n",
    "\n",
    "model, optimizer, (train_losses, valid_losses, train_accuracy, valid_accuracy) = training_loop(net, loss_fn, optimizer, train_dataloader, val_dataloader, EPOCHS, scheduler, device)"
   ]
  },
  {
   "cell_type": "code",
   "execution_count": null,
   "id": "97901149-558c-4241-b6d3-9f8389f3ec1f",
   "metadata": {},
   "outputs": [],
   "source": [
    "valid_accuracy"
   ]
  },
  {
   "cell_type": "code",
   "execution_count": null,
   "id": "ab7210cd-ecf4-4c73-8bd0-24c22829334c",
   "metadata": {},
   "outputs": [],
   "source": [
    "loss_acc_plot(train_losses, valid_losses, train_accuracy, valid_accuracy, 20, \"Initial Training\",\n",
    "              interval=5, yloss_limit1=0, yloss_limit2=0.8, yacc_limit1=70, yacc_limit2=100)\n",
    "\n",
    "save_fig (\"train_lost_curve_visual\")"
   ]
  },
  {
   "cell_type": "code",
   "execution_count": null,
   "id": "433ed0ce-439c-479d-9945-5f77bfb629d6",
   "metadata": {},
   "outputs": [],
   "source": [
    "get_accuracy(model, val_dataloader, device)"
   ]
  },
  {
   "cell_type": "code",
   "execution_count": null,
   "id": "fa55aa1c-93a7-4696-bc9e-c5f76627dfa3",
   "metadata": {},
   "outputs": [],
   "source": [
    "test_accuracy_mean, test_accuracy_std, auc_mean, auc_std = model_evaluation(model, val_dataloader, classes, device, classifier_name = \"MFCC-CNN\", signal_type = \"denoised\", seed=0)\n",
    "\n",
    "save_fig (\"ROC_curve (acoustic-based)\")"
   ]
  },
  {
   "cell_type": "code",
   "execution_count": null,
   "id": "d4e6a1ce-69a6-4303-b691-8708bed57ea4",
   "metadata": {},
   "outputs": [],
   "source": [
    "yt, yp = class_report(model, val_dataloader, device, classes)"
   ]
  },
  {
   "cell_type": "code",
   "execution_count": null,
   "id": "14e8a280-0af0-4caf-90bc-959d2860b83c",
   "metadata": {},
   "outputs": [],
   "source": [
    "conf_matrix(yt, yp, classes)\n",
    "save_fig(\"confusion_matrix(audio_based)\")"
   ]
  }
 ],
 "metadata": {
  "kernelspec": {
   "display_name": "Python 3 (ipykernel)",
   "language": "python",
   "name": "python3"
  },
  "language_info": {
   "codemirror_mode": {
    "name": "ipython",
    "version": 3
   },
   "file_extension": ".py",
   "mimetype": "text/x-python",
   "name": "python",
   "nbconvert_exporter": "python",
   "pygments_lexer": "ipython3",
   "version": "3.9.16"
  }
 },
 "nbformat": 4,
 "nbformat_minor": 5
}
