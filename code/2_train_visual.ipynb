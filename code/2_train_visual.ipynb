{
 "cells": [
  {
   "cell_type": "markdown",
   "id": "f8aac515-40f0-4fc5-ad7f-49c7a1811409",
   "metadata": {
    "tags": []
   },
   "source": [
    "# L-DED Audiovisual Fusion \n",
    "\n",
    "Author: Chen Lequn.\n",
    "Created on 01 Feb 2023.\n",
    "\n",
    "- Material： Maraging Steel 300\n",
    "- Process: Robotic Llser-directed energy deposition\n",
    "- Experiment number (single bead wall samples): 21-26\n",
    "- Recorded data: position, veolocity, coaxial melt pool images, acoustic data\n",
    "- Defect generated: keyhole pores, cracks, defect-free\n",
    "\n",
    "### Notebook 2: benchmarking on coaxial vision dataset\n",
    "\n",
    "- Performances for various deep learning models (VGG, GoogleNet, ResNet, LeNet, etc.) are evaluated and benchmarked on the coaxial melt pool image dataset.\n",
    "- Best performance will guide subsequent multimodal fusion network development."
   ]
  },
  {
   "cell_type": "code",
   "execution_count": 1,
   "id": "15f5b265-a77f-4440-8cb9-0be328194d69",
   "metadata": {},
   "outputs": [
    {
     "name": "stderr",
     "output_type": "stream",
     "text": [
      "/home/chenlequn/anaconda3/envs/torch/lib/python3.9/site-packages/tqdm/auto.py:22: TqdmWarning: IProgress not found. Please update jupyter and ipywidgets. See https://ipywidgets.readthedocs.io/en/stable/user_install.html\n",
      "  from .autonotebook import tqdm as notebook_tqdm\n"
     ]
    }
   ],
   "source": [
    "import torch\n",
    "import torch.nn as nn\n",
    "import torch.optim as optim\n",
    "import torch.nn.functional as F\n",
    "import torch.backends.cudnn as cudnn\n",
    "\n",
    "import torchvision\n",
    "import torchvision.transforms as transforms\n",
    "from torch.utils.data import Dataset, DataLoader, random_split, SubsetRandomSampler, WeightedRandomSampler\n",
    "\n",
    "import os\n",
    "import argparse\n",
    "from torch.utils.data import Subset\n",
    "import pandas as pd\n",
    "import numpy as np\n",
    "\n",
    "# Scikit learn\n",
    "#from sklearn.model_selection import train_test_split\n",
    "from sklearn.metrics import classification_report, accuracy_score, confusion_matrix\n",
    "from sklearn.preprocessing import LabelEncoder\n",
    "from sklearn.utils import shuffle, resample, class_weight\n",
    "from sklearn.model_selection import GridSearchCV, RandomizedSearchCV\n",
    "from sklearn.model_selection import StratifiedKFold, KFold\n",
    "from sklearn.metrics import roc_curve, auc\n",
    "from sklearn.model_selection import train_test_split, StratifiedShuffleSplit\n",
    "\n",
    "from vision_models import * \n",
    "from multimodaldataset import MultimodalDataset, LDEDAudioDataset, LDEDVisionDataset\n",
    "from utils import *\n",
    "from train_utils import train_single_epoch, test_single_epoch, training_loop\n",
    "\n",
    "## plot\n",
    "import matplotlib.pyplot as plt\n",
    "import seaborn as sns\n",
    "import matplotlib as mpl\n",
    "mpl.rc('axes', labelsize=14)\n",
    "mpl.rc('xtick', labelsize=12)\n",
    "mpl.rc('ytick', labelsize=12)\n",
    "# plt.rcParams[\"font.family\"] = \"serif\"\n",
    "# plt.rcParams[\"font.serif\"] = \"Times New Roman\"\n",
    "%matplotlib inline\n",
    "import seaborn as sns\n",
    "\n",
    "# Multimodal_dataset_PATH = os.path.join(\"C:\\\\Users\\\\Asus\\\\OneDrive_Chen1470\\\\OneDrive - Nanyang Technological University\\\\Dataset\\\\Multimodal_AM_monitoring\\\\LDED_Acoustic_Visual_Dataset\")\n",
    "Multimodal_dataset_PATH = os.path.join(\"/home/chenlequn/Dataset/LDED_acoustic_visual_monitoring_dataset\")\n",
    "Image_path = os.path.join(Multimodal_dataset_PATH,'Video', 'segmented',  'images')\n",
    "Audio_raw_seg_PATH = os.path.join(Multimodal_dataset_PATH, 'Video', 'segmented', 'raw_audio')\n",
    "Audio_equalized_seg_PATH = os.path.join(Multimodal_dataset_PATH, 'Video', 'segmented', 'equalized_audio')\n",
    "Audio_bandpassed_seg_PATH = os.path.join(Multimodal_dataset_PATH, 'Video', 'segmented', 'bandpassed_audio')\n",
    "Audio_denoised_seg_PATH = os.path.join(Multimodal_dataset_PATH,'Video', 'segmented',  'denoised_audio')\n",
    "\n",
    "AUDIO_DIR = Audio_denoised_seg_PATH\n",
    "VISON_DIR = Image_path\n",
    "\n",
    "torch.manual_seed(0)\n",
    "\n",
    "ANNOTATIONS_FILE = os.path.join(Multimodal_dataset_PATH, 'Video', 'segmented', \"visual_acoustic_dataset_annotations.csv\")\n",
    "\n",
    "\n",
    "# classes = ('Defect-free', 'Cracks', 'Keyhole pores', 'Laser-off', 'Laser-start')\n",
    "classes = ('Laser-off', 'Defect-free', 'Cracks', \"Keyhole pores\")\n",
    "# classes = ('Laser-off', 'Defect-free', 'Defective')\n",
    "SAMPLE_RATE = 44100\n",
    "LEARNING_RATE = 0.0001\n",
    "BATCH_SIZE = 16\n",
    "EPOCHS = 10"
   ]
  },
  {
   "cell_type": "markdown",
   "id": "bea9805f-91a7-4b62-bd59-e80f0f97d40e",
   "metadata": {},
   "source": [
    "### Utils functions"
   ]
  },
  {
   "cell_type": "code",
   "execution_count": 2,
   "id": "363418fa-80c7-4933-b728-4079f921e5a8",
   "metadata": {},
   "outputs": [],
   "source": [
    "PROJECT_ROOT_DIR = \"../\"\n",
    "IMAGE_PATH = os.path.join(PROJECT_ROOT_DIR, \"result_images\", 'train_visual')\n",
    "os.makedirs(IMAGE_PATH, exist_ok=True)\n",
    "\n",
    "## function for automatically save the diagram/graph into the folder \n",
    "def save_fig(fig_id, tight_layout=True, fig_extension=\"png\", resolution=300):\n",
    "    path = os.path.join(IMAGE_PATH, fig_id + \".\" + fig_extension)\n",
    "    print(\"Saving figure\", fig_id)\n",
    "    if tight_layout:\n",
    "        plt.tight_layout()\n",
    "    plt.savefig(path, format=fig_extension, dpi=resolution)\n",
    "\n",
    "# Ignore useless warnings (see SciPy issue #5998)\n",
    "import warnings\n",
    "warnings.filterwarnings(action=\"ignore\", message=\"^internal gelsd\")\n",
    "\n",
    "plt.rcParams[\"axes.edgecolor\"] = \"black\"\n",
    "plt.rcParams[\"axes.linewidth\"] = 2.50"
   ]
  },
  {
   "cell_type": "markdown",
   "id": "561c9c9a-336e-4c28-82d3-6df8c57f94b0",
   "metadata": {},
   "source": [
    "### Use GPU if possible"
   ]
  },
  {
   "cell_type": "code",
   "execution_count": 3,
   "id": "36a76d49-c958-4fc5-b061-c7bd029016aa",
   "metadata": {},
   "outputs": [
    {
     "name": "stdout",
     "output_type": "stream",
     "text": [
      "Using cpu\n"
     ]
    },
    {
     "name": "stderr",
     "output_type": "stream",
     "text": [
      "/home/chenlequn/anaconda3/envs/torch/lib/python3.9/site-packages/torch/cuda/__init__.py:88: UserWarning: CUDA initialization: CUDA unknown error - this may be due to an incorrectly set up environment, e.g. changing env variable CUDA_VISIBLE_DEVICES after program start. Setting the available devices to be zero. (Triggered internally at ../c10/cuda/CUDAFunctions.cpp:109.)\n",
      "  return torch._C._cuda_getDeviceCount() > 0\n"
     ]
    }
   ],
   "source": [
    "device = 'cuda' if torch.cuda.is_available() else 'cpu'\n",
    "print(f\"Using {device}\")"
   ]
  },
  {
   "cell_type": "markdown",
   "id": "ee4b346d-e289-4b73-8f9c-e230eed0eb64",
   "metadata": {},
   "source": [
    "### Annotation file\n",
    "\n",
    "- Vision acoustic spatio-temporal registration has been done in our previous work. \n",
    "- Each frame (timestamp) corresponds to a robot TCP position.\n",
    "- The duration for each frame is 0.033 seconds (sampling freqeuncy 30 Hz.)"
   ]
  },
  {
   "cell_type": "code",
   "execution_count": 4,
   "id": "1242f763-f544-46ac-b161-3da92dd3357b",
   "metadata": {},
   "outputs": [
    {
     "data": {
      "text/html": [
       "<div>\n",
       "<style scoped>\n",
       "    .dataframe tbody tr th:only-of-type {\n",
       "        vertical-align: middle;\n",
       "    }\n",
       "\n",
       "    .dataframe tbody tr th {\n",
       "        vertical-align: top;\n",
       "    }\n",
       "\n",
       "    .dataframe thead th {\n",
       "        text-align: right;\n",
       "    }\n",
       "</style>\n",
       "<table border=\"1\" class=\"dataframe\">\n",
       "  <thead>\n",
       "    <tr style=\"text-align: right;\">\n",
       "      <th></th>\n",
       "      <th>sample index</th>\n",
       "      <th>audio_file_name</th>\n",
       "      <th>image_file_name</th>\n",
       "      <th>class_name</th>\n",
       "      <th>class_ID</th>\n",
       "      <th>class_name_v2</th>\n",
       "      <th>class_ID_2</th>\n",
       "      <th>Layer number</th>\n",
       "    </tr>\n",
       "  </thead>\n",
       "  <tbody>\n",
       "    <tr>\n",
       "      <th>0</th>\n",
       "      <td>0</td>\n",
       "      <td>sample_24_1.wav</td>\n",
       "      <td>sample_24_1.jpg</td>\n",
       "      <td>Crack</td>\n",
       "      <td>2</td>\n",
       "      <td>NaN</td>\n",
       "      <td>NaN</td>\n",
       "      <td>1</td>\n",
       "    </tr>\n",
       "    <tr>\n",
       "      <th>1</th>\n",
       "      <td>1</td>\n",
       "      <td>sample_24_2.wav</td>\n",
       "      <td>sample_24_2.jpg</td>\n",
       "      <td>Defect-free</td>\n",
       "      <td>1</td>\n",
       "      <td>NaN</td>\n",
       "      <td>NaN</td>\n",
       "      <td>1</td>\n",
       "    </tr>\n",
       "    <tr>\n",
       "      <th>2</th>\n",
       "      <td>2</td>\n",
       "      <td>sample_24_3.wav</td>\n",
       "      <td>sample_24_3.jpg</td>\n",
       "      <td>Defect-free</td>\n",
       "      <td>1</td>\n",
       "      <td>NaN</td>\n",
       "      <td>NaN</td>\n",
       "      <td>1</td>\n",
       "    </tr>\n",
       "    <tr>\n",
       "      <th>3</th>\n",
       "      <td>3</td>\n",
       "      <td>sample_24_4.wav</td>\n",
       "      <td>sample_24_4.jpg</td>\n",
       "      <td>Defect-free</td>\n",
       "      <td>1</td>\n",
       "      <td>NaN</td>\n",
       "      <td>NaN</td>\n",
       "      <td>1</td>\n",
       "    </tr>\n",
       "    <tr>\n",
       "      <th>4</th>\n",
       "      <td>4</td>\n",
       "      <td>sample_24_5.wav</td>\n",
       "      <td>sample_24_5.jpg</td>\n",
       "      <td>Defect-free</td>\n",
       "      <td>1</td>\n",
       "      <td>NaN</td>\n",
       "      <td>NaN</td>\n",
       "      <td>1</td>\n",
       "    </tr>\n",
       "  </tbody>\n",
       "</table>\n",
       "</div>"
      ],
      "text/plain": [
       "   sample index  audio_file_name  image_file_name   class_name  class_ID  \\\n",
       "0             0  sample_24_1.wav  sample_24_1.jpg        Crack         2   \n",
       "1             1  sample_24_2.wav  sample_24_2.jpg  Defect-free         1   \n",
       "2             2  sample_24_3.wav  sample_24_3.jpg  Defect-free         1   \n",
       "3             3  sample_24_4.wav  sample_24_4.jpg  Defect-free         1   \n",
       "4             4  sample_24_5.wav  sample_24_5.jpg  Defect-free         1   \n",
       "\n",
       "   class_name_v2  class_ID_2  Layer number  \n",
       "0            NaN         NaN             1  \n",
       "1            NaN         NaN             1  \n",
       "2            NaN         NaN             1  \n",
       "3            NaN         NaN             1  \n",
       "4            NaN         NaN             1  "
      ]
     },
     "execution_count": 4,
     "metadata": {},
     "output_type": "execute_result"
    }
   ],
   "source": [
    "annotations_df = pd.read_csv(ANNOTATIONS_FILE)\n",
    "annotations_df.head()"
   ]
  },
  {
   "cell_type": "code",
   "execution_count": 5,
   "id": "3e81a204-f684-498b-a9b6-c5af79ea5ff3",
   "metadata": {},
   "outputs": [
    {
     "name": "stdout",
     "output_type": "stream",
     "text": [
      "[3266 1192   61  146]\n"
     ]
    }
   ],
   "source": [
    "# Get the labels and count the number of samples for each class\n",
    "labels = annotations_df['class_ID'].values\n",
    "label_counts = np.unique(labels, return_counts=True)[1]\n",
    "print (label_counts)"
   ]
  },
  {
   "cell_type": "markdown",
   "id": "6e2883e3-6ae0-43a0-bf68-5a085dc55b64",
   "metadata": {},
   "source": [
    "### Basline accuracy\n",
    "The baseline accuracy in this multi-class classificiation problem is **43%**, which is the accuracy of trivially predicting the most-frequent class (classify to the largest class– in other words)."
   ]
  },
  {
   "cell_type": "code",
   "execution_count": 6,
   "id": "79b09d68-fe7f-4516-857c-e3124f9656e5",
   "metadata": {},
   "outputs": [
    {
     "data": {
      "text/plain": [
       "class_ID\n",
       "0    70.0\n",
       "1    25.6\n",
       "2     1.3\n",
       "3     3.1\n",
       "Name: class_ID, dtype: float64"
      ]
     },
     "execution_count": 6,
     "metadata": {},
     "output_type": "execute_result"
    }
   ],
   "source": [
    "### Get the percentage distribution of each category\n",
    "round(annotations_df.groupby('class_ID')[\"class_ID\"].count()/annotations_df.shape[0]*100, 1)"
   ]
  },
  {
   "cell_type": "code",
   "execution_count": 7,
   "id": "a9f747b1-1974-49c7-b880-aa8f5011600e",
   "metadata": {},
   "outputs": [
    {
     "name": "stdout",
     "output_type": "stream",
     "text": [
      "Saving figure dataset\n"
     ]
    },
    {
     "data": {
      "image/png": "[encoded data removed]",
      "text/plain": [
       "<Figure size 700x600 with 1 Axes>"
      ]
     },
     "metadata": {},
     "output_type": "display_data"
    }
   ],
   "source": [
    "# sns.set(style=\"darkgrid\")\n",
    "plt.figure(figsize = (7,6))\n",
    "\n",
    "\n",
    "ax = sns.countplot(x='class_name', data = annotations_df, palette=\"Set1\", linewidth=2,\n",
    "                   edgecolor='k'); #palette='mako' 'Set2'\n",
    "ax.set_xticklabels(ax.get_xticklabels(), rotation=30, ha=\"right\")\n",
    "# ax = sns.countplot(y='label', data = df_dataset_denoised, palette=\"Set2\");\n",
    "\n",
    "\n",
    "ax.set_title('Distribution of LDED vision-audio dataset per category', fontsize = 20, pad=20);\n",
    "ax.set_xlabel(\"Experiment number\",fontsize=18, labelpad=10)\n",
    "ax.set_ylabel(\"Count\",fontsize=18, labelpad=10)\n",
    "ax.tick_params(labelsize=15)\n",
    "\n",
    "save_fig(\"dataset\")"
   ]
  },
  {
   "cell_type": "markdown",
   "id": "36eecc2d-2359-46c1-b436-4aa01ca573d3",
   "metadata": {},
   "source": [
    "## Preparing Dataset and DataLoader"
   ]
  },
  {
   "cell_type": "code",
   "execution_count": 8,
   "id": "8e3fba84-b019-4257-91f7-d2b5c9e8d323",
   "metadata": {},
   "outputs": [],
   "source": [
    "#------ transformation------\n",
    "train_transforms=transforms.Compose([\n",
    "    torchvision.transforms.Resize((32,32)), # original image size: (640,480)\n",
    "    transforms.RandomHorizontalFlip(),  # data augmentation\n",
    "    transforms.RandomVerticalFlip(p=0.5),\n",
    "    transforms.RandomRotation(degrees=90),\n",
    "    transforms.ToTensor(),\n",
    "    transforms.Normalize(mean=[136.20371045013258], std=[61.9731240029325]),\n",
    "])\n",
    "\n",
    "val_transforms=transforms.Compose([\n",
    "    torchvision.transforms.Resize((32,32)), # original image size: (640,480)\n",
    "    transforms.ToTensor(),\n",
    "    transforms.Normalize(mean=[136.20371045013258], std=[61.9731240029325]),\n",
    "])"
   ]
  },
  {
   "cell_type": "code",
   "execution_count": 9,
   "id": "d92dcd22-0efa-4dfc-b923-8b3dbbd9fb10",
   "metadata": {},
   "outputs": [
    {
     "name": "stdout",
     "output_type": "stream",
     "text": [
      "length of the total dataset:4665\n"
     ]
    }
   ],
   "source": [
    "#------ data loader------\n",
    "# create the dataset for all samples\n",
    "visiondataset = LDEDVisionDataset(annotations_df,\n",
    "                                  VISON_DIR,\n",
    "                                  train_transforms,\n",
    "                                  device)\n",
    "print (\"length of the total dataset:\" + str(len(visiondataset)))"
   ]
  },
  {
   "cell_type": "markdown",
   "id": "e625fa70-48b6-42b4-897e-932e1a93337d",
   "metadata": {},
   "source": [
    "### Dealing with Imbalanced dataset: stratified sampling\n",
    "\n",
    "- Split the data into train, validation, and test set (or only train/val set, depending on the data volume)\n",
    "- Train and Val are used for hyperparameter tuning\n",
    "- Train set will go through data augmentation"
   ]
  },
  {
   "cell_type": "code",
   "execution_count": 10,
   "id": "a03b9337-9d42-4612-8f96-16953fae6ffa",
   "metadata": {},
   "outputs": [],
   "source": [
    "# Split the data into train and validation datasets\n",
    "# train_annotations, val_annotations = train_test_split(annotations_df, test_size=0.2)\n",
    "# create the StratifiedShuffleSplit object\n",
    "sss = StratifiedShuffleSplit(n_splits=1, test_size=0.2, random_state=0)\n",
    "\n",
    "# split the indices of annotations into train and test sets\n",
    "train_indices, test_indices = next(sss.split(annotations_df, labels))\n",
    "\n",
    "# split the data into train and test sets\n",
    "train_annotations = annotations_df.iloc[train_indices, :]\n",
    "test_annotations = annotations_df.iloc[test_indices, :]\n",
    "\n",
    "# Create the train and validation datasets\n",
    "train_dataset = LDEDVisionDataset(train_annotations,\n",
    "                                  image_path = VISON_DIR,\n",
    "                                  image_transformation=train_transforms,\n",
    "                                  device=device)\n",
    "\n",
    "val_dataset = LDEDVisionDataset(test_annotations,\n",
    "                                image_path=VISON_DIR,\n",
    "                                image_transformation=val_transforms,\n",
    "                                device=device)"
   ]
  },
  {
   "cell_type": "code",
   "execution_count": 11,
   "id": "c9faa2bc-96d4-45b8-adf5-c3e12800cb57",
   "metadata": {},
   "outputs": [],
   "source": [
    "# sss = StratifiedShuffleSplit(n_splits=1, test_size=0.2, random_state=0)\n",
    "\n",
    "# # split the indices of annotations into train, validation and test sets\n",
    "# train_indices, test_val_indices = next(sss.split(annotations_df, labels))\n",
    "\n",
    "# # Use another StratifiedShuffleSplit to split the test_val_indices into test and validation sets\n",
    "# val_size = 0.5 # set the validation size\n",
    "# sss2 = StratifiedShuffleSplit(n_splits=1, test_size=val_size, random_state=0)\n",
    "# val_indices, test_indices = next(sss2.split(annotations_df.iloc[test_val_indices], labels[test_val_indices]))\n",
    "\n",
    "# # split the data into train, validation, and test sets\n",
    "# train_annotations = annotations_df.iloc[train_indices, :]\n",
    "# val_annotations = annotations_df.iloc[val_indices, :]\n",
    "# test_annotations = annotations_df.iloc[test_indices, :]\n",
    "\n",
    "# # Create the train, validation and test datasets\n",
    "# train_dataset = LDEDVisionDataset(train_annotations,\n",
    "#                                   image_path = VISON_DIR,\n",
    "#                                   image_transformation=train_transforms,\n",
    "#                                   device=device)\n",
    "\n",
    "# val_dataset = LDEDVisionDataset(val_annotations,\n",
    "#                                 image_path=VISON_DIR,\n",
    "#                                 image_transformation=val_transforms,\n",
    "#                                 device=device)\n",
    "\n",
    "# test_dataset = LDEDVisionDataset(test_annotations,\n",
    "#                                  image_path=VISON_DIR,\n",
    "#                                  image_transformation=val_transforms,\n",
    "#                                  device=device)"
   ]
  },
  {
   "cell_type": "markdown",
   "id": "97d7705e-1515-4116-a9e2-6d2cf40807a0",
   "metadata": {},
   "source": [
    "### Create DataLoader using the dataset"
   ]
  },
  {
   "cell_type": "code",
   "execution_count": 12,
   "id": "2ba1538b-bb47-4177-aec8-3c2cbae2c74d",
   "metadata": {},
   "outputs": [
    {
     "name": "stdout",
     "output_type": "stream",
     "text": [
      "length of the train dataset:3732\n",
      "length of the val dataset:933\n"
     ]
    }
   ],
   "source": [
    "# # Create train and val dataloaders\n",
    "train_dataloader = DataLoader(train_dataset, batch_size=BATCH_SIZE, shuffle=True)\n",
    "val_dataloader = DataLoader(val_dataset, batch_size=BATCH_SIZE, shuffle=False)\n",
    "# test_dataloader = DataLoader(test_dataset, batch_size=BATCH_SIZE, shuffle=False)\n",
    "\n",
    "print(\"length of the train dataset:\" +  str(len(train_dataloader.dataset)))\n",
    "print(\"length of the val dataset:\" +  str(len(val_dataloader.dataset)))\n",
    "# print(\"length of the test dataset:\" +  str(len(test_dataloader.dataset)))"
   ]
  },
  {
   "cell_type": "markdown",
   "id": "6c3b27ee-d1f9-48da-8e22-d322f3d13f8e",
   "metadata": {},
   "source": [
    "## Training the model"
   ]
  },
  {
   "cell_type": "code",
   "execution_count": 13,
   "id": "bd3050c0-b69e-4aa0-8524-86e5350465bc",
   "metadata": {},
   "outputs": [],
   "source": [
    "resume = False\n",
    "start_epoch = 0\n",
    "best_acc = 0"
   ]
  },
  {
   "cell_type": "code",
   "execution_count": 14,
   "id": "8e6c6580-9182-4b69-8f2b-a7e0587f45ab",
   "metadata": {
    "tags": []
   },
   "outputs": [
    {
     "name": "stdout",
     "output_type": "stream",
     "text": [
      "==> Building model..\n",
      "\n",
      "Epoch: 0\n"
     ]
    },
    {
     "name": "stderr",
     "output_type": "stream",
     "text": [
      "Epoch 0: 100%|████████████████████| 234/234 [04:09<00:00,  1.07s/it, Loss=0.318]\n"
     ]
    },
    {
     "name": "stdout",
     "output_type": "stream",
     "text": [
      "10:05:25 --- Epoch: 0\tTrain loss: 0.2335\tValid loss: 0.0094\tTrain accuracy: 93.30\tValid accuracy: 95.61\n",
      "\n",
      "Epoch: 1\n"
     ]
    },
    {
     "name": "stderr",
     "output_type": "stream",
     "text": [
      "Epoch 1:  12%|██▍                  | 27/234 [00:29<03:43,  1.08s/it, Loss=0.504]\n",
      "\n",
      "KeyboardInterrupt\n",
      "\n"
     ]
    }
   ],
   "source": [
    "# -----Model---------------\n",
    "print('==> Building model..')\n",
    "net = VGG('VGG19')\n",
    "# net = LeNet() \n",
    "# net = ResNet18()\n",
    "# net = PreActResNet18()\n",
    "# net = GoogLeNet()\n",
    "# net = DenseNet121()\n",
    "# net = ResNeXt29_2x64d()\n",
    "# net = MobileNet()\n",
    "# net = MobileNetV2()\n",
    "# net = DPN92()\n",
    "# net = ShuffleNetG2()\n",
    "# net = SENet18()\n",
    "# net = ShuffleNetV2(1)\n",
    "# net = EfficientNetB0()\n",
    "# net = RegNetX_200MF()\n",
    "# net = SimpleDLA()\n",
    "net = net.to(device)\n",
    "if device == 'cuda':\n",
    "    net = torch.nn.DataParallel(net)\n",
    "    cudnn.benchmark = True\n",
    "    print (\"--- Using CUDA ---\")\n",
    "\n",
    "if resume:\n",
    "    # Load checkpoint.\n",
    "    print('==> Resuming from checkpoint..')\n",
    "    assert os.path.isdir('checkpoint'), 'Error: no checkpoint directory found!'\n",
    "    checkpoint = torch.load('./checkpoint/ckpt.pth')\n",
    "    net.load_state_dict(checkpoint['net'])\n",
    "    best_acc = checkpoint['acc']\n",
    "    start_epoch = checkpoint['epoch']\n",
    "\n",
    "loss_fn = nn.CrossEntropyLoss()\n",
    "# Note: weight_decay in pytorch is L2 regularization\n",
    "# optimizer = optim.SGD(net.parameters(), lr=LEARNING_RATE,\n",
    "#                     momentum=0.9, weight_decay=5e-4)\n",
    "optimizer = optim.Adam(net.parameters(), lr=LEARNING_RATE, weight_decay=5e-4)\n",
    "scheduler = torch.optim.lr_scheduler.CosineAnnealingLR(optimizer, T_max=200)\n",
    "\n",
    "\n",
    "# for epoch in range(start_epoch, start_epoch+EPOCHS):\n",
    "#     train_single_epoch(net, epoch, train_dataloader, loss_fn, optimizer, device)\n",
    "#     test_single_epoch(net, epoch, val_dataloader, loss_fn, device)\n",
    "#     scheduler.step()\n",
    "\n",
    "# model, optimizer, _ = training_loop(net, loss_fn, optimizer, train_dataloader, val_dataloader, EPOCHS, scheduler, device)\n",
    "model, optimizer, (train_losses, valid_losses, train_accuracy, valid_accuracy) = training_loop(net, loss_fn, optimizer, train_dataloader, \n",
    "                                                                                               val_dataloader, EPOCHS, scheduler, device)"
   ]
  },
  {
   "cell_type": "code",
   "execution_count": null,
   "id": "a90dfed2-dd23-4c7b-a71e-3c77302ad00b",
   "metadata": {},
   "outputs": [],
   "source": [
    "valid_accuracy"
   ]
  },
  {
   "cell_type": "code",
   "execution_count": null,
   "id": "123d75ef-54b1-4d8a-9ec1-b264f24fff12",
   "metadata": {},
   "outputs": [],
   "source": [
    "loss_acc_plot(train_losses, valid_losses, train_accuracy, valid_accuracy, 10, \"Initial Training\",\n",
    "              interval=1, yloss_limit1=0, yloss_limit2=1.0, yacc_limit1=0, yacc_limit2=100)"
   ]
  },
  {
   "cell_type": "code",
   "execution_count": null,
   "id": "f66436b9-e9c0-41f9-8407-2f40ab77aaaa",
   "metadata": {},
   "outputs": [],
   "source": [
    "get_accuracy(model, val_dataloader, device)"
   ]
  },
  {
   "cell_type": "code",
   "execution_count": null,
   "id": "26ece727-1d91-44fa-93d7-e9db3c534c40",
   "metadata": {},
   "outputs": [],
   "source": [
    "test_accuracy_mean, test_accuracy_std, auc_mean, auc_std = model_evaluation(model, val_dataloader, classes, device, classifier_name = \"MFCC-CNN\", signal_type = \"denoised\", seed=0)"
   ]
  },
  {
   "cell_type": "code",
   "execution_count": null,
   "id": "15465bc5-f4f3-4470-b9b1-7ed2f49ec8d6",
   "metadata": {},
   "outputs": [],
   "source": [
    "yt, yp = class_report(model, val_dataloader, device, classes)"
   ]
  },
  {
   "cell_type": "code",
   "execution_count": null,
   "id": "62095ae8-3e1a-4b42-bd12-3e8da418ff46",
   "metadata": {},
   "outputs": [],
   "source": [
    "conf_matrix(yt, yp, classes)\n",
    "save_fig(\"confusion_matrix(vision_based)\")"
   ]
  }
 ],
 "metadata": {
  "kernelspec": {
   "display_name": "Python 3 (ipykernel)",
   "language": "python",
   "name": "python3"
  },
  "language_info": {
   "codemirror_mode": {
    "name": "ipython",
    "version": 3
   },
   "file_extension": ".py",
   "mimetype": "text/x-python",
   "name": "python",
   "nbconvert_exporter": "python",
   "pygments_lexer": "ipython3",
   "version": "3.9.16"
  }
 },
 "nbformat": 4,
 "nbformat_minor": 5
}
