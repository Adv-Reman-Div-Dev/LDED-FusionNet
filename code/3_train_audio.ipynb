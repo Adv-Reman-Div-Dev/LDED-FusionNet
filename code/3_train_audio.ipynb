{
 "cells": [
  {
   "cell_type": "markdown",
   "id": "4603377d-50dd-4993-8e80-5c954a37054b",
   "metadata": {
    "tags": []
   },
   "source": [
    "# Multisensor fusion \n",
    "\n",
    "Author: Chen Lequn.\n",
    "Created on 01 Feb 2023.\n",
    "\n",
    "- Material： Maraging Steel 300\n",
    "- Process: Robotic Llser-directed energy deposition\n",
    "- Experiment number (single bead wall samples): 21-26\n",
    "- Recorded data: position, veolocity, coaxial melt pool images, acoustic data\n",
    "- Defect generated: keyhole pores, cracks, defect-free\n",
    "\n",
    "### Notebook 3: benchmarking on audio dataset\n",
    "\n",
    "- Performances for various deep learning models (VGG, GoogleNet, ResNet, LeNet, etc.) are evaluated and benchmarked on the coaxial melt pool image dataset.\n",
    "- Best performance will guide subsequent multimodal fusion network development."
   ]
  },
  {
   "cell_type": "code",
   "execution_count": 1,
   "id": "dfa9424f-148c-4dc8-a449-478f25f3a804",
   "metadata": {},
   "outputs": [],
   "source": [
    "import torch\n",
    "import torch.nn as nn\n",
    "import torch.optim as optim\n",
    "import torch.nn.functional as F\n",
    "import torch.backends.cudnn as cudnn\n",
    "\n",
    "import torchvision\n",
    "import torchaudio\n",
    "import torch.nn as nn\n",
    "import torchvision.transforms as transforms\n",
    "from torch.utils.data import Dataset, DataLoader, random_split, SubsetRandomSampler, WeightedRandomSampler\n",
    "\n",
    "import os\n",
    "import argparse\n",
    "from torch.utils.data import Subset\n",
    "import pandas as pd\n",
    "import numpy as np\n",
    "\n",
    "# Scikit learn\n",
    "#from sklearn.model_selection import train_test_split\n",
    "from sklearn.metrics import classification_report, accuracy_score, confusion_matrix\n",
    "from sklearn.preprocessing import LabelEncoder\n",
    "from sklearn.utils import shuffle, resample, class_weight\n",
    "from sklearn.model_selection import GridSearchCV, RandomizedSearchCV\n",
    "from sklearn.model_selection import StratifiedKFold, KFold\n",
    "from sklearn.metrics import roc_curve, auc\n",
    "from sklearn.model_selection import train_test_split, StratifiedShuffleSplit\n",
    "\n",
    "from audio_models import *\n",
    "from multimodaldataset import MultimodalDataset, LDEDAudioDataset, LDEDVisionDataset\n",
    "from utils import progress_bar\n",
    "\n",
    "## plot\n",
    "import matplotlib.pyplot as plt\n",
    "import seaborn as sns\n",
    "import matplotlib as mpl\n",
    "mpl.rc('axes', labelsize=14)\n",
    "mpl.rc('xtick', labelsize=12)\n",
    "mpl.rc('ytick', labelsize=12)\n",
    "# plt.rcParams[\"font.family\"] = \"serif\"\n",
    "# plt.rcParams[\"font.serif\"] = \"Times New Roman\"\n",
    "%matplotlib inline\n",
    "import seaborn as sns\n",
    "\n",
    "Multimodal_dataset_PATH = os.path.join(\"C:\\\\Users\\\\Asus\\\\OneDrive_Chen1470\\\\OneDrive - Nanyang Technological University\\\\Dataset\\\\Multimodal_AM_monitoring\\\\LDED_Acoustic_Visual_Dataset\")\n",
    "CCD_Image_30Hz_path = os.path.join(Multimodal_dataset_PATH, 'Coaxial_CCD_images_30Hz')\n",
    "Audio_segmented_30Hz_PATH = os.path.join(Multimodal_dataset_PATH, 'Audio_signal_all_30Hz')\n",
    "Audio_raw_seg_PATH = os.path.join(Audio_segmented_30Hz_PATH, 'raw')\n",
    "Audio_equalized_seg_PATH = os.path.join(Audio_segmented_30Hz_PATH, 'equalized')\n",
    "Audio_bandpassed_seg_PATH = os.path.join(Audio_segmented_30Hz_PATH, 'bandpassed')\n",
    "Audio_denoised_seg_PATH = os.path.join(Audio_segmented_30Hz_PATH, 'denoised')\n",
    "AUDIO_DIR = Audio_denoised_seg_PATH\n",
    "VISON_DIR = CCD_Image_30Hz_path\n",
    "\n",
    "torch.manual_seed(0)\n",
    "\n",
    "ANNOTATIONS_FILE = os.path.join(Multimodal_dataset_PATH, \"vision_acoustic_label_v2.csv\")\n",
    "\n",
    "classes = ('Defect-free', 'Cracks', 'Keyhole pores', 'Laser-off', 'Laser-start')\n",
    "SAMPLE_RATE = 44100\n",
    "LEARNING_RATE = 0.0001\n",
    "BATCH_SIZE = 16\n",
    "EPOCHS = 10"
   ]
  },
  {
   "cell_type": "markdown",
   "id": "a7d98e0d-0199-4454-997d-3db30a5d7ce0",
   "metadata": {},
   "source": [
    "### Utils functions"
   ]
  },
  {
   "cell_type": "code",
   "execution_count": 24,
   "id": "8c4de261-20fc-4031-8f8c-7fcd65eee277",
   "metadata": {},
   "outputs": [],
   "source": [
    "PROJECT_ROOT_DIR = \"../\"\n",
    "IMAGE_PATH = os.path.join(PROJECT_ROOT_DIR, \"result_images\", 'train_audio')\n",
    "os.makedirs(IMAGE_PATH, exist_ok=True)\n",
    "\n",
    "## function for automatically save the diagram/graph into the folder \n",
    "def save_fig(fig_id, tight_layout=True, fig_extension=\"png\", resolution=300):\n",
    "    path = os.path.join(IMAGE_PATH, fig_id + \".\" + fig_extension)\n",
    "    print(\"Saving figure\", fig_id)\n",
    "    if tight_layout:\n",
    "        plt.tight_layout()\n",
    "    plt.savefig(path, format=fig_extension, dpi=resolution)\n",
    "\n",
    "# Ignore useless warnings (see SciPy issue #5998)\n",
    "import warnings\n",
    "warnings.filterwarnings(action=\"ignore\", message=\"^internal gelsd\")\n",
    "\n",
    "plt.rcParams[\"axes.edgecolor\"] = \"black\"\n",
    "plt.rcParams[\"axes.linewidth\"] = 2.50"
   ]
  },
  {
   "cell_type": "code",
   "execution_count": 3,
   "id": "812c6da2-cfe2-4c99-86fc-0d336334327c",
   "metadata": {},
   "outputs": [],
   "source": [
    "### Define Loss and Accuracy plot function\n",
    "def loss_acc_plot(train_losses, valid_losses, train_accuracy, valid_accuracy, epochs_num, title, interval=20, yloss_limit1=0, yloss_limit2=1.5, yacc_limit1=0.4, yacc_limit2=1):\n",
    "    fig, (ax1,ax2) = plt.subplots(nrows = 2, sharex = True, figsize=(7,8));\n",
    "    # plt.title(title, fontsize = 20, y=1.05)\n",
    "    # Loss plot\n",
    "    ax1.plot(train_losses, 'darkorange', label = 'Train Loss', linewidth=2)\n",
    "    ax1.plot(valid_losses, 'navy', label = 'Test Loss', linewidth=2)\n",
    "    ax1.legend(loc =1, fontsize = 16)\n",
    "    ax1.set_xlabel('Epochs', fontsize = 20)\n",
    "    ax1.set_xticks(np.arange(0,epochs_num+1,interval))\n",
    "    ax1.set_ylabel('Crossentropy Loss', fontsize = 20)\n",
    "    ax1.set_ylim(yloss_limit1,yloss_limit2)\n",
    "    ax1.set_title('Loss Curve', fontsize = 20, pad=12)\n",
    "    ax1.xaxis.set_tick_params(labelsize=18)\n",
    "    ax1.yaxis.set_tick_params(labelsize=18)\n",
    "    \n",
    "    # Accuracy plot\n",
    "    ax2.plot(train_accuracy, 'darkorange', label = 'Train Accuracy', linewidth=2)\n",
    "    ax2.plot(valid_accuracy, 'navy', label = 'Test Accuracy', linewidth=2)\n",
    "    ax2.legend(loc =4, fontsize = 16)\n",
    "    ax2.set_xlabel('Epochs', fontsize = 20)\n",
    "    ax1.set_xticks(np.arange(0,epochs_num+1,interval))\n",
    "    ax2.set_ylabel('Accuracy', fontsize =20)\n",
    "    ax2.set_ylim(yacc_limit1,yacc_limit2)\n",
    "    ax2.set_title('Accuracy Curve', fontsize =20, pad=12)\n",
    "    ax2.xaxis.set_tick_params(labelsize=18)\n",
    "    ax2.yaxis.set_tick_params(labelsize=18)\n",
    "    ax1.grid(zorder=3, linestyle='--',linewidth=0.8, alpha=0.4, color = \"k\") #linestyle='--', color='r'\n",
    "    ax2.grid(zorder=3, linestyle='--',linewidth=0.8, alpha=0.4, color = \"k\") #linestyle='--', color='r'\n",
    "    # fig.suptitle(title, fontsize = 22, y=1.001)\n",
    "    \n",
    "    plt.tight_layout()\n",
    "\n",
    "    \n",
    "### Function to print out the model's loss and accuracy score\n",
    "def xtest_loss_acc(modelname, X_test, y_test):\n",
    "    \n",
    "    model_score = modelname.evaluate(X_test, y_test, verbose =2)\n",
    "    model_labels = modelname.metrics_names\n",
    "    \n",
    "    print(f\"cnn {model_labels[0]}: {round(model_score[0] ,5)}\")\n",
    "    print(f\"cnn {model_labels[1]}: {round(model_score[1] ,5)}\")\n",
    "    \n",
    "    \n",
    "### Define function to predict X_test, return y_pred & y_true and print the classification report\n",
    "def class_report(modelname, X_test, y_test, le):\n",
    "    ### predict the X_test\n",
    "    # pred = modelname.predict_classes(X_test) # deprecated\n",
    "    predict_x=modelname.predict(X_test) \n",
    "    pred=np.argmax(predict_x,axis=1)\n",
    "    \n",
    "    # compile predicted results\n",
    "    y_true, y_pred = [], []\n",
    "    classes = le.classes_\n",
    "    \n",
    "    for idx, preds in enumerate(pred):\n",
    "        y_true.append(classes[np.argmax(y_test[idx])])\n",
    "        y_pred.append(classes[preds])\n",
    "    \n",
    "    print(classification_report(y_true, y_pred,digits=4))\n",
    "    return y_true, y_pred\n",
    "\n",
    "\n",
    "### Function to plot confusion matrix\n",
    "\n",
    "def plot_confusion_matrix(cm, classes,\n",
    "                          title='Confusion matrix',\n",
    "                          cmap=plt.cm.Blues):\n",
    "    \"\"\"\n",
    "    This function prints and plots the confusion matrix.\n",
    "    Normalization can be applied by setting `normalize=True`.\n",
    "    \"\"\"\n",
    "    plt.figure(figsize=(7,7))\n",
    "    im_ratio = cm.shape[1]/cm.shape[0]\n",
    "    plt.imshow(cm, interpolation='nearest', cmap=cmap)\n",
    "    plt.title(title, fontsize=20, pad=12)\n",
    "    tick_marks = np.arange(len(classes))\n",
    "    plt.xticks(tick_marks, classes, rotation=90, fontsize=12)\n",
    "    plt.yticks(tick_marks, classes, fontsize=12)\n",
    "\n",
    "    fmt = '.3f'\n",
    "    thresh = cm.max() / 2.\n",
    "    for i, j in itertools.product(range(cm.shape[0]), range(cm.shape[1])):\n",
    "        plt.text(j, i, format(cm[i, j], fmt),\n",
    "                 horizontalalignment=\"center\",\n",
    "                 fontsize = 16, \n",
    "                 color=\"white\" if cm[i, j] > thresh else \"black\")\n",
    "\n",
    "    plt.ylabel('Ground Truth', fontsize=20, labelpad =12)\n",
    "    plt.xlabel('Predicted', fontsize=20, labelpad =12)\n",
    "    plt.xticks(fontsize=16,  rotation=45, ha='right')\n",
    "    plt.yticks(fontsize=16)\n",
    "    cbar = plt.colorbar(orientation=\"vertical\", pad=0.1, ticks=[0.1, 0.4, 0.8], fraction=0.045*im_ratio)\n",
    "    cbar.ax.tick_params(labelsize=14)\n",
    "    cbar.ax.set_title('Accuracy',fontsize=16, pad = 12)\n",
    "    plt.tight_layout()\n",
    "\n",
    "    # plt.show()\n",
    "    \n",
    "def plot_confusion_matrix_sns(y_true, y_pred, classes):\n",
    "    plt.figure(figsize=(10, 7))\n",
    "    tick_marks = np.arange(len(classes))\n",
    "    cm = confusion_matrix(y_true, y_pred)\n",
    "    # convert to percentage and plot the confusion matrix\n",
    "    cm_pct = cm.astype(float) / cm.sum(axis =1)[:,np.newaxis]\n",
    "    sns.heatmap(cm_pct, annot=True, fmt='.3%', cmap='Blues', linewidths=2, linecolor='black') #cmap='Blues'\n",
    "    plt.xticks(tick_marks, classes, horizontalalignment='center', rotation=70, fontsize=12)\n",
    "    plt.yticks(tick_marks, classes, horizontalalignment=\"center\", rotation=0, fontsize=12)\n",
    "\n",
    "    plt.ylabel('True label', fontsize=18)\n",
    "    plt.xlabel('Predicted label', fontsize=18)\n",
    "    \n",
    "    \n",
    "## Define function to get the confusion matrix and print out the plot as well\n",
    "def conf_matrix(y_true, y_pred, le):\n",
    "    cm = confusion_matrix(y_true, y_pred)\n",
    "    \n",
    "    # convert to percentage and plot the confusion matrix\n",
    "    cm_pct = cm.astype(float) / cm.sum(axis =1)[:,np.newaxis]\n",
    "    \n",
    "    classes = le.classes_\n",
    "    print(cm)\n",
    "    plot_confusion_matrix(cm_pct, classes)"
   ]
  },
  {
   "cell_type": "markdown",
   "id": "bdb40432-dab8-410b-9b6f-29db62f6d36f",
   "metadata": {},
   "source": [
    "### Use GPU if possible"
   ]
  },
  {
   "cell_type": "code",
   "execution_count": 4,
   "id": "5bc4cba0-eca1-4d20-96c9-8d2ffae56e26",
   "metadata": {},
   "outputs": [
    {
     "name": "stdout",
     "output_type": "stream",
     "text": [
      "Using cuda\n"
     ]
    }
   ],
   "source": [
    "device = 'cuda' if torch.cuda.is_available() else 'cpu'\n",
    "print(f\"Using {device}\")"
   ]
  },
  {
   "cell_type": "markdown",
   "id": "d7411379-7ecf-4afd-9a99-31a7e2cbd7ae",
   "metadata": {},
   "source": [
    "### Annotation file\n",
    "\n",
    "- Vision acoustic spatio-temporal registration has been done in our previous work. \n",
    "- Each frame (timestamp) corresponds to a robot TCP position.\n",
    "- The duration for each frame is 0.033 seconds (sampling freqeuncy 30 Hz.)"
   ]
  },
  {
   "cell_type": "code",
   "execution_count": 5,
   "id": "6802a997-ca33-436e-8925-d039eada53e3",
   "metadata": {},
   "outputs": [
    {
     "data": {
      "text/html": [
       "<div>\n",
       "<style scoped>\n",
       "    .dataframe tbody tr th:only-of-type {\n",
       "        vertical-align: middle;\n",
       "    }\n",
       "\n",
       "    .dataframe tbody tr th {\n",
       "        vertical-align: top;\n",
       "    }\n",
       "\n",
       "    .dataframe thead th {\n",
       "        text-align: right;\n",
       "    }\n",
       "</style>\n",
       "<table border=\"1\" class=\"dataframe\">\n",
       "  <thead>\n",
       "    <tr style=\"text-align: right;\">\n",
       "      <th></th>\n",
       "      <th>sample_index</th>\n",
       "      <th>audio_file_name</th>\n",
       "      <th>image_file_name</th>\n",
       "      <th>class_ID</th>\n",
       "      <th>class_name</th>\n",
       "      <th>class_v2</th>\n",
       "      <th>class_ID_2</th>\n",
       "    </tr>\n",
       "  </thead>\n",
       "  <tbody>\n",
       "    <tr>\n",
       "      <th>0</th>\n",
       "      <td>0</td>\n",
       "      <td>Sample22_0000.wav</td>\n",
       "      <td>sample22_frame000000.jpg</td>\n",
       "      <td>3</td>\n",
       "      <td>Laser-off</td>\n",
       "      <td>No defect</td>\n",
       "      <td>0</td>\n",
       "    </tr>\n",
       "    <tr>\n",
       "      <th>1</th>\n",
       "      <td>1</td>\n",
       "      <td>Sample22_0001.wav</td>\n",
       "      <td>sample22_frame000001.jpg</td>\n",
       "      <td>3</td>\n",
       "      <td>Laser-off</td>\n",
       "      <td>No defect</td>\n",
       "      <td>0</td>\n",
       "    </tr>\n",
       "    <tr>\n",
       "      <th>2</th>\n",
       "      <td>2</td>\n",
       "      <td>Sample22_0002.wav</td>\n",
       "      <td>sample22_frame000002.jpg</td>\n",
       "      <td>3</td>\n",
       "      <td>Laser-off</td>\n",
       "      <td>No defect</td>\n",
       "      <td>0</td>\n",
       "    </tr>\n",
       "    <tr>\n",
       "      <th>3</th>\n",
       "      <td>3</td>\n",
       "      <td>Sample22_0003.wav</td>\n",
       "      <td>sample22_frame000003.jpg</td>\n",
       "      <td>3</td>\n",
       "      <td>Laser-off</td>\n",
       "      <td>No defect</td>\n",
       "      <td>0</td>\n",
       "    </tr>\n",
       "    <tr>\n",
       "      <th>4</th>\n",
       "      <td>4</td>\n",
       "      <td>Sample22_0004.wav</td>\n",
       "      <td>sample22_frame000004.jpg</td>\n",
       "      <td>3</td>\n",
       "      <td>Laser-off</td>\n",
       "      <td>No defect</td>\n",
       "      <td>0</td>\n",
       "    </tr>\n",
       "  </tbody>\n",
       "</table>\n",
       "</div>"
      ],
      "text/plain": [
       "   sample_index    audio_file_name           image_file_name  class_ID  \\\n",
       "0             0  Sample22_0000.wav  sample22_frame000000.jpg         3   \n",
       "1             1  Sample22_0001.wav  sample22_frame000001.jpg         3   \n",
       "2             2  Sample22_0002.wav  sample22_frame000002.jpg         3   \n",
       "3             3  Sample22_0003.wav  sample22_frame000003.jpg         3   \n",
       "4             4  Sample22_0004.wav  sample22_frame000004.jpg         3   \n",
       "\n",
       "  class_name   class_v2  class_ID_2  \n",
       "0  Laser-off  No defect           0  \n",
       "1  Laser-off  No defect           0  \n",
       "2  Laser-off  No defect           0  \n",
       "3  Laser-off  No defect           0  \n",
       "4  Laser-off  No defect           0  "
      ]
     },
     "execution_count": 5,
     "metadata": {},
     "output_type": "execute_result"
    }
   ],
   "source": [
    "annotations_df = pd.read_csv(ANNOTATIONS_FILE)\n",
    "annotations_df.head()"
   ]
  },
  {
   "cell_type": "code",
   "execution_count": 6,
   "id": "ba5ac429-ca97-4830-a990-fc8f7afa423c",
   "metadata": {},
   "outputs": [
    {
     "name": "stdout",
     "output_type": "stream",
     "text": [
      "[2358 3257]\n"
     ]
    }
   ],
   "source": [
    "# Get the labels and count the number of samples for each class\n",
    "labels = annotations_df['class_ID_2'].values\n",
    "label_counts = np.unique(labels, return_counts=True)[1]\n",
    "print (label_counts)"
   ]
  },
  {
   "cell_type": "markdown",
   "id": "3500075d-c4af-4c24-b010-551313b1580e",
   "metadata": {},
   "source": [
    "### Basline accuracy\n",
    "The baseline accuracy in this multi-class classificiation problem is **43%**, which is the accuracy of trivially predicting the most-frequent class (classify to the largest class– in other words)."
   ]
  },
  {
   "cell_type": "code",
   "execution_count": 7,
   "id": "ea8f62e0-21ae-42b5-a624-fd905f72e594",
   "metadata": {},
   "outputs": [
    {
     "data": {
      "text/plain": [
       "class_v2\n",
       "Defect       58.0\n",
       "No defect    42.0\n",
       "Name: class_v2, dtype: float64"
      ]
     },
     "execution_count": 7,
     "metadata": {},
     "output_type": "execute_result"
    }
   ],
   "source": [
    "### Get the percentage distribution of each category\n",
    "round(annotations_df.groupby('class_v2')[\"class_v2\"].count()/annotations_df.shape[0]*100, 1)"
   ]
  },
  {
   "cell_type": "code",
   "execution_count": 8,
   "id": "69a24564-6dff-4804-832a-58ada8e8531f",
   "metadata": {},
   "outputs": [
    {
     "name": "stdout",
     "output_type": "stream",
     "text": [
      "Saving figure dataset_2\n"
     ]
    },
    {
     "data": {
      "image/png": "[encoded data removed]",
      "text/plain": [
       "<Figure size 504x432 with 1 Axes>"
      ]
     },
     "metadata": {
      "needs_background": "light"
     },
     "output_type": "display_data"
    }
   ],
   "source": [
    "# sns.set(style=\"darkgrid\")\n",
    "plt.figure(figsize = (7,6))\n",
    "\n",
    "\n",
    "ax = sns.countplot(x='class_v2', data = annotations_df, palette=\"Set1\", linewidth=2,\n",
    "                   edgecolor='k'); #palette='mako' 'Set2'\n",
    "ax.set_xticklabels(ax.get_xticklabels(), rotation=30, ha=\"right\")\n",
    "# ax = sns.countplot(y='label', data = df_dataset_denoised, palette=\"Set2\");\n",
    "\n",
    "\n",
    "ax.set_title('Distribution of LDED vision-audio dataset per category', fontsize = 20, pad=20);\n",
    "ax.set_xlabel(\"Experiment number\",fontsize=18, labelpad=10)\n",
    "ax.set_ylabel(\"Count\",fontsize=18, labelpad=10)\n",
    "ax.tick_params(labelsize=15)\n",
    "\n",
    "save_fig(\"dataset_2\")"
   ]
  },
  {
   "cell_type": "code",
   "execution_count": 9,
   "id": "6f33ea26-940a-4879-8428-7d2ca8a750a5",
   "metadata": {},
   "outputs": [],
   "source": [
    "def get_accuracy(model, data_loader, device):\n",
    "    '''\n",
    "    Function for computing the accuracy of the predictions over the entire data_loader\n",
    "    '''\n",
    "    \n",
    "    correct_pred = 0 \n",
    "    n = 0\n",
    "    \n",
    "    with torch.no_grad():\n",
    "        model.eval()\n",
    "        for X, y_true in data_loader:\n",
    "\n",
    "            X = X.to(device)\n",
    "            y_true = y_true.to(device)\n",
    "\n",
    "            _, y_prob = model(X)\n",
    "            _, predicted_labels = torch.max(y_prob, 1)\n",
    "\n",
    "            n += y_true.size(0)\n",
    "            correct_pred += (predicted_labels == y_true).sum()\n",
    "\n",
    "    return correct_pred.float() / n\n"
   ]
  },
  {
   "cell_type": "markdown",
   "id": "0df482bd-6966-47e1-a016-f7d7b04717b5",
   "metadata": {},
   "source": [
    "## Define training, testing (evaluation) function"
   ]
  },
  {
   "cell_type": "code",
   "execution_count": 10,
   "id": "75d462c0-380c-4a1c-aa4f-5ca6b31cb68f",
   "metadata": {},
   "outputs": [],
   "source": [
    "def train_single_epoch(model, epoch, trainloader, loss_fn, optimizer, device):\n",
    "    '''\n",
    "    Function for the training single epoch in the training loop\n",
    "    '''\n",
    "    print('\\nEpoch: %d' % epoch)\n",
    "    model.train() # training mode\n",
    "    running_loss = 0\n",
    "    train_loss = 0\n",
    "    correct = 0\n",
    "    total = 0\n",
    "    for batch_idx, (inputs, targets) in enumerate(trainloader):\n",
    "        inputs, targets = inputs.to(device), targets.to(device)\n",
    "        # calculate loss (forward pass)\n",
    "        outputs = model(inputs)\n",
    "        loss = loss_fn(outputs, targets)\n",
    "        running_loss += loss.item() * inputs.size(0)\n",
    "        # backpropagate error and update weights\n",
    "        optimizer.zero_grad()\n",
    "        loss.backward()\n",
    "        optimizer.step()\n",
    "        \n",
    "        # record current progress\n",
    "        train_loss += loss.item()\n",
    "        _, predicted = outputs.max(1)\n",
    "        total += targets.size(0)\n",
    "        correct += predicted.eq(targets).sum().item()\n",
    "\n",
    "        progress_bar(batch_idx, len(trainloader), 'Loss: %.3f | Train Acc: %.3f%% (%d/%d)'\n",
    "                    % (train_loss/(batch_idx+1), 100.*correct/total, correct, total))\n",
    "    \n",
    "    acc = 100.*correct/total\n",
    "    # print(f\"loss: {loss.item()}\")\n",
    "    epoch_loss = running_loss / len(trainloader.dataset)\n",
    "    # print(\"--------------epoch finished---------------\")\n",
    "    return model, optimizer, epoch_loss, acc"
   ]
  },
  {
   "cell_type": "code",
   "execution_count": 11,
   "id": "299eff60-ac65-4b83-ba4b-4881e55ceda6",
   "metadata": {},
   "outputs": [],
   "source": [
    "def test_single_epoch(model, epoch, testloader, loss_fn, device):\n",
    "    model.eval() # evaluation mode\n",
    "    global best_acc # for updating the best accuracy so far\n",
    "    test_loss = 0\n",
    "    correct = 0\n",
    "    total = 0\n",
    "    running_loss = 0\n",
    "    with torch.no_grad():\n",
    "        for batch_idx, (inputs, targets) in enumerate(testloader):\n",
    "            inputs, targets = inputs.to(device), targets.to(device)\n",
    "            ## forward pass and calculate loss\n",
    "            outputs = model(inputs)\n",
    "            loss = loss_fn(outputs, targets)\n",
    "            running_loss += loss.item() *inputs.size(0)\n",
    "            \n",
    "            # record current progress\n",
    "            test_loss += loss.item()\n",
    "            _, predicted = outputs.max(1)\n",
    "            total += targets.size(0)\n",
    "            correct += predicted.eq(targets).sum().item()\n",
    "\n",
    "            # progress_bar(batch_idx, len(testloader), 'Loss: %.3f | Test Acc: %.3f%% (%d/%d)'\n",
    "            #             % (test_loss/(batch_idx+1), 100.*correct/total, correct, total))\n",
    "\n",
    "    # Save checkpoint.\n",
    "    acc = 100.*correct/total\n",
    "    if acc > best_acc:\n",
    "        print('Saving..')\n",
    "        state = {\n",
    "            'model': model.state_dict(),\n",
    "            'acc': acc,\n",
    "            'epoch': epoch,\n",
    "        }\n",
    "        if not os.path.isdir('checkpoint'):\n",
    "            os.mkdir('checkpoint')\n",
    "        torch.save(state, './checkpoint/ckpt.pth')\n",
    "        best_acc = acc\n",
    "    \n",
    "    epoch_loss = test_loss / len(testloader.dataset)\n",
    "    return model, epoch_loss, acc"
   ]
  },
  {
   "cell_type": "code",
   "execution_count": 12,
   "id": "503f3c5f-5745-41b3-b253-aa92b0f90280",
   "metadata": {},
   "outputs": [],
   "source": [
    "def training_loop(model, loss_fn, optimizer, train_loader, valid_loader, epochs, scheduler, device, print_every=1):\n",
    "    '''\n",
    "    Function defining the entire training loop\n",
    "    '''\n",
    "    \n",
    "    # set objects for storing metrics\n",
    "    best_loss = 1e10\n",
    "    train_losses = []\n",
    "    valid_losses = []\n",
    "    train_accuracy = []\n",
    "    valid_accuracy = []\n",
    " \n",
    "    # Train model\n",
    "    for epoch in range(0, epochs):\n",
    "\n",
    "        # training\n",
    "        model, optimizer, train_loss, train_acc = train_single_epoch(model, epoch, train_loader, loss_fn, optimizer, device)\n",
    "        train_losses.append(train_loss)\n",
    "\n",
    "        # validation\n",
    "        # with torch.no_grad():\n",
    "        model, valid_loss, valid_acc = test_single_epoch(model, epoch, valid_loader, loss_fn, device)\n",
    "        valid_losses.append(valid_loss)\n",
    "\n",
    "#         if epoch % print_every == (print_every - 1):\n",
    "            \n",
    "#             train_acc = get_accuracy(model, train_loader, device=device)\n",
    "#             valid_acc = get_accuracy(model, valid_loader, device=device)\n",
    "                \n",
    "#             print(f'{datetime.now().time().replace(microsecond=0)} --- '\n",
    "#                   f'Epoch: {epoch}\\t'\n",
    "#                   f'Train loss: {train_loss:.4f}\\t'\n",
    "#                   f'Valid loss: {valid_loss:.4f}\\t'\n",
    "#                   f'Train accuracy: {100 * train_acc:.2f}\\t'\n",
    "#                   f'Valid accuracy: {100 * valid_acc:.2f}')\n",
    "        \n",
    "        train_accuracy.append(train_acc)\n",
    "        valid_accuracy.append(valid_acc)\n",
    "        scheduler.step()\n",
    "   \n",
    "    return model, optimizer, (train_losses, valid_losses, train_accuracy, valid_accuracy)"
   ]
  },
  {
   "cell_type": "markdown",
   "id": "d47a91d6-289e-409e-992d-8c17d325f053",
   "metadata": {},
   "source": [
    "## Preparing Dataset and DataLoader"
   ]
  },
  {
   "cell_type": "code",
   "execution_count": 13,
   "id": "f9999bb8-8133-4d6d-91a4-43ea8b0d29a0",
   "metadata": {},
   "outputs": [
    {
     "name": "stderr",
     "output_type": "stream",
     "text": [
      "C:\\Users\\Asus\\anaconda3\\envs\\working_primary\\lib\\site-packages\\torchaudio\\functional\\functional.py:594: UserWarning: At least one mel filterbank has all zero values. The value for `n_mels` (128) may be set too high. Or, the value for `n_freqs` (201) may be set too low.\n",
      "  warnings.warn(\n"
     ]
    }
   ],
   "source": [
    "#------ transformation------\n",
    "\n",
    "# instantiating our dataset object and create data loader\n",
    "mel_spectrogram = torchaudio.transforms.MelSpectrogram(\n",
    "    sample_rate=SAMPLE_RATE,\n",
    "    n_fft=1024,\n",
    "    hop_length=512,\n",
    "    n_mels=32\n",
    ")\n",
    "\n",
    "MFCCs = torchaudio.transforms.MFCC(sample_rate=SAMPLE_RATE,n_mfcc=20)"
   ]
  },
  {
   "cell_type": "code",
   "execution_count": 14,
   "id": "025900b9-a6c3-43b5-86a4-73bbc8c959d1",
   "metadata": {},
   "outputs": [
    {
     "name": "stdout",
     "output_type": "stream",
     "text": [
      "length of the total dataset:5615\n"
     ]
    }
   ],
   "source": [
    "#------ data loader------\n",
    "# create the dataset for all samples\n",
    "audiodataset = LDEDAudioDataset(annotations_df,\n",
    "                                AUDIO_DIR,\n",
    "                                # mel_spectrogram,\n",
    "                                MFCCs,\n",
    "                                # spectral_centroid,\n",
    "                                SAMPLE_RATE,\n",
    "                                device)\n",
    "print (\"length of the total dataset:\" + str(len(audiodataset)))"
   ]
  },
  {
   "cell_type": "markdown",
   "id": "5db0fb70-fbf1-46e3-9ea9-513b9f50a4d8",
   "metadata": {},
   "source": [
    "### Dealing with Imbalanced dataset: stratified sampling\n",
    "\n",
    "- Split the data into train, validation, and test set\n",
    "- Train and Val are used for hyperparameter tuning\n",
    "- Train set will go through some data augmentation"
   ]
  },
  {
   "cell_type": "code",
   "execution_count": 15,
   "id": "bfc8b6f7-0573-489d-961c-9d9aef5df6c1",
   "metadata": {},
   "outputs": [],
   "source": [
    "# Split the data into train and validation datasets\n",
    "# train_annotations, val_annotations = train_test_split(annotations_df, test_size=0.2)\n",
    "# create the StratifiedShuffleSplit object\n",
    "sss = StratifiedShuffleSplit(n_splits=1, test_size=0.2, random_state=0)\n",
    "\n",
    "# split the indices of annotations into train and test sets\n",
    "train_indices, test_indices = next(sss.split(annotations_df, labels))\n",
    "\n",
    "# split the data into train and test sets\n",
    "train_annotations = annotations_df.iloc[train_indices, :]\n",
    "test_annotations = annotations_df.iloc[test_indices, :]\n",
    "\n",
    "# Create the train and validation datasets\n",
    "train_dataset = LDEDAudioDataset(train_annotations,\n",
    "                                 AUDIO_DIR,\n",
    "                                 MFCCs,\n",
    "                                 SAMPLE_RATE,\n",
    "                                 device=device)\n",
    "\n",
    "val_dataset = LDEDAudioDataset(test_annotations,\n",
    "                               AUDIO_DIR,\n",
    "                               MFCCs,\n",
    "                               SAMPLE_RATE,\n",
    "                               device=device)"
   ]
  },
  {
   "cell_type": "code",
   "execution_count": 16,
   "id": "49c7db52-e42d-42e1-b0eb-f9154de03fec",
   "metadata": {},
   "outputs": [],
   "source": [
    "# test_annotations"
   ]
  },
  {
   "cell_type": "markdown",
   "id": "0f8db309-f1a4-4194-9583-0eab9c2289d2",
   "metadata": {},
   "source": [
    "### Create DataLoader using the dataset"
   ]
  },
  {
   "cell_type": "code",
   "execution_count": 17,
   "id": "356ab5bf-d7bc-46d1-a8b6-ce5a9399b768",
   "metadata": {},
   "outputs": [
    {
     "name": "stdout",
     "output_type": "stream",
     "text": [
      "length of the train dataset:4492\n",
      "length of the val dataset:1123\n"
     ]
    }
   ],
   "source": [
    "# # Create train and val dataloaders\n",
    "train_dataloader = DataLoader(train_dataset, batch_size=BATCH_SIZE, shuffle=True, num_workers=0)\n",
    "val_dataloader = DataLoader(val_dataset, batch_size=BATCH_SIZE, shuffle=False, num_workers=0)\n",
    "# test_dataloader = DataLoader(test_dataset, batch_size=BATCH_SIZE, shuffle=False)\n",
    "\n",
    "print(\"length of the train dataset:\" +  str(len(train_dataloader.dataset)))\n",
    "print(\"length of the val dataset:\" +  str(len(val_dataloader.dataset)))\n",
    "# print(\"length of the test dataset:\" +  str(len(test_dataloader.dataset)))"
   ]
  },
  {
   "cell_type": "markdown",
   "id": "5913b721-5e90-47f2-9de9-6c085006982b",
   "metadata": {},
   "source": [
    "## Training the model"
   ]
  },
  {
   "cell_type": "code",
   "execution_count": 18,
   "id": "1689725d-94f4-4cbb-bfe9-f42c1c49c89e",
   "metadata": {},
   "outputs": [],
   "source": [
    "resume = False\n",
    "start_epoch = 0\n",
    "best_acc = 0"
   ]
  },
  {
   "cell_type": "code",
   "execution_count": 19,
   "id": "478dceec-22ae-4066-82d7-c4b51ddba2e3",
   "metadata": {
    "tags": []
   },
   "outputs": [
    {
     "name": "stdout",
     "output_type": "stream",
     "text": [
      "==> Building model..\n",
      "--- Using CUDA ---\n",
      "\n",
      "Epoch: 0\n",
      " [================================================================>]  Step: 44ms | Tot: 5s270ms | Loss: 0.700 | Train Acc: 58.927% (2647/449 281/281 \n",
      "Saving..\n",
      "\n",
      "Epoch: 1\n",
      " [================================================================>]  Step: 19ms | Tot: 6s392ms | Loss: 0.511 | Train Acc: 79.185% (3557/449 281/281 \n",
      "Saving..\n",
      "\n",
      "Epoch: 2\n",
      " [================================================================>]  Step: 18ms | Tot: 6s668ms | Loss: 0.479 | Train Acc: 82.524% (3707/449 281/281 \n",
      "\n",
      "Epoch: 3\n",
      " [================================================================>]  Step: 18ms | Tot: 6s594ms | Loss: 0.475 | Train Acc: 83.259% (3740/449 281/281 \n",
      "\n",
      "Epoch: 4\n",
      " [================================================================>]  Step: 20ms | Tot: 6s544ms | Loss: 0.469 | Train Acc: 83.949% (3771/449 281/281 \n",
      "\n",
      "Epoch: 5\n",
      " [================================================================>]  Step: 20ms | Tot: 6s474ms | Loss: 0.471 | Train Acc: 83.638% (3757/449 281/281 \n",
      "\n",
      "Epoch: 6\n",
      " [================================================================>]  Step: 18ms | Tot: 6s465ms | Loss: 0.466 | Train Acc: 83.994% (3773/449 281/281 \n",
      "\n",
      "Epoch: 7\n",
      " [================================================================>]  Step: 18ms | Tot: 6s989ms | Loss: 0.468 | Train Acc: 83.882% (3768/449 281/281 ====================>...........................................]  Step: 31ms | Tot: 2s290ms | Loss: 0.463 | Train Acc: 84.171% (1239/147 92/281 \n",
      "Saving..\n",
      "\n",
      "Epoch: 8\n",
      " [================================================================>]  Step: 16ms | Tot: 6s454ms | Loss: 0.463 | Train Acc: 84.417% (3792/449 281/281 216/28 218/281 \n",
      "\n",
      "Epoch: 9\n",
      " [================================================================>]  Step: 19ms | Tot: 6s631ms | Loss: 0.461 | Train Acc: 84.617% (3801/449 281/281 \n",
      "Saving..\n"
     ]
    },
    {
     "name": "stderr",
     "output_type": "stream",
     "text": [
      "C:\\Users\\Asus\\AppData\\Local\\Temp\\ipykernel_14508\\2211512462.py:43: UserWarning: Matplotlib is currently using module://matplotlib_inline.backend_inline, which is a non-GUI backend, so cannot show the figure.\n",
      "  fig.show()\n"
     ]
    },
    {
     "data": {
      "image/png": "[encoded data removed]",
      "text/plain": [
       "<Figure size 576x324 with 1 Axes>"
      ]
     },
     "metadata": {},
     "output_type": "display_data"
    }
   ],
   "source": [
    "# -----Model---------------\n",
    "print('==> Building model..')\n",
    "\n",
    "net = MFCCCNN() \n",
    "\n",
    "net = net.to(device)\n",
    "if device == 'cuda':\n",
    "    net = torch.nn.DataParallel(net)\n",
    "    cudnn.benchmark = True\n",
    "    print (\"--- Using CUDA ---\")\n",
    "\n",
    "if resume:\n",
    "    # Load checkpoint.\n",
    "    print('==> Resuming from checkpoint..')\n",
    "    assert os.path.isdir('checkpoint'), 'Error: no checkpoint directory found!'\n",
    "    checkpoint = torch.load('./checkpoint/ckpt.pth')\n",
    "    net.load_state_dict(checkpoint['net'])\n",
    "    best_acc = checkpoint['acc']\n",
    "    start_epoch = checkpoint['epoch']\n",
    "\n",
    "loss_fn = nn.CrossEntropyLoss()\n",
    "# Note: weight_decay in pytorch is L2 regularization\n",
    "# optimizer = optim.SGD(net.parameters(), lr=LEARNING_RATE,\n",
    "#                     momentum=0.9, weight_decay=5e-4)\n",
    "optimizer = optim.Adam(net.parameters(), lr=LEARNING_RATE, weight_decay=5e-4)\n",
    "scheduler = torch.optim.lr_scheduler.CosineAnnealingLR(optimizer, T_max=200)\n",
    "\n",
    "\n",
    "# for epoch in range(start_epoch, start_epoch+EPOCHS):\n",
    "    # train_single_epoch(net, epoch, train_dataloader, loss_fn, optimizer, device)\n",
    "    # test_single_epoch(net, epoch, val_dataloader, loss_fn, device)\n",
    "    # scheduler.step()\n",
    "\n",
    "model, optimizer, (train_losses, valid_losses, train_accuracy, valid_accuracy) = training_loop(net, loss_fn, optimizer, train_dataloader, val_dataloader, EPOCHS, scheduler, device)"
   ]
  },
  {
   "cell_type": "code",
   "execution_count": 26,
   "id": "97901149-558c-4241-b6d3-9f8389f3ec1f",
   "metadata": {},
   "outputs": [
    {
     "data": {
      "text/plain": [
       "[82.3686553873553,\n",
       " 84.50578806767587,\n",
       " 79.34105075690115,\n",
       " 84.14959928762244,\n",
       " 81.38913624220837,\n",
       " 82.9919857524488,\n",
       " 82.45770258236865,\n",
       " 85.39626001780944,\n",
       " 84.59483526268923,\n",
       " 85.6634016028495]"
      ]
     },
     "execution_count": 26,
     "metadata": {},
     "output_type": "execute_result"
    }
   ],
   "source": [
    "valid_accuracy"
   ]
  },
  {
   "cell_type": "code",
   "execution_count": 27,
   "id": "ab7210cd-ecf4-4c73-8bd0-24c22829334c",
   "metadata": {},
   "outputs": [
    {
     "data": {
      "image/png": "[encoded data removed]",
      "text/plain": [
       "<Figure size 700x800 with 2 Axes>"
      ]
     },
     "metadata": {},
     "output_type": "display_data"
    }
   ],
   "source": [
    "loss_acc_plot(train_losses, valid_losses, train_accuracy, valid_accuracy, 10, \"Initial Training\",\n",
    "              interval=1, yloss_limit1=0, yloss_limit2=1.5, yacc_limit1=0, yacc_limit2=100)"
   ]
  }
 ],
 "metadata": {
  "kernelspec": {
   "display_name": "Python 3 (ipykernel)",
   "language": "python",
   "name": "python3"
  },
  "language_info": {
   "codemirror_mode": {
    "name": "ipython",
    "version": 3
   },
   "file_extension": ".py",
   "mimetype": "text/x-python",
   "name": "python",
   "nbconvert_exporter": "python",
   "pygments_lexer": "ipython3",
   "version": "3.8.12"
  }
 },
 "nbformat": 4,
 "nbformat_minor": 5
}
