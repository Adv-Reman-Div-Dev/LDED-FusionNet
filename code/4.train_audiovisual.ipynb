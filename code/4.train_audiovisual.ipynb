{
 "cells": [
  {
   "cell_type": "markdown",
   "id": "cd5439df-4f3b-48a1-acca-74aa7a177c83",
   "metadata": {
    "tags": []
   },
   "source": [
    "# L-DED Audiovisual Fusion \n",
    "\n",
    "Author: Chen Lequn.\n",
    "Created on 01 Feb 2023.\n",
    "\n",
    "- Material： Maraging Steel 300\n",
    "- Process: Robotic Llser-directed energy deposition\n",
    "- Experiment number (single bead wall samples): 21-26\n",
    "- Recorded data: position, veolocity, coaxial melt pool images, acoustic data\n",
    "- Defect generated: keyhole pores, cracks, defect-free\n",
    "\n",
    "### Notebook 4: Audiovisual fusion - baseline\n",
    "\n",
    "- Testing on audio visual fusion with VGG-ish CNN model."
   ]
  },
  {
   "cell_type": "code",
   "execution_count": 1,
   "id": "1fef96a8-99c8-4857-9e10-5337b12c6ee3",
   "metadata": {},
   "outputs": [],
   "source": [
    "import torch\n",
    "import torch.nn as nn\n",
    "import torch.optim as optim\n",
    "import torch.nn.functional as F\n",
    "import torch.backends.cudnn as cudnn\n",
    "\n",
    "import torchvision\n",
    "import torchvision.transforms as transforms\n",
    "from torch.utils.data import Dataset, DataLoader, random_split, SubsetRandomSampler, WeightedRandomSampler\n",
    "\n",
    "import os\n",
    "import argparse\n",
    "from torch.utils.data import Subset\n",
    "import pandas as pd\n",
    "import numpy as np\n",
    "\n",
    "# Scikit learn\n",
    "#from sklearn.model_selection import train_test_split\n",
    "from sklearn.metrics import classification_report, accuracy_score, confusion_matrix\n",
    "from sklearn.preprocessing import LabelEncoder\n",
    "from sklearn.utils import shuffle, resample, class_weight\n",
    "from sklearn.model_selection import GridSearchCV, RandomizedSearchCV\n",
    "from sklearn.model_selection import StratifiedKFold, KFold\n",
    "from sklearn.metrics import roc_curve, auc\n",
    "from sklearn.model_selection import train_test_split, StratifiedShuffleSplit\n",
    "\n",
    "from vision_models import * \n",
    "from audiovisual_models import *\n",
    "from multimodaldataset import MultimodalDataset, LDEDAudioDataset, LDEDVisionDataset\n",
    "from utils import *\n",
    "from train_utils import train_single_epoch, test_single_epoch, training_loop\n",
    "\n",
    "from torchviz import make_dot\n",
    "\n",
    "## plot\n",
    "import matplotlib.pyplot as plt\n",
    "import seaborn as sns\n",
    "import matplotlib as mpl\n",
    "mpl.rc('axes', labelsize=14)\n",
    "mpl.rc('xtick', labelsize=12)\n",
    "mpl.rc('ytick', labelsize=12)\n",
    "# plt.rcParams[\"font.family\"] = \"serif\"\n",
    "# plt.rcParams[\"font.serif\"] = \"Times New Roman\"\n",
    "%matplotlib inline\n",
    "import seaborn as sns\n",
    "\n",
    "# Multimodal_dataset_PATH = os.path.join(\"C:\\\\Users\\\\Asus\\\\OneDrive_Chen1470\\\\OneDrive - Nanyang Technological University\\\\Dataset\\\\Multimodal_AM_monitoring\\\\LDED_Acoustic_Visual_Dataset\")\n",
    "Multimodal_dataset_PATH = os.path.join(\"/home/chenlequn/Dataset/Multimodal_AM_monitoring/LDED_Acoustic_Visual_Dataset\")\n",
    "CCD_Image_30Hz_path = os.path.join(Multimodal_dataset_PATH, 'Coaxial_CCD_images_30Hz')\n",
    "Audio_segmented_30Hz_PATH = os.path.join(Multimodal_dataset_PATH, 'Audio_signal_all_30Hz')\n",
    "Audio_raw_seg_PATH = os.path.join(Audio_segmented_30Hz_PATH, 'raw')\n",
    "Audio_equalized_seg_PATH = os.path.join(Audio_segmented_30Hz_PATH, 'equalized')\n",
    "Audio_bandpassed_seg_PATH = os.path.join(Audio_segmented_30Hz_PATH, 'bandpassed')\n",
    "Audio_denoised_seg_PATH = os.path.join(Audio_segmented_30Hz_PATH, 'denoised')\n",
    "AUDIO_DIR = Audio_denoised_seg_PATH\n",
    "VISON_DIR = CCD_Image_30Hz_path\n",
    "\n",
    "torch.manual_seed(0)\n",
    "\n",
    "ANNOTATIONS_FILE = os.path.join(Multimodal_dataset_PATH, \"vision_acoustic_label_v2.csv\")\n",
    "\n",
    "# classes = ('Defect-free', 'Cracks', 'Keyhole pores', 'Laser-off', 'Laser-start')\n",
    "classes = ('Laser-off', 'Defect-free', 'Defective')\n",
    "# classes = ('Defect-free', 'Defective')\n",
    "SAMPLE_RATE = 44100\n",
    "LEARNING_RATE = 0.0001\n",
    "BATCH_SIZE = 16\n",
    "EPOCHS = 20"
   ]
  },
  {
   "cell_type": "markdown",
   "id": "a7d35ae7-60ec-41df-a951-89b3b902aae6",
   "metadata": {},
   "source": [
    "### Utils functions"
   ]
  },
  {
   "cell_type": "code",
   "execution_count": 2,
   "id": "a33e4fd6-c93e-43ef-a20f-2e62e910425b",
   "metadata": {},
   "outputs": [],
   "source": [
    "PROJECT_ROOT_DIR = \"../\"\n",
    "IMAGE_PATH = os.path.join(PROJECT_ROOT_DIR, \"result_images\", 'train_audio_visual')\n",
    "os.makedirs(IMAGE_PATH, exist_ok=True)\n",
    "\n",
    "## function for automatically save the diagram/graph into the folder \n",
    "def save_fig(fig_id, tight_layout=True, fig_extension=\"png\", resolution=300):\n",
    "    path = os.path.join(IMAGE_PATH, fig_id + \".\" + fig_extension)\n",
    "    print(\"Saving figure\", fig_id)\n",
    "    if tight_layout:\n",
    "        plt.tight_layout()\n",
    "    plt.savefig(path, format=fig_extension, dpi=resolution)\n",
    "\n",
    "# Ignore useless warnings (see SciPy issue #5998)\n",
    "import warnings\n",
    "warnings.filterwarnings(action=\"ignore\", message=\"^internal gelsd\")\n",
    "\n",
    "plt.rcParams[\"axes.edgecolor\"] = \"black\"\n",
    "plt.rcParams[\"axes.linewidth\"] = 2.50"
   ]
  },
  {
   "cell_type": "markdown",
   "id": "d6a93ae8-afea-4cf3-8299-77b3776dbf6e",
   "metadata": {},
   "source": [
    "### Use GPU if possible"
   ]
  },
  {
   "cell_type": "code",
   "execution_count": 3,
   "id": "c1e7cb10-c9d2-4542-b237-03f47020f7d2",
   "metadata": {},
   "outputs": [
    {
     "name": "stdout",
     "output_type": "stream",
     "text": [
      "Using cuda\n"
     ]
    }
   ],
   "source": [
    "device = 'cuda' if torch.cuda.is_available() else 'cpu'\n",
    "print(f\"Using {device}\")"
   ]
  },
  {
   "cell_type": "markdown",
   "id": "0584aa75-e5d8-423c-bb75-01f19f43950a",
   "metadata": {},
   "source": [
    "### Annotation file\n",
    "\n",
    "- Vision acoustic spatio-temporal registration has been done in our previous work. \n",
    "- Each frame (timestamp) corresponds to a robot TCP position.\n",
    "- The duration for each frame is 0.033 seconds (sampling freqeuncy 30 Hz.)"
   ]
  },
  {
   "cell_type": "code",
   "execution_count": 4,
   "id": "da1bb597-7562-4d34-a20d-0a6dc8b38fd6",
   "metadata": {},
   "outputs": [
    {
     "data": {
      "text/html": [
       "<div>\n",
       "<style scoped>\n",
       "    .dataframe tbody tr th:only-of-type {\n",
       "        vertical-align: middle;\n",
       "    }\n",
       "\n",
       "    .dataframe tbody tr th {\n",
       "        vertical-align: top;\n",
       "    }\n",
       "\n",
       "    .dataframe thead th {\n",
       "        text-align: right;\n",
       "    }\n",
       "</style>\n",
       "<table border=\"1\" class=\"dataframe\">\n",
       "  <thead>\n",
       "    <tr style=\"text-align: right;\">\n",
       "      <th></th>\n",
       "      <th>sample_index</th>\n",
       "      <th>audio_file_name</th>\n",
       "      <th>image_file_name</th>\n",
       "      <th>class_ID</th>\n",
       "      <th>class_name</th>\n",
       "      <th>class_v2</th>\n",
       "      <th>class_ID_2</th>\n",
       "    </tr>\n",
       "  </thead>\n",
       "  <tbody>\n",
       "    <tr>\n",
       "      <th>0</th>\n",
       "      <td>0</td>\n",
       "      <td>Sample22_0000.wav</td>\n",
       "      <td>sample22_frame000000.jpg</td>\n",
       "      <td>3</td>\n",
       "      <td>Laser-off</td>\n",
       "      <td>Laser-off</td>\n",
       "      <td>0</td>\n",
       "    </tr>\n",
       "    <tr>\n",
       "      <th>1</th>\n",
       "      <td>1</td>\n",
       "      <td>Sample22_0001.wav</td>\n",
       "      <td>sample22_frame000001.jpg</td>\n",
       "      <td>3</td>\n",
       "      <td>Laser-off</td>\n",
       "      <td>Laser-off</td>\n",
       "      <td>0</td>\n",
       "    </tr>\n",
       "    <tr>\n",
       "      <th>2</th>\n",
       "      <td>2</td>\n",
       "      <td>Sample22_0002.wav</td>\n",
       "      <td>sample22_frame000002.jpg</td>\n",
       "      <td>3</td>\n",
       "      <td>Laser-off</td>\n",
       "      <td>Laser-off</td>\n",
       "      <td>0</td>\n",
       "    </tr>\n",
       "    <tr>\n",
       "      <th>3</th>\n",
       "      <td>3</td>\n",
       "      <td>Sample22_0003.wav</td>\n",
       "      <td>sample22_frame000003.jpg</td>\n",
       "      <td>3</td>\n",
       "      <td>Laser-off</td>\n",
       "      <td>Laser-off</td>\n",
       "      <td>0</td>\n",
       "    </tr>\n",
       "    <tr>\n",
       "      <th>4</th>\n",
       "      <td>4</td>\n",
       "      <td>Sample22_0004.wav</td>\n",
       "      <td>sample22_frame000004.jpg</td>\n",
       "      <td>3</td>\n",
       "      <td>Laser-off</td>\n",
       "      <td>Laser-off</td>\n",
       "      <td>0</td>\n",
       "    </tr>\n",
       "  </tbody>\n",
       "</table>\n",
       "</div>"
      ],
      "text/plain": [
       "   sample_index    audio_file_name           image_file_name  class_ID  \\\n",
       "0             0  Sample22_0000.wav  sample22_frame000000.jpg         3   \n",
       "1             1  Sample22_0001.wav  sample22_frame000001.jpg         3   \n",
       "2             2  Sample22_0002.wav  sample22_frame000002.jpg         3   \n",
       "3             3  Sample22_0003.wav  sample22_frame000003.jpg         3   \n",
       "4             4  Sample22_0004.wav  sample22_frame000004.jpg         3   \n",
       "\n",
       "  class_name   class_v2  class_ID_2  \n",
       "0  Laser-off  Laser-off           0  \n",
       "1  Laser-off  Laser-off           0  \n",
       "2  Laser-off  Laser-off           0  \n",
       "3  Laser-off  Laser-off           0  \n",
       "4  Laser-off  Laser-off           0  "
      ]
     },
     "execution_count": 4,
     "metadata": {},
     "output_type": "execute_result"
    }
   ],
   "source": [
    "annotations_df = pd.read_csv(ANNOTATIONS_FILE)\n",
    "annotations_df.head()"
   ]
  },
  {
   "cell_type": "code",
   "execution_count": 5,
   "id": "8ea51639-6b22-4874-91b8-604f7a5cd52b",
   "metadata": {},
   "outputs": [
    {
     "name": "stdout",
     "output_type": "stream",
     "text": [
      "[ 389 1889 3337]\n"
     ]
    }
   ],
   "source": [
    "# Get the labels and count the number of samples for each class\n",
    "labels = annotations_df['class_ID_2'].values\n",
    "label_counts = np.unique(labels, return_counts=True)[1]\n",
    "print (label_counts)"
   ]
  },
  {
   "cell_type": "markdown",
   "id": "7ae6cf14-cba2-46c1-a2f5-e14f04d1427c",
   "metadata": {},
   "source": [
    "### Basline accuracy\n",
    "The baseline accuracy in this multi-class classificiation problem is **43%**, which is the accuracy of trivially predicting the most-frequent class (classify to the largest class– in other words)."
   ]
  },
  {
   "cell_type": "code",
   "execution_count": 6,
   "id": "1580a140-8ce4-409f-91e2-78265311accb",
   "metadata": {},
   "outputs": [
    {
     "data": {
      "text/plain": [
       "class_ID_2\n",
       "0     6.9\n",
       "1    33.6\n",
       "2    59.4\n",
       "Name: class_ID_2, dtype: float64"
      ]
     },
     "execution_count": 6,
     "metadata": {},
     "output_type": "execute_result"
    }
   ],
   "source": [
    "### Get the percentage distribution of each category\n",
    "round(annotations_df.groupby('class_ID_2')[\"class_ID_2\"].count()/annotations_df.shape[0]*100, 1)"
   ]
  },
  {
   "cell_type": "code",
   "execution_count": 7,
   "id": "b56af03d-ec99-4bf9-b737-5d38009f0acf",
   "metadata": {},
   "outputs": [
    {
     "name": "stdout",
     "output_type": "stream",
     "text": [
      "Saving figure dataset_2\n"
     ]
    },
    {
     "data": {
      "image/png": "[encoded data removed]",
      "text/plain": [
       "<Figure size 700x600 with 1 Axes>"
      ]
     },
     "metadata": {},
     "output_type": "display_data"
    }
   ],
   "source": [
    "# sns.set(style=\"darkgrid\")\n",
    "plt.figure(figsize = (7,6))\n",
    "\n",
    "\n",
    "ax = sns.countplot(x='class_v2', data = annotations_df, palette=\"Set1\", linewidth=2,\n",
    "                   edgecolor='k'); #palette='mako' 'Set2'\n",
    "ax.set_xticklabels(ax.get_xticklabels(), rotation=30, ha=\"right\")\n",
    "# ax = sns.countplot(y='label', data = df_dataset_denoised, palette=\"Set2\");\n",
    "\n",
    "\n",
    "ax.set_title('Distribution of LDED vision-audio dataset per category', fontsize = 20, pad=20);\n",
    "ax.set_xlabel(\"Experiment number\",fontsize=18, labelpad=10)\n",
    "ax.set_ylabel(\"Count\",fontsize=18, labelpad=10)\n",
    "ax.tick_params(labelsize=15)\n",
    "\n",
    "save_fig(\"dataset_2\")"
   ]
  },
  {
   "cell_type": "markdown",
   "id": "6588f439-dfef-4eb5-ac42-f2971d2fb854",
   "metadata": {},
   "source": [
    "## Preparing Dataset and DataLoader"
   ]
  },
  {
   "cell_type": "code",
   "execution_count": 8,
   "id": "1f000d25-b00d-430f-9ecd-cdb7cc3fbdcc",
   "metadata": {},
   "outputs": [
    {
     "name": "stderr",
     "output_type": "stream",
     "text": [
      "/home/chenlequn/anaconda3/envs/torch/lib/python3.9/site-packages/torchaudio/functional/functional.py:571: UserWarning: At least one mel filterbank has all zero values. The value for `n_mels` (128) may be set too high. Or, the value for `n_freqs` (201) may be set too low.\n",
      "  warnings.warn(\n"
     ]
    }
   ],
   "source": [
    "#------ transformation------\n",
    "visual_train_transforms=transforms.Compose([\n",
    "    torchvision.transforms.Resize((32,32)), # original image size: (640,480)\n",
    "    transforms.RandomHorizontalFlip(),  # data augmentation\n",
    "    transforms.RandomVerticalFlip(p=0.5),\n",
    "    transforms.RandomRotation(degrees=90),\n",
    "    transforms.ToTensor(),\n",
    "    transforms.Normalize(mean=[136.20371045013258], std=[61.9731240029325]),\n",
    "])\n",
    "\n",
    "visual_val_transforms=transforms.Compose([\n",
    "    torchvision.transforms.Resize((32,32)), # original image size: (640,480)\n",
    "    transforms.ToTensor(),\n",
    "    transforms.Normalize(mean=[136.20371045013258], std=[61.9731240029325]),\n",
    "])\n",
    "\n",
    "MFCCs = torchaudio.transforms.MFCC(sample_rate=SAMPLE_RATE,n_mfcc=20)"
   ]
  },
  {
   "cell_type": "code",
   "execution_count": 9,
   "id": "6feface6-3786-42ff-b0e2-dd5313961d95",
   "metadata": {},
   "outputs": [
    {
     "name": "stdout",
     "output_type": "stream",
     "text": [
      "length of the total dataset:5615\n"
     ]
    }
   ],
   "source": [
    "#------ data loader------\n",
    "# create the dataset for all samples\n",
    "mmd = MultimodalDataset(annotations_df,\n",
    "                        VISON_DIR,\n",
    "                        AUDIO_DIR,\n",
    "                        visual_train_transforms,\n",
    "                        MFCCs,\n",
    "                        SAMPLE_RATE,\n",
    "                        device)\n",
    "print (\"length of the total dataset:\" + str(len(mmd)))"
   ]
  },
  {
   "cell_type": "markdown",
   "id": "42ce9153-73b4-4bd7-9a5b-7c3dd77c47f5",
   "metadata": {},
   "source": [
    "### Dealing with Imbalanced dataset: stratified sampling\n",
    "\n",
    "- Split the data into train, validation, and test set\n",
    "- Train and Val are used for hyperparameter tuning\n",
    "- Train set will go through some data augmentation"
   ]
  },
  {
   "cell_type": "code",
   "execution_count": 10,
   "id": "510573e7-74e6-4f4c-8b43-3bde5b42e3e1",
   "metadata": {},
   "outputs": [],
   "source": [
    "# Split the data into train and validation datasets\n",
    "# train_annotations, val_annotations = train_test_split(annotations_df, test_size=0.2)\n",
    "# create the StratifiedShuffleSplit object\n",
    "sss = StratifiedShuffleSplit(n_splits=1, test_size=0.2, random_state=0)\n",
    "\n",
    "# split the indices of annotations into train and test sets\n",
    "train_indices, test_indices = next(sss.split(annotations_df, labels))\n",
    "\n",
    "# split the data into train and test sets\n",
    "train_annotations = annotations_df.iloc[train_indices, :]\n",
    "test_annotations = annotations_df.iloc[test_indices, :]\n",
    "\n",
    "# Create the train and validation datasets\n",
    "train_dataset = MultimodalDataset(train_annotations,\n",
    "                                  image_path = VISON_DIR,\n",
    "                                  audio_path = AUDIO_DIR,\n",
    "                                  image_transformation=visual_train_transforms,\n",
    "                                  MFCCs = MFCCs,\n",
    "                                  target_sample_rate = SAMPLE_RATE,\n",
    "                                  device=device)\n",
    "\n",
    "val_dataset = MultimodalDataset(test_annotations,\n",
    "                                image_path=VISON_DIR,\n",
    "                                audio_path = AUDIO_DIR,\n",
    "                                image_transformation=visual_val_transforms,\n",
    "                                MFCCs = MFCCs,\n",
    "                                target_sample_rate = SAMPLE_RATE,\n",
    "                                device=device)"
   ]
  },
  {
   "cell_type": "code",
   "execution_count": 11,
   "id": "ba372364-13a1-4bdd-8ed1-05877f3ac3f0",
   "metadata": {},
   "outputs": [],
   "source": [
    "# sss = StratifiedShuffleSplit(n_splits=1, test_size=0.2, random_state=0)\n",
    "\n",
    "# # split the indices of annotations into train, validation and test sets\n",
    "# train_indices, test_val_indices = next(sss.split(annotations_df, labels))\n",
    "\n",
    "# # Use another StratifiedShuffleSplit to split the test_val_indices into test and validation sets\n",
    "# val_size = 0.5 # set the validation size\n",
    "# sss2 = StratifiedShuffleSplit(n_splits=1, test_size=val_size, random_state=0)\n",
    "# val_indices, test_indices = next(sss2.split(annotations_df.iloc[test_val_indices], labels[test_val_indices]))\n",
    "\n",
    "# # split the data into train, validation, and test sets\n",
    "# train_annotations = annotations_df.iloc[train_indices, :]\n",
    "# val_annotations = annotations_df.iloc[val_indices, :]\n",
    "# test_annotations = annotations_df.iloc[test_indices, :]\n",
    "\n",
    "# # Create the train, validation and test datasets\n",
    "# train_dataset = LDEDVisionDataset(train_annotations,\n",
    "#                                   image_path = VISON_DIR,\n",
    "#                                   image_transformation=train_transforms,\n",
    "#                                   device=device)\n",
    "\n",
    "# val_dataset = LDEDVisionDataset(val_annotations,\n",
    "#                                 image_path=VISON_DIR,\n",
    "#                                 image_transformation=val_transforms,\n",
    "#                                 device=device)\n",
    "\n",
    "# test_dataset = LDEDVisionDataset(test_annotations,\n",
    "#                                  image_path=VISON_DIR,\n",
    "#                                  image_transformation=val_transforms,\n",
    "#                                  device=device)"
   ]
  },
  {
   "cell_type": "markdown",
   "id": "0ea4096d-d6e3-4216-adc0-066aabc38164",
   "metadata": {},
   "source": [
    "### Create DataLoader using the dataset"
   ]
  },
  {
   "cell_type": "code",
   "execution_count": 12,
   "id": "8034e177-1138-4261-9fd7-382b9b670a4e",
   "metadata": {},
   "outputs": [
    {
     "name": "stdout",
     "output_type": "stream",
     "text": [
      "length of the train dataset:4492\n",
      "length of the val dataset:1123\n"
     ]
    }
   ],
   "source": [
    "# # Create train and val dataloaders\n",
    "train_dataloader = DataLoader(train_dataset, batch_size=BATCH_SIZE, shuffle=True)\n",
    "val_dataloader = DataLoader(val_dataset, batch_size=BATCH_SIZE, shuffle=False)\n",
    "# test_dataloader = DataLoader(test_dataset, batch_size=BATCH_SIZE, shuffle=False)\n",
    "\n",
    "print(\"length of the train dataset:\" +  str(len(train_dataloader.dataset)))\n",
    "print(\"length of the val dataset:\" +  str(len(val_dataloader.dataset)))\n",
    "# print(\"length of the test dataset:\" +  str(len(test_dataloader.dataset)))"
   ]
  },
  {
   "cell_type": "code",
   "execution_count": 13,
   "id": "1ea8fcfb-b7ba-44c4-8c77-63601063e4ec",
   "metadata": {},
   "outputs": [],
   "source": [
    "# model = AudioVisualFusionCNN().to(device)\n",
    "# loss_fn = nn.CrossEntropyLoss()\n",
    "# # Note: weight_decay in pytorch is L2 regularization\n",
    "# # optimizer = optim.SGD(net.parameters(), lr=LEARNING_RATE,\n",
    "# #                     momentum=0.9, weight_decay=5e-4)\n",
    "# optimizer = optim.Adam(model.parameters(), lr=LEARNING_RATE, weight_decay=5e-4)\n",
    "# scheduler = torch.optim.lr_scheduler.CosineAnnealingLR(optimizer, T_max=200)\n",
    "\n",
    "# for batch_idx, (inputs, targets) in enumerate(train_dataloader):\n",
    "#     inputs = [x.to(device) for x in inputs]\n",
    "#     targets = targets.to(device)\n",
    "#     ## forward pass and calculate loss\n",
    "#     outputs = model(*inputs)\n",
    "#     # print (outputs)\n",
    "#     print (targets)\n",
    "#     # print(inputs[0].size(0))\n",
    "#     # loss = loss_fn(outputs, targets)"
   ]
  },
  {
   "cell_type": "markdown",
   "id": "87ca4834-98e1-45f2-bb84-ee2c3dc06ee4",
   "metadata": {},
   "source": [
    "## Training the model"
   ]
  },
  {
   "cell_type": "code",
   "execution_count": 14,
   "id": "cd8bff87-b5f4-4e53-a799-0b22eadfdfdf",
   "metadata": {},
   "outputs": [],
   "source": [
    "resume = False\n",
    "start_epoch = 0\n",
    "best_acc = 0"
   ]
  },
  {
   "cell_type": "code",
   "execution_count": 15,
   "id": "75947a94-7f10-45ac-9a73-acca7d958d83",
   "metadata": {
    "tags": []
   },
   "outputs": [
    {
     "name": "stdout",
     "output_type": "stream",
     "text": [
      "==> Building model..\n",
      "--- Using CUDA ---\n",
      "\n",
      "Epoch: 0\n",
      " [===============================================================================>]  Step: 344ms | Tot: 41s330ms | Loss: 0.959 | Train Acc: 58.972% (2649/4492) 281/281 =================================>..............................................]  Step: 201ms | Tot: 17s722ms | Loss: 0.969 | Train Acc: 57.552% (1105/1920) 120/281 \n",
      " [==============================================================================>.]  Step: 115ms | Tot: 8s111ms | Loss: 0.953 | Test Acc: 59.394% (667/1123) 71/71 \n",
      "\n",
      "Epoch: 1\n",
      " [===============================================================================>]  Step: 100ms | Tot: 38s472ms | Loss: 0.957 | Train Acc: 59.439% (2670/4492) 281/281 \n",
      " [==============================================================================>.]  Step: 25ms | Tot: 9s913ms | Loss: 0.953 | Test Acc: 59.394% (667/1123) 71/71  \n",
      "\n",
      "Epoch: 2\n",
      " [===============================================================================>]  Step: 116ms | Tot: 48s24ms | Loss: 0.957 | Train Acc: 59.328% (2665/4492) 281/281  =================================================================>..............]  Step: 211ms | Tot: 40s91ms | Loss: 0.961 | Train Acc: 58.983% (2180/3696) 231/281 \n",
      " [==============================================================================>.]  Step: 27ms | Tot: 9s517ms | Loss: 0.953 | Test Acc: 59.394% (667/1123) 71/71  \n",
      "\n",
      "Epoch: 3\n",
      " [================>...............................................................]  Step: 177ms | Tot: 9s988ms | Loss: 0.973 | Train Acc: 57.866% (537/928) 58/281 \r"
     ]
    },
    {
     "name": "stderr",
     "output_type": "stream",
     "text": [
      "\n",
      "KeyboardInterrupt\n",
      "\n"
     ]
    }
   ],
   "source": [
    "# -----Model---------------\n",
    "print('==> Building model..')\n",
    "\n",
    "net = AudioVisualFusionCNN() \n",
    "\n",
    "net = net.to(device)\n",
    "if device == 'cuda':\n",
    "    net = torch.nn.DataParallel(net)\n",
    "    cudnn.benchmark = True\n",
    "    print (\"--- Using CUDA ---\")\n",
    "\n",
    "if resume:\n",
    "    # Load checkpoint.\n",
    "    print('==> Resuming from checkpoint..')\n",
    "    assert os.path.isdir('checkpoint'), 'Error: no checkpoint directory found!'\n",
    "    checkpoint = torch.load('./checkpoint/ckpt.pth')\n",
    "    net.load_state_dict(checkpoint['net'])\n",
    "    best_acc = checkpoint['acc']\n",
    "    start_epoch = checkpoint['epoch']\n",
    "\n",
    "loss_fn = nn.CrossEntropyLoss()\n",
    "# Note: weight_decay in pytorch is L2 regularization\n",
    "# optimizer = optim.SGD(net.parameters(), lr=LEARNING_RATE,\n",
    "#                     momentum=0.9, weight_decay=5e-4)\n",
    "optimizer = optim.Adam(net.parameters(), lr=LEARNING_RATE, weight_decay=5e-4)\n",
    "scheduler = torch.optim.lr_scheduler.CosineAnnealingLR(optimizer, T_max=200)\n",
    "\n",
    "\n",
    "model, optimizer, (train_losses, valid_losses, train_accuracy, valid_accuracy) = training_loop(net, loss_fn, optimizer,\n",
    "                                                                                               train_dataloader, val_dataloader, EPOCHS, \n",
    "                                                                                               scheduler, device, mode = \"multi_model\")"
   ]
  },
  {
   "cell_type": "code",
   "execution_count": null,
   "id": "46fcaccc-b635-48b3-baa9-50fadaa0c31f",
   "metadata": {},
   "outputs": [],
   "source": [
    "valid_accuracy"
   ]
  },
  {
   "cell_type": "code",
   "execution_count": null,
   "id": "944b62d8-6dae-461c-9924-59b09115d0c6",
   "metadata": {},
   "outputs": [],
   "source": [
    "loss_acc_plot(train_losses, valid_losses, train_accuracy, valid_accuracy, 10, \"Initial Training\",\n",
    "              interval=1, yloss_limit1=0, yloss_limit2=1.0, yacc_limit1=60, yacc_limit2=100)"
   ]
  },
  {
   "cell_type": "code",
   "execution_count": null,
   "id": "dbed146e-2c7b-45e7-9163-47b067f04385",
   "metadata": {},
   "outputs": [],
   "source": [
    "get_accuracy(model, val_dataloader, device, mode = 'multi_model')"
   ]
  },
  {
   "cell_type": "code",
   "execution_count": null,
   "id": "1c311870-219f-4c62-a81e-6ee04af8d412",
   "metadata": {},
   "outputs": [],
   "source": [
    "test_accuracy_mean, test_accuracy_std, auc_mean, auc_std = model_evaluation(model, val_dataloader, classes, device, classifier_name = \"MFCC-CNN\",\n",
    "                                                                            signal_type = \"denoised\", seed=0, mode = 'multi_model')"
   ]
  },
  {
   "cell_type": "code",
   "execution_count": null,
   "id": "1e33851a-0c36-45ce-a780-b2df4171de42",
   "metadata": {},
   "outputs": [],
   "source": [
    "yt, yp = class_report(model, val_dataloader, device, classes, mode=\"multi_model\")"
   ]
  },
  {
   "cell_type": "code",
   "execution_count": null,
   "id": "3c668d95-7a34-4782-b63a-58b4ce841b45",
   "metadata": {},
   "outputs": [],
   "source": [
    "conf_matrix(yt, yp, classes)\n",
    "save_fig(\"confusion_matrix(audio_visual)\")"
   ]
  },
  {
   "cell_type": "code",
   "execution_count": null,
   "id": "57711423-76d8-410e-a7a9-5475bc49d3df",
   "metadata": {},
   "outputs": [],
   "source": [
    "model = AudioVisualFusionCNN()\n",
    "image = torch.randn(1, 1, 32, 32)\n",
    "audio = torch.randn(1, 1, 20, 8)\n",
    "predictions = model(image, audio)\n",
    "# make_dot(predictions.mean(), params=dict(model.named_parameters()))\n",
    "make_dot(predictions)\n",
    "# make_dot(predictions.mean(), params=dict(model.named_parameters()),show_attrs=True, show_saved=True)"
   ]
  },
  {
   "cell_type": "code",
   "execution_count": null,
   "id": "97ee8406-cc1c-471d-9959-e2f8409672a2",
   "metadata": {},
   "outputs": [],
   "source": [
    "input_names = ['Sentence']\n",
    "output_names = ['yhat']\n",
    "torch.onnx.export(model, batch.text, 'rnn.onnx', input_names=input_names, output_names=output_names)"
   ]
  }
 ],
 "metadata": {
  "kernelspec": {
   "display_name": "Python 3 (ipykernel)",
   "language": "python",
   "name": "python3"
  },
  "language_info": {
   "codemirror_mode": {
    "name": "ipython",
    "version": 3
   },
   "file_extension": ".py",
   "mimetype": "text/x-python",
   "name": "python",
   "nbconvert_exporter": "python",
   "pygments_lexer": "ipython3",
   "version": "3.9.16"
  }
 },
 "nbformat": 4,
 "nbformat_minor": 5
}
