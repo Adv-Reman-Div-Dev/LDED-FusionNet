{
 "cells": [
  {
   "cell_type": "markdown",
   "id": "8c503e06-1452-4c91-a1c8-a2bd6ab702a5",
   "metadata": {},
   "source": [
    "# Sony Video Camera Data: Segmentation, Image Extraction, and Preparation"
   ]
  },
  {
   "cell_type": "code",
   "execution_count": 16,
   "id": "8367db36-7182-43e3-a55f-3e10b6dd657e",
   "metadata": {},
   "outputs": [],
   "source": [
    "## Required python libraries\n",
    "import pandas as pd\n",
    "import numpy as np\n",
    "import scipy as sp\n",
    "import scipy.signal\n",
    "import os\n",
    "import math\n",
    "import sys\n",
    "from scipy.interpolate import griddata\n",
    "\n",
    "# to make this notebook's output stable across runs\n",
    "np.random.seed(42)\n",
    "\n",
    "pd.plotting.register_matplotlib_converters()\n",
    "\n",
    "\n",
    "import matplotlib as mpl\n",
    "import matplotlib.pyplot as plt\n",
    "mpl.rc('axes', labelsize=14)\n",
    "mpl.rc('xtick', labelsize=12)\n",
    "mpl.rc('ytick', labelsize=12)\n",
    "%matplotlib inline\n",
    "import seaborn as sns\n",
    "import librosa\n",
    "import matplotlib.font_manager as font_manager\n",
    "\n",
    "#---------------opencv------------------------\n",
    "import cv2\n",
    "from IPython.display import Image, display\n",
    "from tqdm import tqdm"
   ]
  },
  {
   "cell_type": "code",
   "execution_count": 5,
   "id": "202a2092-019f-4508-a597-bd0e900d0cb2",
   "metadata": {},
   "outputs": [],
   "source": [
    "from moviepy.editor import VideoFileClip"
   ]
  },
  {
   "cell_type": "code",
   "execution_count": 8,
   "id": "cd6f3959-4f7a-41a6-9a87-56e3c71b2dad",
   "metadata": {},
   "outputs": [],
   "source": [
    "# Where to save the figures, and dataset locations\n",
    "PROJECT_ROOT_DIR = \"../\"\n",
    "\n",
    "Multimodal_dataset_PATH = \"/home/chenlequn/Dataset/LDED_acoustic_visual_monitoring_dataset\"\n",
    "\n",
    "Video_path = os.path.join(Multimodal_dataset_PATH, f'Sony Camera')\n",
    "IMAGE_PATH = os.path.join(PROJECT_ROOT_DIR, \"result_images\", 'Sony-Camera-Image')\n",
    "\n",
    "os.makedirs(IMAGE_PATH, exist_ok=True)\n",
    "\n",
    "## function for automatically save the diagram/graph into the folder \n",
    "def save_fig(fig_id, tight_layout=True, fig_extension=\"png\", resolution=300):\n",
    "    path = os.path.join(IMAGE_PATH, fig_id + \".\" + fig_extension)\n",
    "    print(\"Saving figure\", fig_id)\n",
    "    if tight_layout:\n",
    "        plt.tight_layout()\n",
    "    plt.savefig(path, format=fig_extension, dpi=resolution)\n",
    "\n",
    "# Ignore useless warnings (see SciPy issue #5998)\n",
    "import warnings\n",
    "warnings.filterwarnings(action=\"ignore\", message=\"^internal gelsd\")"
   ]
  },
  {
   "cell_type": "code",
   "execution_count": 31,
   "id": "38527505-f127-4574-8e91-a6be4a72d748",
   "metadata": {},
   "outputs": [],
   "source": [
    "# Define function to save figures\n",
    "def save_frames(frame, sample_index, counter, image_output_folder, fig_extension=\"png\"):\n",
    "    filename = f'sample_{sample_index}_{counter}.{fig_extension}'\n",
    "    path = os.path.join(image_output_folder, filename)\n",
    "    # print(\"Saving frame\", filename)\n",
    "    cv2.imwrite(path, frame)\n",
    "    # cv2.imwrite(path, frame, [int(cv2.IMWRITE_JPEG_QUALITY), 100])\n",
    "\n",
    "# Function to display video information\n",
    "def display_video_info(video_path):\n",
    "    cap = cv2.VideoCapture(video_path)\n",
    "    if not cap.isOpened():\n",
    "        print(\"Error: Could not open video.\")\n",
    "        return\n",
    "\n",
    "    fps = cap.get(cv2.CAP_PROP_FPS)\n",
    "    total_frames = int(cap.get(cv2.CAP_PROP_FRAME_COUNT))\n",
    "    total_duration = total_frames / fps\n",
    "    # Convert total duration to minutes and seconds\n",
    "    total_duration_min = int(total_duration // 60)\n",
    "    total_duration_sec = int(total_duration % 60)\n",
    "\n",
    "    print(f\"Video FPS: {fps}\")\n",
    "    print(f\"Total Frames: {total_frames}\")\n",
    "    print(f\"Total Duration (seconds): {total_duration}\")\n",
    "    print(f\"Total Duration: {total_duration_min} min {total_duration_sec} seconds\")\n",
    "\n",
    "\n",
    "    cap.release()\n",
    "\n",
    "# Function to crop video by time and save frames\n",
    "def crop_video_and_save_frames(video_path, image_output_folder, start_time, end_time, sample_index, target_fps=25):\n",
    "    cap = cv2.VideoCapture(video_path)\n",
    "    if not cap.isOpened():\n",
    "        print(\"Error: Could not open video.\")\n",
    "        return\n",
    "    \n",
    "    fps = cap.get(cv2.CAP_PROP_FPS)\n",
    "    start_frame = int(start_time * fps)\n",
    "    end_frame = int(end_time * fps)\n",
    "    frame_interval = int(fps / target_fps)\n",
    "    \n",
    "    # Calculate total frames to process and initialize tqdm\n",
    "    total_frames_to_process = (end_frame - start_frame) // frame_interval\n",
    "    pbar = tqdm(total=total_frames_to_process, desc=\"Processing frames\")\n",
    "    \n",
    "    counter = 1  # Initialize frame counter\n",
    "    cap.set(cv2.CAP_PROP_POS_FRAMES, start_frame)\n",
    "    \n",
    "    while True:\n",
    "        ret, frame = cap.read()\n",
    "        if not ret or cap.get(cv2.CAP_PROP_POS_FRAMES) > end_frame:\n",
    "            break  # Stop if the end of the segment is reached or on read error\n",
    "        \n",
    "        if (counter - 1) % frame_interval == 0:\n",
    "            save_frames(frame, sample_index, counter, image_output_folder)\n",
    "            pbar.update(1)\n",
    "        \n",
    "        counter += 1\n",
    "\n",
    "    pbar.close()\n",
    "    cap.release()"
   ]
  },
  {
   "cell_type": "markdown",
   "id": "9134d9da-16ca-4d24-8cd2-04f99e4c4a9f",
   "metadata": {},
   "source": [
    "## Segment MTS video file"
   ]
  },
  {
   "cell_type": "code",
   "execution_count": 49,
   "id": "65f578ba-b900-4fd6-834b-d47ae3cadb8f",
   "metadata": {},
   "outputs": [
    {
     "name": "stdout",
     "output_type": "stream",
     "text": [
      "Video FPS: 25.0\n",
      "Total Frames: 7384\n",
      "Total Duration (seconds): 295.36\n",
      "Total Duration: 4 min 55 seconds\n"
     ]
    }
   ],
   "source": [
    "sample_index = 21\n",
    "\n",
    "# ----------------Define input video file path---------------\n",
    "raw_video_file = os.path.join(Video_path, f'{sample_index}.MTS') \n",
    "\n",
    "# Output folders\n",
    "image_output_folder = os.path.join(Multimodal_dataset_PATH, '25Hz',str(sample_index), 'sony-images')\n",
    "sony_camera_image_folder = os.path.join(Multimodal_dataset_PATH, '25Hz',str(sample_index), 'sony_camera_images')\n",
    "\n",
    "# Create output folders if they don't exist\n",
    "if not os.path.exists(image_output_folder):\n",
    "    os.makedirs(image_output_folder)\n",
    "\n",
    "# Create output folders if they don't exist\n",
    "if not os.path.exists(sony_camera_image_folder):\n",
    "    os.makedirs(sony_camera_image_folder)\n",
    "\n",
    "# Display video information\n",
    "display_video_info(raw_video_file)"
   ]
  },
  {
   "cell_type": "code",
   "execution_count": 46,
   "id": "518c875d-ec0a-48b1-8c05-11c0ad55d385",
   "metadata": {},
   "outputs": [
    {
     "name": "stderr",
     "output_type": "stream",
     "text": [
      "Processing frames:   0%|                               | 0/4500 [00:00<?, ?it/s][h264 @ 0x5ddd780] Missing reference picture, default is 2147483647\n",
      "[h264 @ 0x5c2b800] reference picture missing during reorder\n",
      "[h264 @ 0x5c2b800] Missing reference picture, default is 2147483647\n",
      "Processing frames: 100%|████████████████████| 4500/4500 [02:40<00:00, 27.97it/s]\n"
     ]
    }
   ],
   "source": [
    "# Define start and end times for cropping\n",
    "# Sample 21: 0 - 176.76 seconds, in total, 4419 images (initial several layers are missing in the sony videos)\n",
    "# Sample 22: 0 - 178 seconds, in total \n",
    "start_time = 0  # Start time in seconds \n",
    "end_time = 180    # End time in seconds\n",
    "\n",
    "# Crop the video and save frames at 25 Hz\n",
    "crop_video_and_save_frames(raw_video_file, image_output_folder, start_time, end_time, sample_index, target_fps=25)"
   ]
  },
  {
   "cell_type": "markdown",
   "id": "f4fb235a-a798-4765-bef0-7ee2dc703b89",
   "metadata": {},
   "source": [
    "## Fix the index to match with the coaxial image stream."
   ]
  },
  {
   "cell_type": "code",
   "execution_count": 50,
   "id": "daa780bc-5ea2-410b-908a-99c635273750",
   "metadata": {},
   "outputs": [
    {
     "name": "stderr",
     "output_type": "stream",
     "text": [
      "Renaming images: 100%|███████████████████| 4500/4500 [00:00<00:00, 88076.16it/s]\n"
     ]
    }
   ],
   "source": [
    "import os\n",
    "\n",
    "# Calculate the index offset\n",
    "index_offset = 5030 - 4417\n",
    "# Sample 21: offset is 5030 - 4417\n",
    "# Sample 22: offset is 4623 - \n",
    "\n",
    "# Get all PNG files in the directory\n",
    "image_files = [f for f in os.listdir(image_output_folder) if f.endswith(\".png\")]\n",
    "\n",
    "# Loop through all files in the directory with a progress bar\n",
    "for filename in tqdm(image_files, desc=\"Renaming images\"):\n",
    "    # the format 'sample_<sample_index>_<current_index>.png'\n",
    "    parts = filename.split('_')\n",
    "    if len(parts) == 3:\n",
    "        current_index_part = parts[2].split('.')[0]  # This gets the numeric part of '<current_index>.png'\n",
    "        try:\n",
    "            current_index = int(current_index_part)\n",
    "            # Calculate the new index\n",
    "            new_index = current_index + index_offset\n",
    "            # Generate the new filename\n",
    "            new_filename = f'sample_{sample_index}_{new_index}.png'\n",
    "            # Full path for current and new file names\n",
    "            current_file_path = os.path.join(image_output_folder, filename)\n",
    "            new_file_path = os.path.join(sony_camera_image_folder, new_filename)\n",
    "            # Rename the file\n",
    "            os.rename(current_file_path, new_file_path)\n",
    "        except ValueError:\n",
    "            # In case the filename format is unexpected and doesn't contain an index\n",
    "            continue  # Skip files that do not match the expected format"
   ]
  }
 ],
 "metadata": {
  "kernelspec": {
   "display_name": "Python 3 (ipykernel)",
   "language": "python",
   "name": "python3"
  },
  "language_info": {
   "codemirror_mode": {
    "name": "ipython",
    "version": 3
   },
   "file_extension": ".py",
   "mimetype": "text/x-python",
   "name": "python",
   "nbconvert_exporter": "python",
   "pygments_lexer": "ipython3",
   "version": "3.9.16"
  }
 },
 "nbformat": 4,
 "nbformat_minor": 5
}
