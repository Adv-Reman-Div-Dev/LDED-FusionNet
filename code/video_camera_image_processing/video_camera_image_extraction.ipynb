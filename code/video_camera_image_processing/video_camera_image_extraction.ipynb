{
 "cells": [
  {
   "cell_type": "markdown",
   "id": "8c503e06-1452-4c91-a1c8-a2bd6ab702a5",
   "metadata": {},
   "source": [
    "# Sony Video Camera Data: Segmentation, Image Extraction, and Preparation"
   ]
  },
  {
   "cell_type": "code",
   "execution_count": 1,
   "id": "8367db36-7182-43e3-a55f-3e10b6dd657e",
   "metadata": {},
   "outputs": [],
   "source": [
    "## Required python libraries\n",
    "import pandas as pd\n",
    "import numpy as np\n",
    "import scipy as sp\n",
    "import scipy.signal\n",
    "import os\n",
    "import math\n",
    "import re\n",
    "import sys\n",
    "import shutil\n",
    "from scipy.interpolate import griddata\n",
    "import subprocess\n",
    "from collections import defaultdict\n",
    "# to make this notebook's output stable across runs\n",
    "np.random.seed(42)\n",
    "\n",
    "pd.plotting.register_matplotlib_converters()\n",
    "\n",
    "\n",
    "import matplotlib as mpl\n",
    "import matplotlib.pyplot as plt\n",
    "mpl.rc('axes', labelsize=14)\n",
    "mpl.rc('xtick', labelsize=12)\n",
    "mpl.rc('ytick', labelsize=12)\n",
    "%matplotlib inline\n",
    "import seaborn as sns\n",
    "import librosa\n",
    "import matplotlib.font_manager as font_manager\n",
    "\n",
    "#---------------opencv------------------------\n",
    "import cv2\n",
    "from IPython.display import Image, display\n",
    "from tqdm.notebook import tqdm"
   ]
  },
  {
   "cell_type": "code",
   "execution_count": 2,
   "id": "202a2092-019f-4508-a597-bd0e900d0cb2",
   "metadata": {
    "scrolled": true
   },
   "outputs": [],
   "source": [
    "from moviepy.editor import VideoFileClip\n",
    "import imageio_ffmpeg as ffmpeg"
   ]
  },
  {
   "cell_type": "code",
   "execution_count": 3,
   "id": "cd6f3959-4f7a-41a6-9a87-56e3c71b2dad",
   "metadata": {},
   "outputs": [],
   "source": [
    "# Where to save the figures, and dataset locations\n",
    "PROJECT_ROOT_DIR = \"../\"\n",
    "\n",
    "Multimodal_dataset_PATH = \"/home/chenlequn/pan1/Dataset/LDED_acoustic_visual_monitoring_dataset\"\n",
    "\n",
    "Video_path = os.path.join(Multimodal_dataset_PATH, f'Sony Camera')\n",
    "IMAGE_PATH = os.path.join(PROJECT_ROOT_DIR, \"result_images\", 'Sony-Camera-Image')\n",
    "\n",
    "os.makedirs(IMAGE_PATH, exist_ok=True)\n",
    "\n",
    "## function for automatically save the diagram/graph into the folder \n",
    "def save_fig(fig_id, tight_layout=True, fig_extension=\"png\", resolution=300):\n",
    "    path = os.path.join(IMAGE_PATH, fig_id + \".\" + fig_extension)\n",
    "    print(\"Saving figure\", fig_id)\n",
    "    if tight_layout:\n",
    "        plt.tight_layout()\n",
    "    plt.savefig(path, format=fig_extension, dpi=resolution)\n",
    "\n",
    "# Ignore useless warnings (see SciPy issue #5998)\n",
    "import warnings\n",
    "warnings.filterwarnings(action=\"ignore\", message=\"^internal gelsd\")"
   ]
  },
  {
   "cell_type": "code",
   "execution_count": 4,
   "id": "38527505-f127-4574-8e91-a6be4a72d748",
   "metadata": {},
   "outputs": [],
   "source": [
    "# Define function to save figures\n",
    "def save_frames(frame, sample_index, counter, image_output_folder, fig_extension=\"png\"):\n",
    "    filename = f'sample_{sample_index}_{counter}.{fig_extension}'\n",
    "    path = os.path.join(image_output_folder, filename)\n",
    "    # print(\"Saving frame\", filename)\n",
    "    cv2.imwrite(path, frame)\n",
    "    # cv2.imwrite(path, frame, [int(cv2.IMWRITE_JPEG_QUALITY), 100])\n",
    "\n",
    "\n",
    "# Function to display video information\n",
    "def display_video_info(video_path):\n",
    "    cap = cv2.VideoCapture(video_path)\n",
    "    if not cap.isOpened():\n",
    "        print(\"Error: Could not open video.\")\n",
    "        return\n",
    "\n",
    "    fps = cap.get(cv2.CAP_PROP_FPS)\n",
    "    total_frames = int(cap.get(cv2.CAP_PROP_FRAME_COUNT))\n",
    "    total_duration = total_frames / fps\n",
    "    # Convert total duration to minutes and seconds\n",
    "    total_duration_min = int(total_duration // 60)\n",
    "    total_duration_sec = int(total_duration % 60)\n",
    "\n",
    "    print(f\"Video FPS: {fps}\")\n",
    "    print(f\"Total Frames: {total_frames}\")\n",
    "    print(f\"Total Duration (seconds): {total_duration}\")\n",
    "    print(f\"Total Duration: {total_duration_min} min {total_duration_sec} seconds\")\n",
    "\n",
    "\n",
    "    cap.release()\n",
    "\n",
    "# Function to crop video by time and save frames\n",
    "def crop_video_and_save_frames(video_path, image_output_folder, start_time, end_time, sample_index, target_fps=25):\n",
    "    cap = cv2.VideoCapture(video_path)\n",
    "    if not cap.isOpened():\n",
    "        print(\"Error: Could not open video.\")\n",
    "        return\n",
    "    \n",
    "    fps = cap.get(cv2.CAP_PROP_FPS)\n",
    "    start_frame = int(start_time * fps)\n",
    "    end_frame = int(end_time * fps)\n",
    "    frame_interval = int(fps / target_fps)\n",
    "    \n",
    "    # Calculate total frames to process and initialize tqdm\n",
    "    total_frames_to_process = (end_frame - start_frame) // frame_interval\n",
    "    pbar = tqdm(total=total_frames_to_process, desc=\"Processing frames\")\n",
    "    \n",
    "    counter = 1  # Initialize frame counter\n",
    "    cap.set(cv2.CAP_PROP_POS_FRAMES, start_frame)\n",
    "    \n",
    "    while True:\n",
    "        ret, frame = cap.read()\n",
    "        if not ret or cap.get(cv2.CAP_PROP_POS_FRAMES) > end_frame:\n",
    "            break  # Stop if the end of the segment is reached or on read error\n",
    "        \n",
    "        if (counter - 1) % frame_interval == 0:\n",
    "            save_frames(frame, sample_index, counter, image_output_folder)\n",
    "            pbar.update(1)\n",
    "        \n",
    "        counter += 1\n",
    "\n",
    "    pbar.close()\n",
    "    cap.release()\n",
    "\n",
    "\n",
    "def format_time(seconds):\n",
    "    \"\"\"Converts time in seconds to HH:MM:SS format.\"\"\"\n",
    "    hours, remainder = divmod(seconds, 3600)\n",
    "    minutes, seconds = divmod(remainder, 60)\n",
    "    return f\"{int(hours):02}:{int(minutes):02}:{int(seconds):02}\"\n",
    "\n",
    "def crop_video_and_save_frames_ffmpeg(video_path, image_output_folder, start_time, end_time, sample_index, target_fps=25):\n",
    "    # Convert start_time and end_time to HH:MM:SS format\n",
    "    start_timestamp = format_time(start_time)\n",
    "    duration = end_time - start_time\n",
    "    duration_timestamp = format_time(duration)\n",
    "    total_frames = int(duration * target_fps)\n",
    "\n",
    "    # Ensure output folder exists\n",
    "    if not os.path.exists(image_output_folder):\n",
    "        os.makedirs(image_output_folder)\n",
    "\n",
    "    # Output pattern for frames\n",
    "    output_pattern = os.path.join(image_output_folder, f\"sample_{sample_index}_%d.png\")\n",
    "\n",
    "    # Build the FFmpeg command\n",
    "    command = [\n",
    "        'ffmpeg',\n",
    "        '-ss', start_timestamp,                 # Start time\n",
    "        '-t', duration_timestamp,               # Duration to process\n",
    "        '-i', video_path,                       # Input file path\n",
    "        '-vf', f'yadif,fps={target_fps}',       # Video filters\n",
    "        '-q:v', '1',                            # Output quality (lower is better)\n",
    "        '-start_number', '1',                   # Start numbering frames at 0\n",
    "        '-progress', 'pipe:1',                  # Output progress to pipe\n",
    "        output_pattern\n",
    "    ]\n",
    "\n",
    "    # Start the FFmpeg process and include a progress bar\n",
    "    subprocess.run(command, check=True)"
   ]
  },
  {
   "cell_type": "markdown",
   "id": "9134d9da-16ca-4d24-8cd2-04f99e4c4a9f",
   "metadata": {},
   "source": [
    "## Segment MTS video file into Images"
   ]
  },
  {
   "cell_type": "code",
   "execution_count": 20,
   "id": "65f578ba-b900-4fd6-834b-d47ae3cadb8f",
   "metadata": {},
   "outputs": [
    {
     "name": "stdout",
     "output_type": "stream",
     "text": [
      "Video FPS: 25.0\n",
      "Total Frames: 22374\n",
      "Total Duration (seconds): 894.96\n",
      "Total Duration: 14 min 54 seconds\n"
     ]
    }
   ],
   "source": [
    "sample_index = 32\n",
    "\n",
    "# ----------------Define input video file path---------------\n",
    "raw_video_file = os.path.join(Video_path, f'{sample_index}.MTS') \n",
    "\n",
    "# Output folders\n",
    "image_output_folder = os.path.join(Multimodal_dataset_PATH, '25Hz',str(sample_index), 'sony-images')\n",
    "sony_camera_image_folder = os.path.join(Multimodal_dataset_PATH, '25Hz',str(sample_index), 'sony_camera_images')\n",
    "\n",
    "# Create output folders if they don't exist\n",
    "if not os.path.exists(image_output_folder):\n",
    "    os.makedirs(image_output_folder)\n",
    "\n",
    "# Create output folders if they don't exist\n",
    "if not os.path.exists(sony_camera_image_folder):\n",
    "    os.makedirs(sony_camera_image_folder)\n",
    "\n",
    "# Display video information\n",
    "display_video_info(raw_video_file)"
   ]
  },
  {
   "cell_type": "code",
   "execution_count": 87,
   "id": "518c875d-ec0a-48b1-8c05-11c0ad55d385",
   "metadata": {
    "scrolled": true
   },
   "outputs": [
    {
     "name": "stderr",
     "output_type": "stream",
     "text": [
      "ffmpeg version 4.2.2 Copyright (c) 2000-2019 the FFmpeg developers\n",
      "  built with gcc 7.3.0 (crosstool-NG 1.23.0.449-a04d0)\n",
      "  configuration: --prefix=/tmp/build/80754af9/ffmpeg_1587154242452/_h_env_placehold_placehold_placehold_placehold_placehold_placehold_placehold_placehold_placehold_placehold_placehold_placehold_placehold_placehold_placehold_placehold_placehold_placehold_placehold_placehold_placeho --cc=/tmp/build/80754af9/ffmpeg_1587154242452/_build_env/bin/x86_64-conda_cos6-linux-gnu-cc --disable-doc --enable-avresample --enable-gmp --enable-hardcoded-tables --enable-libfreetype --enable-libvpx --enable-pthreads --enable-libopus --enable-postproc --enable-pic --enable-pthreads --enable-shared --enable-static --enable-version3 --enable-zlib --enable-libmp3lame --disable-nonfree --enable-gpl --enable-gnutls --disable-openssl --enable-libopenh264 --enable-libx264\n",
      "  libavutil      56. 31.100 / 56. 31.100\n",
      "  libavcodec     58. 54.100 / 58. 54.100\n",
      "  libavformat    58. 29.100 / 58. 29.100\n",
      "  libavdevice    58.  8.100 / 58.  8.100\n",
      "  libavfilter     7. 57.100 /  7. 57.100\n",
      "  libavresample   4.  0.  0 /  4.  0.  0\n",
      "  libswscale      5.  5.100 /  5.  5.100\n",
      "  libswresample   3.  5.100 /  3.  5.100\n",
      "  libpostproc    55.  5.100 / 55.  5.100\n",
      "Input #0, mpegts, from '/home/chenlequn/pan1/Dataset/LDED_acoustic_visual_monitoring_dataset/Sony Camera/32.MTS':\n",
      "  Duration: 00:14:54.94, start: 1.040000, bitrate: 16447 kb/s\n",
      "  Program 1 \n",
      "    Stream #0:0[0x1011]: Video: h264 (High) (HDMV / 0x564D4448), yuv420p(top first), 1920x1080 [SAR 1:1 DAR 16:9], 25 fps, 50 tbr, 90k tbn, 50 tbc\n",
      "    Stream #0:1[0x1100]: Audio: ac3 (AC-3 / 0x332D4341), 48000 Hz, stereo, fltp, 256 kb/s\n",
      "    Stream #0:2[0x1200]: Subtitle: hdmv_pgs_subtitle ([144][0][0][0] / 0x0090), 1920x1080\n",
      "Stream mapping:\n",
      "  Stream #0:0 -> #0:0 (h264 (native) -> png (native))\n",
      "Press [q] to stop, [?] for help\n",
      "Output #0, image2, to '/home/chenlequn/pan1/Dataset/LDED_acoustic_visual_monitoring_dataset/25Hz/32/sony-images/sample_32_%d.png':\n",
      "  Metadata:\n",
      "    encoder         : Lavf58.29.100\n",
      "    Stream #0:0: Video: png, rgb24, 1920x1080 [SAR 1:1 DAR 16:9], q=2-31, 200 kb/s, 25 fps, 25 tbn, 25 tbc\n",
      "    Metadata:\n",
      "      encoder         : Lavc58.54.100 png\n",
      "frame=   63 fps=0.0 q=-0.0 size=N/A time=00:00:01.28 bitrate=N/A speed=2.53x    \r"
     ]
    },
    {
     "name": "stdout",
     "output_type": "stream",
     "text": [
      "frame=63\n",
      "fps=0.00\n",
      "stream_0_0_q=-0.0\n",
      "bitrate=N/A\n",
      "total_size=N/A\n",
      "out_time_us=1280000\n",
      "out_time_ms=1280000\n",
      "out_time=00:00:01.280000\n",
      "dup_frames=0\n",
      "drop_frames=0\n",
      "speed=2.53x\n",
      "progress=continue\n",
      "frame=133\n",
      "fps=132.13\n",
      "stream_0_0_q=-0.0\n",
      "bitrate=N/A\n",
      "total_size=N/A\n",
      "out_time_us=4080000\n",
      "out_time_ms=4080000\n",
      "out_time=00:00:04.080000\n",
      "dup_frames=0\n",
      "drop_frames=0\n",
      "speed=4.05x\n",
      "progress=continue\n"
     ]
    },
    {
     "name": "stderr",
     "output_type": "stream",
     "text": [
      "frame=  202 fps=133 q=-0.0 size=N/A time=00:00:06.84 bitrate=N/A speed=4.52x    \r"
     ]
    },
    {
     "name": "stdout",
     "output_type": "stream",
     "text": [
      "frame=202\n",
      "fps=133.45\n",
      "stream_0_0_q=-0.0\n",
      "bitrate=N/A\n",
      "total_size=N/A\n",
      "out_time_us=6840000\n",
      "out_time_ms=6840000\n",
      "out_time=00:00:06.840000\n",
      "dup_frames=0\n",
      "drop_frames=0\n",
      "speed=4.52x\n",
      "progress=continue\n"
     ]
    },
    {
     "name": "stderr",
     "output_type": "stream",
     "text": [
      "frame=  273 fps=135 q=-0.0 size=N/A time=00:00:09.68 bitrate=N/A speed=4.79x    \r"
     ]
    },
    {
     "name": "stdout",
     "output_type": "stream",
     "text": [
      "frame=273\n",
      "fps=135.12\n",
      "stream_0_0_q=-0.0\n",
      "bitrate=N/A\n",
      "total_size=N/A\n",
      "out_time_us=9680000\n",
      "out_time_ms=9680000\n",
      "out_time=00:00:09.680000\n",
      "dup_frames=0\n",
      "drop_frames=0\n",
      "speed=4.79x\n",
      "progress=continue\n"
     ]
    },
    {
     "name": "stderr",
     "output_type": "stream",
     "text": [
      "frame=  343 fps=136 q=-0.0 size=N/A time=00:00:12.48 bitrate=N/A speed=4.95x    \r"
     ]
    },
    {
     "name": "stdout",
     "output_type": "stream",
     "text": [
      "frame=343\n",
      "fps=136.01\n",
      "stream_0_0_q=-0.0\n",
      "bitrate=N/A\n",
      "total_size=N/A\n",
      "out_time_us=12480000\n",
      "out_time_ms=12480000\n",
      "out_time=00:00:12.480000\n",
      "dup_frames=0\n",
      "drop_frames=0\n",
      "speed=4.95x\n",
      "progress=continue\n"
     ]
    },
    {
     "name": "stderr",
     "output_type": "stream",
     "text": [
      "frame=  417 fps=138 q=-0.0 size=N/A time=00:00:15.44 bitrate=N/A speed= 5.1x    \r"
     ]
    },
    {
     "name": "stdout",
     "output_type": "stream",
     "text": [
      "frame=417\n",
      "fps=137.66\n",
      "stream_0_0_q=-0.0\n",
      "bitrate=N/A\n",
      "total_size=N/A\n",
      "out_time_us=15440000\n",
      "out_time_ms=15440000\n",
      "out_time=00:00:15.440000\n",
      "dup_frames=0\n",
      "drop_frames=0\n",
      "speed= 5.1x\n",
      "progress=continue\n"
     ]
    },
    {
     "name": "stderr",
     "output_type": "stream",
     "text": [
      "frame=  491 fps=139 q=-0.0 size=N/A time=00:00:18.40 bitrate=N/A speed=5.21x    \r"
     ]
    },
    {
     "name": "stdout",
     "output_type": "stream",
     "text": [
      "frame=491\n",
      "fps=139.12\n",
      "stream_0_0_q=-0.0\n",
      "bitrate=N/A\n",
      "total_size=N/A\n",
      "out_time_us=18400000\n",
      "out_time_ms=18400000\n",
      "out_time=00:00:18.400000\n",
      "dup_frames=0\n",
      "drop_frames=0\n",
      "speed=5.21x\n",
      "progress=continue\n"
     ]
    },
    {
     "name": "stderr",
     "output_type": "stream",
     "text": [
      "frame=  562 fps=139 q=-0.0 size=N/A time=00:00:21.24 bitrate=N/A speed=5.27x    \r"
     ]
    },
    {
     "name": "stdout",
     "output_type": "stream",
     "text": [
      "frame=562\n",
      "fps=139.37\n",
      "stream_0_0_q=-0.0\n",
      "bitrate=N/A\n",
      "total_size=N/A\n",
      "out_time_us=21240000\n",
      "out_time_ms=21240000\n",
      "out_time=00:00:21.240000\n",
      "dup_frames=0\n",
      "drop_frames=0\n",
      "speed=5.27x\n",
      "progress=continue\n"
     ]
    },
    {
     "name": "stderr",
     "output_type": "stream",
     "text": [
      "frame=  635 fps=140 q=-0.0 size=N/A time=00:00:24.16 bitrate=N/A speed=5.33x    \r"
     ]
    },
    {
     "name": "stdout",
     "output_type": "stream",
     "text": [
      "frame=635\n",
      "fps=140.08\n",
      "stream_0_0_q=-0.0\n",
      "bitrate=N/A\n",
      "total_size=N/A\n",
      "out_time_us=24160000\n",
      "out_time_ms=24160000\n",
      "out_time=00:00:24.160000\n",
      "dup_frames=0\n",
      "drop_frames=0\n",
      "speed=5.33x\n",
      "progress=continue\n"
     ]
    },
    {
     "name": "stderr",
     "output_type": "stream",
     "text": [
      "frame=  708 fps=141 q=-0.0 size=N/A time=00:00:27.08 bitrate=N/A speed=5.37x    \r"
     ]
    },
    {
     "name": "stdout",
     "output_type": "stream",
     "text": [
      "frame=708\n",
      "fps=140.51\n",
      "stream_0_0_q=-0.0\n",
      "bitrate=N/A\n",
      "total_size=N/A\n",
      "out_time_us=27080000\n",
      "out_time_ms=27080000\n",
      "out_time=00:00:27.080000\n",
      "dup_frames=0\n",
      "drop_frames=0\n",
      "speed=5.37x\n",
      "progress=continue\n"
     ]
    },
    {
     "name": "stderr",
     "output_type": "stream",
     "text": [
      "frame=  778 fps=140 q=-0.0 size=N/A time=00:00:29.88 bitrate=N/A speed=5.39x    \r"
     ]
    },
    {
     "name": "stdout",
     "output_type": "stream",
     "text": [
      "frame=778\n",
      "fps=140.44\n",
      "stream_0_0_q=-0.0\n",
      "bitrate=N/A\n",
      "total_size=N/A\n",
      "out_time_us=29880000\n",
      "out_time_ms=29880000\n",
      "out_time=00:00:29.880000\n",
      "dup_frames=0\n",
      "drop_frames=0\n",
      "speed=5.39x\n",
      "progress=continue\n"
     ]
    },
    {
     "name": "stderr",
     "output_type": "stream",
     "text": [
      "frame=  850 fps=141 q=-0.0 size=N/A time=00:00:32.76 bitrate=N/A speed=5.42x    \r"
     ]
    },
    {
     "name": "stdout",
     "output_type": "stream",
     "text": [
      "frame=850\n",
      "fps=140.68\n",
      "stream_0_0_q=-0.0\n",
      "bitrate=N/A\n",
      "total_size=N/A\n",
      "out_time_us=32760000\n",
      "out_time_ms=32760000\n",
      "out_time=00:00:32.760000\n",
      "dup_frames=0\n",
      "drop_frames=0\n",
      "speed=5.42x\n",
      "progress=continue\n"
     ]
    },
    {
     "name": "stderr",
     "output_type": "stream",
     "text": [
      "frame=  921 fps=141 q=-0.0 size=N/A time=00:00:35.60 bitrate=N/A speed=5.44x    \r"
     ]
    },
    {
     "name": "stdout",
     "output_type": "stream",
     "text": [
      "frame=921\n",
      "fps=140.69\n",
      "stream_0_0_q=-0.0\n",
      "bitrate=N/A\n",
      "total_size=N/A\n",
      "out_time_us=35600000\n",
      "out_time_ms=35600000\n",
      "out_time=00:00:35.600000\n",
      "dup_frames=0\n",
      "drop_frames=0\n",
      "speed=5.44x\n",
      "progress=continue\n"
     ]
    },
    {
     "name": "stderr",
     "output_type": "stream",
     "text": [
      "frame=  992 fps=141 q=-0.0 size=N/A time=00:00:38.44 bitrate=N/A speed=5.45x    \r"
     ]
    },
    {
     "name": "stdout",
     "output_type": "stream",
     "text": [
      "frame=992\n",
      "fps=140.76\n",
      "stream_0_0_q=-0.0\n",
      "bitrate=N/A\n",
      "total_size=N/A\n",
      "out_time_us=38440000\n",
      "out_time_ms=38440000\n",
      "out_time=00:00:38.440000\n",
      "dup_frames=0\n",
      "drop_frames=0\n",
      "speed=5.45x\n",
      "progress=continue\n"
     ]
    },
    {
     "name": "stderr",
     "output_type": "stream",
     "text": [
      "frame= 1063 fps=141 q=-0.0 size=N/A time=00:00:41.28 bitrate=N/A speed=5.47x    \r"
     ]
    },
    {
     "name": "stdout",
     "output_type": "stream",
     "text": [
      "frame=1063\n",
      "fps=140.84\n",
      "stream_0_0_q=-0.0\n",
      "bitrate=N/A\n",
      "total_size=N/A\n",
      "out_time_us=41280000\n",
      "out_time_ms=41280000\n",
      "out_time=00:00:41.280000\n",
      "dup_frames=0\n",
      "drop_frames=0\n",
      "speed=5.47x\n",
      "progress=continue\n"
     ]
    },
    {
     "name": "stderr",
     "output_type": "stream",
     "text": [
      "frame= 1137 fps=141 q=-0.0 size=N/A time=00:00:44.24 bitrate=N/A speed= 5.5x    \r"
     ]
    },
    {
     "name": "stdout",
     "output_type": "stream",
     "text": [
      "frame=1137\n",
      "fps=141.23\n",
      "stream_0_0_q=-0.0\n",
      "bitrate=N/A\n",
      "total_size=N/A\n",
      "out_time_us=44240000\n",
      "out_time_ms=44240000\n",
      "out_time=00:00:44.240000\n",
      "dup_frames=0\n",
      "drop_frames=0\n",
      "speed= 5.5x\n",
      "progress=continue\n"
     ]
    },
    {
     "name": "stderr",
     "output_type": "stream",
     "text": [
      "frame= 1207 fps=141 q=-0.0 size=N/A time=00:00:47.04 bitrate=N/A speed= 5.5x    \r"
     ]
    },
    {
     "name": "stdout",
     "output_type": "stream",
     "text": [
      "frame=1207\n",
      "fps=141.13\n",
      "stream_0_0_q=-0.0\n",
      "bitrate=N/A\n",
      "total_size=N/A\n",
      "out_time_us=47040000\n",
      "out_time_ms=47040000\n",
      "out_time=00:00:47.040000\n",
      "dup_frames=0\n",
      "drop_frames=0\n",
      "speed= 5.5x\n",
      "progress=continue\n"
     ]
    },
    {
     "name": "stderr",
     "output_type": "stream",
     "text": [
      "frame= 1281 fps=141 q=-0.0 size=N/A time=00:00:50.00 bitrate=N/A speed=5.52x    \r"
     ]
    },
    {
     "name": "stdout",
     "output_type": "stream",
     "text": [
      "frame=1281\n",
      "fps=141.43\n",
      "stream_0_0_q=-0.0\n",
      "bitrate=N/A\n",
      "total_size=N/A\n",
      "out_time_us=50000000\n",
      "out_time_ms=50000000\n",
      "out_time=00:00:50.000000\n",
      "dup_frames=0\n",
      "drop_frames=0\n",
      "speed=5.52x\n",
      "progress=continue\n"
     ]
    },
    {
     "name": "stderr",
     "output_type": "stream",
     "text": [
      "frame= 1352 fps=141 q=-0.0 size=N/A time=00:00:52.84 bitrate=N/A speed=5.53x    \r"
     ]
    },
    {
     "name": "stdout",
     "output_type": "stream",
     "text": [
      "frame=1352\n",
      "fps=141.37\n",
      "stream_0_0_q=-0.0\n",
      "bitrate=N/A\n",
      "total_size=N/A\n",
      "out_time_us=52840000\n",
      "out_time_ms=52840000\n",
      "out_time=00:00:52.840000\n",
      "dup_frames=0\n",
      "drop_frames=0\n",
      "speed=5.53x\n",
      "progress=continue\n"
     ]
    },
    {
     "name": "stderr",
     "output_type": "stream",
     "text": [
      "frame= 1424 fps=141 q=-0.0 size=N/A time=00:00:55.72 bitrate=N/A speed=5.53x    \r"
     ]
    },
    {
     "name": "stdout",
     "output_type": "stream",
     "text": [
      "frame=1424\n",
      "fps=141.44\n",
      "stream_0_0_q=-0.0\n",
      "bitrate=N/A\n",
      "total_size=N/A\n",
      "out_time_us=55720000\n",
      "out_time_ms=55720000\n",
      "out_time=00:00:55.720000\n",
      "dup_frames=0\n",
      "drop_frames=0\n",
      "speed=5.53x\n",
      "progress=continue\n"
     ]
    },
    {
     "name": "stderr",
     "output_type": "stream",
     "text": [
      "frame= 1494 fps=141 q=-0.0 size=N/A time=00:00:58.52 bitrate=N/A speed=5.54x    \r"
     ]
    },
    {
     "name": "stdout",
     "output_type": "stream",
     "text": [
      "frame=1494\n",
      "fps=141.33\n",
      "stream_0_0_q=-0.0\n",
      "bitrate=N/A\n",
      "total_size=N/A\n",
      "out_time_us=58520000\n",
      "out_time_ms=58520000\n",
      "out_time=00:00:58.520000\n",
      "dup_frames=0\n",
      "drop_frames=0\n",
      "speed=5.54x\n",
      "progress=continue\n"
     ]
    },
    {
     "name": "stderr",
     "output_type": "stream",
     "text": [
      "frame= 1562 fps=141 q=-0.0 size=N/A time=00:01:01.24 bitrate=N/A speed=5.53x    \r"
     ]
    },
    {
     "name": "stdout",
     "output_type": "stream",
     "text": [
      "frame=1562\n",
      "fps=141.06\n",
      "stream_0_0_q=-0.0\n",
      "bitrate=N/A\n",
      "total_size=N/A\n",
      "out_time_us=61240000\n",
      "out_time_ms=61240000\n",
      "out_time=00:01:01.240000\n",
      "dup_frames=0\n",
      "drop_frames=0\n",
      "speed=5.53x\n",
      "progress=continue\n"
     ]
    },
    {
     "name": "stderr",
     "output_type": "stream",
     "text": [
      "frame= 1634 fps=141 q=-0.0 size=N/A time=00:01:04.12 bitrate=N/A speed=5.54x    \r"
     ]
    },
    {
     "name": "stdout",
     "output_type": "stream",
     "text": [
      "frame=1634\n",
      "fps=141.18\n",
      "stream_0_0_q=-0.0\n",
      "bitrate=N/A\n",
      "total_size=N/A\n",
      "out_time_us=64120000\n",
      "out_time_ms=64120000\n",
      "out_time=00:01:04.120000\n",
      "dup_frames=0\n",
      "drop_frames=0\n",
      "speed=5.54x\n",
      "progress=continue\n"
     ]
    },
    {
     "name": "stderr",
     "output_type": "stream",
     "text": [
      "frame= 1703 fps=141 q=-0.0 size=N/A time=00:01:06.88 bitrate=N/A speed=5.54x    \r"
     ]
    },
    {
     "name": "stdout",
     "output_type": "stream",
     "text": [
      "frame=1703\n",
      "fps=140.96\n",
      "stream_0_0_q=-0.0\n",
      "bitrate=N/A\n",
      "total_size=N/A\n",
      "out_time_us=66880000\n",
      "out_time_ms=66880000\n",
      "out_time=00:01:06.880000\n",
      "dup_frames=0\n",
      "drop_frames=0\n",
      "speed=5.54x\n",
      "progress=continue\n",
      "frame=1774\n",
      "fps=140.98\n",
      "stream_0_0_q=-0.0\n",
      "bitrate=N/A\n",
      "total_size=N/A\n",
      "out_time_us=69720000\n",
      "out_time_ms=69720000\n",
      "out_time=00:01:09.720000\n",
      "dup_frames=0\n",
      "drop_frames=0\n",
      "speed=5.54x\n",
      "progress=continue\n"
     ]
    },
    {
     "name": "stderr",
     "output_type": "stream",
     "text": [
      "frame= 1847 fps=141 q=-0.0 size=N/A time=00:01:12.64 bitrate=N/A speed=5.55x    \r"
     ]
    },
    {
     "name": "stdout",
     "output_type": "stream",
     "text": [
      "frame=1847\n",
      "fps=141.07\n",
      "stream_0_0_q=-0.0\n",
      "bitrate=N/A\n",
      "total_size=N/A\n",
      "out_time_us=72640000\n",
      "out_time_ms=72640000\n",
      "out_time=00:01:12.640000\n",
      "dup_frames=0\n",
      "drop_frames=0\n",
      "speed=5.55x\n",
      "progress=continue\n"
     ]
    },
    {
     "name": "stderr",
     "output_type": "stream",
     "text": [
      "frame= 1921 fps=141 q=-0.0 size=N/A time=00:01:15.60 bitrate=N/A speed=5.56x    \r"
     ]
    },
    {
     "name": "stdout",
     "output_type": "stream",
     "text": [
      "frame=1921\n",
      "fps=141.32\n",
      "stream_0_0_q=-0.0\n",
      "bitrate=N/A\n",
      "total_size=N/A\n",
      "out_time_us=75600000\n",
      "out_time_ms=75600000\n",
      "out_time=00:01:15.600000\n",
      "dup_frames=0\n",
      "drop_frames=0\n",
      "speed=5.56x\n",
      "progress=continue\n"
     ]
    },
    {
     "name": "stderr",
     "output_type": "stream",
     "text": [
      "frame= 1989 fps=141 q=-0.0 size=N/A time=00:01:18.32 bitrate=N/A speed=5.55x    \r"
     ]
    },
    {
     "name": "stdout",
     "output_type": "stream",
     "text": [
      "frame=1989\n",
      "fps=141.05\n",
      "stream_0_0_q=-0.0\n",
      "bitrate=N/A\n",
      "total_size=N/A\n",
      "out_time_us=78320000\n",
      "out_time_ms=78320000\n",
      "out_time=00:01:18.320000\n",
      "dup_frames=0\n",
      "drop_frames=0\n",
      "speed=5.55x\n",
      "progress=continue\n"
     ]
    },
    {
     "name": "stderr",
     "output_type": "stream",
     "text": [
      "frame= 2025 fps=139 q=-0.0 size=N/A time=00:01:19.76 bitrate=N/A speed=5.46x    \r"
     ]
    },
    {
     "name": "stdout",
     "output_type": "stream",
     "text": [
      "frame=2025\n",
      "fps=138.67\n",
      "stream_0_0_q=-0.0\n",
      "bitrate=N/A\n",
      "total_size=N/A\n",
      "out_time_us=79760000\n",
      "out_time_ms=79760000\n",
      "out_time=00:01:19.760000\n",
      "dup_frames=0\n",
      "drop_frames=0\n",
      "speed=5.46x\n",
      "progress=continue\n"
     ]
    },
    {
     "name": "stderr",
     "output_type": "stream",
     "text": [
      "frame= 2078 fps=138 q=-0.0 size=N/A time=00:01:21.88 bitrate=N/A speed=5.42x    \r"
     ]
    },
    {
     "name": "stdout",
     "output_type": "stream",
     "text": [
      "frame=2078\n",
      "fps=137.57\n",
      "stream_0_0_q=-0.0\n",
      "bitrate=N/A\n",
      "total_size=N/A\n",
      "out_time_us=81880000\n",
      "out_time_ms=81880000\n",
      "out_time=00:01:21.880000\n",
      "dup_frames=0\n",
      "drop_frames=0\n",
      "speed=5.42x\n",
      "progress=continue\n"
     ]
    },
    {
     "name": "stderr",
     "output_type": "stream",
     "text": [
      "frame= 2146 fps=137 q=-0.0 size=N/A time=00:01:24.60 bitrate=N/A speed=5.42x    \r"
     ]
    },
    {
     "name": "stdout",
     "output_type": "stream",
     "text": [
      "frame=2146\n",
      "fps=137.49\n",
      "stream_0_0_q=-0.0\n",
      "bitrate=N/A\n",
      "total_size=N/A\n",
      "out_time_us=84600000\n",
      "out_time_ms=84600000\n",
      "out_time=00:01:24.600000\n",
      "dup_frames=0\n",
      "drop_frames=0\n",
      "speed=5.42x\n",
      "progress=continue\n"
     ]
    },
    {
     "name": "stderr",
     "output_type": "stream",
     "text": [
      "frame= 2193 fps=136 q=-0.0 size=N/A time=00:01:26.48 bitrate=N/A speed=5.37x    \r"
     ]
    },
    {
     "name": "stdout",
     "output_type": "stream",
     "text": [
      "frame=2193\n",
      "fps=136.14\n",
      "stream_0_0_q=-0.0\n",
      "bitrate=N/A\n",
      "total_size=N/A\n",
      "out_time_us=86480000\n",
      "out_time_ms=86480000\n",
      "out_time=00:01:26.480000\n",
      "dup_frames=0\n",
      "drop_frames=0\n",
      "speed=5.37x\n",
      "progress=continue\n"
     ]
    },
    {
     "name": "stderr",
     "output_type": "stream",
     "text": [
      "frame= 2248 fps=135 q=-0.0 size=N/A time=00:01:28.68 bitrate=N/A speed=5.34x    \r"
     ]
    },
    {
     "name": "stdout",
     "output_type": "stream",
     "text": [
      "frame=2248\n",
      "fps=135.31\n",
      "stream_0_0_q=-0.0\n",
      "bitrate=N/A\n",
      "total_size=N/A\n",
      "out_time_us=88680000\n",
      "out_time_ms=88680000\n",
      "out_time=00:01:28.680000\n",
      "dup_frames=0\n",
      "drop_frames=0\n",
      "speed=5.34x\n",
      "progress=continue\n"
     ]
    },
    {
     "name": "stderr",
     "output_type": "stream",
     "text": [
      "frame= 2314 fps=135 q=-0.0 size=N/A time=00:01:31.32 bitrate=N/A speed=5.34x    \r"
     ]
    },
    {
     "name": "stdout",
     "output_type": "stream",
     "text": [
      "frame=2314\n",
      "fps=135.20\n",
      "stream_0_0_q=-0.0\n",
      "bitrate=N/A\n",
      "total_size=N/A\n",
      "out_time_us=91320000\n",
      "out_time_ms=91320000\n",
      "out_time=00:01:31.320000\n",
      "dup_frames=0\n",
      "drop_frames=0\n",
      "speed=5.34x\n",
      "progress=continue\n"
     ]
    },
    {
     "name": "stderr",
     "output_type": "stream",
     "text": [
      "frame= 2372 fps=135 q=-0.0 size=N/A time=00:01:33.64 bitrate=N/A speed=5.31x    \r"
     ]
    },
    {
     "name": "stdout",
     "output_type": "stream",
     "text": [
      "frame=2372\n",
      "fps=134.63\n",
      "stream_0_0_q=-0.0\n",
      "bitrate=N/A\n",
      "total_size=N/A\n",
      "out_time_us=93640000\n",
      "out_time_ms=93640000\n",
      "out_time=00:01:33.640000\n",
      "dup_frames=0\n",
      "drop_frames=0\n",
      "speed=5.31x\n",
      "progress=continue\n"
     ]
    },
    {
     "name": "stderr",
     "output_type": "stream",
     "text": [
      "frame= 2426 fps=133 q=-0.0 size=N/A time=00:01:35.80 bitrate=N/A speed=5.26x    \r"
     ]
    },
    {
     "name": "stdout",
     "output_type": "stream",
     "text": [
      "frame=2426\n",
      "fps=133.17\n",
      "stream_0_0_q=-0.0\n",
      "bitrate=N/A\n",
      "total_size=N/A\n",
      "out_time_us=95800000\n",
      "out_time_ms=95800000\n",
      "out_time=00:01:35.800000\n",
      "dup_frames=0\n",
      "drop_frames=0\n",
      "speed=5.26x\n",
      "progress=continue\n"
     ]
    },
    {
     "name": "stderr",
     "output_type": "stream",
     "text": [
      "frame= 2472 fps=132 q=-0.0 size=N/A time=00:01:37.64 bitrate=N/A speed=5.22x    \r"
     ]
    },
    {
     "name": "stdout",
     "output_type": "stream",
     "text": [
      "frame=2472\n",
      "fps=132.05\n",
      "stream_0_0_q=-0.0\n",
      "bitrate=N/A\n",
      "total_size=N/A\n",
      "out_time_us=97640000\n",
      "out_time_ms=97640000\n",
      "out_time=00:01:37.640000\n",
      "dup_frames=0\n",
      "drop_frames=0\n",
      "speed=5.22x\n",
      "progress=continue\n"
     ]
    },
    {
     "name": "stderr",
     "output_type": "stream",
     "text": [
      "frame= 2537 fps=132 q=-0.0 size=N/A time=00:01:40.24 bitrate=N/A speed=5.21x    \r"
     ]
    },
    {
     "name": "stdout",
     "output_type": "stream",
     "text": [
      "frame=2537\n",
      "fps=131.97\n",
      "stream_0_0_q=-0.0\n",
      "bitrate=N/A\n",
      "total_size=N/A\n",
      "out_time_us=100240000\n",
      "out_time_ms=100240000\n",
      "out_time=00:01:40.240000\n",
      "dup_frames=0\n",
      "drop_frames=0\n",
      "speed=5.21x\n",
      "progress=continue\n"
     ]
    },
    {
     "name": "stderr",
     "output_type": "stream",
     "text": [
      "frame= 2570 fps=130 q=-0.0 size=N/A time=00:01:41.56 bitrate=N/A speed=5.15x    \r"
     ]
    },
    {
     "name": "stdout",
     "output_type": "stream",
     "text": [
      "frame=2570\n",
      "fps=130.28\n",
      "stream_0_0_q=-0.0\n",
      "bitrate=N/A\n",
      "total_size=N/A\n",
      "out_time_us=101560000\n",
      "out_time_ms=101560000\n",
      "out_time=00:01:41.560000\n",
      "dup_frames=0\n",
      "drop_frames=0\n",
      "speed=5.15x\n",
      "progress=continue\n"
     ]
    },
    {
     "name": "stderr",
     "output_type": "stream",
     "text": [
      "frame= 2618 fps=129 q=-0.0 size=N/A time=00:01:43.48 bitrate=N/A speed=5.12x    \r"
     ]
    },
    {
     "name": "stdout",
     "output_type": "stream",
     "text": [
      "frame=2618\n",
      "fps=129.41\n",
      "stream_0_0_q=-0.0\n",
      "bitrate=N/A\n",
      "total_size=N/A\n",
      "out_time_us=103480000\n",
      "out_time_ms=103480000\n",
      "out_time=00:01:43.480000\n",
      "dup_frames=0\n",
      "drop_frames=0\n",
      "speed=5.12x\n",
      "progress=continue\n"
     ]
    },
    {
     "name": "stderr",
     "output_type": "stream",
     "text": [
      "frame= 2684 fps=129 q=-0.0 size=N/A time=00:01:46.12 bitrate=N/A speed=5.12x    \r"
     ]
    },
    {
     "name": "stdout",
     "output_type": "stream",
     "text": [
      "frame=2684\n",
      "fps=129.45\n",
      "stream_0_0_q=-0.0\n",
      "bitrate=N/A\n",
      "total_size=N/A\n",
      "out_time_us=106120000\n",
      "out_time_ms=106120000\n",
      "out_time=00:01:46.120000\n",
      "dup_frames=0\n",
      "drop_frames=0\n",
      "speed=5.12x\n",
      "progress=continue\n"
     ]
    },
    {
     "name": "stderr",
     "output_type": "stream",
     "text": [
      "frame= 2731 fps=129 q=-0.0 size=N/A time=00:01:48.00 bitrate=N/A speed=5.08x    \r"
     ]
    },
    {
     "name": "stdout",
     "output_type": "stream",
     "text": [
      "frame=2731\n",
      "fps=128.53\n",
      "stream_0_0_q=-0.0\n",
      "bitrate=N/A\n",
      "total_size=N/A\n",
      "out_time_us=108000000\n",
      "out_time_ms=108000000\n",
      "out_time=00:01:48.000000\n",
      "dup_frames=0\n",
      "drop_frames=0\n",
      "speed=5.08x\n",
      "progress=continue\n"
     ]
    },
    {
     "name": "stderr",
     "output_type": "stream",
     "text": [
      "frame= 2783 fps=128 q=-0.0 size=N/A time=00:01:50.08 bitrate=N/A speed=5.06x    \r"
     ]
    },
    {
     "name": "stdout",
     "output_type": "stream",
     "text": [
      "frame=2783\n",
      "fps=127.95\n",
      "stream_0_0_q=-0.0\n",
      "bitrate=N/A\n",
      "total_size=N/A\n",
      "out_time_us=110080000\n",
      "out_time_ms=110080000\n",
      "out_time=00:01:50.080000\n",
      "dup_frames=0\n",
      "drop_frames=0\n",
      "speed=5.06x\n",
      "progress=continue\n"
     ]
    },
    {
     "name": "stderr",
     "output_type": "stream",
     "text": [
      "frame= 2842 fps=128 q=-0.0 size=N/A time=00:01:52.44 bitrate=N/A speed=5.05x    \r"
     ]
    },
    {
     "name": "stdout",
     "output_type": "stream",
     "text": [
      "frame=2842\n",
      "fps=127.62\n",
      "stream_0_0_q=-0.0\n",
      "bitrate=N/A\n",
      "total_size=N/A\n",
      "out_time_us=112440000\n",
      "out_time_ms=112440000\n",
      "out_time=00:01:52.440000\n",
      "dup_frames=0\n",
      "drop_frames=0\n",
      "speed=5.05x\n",
      "progress=continue\n"
     ]
    },
    {
     "name": "stderr",
     "output_type": "stream",
     "text": [
      "frame= 2900 fps=127 q=-0.0 size=N/A time=00:01:54.76 bitrate=N/A speed=5.04x    \r"
     ]
    },
    {
     "name": "stdout",
     "output_type": "stream",
     "text": [
      "frame=2900\n",
      "fps=127.34\n",
      "stream_0_0_q=-0.0\n",
      "bitrate=N/A\n",
      "total_size=N/A\n",
      "out_time_us=114760000\n",
      "out_time_ms=114760000\n",
      "out_time=00:01:54.760000\n",
      "dup_frames=0\n",
      "drop_frames=0\n",
      "speed=5.04x\n",
      "progress=continue\n"
     ]
    },
    {
     "name": "stderr",
     "output_type": "stream",
     "text": [
      "frame= 2946 fps=127 q=-0.0 size=N/A time=00:01:56.60 bitrate=N/A speed=5.01x    \r"
     ]
    },
    {
     "name": "stdout",
     "output_type": "stream",
     "text": [
      "frame=2946\n",
      "fps=126.58\n",
      "stream_0_0_q=-0.0\n",
      "bitrate=N/A\n",
      "total_size=N/A\n",
      "out_time_us=116600000\n",
      "out_time_ms=116600000\n",
      "out_time=00:01:56.600000\n",
      "dup_frames=0\n",
      "drop_frames=0\n",
      "speed=5.01x\n",
      "progress=continue\n"
     ]
    },
    {
     "name": "stderr",
     "output_type": "stream",
     "text": [
      "frame= 3000 fps=126 q=-0.0 size=N/A time=00:01:58.76 bitrate=N/A speed=   5x    \r"
     ]
    },
    {
     "name": "stdout",
     "output_type": "stream",
     "text": [
      "frame=3000\n",
      "fps=126.19\n",
      "stream_0_0_q=-0.0\n",
      "bitrate=N/A\n",
      "total_size=N/A\n",
      "out_time_us=118760000\n",
      "out_time_ms=118760000\n",
      "out_time=00:01:58.760000\n",
      "dup_frames=0\n",
      "drop_frames=0\n",
      "speed=   5x\n",
      "progress=continue\n"
     ]
    },
    {
     "name": "stderr",
     "output_type": "stream",
     "text": [
      "frame= 3053 fps=126 q=-0.0 size=N/A time=00:02:00.88 bitrate=N/A speed=4.98x    \r"
     ]
    },
    {
     "name": "stdout",
     "output_type": "stream",
     "text": [
      "frame=3053\n",
      "fps=125.75\n",
      "stream_0_0_q=-0.0\n",
      "bitrate=N/A\n",
      "total_size=N/A\n",
      "out_time_us=120880000\n",
      "out_time_ms=120880000\n",
      "out_time=00:02:00.880000\n",
      "dup_frames=0\n",
      "drop_frames=0\n",
      "speed=4.98x\n",
      "progress=continue\n"
     ]
    },
    {
     "name": "stderr",
     "output_type": "stream",
     "text": [
      "frame= 3107 fps=125 q=-0.0 size=N/A time=00:02:03.04 bitrate=N/A speed=4.97x    \r"
     ]
    },
    {
     "name": "stdout",
     "output_type": "stream",
     "text": [
      "frame=3107\n",
      "fps=125.39\n",
      "stream_0_0_q=-0.0\n",
      "bitrate=N/A\n",
      "total_size=N/A\n",
      "out_time_us=123040000\n",
      "out_time_ms=123040000\n",
      "out_time=00:02:03.040000\n",
      "dup_frames=0\n",
      "drop_frames=0\n",
      "speed=4.97x\n",
      "progress=continue\n"
     ]
    },
    {
     "name": "stderr",
     "output_type": "stream",
     "text": [
      "frame= 3162 fps=125 q=-0.0 size=N/A time=00:02:05.24 bitrate=N/A speed=4.95x    \r"
     ]
    },
    {
     "name": "stdout",
     "output_type": "stream",
     "text": [
      "frame=3162\n",
      "fps=125.07\n",
      "stream_0_0_q=-0.0\n",
      "bitrate=N/A\n",
      "total_size=N/A\n",
      "out_time_us=125240000\n",
      "out_time_ms=125240000\n",
      "out_time=00:02:05.240000\n",
      "dup_frames=0\n",
      "drop_frames=0\n",
      "speed=4.95x\n",
      "progress=continue\n"
     ]
    },
    {
     "name": "stderr",
     "output_type": "stream",
     "text": [
      "frame= 3215 fps=125 q=-0.0 size=N/A time=00:02:07.36 bitrate=N/A speed=4.94x    \r"
     ]
    },
    {
     "name": "stdout",
     "output_type": "stream",
     "text": [
      "frame=3215\n",
      "fps=124.58\n",
      "stream_0_0_q=-0.0\n",
      "bitrate=N/A\n",
      "total_size=N/A\n",
      "out_time_us=127360000\n",
      "out_time_ms=127360000\n",
      "out_time=00:02:07.360000\n",
      "dup_frames=0\n",
      "drop_frames=0\n",
      "speed=4.94x\n",
      "progress=continue\n"
     ]
    },
    {
     "name": "stderr",
     "output_type": "stream",
     "text": [
      "frame= 3268 fps=124 q=-0.0 size=N/A time=00:02:09.48 bitrate=N/A speed=4.92x    \r"
     ]
    },
    {
     "name": "stdout",
     "output_type": "stream",
     "text": [
      "frame=3268\n",
      "fps=124.22\n",
      "stream_0_0_q=-0.0\n",
      "bitrate=N/A\n",
      "total_size=N/A\n",
      "out_time_us=129480000\n",
      "out_time_ms=129480000\n",
      "out_time=00:02:09.480000\n",
      "dup_frames=0\n",
      "drop_frames=0\n",
      "speed=4.92x\n",
      "progress=continue\n"
     ]
    },
    {
     "name": "stderr",
     "output_type": "stream",
     "text": [
      "frame= 3324 fps=124 q=-0.0 size=N/A time=00:02:11.72 bitrate=N/A speed=4.91x    \r"
     ]
    },
    {
     "name": "stdout",
     "output_type": "stream",
     "text": [
      "frame=3324\n",
      "fps=123.92\n",
      "stream_0_0_q=-0.0\n",
      "bitrate=N/A\n",
      "total_size=N/A\n",
      "out_time_us=131720000\n",
      "out_time_ms=131720000\n",
      "out_time=00:02:11.720000\n",
      "dup_frames=0\n",
      "drop_frames=0\n",
      "speed=4.91x\n",
      "progress=continue\n"
     ]
    },
    {
     "name": "stderr",
     "output_type": "stream",
     "text": [
      "frame= 3380 fps=124 q=-0.0 size=N/A time=00:02:13.96 bitrate=N/A speed= 4.9x    \r"
     ]
    },
    {
     "name": "stdout",
     "output_type": "stream",
     "text": [
      "frame=3380\n",
      "fps=123.70\n",
      "stream_0_0_q=-0.0\n",
      "bitrate=N/A\n",
      "total_size=N/A\n",
      "out_time_us=133960000\n",
      "out_time_ms=133960000\n",
      "out_time=00:02:13.960000\n",
      "dup_frames=0\n",
      "drop_frames=0\n",
      "speed= 4.9x\n",
      "progress=continue\n"
     ]
    },
    {
     "name": "stderr",
     "output_type": "stream",
     "text": [
      "frame= 3439 fps=124 q=-0.0 size=N/A time=00:02:16.32 bitrate=N/A speed= 4.9x    \r"
     ]
    },
    {
     "name": "stdout",
     "output_type": "stream",
     "text": [
      "frame=3439\n",
      "fps=123.58\n",
      "stream_0_0_q=-0.0\n",
      "bitrate=N/A\n",
      "total_size=N/A\n",
      "out_time_us=136320000\n",
      "out_time_ms=136320000\n",
      "out_time=00:02:16.320000\n",
      "dup_frames=0\n",
      "drop_frames=0\n",
      "speed= 4.9x\n",
      "progress=continue\n"
     ]
    },
    {
     "name": "stderr",
     "output_type": "stream",
     "text": [
      "frame= 3484 fps=123 q=-0.0 size=N/A time=00:02:18.12 bitrate=N/A speed=4.88x    \r"
     ]
    },
    {
     "name": "stdout",
     "output_type": "stream",
     "text": [
      "frame=3484\n",
      "fps=122.98\n",
      "stream_0_0_q=-0.0\n",
      "bitrate=N/A\n",
      "total_size=N/A\n",
      "out_time_us=138120000\n",
      "out_time_ms=138120000\n",
      "out_time=00:02:18.120000\n",
      "dup_frames=0\n",
      "drop_frames=0\n",
      "speed=4.88x\n",
      "progress=continue\n"
     ]
    },
    {
     "name": "stderr",
     "output_type": "stream",
     "text": [
      "frame= 3534 fps=123 q=-0.0 size=N/A time=00:02:20.12 bitrate=N/A speed=4.86x    \r"
     ]
    },
    {
     "name": "stdout",
     "output_type": "stream",
     "text": [
      "frame=3534\n",
      "fps=122.57\n",
      "stream_0_0_q=-0.0\n",
      "bitrate=N/A\n",
      "total_size=N/A\n",
      "out_time_us=140120000\n",
      "out_time_ms=140120000\n",
      "out_time=00:02:20.120000\n",
      "dup_frames=0\n",
      "drop_frames=0\n",
      "speed=4.86x\n",
      "progress=continue\n"
     ]
    },
    {
     "name": "stderr",
     "output_type": "stream",
     "text": [
      "frame= 3589 fps=122 q=-0.0 size=N/A time=00:02:22.32 bitrate=N/A speed=4.85x    \r"
     ]
    },
    {
     "name": "stdout",
     "output_type": "stream",
     "text": [
      "frame=3589\n",
      "fps=122.35\n",
      "stream_0_0_q=-0.0\n",
      "bitrate=N/A\n",
      "total_size=N/A\n",
      "out_time_us=142320000\n",
      "out_time_ms=142320000\n",
      "out_time=00:02:22.320000\n",
      "dup_frames=0\n",
      "drop_frames=0\n",
      "speed=4.85x\n",
      "progress=continue\n"
     ]
    },
    {
     "name": "stderr",
     "output_type": "stream",
     "text": [
      "frame= 3650 fps=122 q=-0.0 size=N/A time=00:02:24.76 bitrate=N/A speed=4.85x    \r"
     ]
    },
    {
     "name": "stdout",
     "output_type": "stream",
     "text": [
      "frame=3650\n",
      "fps=122.34\n",
      "stream_0_0_q=-0.0\n",
      "bitrate=N/A\n",
      "total_size=N/A\n",
      "out_time_us=144760000\n",
      "out_time_ms=144760000\n",
      "out_time=00:02:24.760000\n",
      "dup_frames=0\n",
      "drop_frames=0\n",
      "speed=4.85x\n",
      "progress=continue\n"
     ]
    },
    {
     "name": "stderr",
     "output_type": "stream",
     "text": [
      "frame= 3708 fps=122 q=-0.0 size=N/A time=00:02:27.08 bitrate=N/A speed=4.85x    \r"
     ]
    },
    {
     "name": "stdout",
     "output_type": "stream",
     "text": [
      "frame=3708\n",
      "fps=122.22\n",
      "stream_0_0_q=-0.0\n",
      "bitrate=N/A\n",
      "total_size=N/A\n",
      "out_time_us=147080000\n",
      "out_time_ms=147080000\n",
      "out_time=00:02:27.080000\n",
      "dup_frames=0\n",
      "drop_frames=0\n",
      "speed=4.85x\n",
      "progress=continue\n",
      "frame=3759\n",
      "fps=121.89\n",
      "stream_0_0_q=-0.0\n",
      "bitrate=N/A\n",
      "total_size=N/A\n",
      "out_time_us=149120000\n",
      "out_time_ms=149120000\n",
      "out_time=00:02:29.120000\n",
      "dup_frames=0\n",
      "drop_frames=0\n",
      "speed=4.84x\n",
      "progress=continue\n"
     ]
    },
    {
     "name": "stderr",
     "output_type": "stream",
     "text": [
      "frame= 3802 fps=121 q=-0.0 size=N/A time=00:02:30.84 bitrate=N/A speed=4.81x    \r"
     ]
    },
    {
     "name": "stdout",
     "output_type": "stream",
     "text": [
      "frame=3802\n",
      "fps=121.32\n",
      "stream_0_0_q=-0.0\n",
      "bitrate=N/A\n",
      "total_size=N/A\n",
      "out_time_us=150840000\n",
      "out_time_ms=150840000\n",
      "out_time=00:02:30.840000\n",
      "dup_frames=0\n",
      "drop_frames=0\n",
      "speed=4.81x\n",
      "progress=continue\n"
     ]
    },
    {
     "name": "stderr",
     "output_type": "stream",
     "text": [
      "frame= 3863 fps=121 q=-0.0 size=N/A time=00:02:33.28 bitrate=N/A speed= 4.8x    \r"
     ]
    },
    {
     "name": "stdout",
     "output_type": "stream",
     "text": [
      "frame=3863\n",
      "fps=121.03\n",
      "stream_0_0_q=-0.0\n",
      "bitrate=N/A\n",
      "total_size=N/A\n",
      "out_time_us=153280000\n",
      "out_time_ms=153280000\n",
      "out_time=00:02:33.280000\n",
      "dup_frames=0\n",
      "drop_frames=0\n",
      "speed= 4.8x\n",
      "progress=continue\n",
      "frame=3883\n",
      "fps=119.66\n",
      "stream_0_0_q=-0.0\n",
      "bitrate=N/A\n",
      "total_size=N/A\n",
      "out_time_us=154080000\n",
      "out_time_ms=154080000\n",
      "out_time=00:02:34.080000\n",
      "dup_frames=0\n",
      "drop_frames=0\n",
      "speed=4.75x\n",
      "progress=continue\n"
     ]
    },
    {
     "name": "stderr",
     "output_type": "stream",
     "text": [
      "frame= 3883 fps=120 q=-0.0 size=N/A time=00:02:34.08 bitrate=N/A speed=4.75x    \r"
     ]
    },
    {
     "name": "stdout",
     "output_type": "stream",
     "text": [
      "frame=3901\n",
      "fps=118.27\n",
      "stream_0_0_q=-0.0\n",
      "bitrate=N/A\n",
      "total_size=N/A\n",
      "out_time_us=154800000\n",
      "out_time_ms=154800000\n",
      "out_time=00:02:34.800000\n",
      "dup_frames=0\n",
      "drop_frames=0\n",
      "speed=4.69x\n",
      "progress=continue\n"
     ]
    },
    {
     "name": "stderr",
     "output_type": "stream",
     "text": [
      "frame= 3901 fps=118 q=-0.0 size=N/A time=00:02:34.80 bitrate=N/A speed=4.69x    \r"
     ]
    },
    {
     "name": "stdout",
     "output_type": "stream",
     "text": [
      "frame=3918\n",
      "fps=116.84\n",
      "stream_0_0_q=-0.0\n",
      "bitrate=N/A\n",
      "total_size=N/A\n",
      "out_time_us=155480000\n",
      "out_time_ms=155480000\n",
      "out_time=00:02:35.480000\n",
      "dup_frames=0\n",
      "drop_frames=0\n",
      "speed=4.64x\n",
      "progress=continue\n"
     ]
    },
    {
     "name": "stderr",
     "output_type": "stream",
     "text": [
      "frame= 3938 fps=116 q=-0.0 size=N/A time=00:02:36.28 bitrate=N/A speed=4.59x    \r"
     ]
    },
    {
     "name": "stdout",
     "output_type": "stream",
     "text": [
      "frame=3938\n",
      "fps=115.58\n",
      "stream_0_0_q=-0.0\n",
      "bitrate=N/A\n",
      "total_size=N/A\n",
      "out_time_us=156280000\n",
      "out_time_ms=156280000\n",
      "out_time=00:02:36.280000\n",
      "dup_frames=0\n",
      "drop_frames=0\n",
      "speed=4.59x\n",
      "progress=continue\n",
      "frame=3956\n",
      "fps=114.36\n",
      "stream_0_0_q=-0.0\n",
      "bitrate=N/A\n",
      "total_size=N/A\n",
      "out_time_us=157000000\n",
      "out_time_ms=157000000\n",
      "out_time=00:02:37.000000\n",
      "dup_frames=0\n",
      "drop_frames=0\n",
      "speed=4.54x\n",
      "progress=continue\n"
     ]
    },
    {
     "name": "stderr",
     "output_type": "stream",
     "text": [
      "frame= 3977 fps=113 q=-0.0 size=N/A time=00:02:37.84 bitrate=N/A speed= 4.5x    \r"
     ]
    },
    {
     "name": "stdout",
     "output_type": "stream",
     "text": [
      "frame=3977\n",
      "fps=113.26\n",
      "stream_0_0_q=-0.0\n",
      "bitrate=N/A\n",
      "total_size=N/A\n",
      "out_time_us=157840000\n",
      "out_time_ms=157840000\n",
      "out_time=00:02:37.840000\n",
      "dup_frames=0\n",
      "drop_frames=0\n",
      "speed= 4.5x\n",
      "progress=continue\n"
     ]
    },
    {
     "name": "stderr",
     "output_type": "stream",
     "text": [
      "frame= 3994 fps=112 q=-0.0 size=N/A time=00:02:38.52 bitrate=N/A speed=4.45x    \r"
     ]
    },
    {
     "name": "stdout",
     "output_type": "stream",
     "text": [
      "frame=3994\n",
      "fps=112.06\n",
      "stream_0_0_q=-0.0\n",
      "bitrate=N/A\n",
      "total_size=N/A\n",
      "out_time_us=158520000\n",
      "out_time_ms=158520000\n",
      "out_time=00:02:38.520000\n",
      "dup_frames=0\n",
      "drop_frames=0\n",
      "speed=4.45x\n",
      "progress=continue\n"
     ]
    },
    {
     "name": "stderr",
     "output_type": "stream",
     "text": [
      "frame= 4015 fps=111 q=-0.0 size=N/A time=00:02:39.36 bitrate=N/A speed=4.41x    \r"
     ]
    },
    {
     "name": "stdout",
     "output_type": "stream",
     "text": [
      "frame=4015\n",
      "fps=111.03\n",
      "stream_0_0_q=-0.0\n",
      "bitrate=N/A\n",
      "total_size=N/A\n",
      "out_time_us=159360000\n",
      "out_time_ms=159360000\n",
      "out_time=00:02:39.360000\n",
      "dup_frames=0\n",
      "drop_frames=0\n",
      "speed=4.41x\n",
      "progress=continue\n"
     ]
    },
    {
     "name": "stderr",
     "output_type": "stream",
     "text": [
      "frame= 4037 fps=110 q=-0.0 size=N/A time=00:02:40.24 bitrate=N/A speed=4.37x    \r"
     ]
    },
    {
     "name": "stdout",
     "output_type": "stream",
     "text": [
      "frame=4037\n",
      "fps=110.11\n",
      "stream_0_0_q=-0.0\n",
      "bitrate=N/A\n",
      "total_size=N/A\n",
      "out_time_us=160240000\n",
      "out_time_ms=160240000\n",
      "out_time=00:02:40.240000\n",
      "dup_frames=0\n",
      "drop_frames=0\n",
      "speed=4.37x\n",
      "progress=continue\n"
     ]
    },
    {
     "name": "stderr",
     "output_type": "stream",
     "text": [
      "frame= 4052 fps=109 q=-0.0 size=N/A time=00:02:40.84 bitrate=N/A speed=4.33x    \r"
     ]
    },
    {
     "name": "stdout",
     "output_type": "stream",
     "text": [
      "frame=4052\n",
      "fps=109.03\n",
      "stream_0_0_q=-0.0\n",
      "bitrate=N/A\n",
      "total_size=N/A\n",
      "out_time_us=160840000\n",
      "out_time_ms=160840000\n",
      "out_time=00:02:40.840000\n",
      "dup_frames=0\n",
      "drop_frames=0\n",
      "speed=4.33x\n",
      "progress=continue\n"
     ]
    },
    {
     "name": "stderr",
     "output_type": "stream",
     "text": [
      "frame= 4071 fps=108 q=-0.0 size=N/A time=00:02:41.60 bitrate=N/A speed=4.29x    \r"
     ]
    },
    {
     "name": "stdout",
     "output_type": "stream",
     "text": [
      "frame=4071\n",
      "fps=108.09\n",
      "stream_0_0_q=-0.0\n",
      "bitrate=N/A\n",
      "total_size=N/A\n",
      "out_time_us=161600000\n",
      "out_time_ms=161600000\n",
      "out_time=00:02:41.600000\n",
      "dup_frames=0\n",
      "drop_frames=0\n",
      "speed=4.29x\n",
      "progress=continue\n"
     ]
    },
    {
     "name": "stderr",
     "output_type": "stream",
     "text": [
      "frame= 4094 fps=107 q=-0.0 size=N/A time=00:02:42.52 bitrate=N/A speed=4.24x    \r"
     ]
    },
    {
     "name": "stdout",
     "output_type": "stream",
     "text": [
      "frame=4094\n",
      "fps=106.93\n",
      "stream_0_0_q=-0.0\n",
      "bitrate=N/A\n",
      "total_size=N/A\n",
      "out_time_us=162520000\n",
      "out_time_ms=162520000\n",
      "out_time=00:02:42.520000\n",
      "dup_frames=0\n",
      "drop_frames=0\n",
      "speed=4.24x\n",
      "progress=continue\n"
     ]
    },
    {
     "name": "stderr",
     "output_type": "stream",
     "text": [
      "frame= 4107 fps=106 q=-0.0 size=N/A time=00:02:43.04 bitrate=N/A speed= 4.2x    \r"
     ]
    },
    {
     "name": "stdout",
     "output_type": "stream",
     "text": [
      "frame=4107\n",
      "fps=105.86\n",
      "stream_0_0_q=-0.0\n",
      "bitrate=N/A\n",
      "total_size=N/A\n",
      "out_time_us=163040000\n",
      "out_time_ms=163040000\n",
      "out_time=00:02:43.040000\n",
      "dup_frames=0\n",
      "drop_frames=0\n",
      "speed= 4.2x\n",
      "progress=continue\n"
     ]
    },
    {
     "name": "stderr",
     "output_type": "stream",
     "text": [
      "frame= 4133 fps=105 q=-0.0 size=N/A time=00:02:44.08 bitrate=N/A speed=4.17x    \r"
     ]
    },
    {
     "name": "stdout",
     "output_type": "stream",
     "text": [
      "frame=4133\n",
      "fps=105.10\n",
      "stream_0_0_q=-0.0\n",
      "bitrate=N/A\n",
      "total_size=N/A\n",
      "out_time_us=164080000\n",
      "out_time_ms=164080000\n",
      "out_time=00:02:44.080000\n",
      "dup_frames=0\n",
      "drop_frames=0\n",
      "speed=4.17x\n",
      "progress=continue\n",
      "frame=4165\n",
      "fps=104.57\n",
      "stream_0_0_q=-0.0\n",
      "bitrate=N/A\n",
      "total_size=N/A\n",
      "out_time_us=165360000\n",
      "out_time_ms=165360000\n",
      "out_time=00:02:45.360000\n",
      "dup_frames=0\n",
      "drop_frames=0\n",
      "speed=4.15x\n",
      "progress=continue\n"
     ]
    },
    {
     "name": "stderr",
     "output_type": "stream",
     "text": [
      "frame= 4165 fps=105 q=-0.0 size=N/A time=00:02:45.36 bitrate=N/A speed=4.15x    \r"
     ]
    },
    {
     "name": "stdout",
     "output_type": "stream",
     "text": [
      "frame=4190\n",
      "fps=103.85\n",
      "stream_0_0_q=-0.0\n",
      "bitrate=N/A\n",
      "total_size=N/A\n",
      "out_time_us=166360000\n",
      "out_time_ms=166360000\n",
      "out_time=00:02:46.360000\n",
      "dup_frames=0\n",
      "drop_frames=0\n",
      "speed=4.12x\n",
      "progress=continue\n"
     ]
    },
    {
     "name": "stderr",
     "output_type": "stream",
     "text": [
      "frame= 4227 fps=103 q=-0.0 size=N/A time=00:02:47.84 bitrate=N/A speed=4.11x    \r"
     ]
    },
    {
     "name": "stdout",
     "output_type": "stream",
     "text": [
      "frame=4227\n",
      "fps=103.48\n",
      "stream_0_0_q=-0.0\n",
      "bitrate=N/A\n",
      "total_size=N/A\n",
      "out_time_us=167840000\n",
      "out_time_ms=167840000\n",
      "out_time=00:02:47.840000\n",
      "dup_frames=0\n",
      "drop_frames=0\n",
      "speed=4.11x\n",
      "progress=continue\n"
     ]
    },
    {
     "name": "stderr",
     "output_type": "stream",
     "text": [
      "frame= 4269 fps=103 q=-0.0 size=N/A time=00:02:49.52 bitrate=N/A speed= 4.1x    \r"
     ]
    },
    {
     "name": "stdout",
     "output_type": "stream",
     "text": [
      "frame=4269\n",
      "fps=103.21\n",
      "stream_0_0_q=-0.0\n",
      "bitrate=N/A\n",
      "total_size=N/A\n",
      "out_time_us=169520000\n",
      "out_time_ms=169520000\n",
      "out_time=00:02:49.520000\n",
      "dup_frames=0\n",
      "drop_frames=0\n",
      "speed= 4.1x\n",
      "progress=continue\n"
     ]
    },
    {
     "name": "stderr",
     "output_type": "stream",
     "text": [
      "frame= 4329 fps=103 q=-0.0 size=N/A time=00:02:51.92 bitrate=N/A speed=4.11x    \r"
     ]
    },
    {
     "name": "stdout",
     "output_type": "stream",
     "text": [
      "frame=4329\n",
      "fps=103.41\n",
      "stream_0_0_q=-0.0\n",
      "bitrate=N/A\n",
      "total_size=N/A\n",
      "out_time_us=171920000\n",
      "out_time_ms=171920000\n",
      "out_time=00:02:51.920000\n",
      "dup_frames=0\n",
      "drop_frames=0\n",
      "speed=4.11x\n",
      "progress=continue\n",
      "frame=4361\n",
      "fps=102.90\n",
      "stream_0_0_q=-0.0\n",
      "bitrate=N/A\n",
      "total_size=N/A\n",
      "out_time_us=173200000\n",
      "out_time_ms=173200000\n",
      "out_time=00:02:53.200000\n",
      "dup_frames=0\n",
      "drop_frames=0\n",
      "speed=4.09x\n",
      "progress=continue\n"
     ]
    },
    {
     "name": "stderr",
     "output_type": "stream",
     "text": [
      "frame= 4399 fps=103 q=-0.0 size=N/A time=00:02:54.72 bitrate=N/A speed=4.07x    \r"
     ]
    },
    {
     "name": "stdout",
     "output_type": "stream",
     "text": [
      "frame=4399\n",
      "fps=102.56\n",
      "stream_0_0_q=-0.0\n",
      "bitrate=N/A\n",
      "total_size=N/A\n",
      "out_time_us=174720000\n",
      "out_time_ms=174720000\n",
      "out_time=00:02:54.720000\n",
      "dup_frames=0\n",
      "drop_frames=0\n",
      "speed=4.07x\n",
      "progress=continue\n"
     ]
    },
    {
     "name": "stderr",
     "output_type": "stream",
     "text": [
      "frame= 4437 fps=102 q=-0.0 size=N/A time=00:02:56.24 bitrate=N/A speed=4.06x    \r"
     ]
    },
    {
     "name": "stdout",
     "output_type": "stream",
     "text": [
      "frame=4437\n",
      "fps=102.25\n",
      "stream_0_0_q=-0.0\n",
      "bitrate=N/A\n",
      "total_size=N/A\n",
      "out_time_us=176240000\n",
      "out_time_ms=176240000\n",
      "out_time=00:02:56.240000\n",
      "dup_frames=0\n",
      "drop_frames=0\n",
      "speed=4.06x\n",
      "progress=continue\n"
     ]
    },
    {
     "name": "stderr",
     "output_type": "stream",
     "text": [
      "frame= 4477 fps=102 q=-0.0 size=N/A time=00:02:57.84 bitrate=N/A speed=4.05x    \r"
     ]
    },
    {
     "name": "stdout",
     "output_type": "stream",
     "text": [
      "frame=4477\n",
      "fps=101.99\n",
      "stream_0_0_q=-0.0\n",
      "bitrate=N/A\n",
      "total_size=N/A\n",
      "out_time_us=177840000\n",
      "out_time_ms=177840000\n",
      "out_time=00:02:57.840000\n",
      "dup_frames=0\n",
      "drop_frames=0\n",
      "speed=4.05x\n",
      "progress=continue\n"
     ]
    },
    {
     "name": "stderr",
     "output_type": "stream",
     "text": [
      "frame= 4517 fps=102 q=-0.0 size=N/A time=00:02:59.44 bitrate=N/A speed=4.04x    \r"
     ]
    },
    {
     "name": "stdout",
     "output_type": "stream",
     "text": [
      "frame=4517\n",
      "fps=101.74\n",
      "stream_0_0_q=-0.0\n",
      "bitrate=N/A\n",
      "total_size=N/A\n",
      "out_time_us=179440000\n",
      "out_time_ms=179440000\n",
      "out_time=00:02:59.440000\n",
      "dup_frames=0\n",
      "drop_frames=0\n",
      "speed=4.04x\n",
      "progress=continue\n"
     ]
    },
    {
     "name": "stderr",
     "output_type": "stream",
     "text": [
      "frame= 4557 fps=101 q=-0.0 size=N/A time=00:03:01.04 bitrate=N/A speed=4.03x    \r"
     ]
    },
    {
     "name": "stdout",
     "output_type": "stream",
     "text": [
      "frame=4557\n",
      "fps=101.49\n",
      "stream_0_0_q=-0.0\n",
      "bitrate=N/A\n",
      "total_size=N/A\n",
      "out_time_us=181040000\n",
      "out_time_ms=181040000\n",
      "out_time=00:03:01.040000\n",
      "dup_frames=0\n",
      "drop_frames=0\n",
      "speed=4.03x\n",
      "progress=continue\n"
     ]
    },
    {
     "name": "stderr",
     "output_type": "stream",
     "text": [
      "frame= 4592 fps=101 q=-0.0 size=N/A time=00:03:02.44 bitrate=N/A speed=4.02x    \r"
     ]
    },
    {
     "name": "stdout",
     "output_type": "stream",
     "text": [
      "frame=4592\n",
      "fps=101.14\n",
      "stream_0_0_q=-0.0\n",
      "bitrate=N/A\n",
      "total_size=N/A\n",
      "out_time_us=182440000\n",
      "out_time_ms=182440000\n",
      "out_time=00:03:02.440000\n",
      "dup_frames=0\n",
      "drop_frames=0\n",
      "speed=4.02x\n",
      "progress=continue\n"
     ]
    },
    {
     "name": "stderr",
     "output_type": "stream",
     "text": [
      "frame= 4629 fps=101 q=-0.0 size=N/A time=00:03:03.92 bitrate=N/A speed=   4x    \r"
     ]
    },
    {
     "name": "stdout",
     "output_type": "stream",
     "text": [
      "frame=4629\n",
      "fps=100.80\n",
      "stream_0_0_q=-0.0\n",
      "bitrate=N/A\n",
      "total_size=N/A\n",
      "out_time_us=183920000\n",
      "out_time_ms=183920000\n",
      "out_time=00:03:03.920000\n",
      "dup_frames=0\n",
      "drop_frames=0\n",
      "speed=   4x\n",
      "progress=continue\n"
     ]
    },
    {
     "name": "stderr",
     "output_type": "stream",
     "text": [
      "frame= 4677 fps=101 q=-0.0 size=N/A time=00:03:05.84 bitrate=N/A speed=   4x    \r"
     ]
    },
    {
     "name": "stdout",
     "output_type": "stream",
     "text": [
      "frame=4677\n",
      "fps=100.74\n",
      "stream_0_0_q=-0.0\n",
      "bitrate=N/A\n",
      "total_size=N/A\n",
      "out_time_us=185840000\n",
      "out_time_ms=185840000\n",
      "out_time=00:03:05.840000\n",
      "dup_frames=0\n",
      "drop_frames=0\n",
      "speed=   4x\n",
      "progress=continue\n"
     ]
    },
    {
     "name": "stderr",
     "output_type": "stream",
     "text": [
      "frame= 4713 fps=100 q=-0.0 size=N/A time=00:03:07.28 bitrate=N/A speed=3.99x    \r"
     ]
    },
    {
     "name": "stdout",
     "output_type": "stream",
     "text": [
      "frame=4713\n",
      "fps=100.42\n",
      "stream_0_0_q=-0.0\n",
      "bitrate=N/A\n",
      "total_size=N/A\n",
      "out_time_us=187280000\n",
      "out_time_ms=187280000\n",
      "out_time=00:03:07.280000\n",
      "dup_frames=0\n",
      "drop_frames=0\n",
      "speed=3.99x\n",
      "progress=continue\n",
      "frame=4732\n",
      "fps=99.72\n",
      "stream_0_0_q=-0.0\n",
      "bitrate=N/A\n",
      "total_size=N/A\n",
      "out_time_us=188040000\n",
      "out_time_ms=188040000\n",
      "out_time=00:03:08.040000\n",
      "dup_frames=0\n",
      "drop_frames=0\n",
      "speed=3.96x\n",
      "progress=continue\n"
     ]
    },
    {
     "name": "stderr",
     "output_type": "stream",
     "text": [
      "frame= 4732 fps=100 q=-0.0 size=N/A time=00:03:08.04 bitrate=N/A speed=3.96x    \r"
     ]
    },
    {
     "name": "stdout",
     "output_type": "stream",
     "text": [
      "frame=4753\n",
      "fps=99.06\n",
      "stream_0_0_q=-0.0\n",
      "bitrate=N/A\n",
      "total_size=N/A\n",
      "out_time_us=188880000\n",
      "out_time_ms=188880000\n",
      "out_time=00:03:08.880000\n",
      "dup_frames=0\n",
      "drop_frames=0\n",
      "speed=3.94x\n",
      "progress=continue\n"
     ]
    },
    {
     "name": "stderr",
     "output_type": "stream",
     "text": [
      "frame= 4753 fps= 99 q=-0.0 size=N/A time=00:03:08.88 bitrate=N/A speed=3.94x    \r"
     ]
    },
    {
     "name": "stdout",
     "output_type": "stream",
     "text": [
      "frame=4771\n",
      "fps=98.09\n",
      "stream_0_0_q=-0.0\n",
      "bitrate=N/A\n",
      "total_size=N/A\n",
      "out_time_us=189600000\n",
      "out_time_ms=189600000\n",
      "out_time=00:03:09.600000\n",
      "dup_frames=0\n",
      "drop_frames=0\n",
      "speed= 3.9x\n",
      "progress=continue\n"
     ]
    },
    {
     "name": "stderr",
     "output_type": "stream",
     "text": [
      "frame= 4771 fps= 98 q=-0.0 size=N/A time=00:03:09.60 bitrate=N/A speed= 3.9x    \r"
     ]
    },
    {
     "name": "stdout",
     "output_type": "stream",
     "text": [
      "frame=4781\n",
      "fps=97.20\n",
      "stream_0_0_q=-0.0\n",
      "bitrate=N/A\n",
      "total_size=N/A\n",
      "out_time_us=190000000\n",
      "out_time_ms=190000000\n",
      "out_time=00:03:10.000000\n",
      "dup_frames=0\n",
      "drop_frames=0\n",
      "speed=3.86x\n",
      "progress=continue\n"
     ]
    },
    {
     "name": "stderr",
     "output_type": "stream",
     "text": [
      "frame= 4818 fps= 97 q=-0.0 size=N/A time=00:03:11.48 bitrate=N/A speed=3.85x    \r"
     ]
    },
    {
     "name": "stdout",
     "output_type": "stream",
     "text": [
      "frame=4818\n",
      "fps=96.92\n",
      "stream_0_0_q=-0.0\n",
      "bitrate=N/A\n",
      "total_size=N/A\n",
      "out_time_us=191480000\n",
      "out_time_ms=191480000\n",
      "out_time=00:03:11.480000\n",
      "dup_frames=0\n",
      "drop_frames=0\n",
      "speed=3.85x\n",
      "progress=continue\n"
     ]
    },
    {
     "name": "stderr",
     "output_type": "stream",
     "text": [
      "frame= 4865 fps= 97 q=-0.0 size=N/A time=00:03:13.36 bitrate=N/A speed=3.85x    \r"
     ]
    },
    {
     "name": "stdout",
     "output_type": "stream",
     "text": [
      "frame=4865\n",
      "fps=96.85\n",
      "stream_0_0_q=-0.0\n",
      "bitrate=N/A\n",
      "total_size=N/A\n",
      "out_time_us=193360000\n",
      "out_time_ms=193360000\n",
      "out_time=00:03:13.360000\n",
      "dup_frames=0\n",
      "drop_frames=0\n",
      "speed=3.85x\n",
      "progress=continue\n",
      "frame=4883\n",
      "fps=96.17\n",
      "stream_0_0_q=-0.0\n",
      "bitrate=N/A\n",
      "total_size=N/A\n",
      "out_time_us=194080000\n",
      "out_time_ms=194080000\n",
      "out_time=00:03:14.080000\n",
      "dup_frames=0\n",
      "drop_frames=0\n",
      "speed=3.82x\n",
      "progress=continue\n"
     ]
    },
    {
     "name": "stderr",
     "output_type": "stream",
     "text": [
      "frame= 4883 fps= 96 q=-0.0 size=N/A time=00:03:14.08 bitrate=N/A speed=3.82x    \r"
     ]
    },
    {
     "name": "stdout",
     "output_type": "stream",
     "text": [
      "frame=4912\n",
      "fps=95.79\n",
      "stream_0_0_q=-0.0\n",
      "bitrate=N/A\n",
      "total_size=N/A\n",
      "out_time_us=195240000\n",
      "out_time_ms=195240000\n",
      "out_time=00:03:15.240000\n",
      "dup_frames=0\n",
      "drop_frames=0\n",
      "speed=3.81x\n",
      "progress=continue\n"
     ]
    },
    {
     "name": "stderr",
     "output_type": "stream",
     "text": [
      "frame= 4912 fps= 96 q=-0.0 size=N/A time=00:03:15.24 bitrate=N/A speed=3.81x    \r"
     ]
    },
    {
     "name": "stdout",
     "output_type": "stream",
     "text": [
      "frame=4930\n",
      "fps=95.14\n",
      "stream_0_0_q=-0.0\n",
      "bitrate=N/A\n",
      "total_size=N/A\n",
      "out_time_us=195960000\n",
      "out_time_ms=195960000\n",
      "out_time=00:03:15.960000\n",
      "dup_frames=0\n",
      "drop_frames=0\n",
      "speed=3.78x\n",
      "progress=continue\n"
     ]
    },
    {
     "name": "stderr",
     "output_type": "stream",
     "text": [
      "frame= 4930 fps= 95 q=-0.0 size=N/A time=00:03:15.96 bitrate=N/A speed=3.78x    \r"
     ]
    },
    {
     "name": "stdout",
     "output_type": "stream",
     "text": [
      "frame=4941\n",
      "fps=94.44\n",
      "stream_0_0_q=-0.0\n",
      "bitrate=N/A\n",
      "total_size=N/A\n",
      "out_time_us=196400000\n",
      "out_time_ms=196400000\n",
      "out_time=00:03:16.400000\n",
      "dup_frames=0\n",
      "drop_frames=0\n",
      "speed=3.75x\n",
      "progress=continue\n"
     ]
    },
    {
     "name": "stderr",
     "output_type": "stream",
     "text": [
      "frame= 4965 fps= 94 q=-0.0 size=N/A time=00:03:17.36 bitrate=N/A speed=3.74x    \r"
     ]
    },
    {
     "name": "stdout",
     "output_type": "stream",
     "text": [
      "frame=4965\n",
      "fps=94.00\n",
      "stream_0_0_q=-0.0\n",
      "bitrate=N/A\n",
      "total_size=N/A\n",
      "out_time_us=197360000\n",
      "out_time_ms=197360000\n",
      "out_time=00:03:17.360000\n",
      "dup_frames=0\n",
      "drop_frames=0\n",
      "speed=3.74x\n",
      "progress=continue\n"
     ]
    },
    {
     "name": "stderr",
     "output_type": "stream",
     "text": [
      "frame= 5002 fps= 94 q=-0.0 size=N/A time=00:03:18.84 bitrate=N/A speed=3.73x    \r"
     ]
    },
    {
     "name": "stdout",
     "output_type": "stream",
     "text": [
      "frame=5002\n",
      "fps=93.72\n",
      "stream_0_0_q=-0.0\n",
      "bitrate=N/A\n",
      "total_size=N/A\n",
      "out_time_us=198840000\n",
      "out_time_ms=198840000\n",
      "out_time=00:03:18.840000\n",
      "dup_frames=0\n",
      "drop_frames=0\n",
      "speed=3.73x\n",
      "progress=continue\n"
     ]
    },
    {
     "name": "stderr",
     "output_type": "stream",
     "text": [
      "frame= 5032 fps= 93 q=-0.0 size=N/A time=00:03:20.04 bitrate=N/A speed=3.71x    \r"
     ]
    },
    {
     "name": "stdout",
     "output_type": "stream",
     "text": [
      "frame=5032\n",
      "fps=93.37\n",
      "stream_0_0_q=-0.0\n",
      "bitrate=N/A\n",
      "total_size=N/A\n",
      "out_time_us=200040000\n",
      "out_time_ms=200040000\n",
      "out_time=00:03:20.040000\n",
      "dup_frames=0\n",
      "drop_frames=0\n",
      "speed=3.71x\n",
      "progress=continue\n",
      "frame=5056\n",
      "fps=92.94\n",
      "stream_0_0_q=-0.0\n",
      "bitrate=N/A\n",
      "total_size=N/A\n",
      "out_time_us=201000000\n",
      "out_time_ms=201000000\n",
      "out_time=00:03:21.000000\n",
      "dup_frames=0\n",
      "drop_frames=0\n",
      "speed=3.69x\n",
      "progress=continue\n"
     ]
    },
    {
     "name": "stderr",
     "output_type": "stream",
     "text": [
      "frame= 5081 fps= 93 q=-0.0 size=N/A time=00:03:22.00 bitrate=N/A speed=3.68x    \r"
     ]
    },
    {
     "name": "stdout",
     "output_type": "stream",
     "text": [
      "frame=5081\n",
      "fps=92.53\n",
      "stream_0_0_q=-0.0\n",
      "bitrate=N/A\n",
      "total_size=N/A\n",
      "out_time_us=202000000\n",
      "out_time_ms=202000000\n",
      "out_time=00:03:22.000000\n",
      "dup_frames=0\n",
      "drop_frames=0\n",
      "speed=3.68x\n",
      "progress=continue\n"
     ]
    },
    {
     "name": "stderr",
     "output_type": "stream",
     "text": [
      "frame= 5105 fps= 92 q=-0.0 size=N/A time=00:03:22.96 bitrate=N/A speed=3.66x    \r"
     ]
    },
    {
     "name": "stdout",
     "output_type": "stream",
     "text": [
      "frame=5105\n",
      "fps=92.13\n",
      "stream_0_0_q=-0.0\n",
      "bitrate=N/A\n",
      "total_size=N/A\n",
      "out_time_us=202960000\n",
      "out_time_ms=202960000\n",
      "out_time=00:03:22.960000\n",
      "dup_frames=0\n",
      "drop_frames=0\n",
      "speed=3.66x\n",
      "progress=continue\n"
     ]
    },
    {
     "name": "stderr",
     "output_type": "stream",
     "text": [
      "frame= 5129 fps= 92 q=-0.0 size=N/A time=00:03:23.92 bitrate=N/A speed=3.65x    \r"
     ]
    },
    {
     "name": "stdout",
     "output_type": "stream",
     "text": [
      "frame=5129\n",
      "fps=91.72\n",
      "stream_0_0_q=-0.0\n",
      "bitrate=N/A\n",
      "total_size=N/A\n",
      "out_time_us=203920000\n",
      "out_time_ms=203920000\n",
      "out_time=00:03:23.920000\n",
      "dup_frames=0\n",
      "drop_frames=0\n",
      "speed=3.65x\n",
      "progress=continue\n",
      "frame=5152\n",
      "fps=91.31\n",
      "stream_0_0_q=-0.0\n",
      "bitrate=N/A\n",
      "total_size=N/A\n",
      "out_time_us=204840000\n",
      "out_time_ms=204840000\n",
      "out_time=00:03:24.840000\n",
      "dup_frames=0\n",
      "drop_frames=0\n",
      "speed=3.63x\n",
      "progress=continue\n"
     ]
    },
    {
     "name": "stderr",
     "output_type": "stream",
     "text": [
      "frame= 5176 fps= 91 q=-0.0 size=N/A time=00:03:25.80 bitrate=N/A speed=3.61x    \r"
     ]
    },
    {
     "name": "stdout",
     "output_type": "stream",
     "text": [
      "frame=5176\n",
      "fps=90.91\n",
      "stream_0_0_q=-0.0\n",
      "bitrate=N/A\n",
      "total_size=N/A\n",
      "out_time_us=205800000\n",
      "out_time_ms=205800000\n",
      "out_time=00:03:25.800000\n",
      "dup_frames=0\n",
      "drop_frames=0\n",
      "speed=3.61x\n",
      "progress=continue\n",
      "frame=5200\n",
      "fps=90.53\n",
      "stream_0_0_q=-0.0\n",
      "bitrate=N/A\n",
      "total_size=N/A\n",
      "out_time_us=206760000\n",
      "out_time_ms=206760000\n",
      "out_time=00:03:26.760000\n",
      "dup_frames=0\n",
      "drop_frames=0\n",
      "speed= 3.6x\n",
      "progress=continue\n"
     ]
    },
    {
     "name": "stderr",
     "output_type": "stream",
     "text": [
      "frame= 5224 fps= 90 q=-0.0 size=N/A time=00:03:27.72 bitrate=N/A speed=3.58x    \r"
     ]
    },
    {
     "name": "stdout",
     "output_type": "stream",
     "text": [
      "frame=5224\n",
      "fps=90.16\n",
      "stream_0_0_q=-0.0\n",
      "bitrate=N/A\n",
      "total_size=N/A\n",
      "out_time_us=207720000\n",
      "out_time_ms=207720000\n",
      "out_time=00:03:27.720000\n",
      "dup_frames=0\n",
      "drop_frames=0\n",
      "speed=3.58x\n",
      "progress=continue\n",
      "frame=5243\n",
      "fps=89.64\n",
      "stream_0_0_q=-0.0\n",
      "bitrate=N/A\n",
      "total_size=N/A\n",
      "out_time_us=208480000\n",
      "out_time_ms=208480000\n",
      "out_time=00:03:28.480000\n",
      "dup_frames=0\n",
      "drop_frames=0\n",
      "speed=3.56x\n",
      "progress=continue\n"
     ]
    },
    {
     "name": "stderr",
     "output_type": "stream",
     "text": [
      "frame= 5243 fps= 90 q=-0.0 size=N/A time=00:03:28.48 bitrate=N/A speed=3.56x    \r"
     ]
    },
    {
     "name": "stdout",
     "output_type": "stream",
     "text": [
      "frame=5260\n",
      "fps=89.15\n",
      "stream_0_0_q=-0.0\n",
      "bitrate=N/A\n",
      "total_size=N/A\n",
      "out_time_us=209160000\n",
      "out_time_ms=209160000\n",
      "out_time=00:03:29.160000\n",
      "dup_frames=0\n",
      "drop_frames=0\n",
      "speed=3.55x\n",
      "progress=continue\n"
     ]
    },
    {
     "name": "stderr",
     "output_type": "stream",
     "text": [
      "frame= 5260 fps= 89 q=-0.0 size=N/A time=00:03:29.16 bitrate=N/A speed=3.55x    \r"
     ]
    },
    {
     "name": "stdout",
     "output_type": "stream",
     "text": [
      "frame=5280\n",
      "fps=88.73\n",
      "stream_0_0_q=-0.0\n",
      "bitrate=N/A\n",
      "total_size=N/A\n",
      "out_time_us=209960000\n",
      "out_time_ms=209960000\n",
      "out_time=00:03:29.960000\n",
      "dup_frames=0\n",
      "drop_frames=0\n",
      "speed=3.53x\n",
      "progress=continue\n"
     ]
    },
    {
     "name": "stderr",
     "output_type": "stream",
     "text": [
      "frame= 5280 fps= 89 q=-0.0 size=N/A time=00:03:29.96 bitrate=N/A speed=3.53x    \r"
     ]
    },
    {
     "name": "stdout",
     "output_type": "stream",
     "text": [
      "frame=5300\n",
      "fps=88.31\n",
      "stream_0_0_q=-0.0\n",
      "bitrate=N/A\n",
      "total_size=N/A\n",
      "out_time_us=210760000\n",
      "out_time_ms=210760000\n",
      "out_time=00:03:30.760000\n",
      "dup_frames=0\n",
      "drop_frames=0\n",
      "speed=3.51x\n",
      "progress=continue\n"
     ]
    },
    {
     "name": "stderr",
     "output_type": "stream",
     "text": [
      "frame= 5316 fps= 88 q=-0.0 size=N/A time=00:03:31.40 bitrate=N/A speed=3.49x    \r"
     ]
    },
    {
     "name": "stdout",
     "output_type": "stream",
     "text": [
      "frame=5316\n",
      "fps=87.70\n",
      "stream_0_0_q=-0.0\n",
      "bitrate=N/A\n",
      "total_size=N/A\n",
      "out_time_us=211400000\n",
      "out_time_ms=211400000\n",
      "out_time=00:03:31.400000\n",
      "dup_frames=0\n",
      "drop_frames=0\n",
      "speed=3.49x\n",
      "progress=continue\n",
      "frame=5335\n",
      "fps=87.29\n",
      "stream_0_0_q=-0.0\n",
      "bitrate=N/A\n",
      "total_size=N/A\n",
      "out_time_us=212160000\n",
      "out_time_ms=212160000\n",
      "out_time=00:03:32.160000\n",
      "dup_frames=0\n",
      "drop_frames=0\n",
      "speed=3.47x\n",
      "progress=continue\n"
     ]
    },
    {
     "name": "stderr",
     "output_type": "stream",
     "text": [
      "frame= 5335 fps= 87 q=-0.0 size=N/A time=00:03:32.16 bitrate=N/A speed=3.47x    \r"
     ]
    },
    {
     "name": "stdout",
     "output_type": "stream",
     "text": [
      "frame=5353\n",
      "fps=86.83\n",
      "stream_0_0_q=-0.0\n",
      "bitrate=N/A\n",
      "total_size=N/A\n",
      "out_time_us=212880000\n",
      "out_time_ms=212880000\n",
      "out_time=00:03:32.880000\n",
      "dup_frames=0\n",
      "drop_frames=0\n",
      "speed=3.45x\n",
      "progress=continue\n"
     ]
    },
    {
     "name": "stderr",
     "output_type": "stream",
     "text": [
      "frame= 5353 fps= 87 q=-0.0 size=N/A time=00:03:32.88 bitrate=N/A speed=3.45x    \r"
     ]
    },
    {
     "name": "stdout",
     "output_type": "stream",
     "text": [
      "frame=5370\n",
      "fps=86.38\n",
      "stream_0_0_q=-0.0\n",
      "bitrate=N/A\n",
      "total_size=N/A\n",
      "out_time_us=213560000\n",
      "out_time_ms=213560000\n",
      "out_time=00:03:33.560000\n",
      "dup_frames=0\n",
      "drop_frames=0\n",
      "speed=3.44x\n",
      "progress=continue\n"
     ]
    },
    {
     "name": "stderr",
     "output_type": "stream",
     "text": [
      "frame= 5370 fps= 86 q=-0.0 size=N/A time=00:03:33.56 bitrate=N/A speed=3.44x    \r"
     ]
    },
    {
     "name": "stdout",
     "output_type": "stream",
     "text": [
      "frame=5389\n",
      "fps=85.99\n",
      "stream_0_0_q=-0.0\n",
      "bitrate=N/A\n",
      "total_size=N/A\n",
      "out_time_us=214320000\n",
      "out_time_ms=214320000\n",
      "out_time=00:03:34.320000\n",
      "dup_frames=0\n",
      "drop_frames=0\n",
      "speed=3.42x\n",
      "progress=continue\n"
     ]
    },
    {
     "name": "stderr",
     "output_type": "stream",
     "text": [
      "frame= 5407 fps= 86 q=-0.0 size=N/A time=00:03:35.04 bitrate=N/A speed= 3.4x    \r"
     ]
    },
    {
     "name": "stdout",
     "output_type": "stream",
     "text": [
      "frame=5407\n",
      "fps=85.59\n",
      "stream_0_0_q=-0.0\n",
      "bitrate=N/A\n",
      "total_size=N/A\n",
      "out_time_us=215040000\n",
      "out_time_ms=215040000\n",
      "out_time=00:03:35.040000\n",
      "dup_frames=0\n",
      "drop_frames=0\n",
      "speed= 3.4x\n",
      "progress=continue\n",
      "frame=5425\n",
      "fps=85.17\n",
      "stream_0_0_q=-0.0\n",
      "bitrate=N/A\n",
      "total_size=N/A\n",
      "out_time_us=215760000\n",
      "out_time_ms=215760000\n",
      "out_time=00:03:35.760000\n",
      "dup_frames=0\n",
      "drop_frames=0\n",
      "speed=3.39x\n",
      "progress=continue\n"
     ]
    },
    {
     "name": "stderr",
     "output_type": "stream",
     "text": [
      "frame= 5425 fps= 85 q=-0.0 size=N/A time=00:03:35.76 bitrate=N/A speed=3.39x    \r"
     ]
    },
    {
     "name": "stdout",
     "output_type": "stream",
     "text": [
      "frame=5442\n",
      "fps=84.76\n",
      "stream_0_0_q=-0.0\n",
      "bitrate=N/A\n",
      "total_size=N/A\n",
      "out_time_us=216440000\n",
      "out_time_ms=216440000\n",
      "out_time=00:03:36.440000\n",
      "dup_frames=0\n",
      "drop_frames=0\n",
      "speed=3.37x\n",
      "progress=continue\n"
     ]
    },
    {
     "name": "stderr",
     "output_type": "stream",
     "text": [
      "frame= 5442 fps= 85 q=-0.0 size=N/A time=00:03:36.44 bitrate=N/A speed=3.37x    \r"
     ]
    },
    {
     "name": "stdout",
     "output_type": "stream",
     "text": [
      "frame=5460\n",
      "fps=84.37\n",
      "stream_0_0_q=-0.0\n",
      "bitrate=N/A\n",
      "total_size=N/A\n",
      "out_time_us=217160000\n",
      "out_time_ms=217160000\n",
      "out_time=00:03:37.160000\n",
      "dup_frames=0\n",
      "drop_frames=0\n",
      "speed=3.36x\n",
      "progress=continue\n"
     ]
    },
    {
     "name": "stderr",
     "output_type": "stream",
     "text": [
      "frame= 5460 fps= 84 q=-0.0 size=N/A time=00:03:37.16 bitrate=N/A speed=3.36x    \r"
     ]
    },
    {
     "name": "stdout",
     "output_type": "stream",
     "text": [
      "frame=5478\n",
      "fps=83.97\n",
      "stream_0_0_q=-0.0\n",
      "bitrate=N/A\n",
      "total_size=N/A\n",
      "out_time_us=217880000\n",
      "out_time_ms=217880000\n",
      "out_time=00:03:37.880000\n",
      "dup_frames=0\n",
      "drop_frames=0\n",
      "speed=3.34x\n",
      "progress=continue\n"
     ]
    },
    {
     "name": "stderr",
     "output_type": "stream",
     "text": [
      "frame= 5495 fps= 84 q=-0.0 size=N/A time=00:03:38.56 bitrate=N/A speed=3.32x    \r"
     ]
    },
    {
     "name": "stdout",
     "output_type": "stream",
     "text": [
      "frame=5495\n",
      "fps=83.56\n",
      "stream_0_0_q=-0.0\n",
      "bitrate=N/A\n",
      "total_size=N/A\n",
      "out_time_us=218560000\n",
      "out_time_ms=218560000\n",
      "out_time=00:03:38.560000\n",
      "dup_frames=0\n",
      "drop_frames=0\n",
      "speed=3.32x\n",
      "progress=continue\n"
     ]
    },
    {
     "name": "stderr",
     "output_type": "stream",
     "text": [
      "frame= 5516 fps= 83 q=-0.0 size=N/A time=00:03:39.40 bitrate=N/A speed=3.31x    \r"
     ]
    },
    {
     "name": "stdout",
     "output_type": "stream",
     "text": [
      "frame=5516\n",
      "fps=83.23\n",
      "stream_0_0_q=-0.0\n",
      "bitrate=N/A\n",
      "total_size=N/A\n",
      "out_time_us=219400000\n",
      "out_time_ms=219400000\n",
      "out_time=00:03:39.400000\n",
      "dup_frames=0\n",
      "drop_frames=0\n",
      "speed=3.31x\n",
      "progress=continue\n"
     ]
    },
    {
     "name": "stderr",
     "output_type": "stream",
     "text": [
      "frame= 5535 fps= 83 q=-0.0 size=N/A time=00:03:40.16 bitrate=N/A speed= 3.3x    \r"
     ]
    },
    {
     "name": "stdout",
     "output_type": "stream",
     "text": [
      "frame=5535\n",
      "fps=82.86\n",
      "stream_0_0_q=-0.0\n",
      "bitrate=N/A\n",
      "total_size=N/A\n",
      "out_time_us=220160000\n",
      "out_time_ms=220160000\n",
      "out_time=00:03:40.160000\n",
      "dup_frames=0\n",
      "drop_frames=0\n",
      "speed= 3.3x\n",
      "progress=continue\n"
     ]
    },
    {
     "name": "stderr",
     "output_type": "stream",
     "text": [
      "frame= 5554 fps= 83 q=-0.0 size=N/A time=00:03:40.92 bitrate=N/A speed=3.28x    \r"
     ]
    },
    {
     "name": "stdout",
     "output_type": "stream",
     "text": [
      "frame=5554\n",
      "fps=82.52\n",
      "stream_0_0_q=-0.0\n",
      "bitrate=N/A\n",
      "total_size=N/A\n",
      "out_time_us=220920000\n",
      "out_time_ms=220920000\n",
      "out_time=00:03:40.920000\n",
      "dup_frames=0\n",
      "drop_frames=0\n",
      "speed=3.28x\n",
      "progress=continue\n",
      "frame=5570\n",
      "fps=82.11\n",
      "stream_0_0_q=-0.0\n",
      "bitrate=N/A\n",
      "total_size=N/A\n",
      "out_time_us=221560000\n",
      "out_time_ms=221560000\n",
      "out_time=00:03:41.560000\n",
      "dup_frames=0\n",
      "drop_frames=0\n",
      "speed=3.27x\n",
      "progress=continue\n"
     ]
    },
    {
     "name": "stderr",
     "output_type": "stream",
     "text": [
      "frame= 5582 fps= 82 q=-0.0 size=N/A time=00:03:42.04 bitrate=N/A speed=3.25x    \r"
     ]
    },
    {
     "name": "stdout",
     "output_type": "stream",
     "text": [
      "frame=5582\n",
      "fps=81.62\n",
      "stream_0_0_q=-0.0\n",
      "bitrate=N/A\n",
      "total_size=N/A\n",
      "out_time_us=222040000\n",
      "out_time_ms=222040000\n",
      "out_time=00:03:42.040000\n",
      "dup_frames=0\n",
      "drop_frames=0\n",
      "speed=3.25x\n",
      "progress=continue\n"
     ]
    },
    {
     "name": "stderr",
     "output_type": "stream",
     "text": [
      "frame= 5600 fps= 81 q=-0.0 size=N/A time=00:03:42.76 bitrate=N/A speed=3.23x    \r"
     ]
    },
    {
     "name": "stdout",
     "output_type": "stream",
     "text": [
      "frame=5600\n",
      "fps=81.29\n",
      "stream_0_0_q=-0.0\n",
      "bitrate=N/A\n",
      "total_size=N/A\n",
      "out_time_us=222760000\n",
      "out_time_ms=222760000\n",
      "out_time=00:03:42.760000\n",
      "dup_frames=0\n",
      "drop_frames=0\n",
      "speed=3.23x\n",
      "progress=continue\n"
     ]
    },
    {
     "name": "stderr",
     "output_type": "stream",
     "text": [
      "frame= 5627 fps= 81 q=-0.0 size=N/A time=00:03:43.84 bitrate=N/A speed=3.23x    \r"
     ]
    },
    {
     "name": "stdout",
     "output_type": "stream",
     "text": [
      "frame=5627\n",
      "fps=81.07\n",
      "stream_0_0_q=-0.0\n",
      "bitrate=N/A\n",
      "total_size=N/A\n",
      "out_time_us=223840000\n",
      "out_time_ms=223840000\n",
      "out_time=00:03:43.840000\n",
      "dup_frames=0\n",
      "drop_frames=0\n",
      "speed=3.23x\n",
      "progress=continue\n"
     ]
    },
    {
     "name": "stderr",
     "output_type": "stream",
     "text": [
      "frame= 5656 fps= 81 q=-0.0 size=N/A time=00:03:45.00 bitrate=N/A speed=3.22x    \r"
     ]
    },
    {
     "name": "stdout",
     "output_type": "stream",
     "text": [
      "frame=5656\n",
      "fps=80.91\n",
      "stream_0_0_q=-0.0\n",
      "bitrate=N/A\n",
      "total_size=N/A\n",
      "out_time_us=225000000\n",
      "out_time_ms=225000000\n",
      "out_time=00:03:45.000000\n",
      "dup_frames=0\n",
      "drop_frames=0\n",
      "speed=3.22x\n",
      "progress=continue\n"
     ]
    },
    {
     "name": "stderr",
     "output_type": "stream",
     "text": [
      "frame= 5675 fps= 81 q=-0.0 size=N/A time=00:03:45.76 bitrate=N/A speed=3.21x    \r"
     ]
    },
    {
     "name": "stdout",
     "output_type": "stream",
     "text": [
      "frame=5675\n",
      "fps=80.59\n",
      "stream_0_0_q=-0.0\n",
      "bitrate=N/A\n",
      "total_size=N/A\n",
      "out_time_us=225760000\n",
      "out_time_ms=225760000\n",
      "out_time=00:03:45.760000\n",
      "dup_frames=0\n",
      "drop_frames=0\n",
      "speed=3.21x\n",
      "progress=continue\n"
     ]
    },
    {
     "name": "stderr",
     "output_type": "stream",
     "text": [
      "frame= 5695 fps= 80 q=-0.0 size=N/A time=00:03:46.56 bitrate=N/A speed=3.19x    \r"
     ]
    },
    {
     "name": "stdout",
     "output_type": "stream",
     "text": [
      "frame=5695\n",
      "fps=80.28\n",
      "stream_0_0_q=-0.0\n",
      "bitrate=N/A\n",
      "total_size=N/A\n",
      "out_time_us=226560000\n",
      "out_time_ms=226560000\n",
      "out_time=00:03:46.560000\n",
      "dup_frames=0\n",
      "drop_frames=0\n",
      "speed=3.19x\n",
      "progress=continue\n"
     ]
    },
    {
     "name": "stderr",
     "output_type": "stream",
     "text": [
      "frame= 5714 fps= 80 q=-0.0 size=N/A time=00:03:47.32 bitrate=N/A speed=3.18x    \r"
     ]
    },
    {
     "name": "stdout",
     "output_type": "stream",
     "text": [
      "frame=5714\n",
      "fps=79.97\n",
      "stream_0_0_q=-0.0\n",
      "bitrate=N/A\n",
      "total_size=N/A\n",
      "out_time_us=227320000\n",
      "out_time_ms=227320000\n",
      "out_time=00:03:47.320000\n",
      "dup_frames=0\n",
      "drop_frames=0\n",
      "speed=3.18x\n",
      "progress=continue\n"
     ]
    },
    {
     "name": "stderr",
     "output_type": "stream",
     "text": [
      "frame= 5733 fps= 80 q=-0.0 size=N/A time=00:03:48.08 bitrate=N/A speed=3.17x    \r"
     ]
    },
    {
     "name": "stdout",
     "output_type": "stream",
     "text": [
      "frame=5733\n",
      "fps=79.67\n",
      "stream_0_0_q=-0.0\n",
      "bitrate=N/A\n",
      "total_size=N/A\n",
      "out_time_us=228080000\n",
      "out_time_ms=228080000\n",
      "out_time=00:03:48.080000\n",
      "dup_frames=0\n",
      "drop_frames=0\n",
      "speed=3.17x\n",
      "progress=continue\n"
     ]
    },
    {
     "name": "stderr",
     "output_type": "stream",
     "text": [
      "frame= 5752 fps= 79 q=-0.0 size=N/A time=00:03:48.84 bitrate=N/A speed=3.16x    \r"
     ]
    },
    {
     "name": "stdout",
     "output_type": "stream",
     "text": [
      "frame=5752\n",
      "fps=79.37\n",
      "stream_0_0_q=-0.0\n",
      "bitrate=N/A\n",
      "total_size=N/A\n",
      "out_time_us=228840000\n",
      "out_time_ms=228840000\n",
      "out_time=00:03:48.840000\n",
      "dup_frames=0\n",
      "drop_frames=0\n",
      "speed=3.16x\n",
      "progress=continue\n"
     ]
    },
    {
     "name": "stderr",
     "output_type": "stream",
     "text": [
      "frame= 5771 fps= 79 q=-0.0 size=N/A time=00:03:49.60 bitrate=N/A speed=3.15x    \r"
     ]
    },
    {
     "name": "stdout",
     "output_type": "stream",
     "text": [
      "frame=5771\n",
      "fps=79.06\n",
      "stream_0_0_q=-0.0\n",
      "bitrate=N/A\n",
      "total_size=N/A\n",
      "out_time_us=229600000\n",
      "out_time_ms=229600000\n",
      "out_time=00:03:49.600000\n",
      "dup_frames=0\n",
      "drop_frames=0\n",
      "speed=3.15x\n",
      "progress=continue\n"
     ]
    },
    {
     "name": "stderr",
     "output_type": "stream",
     "text": [
      "frame= 5790 fps= 79 q=-0.0 size=N/A time=00:03:50.36 bitrate=N/A speed=3.13x    \r"
     ]
    },
    {
     "name": "stdout",
     "output_type": "stream",
     "text": [
      "frame=5790\n",
      "fps=78.78\n",
      "stream_0_0_q=-0.0\n",
      "bitrate=N/A\n",
      "total_size=N/A\n",
      "out_time_us=230360000\n",
      "out_time_ms=230360000\n",
      "out_time=00:03:50.360000\n",
      "dup_frames=0\n",
      "drop_frames=0\n",
      "speed=3.13x\n",
      "progress=continue\n"
     ]
    },
    {
     "name": "stderr",
     "output_type": "stream",
     "text": [
      "frame= 5810 fps= 79 q=-0.0 size=N/A time=00:03:51.16 bitrate=N/A speed=3.12x    \r"
     ]
    },
    {
     "name": "stdout",
     "output_type": "stream",
     "text": [
      "frame=5810\n",
      "fps=78.50\n",
      "stream_0_0_q=-0.0\n",
      "bitrate=N/A\n",
      "total_size=N/A\n",
      "out_time_us=231160000\n",
      "out_time_ms=231160000\n",
      "out_time=00:03:51.160000\n",
      "dup_frames=0\n",
      "drop_frames=0\n",
      "speed=3.12x\n",
      "progress=continue\n"
     ]
    },
    {
     "name": "stderr",
     "output_type": "stream",
     "text": [
      "frame= 5829 fps= 78 q=-0.0 size=N/A time=00:03:51.92 bitrate=N/A speed=3.11x    \r"
     ]
    },
    {
     "name": "stdout",
     "output_type": "stream",
     "text": [
      "frame=5829\n",
      "fps=78.23\n",
      "stream_0_0_q=-0.0\n",
      "bitrate=N/A\n",
      "total_size=N/A\n",
      "out_time_us=231920000\n",
      "out_time_ms=231920000\n",
      "out_time=00:03:51.920000\n",
      "dup_frames=0\n",
      "drop_frames=0\n",
      "speed=3.11x\n",
      "progress=continue\n"
     ]
    },
    {
     "name": "stderr",
     "output_type": "stream",
     "text": [
      "frame= 5849 fps= 78 q=-0.0 size=N/A time=00:03:52.72 bitrate=N/A speed= 3.1x    \r"
     ]
    },
    {
     "name": "stdout",
     "output_type": "stream",
     "text": [
      "frame=5849\n",
      "fps=77.96\n",
      "stream_0_0_q=-0.0\n",
      "bitrate=N/A\n",
      "total_size=N/A\n",
      "out_time_us=232720000\n",
      "out_time_ms=232720000\n",
      "out_time=00:03:52.720000\n",
      "dup_frames=0\n",
      "drop_frames=0\n",
      "speed= 3.1x\n",
      "progress=continue\n",
      "frame=5864\n",
      "fps=77.63\n",
      "stream_0_0_q=-0.0\n",
      "bitrate=N/A\n",
      "total_size=N/A\n",
      "out_time_us=233320000\n",
      "out_time_ms=233320000\n",
      "out_time=00:03:53.320000\n",
      "dup_frames=0\n",
      "drop_frames=0\n",
      "speed=3.09x\n",
      "progress=continue\n"
     ]
    },
    {
     "name": "stderr",
     "output_type": "stream",
     "text": [
      "frame= 5880 fps= 77 q=-0.0 size=N/A time=00:03:53.96 bitrate=N/A speed=3.08x    \r"
     ]
    },
    {
     "name": "stdout",
     "output_type": "stream",
     "text": [
      "frame=5880\n",
      "fps=77.29\n",
      "stream_0_0_q=-0.0\n",
      "bitrate=N/A\n",
      "total_size=N/A\n",
      "out_time_us=233960000\n",
      "out_time_ms=233960000\n",
      "out_time=00:03:53.960000\n",
      "dup_frames=0\n",
      "drop_frames=0\n",
      "speed=3.08x\n",
      "progress=continue\n"
     ]
    },
    {
     "name": "stderr",
     "output_type": "stream",
     "text": [
      "frame= 5897 fps= 77 q=-0.0 size=N/A time=00:03:54.64 bitrate=N/A speed=3.06x    \r"
     ]
    },
    {
     "name": "stdout",
     "output_type": "stream",
     "text": [
      "frame=5897\n",
      "fps=77.00\n",
      "stream_0_0_q=-0.0\n",
      "bitrate=N/A\n",
      "total_size=N/A\n",
      "out_time_us=234640000\n",
      "out_time_ms=234640000\n",
      "out_time=00:03:54.640000\n",
      "dup_frames=0\n",
      "drop_frames=0\n",
      "speed=3.06x\n",
      "progress=continue\n"
     ]
    },
    {
     "name": "stderr",
     "output_type": "stream",
     "text": [
      "frame= 5926 fps= 77 q=-0.0 size=N/A time=00:03:55.80 bitrate=N/A speed=3.06x    \r"
     ]
    },
    {
     "name": "stdout",
     "output_type": "stream",
     "text": [
      "frame=5926\n",
      "fps=76.87\n",
      "stream_0_0_q=-0.0\n",
      "bitrate=N/A\n",
      "total_size=N/A\n",
      "out_time_us=235800000\n",
      "out_time_ms=235800000\n",
      "out_time=00:03:55.800000\n",
      "dup_frames=0\n",
      "drop_frames=0\n",
      "speed=3.06x\n",
      "progress=continue\n"
     ]
    },
    {
     "name": "stderr",
     "output_type": "stream",
     "text": [
      "frame= 5945 fps= 77 q=-0.0 size=N/A time=00:03:56.56 bitrate=N/A speed=3.05x    \r"
     ]
    },
    {
     "name": "stdout",
     "output_type": "stream",
     "text": [
      "frame=5945\n",
      "fps=76.60\n",
      "stream_0_0_q=-0.0\n",
      "bitrate=N/A\n",
      "total_size=N/A\n",
      "out_time_us=236560000\n",
      "out_time_ms=236560000\n",
      "out_time=00:03:56.560000\n",
      "dup_frames=0\n",
      "drop_frames=0\n",
      "speed=3.05x\n",
      "progress=continue\n"
     ]
    },
    {
     "name": "stderr",
     "output_type": "stream",
     "text": [
      "frame= 5965 fps= 76 q=-0.0 size=N/A time=00:03:57.36 bitrate=N/A speed=3.04x    \r"
     ]
    },
    {
     "name": "stdout",
     "output_type": "stream",
     "text": [
      "frame=5965\n",
      "fps=76.35\n",
      "stream_0_0_q=-0.0\n",
      "bitrate=N/A\n",
      "total_size=N/A\n",
      "out_time_us=237360000\n",
      "out_time_ms=237360000\n",
      "out_time=00:03:57.360000\n",
      "dup_frames=0\n",
      "drop_frames=0\n",
      "speed=3.04x\n",
      "progress=continue\n"
     ]
    },
    {
     "name": "stderr",
     "output_type": "stream",
     "text": [
      "frame= 5980 fps= 76 q=-0.0 size=N/A time=00:03:57.96 bitrate=N/A speed=3.03x    \r"
     ]
    },
    {
     "name": "stdout",
     "output_type": "stream",
     "text": [
      "frame=5980\n",
      "fps=76.03\n",
      "stream_0_0_q=-0.0\n",
      "bitrate=N/A\n",
      "total_size=N/A\n",
      "out_time_us=237960000\n",
      "out_time_ms=237960000\n",
      "out_time=00:03:57.960000\n",
      "dup_frames=0\n",
      "drop_frames=0\n",
      "speed=3.03x\n",
      "progress=continue\n"
     ]
    },
    {
     "name": "stderr",
     "output_type": "stream",
     "text": [
      "frame= 6004 fps= 76 q=-0.0 size=N/A time=00:03:58.92 bitrate=N/A speed=3.02x    \r"
     ]
    },
    {
     "name": "stdout",
     "output_type": "stream",
     "text": [
      "frame=6004\n",
      "fps=75.84\n",
      "stream_0_0_q=-0.0\n",
      "bitrate=N/A\n",
      "total_size=N/A\n",
      "out_time_us=238920000\n",
      "out_time_ms=238920000\n",
      "out_time=00:03:58.920000\n",
      "dup_frames=0\n",
      "drop_frames=0\n",
      "speed=3.02x\n",
      "progress=continue\n"
     ]
    },
    {
     "name": "stderr",
     "output_type": "stream",
     "text": [
      "frame= 6023 fps= 76 q=-0.0 size=N/A time=00:03:59.68 bitrate=N/A speed=3.01x    \r"
     ]
    },
    {
     "name": "stdout",
     "output_type": "stream",
     "text": [
      "frame=6023\n",
      "fps=75.59\n",
      "stream_0_0_q=-0.0\n",
      "bitrate=N/A\n",
      "total_size=N/A\n",
      "out_time_us=239680000\n",
      "out_time_ms=239680000\n",
      "out_time=00:03:59.680000\n",
      "dup_frames=0\n",
      "drop_frames=0\n",
      "speed=3.01x\n",
      "progress=continue\n"
     ]
    },
    {
     "name": "stderr",
     "output_type": "stream",
     "text": [
      "frame= 6042 fps= 75 q=-0.0 size=N/A time=00:04:00.44 bitrate=N/A speed=   3x    \r"
     ]
    },
    {
     "name": "stdout",
     "output_type": "stream",
     "text": [
      "frame=6042\n",
      "fps=75.33\n",
      "stream_0_0_q=-0.0\n",
      "bitrate=N/A\n",
      "total_size=N/A\n",
      "out_time_us=240440000\n",
      "out_time_ms=240440000\n",
      "out_time=00:04:00.440000\n",
      "dup_frames=0\n",
      "drop_frames=0\n",
      "speed=   3x\n",
      "progress=continue\n"
     ]
    },
    {
     "name": "stderr",
     "output_type": "stream",
     "text": [
      "frame= 6060 fps= 75 q=-0.0 size=N/A time=00:04:01.16 bitrate=N/A speed=2.98x    \r"
     ]
    },
    {
     "name": "stdout",
     "output_type": "stream",
     "text": [
      "frame=6060\n",
      "fps=74.98\n",
      "stream_0_0_q=-0.0\n",
      "bitrate=N/A\n",
      "total_size=N/A\n",
      "out_time_us=241160000\n",
      "out_time_ms=241160000\n",
      "out_time=00:04:01.160000\n",
      "dup_frames=0\n",
      "drop_frames=0\n",
      "speed=2.98x\n",
      "progress=continue\n"
     ]
    },
    {
     "name": "stderr",
     "output_type": "stream",
     "text": [
      "frame= 6081 fps= 75 q=-0.0 size=N/A time=00:04:02.00 bitrate=N/A speed=2.97x    \r"
     ]
    },
    {
     "name": "stdout",
     "output_type": "stream",
     "text": [
      "frame=6081\n",
      "fps=74.69\n",
      "stream_0_0_q=-0.0\n",
      "bitrate=N/A\n",
      "total_size=N/A\n",
      "out_time_us=242000000\n",
      "out_time_ms=242000000\n",
      "out_time=00:04:02.000000\n",
      "dup_frames=0\n",
      "drop_frames=0\n",
      "speed=2.97x\n",
      "progress=continue\n"
     ]
    },
    {
     "name": "stderr",
     "output_type": "stream",
     "text": [
      "frame= 6107 fps= 75 q=-0.0 size=N/A time=00:04:03.04 bitrate=N/A speed=2.97x    \r"
     ]
    },
    {
     "name": "stdout",
     "output_type": "stream",
     "text": [
      "frame=6107\n",
      "fps=74.54\n",
      "stream_0_0_q=-0.0\n",
      "bitrate=N/A\n",
      "total_size=N/A\n",
      "out_time_us=243040000\n",
      "out_time_ms=243040000\n",
      "out_time=00:04:03.040000\n",
      "dup_frames=0\n",
      "drop_frames=0\n",
      "speed=2.97x\n",
      "progress=continue\n"
     ]
    },
    {
     "name": "stderr",
     "output_type": "stream",
     "text": [
      "frame= 6127 fps= 74 q=-0.0 size=N/A time=00:04:03.84 bitrate=N/A speed=2.96x    \r"
     ]
    },
    {
     "name": "stdout",
     "output_type": "stream",
     "text": [
      "frame=6127\n",
      "fps=74.32\n",
      "stream_0_0_q=-0.0\n",
      "bitrate=N/A\n",
      "total_size=N/A\n",
      "out_time_us=243840000\n",
      "out_time_ms=243840000\n",
      "out_time=00:04:03.840000\n",
      "dup_frames=0\n",
      "drop_frames=0\n",
      "speed=2.96x\n",
      "progress=continue\n"
     ]
    },
    {
     "name": "stderr",
     "output_type": "stream",
     "text": [
      "frame= 6146 fps= 74 q=-0.0 size=N/A time=00:04:04.60 bitrate=N/A speed=2.95x    \r"
     ]
    },
    {
     "name": "stdout",
     "output_type": "stream",
     "text": [
      "frame=6146\n",
      "fps=74.07\n",
      "stream_0_0_q=-0.0\n",
      "bitrate=N/A\n",
      "total_size=N/A\n",
      "out_time_us=244600000\n",
      "out_time_ms=244600000\n",
      "out_time=00:04:04.600000\n",
      "dup_frames=0\n",
      "drop_frames=0\n",
      "speed=2.95x\n",
      "progress=continue\n"
     ]
    },
    {
     "name": "stderr",
     "output_type": "stream",
     "text": [
      "frame= 6162 fps= 74 q=-0.0 size=N/A time=00:04:05.24 bitrate=N/A speed=2.94x    \r"
     ]
    },
    {
     "name": "stdout",
     "output_type": "stream",
     "text": [
      "frame=6162\n",
      "fps=73.78\n",
      "stream_0_0_q=-0.0\n",
      "bitrate=N/A\n",
      "total_size=N/A\n",
      "out_time_us=245240000\n",
      "out_time_ms=245240000\n",
      "out_time=00:04:05.240000\n",
      "dup_frames=0\n",
      "drop_frames=0\n",
      "speed=2.94x\n",
      "progress=continue\n"
     ]
    },
    {
     "name": "stderr",
     "output_type": "stream",
     "text": [
      "frame= 6187 fps= 74 q=-0.0 size=N/A time=00:04:06.24 bitrate=N/A speed=2.93x    \r"
     ]
    },
    {
     "name": "stdout",
     "output_type": "stream",
     "text": [
      "frame=6187\n",
      "fps=73.60\n",
      "stream_0_0_q=-0.0\n",
      "bitrate=N/A\n",
      "total_size=N/A\n",
      "out_time_us=246240000\n",
      "out_time_ms=246240000\n",
      "out_time=00:04:06.240000\n",
      "dup_frames=0\n",
      "drop_frames=0\n",
      "speed=2.93x\n",
      "progress=continue\n"
     ]
    },
    {
     "name": "stderr",
     "output_type": "stream",
     "text": [
      "frame= 6207 fps= 73 q=-0.0 size=N/A time=00:04:07.04 bitrate=N/A speed=2.92x    \r"
     ]
    },
    {
     "name": "stdout",
     "output_type": "stream",
     "text": [
      "frame=6207\n",
      "fps=73.39\n",
      "stream_0_0_q=-0.0\n",
      "bitrate=N/A\n",
      "total_size=N/A\n",
      "out_time_us=247040000\n",
      "out_time_ms=247040000\n",
      "out_time=00:04:07.040000\n",
      "dup_frames=0\n",
      "drop_frames=0\n",
      "speed=2.92x\n",
      "progress=continue\n"
     ]
    },
    {
     "name": "stderr",
     "output_type": "stream",
     "text": [
      "frame= 6227 fps= 73 q=-0.0 size=N/A time=00:04:07.84 bitrate=N/A speed=2.91x    \r"
     ]
    },
    {
     "name": "stdout",
     "output_type": "stream",
     "text": [
      "frame=6227\n",
      "fps=73.18\n",
      "stream_0_0_q=-0.0\n",
      "bitrate=N/A\n",
      "total_size=N/A\n",
      "out_time_us=247840000\n",
      "out_time_ms=247840000\n",
      "out_time=00:04:07.840000\n",
      "dup_frames=0\n",
      "drop_frames=0\n",
      "speed=2.91x\n",
      "progress=continue\n"
     ]
    },
    {
     "name": "stderr",
     "output_type": "stream",
     "text": [
      "frame= 6246 fps= 73 q=-0.0 size=N/A time=00:04:08.60 bitrate=N/A speed= 2.9x    \r"
     ]
    },
    {
     "name": "stdout",
     "output_type": "stream",
     "text": [
      "frame=6246\n",
      "fps=72.96\n",
      "stream_0_0_q=-0.0\n",
      "bitrate=N/A\n",
      "total_size=N/A\n",
      "out_time_us=248600000\n",
      "out_time_ms=248600000\n",
      "out_time=00:04:08.600000\n",
      "dup_frames=0\n",
      "drop_frames=0\n",
      "speed= 2.9x\n",
      "progress=continue\n"
     ]
    },
    {
     "name": "stderr",
     "output_type": "stream",
     "text": [
      "frame= 6265 fps= 73 q=-0.0 size=N/A time=00:04:09.36 bitrate=N/A speed= 2.9x    \r"
     ]
    },
    {
     "name": "stdout",
     "output_type": "stream",
     "text": [
      "frame=6265\n",
      "fps=72.76\n",
      "stream_0_0_q=-0.0\n",
      "bitrate=N/A\n",
      "total_size=N/A\n",
      "out_time_us=249360000\n",
      "out_time_ms=249360000\n",
      "out_time=00:04:09.360000\n",
      "dup_frames=0\n",
      "drop_frames=0\n",
      "speed= 2.9x\n",
      "progress=continue\n",
      "frame=6284\n",
      "fps=72.56\n",
      "stream_0_0_q=-0.0\n",
      "bitrate=N/A\n",
      "total_size=N/A\n",
      "out_time_us=250120000\n",
      "out_time_ms=250120000\n",
      "out_time=00:04:10.120000\n",
      "dup_frames=0\n",
      "drop_frames=0\n",
      "speed=2.89x\n",
      "progress=continue\n"
     ]
    },
    {
     "name": "stderr",
     "output_type": "stream",
     "text": [
      "frame= 6303 fps= 72 q=-0.0 size=N/A time=00:04:10.88 bitrate=N/A speed=2.88x    \r"
     ]
    },
    {
     "name": "stdout",
     "output_type": "stream",
     "text": [
      "frame=6303\n",
      "fps=72.34\n",
      "stream_0_0_q=-0.0\n",
      "bitrate=N/A\n",
      "total_size=N/A\n",
      "out_time_us=250880000\n",
      "out_time_ms=250880000\n",
      "out_time=00:04:10.880000\n",
      "dup_frames=0\n",
      "drop_frames=0\n",
      "speed=2.88x\n",
      "progress=continue\n",
      "frame=6323\n",
      "fps=72.13\n",
      "stream_0_0_q=-0.0\n",
      "bitrate=N/A\n",
      "total_size=N/A\n",
      "out_time_us=251680000\n",
      "out_time_ms=251680000\n",
      "out_time=00:04:11.680000\n",
      "dup_frames=0\n",
      "drop_frames=0\n",
      "speed=2.87x\n",
      "progress=continue\n"
     ]
    },
    {
     "name": "stderr",
     "output_type": "stream",
     "text": [
      "frame= 6323 fps= 72 q=-0.0 size=N/A time=00:04:11.68 bitrate=N/A speed=2.87x    \r"
     ]
    },
    {
     "name": "stdout",
     "output_type": "stream",
     "text": [
      "frame=6343\n",
      "fps=71.93\n",
      "stream_0_0_q=-0.0\n",
      "bitrate=N/A\n",
      "total_size=N/A\n",
      "out_time_us=252480000\n",
      "out_time_ms=252480000\n",
      "out_time=00:04:12.480000\n",
      "dup_frames=0\n",
      "drop_frames=0\n",
      "speed=2.86x\n",
      "progress=continue\n"
     ]
    },
    {
     "name": "stderr",
     "output_type": "stream",
     "text": [
      "frame= 6343 fps= 72 q=-0.0 size=N/A time=00:04:12.48 bitrate=N/A speed=2.86x    \r"
     ]
    },
    {
     "name": "stdout",
     "output_type": "stream",
     "text": [
      "frame=6362\n",
      "fps=71.72\n",
      "stream_0_0_q=-0.0\n",
      "bitrate=N/A\n",
      "total_size=N/A\n",
      "out_time_us=253240000\n",
      "out_time_ms=253240000\n",
      "out_time=00:04:13.240000\n",
      "dup_frames=0\n",
      "drop_frames=0\n",
      "speed=2.85x\n",
      "progress=continue\n"
     ]
    },
    {
     "name": "stderr",
     "output_type": "stream",
     "text": [
      "frame= 6371 fps= 71 q=-0.0 size=N/A time=00:04:13.60 bitrate=N/A speed=2.84x    \r"
     ]
    },
    {
     "name": "stdout",
     "output_type": "stream",
     "text": [
      "frame=6371\n",
      "fps=71.40\n",
      "stream_0_0_q=-0.0\n",
      "bitrate=N/A\n",
      "total_size=N/A\n",
      "out_time_us=253600000\n",
      "out_time_ms=253600000\n",
      "out_time=00:04:13.600000\n",
      "dup_frames=0\n",
      "drop_frames=0\n",
      "speed=2.84x\n",
      "progress=continue\n"
     ]
    },
    {
     "name": "stderr",
     "output_type": "stream",
     "text": [
      "frame= 6402 fps= 71 q=-0.0 size=N/A time=00:04:14.84 bitrate=N/A speed=2.84x    \r"
     ]
    },
    {
     "name": "stdout",
     "output_type": "stream",
     "text": [
      "frame=6402\n",
      "fps=71.33\n",
      "stream_0_0_q=-0.0\n",
      "bitrate=N/A\n",
      "total_size=N/A\n",
      "out_time_us=254840000\n",
      "out_time_ms=254840000\n",
      "out_time=00:04:14.840000\n",
      "dup_frames=0\n",
      "drop_frames=0\n",
      "speed=2.84x\n",
      "progress=continue\n",
      "frame=6421\n",
      "fps=71.14\n",
      "stream_0_0_q=-0.0\n",
      "bitrate=N/A\n",
      "total_size=N/A\n",
      "out_time_us=255600000\n",
      "out_time_ms=255600000\n",
      "out_time=00:04:15.600000\n",
      "dup_frames=0\n",
      "drop_frames=0\n",
      "speed=2.83x\n",
      "progress=continue\n"
     ]
    },
    {
     "name": "stderr",
     "output_type": "stream",
     "text": [
      "frame= 6440 fps= 71 q=-0.0 size=N/A time=00:04:16.36 bitrate=N/A speed=2.82x    \r"
     ]
    },
    {
     "name": "stdout",
     "output_type": "stream",
     "text": [
      "frame=6440\n",
      "fps=70.96\n",
      "stream_0_0_q=-0.0\n",
      "bitrate=N/A\n",
      "total_size=N/A\n",
      "out_time_us=256360000\n",
      "out_time_ms=256360000\n",
      "out_time=00:04:16.360000\n",
      "dup_frames=0\n",
      "drop_frames=0\n",
      "speed=2.82x\n",
      "progress=continue\n"
     ]
    },
    {
     "name": "stderr",
     "output_type": "stream",
     "text": [
      "frame= 6459 fps= 71 q=-0.0 size=N/A time=00:04:17.12 bitrate=N/A speed=2.82x    \r"
     ]
    },
    {
     "name": "stdout",
     "output_type": "stream",
     "text": [
      "frame=6459\n",
      "fps=70.77\n",
      "stream_0_0_q=-0.0\n",
      "bitrate=N/A\n",
      "total_size=N/A\n",
      "out_time_us=257120000\n",
      "out_time_ms=257120000\n",
      "out_time=00:04:17.120000\n",
      "dup_frames=0\n",
      "drop_frames=0\n",
      "speed=2.82x\n",
      "progress=continue\n",
      "frame=6471\n",
      "fps=70.51\n",
      "stream_0_0_q=-0.0\n",
      "bitrate=N/A\n",
      "total_size=N/A\n",
      "out_time_us=257600000\n",
      "out_time_ms=257600000\n",
      "out_time=00:04:17.600000\n",
      "dup_frames=0\n",
      "drop_frames=0\n",
      "speed=2.81x\n",
      "progress=continue\n"
     ]
    },
    {
     "name": "stderr",
     "output_type": "stream",
     "text": [
      "frame= 6497 fps= 70 q=-0.0 size=N/A time=00:04:18.64 bitrate=N/A speed= 2.8x    \r"
     ]
    },
    {
     "name": "stdout",
     "output_type": "stream",
     "text": [
      "frame=6497\n",
      "fps=70.39\n",
      "stream_0_0_q=-0.0\n",
      "bitrate=N/A\n",
      "total_size=N/A\n",
      "out_time_us=258640000\n",
      "out_time_ms=258640000\n",
      "out_time=00:04:18.640000\n",
      "dup_frames=0\n",
      "drop_frames=0\n",
      "speed= 2.8x\n",
      "progress=continue\n"
     ]
    },
    {
     "name": "stderr",
     "output_type": "stream",
     "text": [
      "frame= 6516 fps= 70 q=-0.0 size=N/A time=00:04:19.40 bitrate=N/A speed= 2.8x    \r"
     ]
    },
    {
     "name": "stdout",
     "output_type": "stream",
     "text": [
      "frame=6516\n",
      "fps=70.21\n",
      "stream_0_0_q=-0.0\n",
      "bitrate=N/A\n",
      "total_size=N/A\n",
      "out_time_us=259400000\n",
      "out_time_ms=259400000\n",
      "out_time=00:04:19.400000\n",
      "dup_frames=0\n",
      "drop_frames=0\n",
      "speed= 2.8x\n",
      "progress=continue\n",
      "frame=6534\n",
      "fps=70.03\n",
      "stream_0_0_q=-0.0\n",
      "bitrate=N/A\n",
      "total_size=N/A\n",
      "out_time_us=260120000\n",
      "out_time_ms=260120000\n",
      "out_time=00:04:20.120000\n",
      "dup_frames=0\n",
      "drop_frames=0\n",
      "speed=2.79x\n",
      "progress=continue\n"
     ]
    },
    {
     "name": "stderr",
     "output_type": "stream",
     "text": [
      "frame= 6553 fps= 70 q=-0.0 size=N/A time=00:04:20.88 bitrate=N/A speed=2.78x    \r"
     ]
    },
    {
     "name": "stdout",
     "output_type": "stream",
     "text": [
      "frame=6553\n",
      "fps=69.86\n",
      "stream_0_0_q=-0.0\n",
      "bitrate=N/A\n",
      "total_size=N/A\n",
      "out_time_us=260880000\n",
      "out_time_ms=260880000\n",
      "out_time=00:04:20.880000\n",
      "dup_frames=0\n",
      "drop_frames=0\n",
      "speed=2.78x\n",
      "progress=continue\n",
      "frame=6570\n",
      "fps=69.67\n",
      "stream_0_0_q=-0.0\n",
      "bitrate=N/A\n",
      "total_size=N/A\n",
      "out_time_us=261560000\n",
      "out_time_ms=261560000\n",
      "out_time=00:04:21.560000\n",
      "dup_frames=0\n",
      "drop_frames=0\n",
      "speed=2.77x\n",
      "progress=continue\n"
     ]
    },
    {
     "name": "stderr",
     "output_type": "stream",
     "text": [
      "frame= 6591 fps= 69 q=-0.0 size=N/A time=00:04:22.40 bitrate=N/A speed=2.77x    \r"
     ]
    },
    {
     "name": "stdout",
     "output_type": "stream",
     "text": [
      "frame=6591\n",
      "fps=69.50\n",
      "stream_0_0_q=-0.0\n",
      "bitrate=N/A\n",
      "total_size=N/A\n",
      "out_time_us=262400000\n",
      "out_time_ms=262400000\n",
      "out_time=00:04:22.400000\n",
      "dup_frames=0\n",
      "drop_frames=0\n",
      "speed=2.77x\n",
      "progress=continue\n"
     ]
    },
    {
     "name": "stderr",
     "output_type": "stream",
     "text": [
      "frame= 6610 fps= 69 q=-0.0 size=N/A time=00:04:23.16 bitrate=N/A speed=2.76x    \r"
     ]
    },
    {
     "name": "stdout",
     "output_type": "stream",
     "text": [
      "frame=6610\n",
      "fps=69.32\n",
      "stream_0_0_q=-0.0\n",
      "bitrate=N/A\n",
      "total_size=N/A\n",
      "out_time_us=263160000\n",
      "out_time_ms=263160000\n",
      "out_time=00:04:23.160000\n",
      "dup_frames=0\n",
      "drop_frames=0\n",
      "speed=2.76x\n",
      "progress=continue\n",
      "frame=6629\n",
      "fps=69.14\n",
      "stream_0_0_q=-0.0\n",
      "bitrate=N/A\n",
      "total_size=N/A\n",
      "out_time_us=263920000\n",
      "out_time_ms=263920000\n",
      "out_time=00:04:23.920000\n",
      "dup_frames=0\n",
      "drop_frames=0\n",
      "speed=2.75x\n",
      "progress=continue\n"
     ]
    },
    {
     "name": "stderr",
     "output_type": "stream",
     "text": [
      "frame= 6649 fps= 69 q=-0.0 size=N/A time=00:04:24.72 bitrate=N/A speed=2.74x    \r"
     ]
    },
    {
     "name": "stdout",
     "output_type": "stream",
     "text": [
      "frame=6649\n",
      "fps=68.89\n",
      "stream_0_0_q=-0.0\n",
      "bitrate=N/A\n",
      "total_size=N/A\n",
      "out_time_us=264720000\n",
      "out_time_ms=264720000\n",
      "out_time=00:04:24.720000\n",
      "dup_frames=0\n",
      "drop_frames=0\n",
      "speed=2.74x\n",
      "progress=continue\n",
      "frame=6672\n",
      "fps=68.77\n",
      "stream_0_0_q=-0.0\n",
      "bitrate=N/A\n",
      "total_size=N/A\n",
      "out_time_us=265640000\n",
      "out_time_ms=265640000\n",
      "out_time=00:04:25.640000\n",
      "dup_frames=0\n",
      "drop_frames=0\n",
      "speed=2.74x\n",
      "progress=continue\n"
     ]
    },
    {
     "name": "stderr",
     "output_type": "stream",
     "text": [
      "frame= 6672 fps= 69 q=-0.0 size=N/A time=00:04:25.64 bitrate=N/A speed=2.74x    \r"
     ]
    },
    {
     "name": "stdout",
     "output_type": "stream",
     "text": [
      "frame=6692\n",
      "fps=68.59\n",
      "stream_0_0_q=-0.0\n",
      "bitrate=N/A\n",
      "total_size=N/A\n",
      "out_time_us=266440000\n",
      "out_time_ms=266440000\n",
      "out_time=00:04:26.440000\n",
      "dup_frames=0\n",
      "drop_frames=0\n",
      "speed=2.73x\n",
      "progress=continue\n"
     ]
    },
    {
     "name": "stderr",
     "output_type": "stream",
     "text": [
      "frame= 6692 fps= 69 q=-0.0 size=N/A time=00:04:26.44 bitrate=N/A speed=2.73x    \r"
     ]
    },
    {
     "name": "stdout",
     "output_type": "stream",
     "text": [
      "frame=6710\n",
      "fps=68.42\n",
      "stream_0_0_q=-0.0\n",
      "bitrate=N/A\n",
      "total_size=N/A\n",
      "out_time_us=267160000\n",
      "out_time_ms=267160000\n",
      "out_time=00:04:27.160000\n",
      "dup_frames=0\n",
      "drop_frames=0\n",
      "speed=2.72x\n",
      "progress=continue\n"
     ]
    },
    {
     "name": "stderr",
     "output_type": "stream",
     "text": [
      "frame= 6710 fps= 68 q=-0.0 size=N/A time=00:04:27.16 bitrate=N/A speed=2.72x    \r"
     ]
    },
    {
     "name": "stdout",
     "output_type": "stream",
     "text": [
      "frame=6728\n",
      "fps=68.23\n",
      "stream_0_0_q=-0.0\n",
      "bitrate=N/A\n",
      "total_size=N/A\n",
      "out_time_us=267880000\n",
      "out_time_ms=267880000\n",
      "out_time=00:04:27.880000\n",
      "dup_frames=0\n",
      "drop_frames=0\n",
      "speed=2.72x\n",
      "progress=continue\n"
     ]
    },
    {
     "name": "stderr",
     "output_type": "stream",
     "text": [
      "frame= 6728 fps= 68 q=-0.0 size=N/A time=00:04:27.88 bitrate=N/A speed=2.72x    \r"
     ]
    },
    {
     "name": "stdout",
     "output_type": "stream",
     "text": [
      "frame=6746\n",
      "fps=68.05\n",
      "stream_0_0_q=-0.0\n",
      "bitrate=N/A\n",
      "total_size=N/A\n",
      "out_time_us=268600000\n",
      "out_time_ms=268600000\n",
      "out_time=00:04:28.600000\n",
      "dup_frames=0\n",
      "drop_frames=0\n",
      "speed=2.71x\n",
      "progress=continue\n"
     ]
    },
    {
     "name": "stderr",
     "output_type": "stream",
     "text": [
      "frame= 6746 fps= 68 q=-0.0 size=N/A time=00:04:28.60 bitrate=N/A speed=2.71x    \r"
     ]
    },
    {
     "name": "stdout",
     "output_type": "stream",
     "text": [
      "frame=6765\n",
      "fps=67.89\n",
      "stream_0_0_q=-0.0\n",
      "bitrate=N/A\n",
      "total_size=N/A\n",
      "out_time_us=269360000\n",
      "out_time_ms=269360000\n",
      "out_time=00:04:29.360000\n",
      "dup_frames=0\n",
      "drop_frames=0\n",
      "speed= 2.7x\n",
      "progress=continue\n"
     ]
    },
    {
     "name": "stderr",
     "output_type": "stream",
     "text": [
      "frame= 6765 fps= 68 q=-0.0 size=N/A time=00:04:29.36 bitrate=N/A speed= 2.7x    \r"
     ]
    },
    {
     "name": "stdout",
     "output_type": "stream",
     "text": [
      "frame=6779\n",
      "fps=67.68\n",
      "stream_0_0_q=-0.0\n",
      "bitrate=N/A\n",
      "total_size=N/A\n",
      "out_time_us=269920000\n",
      "out_time_ms=269920000\n",
      "out_time=00:04:29.920000\n",
      "dup_frames=0\n",
      "drop_frames=0\n",
      "speed=2.69x\n",
      "progress=continue\n"
     ]
    },
    {
     "name": "stderr",
     "output_type": "stream",
     "text": [
      "frame= 6779 fps= 68 q=-0.0 size=N/A time=00:04:29.92 bitrate=N/A speed=2.69x    \r"
     ]
    },
    {
     "name": "stdout",
     "output_type": "stream",
     "text": [
      "frame=6794\n",
      "fps=67.49\n",
      "stream_0_0_q=-0.0\n",
      "bitrate=N/A\n",
      "total_size=N/A\n",
      "out_time_us=270520000\n",
      "out_time_ms=270520000\n",
      "out_time=00:04:30.520000\n",
      "dup_frames=0\n",
      "drop_frames=0\n",
      "speed=2.69x\n",
      "progress=continue\n"
     ]
    },
    {
     "name": "stderr",
     "output_type": "stream",
     "text": [
      "frame= 6794 fps= 67 q=-0.0 size=N/A time=00:04:30.52 bitrate=N/A speed=2.69x    \r"
     ]
    },
    {
     "name": "stdout",
     "output_type": "stream",
     "text": [
      "frame=6810\n",
      "fps=67.29\n",
      "stream_0_0_q=-0.0\n",
      "bitrate=N/A\n",
      "total_size=N/A\n",
      "out_time_us=271160000\n",
      "out_time_ms=271160000\n",
      "out_time=00:04:31.160000\n",
      "dup_frames=0\n",
      "drop_frames=0\n",
      "speed=2.68x\n",
      "progress=continue\n"
     ]
    },
    {
     "name": "stderr",
     "output_type": "stream",
     "text": [
      "frame= 6810 fps= 67 q=-0.0 size=N/A time=00:04:31.16 bitrate=N/A speed=2.68x    \r"
     ]
    },
    {
     "name": "stdout",
     "output_type": "stream",
     "text": [
      "frame=6826\n",
      "fps=67.11\n",
      "stream_0_0_q=-0.0\n",
      "bitrate=N/A\n",
      "total_size=N/A\n",
      "out_time_us=271800000\n",
      "out_time_ms=271800000\n",
      "out_time=00:04:31.800000\n",
      "dup_frames=0\n",
      "drop_frames=0\n",
      "speed=2.67x\n",
      "progress=continue\n"
     ]
    },
    {
     "name": "stderr",
     "output_type": "stream",
     "text": [
      "frame= 6826 fps= 67 q=-0.0 size=N/A time=00:04:31.80 bitrate=N/A speed=2.67x    \r"
     ]
    },
    {
     "name": "stdout",
     "output_type": "stream",
     "text": [
      "frame=6842\n",
      "fps=66.93\n",
      "stream_0_0_q=-0.0\n",
      "bitrate=N/A\n",
      "total_size=N/A\n",
      "out_time_us=272440000\n",
      "out_time_ms=272440000\n",
      "out_time=00:04:32.440000\n",
      "dup_frames=0\n",
      "drop_frames=0\n",
      "speed=2.67x\n",
      "progress=continue\n"
     ]
    },
    {
     "name": "stderr",
     "output_type": "stream",
     "text": [
      "frame= 6842 fps= 67 q=-0.0 size=N/A time=00:04:32.44 bitrate=N/A speed=2.67x    \r"
     ]
    },
    {
     "name": "stdout",
     "output_type": "stream",
     "text": [
      "frame=6861\n",
      "fps=66.77\n",
      "stream_0_0_q=-0.0\n",
      "bitrate=N/A\n",
      "total_size=N/A\n",
      "out_time_us=273200000\n",
      "out_time_ms=273200000\n",
      "out_time=00:04:33.200000\n",
      "dup_frames=0\n",
      "drop_frames=0\n",
      "speed=2.66x\n",
      "progress=continue\n"
     ]
    },
    {
     "name": "stderr",
     "output_type": "stream",
     "text": [
      "frame= 6861 fps= 67 q=-0.0 size=N/A time=00:04:33.20 bitrate=N/A speed=2.66x    \r"
     ]
    },
    {
     "name": "stdout",
     "output_type": "stream",
     "text": [
      "frame=6880\n",
      "fps=66.62\n",
      "stream_0_0_q=-0.0\n",
      "bitrate=N/A\n",
      "total_size=N/A\n",
      "out_time_us=273960000\n",
      "out_time_ms=273960000\n",
      "out_time=00:04:33.960000\n",
      "dup_frames=0\n",
      "drop_frames=0\n",
      "speed=2.65x\n",
      "progress=continue\n"
     ]
    },
    {
     "name": "stderr",
     "output_type": "stream",
     "text": [
      "frame= 6898 fps= 66 q=-0.0 size=N/A time=00:04:34.68 bitrate=N/A speed=2.65x    \r"
     ]
    },
    {
     "name": "stdout",
     "output_type": "stream",
     "text": [
      "frame=6898\n",
      "fps=66.45\n",
      "stream_0_0_q=-0.0\n",
      "bitrate=N/A\n",
      "total_size=N/A\n",
      "out_time_us=274680000\n",
      "out_time_ms=274680000\n",
      "out_time=00:04:34.680000\n",
      "dup_frames=0\n",
      "drop_frames=0\n",
      "speed=2.65x\n",
      "progress=continue\n",
      "frame=6920\n",
      "fps=66.33\n",
      "stream_0_0_q=-0.0\n",
      "bitrate=N/A\n",
      "total_size=N/A\n",
      "out_time_us=275560000\n",
      "out_time_ms=275560000\n",
      "out_time=00:04:35.560000\n",
      "dup_frames=0\n",
      "drop_frames=0\n",
      "speed=2.64x\n",
      "progress=continue\n"
     ]
    },
    {
     "name": "stderr",
     "output_type": "stream",
     "text": [
      "frame= 6939 fps= 66 q=-0.0 size=N/A time=00:04:36.32 bitrate=N/A speed=2.64x    \r"
     ]
    },
    {
     "name": "stdout",
     "output_type": "stream",
     "text": [
      "frame=6939\n",
      "fps=66.19\n",
      "stream_0_0_q=-0.0\n",
      "bitrate=N/A\n",
      "total_size=N/A\n",
      "out_time_us=276320000\n",
      "out_time_ms=276320000\n",
      "out_time=00:04:36.320000\n",
      "dup_frames=0\n",
      "drop_frames=0\n",
      "speed=2.64x\n",
      "progress=continue\n"
     ]
    },
    {
     "name": "stderr",
     "output_type": "stream",
     "text": [
      "frame= 6958 fps= 66 q=-0.0 size=N/A time=00:04:37.08 bitrate=N/A speed=2.63x    \r"
     ]
    },
    {
     "name": "stdout",
     "output_type": "stream",
     "text": [
      "frame=6958\n",
      "fps=66.05\n",
      "stream_0_0_q=-0.0\n",
      "bitrate=N/A\n",
      "total_size=N/A\n",
      "out_time_us=277080000\n",
      "out_time_ms=277080000\n",
      "out_time=00:04:37.080000\n",
      "dup_frames=0\n",
      "drop_frames=0\n",
      "speed=2.63x\n",
      "progress=continue\n",
      "frame=6972\n",
      "fps=65.87\n",
      "stream_0_0_q=-0.0\n",
      "bitrate=N/A\n",
      "total_size=N/A\n",
      "out_time_us=277640000\n",
      "out_time_ms=277640000\n",
      "out_time=00:04:37.640000\n",
      "dup_frames=0\n",
      "drop_frames=0\n",
      "speed=2.62x\n",
      "progress=continue\n"
     ]
    },
    {
     "name": "stderr",
     "output_type": "stream",
     "text": [
      "frame= 6972 fps= 66 q=-0.0 size=N/A time=00:04:37.64 bitrate=N/A speed=2.62x    \r"
     ]
    },
    {
     "name": "stdout",
     "output_type": "stream",
     "text": [
      "frame=6989\n",
      "fps=65.69\n",
      "stream_0_0_q=-0.0\n",
      "bitrate=N/A\n",
      "total_size=N/A\n",
      "out_time_us=278320000\n",
      "out_time_ms=278320000\n",
      "out_time=00:04:38.320000\n",
      "dup_frames=0\n",
      "drop_frames=0\n",
      "speed=2.62x\n",
      "progress=continue\n"
     ]
    },
    {
     "name": "stderr",
     "output_type": "stream",
     "text": [
      "frame= 7008 fps= 65 q=-0.0 size=N/A time=00:04:39.08 bitrate=N/A speed=2.61x    \r"
     ]
    },
    {
     "name": "stdout",
     "output_type": "stream",
     "text": [
      "frame=7008\n",
      "fps=65.47\n",
      "stream_0_0_q=-0.0\n",
      "bitrate=N/A\n",
      "total_size=N/A\n",
      "out_time_us=279080000\n",
      "out_time_ms=279080000\n",
      "out_time=00:04:39.080000\n",
      "dup_frames=0\n",
      "drop_frames=0\n",
      "speed=2.61x\n",
      "progress=continue\n",
      "frame=7034\n",
      "fps=65.40\n",
      "stream_0_0_q=-0.0\n",
      "bitrate=N/A\n",
      "total_size=N/A\n",
      "out_time_us=280120000\n",
      "out_time_ms=280120000\n",
      "out_time=00:04:40.120000\n",
      "dup_frames=0\n",
      "drop_frames=0\n",
      "speed= 2.6x\n",
      "progress=continue\n"
     ]
    },
    {
     "name": "stderr",
     "output_type": "stream",
     "text": [
      "frame= 7053 fps= 65 q=-0.0 size=N/A time=00:04:40.88 bitrate=N/A speed= 2.6x    \r"
     ]
    },
    {
     "name": "stdout",
     "output_type": "stream",
     "text": [
      "frame=7053\n",
      "fps=65.26\n",
      "stream_0_0_q=-0.0\n",
      "bitrate=N/A\n",
      "total_size=N/A\n",
      "out_time_us=280880000\n",
      "out_time_ms=280880000\n",
      "out_time=00:04:40.880000\n",
      "dup_frames=0\n",
      "drop_frames=0\n",
      "speed= 2.6x\n",
      "progress=continue\n"
     ]
    },
    {
     "name": "stderr",
     "output_type": "stream",
     "text": [
      "frame= 7071 fps= 65 q=-0.0 size=N/A time=00:04:41.60 bitrate=N/A speed=2.59x    \r"
     ]
    },
    {
     "name": "stdout",
     "output_type": "stream",
     "text": [
      "frame=7071\n",
      "fps=65.12\n",
      "stream_0_0_q=-0.0\n",
      "bitrate=N/A\n",
      "total_size=N/A\n",
      "out_time_us=281600000\n",
      "out_time_ms=281600000\n",
      "out_time=00:04:41.600000\n",
      "dup_frames=0\n",
      "drop_frames=0\n",
      "speed=2.59x\n",
      "progress=continue\n"
     ]
    },
    {
     "name": "stderr",
     "output_type": "stream",
     "text": [
      "frame= 7091 fps= 65 q=-0.0 size=N/A time=00:04:42.40 bitrate=N/A speed=2.59x    \r"
     ]
    },
    {
     "name": "stdout",
     "output_type": "stream",
     "text": [
      "frame=7091\n",
      "fps=64.99\n",
      "stream_0_0_q=-0.0\n",
      "bitrate=N/A\n",
      "total_size=N/A\n",
      "out_time_us=282400000\n",
      "out_time_ms=282400000\n",
      "out_time=00:04:42.400000\n",
      "dup_frames=0\n",
      "drop_frames=0\n",
      "speed=2.59x\n",
      "progress=continue\n"
     ]
    },
    {
     "name": "stderr",
     "output_type": "stream",
     "text": [
      "frame= 7109 fps= 65 q=-0.0 size=N/A time=00:04:43.12 bitrate=N/A speed=2.58x    \r"
     ]
    },
    {
     "name": "stdout",
     "output_type": "stream",
     "text": [
      "frame=7109\n",
      "fps=64.86\n",
      "stream_0_0_q=-0.0\n",
      "bitrate=N/A\n",
      "total_size=N/A\n",
      "out_time_us=283120000\n",
      "out_time_ms=283120000\n",
      "out_time=00:04:43.120000\n",
      "dup_frames=0\n",
      "drop_frames=0\n",
      "speed=2.58x\n",
      "progress=continue\n"
     ]
    },
    {
     "name": "stderr",
     "output_type": "stream",
     "text": [
      "frame= 7126 fps= 65 q=-0.0 size=N/A time=00:04:43.80 bitrate=N/A speed=2.58x    \r"
     ]
    },
    {
     "name": "stdout",
     "output_type": "stream",
     "text": [
      "frame=7126\n",
      "fps=64.71\n",
      "stream_0_0_q=-0.0\n",
      "bitrate=N/A\n",
      "total_size=N/A\n",
      "out_time_us=283800000\n",
      "out_time_ms=283800000\n",
      "out_time=00:04:43.800000\n",
      "dup_frames=0\n",
      "drop_frames=0\n",
      "speed=2.58x\n",
      "progress=continue\n"
     ]
    },
    {
     "name": "stderr",
     "output_type": "stream",
     "text": [
      "frame= 7144 fps= 65 q=-0.0 size=N/A time=00:04:44.52 bitrate=N/A speed=2.57x    \r"
     ]
    },
    {
     "name": "stdout",
     "output_type": "stream",
     "text": [
      "frame=7144\n",
      "fps=64.57\n",
      "stream_0_0_q=-0.0\n",
      "bitrate=N/A\n",
      "total_size=N/A\n",
      "out_time_us=284520000\n",
      "out_time_ms=284520000\n",
      "out_time=00:04:44.520000\n",
      "dup_frames=0\n",
      "drop_frames=0\n",
      "speed=2.57x\n",
      "progress=continue\n"
     ]
    },
    {
     "name": "stderr",
     "output_type": "stream",
     "text": [
      "frame= 7163 fps= 64 q=-0.0 size=N/A time=00:04:45.28 bitrate=N/A speed=2.57x    \r"
     ]
    },
    {
     "name": "stdout",
     "output_type": "stream",
     "text": [
      "frame=7163\n",
      "fps=64.44\n",
      "stream_0_0_q=-0.0\n",
      "bitrate=N/A\n",
      "total_size=N/A\n",
      "out_time_us=285280000\n",
      "out_time_ms=285280000\n",
      "out_time=00:04:45.280000\n",
      "dup_frames=0\n",
      "drop_frames=0\n",
      "speed=2.57x\n",
      "progress=continue\n"
     ]
    },
    {
     "name": "stderr",
     "output_type": "stream",
     "text": [
      "frame= 7180 fps= 64 q=-0.0 size=N/A time=00:04:45.96 bitrate=N/A speed=2.56x    \r"
     ]
    },
    {
     "name": "stdout",
     "output_type": "stream",
     "text": [
      "frame=7180\n",
      "fps=64.30\n",
      "stream_0_0_q=-0.0\n",
      "bitrate=N/A\n",
      "total_size=N/A\n",
      "out_time_us=285960000\n",
      "out_time_ms=285960000\n",
      "out_time=00:04:45.960000\n",
      "dup_frames=0\n",
      "drop_frames=0\n",
      "speed=2.56x\n",
      "progress=continue\n"
     ]
    },
    {
     "name": "stderr",
     "output_type": "stream",
     "text": [
      "frame= 7197 fps= 64 q=-0.0 size=N/A time=00:04:46.64 bitrate=N/A speed=2.56x    \r"
     ]
    },
    {
     "name": "stdout",
     "output_type": "stream",
     "text": [
      "frame=7197\n",
      "fps=64.16\n",
      "stream_0_0_q=-0.0\n",
      "bitrate=N/A\n",
      "total_size=N/A\n",
      "out_time_us=286640000\n",
      "out_time_ms=286640000\n",
      "out_time=00:04:46.640000\n",
      "dup_frames=0\n",
      "drop_frames=0\n",
      "speed=2.56x\n",
      "progress=continue\n"
     ]
    },
    {
     "name": "stderr",
     "output_type": "stream",
     "text": [
      "frame= 7216 fps= 64 q=-0.0 size=N/A time=00:04:47.40 bitrate=N/A speed=2.55x    \r"
     ]
    },
    {
     "name": "stdout",
     "output_type": "stream",
     "text": [
      "frame=7216\n",
      "fps=64.04\n",
      "stream_0_0_q=-0.0\n",
      "bitrate=N/A\n",
      "total_size=N/A\n",
      "out_time_us=287400000\n",
      "out_time_ms=287400000\n",
      "out_time=00:04:47.400000\n",
      "dup_frames=0\n",
      "drop_frames=0\n",
      "speed=2.55x\n",
      "progress=continue\n"
     ]
    },
    {
     "name": "stderr",
     "output_type": "stream",
     "text": [
      "frame= 7234 fps= 64 q=-0.0 size=N/A time=00:04:48.12 bitrate=N/A speed=2.54x    \r"
     ]
    },
    {
     "name": "stdout",
     "output_type": "stream",
     "text": [
      "frame=7234\n",
      "fps=63.88\n",
      "stream_0_0_q=-0.0\n",
      "bitrate=N/A\n",
      "total_size=N/A\n",
      "out_time_us=288120000\n",
      "out_time_ms=288120000\n",
      "out_time=00:04:48.120000\n",
      "dup_frames=0\n",
      "drop_frames=0\n",
      "speed=2.54x\n",
      "progress=continue\n"
     ]
    },
    {
     "name": "stderr",
     "output_type": "stream",
     "text": [
      "frame= 7251 fps= 64 q=-0.0 size=N/A time=00:04:48.80 bitrate=N/A speed=2.54x    \r"
     ]
    },
    {
     "name": "stdout",
     "output_type": "stream",
     "text": [
      "frame=7251\n",
      "fps=63.75\n",
      "stream_0_0_q=-0.0\n",
      "bitrate=N/A\n",
      "total_size=N/A\n",
      "out_time_us=288800000\n",
      "out_time_ms=288800000\n",
      "out_time=00:04:48.800000\n",
      "dup_frames=0\n",
      "drop_frames=0\n",
      "speed=2.54x\n",
      "progress=continue\n"
     ]
    },
    {
     "name": "stderr",
     "output_type": "stream",
     "text": [
      "frame= 7269 fps= 64 q=-0.0 size=N/A time=00:04:49.52 bitrate=N/A speed=2.53x    \r"
     ]
    },
    {
     "name": "stdout",
     "output_type": "stream",
     "text": [
      "frame=7269\n",
      "fps=63.61\n",
      "stream_0_0_q=-0.0\n",
      "bitrate=N/A\n",
      "total_size=N/A\n",
      "out_time_us=289520000\n",
      "out_time_ms=289520000\n",
      "out_time=00:04:49.520000\n",
      "dup_frames=0\n",
      "drop_frames=0\n",
      "speed=2.53x\n",
      "progress=continue\n",
      "frame=7287\n",
      "fps=63.44\n",
      "stream_0_0_q=-0.0\n",
      "bitrate=N/A\n",
      "total_size=N/A\n",
      "out_time_us=290240000\n",
      "out_time_ms=290240000\n",
      "out_time=00:04:50.240000\n",
      "dup_frames=0\n",
      "drop_frames=0\n",
      "speed=2.53x\n",
      "progress=continue\n"
     ]
    },
    {
     "name": "stderr",
     "output_type": "stream",
     "text": [
      "frame= 7287 fps= 63 q=-0.0 size=N/A time=00:04:50.24 bitrate=N/A speed=2.53x    \r"
     ]
    },
    {
     "name": "stdout",
     "output_type": "stream",
     "text": [
      "frame=7307\n",
      "fps=63.33\n",
      "stream_0_0_q=-0.0\n",
      "bitrate=N/A\n",
      "total_size=N/A\n",
      "out_time_us=291040000\n",
      "out_time_ms=291040000\n",
      "out_time=00:04:51.040000\n",
      "dup_frames=0\n",
      "drop_frames=0\n",
      "speed=2.52x\n",
      "progress=continue\n"
     ]
    },
    {
     "name": "stderr",
     "output_type": "stream",
     "text": [
      "frame= 7307 fps= 63 q=-0.0 size=N/A time=00:04:51.04 bitrate=N/A speed=2.52x    \r"
     ]
    },
    {
     "name": "stdout",
     "output_type": "stream",
     "text": [
      "frame=7320\n",
      "fps=63.16\n",
      "stream_0_0_q=-0.0\n",
      "bitrate=N/A\n",
      "total_size=N/A\n",
      "out_time_us=291560000\n",
      "out_time_ms=291560000\n",
      "out_time=00:04:51.560000\n",
      "dup_frames=0\n",
      "drop_frames=0\n",
      "speed=2.52x\n",
      "progress=continue\n"
     ]
    },
    {
     "name": "stderr",
     "output_type": "stream",
     "text": [
      "frame= 7320 fps= 63 q=-0.0 size=N/A time=00:04:51.56 bitrate=N/A speed=2.52x    \r"
     ]
    },
    {
     "name": "stdout",
     "output_type": "stream",
     "text": [
      "frame=7343\n",
      "fps=63.06\n",
      "stream_0_0_q=-0.0\n",
      "bitrate=N/A\n",
      "total_size=N/A\n",
      "out_time_us=292480000\n",
      "out_time_ms=292480000\n",
      "out_time=00:04:52.480000\n",
      "dup_frames=0\n",
      "drop_frames=0\n",
      "speed=2.51x\n",
      "progress=continue\n"
     ]
    },
    {
     "name": "stderr",
     "output_type": "stream",
     "text": [
      "frame= 7356 fps= 63 q=-0.0 size=N/A time=00:04:53.00 bitrate=N/A speed=2.51x    \r"
     ]
    },
    {
     "name": "stdout",
     "output_type": "stream",
     "text": [
      "frame=7356\n",
      "fps=62.91\n",
      "stream_0_0_q=-0.0\n",
      "bitrate=N/A\n",
      "total_size=N/A\n",
      "out_time_us=293000000\n",
      "out_time_ms=293000000\n",
      "out_time=00:04:53.000000\n",
      "dup_frames=0\n",
      "drop_frames=0\n",
      "speed=2.51x\n",
      "progress=continue\n",
      "frame=7378\n",
      "fps=62.81\n",
      "stream_0_0_q=-0.0\n",
      "bitrate=N/A\n",
      "total_size=N/A\n",
      "out_time_us=293880000\n",
      "out_time_ms=293880000\n",
      "out_time=00:04:53.880000\n",
      "dup_frames=0\n",
      "drop_frames=0\n",
      "speed= 2.5x\n",
      "progress=continue\n"
     ]
    },
    {
     "name": "stderr",
     "output_type": "stream",
     "text": [
      "frame= 7398 fps= 63 q=-0.0 size=N/A time=00:04:54.68 bitrate=N/A speed= 2.5x    \r"
     ]
    },
    {
     "name": "stdout",
     "output_type": "stream",
     "text": [
      "frame=7398\n",
      "fps=62.70\n",
      "stream_0_0_q=-0.0\n",
      "bitrate=N/A\n",
      "total_size=N/A\n",
      "out_time_us=294680000\n",
      "out_time_ms=294680000\n",
      "out_time=00:04:54.680000\n",
      "dup_frames=0\n",
      "drop_frames=0\n",
      "speed= 2.5x\n",
      "progress=continue\n",
      "frame=7417\n",
      "fps=62.59\n",
      "stream_0_0_q=-0.0\n",
      "bitrate=N/A\n",
      "total_size=N/A\n",
      "out_time_us=295440000\n",
      "out_time_ms=295440000\n",
      "out_time=00:04:55.440000\n",
      "dup_frames=0\n",
      "drop_frames=0\n",
      "speed=2.49x\n",
      "progress=continue\n"
     ]
    },
    {
     "name": "stderr",
     "output_type": "stream",
     "text": [
      "frame= 7417 fps= 63 q=-0.0 size=N/A time=00:04:55.44 bitrate=N/A speed=2.49x    \r"
     ]
    },
    {
     "name": "stdout",
     "output_type": "stream",
     "text": [
      "frame=7435\n",
      "fps=62.48\n",
      "stream_0_0_q=-0.0\n",
      "bitrate=N/A\n",
      "total_size=N/A\n",
      "out_time_us=296160000\n",
      "out_time_ms=296160000\n",
      "out_time=00:04:56.160000\n",
      "dup_frames=0\n",
      "drop_frames=0\n",
      "speed=2.49x\n",
      "progress=continue\n"
     ]
    },
    {
     "name": "stderr",
     "output_type": "stream",
     "text": [
      "frame= 7444 fps= 62 q=-0.0 size=N/A time=00:04:56.52 bitrate=N/A speed=2.48x    \r"
     ]
    },
    {
     "name": "stdout",
     "output_type": "stream",
     "text": [
      "frame=7444\n",
      "fps=62.24\n",
      "stream_0_0_q=-0.0\n",
      "bitrate=N/A\n",
      "total_size=N/A\n",
      "out_time_us=296520000\n",
      "out_time_ms=296520000\n",
      "out_time=00:04:56.520000\n",
      "dup_frames=0\n",
      "drop_frames=0\n",
      "speed=2.48x\n",
      "progress=continue\n",
      "frame=7474\n",
      "fps=62.22\n",
      "stream_0_0_q=-0.0\n",
      "bitrate=N/A\n",
      "total_size=N/A\n",
      "out_time_us=297720000\n",
      "out_time_ms=297720000\n",
      "out_time=00:04:57.720000\n",
      "dup_frames=0\n",
      "drop_frames=0\n",
      "speed=2.48x\n",
      "progress=continue\n"
     ]
    },
    {
     "name": "stderr",
     "output_type": "stream",
     "text": [
      "frame= 7486 fps= 62 q=-0.0 size=N/A time=00:04:58.20 bitrate=N/A speed=2.47x    \r"
     ]
    },
    {
     "name": "stdout",
     "output_type": "stream",
     "text": [
      "frame=7486\n",
      "fps=62.01\n",
      "stream_0_0_q=-0.0\n",
      "bitrate=N/A\n",
      "total_size=N/A\n",
      "out_time_us=298200000\n",
      "out_time_ms=298200000\n",
      "out_time=00:04:58.200000\n",
      "dup_frames=0\n",
      "drop_frames=0\n",
      "speed=2.47x\n",
      "progress=continue\n",
      "frame=7502\n",
      "fps=61.84\n",
      "stream_0_0_q=-0.0\n",
      "bitrate=N/A\n",
      "total_size=N/A\n",
      "out_time_us=298840000\n",
      "out_time_ms=298840000\n",
      "out_time=00:04:58.840000\n",
      "dup_frames=0\n",
      "drop_frames=0\n",
      "speed=2.46x\n",
      "progress=continue\n"
     ]
    },
    {
     "name": "stderr",
     "output_type": "stream",
     "text": [
      "frame= 7502 fps= 62 q=-0.0 size=N/A time=00:04:58.84 bitrate=N/A speed=2.46x    \r"
     ]
    },
    {
     "name": "stdout",
     "output_type": "stream",
     "text": [
      "frame=7527\n",
      "fps=61.78\n",
      "stream_0_0_q=-0.0\n",
      "bitrate=N/A\n",
      "total_size=N/A\n",
      "out_time_us=299840000\n",
      "out_time_ms=299840000\n",
      "out_time=00:04:59.840000\n",
      "dup_frames=0\n",
      "drop_frames=0\n",
      "speed=2.46x\n",
      "progress=continue\n"
     ]
    },
    {
     "name": "stderr",
     "output_type": "stream",
     "text": [
      "frame= 7547 fps= 62 q=-0.0 size=N/A time=00:05:00.64 bitrate=N/A speed=2.46x    \r"
     ]
    },
    {
     "name": "stdout",
     "output_type": "stream",
     "text": [
      "frame=7547\n",
      "fps=61.68\n",
      "stream_0_0_q=-0.0\n",
      "bitrate=N/A\n",
      "total_size=N/A\n",
      "out_time_us=300640000\n",
      "out_time_ms=300640000\n",
      "out_time=00:05:00.640000\n",
      "dup_frames=0\n",
      "drop_frames=0\n",
      "speed=2.46x\n",
      "progress=continue\n"
     ]
    },
    {
     "name": "stderr",
     "output_type": "stream",
     "text": [
      "frame= 7562 fps= 62 q=-0.0 size=N/A time=00:05:01.24 bitrate=N/A speed=2.45x    \r"
     ]
    },
    {
     "name": "stdout",
     "output_type": "stream",
     "text": [
      "frame=7562\n",
      "fps=61.53\n",
      "stream_0_0_q=-0.0\n",
      "bitrate=N/A\n",
      "total_size=N/A\n",
      "out_time_us=301240000\n",
      "out_time_ms=301240000\n",
      "out_time=00:05:01.240000\n",
      "dup_frames=0\n",
      "drop_frames=0\n",
      "speed=2.45x\n",
      "progress=continue\n",
      "frame=7582\n",
      "fps=61.43\n",
      "stream_0_0_q=-0.0\n",
      "bitrate=N/A\n",
      "total_size=N/A\n",
      "out_time_us=302040000\n",
      "out_time_ms=302040000\n",
      "out_time=00:05:02.040000\n",
      "dup_frames=0\n",
      "drop_frames=0\n",
      "speed=2.45x\n",
      "progress=continue\n"
     ]
    },
    {
     "name": "stderr",
     "output_type": "stream",
     "text": [
      "frame= 7598 fps= 61 q=-0.0 size=N/A time=00:05:02.68 bitrate=N/A speed=2.44x    \r"
     ]
    },
    {
     "name": "stdout",
     "output_type": "stream",
     "text": [
      "frame=7598\n",
      "fps=61.30\n",
      "stream_0_0_q=-0.0\n",
      "bitrate=N/A\n",
      "total_size=N/A\n",
      "out_time_us=302680000\n",
      "out_time_ms=302680000\n",
      "out_time=00:05:02.680000\n",
      "dup_frames=0\n",
      "drop_frames=0\n",
      "speed=2.44x\n",
      "progress=continue\n",
      "frame=7609\n",
      "fps=61.14\n",
      "stream_0_0_q=-0.0\n",
      "bitrate=N/A\n",
      "total_size=N/A\n",
      "out_time_us=303120000\n",
      "out_time_ms=303120000\n",
      "out_time=00:05:03.120000\n",
      "dup_frames=0\n",
      "drop_frames=0\n",
      "speed=2.44x\n",
      "progress=continue\n"
     ]
    },
    {
     "name": "stderr",
     "output_type": "stream",
     "text": [
      "frame= 7609 fps= 61 q=-0.0 size=N/A time=00:05:03.12 bitrate=N/A speed=2.44x    \r"
     ]
    },
    {
     "name": "stdout",
     "output_type": "stream",
     "text": [
      "frame=7631\n",
      "fps=61.08\n",
      "stream_0_0_q=-0.0\n",
      "bitrate=N/A\n",
      "total_size=N/A\n",
      "out_time_us=304000000\n",
      "out_time_ms=304000000\n",
      "out_time=00:05:04.000000\n",
      "dup_frames=0\n",
      "drop_frames=0\n",
      "speed=2.43x\n",
      "progress=continue\n"
     ]
    },
    {
     "name": "stderr",
     "output_type": "stream",
     "text": [
      "frame= 7648 fps= 61 q=-0.0 size=N/A time=00:05:04.68 bitrate=N/A speed=2.43x    \r"
     ]
    },
    {
     "name": "stdout",
     "output_type": "stream",
     "text": [
      "frame=7648\n",
      "fps=60.96\n",
      "stream_0_0_q=-0.0\n",
      "bitrate=N/A\n",
      "total_size=N/A\n",
      "out_time_us=304680000\n",
      "out_time_ms=304680000\n",
      "out_time=00:05:04.680000\n",
      "dup_frames=0\n",
      "drop_frames=0\n",
      "speed=2.43x\n",
      "progress=continue\n"
     ]
    },
    {
     "name": "stderr",
     "output_type": "stream",
     "text": [
      "frame= 7667 fps= 61 q=-0.0 size=N/A time=00:05:05.44 bitrate=N/A speed=2.42x    \r"
     ]
    },
    {
     "name": "stdout",
     "output_type": "stream",
     "text": [
      "frame=7667\n",
      "fps=60.87\n",
      "stream_0_0_q=-0.0\n",
      "bitrate=N/A\n",
      "total_size=N/A\n",
      "out_time_us=305440000\n",
      "out_time_ms=305440000\n",
      "out_time=00:05:05.440000\n",
      "dup_frames=0\n",
      "drop_frames=0\n",
      "speed=2.42x\n",
      "progress=continue\n"
     ]
    },
    {
     "name": "stderr",
     "output_type": "stream",
     "text": [
      "frame= 7683 fps= 61 q=-0.0 size=N/A time=00:05:06.08 bitrate=N/A speed=2.42x    \r"
     ]
    },
    {
     "name": "stdout",
     "output_type": "stream",
     "text": [
      "frame=7683\n",
      "fps=60.75\n",
      "stream_0_0_q=-0.0\n",
      "bitrate=N/A\n",
      "total_size=N/A\n",
      "out_time_us=306080000\n",
      "out_time_ms=306080000\n",
      "out_time=00:05:06.080000\n",
      "dup_frames=0\n",
      "drop_frames=0\n",
      "speed=2.42x\n",
      "progress=continue\n"
     ]
    },
    {
     "name": "stderr",
     "output_type": "stream",
     "text": [
      "frame= 7701 fps= 61 q=-0.0 size=N/A time=00:05:06.80 bitrate=N/A speed=2.42x    \r"
     ]
    },
    {
     "name": "stdout",
     "output_type": "stream",
     "text": [
      "frame=7701\n",
      "fps=60.64\n",
      "stream_0_0_q=-0.0\n",
      "bitrate=N/A\n",
      "total_size=N/A\n",
      "out_time_us=306800000\n",
      "out_time_ms=306800000\n",
      "out_time=00:05:06.800000\n",
      "dup_frames=0\n",
      "drop_frames=0\n",
      "speed=2.42x\n",
      "progress=continue\n"
     ]
    },
    {
     "name": "stderr",
     "output_type": "stream",
     "text": [
      "frame= 7718 fps= 61 q=-0.0 size=N/A time=00:05:07.48 bitrate=N/A speed=2.41x    \r"
     ]
    },
    {
     "name": "stdout",
     "output_type": "stream",
     "text": [
      "frame=7718\n",
      "fps=60.53\n",
      "stream_0_0_q=-0.0\n",
      "bitrate=N/A\n",
      "total_size=N/A\n",
      "out_time_us=307480000\n",
      "out_time_ms=307480000\n",
      "out_time=00:05:07.480000\n",
      "dup_frames=0\n",
      "drop_frames=0\n",
      "speed=2.41x\n",
      "progress=continue\n",
      "frame=7737\n",
      "fps=60.43\n",
      "stream_0_0_q=-0.0\n",
      "bitrate=N/A\n",
      "total_size=N/A\n",
      "out_time_us=308240000\n",
      "out_time_ms=308240000\n",
      "out_time=00:05:08.240000\n",
      "dup_frames=0\n",
      "drop_frames=0\n",
      "speed=2.41x\n",
      "progress=continue\n"
     ]
    },
    {
     "name": "stderr",
     "output_type": "stream",
     "text": [
      "frame= 7755 fps= 60 q=-0.0 size=N/A time=00:05:08.96 bitrate=N/A speed= 2.4x    \r"
     ]
    },
    {
     "name": "stdout",
     "output_type": "stream",
     "text": [
      "frame=7755\n",
      "fps=60.31\n",
      "stream_0_0_q=-0.0\n",
      "bitrate=N/A\n",
      "total_size=N/A\n",
      "out_time_us=308960000\n",
      "out_time_ms=308960000\n",
      "out_time=00:05:08.960000\n",
      "dup_frames=0\n",
      "drop_frames=0\n",
      "speed= 2.4x\n",
      "progress=continue\n"
     ]
    },
    {
     "name": "stderr",
     "output_type": "stream",
     "text": [
      "frame= 7771 fps= 60 q=-0.0 size=N/A time=00:05:09.60 bitrate=N/A speed= 2.4x    \r"
     ]
    },
    {
     "name": "stdout",
     "output_type": "stream",
     "text": [
      "frame=7771\n",
      "fps=60.20\n",
      "stream_0_0_q=-0.0\n",
      "bitrate=N/A\n",
      "total_size=N/A\n",
      "out_time_us=309600000\n",
      "out_time_ms=309600000\n",
      "out_time=00:05:09.600000\n",
      "dup_frames=0\n",
      "drop_frames=0\n",
      "speed= 2.4x\n",
      "progress=continue\n"
     ]
    },
    {
     "name": "stderr",
     "output_type": "stream",
     "text": [
      "frame= 7785 fps= 60 q=-0.0 size=N/A time=00:05:10.16 bitrate=N/A speed=2.39x    \r"
     ]
    },
    {
     "name": "stdout",
     "output_type": "stream",
     "text": [
      "frame=7785\n",
      "fps=60.05\n",
      "stream_0_0_q=-0.0\n",
      "bitrate=N/A\n",
      "total_size=N/A\n",
      "out_time_us=310160000\n",
      "out_time_ms=310160000\n",
      "out_time=00:05:10.160000\n",
      "dup_frames=0\n",
      "drop_frames=0\n",
      "speed=2.39x\n",
      "progress=continue\n"
     ]
    },
    {
     "name": "stderr",
     "output_type": "stream",
     "text": [
      "frame= 7800 fps= 60 q=-0.0 size=N/A time=00:05:10.76 bitrate=N/A speed=2.39x    \r"
     ]
    },
    {
     "name": "stdout",
     "output_type": "stream",
     "text": [
      "frame=7800\n",
      "fps=59.92\n",
      "stream_0_0_q=-0.0\n",
      "bitrate=N/A\n",
      "total_size=N/A\n",
      "out_time_us=310760000\n",
      "out_time_ms=310760000\n",
      "out_time=00:05:10.760000\n",
      "dup_frames=0\n",
      "drop_frames=0\n",
      "speed=2.39x\n",
      "progress=continue\n",
      "frame=7821\n",
      "fps=59.83\n",
      "stream_0_0_q=-0.0\n",
      "bitrate=N/A\n",
      "total_size=N/A\n",
      "out_time_us=311600000\n",
      "out_time_ms=311600000\n",
      "out_time=00:05:11.600000\n",
      "dup_frames=0\n",
      "drop_frames=0\n",
      "speed=2.38x\n",
      "progress=continue\n"
     ]
    },
    {
     "name": "stderr",
     "output_type": "stream",
     "text": [
      "frame= 7821 fps= 60 q=-0.0 size=N/A time=00:05:11.60 bitrate=N/A speed=2.38x    \r"
     ]
    },
    {
     "name": "stdout",
     "output_type": "stream",
     "text": [
      "frame=7840\n",
      "fps=59.74\n",
      "stream_0_0_q=-0.0\n",
      "bitrate=N/A\n",
      "total_size=N/A\n",
      "out_time_us=312360000\n",
      "out_time_ms=312360000\n",
      "out_time=00:05:12.360000\n",
      "dup_frames=0\n",
      "drop_frames=0\n",
      "speed=2.38x\n",
      "progress=continue\n"
     ]
    },
    {
     "name": "stderr",
     "output_type": "stream",
     "text": [
      "frame= 7840 fps= 60 q=-0.0 size=N/A time=00:05:12.36 bitrate=N/A speed=2.38x    \r"
     ]
    },
    {
     "name": "stdout",
     "output_type": "stream",
     "text": [
      "frame=7853\n",
      "fps=59.59\n",
      "stream_0_0_q=-0.0\n",
      "bitrate=N/A\n",
      "total_size=N/A\n",
      "out_time_us=312880000\n",
      "out_time_ms=312880000\n",
      "out_time=00:05:12.880000\n",
      "dup_frames=0\n",
      "drop_frames=0\n",
      "speed=2.37x\n",
      "progress=continue\n"
     ]
    },
    {
     "name": "stderr",
     "output_type": "stream",
     "text": [
      "frame= 7874 fps= 60 q=-0.0 size=N/A time=00:05:13.72 bitrate=N/A speed=2.37x    \r"
     ]
    },
    {
     "name": "stdout",
     "output_type": "stream",
     "text": [
      "frame=7874\n",
      "fps=59.52\n",
      "stream_0_0_q=-0.0\n",
      "bitrate=N/A\n",
      "total_size=N/A\n",
      "out_time_us=313720000\n",
      "out_time_ms=313720000\n",
      "out_time=00:05:13.720000\n",
      "dup_frames=0\n",
      "drop_frames=0\n",
      "speed=2.37x\n",
      "progress=continue\n"
     ]
    },
    {
     "name": "stderr",
     "output_type": "stream",
     "text": [
      "frame= 7893 fps= 59 q=-0.0 size=N/A time=00:05:14.48 bitrate=N/A speed=2.37x    \r"
     ]
    },
    {
     "name": "stdout",
     "output_type": "stream",
     "text": [
      "frame=7893\n",
      "fps=59.43\n",
      "stream_0_0_q=-0.0\n",
      "bitrate=N/A\n",
      "total_size=N/A\n",
      "out_time_us=314480000\n",
      "out_time_ms=314480000\n",
      "out_time=00:05:14.480000\n",
      "dup_frames=0\n",
      "drop_frames=0\n",
      "speed=2.37x\n",
      "progress=continue\n"
     ]
    },
    {
     "name": "stderr",
     "output_type": "stream",
     "text": [
      "frame= 7912 fps= 59 q=-0.0 size=N/A time=00:05:15.24 bitrate=N/A speed=2.36x    \r"
     ]
    },
    {
     "name": "stdout",
     "output_type": "stream",
     "text": [
      "frame=7912\n",
      "fps=59.35\n",
      "stream_0_0_q=-0.0\n",
      "bitrate=N/A\n",
      "total_size=N/A\n",
      "out_time_us=315240000\n",
      "out_time_ms=315240000\n",
      "out_time=00:05:15.240000\n",
      "dup_frames=0\n",
      "drop_frames=0\n",
      "speed=2.36x\n",
      "progress=continue\n",
      "frame=7930\n",
      "fps=59.26\n",
      "stream_0_0_q=-0.0\n",
      "bitrate=N/A\n",
      "total_size=N/A\n",
      "out_time_us=315960000\n",
      "out_time_ms=315960000\n",
      "out_time=00:05:15.960000\n",
      "dup_frames=0\n",
      "drop_frames=0\n",
      "speed=2.36x\n",
      "progress=continue\n"
     ]
    },
    {
     "name": "stderr",
     "output_type": "stream",
     "text": [
      "frame= 7949 fps= 59 q=-0.0 size=N/A time=00:05:16.72 bitrate=N/A speed=2.36x    \r"
     ]
    },
    {
     "name": "stdout",
     "output_type": "stream",
     "text": [
      "frame=7949\n",
      "fps=59.17\n",
      "stream_0_0_q=-0.0\n",
      "bitrate=N/A\n",
      "total_size=N/A\n",
      "out_time_us=316720000\n",
      "out_time_ms=316720000\n",
      "out_time=00:05:16.720000\n",
      "dup_frames=0\n",
      "drop_frames=0\n",
      "speed=2.36x\n",
      "progress=continue\n",
      "frame=7968\n",
      "fps=59.09\n",
      "stream_0_0_q=-0.0\n",
      "bitrate=N/A\n",
      "total_size=N/A\n",
      "out_time_us=317480000\n",
      "out_time_ms=317480000\n",
      "out_time=00:05:17.480000\n",
      "dup_frames=0\n",
      "drop_frames=0\n",
      "speed=2.35x\n",
      "progress=continue\n"
     ]
    },
    {
     "name": "stderr",
     "output_type": "stream",
     "text": [
      "frame= 7968 fps= 59 q=-0.0 size=N/A time=00:05:17.48 bitrate=N/A speed=2.35x    \r"
     ]
    },
    {
     "name": "stdout",
     "output_type": "stream",
     "text": [
      "frame=7988\n",
      "fps=59.01\n",
      "stream_0_0_q=-0.0\n",
      "bitrate=N/A\n",
      "total_size=N/A\n",
      "out_time_us=318280000\n",
      "out_time_ms=318280000\n",
      "out_time=00:05:18.280000\n",
      "dup_frames=0\n",
      "drop_frames=0\n",
      "speed=2.35x\n",
      "progress=continue\n"
     ]
    },
    {
     "name": "stderr",
     "output_type": "stream",
     "text": [
      "frame= 7988 fps= 59 q=-0.0 size=N/A time=00:05:18.28 bitrate=N/A speed=2.35x    \r"
     ]
    },
    {
     "name": "stdout",
     "output_type": "stream",
     "text": [
      "frame=8005\n",
      "fps=58.86\n",
      "stream_0_0_q=-0.0\n",
      "bitrate=N/A\n",
      "total_size=N/A\n",
      "out_time_us=318960000\n",
      "out_time_ms=318960000\n",
      "out_time=00:05:18.960000\n",
      "dup_frames=0\n",
      "drop_frames=0\n",
      "speed=2.35x\n",
      "progress=continue\n"
     ]
    },
    {
     "name": "stderr",
     "output_type": "stream",
     "text": [
      "frame= 8029 fps= 59 q=-0.0 size=N/A time=00:05:19.92 bitrate=N/A speed=2.34x    \r"
     ]
    },
    {
     "name": "stdout",
     "output_type": "stream",
     "text": [
      "frame=8029\n",
      "fps=58.80\n",
      "stream_0_0_q=-0.0\n",
      "bitrate=N/A\n",
      "total_size=N/A\n",
      "out_time_us=319920000\n",
      "out_time_ms=319920000\n",
      "out_time=00:05:19.920000\n",
      "dup_frames=0\n",
      "drop_frames=0\n",
      "speed=2.34x\n",
      "progress=continue\n"
     ]
    },
    {
     "name": "stderr",
     "output_type": "stream",
     "text": [
      "frame= 8044 fps= 59 q=-0.0 size=N/A time=00:05:20.52 bitrate=N/A speed=2.34x    \r"
     ]
    },
    {
     "name": "stdout",
     "output_type": "stream",
     "text": [
      "frame=8044\n",
      "fps=58.69\n",
      "stream_0_0_q=-0.0\n",
      "bitrate=N/A\n",
      "total_size=N/A\n",
      "out_time_us=320520000\n",
      "out_time_ms=320520000\n",
      "out_time=00:05:20.520000\n",
      "dup_frames=0\n",
      "drop_frames=0\n",
      "speed=2.34x\n",
      "progress=continue\n"
     ]
    },
    {
     "name": "stderr",
     "output_type": "stream",
     "text": [
      "frame= 8064 fps= 59 q=-0.0 size=N/A time=00:05:21.32 bitrate=N/A speed=2.34x    \r"
     ]
    },
    {
     "name": "stdout",
     "output_type": "stream",
     "text": [
      "frame=8064\n",
      "fps=58.62\n",
      "stream_0_0_q=-0.0\n",
      "bitrate=N/A\n",
      "total_size=N/A\n",
      "out_time_us=321320000\n",
      "out_time_ms=321320000\n",
      "out_time=00:05:21.320000\n",
      "dup_frames=0\n",
      "drop_frames=0\n",
      "speed=2.34x\n",
      "progress=continue\n",
      "frame=8083\n",
      "fps=58.54\n",
      "stream_0_0_q=-0.0\n",
      "bitrate=N/A\n",
      "total_size=N/A\n",
      "out_time_us=322080000\n",
      "out_time_ms=322080000\n",
      "out_time=00:05:22.080000\n",
      "dup_frames=0\n",
      "drop_frames=0\n",
      "speed=2.33x\n",
      "progress=continue\n"
     ]
    },
    {
     "name": "stderr",
     "output_type": "stream",
     "text": [
      "frame= 8100 fps= 58 q=-0.0 size=N/A time=00:05:22.76 bitrate=N/A speed=2.33x    \r"
     ]
    },
    {
     "name": "stdout",
     "output_type": "stream",
     "text": [
      "frame=8100\n",
      "fps=58.45\n",
      "stream_0_0_q=-0.0\n",
      "bitrate=N/A\n",
      "total_size=N/A\n",
      "out_time_us=322760000\n",
      "out_time_ms=322760000\n",
      "out_time=00:05:22.760000\n",
      "dup_frames=0\n",
      "drop_frames=0\n",
      "speed=2.33x\n",
      "progress=continue\n",
      "frame=8121\n",
      "fps=58.38\n",
      "stream_0_0_q=-0.0\n",
      "bitrate=N/A\n",
      "total_size=N/A\n",
      "out_time_us=323600000\n",
      "out_time_ms=323600000\n",
      "out_time=00:05:23.600000\n",
      "dup_frames=0\n",
      "drop_frames=0\n",
      "speed=2.33x\n",
      "progress=continue\n"
     ]
    },
    {
     "name": "stderr",
     "output_type": "stream",
     "text": [
      "frame= 8139 fps= 58 q=-0.0 size=N/A time=00:05:24.32 bitrate=N/A speed=2.32x    \r"
     ]
    },
    {
     "name": "stdout",
     "output_type": "stream",
     "text": [
      "frame=8139\n",
      "fps=58.29\n",
      "stream_0_0_q=-0.0\n",
      "bitrate=N/A\n",
      "total_size=N/A\n",
      "out_time_us=324320000\n",
      "out_time_ms=324320000\n",
      "out_time=00:05:24.320000\n",
      "dup_frames=0\n",
      "drop_frames=0\n",
      "speed=2.32x\n",
      "progress=continue\n",
      "frame=8156\n",
      "fps=58.20\n",
      "stream_0_0_q=-0.0\n",
      "bitrate=N/A\n",
      "total_size=N/A\n",
      "out_time_us=325000000\n",
      "out_time_ms=325000000\n",
      "out_time=00:05:25.000000\n",
      "dup_frames=0\n",
      "drop_frames=0\n",
      "speed=2.32x\n",
      "progress=continue\n"
     ]
    },
    {
     "name": "stderr",
     "output_type": "stream",
     "text": [
      "frame= 8156 fps= 58 q=-0.0 size=N/A time=00:05:25.00 bitrate=N/A speed=2.32x    \r"
     ]
    },
    {
     "name": "stdout",
     "output_type": "stream",
     "text": [
      "frame=8174\n",
      "fps=58.12\n",
      "stream_0_0_q=-0.0\n",
      "bitrate=N/A\n",
      "total_size=N/A\n",
      "out_time_us=325720000\n",
      "out_time_ms=325720000\n",
      "out_time=00:05:25.720000\n",
      "dup_frames=0\n",
      "drop_frames=0\n",
      "speed=2.32x\n",
      "progress=continue\n"
     ]
    },
    {
     "name": "stderr",
     "output_type": "stream",
     "text": [
      "frame= 8190 fps= 58 q=-0.0 size=N/A time=00:05:26.36 bitrate=N/A speed=2.31x    \r"
     ]
    },
    {
     "name": "stdout",
     "output_type": "stream",
     "text": [
      "frame=8190\n",
      "fps=58.02\n",
      "stream_0_0_q=-0.0\n",
      "bitrate=N/A\n",
      "total_size=N/A\n",
      "out_time_us=326360000\n",
      "out_time_ms=326360000\n",
      "out_time=00:05:26.360000\n",
      "dup_frames=0\n",
      "drop_frames=0\n",
      "speed=2.31x\n",
      "progress=continue\n"
     ]
    },
    {
     "name": "stderr",
     "output_type": "stream",
     "text": [
      "frame= 8208 fps= 58 q=-0.0 size=N/A time=00:05:27.08 bitrate=N/A speed=2.31x    \r"
     ]
    },
    {
     "name": "stdout",
     "output_type": "stream",
     "text": [
      "frame=8208\n",
      "fps=57.93\n",
      "stream_0_0_q=-0.0\n",
      "bitrate=N/A\n",
      "total_size=N/A\n",
      "out_time_us=327080000\n",
      "out_time_ms=327080000\n",
      "out_time=00:05:27.080000\n",
      "dup_frames=0\n",
      "drop_frames=0\n",
      "speed=2.31x\n",
      "progress=continue\n",
      "frame=8227\n",
      "fps=57.85\n",
      "stream_0_0_q=-0.0\n",
      "bitrate=N/A\n",
      "total_size=N/A\n",
      "out_time_us=327840000\n",
      "out_time_ms=327840000\n",
      "out_time=00:05:27.840000\n",
      "dup_frames=0\n",
      "drop_frames=0\n",
      "speed=2.31x\n",
      "progress=continue\n"
     ]
    },
    {
     "name": "stderr",
     "output_type": "stream",
     "text": [
      "frame= 8227 fps= 58 q=-0.0 size=N/A time=00:05:27.84 bitrate=N/A speed=2.31x    \r"
     ]
    },
    {
     "name": "stdout",
     "output_type": "stream",
     "text": [
      "frame=8245\n",
      "fps=57.77\n",
      "stream_0_0_q=-0.0\n",
      "bitrate=N/A\n",
      "total_size=N/A\n",
      "out_time_us=328560000\n",
      "out_time_ms=328560000\n",
      "out_time=00:05:28.560000\n",
      "dup_frames=0\n",
      "drop_frames=0\n",
      "speed= 2.3x\n",
      "progress=continue\n"
     ]
    },
    {
     "name": "stderr",
     "output_type": "stream",
     "text": [
      "frame= 8245 fps= 58 q=-0.0 size=N/A time=00:05:28.56 bitrate=N/A speed= 2.3x    \r"
     ]
    },
    {
     "name": "stdout",
     "output_type": "stream",
     "text": [
      "frame=8263\n",
      "fps=57.69\n",
      "stream_0_0_q=-0.0\n",
      "bitrate=N/A\n",
      "total_size=N/A\n",
      "out_time_us=329280000\n",
      "out_time_ms=329280000\n",
      "out_time=00:05:29.280000\n",
      "dup_frames=0\n",
      "drop_frames=0\n",
      "speed= 2.3x\n",
      "progress=continue\n"
     ]
    },
    {
     "name": "stderr",
     "output_type": "stream",
     "text": [
      "frame= 8281 fps= 58 q=-0.0 size=N/A time=00:05:30.00 bitrate=N/A speed= 2.3x    \r"
     ]
    },
    {
     "name": "stdout",
     "output_type": "stream",
     "text": [
      "frame=8281\n",
      "fps=57.61\n",
      "stream_0_0_q=-0.0\n",
      "bitrate=N/A\n",
      "total_size=N/A\n",
      "out_time_us=330000000\n",
      "out_time_ms=330000000\n",
      "out_time=00:05:30.000000\n",
      "dup_frames=0\n",
      "drop_frames=0\n",
      "speed= 2.3x\n",
      "progress=continue\n",
      "frame=8299\n",
      "fps=57.53\n",
      "stream_0_0_q=-0.0\n",
      "bitrate=N/A\n",
      "total_size=N/A\n",
      "out_time_us=330720000\n",
      "out_time_ms=330720000\n",
      "out_time=00:05:30.720000\n",
      "dup_frames=0\n",
      "drop_frames=0\n",
      "speed=2.29x\n",
      "progress=continue\n"
     ]
    },
    {
     "name": "stderr",
     "output_type": "stream",
     "text": [
      "frame= 8299 fps= 58 q=-0.0 size=N/A time=00:05:30.72 bitrate=N/A speed=2.29x    \r"
     ]
    },
    {
     "name": "stdout",
     "output_type": "stream",
     "text": [
      "frame=8316\n",
      "fps=57.45\n",
      "stream_0_0_q=-0.0\n",
      "bitrate=N/A\n",
      "total_size=N/A\n",
      "out_time_us=331400000\n",
      "out_time_ms=331400000\n",
      "out_time=00:05:31.400000\n",
      "dup_frames=0\n",
      "drop_frames=0\n",
      "speed=2.29x\n",
      "progress=continue\n"
     ]
    },
    {
     "name": "stderr",
     "output_type": "stream",
     "text": [
      "frame= 8316 fps= 57 q=-0.0 size=N/A time=00:05:31.40 bitrate=N/A speed=2.29x    \r"
     ]
    },
    {
     "name": "stdout",
     "output_type": "stream",
     "text": [
      "frame=8334\n",
      "fps=57.37\n",
      "stream_0_0_q=-0.0\n",
      "bitrate=N/A\n",
      "total_size=N/A\n",
      "out_time_us=332120000\n",
      "out_time_ms=332120000\n",
      "out_time=00:05:32.120000\n",
      "dup_frames=0\n",
      "drop_frames=0\n",
      "speed=2.29x\n",
      "progress=continue\n"
     ]
    },
    {
     "name": "stderr",
     "output_type": "stream",
     "text": [
      "frame= 8334 fps= 57 q=-0.0 size=N/A time=00:05:32.12 bitrate=N/A speed=2.29x    \r"
     ]
    },
    {
     "name": "stdout",
     "output_type": "stream",
     "text": [
      "frame=8347\n",
      "fps=57.23\n",
      "stream_0_0_q=-0.0\n",
      "bitrate=N/A\n",
      "total_size=N/A\n",
      "out_time_us=332640000\n",
      "out_time_ms=332640000\n",
      "out_time=00:05:32.640000\n",
      "dup_frames=0\n",
      "drop_frames=0\n",
      "speed=2.28x\n",
      "progress=continue\n"
     ]
    },
    {
     "name": "stderr",
     "output_type": "stream",
     "text": [
      "frame= 8347 fps= 57 q=-0.0 size=N/A time=00:05:32.64 bitrate=N/A speed=2.28x    \r"
     ]
    },
    {
     "name": "stdout",
     "output_type": "stream",
     "text": [
      "frame=8369\n",
      "fps=57.18\n",
      "stream_0_0_q=-0.0\n",
      "bitrate=N/A\n",
      "total_size=N/A\n",
      "out_time_us=333520000\n",
      "out_time_ms=333520000\n",
      "out_time=00:05:33.520000\n",
      "dup_frames=0\n",
      "drop_frames=0\n",
      "speed=2.28x\n",
      "progress=continue\n"
     ]
    },
    {
     "name": "stderr",
     "output_type": "stream",
     "text": [
      "frame= 8386 fps= 57 q=-0.0 size=N/A time=00:05:34.20 bitrate=N/A speed=2.28x    \r"
     ]
    },
    {
     "name": "stdout",
     "output_type": "stream",
     "text": [
      "frame=8386\n",
      "fps=57.09\n",
      "stream_0_0_q=-0.0\n",
      "bitrate=N/A\n",
      "total_size=N/A\n",
      "out_time_us=334200000\n",
      "out_time_ms=334200000\n",
      "out_time=00:05:34.200000\n",
      "dup_frames=0\n",
      "drop_frames=0\n",
      "speed=2.28x\n",
      "progress=continue\n"
     ]
    },
    {
     "name": "stderr",
     "output_type": "stream",
     "text": [
      "frame= 8405 fps= 57 q=-0.0 size=N/A time=00:05:34.96 bitrate=N/A speed=2.27x    \r"
     ]
    },
    {
     "name": "stdout",
     "output_type": "stream",
     "text": [
      "frame=8405\n",
      "fps=57.02\n",
      "stream_0_0_q=-0.0\n",
      "bitrate=N/A\n",
      "total_size=N/A\n",
      "out_time_us=334960000\n",
      "out_time_ms=334960000\n",
      "out_time=00:05:34.960000\n",
      "dup_frames=0\n",
      "drop_frames=0\n",
      "speed=2.27x\n",
      "progress=continue\n"
     ]
    },
    {
     "name": "stderr",
     "output_type": "stream",
     "text": [
      "frame= 8425 fps= 57 q=-0.0 size=N/A time=00:05:35.76 bitrate=N/A speed=2.27x    \r"
     ]
    },
    {
     "name": "stdout",
     "output_type": "stream",
     "text": [
      "frame=8425\n",
      "fps=56.94\n",
      "stream_0_0_q=-0.0\n",
      "bitrate=N/A\n",
      "total_size=N/A\n",
      "out_time_us=335760000\n",
      "out_time_ms=335760000\n",
      "out_time=00:05:35.760000\n",
      "dup_frames=0\n",
      "drop_frames=0\n",
      "speed=2.27x\n",
      "progress=continue\n",
      "frame=8444\n",
      "fps=56.88\n",
      "stream_0_0_q=-0.0\n",
      "bitrate=N/A\n",
      "total_size=N/A\n",
      "out_time_us=336520000\n",
      "out_time_ms=336520000\n",
      "out_time=00:05:36.520000\n",
      "dup_frames=0\n",
      "drop_frames=0\n",
      "speed=2.27x\n",
      "progress=continue\n"
     ]
    },
    {
     "name": "stderr",
     "output_type": "stream",
     "text": [
      "frame= 8460 fps= 57 q=-0.0 size=N/A time=00:05:37.16 bitrate=N/A speed=2.26x    \r"
     ]
    },
    {
     "name": "stdout",
     "output_type": "stream",
     "text": [
      "frame=8460\n",
      "fps=56.79\n",
      "stream_0_0_q=-0.0\n",
      "bitrate=N/A\n",
      "total_size=N/A\n",
      "out_time_us=337160000\n",
      "out_time_ms=337160000\n",
      "out_time=00:05:37.160000\n",
      "dup_frames=0\n",
      "drop_frames=0\n",
      "speed=2.26x\n",
      "progress=continue\n"
     ]
    },
    {
     "name": "stderr",
     "output_type": "stream",
     "text": [
      "frame= 8482 fps= 57 q=-0.0 size=N/A time=00:05:38.04 bitrate=N/A speed=2.26x    \r"
     ]
    },
    {
     "name": "stdout",
     "output_type": "stream",
     "text": [
      "frame=8482\n",
      "fps=56.74\n",
      "stream_0_0_q=-0.0\n",
      "bitrate=N/A\n",
      "total_size=N/A\n",
      "out_time_us=338040000\n",
      "out_time_ms=338040000\n",
      "out_time=00:05:38.040000\n",
      "dup_frames=0\n",
      "drop_frames=0\n",
      "speed=2.26x\n",
      "progress=continue\n"
     ]
    },
    {
     "name": "stderr",
     "output_type": "stream",
     "text": [
      "frame= 8502 fps= 57 q=-0.0 size=N/A time=00:05:38.84 bitrate=N/A speed=2.26x    \r"
     ]
    },
    {
     "name": "stdout",
     "output_type": "stream",
     "text": [
      "frame=8502\n",
      "fps=56.69\n",
      "stream_0_0_q=-0.0\n",
      "bitrate=N/A\n",
      "total_size=N/A\n",
      "out_time_us=338840000\n",
      "out_time_ms=338840000\n",
      "out_time=00:05:38.840000\n",
      "dup_frames=0\n",
      "drop_frames=0\n",
      "speed=2.26x\n",
      "progress=continue\n"
     ]
    },
    {
     "name": "stderr",
     "output_type": "stream",
     "text": [
      "frame= 8521 fps= 57 q=-0.0 size=N/A time=00:05:39.60 bitrate=N/A speed=2.26x    \r"
     ]
    },
    {
     "name": "stdout",
     "output_type": "stream",
     "text": [
      "frame=8521\n",
      "fps=56.62\n",
      "stream_0_0_q=-0.0\n",
      "bitrate=N/A\n",
      "total_size=N/A\n",
      "out_time_us=339600000\n",
      "out_time_ms=339600000\n",
      "out_time=00:05:39.600000\n",
      "dup_frames=0\n",
      "drop_frames=0\n",
      "speed=2.26x\n",
      "progress=continue\n"
     ]
    },
    {
     "name": "stderr",
     "output_type": "stream",
     "text": [
      "frame= 8539 fps= 57 q=-0.0 size=N/A time=00:05:40.32 bitrate=N/A speed=2.25x    \r"
     ]
    },
    {
     "name": "stdout",
     "output_type": "stream",
     "text": [
      "frame=8539\n",
      "fps=56.55\n",
      "stream_0_0_q=-0.0\n",
      "bitrate=N/A\n",
      "total_size=N/A\n",
      "out_time_us=340320000\n",
      "out_time_ms=340320000\n",
      "out_time=00:05:40.320000\n",
      "dup_frames=0\n",
      "drop_frames=0\n",
      "speed=2.25x\n",
      "progress=continue\n",
      "frame=8558\n",
      "fps=56.48\n",
      "stream_0_0_q=-0.0\n",
      "bitrate=N/A\n",
      "total_size=N/A\n",
      "out_time_us=341080000\n",
      "out_time_ms=341080000\n",
      "out_time=00:05:41.080000\n",
      "dup_frames=0\n",
      "drop_frames=0\n",
      "speed=2.25x\n",
      "progress=continue\n"
     ]
    },
    {
     "name": "stderr",
     "output_type": "stream",
     "text": [
      "frame= 8576 fps= 56 q=-0.0 size=N/A time=00:05:41.80 bitrate=N/A speed=2.25x    \r"
     ]
    },
    {
     "name": "stdout",
     "output_type": "stream",
     "text": [
      "frame=8576\n",
      "fps=56.41\n",
      "stream_0_0_q=-0.0\n",
      "bitrate=N/A\n",
      "total_size=N/A\n",
      "out_time_us=341800000\n",
      "out_time_ms=341800000\n",
      "out_time=00:05:41.800000\n",
      "dup_frames=0\n",
      "drop_frames=0\n",
      "speed=2.25x\n",
      "progress=continue\n",
      "frame=8595\n",
      "fps=56.35\n",
      "stream_0_0_q=-0.0\n",
      "bitrate=N/A\n",
      "total_size=N/A\n",
      "out_time_us=342560000\n",
      "out_time_ms=342560000\n",
      "out_time=00:05:42.560000\n",
      "dup_frames=0\n",
      "drop_frames=0\n",
      "speed=2.25x\n",
      "progress=continue\n"
     ]
    },
    {
     "name": "stderr",
     "output_type": "stream",
     "text": [
      "frame= 8615 fps= 56 q=-0.0 size=N/A time=00:05:43.36 bitrate=N/A speed=2.24x    \r"
     ]
    },
    {
     "name": "stdout",
     "output_type": "stream",
     "text": [
      "frame=8615\n",
      "fps=56.29\n",
      "stream_0_0_q=-0.0\n",
      "bitrate=N/A\n",
      "total_size=N/A\n",
      "out_time_us=343360000\n",
      "out_time_ms=343360000\n",
      "out_time=00:05:43.360000\n",
      "dup_frames=0\n",
      "drop_frames=0\n",
      "speed=2.24x\n",
      "progress=continue\n"
     ]
    },
    {
     "name": "stderr",
     "output_type": "stream",
     "text": [
      "frame= 8632 fps= 56 q=-0.0 size=N/A time=00:05:44.04 bitrate=N/A speed=2.24x    \r"
     ]
    },
    {
     "name": "stdout",
     "output_type": "stream",
     "text": [
      "frame=8632\n",
      "fps=56.21\n",
      "stream_0_0_q=-0.0\n",
      "bitrate=N/A\n",
      "total_size=N/A\n",
      "out_time_us=344040000\n",
      "out_time_ms=344040000\n",
      "out_time=00:05:44.040000\n",
      "dup_frames=0\n",
      "drop_frames=0\n",
      "speed=2.24x\n",
      "progress=continue\n",
      "frame=8650\n",
      "fps=56.15\n",
      "stream_0_0_q=-0.0\n",
      "bitrate=N/A\n",
      "total_size=N/A\n",
      "out_time_us=344760000\n",
      "out_time_ms=344760000\n",
      "out_time=00:05:44.760000\n",
      "dup_frames=0\n",
      "drop_frames=0\n",
      "speed=2.24x\n",
      "progress=continue\n"
     ]
    },
    {
     "name": "stderr",
     "output_type": "stream",
     "text": [
      "frame= 8650 fps= 56 q=-0.0 size=N/A time=00:05:44.76 bitrate=N/A speed=2.24x    \r"
     ]
    },
    {
     "name": "stdout",
     "output_type": "stream",
     "text": [
      "frame=8668\n",
      "fps=56.07\n",
      "stream_0_0_q=-0.0\n",
      "bitrate=N/A\n",
      "total_size=N/A\n",
      "out_time_us=345480000\n",
      "out_time_ms=345480000\n",
      "out_time=00:05:45.480000\n",
      "dup_frames=0\n",
      "drop_frames=0\n",
      "speed=2.23x\n",
      "progress=continue\n"
     ]
    },
    {
     "name": "stderr",
     "output_type": "stream",
     "text": [
      "frame= 8668 fps= 56 q=-0.0 size=N/A time=00:05:45.48 bitrate=N/A speed=2.23x    \r"
     ]
    },
    {
     "name": "stdout",
     "output_type": "stream",
     "text": [
      "frame=8687\n",
      "fps=56.01\n",
      "stream_0_0_q=-0.0\n",
      "bitrate=N/A\n",
      "total_size=N/A\n",
      "out_time_us=346240000\n",
      "out_time_ms=346240000\n",
      "out_time=00:05:46.240000\n",
      "dup_frames=0\n",
      "drop_frames=0\n",
      "speed=2.23x\n",
      "progress=continue\n"
     ]
    },
    {
     "name": "stderr",
     "output_type": "stream",
     "text": [
      "frame= 8702 fps= 56 q=-0.0 size=N/A time=00:05:46.84 bitrate=N/A speed=2.23x    \r"
     ]
    },
    {
     "name": "stdout",
     "output_type": "stream",
     "text": [
      "frame=8702\n",
      "fps=55.92\n",
      "stream_0_0_q=-0.0\n",
      "bitrate=N/A\n",
      "total_size=N/A\n",
      "out_time_us=346840000\n",
      "out_time_ms=346840000\n",
      "out_time=00:05:46.840000\n",
      "dup_frames=0\n",
      "drop_frames=0\n",
      "speed=2.23x\n",
      "progress=continue\n"
     ]
    },
    {
     "name": "stderr",
     "output_type": "stream",
     "text": [
      "frame= 8720 fps= 56 q=-0.0 size=N/A time=00:05:47.56 bitrate=N/A speed=2.23x    \r"
     ]
    },
    {
     "name": "stdout",
     "output_type": "stream",
     "text": [
      "frame=8720\n",
      "fps=55.85\n",
      "stream_0_0_q=-0.0\n",
      "bitrate=N/A\n",
      "total_size=N/A\n",
      "out_time_us=347560000\n",
      "out_time_ms=347560000\n",
      "out_time=00:05:47.560000\n",
      "dup_frames=0\n",
      "drop_frames=0\n",
      "speed=2.23x\n",
      "progress=continue\n"
     ]
    },
    {
     "name": "stderr",
     "output_type": "stream",
     "text": [
      "frame= 8739 fps= 56 q=-0.0 size=N/A time=00:05:48.32 bitrate=N/A speed=2.22x    \r"
     ]
    },
    {
     "name": "stdout",
     "output_type": "stream",
     "text": [
      "frame=8739\n",
      "fps=55.79\n",
      "stream_0_0_q=-0.0\n",
      "bitrate=N/A\n",
      "total_size=N/A\n",
      "out_time_us=348320000\n",
      "out_time_ms=348320000\n",
      "out_time=00:05:48.320000\n",
      "dup_frames=0\n",
      "drop_frames=0\n",
      "speed=2.22x\n",
      "progress=continue\n"
     ]
    },
    {
     "name": "stderr",
     "output_type": "stream",
     "text": [
      "frame= 8758 fps= 56 q=-0.0 size=N/A time=00:05:49.08 bitrate=N/A speed=2.22x    \r"
     ]
    },
    {
     "name": "stdout",
     "output_type": "stream",
     "text": [
      "frame=8758\n",
      "fps=55.73\n",
      "stream_0_0_q=-0.0\n",
      "bitrate=N/A\n",
      "total_size=N/A\n",
      "out_time_us=349080000\n",
      "out_time_ms=349080000\n",
      "out_time=00:05:49.080000\n",
      "dup_frames=0\n",
      "drop_frames=0\n",
      "speed=2.22x\n",
      "progress=continue\n"
     ]
    },
    {
     "name": "stderr",
     "output_type": "stream",
     "text": [
      "frame= 8773 fps= 56 q=-0.0 size=N/A time=00:05:49.68 bitrate=N/A speed=2.22x    \r"
     ]
    },
    {
     "name": "stdout",
     "output_type": "stream",
     "text": [
      "frame=8773\n",
      "fps=55.64\n",
      "stream_0_0_q=-0.0\n",
      "bitrate=N/A\n",
      "total_size=N/A\n",
      "out_time_us=349680000\n",
      "out_time_ms=349680000\n",
      "out_time=00:05:49.680000\n",
      "dup_frames=0\n",
      "drop_frames=0\n",
      "speed=2.22x\n",
      "progress=continue\n"
     ]
    },
    {
     "name": "stderr",
     "output_type": "stream",
     "text": [
      "frame= 8792 fps= 56 q=-0.0 size=N/A time=00:05:50.44 bitrate=N/A speed=2.22x    \r"
     ]
    },
    {
     "name": "stdout",
     "output_type": "stream",
     "text": [
      "frame=8792\n",
      "fps=55.58\n",
      "stream_0_0_q=-0.0\n",
      "bitrate=N/A\n",
      "total_size=N/A\n",
      "out_time_us=350440000\n",
      "out_time_ms=350440000\n",
      "out_time=00:05:50.440000\n",
      "dup_frames=0\n",
      "drop_frames=0\n",
      "speed=2.22x\n",
      "progress=continue\n"
     ]
    },
    {
     "name": "stderr",
     "output_type": "stream",
     "text": [
      "frame= 8807 fps= 55 q=-0.0 size=N/A time=00:05:51.04 bitrate=N/A speed=2.21x    \r"
     ]
    },
    {
     "name": "stdout",
     "output_type": "stream",
     "text": [
      "frame=8807\n",
      "fps=55.49\n",
      "stream_0_0_q=-0.0\n",
      "bitrate=N/A\n",
      "total_size=N/A\n",
      "out_time_us=351040000\n",
      "out_time_ms=351040000\n",
      "out_time=00:05:51.040000\n",
      "dup_frames=0\n",
      "drop_frames=0\n",
      "speed=2.21x\n",
      "progress=continue\n"
     ]
    },
    {
     "name": "stderr",
     "output_type": "stream",
     "text": [
      "frame= 8828 fps= 55 q=-0.0 size=N/A time=00:05:51.88 bitrate=N/A speed=2.21x    \r"
     ]
    },
    {
     "name": "stdout",
     "output_type": "stream",
     "text": [
      "frame=8828\n",
      "fps=55.44\n",
      "stream_0_0_q=-0.0\n",
      "bitrate=N/A\n",
      "total_size=N/A\n",
      "out_time_us=351880000\n",
      "out_time_ms=351880000\n",
      "out_time=00:05:51.880000\n",
      "dup_frames=0\n",
      "drop_frames=0\n",
      "speed=2.21x\n",
      "progress=continue\n"
     ]
    },
    {
     "name": "stderr",
     "output_type": "stream",
     "text": [
      "frame= 8845 fps= 55 q=-0.0 size=N/A time=00:05:52.56 bitrate=N/A speed=2.21x    \r"
     ]
    },
    {
     "name": "stdout",
     "output_type": "stream",
     "text": [
      "frame=8845\n",
      "fps=55.37\n",
      "stream_0_0_q=-0.0\n",
      "bitrate=N/A\n",
      "total_size=N/A\n",
      "out_time_us=352560000\n",
      "out_time_ms=352560000\n",
      "out_time=00:05:52.560000\n",
      "dup_frames=0\n",
      "drop_frames=0\n",
      "speed=2.21x\n",
      "progress=continue\n"
     ]
    },
    {
     "name": "stderr",
     "output_type": "stream",
     "text": [
      "frame= 8864 fps= 55 q=-0.0 size=N/A time=00:05:53.32 bitrate=N/A speed= 2.2x    \r"
     ]
    },
    {
     "name": "stdout",
     "output_type": "stream",
     "text": [
      "frame=8864\n",
      "fps=55.31\n",
      "stream_0_0_q=-0.0\n",
      "bitrate=N/A\n",
      "total_size=N/A\n",
      "out_time_us=353320000\n",
      "out_time_ms=353320000\n",
      "out_time=00:05:53.320000\n",
      "dup_frames=0\n",
      "drop_frames=0\n",
      "speed= 2.2x\n",
      "progress=continue\n"
     ]
    },
    {
     "name": "stderr",
     "output_type": "stream",
     "text": [
      "frame= 8876 fps= 55 q=-0.0 size=N/A time=00:05:53.80 bitrate=N/A speed= 2.2x    \r"
     ]
    },
    {
     "name": "stdout",
     "output_type": "stream",
     "text": [
      "frame=8876\n",
      "fps=55.21\n",
      "stream_0_0_q=-0.0\n",
      "bitrate=N/A\n",
      "total_size=N/A\n",
      "out_time_us=353800000\n",
      "out_time_ms=353800000\n",
      "out_time=00:05:53.800000\n",
      "dup_frames=0\n",
      "drop_frames=0\n",
      "speed= 2.2x\n",
      "progress=continue\n"
     ]
    },
    {
     "name": "stderr",
     "output_type": "stream",
     "text": [
      "frame= 8890 fps= 55 q=-0.0 size=N/A time=00:05:54.36 bitrate=N/A speed= 2.2x    \r"
     ]
    },
    {
     "name": "stdout",
     "output_type": "stream",
     "text": [
      "frame=8890\n",
      "fps=55.12\n",
      "stream_0_0_q=-0.0\n",
      "bitrate=N/A\n",
      "total_size=N/A\n",
      "out_time_us=354360000\n",
      "out_time_ms=354360000\n",
      "out_time=00:05:54.360000\n",
      "dup_frames=0\n",
      "drop_frames=0\n",
      "speed= 2.2x\n",
      "progress=continue\n",
      "frame=8912\n",
      "fps=55.07\n",
      "stream_0_0_q=-0.0\n",
      "bitrate=N/A\n",
      "total_size=N/A\n",
      "out_time_us=355240000\n",
      "out_time_ms=355240000\n",
      "out_time=00:05:55.240000\n",
      "dup_frames=0\n",
      "drop_frames=0\n",
      "speed= 2.2x\n",
      "progress=continue\n"
     ]
    },
    {
     "name": "stderr",
     "output_type": "stream",
     "text": [
      "frame= 8938 fps= 55 q=-0.0 size=N/A time=00:05:56.28 bitrate=N/A speed=2.19x    \r"
     ]
    },
    {
     "name": "stdout",
     "output_type": "stream",
     "text": [
      "frame=8938\n",
      "fps=55.05\n",
      "stream_0_0_q=-0.0\n",
      "bitrate=N/A\n",
      "total_size=N/A\n",
      "out_time_us=356280000\n",
      "out_time_ms=356280000\n",
      "out_time=00:05:56.280000\n",
      "dup_frames=0\n",
      "drop_frames=0\n",
      "speed=2.19x\n",
      "progress=continue\n"
     ]
    },
    {
     "name": "stderr",
     "output_type": "stream",
     "text": [
      "frame= 8956 fps= 55 q=-0.0 size=N/A time=00:05:57.00 bitrate=N/A speed=2.19x    \r"
     ]
    },
    {
     "name": "stdout",
     "output_type": "stream",
     "text": [
      "frame=8956\n",
      "fps=54.99\n",
      "stream_0_0_q=-0.0\n",
      "bitrate=N/A\n",
      "total_size=N/A\n",
      "out_time_us=357000000\n",
      "out_time_ms=357000000\n",
      "out_time=00:05:57.000000\n",
      "dup_frames=0\n",
      "drop_frames=0\n",
      "speed=2.19x\n",
      "progress=continue\n"
     ]
    },
    {
     "name": "stderr",
     "output_type": "stream",
     "text": [
      "frame= 8975 fps= 55 q=-0.0 size=N/A time=00:05:57.76 bitrate=N/A speed=2.19x    \r"
     ]
    },
    {
     "name": "stdout",
     "output_type": "stream",
     "text": [
      "frame=8975\n",
      "fps=54.94\n",
      "stream_0_0_q=-0.0\n",
      "bitrate=N/A\n",
      "total_size=N/A\n",
      "out_time_us=357760000\n",
      "out_time_ms=357760000\n",
      "out_time=00:05:57.760000\n",
      "dup_frames=0\n",
      "drop_frames=0\n",
      "speed=2.19x\n",
      "progress=continue\n"
     ]
    },
    {
     "name": "stderr",
     "output_type": "stream",
     "text": [
      "frame= 8991 fps= 55 q=-0.0 size=N/A time=00:05:58.40 bitrate=N/A speed=2.19x    \r"
     ]
    },
    {
     "name": "stdout",
     "output_type": "stream",
     "text": [
      "frame=8991\n",
      "fps=54.87\n",
      "stream_0_0_q=-0.0\n",
      "bitrate=N/A\n",
      "total_size=N/A\n",
      "out_time_us=358400000\n",
      "out_time_ms=358400000\n",
      "out_time=00:05:58.400000\n",
      "dup_frames=0\n",
      "drop_frames=0\n",
      "speed=2.19x\n",
      "progress=continue\n",
      "frame=9010\n",
      "fps=54.81\n",
      "stream_0_0_q=-0.0\n",
      "bitrate=N/A\n",
      "total_size=N/A\n",
      "out_time_us=359160000\n",
      "out_time_ms=359160000\n",
      "out_time=00:05:59.160000\n",
      "dup_frames=0\n",
      "drop_frames=0\n",
      "speed=2.18x\n",
      "progress=continue\n"
     ]
    },
    {
     "name": "stderr",
     "output_type": "stream",
     "text": [
      "frame= 9028 fps= 55 q=-0.0 size=N/A time=00:05:59.88 bitrate=N/A speed=2.18x    \r"
     ]
    },
    {
     "name": "stdout",
     "output_type": "stream",
     "text": [
      "frame=9028\n",
      "fps=54.75\n",
      "stream_0_0_q=-0.0\n",
      "bitrate=N/A\n",
      "total_size=N/A\n",
      "out_time_us=359880000\n",
      "out_time_ms=359880000\n",
      "out_time=00:05:59.880000\n",
      "dup_frames=0\n",
      "drop_frames=0\n",
      "speed=2.18x\n",
      "progress=continue\n"
     ]
    },
    {
     "name": "stderr",
     "output_type": "stream",
     "text": [
      "frame= 9047 fps= 55 q=-0.0 size=N/A time=00:06:00.64 bitrate=N/A speed=2.18x    \r"
     ]
    },
    {
     "name": "stdout",
     "output_type": "stream",
     "text": [
      "frame=9047\n",
      "fps=54.69\n",
      "stream_0_0_q=-0.0\n",
      "bitrate=N/A\n",
      "total_size=N/A\n",
      "out_time_us=360640000\n",
      "out_time_ms=360640000\n",
      "out_time=00:06:00.640000\n",
      "dup_frames=0\n",
      "drop_frames=0\n",
      "speed=2.18x\n",
      "progress=continue\n",
      "frame=9063\n",
      "fps=54.62\n",
      "stream_0_0_q=-0.0\n",
      "bitrate=N/A\n",
      "total_size=N/A\n",
      "out_time_us=361280000\n",
      "out_time_ms=361280000\n",
      "out_time=00:06:01.280000\n",
      "dup_frames=0\n",
      "drop_frames=0\n",
      "speed=2.18x\n",
      "progress=continue\n"
     ]
    },
    {
     "name": "stderr",
     "output_type": "stream",
     "text": [
      "frame= 9079 fps= 55 q=-0.0 size=N/A time=00:06:01.92 bitrate=N/A speed=2.17x    \r"
     ]
    },
    {
     "name": "stdout",
     "output_type": "stream",
     "text": [
      "frame=9079\n",
      "fps=54.56\n",
      "stream_0_0_q=-0.0\n",
      "bitrate=N/A\n",
      "total_size=N/A\n",
      "out_time_us=361920000\n",
      "out_time_ms=361920000\n",
      "out_time=00:06:01.920000\n",
      "dup_frames=0\n",
      "drop_frames=0\n",
      "speed=2.17x\n",
      "progress=continue\n"
     ]
    },
    {
     "name": "stderr",
     "output_type": "stream",
     "text": [
      "frame= 9097 fps= 54 q=-0.0 size=N/A time=00:06:02.64 bitrate=N/A speed=2.17x    \r"
     ]
    },
    {
     "name": "stdout",
     "output_type": "stream",
     "text": [
      "frame=9097\n",
      "fps=54.49\n",
      "stream_0_0_q=-0.0\n",
      "bitrate=N/A\n",
      "total_size=N/A\n",
      "out_time_us=362640000\n",
      "out_time_ms=362640000\n",
      "out_time=00:06:02.640000\n",
      "dup_frames=0\n",
      "drop_frames=0\n",
      "speed=2.17x\n",
      "progress=continue\n"
     ]
    },
    {
     "name": "stderr",
     "output_type": "stream",
     "text": [
      "frame= 9115 fps= 54 q=-0.0 size=N/A time=00:06:03.36 bitrate=N/A speed=2.17x    \r"
     ]
    },
    {
     "name": "stdout",
     "output_type": "stream",
     "text": [
      "frame=9115\n",
      "fps=54.44\n",
      "stream_0_0_q=-0.0\n",
      "bitrate=N/A\n",
      "total_size=N/A\n",
      "out_time_us=363360000\n",
      "out_time_ms=363360000\n",
      "out_time=00:06:03.360000\n",
      "dup_frames=0\n",
      "drop_frames=0\n",
      "speed=2.17x\n",
      "progress=continue\n"
     ]
    },
    {
     "name": "stderr",
     "output_type": "stream",
     "text": [
      "frame= 9134 fps= 54 q=-0.0 size=N/A time=00:06:04.12 bitrate=N/A speed=2.17x    \r"
     ]
    },
    {
     "name": "stdout",
     "output_type": "stream",
     "text": [
      "frame=9134\n",
      "fps=54.39\n",
      "stream_0_0_q=-0.0\n",
      "bitrate=N/A\n",
      "total_size=N/A\n",
      "out_time_us=364120000\n",
      "out_time_ms=364120000\n",
      "out_time=00:06:04.120000\n",
      "dup_frames=0\n",
      "drop_frames=0\n",
      "speed=2.17x\n",
      "progress=continue\n"
     ]
    },
    {
     "name": "stderr",
     "output_type": "stream",
     "text": [
      "frame= 9152 fps= 54 q=-0.0 size=N/A time=00:06:04.84 bitrate=N/A speed=2.17x    \r"
     ]
    },
    {
     "name": "stdout",
     "output_type": "stream",
     "text": [
      "frame=9152\n",
      "fps=54.32\n",
      "stream_0_0_q=-0.0\n",
      "bitrate=N/A\n",
      "total_size=N/A\n",
      "out_time_us=364840000\n",
      "out_time_ms=364840000\n",
      "out_time=00:06:04.840000\n",
      "dup_frames=0\n",
      "drop_frames=0\n",
      "speed=2.17x\n",
      "progress=continue\n",
      "frame=9170\n",
      "fps=54.26\n",
      "stream_0_0_q=-0.0\n",
      "bitrate=N/A\n",
      "total_size=N/A\n",
      "out_time_us=365560000\n",
      "out_time_ms=365560000\n",
      "out_time=00:06:05.560000\n",
      "dup_frames=0\n",
      "drop_frames=0\n",
      "speed=2.16x\n",
      "progress=continue\n"
     ]
    },
    {
     "name": "stderr",
     "output_type": "stream",
     "text": [
      "frame= 9187 fps= 54 q=-0.0 size=N/A time=00:06:06.24 bitrate=N/A speed=2.16x    \r"
     ]
    },
    {
     "name": "stdout",
     "output_type": "stream",
     "text": [
      "frame=9187\n",
      "fps=54.20\n",
      "stream_0_0_q=-0.0\n",
      "bitrate=N/A\n",
      "total_size=N/A\n",
      "out_time_us=366240000\n",
      "out_time_ms=366240000\n",
      "out_time=00:06:06.240000\n",
      "dup_frames=0\n",
      "drop_frames=0\n",
      "speed=2.16x\n",
      "progress=continue\n",
      "frame=9205\n",
      "fps=54.14\n",
      "stream_0_0_q=-0.0\n",
      "bitrate=N/A\n",
      "total_size=N/A\n",
      "out_time_us=366960000\n",
      "out_time_ms=366960000\n",
      "out_time=00:06:06.960000\n",
      "dup_frames=0\n",
      "drop_frames=0\n",
      "speed=2.16x\n",
      "progress=continue\n"
     ]
    },
    {
     "name": "stderr",
     "output_type": "stream",
     "text": [
      "frame= 9224 fps= 54 q=-0.0 size=N/A time=00:06:07.72 bitrate=N/A speed=2.16x    \r"
     ]
    },
    {
     "name": "stdout",
     "output_type": "stream",
     "text": [
      "frame=9224\n",
      "fps=54.08\n",
      "stream_0_0_q=-0.0\n",
      "bitrate=N/A\n",
      "total_size=N/A\n",
      "out_time_us=367720000\n",
      "out_time_ms=367720000\n",
      "out_time=00:06:07.720000\n",
      "dup_frames=0\n",
      "drop_frames=0\n",
      "speed=2.16x\n",
      "progress=continue\n",
      "frame=9242\n",
      "fps=54.02\n",
      "stream_0_0_q=-0.0\n",
      "bitrate=N/A\n",
      "total_size=N/A\n",
      "out_time_us=368440000\n",
      "out_time_ms=368440000\n",
      "out_time=00:06:08.440000\n",
      "dup_frames=0\n",
      "drop_frames=0\n",
      "speed=2.15x\n",
      "progress=continue\n"
     ]
    },
    {
     "name": "stderr",
     "output_type": "stream",
     "text": [
      "frame= 9261 fps= 54 q=-0.0 size=N/A time=00:06:09.20 bitrate=N/A speed=2.15x    \r"
     ]
    },
    {
     "name": "stdout",
     "output_type": "stream",
     "text": [
      "frame=9261\n",
      "fps=53.97\n",
      "stream_0_0_q=-0.0\n",
      "bitrate=N/A\n",
      "total_size=N/A\n",
      "out_time_us=369200000\n",
      "out_time_ms=369200000\n",
      "out_time=00:06:09.200000\n",
      "dup_frames=0\n",
      "drop_frames=0\n",
      "speed=2.15x\n",
      "progress=continue\n"
     ]
    },
    {
     "name": "stderr",
     "output_type": "stream",
     "text": [
      "frame= 9275 fps= 54 q=-0.0 size=N/A time=00:06:09.76 bitrate=N/A speed=2.15x    \r"
     ]
    },
    {
     "name": "stdout",
     "output_type": "stream",
     "text": [
      "frame=9275\n",
      "fps=53.87\n",
      "stream_0_0_q=-0.0\n",
      "bitrate=N/A\n",
      "total_size=N/A\n",
      "out_time_us=369760000\n",
      "out_time_ms=369760000\n",
      "out_time=00:06:09.760000\n",
      "dup_frames=0\n",
      "drop_frames=0\n",
      "speed=2.15x\n",
      "progress=continue\n",
      "frame=9298\n",
      "fps=53.84\n",
      "stream_0_0_q=-0.0\n",
      "bitrate=N/A\n",
      "total_size=N/A\n",
      "out_time_us=370680000\n",
      "out_time_ms=370680000\n",
      "out_time=00:06:10.680000\n",
      "dup_frames=0\n",
      "drop_frames=0\n",
      "speed=2.15x\n",
      "progress=continue\n"
     ]
    },
    {
     "name": "stderr",
     "output_type": "stream",
     "text": [
      "frame= 9298 fps= 54 q=-0.0 size=N/A time=00:06:10.68 bitrate=N/A speed=2.15x    \r"
     ]
    },
    {
     "name": "stdout",
     "output_type": "stream",
     "text": [
      "frame=9316\n",
      "fps=53.77\n",
      "stream_0_0_q=-0.0\n",
      "bitrate=N/A\n",
      "total_size=N/A\n",
      "out_time_us=371400000\n",
      "out_time_ms=371400000\n",
      "out_time=00:06:11.400000\n",
      "dup_frames=0\n",
      "drop_frames=0\n",
      "speed=2.14x\n",
      "progress=continue\n"
     ]
    },
    {
     "name": "stderr",
     "output_type": "stream",
     "text": [
      "frame= 9316 fps= 54 q=-0.0 size=N/A time=00:06:11.40 bitrate=N/A speed=2.14x    \r"
     ]
    },
    {
     "name": "stdout",
     "output_type": "stream",
     "text": [
      "frame=9329\n",
      "fps=53.69\n",
      "stream_0_0_q=-0.0\n",
      "bitrate=N/A\n",
      "total_size=N/A\n",
      "out_time_us=371920000\n",
      "out_time_ms=371920000\n",
      "out_time=00:06:11.920000\n",
      "dup_frames=0\n",
      "drop_frames=0\n",
      "speed=2.14x\n",
      "progress=continue\n"
     ]
    },
    {
     "name": "stderr",
     "output_type": "stream",
     "text": [
      "frame= 9329 fps= 54 q=-0.0 size=N/A time=00:06:11.92 bitrate=N/A speed=2.14x    \r"
     ]
    },
    {
     "name": "stdout",
     "output_type": "stream",
     "text": [
      "frame=9352\n",
      "fps=53.66\n",
      "stream_0_0_q=-0.0\n",
      "bitrate=N/A\n",
      "total_size=N/A\n",
      "out_time_us=372840000\n",
      "out_time_ms=372840000\n",
      "out_time=00:06:12.840000\n",
      "dup_frames=0\n",
      "drop_frames=0\n",
      "speed=2.14x\n",
      "progress=continue\n"
     ]
    },
    {
     "name": "stderr",
     "output_type": "stream",
     "text": [
      "frame= 9352 fps= 54 q=-0.0 size=N/A time=00:06:12.84 bitrate=N/A speed=2.14x    \r"
     ]
    },
    {
     "name": "stdout",
     "output_type": "stream",
     "text": [
      "frame=9370\n",
      "fps=53.60\n",
      "stream_0_0_q=-0.0\n",
      "bitrate=N/A\n",
      "total_size=N/A\n",
      "out_time_us=373560000\n",
      "out_time_ms=373560000\n",
      "out_time=00:06:13.560000\n",
      "dup_frames=0\n",
      "drop_frames=0\n",
      "speed=2.14x\n",
      "progress=continue\n"
     ]
    },
    {
     "name": "stderr",
     "output_type": "stream",
     "text": [
      "frame= 9370 fps= 54 q=-0.0 size=N/A time=00:06:13.56 bitrate=N/A speed=2.14x    \r"
     ]
    },
    {
     "name": "stdout",
     "output_type": "stream",
     "text": [
      "frame=9389\n",
      "fps=53.55\n",
      "stream_0_0_q=-0.0\n",
      "bitrate=N/A\n",
      "total_size=N/A\n",
      "out_time_us=374320000\n",
      "out_time_ms=374320000\n",
      "out_time=00:06:14.320000\n",
      "dup_frames=0\n",
      "drop_frames=0\n",
      "speed=2.13x\n",
      "progress=continue\n"
     ]
    },
    {
     "name": "stderr",
     "output_type": "stream",
     "text": [
      "frame= 9389 fps= 54 q=-0.0 size=N/A time=00:06:14.32 bitrate=N/A speed=2.13x    \r"
     ]
    },
    {
     "name": "stdout",
     "output_type": "stream",
     "text": [
      "frame=9405\n",
      "fps=53.49\n",
      "stream_0_0_q=-0.0\n",
      "bitrate=N/A\n",
      "total_size=N/A\n",
      "out_time_us=374960000\n",
      "out_time_ms=374960000\n",
      "out_time=00:06:14.960000\n",
      "dup_frames=0\n",
      "drop_frames=0\n",
      "speed=2.13x\n",
      "progress=continue\n"
     ]
    },
    {
     "name": "stderr",
     "output_type": "stream",
     "text": [
      "frame= 9405 fps= 53 q=-0.0 size=N/A time=00:06:14.96 bitrate=N/A speed=2.13x    \r"
     ]
    },
    {
     "name": "stdout",
     "output_type": "stream",
     "text": [
      "frame=9425\n",
      "fps=53.45\n",
      "stream_0_0_q=-0.0\n",
      "bitrate=N/A\n",
      "total_size=N/A\n",
      "out_time_us=375760000\n",
      "out_time_ms=375760000\n",
      "out_time=00:06:15.760000\n",
      "dup_frames=0\n",
      "drop_frames=0\n",
      "speed=2.13x\n",
      "progress=continue\n"
     ]
    },
    {
     "name": "stderr",
     "output_type": "stream",
     "text": [
      "frame= 9425 fps= 53 q=-0.0 size=N/A time=00:06:15.76 bitrate=N/A speed=2.13x    \r"
     ]
    },
    {
     "name": "stdout",
     "output_type": "stream",
     "text": [
      "frame=9444\n",
      "fps=53.40\n",
      "stream_0_0_q=-0.0\n",
      "bitrate=N/A\n",
      "total_size=N/A\n",
      "out_time_us=376520000\n",
      "out_time_ms=376520000\n",
      "out_time=00:06:16.520000\n",
      "dup_frames=0\n",
      "drop_frames=0\n",
      "speed=2.13x\n",
      "progress=continue\n"
     ]
    },
    {
     "name": "stderr",
     "output_type": "stream",
     "text": [
      "frame= 9444 fps= 53 q=-0.0 size=N/A time=00:06:16.52 bitrate=N/A speed=2.13x    \r"
     ]
    },
    {
     "name": "stdout",
     "output_type": "stream",
     "text": [
      "frame=9463\n",
      "fps=53.35\n",
      "stream_0_0_q=-0.0\n",
      "bitrate=N/A\n",
      "total_size=N/A\n",
      "out_time_us=377280000\n",
      "out_time_ms=377280000\n",
      "out_time=00:06:17.280000\n",
      "dup_frames=0\n",
      "drop_frames=0\n",
      "speed=2.13x\n",
      "progress=continue\n"
     ]
    },
    {
     "name": "stderr",
     "output_type": "stream",
     "text": [
      "frame= 9463 fps= 53 q=-0.0 size=N/A time=00:06:17.28 bitrate=N/A speed=2.13x    \r"
     ]
    },
    {
     "name": "stdout",
     "output_type": "stream",
     "text": [
      "frame=9483\n",
      "fps=53.31\n",
      "stream_0_0_q=-0.0\n",
      "bitrate=N/A\n",
      "total_size=N/A\n",
      "out_time_us=378080000\n",
      "out_time_ms=378080000\n",
      "out_time=00:06:18.080000\n",
      "dup_frames=0\n",
      "drop_frames=0\n",
      "speed=2.13x\n",
      "progress=continue\n"
     ]
    },
    {
     "name": "stderr",
     "output_type": "stream",
     "text": [
      "frame= 9483 fps= 53 q=-0.0 size=N/A time=00:06:18.08 bitrate=N/A speed=2.13x    \r"
     ]
    },
    {
     "name": "stdout",
     "output_type": "stream",
     "text": [
      "frame=9501\n",
      "fps=53.26\n",
      "stream_0_0_q=-0.0\n",
      "bitrate=N/A\n",
      "total_size=N/A\n",
      "out_time_us=378800000\n",
      "out_time_ms=378800000\n",
      "out_time=00:06:18.800000\n",
      "dup_frames=0\n",
      "drop_frames=0\n",
      "speed=2.12x\n",
      "progress=continue\n"
     ]
    },
    {
     "name": "stderr",
     "output_type": "stream",
     "text": [
      "frame= 9501 fps= 53 q=-0.0 size=N/A time=00:06:18.80 bitrate=N/A speed=2.12x    \r"
     ]
    },
    {
     "name": "stdout",
     "output_type": "stream",
     "text": [
      "frame=9517\n",
      "fps=53.19\n",
      "stream_0_0_q=-0.0\n",
      "bitrate=N/A\n",
      "total_size=N/A\n",
      "out_time_us=379440000\n",
      "out_time_ms=379440000\n",
      "out_time=00:06:19.440000\n",
      "dup_frames=0\n",
      "drop_frames=0\n",
      "speed=2.12x\n",
      "progress=continue\n"
     ]
    },
    {
     "name": "stderr",
     "output_type": "stream",
     "text": [
      "frame= 9517 fps= 53 q=-0.0 size=N/A time=00:06:19.44 bitrate=N/A speed=2.12x    \r"
     ]
    },
    {
     "name": "stdout",
     "output_type": "stream",
     "text": [
      "frame=9530\n",
      "fps=53.11\n",
      "stream_0_0_q=-0.0\n",
      "bitrate=N/A\n",
      "total_size=N/A\n",
      "out_time_us=379960000\n",
      "out_time_ms=379960000\n",
      "out_time=00:06:19.960000\n",
      "dup_frames=0\n",
      "drop_frames=0\n",
      "speed=2.12x\n",
      "progress=continue\n"
     ]
    },
    {
     "name": "stderr",
     "output_type": "stream",
     "text": [
      "frame= 9530 fps= 53 q=-0.0 size=N/A time=00:06:19.96 bitrate=N/A speed=2.12x    \r"
     ]
    },
    {
     "name": "stdout",
     "output_type": "stream",
     "text": [
      "frame=9545\n",
      "fps=53.04\n",
      "stream_0_0_q=-0.0\n",
      "bitrate=N/A\n",
      "total_size=N/A\n",
      "out_time_us=380560000\n",
      "out_time_ms=380560000\n",
      "out_time=00:06:20.560000\n",
      "dup_frames=0\n",
      "drop_frames=0\n",
      "speed=2.11x\n",
      "progress=continue\n"
     ]
    },
    {
     "name": "stderr",
     "output_type": "stream",
     "text": [
      "frame= 9545 fps= 53 q=-0.0 size=N/A time=00:06:20.56 bitrate=N/A speed=2.11x    \r"
     ]
    },
    {
     "name": "stdout",
     "output_type": "stream",
     "text": [
      "frame=9556\n",
      "fps=52.95\n",
      "stream_0_0_q=-0.0\n",
      "bitrate=N/A\n",
      "total_size=N/A\n",
      "out_time_us=381000000\n",
      "out_time_ms=381000000\n",
      "out_time=00:06:21.000000\n",
      "dup_frames=0\n",
      "drop_frames=0\n",
      "speed=2.11x\n",
      "progress=continue\n"
     ]
    },
    {
     "name": "stderr",
     "output_type": "stream",
     "text": [
      "frame= 9556 fps= 53 q=-0.0 size=N/A time=00:06:21.00 bitrate=N/A speed=2.11x    \r"
     ]
    },
    {
     "name": "stdout",
     "output_type": "stream",
     "text": [
      "frame=9588\n",
      "fps=52.98\n",
      "stream_0_0_q=-0.0\n",
      "bitrate=N/A\n",
      "total_size=N/A\n",
      "out_time_us=382280000\n",
      "out_time_ms=382280000\n",
      "out_time=00:06:22.280000\n",
      "dup_frames=0\n",
      "drop_frames=0\n",
      "speed=2.11x\n",
      "progress=continue\n"
     ]
    },
    {
     "name": "stderr",
     "output_type": "stream",
     "text": [
      "frame= 9588 fps= 53 q=-0.0 size=N/A time=00:06:22.28 bitrate=N/A speed=2.11x    \r"
     ]
    },
    {
     "name": "stdout",
     "output_type": "stream",
     "text": [
      "frame=9605\n",
      "fps=52.92\n",
      "stream_0_0_q=-0.0\n",
      "bitrate=N/A\n",
      "total_size=N/A\n",
      "out_time_us=382960000\n",
      "out_time_ms=382960000\n",
      "out_time=00:06:22.960000\n",
      "dup_frames=0\n",
      "drop_frames=0\n",
      "speed=2.11x\n",
      "progress=continue\n"
     ]
    },
    {
     "name": "stderr",
     "output_type": "stream",
     "text": [
      "frame= 9622 fps= 53 q=-0.0 size=N/A time=00:06:23.64 bitrate=N/A speed=2.11x    \r"
     ]
    },
    {
     "name": "stdout",
     "output_type": "stream",
     "text": [
      "frame=9622\n",
      "fps=52.87\n",
      "stream_0_0_q=-0.0\n",
      "bitrate=N/A\n",
      "total_size=N/A\n",
      "out_time_us=383640000\n",
      "out_time_ms=383640000\n",
      "out_time=00:06:23.640000\n",
      "dup_frames=0\n",
      "drop_frames=0\n",
      "speed=2.11x\n",
      "progress=continue\n"
     ]
    },
    {
     "name": "stderr",
     "output_type": "stream",
     "text": [
      "frame= 9639 fps= 53 q=-0.0 size=N/A time=00:06:24.32 bitrate=N/A speed=2.11x    \r"
     ]
    },
    {
     "name": "stdout",
     "output_type": "stream",
     "text": [
      "frame=9639\n",
      "fps=52.81\n",
      "stream_0_0_q=-0.0\n",
      "bitrate=N/A\n",
      "total_size=N/A\n",
      "out_time_us=384320000\n",
      "out_time_ms=384320000\n",
      "out_time=00:06:24.320000\n",
      "dup_frames=0\n",
      "drop_frames=0\n",
      "speed=2.11x\n",
      "progress=continue\n"
     ]
    },
    {
     "name": "stderr",
     "output_type": "stream",
     "text": [
      "frame= 9656 fps= 53 q=-0.0 size=N/A time=00:06:25.00 bitrate=N/A speed= 2.1x    \r"
     ]
    },
    {
     "name": "stdout",
     "output_type": "stream",
     "text": [
      "frame=9656\n",
      "fps=52.76\n",
      "stream_0_0_q=-0.0\n",
      "bitrate=N/A\n",
      "total_size=N/A\n",
      "out_time_us=385000000\n",
      "out_time_ms=385000000\n",
      "out_time=00:06:25.000000\n",
      "dup_frames=0\n",
      "drop_frames=0\n",
      "speed= 2.1x\n",
      "progress=continue\n",
      "frame=9672\n",
      "fps=52.70\n",
      "stream_0_0_q=-0.0\n",
      "bitrate=N/A\n",
      "total_size=N/A\n",
      "out_time_us=385640000\n",
      "out_time_ms=385640000\n",
      "out_time=00:06:25.640000\n",
      "dup_frames=0\n",
      "drop_frames=0\n",
      "speed= 2.1x\n",
      "progress=continue\n"
     ]
    },
    {
     "name": "stderr",
     "output_type": "stream",
     "text": [
      "frame= 9672 fps= 53 q=-0.0 size=N/A time=00:06:25.64 bitrate=N/A speed= 2.1x    \r"
     ]
    },
    {
     "name": "stdout",
     "output_type": "stream",
     "text": [
      "frame=9688\n",
      "fps=52.64\n",
      "stream_0_0_q=-0.0\n",
      "bitrate=N/A\n",
      "total_size=N/A\n",
      "out_time_us=386280000\n",
      "out_time_ms=386280000\n",
      "out_time=00:06:26.280000\n",
      "dup_frames=0\n",
      "drop_frames=0\n",
      "speed= 2.1x\n",
      "progress=continue\n"
     ]
    },
    {
     "name": "stderr",
     "output_type": "stream",
     "text": [
      "frame= 9688 fps= 53 q=-0.0 size=N/A time=00:06:26.28 bitrate=N/A speed= 2.1x    \r"
     ]
    },
    {
     "name": "stdout",
     "output_type": "stream",
     "text": [
      "frame=9702\n",
      "fps=52.57\n",
      "stream_0_0_q=-0.0\n",
      "bitrate=N/A\n",
      "total_size=N/A\n",
      "out_time_us=386840000\n",
      "out_time_ms=386840000\n",
      "out_time=00:06:26.840000\n",
      "dup_frames=0\n",
      "drop_frames=0\n",
      "speed= 2.1x\n",
      "progress=continue\n"
     ]
    },
    {
     "name": "stderr",
     "output_type": "stream",
     "text": [
      "frame= 9702 fps= 53 q=-0.0 size=N/A time=00:06:26.84 bitrate=N/A speed= 2.1x    \r"
     ]
    },
    {
     "name": "stdout",
     "output_type": "stream",
     "text": [
      "frame=9718\n",
      "fps=52.51\n",
      "stream_0_0_q=-0.0\n",
      "bitrate=N/A\n",
      "total_size=N/A\n",
      "out_time_us=387480000\n",
      "out_time_ms=387480000\n",
      "out_time=00:06:27.480000\n",
      "dup_frames=0\n",
      "drop_frames=0\n",
      "speed=2.09x\n",
      "progress=continue\n"
     ]
    },
    {
     "name": "stderr",
     "output_type": "stream",
     "text": [
      "frame= 9718 fps= 53 q=-0.0 size=N/A time=00:06:27.48 bitrate=N/A speed=2.09x    \r"
     ]
    },
    {
     "name": "stdout",
     "output_type": "stream",
     "text": [
      "frame=9737\n",
      "fps=52.47\n",
      "stream_0_0_q=-0.0\n",
      "bitrate=N/A\n",
      "total_size=N/A\n",
      "out_time_us=388240000\n",
      "out_time_ms=388240000\n",
      "out_time=00:06:28.240000\n",
      "dup_frames=0\n",
      "drop_frames=0\n",
      "speed=2.09x\n",
      "progress=continue\n"
     ]
    },
    {
     "name": "stderr",
     "output_type": "stream",
     "text": [
      "frame= 9737 fps= 52 q=-0.0 size=N/A time=00:06:28.24 bitrate=N/A speed=2.09x    \r"
     ]
    },
    {
     "name": "stdout",
     "output_type": "stream",
     "text": [
      "frame=9752\n",
      "fps=52.40\n",
      "stream_0_0_q=-0.0\n",
      "bitrate=N/A\n",
      "total_size=N/A\n",
      "out_time_us=388840000\n",
      "out_time_ms=388840000\n",
      "out_time=00:06:28.840000\n",
      "dup_frames=0\n",
      "drop_frames=0\n",
      "speed=2.09x\n",
      "progress=continue\n"
     ]
    },
    {
     "name": "stderr",
     "output_type": "stream",
     "text": [
      "frame= 9752 fps= 52 q=-0.0 size=N/A time=00:06:28.84 bitrate=N/A speed=2.09x    \r"
     ]
    },
    {
     "name": "stdout",
     "output_type": "stream",
     "text": [
      "frame=9770\n",
      "fps=52.35\n",
      "stream_0_0_q=-0.0\n",
      "bitrate=N/A\n",
      "total_size=N/A\n",
      "out_time_us=389560000\n",
      "out_time_ms=389560000\n",
      "out_time=00:06:29.560000\n",
      "dup_frames=0\n",
      "drop_frames=0\n",
      "speed=2.09x\n",
      "progress=continue\n"
     ]
    },
    {
     "name": "stderr",
     "output_type": "stream",
     "text": [
      "frame= 9770 fps= 52 q=-0.0 size=N/A time=00:06:29.56 bitrate=N/A speed=2.09x    \r"
     ]
    },
    {
     "name": "stdout",
     "output_type": "stream",
     "text": [
      "frame=9784\n",
      "fps=52.28\n",
      "stream_0_0_q=-0.0\n",
      "bitrate=N/A\n",
      "total_size=N/A\n",
      "out_time_us=390120000\n",
      "out_time_ms=390120000\n",
      "out_time=00:06:30.120000\n",
      "dup_frames=0\n",
      "drop_frames=0\n",
      "speed=2.08x\n",
      "progress=continue\n"
     ]
    },
    {
     "name": "stderr",
     "output_type": "stream",
     "text": [
      "frame= 9784 fps= 52 q=-0.0 size=N/A time=00:06:30.12 bitrate=N/A speed=2.08x    \r"
     ]
    },
    {
     "name": "stdout",
     "output_type": "stream",
     "text": [
      "frame=9804\n",
      "fps=52.25\n",
      "stream_0_0_q=-0.0\n",
      "bitrate=N/A\n",
      "total_size=N/A\n",
      "out_time_us=390920000\n",
      "out_time_ms=390920000\n",
      "out_time=00:06:30.920000\n",
      "dup_frames=0\n",
      "drop_frames=0\n",
      "speed=2.08x\n",
      "progress=continue\n"
     ]
    },
    {
     "name": "stderr",
     "output_type": "stream",
     "text": [
      "frame= 9804 fps= 52 q=-0.0 size=N/A time=00:06:30.92 bitrate=N/A speed=2.08x    \r"
     ]
    },
    {
     "name": "stdout",
     "output_type": "stream",
     "text": [
      "frame=9823\n",
      "fps=52.20\n",
      "stream_0_0_q=-0.0\n",
      "bitrate=N/A\n",
      "total_size=N/A\n",
      "out_time_us=391680000\n",
      "out_time_ms=391680000\n",
      "out_time=00:06:31.680000\n",
      "dup_frames=0\n",
      "drop_frames=0\n",
      "speed=2.08x\n",
      "progress=continue\n"
     ]
    },
    {
     "name": "stderr",
     "output_type": "stream",
     "text": [
      "frame= 9841 fps= 52 q=-0.0 size=N/A time=00:06:32.40 bitrate=N/A speed=2.08x    \r"
     ]
    },
    {
     "name": "stdout",
     "output_type": "stream",
     "text": [
      "frame=9841\n",
      "fps=52.16\n",
      "stream_0_0_q=-0.0\n",
      "bitrate=N/A\n",
      "total_size=N/A\n",
      "out_time_us=392400000\n",
      "out_time_ms=392400000\n",
      "out_time=00:06:32.400000\n",
      "dup_frames=0\n",
      "drop_frames=0\n",
      "speed=2.08x\n",
      "progress=continue\n",
      "frame=9848\n",
      "fps=52.06\n",
      "stream_0_0_q=-0.0\n",
      "bitrate=N/A\n",
      "total_size=N/A\n",
      "out_time_us=392680000\n",
      "out_time_ms=392680000\n",
      "out_time=00:06:32.680000\n",
      "dup_frames=0\n",
      "drop_frames=0\n",
      "speed=2.08x\n",
      "progress=continue\n"
     ]
    },
    {
     "name": "stderr",
     "output_type": "stream",
     "text": [
      "frame= 9875 fps= 52 q=-0.0 size=N/A time=00:06:33.76 bitrate=N/A speed=2.08x    \r"
     ]
    },
    {
     "name": "stdout",
     "output_type": "stream",
     "text": [
      "frame=9875\n",
      "fps=52.06\n",
      "stream_0_0_q=-0.0\n",
      "bitrate=N/A\n",
      "total_size=N/A\n",
      "out_time_us=393760000\n",
      "out_time_ms=393760000\n",
      "out_time=00:06:33.760000\n",
      "dup_frames=0\n",
      "drop_frames=0\n",
      "speed=2.08x\n",
      "progress=continue\n"
     ]
    },
    {
     "name": "stderr",
     "output_type": "stream",
     "text": [
      "frame= 9891 fps= 52 q=-0.0 size=N/A time=00:06:34.40 bitrate=N/A speed=2.07x    \r"
     ]
    },
    {
     "name": "stdout",
     "output_type": "stream",
     "text": [
      "frame=9891\n",
      "fps=52.00\n",
      "stream_0_0_q=-0.0\n",
      "bitrate=N/A\n",
      "total_size=N/A\n",
      "out_time_us=394400000\n",
      "out_time_ms=394400000\n",
      "out_time=00:06:34.400000\n",
      "dup_frames=0\n",
      "drop_frames=0\n",
      "speed=2.07x\n",
      "progress=continue\n"
     ]
    },
    {
     "name": "stderr",
     "output_type": "stream",
     "text": [
      "frame= 9911 fps= 52 q=-0.0 size=N/A time=00:06:35.20 bitrate=N/A speed=2.07x    \r"
     ]
    },
    {
     "name": "stdout",
     "output_type": "stream",
     "text": [
      "frame=9911\n",
      "fps=51.96\n",
      "stream_0_0_q=-0.0\n",
      "bitrate=N/A\n",
      "total_size=N/A\n",
      "out_time_us=395200000\n",
      "out_time_ms=395200000\n",
      "out_time=00:06:35.200000\n",
      "dup_frames=0\n",
      "drop_frames=0\n",
      "speed=2.07x\n",
      "progress=continue\n"
     ]
    },
    {
     "name": "stderr",
     "output_type": "stream",
     "text": [
      "frame= 9927 fps= 52 q=-0.0 size=N/A time=00:06:35.84 bitrate=N/A speed=2.07x    \r"
     ]
    },
    {
     "name": "stdout",
     "output_type": "stream",
     "text": [
      "frame=9927\n",
      "fps=51.88\n",
      "stream_0_0_q=-0.0\n",
      "bitrate=N/A\n",
      "total_size=N/A\n",
      "out_time_us=395840000\n",
      "out_time_ms=395840000\n",
      "out_time=00:06:35.840000\n",
      "dup_frames=0\n",
      "drop_frames=0\n",
      "speed=2.07x\n",
      "progress=continue\n",
      "frame=9954\n",
      "fps=51.87\n",
      "stream_0_0_q=-0.0\n",
      "bitrate=N/A\n",
      "total_size=N/A\n",
      "out_time_us=396920000\n",
      "out_time_ms=396920000\n",
      "out_time=00:06:36.920000\n",
      "dup_frames=0\n",
      "drop_frames=0\n",
      "speed=2.07x\n",
      "progress=continue\n"
     ]
    },
    {
     "name": "stderr",
     "output_type": "stream",
     "text": [
      "frame= 9954 fps= 52 q=-0.0 size=N/A time=00:06:36.92 bitrate=N/A speed=2.07x    \r"
     ]
    },
    {
     "name": "stdout",
     "output_type": "stream",
     "text": [
      "frame=9972\n",
      "fps=51.83\n",
      "stream_0_0_q=-0.0\n",
      "bitrate=N/A\n",
      "total_size=N/A\n",
      "out_time_us=397640000\n",
      "out_time_ms=397640000\n",
      "out_time=00:06:37.640000\n",
      "dup_frames=0\n",
      "drop_frames=0\n",
      "speed=2.07x\n",
      "progress=continue\n"
     ]
    },
    {
     "name": "stderr",
     "output_type": "stream",
     "text": [
      "frame= 9972 fps= 52 q=-0.0 size=N/A time=00:06:37.64 bitrate=N/A speed=2.07x    \r"
     ]
    },
    {
     "name": "stdout",
     "output_type": "stream",
     "text": [
      "frame=9983\n",
      "fps=51.74\n",
      "stream_0_0_q=-0.0\n",
      "bitrate=N/A\n",
      "total_size=N/A\n",
      "out_time_us=398080000\n",
      "out_time_ms=398080000\n",
      "out_time=00:06:38.080000\n",
      "dup_frames=0\n",
      "drop_frames=0\n",
      "speed=2.06x\n",
      "progress=continue\n"
     ]
    },
    {
     "name": "stderr",
     "output_type": "stream",
     "text": [
      "frame=10010 fps= 52 q=-0.0 size=N/A time=00:06:39.16 bitrate=N/A speed=2.06x    \r"
     ]
    },
    {
     "name": "stdout",
     "output_type": "stream",
     "text": [
      "frame=10010\n",
      "fps=51.74\n",
      "stream_0_0_q=-0.0\n",
      "bitrate=N/A\n",
      "total_size=N/A\n",
      "out_time_us=399160000\n",
      "out_time_ms=399160000\n",
      "out_time=00:06:39.160000\n",
      "dup_frames=0\n",
      "drop_frames=0\n",
      "speed=2.06x\n",
      "progress=continue\n"
     ]
    },
    {
     "name": "stderr",
     "output_type": "stream",
     "text": [
      "frame=10022 fps= 52 q=-0.0 size=N/A time=00:06:39.64 bitrate=N/A speed=2.06x    \r"
     ]
    },
    {
     "name": "stdout",
     "output_type": "stream",
     "text": [
      "frame=10022\n",
      "fps=51.66\n",
      "stream_0_0_q=-0.0\n",
      "bitrate=N/A\n",
      "total_size=N/A\n",
      "out_time_us=399640000\n",
      "out_time_ms=399640000\n",
      "out_time=00:06:39.640000\n",
      "dup_frames=0\n",
      "drop_frames=0\n",
      "speed=2.06x\n",
      "progress=continue\n",
      "frame=10044\n",
      "fps=51.63\n",
      "stream_0_0_q=-0.0\n",
      "bitrate=N/A\n",
      "total_size=N/A\n",
      "out_time_us=400520000\n",
      "out_time_ms=400520000\n",
      "out_time=00:06:40.520000\n",
      "dup_frames=0\n",
      "drop_frames=0\n",
      "speed=2.06x\n",
      "progress=continue\n"
     ]
    },
    {
     "name": "stderr",
     "output_type": "stream",
     "text": [
      "frame=10044 fps= 52 q=-0.0 size=N/A time=00:06:40.52 bitrate=N/A speed=2.06x    \r"
     ]
    },
    {
     "name": "stdout",
     "output_type": "stream",
     "text": [
      "frame=10063\n",
      "fps=51.59\n",
      "stream_0_0_q=-0.0\n",
      "bitrate=N/A\n",
      "total_size=N/A\n",
      "out_time_us=401280000\n",
      "out_time_ms=401280000\n",
      "out_time=00:06:41.280000\n",
      "dup_frames=0\n",
      "drop_frames=0\n",
      "speed=2.06x\n",
      "progress=continue\n"
     ]
    },
    {
     "name": "stderr",
     "output_type": "stream",
     "text": [
      "frame=10063 fps= 52 q=-0.0 size=N/A time=00:06:41.28 bitrate=N/A speed=2.06x    \r"
     ]
    },
    {
     "name": "stdout",
     "output_type": "stream",
     "text": [
      "frame=10082\n",
      "fps=51.56\n",
      "stream_0_0_q=-0.0\n",
      "bitrate=N/A\n",
      "total_size=N/A\n",
      "out_time_us=402040000\n",
      "out_time_ms=402040000\n",
      "out_time=00:06:42.040000\n",
      "dup_frames=0\n",
      "drop_frames=0\n",
      "speed=2.06x\n",
      "progress=continue\n"
     ]
    },
    {
     "name": "stderr",
     "output_type": "stream",
     "text": [
      "frame=10082 fps= 52 q=-0.0 size=N/A time=00:06:42.04 bitrate=N/A speed=2.06x    \r"
     ]
    },
    {
     "name": "stdout",
     "output_type": "stream",
     "text": [
      "frame=10099\n",
      "fps=51.51\n",
      "stream_0_0_q=-0.0\n",
      "bitrate=N/A\n",
      "total_size=N/A\n",
      "out_time_us=402720000\n",
      "out_time_ms=402720000\n",
      "out_time=00:06:42.720000\n",
      "dup_frames=0\n",
      "drop_frames=0\n",
      "speed=2.05x\n",
      "progress=continue\n"
     ]
    },
    {
     "name": "stderr",
     "output_type": "stream",
     "text": [
      "frame=10117 fps= 51 q=-0.0 size=N/A time=00:06:43.44 bitrate=N/A speed=2.05x    \r"
     ]
    },
    {
     "name": "stdout",
     "output_type": "stream",
     "text": [
      "frame=10117\n",
      "fps=51.47\n",
      "stream_0_0_q=-0.0\n",
      "bitrate=N/A\n",
      "total_size=N/A\n",
      "out_time_us=403440000\n",
      "out_time_ms=403440000\n",
      "out_time=00:06:43.440000\n",
      "dup_frames=0\n",
      "drop_frames=0\n",
      "speed=2.05x\n",
      "progress=continue\n",
      "frame=10136\n",
      "fps=51.43\n",
      "stream_0_0_q=-0.0\n",
      "bitrate=N/A\n",
      "total_size=N/A\n",
      "out_time_us=404200000\n",
      "out_time_ms=404200000\n",
      "out_time=00:06:44.200000\n",
      "dup_frames=0\n",
      "drop_frames=0\n",
      "speed=2.05x\n",
      "progress=continue\n"
     ]
    },
    {
     "name": "stderr",
     "output_type": "stream",
     "text": [
      "frame=10154 fps= 51 q=-0.0 size=N/A time=00:06:44.92 bitrate=N/A speed=2.05x    \r"
     ]
    },
    {
     "name": "stdout",
     "output_type": "stream",
     "text": [
      "frame=10154\n",
      "fps=51.39\n",
      "stream_0_0_q=-0.0\n",
      "bitrate=N/A\n",
      "total_size=N/A\n",
      "out_time_us=404920000\n",
      "out_time_ms=404920000\n",
      "out_time=00:06:44.920000\n",
      "dup_frames=0\n",
      "drop_frames=0\n",
      "speed=2.05x\n",
      "progress=continue\n",
      "frame=10172\n",
      "fps=51.35\n",
      "stream_0_0_q=-0.0\n",
      "bitrate=N/A\n",
      "total_size=N/A\n",
      "out_time_us=405640000\n",
      "out_time_ms=405640000\n",
      "out_time=00:06:45.640000\n",
      "dup_frames=0\n",
      "drop_frames=0\n",
      "speed=2.05x\n",
      "progress=continue\n"
     ]
    },
    {
     "name": "stderr",
     "output_type": "stream",
     "text": [
      "frame=10172 fps= 51 q=-0.0 size=N/A time=00:06:45.64 bitrate=N/A speed=2.05x    \r"
     ]
    },
    {
     "name": "stdout",
     "output_type": "stream",
     "text": [
      "frame=10189\n",
      "fps=51.30\n",
      "stream_0_0_q=-0.0\n",
      "bitrate=N/A\n",
      "total_size=N/A\n",
      "out_time_us=406320000\n",
      "out_time_ms=406320000\n",
      "out_time=00:06:46.320000\n",
      "dup_frames=0\n",
      "drop_frames=0\n",
      "speed=2.05x\n",
      "progress=continue\n"
     ]
    },
    {
     "name": "stderr",
     "output_type": "stream",
     "text": [
      "frame=10206 fps= 51 q=-0.0 size=N/A time=00:06:47.00 bitrate=N/A speed=2.04x    \r"
     ]
    },
    {
     "name": "stdout",
     "output_type": "stream",
     "text": [
      "frame=10206\n",
      "fps=51.25\n",
      "stream_0_0_q=-0.0\n",
      "bitrate=N/A\n",
      "total_size=N/A\n",
      "out_time_us=407000000\n",
      "out_time_ms=407000000\n",
      "out_time=00:06:47.000000\n",
      "dup_frames=0\n",
      "drop_frames=0\n",
      "speed=2.04x\n",
      "progress=continue\n",
      "frame=10222\n",
      "fps=51.20\n",
      "stream_0_0_q=-0.0\n",
      "bitrate=N/A\n",
      "total_size=N/A\n",
      "out_time_us=407640000\n",
      "out_time_ms=407640000\n",
      "out_time=00:06:47.640000\n",
      "dup_frames=0\n",
      "drop_frames=0\n",
      "speed=2.04x\n",
      "progress=continue\n"
     ]
    },
    {
     "name": "stderr",
     "output_type": "stream",
     "text": [
      "frame=10222 fps= 51 q=-0.0 size=N/A time=00:06:47.64 bitrate=N/A speed=2.04x    \r"
     ]
    },
    {
     "name": "stdout",
     "output_type": "stream",
     "text": [
      "frame=10239\n",
      "fps=51.16\n",
      "stream_0_0_q=-0.0\n",
      "bitrate=N/A\n",
      "total_size=N/A\n",
      "out_time_us=408320000\n",
      "out_time_ms=408320000\n",
      "out_time=00:06:48.320000\n",
      "dup_frames=0\n",
      "drop_frames=0\n",
      "speed=2.04x\n",
      "progress=continue\n"
     ]
    },
    {
     "name": "stderr",
     "output_type": "stream",
     "text": [
      "frame=10239 fps= 51 q=-0.0 size=N/A time=00:06:48.32 bitrate=N/A speed=2.04x    \r"
     ]
    },
    {
     "name": "stdout",
     "output_type": "stream",
     "text": [
      "frame=10256\n",
      "fps=51.09\n",
      "stream_0_0_q=-0.0\n",
      "bitrate=N/A\n",
      "total_size=N/A\n",
      "out_time_us=409000000\n",
      "out_time_ms=409000000\n",
      "out_time=00:06:49.000000\n",
      "dup_frames=0\n",
      "drop_frames=0\n",
      "speed=2.04x\n",
      "progress=continue\n"
     ]
    },
    {
     "name": "stderr",
     "output_type": "stream",
     "text": [
      "frame=10256 fps= 51 q=-0.0 size=N/A time=00:06:49.00 bitrate=N/A speed=2.04x    \r"
     ]
    },
    {
     "name": "stdout",
     "output_type": "stream",
     "text": [
      "frame=10277\n",
      "fps=51.07\n",
      "stream_0_0_q=-0.0\n",
      "bitrate=N/A\n",
      "total_size=N/A\n",
      "out_time_us=409840000\n",
      "out_time_ms=409840000\n",
      "out_time=00:06:49.840000\n",
      "dup_frames=0\n",
      "drop_frames=0\n",
      "speed=2.04x\n",
      "progress=continue\n"
     ]
    },
    {
     "name": "stderr",
     "output_type": "stream",
     "text": [
      "frame=10277 fps= 51 q=-0.0 size=N/A time=00:06:49.84 bitrate=N/A speed=2.04x    \r"
     ]
    },
    {
     "name": "stdout",
     "output_type": "stream",
     "text": [
      "frame=10296\n",
      "fps=51.03\n",
      "stream_0_0_q=-0.0\n",
      "bitrate=N/A\n",
      "total_size=N/A\n",
      "out_time_us=410600000\n",
      "out_time_ms=410600000\n",
      "out_time=00:06:50.600000\n",
      "dup_frames=0\n",
      "drop_frames=0\n",
      "speed=2.04x\n",
      "progress=continue\n"
     ]
    },
    {
     "name": "stderr",
     "output_type": "stream",
     "text": [
      "frame=10314 fps= 51 q=-0.0 size=N/A time=00:06:51.32 bitrate=N/A speed=2.03x    \r"
     ]
    },
    {
     "name": "stdout",
     "output_type": "stream",
     "text": [
      "frame=10314\n",
      "fps=50.97\n",
      "stream_0_0_q=-0.0\n",
      "bitrate=N/A\n",
      "total_size=N/A\n",
      "out_time_us=411320000\n",
      "out_time_ms=411320000\n",
      "out_time=00:06:51.320000\n",
      "dup_frames=0\n",
      "drop_frames=0\n",
      "speed=2.03x\n",
      "progress=continue\n",
      "frame=10336\n",
      "fps=50.95\n",
      "stream_0_0_q=-0.0\n",
      "bitrate=N/A\n",
      "total_size=N/A\n",
      "out_time_us=412200000\n",
      "out_time_ms=412200000\n",
      "out_time=00:06:52.200000\n",
      "dup_frames=0\n",
      "drop_frames=0\n",
      "speed=2.03x\n",
      "progress=continue\n"
     ]
    },
    {
     "name": "stderr",
     "output_type": "stream",
     "text": [
      "frame=10336 fps= 51 q=-0.0 size=N/A time=00:06:52.20 bitrate=N/A speed=2.03x    \r"
     ]
    },
    {
     "name": "stdout",
     "output_type": "stream",
     "text": [
      "frame=10355\n",
      "fps=50.92\n",
      "stream_0_0_q=-0.0\n",
      "bitrate=N/A\n",
      "total_size=N/A\n",
      "out_time_us=412960000\n",
      "out_time_ms=412960000\n",
      "out_time=00:06:52.960000\n",
      "dup_frames=0\n",
      "drop_frames=0\n",
      "speed=2.03x\n",
      "progress=continue\n"
     ]
    },
    {
     "name": "stderr",
     "output_type": "stream",
     "text": [
      "frame=10355 fps= 51 q=-0.0 size=N/A time=00:06:52.96 bitrate=N/A speed=2.03x    \r"
     ]
    },
    {
     "name": "stdout",
     "output_type": "stream",
     "text": [
      "frame=10373\n",
      "fps=50.87\n",
      "stream_0_0_q=-0.0\n",
      "bitrate=N/A\n",
      "total_size=N/A\n",
      "out_time_us=413680000\n",
      "out_time_ms=413680000\n",
      "out_time=00:06:53.680000\n",
      "dup_frames=0\n",
      "drop_frames=0\n",
      "speed=2.03x\n",
      "progress=continue\n"
     ]
    },
    {
     "name": "stderr",
     "output_type": "stream",
     "text": [
      "frame=10373 fps= 51 q=-0.0 size=N/A time=00:06:53.68 bitrate=N/A speed=2.03x    \r"
     ]
    },
    {
     "name": "stdout",
     "output_type": "stream",
     "text": [
      "frame=10391\n",
      "fps=50.83\n",
      "stream_0_0_q=-0.0\n",
      "bitrate=N/A\n",
      "total_size=N/A\n",
      "out_time_us=414400000\n",
      "out_time_ms=414400000\n",
      "out_time=00:06:54.400000\n",
      "dup_frames=0\n",
      "drop_frames=0\n",
      "speed=2.03x\n",
      "progress=continue\n"
     ]
    },
    {
     "name": "stderr",
     "output_type": "stream",
     "text": [
      "frame=10391 fps= 51 q=-0.0 size=N/A time=00:06:54.40 bitrate=N/A speed=2.03x    \r"
     ]
    },
    {
     "name": "stdout",
     "output_type": "stream",
     "text": [
      "frame=10406\n",
      "fps=50.78\n",
      "stream_0_0_q=-0.0\n",
      "bitrate=N/A\n",
      "total_size=N/A\n",
      "out_time_us=415000000\n",
      "out_time_ms=415000000\n",
      "out_time=00:06:55.000000\n",
      "dup_frames=0\n",
      "drop_frames=0\n",
      "speed=2.03x\n",
      "progress=continue\n"
     ]
    },
    {
     "name": "stderr",
     "output_type": "stream",
     "text": [
      "frame=10406 fps= 51 q=-0.0 size=N/A time=00:06:55.00 bitrate=N/A speed=2.03x    \r"
     ]
    },
    {
     "name": "stdout",
     "output_type": "stream",
     "text": [
      "frame=10424\n",
      "fps=50.74\n",
      "stream_0_0_q=-0.0\n",
      "bitrate=N/A\n",
      "total_size=N/A\n",
      "out_time_us=415720000\n",
      "out_time_ms=415720000\n",
      "out_time=00:06:55.720000\n",
      "dup_frames=0\n",
      "drop_frames=0\n",
      "speed=2.02x\n",
      "progress=continue\n"
     ]
    },
    {
     "name": "stderr",
     "output_type": "stream",
     "text": [
      "frame=10424 fps= 51 q=-0.0 size=N/A time=00:06:55.72 bitrate=N/A speed=2.02x    \r"
     ]
    },
    {
     "name": "stdout",
     "output_type": "stream",
     "text": [
      "frame=10441\n",
      "fps=50.69\n",
      "stream_0_0_q=-0.0\n",
      "bitrate=N/A\n",
      "total_size=N/A\n",
      "out_time_us=416400000\n",
      "out_time_ms=416400000\n",
      "out_time=00:06:56.400000\n",
      "dup_frames=0\n",
      "drop_frames=0\n",
      "speed=2.02x\n",
      "progress=continue\n"
     ]
    },
    {
     "name": "stderr",
     "output_type": "stream",
     "text": [
      "frame=10459 fps= 51 q=-0.0 size=N/A time=00:06:57.12 bitrate=N/A speed=2.02x    \r"
     ]
    },
    {
     "name": "stdout",
     "output_type": "stream",
     "text": [
      "frame=10459\n",
      "fps=50.66\n",
      "stream_0_0_q=-0.0\n",
      "bitrate=N/A\n",
      "total_size=N/A\n",
      "out_time_us=417120000\n",
      "out_time_ms=417120000\n",
      "out_time=00:06:57.120000\n",
      "dup_frames=0\n",
      "drop_frames=0\n",
      "speed=2.02x\n",
      "progress=continue\n"
     ]
    },
    {
     "name": "stderr",
     "output_type": "stream",
     "text": [
      "frame=10478 fps= 51 q=-0.0 size=N/A time=00:06:57.88 bitrate=N/A speed=2.02x    \r"
     ]
    },
    {
     "name": "stdout",
     "output_type": "stream",
     "text": [
      "frame=10478\n",
      "fps=50.62\n",
      "stream_0_0_q=-0.0\n",
      "bitrate=N/A\n",
      "total_size=N/A\n",
      "out_time_us=417880000\n",
      "out_time_ms=417880000\n",
      "out_time=00:06:57.880000\n",
      "dup_frames=0\n",
      "drop_frames=0\n",
      "speed=2.02x\n",
      "progress=continue\n"
     ]
    },
    {
     "name": "stderr",
     "output_type": "stream",
     "text": [
      "frame=10495 fps= 51 q=-0.0 size=N/A time=00:06:58.56 bitrate=N/A speed=2.02x    \r"
     ]
    },
    {
     "name": "stdout",
     "output_type": "stream",
     "text": [
      "frame=10495\n",
      "fps=50.58\n",
      "stream_0_0_q=-0.0\n",
      "bitrate=N/A\n",
      "total_size=N/A\n",
      "out_time_us=418560000\n",
      "out_time_ms=418560000\n",
      "out_time=00:06:58.560000\n",
      "dup_frames=0\n",
      "drop_frames=0\n",
      "speed=2.02x\n",
      "progress=continue\n"
     ]
    },
    {
     "name": "stderr",
     "output_type": "stream",
     "text": [
      "frame=10513 fps= 51 q=-0.0 size=N/A time=00:06:59.28 bitrate=N/A speed=2.02x    \r"
     ]
    },
    {
     "name": "stdout",
     "output_type": "stream",
     "text": [
      "frame=10513\n",
      "fps=50.55\n",
      "stream_0_0_q=-0.0\n",
      "bitrate=N/A\n",
      "total_size=N/A\n",
      "out_time_us=419280000\n",
      "out_time_ms=419280000\n",
      "out_time=00:06:59.280000\n",
      "dup_frames=0\n",
      "drop_frames=0\n",
      "speed=2.02x\n",
      "progress=continue\n"
     ]
    },
    {
     "name": "stderr",
     "output_type": "stream",
     "text": [
      "frame=10529 fps= 51 q=-0.0 size=N/A time=00:06:59.92 bitrate=N/A speed=2.01x    \r"
     ]
    },
    {
     "name": "stdout",
     "output_type": "stream",
     "text": [
      "frame=10529\n",
      "fps=50.50\n",
      "stream_0_0_q=-0.0\n",
      "bitrate=N/A\n",
      "total_size=N/A\n",
      "out_time_us=419920000\n",
      "out_time_ms=419920000\n",
      "out_time=00:06:59.920000\n",
      "dup_frames=0\n",
      "drop_frames=0\n",
      "speed=2.01x\n",
      "progress=continue\n",
      "frame=10547\n",
      "fps=50.46\n",
      "stream_0_0_q=-0.0\n",
      "bitrate=N/A\n",
      "total_size=N/A\n",
      "out_time_us=420640000\n",
      "out_time_ms=420640000\n",
      "out_time=00:07:00.640000\n",
      "dup_frames=0\n",
      "drop_frames=0\n",
      "speed=2.01x\n",
      "progress=continue\n"
     ]
    },
    {
     "name": "stderr",
     "output_type": "stream",
     "text": [
      "frame=10565 fps= 50 q=-0.0 size=N/A time=00:07:01.36 bitrate=N/A speed=2.01x    \r"
     ]
    },
    {
     "name": "stdout",
     "output_type": "stream",
     "text": [
      "frame=10565\n",
      "fps=50.42\n",
      "stream_0_0_q=-0.0\n",
      "bitrate=N/A\n",
      "total_size=N/A\n",
      "out_time_us=421360000\n",
      "out_time_ms=421360000\n",
      "out_time=00:07:01.360000\n",
      "dup_frames=0\n",
      "drop_frames=0\n",
      "speed=2.01x\n",
      "progress=continue\n"
     ]
    },
    {
     "name": "stderr",
     "output_type": "stream",
     "text": [
      "frame=10583 fps= 50 q=-0.0 size=N/A time=00:07:02.08 bitrate=N/A speed=2.01x    \r"
     ]
    },
    {
     "name": "stdout",
     "output_type": "stream",
     "text": [
      "frame=10583\n",
      "fps=50.36\n",
      "stream_0_0_q=-0.0\n",
      "bitrate=N/A\n",
      "total_size=N/A\n",
      "out_time_us=422080000\n",
      "out_time_ms=422080000\n",
      "out_time=00:07:02.080000\n",
      "dup_frames=0\n",
      "drop_frames=0\n",
      "speed=2.01x\n",
      "progress=continue\n"
     ]
    },
    {
     "name": "stderr",
     "output_type": "stream",
     "text": [
      "frame=10596 fps= 50 q=-0.0 size=N/A time=00:07:02.60 bitrate=N/A speed=   2x    \r"
     ]
    },
    {
     "name": "stdout",
     "output_type": "stream",
     "text": [
      "frame=10596\n",
      "fps=50.27\n",
      "stream_0_0_q=-0.0\n",
      "bitrate=N/A\n",
      "total_size=N/A\n",
      "out_time_us=422600000\n",
      "out_time_ms=422600000\n",
      "out_time=00:07:02.600000\n",
      "dup_frames=0\n",
      "drop_frames=0\n",
      "speed=   2x\n",
      "progress=continue\n"
     ]
    },
    {
     "name": "stderr",
     "output_type": "stream",
     "text": [
      "frame=10626 fps= 50 q=-0.0 size=N/A time=00:07:03.80 bitrate=N/A speed=2.01x    \r"
     ]
    },
    {
     "name": "stdout",
     "output_type": "stream",
     "text": [
      "frame=10626\n",
      "fps=50.29\n",
      "stream_0_0_q=-0.0\n",
      "bitrate=N/A\n",
      "total_size=N/A\n",
      "out_time_us=423800000\n",
      "out_time_ms=423800000\n",
      "out_time=00:07:03.800000\n",
      "dup_frames=0\n",
      "drop_frames=0\n",
      "speed=2.01x\n",
      "progress=continue\n"
     ]
    },
    {
     "name": "stderr",
     "output_type": "stream",
     "text": [
      "frame=10642 fps= 50 q=-0.0 size=N/A time=00:07:04.44 bitrate=N/A speed=   2x    \r"
     ]
    },
    {
     "name": "stdout",
     "output_type": "stream",
     "text": [
      "frame=10642\n",
      "fps=50.25\n",
      "stream_0_0_q=-0.0\n",
      "bitrate=N/A\n",
      "total_size=N/A\n",
      "out_time_us=424440000\n",
      "out_time_ms=424440000\n",
      "out_time=00:07:04.440000\n",
      "dup_frames=0\n",
      "drop_frames=0\n",
      "speed=   2x\n",
      "progress=continue\n"
     ]
    },
    {
     "name": "stderr",
     "output_type": "stream",
     "text": [
      "frame=10660 fps= 50 q=-0.0 size=N/A time=00:07:05.16 bitrate=N/A speed=   2x    \r"
     ]
    },
    {
     "name": "stdout",
     "output_type": "stream",
     "text": [
      "frame=10660\n",
      "fps=50.21\n",
      "stream_0_0_q=-0.0\n",
      "bitrate=N/A\n",
      "total_size=N/A\n",
      "out_time_us=425160000\n",
      "out_time_ms=425160000\n",
      "out_time=00:07:05.160000\n",
      "dup_frames=0\n",
      "drop_frames=0\n",
      "speed=   2x\n",
      "progress=continue\n"
     ]
    },
    {
     "name": "stderr",
     "output_type": "stream",
     "text": [
      "frame=10678 fps= 50 q=-0.0 size=N/A time=00:07:05.88 bitrate=N/A speed=   2x    \r"
     ]
    },
    {
     "name": "stdout",
     "output_type": "stream",
     "text": [
      "frame=10678\n",
      "fps=50.18\n",
      "stream_0_0_q=-0.0\n",
      "bitrate=N/A\n",
      "total_size=N/A\n",
      "out_time_us=425880000\n",
      "out_time_ms=425880000\n",
      "out_time=00:07:05.880000\n",
      "dup_frames=0\n",
      "drop_frames=0\n",
      "speed=   2x\n",
      "progress=continue\n"
     ]
    },
    {
     "name": "stderr",
     "output_type": "stream",
     "text": [
      "frame=10697 fps= 50 q=-0.0 size=N/A time=00:07:06.64 bitrate=N/A speed=   2x    \r"
     ]
    },
    {
     "name": "stdout",
     "output_type": "stream",
     "text": [
      "frame=10697\n",
      "fps=50.14\n",
      "stream_0_0_q=-0.0\n",
      "bitrate=N/A\n",
      "total_size=N/A\n",
      "out_time_us=426640000\n",
      "out_time_ms=426640000\n",
      "out_time=00:07:06.640000\n",
      "dup_frames=0\n",
      "drop_frames=0\n",
      "speed=   2x\n",
      "progress=continue\n"
     ]
    },
    {
     "name": "stderr",
     "output_type": "stream",
     "text": [
      "frame=10715 fps= 50 q=-0.0 size=N/A time=00:07:07.36 bitrate=N/A speed=   2x    \r"
     ]
    },
    {
     "name": "stdout",
     "output_type": "stream",
     "text": [
      "frame=10715\n",
      "fps=50.11\n",
      "stream_0_0_q=-0.0\n",
      "bitrate=N/A\n",
      "total_size=N/A\n",
      "out_time_us=427360000\n",
      "out_time_ms=427360000\n",
      "out_time=00:07:07.360000\n",
      "dup_frames=0\n",
      "drop_frames=0\n",
      "speed=   2x\n",
      "progress=continue\n"
     ]
    },
    {
     "name": "stderr",
     "output_type": "stream",
     "text": [
      "frame=10730 fps= 50 q=-0.0 size=N/A time=00:07:07.96 bitrate=N/A speed=   2x    \r"
     ]
    },
    {
     "name": "stdout",
     "output_type": "stream",
     "text": [
      "frame=10730\n",
      "fps=50.06\n",
      "stream_0_0_q=-0.0\n",
      "bitrate=N/A\n",
      "total_size=N/A\n",
      "out_time_us=427960000\n",
      "out_time_ms=427960000\n",
      "out_time=00:07:07.960000\n",
      "dup_frames=0\n",
      "drop_frames=0\n",
      "speed=   2x\n",
      "progress=continue\n",
      "frame=10748\n",
      "fps=50.02\n",
      "stream_0_0_q=-0.0\n",
      "bitrate=N/A\n",
      "total_size=N/A\n",
      "out_time_us=428680000\n",
      "out_time_ms=428680000\n",
      "out_time=00:07:08.680000\n",
      "dup_frames=0\n",
      "drop_frames=0\n",
      "speed=   2x\n",
      "progress=continue\n"
     ]
    },
    {
     "name": "stderr",
     "output_type": "stream",
     "text": [
      "frame=10765 fps= 50 q=-0.0 size=N/A time=00:07:09.36 bitrate=N/A speed=1.99x    \r"
     ]
    },
    {
     "name": "stdout",
     "output_type": "stream",
     "text": [
      "frame=10765\n",
      "fps=49.98\n",
      "stream_0_0_q=-0.0\n",
      "bitrate=N/A\n",
      "total_size=N/A\n",
      "out_time_us=429360000\n",
      "out_time_ms=429360000\n",
      "out_time=00:07:09.360000\n",
      "dup_frames=0\n",
      "drop_frames=0\n",
      "speed=1.99x\n",
      "progress=continue\n"
     ]
    },
    {
     "name": "stderr",
     "output_type": "stream",
     "text": [
      "frame=10786 fps= 50 q=-0.0 size=N/A time=00:07:10.20 bitrate=N/A speed=1.99x    \r"
     ]
    },
    {
     "name": "stdout",
     "output_type": "stream",
     "text": [
      "frame=10786\n",
      "fps=49.96\n",
      "stream_0_0_q=-0.0\n",
      "bitrate=N/A\n",
      "total_size=N/A\n",
      "out_time_us=430200000\n",
      "out_time_ms=430200000\n",
      "out_time=00:07:10.200000\n",
      "dup_frames=0\n",
      "drop_frames=0\n",
      "speed=1.99x\n",
      "progress=continue\n"
     ]
    },
    {
     "name": "stderr",
     "output_type": "stream",
     "text": [
      "frame=10804 fps= 50 q=-0.0 size=N/A time=00:07:10.92 bitrate=N/A speed=1.99x    \r"
     ]
    },
    {
     "name": "stdout",
     "output_type": "stream",
     "text": [
      "frame=10804\n",
      "fps=49.93\n",
      "stream_0_0_q=-0.0\n",
      "bitrate=N/A\n",
      "total_size=N/A\n",
      "out_time_us=430920000\n",
      "out_time_ms=430920000\n",
      "out_time=00:07:10.920000\n",
      "dup_frames=0\n",
      "drop_frames=0\n",
      "speed=1.99x\n",
      "progress=continue\n"
     ]
    },
    {
     "name": "stderr",
     "output_type": "stream",
     "text": [
      "frame=10823 fps= 50 q=-0.0 size=N/A time=00:07:11.68 bitrate=N/A speed=1.99x    \r"
     ]
    },
    {
     "name": "stdout",
     "output_type": "stream",
     "text": [
      "frame=10823\n",
      "fps=49.90\n",
      "stream_0_0_q=-0.0\n",
      "bitrate=N/A\n",
      "total_size=N/A\n",
      "out_time_us=431680000\n",
      "out_time_ms=431680000\n",
      "out_time=00:07:11.680000\n",
      "dup_frames=0\n",
      "drop_frames=0\n",
      "speed=1.99x\n",
      "progress=continue\n"
     ]
    },
    {
     "name": "stderr",
     "output_type": "stream",
     "text": [
      "frame=10841 fps= 50 q=-0.0 size=N/A time=00:07:12.40 bitrate=N/A speed=1.99x    \r"
     ]
    },
    {
     "name": "stdout",
     "output_type": "stream",
     "text": [
      "frame=10841\n",
      "fps=49.86\n",
      "stream_0_0_q=-0.0\n",
      "bitrate=N/A\n",
      "total_size=N/A\n",
      "out_time_us=432400000\n",
      "out_time_ms=432400000\n",
      "out_time=00:07:12.400000\n",
      "dup_frames=0\n",
      "drop_frames=0\n",
      "speed=1.99x\n",
      "progress=continue\n",
      "frame=10859\n",
      "fps=49.83\n",
      "stream_0_0_q=-0.0\n",
      "bitrate=N/A\n",
      "total_size=N/A\n",
      "out_time_us=433120000\n",
      "out_time_ms=433120000\n",
      "out_time=00:07:13.120000\n",
      "dup_frames=0\n",
      "drop_frames=0\n",
      "speed=1.99x\n",
      "progress=continue\n"
     ]
    },
    {
     "name": "stderr",
     "output_type": "stream",
     "text": [
      "frame=10877 fps= 50 q=-0.0 size=N/A time=00:07:13.84 bitrate=N/A speed=1.99x    \r"
     ]
    },
    {
     "name": "stdout",
     "output_type": "stream",
     "text": [
      "frame=10877\n",
      "fps=49.80\n",
      "stream_0_0_q=-0.0\n",
      "bitrate=N/A\n",
      "total_size=N/A\n",
      "out_time_us=433840000\n",
      "out_time_ms=433840000\n",
      "out_time=00:07:13.840000\n",
      "dup_frames=0\n",
      "drop_frames=0\n",
      "speed=1.99x\n",
      "progress=continue\n",
      "frame=10895\n",
      "fps=49.76\n",
      "stream_0_0_q=-0.0\n",
      "bitrate=N/A\n",
      "total_size=N/A\n",
      "out_time_us=434560000\n",
      "out_time_ms=434560000\n",
      "out_time=00:07:14.560000\n",
      "dup_frames=0\n",
      "drop_frames=0\n",
      "speed=1.98x\n",
      "progress=continue\n"
     ]
    },
    {
     "name": "stderr",
     "output_type": "stream",
     "text": [
      "frame=10895 fps= 50 q=-0.0 size=N/A time=00:07:14.56 bitrate=N/A speed=1.98x    \r"
     ]
    },
    {
     "name": "stdout",
     "output_type": "stream",
     "text": [
      "frame=10912\n",
      "fps=49.72\n",
      "stream_0_0_q=-0.0\n",
      "bitrate=N/A\n",
      "total_size=N/A\n",
      "out_time_us=435240000\n",
      "out_time_ms=435240000\n",
      "out_time=00:07:15.240000\n",
      "dup_frames=0\n",
      "drop_frames=0\n",
      "speed=1.98x\n",
      "progress=continue\n"
     ]
    },
    {
     "name": "stderr",
     "output_type": "stream",
     "text": [
      "frame=10930 fps= 50 q=-0.0 size=N/A time=00:07:15.96 bitrate=N/A speed=1.98x    \r"
     ]
    },
    {
     "name": "stdout",
     "output_type": "stream",
     "text": [
      "frame=10930\n",
      "fps=49.68\n",
      "stream_0_0_q=-0.0\n",
      "bitrate=N/A\n",
      "total_size=N/A\n",
      "out_time_us=435960000\n",
      "out_time_ms=435960000\n",
      "out_time=00:07:15.960000\n",
      "dup_frames=0\n",
      "drop_frames=0\n",
      "speed=1.98x\n",
      "progress=continue\n"
     ]
    },
    {
     "name": "stderr",
     "output_type": "stream",
     "text": [
      "frame=10947 fps= 50 q=-0.0 size=N/A time=00:07:16.64 bitrate=N/A speed=1.98x    \r"
     ]
    },
    {
     "name": "stdout",
     "output_type": "stream",
     "text": [
      "frame=10947\n",
      "fps=49.65\n",
      "stream_0_0_q=-0.0\n",
      "bitrate=N/A\n",
      "total_size=N/A\n",
      "out_time_us=436640000\n",
      "out_time_ms=436640000\n",
      "out_time=00:07:16.640000\n",
      "dup_frames=0\n",
      "drop_frames=0\n",
      "speed=1.98x\n",
      "progress=continue\n"
     ]
    },
    {
     "name": "stderr",
     "output_type": "stream",
     "text": [
      "frame=10961 fps= 50 q=-0.0 size=N/A time=00:07:17.20 bitrate=N/A speed=1.98x    \r"
     ]
    },
    {
     "name": "stdout",
     "output_type": "stream",
     "text": [
      "frame=10961\n",
      "fps=49.59\n",
      "stream_0_0_q=-0.0\n",
      "bitrate=N/A\n",
      "total_size=N/A\n",
      "out_time_us=437200000\n",
      "out_time_ms=437200000\n",
      "out_time=00:07:17.200000\n",
      "dup_frames=0\n",
      "drop_frames=0\n",
      "speed=1.98x\n",
      "progress=continue\n"
     ]
    },
    {
     "name": "stderr",
     "output_type": "stream",
     "text": [
      "frame=10976 fps= 50 q=-0.0 size=N/A time=00:07:17.80 bitrate=N/A speed=1.98x    \r"
     ]
    },
    {
     "name": "stdout",
     "output_type": "stream",
     "text": [
      "frame=10976\n",
      "fps=49.55\n",
      "stream_0_0_q=-0.0\n",
      "bitrate=N/A\n",
      "total_size=N/A\n",
      "out_time_us=437800000\n",
      "out_time_ms=437800000\n",
      "out_time=00:07:17.800000\n",
      "dup_frames=0\n",
      "drop_frames=0\n",
      "speed=1.98x\n",
      "progress=continue\n"
     ]
    },
    {
     "name": "stderr",
     "output_type": "stream",
     "text": [
      "frame=10992 fps= 50 q=-0.0 size=N/A time=00:07:18.44 bitrate=N/A speed=1.97x    \r"
     ]
    },
    {
     "name": "stdout",
     "output_type": "stream",
     "text": [
      "frame=10992\n",
      "fps=49.51\n",
      "stream_0_0_q=-0.0\n",
      "bitrate=N/A\n",
      "total_size=N/A\n",
      "out_time_us=438440000\n",
      "out_time_ms=438440000\n",
      "out_time=00:07:18.440000\n",
      "dup_frames=0\n",
      "drop_frames=0\n",
      "speed=1.97x\n",
      "progress=continue\n"
     ]
    },
    {
     "name": "stderr",
     "output_type": "stream",
     "text": [
      "frame=11009 fps= 49 q=-0.0 size=N/A time=00:07:19.12 bitrate=N/A speed=1.97x    \r"
     ]
    },
    {
     "name": "stdout",
     "output_type": "stream",
     "text": [
      "frame=11009\n",
      "fps=49.47\n",
      "stream_0_0_q=-0.0\n",
      "bitrate=N/A\n",
      "total_size=N/A\n",
      "out_time_us=439120000\n",
      "out_time_ms=439120000\n",
      "out_time=00:07:19.120000\n",
      "dup_frames=0\n",
      "drop_frames=0\n",
      "speed=1.97x\n",
      "progress=continue\n"
     ]
    },
    {
     "name": "stderr",
     "output_type": "stream",
     "text": [
      "frame=11024 fps= 49 q=-0.0 size=N/A time=00:07:19.72 bitrate=N/A speed=1.97x    \r"
     ]
    },
    {
     "name": "stdout",
     "output_type": "stream",
     "text": [
      "frame=11024\n",
      "fps=49.43\n",
      "stream_0_0_q=-0.0\n",
      "bitrate=N/A\n",
      "total_size=N/A\n",
      "out_time_us=439720000\n",
      "out_time_ms=439720000\n",
      "out_time=00:07:19.720000\n",
      "dup_frames=0\n",
      "drop_frames=0\n",
      "speed=1.97x\n",
      "progress=continue\n"
     ]
    },
    {
     "name": "stderr",
     "output_type": "stream",
     "text": [
      "frame=11043 fps= 49 q=-0.0 size=N/A time=00:07:20.48 bitrate=N/A speed=1.97x    \r"
     ]
    },
    {
     "name": "stdout",
     "output_type": "stream",
     "text": [
      "frame=11043\n",
      "fps=49.40\n",
      "stream_0_0_q=-0.0\n",
      "bitrate=N/A\n",
      "total_size=N/A\n",
      "out_time_us=440480000\n",
      "out_time_ms=440480000\n",
      "out_time=00:07:20.480000\n",
      "dup_frames=0\n",
      "drop_frames=0\n",
      "speed=1.97x\n",
      "progress=continue\n"
     ]
    },
    {
     "name": "stderr",
     "output_type": "stream",
     "text": [
      "frame=11060 fps= 49 q=-0.0 size=N/A time=00:07:21.16 bitrate=N/A speed=1.97x    \r"
     ]
    },
    {
     "name": "stdout",
     "output_type": "stream",
     "text": [
      "frame=11060\n",
      "fps=49.36\n",
      "stream_0_0_q=-0.0\n",
      "bitrate=N/A\n",
      "total_size=N/A\n",
      "out_time_us=441160000\n",
      "out_time_ms=441160000\n",
      "out_time=00:07:21.160000\n",
      "dup_frames=0\n",
      "drop_frames=0\n",
      "speed=1.97x\n",
      "progress=continue\n"
     ]
    },
    {
     "name": "stderr",
     "output_type": "stream",
     "text": [
      "frame=11079 fps= 49 q=-0.0 size=N/A time=00:07:21.92 bitrate=N/A speed=1.97x    \r"
     ]
    },
    {
     "name": "stdout",
     "output_type": "stream",
     "text": [
      "frame=11079\n",
      "fps=49.33\n",
      "stream_0_0_q=-0.0\n",
      "bitrate=N/A\n",
      "total_size=N/A\n",
      "out_time_us=441920000\n",
      "out_time_ms=441920000\n",
      "out_time=00:07:21.920000\n",
      "dup_frames=0\n",
      "drop_frames=0\n",
      "speed=1.97x\n",
      "progress=continue\n"
     ]
    },
    {
     "name": "stderr",
     "output_type": "stream",
     "text": [
      "frame=11098 fps= 49 q=-0.0 size=N/A time=00:07:22.68 bitrate=N/A speed=1.97x    \r"
     ]
    },
    {
     "name": "stdout",
     "output_type": "stream",
     "text": [
      "frame=11098\n",
      "fps=49.31\n",
      "stream_0_0_q=-0.0\n",
      "bitrate=N/A\n",
      "total_size=N/A\n",
      "out_time_us=442680000\n",
      "out_time_ms=442680000\n",
      "out_time=00:07:22.680000\n",
      "dup_frames=0\n",
      "drop_frames=0\n",
      "speed=1.97x\n",
      "progress=continue\n"
     ]
    },
    {
     "name": "stderr",
     "output_type": "stream",
     "text": [
      "frame=11115 fps= 49 q=-0.0 size=N/A time=00:07:23.36 bitrate=N/A speed=1.97x    \r"
     ]
    },
    {
     "name": "stdout",
     "output_type": "stream",
     "text": [
      "frame=11115\n",
      "fps=49.27\n",
      "stream_0_0_q=-0.0\n",
      "bitrate=N/A\n",
      "total_size=N/A\n",
      "out_time_us=443360000\n",
      "out_time_ms=443360000\n",
      "out_time=00:07:23.360000\n",
      "dup_frames=0\n",
      "drop_frames=0\n",
      "speed=1.97x\n",
      "progress=continue\n"
     ]
    },
    {
     "name": "stderr",
     "output_type": "stream",
     "text": [
      "frame=11133 fps= 49 q=-0.0 size=N/A time=00:07:24.08 bitrate=N/A speed=1.96x    \r"
     ]
    },
    {
     "name": "stdout",
     "output_type": "stream",
     "text": [
      "frame=11133\n",
      "fps=49.23\n",
      "stream_0_0_q=-0.0\n",
      "bitrate=N/A\n",
      "total_size=N/A\n",
      "out_time_us=444080000\n",
      "out_time_ms=444080000\n",
      "out_time=00:07:24.080000\n",
      "dup_frames=0\n",
      "drop_frames=0\n",
      "speed=1.96x\n",
      "progress=continue\n"
     ]
    },
    {
     "name": "stderr",
     "output_type": "stream",
     "text": [
      "frame=11151 fps= 49 q=-0.0 size=N/A time=00:07:24.80 bitrate=N/A speed=1.96x    \r"
     ]
    },
    {
     "name": "stdout",
     "output_type": "stream",
     "text": [
      "frame=11151\n",
      "fps=49.20\n",
      "stream_0_0_q=-0.0\n",
      "bitrate=N/A\n",
      "total_size=N/A\n",
      "out_time_us=444800000\n",
      "out_time_ms=444800000\n",
      "out_time=00:07:24.800000\n",
      "dup_frames=0\n",
      "drop_frames=0\n",
      "speed=1.96x\n",
      "progress=continue\n"
     ]
    },
    {
     "name": "stderr",
     "output_type": "stream",
     "text": [
      "frame=11170 fps= 49 q=-0.0 size=N/A time=00:07:25.56 bitrate=N/A speed=1.96x    \r"
     ]
    },
    {
     "name": "stdout",
     "output_type": "stream",
     "text": [
      "frame=11170\n",
      "fps=49.17\n",
      "stream_0_0_q=-0.0\n",
      "bitrate=N/A\n",
      "total_size=N/A\n",
      "out_time_us=445560000\n",
      "out_time_ms=445560000\n",
      "out_time=00:07:25.560000\n",
      "dup_frames=0\n",
      "drop_frames=0\n",
      "speed=1.96x\n",
      "progress=continue\n"
     ]
    },
    {
     "name": "stderr",
     "output_type": "stream",
     "text": [
      "frame=11189 fps= 49 q=-0.0 size=N/A time=00:07:26.32 bitrate=N/A speed=1.96x    \r"
     ]
    },
    {
     "name": "stdout",
     "output_type": "stream",
     "text": [
      "frame=11189\n",
      "fps=49.14\n",
      "stream_0_0_q=-0.0\n",
      "bitrate=N/A\n",
      "total_size=N/A\n",
      "out_time_us=446320000\n",
      "out_time_ms=446320000\n",
      "out_time=00:07:26.320000\n",
      "dup_frames=0\n",
      "drop_frames=0\n",
      "speed=1.96x\n",
      "progress=continue\n"
     ]
    },
    {
     "name": "stderr",
     "output_type": "stream",
     "text": [
      "frame=11208 fps= 49 q=-0.0 size=N/A time=00:07:27.08 bitrate=N/A speed=1.96x    \r"
     ]
    },
    {
     "name": "stdout",
     "output_type": "stream",
     "text": [
      "frame=11208\n",
      "fps=49.12\n",
      "stream_0_0_q=-0.0\n",
      "bitrate=N/A\n",
      "total_size=N/A\n",
      "out_time_us=447080000\n",
      "out_time_ms=447080000\n",
      "out_time=00:07:27.080000\n",
      "dup_frames=0\n",
      "drop_frames=0\n",
      "speed=1.96x\n",
      "progress=continue\n"
     ]
    },
    {
     "name": "stderr",
     "output_type": "stream",
     "text": [
      "frame=11226 fps= 49 q=-0.0 size=N/A time=00:07:27.80 bitrate=N/A speed=1.96x    \r"
     ]
    },
    {
     "name": "stdout",
     "output_type": "stream",
     "text": [
      "frame=11226\n",
      "fps=49.08\n",
      "stream_0_0_q=-0.0\n",
      "bitrate=N/A\n",
      "total_size=N/A\n",
      "out_time_us=447800000\n",
      "out_time_ms=447800000\n",
      "out_time=00:07:27.800000\n",
      "dup_frames=0\n",
      "drop_frames=0\n",
      "speed=1.96x\n",
      "progress=continue\n",
      "frame=11242\n",
      "fps=49.04\n",
      "stream_0_0_q=-0.0\n",
      "bitrate=N/A\n",
      "total_size=N/A\n",
      "out_time_us=448440000\n",
      "out_time_ms=448440000\n",
      "out_time=00:07:28.440000\n",
      "dup_frames=0\n",
      "drop_frames=0\n",
      "speed=1.96x\n",
      "progress=continue\n"
     ]
    },
    {
     "name": "stderr",
     "output_type": "stream",
     "text": [
      "frame=11265 fps= 49 q=-0.0 size=N/A time=00:07:29.36 bitrate=N/A speed=1.96x    \r"
     ]
    },
    {
     "name": "stdout",
     "output_type": "stream",
     "text": [
      "frame=11265\n",
      "fps=49.03\n",
      "stream_0_0_q=-0.0\n",
      "bitrate=N/A\n",
      "total_size=N/A\n",
      "out_time_us=449360000\n",
      "out_time_ms=449360000\n",
      "out_time=00:07:29.360000\n",
      "dup_frames=0\n",
      "drop_frames=0\n",
      "speed=1.96x\n",
      "progress=continue\n",
      "frame=11283\n",
      "fps=48.99\n",
      "stream_0_0_q=-0.0\n",
      "bitrate=N/A\n",
      "total_size=N/A\n",
      "out_time_us=450080000\n",
      "out_time_ms=450080000\n",
      "out_time=00:07:30.080000\n",
      "dup_frames=0\n",
      "drop_frames=0\n",
      "speed=1.95x\n",
      "progress=continue\n"
     ]
    },
    {
     "name": "stderr",
     "output_type": "stream",
     "text": [
      "frame=11300 fps= 49 q=-0.0 size=N/A time=00:07:30.76 bitrate=N/A speed=1.95x    \r"
     ]
    },
    {
     "name": "stdout",
     "output_type": "stream",
     "text": [
      "frame=11300\n",
      "fps=48.96\n",
      "stream_0_0_q=-0.0\n",
      "bitrate=N/A\n",
      "total_size=N/A\n",
      "out_time_us=450760000\n",
      "out_time_ms=450760000\n",
      "out_time=00:07:30.760000\n",
      "dup_frames=0\n",
      "drop_frames=0\n",
      "speed=1.95x\n",
      "progress=continue\n",
      "frame=11313\n",
      "fps=48.91\n",
      "stream_0_0_q=-0.0\n",
      "bitrate=N/A\n",
      "total_size=N/A\n",
      "out_time_us=451280000\n",
      "out_time_ms=451280000\n",
      "out_time=00:07:31.280000\n",
      "dup_frames=0\n",
      "drop_frames=0\n",
      "speed=1.95x\n",
      "progress=continue\n"
     ]
    },
    {
     "name": "stderr",
     "output_type": "stream",
     "text": [
      "frame=11313 fps= 49 q=-0.0 size=N/A time=00:07:31.28 bitrate=N/A speed=1.95x    \r"
     ]
    },
    {
     "name": "stdout",
     "output_type": "stream",
     "text": [
      "frame=11341\n",
      "fps=48.92\n",
      "stream_0_0_q=-0.0\n",
      "bitrate=N/A\n",
      "total_size=N/A\n",
      "out_time_us=452400000\n",
      "out_time_ms=452400000\n",
      "out_time=00:07:32.400000\n",
      "dup_frames=0\n",
      "drop_frames=0\n",
      "speed=1.95x\n",
      "progress=continue\n"
     ]
    },
    {
     "name": "stderr",
     "output_type": "stream",
     "text": [
      "frame=11358 fps= 49 q=-0.0 size=N/A time=00:07:33.08 bitrate=N/A speed=1.95x    \r"
     ]
    },
    {
     "name": "stdout",
     "output_type": "stream",
     "text": [
      "frame=11358\n",
      "fps=48.89\n",
      "stream_0_0_q=-0.0\n",
      "bitrate=N/A\n",
      "total_size=N/A\n",
      "out_time_us=453080000\n",
      "out_time_ms=453080000\n",
      "out_time=00:07:33.080000\n",
      "dup_frames=0\n",
      "drop_frames=0\n",
      "speed=1.95x\n",
      "progress=continue\n",
      "frame=11377\n",
      "fps=48.86\n",
      "stream_0_0_q=-0.0\n",
      "bitrate=N/A\n",
      "total_size=N/A\n",
      "out_time_us=453840000\n",
      "out_time_ms=453840000\n",
      "out_time=00:07:33.840000\n",
      "dup_frames=0\n",
      "drop_frames=0\n",
      "speed=1.95x\n",
      "progress=continue\n"
     ]
    },
    {
     "name": "stderr",
     "output_type": "stream",
     "text": [
      "frame=11377 fps= 49 q=-0.0 size=N/A time=00:07:33.84 bitrate=N/A speed=1.95x    \r"
     ]
    },
    {
     "name": "stdout",
     "output_type": "stream",
     "text": [
      "frame=11396\n",
      "fps=48.84\n",
      "stream_0_0_q=-0.0\n",
      "bitrate=N/A\n",
      "total_size=N/A\n",
      "out_time_us=454600000\n",
      "out_time_ms=454600000\n",
      "out_time=00:07:34.600000\n",
      "dup_frames=0\n",
      "drop_frames=0\n",
      "speed=1.95x\n",
      "progress=continue\n"
     ]
    },
    {
     "name": "stderr",
     "output_type": "stream",
     "text": [
      "frame=11414 fps= 49 q=-0.0 size=N/A time=00:07:35.32 bitrate=N/A speed=1.95x    \r"
     ]
    },
    {
     "name": "stdout",
     "output_type": "stream",
     "text": [
      "frame=11414\n",
      "fps=48.80\n",
      "stream_0_0_q=-0.0\n",
      "bitrate=N/A\n",
      "total_size=N/A\n",
      "out_time_us=455320000\n",
      "out_time_ms=455320000\n",
      "out_time=00:07:35.320000\n",
      "dup_frames=0\n",
      "drop_frames=0\n",
      "speed=1.95x\n",
      "progress=continue\n",
      "frame=11431\n",
      "fps=48.77\n",
      "stream_0_0_q=-0.0\n",
      "bitrate=N/A\n",
      "total_size=N/A\n",
      "out_time_us=456000000\n",
      "out_time_ms=456000000\n",
      "out_time=00:07:36.000000\n",
      "dup_frames=0\n",
      "drop_frames=0\n",
      "speed=1.95x\n",
      "progress=continue\n"
     ]
    },
    {
     "name": "stderr",
     "output_type": "stream",
     "text": [
      "frame=11451 fps= 49 q=-0.0 size=N/A time=00:07:36.80 bitrate=N/A speed=1.94x    \r"
     ]
    },
    {
     "name": "stdout",
     "output_type": "stream",
     "text": [
      "frame=11451\n",
      "fps=48.75\n",
      "stream_0_0_q=-0.0\n",
      "bitrate=N/A\n",
      "total_size=N/A\n",
      "out_time_us=456800000\n",
      "out_time_ms=456800000\n",
      "out_time=00:07:36.800000\n",
      "dup_frames=0\n",
      "drop_frames=0\n",
      "speed=1.94x\n",
      "progress=continue\n",
      "frame=11469\n",
      "fps=48.71\n",
      "stream_0_0_q=-0.0\n",
      "bitrate=N/A\n",
      "total_size=N/A\n",
      "out_time_us=457520000\n",
      "out_time_ms=457520000\n",
      "out_time=00:07:37.520000\n",
      "dup_frames=0\n",
      "drop_frames=0\n",
      "speed=1.94x\n",
      "progress=continue\n"
     ]
    },
    {
     "name": "stderr",
     "output_type": "stream",
     "text": [
      "frame=11469 fps= 49 q=-0.0 size=N/A time=00:07:37.52 bitrate=N/A speed=1.94x    \r"
     ]
    },
    {
     "name": "stdout",
     "output_type": "stream",
     "text": [
      "frame=11487\n",
      "fps=48.68\n",
      "stream_0_0_q=-0.0\n",
      "bitrate=N/A\n",
      "total_size=N/A\n",
      "out_time_us=458240000\n",
      "out_time_ms=458240000\n",
      "out_time=00:07:38.240000\n",
      "dup_frames=0\n",
      "drop_frames=0\n",
      "speed=1.94x\n",
      "progress=continue\n"
     ]
    },
    {
     "name": "stderr",
     "output_type": "stream",
     "text": [
      "frame=11487 fps= 49 q=-0.0 size=N/A time=00:07:38.24 bitrate=N/A speed=1.94x    \r"
     ]
    },
    {
     "name": "stdout",
     "output_type": "stream",
     "text": [
      "frame=11504\n",
      "fps=48.65\n",
      "stream_0_0_q=-0.0\n",
      "bitrate=N/A\n",
      "total_size=N/A\n",
      "out_time_us=458920000\n",
      "out_time_ms=458920000\n",
      "out_time=00:07:38.920000\n",
      "dup_frames=0\n",
      "drop_frames=0\n",
      "speed=1.94x\n",
      "progress=continue\n"
     ]
    },
    {
     "name": "stderr",
     "output_type": "stream",
     "text": [
      "frame=11504 fps= 49 q=-0.0 size=N/A time=00:07:38.92 bitrate=N/A speed=1.94x    \r"
     ]
    },
    {
     "name": "stdout",
     "output_type": "stream",
     "text": [
      "frame=11522\n",
      "fps=48.62\n",
      "stream_0_0_q=-0.0\n",
      "bitrate=N/A\n",
      "total_size=N/A\n",
      "out_time_us=459640000\n",
      "out_time_ms=459640000\n",
      "out_time=00:07:39.640000\n",
      "dup_frames=0\n",
      "drop_frames=0\n",
      "speed=1.94x\n",
      "progress=continue\n"
     ]
    },
    {
     "name": "stderr",
     "output_type": "stream",
     "text": [
      "frame=11522 fps= 49 q=-0.0 size=N/A time=00:07:39.64 bitrate=N/A speed=1.94x    \r"
     ]
    },
    {
     "name": "stdout",
     "output_type": "stream",
     "text": [
      "frame=11538\n",
      "fps=48.58\n",
      "stream_0_0_q=-0.0\n",
      "bitrate=N/A\n",
      "total_size=N/A\n",
      "out_time_us=460280000\n",
      "out_time_ms=460280000\n",
      "out_time=00:07:40.280000\n",
      "dup_frames=0\n",
      "drop_frames=0\n",
      "speed=1.94x\n",
      "progress=continue\n"
     ]
    },
    {
     "name": "stderr",
     "output_type": "stream",
     "text": [
      "frame=11555 fps= 49 q=-0.0 size=N/A time=00:07:40.96 bitrate=N/A speed=1.94x    \r"
     ]
    },
    {
     "name": "stdout",
     "output_type": "stream",
     "text": [
      "frame=11555\n",
      "fps=48.55\n",
      "stream_0_0_q=-0.0\n",
      "bitrate=N/A\n",
      "total_size=N/A\n",
      "out_time_us=460960000\n",
      "out_time_ms=460960000\n",
      "out_time=00:07:40.960000\n",
      "dup_frames=0\n",
      "drop_frames=0\n",
      "speed=1.94x\n",
      "progress=continue\n",
      "frame=11574\n",
      "fps=48.52\n",
      "stream_0_0_q=-0.0\n",
      "bitrate=N/A\n",
      "total_size=N/A\n",
      "out_time_us=461720000\n",
      "out_time_ms=461720000\n",
      "out_time=00:07:41.720000\n",
      "dup_frames=0\n",
      "drop_frames=0\n",
      "speed=1.94x\n",
      "progress=continue\n"
     ]
    },
    {
     "name": "stderr",
     "output_type": "stream",
     "text": [
      "frame=11590 fps= 48 q=-0.0 size=N/A time=00:07:42.36 bitrate=N/A speed=1.93x    \r"
     ]
    },
    {
     "name": "stdout",
     "output_type": "stream",
     "text": [
      "frame=11590\n",
      "fps=48.49\n",
      "stream_0_0_q=-0.0\n",
      "bitrate=N/A\n",
      "total_size=N/A\n",
      "out_time_us=462360000\n",
      "out_time_ms=462360000\n",
      "out_time=00:07:42.360000\n",
      "dup_frames=0\n",
      "drop_frames=0\n",
      "speed=1.93x\n",
      "progress=continue\n"
     ]
    },
    {
     "name": "stderr",
     "output_type": "stream",
     "text": [
      "frame=11610 fps= 48 q=-0.0 size=N/A time=00:07:43.16 bitrate=N/A speed=1.93x    \r"
     ]
    },
    {
     "name": "stdout",
     "output_type": "stream",
     "text": [
      "frame=11610\n",
      "fps=48.46\n",
      "stream_0_0_q=-0.0\n",
      "bitrate=N/A\n",
      "total_size=N/A\n",
      "out_time_us=463160000\n",
      "out_time_ms=463160000\n",
      "out_time=00:07:43.160000\n",
      "dup_frames=0\n",
      "drop_frames=0\n",
      "speed=1.93x\n",
      "progress=continue\n"
     ]
    },
    {
     "name": "stderr",
     "output_type": "stream",
     "text": [
      "frame=11627 fps= 48 q=-0.0 size=N/A time=00:07:43.84 bitrate=N/A speed=1.93x    \r"
     ]
    },
    {
     "name": "stdout",
     "output_type": "stream",
     "text": [
      "frame=11627\n",
      "fps=48.43\n",
      "stream_0_0_q=-0.0\n",
      "bitrate=N/A\n",
      "total_size=N/A\n",
      "out_time_us=463840000\n",
      "out_time_ms=463840000\n",
      "out_time=00:07:43.840000\n",
      "dup_frames=0\n",
      "drop_frames=0\n",
      "speed=1.93x\n",
      "progress=continue\n"
     ]
    },
    {
     "name": "stderr",
     "output_type": "stream",
     "text": [
      "frame=11643 fps= 48 q=-0.0 size=N/A time=00:07:44.48 bitrate=N/A speed=1.93x    \r"
     ]
    },
    {
     "name": "stdout",
     "output_type": "stream",
     "text": [
      "frame=11643\n",
      "fps=48.39\n",
      "stream_0_0_q=-0.0\n",
      "bitrate=N/A\n",
      "total_size=N/A\n",
      "out_time_us=464480000\n",
      "out_time_ms=464480000\n",
      "out_time=00:07:44.480000\n",
      "dup_frames=0\n",
      "drop_frames=0\n",
      "speed=1.93x\n",
      "progress=continue\n"
     ]
    },
    {
     "name": "stderr",
     "output_type": "stream",
     "text": [
      "frame=11661 fps= 48 q=-0.0 size=N/A time=00:07:45.20 bitrate=N/A speed=1.93x    \r"
     ]
    },
    {
     "name": "stdout",
     "output_type": "stream",
     "text": [
      "frame=11661\n",
      "fps=48.37\n",
      "stream_0_0_q=-0.0\n",
      "bitrate=N/A\n",
      "total_size=N/A\n",
      "out_time_us=465200000\n",
      "out_time_ms=465200000\n",
      "out_time=00:07:45.200000\n",
      "dup_frames=0\n",
      "drop_frames=0\n",
      "speed=1.93x\n",
      "progress=continue\n"
     ]
    },
    {
     "name": "stderr",
     "output_type": "stream",
     "text": [
      "frame=11680 fps= 48 q=-0.0 size=N/A time=00:07:45.96 bitrate=N/A speed=1.93x    \r"
     ]
    },
    {
     "name": "stdout",
     "output_type": "stream",
     "text": [
      "frame=11680\n",
      "fps=48.35\n",
      "stream_0_0_q=-0.0\n",
      "bitrate=N/A\n",
      "total_size=N/A\n",
      "out_time_us=465960000\n",
      "out_time_ms=465960000\n",
      "out_time=00:07:45.960000\n",
      "dup_frames=0\n",
      "drop_frames=0\n",
      "speed=1.93x\n",
      "progress=continue\n"
     ]
    },
    {
     "name": "stderr",
     "output_type": "stream",
     "text": [
      "frame=11697 fps= 48 q=-0.0 size=N/A time=00:07:46.64 bitrate=N/A speed=1.93x    \r"
     ]
    },
    {
     "name": "stdout",
     "output_type": "stream",
     "text": [
      "frame=11697\n",
      "fps=48.32\n",
      "stream_0_0_q=-0.0\n",
      "bitrate=N/A\n",
      "total_size=N/A\n",
      "out_time_us=466640000\n",
      "out_time_ms=466640000\n",
      "out_time=00:07:46.640000\n",
      "dup_frames=0\n",
      "drop_frames=0\n",
      "speed=1.93x\n",
      "progress=continue\n"
     ]
    },
    {
     "name": "stderr",
     "output_type": "stream",
     "text": [
      "frame=11712 fps= 48 q=-0.0 size=N/A time=00:07:47.24 bitrate=N/A speed=1.93x    \r"
     ]
    },
    {
     "name": "stdout",
     "output_type": "stream",
     "text": [
      "frame=11712\n",
      "fps=48.26\n",
      "stream_0_0_q=-0.0\n",
      "bitrate=N/A\n",
      "total_size=N/A\n",
      "out_time_us=467240000\n",
      "out_time_ms=467240000\n",
      "out_time=00:07:47.240000\n",
      "dup_frames=0\n",
      "drop_frames=0\n",
      "speed=1.93x\n",
      "progress=continue\n"
     ]
    },
    {
     "name": "stderr",
     "output_type": "stream",
     "text": [
      "frame=11727 fps= 48 q=-0.0 size=N/A time=00:07:47.84 bitrate=N/A speed=1.92x    \r"
     ]
    },
    {
     "name": "stdout",
     "output_type": "stream",
     "text": [
      "frame=11727\n",
      "fps=48.20\n",
      "stream_0_0_q=-0.0\n",
      "bitrate=N/A\n",
      "total_size=N/A\n",
      "out_time_us=467840000\n",
      "out_time_ms=467840000\n",
      "out_time=00:07:47.840000\n",
      "dup_frames=0\n",
      "drop_frames=0\n",
      "speed=1.92x\n",
      "progress=continue\n",
      "frame=11757\n",
      "fps=48.22\n",
      "stream_0_0_q=-0.0\n",
      "bitrate=N/A\n",
      "total_size=N/A\n",
      "out_time_us=469040000\n",
      "out_time_ms=469040000\n",
      "out_time=00:07:49.040000\n",
      "dup_frames=0\n",
      "drop_frames=0\n",
      "speed=1.92x\n",
      "progress=continue\n"
     ]
    },
    {
     "name": "stderr",
     "output_type": "stream",
     "text": [
      "frame=11757 fps= 48 q=-0.0 size=N/A time=00:07:49.04 bitrate=N/A speed=1.92x    \r"
     ]
    },
    {
     "name": "stdout",
     "output_type": "stream",
     "text": [
      "frame=11771\n",
      "fps=48.17\n",
      "stream_0_0_q=-0.0\n",
      "bitrate=N/A\n",
      "total_size=N/A\n",
      "out_time_us=469600000\n",
      "out_time_ms=469600000\n",
      "out_time=00:07:49.600000\n",
      "dup_frames=0\n",
      "drop_frames=0\n",
      "speed=1.92x\n",
      "progress=continue\n"
     ]
    },
    {
     "name": "stderr",
     "output_type": "stream",
     "text": [
      "frame=11771 fps= 48 q=-0.0 size=N/A time=00:07:49.60 bitrate=N/A speed=1.92x    \r"
     ]
    },
    {
     "name": "stdout",
     "output_type": "stream",
     "text": [
      "frame=11783\n",
      "fps=48.11\n",
      "stream_0_0_q=-0.0\n",
      "bitrate=N/A\n",
      "total_size=N/A\n",
      "out_time_us=470080000\n",
      "out_time_ms=470080000\n",
      "out_time=00:07:50.080000\n",
      "dup_frames=0\n",
      "drop_frames=0\n",
      "speed=1.92x\n",
      "progress=continue\n"
     ]
    },
    {
     "name": "stderr",
     "output_type": "stream",
     "text": [
      "frame=11783 fps= 48 q=-0.0 size=N/A time=00:07:50.08 bitrate=N/A speed=1.92x    \r"
     ]
    },
    {
     "name": "stdout",
     "output_type": "stream",
     "text": [
      "frame=11810\n",
      "fps=48.12\n",
      "stream_0_0_q=-0.0\n",
      "bitrate=N/A\n",
      "total_size=N/A\n",
      "out_time_us=471160000\n",
      "out_time_ms=471160000\n",
      "out_time=00:07:51.160000\n",
      "dup_frames=0\n",
      "drop_frames=0\n",
      "speed=1.92x\n",
      "progress=continue\n"
     ]
    },
    {
     "name": "stderr",
     "output_type": "stream",
     "text": [
      "frame=11810 fps= 48 q=-0.0 size=N/A time=00:07:51.16 bitrate=N/A speed=1.92x    \r"
     ]
    },
    {
     "name": "stdout",
     "output_type": "stream",
     "text": [
      "frame=11824\n",
      "fps=48.05\n",
      "stream_0_0_q=-0.0\n",
      "bitrate=N/A\n",
      "total_size=N/A\n",
      "out_time_us=471720000\n",
      "out_time_ms=471720000\n",
      "out_time=00:07:51.720000\n",
      "dup_frames=0\n",
      "drop_frames=0\n",
      "speed=1.92x\n",
      "progress=continue\n"
     ]
    },
    {
     "name": "stderr",
     "output_type": "stream",
     "text": [
      "frame=11847 fps= 48 q=-0.0 size=N/A time=00:07:52.64 bitrate=N/A speed=1.92x    \r"
     ]
    },
    {
     "name": "stdout",
     "output_type": "stream",
     "text": [
      "frame=11847\n",
      "fps=48.05\n",
      "stream_0_0_q=-0.0\n",
      "bitrate=N/A\n",
      "total_size=N/A\n",
      "out_time_us=472640000\n",
      "out_time_ms=472640000\n",
      "out_time=00:07:52.640000\n",
      "dup_frames=0\n",
      "drop_frames=0\n",
      "speed=1.92x\n",
      "progress=continue\n"
     ]
    },
    {
     "name": "stderr",
     "output_type": "stream",
     "text": [
      "frame=11865 fps= 48 q=-0.0 size=N/A time=00:07:53.36 bitrate=N/A speed=1.92x    \r"
     ]
    },
    {
     "name": "stdout",
     "output_type": "stream",
     "text": [
      "frame=11865\n",
      "fps=48.02\n",
      "stream_0_0_q=-0.0\n",
      "bitrate=N/A\n",
      "total_size=N/A\n",
      "out_time_us=473360000\n",
      "out_time_ms=473360000\n",
      "out_time=00:07:53.360000\n",
      "dup_frames=0\n",
      "drop_frames=0\n",
      "speed=1.92x\n",
      "progress=continue\n"
     ]
    },
    {
     "name": "stderr",
     "output_type": "stream",
     "text": [
      "frame=11882 fps= 48 q=-0.0 size=N/A time=00:07:54.04 bitrate=N/A speed=1.91x    \r"
     ]
    },
    {
     "name": "stdout",
     "output_type": "stream",
     "text": [
      "frame=11882\n",
      "fps=47.99\n",
      "stream_0_0_q=-0.0\n",
      "bitrate=N/A\n",
      "total_size=N/A\n",
      "out_time_us=474040000\n",
      "out_time_ms=474040000\n",
      "out_time=00:07:54.040000\n",
      "dup_frames=0\n",
      "drop_frames=0\n",
      "speed=1.91x\n",
      "progress=continue\n"
     ]
    },
    {
     "name": "stderr",
     "output_type": "stream",
     "text": [
      "frame=11901 fps= 48 q=-0.0 size=N/A time=00:07:54.80 bitrate=N/A speed=1.91x    \r"
     ]
    },
    {
     "name": "stdout",
     "output_type": "stream",
     "text": [
      "frame=11901\n",
      "fps=47.97\n",
      "stream_0_0_q=-0.0\n",
      "bitrate=N/A\n",
      "total_size=N/A\n",
      "out_time_us=474800000\n",
      "out_time_ms=474800000\n",
      "out_time=00:07:54.800000\n",
      "dup_frames=0\n",
      "drop_frames=0\n",
      "speed=1.91x\n",
      "progress=continue\n"
     ]
    },
    {
     "name": "stderr",
     "output_type": "stream",
     "text": [
      "frame=11918 fps= 48 q=-0.0 size=N/A time=00:07:55.48 bitrate=N/A speed=1.91x    \r"
     ]
    },
    {
     "name": "stdout",
     "output_type": "stream",
     "text": [
      "frame=11918\n",
      "fps=47.93\n",
      "stream_0_0_q=-0.0\n",
      "bitrate=N/A\n",
      "total_size=N/A\n",
      "out_time_us=475480000\n",
      "out_time_ms=475480000\n",
      "out_time=00:07:55.480000\n",
      "dup_frames=0\n",
      "drop_frames=0\n",
      "speed=1.91x\n",
      "progress=continue\n"
     ]
    },
    {
     "name": "stderr",
     "output_type": "stream",
     "text": [
      "frame=11936 fps= 48 q=-0.0 size=N/A time=00:07:56.20 bitrate=N/A speed=1.91x    \r"
     ]
    },
    {
     "name": "stdout",
     "output_type": "stream",
     "text": [
      "frame=11936\n",
      "fps=47.90\n",
      "stream_0_0_q=-0.0\n",
      "bitrate=N/A\n",
      "total_size=N/A\n",
      "out_time_us=476200000\n",
      "out_time_ms=476200000\n",
      "out_time=00:07:56.200000\n",
      "dup_frames=0\n",
      "drop_frames=0\n",
      "speed=1.91x\n",
      "progress=continue\n"
     ]
    },
    {
     "name": "stderr",
     "output_type": "stream",
     "text": [
      "frame=11953 fps= 48 q=-0.0 size=N/A time=00:07:56.88 bitrate=N/A speed=1.91x    \r"
     ]
    },
    {
     "name": "stdout",
     "output_type": "stream",
     "text": [
      "frame=11953\n",
      "fps=47.88\n",
      "stream_0_0_q=-0.0\n",
      "bitrate=N/A\n",
      "total_size=N/A\n",
      "out_time_us=476880000\n",
      "out_time_ms=476880000\n",
      "out_time=00:07:56.880000\n",
      "dup_frames=0\n",
      "drop_frames=0\n",
      "speed=1.91x\n",
      "progress=continue\n"
     ]
    },
    {
     "name": "stderr",
     "output_type": "stream",
     "text": [
      "frame=11970 fps= 48 q=-0.0 size=N/A time=00:07:57.56 bitrate=N/A speed=1.91x    \r"
     ]
    },
    {
     "name": "stdout",
     "output_type": "stream",
     "text": [
      "frame=11970\n",
      "fps=47.85\n",
      "stream_0_0_q=-0.0\n",
      "bitrate=N/A\n",
      "total_size=N/A\n",
      "out_time_us=477560000\n",
      "out_time_ms=477560000\n",
      "out_time=00:07:57.560000\n",
      "dup_frames=0\n",
      "drop_frames=0\n",
      "speed=1.91x\n",
      "progress=continue\n"
     ]
    },
    {
     "name": "stderr",
     "output_type": "stream",
     "text": [
      "frame=11987 fps= 48 q=-0.0 size=N/A time=00:07:58.24 bitrate=N/A speed=1.91x    \r"
     ]
    },
    {
     "name": "stdout",
     "output_type": "stream",
     "text": [
      "frame=11987\n",
      "fps=47.82\n",
      "stream_0_0_q=-0.0\n",
      "bitrate=N/A\n",
      "total_size=N/A\n",
      "out_time_us=478240000\n",
      "out_time_ms=478240000\n",
      "out_time=00:07:58.240000\n",
      "dup_frames=0\n",
      "drop_frames=0\n",
      "speed=1.91x\n",
      "progress=continue\n"
     ]
    },
    {
     "name": "stderr",
     "output_type": "stream",
     "text": [
      "frame=12003 fps= 48 q=-0.0 size=N/A time=00:07:58.88 bitrate=N/A speed=1.91x    \r"
     ]
    },
    {
     "name": "stdout",
     "output_type": "stream",
     "text": [
      "frame=12003\n",
      "fps=47.78\n",
      "stream_0_0_q=-0.0\n",
      "bitrate=N/A\n",
      "total_size=N/A\n",
      "out_time_us=478880000\n",
      "out_time_ms=478880000\n",
      "out_time=00:07:58.880000\n",
      "dup_frames=0\n",
      "drop_frames=0\n",
      "speed=1.91x\n",
      "progress=continue\n"
     ]
    },
    {
     "name": "stderr",
     "output_type": "stream",
     "text": [
      "frame=12021 fps= 48 q=-0.0 size=N/A time=00:07:59.60 bitrate=N/A speed=1.91x    \r"
     ]
    },
    {
     "name": "stdout",
     "output_type": "stream",
     "text": [
      "frame=12021\n",
      "fps=47.76\n",
      "stream_0_0_q=-0.0\n",
      "bitrate=N/A\n",
      "total_size=N/A\n",
      "out_time_us=479600000\n",
      "out_time_ms=479600000\n",
      "out_time=00:07:59.600000\n",
      "dup_frames=0\n",
      "drop_frames=0\n",
      "speed=1.91x\n",
      "progress=continue\n"
     ]
    },
    {
     "name": "stderr",
     "output_type": "stream",
     "text": [
      "frame=12038 fps= 48 q=-0.0 size=N/A time=00:08:00.28 bitrate=N/A speed= 1.9x    \r"
     ]
    },
    {
     "name": "stdout",
     "output_type": "stream",
     "text": [
      "frame=12038\n",
      "fps=47.72\n",
      "stream_0_0_q=-0.0\n",
      "bitrate=N/A\n",
      "total_size=N/A\n",
      "out_time_us=480280000\n",
      "out_time_ms=480280000\n",
      "out_time=00:08:00.280000\n",
      "dup_frames=0\n",
      "drop_frames=0\n",
      "speed= 1.9x\n",
      "progress=continue\n"
     ]
    },
    {
     "name": "stderr",
     "output_type": "stream",
     "text": [
      "frame=12055 fps= 48 q=-0.0 size=N/A time=00:08:00.96 bitrate=N/A speed= 1.9x    \r"
     ]
    },
    {
     "name": "stdout",
     "output_type": "stream",
     "text": [
      "frame=12055\n",
      "fps=47.69\n",
      "stream_0_0_q=-0.0\n",
      "bitrate=N/A\n",
      "total_size=N/A\n",
      "out_time_us=480960000\n",
      "out_time_ms=480960000\n",
      "out_time=00:08:00.960000\n",
      "dup_frames=0\n",
      "drop_frames=0\n",
      "speed= 1.9x\n",
      "progress=continue\n"
     ]
    },
    {
     "name": "stderr",
     "output_type": "stream",
     "text": [
      "frame=12070 fps= 48 q=-0.0 size=N/A time=00:08:01.56 bitrate=N/A speed= 1.9x    \r"
     ]
    },
    {
     "name": "stdout",
     "output_type": "stream",
     "text": [
      "frame=12070\n",
      "fps=47.66\n",
      "stream_0_0_q=-0.0\n",
      "bitrate=N/A\n",
      "total_size=N/A\n",
      "out_time_us=481560000\n",
      "out_time_ms=481560000\n",
      "out_time=00:08:01.560000\n",
      "dup_frames=0\n",
      "drop_frames=0\n",
      "speed= 1.9x\n",
      "progress=continue\n",
      "frame=12092\n",
      "fps=47.64\n",
      "stream_0_0_q=-0.0\n",
      "bitrate=N/A\n",
      "total_size=N/A\n",
      "out_time_us=482440000\n",
      "out_time_ms=482440000\n",
      "out_time=00:08:02.440000\n",
      "dup_frames=0\n",
      "drop_frames=0\n",
      "speed= 1.9x\n",
      "progress=continue\n"
     ]
    },
    {
     "name": "stderr",
     "output_type": "stream",
     "text": [
      "frame=12110 fps= 48 q=-0.0 size=N/A time=00:08:03.16 bitrate=N/A speed= 1.9x    \r"
     ]
    },
    {
     "name": "stdout",
     "output_type": "stream",
     "text": [
      "frame=12110\n",
      "fps=47.62\n",
      "stream_0_0_q=-0.0\n",
      "bitrate=N/A\n",
      "total_size=N/A\n",
      "out_time_us=483160000\n",
      "out_time_ms=483160000\n",
      "out_time=00:08:03.160000\n",
      "dup_frames=0\n",
      "drop_frames=0\n",
      "speed= 1.9x\n",
      "progress=continue\n"
     ]
    },
    {
     "name": "stderr",
     "output_type": "stream",
     "text": [
      "frame=12125 fps= 48 q=-0.0 size=N/A time=00:08:03.76 bitrate=N/A speed= 1.9x    \r"
     ]
    },
    {
     "name": "stdout",
     "output_type": "stream",
     "text": [
      "frame=12125\n",
      "fps=47.58\n",
      "stream_0_0_q=-0.0\n",
      "bitrate=N/A\n",
      "total_size=N/A\n",
      "out_time_us=483760000\n",
      "out_time_ms=483760000\n",
      "out_time=00:08:03.760000\n",
      "dup_frames=0\n",
      "drop_frames=0\n",
      "speed= 1.9x\n",
      "progress=continue\n"
     ]
    },
    {
     "name": "stderr",
     "output_type": "stream",
     "text": [
      "frame=12141 fps= 48 q=-0.0 size=N/A time=00:08:04.40 bitrate=N/A speed= 1.9x    \r"
     ]
    },
    {
     "name": "stdout",
     "output_type": "stream",
     "text": [
      "frame=12141\n",
      "fps=47.55\n",
      "stream_0_0_q=-0.0\n",
      "bitrate=N/A\n",
      "total_size=N/A\n",
      "out_time_us=484400000\n",
      "out_time_ms=484400000\n",
      "out_time=00:08:04.400000\n",
      "dup_frames=0\n",
      "drop_frames=0\n",
      "speed= 1.9x\n",
      "progress=continue\n"
     ]
    },
    {
     "name": "stderr",
     "output_type": "stream",
     "text": [
      "frame=12157 fps= 48 q=-0.0 size=N/A time=00:08:05.04 bitrate=N/A speed= 1.9x    \r"
     ]
    },
    {
     "name": "stdout",
     "output_type": "stream",
     "text": [
      "frame=12157\n",
      "fps=47.51\n",
      "stream_0_0_q=-0.0\n",
      "bitrate=N/A\n",
      "total_size=N/A\n",
      "out_time_us=485040000\n",
      "out_time_ms=485040000\n",
      "out_time=00:08:05.040000\n",
      "dup_frames=0\n",
      "drop_frames=0\n",
      "speed= 1.9x\n",
      "progress=continue\n"
     ]
    },
    {
     "name": "stderr",
     "output_type": "stream",
     "text": [
      "frame=12176 fps= 47 q=-0.0 size=N/A time=00:08:05.80 bitrate=N/A speed=1.89x    \r"
     ]
    },
    {
     "name": "stdout",
     "output_type": "stream",
     "text": [
      "frame=12176\n",
      "fps=47.49\n",
      "stream_0_0_q=-0.0\n",
      "bitrate=N/A\n",
      "total_size=N/A\n",
      "out_time_us=485800000\n",
      "out_time_ms=485800000\n",
      "out_time=00:08:05.800000\n",
      "dup_frames=0\n",
      "drop_frames=0\n",
      "speed=1.89x\n",
      "progress=continue\n"
     ]
    },
    {
     "name": "stderr",
     "output_type": "stream",
     "text": [
      "frame=12195 fps= 47 q=-0.0 size=N/A time=00:08:06.56 bitrate=N/A speed=1.89x    \r"
     ]
    },
    {
     "name": "stdout",
     "output_type": "stream",
     "text": [
      "frame=12195\n",
      "fps=47.47\n",
      "stream_0_0_q=-0.0\n",
      "bitrate=N/A\n",
      "total_size=N/A\n",
      "out_time_us=486560000\n",
      "out_time_ms=486560000\n",
      "out_time=00:08:06.560000\n",
      "dup_frames=0\n",
      "drop_frames=0\n",
      "speed=1.89x\n",
      "progress=continue\n"
     ]
    },
    {
     "name": "stderr",
     "output_type": "stream",
     "text": [
      "frame=12213 fps= 47 q=-0.0 size=N/A time=00:08:07.28 bitrate=N/A speed=1.89x    \r"
     ]
    },
    {
     "name": "stdout",
     "output_type": "stream",
     "text": [
      "frame=12213\n",
      "fps=47.45\n",
      "stream_0_0_q=-0.0\n",
      "bitrate=N/A\n",
      "total_size=N/A\n",
      "out_time_us=487280000\n",
      "out_time_ms=487280000\n",
      "out_time=00:08:07.280000\n",
      "dup_frames=0\n",
      "drop_frames=0\n",
      "speed=1.89x\n",
      "progress=continue\n"
     ]
    },
    {
     "name": "stderr",
     "output_type": "stream",
     "text": [
      "frame=12232 fps= 47 q=-0.0 size=N/A time=00:08:08.04 bitrate=N/A speed=1.89x    \r"
     ]
    },
    {
     "name": "stdout",
     "output_type": "stream",
     "text": [
      "frame=12232\n",
      "fps=47.43\n",
      "stream_0_0_q=-0.0\n",
      "bitrate=N/A\n",
      "total_size=N/A\n",
      "out_time_us=488040000\n",
      "out_time_ms=488040000\n",
      "out_time=00:08:08.040000\n",
      "dup_frames=0\n",
      "drop_frames=0\n",
      "speed=1.89x\n",
      "progress=continue\n"
     ]
    },
    {
     "name": "stderr",
     "output_type": "stream",
     "text": [
      "frame=12250 fps= 47 q=-0.0 size=N/A time=00:08:08.76 bitrate=N/A speed=1.89x    \r"
     ]
    },
    {
     "name": "stdout",
     "output_type": "stream",
     "text": [
      "frame=12250\n",
      "fps=47.40\n",
      "stream_0_0_q=-0.0\n",
      "bitrate=N/A\n",
      "total_size=N/A\n",
      "out_time_us=488760000\n",
      "out_time_ms=488760000\n",
      "out_time=00:08:08.760000\n",
      "dup_frames=0\n",
      "drop_frames=0\n",
      "speed=1.89x\n",
      "progress=continue\n"
     ]
    },
    {
     "name": "stderr",
     "output_type": "stream",
     "text": [
      "frame=12270 fps= 47 q=-0.0 size=N/A time=00:08:09.56 bitrate=N/A speed=1.89x    \r"
     ]
    },
    {
     "name": "stdout",
     "output_type": "stream",
     "text": [
      "frame=12270\n",
      "fps=47.39\n",
      "stream_0_0_q=-0.0\n",
      "bitrate=N/A\n",
      "total_size=N/A\n",
      "out_time_us=489560000\n",
      "out_time_ms=489560000\n",
      "out_time=00:08:09.560000\n",
      "dup_frames=0\n",
      "drop_frames=0\n",
      "speed=1.89x\n",
      "progress=continue\n"
     ]
    },
    {
     "name": "stderr",
     "output_type": "stream",
     "text": [
      "frame=12276 fps= 47 q=-0.0 size=N/A time=00:08:09.80 bitrate=N/A speed=1.89x    \r"
     ]
    },
    {
     "name": "stdout",
     "output_type": "stream",
     "text": [
      "frame=12276\n",
      "fps=47.31\n",
      "stream_0_0_q=-0.0\n",
      "bitrate=N/A\n",
      "total_size=N/A\n",
      "out_time_us=489800000\n",
      "out_time_ms=489800000\n",
      "out_time=00:08:09.800000\n",
      "dup_frames=0\n",
      "drop_frames=0\n",
      "speed=1.89x\n",
      "progress=continue\n"
     ]
    },
    {
     "name": "stderr",
     "output_type": "stream",
     "text": [
      "frame=12310 fps= 47 q=-0.0 size=N/A time=00:08:11.16 bitrate=N/A speed=1.89x    \r"
     ]
    },
    {
     "name": "stdout",
     "output_type": "stream",
     "text": [
      "frame=12310\n",
      "fps=47.35\n",
      "stream_0_0_q=-0.0\n",
      "bitrate=N/A\n",
      "total_size=N/A\n",
      "out_time_us=491160000\n",
      "out_time_ms=491160000\n",
      "out_time=00:08:11.160000\n",
      "dup_frames=0\n",
      "drop_frames=0\n",
      "speed=1.89x\n",
      "progress=continue\n"
     ]
    },
    {
     "name": "stderr",
     "output_type": "stream",
     "text": [
      "frame=12329 fps= 47 q=-0.0 size=N/A time=00:08:11.92 bitrate=N/A speed=1.89x    \r"
     ]
    },
    {
     "name": "stdout",
     "output_type": "stream",
     "text": [
      "frame=12329\n",
      "fps=47.33\n",
      "stream_0_0_q=-0.0\n",
      "bitrate=N/A\n",
      "total_size=N/A\n",
      "out_time_us=491920000\n",
      "out_time_ms=491920000\n",
      "out_time=00:08:11.920000\n",
      "dup_frames=0\n",
      "drop_frames=0\n",
      "speed=1.89x\n",
      "progress=continue\n"
     ]
    },
    {
     "name": "stderr",
     "output_type": "stream",
     "text": [
      "frame=12343 fps= 47 q=-0.0 size=N/A time=00:08:12.48 bitrate=N/A speed=1.89x    \r"
     ]
    },
    {
     "name": "stdout",
     "output_type": "stream",
     "text": [
      "frame=12343\n",
      "fps=47.29\n",
      "stream_0_0_q=-0.0\n",
      "bitrate=N/A\n",
      "total_size=N/A\n",
      "out_time_us=492480000\n",
      "out_time_ms=492480000\n",
      "out_time=00:08:12.480000\n",
      "dup_frames=0\n",
      "drop_frames=0\n",
      "speed=1.89x\n",
      "progress=continue\n"
     ]
    },
    {
     "name": "stderr",
     "output_type": "stream",
     "text": [
      "frame=12364 fps= 47 q=-0.0 size=N/A time=00:08:13.32 bitrate=N/A speed=1.89x    \r"
     ]
    },
    {
     "name": "stdout",
     "output_type": "stream",
     "text": [
      "frame=12364\n",
      "fps=47.27\n",
      "stream_0_0_q=-0.0\n",
      "bitrate=N/A\n",
      "total_size=N/A\n",
      "out_time_us=493320000\n",
      "out_time_ms=493320000\n",
      "out_time=00:08:13.320000\n",
      "dup_frames=0\n",
      "drop_frames=0\n",
      "speed=1.89x\n",
      "progress=continue\n",
      "frame=12383\n",
      "fps=47.25\n",
      "stream_0_0_q=-0.0\n",
      "bitrate=N/A\n",
      "total_size=N/A\n",
      "out_time_us=494080000\n",
      "out_time_ms=494080000\n",
      "out_time=00:08:14.080000\n",
      "dup_frames=0\n",
      "drop_frames=0\n",
      "speed=1.89x\n",
      "progress=continue\n"
     ]
    },
    {
     "name": "stderr",
     "output_type": "stream",
     "text": [
      "frame=12397 fps= 47 q=-0.0 size=N/A time=00:08:14.64 bitrate=N/A speed=1.88x    \r"
     ]
    },
    {
     "name": "stdout",
     "output_type": "stream",
     "text": [
      "frame=12397\n",
      "fps=47.21\n",
      "stream_0_0_q=-0.0\n",
      "bitrate=N/A\n",
      "total_size=N/A\n",
      "out_time_us=494640000\n",
      "out_time_ms=494640000\n",
      "out_time=00:08:14.640000\n",
      "dup_frames=0\n",
      "drop_frames=0\n",
      "speed=1.88x\n",
      "progress=continue\n"
     ]
    },
    {
     "name": "stderr",
     "output_type": "stream",
     "text": [
      "frame=12419 fps= 47 q=-0.0 size=N/A time=00:08:15.52 bitrate=N/A speed=1.88x    \r"
     ]
    },
    {
     "name": "stdout",
     "output_type": "stream",
     "text": [
      "frame=12419\n",
      "fps=47.20\n",
      "stream_0_0_q=-0.0\n",
      "bitrate=N/A\n",
      "total_size=N/A\n",
      "out_time_us=495520000\n",
      "out_time_ms=495520000\n",
      "out_time=00:08:15.520000\n",
      "dup_frames=0\n",
      "drop_frames=0\n",
      "speed=1.88x\n",
      "progress=continue\n"
     ]
    },
    {
     "name": "stderr",
     "output_type": "stream",
     "text": [
      "frame=12438 fps= 47 q=-0.0 size=N/A time=00:08:16.28 bitrate=N/A speed=1.88x    \r"
     ]
    },
    {
     "name": "stdout",
     "output_type": "stream",
     "text": [
      "frame=12438\n",
      "fps=47.18\n",
      "stream_0_0_q=-0.0\n",
      "bitrate=N/A\n",
      "total_size=N/A\n",
      "out_time_us=496280000\n",
      "out_time_ms=496280000\n",
      "out_time=00:08:16.280000\n",
      "dup_frames=0\n",
      "drop_frames=0\n",
      "speed=1.88x\n",
      "progress=continue\n"
     ]
    },
    {
     "name": "stderr",
     "output_type": "stream",
     "text": [
      "frame=12456 fps= 47 q=-0.0 size=N/A time=00:08:17.00 bitrate=N/A speed=1.88x    \r"
     ]
    },
    {
     "name": "stdout",
     "output_type": "stream",
     "text": [
      "frame=12456\n",
      "fps=47.16\n",
      "stream_0_0_q=-0.0\n",
      "bitrate=N/A\n",
      "total_size=N/A\n",
      "out_time_us=497000000\n",
      "out_time_ms=497000000\n",
      "out_time=00:08:17.000000\n",
      "dup_frames=0\n",
      "drop_frames=0\n",
      "speed=1.88x\n",
      "progress=continue\n"
     ]
    },
    {
     "name": "stderr",
     "output_type": "stream",
     "text": [
      "frame=12473 fps= 47 q=-0.0 size=N/A time=00:08:17.68 bitrate=N/A speed=1.88x    \r"
     ]
    },
    {
     "name": "stdout",
     "output_type": "stream",
     "text": [
      "frame=12473\n",
      "fps=47.13\n",
      "stream_0_0_q=-0.0\n",
      "bitrate=N/A\n",
      "total_size=N/A\n",
      "out_time_us=497680000\n",
      "out_time_ms=497680000\n",
      "out_time=00:08:17.680000\n",
      "dup_frames=0\n",
      "drop_frames=0\n",
      "speed=1.88x\n",
      "progress=continue\n"
     ]
    },
    {
     "name": "stderr",
     "output_type": "stream",
     "text": [
      "frame=12490 fps= 47 q=-0.0 size=N/A time=00:08:18.36 bitrate=N/A speed=1.88x    \r"
     ]
    },
    {
     "name": "stdout",
     "output_type": "stream",
     "text": [
      "frame=12490\n",
      "fps=47.10\n",
      "stream_0_0_q=-0.0\n",
      "bitrate=N/A\n",
      "total_size=N/A\n",
      "out_time_us=498360000\n",
      "out_time_ms=498360000\n",
      "out_time=00:08:18.360000\n",
      "dup_frames=0\n",
      "drop_frames=0\n",
      "speed=1.88x\n",
      "progress=continue\n"
     ]
    },
    {
     "name": "stderr",
     "output_type": "stream",
     "text": [
      "frame=12507 fps= 47 q=-0.0 size=N/A time=00:08:19.04 bitrate=N/A speed=1.88x    \r"
     ]
    },
    {
     "name": "stdout",
     "output_type": "stream",
     "text": [
      "frame=12507\n",
      "fps=47.08\n",
      "stream_0_0_q=-0.0\n",
      "bitrate=N/A\n",
      "total_size=N/A\n",
      "out_time_us=499040000\n",
      "out_time_ms=499040000\n",
      "out_time=00:08:19.040000\n",
      "dup_frames=0\n",
      "drop_frames=0\n",
      "speed=1.88x\n",
      "progress=continue\n"
     ]
    },
    {
     "name": "stderr",
     "output_type": "stream",
     "text": [
      "frame=12524 fps= 47 q=-0.0 size=N/A time=00:08:19.72 bitrate=N/A speed=1.88x    \r"
     ]
    },
    {
     "name": "stdout",
     "output_type": "stream",
     "text": [
      "frame=12524\n",
      "fps=47.05\n",
      "stream_0_0_q=-0.0\n",
      "bitrate=N/A\n",
      "total_size=N/A\n",
      "out_time_us=499720000\n",
      "out_time_ms=499720000\n",
      "out_time=00:08:19.720000\n",
      "dup_frames=0\n",
      "drop_frames=0\n",
      "speed=1.88x\n",
      "progress=continue\n"
     ]
    },
    {
     "name": "stderr",
     "output_type": "stream",
     "text": [
      "frame=12540 fps= 47 q=-0.0 size=N/A time=00:08:20.36 bitrate=N/A speed=1.88x    \r"
     ]
    },
    {
     "name": "stdout",
     "output_type": "stream",
     "text": [
      "frame=12540\n",
      "fps=47.02\n",
      "stream_0_0_q=-0.0\n",
      "bitrate=N/A\n",
      "total_size=N/A\n",
      "out_time_us=500360000\n",
      "out_time_ms=500360000\n",
      "out_time=00:08:20.360000\n",
      "dup_frames=0\n",
      "drop_frames=0\n",
      "speed=1.88x\n",
      "progress=continue\n"
     ]
    },
    {
     "name": "stderr",
     "output_type": "stream",
     "text": [
      "frame=12558 fps= 47 q=-0.0 size=N/A time=00:08:21.08 bitrate=N/A speed=1.88x    \r"
     ]
    },
    {
     "name": "stdout",
     "output_type": "stream",
     "text": [
      "frame=12558\n",
      "fps=47.00\n",
      "stream_0_0_q=-0.0\n",
      "bitrate=N/A\n",
      "total_size=N/A\n",
      "out_time_us=501080000\n",
      "out_time_ms=501080000\n",
      "out_time=00:08:21.080000\n",
      "dup_frames=0\n",
      "drop_frames=0\n",
      "speed=1.88x\n",
      "progress=continue\n"
     ]
    },
    {
     "name": "stderr",
     "output_type": "stream",
     "text": [
      "frame=12577 fps= 47 q=-0.0 size=N/A time=00:08:21.84 bitrate=N/A speed=1.87x    \r"
     ]
    },
    {
     "name": "stdout",
     "output_type": "stream",
     "text": [
      "frame=12577\n",
      "fps=46.98\n",
      "stream_0_0_q=-0.0\n",
      "bitrate=N/A\n",
      "total_size=N/A\n",
      "out_time_us=501840000\n",
      "out_time_ms=501840000\n",
      "out_time=00:08:21.840000\n",
      "dup_frames=0\n",
      "drop_frames=0\n",
      "speed=1.87x\n",
      "progress=continue\n"
     ]
    },
    {
     "name": "stderr",
     "output_type": "stream",
     "text": [
      "frame=12597 fps= 47 q=-0.0 size=N/A time=00:08:22.64 bitrate=N/A speed=1.87x    \r"
     ]
    },
    {
     "name": "stdout",
     "output_type": "stream",
     "text": [
      "frame=12597\n",
      "fps=46.96\n",
      "stream_0_0_q=-0.0\n",
      "bitrate=N/A\n",
      "total_size=N/A\n",
      "out_time_us=502640000\n",
      "out_time_ms=502640000\n",
      "out_time=00:08:22.640000\n",
      "dup_frames=0\n",
      "drop_frames=0\n",
      "speed=1.87x\n",
      "progress=continue\n",
      "frame=12612\n",
      "fps=46.93\n",
      "stream_0_0_q=-0.0\n",
      "bitrate=N/A\n",
      "total_size=N/A\n",
      "out_time_us=503240000\n",
      "out_time_ms=503240000\n",
      "out_time=00:08:23.240000\n",
      "dup_frames=0\n",
      "drop_frames=0\n",
      "speed=1.87x\n",
      "progress=continue\n"
     ]
    },
    {
     "name": "stderr",
     "output_type": "stream",
     "text": [
      "frame=12624 fps= 47 q=-0.0 size=N/A time=00:08:23.72 bitrate=N/A speed=1.87x    \r"
     ]
    },
    {
     "name": "stdout",
     "output_type": "stream",
     "text": [
      "frame=12624\n",
      "fps=46.88\n",
      "stream_0_0_q=-0.0\n",
      "bitrate=N/A\n",
      "total_size=N/A\n",
      "out_time_us=503720000\n",
      "out_time_ms=503720000\n",
      "out_time=00:08:23.720000\n",
      "dup_frames=0\n",
      "drop_frames=0\n",
      "speed=1.87x\n",
      "progress=continue\n"
     ]
    },
    {
     "name": "stderr",
     "output_type": "stream",
     "text": [
      "frame=12642 fps= 47 q=-0.0 size=N/A time=00:08:24.44 bitrate=N/A speed=1.87x    \r"
     ]
    },
    {
     "name": "stdout",
     "output_type": "stream",
     "text": [
      "frame=12642\n",
      "fps=46.85\n",
      "stream_0_0_q=-0.0\n",
      "bitrate=N/A\n",
      "total_size=N/A\n",
      "out_time_us=504440000\n",
      "out_time_ms=504440000\n",
      "out_time=00:08:24.440000\n",
      "dup_frames=0\n",
      "drop_frames=0\n",
      "speed=1.87x\n",
      "progress=continue\n",
      "frame=12662\n",
      "fps=46.83\n",
      "stream_0_0_q=-0.0\n",
      "bitrate=N/A\n",
      "total_size=N/A\n",
      "out_time_us=505240000\n",
      "out_time_ms=505240000\n",
      "out_time=00:08:25.240000\n",
      "dup_frames=0\n",
      "drop_frames=0\n",
      "speed=1.87x\n",
      "progress=continue\n"
     ]
    },
    {
     "name": "stderr",
     "output_type": "stream",
     "text": [
      "frame=12681 fps= 47 q=-0.0 size=N/A time=00:08:26.00 bitrate=N/A speed=1.87x    \r"
     ]
    },
    {
     "name": "stdout",
     "output_type": "stream",
     "text": [
      "frame=12681\n",
      "fps=46.81\n",
      "stream_0_0_q=-0.0\n",
      "bitrate=N/A\n",
      "total_size=N/A\n",
      "out_time_us=506000000\n",
      "out_time_ms=506000000\n",
      "out_time=00:08:26.000000\n",
      "dup_frames=0\n",
      "drop_frames=0\n",
      "speed=1.87x\n",
      "progress=continue\n"
     ]
    },
    {
     "name": "stderr",
     "output_type": "stream",
     "text": [
      "frame=12698 fps= 47 q=-0.0 size=N/A time=00:08:26.68 bitrate=N/A speed=1.87x    \r"
     ]
    },
    {
     "name": "stdout",
     "output_type": "stream",
     "text": [
      "frame=12698\n",
      "fps=46.79\n",
      "stream_0_0_q=-0.0\n",
      "bitrate=N/A\n",
      "total_size=N/A\n",
      "out_time_us=506680000\n",
      "out_time_ms=506680000\n",
      "out_time=00:08:26.680000\n",
      "dup_frames=0\n",
      "drop_frames=0\n",
      "speed=1.87x\n",
      "progress=continue\n",
      "frame=12718\n",
      "fps=46.78\n",
      "stream_0_0_q=-0.0\n",
      "bitrate=N/A\n",
      "total_size=N/A\n",
      "out_time_us=507480000\n",
      "out_time_ms=507480000\n",
      "out_time=00:08:27.480000\n",
      "dup_frames=0\n",
      "drop_frames=0\n",
      "speed=1.87x\n",
      "progress=continue\n"
     ]
    },
    {
     "name": "stderr",
     "output_type": "stream",
     "text": [
      "frame=12718 fps= 47 q=-0.0 size=N/A time=00:08:27.48 bitrate=N/A speed=1.87x    \r"
     ]
    },
    {
     "name": "stdout",
     "output_type": "stream",
     "text": [
      "frame=12737\n",
      "fps=46.76\n",
      "stream_0_0_q=-0.0\n",
      "bitrate=N/A\n",
      "total_size=N/A\n",
      "out_time_us=508240000\n",
      "out_time_ms=508240000\n",
      "out_time=00:08:28.240000\n",
      "dup_frames=0\n",
      "drop_frames=0\n",
      "speed=1.87x\n",
      "progress=continue\n"
     ]
    },
    {
     "name": "stderr",
     "output_type": "stream",
     "text": [
      "frame=12755 fps= 47 q=-0.0 size=N/A time=00:08:28.96 bitrate=N/A speed=1.86x    \r"
     ]
    },
    {
     "name": "stdout",
     "output_type": "stream",
     "text": [
      "frame=12755\n",
      "fps=46.74\n",
      "stream_0_0_q=-0.0\n",
      "bitrate=N/A\n",
      "total_size=N/A\n",
      "out_time_us=508960000\n",
      "out_time_ms=508960000\n",
      "out_time=00:08:28.960000\n",
      "dup_frames=0\n",
      "drop_frames=0\n",
      "speed=1.86x\n",
      "progress=continue\n"
     ]
    },
    {
     "name": "stderr",
     "output_type": "stream",
     "text": [
      "frame=12775 fps= 47 q=-0.0 size=N/A time=00:08:29.76 bitrate=N/A speed=1.86x    \r"
     ]
    },
    {
     "name": "stdout",
     "output_type": "stream",
     "text": [
      "frame=12775\n",
      "fps=46.72\n",
      "stream_0_0_q=-0.0\n",
      "bitrate=N/A\n",
      "total_size=N/A\n",
      "out_time_us=509760000\n",
      "out_time_ms=509760000\n",
      "out_time=00:08:29.760000\n",
      "dup_frames=0\n",
      "drop_frames=0\n",
      "speed=1.86x\n",
      "progress=continue\n"
     ]
    },
    {
     "name": "stderr",
     "output_type": "stream",
     "text": [
      "frame=12788 fps= 47 q=-0.0 size=N/A time=00:08:30.28 bitrate=N/A speed=1.86x    \r"
     ]
    },
    {
     "name": "stdout",
     "output_type": "stream",
     "text": [
      "frame=12788\n",
      "fps=46.68\n",
      "stream_0_0_q=-0.0\n",
      "bitrate=N/A\n",
      "total_size=N/A\n",
      "out_time_us=510280000\n",
      "out_time_ms=510280000\n",
      "out_time=00:08:30.280000\n",
      "dup_frames=0\n",
      "drop_frames=0\n",
      "speed=1.86x\n",
      "progress=continue\n"
     ]
    },
    {
     "name": "stderr",
     "output_type": "stream",
     "text": [
      "frame=12799 fps= 47 q=-0.0 size=N/A time=00:08:30.72 bitrate=N/A speed=1.86x    \r"
     ]
    },
    {
     "name": "stdout",
     "output_type": "stream",
     "text": [
      "frame=12799\n",
      "fps=46.63\n",
      "stream_0_0_q=-0.0\n",
      "bitrate=N/A\n",
      "total_size=N/A\n",
      "out_time_us=510720000\n",
      "out_time_ms=510720000\n",
      "out_time=00:08:30.720000\n",
      "dup_frames=0\n",
      "drop_frames=0\n",
      "speed=1.86x\n",
      "progress=continue\n"
     ]
    },
    {
     "name": "stderr",
     "output_type": "stream",
     "text": [
      "frame=12832 fps= 47 q=-0.0 size=N/A time=00:08:32.04 bitrate=N/A speed=1.86x    \r"
     ]
    },
    {
     "name": "stdout",
     "output_type": "stream",
     "text": [
      "frame=12832\n",
      "fps=46.67\n",
      "stream_0_0_q=-0.0\n",
      "bitrate=N/A\n",
      "total_size=N/A\n",
      "out_time_us=512040000\n",
      "out_time_ms=512040000\n",
      "out_time=00:08:32.040000\n",
      "dup_frames=0\n",
      "drop_frames=0\n",
      "speed=1.86x\n",
      "progress=continue\n",
      "frame=12851\n",
      "fps=46.64\n",
      "stream_0_0_q=-0.0\n",
      "bitrate=N/A\n",
      "total_size=N/A\n",
      "out_time_us=512800000\n",
      "out_time_ms=512800000\n",
      "out_time=00:08:32.800000\n",
      "dup_frames=0\n",
      "drop_frames=0\n",
      "speed=1.86x\n",
      "progress=continue\n"
     ]
    },
    {
     "name": "stderr",
     "output_type": "stream",
     "text": [
      "frame=12851 fps= 47 q=-0.0 size=N/A time=00:08:32.80 bitrate=N/A speed=1.86x    \r"
     ]
    },
    {
     "name": "stdout",
     "output_type": "stream",
     "text": [
      "frame=12869\n",
      "fps=46.62\n",
      "stream_0_0_q=-0.0\n",
      "bitrate=N/A\n",
      "total_size=N/A\n",
      "out_time_us=513520000\n",
      "out_time_ms=513520000\n",
      "out_time=00:08:33.520000\n",
      "dup_frames=0\n",
      "drop_frames=0\n",
      "speed=1.86x\n",
      "progress=continue\n"
     ]
    },
    {
     "name": "stderr",
     "output_type": "stream",
     "text": [
      "frame=12869 fps= 47 q=-0.0 size=N/A time=00:08:33.52 bitrate=N/A speed=1.86x    \r"
     ]
    },
    {
     "name": "stdout",
     "output_type": "stream",
     "text": [
      "frame=12887\n",
      "fps=46.60\n",
      "stream_0_0_q=-0.0\n",
      "bitrate=N/A\n",
      "total_size=N/A\n",
      "out_time_us=514240000\n",
      "out_time_ms=514240000\n",
      "out_time=00:08:34.240000\n",
      "dup_frames=0\n",
      "drop_frames=0\n",
      "speed=1.86x\n",
      "progress=continue\n"
     ]
    },
    {
     "name": "stderr",
     "output_type": "stream",
     "text": [
      "frame=12887 fps= 47 q=-0.0 size=N/A time=00:08:34.24 bitrate=N/A speed=1.86x    \r"
     ]
    },
    {
     "name": "stdout",
     "output_type": "stream",
     "text": [
      "frame=12906\n",
      "fps=46.58\n",
      "stream_0_0_q=-0.0\n",
      "bitrate=N/A\n",
      "total_size=N/A\n",
      "out_time_us=515000000\n",
      "out_time_ms=515000000\n",
      "out_time=00:08:35.000000\n",
      "dup_frames=0\n",
      "drop_frames=0\n",
      "speed=1.86x\n",
      "progress=continue\n"
     ]
    },
    {
     "name": "stderr",
     "output_type": "stream",
     "text": [
      "frame=12923 fps= 47 q=-0.0 size=N/A time=00:08:35.68 bitrate=N/A speed=1.86x    \r"
     ]
    },
    {
     "name": "stdout",
     "output_type": "stream",
     "text": [
      "frame=12923\n",
      "fps=46.55\n",
      "stream_0_0_q=-0.0\n",
      "bitrate=N/A\n",
      "total_size=N/A\n",
      "out_time_us=515680000\n",
      "out_time_ms=515680000\n",
      "out_time=00:08:35.680000\n",
      "dup_frames=0\n",
      "drop_frames=0\n",
      "speed=1.86x\n",
      "progress=continue\n"
     ]
    },
    {
     "name": "stderr",
     "output_type": "stream",
     "text": [
      "frame=12941 fps= 47 q=-0.0 size=N/A time=00:08:36.40 bitrate=N/A speed=1.86x    \r"
     ]
    },
    {
     "name": "stdout",
     "output_type": "stream",
     "text": [
      "frame=12941\n",
      "fps=46.53\n",
      "stream_0_0_q=-0.0\n",
      "bitrate=N/A\n",
      "total_size=N/A\n",
      "out_time_us=516400000\n",
      "out_time_ms=516400000\n",
      "out_time=00:08:36.400000\n",
      "dup_frames=0\n",
      "drop_frames=0\n",
      "speed=1.86x\n",
      "progress=continue\n"
     ]
    },
    {
     "name": "stderr",
     "output_type": "stream",
     "text": [
      "frame=12959 fps= 47 q=-0.0 size=N/A time=00:08:37.12 bitrate=N/A speed=1.86x    \r"
     ]
    },
    {
     "name": "stdout",
     "output_type": "stream",
     "text": [
      "frame=12959\n",
      "fps=46.51\n",
      "stream_0_0_q=-0.0\n",
      "bitrate=N/A\n",
      "total_size=N/A\n",
      "out_time_us=517120000\n",
      "out_time_ms=517120000\n",
      "out_time=00:08:37.120000\n",
      "dup_frames=0\n",
      "drop_frames=0\n",
      "speed=1.86x\n",
      "progress=continue\n"
     ]
    },
    {
     "name": "stderr",
     "output_type": "stream",
     "text": [
      "frame=12977 fps= 46 q=-0.0 size=N/A time=00:08:37.84 bitrate=N/A speed=1.85x    \r"
     ]
    },
    {
     "name": "stdout",
     "output_type": "stream",
     "text": [
      "frame=12977\n",
      "fps=46.49\n",
      "stream_0_0_q=-0.0\n",
      "bitrate=N/A\n",
      "total_size=N/A\n",
      "out_time_us=517840000\n",
      "out_time_ms=517840000\n",
      "out_time=00:08:37.840000\n",
      "dup_frames=0\n",
      "drop_frames=0\n",
      "speed=1.85x\n",
      "progress=continue\n"
     ]
    },
    {
     "name": "stderr",
     "output_type": "stream",
     "text": [
      "frame=12993 fps= 46 q=-0.0 size=N/A time=00:08:38.48 bitrate=N/A speed=1.85x    \r"
     ]
    },
    {
     "name": "stdout",
     "output_type": "stream",
     "text": [
      "frame=12993\n",
      "fps=46.46\n",
      "stream_0_0_q=-0.0\n",
      "bitrate=N/A\n",
      "total_size=N/A\n",
      "out_time_us=518480000\n",
      "out_time_ms=518480000\n",
      "out_time=00:08:38.480000\n",
      "dup_frames=0\n",
      "drop_frames=0\n",
      "speed=1.85x\n",
      "progress=continue\n"
     ]
    },
    {
     "name": "stderr",
     "output_type": "stream",
     "text": [
      "frame=13008 fps= 46 q=-0.0 size=N/A time=00:08:39.08 bitrate=N/A speed=1.85x    \r"
     ]
    },
    {
     "name": "stdout",
     "output_type": "stream",
     "text": [
      "frame=13008\n",
      "fps=46.43\n",
      "stream_0_0_q=-0.0\n",
      "bitrate=N/A\n",
      "total_size=N/A\n",
      "out_time_us=519080000\n",
      "out_time_ms=519080000\n",
      "out_time=00:08:39.080000\n",
      "dup_frames=0\n",
      "drop_frames=0\n",
      "speed=1.85x\n",
      "progress=continue\n"
     ]
    },
    {
     "name": "stderr",
     "output_type": "stream",
     "text": [
      "frame=13024 fps= 46 q=-0.0 size=N/A time=00:08:39.72 bitrate=N/A speed=1.85x    \r"
     ]
    },
    {
     "name": "stdout",
     "output_type": "stream",
     "text": [
      "frame=13024\n",
      "fps=46.40\n",
      "stream_0_0_q=-0.0\n",
      "bitrate=N/A\n",
      "total_size=N/A\n",
      "out_time_us=519720000\n",
      "out_time_ms=519720000\n",
      "out_time=00:08:39.720000\n",
      "dup_frames=0\n",
      "drop_frames=0\n",
      "speed=1.85x\n",
      "progress=continue\n"
     ]
    },
    {
     "name": "stderr",
     "output_type": "stream",
     "text": [
      "frame=13041 fps= 46 q=-0.0 size=N/A time=00:08:40.40 bitrate=N/A speed=1.85x    \r"
     ]
    },
    {
     "name": "stdout",
     "output_type": "stream",
     "text": [
      "frame=13041\n",
      "fps=46.37\n",
      "stream_0_0_q=-0.0\n",
      "bitrate=N/A\n",
      "total_size=N/A\n",
      "out_time_us=520400000\n",
      "out_time_ms=520400000\n",
      "out_time=00:08:40.400000\n",
      "dup_frames=0\n",
      "drop_frames=0\n",
      "speed=1.85x\n",
      "progress=continue\n"
     ]
    },
    {
     "name": "stderr",
     "output_type": "stream",
     "text": [
      "frame=13055 fps= 46 q=-0.0 size=N/A time=00:08:40.96 bitrate=N/A speed=1.85x    \r"
     ]
    },
    {
     "name": "stdout",
     "output_type": "stream",
     "text": [
      "frame=13055\n",
      "fps=46.34\n",
      "stream_0_0_q=-0.0\n",
      "bitrate=N/A\n",
      "total_size=N/A\n",
      "out_time_us=520960000\n",
      "out_time_ms=520960000\n",
      "out_time=00:08:40.960000\n",
      "dup_frames=0\n",
      "drop_frames=0\n",
      "speed=1.85x\n",
      "progress=continue\n"
     ]
    },
    {
     "name": "stderr",
     "output_type": "stream",
     "text": [
      "frame=13074 fps= 46 q=-0.0 size=N/A time=00:08:41.72 bitrate=N/A speed=1.85x    \r"
     ]
    },
    {
     "name": "stdout",
     "output_type": "stream",
     "text": [
      "frame=13074\n",
      "fps=46.32\n",
      "stream_0_0_q=-0.0\n",
      "bitrate=N/A\n",
      "total_size=N/A\n",
      "out_time_us=521720000\n",
      "out_time_ms=521720000\n",
      "out_time=00:08:41.720000\n",
      "dup_frames=0\n",
      "drop_frames=0\n",
      "speed=1.85x\n",
      "progress=continue\n"
     ]
    },
    {
     "name": "stderr",
     "output_type": "stream",
     "text": [
      "frame=13093 fps= 46 q=-0.0 size=N/A time=00:08:42.48 bitrate=N/A speed=1.85x    \r"
     ]
    },
    {
     "name": "stdout",
     "output_type": "stream",
     "text": [
      "frame=13093\n",
      "fps=46.30\n",
      "stream_0_0_q=-0.0\n",
      "bitrate=N/A\n",
      "total_size=N/A\n",
      "out_time_us=522480000\n",
      "out_time_ms=522480000\n",
      "out_time=00:08:42.480000\n",
      "dup_frames=0\n",
      "drop_frames=0\n",
      "speed=1.85x\n",
      "progress=continue\n"
     ]
    },
    {
     "name": "stderr",
     "output_type": "stream",
     "text": [
      "frame=13112 fps= 46 q=-0.0 size=N/A time=00:08:43.24 bitrate=N/A speed=1.85x    \r"
     ]
    },
    {
     "name": "stdout",
     "output_type": "stream",
     "text": [
      "frame=13112\n",
      "fps=46.28\n",
      "stream_0_0_q=-0.0\n",
      "bitrate=N/A\n",
      "total_size=N/A\n",
      "out_time_us=523240000\n",
      "out_time_ms=523240000\n",
      "out_time=00:08:43.240000\n",
      "dup_frames=0\n",
      "drop_frames=0\n",
      "speed=1.85x\n",
      "progress=continue\n"
     ]
    },
    {
     "name": "stderr",
     "output_type": "stream",
     "text": [
      "frame=13129 fps= 46 q=-0.0 size=N/A time=00:08:43.92 bitrate=N/A speed=1.85x    \r"
     ]
    },
    {
     "name": "stdout",
     "output_type": "stream",
     "text": [
      "frame=13129\n",
      "fps=46.26\n",
      "stream_0_0_q=-0.0\n",
      "bitrate=N/A\n",
      "total_size=N/A\n",
      "out_time_us=523920000\n",
      "out_time_ms=523920000\n",
      "out_time=00:08:43.920000\n",
      "dup_frames=0\n",
      "drop_frames=0\n",
      "speed=1.85x\n",
      "progress=continue\n",
      "frame=13143\n",
      "fps=46.21\n",
      "stream_0_0_q=-0.0\n",
      "bitrate=N/A\n",
      "total_size=N/A\n",
      "out_time_us=524480000\n",
      "out_time_ms=524480000\n",
      "out_time=00:08:44.480000\n",
      "dup_frames=0\n",
      "drop_frames=0\n",
      "speed=1.84x\n",
      "progress=continue\n"
     ]
    },
    {
     "name": "stderr",
     "output_type": "stream",
     "text": [
      "frame=13143 fps= 46 q=-0.0 size=N/A time=00:08:44.48 bitrate=N/A speed=1.84x    \r"
     ]
    },
    {
     "name": "stdout",
     "output_type": "stream",
     "text": [
      "frame=13161\n",
      "fps=46.19\n",
      "stream_0_0_q=-0.0\n",
      "bitrate=N/A\n",
      "total_size=N/A\n",
      "out_time_us=525200000\n",
      "out_time_ms=525200000\n",
      "out_time=00:08:45.200000\n",
      "dup_frames=0\n",
      "drop_frames=0\n",
      "speed=1.84x\n",
      "progress=continue\n"
     ]
    },
    {
     "name": "stderr",
     "output_type": "stream",
     "text": [
      "frame=13161 fps= 46 q=-0.0 size=N/A time=00:08:45.20 bitrate=N/A speed=1.84x    \r"
     ]
    },
    {
     "name": "stdout",
     "output_type": "stream",
     "text": [
      "frame=13178\n",
      "fps=46.17\n",
      "stream_0_0_q=-0.0\n",
      "bitrate=N/A\n",
      "total_size=N/A\n",
      "out_time_us=525880000\n",
      "out_time_ms=525880000\n",
      "out_time=00:08:45.880000\n",
      "dup_frames=0\n",
      "drop_frames=0\n",
      "speed=1.84x\n",
      "progress=continue\n"
     ]
    },
    {
     "name": "stderr",
     "output_type": "stream",
     "text": [
      "frame=13196 fps= 46 q=-0.0 size=N/A time=00:08:46.60 bitrate=N/A speed=1.84x    \r"
     ]
    },
    {
     "name": "stdout",
     "output_type": "stream",
     "text": [
      "frame=13196\n",
      "fps=46.15\n",
      "stream_0_0_q=-0.0\n",
      "bitrate=N/A\n",
      "total_size=N/A\n",
      "out_time_us=526600000\n",
      "out_time_ms=526600000\n",
      "out_time=00:08:46.600000\n",
      "dup_frames=0\n",
      "drop_frames=0\n",
      "speed=1.84x\n",
      "progress=continue\n",
      "frame=13215\n",
      "fps=46.13\n",
      "stream_0_0_q=-0.0\n",
      "bitrate=N/A\n",
      "total_size=N/A\n",
      "out_time_us=527360000\n",
      "out_time_ms=527360000\n",
      "out_time=00:08:47.360000\n",
      "dup_frames=0\n",
      "drop_frames=0\n",
      "speed=1.84x\n",
      "progress=continue\n"
     ]
    },
    {
     "name": "stderr",
     "output_type": "stream",
     "text": [
      "frame=13215 fps= 46 q=-0.0 size=N/A time=00:08:47.36 bitrate=N/A speed=1.84x    \r"
     ]
    },
    {
     "name": "stdout",
     "output_type": "stream",
     "text": [
      "frame=13233\n",
      "fps=46.11\n",
      "stream_0_0_q=-0.0\n",
      "bitrate=N/A\n",
      "total_size=N/A\n",
      "out_time_us=528080000\n",
      "out_time_ms=528080000\n",
      "out_time=00:08:48.080000\n",
      "dup_frames=0\n",
      "drop_frames=0\n",
      "speed=1.84x\n",
      "progress=continue\n"
     ]
    },
    {
     "name": "stderr",
     "output_type": "stream",
     "text": [
      "frame=13233 fps= 46 q=-0.0 size=N/A time=00:08:48.08 bitrate=N/A speed=1.84x    \r"
     ]
    },
    {
     "name": "stdout",
     "output_type": "stream",
     "text": [
      "frame=13252\n",
      "fps=46.10\n",
      "stream_0_0_q=-0.0\n",
      "bitrate=N/A\n",
      "total_size=N/A\n",
      "out_time_us=528840000\n",
      "out_time_ms=528840000\n",
      "out_time=00:08:48.840000\n",
      "dup_frames=0\n",
      "drop_frames=0\n",
      "speed=1.84x\n",
      "progress=continue\n"
     ]
    },
    {
     "name": "stderr",
     "output_type": "stream",
     "text": [
      "frame=13252 fps= 46 q=-0.0 size=N/A time=00:08:48.84 bitrate=N/A speed=1.84x    \r"
     ]
    },
    {
     "name": "stdout",
     "output_type": "stream",
     "text": [
      "frame=13271\n",
      "fps=46.08\n",
      "stream_0_0_q=-0.0\n",
      "bitrate=N/A\n",
      "total_size=N/A\n",
      "out_time_us=529600000\n",
      "out_time_ms=529600000\n",
      "out_time=00:08:49.600000\n",
      "dup_frames=0\n",
      "drop_frames=0\n",
      "speed=1.84x\n",
      "progress=continue\n"
     ]
    },
    {
     "name": "stderr",
     "output_type": "stream",
     "text": [
      "frame=13289 fps= 46 q=-0.0 size=N/A time=00:08:50.32 bitrate=N/A speed=1.84x    \r"
     ]
    },
    {
     "name": "stdout",
     "output_type": "stream",
     "text": [
      "frame=13289\n",
      "fps=46.07\n",
      "stream_0_0_q=-0.0\n",
      "bitrate=N/A\n",
      "total_size=N/A\n",
      "out_time_us=530320000\n",
      "out_time_ms=530320000\n",
      "out_time=00:08:50.320000\n",
      "dup_frames=0\n",
      "drop_frames=0\n",
      "speed=1.84x\n",
      "progress=continue\n",
      "frame=13307\n",
      "fps=46.05\n",
      "stream_0_0_q=-0.0\n",
      "bitrate=N/A\n",
      "total_size=N/A\n",
      "out_time_us=531040000\n",
      "out_time_ms=531040000\n",
      "out_time=00:08:51.040000\n",
      "dup_frames=0\n",
      "drop_frames=0\n",
      "speed=1.84x\n",
      "progress=continue\n"
     ]
    },
    {
     "name": "stderr",
     "output_type": "stream",
     "text": [
      "frame=13307 fps= 46 q=-0.0 size=N/A time=00:08:51.04 bitrate=N/A speed=1.84x    \r"
     ]
    },
    {
     "name": "stdout",
     "output_type": "stream",
     "text": [
      "frame=13323\n",
      "fps=46.01\n",
      "stream_0_0_q=-0.0\n",
      "bitrate=N/A\n",
      "total_size=N/A\n",
      "out_time_us=531680000\n",
      "out_time_ms=531680000\n",
      "out_time=00:08:51.680000\n",
      "dup_frames=0\n",
      "drop_frames=0\n",
      "speed=1.84x\n",
      "progress=continue\n"
     ]
    },
    {
     "name": "stderr",
     "output_type": "stream",
     "text": [
      "frame=13323 fps= 46 q=-0.0 size=N/A time=00:08:51.68 bitrate=N/A speed=1.84x    \r"
     ]
    },
    {
     "name": "stdout",
     "output_type": "stream",
     "text": [
      "frame=13348\n",
      "fps=46.02\n",
      "stream_0_0_q=-0.0\n",
      "bitrate=N/A\n",
      "total_size=N/A\n",
      "out_time_us=532680000\n",
      "out_time_ms=532680000\n",
      "out_time=00:08:52.680000\n",
      "dup_frames=0\n",
      "drop_frames=0\n",
      "speed=1.84x\n",
      "progress=continue\n"
     ]
    },
    {
     "name": "stderr",
     "output_type": "stream",
     "text": [
      "frame=13348 fps= 46 q=-0.0 size=N/A time=00:08:52.68 bitrate=N/A speed=1.84x    \r"
     ]
    },
    {
     "name": "stdout",
     "output_type": "stream",
     "text": [
      "frame=13368\n",
      "fps=46.00\n",
      "stream_0_0_q=-0.0\n",
      "bitrate=N/A\n",
      "total_size=N/A\n",
      "out_time_us=533480000\n",
      "out_time_ms=533480000\n",
      "out_time=00:08:53.480000\n",
      "dup_frames=0\n",
      "drop_frames=0\n",
      "speed=1.84x\n",
      "progress=continue\n"
     ]
    },
    {
     "name": "stderr",
     "output_type": "stream",
     "text": [
      "frame=13368 fps= 46 q=-0.0 size=N/A time=00:08:53.48 bitrate=N/A speed=1.84x    \r"
     ]
    },
    {
     "name": "stdout",
     "output_type": "stream",
     "text": [
      "frame=13386\n",
      "fps=45.98\n",
      "stream_0_0_q=-0.0\n",
      "bitrate=N/A\n",
      "total_size=N/A\n",
      "out_time_us=534200000\n",
      "out_time_ms=534200000\n",
      "out_time=00:08:54.200000\n",
      "dup_frames=0\n",
      "drop_frames=0\n",
      "speed=1.84x\n",
      "progress=continue\n"
     ]
    },
    {
     "name": "stderr",
     "output_type": "stream",
     "text": [
      "frame=13386 fps= 46 q=-0.0 size=N/A time=00:08:54.20 bitrate=N/A speed=1.84x    \r"
     ]
    },
    {
     "name": "stdout",
     "output_type": "stream",
     "text": [
      "frame=13405\n",
      "fps=45.97\n",
      "stream_0_0_q=-0.0\n",
      "bitrate=N/A\n",
      "total_size=N/A\n",
      "out_time_us=534960000\n",
      "out_time_ms=534960000\n",
      "out_time=00:08:54.960000\n",
      "dup_frames=0\n",
      "drop_frames=0\n",
      "speed=1.83x\n",
      "progress=continue\n"
     ]
    },
    {
     "name": "stderr",
     "output_type": "stream",
     "text": [
      "frame=13405 fps= 46 q=-0.0 size=N/A time=00:08:54.96 bitrate=N/A speed=1.83x    \r"
     ]
    },
    {
     "name": "stdout",
     "output_type": "stream",
     "text": [
      "frame=13425\n",
      "fps=45.96\n",
      "stream_0_0_q=-0.0\n",
      "bitrate=N/A\n",
      "total_size=N/A\n",
      "out_time_us=535760000\n",
      "out_time_ms=535760000\n",
      "out_time=00:08:55.760000\n",
      "dup_frames=0\n",
      "drop_frames=0\n",
      "speed=1.83x\n",
      "progress=continue\n"
     ]
    },
    {
     "name": "stderr",
     "output_type": "stream",
     "text": [
      "frame=13425 fps= 46 q=-0.0 size=N/A time=00:08:55.76 bitrate=N/A speed=1.83x    \r"
     ]
    },
    {
     "name": "stdout",
     "output_type": "stream",
     "text": [
      "frame=13444\n",
      "fps=45.94\n",
      "stream_0_0_q=-0.0\n",
      "bitrate=N/A\n",
      "total_size=N/A\n",
      "out_time_us=536520000\n",
      "out_time_ms=536520000\n",
      "out_time=00:08:56.520000\n",
      "dup_frames=0\n",
      "drop_frames=0\n",
      "speed=1.83x\n",
      "progress=continue\n"
     ]
    },
    {
     "name": "stderr",
     "output_type": "stream",
     "text": [
      "frame=13444 fps= 46 q=-0.0 size=N/A time=00:08:56.52 bitrate=N/A speed=1.83x    \r"
     ]
    },
    {
     "name": "stdout",
     "output_type": "stream",
     "text": [
      "frame=13463\n",
      "fps=45.93\n",
      "stream_0_0_q=-0.0\n",
      "bitrate=N/A\n",
      "total_size=N/A\n",
      "out_time_us=537280000\n",
      "out_time_ms=537280000\n",
      "out_time=00:08:57.280000\n",
      "dup_frames=0\n",
      "drop_frames=0\n",
      "speed=1.83x\n",
      "progress=continue\n"
     ]
    },
    {
     "name": "stderr",
     "output_type": "stream",
     "text": [
      "frame=13463 fps= 46 q=-0.0 size=N/A time=00:08:57.28 bitrate=N/A speed=1.83x    \r"
     ]
    },
    {
     "name": "stdout",
     "output_type": "stream",
     "text": [
      "frame=13480\n",
      "fps=45.90\n",
      "stream_0_0_q=-0.0\n",
      "bitrate=N/A\n",
      "total_size=N/A\n",
      "out_time_us=537960000\n",
      "out_time_ms=537960000\n",
      "out_time=00:08:57.960000\n",
      "dup_frames=0\n",
      "drop_frames=0\n",
      "speed=1.83x\n",
      "progress=continue\n"
     ]
    },
    {
     "name": "stderr",
     "output_type": "stream",
     "text": [
      "frame=13480 fps= 46 q=-0.0 size=N/A time=00:08:57.96 bitrate=N/A speed=1.83x    \r"
     ]
    },
    {
     "name": "stdout",
     "output_type": "stream",
     "text": [
      "frame=13500\n",
      "fps=45.89\n",
      "stream_0_0_q=-0.0\n",
      "bitrate=N/A\n",
      "total_size=N/A\n",
      "out_time_us=538760000\n",
      "out_time_ms=538760000\n",
      "out_time=00:08:58.760000\n",
      "dup_frames=0\n",
      "drop_frames=0\n",
      "speed=1.83x\n",
      "progress=continue\n"
     ]
    },
    {
     "name": "stderr",
     "output_type": "stream",
     "text": [
      "frame=13500 fps= 46 q=-0.0 size=N/A time=00:08:58.76 bitrate=N/A speed=1.83x    \r"
     ]
    },
    {
     "name": "stdout",
     "output_type": "stream",
     "text": [
      "frame=13518\n",
      "fps=45.87\n",
      "stream_0_0_q=-0.0\n",
      "bitrate=N/A\n",
      "total_size=N/A\n",
      "out_time_us=539480000\n",
      "out_time_ms=539480000\n",
      "out_time=00:08:59.480000\n",
      "dup_frames=0\n",
      "drop_frames=0\n",
      "speed=1.83x\n",
      "progress=continue\n"
     ]
    },
    {
     "name": "stderr",
     "output_type": "stream",
     "text": [
      "frame=13518 fps= 46 q=-0.0 size=N/A time=00:08:59.48 bitrate=N/A speed=1.83x    \r"
     ]
    },
    {
     "name": "stdout",
     "output_type": "stream",
     "text": [
      "frame=13537\n",
      "fps=45.86\n",
      "stream_0_0_q=-0.0\n",
      "bitrate=N/A\n",
      "total_size=N/A\n",
      "out_time_us=540240000\n",
      "out_time_ms=540240000\n",
      "out_time=00:09:00.240000\n",
      "dup_frames=0\n",
      "drop_frames=0\n",
      "speed=1.83x\n",
      "progress=continue\n"
     ]
    },
    {
     "name": "stderr",
     "output_type": "stream",
     "text": [
      "frame=13537 fps= 46 q=-0.0 size=N/A time=00:09:00.24 bitrate=N/A speed=1.83x    \r"
     ]
    },
    {
     "name": "stdout",
     "output_type": "stream",
     "text": [
      "frame=13553\n",
      "fps=45.83\n",
      "stream_0_0_q=-0.0\n",
      "bitrate=N/A\n",
      "total_size=N/A\n",
      "out_time_us=540880000\n",
      "out_time_ms=540880000\n",
      "out_time=00:09:00.880000\n",
      "dup_frames=0\n",
      "drop_frames=0\n",
      "speed=1.83x\n",
      "progress=continue\n"
     ]
    },
    {
     "name": "stderr",
     "output_type": "stream",
     "text": [
      "frame=13553 fps= 46 q=-0.0 size=N/A time=00:09:00.88 bitrate=N/A speed=1.83x    \r"
     ]
    },
    {
     "name": "stdout",
     "output_type": "stream",
     "text": [
      "frame=13575\n",
      "fps=45.82\n",
      "stream_0_0_q=-0.0\n",
      "bitrate=N/A\n",
      "total_size=N/A\n",
      "out_time_us=541760000\n",
      "out_time_ms=541760000\n",
      "out_time=00:09:01.760000\n",
      "dup_frames=0\n",
      "drop_frames=0\n",
      "speed=1.83x\n",
      "progress=continue\n"
     ]
    },
    {
     "name": "stderr",
     "output_type": "stream",
     "text": [
      "frame=13594 fps= 46 q=-0.0 size=N/A time=00:09:02.52 bitrate=N/A speed=1.83x    \r"
     ]
    },
    {
     "name": "stdout",
     "output_type": "stream",
     "text": [
      "frame=13594\n",
      "fps=45.81\n",
      "stream_0_0_q=-0.0\n",
      "bitrate=N/A\n",
      "total_size=N/A\n",
      "out_time_us=542520000\n",
      "out_time_ms=542520000\n",
      "out_time=00:09:02.520000\n",
      "dup_frames=0\n",
      "drop_frames=0\n",
      "speed=1.83x\n",
      "progress=continue\n",
      "frame=13612\n",
      "fps=45.79\n",
      "stream_0_0_q=-0.0\n",
      "bitrate=N/A\n",
      "total_size=N/A\n",
      "out_time_us=543240000\n",
      "out_time_ms=543240000\n",
      "out_time=00:09:03.240000\n",
      "dup_frames=0\n",
      "drop_frames=0\n",
      "speed=1.83x\n",
      "progress=continue\n"
     ]
    },
    {
     "name": "stderr",
     "output_type": "stream",
     "text": [
      "frame=13612 fps= 46 q=-0.0 size=N/A time=00:09:03.24 bitrate=N/A speed=1.83x    \r"
     ]
    },
    {
     "name": "stdout",
     "output_type": "stream",
     "text": [
      "frame=13632\n",
      "fps=45.78\n",
      "stream_0_0_q=-0.0\n",
      "bitrate=N/A\n",
      "total_size=N/A\n",
      "out_time_us=544040000\n",
      "out_time_ms=544040000\n",
      "out_time=00:09:04.040000\n",
      "dup_frames=0\n",
      "drop_frames=0\n",
      "speed=1.83x\n",
      "progress=continue\n"
     ]
    },
    {
     "name": "stderr",
     "output_type": "stream",
     "text": [
      "frame=13632 fps= 46 q=-0.0 size=N/A time=00:09:04.04 bitrate=N/A speed=1.83x    \r"
     ]
    },
    {
     "name": "stdout",
     "output_type": "stream",
     "text": [
      "frame=13649\n",
      "fps=45.75\n",
      "stream_0_0_q=-0.0\n",
      "bitrate=N/A\n",
      "total_size=N/A\n",
      "out_time_us=544720000\n",
      "out_time_ms=544720000\n",
      "out_time=00:09:04.720000\n",
      "dup_frames=0\n",
      "drop_frames=0\n",
      "speed=1.83x\n",
      "progress=continue\n"
     ]
    },
    {
     "name": "stderr",
     "output_type": "stream",
     "text": [
      "frame=13664 fps= 46 q=-0.0 size=N/A time=00:09:05.32 bitrate=N/A speed=1.82x    \r"
     ]
    },
    {
     "name": "stdout",
     "output_type": "stream",
     "text": [
      "frame=13664\n",
      "fps=45.71\n",
      "stream_0_0_q=-0.0\n",
      "bitrate=N/A\n",
      "total_size=N/A\n",
      "out_time_us=545320000\n",
      "out_time_ms=545320000\n",
      "out_time=00:09:05.320000\n",
      "dup_frames=0\n",
      "drop_frames=0\n",
      "speed=1.82x\n",
      "progress=continue\n",
      "frame=13689\n",
      "fps=45.71\n",
      "stream_0_0_q=-0.0\n",
      "bitrate=N/A\n",
      "total_size=N/A\n",
      "out_time_us=546320000\n",
      "out_time_ms=546320000\n",
      "out_time=00:09:06.320000\n",
      "dup_frames=0\n",
      "drop_frames=0\n",
      "speed=1.82x\n",
      "progress=continue\n"
     ]
    },
    {
     "name": "stderr",
     "output_type": "stream",
     "text": [
      "frame=13709 fps= 46 q=-0.0 size=N/A time=00:09:07.12 bitrate=N/A speed=1.82x    \r"
     ]
    },
    {
     "name": "stdout",
     "output_type": "stream",
     "text": [
      "frame=13709\n",
      "fps=45.70\n",
      "stream_0_0_q=-0.0\n",
      "bitrate=N/A\n",
      "total_size=N/A\n",
      "out_time_us=547120000\n",
      "out_time_ms=547120000\n",
      "out_time=00:09:07.120000\n",
      "dup_frames=0\n",
      "drop_frames=0\n",
      "speed=1.82x\n",
      "progress=continue\n"
     ]
    },
    {
     "name": "stderr",
     "output_type": "stream",
     "text": [
      "frame=13727 fps= 46 q=-0.0 size=N/A time=00:09:07.84 bitrate=N/A speed=1.82x    \r"
     ]
    },
    {
     "name": "stdout",
     "output_type": "stream",
     "text": [
      "frame=13727\n",
      "fps=45.69\n",
      "stream_0_0_q=-0.0\n",
      "bitrate=N/A\n",
      "total_size=N/A\n",
      "out_time_us=547840000\n",
      "out_time_ms=547840000\n",
      "out_time=00:09:07.840000\n",
      "dup_frames=0\n",
      "drop_frames=0\n",
      "speed=1.82x\n",
      "progress=continue\n"
     ]
    },
    {
     "name": "stderr",
     "output_type": "stream",
     "text": [
      "frame=13742 fps= 46 q=-0.0 size=N/A time=00:09:08.44 bitrate=N/A speed=1.82x    \r"
     ]
    },
    {
     "name": "stdout",
     "output_type": "stream",
     "text": [
      "frame=13742\n",
      "fps=45.66\n",
      "stream_0_0_q=-0.0\n",
      "bitrate=N/A\n",
      "total_size=N/A\n",
      "out_time_us=548440000\n",
      "out_time_ms=548440000\n",
      "out_time=00:09:08.440000\n",
      "dup_frames=0\n",
      "drop_frames=0\n",
      "speed=1.82x\n",
      "progress=continue\n"
     ]
    },
    {
     "name": "stderr",
     "output_type": "stream",
     "text": [
      "frame=13759 fps= 46 q=-0.0 size=N/A time=00:09:09.12 bitrate=N/A speed=1.82x    \r"
     ]
    },
    {
     "name": "stdout",
     "output_type": "stream",
     "text": [
      "frame=13759\n",
      "fps=45.64\n",
      "stream_0_0_q=-0.0\n",
      "bitrate=N/A\n",
      "total_size=N/A\n",
      "out_time_us=549120000\n",
      "out_time_ms=549120000\n",
      "out_time=00:09:09.120000\n",
      "dup_frames=0\n",
      "drop_frames=0\n",
      "speed=1.82x\n",
      "progress=continue\n",
      "frame=13778\n",
      "fps=45.63\n",
      "stream_0_0_q=-0.0\n",
      "bitrate=N/A\n",
      "total_size=N/A\n",
      "out_time_us=549880000\n",
      "out_time_ms=549880000\n",
      "out_time=00:09:09.880000\n",
      "dup_frames=0\n",
      "drop_frames=0\n",
      "speed=1.82x\n",
      "progress=continue\n"
     ]
    },
    {
     "name": "stderr",
     "output_type": "stream",
     "text": [
      "frame=13797 fps= 46 q=-0.0 size=N/A time=00:09:10.64 bitrate=N/A speed=1.82x    \r"
     ]
    },
    {
     "name": "stdout",
     "output_type": "stream",
     "text": [
      "frame=13797\n",
      "fps=45.61\n",
      "stream_0_0_q=-0.0\n",
      "bitrate=N/A\n",
      "total_size=N/A\n",
      "out_time_us=550640000\n",
      "out_time_ms=550640000\n",
      "out_time=00:09:10.640000\n",
      "dup_frames=0\n",
      "drop_frames=0\n",
      "speed=1.82x\n",
      "progress=continue\n",
      "frame=13815\n",
      "fps=45.59\n",
      "stream_0_0_q=-0.0\n",
      "bitrate=N/A\n",
      "total_size=N/A\n",
      "out_time_us=551360000\n",
      "out_time_ms=551360000\n",
      "out_time=00:09:11.360000\n",
      "dup_frames=0\n",
      "drop_frames=0\n",
      "speed=1.82x\n",
      "progress=continue\n"
     ]
    },
    {
     "name": "stderr",
     "output_type": "stream",
     "text": [
      "frame=13815 fps= 46 q=-0.0 size=N/A time=00:09:11.36 bitrate=N/A speed=1.82x    \r"
     ]
    },
    {
     "name": "stdout",
     "output_type": "stream",
     "text": [
      "frame=13830\n",
      "fps=45.57\n",
      "stream_0_0_q=-0.0\n",
      "bitrate=N/A\n",
      "total_size=N/A\n",
      "out_time_us=551960000\n",
      "out_time_ms=551960000\n",
      "out_time=00:09:11.960000\n",
      "dup_frames=0\n",
      "drop_frames=0\n",
      "speed=1.82x\n",
      "progress=continue\n"
     ]
    },
    {
     "name": "stderr",
     "output_type": "stream",
     "text": [
      "frame=13847 fps= 46 q=-0.0 size=N/A time=00:09:12.64 bitrate=N/A speed=1.82x    \r"
     ]
    },
    {
     "name": "stdout",
     "output_type": "stream",
     "text": [
      "frame=13847\n",
      "fps=45.55\n",
      "stream_0_0_q=-0.0\n",
      "bitrate=N/A\n",
      "total_size=N/A\n",
      "out_time_us=552640000\n",
      "out_time_ms=552640000\n",
      "out_time=00:09:12.640000\n",
      "dup_frames=0\n",
      "drop_frames=0\n",
      "speed=1.82x\n",
      "progress=continue\n",
      "frame=13861\n",
      "fps=45.50\n",
      "stream_0_0_q=-0.0\n",
      "bitrate=N/A\n",
      "total_size=N/A\n",
      "out_time_us=553200000\n",
      "out_time_ms=553200000\n",
      "out_time=00:09:13.200000\n",
      "dup_frames=0\n",
      "drop_frames=0\n",
      "speed=1.82x\n",
      "progress=continue\n"
     ]
    },
    {
     "name": "stderr",
     "output_type": "stream",
     "text": [
      "frame=13861 fps= 46 q=-0.0 size=N/A time=00:09:13.20 bitrate=N/A speed=1.82x    \r"
     ]
    },
    {
     "name": "stdout",
     "output_type": "stream",
     "text": [
      "frame=13880\n",
      "fps=45.49\n",
      "stream_0_0_q=-0.0\n",
      "bitrate=N/A\n",
      "total_size=N/A\n",
      "out_time_us=553960000\n",
      "out_time_ms=553960000\n",
      "out_time=00:09:13.960000\n",
      "dup_frames=0\n",
      "drop_frames=0\n",
      "speed=1.82x\n",
      "progress=continue\n"
     ]
    },
    {
     "name": "stderr",
     "output_type": "stream",
     "text": [
      "frame=13880 fps= 45 q=-0.0 size=N/A time=00:09:13.96 bitrate=N/A speed=1.82x    \r"
     ]
    },
    {
     "name": "stdout",
     "output_type": "stream",
     "text": [
      "frame=13896\n",
      "fps=45.46\n",
      "stream_0_0_q=-0.0\n",
      "bitrate=N/A\n",
      "total_size=N/A\n",
      "out_time_us=554600000\n",
      "out_time_ms=554600000\n",
      "out_time=00:09:14.600000\n",
      "dup_frames=0\n",
      "drop_frames=0\n",
      "speed=1.81x\n",
      "progress=continue\n"
     ]
    },
    {
     "name": "stderr",
     "output_type": "stream",
     "text": [
      "frame=13896 fps= 45 q=-0.0 size=N/A time=00:09:14.60 bitrate=N/A speed=1.81x    \r"
     ]
    },
    {
     "name": "stdout",
     "output_type": "stream",
     "text": [
      "frame=13913\n",
      "fps=45.44\n",
      "stream_0_0_q=-0.0\n",
      "bitrate=N/A\n",
      "total_size=N/A\n",
      "out_time_us=555280000\n",
      "out_time_ms=555280000\n",
      "out_time=00:09:15.280000\n",
      "dup_frames=0\n",
      "drop_frames=0\n",
      "speed=1.81x\n",
      "progress=continue\n"
     ]
    },
    {
     "name": "stderr",
     "output_type": "stream",
     "text": [
      "frame=13913 fps= 45 q=-0.0 size=N/A time=00:09:15.28 bitrate=N/A speed=1.81x    \r"
     ]
    },
    {
     "name": "stdout",
     "output_type": "stream",
     "text": [
      "frame=13932\n",
      "fps=45.43\n",
      "stream_0_0_q=-0.0\n",
      "bitrate=N/A\n",
      "total_size=N/A\n",
      "out_time_us=556040000\n",
      "out_time_ms=556040000\n",
      "out_time=00:09:16.040000\n",
      "dup_frames=0\n",
      "drop_frames=0\n",
      "speed=1.81x\n",
      "progress=continue\n"
     ]
    },
    {
     "name": "stderr",
     "output_type": "stream",
     "text": [
      "frame=13951 fps= 45 q=-0.0 size=N/A time=00:09:16.80 bitrate=N/A speed=1.81x    \r"
     ]
    },
    {
     "name": "stdout",
     "output_type": "stream",
     "text": [
      "frame=13951\n",
      "fps=45.41\n",
      "stream_0_0_q=-0.0\n",
      "bitrate=N/A\n",
      "total_size=N/A\n",
      "out_time_us=556800000\n",
      "out_time_ms=556800000\n",
      "out_time=00:09:16.800000\n",
      "dup_frames=0\n",
      "drop_frames=0\n",
      "speed=1.81x\n",
      "progress=continue\n"
     ]
    },
    {
     "name": "stderr",
     "output_type": "stream",
     "text": [
      "frame=13971 fps= 45 q=-0.0 size=N/A time=00:09:17.60 bitrate=N/A speed=1.81x    \r"
     ]
    },
    {
     "name": "stdout",
     "output_type": "stream",
     "text": [
      "frame=13971\n",
      "fps=45.40\n",
      "stream_0_0_q=-0.0\n",
      "bitrate=N/A\n",
      "total_size=N/A\n",
      "out_time_us=557600000\n",
      "out_time_ms=557600000\n",
      "out_time=00:09:17.600000\n",
      "dup_frames=0\n",
      "drop_frames=0\n",
      "speed=1.81x\n",
      "progress=continue\n",
      "frame=13975\n",
      "fps=45.28\n",
      "stream_0_0_q=-0.0\n",
      "bitrate=N/A\n",
      "total_size=N/A\n",
      "out_time_us=559000000\n",
      "out_time_ms=559000000\n",
      "out_time=00:09:19.000000\n",
      "dup_frames=0\n",
      "drop_frames=0\n",
      "speed=1.81x\n",
      "progress=end\n"
     ]
    },
    {
     "name": "stderr",
     "output_type": "stream",
     "text": [
      "frame=13975 fps= 45 q=-0.0 Lsize=N/A time=00:09:19.00 bitrate=N/A speed=1.81x    \n",
      "video:31189698kB audio:0kB subtitle:0kB other streams:0kB global headers:0kB muxing overhead: unknown\n"
     ]
    }
   ],
   "source": [
    "# Define start and end times for cropping\n",
    "# Sample 21: 0 - 182 seconds, in total, 4419 images (initial several layers are missing in the sony videos)\n",
    "# Sample 22: 0 - 179 seconds, in total \n",
    "# Sample 23: 0 - 6 min 47 seconds = 407\n",
    "# Sample 24: 0 - 13 min 27 seconds = 807\n",
    "# Sample 26: 0 - 6 min 43 seconds = 403\n",
    "# Sample 32: 0 - 9 min 18 seconds = 558\n",
    "\n",
    "start_time = 0  # Start time in seconds \n",
    "end_time = 559   # End time in seconds\n",
    "\n",
    "# Crop the video and save frames at 25 Hz\n",
    "# crop_video_and_save_frames(raw_video_file, image_output_folder, start_time, end_time, sample_index, target_fps=25)\n",
    "\n",
    "crop_video_and_save_frames_ffmpeg(raw_video_file, image_output_folder, start_time, end_time, sample_index, target_fps=25)"
   ]
  },
  {
   "cell_type": "markdown",
   "id": "f4fb235a-a798-4765-bef0-7ee2dc703b89",
   "metadata": {},
   "source": [
    "## Fix the index to match with the coaxial image stream."
   ]
  },
  {
   "cell_type": "code",
   "execution_count": 91,
   "id": "daa780bc-5ea2-410b-908a-99c635273750",
   "metadata": {},
   "outputs": [],
   "source": [
    "import os\n",
    "\n",
    "# Calculate the index offset\n",
    "index_offset = 1-324\n",
    "# Sample 21: offset is 5030 (coaxial) - 4430\n",
    "# Sample 22: offset is 4623 (coaxial) - 4469\n",
    "# Sample 23: offset is 11153 (coaxial) - 10025\n",
    "# Sample 24: offset is 1 - 32 (special case, the later part of 24 is disrgarded)\n",
    "# Sample 26: offset is 10747 (coaxial) - 10025\n",
    "# Sample 26: offset is 1 (coaxial) - 324\n",
    "\n",
    "# Get all PNG files in the directory\n",
    "image_files = [f for f in os.listdir(image_output_folder) if f.endswith(\".png\")]"
   ]
  },
  {
   "cell_type": "code",
   "execution_count": 92,
   "id": "9cac41b2-d013-487f-af23-f315b3bc3a0b",
   "metadata": {},
   "outputs": [
    {
     "data": {
      "application/json": {
       "ascii": false,
       "bar_format": null,
       "colour": null,
       "elapsed": 0.0014743804931640625,
       "initial": 0,
       "n": 0,
       "ncols": null,
       "nrows": 23,
       "postfix": null,
       "prefix": "Renaming images",
       "rate": null,
       "total": 13975,
       "unit": "it",
       "unit_divisor": 1000,
       "unit_scale": false
      },
      "application/vnd.jupyter.widget-view+json": {
       "model_id": "d10c51c72f624ff5928908a794e34bb7",
       "version_major": 2,
       "version_minor": 0
      },
      "text/plain": [
       "Renaming images:   0%|          | 0/13975 [00:00<?, ?it/s]"
      ]
     },
     "metadata": {},
     "output_type": "display_data"
    }
   ],
   "source": [
    "from concurrent.futures import ThreadPoolExecutor, as_completed\n",
    "\n",
    "def copy_and_rename_file(filename, image_output_folder, sony_camera_image_folder, sample_index, index_offset):\n",
    "    parts = filename.split('_')\n",
    "    if len(parts) == 3:\n",
    "        current_index_part = parts[2].split('.')[0]  # This gets the numeric part of '<current_index>.png'\n",
    "        try:\n",
    "            current_index = int(current_index_part)\n",
    "            new_index = current_index + index_offset\n",
    "            new_filename = f'sample_{sample_index}_{new_index}.png'\n",
    "            current_file_path = os.path.join(image_output_folder, filename)\n",
    "            new_file_path = os.path.join(sony_camera_image_folder, new_filename)\n",
    "            shutil.copy2(current_file_path, new_file_path)\n",
    "            return filename, True\n",
    "        except ValueError:\n",
    "            return filename, False\n",
    "    return filename, False\n",
    "\n",
    "# Assume image_files, image_output_folder, sony_camera_image_folder, sample_index, index_offset are defined\n",
    "with ThreadPoolExecutor(max_workers=os.cpu_count()) as executor:\n",
    "    future_to_file = {executor.submit(copy_and_rename_file, filename, image_output_folder, sony_camera_image_folder, sample_index, index_offset): filename for filename in image_files}\n",
    "    \n",
    "    # Initialize progress bar\n",
    "    progress = tqdm(as_completed(future_to_file), total=len(image_files), desc=\"Renaming images\")\n",
    "    for future in progress:\n",
    "        filename, success = future.result()"
   ]
  },
  {
   "cell_type": "markdown",
   "id": "70f75a5e-1695-4020-8d5b-be281e140f09",
   "metadata": {},
   "source": [
    "## Further manual adjustment"
   ]
  },
  {
   "cell_type": "code",
   "execution_count": 21,
   "id": "0473fd77-6b80-4155-9f88-ac6cf28a563c",
   "metadata": {},
   "outputs": [],
   "source": [
    "def renumber_images_final(folder_path, file_prefix=\"sample\"):\n",
    "    pattern = re.compile(rf\"{file_prefix}_(\\d+)_(\\d+)(?: \\((\\d+)\\))?\\.png\")\n",
    "\n",
    "    files = []\n",
    "    for filename in os.listdir(folder_path):\n",
    "        match = pattern.match(filename)\n",
    "        if match:\n",
    "            series_index, base_index, dup_number = match.groups()\n",
    "            files.append((int(base_index), int(dup_number) if dup_number else 0, filename))\n",
    "\n",
    "    files.sort()  # Sort by base index, then duplication number\n",
    "\n",
    "    # Temporary renaming\n",
    "    temp_files = []\n",
    "    for base_index, dup_number, filename in files:\n",
    "        temp_filename = f\"temp_{base_index}_{dup_number}.png\"\n",
    "        os.rename(os.path.join(folder_path, filename), os.path.join(folder_path, temp_filename))\n",
    "        temp_files.append((base_index, temp_filename))\n",
    "    \n",
    "    # Sort temporary files by original base index to preserve order\n",
    "    temp_files.sort()\n",
    "\n",
    "    # Final renumbering\n",
    "    new_index = temp_files[0][0]  # Start from the first file's base index\n",
    "    progress_bar = tqdm(total=len(temp_files), desc=\"Renumbering Images\")\n",
    "    for _, temp_filename in temp_files:\n",
    "        new_filename = f\"{file_prefix}_{series_index}_{new_index}.png\"\n",
    "        os.rename(os.path.join(folder_path, temp_filename), os.path.join(folder_path, new_filename))\n",
    "        new_index += 1\n",
    "        progress_bar.update(1)\n",
    "\n",
    "    progress_bar.close()"
   ]
  },
  {
   "cell_type": "code",
   "execution_count": 22,
   "id": "e6b483cb-2dee-4bde-84fa-bf1fd2bdd59d",
   "metadata": {},
   "outputs": [
    {
     "data": {
      "text/plain": [
       "'/home/chenlequn/pan1/Dataset/LDED_acoustic_visual_monitoring_dataset/25Hz/32/sony_camera_images'"
      ]
     },
     "execution_count": 22,
     "metadata": {},
     "output_type": "execute_result"
    }
   ],
   "source": [
    "sony_camera_image_folder"
   ]
  },
  {
   "cell_type": "code",
   "execution_count": 86,
   "id": "25d119d9-9be7-4278-9ca8-f3977cf5a69f",
   "metadata": {},
   "outputs": [
    {
     "data": {
      "application/json": {
       "ascii": false,
       "bar_format": null,
       "colour": null,
       "elapsed": 0.0014209747314453125,
       "initial": 0,
       "n": 0,
       "ncols": null,
       "nrows": 24,
       "postfix": null,
       "prefix": "Renumbering Images",
       "rate": null,
       "total": 13529,
       "unit": "it",
       "unit_divisor": 1000,
       "unit_scale": false
      },
      "application/vnd.jupyter.widget-view+json": {
       "model_id": "69d95e4d95c84388b2caf90ea61be7ed",
       "version_major": 2,
       "version_minor": 0
      },
      "text/plain": [
       "Renumbering Images:   0%|          | 0/13529 [00:00<?, ?it/s]"
      ]
     },
     "metadata": {},
     "output_type": "display_data"
    }
   ],
   "source": [
    "trial = \"/home/chenlequn/pan1/Dataset/LDED_acoustic_visual_monitoring_dataset/25Hz/24/trial\"\n",
    "renumber_images_final(sony_camera_image_folder)"
   ]
  }
 ],
 "metadata": {
  "kernelspec": {
   "display_name": "Python 3 (ipykernel)",
   "language": "python",
   "name": "python3"
  },
  "language_info": {
   "codemirror_mode": {
    "name": "ipython",
    "version": 3
   },
   "file_extension": ".py",
   "mimetype": "text/x-python",
   "name": "python",
   "nbconvert_exporter": "python",
   "pygments_lexer": "ipython3",
   "version": "3.9.16"
  }
 },
 "nbformat": 4,
 "nbformat_minor": 5
}
