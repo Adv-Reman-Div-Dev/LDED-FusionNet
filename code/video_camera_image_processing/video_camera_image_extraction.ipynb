{
 "cells": [
  {
   "cell_type": "markdown",
   "id": "8c503e06-1452-4c91-a1c8-a2bd6ab702a5",
   "metadata": {},
   "source": [
    "# Sony Video Camera Data: Segmentation, Image Extraction, and Preparation"
   ]
  },
  {
   "cell_type": "code",
   "execution_count": 11,
   "id": "8367db36-7182-43e3-a55f-3e10b6dd657e",
   "metadata": {},
   "outputs": [],
   "source": [
    "## Required python libraries\n",
    "import pandas as pd\n",
    "import numpy as np\n",
    "import scipy as sp\n",
    "import scipy.signal\n",
    "import os\n",
    "import math\n",
    "import sys\n",
    "import shutil\n",
    "from scipy.interpolate import griddata\n",
    "import subprocess\n",
    "# to make this notebook's output stable across runs\n",
    "np.random.seed(42)\n",
    "\n",
    "pd.plotting.register_matplotlib_converters()\n",
    "\n",
    "\n",
    "import matplotlib as mpl\n",
    "import matplotlib.pyplot as plt\n",
    "mpl.rc('axes', labelsize=14)\n",
    "mpl.rc('xtick', labelsize=12)\n",
    "mpl.rc('ytick', labelsize=12)\n",
    "%matplotlib inline\n",
    "import seaborn as sns\n",
    "import librosa\n",
    "import matplotlib.font_manager as font_manager\n",
    "\n",
    "#---------------opencv------------------------\n",
    "import cv2\n",
    "from IPython.display import Image, display\n",
    "from tqdm import tqdm"
   ]
  },
  {
   "cell_type": "code",
   "execution_count": 2,
   "id": "202a2092-019f-4508-a597-bd0e900d0cb2",
   "metadata": {
    "scrolled": true
   },
   "outputs": [],
   "source": [
    "from moviepy.editor import VideoFileClip\n",
    "import imageio_ffmpeg as ffmpeg"
   ]
  },
  {
   "cell_type": "code",
   "execution_count": 3,
   "id": "cd6f3959-4f7a-41a6-9a87-56e3c71b2dad",
   "metadata": {},
   "outputs": [],
   "source": [
    "# Where to save the figures, and dataset locations\n",
    "PROJECT_ROOT_DIR = \"../\"\n",
    "\n",
    "Multimodal_dataset_PATH = \"/home/chenlequn/pan1/Dataset/LDED_acoustic_visual_monitoring_dataset\"\n",
    "\n",
    "Video_path = os.path.join(Multimodal_dataset_PATH, f'Sony Camera')\n",
    "IMAGE_PATH = os.path.join(PROJECT_ROOT_DIR, \"result_images\", 'Sony-Camera-Image')\n",
    "\n",
    "os.makedirs(IMAGE_PATH, exist_ok=True)\n",
    "\n",
    "## function for automatically save the diagram/graph into the folder \n",
    "def save_fig(fig_id, tight_layout=True, fig_extension=\"png\", resolution=300):\n",
    "    path = os.path.join(IMAGE_PATH, fig_id + \".\" + fig_extension)\n",
    "    print(\"Saving figure\", fig_id)\n",
    "    if tight_layout:\n",
    "        plt.tight_layout()\n",
    "    plt.savefig(path, format=fig_extension, dpi=resolution)\n",
    "\n",
    "# Ignore useless warnings (see SciPy issue #5998)\n",
    "import warnings\n",
    "warnings.filterwarnings(action=\"ignore\", message=\"^internal gelsd\")"
   ]
  },
  {
   "cell_type": "code",
   "execution_count": 4,
   "id": "38527505-f127-4574-8e91-a6be4a72d748",
   "metadata": {},
   "outputs": [],
   "source": [
    "# Define function to save figures\n",
    "def save_frames(frame, sample_index, counter, image_output_folder, fig_extension=\"png\"):\n",
    "    filename = f'sample_{sample_index}_{counter}.{fig_extension}'\n",
    "    path = os.path.join(image_output_folder, filename)\n",
    "    # print(\"Saving frame\", filename)\n",
    "    cv2.imwrite(path, frame)\n",
    "    # cv2.imwrite(path, frame, [int(cv2.IMWRITE_JPEG_QUALITY), 100])\n",
    "\n",
    "\n",
    "# Function to display video information\n",
    "def display_video_info(video_path):\n",
    "    cap = cv2.VideoCapture(video_path)\n",
    "    if not cap.isOpened():\n",
    "        print(\"Error: Could not open video.\")\n",
    "        return\n",
    "\n",
    "    fps = cap.get(cv2.CAP_PROP_FPS)\n",
    "    total_frames = int(cap.get(cv2.CAP_PROP_FRAME_COUNT))\n",
    "    total_duration = total_frames / fps\n",
    "    # Convert total duration to minutes and seconds\n",
    "    total_duration_min = int(total_duration // 60)\n",
    "    total_duration_sec = int(total_duration % 60)\n",
    "\n",
    "    print(f\"Video FPS: {fps}\")\n",
    "    print(f\"Total Frames: {total_frames}\")\n",
    "    print(f\"Total Duration (seconds): {total_duration}\")\n",
    "    print(f\"Total Duration: {total_duration_min} min {total_duration_sec} seconds\")\n",
    "\n",
    "\n",
    "    cap.release()\n",
    "\n",
    "# Function to crop video by time and save frames\n",
    "def crop_video_and_save_frames(video_path, image_output_folder, start_time, end_time, sample_index, target_fps=25):\n",
    "    cap = cv2.VideoCapture(video_path)\n",
    "    if not cap.isOpened():\n",
    "        print(\"Error: Could not open video.\")\n",
    "        return\n",
    "    \n",
    "    fps = cap.get(cv2.CAP_PROP_FPS)\n",
    "    start_frame = int(start_time * fps)\n",
    "    end_frame = int(end_time * fps)\n",
    "    frame_interval = int(fps / target_fps)\n",
    "    \n",
    "    # Calculate total frames to process and initialize tqdm\n",
    "    total_frames_to_process = (end_frame - start_frame) // frame_interval\n",
    "    pbar = tqdm(total=total_frames_to_process, desc=\"Processing frames\")\n",
    "    \n",
    "    counter = 1  # Initialize frame counter\n",
    "    cap.set(cv2.CAP_PROP_POS_FRAMES, start_frame)\n",
    "    \n",
    "    while True:\n",
    "        ret, frame = cap.read()\n",
    "        if not ret or cap.get(cv2.CAP_PROP_POS_FRAMES) > end_frame:\n",
    "            break  # Stop if the end of the segment is reached or on read error\n",
    "        \n",
    "        if (counter - 1) % frame_interval == 0:\n",
    "            save_frames(frame, sample_index, counter, image_output_folder)\n",
    "            pbar.update(1)\n",
    "        \n",
    "        counter += 1\n",
    "\n",
    "    pbar.close()\n",
    "    cap.release()\n",
    "\n",
    "\n",
    "def format_time(seconds):\n",
    "    \"\"\"Converts time in seconds to HH:MM:SS format.\"\"\"\n",
    "    hours, remainder = divmod(seconds, 3600)\n",
    "    minutes, seconds = divmod(remainder, 60)\n",
    "    return f\"{int(hours):02}:{int(minutes):02}:{int(seconds):02}\"\n",
    "\n",
    "def crop_video_and_save_frames_ffmpeg(video_path, image_output_folder, start_time, end_time, sample_index, target_fps=25):\n",
    "    # Convert start_time and end_time to HH:MM:SS format\n",
    "    start_timestamp = format_time(start_time)\n",
    "    duration = end_time - start_time\n",
    "    duration_timestamp = format_time(duration)\n",
    "    total_frames = int(duration * target_fps)\n",
    "\n",
    "    # Ensure output folder exists\n",
    "    if not os.path.exists(image_output_folder):\n",
    "        os.makedirs(image_output_folder)\n",
    "\n",
    "    # Output pattern for frames\n",
    "    output_pattern = os.path.join(image_output_folder, f\"sample_{sample_index}_%d.png\")\n",
    "\n",
    "    # Build the FFmpeg command\n",
    "    command = [\n",
    "        'ffmpeg',\n",
    "        '-ss', start_timestamp,                 # Start time\n",
    "        '-t', duration_timestamp,               # Duration to process\n",
    "        '-i', video_path,                       # Input file path\n",
    "        '-vf', f'yadif,fps={target_fps}',       # Video filters\n",
    "        '-q:v', '1',                            # Output quality (lower is better)\n",
    "        '-start_number', '1',                   # Start numbering frames at 0\n",
    "        '-progress', 'pipe:1',                  # Output progress to pipe\n",
    "        output_pattern\n",
    "    ]\n",
    "\n",
    "    # Start the FFmpeg process and include a progress bar\n",
    "    subprocess.run(command, check=True)"
   ]
  },
  {
   "cell_type": "markdown",
   "id": "9134d9da-16ca-4d24-8cd2-04f99e4c4a9f",
   "metadata": {},
   "source": [
    "## Segment MTS video file into Images"
   ]
  },
  {
   "cell_type": "code",
   "execution_count": 29,
   "id": "65f578ba-b900-4fd6-834b-d47ae3cadb8f",
   "metadata": {},
   "outputs": [
    {
     "name": "stdout",
     "output_type": "stream",
     "text": [
      "Video FPS: 25.0\n",
      "Total Frames: 13728\n",
      "Total Duration (seconds): 549.12\n",
      "Total Duration: 9 min 9 seconds\n"
     ]
    }
   ],
   "source": [
    "sample_index = 23\n",
    "\n",
    "# ----------------Define input video file path---------------\n",
    "raw_video_file = os.path.join(Video_path, f'{sample_index}.MTS') \n",
    "\n",
    "# Output folders\n",
    "image_output_folder = os.path.join(Multimodal_dataset_PATH, '25Hz',str(sample_index), 'sony-images')\n",
    "sony_camera_image_folder = os.path.join(Multimodal_dataset_PATH, '25Hz',str(sample_index), 'sony_camera_images')\n",
    "\n",
    "# Create output folders if they don't exist\n",
    "if not os.path.exists(image_output_folder):\n",
    "    os.makedirs(image_output_folder)\n",
    "\n",
    "# Create output folders if they don't exist\n",
    "if not os.path.exists(sony_camera_image_folder):\n",
    "    os.makedirs(sony_camera_image_folder)\n",
    "\n",
    "# Display video information\n",
    "display_video_info(raw_video_file)"
   ]
  },
  {
   "cell_type": "code",
   "execution_count": 23,
   "id": "518c875d-ec0a-48b1-8c05-11c0ad55d385",
   "metadata": {
    "scrolled": true
   },
   "outputs": [
    {
     "name": "stderr",
     "output_type": "stream",
     "text": [
      "ffmpeg version 4.2.2 Copyright (c) 2000-2019 the FFmpeg developers\n",
      "  built with gcc 7.3.0 (crosstool-NG 1.23.0.449-a04d0)\n",
      "  configuration: --prefix=/tmp/build/80754af9/ffmpeg_1587154242452/_h_env_placehold_placehold_placehold_placehold_placehold_placehold_placehold_placehold_placehold_placehold_placehold_placehold_placehold_placehold_placehold_placehold_placehold_placehold_placehold_placehold_placeho --cc=/tmp/build/80754af9/ffmpeg_1587154242452/_build_env/bin/x86_64-conda_cos6-linux-gnu-cc --disable-doc --enable-avresample --enable-gmp --enable-hardcoded-tables --enable-libfreetype --enable-libvpx --enable-pthreads --enable-libopus --enable-postproc --enable-pic --enable-pthreads --enable-shared --enable-static --enable-version3 --enable-zlib --enable-libmp3lame --disable-nonfree --enable-gpl --enable-gnutls --disable-openssl --enable-libopenh264 --enable-libx264\n",
      "  libavutil      56. 31.100 / 56. 31.100\n",
      "  libavcodec     58. 54.100 / 58. 54.100\n",
      "  libavformat    58. 29.100 / 58. 29.100\n",
      "  libavdevice    58.  8.100 / 58.  8.100\n",
      "  libavfilter     7. 57.100 /  7. 57.100\n",
      "  libavresample   4.  0.  0 /  4.  0.  0\n",
      "  libswscale      5.  5.100 /  5.  5.100\n",
      "  libswresample   3.  5.100 /  3.  5.100\n",
      "  libpostproc    55.  5.100 / 55.  5.100\n",
      "Input #0, mpegts, from '/home/chenlequn/pan1/Dataset/LDED_acoustic_visual_monitoring_dataset/Sony Camera/23.MTS':\n",
      "  Duration: 00:09:09.12, start: 1.040000, bitrate: 16447 kb/s\n",
      "  Program 1 \n",
      "    Stream #0:0[0x1011]: Video: h264 (High) (HDMV / 0x564D4448), yuv420p(top first), 1920x1080 [SAR 1:1 DAR 16:9], 25 fps, 50 tbr, 90k tbn, 50 tbc\n",
      "    Stream #0:1[0x1100]: Audio: ac3 (AC-3 / 0x332D4341), 48000 Hz, stereo, fltp, 256 kb/s\n",
      "    Stream #0:2[0x1200]: Subtitle: hdmv_pgs_subtitle ([144][0][0][0] / 0x0090), 1920x1080\n",
      "Stream mapping:\n",
      "  Stream #0:0 -> #0:0 (h264 (native) -> png (native))\n",
      "Press [q] to stop, [?] for help\n",
      "Output #0, image2, to '/home/chenlequn/pan1/Dataset/LDED_acoustic_visual_monitoring_dataset/25Hz/23/sony-images/sample_23_%d.png':\n",
      "  Metadata:\n",
      "    encoder         : Lavf58.29.100\n",
      "    Stream #0:0: Video: png, rgb24, 1920x1080 [SAR 1:1 DAR 16:9], q=2-31, 200 kb/s, 25 fps, 25 tbn, 25 tbc\n",
      "    Metadata:\n",
      "      encoder         : Lavc58.54.100 png\n",
      "frame=   67 fps=0.0 q=-0.0 size=N/A time=00:00:01.56 bitrate=N/A speed=3.08x    \r"
     ]
    },
    {
     "name": "stdout",
     "output_type": "stream",
     "text": [
      "frame=67\n",
      "fps=0.00\n",
      "stream_0_0_q=-0.0\n",
      "bitrate=N/A\n",
      "total_size=N/A\n",
      "out_time_us=1560000\n",
      "out_time_ms=1560000\n",
      "out_time=00:00:01.560000\n",
      "dup_frames=0\n",
      "drop_frames=0\n",
      "speed=3.08x\n",
      "progress=continue\n"
     ]
    },
    {
     "name": "stderr",
     "output_type": "stream",
     "text": [
      "frame=  139 fps=138 q=-0.0 size=N/A time=00:00:04.44 bitrate=N/A speed= 4.4x    \r"
     ]
    },
    {
     "name": "stdout",
     "output_type": "stream",
     "text": [
      "frame=139\n",
      "fps=137.75\n",
      "stream_0_0_q=-0.0\n",
      "bitrate=N/A\n",
      "total_size=N/A\n",
      "out_time_us=4440000\n",
      "out_time_ms=4440000\n",
      "out_time=00:00:04.440000\n",
      "dup_frames=0\n",
      "drop_frames=0\n",
      "speed= 4.4x\n",
      "progress=continue\n"
     ]
    },
    {
     "name": "stderr",
     "output_type": "stream",
     "text": [
      "frame=  205 fps=136 q=-0.0 size=N/A time=00:00:07.08 bitrate=N/A speed=4.69x    \r"
     ]
    },
    {
     "name": "stdout",
     "output_type": "stream",
     "text": [
      "frame=205\n",
      "fps=135.81\n",
      "stream_0_0_q=-0.0\n",
      "bitrate=N/A\n",
      "total_size=N/A\n",
      "out_time_us=7080000\n",
      "out_time_ms=7080000\n",
      "out_time=00:00:07.080000\n",
      "dup_frames=0\n",
      "drop_frames=0\n",
      "speed=4.69x\n",
      "progress=continue\n"
     ]
    },
    {
     "name": "stderr",
     "output_type": "stream",
     "text": [
      "frame=  274 fps=136 q=-0.0 size=N/A time=00:00:09.84 bitrate=N/A speed=4.89x    \r"
     ]
    },
    {
     "name": "stdout",
     "output_type": "stream",
     "text": [
      "frame=274\n",
      "fps=136.15\n",
      "stream_0_0_q=-0.0\n",
      "bitrate=N/A\n",
      "total_size=N/A\n",
      "out_time_us=9840000\n",
      "out_time_ms=9840000\n",
      "out_time=00:00:09.840000\n",
      "dup_frames=0\n",
      "drop_frames=0\n",
      "speed=4.89x\n",
      "progress=continue\n"
     ]
    },
    {
     "name": "stderr",
     "output_type": "stream",
     "text": [
      "frame=  346 fps=137 q=-0.0 size=N/A time=00:00:12.68 bitrate=N/A speed=5.03x    \r"
     ]
    },
    {
     "name": "stdout",
     "output_type": "stream",
     "text": [
      "frame=346\n",
      "fps=137.27\n",
      "stream_0_0_q=-0.0\n",
      "bitrate=N/A\n",
      "total_size=N/A\n",
      "out_time_us=12680000\n",
      "out_time_ms=12680000\n",
      "out_time=00:00:12.680000\n",
      "dup_frames=0\n",
      "drop_frames=0\n",
      "speed=5.03x\n",
      "progress=continue\n"
     ]
    },
    {
     "name": "stderr",
     "output_type": "stream",
     "text": [
      "frame=  409 fps=135 q=-0.0 size=N/A time=00:00:15.16 bitrate=N/A speed=5.02x    \r"
     ]
    },
    {
     "name": "stdout",
     "output_type": "stream",
     "text": [
      "frame=409\n",
      "fps=135.31\n",
      "stream_0_0_q=-0.0\n",
      "bitrate=N/A\n",
      "total_size=N/A\n",
      "out_time_us=15160000\n",
      "out_time_ms=15160000\n",
      "out_time=00:00:15.160000\n",
      "dup_frames=0\n",
      "drop_frames=0\n",
      "speed=5.02x\n",
      "progress=continue\n"
     ]
    },
    {
     "name": "stderr",
     "output_type": "stream",
     "text": [
      "frame=  463 fps=131 q=-0.0 size=N/A time=00:00:17.24 bitrate=N/A speed=4.89x    \r"
     ]
    },
    {
     "name": "stdout",
     "output_type": "stream",
     "text": [
      "frame=463\n",
      "fps=131.32\n",
      "stream_0_0_q=-0.0\n",
      "bitrate=N/A\n",
      "total_size=N/A\n",
      "out_time_us=17240000\n",
      "out_time_ms=17240000\n",
      "out_time=00:00:17.240000\n",
      "dup_frames=0\n",
      "drop_frames=0\n",
      "speed=4.89x\n",
      "progress=continue\n"
     ]
    },
    {
     "name": "stderr",
     "output_type": "stream",
     "text": [
      "frame=  532 fps=132 q=-0.0 size=N/A time=00:00:20.00 bitrate=N/A speed=4.96x    \r"
     ]
    },
    {
     "name": "stdout",
     "output_type": "stream",
     "text": [
      "frame=532\n",
      "fps=131.96\n",
      "stream_0_0_q=-0.0\n",
      "bitrate=N/A\n",
      "total_size=N/A\n",
      "out_time_us=20000000\n",
      "out_time_ms=20000000\n",
      "out_time=00:00:20.000000\n",
      "dup_frames=0\n",
      "drop_frames=0\n",
      "speed=4.96x\n",
      "progress=continue\n"
     ]
    },
    {
     "name": "stderr",
     "output_type": "stream",
     "text": [
      "frame=  600 fps=132 q=-0.0 size=N/A time=00:00:22.72 bitrate=N/A speed=5.01x    \r"
     ]
    },
    {
     "name": "stdout",
     "output_type": "stream",
     "text": [
      "frame=600\n",
      "fps=132.38\n",
      "stream_0_0_q=-0.0\n",
      "bitrate=N/A\n",
      "total_size=N/A\n",
      "out_time_us=22720000\n",
      "out_time_ms=22720000\n",
      "out_time=00:00:22.720000\n",
      "dup_frames=0\n",
      "drop_frames=0\n",
      "speed=5.01x\n",
      "progress=continue\n"
     ]
    },
    {
     "name": "stderr",
     "output_type": "stream",
     "text": [
      "frame=  667 fps=132 q=-0.0 size=N/A time=00:00:25.40 bitrate=N/A speed=5.04x    \r"
     ]
    },
    {
     "name": "stdout",
     "output_type": "stream",
     "text": [
      "frame=667\n",
      "fps=132.41\n",
      "stream_0_0_q=-0.0\n",
      "bitrate=N/A\n",
      "total_size=N/A\n",
      "out_time_us=25400000\n",
      "out_time_ms=25400000\n",
      "out_time=00:00:25.400000\n",
      "dup_frames=0\n",
      "drop_frames=0\n",
      "speed=5.04x\n",
      "progress=continue\n"
     ]
    },
    {
     "name": "stderr",
     "output_type": "stream",
     "text": [
      "frame=  737 fps=133 q=-0.0 size=N/A time=00:00:28.20 bitrate=N/A speed=5.09x    \r"
     ]
    },
    {
     "name": "stdout",
     "output_type": "stream",
     "text": [
      "frame=737\n",
      "fps=133.05\n",
      "stream_0_0_q=-0.0\n",
      "bitrate=N/A\n",
      "total_size=N/A\n",
      "out_time_us=28200000\n",
      "out_time_ms=28200000\n",
      "out_time=00:00:28.200000\n",
      "dup_frames=0\n",
      "drop_frames=0\n",
      "speed=5.09x\n",
      "progress=continue\n"
     ]
    },
    {
     "name": "stderr",
     "output_type": "stream",
     "text": [
      "frame=  807 fps=134 q=-0.0 size=N/A time=00:00:31.00 bitrate=N/A speed=5.13x    \r"
     ]
    },
    {
     "name": "stdout",
     "output_type": "stream",
     "text": [
      "frame=807\n",
      "fps=133.52\n",
      "stream_0_0_q=-0.0\n",
      "bitrate=N/A\n",
      "total_size=N/A\n",
      "out_time_us=31000000\n",
      "out_time_ms=31000000\n",
      "out_time=00:00:31.000000\n",
      "dup_frames=0\n",
      "drop_frames=0\n",
      "speed=5.13x\n",
      "progress=continue\n"
     ]
    },
    {
     "name": "stderr",
     "output_type": "stream",
     "text": [
      "frame=  878 fps=134 q=-0.0 size=N/A time=00:00:33.84 bitrate=N/A speed=5.17x    \r"
     ]
    },
    {
     "name": "stdout",
     "output_type": "stream",
     "text": [
      "frame=878\n",
      "fps=134.14\n",
      "stream_0_0_q=-0.0\n",
      "bitrate=N/A\n",
      "total_size=N/A\n",
      "out_time_us=33840000\n",
      "out_time_ms=33840000\n",
      "out_time=00:00:33.840000\n",
      "dup_frames=0\n",
      "drop_frames=0\n",
      "speed=5.17x\n",
      "progress=continue\n"
     ]
    },
    {
     "name": "stderr",
     "output_type": "stream",
     "text": [
      "frame=  947 fps=134 q=-0.0 size=N/A time=00:00:36.60 bitrate=N/A speed=5.19x    \r"
     ]
    },
    {
     "name": "stdout",
     "output_type": "stream",
     "text": [
      "frame=947\n",
      "fps=134.39\n",
      "stream_0_0_q=-0.0\n",
      "bitrate=N/A\n",
      "total_size=N/A\n",
      "out_time_us=36600000\n",
      "out_time_ms=36600000\n",
      "out_time=00:00:36.600000\n",
      "dup_frames=0\n",
      "drop_frames=0\n",
      "speed=5.19x\n",
      "progress=continue\n"
     ]
    },
    {
     "name": "stderr",
     "output_type": "stream",
     "text": [
      "frame= 1014 fps=134 q=-0.0 size=N/A time=00:00:39.28 bitrate=N/A speed= 5.2x    \r"
     ]
    },
    {
     "name": "stdout",
     "output_type": "stream",
     "text": [
      "frame=1014\n",
      "fps=134.27\n",
      "stream_0_0_q=-0.0\n",
      "bitrate=N/A\n",
      "total_size=N/A\n",
      "out_time_us=39280000\n",
      "out_time_ms=39280000\n",
      "out_time=00:00:39.280000\n",
      "dup_frames=0\n",
      "drop_frames=0\n",
      "speed= 5.2x\n",
      "progress=continue\n"
     ]
    },
    {
     "name": "stderr",
     "output_type": "stream",
     "text": [
      "frame= 1080 fps=134 q=-0.0 size=N/A time=00:00:41.92 bitrate=N/A speed= 5.2x    \r"
     ]
    },
    {
     "name": "stdout",
     "output_type": "stream",
     "text": [
      "frame=1080\n",
      "fps=134.07\n",
      "stream_0_0_q=-0.0\n",
      "bitrate=N/A\n",
      "total_size=N/A\n",
      "out_time_us=41920000\n",
      "out_time_ms=41920000\n",
      "out_time=00:00:41.920000\n",
      "dup_frames=0\n",
      "drop_frames=0\n",
      "speed= 5.2x\n",
      "progress=continue\n"
     ]
    },
    {
     "name": "stderr",
     "output_type": "stream",
     "text": [
      "frame= 1136 fps=133 q=-0.0 size=N/A time=00:00:44.16 bitrate=N/A speed=5.15x    \r"
     ]
    },
    {
     "name": "stdout",
     "output_type": "stream",
     "text": [
      "frame=1136\n",
      "fps=132.55\n",
      "stream_0_0_q=-0.0\n",
      "bitrate=N/A\n",
      "total_size=N/A\n",
      "out_time_us=44160000\n",
      "out_time_ms=44160000\n",
      "out_time=00:00:44.160000\n",
      "dup_frames=0\n",
      "drop_frames=0\n",
      "speed=5.15x\n",
      "progress=continue\n"
     ]
    },
    {
     "name": "stderr",
     "output_type": "stream",
     "text": [
      "frame= 1193 fps=131 q=-0.0 size=N/A time=00:00:46.44 bitrate=N/A speed=5.12x    \r"
     ]
    },
    {
     "name": "stdout",
     "output_type": "stream",
     "text": [
      "frame=1193\n",
      "fps=131.48\n",
      "stream_0_0_q=-0.0\n",
      "bitrate=N/A\n",
      "total_size=N/A\n",
      "out_time_us=46440000\n",
      "out_time_ms=46440000\n",
      "out_time=00:00:46.440000\n",
      "dup_frames=0\n",
      "drop_frames=0\n",
      "speed=5.12x\n",
      "progress=continue\n"
     ]
    },
    {
     "name": "stderr",
     "output_type": "stream",
     "text": [
      "frame= 1249 fps=130 q=-0.0 size=N/A time=00:00:48.68 bitrate=N/A speed=5.08x    \r"
     ]
    },
    {
     "name": "stdout",
     "output_type": "stream",
     "text": [
      "frame=1249\n",
      "fps=130.31\n",
      "stream_0_0_q=-0.0\n",
      "bitrate=N/A\n",
      "total_size=N/A\n",
      "out_time_us=48680000\n",
      "out_time_ms=48680000\n",
      "out_time=00:00:48.680000\n",
      "dup_frames=0\n",
      "drop_frames=0\n",
      "speed=5.08x\n",
      "progress=continue\n"
     ]
    },
    {
     "name": "stderr",
     "output_type": "stream",
     "text": [
      "frame= 1301 fps=129 q=-0.0 size=N/A time=00:00:50.76 bitrate=N/A speed=5.03x    \r"
     ]
    },
    {
     "name": "stdout",
     "output_type": "stream",
     "text": [
      "frame=1301\n",
      "fps=128.96\n",
      "stream_0_0_q=-0.0\n",
      "bitrate=N/A\n",
      "total_size=N/A\n",
      "out_time_us=50760000\n",
      "out_time_ms=50760000\n",
      "out_time=00:00:50.760000\n",
      "dup_frames=0\n",
      "drop_frames=0\n",
      "speed=5.03x\n",
      "progress=continue\n"
     ]
    },
    {
     "name": "stderr",
     "output_type": "stream",
     "text": [
      "frame= 1357 fps=128 q=-0.0 size=N/A time=00:00:53.00 bitrate=N/A speed=5.01x    \r"
     ]
    },
    {
     "name": "stdout",
     "output_type": "stream",
     "text": [
      "frame=1357\n",
      "fps=128.15\n",
      "stream_0_0_q=-0.0\n",
      "bitrate=N/A\n",
      "total_size=N/A\n",
      "out_time_us=53000000\n",
      "out_time_ms=53000000\n",
      "out_time=00:00:53.000000\n",
      "dup_frames=0\n",
      "drop_frames=0\n",
      "speed=5.01x\n",
      "progress=continue\n"
     ]
    },
    {
     "name": "stderr",
     "output_type": "stream",
     "text": [
      "frame= 1410 fps=127 q=-0.0 size=N/A time=00:00:55.12 bitrate=N/A speed=4.97x    \r"
     ]
    },
    {
     "name": "stdout",
     "output_type": "stream",
     "text": [
      "frame=1410\n",
      "fps=127.13\n",
      "stream_0_0_q=-0.0\n",
      "bitrate=N/A\n",
      "total_size=N/A\n",
      "out_time_us=55120000\n",
      "out_time_ms=55120000\n",
      "out_time=00:00:55.120000\n",
      "dup_frames=0\n",
      "drop_frames=0\n",
      "speed=4.97x\n",
      "progress=continue\n"
     ]
    },
    {
     "name": "stderr",
     "output_type": "stream",
     "text": [
      "frame= 1459 fps=126 q=-0.0 size=N/A time=00:00:57.08 bitrate=N/A speed=4.92x    \r"
     ]
    },
    {
     "name": "stdout",
     "output_type": "stream",
     "text": [
      "frame=1459\n",
      "fps=125.86\n",
      "stream_0_0_q=-0.0\n",
      "bitrate=N/A\n",
      "total_size=N/A\n",
      "out_time_us=57080000\n",
      "out_time_ms=57080000\n",
      "out_time=00:00:57.080000\n",
      "dup_frames=0\n",
      "drop_frames=0\n",
      "speed=4.92x\n",
      "progress=continue\n"
     ]
    },
    {
     "name": "stderr",
     "output_type": "stream",
     "text": [
      "frame= 1516 fps=125 q=-0.0 size=N/A time=00:00:59.36 bitrate=N/A speed=4.91x    \r"
     ]
    },
    {
     "name": "stdout",
     "output_type": "stream",
     "text": [
      "frame=1516\n",
      "fps=125.34\n",
      "stream_0_0_q=-0.0\n",
      "bitrate=N/A\n",
      "total_size=N/A\n",
      "out_time_us=59360000\n",
      "out_time_ms=59360000\n",
      "out_time=00:00:59.360000\n",
      "dup_frames=0\n",
      "drop_frames=0\n",
      "speed=4.91x\n",
      "progress=continue\n"
     ]
    },
    {
     "name": "stderr",
     "output_type": "stream",
     "text": [
      "frame= 1574 fps=125 q=-0.0 size=N/A time=00:01:01.68 bitrate=N/A speed=4.89x    \r"
     ]
    },
    {
     "name": "stdout",
     "output_type": "stream",
     "text": [
      "frame=1574\n",
      "fps=124.91\n",
      "stream_0_0_q=-0.0\n",
      "bitrate=N/A\n",
      "total_size=N/A\n",
      "out_time_us=61680000\n",
      "out_time_ms=61680000\n",
      "out_time=00:01:01.680000\n",
      "dup_frames=0\n",
      "drop_frames=0\n",
      "speed=4.89x\n",
      "progress=continue\n"
     ]
    },
    {
     "name": "stderr",
     "output_type": "stream",
     "text": [
      "frame= 1637 fps=125 q=-0.0 size=N/A time=00:01:04.20 bitrate=N/A speed= 4.9x    \r"
     ]
    },
    {
     "name": "stdout",
     "output_type": "stream",
     "text": [
      "frame=1637\n",
      "fps=124.94\n",
      "stream_0_0_q=-0.0\n",
      "bitrate=N/A\n",
      "total_size=N/A\n",
      "out_time_us=64200000\n",
      "out_time_ms=64200000\n",
      "out_time=00:01:04.200000\n",
      "dup_frames=0\n",
      "drop_frames=0\n",
      "speed= 4.9x\n",
      "progress=continue\n"
     ]
    },
    {
     "name": "stderr",
     "output_type": "stream",
     "text": [
      "frame= 1698 fps=125 q=-0.0 size=N/A time=00:01:06.64 bitrate=N/A speed= 4.9x    \r"
     ]
    },
    {
     "name": "stdout",
     "output_type": "stream",
     "text": [
      "frame=1698\n",
      "fps=124.75\n",
      "stream_0_0_q=-0.0\n",
      "bitrate=N/A\n",
      "total_size=N/A\n",
      "out_time_us=66640000\n",
      "out_time_ms=66640000\n",
      "out_time=00:01:06.640000\n",
      "dup_frames=0\n",
      "drop_frames=0\n",
      "speed= 4.9x\n",
      "progress=continue\n"
     ]
    },
    {
     "name": "stderr",
     "output_type": "stream",
     "text": [
      "frame= 1764 fps=125 q=-0.0 size=N/A time=00:01:09.28 bitrate=N/A speed=4.91x    \r"
     ]
    },
    {
     "name": "stdout",
     "output_type": "stream",
     "text": [
      "frame=1764\n",
      "fps=124.96\n",
      "stream_0_0_q=-0.0\n",
      "bitrate=N/A\n",
      "total_size=N/A\n",
      "out_time_us=69280000\n",
      "out_time_ms=69280000\n",
      "out_time=00:01:09.280000\n",
      "dup_frames=0\n",
      "drop_frames=0\n",
      "speed=4.91x\n",
      "progress=continue\n"
     ]
    },
    {
     "name": "stderr",
     "output_type": "stream",
     "text": [
      "frame= 1822 fps=125 q=-0.0 size=N/A time=00:01:11.60 bitrate=N/A speed= 4.9x    \r"
     ]
    },
    {
     "name": "stdout",
     "output_type": "stream",
     "text": [
      "frame=1822\n",
      "fps=124.64\n",
      "stream_0_0_q=-0.0\n",
      "bitrate=N/A\n",
      "total_size=N/A\n",
      "out_time_us=71600000\n",
      "out_time_ms=71600000\n",
      "out_time=00:01:11.600000\n",
      "dup_frames=0\n",
      "drop_frames=0\n",
      "speed= 4.9x\n",
      "progress=continue\n"
     ]
    },
    {
     "name": "stderr",
     "output_type": "stream",
     "text": [
      "frame= 1855 fps=122 q=-0.0 size=N/A time=00:01:12.92 bitrate=N/A speed=4.81x    \r"
     ]
    },
    {
     "name": "stdout",
     "output_type": "stream",
     "text": [
      "frame=1855\n",
      "fps=122.45\n",
      "stream_0_0_q=-0.0\n",
      "bitrate=N/A\n",
      "total_size=N/A\n",
      "out_time_us=72920000\n",
      "out_time_ms=72920000\n",
      "out_time=00:01:12.920000\n",
      "dup_frames=0\n",
      "drop_frames=0\n",
      "speed=4.81x\n",
      "progress=continue\n"
     ]
    },
    {
     "name": "stderr",
     "output_type": "stream",
     "text": [
      "frame= 1881 fps=120 q=-0.0 size=N/A time=00:01:13.96 bitrate=N/A speed=4.71x    \r"
     ]
    },
    {
     "name": "stdout",
     "output_type": "stream",
     "text": [
      "frame=1881\n",
      "fps=119.81\n",
      "stream_0_0_q=-0.0\n",
      "bitrate=N/A\n",
      "total_size=N/A\n",
      "out_time_us=73960000\n",
      "out_time_ms=73960000\n",
      "out_time=00:01:13.960000\n",
      "dup_frames=0\n",
      "drop_frames=0\n",
      "speed=4.71x\n",
      "progress=continue\n"
     ]
    },
    {
     "name": "stderr",
     "output_type": "stream",
     "text": [
      "frame= 1911 fps=118 q=-0.0 size=N/A time=00:01:15.16 bitrate=N/A speed=4.64x    \r"
     ]
    },
    {
     "name": "stdout",
     "output_type": "stream",
     "text": [
      "frame=1911\n",
      "fps=117.93\n",
      "stream_0_0_q=-0.0\n",
      "bitrate=N/A\n",
      "total_size=N/A\n",
      "out_time_us=75160000\n",
      "out_time_ms=75160000\n",
      "out_time=00:01:15.160000\n",
      "dup_frames=0\n",
      "drop_frames=0\n",
      "speed=4.64x\n",
      "progress=continue\n",
      "frame=1946\n",
      "fps=116.49\n",
      "stream_0_0_q=-0.0\n",
      "bitrate=N/A\n",
      "total_size=N/A\n",
      "out_time_us=76560000\n",
      "out_time_ms=76560000\n",
      "out_time=00:01:16.560000\n",
      "dup_frames=0\n",
      "drop_frames=0\n",
      "speed=4.58x\n",
      "progress=continue\n"
     ]
    },
    {
     "name": "stderr",
     "output_type": "stream",
     "text": [
      "frame= 2014 fps=117 q=-0.0 size=N/A time=00:01:19.28 bitrate=N/A speed=4.61x    \r"
     ]
    },
    {
     "name": "stdout",
     "output_type": "stream",
     "text": [
      "frame=2014\n",
      "fps=117.05\n",
      "stream_0_0_q=-0.0\n",
      "bitrate=N/A\n",
      "total_size=N/A\n",
      "out_time_us=79280000\n",
      "out_time_ms=79280000\n",
      "out_time=00:01:19.280000\n",
      "dup_frames=0\n",
      "drop_frames=0\n",
      "speed=4.61x\n",
      "progress=continue\n"
     ]
    },
    {
     "name": "stderr",
     "output_type": "stream",
     "text": [
      "frame= 2079 fps=117 q=-0.0 size=N/A time=00:01:21.88 bitrate=N/A speed=4.62x    \r"
     ]
    },
    {
     "name": "stdout",
     "output_type": "stream",
     "text": [
      "frame=2079\n",
      "fps=117.40\n",
      "stream_0_0_q=-0.0\n",
      "bitrate=N/A\n",
      "total_size=N/A\n",
      "out_time_us=81880000\n",
      "out_time_ms=81880000\n",
      "out_time=00:01:21.880000\n",
      "dup_frames=0\n",
      "drop_frames=0\n",
      "speed=4.62x\n",
      "progress=continue\n"
     ]
    },
    {
     "name": "stderr",
     "output_type": "stream",
     "text": [
      "frame= 2149 fps=118 q=-0.0 size=N/A time=00:01:24.68 bitrate=N/A speed=4.65x    \r"
     ]
    },
    {
     "name": "stdout",
     "output_type": "stream",
     "text": [
      "frame=2149\n",
      "fps=117.97\n",
      "stream_0_0_q=-0.0\n",
      "bitrate=N/A\n",
      "total_size=N/A\n",
      "out_time_us=84680000\n",
      "out_time_ms=84680000\n",
      "out_time=00:01:24.680000\n",
      "dup_frames=0\n",
      "drop_frames=0\n",
      "speed=4.65x\n",
      "progress=continue\n"
     ]
    },
    {
     "name": "stderr",
     "output_type": "stream",
     "text": [
      "frame= 2220 fps=119 q=-0.0 size=N/A time=00:01:27.52 bitrate=N/A speed=4.67x    \r"
     ]
    },
    {
     "name": "stdout",
     "output_type": "stream",
     "text": [
      "frame=2220\n",
      "fps=118.58\n",
      "stream_0_0_q=-0.0\n",
      "bitrate=N/A\n",
      "total_size=N/A\n",
      "out_time_us=87520000\n",
      "out_time_ms=87520000\n",
      "out_time=00:01:27.520000\n",
      "dup_frames=0\n",
      "drop_frames=0\n",
      "speed=4.67x\n",
      "progress=continue\n"
     ]
    },
    {
     "name": "stderr",
     "output_type": "stream",
     "text": [
      "frame= 2285 fps=119 q=-0.0 size=N/A time=00:01:30.12 bitrate=N/A speed=4.69x    \r"
     ]
    },
    {
     "name": "stdout",
     "output_type": "stream",
     "text": [
      "frame=2285\n",
      "fps=118.84\n",
      "stream_0_0_q=-0.0\n",
      "bitrate=N/A\n",
      "total_size=N/A\n",
      "out_time_us=90120000\n",
      "out_time_ms=90120000\n",
      "out_time=00:01:30.120000\n",
      "dup_frames=0\n",
      "drop_frames=0\n",
      "speed=4.69x\n",
      "progress=continue\n"
     ]
    },
    {
     "name": "stderr",
     "output_type": "stream",
     "text": [
      "frame= 2353 fps=119 q=-0.0 size=N/A time=00:01:32.84 bitrate=N/A speed= 4.7x    \r"
     ]
    },
    {
     "name": "stdout",
     "output_type": "stream",
     "text": [
      "frame=2353\n",
      "fps=119.23\n",
      "stream_0_0_q=-0.0\n",
      "bitrate=N/A\n",
      "total_size=N/A\n",
      "out_time_us=92840000\n",
      "out_time_ms=92840000\n",
      "out_time=00:01:32.840000\n",
      "dup_frames=0\n",
      "drop_frames=0\n",
      "speed= 4.7x\n",
      "progress=continue\n"
     ]
    },
    {
     "name": "stderr",
     "output_type": "stream",
     "text": [
      "frame= 2420 fps=120 q=-0.0 size=N/A time=00:01:35.52 bitrate=N/A speed=4.72x    \r"
     ]
    },
    {
     "name": "stdout",
     "output_type": "stream",
     "text": [
      "frame=2420\n",
      "fps=119.52\n",
      "stream_0_0_q=-0.0\n",
      "bitrate=N/A\n",
      "total_size=N/A\n",
      "out_time_us=95520000\n",
      "out_time_ms=95520000\n",
      "out_time=00:01:35.520000\n",
      "dup_frames=0\n",
      "drop_frames=0\n",
      "speed=4.72x\n",
      "progress=continue\n"
     ]
    },
    {
     "name": "stderr",
     "output_type": "stream",
     "text": [
      "frame= 2489 fps=120 q=-0.0 size=N/A time=00:01:38.28 bitrate=N/A speed=4.74x    \r"
     ]
    },
    {
     "name": "stdout",
     "output_type": "stream",
     "text": [
      "frame=2489\n",
      "fps=119.92\n",
      "stream_0_0_q=-0.0\n",
      "bitrate=N/A\n",
      "total_size=N/A\n",
      "out_time_us=98280000\n",
      "out_time_ms=98280000\n",
      "out_time=00:01:38.280000\n",
      "dup_frames=0\n",
      "drop_frames=0\n",
      "speed=4.74x\n",
      "progress=continue\n"
     ]
    },
    {
     "name": "stderr",
     "output_type": "stream",
     "text": [
      "frame= 2556 fps=120 q=-0.0 size=N/A time=00:01:40.96 bitrate=N/A speed=4.75x    \r"
     ]
    },
    {
     "name": "stdout",
     "output_type": "stream",
     "text": [
      "frame=2556\n",
      "fps=120.22\n",
      "stream_0_0_q=-0.0\n",
      "bitrate=N/A\n",
      "total_size=N/A\n",
      "out_time_us=100960000\n",
      "out_time_ms=100960000\n",
      "out_time=00:01:40.960000\n",
      "dup_frames=0\n",
      "drop_frames=0\n",
      "speed=4.75x\n",
      "progress=continue\n"
     ]
    },
    {
     "name": "stderr",
     "output_type": "stream",
     "text": [
      "frame= 2622 fps=120 q=-0.0 size=N/A time=00:01:43.60 bitrate=N/A speed=4.76x    \r"
     ]
    },
    {
     "name": "stdout",
     "output_type": "stream",
     "text": [
      "frame=2622\n",
      "fps=120.49\n",
      "stream_0_0_q=-0.0\n",
      "bitrate=N/A\n",
      "total_size=N/A\n",
      "out_time_us=103600000\n",
      "out_time_ms=103600000\n",
      "out_time=00:01:43.600000\n",
      "dup_frames=0\n",
      "drop_frames=0\n",
      "speed=4.76x\n",
      "progress=continue\n"
     ]
    },
    {
     "name": "stderr",
     "output_type": "stream",
     "text": [
      "frame= 2692 fps=121 q=-0.0 size=N/A time=00:01:46.40 bitrate=N/A speed=4.78x    \r"
     ]
    },
    {
     "name": "stdout",
     "output_type": "stream",
     "text": [
      "frame=2692\n",
      "fps=120.91\n",
      "stream_0_0_q=-0.0\n",
      "bitrate=N/A\n",
      "total_size=N/A\n",
      "out_time_us=106400000\n",
      "out_time_ms=106400000\n",
      "out_time=00:01:46.400000\n",
      "dup_frames=0\n",
      "drop_frames=0\n",
      "speed=4.78x\n",
      "progress=continue\n"
     ]
    },
    {
     "name": "stderr",
     "output_type": "stream",
     "text": [
      "frame= 2760 fps=121 q=-0.0 size=N/A time=00:01:49.12 bitrate=N/A speed=4.79x    \r"
     ]
    },
    {
     "name": "stdout",
     "output_type": "stream",
     "text": [
      "frame=2760\n",
      "fps=121.20\n",
      "stream_0_0_q=-0.0\n",
      "bitrate=N/A\n",
      "total_size=N/A\n",
      "out_time_us=109120000\n",
      "out_time_ms=109120000\n",
      "out_time=00:01:49.120000\n",
      "dup_frames=0\n",
      "drop_frames=0\n",
      "speed=4.79x\n",
      "progress=continue\n"
     ]
    },
    {
     "name": "stderr",
     "output_type": "stream",
     "text": [
      "frame= 2827 fps=121 q=-0.0 size=N/A time=00:01:51.80 bitrate=N/A speed= 4.8x    \r"
     ]
    },
    {
     "name": "stdout",
     "output_type": "stream",
     "text": [
      "frame=2827\n",
      "fps=121.45\n",
      "stream_0_0_q=-0.0\n",
      "bitrate=N/A\n",
      "total_size=N/A\n",
      "out_time_us=111800000\n",
      "out_time_ms=111800000\n",
      "out_time=00:01:51.800000\n",
      "dup_frames=0\n",
      "drop_frames=0\n",
      "speed= 4.8x\n",
      "progress=continue\n"
     ]
    },
    {
     "name": "stderr",
     "output_type": "stream",
     "text": [
      "frame= 2895 fps=122 q=-0.0 size=N/A time=00:01:54.52 bitrate=N/A speed=4.82x    \r"
     ]
    },
    {
     "name": "stdout",
     "output_type": "stream",
     "text": [
      "frame=2895\n",
      "fps=121.75\n",
      "stream_0_0_q=-0.0\n",
      "bitrate=N/A\n",
      "total_size=N/A\n",
      "out_time_us=114520000\n",
      "out_time_ms=114520000\n",
      "out_time=00:01:54.520000\n",
      "dup_frames=0\n",
      "drop_frames=0\n",
      "speed=4.82x\n",
      "progress=continue\n"
     ]
    },
    {
     "name": "stderr",
     "output_type": "stream",
     "text": [
      "frame= 2960 fps=122 q=-0.0 size=N/A time=00:01:57.12 bitrate=N/A speed=4.82x    \r"
     ]
    },
    {
     "name": "stdout",
     "output_type": "stream",
     "text": [
      "frame=2960\n",
      "fps=121.90\n",
      "stream_0_0_q=-0.0\n",
      "bitrate=N/A\n",
      "total_size=N/A\n",
      "out_time_us=117120000\n",
      "out_time_ms=117120000\n",
      "out_time=00:01:57.120000\n",
      "dup_frames=0\n",
      "drop_frames=0\n",
      "speed=4.82x\n",
      "progress=continue\n"
     ]
    },
    {
     "name": "stderr",
     "output_type": "stream",
     "text": [
      "frame= 3026 fps=122 q=-0.0 size=N/A time=00:01:59.76 bitrate=N/A speed=4.83x    \r"
     ]
    },
    {
     "name": "stdout",
     "output_type": "stream",
     "text": [
      "frame=3026\n",
      "fps=122.09\n",
      "stream_0_0_q=-0.0\n",
      "bitrate=N/A\n",
      "total_size=N/A\n",
      "out_time_us=119760000\n",
      "out_time_ms=119760000\n",
      "out_time=00:01:59.760000\n",
      "dup_frames=0\n",
      "drop_frames=0\n",
      "speed=4.83x\n",
      "progress=continue\n"
     ]
    },
    {
     "name": "stderr",
     "output_type": "stream",
     "text": [
      "frame= 3095 fps=122 q=-0.0 size=N/A time=00:02:02.52 bitrate=N/A speed=4.84x    \r"
     ]
    },
    {
     "name": "stdout",
     "output_type": "stream",
     "text": [
      "frame=3095\n",
      "fps=122.38\n",
      "stream_0_0_q=-0.0\n",
      "bitrate=N/A\n",
      "total_size=N/A\n",
      "out_time_us=122520000\n",
      "out_time_ms=122520000\n",
      "out_time=00:02:02.520000\n",
      "dup_frames=0\n",
      "drop_frames=0\n",
      "speed=4.84x\n",
      "progress=continue\n"
     ]
    },
    {
     "name": "stderr",
     "output_type": "stream",
     "text": [
      "frame= 3162 fps=123 q=-0.0 size=N/A time=00:02:05.20 bitrate=N/A speed=4.85x    \r"
     ]
    },
    {
     "name": "stdout",
     "output_type": "stream",
     "text": [
      "frame=3162\n",
      "fps=122.59\n",
      "stream_0_0_q=-0.0\n",
      "bitrate=N/A\n",
      "total_size=N/A\n",
      "out_time_us=125200000\n",
      "out_time_ms=125200000\n",
      "out_time=00:02:05.200000\n",
      "dup_frames=0\n",
      "drop_frames=0\n",
      "speed=4.85x\n",
      "progress=continue\n"
     ]
    },
    {
     "name": "stderr",
     "output_type": "stream",
     "text": [
      "frame= 3219 fps=122 q=-0.0 size=N/A time=00:02:07.48 bitrate=N/A speed=4.85x    \r"
     ]
    },
    {
     "name": "stdout",
     "output_type": "stream",
     "text": [
      "frame=3219\n",
      "fps=122.41\n",
      "stream_0_0_q=-0.0\n",
      "bitrate=N/A\n",
      "total_size=N/A\n",
      "out_time_us=127480000\n",
      "out_time_ms=127480000\n",
      "out_time=00:02:07.480000\n",
      "dup_frames=0\n",
      "drop_frames=0\n",
      "speed=4.85x\n",
      "progress=continue\n"
     ]
    },
    {
     "name": "stderr",
     "output_type": "stream",
     "text": [
      "frame= 3270 fps=122 q=-0.0 size=N/A time=00:02:09.52 bitrate=N/A speed=4.83x    \r"
     ]
    },
    {
     "name": "stdout",
     "output_type": "stream",
     "text": [
      "frame=3270\n",
      "fps=122.02\n",
      "stream_0_0_q=-0.0\n",
      "bitrate=N/A\n",
      "total_size=N/A\n",
      "out_time_us=129520000\n",
      "out_time_ms=129520000\n",
      "out_time=00:02:09.520000\n",
      "dup_frames=0\n",
      "drop_frames=0\n",
      "speed=4.83x\n",
      "progress=continue\n"
     ]
    },
    {
     "name": "stderr",
     "output_type": "stream",
     "text": [
      "frame= 3327 fps=122 q=-0.0 size=N/A time=00:02:11.80 bitrate=N/A speed=4.83x    \r"
     ]
    },
    {
     "name": "stdout",
     "output_type": "stream",
     "text": [
      "frame=3327\n",
      "fps=121.87\n",
      "stream_0_0_q=-0.0\n",
      "bitrate=N/A\n",
      "total_size=N/A\n",
      "out_time_us=131800000\n",
      "out_time_ms=131800000\n",
      "out_time=00:02:11.800000\n",
      "dup_frames=0\n",
      "drop_frames=0\n",
      "speed=4.83x\n",
      "progress=continue\n"
     ]
    },
    {
     "name": "stderr",
     "output_type": "stream",
     "text": [
      "frame= 3382 fps=122 q=-0.0 size=N/A time=00:02:14.00 bitrate=N/A speed=4.82x    \r"
     ]
    },
    {
     "name": "stdout",
     "output_type": "stream",
     "text": [
      "frame=3382\n",
      "fps=121.62\n",
      "stream_0_0_q=-0.0\n",
      "bitrate=N/A\n",
      "total_size=N/A\n",
      "out_time_us=134000000\n",
      "out_time_ms=134000000\n",
      "out_time=00:02:14.000000\n",
      "dup_frames=0\n",
      "drop_frames=0\n",
      "speed=4.82x\n",
      "progress=continue\n"
     ]
    },
    {
     "name": "stderr",
     "output_type": "stream",
     "text": [
      "frame= 3432 fps=121 q=-0.0 size=N/A time=00:02:16.00 bitrate=N/A speed= 4.8x    \r"
     ]
    },
    {
     "name": "stdout",
     "output_type": "stream",
     "text": [
      "frame=3432\n",
      "fps=121.24\n",
      "stream_0_0_q=-0.0\n",
      "bitrate=N/A\n",
      "total_size=N/A\n",
      "out_time_us=136000000\n",
      "out_time_ms=136000000\n",
      "out_time=00:02:16.000000\n",
      "dup_frames=0\n",
      "drop_frames=0\n",
      "speed= 4.8x\n",
      "progress=continue\n"
     ]
    },
    {
     "name": "stderr",
     "output_type": "stream",
     "text": [
      "frame= 3490 fps=121 q=-0.0 size=N/A time=00:02:18.32 bitrate=N/A speed= 4.8x    \r"
     ]
    },
    {
     "name": "stdout",
     "output_type": "stream",
     "text": [
      "frame=3490\n",
      "fps=121.14\n",
      "stream_0_0_q=-0.0\n",
      "bitrate=N/A\n",
      "total_size=N/A\n",
      "out_time_us=138320000\n",
      "out_time_ms=138320000\n",
      "out_time=00:02:18.320000\n",
      "dup_frames=0\n",
      "drop_frames=0\n",
      "speed= 4.8x\n",
      "progress=continue\n"
     ]
    },
    {
     "name": "stderr",
     "output_type": "stream",
     "text": [
      "frame= 3546 fps=121 q=-0.0 size=N/A time=00:02:20.56 bitrate=N/A speed=4.79x    \r"
     ]
    },
    {
     "name": "stdout",
     "output_type": "stream",
     "text": [
      "frame=3546\n",
      "fps=120.97\n",
      "stream_0_0_q=-0.0\n",
      "bitrate=N/A\n",
      "total_size=N/A\n",
      "out_time_us=140560000\n",
      "out_time_ms=140560000\n",
      "out_time=00:02:20.560000\n",
      "dup_frames=0\n",
      "drop_frames=0\n",
      "speed=4.79x\n",
      "progress=continue\n",
      "frame=3602\n",
      "fps=120.80\n",
      "stream_0_0_q=-0.0\n",
      "bitrate=N/A\n",
      "total_size=N/A\n",
      "out_time_us=142800000\n",
      "out_time_ms=142800000\n",
      "out_time=00:02:22.800000\n",
      "dup_frames=0\n",
      "drop_frames=0\n",
      "speed=4.79x\n",
      "progress=continue\n"
     ]
    },
    {
     "name": "stderr",
     "output_type": "stream",
     "text": [
      "frame= 3602 fps=121 q=-0.0 size=N/A time=00:02:22.80 bitrate=N/A speed=4.79x    \r"
     ]
    },
    {
     "name": "stdout",
     "output_type": "stream",
     "text": [
      "frame=3646\n",
      "fps=120.23\n",
      "stream_0_0_q=-0.0\n",
      "bitrate=N/A\n",
      "total_size=N/A\n",
      "out_time_us=144560000\n",
      "out_time_ms=144560000\n",
      "out_time=00:02:24.560000\n",
      "dup_frames=0\n",
      "drop_frames=0\n",
      "speed=4.77x\n",
      "progress=continue\n"
     ]
    },
    {
     "name": "stderr",
     "output_type": "stream",
     "text": [
      "frame= 3702 fps=120 q=-0.0 size=N/A time=00:02:26.80 bitrate=N/A speed=4.76x    \r"
     ]
    },
    {
     "name": "stdout",
     "output_type": "stream",
     "text": [
      "frame=3702\n",
      "fps=120.08\n",
      "stream_0_0_q=-0.0\n",
      "bitrate=N/A\n",
      "total_size=N/A\n",
      "out_time_us=146800000\n",
      "out_time_ms=146800000\n",
      "out_time=00:02:26.800000\n",
      "dup_frames=0\n",
      "drop_frames=0\n",
      "speed=4.76x\n",
      "progress=continue\n"
     ]
    },
    {
     "name": "stderr",
     "output_type": "stream",
     "text": [
      "frame= 3761 fps=120 q=-0.0 size=N/A time=00:02:29.16 bitrate=N/A speed=4.76x    \r"
     ]
    },
    {
     "name": "stdout",
     "output_type": "stream",
     "text": [
      "frame=3761\n",
      "fps=120.04\n",
      "stream_0_0_q=-0.0\n",
      "bitrate=N/A\n",
      "total_size=N/A\n",
      "out_time_us=149160000\n",
      "out_time_ms=149160000\n",
      "out_time=00:02:29.160000\n",
      "dup_frames=0\n",
      "drop_frames=0\n",
      "speed=4.76x\n",
      "progress=continue\n",
      "frame=3818\n",
      "fps=119.92\n",
      "stream_0_0_q=-0.0\n",
      "bitrate=N/A\n",
      "total_size=N/A\n",
      "out_time_us=151440000\n",
      "out_time_ms=151440000\n",
      "out_time=00:02:31.440000\n",
      "dup_frames=0\n",
      "drop_frames=0\n",
      "speed=4.76x\n",
      "progress=continue\n"
     ]
    },
    {
     "name": "stderr",
     "output_type": "stream",
     "text": [
      "frame= 3872 fps=120 q=-0.0 size=N/A time=00:02:33.60 bitrate=N/A speed=4.75x    \r"
     ]
    },
    {
     "name": "stdout",
     "output_type": "stream",
     "text": [
      "frame=3872\n",
      "fps=119.73\n",
      "stream_0_0_q=-0.0\n",
      "bitrate=N/A\n",
      "total_size=N/A\n",
      "out_time_us=153600000\n",
      "out_time_ms=153600000\n",
      "out_time=00:02:33.600000\n",
      "dup_frames=0\n",
      "drop_frames=0\n",
      "speed=4.75x\n",
      "progress=continue\n"
     ]
    },
    {
     "name": "stderr",
     "output_type": "stream",
     "text": [
      "frame= 3929 fps=120 q=-0.0 size=N/A time=00:02:35.88 bitrate=N/A speed=4.75x    \r"
     ]
    },
    {
     "name": "stdout",
     "output_type": "stream",
     "text": [
      "frame=3929\n",
      "fps=119.64\n",
      "stream_0_0_q=-0.0\n",
      "bitrate=N/A\n",
      "total_size=N/A\n",
      "out_time_us=155880000\n",
      "out_time_ms=155880000\n",
      "out_time=00:02:35.880000\n",
      "dup_frames=0\n",
      "drop_frames=0\n",
      "speed=4.75x\n",
      "progress=continue\n",
      "frame=3988\n",
      "fps=119.59\n",
      "stream_0_0_q=-0.0\n",
      "bitrate=N/A\n",
      "total_size=N/A\n",
      "out_time_us=158240000\n",
      "out_time_ms=158240000\n",
      "out_time=00:02:38.240000\n",
      "dup_frames=0\n",
      "drop_frames=0\n",
      "speed=4.75x\n",
      "progress=continue\n"
     ]
    },
    {
     "name": "stderr",
     "output_type": "stream",
     "text": [
      "frame= 4044 fps=119 q=-0.0 size=N/A time=00:02:40.48 bitrate=N/A speed=4.74x    \r"
     ]
    },
    {
     "name": "stdout",
     "output_type": "stream",
     "text": [
      "frame=4044\n",
      "fps=119.46\n",
      "stream_0_0_q=-0.0\n",
      "bitrate=N/A\n",
      "total_size=N/A\n",
      "out_time_us=160480000\n",
      "out_time_ms=160480000\n",
      "out_time=00:02:40.480000\n",
      "dup_frames=0\n",
      "drop_frames=0\n",
      "speed=4.74x\n",
      "progress=continue\n"
     ]
    },
    {
     "name": "stderr",
     "output_type": "stream",
     "text": [
      "frame= 4107 fps=120 q=-0.0 size=N/A time=00:02:43.00 bitrate=N/A speed=4.74x    \r"
     ]
    },
    {
     "name": "stdout",
     "output_type": "stream",
     "text": [
      "frame=4107\n",
      "fps=119.55\n",
      "stream_0_0_q=-0.0\n",
      "bitrate=N/A\n",
      "total_size=N/A\n",
      "out_time_us=163000000\n",
      "out_time_ms=163000000\n",
      "out_time=00:02:43.000000\n",
      "dup_frames=0\n",
      "drop_frames=0\n",
      "speed=4.74x\n",
      "progress=continue\n"
     ]
    },
    {
     "name": "stderr",
     "output_type": "stream",
     "text": [
      "frame= 4157 fps=119 q=-0.0 size=N/A time=00:02:45.00 bitrate=N/A speed=4.71x    \r"
     ]
    },
    {
     "name": "stdout",
     "output_type": "stream",
     "text": [
      "frame=4157\n",
      "fps=118.65\n",
      "stream_0_0_q=-0.0\n",
      "bitrate=N/A\n",
      "total_size=N/A\n",
      "out_time_us=165000000\n",
      "out_time_ms=165000000\n",
      "out_time=00:02:45.000000\n",
      "dup_frames=0\n",
      "drop_frames=0\n",
      "speed=4.71x\n",
      "progress=continue\n"
     ]
    },
    {
     "name": "stderr",
     "output_type": "stream",
     "text": [
      "frame= 4187 fps=118 q=-0.0 size=N/A time=00:02:46.20 bitrate=N/A speed=4.68x    \r"
     ]
    },
    {
     "name": "stdout",
     "output_type": "stream",
     "text": [
      "frame=4187\n",
      "fps=117.83\n",
      "stream_0_0_q=-0.0\n",
      "bitrate=N/A\n",
      "total_size=N/A\n",
      "out_time_us=166200000\n",
      "out_time_ms=166200000\n",
      "out_time=00:02:46.200000\n",
      "dup_frames=0\n",
      "drop_frames=0\n",
      "speed=4.68x\n",
      "progress=continue\n"
     ]
    },
    {
     "name": "stderr",
     "output_type": "stream",
     "text": [
      "frame= 4242 fps=118 q=-0.0 size=N/A time=00:02:48.40 bitrate=N/A speed=4.67x    \r"
     ]
    },
    {
     "name": "stdout",
     "output_type": "stream",
     "text": [
      "frame=4242\n",
      "fps=117.71\n",
      "stream_0_0_q=-0.0\n",
      "bitrate=N/A\n",
      "total_size=N/A\n",
      "out_time_us=168400000\n",
      "out_time_ms=168400000\n",
      "out_time=00:02:48.400000\n",
      "dup_frames=0\n",
      "drop_frames=0\n",
      "speed=4.67x\n",
      "progress=continue\n"
     ]
    },
    {
     "name": "stderr",
     "output_type": "stream",
     "text": [
      "frame= 4304 fps=118 q=-0.0 size=N/A time=00:02:50.88 bitrate=N/A speed=4.68x    \r"
     ]
    },
    {
     "name": "stdout",
     "output_type": "stream",
     "text": [
      "frame=4304\n",
      "fps=117.76\n",
      "stream_0_0_q=-0.0\n",
      "bitrate=N/A\n",
      "total_size=N/A\n",
      "out_time_us=170880000\n",
      "out_time_ms=170880000\n",
      "out_time=00:02:50.880000\n",
      "dup_frames=0\n",
      "drop_frames=0\n",
      "speed=4.68x\n",
      "progress=continue\n"
     ]
    },
    {
     "name": "stderr",
     "output_type": "stream",
     "text": [
      "frame= 4366 fps=118 q=-0.0 size=N/A time=00:02:53.36 bitrate=N/A speed=4.68x    \r"
     ]
    },
    {
     "name": "stdout",
     "output_type": "stream",
     "text": [
      "frame=4366\n",
      "fps=117.83\n",
      "stream_0_0_q=-0.0\n",
      "bitrate=N/A\n",
      "total_size=N/A\n",
      "out_time_us=173360000\n",
      "out_time_ms=173360000\n",
      "out_time=00:02:53.360000\n",
      "dup_frames=0\n",
      "drop_frames=0\n",
      "speed=4.68x\n",
      "progress=continue\n"
     ]
    },
    {
     "name": "stderr",
     "output_type": "stream",
     "text": [
      "frame= 4437 fps=118 q=-0.0 size=N/A time=00:02:56.20 bitrate=N/A speed=4.69x    \r"
     ]
    },
    {
     "name": "stdout",
     "output_type": "stream",
     "text": [
      "frame=4437\n",
      "fps=118.15\n",
      "stream_0_0_q=-0.0\n",
      "bitrate=N/A\n",
      "total_size=N/A\n",
      "out_time_us=176200000\n",
      "out_time_ms=176200000\n",
      "out_time=00:02:56.200000\n",
      "dup_frames=0\n",
      "drop_frames=0\n",
      "speed=4.69x\n",
      "progress=continue\n"
     ]
    },
    {
     "name": "stderr",
     "output_type": "stream",
     "text": [
      "frame= 4493 fps=118 q=-0.0 size=N/A time=00:02:58.44 bitrate=N/A speed=4.69x    \r"
     ]
    },
    {
     "name": "stdout",
     "output_type": "stream",
     "text": [
      "frame=4493\n",
      "fps=118.06\n",
      "stream_0_0_q=-0.0\n",
      "bitrate=N/A\n",
      "total_size=N/A\n",
      "out_time_us=178440000\n",
      "out_time_ms=178440000\n",
      "out_time=00:02:58.440000\n",
      "dup_frames=0\n",
      "drop_frames=0\n",
      "speed=4.69x\n",
      "progress=continue\n"
     ]
    },
    {
     "name": "stderr",
     "output_type": "stream",
     "text": [
      "frame= 4545 fps=118 q=-0.0 size=N/A time=00:03:00.52 bitrate=N/A speed=4.68x    \r"
     ]
    },
    {
     "name": "stdout",
     "output_type": "stream",
     "text": [
      "frame=4545\n",
      "fps=117.86\n",
      "stream_0_0_q=-0.0\n",
      "bitrate=N/A\n",
      "total_size=N/A\n",
      "out_time_us=180520000\n",
      "out_time_ms=180520000\n",
      "out_time=00:03:00.520000\n",
      "dup_frames=0\n",
      "drop_frames=0\n",
      "speed=4.68x\n",
      "progress=continue\n"
     ]
    },
    {
     "name": "stderr",
     "output_type": "stream",
     "text": [
      "frame= 4605 fps=118 q=-0.0 size=N/A time=00:03:02.92 bitrate=N/A speed=4.68x    \r"
     ]
    },
    {
     "name": "stdout",
     "output_type": "stream",
     "text": [
      "frame=4605\n",
      "fps=117.87\n",
      "stream_0_0_q=-0.0\n",
      "bitrate=N/A\n",
      "total_size=N/A\n",
      "out_time_us=182920000\n",
      "out_time_ms=182920000\n",
      "out_time=00:03:02.920000\n",
      "dup_frames=0\n",
      "drop_frames=0\n",
      "speed=4.68x\n",
      "progress=continue\n"
     ]
    },
    {
     "name": "stderr",
     "output_type": "stream",
     "text": [
      "frame= 4654 fps=118 q=-0.0 size=N/A time=00:03:04.88 bitrate=N/A speed=4.67x    \r"
     ]
    },
    {
     "name": "stdout",
     "output_type": "stream",
     "text": [
      "frame=4654\n",
      "fps=117.61\n",
      "stream_0_0_q=-0.0\n",
      "bitrate=N/A\n",
      "total_size=N/A\n",
      "out_time_us=184880000\n",
      "out_time_ms=184880000\n",
      "out_time=00:03:04.880000\n",
      "dup_frames=0\n",
      "drop_frames=0\n",
      "speed=4.67x\n",
      "progress=continue\n"
     ]
    },
    {
     "name": "stderr",
     "output_type": "stream",
     "text": [
      "frame= 4695 fps=117 q=-0.0 size=N/A time=00:03:06.52 bitrate=N/A speed=4.65x    \r"
     ]
    },
    {
     "name": "stdout",
     "output_type": "stream",
     "text": [
      "frame=4695\n",
      "fps=117.14\n",
      "stream_0_0_q=-0.0\n",
      "bitrate=N/A\n",
      "total_size=N/A\n",
      "out_time_us=186520000\n",
      "out_time_ms=186520000\n",
      "out_time=00:03:06.520000\n",
      "dup_frames=0\n",
      "drop_frames=0\n",
      "speed=4.65x\n",
      "progress=continue\n"
     ]
    },
    {
     "name": "stderr",
     "output_type": "stream",
     "text": [
      "frame= 4727 fps=116 q=-0.0 size=N/A time=00:03:07.80 bitrate=N/A speed=4.63x    \r"
     ]
    },
    {
     "name": "stdout",
     "output_type": "stream",
     "text": [
      "frame=4727\n",
      "fps=116.47\n",
      "stream_0_0_q=-0.0\n",
      "bitrate=N/A\n",
      "total_size=N/A\n",
      "out_time_us=187800000\n",
      "out_time_ms=187800000\n",
      "out_time=00:03:07.800000\n",
      "dup_frames=0\n",
      "drop_frames=0\n",
      "speed=4.63x\n",
      "progress=continue\n"
     ]
    },
    {
     "name": "stderr",
     "output_type": "stream",
     "text": [
      "frame= 4784 fps=116 q=-0.0 size=N/A time=00:03:10.08 bitrate=N/A speed=4.62x    \r"
     ]
    },
    {
     "name": "stdout",
     "output_type": "stream",
     "text": [
      "frame=4784\n",
      "fps=116.38\n",
      "stream_0_0_q=-0.0\n",
      "bitrate=N/A\n",
      "total_size=N/A\n",
      "out_time_us=190080000\n",
      "out_time_ms=190080000\n",
      "out_time=00:03:10.080000\n",
      "dup_frames=0\n",
      "drop_frames=0\n",
      "speed=4.62x\n",
      "progress=continue\n"
     ]
    },
    {
     "name": "stderr",
     "output_type": "stream",
     "text": [
      "frame= 4836 fps=116 q=-0.0 size=N/A time=00:03:12.16 bitrate=N/A speed= 4.6x    \r"
     ]
    },
    {
     "name": "stdout",
     "output_type": "stream",
     "text": [
      "frame=4836\n",
      "fps=115.81\n",
      "stream_0_0_q=-0.0\n",
      "bitrate=N/A\n",
      "total_size=N/A\n",
      "out_time_us=192160000\n",
      "out_time_ms=192160000\n",
      "out_time=00:03:12.160000\n",
      "dup_frames=0\n",
      "drop_frames=0\n",
      "speed= 4.6x\n",
      "progress=continue\n"
     ]
    },
    {
     "name": "stderr",
     "output_type": "stream",
     "text": [
      "frame= 4889 fps=116 q=-0.0 size=N/A time=00:03:14.28 bitrate=N/A speed= 4.6x    \r"
     ]
    },
    {
     "name": "stdout",
     "output_type": "stream",
     "text": [
      "frame=4889\n",
      "fps=115.67\n",
      "stream_0_0_q=-0.0\n",
      "bitrate=N/A\n",
      "total_size=N/A\n",
      "out_time_us=194280000\n",
      "out_time_ms=194280000\n",
      "out_time=00:03:14.280000\n",
      "dup_frames=0\n",
      "drop_frames=0\n",
      "speed= 4.6x\n",
      "progress=continue\n"
     ]
    },
    {
     "name": "stderr",
     "output_type": "stream",
     "text": [
      "frame= 4946 fps=116 q=-0.0 size=N/A time=00:03:16.56 bitrate=N/A speed= 4.6x    \r"
     ]
    },
    {
     "name": "stdout",
     "output_type": "stream",
     "text": [
      "frame=4946\n",
      "fps=115.65\n",
      "stream_0_0_q=-0.0\n",
      "bitrate=N/A\n",
      "total_size=N/A\n",
      "out_time_us=196560000\n",
      "out_time_ms=196560000\n",
      "out_time=00:03:16.560000\n",
      "dup_frames=0\n",
      "drop_frames=0\n",
      "speed= 4.6x\n",
      "progress=continue\n"
     ]
    },
    {
     "name": "stderr",
     "output_type": "stream",
     "text": [
      "frame= 5001 fps=116 q=-0.0 size=N/A time=00:03:18.76 bitrate=N/A speed=4.59x    \r"
     ]
    },
    {
     "name": "stdout",
     "output_type": "stream",
     "text": [
      "frame=5001\n",
      "fps=115.58\n",
      "stream_0_0_q=-0.0\n",
      "bitrate=N/A\n",
      "total_size=N/A\n",
      "out_time_us=198760000\n",
      "out_time_ms=198760000\n",
      "out_time=00:03:18.760000\n",
      "dup_frames=0\n",
      "drop_frames=0\n",
      "speed=4.59x\n",
      "progress=continue\n"
     ]
    },
    {
     "name": "stderr",
     "output_type": "stream",
     "text": [
      "frame= 5058 fps=116 q=-0.0 size=N/A time=00:03:21.04 bitrate=N/A speed=4.59x    \r"
     ]
    },
    {
     "name": "stdout",
     "output_type": "stream",
     "text": [
      "frame=5058\n",
      "fps=115.55\n",
      "stream_0_0_q=-0.0\n",
      "bitrate=N/A\n",
      "total_size=N/A\n",
      "out_time_us=201040000\n",
      "out_time_ms=201040000\n",
      "out_time=00:03:21.040000\n",
      "dup_frames=0\n",
      "drop_frames=0\n",
      "speed=4.59x\n",
      "progress=continue\n"
     ]
    },
    {
     "name": "stderr",
     "output_type": "stream",
     "text": [
      "frame= 5117 fps=116 q=-0.0 size=N/A time=00:03:23.40 bitrate=N/A speed=4.59x    \r"
     ]
    },
    {
     "name": "stdout",
     "output_type": "stream",
     "text": [
      "frame=5117\n",
      "fps=115.57\n",
      "stream_0_0_q=-0.0\n",
      "bitrate=N/A\n",
      "total_size=N/A\n",
      "out_time_us=203400000\n",
      "out_time_ms=203400000\n",
      "out_time=00:03:23.400000\n",
      "dup_frames=0\n",
      "drop_frames=0\n",
      "speed=4.59x\n",
      "progress=continue\n"
     ]
    },
    {
     "name": "stderr",
     "output_type": "stream",
     "text": [
      "frame= 5175 fps=116 q=-0.0 size=N/A time=00:03:25.72 bitrate=N/A speed=4.59x    \r"
     ]
    },
    {
     "name": "stdout",
     "output_type": "stream",
     "text": [
      "frame=5175\n",
      "fps=115.56\n",
      "stream_0_0_q=-0.0\n",
      "bitrate=N/A\n",
      "total_size=N/A\n",
      "out_time_us=205720000\n",
      "out_time_ms=205720000\n",
      "out_time=00:03:25.720000\n",
      "dup_frames=0\n",
      "drop_frames=0\n",
      "speed=4.59x\n",
      "progress=continue\n",
      "frame=5214\n",
      "fps=114.96\n",
      "stream_0_0_q=-0.0\n",
      "bitrate=N/A\n",
      "total_size=N/A\n",
      "out_time_us=207280000\n",
      "out_time_ms=207280000\n",
      "out_time=00:03:27.280000\n",
      "dup_frames=0\n",
      "drop_frames=0\n",
      "speed=4.57x\n",
      "progress=continue\n"
     ]
    },
    {
     "name": "stderr",
     "output_type": "stream",
     "text": [
      "frame= 5259 fps=115 q=-0.0 size=N/A time=00:03:29.08 bitrate=N/A speed=4.56x    \r"
     ]
    },
    {
     "name": "stdout",
     "output_type": "stream",
     "text": [
      "frame=5259\n",
      "fps=114.68\n",
      "stream_0_0_q=-0.0\n",
      "bitrate=N/A\n",
      "total_size=N/A\n",
      "out_time_us=209080000\n",
      "out_time_ms=209080000\n",
      "out_time=00:03:29.080000\n",
      "dup_frames=0\n",
      "drop_frames=0\n",
      "speed=4.56x\n",
      "progress=continue\n"
     ]
    },
    {
     "name": "stderr",
     "output_type": "stream",
     "text": [
      "frame= 5317 fps=115 q=-0.0 size=N/A time=00:03:31.40 bitrate=N/A speed=4.56x    \r"
     ]
    },
    {
     "name": "stdout",
     "output_type": "stream",
     "text": [
      "frame=5317\n",
      "fps=114.66\n",
      "stream_0_0_q=-0.0\n",
      "bitrate=N/A\n",
      "total_size=N/A\n",
      "out_time_us=211400000\n",
      "out_time_ms=211400000\n",
      "out_time=00:03:31.400000\n",
      "dup_frames=0\n",
      "drop_frames=0\n",
      "speed=4.56x\n",
      "progress=continue\n"
     ]
    },
    {
     "name": "stderr",
     "output_type": "stream",
     "text": [
      "frame= 5379 fps=115 q=-0.0 size=N/A time=00:03:33.88 bitrate=N/A speed=4.56x    \r"
     ]
    },
    {
     "name": "stdout",
     "output_type": "stream",
     "text": [
      "frame=5379\n",
      "fps=114.75\n",
      "stream_0_0_q=-0.0\n",
      "bitrate=N/A\n",
      "total_size=N/A\n",
      "out_time_us=213880000\n",
      "out_time_ms=213880000\n",
      "out_time=00:03:33.880000\n",
      "dup_frames=0\n",
      "drop_frames=0\n",
      "speed=4.56x\n",
      "progress=continue\n"
     ]
    },
    {
     "name": "stderr",
     "output_type": "stream",
     "text": [
      "frame= 5407 fps=114 q=-0.0 size=N/A time=00:03:35.00 bitrate=N/A speed=4.54x    \r"
     ]
    },
    {
     "name": "stdout",
     "output_type": "stream",
     "text": [
      "frame=5407\n",
      "fps=114.12\n",
      "stream_0_0_q=-0.0\n",
      "bitrate=N/A\n",
      "total_size=N/A\n",
      "out_time_us=215000000\n",
      "out_time_ms=215000000\n",
      "out_time=00:03:35.000000\n",
      "dup_frames=0\n",
      "drop_frames=0\n",
      "speed=4.54x\n",
      "progress=continue\n"
     ]
    },
    {
     "name": "stderr",
     "output_type": "stream",
     "text": [
      "frame= 5459 fps=114 q=-0.0 size=N/A time=00:03:37.08 bitrate=N/A speed=4.53x    \r"
     ]
    },
    {
     "name": "stdout",
     "output_type": "stream",
     "text": [
      "frame=5459\n",
      "fps=114.01\n",
      "stream_0_0_q=-0.0\n",
      "bitrate=N/A\n",
      "total_size=N/A\n",
      "out_time_us=217080000\n",
      "out_time_ms=217080000\n",
      "out_time=00:03:37.080000\n",
      "dup_frames=0\n",
      "drop_frames=0\n",
      "speed=4.53x\n",
      "progress=continue\n"
     ]
    },
    {
     "name": "stderr",
     "output_type": "stream",
     "text": [
      "frame= 5507 fps=114 q=-0.0 size=N/A time=00:03:39.00 bitrate=N/A speed=4.53x    \r"
     ]
    },
    {
     "name": "stdout",
     "output_type": "stream",
     "text": [
      "frame=5507\n",
      "fps=113.81\n",
      "stream_0_0_q=-0.0\n",
      "bitrate=N/A\n",
      "total_size=N/A\n",
      "out_time_us=219000000\n",
      "out_time_ms=219000000\n",
      "out_time=00:03:39.000000\n",
      "dup_frames=0\n",
      "drop_frames=0\n",
      "speed=4.53x\n",
      "progress=continue\n"
     ]
    },
    {
     "name": "stderr",
     "output_type": "stream",
     "text": [
      "frame= 5559 fps=114 q=-0.0 size=N/A time=00:03:41.08 bitrate=N/A speed=4.52x    \r"
     ]
    },
    {
     "name": "stdout",
     "output_type": "stream",
     "text": [
      "frame=5559\n",
      "fps=113.70\n",
      "stream_0_0_q=-0.0\n",
      "bitrate=N/A\n",
      "total_size=N/A\n",
      "out_time_us=221080000\n",
      "out_time_ms=221080000\n",
      "out_time=00:03:41.080000\n",
      "dup_frames=0\n",
      "drop_frames=0\n",
      "speed=4.52x\n",
      "progress=continue\n"
     ]
    },
    {
     "name": "stderr",
     "output_type": "stream",
     "text": [
      "frame= 5608 fps=114 q=-0.0 size=N/A time=00:03:43.04 bitrate=N/A speed=4.52x    \r"
     ]
    },
    {
     "name": "stdout",
     "output_type": "stream",
     "text": [
      "frame=5608\n",
      "fps=113.53\n",
      "stream_0_0_q=-0.0\n",
      "bitrate=N/A\n",
      "total_size=N/A\n",
      "out_time_us=223040000\n",
      "out_time_ms=223040000\n",
      "out_time=00:03:43.040000\n",
      "dup_frames=0\n",
      "drop_frames=0\n",
      "speed=4.52x\n",
      "progress=continue\n"
     ]
    },
    {
     "name": "stderr",
     "output_type": "stream",
     "text": [
      "frame= 5649 fps=113 q=-0.0 size=N/A time=00:03:44.68 bitrate=N/A speed= 4.5x    \r"
     ]
    },
    {
     "name": "stdout",
     "output_type": "stream",
     "text": [
      "frame=5649\n",
      "fps=113.21\n",
      "stream_0_0_q=-0.0\n",
      "bitrate=N/A\n",
      "total_size=N/A\n",
      "out_time_us=224680000\n",
      "out_time_ms=224680000\n",
      "out_time=00:03:44.680000\n",
      "dup_frames=0\n",
      "drop_frames=0\n",
      "speed= 4.5x\n",
      "progress=continue\n",
      "frame=5688\n",
      "fps=112.81\n",
      "stream_0_0_q=-0.0\n",
      "bitrate=N/A\n",
      "total_size=N/A\n",
      "out_time_us=226240000\n",
      "out_time_ms=226240000\n",
      "out_time=00:03:46.240000\n",
      "dup_frames=0\n",
      "drop_frames=0\n",
      "speed=4.49x\n",
      "progress=continue\n"
     ]
    },
    {
     "name": "stderr",
     "output_type": "stream",
     "text": [
      "frame= 5736 fps=113 q=-0.0 size=N/A time=00:03:48.16 bitrate=N/A speed=4.48x    \r"
     ]
    },
    {
     "name": "stdout",
     "output_type": "stream",
     "text": [
      "frame=5736\n",
      "fps=112.63\n",
      "stream_0_0_q=-0.0\n",
      "bitrate=N/A\n",
      "total_size=N/A\n",
      "out_time_us=228160000\n",
      "out_time_ms=228160000\n",
      "out_time=00:03:48.160000\n",
      "dup_frames=0\n",
      "drop_frames=0\n",
      "speed=4.48x\n",
      "progress=continue\n"
     ]
    },
    {
     "name": "stderr",
     "output_type": "stream",
     "text": [
      "frame= 5793 fps=113 q=-0.0 size=N/A time=00:03:50.44 bitrate=N/A speed=4.48x    \r"
     ]
    },
    {
     "name": "stdout",
     "output_type": "stream",
     "text": [
      "frame=5793\n",
      "fps=112.65\n",
      "stream_0_0_q=-0.0\n",
      "bitrate=N/A\n",
      "total_size=N/A\n",
      "out_time_us=230440000\n",
      "out_time_ms=230440000\n",
      "out_time=00:03:50.440000\n",
      "dup_frames=0\n",
      "drop_frames=0\n",
      "speed=4.48x\n",
      "progress=continue\n"
     ]
    },
    {
     "name": "stderr",
     "output_type": "stream",
     "text": [
      "frame= 5851 fps=113 q=-0.0 size=N/A time=00:03:52.76 bitrate=N/A speed=4.48x    \r"
     ]
    },
    {
     "name": "stdout",
     "output_type": "stream",
     "text": [
      "frame=5851\n",
      "fps=112.68\n",
      "stream_0_0_q=-0.0\n",
      "bitrate=N/A\n",
      "total_size=N/A\n",
      "out_time_us=232760000\n",
      "out_time_ms=232760000\n",
      "out_time=00:03:52.760000\n",
      "dup_frames=0\n",
      "drop_frames=0\n",
      "speed=4.48x\n",
      "progress=continue\n"
     ]
    },
    {
     "name": "stderr",
     "output_type": "stream",
     "text": [
      "frame= 5914 fps=113 q=-0.0 size=N/A time=00:03:55.28 bitrate=N/A speed=4.49x    \r"
     ]
    },
    {
     "name": "stdout",
     "output_type": "stream",
     "text": [
      "frame=5914\n",
      "fps=112.79\n",
      "stream_0_0_q=-0.0\n",
      "bitrate=N/A\n",
      "total_size=N/A\n",
      "out_time_us=235280000\n",
      "out_time_ms=235280000\n",
      "out_time=00:03:55.280000\n",
      "dup_frames=0\n",
      "drop_frames=0\n",
      "speed=4.49x\n",
      "progress=continue\n"
     ]
    },
    {
     "name": "stderr",
     "output_type": "stream",
     "text": [
      "frame= 5969 fps=113 q=-0.0 size=N/A time=00:03:57.48 bitrate=N/A speed=4.49x    \r"
     ]
    },
    {
     "name": "stdout",
     "output_type": "stream",
     "text": [
      "frame=5969\n",
      "fps=112.76\n",
      "stream_0_0_q=-0.0\n",
      "bitrate=N/A\n",
      "total_size=N/A\n",
      "out_time_us=237480000\n",
      "out_time_ms=237480000\n",
      "out_time=00:03:57.480000\n",
      "dup_frames=0\n",
      "drop_frames=0\n",
      "speed=4.49x\n",
      "progress=continue\n"
     ]
    },
    {
     "name": "stderr",
     "output_type": "stream",
     "text": [
      "frame= 6031 fps=113 q=-0.0 size=N/A time=00:03:59.96 bitrate=N/A speed=4.49x    \r"
     ]
    },
    {
     "name": "stdout",
     "output_type": "stream",
     "text": [
      "frame=6031\n",
      "fps=112.86\n",
      "stream_0_0_q=-0.0\n",
      "bitrate=N/A\n",
      "total_size=N/A\n",
      "out_time_us=239960000\n",
      "out_time_ms=239960000\n",
      "out_time=00:03:59.960000\n",
      "dup_frames=0\n",
      "drop_frames=0\n",
      "speed=4.49x\n",
      "progress=continue\n"
     ]
    },
    {
     "name": "stderr",
     "output_type": "stream",
     "text": [
      "frame= 6086 fps=113 q=-0.0 size=N/A time=00:04:02.16 bitrate=N/A speed=4.49x    \r"
     ]
    },
    {
     "name": "stdout",
     "output_type": "stream",
     "text": [
      "frame=6086\n",
      "fps=112.83\n",
      "stream_0_0_q=-0.0\n",
      "bitrate=N/A\n",
      "total_size=N/A\n",
      "out_time_us=242160000\n",
      "out_time_ms=242160000\n",
      "out_time=00:04:02.160000\n",
      "dup_frames=0\n",
      "drop_frames=0\n",
      "speed=4.49x\n",
      "progress=continue\n"
     ]
    },
    {
     "name": "stderr",
     "output_type": "stream",
     "text": [
      "frame= 6110 fps=112 q=-0.0 size=N/A time=00:04:03.12 bitrate=N/A speed=4.47x    \r"
     ]
    },
    {
     "name": "stdout",
     "output_type": "stream",
     "text": [
      "frame=6110\n",
      "fps=112.24\n",
      "stream_0_0_q=-0.0\n",
      "bitrate=N/A\n",
      "total_size=N/A\n",
      "out_time_us=243120000\n",
      "out_time_ms=243120000\n",
      "out_time=00:04:03.120000\n",
      "dup_frames=0\n",
      "drop_frames=0\n",
      "speed=4.47x\n",
      "progress=continue\n"
     ]
    },
    {
     "name": "stderr",
     "output_type": "stream",
     "text": [
      "frame= 6147 fps=112 q=-0.0 size=N/A time=00:04:04.60 bitrate=N/A speed=4.45x    \r"
     ]
    },
    {
     "name": "stdout",
     "output_type": "stream",
     "text": [
      "frame=6147\n",
      "fps=111.89\n",
      "stream_0_0_q=-0.0\n",
      "bitrate=N/A\n",
      "total_size=N/A\n",
      "out_time_us=244600000\n",
      "out_time_ms=244600000\n",
      "out_time=00:04:04.600000\n",
      "dup_frames=0\n",
      "drop_frames=0\n",
      "speed=4.45x\n",
      "progress=continue\n"
     ]
    },
    {
     "name": "stderr",
     "output_type": "stream",
     "text": [
      "frame= 6177 fps=111 q=-0.0 size=N/A time=00:04:05.80 bitrate=N/A speed=4.43x    \r"
     ]
    },
    {
     "name": "stdout",
     "output_type": "stream",
     "text": [
      "frame=6177\n",
      "fps=111.27\n",
      "stream_0_0_q=-0.0\n",
      "bitrate=N/A\n",
      "total_size=N/A\n",
      "out_time_us=245800000\n",
      "out_time_ms=245800000\n",
      "out_time=00:04:05.800000\n",
      "dup_frames=0\n",
      "drop_frames=0\n",
      "speed=4.43x\n",
      "progress=continue\n"
     ]
    },
    {
     "name": "stderr",
     "output_type": "stream",
     "text": [
      "frame= 6229 fps=111 q=-0.0 size=N/A time=00:04:07.88 bitrate=N/A speed=4.43x    \r"
     ]
    },
    {
     "name": "stdout",
     "output_type": "stream",
     "text": [
      "frame=6229\n",
      "fps=111.20\n",
      "stream_0_0_q=-0.0\n",
      "bitrate=N/A\n",
      "total_size=N/A\n",
      "out_time_us=247880000\n",
      "out_time_ms=247880000\n",
      "out_time=00:04:07.880000\n",
      "dup_frames=0\n",
      "drop_frames=0\n",
      "speed=4.43x\n",
      "progress=continue\n"
     ]
    },
    {
     "name": "stderr",
     "output_type": "stream",
     "text": [
      "frame= 6290 fps=111 q=-0.0 size=N/A time=00:04:10.32 bitrate=N/A speed=4.43x    \r"
     ]
    },
    {
     "name": "stdout",
     "output_type": "stream",
     "text": [
      "frame=6290\n",
      "fps=111.30\n",
      "stream_0_0_q=-0.0\n",
      "bitrate=N/A\n",
      "total_size=N/A\n",
      "out_time_us=250320000\n",
      "out_time_ms=250320000\n",
      "out_time=00:04:10.320000\n",
      "dup_frames=0\n",
      "drop_frames=0\n",
      "speed=4.43x\n",
      "progress=continue\n"
     ]
    },
    {
     "name": "stderr",
     "output_type": "stream",
     "text": [
      "frame= 6344 fps=111 q=-0.0 size=N/A time=00:04:12.48 bitrate=N/A speed=4.43x    \r"
     ]
    },
    {
     "name": "stdout",
     "output_type": "stream",
     "text": [
      "frame=6344\n",
      "fps=111.26\n",
      "stream_0_0_q=-0.0\n",
      "bitrate=N/A\n",
      "total_size=N/A\n",
      "out_time_us=252480000\n",
      "out_time_ms=252480000\n",
      "out_time=00:04:12.480000\n",
      "dup_frames=0\n",
      "drop_frames=0\n",
      "speed=4.43x\n",
      "progress=continue\n"
     ]
    },
    {
     "name": "stderr",
     "output_type": "stream",
     "text": [
      "frame= 6391 fps=111 q=-0.0 size=N/A time=00:04:14.36 bitrate=N/A speed=4.42x    \r"
     ]
    },
    {
     "name": "stdout",
     "output_type": "stream",
     "text": [
      "frame=6391\n",
      "fps=111.11\n",
      "stream_0_0_q=-0.0\n",
      "bitrate=N/A\n",
      "total_size=N/A\n",
      "out_time_us=254360000\n",
      "out_time_ms=254360000\n",
      "out_time=00:04:14.360000\n",
      "dup_frames=0\n",
      "drop_frames=0\n",
      "speed=4.42x\n",
      "progress=continue\n",
      "frame=6442\n",
      "fps=110.98\n",
      "stream_0_0_q=-0.0\n",
      "bitrate=N/A\n",
      "total_size=N/A\n",
      "out_time_us=256400000\n",
      "out_time_ms=256400000\n",
      "out_time=00:04:16.400000\n",
      "dup_frames=0\n",
      "drop_frames=0\n",
      "speed=4.42x\n",
      "progress=continue\n"
     ]
    },
    {
     "name": "stderr",
     "output_type": "stream",
     "text": [
      "frame= 6491 fps=111 q=-0.0 size=N/A time=00:04:18.36 bitrate=N/A speed=4.41x    \r"
     ]
    },
    {
     "name": "stdout",
     "output_type": "stream",
     "text": [
      "frame=6491\n",
      "fps=110.85\n",
      "stream_0_0_q=-0.0\n",
      "bitrate=N/A\n",
      "total_size=N/A\n",
      "out_time_us=258360000\n",
      "out_time_ms=258360000\n",
      "out_time=00:04:18.360000\n",
      "dup_frames=0\n",
      "drop_frames=0\n",
      "speed=4.41x\n",
      "progress=continue\n"
     ]
    },
    {
     "name": "stderr",
     "output_type": "stream",
     "text": [
      "frame= 6542 fps=111 q=-0.0 size=N/A time=00:04:20.40 bitrate=N/A speed=4.41x    \r"
     ]
    },
    {
     "name": "stdout",
     "output_type": "stream",
     "text": [
      "frame=6542\n",
      "fps=110.77\n",
      "stream_0_0_q=-0.0\n",
      "bitrate=N/A\n",
      "total_size=N/A\n",
      "out_time_us=260400000\n",
      "out_time_ms=260400000\n",
      "out_time=00:04:20.400000\n",
      "dup_frames=0\n",
      "drop_frames=0\n",
      "speed=4.41x\n",
      "progress=continue\n"
     ]
    },
    {
     "name": "stderr",
     "output_type": "stream",
     "text": [
      "frame= 6586 fps=110 q=-0.0 size=N/A time=00:04:22.16 bitrate=N/A speed= 4.4x    \r"
     ]
    },
    {
     "name": "stdout",
     "output_type": "stream",
     "text": [
      "frame=6586\n",
      "fps=110.46\n",
      "stream_0_0_q=-0.0\n",
      "bitrate=N/A\n",
      "total_size=N/A\n",
      "out_time_us=262160000\n",
      "out_time_ms=262160000\n",
      "out_time=00:04:22.160000\n",
      "dup_frames=0\n",
      "drop_frames=0\n",
      "speed= 4.4x\n",
      "progress=continue\n"
     ]
    },
    {
     "name": "stderr",
     "output_type": "stream",
     "text": [
      "frame= 6623 fps=110 q=-0.0 size=N/A time=00:04:23.64 bitrate=N/A speed=4.37x    \r"
     ]
    },
    {
     "name": "stdout",
     "output_type": "stream",
     "text": [
      "frame=6623\n",
      "fps=109.88\n",
      "stream_0_0_q=-0.0\n",
      "bitrate=N/A\n",
      "total_size=N/A\n",
      "out_time_us=263640000\n",
      "out_time_ms=263640000\n",
      "out_time=00:04:23.640000\n",
      "dup_frames=0\n",
      "drop_frames=0\n",
      "speed=4.37x\n",
      "progress=continue\n"
     ]
    },
    {
     "name": "stderr",
     "output_type": "stream",
     "text": [
      "frame= 6663 fps=110 q=-0.0 size=N/A time=00:04:25.24 bitrate=N/A speed=4.36x    \r"
     ]
    },
    {
     "name": "stdout",
     "output_type": "stream",
     "text": [
      "frame=6663\n",
      "fps=109.62\n",
      "stream_0_0_q=-0.0\n",
      "bitrate=N/A\n",
      "total_size=N/A\n",
      "out_time_us=265240000\n",
      "out_time_ms=265240000\n",
      "out_time=00:04:25.240000\n",
      "dup_frames=0\n",
      "drop_frames=0\n",
      "speed=4.36x\n",
      "progress=continue\n",
      "frame=6719\n",
      "fps=109.61\n",
      "stream_0_0_q=-0.0\n",
      "bitrate=N/A\n",
      "total_size=N/A\n",
      "out_time_us=267480000\n",
      "out_time_ms=267480000\n",
      "out_time=00:04:27.480000\n",
      "dup_frames=0\n",
      "drop_frames=0\n",
      "speed=4.36x\n",
      "progress=continue\n"
     ]
    },
    {
     "name": "stderr",
     "output_type": "stream",
     "text": [
      "frame= 6719 fps=110 q=-0.0 size=N/A time=00:04:27.48 bitrate=N/A speed=4.36x    \r"
     ]
    },
    {
     "name": "stdout",
     "output_type": "stream",
     "text": [
      "frame=6755\n",
      "fps=109.29\n",
      "stream_0_0_q=-0.0\n",
      "bitrate=N/A\n",
      "total_size=N/A\n",
      "out_time_us=268920000\n",
      "out_time_ms=268920000\n",
      "out_time=00:04:28.920000\n",
      "dup_frames=0\n",
      "drop_frames=0\n",
      "speed=4.35x\n",
      "progress=continue\n"
     ]
    },
    {
     "name": "stderr",
     "output_type": "stream",
     "text": [
      "frame= 6755 fps=109 q=-0.0 size=N/A time=00:04:28.92 bitrate=N/A speed=4.35x    \r"
     ]
    },
    {
     "name": "stdout",
     "output_type": "stream",
     "text": [
      "frame=6800\n",
      "fps=109.13\n",
      "stream_0_0_q=-0.0\n",
      "bitrate=N/A\n",
      "total_size=N/A\n",
      "out_time_us=270720000\n",
      "out_time_ms=270720000\n",
      "out_time=00:04:30.720000\n",
      "dup_frames=0\n",
      "drop_frames=0\n",
      "speed=4.34x\n",
      "progress=continue\n"
     ]
    },
    {
     "name": "stderr",
     "output_type": "stream",
     "text": [
      "frame= 6800 fps=109 q=-0.0 size=N/A time=00:04:30.72 bitrate=N/A speed=4.34x    \r"
     ]
    },
    {
     "name": "stdout",
     "output_type": "stream",
     "text": [
      "frame=6849\n",
      "fps=109.04\n",
      "stream_0_0_q=-0.0\n",
      "bitrate=N/A\n",
      "total_size=N/A\n",
      "out_time_us=272680000\n",
      "out_time_ms=272680000\n",
      "out_time=00:04:32.680000\n",
      "dup_frames=0\n",
      "drop_frames=0\n",
      "speed=4.34x\n",
      "progress=continue\n"
     ]
    },
    {
     "name": "stderr",
     "output_type": "stream",
     "text": [
      "frame= 6903 fps=109 q=-0.0 size=N/A time=00:04:34.84 bitrate=N/A speed=4.34x    \r"
     ]
    },
    {
     "name": "stdout",
     "output_type": "stream",
     "text": [
      "frame=6903\n",
      "fps=109.04\n",
      "stream_0_0_q=-0.0\n",
      "bitrate=N/A\n",
      "total_size=N/A\n",
      "out_time_us=274840000\n",
      "out_time_ms=274840000\n",
      "out_time=00:04:34.840000\n",
      "dup_frames=0\n",
      "drop_frames=0\n",
      "speed=4.34x\n",
      "progress=continue\n"
     ]
    },
    {
     "name": "stderr",
     "output_type": "stream",
     "text": [
      "frame= 6963 fps=109 q=-0.0 size=N/A time=00:04:37.24 bitrate=N/A speed=4.34x    \r"
     ]
    },
    {
     "name": "stdout",
     "output_type": "stream",
     "text": [
      "frame=6963\n",
      "fps=109.10\n",
      "stream_0_0_q=-0.0\n",
      "bitrate=N/A\n",
      "total_size=N/A\n",
      "out_time_us=277240000\n",
      "out_time_ms=277240000\n",
      "out_time=00:04:37.240000\n",
      "dup_frames=0\n",
      "drop_frames=0\n",
      "speed=4.34x\n",
      "progress=continue\n"
     ]
    },
    {
     "name": "stderr",
     "output_type": "stream",
     "text": [
      "frame= 7024 fps=109 q=-0.0 size=N/A time=00:04:39.68 bitrate=N/A speed=4.35x    \r"
     ]
    },
    {
     "name": "stdout",
     "output_type": "stream",
     "text": [
      "frame=7024\n",
      "fps=109.20\n",
      "stream_0_0_q=-0.0\n",
      "bitrate=N/A\n",
      "total_size=N/A\n",
      "out_time_us=279680000\n",
      "out_time_ms=279680000\n",
      "out_time=00:04:39.680000\n",
      "dup_frames=0\n",
      "drop_frames=0\n",
      "speed=4.35x\n",
      "progress=continue\n",
      "frame=7086\n",
      "fps=109.31\n",
      "stream_0_0_q=-0.0\n",
      "bitrate=N/A\n",
      "total_size=N/A\n",
      "out_time_us=282160000\n",
      "out_time_ms=282160000\n",
      "out_time=00:04:42.160000\n",
      "dup_frames=0\n",
      "drop_frames=0\n",
      "speed=4.35x\n",
      "progress=continue\n"
     ]
    },
    {
     "name": "stderr",
     "output_type": "stream",
     "text": [
      "frame= 7086 fps=109 q=-0.0 size=N/A time=00:04:42.16 bitrate=N/A speed=4.35x    \r"
     ]
    },
    {
     "name": "stdout",
     "output_type": "stream",
     "text": [
      "frame=7123\n",
      "fps=109.02\n",
      "stream_0_0_q=-0.0\n",
      "bitrate=N/A\n",
      "total_size=N/A\n",
      "out_time_us=283640000\n",
      "out_time_ms=283640000\n",
      "out_time=00:04:43.640000\n",
      "dup_frames=0\n",
      "drop_frames=0\n",
      "speed=4.34x\n",
      "progress=continue\n"
     ]
    },
    {
     "name": "stderr",
     "output_type": "stream",
     "text": [
      "frame= 7169 fps=109 q=-0.0 size=N/A time=00:04:45.48 bitrate=N/A speed=4.34x    \r"
     ]
    },
    {
     "name": "stdout",
     "output_type": "stream",
     "text": [
      "frame=7169\n",
      "fps=108.89\n",
      "stream_0_0_q=-0.0\n",
      "bitrate=N/A\n",
      "total_size=N/A\n",
      "out_time_us=285480000\n",
      "out_time_ms=285480000\n",
      "out_time=00:04:45.480000\n",
      "dup_frames=0\n",
      "drop_frames=0\n",
      "speed=4.34x\n",
      "progress=continue\n"
     ]
    },
    {
     "name": "stderr",
     "output_type": "stream",
     "text": [
      "frame= 7232 fps=109 q=-0.0 size=N/A time=00:04:48.00 bitrate=N/A speed=4.34x    \r"
     ]
    },
    {
     "name": "stdout",
     "output_type": "stream",
     "text": [
      "frame=7232\n",
      "fps=109.01\n",
      "stream_0_0_q=-0.0\n",
      "bitrate=N/A\n",
      "total_size=N/A\n",
      "out_time_us=288000000\n",
      "out_time_ms=288000000\n",
      "out_time=00:04:48.000000\n",
      "dup_frames=0\n",
      "drop_frames=0\n",
      "speed=4.34x\n",
      "progress=continue\n"
     ]
    },
    {
     "name": "stderr",
     "output_type": "stream",
     "text": [
      "frame= 7287 fps=109 q=-0.0 size=N/A time=00:04:50.20 bitrate=N/A speed=4.34x    \r"
     ]
    },
    {
     "name": "stdout",
     "output_type": "stream",
     "text": [
      "frame=7287\n",
      "fps=108.98\n",
      "stream_0_0_q=-0.0\n",
      "bitrate=N/A\n",
      "total_size=N/A\n",
      "out_time_us=290200000\n",
      "out_time_ms=290200000\n",
      "out_time=00:04:50.200000\n",
      "dup_frames=0\n",
      "drop_frames=0\n",
      "speed=4.34x\n",
      "progress=continue\n"
     ]
    },
    {
     "name": "stderr",
     "output_type": "stream",
     "text": [
      "frame= 7344 fps=109 q=-0.0 size=N/A time=00:04:52.48 bitrate=N/A speed=4.34x    \r"
     ]
    },
    {
     "name": "stdout",
     "output_type": "stream",
     "text": [
      "frame=7344\n",
      "fps=109.02\n",
      "stream_0_0_q=-0.0\n",
      "bitrate=N/A\n",
      "total_size=N/A\n",
      "out_time_us=292480000\n",
      "out_time_ms=292480000\n",
      "out_time=00:04:52.480000\n",
      "dup_frames=0\n",
      "drop_frames=0\n",
      "speed=4.34x\n",
      "progress=continue\n"
     ]
    },
    {
     "name": "stderr",
     "output_type": "stream",
     "text": [
      "frame= 7402 fps=109 q=-0.0 size=N/A time=00:04:54.80 bitrate=N/A speed=4.34x    \r"
     ]
    },
    {
     "name": "stdout",
     "output_type": "stream",
     "text": [
      "frame=7402\n",
      "fps=109.03\n",
      "stream_0_0_q=-0.0\n",
      "bitrate=N/A\n",
      "total_size=N/A\n",
      "out_time_us=294800000\n",
      "out_time_ms=294800000\n",
      "out_time=00:04:54.800000\n",
      "dup_frames=0\n",
      "drop_frames=0\n",
      "speed=4.34x\n",
      "progress=continue\n"
     ]
    },
    {
     "name": "stderr",
     "output_type": "stream",
     "text": [
      "frame= 7449 fps=109 q=-0.0 size=N/A time=00:04:56.68 bitrate=N/A speed=4.34x    \r"
     ]
    },
    {
     "name": "stdout",
     "output_type": "stream",
     "text": [
      "frame=7449\n",
      "fps=108.90\n",
      "stream_0_0_q=-0.0\n",
      "bitrate=N/A\n",
      "total_size=N/A\n",
      "out_time_us=296680000\n",
      "out_time_ms=296680000\n",
      "out_time=00:04:56.680000\n",
      "dup_frames=0\n",
      "drop_frames=0\n",
      "speed=4.34x\n",
      "progress=continue\n"
     ]
    },
    {
     "name": "stderr",
     "output_type": "stream",
     "text": [
      "frame= 7501 fps=109 q=-0.0 size=N/A time=00:04:58.76 bitrate=N/A speed=4.34x    \r"
     ]
    },
    {
     "name": "stdout",
     "output_type": "stream",
     "text": [
      "frame=7501\n",
      "fps=108.86\n",
      "stream_0_0_q=-0.0\n",
      "bitrate=N/A\n",
      "total_size=N/A\n",
      "out_time_us=298760000\n",
      "out_time_ms=298760000\n",
      "out_time=00:04:58.760000\n",
      "dup_frames=0\n",
      "drop_frames=0\n",
      "speed=4.34x\n",
      "progress=continue\n"
     ]
    },
    {
     "name": "stderr",
     "output_type": "stream",
     "text": [
      "frame= 7532 fps=109 q=-0.0 size=N/A time=00:05:00.00 bitrate=N/A speed=4.32x    \r"
     ]
    },
    {
     "name": "stdout",
     "output_type": "stream",
     "text": [
      "frame=7532\n",
      "fps=108.52\n",
      "stream_0_0_q=-0.0\n",
      "bitrate=N/A\n",
      "total_size=N/A\n",
      "out_time_us=300000000\n",
      "out_time_ms=300000000\n",
      "out_time=00:05:00.000000\n",
      "dup_frames=0\n",
      "drop_frames=0\n",
      "speed=4.32x\n",
      "progress=continue\n",
      "frame=7552\n",
      "fps=107.99\n",
      "stream_0_0_q=-0.0\n",
      "bitrate=N/A\n",
      "total_size=N/A\n",
      "out_time_us=300800000\n",
      "out_time_ms=300800000\n",
      "out_time=00:05:00.800000\n",
      "dup_frames=0\n",
      "drop_frames=0\n",
      "speed= 4.3x\n",
      "progress=continue\n"
     ]
    },
    {
     "name": "stderr",
     "output_type": "stream",
     "text": [
      "frame= 7552 fps=108 q=-0.0 size=N/A time=00:05:00.80 bitrate=N/A speed= 4.3x    \r"
     ]
    },
    {
     "name": "stdout",
     "output_type": "stream",
     "text": [
      "frame=7572\n",
      "fps=107.48\n",
      "stream_0_0_q=-0.0\n",
      "bitrate=N/A\n",
      "total_size=N/A\n",
      "out_time_us=301600000\n",
      "out_time_ms=301600000\n",
      "out_time=00:05:01.600000\n",
      "dup_frames=0\n",
      "drop_frames=0\n",
      "speed=4.28x\n",
      "progress=continue\n"
     ]
    },
    {
     "name": "stderr",
     "output_type": "stream",
     "text": [
      "frame= 7572 fps=107 q=-0.0 size=N/A time=00:05:01.60 bitrate=N/A speed=4.28x    \r"
     ]
    },
    {
     "name": "stdout",
     "output_type": "stream",
     "text": [
      "frame=7581\n",
      "fps=106.83\n",
      "stream_0_0_q=-0.0\n",
      "bitrate=N/A\n",
      "total_size=N/A\n",
      "out_time_us=301960000\n",
      "out_time_ms=301960000\n",
      "out_time=00:05:01.960000\n",
      "dup_frames=0\n",
      "drop_frames=0\n",
      "speed=4.26x\n",
      "progress=continue\n"
     ]
    },
    {
     "name": "stderr",
     "output_type": "stream",
     "text": [
      "frame= 7633 fps=107 q=-0.0 size=N/A time=00:05:04.04 bitrate=N/A speed=4.25x    \r"
     ]
    },
    {
     "name": "stdout",
     "output_type": "stream",
     "text": [
      "frame=7633\n",
      "fps=106.81\n",
      "stream_0_0_q=-0.0\n",
      "bitrate=N/A\n",
      "total_size=N/A\n",
      "out_time_us=304040000\n",
      "out_time_ms=304040000\n",
      "out_time=00:05:04.040000\n",
      "dup_frames=0\n",
      "drop_frames=0\n",
      "speed=4.25x\n",
      "progress=continue\n",
      "frame=7668\n",
      "fps=106.55\n",
      "stream_0_0_q=-0.0\n",
      "bitrate=N/A\n",
      "total_size=N/A\n",
      "out_time_us=305440000\n",
      "out_time_ms=305440000\n",
      "out_time=00:05:05.440000\n",
      "dup_frames=0\n",
      "drop_frames=0\n",
      "speed=4.24x\n",
      "progress=continue\n"
     ]
    },
    {
     "name": "stderr",
     "output_type": "stream",
     "text": [
      "frame= 7668 fps=107 q=-0.0 size=N/A time=00:05:05.44 bitrate=N/A speed=4.24x    \r"
     ]
    },
    {
     "name": "stdout",
     "output_type": "stream",
     "text": [
      "frame=7694\n",
      "fps=106.16\n",
      "stream_0_0_q=-0.0\n",
      "bitrate=N/A\n",
      "total_size=N/A\n",
      "out_time_us=306480000\n",
      "out_time_ms=306480000\n",
      "out_time=00:05:06.480000\n",
      "dup_frames=0\n",
      "drop_frames=0\n",
      "speed=4.23x\n",
      "progress=continue\n"
     ]
    },
    {
     "name": "stderr",
     "output_type": "stream",
     "text": [
      "frame= 7718 fps=106 q=-0.0 size=N/A time=00:05:07.44 bitrate=N/A speed=4.21x    \r"
     ]
    },
    {
     "name": "stdout",
     "output_type": "stream",
     "text": [
      "frame=7718\n",
      "fps=105.73\n",
      "stream_0_0_q=-0.0\n",
      "bitrate=N/A\n",
      "total_size=N/A\n",
      "out_time_us=307440000\n",
      "out_time_ms=307440000\n",
      "out_time=00:05:07.440000\n",
      "dup_frames=0\n",
      "drop_frames=0\n",
      "speed=4.21x\n",
      "progress=continue\n"
     ]
    },
    {
     "name": "stderr",
     "output_type": "stream",
     "text": [
      "frame= 7736 fps=105 q=-0.0 size=N/A time=00:05:08.16 bitrate=N/A speed=4.19x    \r"
     ]
    },
    {
     "name": "stdout",
     "output_type": "stream",
     "text": [
      "frame=7736\n",
      "fps=105.25\n",
      "stream_0_0_q=-0.0\n",
      "bitrate=N/A\n",
      "total_size=N/A\n",
      "out_time_us=308160000\n",
      "out_time_ms=308160000\n",
      "out_time=00:05:08.160000\n",
      "dup_frames=0\n",
      "drop_frames=0\n",
      "speed=4.19x\n",
      "progress=continue\n",
      "frame=7753\n",
      "fps=104.76\n",
      "stream_0_0_q=-0.0\n",
      "bitrate=N/A\n",
      "total_size=N/A\n",
      "out_time_us=308840000\n",
      "out_time_ms=308840000\n",
      "out_time=00:05:08.840000\n",
      "dup_frames=0\n",
      "drop_frames=0\n",
      "speed=4.17x\n",
      "progress=continue\n"
     ]
    },
    {
     "name": "stderr",
     "output_type": "stream",
     "text": [
      "frame= 7753 fps=105 q=-0.0 size=N/A time=00:05:08.84 bitrate=N/A speed=4.17x    \r"
     ]
    },
    {
     "name": "stdout",
     "output_type": "stream",
     "text": [
      "frame=7770\n",
      "fps=104.28\n",
      "stream_0_0_q=-0.0\n",
      "bitrate=N/A\n",
      "total_size=N/A\n",
      "out_time_us=309520000\n",
      "out_time_ms=309520000\n",
      "out_time=00:05:09.520000\n",
      "dup_frames=0\n",
      "drop_frames=0\n",
      "speed=4.15x\n",
      "progress=continue\n"
     ]
    },
    {
     "name": "stderr",
     "output_type": "stream",
     "text": [
      "frame= 7770 fps=104 q=-0.0 size=N/A time=00:05:09.52 bitrate=N/A speed=4.15x    \r"
     ]
    },
    {
     "name": "stdout",
     "output_type": "stream",
     "text": [
      "frame=7783\n",
      "fps=103.54\n",
      "stream_0_0_q=-0.0\n",
      "bitrate=N/A\n",
      "total_size=N/A\n",
      "out_time_us=310040000\n",
      "out_time_ms=310040000\n",
      "out_time=00:05:10.040000\n",
      "dup_frames=0\n",
      "drop_frames=0\n",
      "speed=4.12x\n",
      "progress=continue\n"
     ]
    },
    {
     "name": "stderr",
     "output_type": "stream",
     "text": [
      "frame= 7788 fps=103 q=-0.0 size=N/A time=00:05:10.24 bitrate=N/A speed= 4.1x    \r"
     ]
    },
    {
     "name": "stdout",
     "output_type": "stream",
     "text": [
      "frame=7788\n",
      "fps=102.88\n",
      "stream_0_0_q=-0.0\n",
      "bitrate=N/A\n",
      "total_size=N/A\n",
      "out_time_us=310240000\n",
      "out_time_ms=310240000\n",
      "out_time=00:05:10.240000\n",
      "dup_frames=0\n",
      "drop_frames=0\n",
      "speed= 4.1x\n",
      "progress=continue\n"
     ]
    },
    {
     "name": "stderr",
     "output_type": "stream",
     "text": [
      "frame= 7823 fps=103 q=-0.0 size=N/A time=00:05:11.64 bitrate=N/A speed=4.09x    \r"
     ]
    },
    {
     "name": "stdout",
     "output_type": "stream",
     "text": [
      "frame=7823\n",
      "fps=102.62\n",
      "stream_0_0_q=-0.0\n",
      "bitrate=N/A\n",
      "total_size=N/A\n",
      "out_time_us=311640000\n",
      "out_time_ms=311640000\n",
      "out_time=00:05:11.640000\n",
      "dup_frames=0\n",
      "drop_frames=0\n",
      "speed=4.09x\n",
      "progress=continue\n"
     ]
    },
    {
     "name": "stderr",
     "output_type": "stream",
     "text": [
      "frame= 7848 fps=102 q=-0.0 size=N/A time=00:05:12.64 bitrate=N/A speed=4.07x    \r"
     ]
    },
    {
     "name": "stdout",
     "output_type": "stream",
     "text": [
      "frame=7848\n",
      "fps=102.26\n",
      "stream_0_0_q=-0.0\n",
      "bitrate=N/A\n",
      "total_size=N/A\n",
      "out_time_us=312640000\n",
      "out_time_ms=312640000\n",
      "out_time=00:05:12.640000\n",
      "dup_frames=0\n",
      "drop_frames=0\n",
      "speed=4.07x\n",
      "progress=continue\n"
     ]
    },
    {
     "name": "stderr",
     "output_type": "stream",
     "text": [
      "frame= 7865 fps=102 q=-0.0 size=N/A time=00:05:13.32 bitrate=N/A speed=4.05x    \r"
     ]
    },
    {
     "name": "stdout",
     "output_type": "stream",
     "text": [
      "frame=7865\n",
      "fps=101.78\n",
      "stream_0_0_q=-0.0\n",
      "bitrate=N/A\n",
      "total_size=N/A\n",
      "out_time_us=313320000\n",
      "out_time_ms=313320000\n",
      "out_time=00:05:13.320000\n",
      "dup_frames=0\n",
      "drop_frames=0\n",
      "speed=4.05x\n",
      "progress=continue\n"
     ]
    },
    {
     "name": "stderr",
     "output_type": "stream",
     "text": [
      "frame= 7882 fps=101 q=-0.0 size=N/A time=00:05:14.00 bitrate=N/A speed=4.04x    \r"
     ]
    },
    {
     "name": "stdout",
     "output_type": "stream",
     "text": [
      "frame=7882\n",
      "fps=101.30\n",
      "stream_0_0_q=-0.0\n",
      "bitrate=N/A\n",
      "total_size=N/A\n",
      "out_time_us=314000000\n",
      "out_time_ms=314000000\n",
      "out_time=00:05:14.000000\n",
      "dup_frames=0\n",
      "drop_frames=0\n",
      "speed=4.04x\n",
      "progress=continue\n"
     ]
    },
    {
     "name": "stderr",
     "output_type": "stream",
     "text": [
      "frame= 7899 fps=101 q=-0.0 size=N/A time=00:05:14.68 bitrate=N/A speed=4.02x    \r"
     ]
    },
    {
     "name": "stdout",
     "output_type": "stream",
     "text": [
      "frame=7899\n",
      "fps=100.86\n",
      "stream_0_0_q=-0.0\n",
      "bitrate=N/A\n",
      "total_size=N/A\n",
      "out_time_us=314680000\n",
      "out_time_ms=314680000\n",
      "out_time=00:05:14.680000\n",
      "dup_frames=0\n",
      "drop_frames=0\n",
      "speed=4.02x\n",
      "progress=continue\n"
     ]
    },
    {
     "name": "stderr",
     "output_type": "stream",
     "text": [
      "frame= 7915 fps=100 q=-0.0 size=N/A time=00:05:15.32 bitrate=N/A speed=   4x    \r"
     ]
    },
    {
     "name": "stdout",
     "output_type": "stream",
     "text": [
      "frame=7915\n",
      "fps=100.41\n",
      "stream_0_0_q=-0.0\n",
      "bitrate=N/A\n",
      "total_size=N/A\n",
      "out_time_us=315320000\n",
      "out_time_ms=315320000\n",
      "out_time=00:05:15.320000\n",
      "dup_frames=0\n",
      "drop_frames=0\n",
      "speed=   4x\n",
      "progress=continue\n"
     ]
    },
    {
     "name": "stderr",
     "output_type": "stream",
     "text": [
      "frame= 7931 fps=100 q=-0.0 size=N/A time=00:05:15.96 bitrate=N/A speed=3.98x    \r"
     ]
    },
    {
     "name": "stdout",
     "output_type": "stream",
     "text": [
      "frame=7931\n",
      "fps=99.96\n",
      "stream_0_0_q=-0.0\n",
      "bitrate=N/A\n",
      "total_size=N/A\n",
      "out_time_us=315960000\n",
      "out_time_ms=315960000\n",
      "out_time=00:05:15.960000\n",
      "dup_frames=0\n",
      "drop_frames=0\n",
      "speed=3.98x\n",
      "progress=continue\n",
      "frame=7945\n",
      "fps=99.39\n",
      "stream_0_0_q=-0.0\n",
      "bitrate=N/A\n",
      "total_size=N/A\n",
      "out_time_us=316520000\n",
      "out_time_ms=316520000\n",
      "out_time=00:05:16.520000\n",
      "dup_frames=0\n",
      "drop_frames=0\n",
      "speed=3.96x\n",
      "progress=continue\n"
     ]
    },
    {
     "name": "stderr",
     "output_type": "stream",
     "text": [
      "frame= 7965 fps= 99 q=-0.0 size=N/A time=00:05:17.32 bitrate=N/A speed=3.94x    \r"
     ]
    },
    {
     "name": "stdout",
     "output_type": "stream",
     "text": [
      "frame=7965\n",
      "fps=98.98\n",
      "stream_0_0_q=-0.0\n",
      "bitrate=N/A\n",
      "total_size=N/A\n",
      "out_time_us=317320000\n",
      "out_time_ms=317320000\n",
      "out_time=00:05:17.320000\n",
      "dup_frames=0\n",
      "drop_frames=0\n",
      "speed=3.94x\n",
      "progress=continue\n"
     ]
    },
    {
     "name": "stderr",
     "output_type": "stream",
     "text": [
      "frame= 7982 fps= 99 q=-0.0 size=N/A time=00:05:18.00 bitrate=N/A speed=3.93x    \r"
     ]
    },
    {
     "name": "stdout",
     "output_type": "stream",
     "text": [
      "frame=7982\n",
      "fps=98.53\n",
      "stream_0_0_q=-0.0\n",
      "bitrate=N/A\n",
      "total_size=N/A\n",
      "out_time_us=318000000\n",
      "out_time_ms=318000000\n",
      "out_time=00:05:18.000000\n",
      "dup_frames=0\n",
      "drop_frames=0\n",
      "speed=3.93x\n",
      "progress=continue\n",
      "frame=7997\n",
      "fps=98.11\n",
      "stream_0_0_q=-0.0\n",
      "bitrate=N/A\n",
      "total_size=N/A\n",
      "out_time_us=318600000\n",
      "out_time_ms=318600000\n",
      "out_time=00:05:18.600000\n",
      "dup_frames=0\n",
      "drop_frames=0\n",
      "speed=3.91x\n",
      "progress=continue\n"
     ]
    },
    {
     "name": "stderr",
     "output_type": "stream",
     "text": [
      "frame= 7997 fps= 98 q=-0.0 size=N/A time=00:05:18.60 bitrate=N/A speed=3.91x    \r"
     ]
    },
    {
     "name": "stdout",
     "output_type": "stream",
     "text": [
      "frame=8012\n",
      "fps=97.69\n",
      "stream_0_0_q=-0.0\n",
      "bitrate=N/A\n",
      "total_size=N/A\n",
      "out_time_us=319200000\n",
      "out_time_ms=319200000\n",
      "out_time=00:05:19.200000\n",
      "dup_frames=0\n",
      "drop_frames=0\n",
      "speed=3.89x\n",
      "progress=continue\n"
     ]
    },
    {
     "name": "stderr",
     "output_type": "stream",
     "text": [
      "frame= 8012 fps= 98 q=-0.0 size=N/A time=00:05:19.20 bitrate=N/A speed=3.89x    \r"
     ]
    },
    {
     "name": "stdout",
     "output_type": "stream",
     "text": [
      "frame=8027\n",
      "fps=97.23\n",
      "stream_0_0_q=-0.0\n",
      "bitrate=N/A\n",
      "total_size=N/A\n",
      "out_time_us=319800000\n",
      "out_time_ms=319800000\n",
      "out_time=00:05:19.800000\n",
      "dup_frames=0\n",
      "drop_frames=0\n",
      "speed=3.87x\n",
      "progress=continue\n"
     ]
    },
    {
     "name": "stderr",
     "output_type": "stream",
     "text": [
      "frame= 8027 fps= 97 q=-0.0 size=N/A time=00:05:19.80 bitrate=N/A speed=3.87x    \r"
     ]
    },
    {
     "name": "stdout",
     "output_type": "stream",
     "text": [
      "frame=8042\n",
      "fps=96.81\n",
      "stream_0_0_q=-0.0\n",
      "bitrate=N/A\n",
      "total_size=N/A\n",
      "out_time_us=320400000\n",
      "out_time_ms=320400000\n",
      "out_time=00:05:20.400000\n",
      "dup_frames=0\n",
      "drop_frames=0\n",
      "speed=3.86x\n",
      "progress=continue\n"
     ]
    },
    {
     "name": "stderr",
     "output_type": "stream",
     "text": [
      "frame= 8042 fps= 97 q=-0.0 size=N/A time=00:05:20.40 bitrate=N/A speed=3.86x    \r"
     ]
    },
    {
     "name": "stdout",
     "output_type": "stream",
     "text": [
      "frame=8056\n",
      "fps=96.39\n",
      "stream_0_0_q=-0.0\n",
      "bitrate=N/A\n",
      "total_size=N/A\n",
      "out_time_us=320960000\n",
      "out_time_ms=320960000\n",
      "out_time=00:05:20.960000\n",
      "dup_frames=0\n",
      "drop_frames=0\n",
      "speed=3.84x\n",
      "progress=continue\n"
     ]
    },
    {
     "name": "stderr",
     "output_type": "stream",
     "text": [
      "frame= 8056 fps= 96 q=-0.0 size=N/A time=00:05:20.96 bitrate=N/A speed=3.84x    \r"
     ]
    },
    {
     "name": "stdout",
     "output_type": "stream",
     "text": [
      "frame=8071\n",
      "fps=95.99\n",
      "stream_0_0_q=-0.0\n",
      "bitrate=N/A\n",
      "total_size=N/A\n",
      "out_time_us=321560000\n",
      "out_time_ms=321560000\n",
      "out_time=00:05:21.560000\n",
      "dup_frames=0\n",
      "drop_frames=0\n",
      "speed=3.82x\n",
      "progress=continue\n"
     ]
    },
    {
     "name": "stderr",
     "output_type": "stream",
     "text": [
      "frame= 8071 fps= 96 q=-0.0 size=N/A time=00:05:21.56 bitrate=N/A speed=3.82x    \r"
     ]
    },
    {
     "name": "stdout",
     "output_type": "stream",
     "text": [
      "frame=8085\n",
      "fps=95.56\n",
      "stream_0_0_q=-0.0\n",
      "bitrate=N/A\n",
      "total_size=N/A\n",
      "out_time_us=322120000\n",
      "out_time_ms=322120000\n",
      "out_time=00:05:22.120000\n",
      "dup_frames=0\n",
      "drop_frames=0\n",
      "speed=3.81x\n",
      "progress=continue\n"
     ]
    },
    {
     "name": "stderr",
     "output_type": "stream",
     "text": [
      "frame= 8098 fps= 95 q=-0.0 size=N/A time=00:05:22.64 bitrate=N/A speed=3.79x    \r"
     ]
    },
    {
     "name": "stdout",
     "output_type": "stream",
     "text": [
      "frame=8098\n",
      "fps=95.10\n",
      "stream_0_0_q=-0.0\n",
      "bitrate=N/A\n",
      "total_size=N/A\n",
      "out_time_us=322640000\n",
      "out_time_ms=322640000\n",
      "out_time=00:05:22.640000\n",
      "dup_frames=0\n",
      "drop_frames=0\n",
      "speed=3.79x\n",
      "progress=continue\n",
      "frame=8111\n",
      "fps=94.59\n",
      "stream_0_0_q=-0.0\n",
      "bitrate=N/A\n",
      "total_size=N/A\n",
      "out_time_us=323160000\n",
      "out_time_ms=323160000\n",
      "out_time=00:05:23.160000\n",
      "dup_frames=0\n",
      "drop_frames=0\n",
      "speed=3.77x\n",
      "progress=continue\n"
     ]
    },
    {
     "name": "stderr",
     "output_type": "stream",
     "text": [
      "frame= 8124 fps= 94 q=-0.0 size=N/A time=00:05:23.68 bitrate=N/A speed=3.75x    \r"
     ]
    },
    {
     "name": "stdout",
     "output_type": "stream",
     "text": [
      "frame=8124\n",
      "fps=94.16\n",
      "stream_0_0_q=-0.0\n",
      "bitrate=N/A\n",
      "total_size=N/A\n",
      "out_time_us=323680000\n",
      "out_time_ms=323680000\n",
      "out_time=00:05:23.680000\n",
      "dup_frames=0\n",
      "drop_frames=0\n",
      "speed=3.75x\n",
      "progress=continue\n"
     ]
    },
    {
     "name": "stderr",
     "output_type": "stream",
     "text": [
      "frame= 8149 fps= 94 q=-0.0 size=N/A time=00:05:24.68 bitrate=N/A speed=3.74x    \r"
     ]
    },
    {
     "name": "stdout",
     "output_type": "stream",
     "text": [
      "frame=8149\n",
      "fps=93.90\n",
      "stream_0_0_q=-0.0\n",
      "bitrate=N/A\n",
      "total_size=N/A\n",
      "out_time_us=324680000\n",
      "out_time_ms=324680000\n",
      "out_time=00:05:24.680000\n",
      "dup_frames=0\n",
      "drop_frames=0\n",
      "speed=3.74x\n",
      "progress=continue\n"
     ]
    },
    {
     "name": "stderr",
     "output_type": "stream",
     "text": [
      "frame= 8169 fps= 94 q=-0.0 size=N/A time=00:05:25.48 bitrate=N/A speed=3.73x    \r"
     ]
    },
    {
     "name": "stdout",
     "output_type": "stream",
     "text": [
      "frame=8169\n",
      "fps=93.59\n",
      "stream_0_0_q=-0.0\n",
      "bitrate=N/A\n",
      "total_size=N/A\n",
      "out_time_us=325480000\n",
      "out_time_ms=325480000\n",
      "out_time=00:05:25.480000\n",
      "dup_frames=0\n",
      "drop_frames=0\n",
      "speed=3.73x\n",
      "progress=continue\n"
     ]
    },
    {
     "name": "stderr",
     "output_type": "stream",
     "text": [
      "frame= 8185 fps= 93 q=-0.0 size=N/A time=00:05:26.12 bitrate=N/A speed=3.71x    \r"
     ]
    },
    {
     "name": "stdout",
     "output_type": "stream",
     "text": [
      "frame=8185\n",
      "fps=93.21\n",
      "stream_0_0_q=-0.0\n",
      "bitrate=N/A\n",
      "total_size=N/A\n",
      "out_time_us=326120000\n",
      "out_time_ms=326120000\n",
      "out_time=00:05:26.120000\n",
      "dup_frames=0\n",
      "drop_frames=0\n",
      "speed=3.71x\n",
      "progress=continue\n"
     ]
    },
    {
     "name": "stderr",
     "output_type": "stream",
     "text": [
      "frame= 8205 fps= 93 q=-0.0 size=N/A time=00:05:26.92 bitrate=N/A speed= 3.7x    \r"
     ]
    },
    {
     "name": "stdout",
     "output_type": "stream",
     "text": [
      "frame=8205\n",
      "fps=92.88\n",
      "stream_0_0_q=-0.0\n",
      "bitrate=N/A\n",
      "total_size=N/A\n",
      "out_time_us=326920000\n",
      "out_time_ms=326920000\n",
      "out_time=00:05:26.920000\n",
      "dup_frames=0\n",
      "drop_frames=0\n",
      "speed= 3.7x\n",
      "progress=continue\n"
     ]
    },
    {
     "name": "stderr",
     "output_type": "stream",
     "text": [
      "frame= 8226 fps= 93 q=-0.0 size=N/A time=00:05:27.76 bitrate=N/A speed=3.69x    \r"
     ]
    },
    {
     "name": "stdout",
     "output_type": "stream",
     "text": [
      "frame=8226\n",
      "fps=92.58\n",
      "stream_0_0_q=-0.0\n",
      "bitrate=N/A\n",
      "total_size=N/A\n",
      "out_time_us=327760000\n",
      "out_time_ms=327760000\n",
      "out_time=00:05:27.760000\n",
      "dup_frames=0\n",
      "drop_frames=0\n",
      "speed=3.69x\n",
      "progress=continue\n"
     ]
    },
    {
     "name": "stderr",
     "output_type": "stream",
     "text": [
      "frame= 8246 fps= 92 q=-0.0 size=N/A time=00:05:28.56 bitrate=N/A speed=3.68x    \r"
     ]
    },
    {
     "name": "stdout",
     "output_type": "stream",
     "text": [
      "frame=8246\n",
      "fps=92.26\n",
      "stream_0_0_q=-0.0\n",
      "bitrate=N/A\n",
      "total_size=N/A\n",
      "out_time_us=328560000\n",
      "out_time_ms=328560000\n",
      "out_time=00:05:28.560000\n",
      "dup_frames=0\n",
      "drop_frames=0\n",
      "speed=3.68x\n",
      "progress=continue\n"
     ]
    },
    {
     "name": "stderr",
     "output_type": "stream",
     "text": [
      "frame= 8261 fps= 92 q=-0.0 size=N/A time=00:05:29.16 bitrate=N/A speed=3.66x    \r"
     ]
    },
    {
     "name": "stdout",
     "output_type": "stream",
     "text": [
      "frame=8261\n",
      "fps=91.81\n",
      "stream_0_0_q=-0.0\n",
      "bitrate=N/A\n",
      "total_size=N/A\n",
      "out_time_us=329160000\n",
      "out_time_ms=329160000\n",
      "out_time=00:05:29.160000\n",
      "dup_frames=0\n",
      "drop_frames=0\n",
      "speed=3.66x\n",
      "progress=continue\n"
     ]
    },
    {
     "name": "stderr",
     "output_type": "stream",
     "text": [
      "frame= 8279 fps= 91 q=-0.0 size=N/A time=00:05:29.88 bitrate=N/A speed=3.64x    \r"
     ]
    },
    {
     "name": "stdout",
     "output_type": "stream",
     "text": [
      "frame=8279\n",
      "fps=91.47\n",
      "stream_0_0_q=-0.0\n",
      "bitrate=N/A\n",
      "total_size=N/A\n",
      "out_time_us=329880000\n",
      "out_time_ms=329880000\n",
      "out_time=00:05:29.880000\n",
      "dup_frames=0\n",
      "drop_frames=0\n",
      "speed=3.64x\n",
      "progress=continue\n"
     ]
    },
    {
     "name": "stderr",
     "output_type": "stream",
     "text": [
      "frame= 8293 fps= 91 q=-0.0 size=N/A time=00:05:30.44 bitrate=N/A speed=3.63x    \r"
     ]
    },
    {
     "name": "stdout",
     "output_type": "stream",
     "text": [
      "frame=8293\n",
      "fps=91.11\n",
      "stream_0_0_q=-0.0\n",
      "bitrate=N/A\n",
      "total_size=N/A\n",
      "out_time_us=330440000\n",
      "out_time_ms=330440000\n",
      "out_time=00:05:30.440000\n",
      "dup_frames=0\n",
      "drop_frames=0\n",
      "speed=3.63x\n",
      "progress=continue\n"
     ]
    },
    {
     "name": "stderr",
     "output_type": "stream",
     "text": [
      "frame= 8308 fps= 91 q=-0.0 size=N/A time=00:05:31.04 bitrate=N/A speed=3.62x    \r"
     ]
    },
    {
     "name": "stdout",
     "output_type": "stream",
     "text": [
      "frame=8308\n",
      "fps=90.73\n",
      "stream_0_0_q=-0.0\n",
      "bitrate=N/A\n",
      "total_size=N/A\n",
      "out_time_us=331040000\n",
      "out_time_ms=331040000\n",
      "out_time=00:05:31.040000\n",
      "dup_frames=0\n",
      "drop_frames=0\n",
      "speed=3.62x\n",
      "progress=continue\n"
     ]
    },
    {
     "name": "stderr",
     "output_type": "stream",
     "text": [
      "frame= 8324 fps= 90 q=-0.0 size=N/A time=00:05:31.68 bitrate=N/A speed= 3.6x    \r"
     ]
    },
    {
     "name": "stdout",
     "output_type": "stream",
     "text": [
      "frame=8324\n",
      "fps=90.39\n",
      "stream_0_0_q=-0.0\n",
      "bitrate=N/A\n",
      "total_size=N/A\n",
      "out_time_us=331680000\n",
      "out_time_ms=331680000\n",
      "out_time=00:05:31.680000\n",
      "dup_frames=0\n",
      "drop_frames=0\n",
      "speed= 3.6x\n",
      "progress=continue\n",
      "frame=8334\n",
      "fps=89.97\n",
      "stream_0_0_q=-0.0\n",
      "bitrate=N/A\n",
      "total_size=N/A\n",
      "out_time_us=332080000\n",
      "out_time_ms=332080000\n",
      "out_time=00:05:32.080000\n",
      "dup_frames=0\n",
      "drop_frames=0\n",
      "speed=3.59x\n",
      "progress=continue\n"
     ]
    },
    {
     "name": "stderr",
     "output_type": "stream",
     "text": [
      "frame= 8373 fps= 90 q=-0.0 size=N/A time=00:05:33.64 bitrate=N/A speed=3.58x    \r"
     ]
    },
    {
     "name": "stdout",
     "output_type": "stream",
     "text": [
      "frame=8373\n",
      "fps=89.90\n",
      "stream_0_0_q=-0.0\n",
      "bitrate=N/A\n",
      "total_size=N/A\n",
      "out_time_us=333640000\n",
      "out_time_ms=333640000\n",
      "out_time=00:05:33.640000\n",
      "dup_frames=0\n",
      "drop_frames=0\n",
      "speed=3.58x\n",
      "progress=continue\n",
      "frame=8390\n",
      "fps=89.60\n",
      "stream_0_0_q=-0.0\n",
      "bitrate=N/A\n",
      "total_size=N/A\n",
      "out_time_us=334320000\n",
      "out_time_ms=334320000\n",
      "out_time=00:05:34.320000\n",
      "dup_frames=0\n",
      "drop_frames=0\n",
      "speed=3.57x\n",
      "progress=continue\n"
     ]
    },
    {
     "name": "stderr",
     "output_type": "stream",
     "text": [
      "frame= 8390 fps= 90 q=-0.0 size=N/A time=00:05:34.32 bitrate=N/A speed=3.57x    \r"
     ]
    },
    {
     "name": "stdout",
     "output_type": "stream",
     "text": [
      "frame=8411\n",
      "fps=89.35\n",
      "stream_0_0_q=-0.0\n",
      "bitrate=N/A\n",
      "total_size=N/A\n",
      "out_time_us=335160000\n",
      "out_time_ms=335160000\n",
      "out_time=00:05:35.160000\n",
      "dup_frames=0\n",
      "drop_frames=0\n",
      "speed=3.56x\n",
      "progress=continue\n"
     ]
    },
    {
     "name": "stderr",
     "output_type": "stream",
     "text": [
      "frame= 8411 fps= 89 q=-0.0 size=N/A time=00:05:35.16 bitrate=N/A speed=3.56x    \r"
     ]
    },
    {
     "name": "stdout",
     "output_type": "stream",
     "text": [
      "frame=8430\n",
      "fps=89.06\n",
      "stream_0_0_q=-0.0\n",
      "bitrate=N/A\n",
      "total_size=N/A\n",
      "out_time_us=335920000\n",
      "out_time_ms=335920000\n",
      "out_time=00:05:35.920000\n",
      "dup_frames=0\n",
      "drop_frames=0\n",
      "speed=3.55x\n",
      "progress=continue\n"
     ]
    },
    {
     "name": "stderr",
     "output_type": "stream",
     "text": [
      "frame= 8430 fps= 89 q=-0.0 size=N/A time=00:05:35.92 bitrate=N/A speed=3.55x    \r"
     ]
    },
    {
     "name": "stdout",
     "output_type": "stream",
     "text": [
      "frame=8448\n",
      "fps=88.76\n",
      "stream_0_0_q=-0.0\n",
      "bitrate=N/A\n",
      "total_size=N/A\n",
      "out_time_us=336640000\n",
      "out_time_ms=336640000\n",
      "out_time=00:05:36.640000\n",
      "dup_frames=0\n",
      "drop_frames=0\n",
      "speed=3.54x\n",
      "progress=continue\n"
     ]
    },
    {
     "name": "stderr",
     "output_type": "stream",
     "text": [
      "frame= 8448 fps= 89 q=-0.0 size=N/A time=00:05:36.64 bitrate=N/A speed=3.54x    \r"
     ]
    },
    {
     "name": "stdout",
     "output_type": "stream",
     "text": [
      "frame=8464\n",
      "fps=88.46\n",
      "stream_0_0_q=-0.0\n",
      "bitrate=N/A\n",
      "total_size=N/A\n",
      "out_time_us=337280000\n",
      "out_time_ms=337280000\n",
      "out_time=00:05:37.280000\n",
      "dup_frames=0\n",
      "drop_frames=0\n",
      "speed=3.53x\n",
      "progress=continue\n"
     ]
    },
    {
     "name": "stderr",
     "output_type": "stream",
     "text": [
      "frame= 8464 fps= 88 q=-0.0 size=N/A time=00:05:37.28 bitrate=N/A speed=3.53x    \r"
     ]
    },
    {
     "name": "stdout",
     "output_type": "stream",
     "text": [
      "frame=8483\n",
      "fps=88.20\n",
      "stream_0_0_q=-0.0\n",
      "bitrate=N/A\n",
      "total_size=N/A\n",
      "out_time_us=338040000\n",
      "out_time_ms=338040000\n",
      "out_time=00:05:38.040000\n",
      "dup_frames=0\n",
      "drop_frames=0\n",
      "speed=3.51x\n",
      "progress=continue\n"
     ]
    },
    {
     "name": "stderr",
     "output_type": "stream",
     "text": [
      "frame= 8483 fps= 88 q=-0.0 size=N/A time=00:05:38.04 bitrate=N/A speed=3.51x    \r"
     ]
    },
    {
     "name": "stdout",
     "output_type": "stream",
     "text": [
      "frame=8503\n",
      "fps=87.94\n",
      "stream_0_0_q=-0.0\n",
      "bitrate=N/A\n",
      "total_size=N/A\n",
      "out_time_us=338840000\n",
      "out_time_ms=338840000\n",
      "out_time=00:05:38.840000\n",
      "dup_frames=0\n",
      "drop_frames=0\n",
      "speed= 3.5x\n",
      "progress=continue\n"
     ]
    },
    {
     "name": "stderr",
     "output_type": "stream",
     "text": [
      "frame= 8503 fps= 88 q=-0.0 size=N/A time=00:05:38.84 bitrate=N/A speed= 3.5x    \r"
     ]
    },
    {
     "name": "stdout",
     "output_type": "stream",
     "text": [
      "frame=8522\n",
      "fps=87.67\n",
      "stream_0_0_q=-0.0\n",
      "bitrate=N/A\n",
      "total_size=N/A\n",
      "out_time_us=339600000\n",
      "out_time_ms=339600000\n",
      "out_time=00:05:39.600000\n",
      "dup_frames=0\n",
      "drop_frames=0\n",
      "speed=3.49x\n",
      "progress=continue\n"
     ]
    },
    {
     "name": "stderr",
     "output_type": "stream",
     "text": [
      "frame= 8522 fps= 88 q=-0.0 size=N/A time=00:05:39.60 bitrate=N/A speed=3.49x    \r"
     ]
    },
    {
     "name": "stdout",
     "output_type": "stream",
     "text": [
      "frame=8537\n",
      "fps=87.38\n",
      "stream_0_0_q=-0.0\n",
      "bitrate=N/A\n",
      "total_size=N/A\n",
      "out_time_us=340200000\n",
      "out_time_ms=340200000\n",
      "out_time=00:05:40.200000\n",
      "dup_frames=0\n",
      "drop_frames=0\n",
      "speed=3.48x\n",
      "progress=continue\n"
     ]
    },
    {
     "name": "stderr",
     "output_type": "stream",
     "text": [
      "frame= 8537 fps= 87 q=-0.0 size=N/A time=00:05:40.20 bitrate=N/A speed=3.48x    \r"
     ]
    },
    {
     "name": "stdout",
     "output_type": "stream",
     "text": [
      "frame=8561\n",
      "fps=87.16\n",
      "stream_0_0_q=-0.0\n",
      "bitrate=N/A\n",
      "total_size=N/A\n",
      "out_time_us=341160000\n",
      "out_time_ms=341160000\n",
      "out_time=00:05:41.160000\n",
      "dup_frames=0\n",
      "drop_frames=0\n",
      "speed=3.47x\n",
      "progress=continue\n"
     ]
    },
    {
     "name": "stderr",
     "output_type": "stream",
     "text": [
      "frame= 8561 fps= 87 q=-0.0 size=N/A time=00:05:41.16 bitrate=N/A speed=3.47x    \r"
     ]
    },
    {
     "name": "stdout",
     "output_type": "stream",
     "text": [
      "frame=8581\n",
      "fps=86.92\n",
      "stream_0_0_q=-0.0\n",
      "bitrate=N/A\n",
      "total_size=N/A\n",
      "out_time_us=341960000\n",
      "out_time_ms=341960000\n",
      "out_time=00:05:41.960000\n",
      "dup_frames=0\n",
      "drop_frames=0\n",
      "speed=3.46x\n",
      "progress=continue\n"
     ]
    },
    {
     "name": "stderr",
     "output_type": "stream",
     "text": [
      "frame= 8581 fps= 87 q=-0.0 size=N/A time=00:05:41.96 bitrate=N/A speed=3.46x    \r"
     ]
    },
    {
     "name": "stdout",
     "output_type": "stream",
     "text": [
      "frame=8601\n",
      "fps=86.68\n",
      "stream_0_0_q=-0.0\n",
      "bitrate=N/A\n",
      "total_size=N/A\n",
      "out_time_us=342760000\n",
      "out_time_ms=342760000\n",
      "out_time=00:05:42.760000\n",
      "dup_frames=0\n",
      "drop_frames=0\n",
      "speed=3.45x\n",
      "progress=continue\n"
     ]
    },
    {
     "name": "stderr",
     "output_type": "stream",
     "text": [
      "frame= 8601 fps= 87 q=-0.0 size=N/A time=00:05:42.76 bitrate=N/A speed=3.45x    \r"
     ]
    },
    {
     "name": "stdout",
     "output_type": "stream",
     "text": [
      "frame=8621\n",
      "fps=86.43\n",
      "stream_0_0_q=-0.0\n",
      "bitrate=N/A\n",
      "total_size=N/A\n",
      "out_time_us=343560000\n",
      "out_time_ms=343560000\n",
      "out_time=00:05:43.560000\n",
      "dup_frames=0\n",
      "drop_frames=0\n",
      "speed=3.44x\n",
      "progress=continue\n"
     ]
    },
    {
     "name": "stderr",
     "output_type": "stream",
     "text": [
      "frame= 8621 fps= 86 q=-0.0 size=N/A time=00:05:43.56 bitrate=N/A speed=3.44x    \r"
     ]
    },
    {
     "name": "stdout",
     "output_type": "stream",
     "text": [
      "frame=8641\n",
      "fps=86.19\n",
      "stream_0_0_q=-0.0\n",
      "bitrate=N/A\n",
      "total_size=N/A\n",
      "out_time_us=344360000\n",
      "out_time_ms=344360000\n",
      "out_time=00:05:44.360000\n",
      "dup_frames=0\n",
      "drop_frames=0\n",
      "speed=3.43x\n",
      "progress=continue\n"
     ]
    },
    {
     "name": "stderr",
     "output_type": "stream",
     "text": [
      "frame= 8641 fps= 86 q=-0.0 size=N/A time=00:05:44.36 bitrate=N/A speed=3.43x    \r"
     ]
    },
    {
     "name": "stdout",
     "output_type": "stream",
     "text": [
      "frame=8653\n",
      "fps=85.81\n",
      "stream_0_0_q=-0.0\n",
      "bitrate=N/A\n",
      "total_size=N/A\n",
      "out_time_us=344840000\n",
      "out_time_ms=344840000\n",
      "out_time=00:05:44.840000\n",
      "dup_frames=0\n",
      "drop_frames=0\n",
      "speed=3.42x\n",
      "progress=continue\n"
     ]
    },
    {
     "name": "stderr",
     "output_type": "stream",
     "text": [
      "frame= 8653 fps= 86 q=-0.0 size=N/A time=00:05:44.84 bitrate=N/A speed=3.42x    \r"
     ]
    },
    {
     "name": "stdout",
     "output_type": "stream",
     "text": [
      "frame=8683\n",
      "fps=85.66\n",
      "stream_0_0_q=-0.0\n",
      "bitrate=N/A\n",
      "total_size=N/A\n",
      "out_time_us=346040000\n",
      "out_time_ms=346040000\n",
      "out_time=00:05:46.040000\n",
      "dup_frames=0\n",
      "drop_frames=0\n",
      "speed=3.41x\n",
      "progress=continue\n"
     ]
    },
    {
     "name": "stderr",
     "output_type": "stream",
     "text": [
      "frame= 8683 fps= 86 q=-0.0 size=N/A time=00:05:46.04 bitrate=N/A speed=3.41x    \r"
     ]
    },
    {
     "name": "stdout",
     "output_type": "stream",
     "text": [
      "frame=8702\n",
      "fps=85.41\n",
      "stream_0_0_q=-0.0\n",
      "bitrate=N/A\n",
      "total_size=N/A\n",
      "out_time_us=346800000\n",
      "out_time_ms=346800000\n",
      "out_time=00:05:46.800000\n",
      "dup_frames=0\n",
      "drop_frames=0\n",
      "speed= 3.4x\n",
      "progress=continue\n"
     ]
    },
    {
     "name": "stderr",
     "output_type": "stream",
     "text": [
      "frame= 8702 fps= 85 q=-0.0 size=N/A time=00:05:46.80 bitrate=N/A speed= 3.4x    \r"
     ]
    },
    {
     "name": "stdout",
     "output_type": "stream",
     "text": [
      "frame=8722\n",
      "fps=85.16\n",
      "stream_0_0_q=-0.0\n",
      "bitrate=N/A\n",
      "total_size=N/A\n",
      "out_time_us=347600000\n",
      "out_time_ms=347600000\n",
      "out_time=00:05:47.600000\n",
      "dup_frames=0\n",
      "drop_frames=0\n",
      "speed=3.39x\n",
      "progress=continue\n"
     ]
    },
    {
     "name": "stderr",
     "output_type": "stream",
     "text": [
      "frame= 8722 fps= 85 q=-0.0 size=N/A time=00:05:47.60 bitrate=N/A speed=3.39x    \r"
     ]
    },
    {
     "name": "stdout",
     "output_type": "stream",
     "text": [
      "frame=8741\n",
      "fps=84.92\n",
      "stream_0_0_q=-0.0\n",
      "bitrate=N/A\n",
      "total_size=N/A\n",
      "out_time_us=348360000\n",
      "out_time_ms=348360000\n",
      "out_time=00:05:48.360000\n",
      "dup_frames=0\n",
      "drop_frames=0\n",
      "speed=3.38x\n",
      "progress=continue\n"
     ]
    },
    {
     "name": "stderr",
     "output_type": "stream",
     "text": [
      "frame= 8741 fps= 85 q=-0.0 size=N/A time=00:05:48.36 bitrate=N/A speed=3.38x    \r"
     ]
    },
    {
     "name": "stdout",
     "output_type": "stream",
     "text": [
      "frame=8760\n",
      "fps=84.67\n",
      "stream_0_0_q=-0.0\n",
      "bitrate=N/A\n",
      "total_size=N/A\n",
      "out_time_us=349120000\n",
      "out_time_ms=349120000\n",
      "out_time=00:05:49.120000\n",
      "dup_frames=0\n",
      "drop_frames=0\n",
      "speed=3.37x\n",
      "progress=continue\n"
     ]
    },
    {
     "name": "stderr",
     "output_type": "stream",
     "text": [
      "frame= 8779 fps= 84 q=-0.0 size=N/A time=00:05:49.88 bitrate=N/A speed=3.36x    \r"
     ]
    },
    {
     "name": "stdout",
     "output_type": "stream",
     "text": [
      "frame=8779\n",
      "fps=84.43\n",
      "stream_0_0_q=-0.0\n",
      "bitrate=N/A\n",
      "total_size=N/A\n",
      "out_time_us=349880000\n",
      "out_time_ms=349880000\n",
      "out_time=00:05:49.880000\n",
      "dup_frames=0\n",
      "drop_frames=0\n",
      "speed=3.36x\n",
      "progress=continue\n",
      "frame=8798\n",
      "fps=84.20\n",
      "stream_0_0_q=-0.0\n",
      "bitrate=N/A\n",
      "total_size=N/A\n",
      "out_time_us=350640000\n",
      "out_time_ms=350640000\n",
      "out_time=00:05:50.640000\n",
      "dup_frames=0\n",
      "drop_frames=0\n",
      "speed=3.36x\n",
      "progress=continue\n"
     ]
    },
    {
     "name": "stderr",
     "output_type": "stream",
     "text": [
      "frame= 8817 fps= 84 q=-0.0 size=N/A time=00:05:51.40 bitrate=N/A speed=3.35x    \r"
     ]
    },
    {
     "name": "stdout",
     "output_type": "stream",
     "text": [
      "frame=8817\n",
      "fps=83.97\n",
      "stream_0_0_q=-0.0\n",
      "bitrate=N/A\n",
      "total_size=N/A\n",
      "out_time_us=351400000\n",
      "out_time_ms=351400000\n",
      "out_time=00:05:51.400000\n",
      "dup_frames=0\n",
      "drop_frames=0\n",
      "speed=3.35x\n",
      "progress=continue\n"
     ]
    },
    {
     "name": "stderr",
     "output_type": "stream",
     "text": [
      "frame= 8836 fps= 84 q=-0.0 size=N/A time=00:05:52.16 bitrate=N/A speed=3.34x    \r"
     ]
    },
    {
     "name": "stdout",
     "output_type": "stream",
     "text": [
      "frame=8836\n",
      "fps=83.74\n",
      "stream_0_0_q=-0.0\n",
      "bitrate=N/A\n",
      "total_size=N/A\n",
      "out_time_us=352160000\n",
      "out_time_ms=352160000\n",
      "out_time=00:05:52.160000\n",
      "dup_frames=0\n",
      "drop_frames=0\n",
      "speed=3.34x\n",
      "progress=continue\n"
     ]
    },
    {
     "name": "stderr",
     "output_type": "stream",
     "text": [
      "frame= 8854 fps= 83 q=-0.0 size=N/A time=00:05:52.88 bitrate=N/A speed=3.33x    \r"
     ]
    },
    {
     "name": "stdout",
     "output_type": "stream",
     "text": [
      "frame=8854\n",
      "fps=83.47\n",
      "stream_0_0_q=-0.0\n",
      "bitrate=N/A\n",
      "total_size=N/A\n",
      "out_time_us=352880000\n",
      "out_time_ms=352880000\n",
      "out_time=00:05:52.880000\n",
      "dup_frames=0\n",
      "drop_frames=0\n",
      "speed=3.33x\n",
      "progress=continue\n"
     ]
    },
    {
     "name": "stderr",
     "output_type": "stream",
     "text": [
      "frame= 8876 fps= 83 q=-0.0 size=N/A time=00:05:53.76 bitrate=N/A speed=3.32x    \r"
     ]
    },
    {
     "name": "stdout",
     "output_type": "stream",
     "text": [
      "frame=8876\n",
      "fps=83.27\n",
      "stream_0_0_q=-0.0\n",
      "bitrate=N/A\n",
      "total_size=N/A\n",
      "out_time_us=353760000\n",
      "out_time_ms=353760000\n",
      "out_time=00:05:53.760000\n",
      "dup_frames=0\n",
      "drop_frames=0\n",
      "speed=3.32x\n",
      "progress=continue\n"
     ]
    },
    {
     "name": "stderr",
     "output_type": "stream",
     "text": [
      "frame= 8895 fps= 83 q=-0.0 size=N/A time=00:05:54.52 bitrate=N/A speed=3.31x    \r"
     ]
    },
    {
     "name": "stdout",
     "output_type": "stream",
     "text": [
      "frame=8895\n",
      "fps=83.04\n",
      "stream_0_0_q=-0.0\n",
      "bitrate=N/A\n",
      "total_size=N/A\n",
      "out_time_us=354520000\n",
      "out_time_ms=354520000\n",
      "out_time=00:05:54.520000\n",
      "dup_frames=0\n",
      "drop_frames=0\n",
      "speed=3.31x\n",
      "progress=continue\n"
     ]
    },
    {
     "name": "stderr",
     "output_type": "stream",
     "text": [
      "frame= 8911 fps= 83 q=-0.0 size=N/A time=00:05:55.16 bitrate=N/A speed= 3.3x    \r"
     ]
    },
    {
     "name": "stdout",
     "output_type": "stream",
     "text": [
      "frame=8911\n",
      "fps=82.77\n",
      "stream_0_0_q=-0.0\n",
      "bitrate=N/A\n",
      "total_size=N/A\n",
      "out_time_us=355160000\n",
      "out_time_ms=355160000\n",
      "out_time=00:05:55.160000\n",
      "dup_frames=0\n",
      "drop_frames=0\n",
      "speed= 3.3x\n",
      "progress=continue\n"
     ]
    },
    {
     "name": "stderr",
     "output_type": "stream",
     "text": [
      "frame= 8934 fps= 83 q=-0.0 size=N/A time=00:05:56.08 bitrate=N/A speed=3.29x    \r"
     ]
    },
    {
     "name": "stdout",
     "output_type": "stream",
     "text": [
      "frame=8934\n",
      "fps=82.57\n",
      "stream_0_0_q=-0.0\n",
      "bitrate=N/A\n",
      "total_size=N/A\n",
      "out_time_us=356080000\n",
      "out_time_ms=356080000\n",
      "out_time=00:05:56.080000\n",
      "dup_frames=0\n",
      "drop_frames=0\n",
      "speed=3.29x\n",
      "progress=continue\n"
     ]
    },
    {
     "name": "stderr",
     "output_type": "stream",
     "text": [
      "frame= 8952 fps= 82 q=-0.0 size=N/A time=00:05:56.80 bitrate=N/A speed=3.28x    \r"
     ]
    },
    {
     "name": "stdout",
     "output_type": "stream",
     "text": [
      "frame=8952\n",
      "fps=82.35\n",
      "stream_0_0_q=-0.0\n",
      "bitrate=N/A\n",
      "total_size=N/A\n",
      "out_time_us=356800000\n",
      "out_time_ms=356800000\n",
      "out_time=00:05:56.800000\n",
      "dup_frames=0\n",
      "drop_frames=0\n",
      "speed=3.28x\n",
      "progress=continue\n"
     ]
    },
    {
     "name": "stderr",
     "output_type": "stream",
     "text": [
      "frame= 8970 fps= 82 q=-0.0 size=N/A time=00:05:57.52 bitrate=N/A speed=3.27x    \r"
     ]
    },
    {
     "name": "stdout",
     "output_type": "stream",
     "text": [
      "frame=8970\n",
      "fps=82.13\n",
      "stream_0_0_q=-0.0\n",
      "bitrate=N/A\n",
      "total_size=N/A\n",
      "out_time_us=357520000\n",
      "out_time_ms=357520000\n",
      "out_time=00:05:57.520000\n",
      "dup_frames=0\n",
      "drop_frames=0\n",
      "speed=3.27x\n",
      "progress=continue\n",
      "frame=8988\n",
      "fps=81.90\n",
      "stream_0_0_q=-0.0\n",
      "bitrate=N/A\n",
      "total_size=N/A\n",
      "out_time_us=358240000\n",
      "out_time_ms=358240000\n",
      "out_time=00:05:58.240000\n",
      "dup_frames=0\n",
      "drop_frames=0\n",
      "speed=3.26x\n",
      "progress=continue\n"
     ]
    },
    {
     "name": "stderr",
     "output_type": "stream",
     "text": [
      "frame= 8988 fps= 82 q=-0.0 size=N/A time=00:05:58.24 bitrate=N/A speed=3.26x    \r"
     ]
    },
    {
     "name": "stdout",
     "output_type": "stream",
     "text": [
      "frame=9002\n",
      "fps=81.58\n",
      "stream_0_0_q=-0.0\n",
      "bitrate=N/A\n",
      "total_size=N/A\n",
      "out_time_us=358800000\n",
      "out_time_ms=358800000\n",
      "out_time=00:05:58.800000\n",
      "dup_frames=0\n",
      "drop_frames=0\n",
      "speed=3.25x\n",
      "progress=continue\n"
     ]
    },
    {
     "name": "stderr",
     "output_type": "stream",
     "text": [
      "frame= 9021 fps= 81 q=-0.0 size=N/A time=00:05:59.56 bitrate=N/A speed=3.24x    \r"
     ]
    },
    {
     "name": "stdout",
     "output_type": "stream",
     "text": [
      "frame=9021\n",
      "fps=81.38\n",
      "stream_0_0_q=-0.0\n",
      "bitrate=N/A\n",
      "total_size=N/A\n",
      "out_time_us=359560000\n",
      "out_time_ms=359560000\n",
      "out_time=00:05:59.560000\n",
      "dup_frames=0\n",
      "drop_frames=0\n",
      "speed=3.24x\n",
      "progress=continue\n"
     ]
    },
    {
     "name": "stderr",
     "output_type": "stream",
     "text": [
      "frame= 9047 fps= 81 q=-0.0 size=N/A time=00:06:00.60 bitrate=N/A speed=3.24x    \r"
     ]
    },
    {
     "name": "stdout",
     "output_type": "stream",
     "text": [
      "frame=9047\n",
      "fps=81.24\n",
      "stream_0_0_q=-0.0\n",
      "bitrate=N/A\n",
      "total_size=N/A\n",
      "out_time_us=360600000\n",
      "out_time_ms=360600000\n",
      "out_time=00:06:00.600000\n",
      "dup_frames=0\n",
      "drop_frames=0\n",
      "speed=3.24x\n",
      "progress=continue\n",
      "frame=9066\n",
      "fps=81.03\n",
      "stream_0_0_q=-0.0\n",
      "bitrate=N/A\n",
      "total_size=N/A\n",
      "out_time_us=361360000\n",
      "out_time_ms=361360000\n",
      "out_time=00:06:01.360000\n",
      "dup_frames=0\n",
      "drop_frames=0\n",
      "speed=3.23x\n",
      "progress=continue\n"
     ]
    },
    {
     "name": "stderr",
     "output_type": "stream",
     "text": [
      "frame= 9085 fps= 81 q=-0.0 size=N/A time=00:06:02.12 bitrate=N/A speed=3.22x    \r"
     ]
    },
    {
     "name": "stdout",
     "output_type": "stream",
     "text": [
      "frame=9085\n",
      "fps=80.82\n",
      "stream_0_0_q=-0.0\n",
      "bitrate=N/A\n",
      "total_size=N/A\n",
      "out_time_us=362120000\n",
      "out_time_ms=362120000\n",
      "out_time=00:06:02.120000\n",
      "dup_frames=0\n",
      "drop_frames=0\n",
      "speed=3.22x\n",
      "progress=continue\n",
      "frame=9104\n",
      "fps=80.62\n",
      "stream_0_0_q=-0.0\n",
      "bitrate=N/A\n",
      "total_size=N/A\n",
      "out_time_us=362880000\n",
      "out_time_ms=362880000\n",
      "out_time=00:06:02.880000\n",
      "dup_frames=0\n",
      "drop_frames=0\n",
      "speed=3.21x\n",
      "progress=continue\n"
     ]
    },
    {
     "name": "stderr",
     "output_type": "stream",
     "text": [
      "frame= 9123 fps= 80 q=-0.0 size=N/A time=00:06:03.64 bitrate=N/A speed=3.21x    \r"
     ]
    },
    {
     "name": "stdout",
     "output_type": "stream",
     "text": [
      "frame=9123\n",
      "fps=80.42\n",
      "stream_0_0_q=-0.0\n",
      "bitrate=N/A\n",
      "total_size=N/A\n",
      "out_time_us=363640000\n",
      "out_time_ms=363640000\n",
      "out_time=00:06:03.640000\n",
      "dup_frames=0\n",
      "drop_frames=0\n",
      "speed=3.21x\n",
      "progress=continue\n",
      "frame=9142\n",
      "fps=80.22\n",
      "stream_0_0_q=-0.0\n",
      "bitrate=N/A\n",
      "total_size=N/A\n",
      "out_time_us=364400000\n",
      "out_time_ms=364400000\n",
      "out_time=00:06:04.400000\n",
      "dup_frames=0\n",
      "drop_frames=0\n",
      "speed= 3.2x\n",
      "progress=continue\n"
     ]
    },
    {
     "name": "stderr",
     "output_type": "stream",
     "text": [
      "frame= 9161 fps= 80 q=-0.0 size=N/A time=00:06:05.16 bitrate=N/A speed=3.19x    \r"
     ]
    },
    {
     "name": "stdout",
     "output_type": "stream",
     "text": [
      "frame=9161\n",
      "fps=80.02\n",
      "stream_0_0_q=-0.0\n",
      "bitrate=N/A\n",
      "total_size=N/A\n",
      "out_time_us=365160000\n",
      "out_time_ms=365160000\n",
      "out_time=00:06:05.160000\n",
      "dup_frames=0\n",
      "drop_frames=0\n",
      "speed=3.19x\n",
      "progress=continue\n"
     ]
    },
    {
     "name": "stderr",
     "output_type": "stream",
     "text": [
      "frame= 9179 fps= 80 q=-0.0 size=N/A time=00:06:05.88 bitrate=N/A speed=3.18x    \r"
     ]
    },
    {
     "name": "stdout",
     "output_type": "stream",
     "text": [
      "frame=9179\n",
      "fps=79.80\n",
      "stream_0_0_q=-0.0\n",
      "bitrate=N/A\n",
      "total_size=N/A\n",
      "out_time_us=365880000\n",
      "out_time_ms=365880000\n",
      "out_time=00:06:05.880000\n",
      "dup_frames=0\n",
      "drop_frames=0\n",
      "speed=3.18x\n",
      "progress=continue\n"
     ]
    },
    {
     "name": "stderr",
     "output_type": "stream",
     "text": [
      "frame= 9197 fps= 80 q=-0.0 size=N/A time=00:06:06.60 bitrate=N/A speed=3.17x    \r"
     ]
    },
    {
     "name": "stdout",
     "output_type": "stream",
     "text": [
      "frame=9197\n",
      "fps=79.61\n",
      "stream_0_0_q=-0.0\n",
      "bitrate=N/A\n",
      "total_size=N/A\n",
      "out_time_us=366600000\n",
      "out_time_ms=366600000\n",
      "out_time=00:06:06.600000\n",
      "dup_frames=0\n",
      "drop_frames=0\n",
      "speed=3.17x\n",
      "progress=continue\n",
      "frame=9216\n",
      "fps=79.37\n",
      "stream_0_0_q=-0.0\n",
      "bitrate=N/A\n",
      "total_size=N/A\n",
      "out_time_us=367360000\n",
      "out_time_ms=367360000\n",
      "out_time=00:06:07.360000\n",
      "dup_frames=0\n",
      "drop_frames=0\n",
      "speed=3.16x\n",
      "progress=continue\n"
     ]
    },
    {
     "name": "stderr",
     "output_type": "stream",
     "text": [
      "frame= 9237 fps= 79 q=-0.0 size=N/A time=00:06:08.20 bitrate=N/A speed=3.16x    \r"
     ]
    },
    {
     "name": "stdout",
     "output_type": "stream",
     "text": [
      "frame=9237\n",
      "fps=79.20\n",
      "stream_0_0_q=-0.0\n",
      "bitrate=N/A\n",
      "total_size=N/A\n",
      "out_time_us=368200000\n",
      "out_time_ms=368200000\n",
      "out_time=00:06:08.200000\n",
      "dup_frames=0\n",
      "drop_frames=0\n",
      "speed=3.16x\n",
      "progress=continue\n"
     ]
    },
    {
     "name": "stderr",
     "output_type": "stream",
     "text": [
      "frame= 9256 fps= 79 q=-0.0 size=N/A time=00:06:08.96 bitrate=N/A speed=3.15x    \r"
     ]
    },
    {
     "name": "stdout",
     "output_type": "stream",
     "text": [
      "frame=9256\n",
      "fps=79.02\n",
      "stream_0_0_q=-0.0\n",
      "bitrate=N/A\n",
      "total_size=N/A\n",
      "out_time_us=368960000\n",
      "out_time_ms=368960000\n",
      "out_time=00:06:08.960000\n",
      "dup_frames=0\n",
      "drop_frames=0\n",
      "speed=3.15x\n",
      "progress=continue\n"
     ]
    },
    {
     "name": "stderr",
     "output_type": "stream",
     "text": [
      "frame= 9274 fps= 79 q=-0.0 size=N/A time=00:06:09.68 bitrate=N/A speed=3.14x    \r"
     ]
    },
    {
     "name": "stdout",
     "output_type": "stream",
     "text": [
      "frame=9274\n",
      "fps=78.83\n",
      "stream_0_0_q=-0.0\n",
      "bitrate=N/A\n",
      "total_size=N/A\n",
      "out_time_us=369680000\n",
      "out_time_ms=369680000\n",
      "out_time=00:06:09.680000\n",
      "dup_frames=0\n",
      "drop_frames=0\n",
      "speed=3.14x\n",
      "progress=continue\n",
      "frame=9293\n",
      "fps=78.65\n",
      "stream_0_0_q=-0.0\n",
      "bitrate=N/A\n",
      "total_size=N/A\n",
      "out_time_us=370440000\n",
      "out_time_ms=370440000\n",
      "out_time=00:06:10.440000\n",
      "dup_frames=0\n",
      "drop_frames=0\n",
      "speed=3.14x\n",
      "progress=continue\n"
     ]
    },
    {
     "name": "stderr",
     "output_type": "stream",
     "text": [
      "frame= 9312 fps= 78 q=-0.0 size=N/A time=00:06:11.20 bitrate=N/A speed=3.13x    \r"
     ]
    },
    {
     "name": "stdout",
     "output_type": "stream",
     "text": [
      "frame=9312\n",
      "fps=78.47\n",
      "stream_0_0_q=-0.0\n",
      "bitrate=N/A\n",
      "total_size=N/A\n",
      "out_time_us=371200000\n",
      "out_time_ms=371200000\n",
      "out_time=00:06:11.200000\n",
      "dup_frames=0\n",
      "drop_frames=0\n",
      "speed=3.13x\n",
      "progress=continue\n"
     ]
    },
    {
     "name": "stderr",
     "output_type": "stream",
     "text": [
      "frame= 9331 fps= 78 q=-0.0 size=N/A time=00:06:11.96 bitrate=N/A speed=3.12x    \r"
     ]
    },
    {
     "name": "stdout",
     "output_type": "stream",
     "text": [
      "frame=9331\n",
      "fps=78.29\n",
      "stream_0_0_q=-0.0\n",
      "bitrate=N/A\n",
      "total_size=N/A\n",
      "out_time_us=371960000\n",
      "out_time_ms=371960000\n",
      "out_time=00:06:11.960000\n",
      "dup_frames=0\n",
      "drop_frames=0\n",
      "speed=3.12x\n",
      "progress=continue\n"
     ]
    },
    {
     "name": "stderr",
     "output_type": "stream",
     "text": [
      "frame= 9350 fps= 78 q=-0.0 size=N/A time=00:06:12.72 bitrate=N/A speed=3.11x    \r"
     ]
    },
    {
     "name": "stdout",
     "output_type": "stream",
     "text": [
      "frame=9350\n",
      "fps=78.11\n",
      "stream_0_0_q=-0.0\n",
      "bitrate=N/A\n",
      "total_size=N/A\n",
      "out_time_us=372720000\n",
      "out_time_ms=372720000\n",
      "out_time=00:06:12.720000\n",
      "dup_frames=0\n",
      "drop_frames=0\n",
      "speed=3.11x\n",
      "progress=continue\n"
     ]
    },
    {
     "name": "stderr",
     "output_type": "stream",
     "text": [
      "frame= 9363 fps= 78 q=-0.0 size=N/A time=00:06:13.24 bitrate=N/A speed=3.11x    \r"
     ]
    },
    {
     "name": "stdout",
     "output_type": "stream",
     "text": [
      "frame=9363\n",
      "fps=77.90\n",
      "stream_0_0_q=-0.0\n",
      "bitrate=N/A\n",
      "total_size=N/A\n",
      "out_time_us=373240000\n",
      "out_time_ms=373240000\n",
      "out_time=00:06:13.240000\n",
      "dup_frames=0\n",
      "drop_frames=0\n",
      "speed=3.11x\n",
      "progress=continue\n"
     ]
    },
    {
     "name": "stderr",
     "output_type": "stream",
     "text": [
      "frame= 9382 fps= 78 q=-0.0 size=N/A time=00:06:14.00 bitrate=N/A speed= 3.1x    \r"
     ]
    },
    {
     "name": "stdout",
     "output_type": "stream",
     "text": [
      "frame=9382\n",
      "fps=77.73\n",
      "stream_0_0_q=-0.0\n",
      "bitrate=N/A\n",
      "total_size=N/A\n",
      "out_time_us=374000000\n",
      "out_time_ms=374000000\n",
      "out_time=00:06:14.000000\n",
      "dup_frames=0\n",
      "drop_frames=0\n",
      "speed= 3.1x\n",
      "progress=continue\n"
     ]
    },
    {
     "name": "stderr",
     "output_type": "stream",
     "text": [
      "frame= 9398 fps= 78 q=-0.0 size=N/A time=00:06:14.64 bitrate=N/A speed=3.09x    \r"
     ]
    },
    {
     "name": "stdout",
     "output_type": "stream",
     "text": [
      "frame=9398\n",
      "fps=77.53\n",
      "stream_0_0_q=-0.0\n",
      "bitrate=N/A\n",
      "total_size=N/A\n",
      "out_time_us=374640000\n",
      "out_time_ms=374640000\n",
      "out_time=00:06:14.640000\n",
      "dup_frames=0\n",
      "drop_frames=0\n",
      "speed=3.09x\n",
      "progress=continue\n"
     ]
    },
    {
     "name": "stderr",
     "output_type": "stream",
     "text": [
      "frame= 9422 fps= 77 q=-0.0 size=N/A time=00:06:15.60 bitrate=N/A speed=3.09x    \r"
     ]
    },
    {
     "name": "stdout",
     "output_type": "stream",
     "text": [
      "frame=9422\n",
      "fps=77.41\n",
      "stream_0_0_q=-0.0\n",
      "bitrate=N/A\n",
      "total_size=N/A\n",
      "out_time_us=375600000\n",
      "out_time_ms=375600000\n",
      "out_time=00:06:15.600000\n",
      "dup_frames=0\n",
      "drop_frames=0\n",
      "speed=3.09x\n",
      "progress=continue\n"
     ]
    },
    {
     "name": "stderr",
     "output_type": "stream",
     "text": [
      "frame= 9440 fps= 77 q=-0.0 size=N/A time=00:06:16.32 bitrate=N/A speed=3.08x    \r"
     ]
    },
    {
     "name": "stdout",
     "output_type": "stream",
     "text": [
      "frame=9440\n",
      "fps=77.24\n",
      "stream_0_0_q=-0.0\n",
      "bitrate=N/A\n",
      "total_size=N/A\n",
      "out_time_us=376320000\n",
      "out_time_ms=376320000\n",
      "out_time=00:06:16.320000\n",
      "dup_frames=0\n",
      "drop_frames=0\n",
      "speed=3.08x\n",
      "progress=continue\n"
     ]
    },
    {
     "name": "stderr",
     "output_type": "stream",
     "text": [
      "frame= 9458 fps= 77 q=-0.0 size=N/A time=00:06:17.04 bitrate=N/A speed=3.07x    \r"
     ]
    },
    {
     "name": "stdout",
     "output_type": "stream",
     "text": [
      "frame=9458\n",
      "fps=77.07\n",
      "stream_0_0_q=-0.0\n",
      "bitrate=N/A\n",
      "total_size=N/A\n",
      "out_time_us=377040000\n",
      "out_time_ms=377040000\n",
      "out_time=00:06:17.040000\n",
      "dup_frames=0\n",
      "drop_frames=0\n",
      "speed=3.07x\n",
      "progress=continue\n"
     ]
    },
    {
     "name": "stderr",
     "output_type": "stream",
     "text": [
      "frame= 9478 fps= 77 q=-0.0 size=N/A time=00:06:17.84 bitrate=N/A speed=3.07x    \r"
     ]
    },
    {
     "name": "stdout",
     "output_type": "stream",
     "text": [
      "frame=9478\n",
      "fps=76.92\n",
      "stream_0_0_q=-0.0\n",
      "bitrate=N/A\n",
      "total_size=N/A\n",
      "out_time_us=377840000\n",
      "out_time_ms=377840000\n",
      "out_time=00:06:17.840000\n",
      "dup_frames=0\n",
      "drop_frames=0\n",
      "speed=3.07x\n",
      "progress=continue\n"
     ]
    },
    {
     "name": "stderr",
     "output_type": "stream",
     "text": [
      "frame= 9497 fps= 77 q=-0.0 size=N/A time=00:06:18.60 bitrate=N/A speed=3.06x    \r"
     ]
    },
    {
     "name": "stdout",
     "output_type": "stream",
     "text": [
      "frame=9497\n",
      "fps=76.75\n",
      "stream_0_0_q=-0.0\n",
      "bitrate=N/A\n",
      "total_size=N/A\n",
      "out_time_us=378600000\n",
      "out_time_ms=378600000\n",
      "out_time=00:06:18.600000\n",
      "dup_frames=0\n",
      "drop_frames=0\n",
      "speed=3.06x\n",
      "progress=continue\n"
     ]
    },
    {
     "name": "stderr",
     "output_type": "stream",
     "text": [
      "frame= 9519 fps= 77 q=-0.0 size=N/A time=00:06:19.48 bitrate=N/A speed=3.05x    \r"
     ]
    },
    {
     "name": "stdout",
     "output_type": "stream",
     "text": [
      "frame=9519\n",
      "fps=76.62\n",
      "stream_0_0_q=-0.0\n",
      "bitrate=N/A\n",
      "total_size=N/A\n",
      "out_time_us=379480000\n",
      "out_time_ms=379480000\n",
      "out_time=00:06:19.480000\n",
      "dup_frames=0\n",
      "drop_frames=0\n",
      "speed=3.05x\n",
      "progress=continue\n"
     ]
    },
    {
     "name": "stderr",
     "output_type": "stream",
     "text": [
      "frame= 9543 fps= 76 q=-0.0 size=N/A time=00:06:20.44 bitrate=N/A speed=3.05x    \r"
     ]
    },
    {
     "name": "stdout",
     "output_type": "stream",
     "text": [
      "frame=9543\n",
      "fps=76.50\n",
      "stream_0_0_q=-0.0\n",
      "bitrate=N/A\n",
      "total_size=N/A\n",
      "out_time_us=380440000\n",
      "out_time_ms=380440000\n",
      "out_time=00:06:20.440000\n",
      "dup_frames=0\n",
      "drop_frames=0\n",
      "speed=3.05x\n",
      "progress=continue\n"
     ]
    },
    {
     "name": "stderr",
     "output_type": "stream",
     "text": [
      "frame= 9561 fps= 76 q=-0.0 size=N/A time=00:06:21.16 bitrate=N/A speed=3.04x    \r"
     ]
    },
    {
     "name": "stdout",
     "output_type": "stream",
     "text": [
      "frame=9561\n",
      "fps=76.29\n",
      "stream_0_0_q=-0.0\n",
      "bitrate=N/A\n",
      "total_size=N/A\n",
      "out_time_us=381160000\n",
      "out_time_ms=381160000\n",
      "out_time=00:06:21.160000\n",
      "dup_frames=0\n",
      "drop_frames=0\n",
      "speed=3.04x\n",
      "progress=continue\n"
     ]
    },
    {
     "name": "stderr",
     "output_type": "stream",
     "text": [
      "frame= 9578 fps= 76 q=-0.0 size=N/A time=00:06:21.84 bitrate=N/A speed=3.03x    \r"
     ]
    },
    {
     "name": "stdout",
     "output_type": "stream",
     "text": [
      "frame=9578\n",
      "fps=76.10\n",
      "stream_0_0_q=-0.0\n",
      "bitrate=N/A\n",
      "total_size=N/A\n",
      "out_time_us=381840000\n",
      "out_time_ms=381840000\n",
      "out_time=00:06:21.840000\n",
      "dup_frames=0\n",
      "drop_frames=0\n",
      "speed=3.03x\n",
      "progress=continue\n"
     ]
    },
    {
     "name": "stderr",
     "output_type": "stream",
     "text": [
      "frame= 9618 fps= 76 q=-0.0 size=N/A time=00:06:23.44 bitrate=N/A speed=3.03x    \r"
     ]
    },
    {
     "name": "stdout",
     "output_type": "stream",
     "text": [
      "frame=9618\n",
      "fps=76.11\n",
      "stream_0_0_q=-0.0\n",
      "bitrate=N/A\n",
      "total_size=N/A\n",
      "out_time_us=383440000\n",
      "out_time_ms=383440000\n",
      "out_time=00:06:23.440000\n",
      "dup_frames=0\n",
      "drop_frames=0\n",
      "speed=3.03x\n",
      "progress=continue\n"
     ]
    },
    {
     "name": "stderr",
     "output_type": "stream",
     "text": [
      "frame= 9636 fps= 76 q=-0.0 size=N/A time=00:06:24.16 bitrate=N/A speed=3.03x    \r"
     ]
    },
    {
     "name": "stdout",
     "output_type": "stream",
     "text": [
      "frame=9636\n",
      "fps=75.95\n",
      "stream_0_0_q=-0.0\n",
      "bitrate=N/A\n",
      "total_size=N/A\n",
      "out_time_us=384160000\n",
      "out_time_ms=384160000\n",
      "out_time=00:06:24.160000\n",
      "dup_frames=0\n",
      "drop_frames=0\n",
      "speed=3.03x\n",
      "progress=continue\n"
     ]
    },
    {
     "name": "stderr",
     "output_type": "stream",
     "text": [
      "frame= 9654 fps= 76 q=-0.0 size=N/A time=00:06:24.88 bitrate=N/A speed=3.02x    \r"
     ]
    },
    {
     "name": "stdout",
     "output_type": "stream",
     "text": [
      "frame=9654\n",
      "fps=75.79\n",
      "stream_0_0_q=-0.0\n",
      "bitrate=N/A\n",
      "total_size=N/A\n",
      "out_time_us=384880000\n",
      "out_time_ms=384880000\n",
      "out_time=00:06:24.880000\n",
      "dup_frames=0\n",
      "drop_frames=0\n",
      "speed=3.02x\n",
      "progress=continue\n"
     ]
    },
    {
     "name": "stderr",
     "output_type": "stream",
     "text": [
      "frame= 9673 fps= 76 q=-0.0 size=N/A time=00:06:25.64 bitrate=N/A speed=3.02x    \r"
     ]
    },
    {
     "name": "stdout",
     "output_type": "stream",
     "text": [
      "frame=9673\n",
      "fps=75.64\n",
      "stream_0_0_q=-0.0\n",
      "bitrate=N/A\n",
      "total_size=N/A\n",
      "out_time_us=385640000\n",
      "out_time_ms=385640000\n",
      "out_time=00:06:25.640000\n",
      "dup_frames=0\n",
      "drop_frames=0\n",
      "speed=3.02x\n",
      "progress=continue\n"
     ]
    },
    {
     "name": "stderr",
     "output_type": "stream",
     "text": [
      "frame= 9699 fps= 76 q=-0.0 size=N/A time=00:06:26.68 bitrate=N/A speed=3.01x    \r"
     ]
    },
    {
     "name": "stdout",
     "output_type": "stream",
     "text": [
      "frame=9699\n",
      "fps=75.54\n",
      "stream_0_0_q=-0.0\n",
      "bitrate=N/A\n",
      "total_size=N/A\n",
      "out_time_us=386680000\n",
      "out_time_ms=386680000\n",
      "out_time=00:06:26.680000\n",
      "dup_frames=0\n",
      "drop_frames=0\n",
      "speed=3.01x\n",
      "progress=continue\n"
     ]
    },
    {
     "name": "stderr",
     "output_type": "stream",
     "text": [
      "frame= 9723 fps= 75 q=-0.0 size=N/A time=00:06:27.64 bitrate=N/A speed=3.01x    \r"
     ]
    },
    {
     "name": "stdout",
     "output_type": "stream",
     "text": [
      "frame=9723\n",
      "fps=75.43\n",
      "stream_0_0_q=-0.0\n",
      "bitrate=N/A\n",
      "total_size=N/A\n",
      "out_time_us=387640000\n",
      "out_time_ms=387640000\n",
      "out_time=00:06:27.640000\n",
      "dup_frames=0\n",
      "drop_frames=0\n",
      "speed=3.01x\n",
      "progress=continue\n"
     ]
    },
    {
     "name": "stderr",
     "output_type": "stream",
     "text": [
      "frame= 9747 fps= 75 q=-0.0 size=N/A time=00:06:28.60 bitrate=N/A speed=   3x    \r"
     ]
    },
    {
     "name": "stdout",
     "output_type": "stream",
     "text": [
      "frame=9747\n",
      "fps=75.31\n",
      "stream_0_0_q=-0.0\n",
      "bitrate=N/A\n",
      "total_size=N/A\n",
      "out_time_us=388600000\n",
      "out_time_ms=388600000\n",
      "out_time=00:06:28.600000\n",
      "dup_frames=0\n",
      "drop_frames=0\n",
      "speed=   3x\n",
      "progress=continue\n"
     ]
    },
    {
     "name": "stderr",
     "output_type": "stream",
     "text": [
      "frame= 9764 fps= 75 q=-0.0 size=N/A time=00:06:29.28 bitrate=N/A speed=2.99x    \r"
     ]
    },
    {
     "name": "stdout",
     "output_type": "stream",
     "text": [
      "frame=9764\n",
      "fps=75.11\n",
      "stream_0_0_q=-0.0\n",
      "bitrate=N/A\n",
      "total_size=N/A\n",
      "out_time_us=389280000\n",
      "out_time_ms=389280000\n",
      "out_time=00:06:29.280000\n",
      "dup_frames=0\n",
      "drop_frames=0\n",
      "speed=2.99x\n",
      "progress=continue\n"
     ]
    },
    {
     "name": "stderr",
     "output_type": "stream",
     "text": [
      "frame= 9779 fps= 75 q=-0.0 size=N/A time=00:06:29.88 bitrate=N/A speed=2.99x    \r"
     ]
    },
    {
     "name": "stdout",
     "output_type": "stream",
     "text": [
      "frame=9779\n",
      "fps=74.94\n",
      "stream_0_0_q=-0.0\n",
      "bitrate=N/A\n",
      "total_size=N/A\n",
      "out_time_us=389880000\n",
      "out_time_ms=389880000\n",
      "out_time=00:06:29.880000\n",
      "dup_frames=0\n",
      "drop_frames=0\n",
      "speed=2.99x\n",
      "progress=continue\n",
      "frame=9814\n",
      "fps=74.92\n",
      "stream_0_0_q=-0.0\n",
      "bitrate=N/A\n",
      "total_size=N/A\n",
      "out_time_us=391280000\n",
      "out_time_ms=391280000\n",
      "out_time=00:06:31.280000\n",
      "dup_frames=0\n",
      "drop_frames=0\n",
      "speed=2.99x\n",
      "progress=continue\n"
     ]
    },
    {
     "name": "stderr",
     "output_type": "stream",
     "text": [
      "frame= 9814 fps= 75 q=-0.0 size=N/A time=00:06:31.28 bitrate=N/A speed=2.99x    \r"
     ]
    },
    {
     "name": "stdout",
     "output_type": "stream",
     "text": [
      "frame=9839\n",
      "fps=74.81\n",
      "stream_0_0_q=-0.0\n",
      "bitrate=N/A\n",
      "total_size=N/A\n",
      "out_time_us=392280000\n",
      "out_time_ms=392280000\n",
      "out_time=00:06:32.280000\n",
      "dup_frames=0\n",
      "drop_frames=0\n",
      "speed=2.98x\n",
      "progress=continue\n"
     ]
    },
    {
     "name": "stderr",
     "output_type": "stream",
     "text": [
      "frame= 9839 fps= 75 q=-0.0 size=N/A time=00:06:32.28 bitrate=N/A speed=2.98x    \r"
     ]
    },
    {
     "name": "stdout",
     "output_type": "stream",
     "text": [
      "frame=9856\n",
      "fps=74.65\n",
      "stream_0_0_q=-0.0\n",
      "bitrate=N/A\n",
      "total_size=N/A\n",
      "out_time_us=392960000\n",
      "out_time_ms=392960000\n",
      "out_time=00:06:32.960000\n",
      "dup_frames=0\n",
      "drop_frames=0\n",
      "speed=2.98x\n",
      "progress=continue\n"
     ]
    },
    {
     "name": "stderr",
     "output_type": "stream",
     "text": [
      "frame= 9856 fps= 75 q=-0.0 size=N/A time=00:06:32.96 bitrate=N/A speed=2.98x    \r"
     ]
    },
    {
     "name": "stdout",
     "output_type": "stream",
     "text": [
      "frame=9874\n",
      "fps=74.50\n",
      "stream_0_0_q=-0.0\n",
      "bitrate=N/A\n",
      "total_size=N/A\n",
      "out_time_us=393680000\n",
      "out_time_ms=393680000\n",
      "out_time=00:06:33.680000\n",
      "dup_frames=0\n",
      "drop_frames=0\n",
      "speed=2.97x\n",
      "progress=continue\n"
     ]
    },
    {
     "name": "stderr",
     "output_type": "stream",
     "text": [
      "frame= 9874 fps= 75 q=-0.0 size=N/A time=00:06:33.68 bitrate=N/A speed=2.97x    \r"
     ]
    },
    {
     "name": "stdout",
     "output_type": "stream",
     "text": [
      "frame=9892\n",
      "fps=74.35\n",
      "stream_0_0_q=-0.0\n",
      "bitrate=N/A\n",
      "total_size=N/A\n",
      "out_time_us=394400000\n",
      "out_time_ms=394400000\n",
      "out_time=00:06:34.400000\n",
      "dup_frames=0\n",
      "drop_frames=0\n",
      "speed=2.96x\n",
      "progress=continue\n"
     ]
    },
    {
     "name": "stderr",
     "output_type": "stream",
     "text": [
      "frame= 9892 fps= 74 q=-0.0 size=N/A time=00:06:34.40 bitrate=N/A speed=2.96x    \r"
     ]
    },
    {
     "name": "stdout",
     "output_type": "stream",
     "text": [
      "frame=9911\n",
      "fps=74.21\n",
      "stream_0_0_q=-0.0\n",
      "bitrate=N/A\n",
      "total_size=N/A\n",
      "out_time_us=395160000\n",
      "out_time_ms=395160000\n",
      "out_time=00:06:35.160000\n",
      "dup_frames=0\n",
      "drop_frames=0\n",
      "speed=2.96x\n",
      "progress=continue\n"
     ]
    },
    {
     "name": "stderr",
     "output_type": "stream",
     "text": [
      "frame= 9911 fps= 74 q=-0.0 size=N/A time=00:06:35.16 bitrate=N/A speed=2.96x    \r"
     ]
    },
    {
     "name": "stdout",
     "output_type": "stream",
     "text": [
      "frame=9934\n",
      "fps=74.10\n",
      "stream_0_0_q=-0.0\n",
      "bitrate=N/A\n",
      "total_size=N/A\n",
      "out_time_us=396080000\n",
      "out_time_ms=396080000\n",
      "out_time=00:06:36.080000\n",
      "dup_frames=0\n",
      "drop_frames=0\n",
      "speed=2.95x\n",
      "progress=continue\n"
     ]
    },
    {
     "name": "stderr",
     "output_type": "stream",
     "text": [
      "frame= 9934 fps= 74 q=-0.0 size=N/A time=00:06:36.08 bitrate=N/A speed=2.95x    \r"
     ]
    },
    {
     "name": "stdout",
     "output_type": "stream",
     "text": [
      "frame=9956\n",
      "fps=73.98\n",
      "stream_0_0_q=-0.0\n",
      "bitrate=N/A\n",
      "total_size=N/A\n",
      "out_time_us=396960000\n",
      "out_time_ms=396960000\n",
      "out_time=00:06:36.960000\n",
      "dup_frames=0\n",
      "drop_frames=0\n",
      "speed=2.95x\n",
      "progress=continue\n"
     ]
    },
    {
     "name": "stderr",
     "output_type": "stream",
     "text": [
      "frame= 9956 fps= 74 q=-0.0 size=N/A time=00:06:36.96 bitrate=N/A speed=2.95x    \r"
     ]
    },
    {
     "name": "stdout",
     "output_type": "stream",
     "text": [
      "frame=9973\n",
      "fps=73.83\n",
      "stream_0_0_q=-0.0\n",
      "bitrate=N/A\n",
      "total_size=N/A\n",
      "out_time_us=397640000\n",
      "out_time_ms=397640000\n",
      "out_time=00:06:37.640000\n",
      "dup_frames=0\n",
      "drop_frames=0\n",
      "speed=2.94x\n",
      "progress=continue\n"
     ]
    },
    {
     "name": "stderr",
     "output_type": "stream",
     "text": [
      "frame= 9973 fps= 74 q=-0.0 size=N/A time=00:06:37.64 bitrate=N/A speed=2.94x    \r"
     ]
    },
    {
     "name": "stdout",
     "output_type": "stream",
     "text": [
      "frame=9998\n",
      "fps=73.67\n",
      "stream_0_0_q=-0.0\n",
      "bitrate=N/A\n",
      "total_size=N/A\n",
      "out_time_us=398640000\n",
      "out_time_ms=398640000\n",
      "out_time=00:06:38.640000\n",
      "dup_frames=0\n",
      "drop_frames=0\n",
      "speed=2.94x\n",
      "progress=continue\n"
     ]
    },
    {
     "name": "stderr",
     "output_type": "stream",
     "text": [
      "frame= 9998 fps= 74 q=-0.0 size=N/A time=00:06:38.64 bitrate=N/A speed=2.94x    \r"
     ]
    },
    {
     "name": "stdout",
     "output_type": "stream",
     "text": [
      "frame=10023\n",
      "fps=73.57\n",
      "stream_0_0_q=-0.0\n",
      "bitrate=N/A\n",
      "total_size=N/A\n",
      "out_time_us=399640000\n",
      "out_time_ms=399640000\n",
      "out_time=00:06:39.640000\n",
      "dup_frames=0\n",
      "drop_frames=0\n",
      "speed=2.93x\n",
      "progress=continue\n"
     ]
    },
    {
     "name": "stderr",
     "output_type": "stream",
     "text": [
      "frame=10023 fps= 74 q=-0.0 size=N/A time=00:06:39.64 bitrate=N/A speed=2.93x    \r"
     ]
    },
    {
     "name": "stdout",
     "output_type": "stream",
     "text": [
      "frame=10037\n",
      "fps=73.40\n",
      "stream_0_0_q=-0.0\n",
      "bitrate=N/A\n",
      "total_size=N/A\n",
      "out_time_us=400200000\n",
      "out_time_ms=400200000\n",
      "out_time=00:06:40.200000\n",
      "dup_frames=0\n",
      "drop_frames=0\n",
      "speed=2.93x\n",
      "progress=continue\n"
     ]
    },
    {
     "name": "stderr",
     "output_type": "stream",
     "text": [
      "frame=10037 fps= 73 q=-0.0 size=N/A time=00:06:40.20 bitrate=N/A speed=2.93x    \r"
     ]
    },
    {
     "name": "stdout",
     "output_type": "stream",
     "text": [
      "frame=10050\n",
      "fps=73.14\n",
      "stream_0_0_q=-0.0\n",
      "bitrate=N/A\n",
      "total_size=N/A\n",
      "out_time_us=400720000\n",
      "out_time_ms=400720000\n",
      "out_time=00:06:40.720000\n",
      "dup_frames=0\n",
      "drop_frames=0\n",
      "speed=2.92x\n",
      "progress=continue\n"
     ]
    },
    {
     "name": "stderr",
     "output_type": "stream",
     "text": [
      "frame=10072 fps= 73 q=-0.0 size=N/A time=00:06:41.60 bitrate=N/A speed=2.91x    \r"
     ]
    },
    {
     "name": "stdout",
     "output_type": "stream",
     "text": [
      "frame=10072\n",
      "fps=73.03\n",
      "stream_0_0_q=-0.0\n",
      "bitrate=N/A\n",
      "total_size=N/A\n",
      "out_time_us=401600000\n",
      "out_time_ms=401600000\n",
      "out_time=00:06:41.600000\n",
      "dup_frames=0\n",
      "drop_frames=0\n",
      "speed=2.91x\n",
      "progress=continue\n"
     ]
    },
    {
     "name": "stderr",
     "output_type": "stream",
     "text": [
      "frame=10126 fps= 73 q=-0.0 size=N/A time=00:06:43.76 bitrate=N/A speed=2.92x    \r"
     ]
    },
    {
     "name": "stdout",
     "output_type": "stream",
     "text": [
      "frame=10126\n",
      "fps=73.15\n",
      "stream_0_0_q=-0.0\n",
      "bitrate=N/A\n",
      "total_size=N/A\n",
      "out_time_us=403760000\n",
      "out_time_ms=403760000\n",
      "out_time=00:06:43.760000\n",
      "dup_frames=0\n",
      "drop_frames=0\n",
      "speed=2.92x\n",
      "progress=continue\n"
     ]
    },
    {
     "name": "stderr",
     "output_type": "stream",
     "text": [
      "frame=10155 fps= 73 q=-0.0 size=N/A time=00:06:44.92 bitrate=N/A speed=2.91x    \r"
     ]
    },
    {
     "name": "stdout",
     "output_type": "stream",
     "text": [
      "frame=10155\n",
      "fps=73.10\n",
      "stream_0_0_q=-0.0\n",
      "bitrate=N/A\n",
      "total_size=N/A\n",
      "out_time_us=404920000\n",
      "out_time_ms=404920000\n",
      "out_time=00:06:44.920000\n",
      "dup_frames=0\n",
      "drop_frames=0\n",
      "speed=2.91x\n",
      "progress=continue\n"
     ]
    },
    {
     "name": "stderr",
     "output_type": "stream",
     "text": [
      "frame=10175 fps= 73 q=-0.0 size=N/A time=00:06:45.72 bitrate=N/A speed=2.91x    \r"
     ]
    },
    {
     "name": "stdout",
     "output_type": "stream",
     "text": [
      "frame=10175\n",
      "fps=72.97\n",
      "stream_0_0_q=-0.0\n",
      "bitrate=N/A\n",
      "total_size=N/A\n",
      "out_time_us=405720000\n",
      "out_time_ms=405720000\n",
      "out_time=00:06:45.720000\n",
      "dup_frames=0\n",
      "drop_frames=0\n",
      "speed=2.91x\n",
      "progress=continue\n",
      "frame=10175\n",
      "fps=72.50\n",
      "stream_0_0_q=-0.0\n",
      "bitrate=N/A\n",
      "total_size=N/A\n",
      "out_time_us=407000000\n",
      "out_time_ms=407000000\n",
      "out_time=00:06:47.000000\n",
      "dup_frames=0\n",
      "drop_frames=0\n",
      "speed= 2.9x\n",
      "progress=end\n"
     ]
    },
    {
     "name": "stderr",
     "output_type": "stream",
     "text": [
      "frame=10175 fps= 72 q=-0.0 Lsize=N/A time=00:06:47.00 bitrate=N/A speed= 2.9x    \n",
      "video:18851864kB audio:0kB subtitle:0kB other streams:0kB global headers:0kB muxing overhead: unknown\n"
     ]
    }
   ],
   "source": [
    "# Define start and end times for cropping\n",
    "# Sample 21: 0 - 182 seconds, in total, 4419 images (initial several layers are missing in the sony videos)\n",
    "# Sample 22: 0 - 179 seconds, in total \n",
    "# Sample 23: 0 - 6 min 47 seconds = 407\n",
    "\n",
    "# Sample 26: 0 - 6 min 43 seconds = 403\n",
    "start_time = 0  # Start time in seconds \n",
    "end_time = 407   # End time in seconds\n",
    "\n",
    "# Crop the video and save frames at 25 Hz\n",
    "# crop_video_and_save_frames(raw_video_file, image_output_folder, start_time, end_time, sample_index, target_fps=25)\n",
    "\n",
    "crop_video_and_save_frames_ffmpeg(raw_video_file, image_output_folder, start_time, end_time, sample_index, target_fps=25)"
   ]
  },
  {
   "cell_type": "markdown",
   "id": "f4fb235a-a798-4765-bef0-7ee2dc703b89",
   "metadata": {},
   "source": [
    "## Fix the index to match with the coaxial image stream."
   ]
  },
  {
   "cell_type": "code",
   "execution_count": 30,
   "id": "daa780bc-5ea2-410b-908a-99c635273750",
   "metadata": {},
   "outputs": [
    {
     "name": "stderr",
     "output_type": "stream",
     "text": [
      "Renaming images: 100%|███████████████████████████████████████████████████████████████████████| 10175/10175 [02:56<00:00, 57.68it/s]\n"
     ]
    }
   ],
   "source": [
    "import os\n",
    "\n",
    "# Calculate the index offset\n",
    "index_offset = 11155 - 10103\n",
    "# Sample 21: offset is 5030 (coaxial) - 4430\n",
    "# Sample 22: offset is 4623 (coaxial) - 4469\n",
    "# Sample 23: offset is 11154 (coaxial) - 10090\n",
    "\n",
    "# Sample 26: offset is 10749 (coaxial) - 10010\n",
    "\n",
    "# Get all PNG files in the directory\n",
    "image_files = [f for f in os.listdir(image_output_folder) if f.endswith(\".png\")]\n",
    "\n",
    "# Loop through all files in the directory with a progress bar\n",
    "for filename in tqdm(image_files, desc=\"Renaming images\"):\n",
    "    # the format 'sample_<sample_index>_<current_index>.png'\n",
    "    parts = filename.split('_')\n",
    "    if len(parts) == 3:\n",
    "        current_index_part = parts[2].split('.')[0]  # This gets the numeric part of '<current_index>.png'\n",
    "        try:\n",
    "            current_index = int(current_index_part)\n",
    "            # Calculate the new index\n",
    "            new_index = current_index + index_offset\n",
    "            # Generate the new filename\n",
    "            new_filename = f'sample_{sample_index}_{new_index}.png'\n",
    "            # Full path for current and new file names\n",
    "            current_file_path = os.path.join(image_output_folder, filename)\n",
    "            new_file_path = os.path.join(sony_camera_image_folder, new_filename)\n",
    "            # Copy the file to the new folder with the new name\n",
    "            shutil.copy2(current_file_path, new_file_path)\n",
    "        except ValueError:\n",
    "            # In case the filename format is unexpected and doesn't contain an index\n",
    "            continue  # Skip files that do not match the expected format"
   ]
  }
 ],
 "metadata": {
  "kernelspec": {
   "display_name": "Python 3 (ipykernel)",
   "language": "python",
   "name": "python3"
  },
  "language_info": {
   "codemirror_mode": {
    "name": "ipython",
    "version": 3
   },
   "file_extension": ".py",
   "mimetype": "text/x-python",
   "name": "python",
   "nbconvert_exporter": "python",
   "pygments_lexer": "ipython3",
   "version": "3.9.16"
  }
 },
 "nbformat": 4,
 "nbformat_minor": 5
}
