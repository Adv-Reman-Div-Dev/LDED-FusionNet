{
 "cells": [
  {
   "cell_type": "markdown",
   "id": "8c503e06-1452-4c91-a1c8-a2bd6ab702a5",
   "metadata": {},
   "source": [
    "# Sony Video Camera Data: Segmentation, Image Extraction, and Preparation"
   ]
  },
  {
   "cell_type": "code",
   "execution_count": 4,
   "id": "8367db36-7182-43e3-a55f-3e10b6dd657e",
   "metadata": {},
   "outputs": [],
   "source": [
    "## Required python libraries\n",
    "import pandas as pd\n",
    "import numpy as np\n",
    "import scipy as sp\n",
    "import scipy.signal\n",
    "import os\n",
    "import math\n",
    "import sys\n",
    "import shutil\n",
    "from scipy.interpolate import griddata\n",
    "import subprocess\n",
    "# to make this notebook's output stable across runs\n",
    "np.random.seed(42)\n",
    "\n",
    "pd.plotting.register_matplotlib_converters()\n",
    "\n",
    "\n",
    "import matplotlib as mpl\n",
    "import matplotlib.pyplot as plt\n",
    "mpl.rc('axes', labelsize=14)\n",
    "mpl.rc('xtick', labelsize=12)\n",
    "mpl.rc('ytick', labelsize=12)\n",
    "%matplotlib inline\n",
    "import seaborn as sns\n",
    "import librosa\n",
    "import matplotlib.font_manager as font_manager\n",
    "\n",
    "#---------------opencv------------------------\n",
    "import cv2\n",
    "from IPython.display import Image, display\n",
    "from tqdm.notebook import tqdm"
   ]
  },
  {
   "cell_type": "code",
   "execution_count": 5,
   "id": "202a2092-019f-4508-a597-bd0e900d0cb2",
   "metadata": {
    "scrolled": true
   },
   "outputs": [],
   "source": [
    "from moviepy.editor import VideoFileClip\n",
    "import imageio_ffmpeg as ffmpeg"
   ]
  },
  {
   "cell_type": "code",
   "execution_count": 6,
   "id": "cd6f3959-4f7a-41a6-9a87-56e3c71b2dad",
   "metadata": {},
   "outputs": [],
   "source": [
    "# Where to save the figures, and dataset locations\n",
    "PROJECT_ROOT_DIR = \"../\"\n",
    "\n",
    "Multimodal_dataset_PATH = \"/home/chenlequn/pan1/Dataset/LDED_acoustic_visual_monitoring_dataset\"\n",
    "\n",
    "Video_path = os.path.join(Multimodal_dataset_PATH, f'Sony Camera')\n",
    "IMAGE_PATH = os.path.join(PROJECT_ROOT_DIR, \"result_images\", 'Sony-Camera-Image')\n",
    "\n",
    "os.makedirs(IMAGE_PATH, exist_ok=True)\n",
    "\n",
    "## function for automatically save the diagram/graph into the folder \n",
    "def save_fig(fig_id, tight_layout=True, fig_extension=\"png\", resolution=300):\n",
    "    path = os.path.join(IMAGE_PATH, fig_id + \".\" + fig_extension)\n",
    "    print(\"Saving figure\", fig_id)\n",
    "    if tight_layout:\n",
    "        plt.tight_layout()\n",
    "    plt.savefig(path, format=fig_extension, dpi=resolution)\n",
    "\n",
    "# Ignore useless warnings (see SciPy issue #5998)\n",
    "import warnings\n",
    "warnings.filterwarnings(action=\"ignore\", message=\"^internal gelsd\")"
   ]
  },
  {
   "cell_type": "code",
   "execution_count": 7,
   "id": "38527505-f127-4574-8e91-a6be4a72d748",
   "metadata": {},
   "outputs": [],
   "source": [
    "# Define function to save figures\n",
    "def save_frames(frame, sample_index, counter, image_output_folder, fig_extension=\"png\"):\n",
    "    filename = f'sample_{sample_index}_{counter}.{fig_extension}'\n",
    "    path = os.path.join(image_output_folder, filename)\n",
    "    # print(\"Saving frame\", filename)\n",
    "    cv2.imwrite(path, frame)\n",
    "    # cv2.imwrite(path, frame, [int(cv2.IMWRITE_JPEG_QUALITY), 100])\n",
    "\n",
    "\n",
    "# Function to display video information\n",
    "def display_video_info(video_path):\n",
    "    cap = cv2.VideoCapture(video_path)\n",
    "    if not cap.isOpened():\n",
    "        print(\"Error: Could not open video.\")\n",
    "        return\n",
    "\n",
    "    fps = cap.get(cv2.CAP_PROP_FPS)\n",
    "    total_frames = int(cap.get(cv2.CAP_PROP_FRAME_COUNT))\n",
    "    total_duration = total_frames / fps\n",
    "    # Convert total duration to minutes and seconds\n",
    "    total_duration_min = int(total_duration // 60)\n",
    "    total_duration_sec = int(total_duration % 60)\n",
    "\n",
    "    print(f\"Video FPS: {fps}\")\n",
    "    print(f\"Total Frames: {total_frames}\")\n",
    "    print(f\"Total Duration (seconds): {total_duration}\")\n",
    "    print(f\"Total Duration: {total_duration_min} min {total_duration_sec} seconds\")\n",
    "\n",
    "\n",
    "    cap.release()\n",
    "\n",
    "# Function to crop video by time and save frames\n",
    "def crop_video_and_save_frames(video_path, image_output_folder, start_time, end_time, sample_index, target_fps=25):\n",
    "    cap = cv2.VideoCapture(video_path)\n",
    "    if not cap.isOpened():\n",
    "        print(\"Error: Could not open video.\")\n",
    "        return\n",
    "    \n",
    "    fps = cap.get(cv2.CAP_PROP_FPS)\n",
    "    start_frame = int(start_time * fps)\n",
    "    end_frame = int(end_time * fps)\n",
    "    frame_interval = int(fps / target_fps)\n",
    "    \n",
    "    # Calculate total frames to process and initialize tqdm\n",
    "    total_frames_to_process = (end_frame - start_frame) // frame_interval\n",
    "    pbar = tqdm(total=total_frames_to_process, desc=\"Processing frames\")\n",
    "    \n",
    "    counter = 1  # Initialize frame counter\n",
    "    cap.set(cv2.CAP_PROP_POS_FRAMES, start_frame)\n",
    "    \n",
    "    while True:\n",
    "        ret, frame = cap.read()\n",
    "        if not ret or cap.get(cv2.CAP_PROP_POS_FRAMES) > end_frame:\n",
    "            break  # Stop if the end of the segment is reached or on read error\n",
    "        \n",
    "        if (counter - 1) % frame_interval == 0:\n",
    "            save_frames(frame, sample_index, counter, image_output_folder)\n",
    "            pbar.update(1)\n",
    "        \n",
    "        counter += 1\n",
    "\n",
    "    pbar.close()\n",
    "    cap.release()\n",
    "\n",
    "\n",
    "def format_time(seconds):\n",
    "    \"\"\"Converts time in seconds to HH:MM:SS format.\"\"\"\n",
    "    hours, remainder = divmod(seconds, 3600)\n",
    "    minutes, seconds = divmod(remainder, 60)\n",
    "    return f\"{int(hours):02}:{int(minutes):02}:{int(seconds):02}\"\n",
    "\n",
    "def crop_video_and_save_frames_ffmpeg(video_path, image_output_folder, start_time, end_time, sample_index, target_fps=25):\n",
    "    # Convert start_time and end_time to HH:MM:SS format\n",
    "    start_timestamp = format_time(start_time)\n",
    "    duration = end_time - start_time\n",
    "    duration_timestamp = format_time(duration)\n",
    "    total_frames = int(duration * target_fps)\n",
    "\n",
    "    # Ensure output folder exists\n",
    "    if not os.path.exists(image_output_folder):\n",
    "        os.makedirs(image_output_folder)\n",
    "\n",
    "    # Output pattern for frames\n",
    "    output_pattern = os.path.join(image_output_folder, f\"sample_{sample_index}_%d.png\")\n",
    "\n",
    "    # Build the FFmpeg command\n",
    "    command = [\n",
    "        'ffmpeg',\n",
    "        '-ss', start_timestamp,                 # Start time\n",
    "        '-t', duration_timestamp,               # Duration to process\n",
    "        '-i', video_path,                       # Input file path\n",
    "        '-vf', f'yadif,fps={target_fps}',       # Video filters\n",
    "        '-q:v', '1',                            # Output quality (lower is better)\n",
    "        '-start_number', '1',                   # Start numbering frames at 0\n",
    "        '-progress', 'pipe:1',                  # Output progress to pipe\n",
    "        output_pattern\n",
    "    ]\n",
    "\n",
    "    # Start the FFmpeg process and include a progress bar\n",
    "    subprocess.run(command, check=True)"
   ]
  },
  {
   "cell_type": "markdown",
   "id": "9134d9da-16ca-4d24-8cd2-04f99e4c4a9f",
   "metadata": {},
   "source": [
    "## Segment MTS video file into Images"
   ]
  },
  {
   "cell_type": "code",
   "execution_count": 51,
   "id": "65f578ba-b900-4fd6-834b-d47ae3cadb8f",
   "metadata": {},
   "outputs": [
    {
     "name": "stdout",
     "output_type": "stream",
     "text": [
      "Video FPS: 25.0\n",
      "Total Frames: 21086\n",
      "Total Duration (seconds): 843.44\n",
      "Total Duration: 14 min 3 seconds\n"
     ]
    }
   ],
   "source": [
    "sample_index = 24\n",
    "\n",
    "# ----------------Define input video file path---------------\n",
    "raw_video_file = os.path.join(Video_path, f'{sample_index}.MTS') \n",
    "\n",
    "# Output folders\n",
    "image_output_folder = os.path.join(Multimodal_dataset_PATH, '25Hz',str(sample_index), 'sony-images')\n",
    "sony_camera_image_folder = os.path.join(Multimodal_dataset_PATH, '25Hz',str(sample_index), 'sony_camera_images')\n",
    "\n",
    "# Create output folders if they don't exist\n",
    "if not os.path.exists(image_output_folder):\n",
    "    os.makedirs(image_output_folder)\n",
    "\n",
    "# Create output folders if they don't exist\n",
    "if not os.path.exists(sony_camera_image_folder):\n",
    "    os.makedirs(sony_camera_image_folder)\n",
    "\n",
    "# Display video information\n",
    "display_video_info(raw_video_file)"
   ]
  },
  {
   "cell_type": "code",
   "execution_count": 18,
   "id": "518c875d-ec0a-48b1-8c05-11c0ad55d385",
   "metadata": {
    "scrolled": true
   },
   "outputs": [
    {
     "name": "stderr",
     "output_type": "stream",
     "text": [
      "ffmpeg version 4.2.2 Copyright (c) 2000-2019 the FFmpeg developers\n",
      "  built with gcc 7.3.0 (crosstool-NG 1.23.0.449-a04d0)\n",
      "  configuration: --prefix=/tmp/build/80754af9/ffmpeg_1587154242452/_h_env_placehold_placehold_placehold_placehold_placehold_placehold_placehold_placehold_placehold_placehold_placehold_placehold_placehold_placehold_placehold_placehold_placehold_placehold_placehold_placehold_placeho --cc=/tmp/build/80754af9/ffmpeg_1587154242452/_build_env/bin/x86_64-conda_cos6-linux-gnu-cc --disable-doc --enable-avresample --enable-gmp --enable-hardcoded-tables --enable-libfreetype --enable-libvpx --enable-pthreads --enable-libopus --enable-postproc --enable-pic --enable-pthreads --enable-shared --enable-static --enable-version3 --enable-zlib --enable-libmp3lame --disable-nonfree --enable-gpl --enable-gnutls --disable-openssl --enable-libopenh264 --enable-libx264\n",
      "  libavutil      56. 31.100 / 56. 31.100\n",
      "  libavcodec     58. 54.100 / 58. 54.100\n",
      "  libavformat    58. 29.100 / 58. 29.100\n",
      "  libavdevice    58.  8.100 / 58.  8.100\n",
      "  libavfilter     7. 57.100 /  7. 57.100\n",
      "  libavresample   4.  0.  0 /  4.  0.  0\n",
      "  libswscale      5.  5.100 /  5.  5.100\n",
      "  libswresample   3.  5.100 /  3.  5.100\n",
      "  libpostproc    55.  5.100 / 55.  5.100\n",
      "Input #0, mpegts, from '/home/chenlequn/pan1/Dataset/LDED_acoustic_visual_monitoring_dataset/Sony Camera/24.MTS':\n",
      "  Duration: 00:14:03.46, start: 1.040000, bitrate: 16449 kb/s\n",
      "  Program 1 \n",
      "    Stream #0:0[0x1011]: Video: h264 (High) (HDMV / 0x564D4448), yuv420p(top first), 1920x1080 [SAR 1:1 DAR 16:9], 25 fps, 50 tbr, 90k tbn, 50 tbc\n",
      "    Stream #0:1[0x1100]: Audio: ac3 (AC-3 / 0x332D4341), 48000 Hz, stereo, fltp, 256 kb/s\n",
      "    Stream #0:2[0x1200]: Subtitle: hdmv_pgs_subtitle ([144][0][0][0] / 0x0090), 1920x1080\n",
      "Stream mapping:\n",
      "  Stream #0:0 -> #0:0 (h264 (native) -> png (native))\n",
      "Press [q] to stop, [?] for help\n",
      "Output #0, image2, to '/home/chenlequn/pan1/Dataset/LDED_acoustic_visual_monitoring_dataset/25Hz/24/sony-images/sample_24_%d.png':\n",
      "  Metadata:\n",
      "    encoder         : Lavf58.29.100\n",
      "    Stream #0:0: Video: png, rgb24, 1920x1080 [SAR 1:1 DAR 16:9], q=2-31, 200 kb/s, 25 fps, 25 tbn, 25 tbc\n",
      "    Metadata:\n",
      "      encoder         : Lavc58.54.100 png\n",
      "frame=   73 fps=0.0 q=-0.0 size=N/A time=00:00:01.64 bitrate=N/A speed=3.26x    \r"
     ]
    },
    {
     "name": "stdout",
     "output_type": "stream",
     "text": [
      "frame=73\n",
      "fps=0.00\n",
      "stream_0_0_q=-0.0\n",
      "bitrate=N/A\n",
      "total_size=N/A\n",
      "out_time_us=1640000\n",
      "out_time_ms=1640000\n",
      "out_time=00:00:01.640000\n",
      "dup_frames=0\n",
      "drop_frames=0\n",
      "speed=3.26x\n",
      "progress=continue\n"
     ]
    },
    {
     "name": "stderr",
     "output_type": "stream",
     "text": [
      "frame=  147 fps=146 q=-0.0 size=N/A time=00:00:04.60 bitrate=N/A speed=4.56x    \r"
     ]
    },
    {
     "name": "stdout",
     "output_type": "stream",
     "text": [
      "frame=147\n",
      "fps=145.59\n",
      "stream_0_0_q=-0.0\n",
      "bitrate=N/A\n",
      "total_size=N/A\n",
      "out_time_us=4600000\n",
      "out_time_ms=4600000\n",
      "out_time=00:00:04.600000\n",
      "dup_frames=0\n",
      "drop_frames=0\n",
      "speed=4.56x\n",
      "progress=continue\n"
     ]
    },
    {
     "name": "stderr",
     "output_type": "stream",
     "text": [
      "frame=  216 fps=142 q=-0.0 size=N/A time=00:00:07.36 bitrate=N/A speed=4.85x    \r"
     ]
    },
    {
     "name": "stdout",
     "output_type": "stream",
     "text": [
      "frame=216\n",
      "fps=142.33\n",
      "stream_0_0_q=-0.0\n",
      "bitrate=N/A\n",
      "total_size=N/A\n",
      "out_time_us=7360000\n",
      "out_time_ms=7360000\n",
      "out_time=00:00:07.360000\n",
      "dup_frames=0\n",
      "drop_frames=0\n",
      "speed=4.85x\n",
      "progress=continue\n"
     ]
    },
    {
     "name": "stderr",
     "output_type": "stream",
     "text": [
      "frame=  288 fps=142 q=-0.0 size=N/A time=00:00:10.24 bitrate=N/A speed=5.06x    \r"
     ]
    },
    {
     "name": "stdout",
     "output_type": "stream",
     "text": [
      "frame=288\n",
      "fps=142.33\n",
      "stream_0_0_q=-0.0\n",
      "bitrate=N/A\n",
      "total_size=N/A\n",
      "out_time_us=10240000\n",
      "out_time_ms=10240000\n",
      "out_time=00:00:10.240000\n",
      "dup_frames=0\n",
      "drop_frames=0\n",
      "speed=5.06x\n",
      "progress=continue\n"
     ]
    },
    {
     "name": "stderr",
     "output_type": "stream",
     "text": [
      "frame=  357 fps=141 q=-0.0 size=N/A time=00:00:13.00 bitrate=N/A speed=5.14x    \r"
     ]
    },
    {
     "name": "stdout",
     "output_type": "stream",
     "text": [
      "frame=357\n",
      "fps=141.16\n",
      "stream_0_0_q=-0.0\n",
      "bitrate=N/A\n",
      "total_size=N/A\n",
      "out_time_us=13000000\n",
      "out_time_ms=13000000\n",
      "out_time=00:00:13.000000\n",
      "dup_frames=0\n",
      "drop_frames=0\n",
      "speed=5.14x\n",
      "progress=continue\n"
     ]
    },
    {
     "name": "stderr",
     "output_type": "stream",
     "text": [
      "frame=  429 fps=142 q=-0.0 size=N/A time=00:00:15.88 bitrate=N/A speed=5.24x    \r"
     ]
    },
    {
     "name": "stdout",
     "output_type": "stream",
     "text": [
      "frame=429\n",
      "fps=141.51\n",
      "stream_0_0_q=-0.0\n",
      "bitrate=N/A\n",
      "total_size=N/A\n",
      "out_time_us=15880000\n",
      "out_time_ms=15880000\n",
      "out_time=00:00:15.880000\n",
      "dup_frames=0\n",
      "drop_frames=0\n",
      "speed=5.24x\n",
      "progress=continue\n"
     ]
    },
    {
     "name": "stderr",
     "output_type": "stream",
     "text": [
      "frame=  500 fps=141 q=-0.0 size=N/A time=00:00:18.72 bitrate=N/A speed= 5.3x    \r"
     ]
    },
    {
     "name": "stdout",
     "output_type": "stream",
     "text": [
      "frame=500\n",
      "fps=141.50\n",
      "stream_0_0_q=-0.0\n",
      "bitrate=N/A\n",
      "total_size=N/A\n",
      "out_time_us=18720000\n",
      "out_time_ms=18720000\n",
      "out_time=00:00:18.720000\n",
      "dup_frames=0\n",
      "drop_frames=0\n",
      "speed= 5.3x\n",
      "progress=continue\n"
     ]
    },
    {
     "name": "stderr",
     "output_type": "stream",
     "text": [
      "frame=  568 fps=141 q=-0.0 size=N/A time=00:00:21.44 bitrate=N/A speed=5.32x    \r"
     ]
    },
    {
     "name": "stdout",
     "output_type": "stream",
     "text": [
      "frame=568\n",
      "fps=140.81\n",
      "stream_0_0_q=-0.0\n",
      "bitrate=N/A\n",
      "total_size=N/A\n",
      "out_time_us=21440000\n",
      "out_time_ms=21440000\n",
      "out_time=00:00:21.440000\n",
      "dup_frames=0\n",
      "drop_frames=0\n",
      "speed=5.32x\n",
      "progress=continue\n"
     ]
    },
    {
     "name": "stderr",
     "output_type": "stream",
     "text": [
      "frame=  640 fps=141 q=-0.0 size=N/A time=00:00:24.32 bitrate=N/A speed=5.36x    \r"
     ]
    },
    {
     "name": "stdout",
     "output_type": "stream",
     "text": [
      "frame=640\n",
      "fps=141.07\n",
      "stream_0_0_q=-0.0\n",
      "bitrate=N/A\n",
      "total_size=N/A\n",
      "out_time_us=24320000\n",
      "out_time_ms=24320000\n",
      "out_time=00:00:24.320000\n",
      "dup_frames=0\n",
      "drop_frames=0\n",
      "speed=5.36x\n",
      "progress=continue\n"
     ]
    },
    {
     "name": "stderr",
     "output_type": "stream",
     "text": [
      "frame=  709 fps=141 q=-0.0 size=N/A time=00:00:27.08 bitrate=N/A speed=5.37x    \r"
     ]
    },
    {
     "name": "stdout",
     "output_type": "stream",
     "text": [
      "frame=709\n",
      "fps=140.64\n",
      "stream_0_0_q=-0.0\n",
      "bitrate=N/A\n",
      "total_size=N/A\n",
      "out_time_us=27080000\n",
      "out_time_ms=27080000\n",
      "out_time=00:00:27.080000\n",
      "dup_frames=0\n",
      "drop_frames=0\n",
      "speed=5.37x\n",
      "progress=continue\n"
     ]
    },
    {
     "name": "stderr",
     "output_type": "stream",
     "text": [
      "frame=  778 fps=140 q=-0.0 size=N/A time=00:00:29.84 bitrate=N/A speed=5.38x    \r"
     ]
    },
    {
     "name": "stdout",
     "output_type": "stream",
     "text": [
      "frame=778\n",
      "fps=140.36\n",
      "stream_0_0_q=-0.0\n",
      "bitrate=N/A\n",
      "total_size=N/A\n",
      "out_time_us=29840000\n",
      "out_time_ms=29840000\n",
      "out_time=00:00:29.840000\n",
      "dup_frames=0\n",
      "drop_frames=0\n",
      "speed=5.38x\n",
      "progress=continue\n"
     ]
    },
    {
     "name": "stderr",
     "output_type": "stream",
     "text": [
      "frame=  850 fps=141 q=-0.0 size=N/A time=00:00:32.72 bitrate=N/A speed=5.41x    \r"
     ]
    },
    {
     "name": "stdout",
     "output_type": "stream",
     "text": [
      "frame=850\n",
      "fps=140.55\n",
      "stream_0_0_q=-0.0\n",
      "bitrate=N/A\n",
      "total_size=N/A\n",
      "out_time_us=32720000\n",
      "out_time_ms=32720000\n",
      "out_time=00:00:32.720000\n",
      "dup_frames=0\n",
      "drop_frames=0\n",
      "speed=5.41x\n",
      "progress=continue\n"
     ]
    },
    {
     "name": "stderr",
     "output_type": "stream",
     "text": [
      "frame=  919 fps=140 q=-0.0 size=N/A time=00:00:35.48 bitrate=N/A speed=5.41x    \r"
     ]
    },
    {
     "name": "stdout",
     "output_type": "stream",
     "text": [
      "frame=919\n",
      "fps=140.22\n",
      "stream_0_0_q=-0.0\n",
      "bitrate=N/A\n",
      "total_size=N/A\n",
      "out_time_us=35480000\n",
      "out_time_ms=35480000\n",
      "out_time=00:00:35.480000\n",
      "dup_frames=0\n",
      "drop_frames=0\n",
      "speed=5.41x\n",
      "progress=continue\n"
     ]
    },
    {
     "name": "stderr",
     "output_type": "stream",
     "text": [
      "frame=  977 fps=138 q=-0.0 size=N/A time=00:00:37.80 bitrate=N/A speed=5.36x    \r"
     ]
    },
    {
     "name": "stdout",
     "output_type": "stream",
     "text": [
      "frame=977\n",
      "fps=138.46\n",
      "stream_0_0_q=-0.0\n",
      "bitrate=N/A\n",
      "total_size=N/A\n",
      "out_time_us=37800000\n",
      "out_time_ms=37800000\n",
      "out_time=00:00:37.800000\n",
      "dup_frames=0\n",
      "drop_frames=0\n",
      "speed=5.36x\n",
      "progress=continue\n"
     ]
    },
    {
     "name": "stderr",
     "output_type": "stream",
     "text": [
      "frame= 1033 fps=137 q=-0.0 size=N/A time=00:00:40.04 bitrate=N/A speed= 5.3x    \r"
     ]
    },
    {
     "name": "stdout",
     "output_type": "stream",
     "text": [
      "frame=1033\n",
      "fps=136.65\n",
      "stream_0_0_q=-0.0\n",
      "bitrate=N/A\n",
      "total_size=N/A\n",
      "out_time_us=40040000\n",
      "out_time_ms=40040000\n",
      "out_time=00:00:40.040000\n",
      "dup_frames=0\n",
      "drop_frames=0\n",
      "speed= 5.3x\n",
      "progress=continue\n"
     ]
    },
    {
     "name": "stderr",
     "output_type": "stream",
     "text": [
      "frame= 1093 fps=136 q=-0.0 size=N/A time=00:00:42.44 bitrate=N/A speed=5.26x    \r"
     ]
    },
    {
     "name": "stdout",
     "output_type": "stream",
     "text": [
      "frame=1093\n",
      "fps=135.58\n",
      "stream_0_0_q=-0.0\n",
      "bitrate=N/A\n",
      "total_size=N/A\n",
      "out_time_us=42440000\n",
      "out_time_ms=42440000\n",
      "out_time=00:00:42.440000\n",
      "dup_frames=0\n",
      "drop_frames=0\n",
      "speed=5.26x\n",
      "progress=continue\n"
     ]
    },
    {
     "name": "stderr",
     "output_type": "stream",
     "text": [
      "frame= 1163 fps=136 q=-0.0 size=N/A time=00:00:45.24 bitrate=N/A speed=5.28x    \r"
     ]
    },
    {
     "name": "stdout",
     "output_type": "stream",
     "text": [
      "frame=1163\n",
      "fps=135.79\n",
      "stream_0_0_q=-0.0\n",
      "bitrate=N/A\n",
      "total_size=N/A\n",
      "out_time_us=45240000\n",
      "out_time_ms=45240000\n",
      "out_time=00:00:45.240000\n",
      "dup_frames=0\n",
      "drop_frames=0\n",
      "speed=5.28x\n",
      "progress=continue\n"
     ]
    },
    {
     "name": "stderr",
     "output_type": "stream",
     "text": [
      "frame= 1227 fps=135 q=-0.0 size=N/A time=00:00:47.80 bitrate=N/A speed=5.27x    \r"
     ]
    },
    {
     "name": "stdout",
     "output_type": "stream",
     "text": [
      "frame=1227\n",
      "fps=135.35\n",
      "stream_0_0_q=-0.0\n",
      "bitrate=N/A\n",
      "total_size=N/A\n",
      "out_time_us=47800000\n",
      "out_time_ms=47800000\n",
      "out_time=00:00:47.800000\n",
      "dup_frames=0\n",
      "drop_frames=0\n",
      "speed=5.27x\n",
      "progress=continue\n"
     ]
    },
    {
     "name": "stderr",
     "output_type": "stream",
     "text": [
      "frame= 1275 fps=131 q=-0.0 size=N/A time=00:00:49.72 bitrate=N/A speed=5.11x    \r"
     ]
    },
    {
     "name": "stdout",
     "output_type": "stream",
     "text": [
      "frame=1275\n",
      "fps=131.04\n",
      "stream_0_0_q=-0.0\n",
      "bitrate=N/A\n",
      "total_size=N/A\n",
      "out_time_us=49720000\n",
      "out_time_ms=49720000\n",
      "out_time=00:00:49.720000\n",
      "dup_frames=0\n",
      "drop_frames=0\n",
      "speed=5.11x\n",
      "progress=continue\n",
      "frame=1301\n",
      "fps=127.12\n",
      "stream_0_0_q=-0.0\n",
      "bitrate=N/A\n",
      "total_size=N/A\n",
      "out_time_us=50760000\n",
      "out_time_ms=50760000\n",
      "out_time=00:00:50.760000\n",
      "dup_frames=0\n",
      "drop_frames=0\n",
      "speed=4.96x\n",
      "progress=continue\n"
     ]
    },
    {
     "name": "stderr",
     "output_type": "stream",
     "text": [
      "frame= 1301 fps=127 q=-0.0 size=N/A time=00:00:50.76 bitrate=N/A speed=4.96x    \r"
     ]
    },
    {
     "name": "stdout",
     "output_type": "stream",
     "text": [
      "frame=1338\n",
      "fps=124.62\n",
      "stream_0_0_q=-0.0\n",
      "bitrate=N/A\n",
      "total_size=N/A\n",
      "out_time_us=52240000\n",
      "out_time_ms=52240000\n",
      "out_time=00:00:52.240000\n",
      "dup_frames=0\n",
      "drop_frames=0\n",
      "speed=4.87x\n",
      "progress=continue\n"
     ]
    },
    {
     "name": "stderr",
     "output_type": "stream",
     "text": [
      "frame= 1409 fps=125 q=-0.0 size=N/A time=00:00:55.08 bitrate=N/A speed= 4.9x    \r"
     ]
    },
    {
     "name": "stdout",
     "output_type": "stream",
     "text": [
      "frame=1409\n",
      "fps=125.36\n",
      "stream_0_0_q=-0.0\n",
      "bitrate=N/A\n",
      "total_size=N/A\n",
      "out_time_us=55080000\n",
      "out_time_ms=55080000\n",
      "out_time=00:00:55.080000\n",
      "dup_frames=0\n",
      "drop_frames=0\n",
      "speed= 4.9x\n",
      "progress=continue\n"
     ]
    },
    {
     "name": "stderr",
     "output_type": "stream",
     "text": [
      "frame= 1481 fps=126 q=-0.0 size=N/A time=00:00:57.96 bitrate=N/A speed=4.94x    \r"
     ]
    },
    {
     "name": "stdout",
     "output_type": "stream",
     "text": [
      "frame=1481\n",
      "fps=126.12\n",
      "stream_0_0_q=-0.0\n",
      "bitrate=N/A\n",
      "total_size=N/A\n",
      "out_time_us=57960000\n",
      "out_time_ms=57960000\n",
      "out_time=00:00:57.960000\n",
      "dup_frames=0\n",
      "drop_frames=0\n",
      "speed=4.94x\n",
      "progress=continue\n"
     ]
    },
    {
     "name": "stderr",
     "output_type": "stream",
     "text": [
      "frame= 1555 fps=127 q=-0.0 size=N/A time=00:01:00.92 bitrate=N/A speed=4.97x    \r"
     ]
    },
    {
     "name": "stdout",
     "output_type": "stream",
     "text": [
      "frame=1555\n",
      "fps=126.96\n",
      "stream_0_0_q=-0.0\n",
      "bitrate=N/A\n",
      "total_size=N/A\n",
      "out_time_us=60920000\n",
      "out_time_ms=60920000\n",
      "out_time=00:01:00.920000\n",
      "dup_frames=0\n",
      "drop_frames=0\n",
      "speed=4.97x\n",
      "progress=continue\n"
     ]
    },
    {
     "name": "stderr",
     "output_type": "stream",
     "text": [
      "frame= 1624 fps=127 q=-0.0 size=N/A time=00:01:03.68 bitrate=N/A speed=4.99x    \r"
     ]
    },
    {
     "name": "stdout",
     "output_type": "stream",
     "text": [
      "frame=1624\n",
      "fps=127.37\n",
      "stream_0_0_q=-0.0\n",
      "bitrate=N/A\n",
      "total_size=N/A\n",
      "out_time_us=63680000\n",
      "out_time_ms=63680000\n",
      "out_time=00:01:03.680000\n",
      "dup_frames=0\n",
      "drop_frames=0\n",
      "speed=4.99x\n",
      "progress=continue\n"
     ]
    },
    {
     "name": "stderr",
     "output_type": "stream",
     "text": [
      "frame= 1691 fps=128 q=-0.0 size=N/A time=00:01:06.36 bitrate=N/A speed=5.01x    \r"
     ]
    },
    {
     "name": "stdout",
     "output_type": "stream",
     "text": [
      "frame=1691\n",
      "fps=127.60\n",
      "stream_0_0_q=-0.0\n",
      "bitrate=N/A\n",
      "total_size=N/A\n",
      "out_time_us=66360000\n",
      "out_time_ms=66360000\n",
      "out_time=00:01:06.360000\n",
      "dup_frames=0\n",
      "drop_frames=0\n",
      "speed=5.01x\n",
      "progress=continue\n"
     ]
    },
    {
     "name": "stderr",
     "output_type": "stream",
     "text": [
      "frame= 1758 fps=128 q=-0.0 size=N/A time=00:01:09.04 bitrate=N/A speed=5.02x    \r"
     ]
    },
    {
     "name": "stdout",
     "output_type": "stream",
     "text": [
      "frame=1758\n",
      "fps=127.79\n",
      "stream_0_0_q=-0.0\n",
      "bitrate=N/A\n",
      "total_size=N/A\n",
      "out_time_us=69040000\n",
      "out_time_ms=69040000\n",
      "out_time=00:01:09.040000\n",
      "dup_frames=0\n",
      "drop_frames=0\n",
      "speed=5.02x\n",
      "progress=continue\n"
     ]
    },
    {
     "name": "stderr",
     "output_type": "stream",
     "text": [
      "frame= 1824 fps=128 q=-0.0 size=N/A time=00:01:11.68 bitrate=N/A speed=5.03x    \r"
     ]
    },
    {
     "name": "stdout",
     "output_type": "stream",
     "text": [
      "frame=1824\n",
      "fps=127.88\n",
      "stream_0_0_q=-0.0\n",
      "bitrate=N/A\n",
      "total_size=N/A\n",
      "out_time_us=71680000\n",
      "out_time_ms=71680000\n",
      "out_time=00:01:11.680000\n",
      "dup_frames=0\n",
      "drop_frames=0\n",
      "speed=5.03x\n",
      "progress=continue\n"
     ]
    },
    {
     "name": "stderr",
     "output_type": "stream",
     "text": [
      "frame= 1892 fps=128 q=-0.0 size=N/A time=00:01:14.40 bitrate=N/A speed=5.04x    \r"
     ]
    },
    {
     "name": "stdout",
     "output_type": "stream",
     "text": [
      "frame=1892\n",
      "fps=128.11\n",
      "stream_0_0_q=-0.0\n",
      "bitrate=N/A\n",
      "total_size=N/A\n",
      "out_time_us=74400000\n",
      "out_time_ms=74400000\n",
      "out_time=00:01:14.400000\n",
      "dup_frames=0\n",
      "drop_frames=0\n",
      "speed=5.04x\n",
      "progress=continue\n"
     ]
    },
    {
     "name": "stderr",
     "output_type": "stream",
     "text": [
      "frame= 1956 fps=128 q=-0.0 size=N/A time=00:01:16.96 bitrate=N/A speed=5.04x    \r"
     ]
    },
    {
     "name": "stdout",
     "output_type": "stream",
     "text": [
      "frame=1956\n",
      "fps=128.07\n",
      "stream_0_0_q=-0.0\n",
      "bitrate=N/A\n",
      "total_size=N/A\n",
      "out_time_us=76960000\n",
      "out_time_ms=76960000\n",
      "out_time=00:01:16.960000\n",
      "dup_frames=0\n",
      "drop_frames=0\n",
      "speed=5.04x\n",
      "progress=continue\n"
     ]
    },
    {
     "name": "stderr",
     "output_type": "stream",
     "text": [
      "frame= 2021 fps=128 q=-0.0 size=N/A time=00:01:19.56 bitrate=N/A speed=5.04x    \r"
     ]
    },
    {
     "name": "stdout",
     "output_type": "stream",
     "text": [
      "frame=2021\n",
      "fps=128.10\n",
      "stream_0_0_q=-0.0\n",
      "bitrate=N/A\n",
      "total_size=N/A\n",
      "out_time_us=79560000\n",
      "out_time_ms=79560000\n",
      "out_time=00:01:19.560000\n",
      "dup_frames=0\n",
      "drop_frames=0\n",
      "speed=5.04x\n",
      "progress=continue\n"
     ]
    },
    {
     "name": "stderr",
     "output_type": "stream",
     "text": [
      "frame= 2087 fps=128 q=-0.0 size=N/A time=00:01:22.20 bitrate=N/A speed=5.05x    \r"
     ]
    },
    {
     "name": "stdout",
     "output_type": "stream",
     "text": [
      "frame=2087\n",
      "fps=128.18\n",
      "stream_0_0_q=-0.0\n",
      "bitrate=N/A\n",
      "total_size=N/A\n",
      "out_time_us=82200000\n",
      "out_time_ms=82200000\n",
      "out_time=00:01:22.200000\n",
      "dup_frames=0\n",
      "drop_frames=0\n",
      "speed=5.05x\n",
      "progress=continue\n"
     ]
    },
    {
     "name": "stderr",
     "output_type": "stream",
     "text": [
      "frame= 2150 fps=128 q=-0.0 size=N/A time=00:01:24.72 bitrate=N/A speed=5.05x    \r"
     ]
    },
    {
     "name": "stdout",
     "output_type": "stream",
     "text": [
      "frame=2150\n",
      "fps=128.10\n",
      "stream_0_0_q=-0.0\n",
      "bitrate=N/A\n",
      "total_size=N/A\n",
      "out_time_us=84720000\n",
      "out_time_ms=84720000\n",
      "out_time=00:01:24.720000\n",
      "dup_frames=0\n",
      "drop_frames=0\n",
      "speed=5.05x\n",
      "progress=continue\n"
     ]
    },
    {
     "name": "stderr",
     "output_type": "stream",
     "text": [
      "frame= 2222 fps=128 q=-0.0 size=N/A time=00:01:27.60 bitrate=N/A speed=5.06x    \r"
     ]
    },
    {
     "name": "stdout",
     "output_type": "stream",
     "text": [
      "frame=2222\n",
      "fps=128.47\n",
      "stream_0_0_q=-0.0\n",
      "bitrate=N/A\n",
      "total_size=N/A\n",
      "out_time_us=87600000\n",
      "out_time_ms=87600000\n",
      "out_time=00:01:27.600000\n",
      "dup_frames=0\n",
      "drop_frames=0\n",
      "speed=5.06x\n",
      "progress=continue\n"
     ]
    },
    {
     "name": "stderr",
     "output_type": "stream",
     "text": [
      "frame= 2290 fps=129 q=-0.0 size=N/A time=00:01:30.32 bitrate=N/A speed=5.07x    \r"
     ]
    },
    {
     "name": "stdout",
     "output_type": "stream",
     "text": [
      "frame=2290\n",
      "fps=128.66\n",
      "stream_0_0_q=-0.0\n",
      "bitrate=N/A\n",
      "total_size=N/A\n",
      "out_time_us=90320000\n",
      "out_time_ms=90320000\n",
      "out_time=00:01:30.320000\n",
      "dup_frames=0\n",
      "drop_frames=0\n",
      "speed=5.07x\n",
      "progress=continue\n"
     ]
    },
    {
     "name": "stderr",
     "output_type": "stream",
     "text": [
      "frame= 2358 fps=129 q=-0.0 size=N/A time=00:01:33.04 bitrate=N/A speed=5.08x    \r"
     ]
    },
    {
     "name": "stdout",
     "output_type": "stream",
     "text": [
      "frame=2358\n",
      "fps=128.86\n",
      "stream_0_0_q=-0.0\n",
      "bitrate=N/A\n",
      "total_size=N/A\n",
      "out_time_us=93040000\n",
      "out_time_ms=93040000\n",
      "out_time=00:01:33.040000\n",
      "dup_frames=0\n",
      "drop_frames=0\n",
      "speed=5.08x\n",
      "progress=continue\n"
     ]
    },
    {
     "name": "stderr",
     "output_type": "stream",
     "text": [
      "frame= 2426 fps=129 q=-0.0 size=N/A time=00:01:35.76 bitrate=N/A speed=5.09x    \r"
     ]
    },
    {
     "name": "stdout",
     "output_type": "stream",
     "text": [
      "frame=2426\n",
      "fps=129.03\n",
      "stream_0_0_q=-0.0\n",
      "bitrate=N/A\n",
      "total_size=N/A\n",
      "out_time_us=95760000\n",
      "out_time_ms=95760000\n",
      "out_time=00:01:35.760000\n",
      "dup_frames=0\n",
      "drop_frames=0\n",
      "speed=5.09x\n",
      "progress=continue\n"
     ]
    },
    {
     "name": "stderr",
     "output_type": "stream",
     "text": [
      "frame= 2495 fps=129 q=-0.0 size=N/A time=00:01:38.52 bitrate=N/A speed= 5.1x    \r"
     ]
    },
    {
     "name": "stdout",
     "output_type": "stream",
     "text": [
      "frame=2495\n",
      "fps=129.22\n",
      "stream_0_0_q=-0.0\n",
      "bitrate=N/A\n",
      "total_size=N/A\n",
      "out_time_us=98520000\n",
      "out_time_ms=98520000\n",
      "out_time=00:01:38.520000\n",
      "dup_frames=0\n",
      "drop_frames=0\n",
      "speed= 5.1x\n",
      "progress=continue\n"
     ]
    },
    {
     "name": "stderr",
     "output_type": "stream",
     "text": [
      "frame= 2565 fps=129 q=-0.0 size=N/A time=00:01:41.32 bitrate=N/A speed=5.12x    \r"
     ]
    },
    {
     "name": "stdout",
     "output_type": "stream",
     "text": [
      "frame=2565\n",
      "fps=129.49\n",
      "stream_0_0_q=-0.0\n",
      "bitrate=N/A\n",
      "total_size=N/A\n",
      "out_time_us=101320000\n",
      "out_time_ms=101320000\n",
      "out_time=00:01:41.320000\n",
      "dup_frames=0\n",
      "drop_frames=0\n",
      "speed=5.12x\n",
      "progress=continue\n"
     ]
    },
    {
     "name": "stderr",
     "output_type": "stream",
     "text": [
      "frame= 2631 fps=129 q=-0.0 size=N/A time=00:01:43.96 bitrate=N/A speed=5.12x    \r"
     ]
    },
    {
     "name": "stdout",
     "output_type": "stream",
     "text": [
      "frame=2631\n",
      "fps=129.50\n",
      "stream_0_0_q=-0.0\n",
      "bitrate=N/A\n",
      "total_size=N/A\n",
      "out_time_us=103960000\n",
      "out_time_ms=103960000\n",
      "out_time=00:01:43.960000\n",
      "dup_frames=0\n",
      "drop_frames=0\n",
      "speed=5.12x\n",
      "progress=continue\n"
     ]
    },
    {
     "name": "stderr",
     "output_type": "stream",
     "text": [
      "frame= 2702 fps=130 q=-0.0 size=N/A time=00:01:46.80 bitrate=N/A speed=5.13x    \r"
     ]
    },
    {
     "name": "stdout",
     "output_type": "stream",
     "text": [
      "frame=2702\n",
      "fps=129.77\n",
      "stream_0_0_q=-0.0\n",
      "bitrate=N/A\n",
      "total_size=N/A\n",
      "out_time_us=106800000\n",
      "out_time_ms=106800000\n",
      "out_time=00:01:46.800000\n",
      "dup_frames=0\n",
      "drop_frames=0\n",
      "speed=5.13x\n",
      "progress=continue\n"
     ]
    },
    {
     "name": "stderr",
     "output_type": "stream",
     "text": [
      "frame= 2772 fps=130 q=-0.0 size=N/A time=00:01:49.60 bitrate=N/A speed=5.14x    \r"
     ]
    },
    {
     "name": "stdout",
     "output_type": "stream",
     "text": [
      "frame=2772\n",
      "fps=130.01\n",
      "stream_0_0_q=-0.0\n",
      "bitrate=N/A\n",
      "total_size=N/A\n",
      "out_time_us=109600000\n",
      "out_time_ms=109600000\n",
      "out_time=00:01:49.600000\n",
      "dup_frames=0\n",
      "drop_frames=0\n",
      "speed=5.14x\n",
      "progress=continue\n"
     ]
    },
    {
     "name": "stderr",
     "output_type": "stream",
     "text": [
      "frame= 2838 fps=130 q=-0.0 size=N/A time=00:01:52.24 bitrate=N/A speed=5.14x    \r"
     ]
    },
    {
     "name": "stdout",
     "output_type": "stream",
     "text": [
      "frame=2838\n",
      "fps=130.05\n",
      "stream_0_0_q=-0.0\n",
      "bitrate=N/A\n",
      "total_size=N/A\n",
      "out_time_us=112240000\n",
      "out_time_ms=112240000\n",
      "out_time=00:01:52.240000\n",
      "dup_frames=0\n",
      "drop_frames=0\n",
      "speed=5.14x\n",
      "progress=continue\n"
     ]
    },
    {
     "name": "stderr",
     "output_type": "stream",
     "text": [
      "frame= 2910 fps=130 q=-0.0 size=N/A time=00:01:55.12 bitrate=N/A speed=5.16x    \r"
     ]
    },
    {
     "name": "stdout",
     "output_type": "stream",
     "text": [
      "frame=2910\n",
      "fps=130.36\n",
      "stream_0_0_q=-0.0\n",
      "bitrate=N/A\n",
      "total_size=N/A\n",
      "out_time_us=115120000\n",
      "out_time_ms=115120000\n",
      "out_time=00:01:55.120000\n",
      "dup_frames=0\n",
      "drop_frames=0\n",
      "speed=5.16x\n",
      "progress=continue\n"
     ]
    },
    {
     "name": "stderr",
     "output_type": "stream",
     "text": [
      "frame= 2981 fps=131 q=-0.0 size=N/A time=00:01:57.96 bitrate=N/A speed=5.17x    \r"
     ]
    },
    {
     "name": "stdout",
     "output_type": "stream",
     "text": [
      "frame=2981\n",
      "fps=130.59\n",
      "stream_0_0_q=-0.0\n",
      "bitrate=N/A\n",
      "total_size=N/A\n",
      "out_time_us=117960000\n",
      "out_time_ms=117960000\n",
      "out_time=00:01:57.960000\n",
      "dup_frames=0\n",
      "drop_frames=0\n",
      "speed=5.17x\n",
      "progress=continue\n"
     ]
    },
    {
     "name": "stderr",
     "output_type": "stream",
     "text": [
      "frame= 3044 fps=130 q=-0.0 size=N/A time=00:02:00.48 bitrate=N/A speed=5.16x    \r"
     ]
    },
    {
     "name": "stdout",
     "output_type": "stream",
     "text": [
      "frame=3044\n",
      "fps=130.48\n",
      "stream_0_0_q=-0.0\n",
      "bitrate=N/A\n",
      "total_size=N/A\n",
      "out_time_us=120480000\n",
      "out_time_ms=120480000\n",
      "out_time=00:02:00.480000\n",
      "dup_frames=0\n",
      "drop_frames=0\n",
      "speed=5.16x\n",
      "progress=continue\n"
     ]
    },
    {
     "name": "stderr",
     "output_type": "stream",
     "text": [
      "frame= 3089 fps=130 q=-0.0 size=N/A time=00:02:02.28 bitrate=N/A speed=5.13x    \r"
     ]
    },
    {
     "name": "stdout",
     "output_type": "stream",
     "text": [
      "frame=3089\n",
      "fps=129.62\n",
      "stream_0_0_q=-0.0\n",
      "bitrate=N/A\n",
      "total_size=N/A\n",
      "out_time_us=122280000\n",
      "out_time_ms=122280000\n",
      "out_time=00:02:02.280000\n",
      "dup_frames=0\n",
      "drop_frames=0\n",
      "speed=5.13x\n",
      "progress=continue\n"
     ]
    },
    {
     "name": "stderr",
     "output_type": "stream",
     "text": [
      "frame= 3142 fps=129 q=-0.0 size=N/A time=00:02:04.40 bitrate=N/A speed=5.11x    \r"
     ]
    },
    {
     "name": "stdout",
     "output_type": "stream",
     "text": [
      "frame=3142\n",
      "fps=129.14\n",
      "stream_0_0_q=-0.0\n",
      "bitrate=N/A\n",
      "total_size=N/A\n",
      "out_time_us=124400000\n",
      "out_time_ms=124400000\n",
      "out_time=00:02:04.400000\n",
      "dup_frames=0\n",
      "drop_frames=0\n",
      "speed=5.11x\n",
      "progress=continue\n",
      "frame=3199\n",
      "fps=128.72\n",
      "stream_0_0_q=-0.0\n",
      "bitrate=N/A\n",
      "total_size=N/A\n",
      "out_time_us=126680000\n",
      "out_time_ms=126680000\n",
      "out_time=00:02:06.680000\n",
      "dup_frames=0\n",
      "drop_frames=0\n",
      "speed= 5.1x\n",
      "progress=continue\n"
     ]
    },
    {
     "name": "stderr",
     "output_type": "stream",
     "text": [
      "frame= 3228 fps=127 q=-0.0 size=N/A time=00:02:07.84 bitrate=N/A speed=5.04x    \r"
     ]
    },
    {
     "name": "stdout",
     "output_type": "stream",
     "text": [
      "frame=3228\n",
      "fps=127.32\n",
      "stream_0_0_q=-0.0\n",
      "bitrate=N/A\n",
      "total_size=N/A\n",
      "out_time_us=127840000\n",
      "out_time_ms=127840000\n",
      "out_time=00:02:07.840000\n",
      "dup_frames=0\n",
      "drop_frames=0\n",
      "speed=5.04x\n",
      "progress=continue\n"
     ]
    },
    {
     "name": "stderr",
     "output_type": "stream",
     "text": [
      "frame= 3277 fps=127 q=-0.0 size=N/A time=00:02:09.80 bitrate=N/A speed=5.02x    \r"
     ]
    },
    {
     "name": "stdout",
     "output_type": "stream",
     "text": [
      "frame=3277\n",
      "fps=126.62\n",
      "stream_0_0_q=-0.0\n",
      "bitrate=N/A\n",
      "total_size=N/A\n",
      "out_time_us=129800000\n",
      "out_time_ms=129800000\n",
      "out_time=00:02:09.800000\n",
      "dup_frames=0\n",
      "drop_frames=0\n",
      "speed=5.02x\n",
      "progress=continue\n"
     ]
    },
    {
     "name": "stderr",
     "output_type": "stream",
     "text": [
      "frame= 3336 fps=126 q=-0.0 size=N/A time=00:02:12.16 bitrate=N/A speed=5.01x    \r"
     ]
    },
    {
     "name": "stdout",
     "output_type": "stream",
     "text": [
      "frame=3336\n",
      "fps=126.43\n",
      "stream_0_0_q=-0.0\n",
      "bitrate=N/A\n",
      "total_size=N/A\n",
      "out_time_us=132160000\n",
      "out_time_ms=132160000\n",
      "out_time=00:02:12.160000\n",
      "dup_frames=0\n",
      "drop_frames=0\n",
      "speed=5.01x\n",
      "progress=continue\n"
     ]
    },
    {
     "name": "stderr",
     "output_type": "stream",
     "text": [
      "frame= 3394 fps=126 q=-0.0 size=N/A time=00:02:14.48 bitrate=N/A speed=   5x    \r"
     ]
    },
    {
     "name": "stdout",
     "output_type": "stream",
     "text": [
      "frame=3394\n",
      "fps=126.19\n",
      "stream_0_0_q=-0.0\n",
      "bitrate=N/A\n",
      "total_size=N/A\n",
      "out_time_us=134480000\n",
      "out_time_ms=134480000\n",
      "out_time=00:02:14.480000\n",
      "dup_frames=0\n",
      "drop_frames=0\n",
      "speed=   5x\n",
      "progress=continue\n",
      "frame=3452\n",
      "fps=125.99\n",
      "stream_0_0_q=-0.0\n",
      "bitrate=N/A\n",
      "total_size=N/A\n",
      "out_time_us=136800000\n",
      "out_time_ms=136800000\n",
      "out_time=00:02:16.800000\n",
      "dup_frames=0\n",
      "drop_frames=0\n",
      "speed=4.99x\n",
      "progress=continue\n"
     ]
    },
    {
     "name": "stderr",
     "output_type": "stream",
     "text": [
      "frame= 3510 fps=126 q=-0.0 size=N/A time=00:02:19.12 bitrate=N/A speed=4.99x    \r"
     ]
    },
    {
     "name": "stdout",
     "output_type": "stream",
     "text": [
      "frame=3510\n",
      "fps=125.78\n",
      "stream_0_0_q=-0.0\n",
      "bitrate=N/A\n",
      "total_size=N/A\n",
      "out_time_us=139120000\n",
      "out_time_ms=139120000\n",
      "out_time=00:02:19.120000\n",
      "dup_frames=0\n",
      "drop_frames=0\n",
      "speed=4.99x\n",
      "progress=continue\n"
     ]
    },
    {
     "name": "stderr",
     "output_type": "stream",
     "text": [
      "frame= 3565 fps=126 q=-0.0 size=N/A time=00:02:21.32 bitrate=N/A speed=4.97x    \r"
     ]
    },
    {
     "name": "stdout",
     "output_type": "stream",
     "text": [
      "frame=3565\n",
      "fps=125.50\n",
      "stream_0_0_q=-0.0\n",
      "bitrate=N/A\n",
      "total_size=N/A\n",
      "out_time_us=141320000\n",
      "out_time_ms=141320000\n",
      "out_time=00:02:21.320000\n",
      "dup_frames=0\n",
      "drop_frames=0\n",
      "speed=4.97x\n",
      "progress=continue\n"
     ]
    },
    {
     "name": "stderr",
     "output_type": "stream",
     "text": [
      "frame= 3620 fps=125 q=-0.0 size=N/A time=00:02:23.52 bitrate=N/A speed=4.96x    \r"
     ]
    },
    {
     "name": "stdout",
     "output_type": "stream",
     "text": [
      "frame=3620\n",
      "fps=125.23\n",
      "stream_0_0_q=-0.0\n",
      "bitrate=N/A\n",
      "total_size=N/A\n",
      "out_time_us=143520000\n",
      "out_time_ms=143520000\n",
      "out_time=00:02:23.520000\n",
      "dup_frames=0\n",
      "drop_frames=0\n",
      "speed=4.96x\n",
      "progress=continue\n"
     ]
    },
    {
     "name": "stderr",
     "output_type": "stream",
     "text": [
      "frame= 3678 fps=125 q=-0.0 size=N/A time=00:02:25.84 bitrate=N/A speed=4.96x    \r"
     ]
    },
    {
     "name": "stdout",
     "output_type": "stream",
     "text": [
      "frame=3678\n",
      "fps=125.07\n",
      "stream_0_0_q=-0.0\n",
      "bitrate=N/A\n",
      "total_size=N/A\n",
      "out_time_us=145840000\n",
      "out_time_ms=145840000\n",
      "out_time=00:02:25.840000\n",
      "dup_frames=0\n",
      "drop_frames=0\n",
      "speed=4.96x\n",
      "progress=continue\n"
     ]
    },
    {
     "name": "stderr",
     "output_type": "stream",
     "text": [
      "frame= 3697 fps=124 q=-0.0 size=N/A time=00:02:26.60 bitrate=N/A speed= 4.9x    \r"
     ]
    },
    {
     "name": "stdout",
     "output_type": "stream",
     "text": [
      "frame=3697\n",
      "fps=123.52\n",
      "stream_0_0_q=-0.0\n",
      "bitrate=N/A\n",
      "total_size=N/A\n",
      "out_time_us=146600000\n",
      "out_time_ms=146600000\n",
      "out_time=00:02:26.600000\n",
      "dup_frames=0\n",
      "drop_frames=0\n",
      "speed= 4.9x\n",
      "progress=continue\n"
     ]
    },
    {
     "name": "stderr",
     "output_type": "stream",
     "text": [
      "frame= 3732 fps=122 q=-0.0 size=N/A time=00:02:28.00 bitrate=N/A speed=4.86x    \r"
     ]
    },
    {
     "name": "stdout",
     "output_type": "stream",
     "text": [
      "frame=3732\n",
      "fps=122.48\n",
      "stream_0_0_q=-0.0\n",
      "bitrate=N/A\n",
      "total_size=N/A\n",
      "out_time_us=148000000\n",
      "out_time_ms=148000000\n",
      "out_time=00:02:28.000000\n",
      "dup_frames=0\n",
      "drop_frames=0\n",
      "speed=4.86x\n",
      "progress=continue\n"
     ]
    },
    {
     "name": "stderr",
     "output_type": "stream",
     "text": [
      "frame= 3770 fps=122 q=-0.0 size=N/A time=00:02:29.52 bitrate=N/A speed=4.83x    \r"
     ]
    },
    {
     "name": "stdout",
     "output_type": "stream",
     "text": [
      "frame=3770\n",
      "fps=121.72\n",
      "stream_0_0_q=-0.0\n",
      "bitrate=N/A\n",
      "total_size=N/A\n",
      "out_time_us=149520000\n",
      "out_time_ms=149520000\n",
      "out_time=00:02:29.520000\n",
      "dup_frames=0\n",
      "drop_frames=0\n",
      "speed=4.83x\n",
      "progress=continue\n"
     ]
    },
    {
     "name": "stderr",
     "output_type": "stream",
     "text": [
      "frame= 3820 fps=121 q=-0.0 size=N/A time=00:02:31.52 bitrate=N/A speed=4.81x    \r"
     ]
    },
    {
     "name": "stdout",
     "output_type": "stream",
     "text": [
      "frame=3820\n",
      "fps=121.37\n",
      "stream_0_0_q=-0.0\n",
      "bitrate=N/A\n",
      "total_size=N/A\n",
      "out_time_us=151520000\n",
      "out_time_ms=151520000\n",
      "out_time=00:02:31.520000\n",
      "dup_frames=0\n",
      "drop_frames=0\n",
      "speed=4.81x\n",
      "progress=continue\n"
     ]
    },
    {
     "name": "stderr",
     "output_type": "stream",
     "text": [
      "frame= 3872 fps=121 q=-0.0 size=N/A time=00:02:33.60 bitrate=N/A speed= 4.8x    \r"
     ]
    },
    {
     "name": "stdout",
     "output_type": "stream",
     "text": [
      "frame=3872\n",
      "fps=121.09\n",
      "stream_0_0_q=-0.0\n",
      "bitrate=N/A\n",
      "total_size=N/A\n",
      "out_time_us=153600000\n",
      "out_time_ms=153600000\n",
      "out_time=00:02:33.600000\n",
      "dup_frames=0\n",
      "drop_frames=0\n",
      "speed= 4.8x\n",
      "progress=continue\n"
     ]
    },
    {
     "name": "stderr",
     "output_type": "stream",
     "text": [
      "frame= 3922 fps=121 q=-0.0 size=N/A time=00:02:35.60 bitrate=N/A speed=4.79x    \r"
     ]
    },
    {
     "name": "stdout",
     "output_type": "stream",
     "text": [
      "frame=3922\n",
      "fps=120.76\n",
      "stream_0_0_q=-0.0\n",
      "bitrate=N/A\n",
      "total_size=N/A\n",
      "out_time_us=155600000\n",
      "out_time_ms=155600000\n",
      "out_time=00:02:35.600000\n",
      "dup_frames=0\n",
      "drop_frames=0\n",
      "speed=4.79x\n",
      "progress=continue\n"
     ]
    },
    {
     "name": "stderr",
     "output_type": "stream",
     "text": [
      "frame= 3970 fps=120 q=-0.0 size=N/A time=00:02:37.52 bitrate=N/A speed=4.78x    \r"
     ]
    },
    {
     "name": "stdout",
     "output_type": "stream",
     "text": [
      "frame=3970\n",
      "fps=120.38\n",
      "stream_0_0_q=-0.0\n",
      "bitrate=N/A\n",
      "total_size=N/A\n",
      "out_time_us=157520000\n",
      "out_time_ms=157520000\n",
      "out_time=00:02:37.520000\n",
      "dup_frames=0\n",
      "drop_frames=0\n",
      "speed=4.78x\n",
      "progress=continue\n"
     ]
    },
    {
     "name": "stderr",
     "output_type": "stream",
     "text": [
      "frame= 4019 fps=120 q=-0.0 size=N/A time=00:02:39.48 bitrate=N/A speed=4.76x    \r"
     ]
    },
    {
     "name": "stdout",
     "output_type": "stream",
     "text": [
      "frame=4019\n",
      "fps=120.05\n",
      "stream_0_0_q=-0.0\n",
      "bitrate=N/A\n",
      "total_size=N/A\n",
      "out_time_us=159480000\n",
      "out_time_ms=159480000\n",
      "out_time=00:02:39.480000\n",
      "dup_frames=0\n",
      "drop_frames=0\n",
      "speed=4.76x\n",
      "progress=continue\n"
     ]
    },
    {
     "name": "stderr",
     "output_type": "stream",
     "text": [
      "frame= 4071 fps=120 q=-0.0 size=N/A time=00:02:41.56 bitrate=N/A speed=4.75x    \r"
     ]
    },
    {
     "name": "stdout",
     "output_type": "stream",
     "text": [
      "frame=4071\n",
      "fps=119.81\n",
      "stream_0_0_q=-0.0\n",
      "bitrate=N/A\n",
      "total_size=N/A\n",
      "out_time_us=161560000\n",
      "out_time_ms=161560000\n",
      "out_time=00:02:41.560000\n",
      "dup_frames=0\n",
      "drop_frames=0\n",
      "speed=4.75x\n",
      "progress=continue\n"
     ]
    },
    {
     "name": "stderr",
     "output_type": "stream",
     "text": [
      "frame= 4119 fps=119 q=-0.0 size=N/A time=00:02:43.48 bitrate=N/A speed=4.74x    \r"
     ]
    },
    {
     "name": "stdout",
     "output_type": "stream",
     "text": [
      "frame=4119\n",
      "fps=119.46\n",
      "stream_0_0_q=-0.0\n",
      "bitrate=N/A\n",
      "total_size=N/A\n",
      "out_time_us=163480000\n",
      "out_time_ms=163480000\n",
      "out_time=00:02:43.480000\n",
      "dup_frames=0\n",
      "drop_frames=0\n",
      "speed=4.74x\n",
      "progress=continue\n",
      "frame=4166\n",
      "fps=119.09\n",
      "stream_0_0_q=-0.0\n",
      "bitrate=N/A\n",
      "total_size=N/A\n",
      "out_time_us=165360000\n",
      "out_time_ms=165360000\n",
      "out_time=00:02:45.360000\n",
      "dup_frames=0\n",
      "drop_frames=0\n",
      "speed=4.73x\n",
      "progress=continue\n"
     ]
    },
    {
     "name": "stderr",
     "output_type": "stream",
     "text": [
      "frame= 4214 fps=119 q=-0.0 size=N/A time=00:02:47.28 bitrate=N/A speed=4.71x    \r"
     ]
    },
    {
     "name": "stdout",
     "output_type": "stream",
     "text": [
      "frame=4214\n",
      "fps=118.76\n",
      "stream_0_0_q=-0.0\n",
      "bitrate=N/A\n",
      "total_size=N/A\n",
      "out_time_us=167280000\n",
      "out_time_ms=167280000\n",
      "out_time=00:02:47.280000\n",
      "dup_frames=0\n",
      "drop_frames=0\n",
      "speed=4.71x\n",
      "progress=continue\n"
     ]
    },
    {
     "name": "stderr",
     "output_type": "stream",
     "text": [
      "frame= 4263 fps=118 q=-0.0 size=N/A time=00:02:49.24 bitrate=N/A speed= 4.7x    \r"
     ]
    },
    {
     "name": "stdout",
     "output_type": "stream",
     "text": [
      "frame=4263\n",
      "fps=118.43\n",
      "stream_0_0_q=-0.0\n",
      "bitrate=N/A\n",
      "total_size=N/A\n",
      "out_time_us=169240000\n",
      "out_time_ms=169240000\n",
      "out_time=00:02:49.240000\n",
      "dup_frames=0\n",
      "drop_frames=0\n",
      "speed= 4.7x\n",
      "progress=continue\n"
     ]
    },
    {
     "name": "stderr",
     "output_type": "stream",
     "text": [
      "frame= 4311 fps=118 q=-0.0 size=N/A time=00:02:51.16 bitrate=N/A speed=4.69x    \r"
     ]
    },
    {
     "name": "stdout",
     "output_type": "stream",
     "text": [
      "frame=4311\n",
      "fps=118.11\n",
      "stream_0_0_q=-0.0\n",
      "bitrate=N/A\n",
      "total_size=N/A\n",
      "out_time_us=171160000\n",
      "out_time_ms=171160000\n",
      "out_time=00:02:51.160000\n",
      "dup_frames=0\n",
      "drop_frames=0\n",
      "speed=4.69x\n",
      "progress=continue\n"
     ]
    },
    {
     "name": "stderr",
     "output_type": "stream",
     "text": [
      "frame= 4363 fps=118 q=-0.0 size=N/A time=00:02:53.24 bitrate=N/A speed=4.68x    \r"
     ]
    },
    {
     "name": "stdout",
     "output_type": "stream",
     "text": [
      "frame=4363\n",
      "fps=117.91\n",
      "stream_0_0_q=-0.0\n",
      "bitrate=N/A\n",
      "total_size=N/A\n",
      "out_time_us=173240000\n",
      "out_time_ms=173240000\n",
      "out_time=00:02:53.240000\n",
      "dup_frames=0\n",
      "drop_frames=0\n",
      "speed=4.68x\n",
      "progress=continue\n"
     ]
    },
    {
     "name": "stderr",
     "output_type": "stream",
     "text": [
      "frame= 4411 fps=118 q=-0.0 size=N/A time=00:02:55.16 bitrate=N/A speed=4.67x    \r"
     ]
    },
    {
     "name": "stdout",
     "output_type": "stream",
     "text": [
      "frame=4411\n",
      "fps=117.58\n",
      "stream_0_0_q=-0.0\n",
      "bitrate=N/A\n",
      "total_size=N/A\n",
      "out_time_us=175160000\n",
      "out_time_ms=175160000\n",
      "out_time=00:02:55.160000\n",
      "dup_frames=0\n",
      "drop_frames=0\n",
      "speed=4.67x\n",
      "progress=continue\n"
     ]
    },
    {
     "name": "stderr",
     "output_type": "stream",
     "text": [
      "frame= 4447 fps=117 q=-0.0 size=N/A time=00:02:56.60 bitrate=N/A speed=4.65x    \r"
     ]
    },
    {
     "name": "stdout",
     "output_type": "stream",
     "text": [
      "frame=4447\n",
      "fps=116.97\n",
      "stream_0_0_q=-0.0\n",
      "bitrate=N/A\n",
      "total_size=N/A\n",
      "out_time_us=176600000\n",
      "out_time_ms=176600000\n",
      "out_time=00:02:56.600000\n",
      "dup_frames=0\n",
      "drop_frames=0\n",
      "speed=4.65x\n",
      "progress=continue\n"
     ]
    },
    {
     "name": "stderr",
     "output_type": "stream",
     "text": [
      "frame= 4498 fps=117 q=-0.0 size=N/A time=00:02:58.64 bitrate=N/A speed=4.64x    \r"
     ]
    },
    {
     "name": "stdout",
     "output_type": "stream",
     "text": [
      "frame=4498\n",
      "fps=116.74\n",
      "stream_0_0_q=-0.0\n",
      "bitrate=N/A\n",
      "total_size=N/A\n",
      "out_time_us=178640000\n",
      "out_time_ms=178640000\n",
      "out_time=00:02:58.640000\n",
      "dup_frames=0\n",
      "drop_frames=0\n",
      "speed=4.64x\n",
      "progress=continue\n"
     ]
    },
    {
     "name": "stderr",
     "output_type": "stream",
     "text": [
      "frame= 4551 fps=117 q=-0.0 size=N/A time=00:03:00.76 bitrate=N/A speed=4.63x    \r"
     ]
    },
    {
     "name": "stdout",
     "output_type": "stream",
     "text": [
      "frame=4551\n",
      "fps=116.59\n",
      "stream_0_0_q=-0.0\n",
      "bitrate=N/A\n",
      "total_size=N/A\n",
      "out_time_us=180760000\n",
      "out_time_ms=180760000\n",
      "out_time=00:03:00.760000\n",
      "dup_frames=0\n",
      "drop_frames=0\n",
      "speed=4.63x\n",
      "progress=continue\n",
      "frame=4603\n",
      "fps=116.41\n",
      "stream_0_0_q=-0.0\n",
      "bitrate=N/A\n",
      "total_size=N/A\n",
      "out_time_us=182840000\n",
      "out_time_ms=182840000\n",
      "out_time=00:03:02.840000\n",
      "dup_frames=0\n",
      "drop_frames=0\n",
      "speed=4.62x\n",
      "progress=continue\n"
     ]
    },
    {
     "name": "stderr",
     "output_type": "stream",
     "text": [
      "frame= 4662 fps=116 q=-0.0 size=N/A time=00:03:05.20 bitrate=N/A speed=4.62x    \r"
     ]
    },
    {
     "name": "stdout",
     "output_type": "stream",
     "text": [
      "frame=4662\n",
      "fps=116.42\n",
      "stream_0_0_q=-0.0\n",
      "bitrate=N/A\n",
      "total_size=N/A\n",
      "out_time_us=185200000\n",
      "out_time_ms=185200000\n",
      "out_time=00:03:05.200000\n",
      "dup_frames=0\n",
      "drop_frames=0\n",
      "speed=4.62x\n",
      "progress=continue\n"
     ]
    },
    {
     "name": "stderr",
     "output_type": "stream",
     "text": [
      "frame= 4707 fps=116 q=-0.0 size=N/A time=00:03:07.00 bitrate=N/A speed=4.61x    \r"
     ]
    },
    {
     "name": "stdout",
     "output_type": "stream",
     "text": [
      "frame=4707\n",
      "fps=116.02\n",
      "stream_0_0_q=-0.0\n",
      "bitrate=N/A\n",
      "total_size=N/A\n",
      "out_time_us=187000000\n",
      "out_time_ms=187000000\n",
      "out_time=00:03:07.000000\n",
      "dup_frames=0\n",
      "drop_frames=0\n",
      "speed=4.61x\n",
      "progress=continue\n"
     ]
    },
    {
     "name": "stderr",
     "output_type": "stream",
     "text": [
      "frame= 4757 fps=116 q=-0.0 size=N/A time=00:03:09.00 bitrate=N/A speed= 4.6x    \r"
     ]
    },
    {
     "name": "stdout",
     "output_type": "stream",
     "text": [
      "frame=4757\n",
      "fps=115.82\n",
      "stream_0_0_q=-0.0\n",
      "bitrate=N/A\n",
      "total_size=N/A\n",
      "out_time_us=189000000\n",
      "out_time_ms=189000000\n",
      "out_time=00:03:09.000000\n",
      "dup_frames=0\n",
      "drop_frames=0\n",
      "speed= 4.6x\n",
      "progress=continue\n"
     ]
    },
    {
     "name": "stderr",
     "output_type": "stream",
     "text": [
      "frame= 4813 fps=116 q=-0.0 size=N/A time=00:03:11.24 bitrate=N/A speed= 4.6x    \r"
     ]
    },
    {
     "name": "stdout",
     "output_type": "stream",
     "text": [
      "frame=4813\n",
      "fps=115.76\n",
      "stream_0_0_q=-0.0\n",
      "bitrate=N/A\n",
      "total_size=N/A\n",
      "out_time_us=191240000\n",
      "out_time_ms=191240000\n",
      "out_time=00:03:11.240000\n",
      "dup_frames=0\n",
      "drop_frames=0\n",
      "speed= 4.6x\n",
      "progress=continue\n"
     ]
    },
    {
     "name": "stderr",
     "output_type": "stream",
     "text": [
      "frame= 4870 fps=116 q=-0.0 size=N/A time=00:03:13.52 bitrate=N/A speed= 4.6x    \r"
     ]
    },
    {
     "name": "stdout",
     "output_type": "stream",
     "text": [
      "frame=4870\n",
      "fps=115.73\n",
      "stream_0_0_q=-0.0\n",
      "bitrate=N/A\n",
      "total_size=N/A\n",
      "out_time_us=193520000\n",
      "out_time_ms=193520000\n",
      "out_time=00:03:13.520000\n",
      "dup_frames=0\n",
      "drop_frames=0\n",
      "speed= 4.6x\n",
      "progress=continue\n"
     ]
    },
    {
     "name": "stderr",
     "output_type": "stream",
     "text": [
      "frame= 4928 fps=116 q=-0.0 size=N/A time=00:03:15.84 bitrate=N/A speed= 4.6x    \r"
     ]
    },
    {
     "name": "stdout",
     "output_type": "stream",
     "text": [
      "frame=4928\n",
      "fps=115.73\n",
      "stream_0_0_q=-0.0\n",
      "bitrate=N/A\n",
      "total_size=N/A\n",
      "out_time_us=195840000\n",
      "out_time_ms=195840000\n",
      "out_time=00:03:15.840000\n",
      "dup_frames=0\n",
      "drop_frames=0\n",
      "speed= 4.6x\n",
      "progress=continue\n"
     ]
    },
    {
     "name": "stderr",
     "output_type": "stream",
     "text": [
      "frame= 4981 fps=116 q=-0.0 size=N/A time=00:03:17.96 bitrate=N/A speed=4.59x    \r"
     ]
    },
    {
     "name": "stdout",
     "output_type": "stream",
     "text": [
      "frame=4981\n",
      "fps=115.61\n",
      "stream_0_0_q=-0.0\n",
      "bitrate=N/A\n",
      "total_size=N/A\n",
      "out_time_us=197960000\n",
      "out_time_ms=197960000\n",
      "out_time=00:03:17.960000\n",
      "dup_frames=0\n",
      "drop_frames=0\n",
      "speed=4.59x\n",
      "progress=continue\n"
     ]
    },
    {
     "name": "stderr",
     "output_type": "stream",
     "text": [
      "frame= 5035 fps=116 q=-0.0 size=N/A time=00:03:20.12 bitrate=N/A speed=4.59x    \r"
     ]
    },
    {
     "name": "stdout",
     "output_type": "stream",
     "text": [
      "frame=5035\n",
      "fps=115.51\n",
      "stream_0_0_q=-0.0\n",
      "bitrate=N/A\n",
      "total_size=N/A\n",
      "out_time_us=200120000\n",
      "out_time_ms=200120000\n",
      "out_time=00:03:20.120000\n",
      "dup_frames=0\n",
      "drop_frames=0\n",
      "speed=4.59x\n",
      "progress=continue\n"
     ]
    },
    {
     "name": "stderr",
     "output_type": "stream",
     "text": [
      "frame= 5092 fps=115 q=-0.0 size=N/A time=00:03:22.40 bitrate=N/A speed=4.59x    \r"
     ]
    },
    {
     "name": "stdout",
     "output_type": "stream",
     "text": [
      "frame=5092\n",
      "fps=115.49\n",
      "stream_0_0_q=-0.0\n",
      "bitrate=N/A\n",
      "total_size=N/A\n",
      "out_time_us=202400000\n",
      "out_time_ms=202400000\n",
      "out_time=00:03:22.400000\n",
      "dup_frames=0\n",
      "drop_frames=0\n",
      "speed=4.59x\n",
      "progress=continue\n"
     ]
    },
    {
     "name": "stderr",
     "output_type": "stream",
     "text": [
      "frame= 5147 fps=115 q=-0.0 size=N/A time=00:03:24.60 bitrate=N/A speed=4.59x    \r"
     ]
    },
    {
     "name": "stdout",
     "output_type": "stream",
     "text": [
      "frame=5147\n",
      "fps=115.43\n",
      "stream_0_0_q=-0.0\n",
      "bitrate=N/A\n",
      "total_size=N/A\n",
      "out_time_us=204600000\n",
      "out_time_ms=204600000\n",
      "out_time=00:03:24.600000\n",
      "dup_frames=0\n",
      "drop_frames=0\n",
      "speed=4.59x\n",
      "progress=continue\n"
     ]
    },
    {
     "name": "stderr",
     "output_type": "stream",
     "text": [
      "frame= 5199 fps=115 q=-0.0 size=N/A time=00:03:26.68 bitrate=N/A speed=4.58x    \r"
     ]
    },
    {
     "name": "stdout",
     "output_type": "stream",
     "text": [
      "frame=5199\n",
      "fps=115.25\n",
      "stream_0_0_q=-0.0\n",
      "bitrate=N/A\n",
      "total_size=N/A\n",
      "out_time_us=206680000\n",
      "out_time_ms=206680000\n",
      "out_time=00:03:26.680000\n",
      "dup_frames=0\n",
      "drop_frames=0\n",
      "speed=4.58x\n",
      "progress=continue\n"
     ]
    },
    {
     "name": "stderr",
     "output_type": "stream",
     "text": [
      "frame= 5230 fps=115 q=-0.0 size=N/A time=00:03:27.92 bitrate=N/A speed=4.56x    \r"
     ]
    },
    {
     "name": "stdout",
     "output_type": "stream",
     "text": [
      "frame=5230\n",
      "fps=114.67\n",
      "stream_0_0_q=-0.0\n",
      "bitrate=N/A\n",
      "total_size=N/A\n",
      "out_time_us=207920000\n",
      "out_time_ms=207920000\n",
      "out_time=00:03:27.920000\n",
      "dup_frames=0\n",
      "drop_frames=0\n",
      "speed=4.56x\n",
      "progress=continue\n"
     ]
    },
    {
     "name": "stderr",
     "output_type": "stream",
     "text": [
      "frame= 5282 fps=115 q=-0.0 size=N/A time=00:03:30.00 bitrate=N/A speed=4.55x    \r"
     ]
    },
    {
     "name": "stdout",
     "output_type": "stream",
     "text": [
      "frame=5282\n",
      "fps=114.55\n",
      "stream_0_0_q=-0.0\n",
      "bitrate=N/A\n",
      "total_size=N/A\n",
      "out_time_us=210000000\n",
      "out_time_ms=210000000\n",
      "out_time=00:03:30.000000\n",
      "dup_frames=0\n",
      "drop_frames=0\n",
      "speed=4.55x\n",
      "progress=continue\n"
     ]
    },
    {
     "name": "stderr",
     "output_type": "stream",
     "text": [
      "frame= 5329 fps=114 q=-0.0 size=N/A time=00:03:31.88 bitrate=N/A speed=4.54x    \r"
     ]
    },
    {
     "name": "stdout",
     "output_type": "stream",
     "text": [
      "frame=5329\n",
      "fps=114.30\n",
      "stream_0_0_q=-0.0\n",
      "bitrate=N/A\n",
      "total_size=N/A\n",
      "out_time_us=211880000\n",
      "out_time_ms=211880000\n",
      "out_time=00:03:31.880000\n",
      "dup_frames=0\n",
      "drop_frames=0\n",
      "speed=4.54x\n",
      "progress=continue\n"
     ]
    },
    {
     "name": "stderr",
     "output_type": "stream",
     "text": [
      "frame= 5384 fps=114 q=-0.0 size=N/A time=00:03:34.08 bitrate=N/A speed=4.54x    \r"
     ]
    },
    {
     "name": "stdout",
     "output_type": "stream",
     "text": [
      "frame=5384\n",
      "fps=114.25\n",
      "stream_0_0_q=-0.0\n",
      "bitrate=N/A\n",
      "total_size=N/A\n",
      "out_time_us=214080000\n",
      "out_time_ms=214080000\n",
      "out_time=00:03:34.080000\n",
      "dup_frames=0\n",
      "drop_frames=0\n",
      "speed=4.54x\n",
      "progress=continue\n",
      "frame=5451\n",
      "fps=114.41\n",
      "stream_0_0_q=-0.0\n",
      "bitrate=N/A\n",
      "total_size=N/A\n",
      "out_time_us=216760000\n",
      "out_time_ms=216760000\n",
      "out_time=00:03:36.760000\n",
      "dup_frames=0\n",
      "drop_frames=0\n",
      "speed=4.55x\n",
      "progress=continue\n"
     ]
    },
    {
     "name": "stderr",
     "output_type": "stream",
     "text": [
      "frame= 5517 fps=115 q=-0.0 size=N/A time=00:03:39.40 bitrate=N/A speed=4.56x    \r"
     ]
    },
    {
     "name": "stdout",
     "output_type": "stream",
     "text": [
      "frame=5517\n",
      "fps=114.59\n",
      "stream_0_0_q=-0.0\n",
      "bitrate=N/A\n",
      "total_size=N/A\n",
      "out_time_us=219400000\n",
      "out_time_ms=219400000\n",
      "out_time=00:03:39.400000\n",
      "dup_frames=0\n",
      "drop_frames=0\n",
      "speed=4.56x\n",
      "progress=continue\n"
     ]
    },
    {
     "name": "stderr",
     "output_type": "stream",
     "text": [
      "frame= 5581 fps=115 q=-0.0 size=N/A time=00:03:41.96 bitrate=N/A speed=4.56x    \r"
     ]
    },
    {
     "name": "stdout",
     "output_type": "stream",
     "text": [
      "frame=5581\n",
      "fps=114.72\n",
      "stream_0_0_q=-0.0\n",
      "bitrate=N/A\n",
      "total_size=N/A\n",
      "out_time_us=221960000\n",
      "out_time_ms=221960000\n",
      "out_time=00:03:41.960000\n",
      "dup_frames=0\n",
      "drop_frames=0\n",
      "speed=4.56x\n",
      "progress=continue\n"
     ]
    },
    {
     "name": "stderr",
     "output_type": "stream",
     "text": [
      "frame= 5646 fps=115 q=-0.0 size=N/A time=00:03:44.56 bitrate=N/A speed=4.57x    \r"
     ]
    },
    {
     "name": "stdout",
     "output_type": "stream",
     "text": [
      "frame=5646\n",
      "fps=114.86\n",
      "stream_0_0_q=-0.0\n",
      "bitrate=N/A\n",
      "total_size=N/A\n",
      "out_time_us=224560000\n",
      "out_time_ms=224560000\n",
      "out_time=00:03:44.560000\n",
      "dup_frames=0\n",
      "drop_frames=0\n",
      "speed=4.57x\n",
      "progress=continue\n"
     ]
    },
    {
     "name": "stderr",
     "output_type": "stream",
     "text": [
      "frame= 5714 fps=115 q=-0.0 size=N/A time=00:03:47.28 bitrate=N/A speed=4.58x    \r"
     ]
    },
    {
     "name": "stdout",
     "output_type": "stream",
     "text": [
      "frame=5714\n",
      "fps=115.06\n",
      "stream_0_0_q=-0.0\n",
      "bitrate=N/A\n",
      "total_size=N/A\n",
      "out_time_us=227280000\n",
      "out_time_ms=227280000\n",
      "out_time=00:03:47.280000\n",
      "dup_frames=0\n",
      "drop_frames=0\n",
      "speed=4.58x\n",
      "progress=continue\n"
     ]
    },
    {
     "name": "stderr",
     "output_type": "stream",
     "text": [
      "frame= 5779 fps=115 q=-0.0 size=N/A time=00:03:49.88 bitrate=N/A speed=4.58x    \r"
     ]
    },
    {
     "name": "stdout",
     "output_type": "stream",
     "text": [
      "frame=5779\n",
      "fps=115.20\n",
      "stream_0_0_q=-0.0\n",
      "bitrate=N/A\n",
      "total_size=N/A\n",
      "out_time_us=229880000\n",
      "out_time_ms=229880000\n",
      "out_time=00:03:49.880000\n",
      "dup_frames=0\n",
      "drop_frames=0\n",
      "speed=4.58x\n",
      "progress=continue\n",
      "frame=5815\n",
      "fps=114.60\n",
      "stream_0_0_q=-0.0\n",
      "bitrate=N/A\n",
      "total_size=N/A\n",
      "out_time_us=231320000\n",
      "out_time_ms=231320000\n",
      "out_time=00:03:51.320000\n",
      "dup_frames=0\n",
      "drop_frames=0\n",
      "speed=4.56x\n",
      "progress=continue\n"
     ]
    },
    {
     "name": "stderr",
     "output_type": "stream",
     "text": [
      "frame= 5870 fps=115 q=-0.0 size=N/A time=00:03:53.52 bitrate=N/A speed=4.56x    \r"
     ]
    },
    {
     "name": "stdout",
     "output_type": "stream",
     "text": [
      "frame=5870\n",
      "fps=114.55\n",
      "stream_0_0_q=-0.0\n",
      "bitrate=N/A\n",
      "total_size=N/A\n",
      "out_time_us=233520000\n",
      "out_time_ms=233520000\n",
      "out_time=00:03:53.520000\n",
      "dup_frames=0\n",
      "drop_frames=0\n",
      "speed=4.56x\n",
      "progress=continue\n"
     ]
    },
    {
     "name": "stderr",
     "output_type": "stream",
     "text": [
      "frame= 5932 fps=115 q=-0.0 size=N/A time=00:03:56.00 bitrate=N/A speed=4.56x    \r"
     ]
    },
    {
     "name": "stdout",
     "output_type": "stream",
     "text": [
      "frame=5932\n",
      "fps=114.63\n",
      "stream_0_0_q=-0.0\n",
      "bitrate=N/A\n",
      "total_size=N/A\n",
      "out_time_us=236000000\n",
      "out_time_ms=236000000\n",
      "out_time=00:03:56.000000\n",
      "dup_frames=0\n",
      "drop_frames=0\n",
      "speed=4.56x\n",
      "progress=continue\n"
     ]
    },
    {
     "name": "stderr",
     "output_type": "stream",
     "text": [
      "frame= 5999 fps=115 q=-0.0 size=N/A time=00:03:58.68 bitrate=N/A speed=4.57x    \r"
     ]
    },
    {
     "name": "stdout",
     "output_type": "stream",
     "text": [
      "frame=5999\n",
      "fps=114.80\n",
      "stream_0_0_q=-0.0\n",
      "bitrate=N/A\n",
      "total_size=N/A\n",
      "out_time_us=238680000\n",
      "out_time_ms=238680000\n",
      "out_time=00:03:58.680000\n",
      "dup_frames=0\n",
      "drop_frames=0\n",
      "speed=4.57x\n",
      "progress=continue\n"
     ]
    },
    {
     "name": "stderr",
     "output_type": "stream",
     "text": [
      "frame= 6065 fps=115 q=-0.0 size=N/A time=00:04:01.32 bitrate=N/A speed=4.57x    \r"
     ]
    },
    {
     "name": "stdout",
     "output_type": "stream",
     "text": [
      "frame=6065\n",
      "fps=114.96\n",
      "stream_0_0_q=-0.0\n",
      "bitrate=N/A\n",
      "total_size=N/A\n",
      "out_time_us=241320000\n",
      "out_time_ms=241320000\n",
      "out_time=00:04:01.320000\n",
      "dup_frames=0\n",
      "drop_frames=0\n",
      "speed=4.57x\n",
      "progress=continue\n"
     ]
    },
    {
     "name": "stderr",
     "output_type": "stream",
     "text": [
      "frame= 6132 fps=115 q=-0.0 size=N/A time=00:04:04.00 bitrate=N/A speed=4.58x    \r"
     ]
    },
    {
     "name": "stdout",
     "output_type": "stream",
     "text": [
      "frame=6132\n",
      "fps=115.14\n",
      "stream_0_0_q=-0.0\n",
      "bitrate=N/A\n",
      "total_size=N/A\n",
      "out_time_us=244000000\n",
      "out_time_ms=244000000\n",
      "out_time=00:04:04.000000\n",
      "dup_frames=0\n",
      "drop_frames=0\n",
      "speed=4.58x\n",
      "progress=continue\n"
     ]
    },
    {
     "name": "stderr",
     "output_type": "stream",
     "text": [
      "frame= 6195 fps=115 q=-0.0 size=N/A time=00:04:06.52 bitrate=N/A speed=4.59x    \r"
     ]
    },
    {
     "name": "stdout",
     "output_type": "stream",
     "text": [
      "frame=6195\n",
      "fps=115.23\n",
      "stream_0_0_q=-0.0\n",
      "bitrate=N/A\n",
      "total_size=N/A\n",
      "out_time_us=246520000\n",
      "out_time_ms=246520000\n",
      "out_time=00:04:06.520000\n",
      "dup_frames=0\n",
      "drop_frames=0\n",
      "speed=4.59x\n",
      "progress=continue\n"
     ]
    },
    {
     "name": "stderr",
     "output_type": "stream",
     "text": [
      "frame= 6259 fps=115 q=-0.0 size=N/A time=00:04:09.08 bitrate=N/A speed=4.59x    \r"
     ]
    },
    {
     "name": "stdout",
     "output_type": "stream",
     "text": [
      "frame=6259\n",
      "fps=115.31\n",
      "stream_0_0_q=-0.0\n",
      "bitrate=N/A\n",
      "total_size=N/A\n",
      "out_time_us=249080000\n",
      "out_time_ms=249080000\n",
      "out_time=00:04:09.080000\n",
      "dup_frames=0\n",
      "drop_frames=0\n",
      "speed=4.59x\n",
      "progress=continue\n"
     ]
    },
    {
     "name": "stderr",
     "output_type": "stream",
     "text": [
      "frame= 6312 fps=115 q=-0.0 size=N/A time=00:04:11.20 bitrate=N/A speed=4.59x    \r"
     ]
    },
    {
     "name": "stdout",
     "output_type": "stream",
     "text": [
      "frame=6312\n",
      "fps=115.22\n",
      "stream_0_0_q=-0.0\n",
      "bitrate=N/A\n",
      "total_size=N/A\n",
      "out_time_us=251200000\n",
      "out_time_ms=251200000\n",
      "out_time=00:04:11.200000\n",
      "dup_frames=0\n",
      "drop_frames=0\n",
      "speed=4.59x\n",
      "progress=continue\n"
     ]
    },
    {
     "name": "stderr",
     "output_type": "stream",
     "text": [
      "frame= 6361 fps=115 q=-0.0 size=N/A time=00:04:13.16 bitrate=N/A speed=4.58x    \r"
     ]
    },
    {
     "name": "stdout",
     "output_type": "stream",
     "text": [
      "frame=6361\n",
      "fps=115.02\n",
      "stream_0_0_q=-0.0\n",
      "bitrate=N/A\n",
      "total_size=N/A\n",
      "out_time_us=253160000\n",
      "out_time_ms=253160000\n",
      "out_time=00:04:13.160000\n",
      "dup_frames=0\n",
      "drop_frames=0\n",
      "speed=4.58x\n",
      "progress=continue\n"
     ]
    },
    {
     "name": "stderr",
     "output_type": "stream",
     "text": [
      "frame= 6404 fps=115 q=-0.0 size=N/A time=00:04:14.88 bitrate=N/A speed=4.57x    \r"
     ]
    },
    {
     "name": "stdout",
     "output_type": "stream",
     "text": [
      "frame=6404\n",
      "fps=114.74\n",
      "stream_0_0_q=-0.0\n",
      "bitrate=N/A\n",
      "total_size=N/A\n",
      "out_time_us=254880000\n",
      "out_time_ms=254880000\n",
      "out_time=00:04:14.880000\n",
      "dup_frames=0\n",
      "drop_frames=0\n",
      "speed=4.57x\n",
      "progress=continue\n"
     ]
    },
    {
     "name": "stderr",
     "output_type": "stream",
     "text": [
      "frame= 6442 fps=114 q=-0.0 size=N/A time=00:04:16.40 bitrate=N/A speed=4.55x    \r"
     ]
    },
    {
     "name": "stdout",
     "output_type": "stream",
     "text": [
      "frame=6442\n",
      "fps=114.39\n",
      "stream_0_0_q=-0.0\n",
      "bitrate=N/A\n",
      "total_size=N/A\n",
      "out_time_us=256400000\n",
      "out_time_ms=256400000\n",
      "out_time=00:04:16.400000\n",
      "dup_frames=0\n",
      "drop_frames=0\n",
      "speed=4.55x\n",
      "progress=continue\n"
     ]
    },
    {
     "name": "stderr",
     "output_type": "stream",
     "text": [
      "frame= 6480 fps=114 q=-0.0 size=N/A time=00:04:17.92 bitrate=N/A speed=4.54x    \r"
     ]
    },
    {
     "name": "stdout",
     "output_type": "stream",
     "text": [
      "frame=6480\n",
      "fps=114.03\n",
      "stream_0_0_q=-0.0\n",
      "bitrate=N/A\n",
      "total_size=N/A\n",
      "out_time_us=257920000\n",
      "out_time_ms=257920000\n",
      "out_time=00:04:17.920000\n",
      "dup_frames=0\n",
      "drop_frames=0\n",
      "speed=4.54x\n",
      "progress=continue\n",
      "frame=6518\n",
      "fps=113.70\n",
      "stream_0_0_q=-0.0\n",
      "bitrate=N/A\n",
      "total_size=N/A\n",
      "out_time_us=259440000\n",
      "out_time_ms=259440000\n",
      "out_time=00:04:19.440000\n",
      "dup_frames=0\n",
      "drop_frames=0\n",
      "speed=4.53x\n",
      "progress=continue\n"
     ]
    },
    {
     "name": "stderr",
     "output_type": "stream",
     "text": [
      "frame= 6556 fps=113 q=-0.0 size=N/A time=00:04:20.96 bitrate=N/A speed=4.51x    \r"
     ]
    },
    {
     "name": "stdout",
     "output_type": "stream",
     "text": [
      "frame=6556\n",
      "fps=113.37\n",
      "stream_0_0_q=-0.0\n",
      "bitrate=N/A\n",
      "total_size=N/A\n",
      "out_time_us=260960000\n",
      "out_time_ms=260960000\n",
      "out_time=00:04:20.960000\n",
      "dup_frames=0\n",
      "drop_frames=0\n",
      "speed=4.51x\n",
      "progress=continue\n"
     ]
    },
    {
     "name": "stderr",
     "output_type": "stream",
     "text": [
      "frame= 6594 fps=113 q=-0.0 size=N/A time=00:04:22.48 bitrate=N/A speed= 4.5x    \r"
     ]
    },
    {
     "name": "stdout",
     "output_type": "stream",
     "text": [
      "frame=6594\n",
      "fps=113.04\n",
      "stream_0_0_q=-0.0\n",
      "bitrate=N/A\n",
      "total_size=N/A\n",
      "out_time_us=262480000\n",
      "out_time_ms=262480000\n",
      "out_time=00:04:22.480000\n",
      "dup_frames=0\n",
      "drop_frames=0\n",
      "speed= 4.5x\n",
      "progress=continue\n"
     ]
    },
    {
     "name": "stderr",
     "output_type": "stream",
     "text": [
      "frame= 6631 fps=113 q=-0.0 size=N/A time=00:04:23.96 bitrate=N/A speed=4.49x    \r"
     ]
    },
    {
     "name": "stdout",
     "output_type": "stream",
     "text": [
      "frame=6631\n",
      "fps=112.70\n",
      "stream_0_0_q=-0.0\n",
      "bitrate=N/A\n",
      "total_size=N/A\n",
      "out_time_us=263960000\n",
      "out_time_ms=263960000\n",
      "out_time=00:04:23.960000\n",
      "dup_frames=0\n",
      "drop_frames=0\n",
      "speed=4.49x\n",
      "progress=continue\n"
     ]
    },
    {
     "name": "stderr",
     "output_type": "stream",
     "text": [
      "frame= 6668 fps=112 q=-0.0 size=N/A time=00:04:25.44 bitrate=N/A speed=4.47x    \r"
     ]
    },
    {
     "name": "stdout",
     "output_type": "stream",
     "text": [
      "frame=6668\n",
      "fps=112.35\n",
      "stream_0_0_q=-0.0\n",
      "bitrate=N/A\n",
      "total_size=N/A\n",
      "out_time_us=265440000\n",
      "out_time_ms=265440000\n",
      "out_time=00:04:25.440000\n",
      "dup_frames=0\n",
      "drop_frames=0\n",
      "speed=4.47x\n",
      "progress=continue\n",
      "frame=6708\n",
      "fps=112.07\n",
      "stream_0_0_q=-0.0\n",
      "bitrate=N/A\n",
      "total_size=N/A\n",
      "out_time_us=267040000\n",
      "out_time_ms=267040000\n",
      "out_time=00:04:27.040000\n",
      "dup_frames=0\n",
      "drop_frames=0\n",
      "speed=4.46x\n",
      "progress=continue\n"
     ]
    },
    {
     "name": "stderr",
     "output_type": "stream",
     "text": [
      "frame= 6745 fps=112 q=-0.0 size=N/A time=00:04:28.52 bitrate=N/A speed=4.45x    \r"
     ]
    },
    {
     "name": "stdout",
     "output_type": "stream",
     "text": [
      "frame=6745\n",
      "fps=111.75\n",
      "stream_0_0_q=-0.0\n",
      "bitrate=N/A\n",
      "total_size=N/A\n",
      "out_time_us=268520000\n",
      "out_time_ms=268520000\n",
      "out_time=00:04:28.520000\n",
      "dup_frames=0\n",
      "drop_frames=0\n",
      "speed=4.45x\n",
      "progress=continue\n"
     ]
    },
    {
     "name": "stderr",
     "output_type": "stream",
     "text": [
      "frame= 6782 fps=111 q=-0.0 size=N/A time=00:04:30.00 bitrate=N/A speed=4.44x    \r"
     ]
    },
    {
     "name": "stdout",
     "output_type": "stream",
     "text": [
      "frame=6782\n",
      "fps=111.43\n",
      "stream_0_0_q=-0.0\n",
      "bitrate=N/A\n",
      "total_size=N/A\n",
      "out_time_us=270000000\n",
      "out_time_ms=270000000\n",
      "out_time=00:04:30.000000\n",
      "dup_frames=0\n",
      "drop_frames=0\n",
      "speed=4.44x\n",
      "progress=continue\n",
      "frame=6811\n",
      "fps=110.85\n",
      "stream_0_0_q=-0.0\n",
      "bitrate=N/A\n",
      "total_size=N/A\n",
      "out_time_us=271160000\n",
      "out_time_ms=271160000\n",
      "out_time=00:04:31.160000\n",
      "dup_frames=0\n",
      "drop_frames=0\n",
      "speed=4.41x\n",
      "progress=continue\n"
     ]
    },
    {
     "name": "stderr",
     "output_type": "stream",
     "text": [
      "frame= 6811 fps=111 q=-0.0 size=N/A time=00:04:31.16 bitrate=N/A speed=4.41x    \r"
     ]
    },
    {
     "name": "stdout",
     "output_type": "stream",
     "text": [
      "frame=6826\n",
      "fps=110.12\n",
      "stream_0_0_q=-0.0\n",
      "bitrate=N/A\n",
      "total_size=N/A\n",
      "out_time_us=271760000\n",
      "out_time_ms=271760000\n",
      "out_time=00:04:31.760000\n",
      "dup_frames=0\n",
      "drop_frames=0\n",
      "speed=4.38x\n",
      "progress=continue\n"
     ]
    },
    {
     "name": "stderr",
     "output_type": "stream",
     "text": [
      "frame= 6879 fps=110 q=-0.0 size=N/A time=00:04:33.88 bitrate=N/A speed=4.38x    \r"
     ]
    },
    {
     "name": "stdout",
     "output_type": "stream",
     "text": [
      "frame=6879\n",
      "fps=110.09\n",
      "stream_0_0_q=-0.0\n",
      "bitrate=N/A\n",
      "total_size=N/A\n",
      "out_time_us=273880000\n",
      "out_time_ms=273880000\n",
      "out_time=00:04:33.880000\n",
      "dup_frames=0\n",
      "drop_frames=0\n",
      "speed=4.38x\n",
      "progress=continue\n"
     ]
    },
    {
     "name": "stderr",
     "output_type": "stream",
     "text": [
      "frame= 6900 fps=110 q=-0.0 size=N/A time=00:04:34.72 bitrate=N/A speed=4.36x    \r"
     ]
    },
    {
     "name": "stdout",
     "output_type": "stream",
     "text": [
      "frame=6900\n",
      "fps=109.52\n",
      "stream_0_0_q=-0.0\n",
      "bitrate=N/A\n",
      "total_size=N/A\n",
      "out_time_us=274720000\n",
      "out_time_ms=274720000\n",
      "out_time=00:04:34.720000\n",
      "dup_frames=0\n",
      "drop_frames=0\n",
      "speed=4.36x\n",
      "progress=continue\n",
      "frame=6919\n",
      "fps=108.94\n",
      "stream_0_0_q=-0.0\n",
      "bitrate=N/A\n",
      "total_size=N/A\n",
      "out_time_us=275480000\n",
      "out_time_ms=275480000\n",
      "out_time=00:04:35.480000\n",
      "dup_frames=0\n",
      "drop_frames=0\n",
      "speed=4.34x\n",
      "progress=continue\n"
     ]
    },
    {
     "name": "stderr",
     "output_type": "stream",
     "text": [
      "frame= 6919 fps=109 q=-0.0 size=N/A time=00:04:35.48 bitrate=N/A speed=4.34x    \r"
     ]
    },
    {
     "name": "stdout",
     "output_type": "stream",
     "text": [
      "frame=6939\n",
      "fps=108.36\n",
      "stream_0_0_q=-0.0\n",
      "bitrate=N/A\n",
      "total_size=N/A\n",
      "out_time_us=276280000\n",
      "out_time_ms=276280000\n",
      "out_time=00:04:36.280000\n",
      "dup_frames=0\n",
      "drop_frames=0\n",
      "speed=4.31x\n",
      "progress=continue\n"
     ]
    },
    {
     "name": "stderr",
     "output_type": "stream",
     "text": [
      "frame= 6959 fps=108 q=-0.0 size=N/A time=00:04:37.08 bitrate=N/A speed=4.29x    \r"
     ]
    },
    {
     "name": "stdout",
     "output_type": "stream",
     "text": [
      "frame=6959\n",
      "fps=107.81\n",
      "stream_0_0_q=-0.0\n",
      "bitrate=N/A\n",
      "total_size=N/A\n",
      "out_time_us=277080000\n",
      "out_time_ms=277080000\n",
      "out_time=00:04:37.080000\n",
      "dup_frames=0\n",
      "drop_frames=0\n",
      "speed=4.29x\n",
      "progress=continue\n"
     ]
    },
    {
     "name": "stderr",
     "output_type": "stream",
     "text": [
      "frame= 6985 fps=107 q=-0.0 size=N/A time=00:04:38.12 bitrate=N/A speed=4.28x    \r"
     ]
    },
    {
     "name": "stdout",
     "output_type": "stream",
     "text": [
      "frame=6985\n",
      "fps=107.38\n",
      "stream_0_0_q=-0.0\n",
      "bitrate=N/A\n",
      "total_size=N/A\n",
      "out_time_us=278120000\n",
      "out_time_ms=278120000\n",
      "out_time=00:04:38.120000\n",
      "dup_frames=0\n",
      "drop_frames=0\n",
      "speed=4.28x\n",
      "progress=continue\n"
     ]
    },
    {
     "name": "stderr",
     "output_type": "stream",
     "text": [
      "frame= 6995 fps=106 q=-0.0 size=N/A time=00:04:38.52 bitrate=N/A speed=4.24x    \r"
     ]
    },
    {
     "name": "stdout",
     "output_type": "stream",
     "text": [
      "frame=6995\n",
      "fps=106.43\n",
      "stream_0_0_q=-0.0\n",
      "bitrate=N/A\n",
      "total_size=N/A\n",
      "out_time_us=278520000\n",
      "out_time_ms=278520000\n",
      "out_time=00:04:38.520000\n",
      "dup_frames=0\n",
      "drop_frames=0\n",
      "speed=4.24x\n",
      "progress=continue\n"
     ]
    },
    {
     "name": "stderr",
     "output_type": "stream",
     "text": [
      "frame= 7012 fps=106 q=-0.0 size=N/A time=00:04:39.20 bitrate=N/A speed=4.21x    \r"
     ]
    },
    {
     "name": "stdout",
     "output_type": "stream",
     "text": [
      "frame=7012\n",
      "fps=105.70\n",
      "stream_0_0_q=-0.0\n",
      "bitrate=N/A\n",
      "total_size=N/A\n",
      "out_time_us=279200000\n",
      "out_time_ms=279200000\n",
      "out_time=00:04:39.200000\n",
      "dup_frames=0\n",
      "drop_frames=0\n",
      "speed=4.21x\n",
      "progress=continue\n",
      "frame=7066\n",
      "fps=105.71\n",
      "stream_0_0_q=-0.0\n",
      "bitrate=N/A\n",
      "total_size=N/A\n",
      "out_time_us=281360000\n",
      "out_time_ms=281360000\n",
      "out_time=00:04:41.360000\n",
      "dup_frames=0\n",
      "drop_frames=0\n",
      "speed=4.21x\n",
      "progress=continue\n"
     ]
    },
    {
     "name": "stderr",
     "output_type": "stream",
     "text": [
      "frame= 7066 fps=106 q=-0.0 size=N/A time=00:04:41.36 bitrate=N/A speed=4.21x    \r"
     ]
    },
    {
     "name": "stdout",
     "output_type": "stream",
     "text": [
      "frame=7100\n",
      "fps=105.42\n",
      "stream_0_0_q=-0.0\n",
      "bitrate=N/A\n",
      "total_size=N/A\n",
      "out_time_us=282720000\n",
      "out_time_ms=282720000\n",
      "out_time=00:04:42.720000\n",
      "dup_frames=0\n",
      "drop_frames=0\n",
      "speed= 4.2x\n",
      "progress=continue\n"
     ]
    },
    {
     "name": "stderr",
     "output_type": "stream",
     "text": [
      "frame= 7100 fps=105 q=-0.0 size=N/A time=00:04:42.72 bitrate=N/A speed= 4.2x    \r"
     ]
    },
    {
     "name": "stdout",
     "output_type": "stream",
     "text": [
      "frame=7119\n",
      "fps=104.92\n",
      "stream_0_0_q=-0.0\n",
      "bitrate=N/A\n",
      "total_size=N/A\n",
      "out_time_us=283480000\n",
      "out_time_ms=283480000\n",
      "out_time=00:04:43.480000\n",
      "dup_frames=0\n",
      "drop_frames=0\n",
      "speed=4.18x\n",
      "progress=continue\n"
     ]
    },
    {
     "name": "stderr",
     "output_type": "stream",
     "text": [
      "frame= 7119 fps=105 q=-0.0 size=N/A time=00:04:43.48 bitrate=N/A speed=4.18x    \r"
     ]
    },
    {
     "name": "stdout",
     "output_type": "stream",
     "text": [
      "frame=7138\n",
      "fps=104.41\n",
      "stream_0_0_q=-0.0\n",
      "bitrate=N/A\n",
      "total_size=N/A\n",
      "out_time_us=284240000\n",
      "out_time_ms=284240000\n",
      "out_time=00:04:44.240000\n",
      "dup_frames=0\n",
      "drop_frames=0\n",
      "speed=4.16x\n",
      "progress=continue\n"
     ]
    },
    {
     "name": "stderr",
     "output_type": "stream",
     "text": [
      "frame= 7138 fps=104 q=-0.0 size=N/A time=00:04:44.24 bitrate=N/A speed=4.16x    \r"
     ]
    },
    {
     "name": "stdout",
     "output_type": "stream",
     "text": [
      "frame=7157\n",
      "fps=103.92\n",
      "stream_0_0_q=-0.0\n",
      "bitrate=N/A\n",
      "total_size=N/A\n",
      "out_time_us=285000000\n",
      "out_time_ms=285000000\n",
      "out_time=00:04:45.000000\n",
      "dup_frames=0\n",
      "drop_frames=0\n",
      "speed=4.14x\n",
      "progress=continue\n"
     ]
    },
    {
     "name": "stderr",
     "output_type": "stream",
     "text": [
      "frame= 7157 fps=104 q=-0.0 size=N/A time=00:04:45.00 bitrate=N/A speed=4.14x    \r"
     ]
    },
    {
     "name": "stdout",
     "output_type": "stream",
     "text": [
      "frame=7176\n",
      "fps=103.44\n",
      "stream_0_0_q=-0.0\n",
      "bitrate=N/A\n",
      "total_size=N/A\n",
      "out_time_us=285760000\n",
      "out_time_ms=285760000\n",
      "out_time=00:04:45.760000\n",
      "dup_frames=0\n",
      "drop_frames=0\n",
      "speed=4.12x\n",
      "progress=continue\n"
     ]
    },
    {
     "name": "stderr",
     "output_type": "stream",
     "text": [
      "frame= 7176 fps=103 q=-0.0 size=N/A time=00:04:45.76 bitrate=N/A speed=4.12x    \r"
     ]
    },
    {
     "name": "stdout",
     "output_type": "stream",
     "text": [
      "frame=7195\n",
      "fps=102.95\n",
      "stream_0_0_q=-0.0\n",
      "bitrate=N/A\n",
      "total_size=N/A\n",
      "out_time_us=286520000\n",
      "out_time_ms=286520000\n",
      "out_time=00:04:46.520000\n",
      "dup_frames=0\n",
      "drop_frames=0\n",
      "speed= 4.1x\n",
      "progress=continue\n"
     ]
    },
    {
     "name": "stderr",
     "output_type": "stream",
     "text": [
      "frame= 7195 fps=103 q=-0.0 size=N/A time=00:04:46.52 bitrate=N/A speed= 4.1x    \r"
     ]
    },
    {
     "name": "stdout",
     "output_type": "stream",
     "text": [
      "frame=7214\n",
      "fps=102.48\n",
      "stream_0_0_q=-0.0\n",
      "bitrate=N/A\n",
      "total_size=N/A\n",
      "out_time_us=287280000\n",
      "out_time_ms=287280000\n",
      "out_time=00:04:47.280000\n",
      "dup_frames=0\n",
      "drop_frames=0\n",
      "speed=4.08x\n",
      "progress=continue\n"
     ]
    },
    {
     "name": "stderr",
     "output_type": "stream",
     "text": [
      "frame= 7214 fps=102 q=-0.0 size=N/A time=00:04:47.28 bitrate=N/A speed=4.08x    \r"
     ]
    },
    {
     "name": "stdout",
     "output_type": "stream",
     "text": [
      "frame=7235\n",
      "fps=102.02\n",
      "stream_0_0_q=-0.0\n",
      "bitrate=N/A\n",
      "total_size=N/A\n",
      "out_time_us=288120000\n",
      "out_time_ms=288120000\n",
      "out_time=00:04:48.120000\n",
      "dup_frames=0\n",
      "drop_frames=0\n",
      "speed=4.06x\n",
      "progress=continue\n"
     ]
    },
    {
     "name": "stderr",
     "output_type": "stream",
     "text": [
      "frame= 7235 fps=102 q=-0.0 size=N/A time=00:04:48.12 bitrate=N/A speed=4.06x    \r"
     ]
    },
    {
     "name": "stdout",
     "output_type": "stream",
     "text": [
      "frame=7255\n",
      "fps=101.54\n",
      "stream_0_0_q=-0.0\n",
      "bitrate=N/A\n",
      "total_size=N/A\n",
      "out_time_us=288920000\n",
      "out_time_ms=288920000\n",
      "out_time=00:04:48.920000\n",
      "dup_frames=0\n",
      "drop_frames=0\n",
      "speed=4.04x\n",
      "progress=continue\n"
     ]
    },
    {
     "name": "stderr",
     "output_type": "stream",
     "text": [
      "frame= 7255 fps=102 q=-0.0 size=N/A time=00:04:48.92 bitrate=N/A speed=4.04x    \r"
     ]
    },
    {
     "name": "stdout",
     "output_type": "stream",
     "text": [
      "frame=7275\n",
      "fps=101.07\n",
      "stream_0_0_q=-0.0\n",
      "bitrate=N/A\n",
      "total_size=N/A\n",
      "out_time_us=289720000\n",
      "out_time_ms=289720000\n",
      "out_time=00:04:49.720000\n",
      "dup_frames=0\n",
      "drop_frames=0\n",
      "speed=4.03x\n",
      "progress=continue\n"
     ]
    },
    {
     "name": "stderr",
     "output_type": "stream",
     "text": [
      "frame= 7275 fps=101 q=-0.0 size=N/A time=00:04:49.72 bitrate=N/A speed=4.03x    \r"
     ]
    },
    {
     "name": "stdout",
     "output_type": "stream",
     "text": [
      "frame=7295\n",
      "fps=100.61\n",
      "stream_0_0_q=-0.0\n",
      "bitrate=N/A\n",
      "total_size=N/A\n",
      "out_time_us=290520000\n",
      "out_time_ms=290520000\n",
      "out_time=00:04:50.520000\n",
      "dup_frames=0\n",
      "drop_frames=0\n",
      "speed=4.01x\n",
      "progress=continue\n"
     ]
    },
    {
     "name": "stderr",
     "output_type": "stream",
     "text": [
      "frame= 7295 fps=101 q=-0.0 size=N/A time=00:04:50.52 bitrate=N/A speed=4.01x    \r"
     ]
    },
    {
     "name": "stdout",
     "output_type": "stream",
     "text": [
      "frame=7314\n",
      "fps=100.17\n",
      "stream_0_0_q=-0.0\n",
      "bitrate=N/A\n",
      "total_size=N/A\n",
      "out_time_us=291280000\n",
      "out_time_ms=291280000\n",
      "out_time=00:04:51.280000\n",
      "dup_frames=0\n",
      "drop_frames=0\n",
      "speed=3.99x\n",
      "progress=continue\n"
     ]
    },
    {
     "name": "stderr",
     "output_type": "stream",
     "text": [
      "frame= 7314 fps=100 q=-0.0 size=N/A time=00:04:51.28 bitrate=N/A speed=3.99x    \r"
     ]
    },
    {
     "name": "stdout",
     "output_type": "stream",
     "text": [
      "frame=7333\n",
      "fps=99.73\n",
      "stream_0_0_q=-0.0\n",
      "bitrate=N/A\n",
      "total_size=N/A\n",
      "out_time_us=292040000\n",
      "out_time_ms=292040000\n",
      "out_time=00:04:52.040000\n",
      "dup_frames=0\n",
      "drop_frames=0\n",
      "speed=3.97x\n",
      "progress=continue\n"
     ]
    },
    {
     "name": "stderr",
     "output_type": "stream",
     "text": [
      "frame= 7347 fps= 99 q=-0.0 size=N/A time=00:04:52.60 bitrate=N/A speed=3.95x    \r"
     ]
    },
    {
     "name": "stdout",
     "output_type": "stream",
     "text": [
      "frame=7347\n",
      "fps=99.16\n",
      "stream_0_0_q=-0.0\n",
      "bitrate=N/A\n",
      "total_size=N/A\n",
      "out_time_us=292600000\n",
      "out_time_ms=292600000\n",
      "out_time=00:04:52.600000\n",
      "dup_frames=0\n",
      "drop_frames=0\n",
      "speed=3.95x\n",
      "progress=continue\n",
      "frame=7388\n",
      "fps=99.03\n",
      "stream_0_0_q=-0.0\n",
      "bitrate=N/A\n",
      "total_size=N/A\n",
      "out_time_us=294240000\n",
      "out_time_ms=294240000\n",
      "out_time=00:04:54.240000\n",
      "dup_frames=0\n",
      "drop_frames=0\n",
      "speed=3.94x\n",
      "progress=continue\n"
     ]
    },
    {
     "name": "stderr",
     "output_type": "stream",
     "text": [
      "frame= 7388 fps= 99 q=-0.0 size=N/A time=00:04:54.24 bitrate=N/A speed=3.94x    \r"
     ]
    },
    {
     "name": "stdout",
     "output_type": "stream",
     "text": [
      "frame=7407\n",
      "fps=98.62\n",
      "stream_0_0_q=-0.0\n",
      "bitrate=N/A\n",
      "total_size=N/A\n",
      "out_time_us=295000000\n",
      "out_time_ms=295000000\n",
      "out_time=00:04:55.000000\n",
      "dup_frames=0\n",
      "drop_frames=0\n",
      "speed=3.93x\n",
      "progress=continue\n"
     ]
    },
    {
     "name": "stderr",
     "output_type": "stream",
     "text": [
      "frame= 7407 fps= 99 q=-0.0 size=N/A time=00:04:55.00 bitrate=N/A speed=3.93x    \r"
     ]
    },
    {
     "name": "stdout",
     "output_type": "stream",
     "text": [
      "frame=7426\n",
      "fps=98.20\n",
      "stream_0_0_q=-0.0\n",
      "bitrate=N/A\n",
      "total_size=N/A\n",
      "out_time_us=295760000\n",
      "out_time_ms=295760000\n",
      "out_time=00:04:55.760000\n",
      "dup_frames=0\n",
      "drop_frames=0\n",
      "speed=3.91x\n",
      "progress=continue\n"
     ]
    },
    {
     "name": "stderr",
     "output_type": "stream",
     "text": [
      "frame= 7426 fps= 98 q=-0.0 size=N/A time=00:04:55.76 bitrate=N/A speed=3.91x    \r"
     ]
    },
    {
     "name": "stdout",
     "output_type": "stream",
     "text": [
      "frame=7437\n",
      "fps=97.59\n",
      "stream_0_0_q=-0.0\n",
      "bitrate=N/A\n",
      "total_size=N/A\n",
      "out_time_us=296200000\n",
      "out_time_ms=296200000\n",
      "out_time=00:04:56.200000\n",
      "dup_frames=0\n",
      "drop_frames=0\n",
      "speed=3.89x\n",
      "progress=continue\n"
     ]
    },
    {
     "name": "stderr",
     "output_type": "stream",
     "text": [
      "frame= 7437 fps= 98 q=-0.0 size=N/A time=00:04:56.20 bitrate=N/A speed=3.89x    \r"
     ]
    },
    {
     "name": "stdout",
     "output_type": "stream",
     "text": [
      "frame=7466\n",
      "fps=97.32\n",
      "stream_0_0_q=-0.0\n",
      "bitrate=N/A\n",
      "total_size=N/A\n",
      "out_time_us=297360000\n",
      "out_time_ms=297360000\n",
      "out_time=00:04:57.360000\n",
      "dup_frames=0\n",
      "drop_frames=0\n",
      "speed=3.88x\n",
      "progress=continue\n"
     ]
    },
    {
     "name": "stderr",
     "output_type": "stream",
     "text": [
      "frame= 7466 fps= 97 q=-0.0 size=N/A time=00:04:57.36 bitrate=N/A speed=3.88x    \r"
     ]
    },
    {
     "name": "stdout",
     "output_type": "stream",
     "text": [
      "frame=7485\n",
      "fps=96.91\n",
      "stream_0_0_q=-0.0\n",
      "bitrate=N/A\n",
      "total_size=N/A\n",
      "out_time_us=298120000\n",
      "out_time_ms=298120000\n",
      "out_time=00:04:58.120000\n",
      "dup_frames=0\n",
      "drop_frames=0\n",
      "speed=3.86x\n",
      "progress=continue\n"
     ]
    },
    {
     "name": "stderr",
     "output_type": "stream",
     "text": [
      "frame= 7485 fps= 97 q=-0.0 size=N/A time=00:04:58.12 bitrate=N/A speed=3.86x    \r"
     ]
    },
    {
     "name": "stdout",
     "output_type": "stream",
     "text": [
      "frame=7504\n",
      "fps=96.52\n",
      "stream_0_0_q=-0.0\n",
      "bitrate=N/A\n",
      "total_size=N/A\n",
      "out_time_us=298880000\n",
      "out_time_ms=298880000\n",
      "out_time=00:04:58.880000\n",
      "dup_frames=0\n",
      "drop_frames=0\n",
      "speed=3.84x\n",
      "progress=continue\n"
     ]
    },
    {
     "name": "stderr",
     "output_type": "stream",
     "text": [
      "frame= 7523 fps= 96 q=-0.0 size=N/A time=00:04:59.64 bitrate=N/A speed=3.83x    \r"
     ]
    },
    {
     "name": "stdout",
     "output_type": "stream",
     "text": [
      "frame=7523\n",
      "fps=96.13\n",
      "stream_0_0_q=-0.0\n",
      "bitrate=N/A\n",
      "total_size=N/A\n",
      "out_time_us=299640000\n",
      "out_time_ms=299640000\n",
      "out_time=00:04:59.640000\n",
      "dup_frames=0\n",
      "drop_frames=0\n",
      "speed=3.83x\n",
      "progress=continue\n"
     ]
    },
    {
     "name": "stderr",
     "output_type": "stream",
     "text": [
      "frame= 7546 fps= 96 q=-0.0 size=N/A time=00:05:00.56 bitrate=N/A speed=3.82x    \r"
     ]
    },
    {
     "name": "stdout",
     "output_type": "stream",
     "text": [
      "frame=7546\n",
      "fps=95.80\n",
      "stream_0_0_q=-0.0\n",
      "bitrate=N/A\n",
      "total_size=N/A\n",
      "out_time_us=300560000\n",
      "out_time_ms=300560000\n",
      "out_time=00:05:00.560000\n",
      "dup_frames=0\n",
      "drop_frames=0\n",
      "speed=3.82x\n",
      "progress=continue\n",
      "frame=7570\n",
      "fps=95.47\n",
      "stream_0_0_q=-0.0\n",
      "bitrate=N/A\n",
      "total_size=N/A\n",
      "out_time_us=301520000\n",
      "out_time_ms=301520000\n",
      "out_time=00:05:01.520000\n",
      "dup_frames=0\n",
      "drop_frames=0\n",
      "speed= 3.8x\n",
      "progress=continue\n"
     ]
    },
    {
     "name": "stderr",
     "output_type": "stream",
     "text": [
      "frame= 7570 fps= 95 q=-0.0 size=N/A time=00:05:01.52 bitrate=N/A speed= 3.8x    \r"
     ]
    },
    {
     "name": "stdout",
     "output_type": "stream",
     "text": [
      "frame=7592\n",
      "fps=95.15\n",
      "stream_0_0_q=-0.0\n",
      "bitrate=N/A\n",
      "total_size=N/A\n",
      "out_time_us=302400000\n",
      "out_time_ms=302400000\n",
      "out_time=00:05:02.400000\n",
      "dup_frames=0\n",
      "drop_frames=0\n",
      "speed=3.79x\n",
      "progress=continue\n"
     ]
    },
    {
     "name": "stderr",
     "output_type": "stream",
     "text": [
      "frame= 7617 fps= 95 q=-0.0 size=N/A time=00:05:03.40 bitrate=N/A speed=3.78x    \r"
     ]
    },
    {
     "name": "stdout",
     "output_type": "stream",
     "text": [
      "frame=7617\n",
      "fps=94.86\n",
      "stream_0_0_q=-0.0\n",
      "bitrate=N/A\n",
      "total_size=N/A\n",
      "out_time_us=303400000\n",
      "out_time_ms=303400000\n",
      "out_time=00:05:03.400000\n",
      "dup_frames=0\n",
      "drop_frames=0\n",
      "speed=3.78x\n",
      "progress=continue\n"
     ]
    },
    {
     "name": "stderr",
     "output_type": "stream",
     "text": [
      "frame= 7632 fps= 94 q=-0.0 size=N/A time=00:05:04.00 bitrate=N/A speed=3.76x    \r"
     ]
    },
    {
     "name": "stdout",
     "output_type": "stream",
     "text": [
      "frame=7632\n",
      "fps=94.40\n",
      "stream_0_0_q=-0.0\n",
      "bitrate=N/A\n",
      "total_size=N/A\n",
      "out_time_us=304000000\n",
      "out_time_ms=304000000\n",
      "out_time=00:05:04.000000\n",
      "dup_frames=0\n",
      "drop_frames=0\n",
      "speed=3.76x\n",
      "progress=continue\n"
     ]
    },
    {
     "name": "stderr",
     "output_type": "stream",
     "text": [
      "frame= 7662 fps= 94 q=-0.0 size=N/A time=00:05:05.20 bitrate=N/A speed=3.75x    \r"
     ]
    },
    {
     "name": "stdout",
     "output_type": "stream",
     "text": [
      "frame=7662\n",
      "fps=94.18\n",
      "stream_0_0_q=-0.0\n",
      "bitrate=N/A\n",
      "total_size=N/A\n",
      "out_time_us=305200000\n",
      "out_time_ms=305200000\n",
      "out_time=00:05:05.200000\n",
      "dup_frames=0\n",
      "drop_frames=0\n",
      "speed=3.75x\n",
      "progress=continue\n"
     ]
    },
    {
     "name": "stderr",
     "output_type": "stream",
     "text": [
      "frame= 7680 fps= 94 q=-0.0 size=N/A time=00:05:05.92 bitrate=N/A speed=3.74x    \r"
     ]
    },
    {
     "name": "stdout",
     "output_type": "stream",
     "text": [
      "frame=7680\n",
      "fps=93.82\n",
      "stream_0_0_q=-0.0\n",
      "bitrate=N/A\n",
      "total_size=N/A\n",
      "out_time_us=305920000\n",
      "out_time_ms=305920000\n",
      "out_time=00:05:05.920000\n",
      "dup_frames=0\n",
      "drop_frames=0\n",
      "speed=3.74x\n",
      "progress=continue\n"
     ]
    },
    {
     "name": "stderr",
     "output_type": "stream",
     "text": [
      "frame= 7700 fps= 93 q=-0.0 size=N/A time=00:05:06.72 bitrate=N/A speed=3.72x    \r"
     ]
    },
    {
     "name": "stdout",
     "output_type": "stream",
     "text": [
      "frame=7700\n",
      "fps=93.48\n",
      "stream_0_0_q=-0.0\n",
      "bitrate=N/A\n",
      "total_size=N/A\n",
      "out_time_us=306720000\n",
      "out_time_ms=306720000\n",
      "out_time=00:05:06.720000\n",
      "dup_frames=0\n",
      "drop_frames=0\n",
      "speed=3.72x\n",
      "progress=continue\n"
     ]
    },
    {
     "name": "stderr",
     "output_type": "stream",
     "text": [
      "frame= 7720 fps= 93 q=-0.0 size=N/A time=00:05:07.52 bitrate=N/A speed=3.71x    \r"
     ]
    },
    {
     "name": "stdout",
     "output_type": "stream",
     "text": [
      "frame=7720\n",
      "fps=93.14\n",
      "stream_0_0_q=-0.0\n",
      "bitrate=N/A\n",
      "total_size=N/A\n",
      "out_time_us=307520000\n",
      "out_time_ms=307520000\n",
      "out_time=00:05:07.520000\n",
      "dup_frames=0\n",
      "drop_frames=0\n",
      "speed=3.71x\n",
      "progress=continue\n"
     ]
    },
    {
     "name": "stderr",
     "output_type": "stream",
     "text": [
      "frame= 7743 fps= 93 q=-0.0 size=N/A time=00:05:08.44 bitrate=N/A speed= 3.7x    \r"
     ]
    },
    {
     "name": "stdout",
     "output_type": "stream",
     "text": [
      "frame=7743\n",
      "fps=92.86\n",
      "stream_0_0_q=-0.0\n",
      "bitrate=N/A\n",
      "total_size=N/A\n",
      "out_time_us=308440000\n",
      "out_time_ms=308440000\n",
      "out_time=00:05:08.440000\n",
      "dup_frames=0\n",
      "drop_frames=0\n",
      "speed= 3.7x\n",
      "progress=continue\n"
     ]
    },
    {
     "name": "stderr",
     "output_type": "stream",
     "text": [
      "frame= 7765 fps= 93 q=-0.0 size=N/A time=00:05:09.32 bitrate=N/A speed=3.69x    \r"
     ]
    },
    {
     "name": "stdout",
     "output_type": "stream",
     "text": [
      "frame=7765\n",
      "fps=92.54\n",
      "stream_0_0_q=-0.0\n",
      "bitrate=N/A\n",
      "total_size=N/A\n",
      "out_time_us=309320000\n",
      "out_time_ms=309320000\n",
      "out_time=00:05:09.320000\n",
      "dup_frames=0\n",
      "drop_frames=0\n",
      "speed=3.69x\n",
      "progress=continue\n"
     ]
    },
    {
     "name": "stderr",
     "output_type": "stream",
     "text": [
      "frame= 7785 fps= 92 q=-0.0 size=N/A time=00:05:10.12 bitrate=N/A speed=3.67x    \r"
     ]
    },
    {
     "name": "stdout",
     "output_type": "stream",
     "text": [
      "frame=7785\n",
      "fps=92.21\n",
      "stream_0_0_q=-0.0\n",
      "bitrate=N/A\n",
      "total_size=N/A\n",
      "out_time_us=310120000\n",
      "out_time_ms=310120000\n",
      "out_time=00:05:10.120000\n",
      "dup_frames=0\n",
      "drop_frames=0\n",
      "speed=3.67x\n",
      "progress=continue\n"
     ]
    },
    {
     "name": "stderr",
     "output_type": "stream",
     "text": [
      "frame= 7808 fps= 92 q=-0.0 size=N/A time=00:05:11.04 bitrate=N/A speed=3.66x    \r"
     ]
    },
    {
     "name": "stdout",
     "output_type": "stream",
     "text": [
      "frame=7808\n",
      "fps=91.93\n",
      "stream_0_0_q=-0.0\n",
      "bitrate=N/A\n",
      "total_size=N/A\n",
      "out_time_us=311040000\n",
      "out_time_ms=311040000\n",
      "out_time=00:05:11.040000\n",
      "dup_frames=0\n",
      "drop_frames=0\n",
      "speed=3.66x\n",
      "progress=continue\n"
     ]
    },
    {
     "name": "stderr",
     "output_type": "stream",
     "text": [
      "frame= 7829 fps= 92 q=-0.0 size=N/A time=00:05:11.88 bitrate=N/A speed=3.65x    \r"
     ]
    },
    {
     "name": "stdout",
     "output_type": "stream",
     "text": [
      "frame=7829\n",
      "fps=91.61\n",
      "stream_0_0_q=-0.0\n",
      "bitrate=N/A\n",
      "total_size=N/A\n",
      "out_time_us=311880000\n",
      "out_time_ms=311880000\n",
      "out_time=00:05:11.880000\n",
      "dup_frames=0\n",
      "drop_frames=0\n",
      "speed=3.65x\n",
      "progress=continue\n"
     ]
    },
    {
     "name": "stderr",
     "output_type": "stream",
     "text": [
      "frame= 7849 fps= 91 q=-0.0 size=N/A time=00:05:12.68 bitrate=N/A speed=3.64x    \r"
     ]
    },
    {
     "name": "stdout",
     "output_type": "stream",
     "text": [
      "frame=7849\n",
      "fps=91.28\n",
      "stream_0_0_q=-0.0\n",
      "bitrate=N/A\n",
      "total_size=N/A\n",
      "out_time_us=312680000\n",
      "out_time_ms=312680000\n",
      "out_time=00:05:12.680000\n",
      "dup_frames=0\n",
      "drop_frames=0\n",
      "speed=3.64x\n",
      "progress=continue\n"
     ]
    },
    {
     "name": "stderr",
     "output_type": "stream",
     "text": [
      "frame= 7869 fps= 91 q=-0.0 size=N/A time=00:05:13.48 bitrate=N/A speed=3.62x    \r"
     ]
    },
    {
     "name": "stdout",
     "output_type": "stream",
     "text": [
      "frame=7869\n",
      "fps=90.97\n",
      "stream_0_0_q=-0.0\n",
      "bitrate=N/A\n",
      "total_size=N/A\n",
      "out_time_us=313480000\n",
      "out_time_ms=313480000\n",
      "out_time=00:05:13.480000\n",
      "dup_frames=0\n",
      "drop_frames=0\n",
      "speed=3.62x\n",
      "progress=continue\n"
     ]
    },
    {
     "name": "stderr",
     "output_type": "stream",
     "text": [
      "frame= 7891 fps= 91 q=-0.0 size=N/A time=00:05:14.36 bitrate=N/A speed=3.61x    \r"
     ]
    },
    {
     "name": "stdout",
     "output_type": "stream",
     "text": [
      "frame=7891\n",
      "fps=90.69\n",
      "stream_0_0_q=-0.0\n",
      "bitrate=N/A\n",
      "total_size=N/A\n",
      "out_time_us=314360000\n",
      "out_time_ms=314360000\n",
      "out_time=00:05:14.360000\n",
      "dup_frames=0\n",
      "drop_frames=0\n",
      "speed=3.61x\n",
      "progress=continue\n",
      "frame=7912\n",
      "fps=90.40\n",
      "stream_0_0_q=-0.0\n",
      "bitrate=N/A\n",
      "total_size=N/A\n",
      "out_time_us=315200000\n",
      "out_time_ms=315200000\n",
      "out_time=00:05:15.200000\n",
      "dup_frames=0\n",
      "drop_frames=0\n",
      "speed= 3.6x\n",
      "progress=continue\n"
     ]
    },
    {
     "name": "stderr",
     "output_type": "stream",
     "text": [
      "frame= 7934 fps= 90 q=-0.0 size=N/A time=00:05:16.08 bitrate=N/A speed=3.59x    \r"
     ]
    },
    {
     "name": "stdout",
     "output_type": "stream",
     "text": [
      "frame=7934\n",
      "fps=90.14\n",
      "stream_0_0_q=-0.0\n",
      "bitrate=N/A\n",
      "total_size=N/A\n",
      "out_time_us=316080000\n",
      "out_time_ms=316080000\n",
      "out_time=00:05:16.080000\n",
      "dup_frames=0\n",
      "drop_frames=0\n",
      "speed=3.59x\n",
      "progress=continue\n"
     ]
    },
    {
     "name": "stderr",
     "output_type": "stream",
     "text": [
      "frame= 7960 fps= 90 q=-0.0 size=N/A time=00:05:17.12 bitrate=N/A speed=3.58x    \r"
     ]
    },
    {
     "name": "stdout",
     "output_type": "stream",
     "text": [
      "frame=7960\n",
      "fps=89.92\n",
      "stream_0_0_q=-0.0\n",
      "bitrate=N/A\n",
      "total_size=N/A\n",
      "out_time_us=317120000\n",
      "out_time_ms=317120000\n",
      "out_time=00:05:17.120000\n",
      "dup_frames=0\n",
      "drop_frames=0\n",
      "speed=3.58x\n",
      "progress=continue\n"
     ]
    },
    {
     "name": "stderr",
     "output_type": "stream",
     "text": [
      "frame= 7980 fps= 90 q=-0.0 size=N/A time=00:05:17.92 bitrate=N/A speed=3.57x    \r"
     ]
    },
    {
     "name": "stdout",
     "output_type": "stream",
     "text": [
      "frame=7980\n",
      "fps=89.63\n",
      "stream_0_0_q=-0.0\n",
      "bitrate=N/A\n",
      "total_size=N/A\n",
      "out_time_us=317920000\n",
      "out_time_ms=317920000\n",
      "out_time=00:05:17.920000\n",
      "dup_frames=0\n",
      "drop_frames=0\n",
      "speed=3.57x\n",
      "progress=continue\n"
     ]
    },
    {
     "name": "stderr",
     "output_type": "stream",
     "text": [
      "frame= 8003 fps= 89 q=-0.0 size=N/A time=00:05:18.84 bitrate=N/A speed=3.56x    \r"
     ]
    },
    {
     "name": "stdout",
     "output_type": "stream",
     "text": [
      "frame=8003\n",
      "fps=89.36\n",
      "stream_0_0_q=-0.0\n",
      "bitrate=N/A\n",
      "total_size=N/A\n",
      "out_time_us=318840000\n",
      "out_time_ms=318840000\n",
      "out_time=00:05:18.840000\n",
      "dup_frames=0\n",
      "drop_frames=0\n",
      "speed=3.56x\n",
      "progress=continue\n"
     ]
    },
    {
     "name": "stderr",
     "output_type": "stream",
     "text": [
      "frame= 8022 fps= 89 q=-0.0 size=N/A time=00:05:19.60 bitrate=N/A speed=3.54x    \r"
     ]
    },
    {
     "name": "stdout",
     "output_type": "stream",
     "text": [
      "frame=8022\n",
      "fps=88.82\n",
      "stream_0_0_q=-0.0\n",
      "bitrate=N/A\n",
      "total_size=N/A\n",
      "out_time_us=319600000\n",
      "out_time_ms=319600000\n",
      "out_time=00:05:19.600000\n",
      "dup_frames=0\n",
      "drop_frames=0\n",
      "speed=3.54x\n",
      "progress=continue\n"
     ]
    },
    {
     "name": "stderr",
     "output_type": "stream",
     "text": [
      "frame= 8059 fps= 89 q=-0.0 size=N/A time=00:05:21.08 bitrate=N/A speed=3.53x    \r"
     ]
    },
    {
     "name": "stdout",
     "output_type": "stream",
     "text": [
      "frame=8059\n",
      "fps=88.72\n",
      "stream_0_0_q=-0.0\n",
      "bitrate=N/A\n",
      "total_size=N/A\n",
      "out_time_us=321080000\n",
      "out_time_ms=321080000\n",
      "out_time=00:05:21.080000\n",
      "dup_frames=0\n",
      "drop_frames=0\n",
      "speed=3.53x\n",
      "progress=continue\n"
     ]
    },
    {
     "name": "stderr",
     "output_type": "stream",
     "text": [
      "frame= 8079 fps= 88 q=-0.0 size=N/A time=00:05:21.88 bitrate=N/A speed=3.52x    \r"
     ]
    },
    {
     "name": "stdout",
     "output_type": "stream",
     "text": [
      "frame=8079\n",
      "fps=88.43\n",
      "stream_0_0_q=-0.0\n",
      "bitrate=N/A\n",
      "total_size=N/A\n",
      "out_time_us=321880000\n",
      "out_time_ms=321880000\n",
      "out_time=00:05:21.880000\n",
      "dup_frames=0\n",
      "drop_frames=0\n",
      "speed=3.52x\n",
      "progress=continue\n",
      "frame=8089\n",
      "fps=87.97\n",
      "stream_0_0_q=-0.0\n",
      "bitrate=N/A\n",
      "total_size=N/A\n",
      "out_time_us=322280000\n",
      "out_time_ms=322280000\n",
      "out_time=00:05:22.280000\n",
      "dup_frames=0\n",
      "drop_frames=0\n",
      "speed= 3.5x\n",
      "progress=continue\n"
     ]
    },
    {
     "name": "stderr",
     "output_type": "stream",
     "text": [
      "frame= 8100 fps= 87 q=-0.0 size=N/A time=00:05:22.72 bitrate=N/A speed=3.48x    \r"
     ]
    },
    {
     "name": "stdout",
     "output_type": "stream",
     "text": [
      "frame=8100\n",
      "fps=87.46\n",
      "stream_0_0_q=-0.0\n",
      "bitrate=N/A\n",
      "total_size=N/A\n",
      "out_time_us=322720000\n",
      "out_time_ms=322720000\n",
      "out_time=00:05:22.720000\n",
      "dup_frames=0\n",
      "drop_frames=0\n",
      "speed=3.48x\n",
      "progress=continue\n",
      "frame=8120\n",
      "fps=87.21\n",
      "stream_0_0_q=-0.0\n",
      "bitrate=N/A\n",
      "total_size=N/A\n",
      "out_time_us=323520000\n",
      "out_time_ms=323520000\n",
      "out_time=00:05:23.520000\n",
      "dup_frames=0\n",
      "drop_frames=0\n",
      "speed=3.47x\n",
      "progress=continue\n"
     ]
    },
    {
     "name": "stderr",
     "output_type": "stream",
     "text": [
      "frame= 8131 fps= 87 q=-0.0 size=N/A time=00:05:23.96 bitrate=N/A speed=3.46x    \r"
     ]
    },
    {
     "name": "stdout",
     "output_type": "stream",
     "text": [
      "frame=8131\n",
      "fps=86.85\n",
      "stream_0_0_q=-0.0\n",
      "bitrate=N/A\n",
      "total_size=N/A\n",
      "out_time_us=323960000\n",
      "out_time_ms=323960000\n",
      "out_time=00:05:23.960000\n",
      "dup_frames=0\n",
      "drop_frames=0\n",
      "speed=3.46x\n",
      "progress=continue\n"
     ]
    },
    {
     "name": "stderr",
     "output_type": "stream",
     "text": [
      "frame= 8143 fps= 86 q=-0.0 size=N/A time=00:05:24.44 bitrate=N/A speed=3.44x    \r"
     ]
    },
    {
     "name": "stdout",
     "output_type": "stream",
     "text": [
      "frame=8143\n",
      "fps=86.45\n",
      "stream_0_0_q=-0.0\n",
      "bitrate=N/A\n",
      "total_size=N/A\n",
      "out_time_us=324440000\n",
      "out_time_ms=324440000\n",
      "out_time=00:05:24.440000\n",
      "dup_frames=0\n",
      "drop_frames=0\n",
      "speed=3.44x\n",
      "progress=continue\n"
     ]
    },
    {
     "name": "stderr",
     "output_type": "stream",
     "text": [
      "frame= 8189 fps= 86 q=-0.0 size=N/A time=00:05:26.28 bitrate=N/A speed=3.45x    \r"
     ]
    },
    {
     "name": "stdout",
     "output_type": "stream",
     "text": [
      "frame=8189\n",
      "fps=86.47\n",
      "stream_0_0_q=-0.0\n",
      "bitrate=N/A\n",
      "total_size=N/A\n",
      "out_time_us=326280000\n",
      "out_time_ms=326280000\n",
      "out_time=00:05:26.280000\n",
      "dup_frames=0\n",
      "drop_frames=0\n",
      "speed=3.45x\n",
      "progress=continue\n"
     ]
    },
    {
     "name": "stderr",
     "output_type": "stream",
     "text": [
      "frame= 8243 fps= 86 q=-0.0 size=N/A time=00:05:28.44 bitrate=N/A speed=3.44x    \r"
     ]
    },
    {
     "name": "stdout",
     "output_type": "stream",
     "text": [
      "frame=8243\n",
      "fps=86.43\n",
      "stream_0_0_q=-0.0\n",
      "bitrate=N/A\n",
      "total_size=N/A\n",
      "out_time_us=328440000\n",
      "out_time_ms=328440000\n",
      "out_time=00:05:28.440000\n",
      "dup_frames=0\n",
      "drop_frames=0\n",
      "speed=3.44x\n",
      "progress=continue\n"
     ]
    },
    {
     "name": "stderr",
     "output_type": "stream",
     "text": [
      "frame= 8269 fps= 86 q=-0.0 size=N/A time=00:05:29.48 bitrate=N/A speed=3.44x    \r"
     ]
    },
    {
     "name": "stdout",
     "output_type": "stream",
     "text": [
      "frame=8269\n",
      "fps=86.22\n",
      "stream_0_0_q=-0.0\n",
      "bitrate=N/A\n",
      "total_size=N/A\n",
      "out_time_us=329480000\n",
      "out_time_ms=329480000\n",
      "out_time=00:05:29.480000\n",
      "dup_frames=0\n",
      "drop_frames=0\n",
      "speed=3.44x\n",
      "progress=continue\n"
     ]
    },
    {
     "name": "stderr",
     "output_type": "stream",
     "text": [
      "frame= 8290 fps= 86 q=-0.0 size=N/A time=00:05:30.32 bitrate=N/A speed=3.43x    \r"
     ]
    },
    {
     "name": "stdout",
     "output_type": "stream",
     "text": [
      "frame=8290\n",
      "fps=85.98\n",
      "stream_0_0_q=-0.0\n",
      "bitrate=N/A\n",
      "total_size=N/A\n",
      "out_time_us=330320000\n",
      "out_time_ms=330320000\n",
      "out_time=00:05:30.320000\n",
      "dup_frames=0\n",
      "drop_frames=0\n",
      "speed=3.43x\n",
      "progress=continue\n",
      "frame=8309\n",
      "fps=85.72\n",
      "stream_0_0_q=-0.0\n",
      "bitrate=N/A\n",
      "total_size=N/A\n",
      "out_time_us=331080000\n",
      "out_time_ms=331080000\n",
      "out_time=00:05:31.080000\n",
      "dup_frames=0\n",
      "drop_frames=0\n",
      "speed=3.42x\n",
      "progress=continue\n"
     ]
    },
    {
     "name": "stderr",
     "output_type": "stream",
     "text": [
      "frame= 8309 fps= 86 q=-0.0 size=N/A time=00:05:31.08 bitrate=N/A speed=3.42x    \r"
     ]
    },
    {
     "name": "stdout",
     "output_type": "stream",
     "text": [
      "frame=8329\n",
      "fps=85.46\n",
      "stream_0_0_q=-0.0\n",
      "bitrate=N/A\n",
      "total_size=N/A\n",
      "out_time_us=331880000\n",
      "out_time_ms=331880000\n",
      "out_time=00:05:31.880000\n",
      "dup_frames=0\n",
      "drop_frames=0\n",
      "speed=3.41x\n",
      "progress=continue\n"
     ]
    },
    {
     "name": "stderr",
     "output_type": "stream",
     "text": [
      "frame= 8348 fps= 85 q=-0.0 size=N/A time=00:05:32.64 bitrate=N/A speed= 3.4x    \r"
     ]
    },
    {
     "name": "stdout",
     "output_type": "stream",
     "text": [
      "frame=8348\n",
      "fps=85.21\n",
      "stream_0_0_q=-0.0\n",
      "bitrate=N/A\n",
      "total_size=N/A\n",
      "out_time_us=332640000\n",
      "out_time_ms=332640000\n",
      "out_time=00:05:32.640000\n",
      "dup_frames=0\n",
      "drop_frames=0\n",
      "speed= 3.4x\n",
      "progress=continue\n",
      "frame=8368\n",
      "fps=84.96\n",
      "stream_0_0_q=-0.0\n",
      "bitrate=N/A\n",
      "total_size=N/A\n",
      "out_time_us=333440000\n",
      "out_time_ms=333440000\n",
      "out_time=00:05:33.440000\n",
      "dup_frames=0\n",
      "drop_frames=0\n",
      "speed=3.39x\n",
      "progress=continue\n"
     ]
    },
    {
     "name": "stderr",
     "output_type": "stream",
     "text": [
      "frame= 8368 fps= 85 q=-0.0 size=N/A time=00:05:33.44 bitrate=N/A speed=3.39x    \r"
     ]
    },
    {
     "name": "stdout",
     "output_type": "stream",
     "text": [
      "frame=8387\n",
      "fps=84.71\n",
      "stream_0_0_q=-0.0\n",
      "bitrate=N/A\n",
      "total_size=N/A\n",
      "out_time_us=334200000\n",
      "out_time_ms=334200000\n",
      "out_time=00:05:34.200000\n",
      "dup_frames=0\n",
      "drop_frames=0\n",
      "speed=3.38x\n",
      "progress=continue\n"
     ]
    },
    {
     "name": "stderr",
     "output_type": "stream",
     "text": [
      "frame= 8401 fps= 84 q=-0.0 size=N/A time=00:05:34.76 bitrate=N/A speed=3.36x    \r"
     ]
    },
    {
     "name": "stdout",
     "output_type": "stream",
     "text": [
      "frame=8401\n",
      "fps=84.38\n",
      "stream_0_0_q=-0.0\n",
      "bitrate=N/A\n",
      "total_size=N/A\n",
      "out_time_us=334760000\n",
      "out_time_ms=334760000\n",
      "out_time=00:05:34.760000\n",
      "dup_frames=0\n",
      "drop_frames=0\n",
      "speed=3.36x\n",
      "progress=continue\n"
     ]
    },
    {
     "name": "stderr",
     "output_type": "stream",
     "text": [
      "frame= 8438 fps= 84 q=-0.0 size=N/A time=00:05:36.24 bitrate=N/A speed=3.36x    \r"
     ]
    },
    {
     "name": "stdout",
     "output_type": "stream",
     "text": [
      "frame=8438\n",
      "fps=84.32\n",
      "stream_0_0_q=-0.0\n",
      "bitrate=N/A\n",
      "total_size=N/A\n",
      "out_time_us=336240000\n",
      "out_time_ms=336240000\n",
      "out_time=00:05:36.240000\n",
      "dup_frames=0\n",
      "drop_frames=0\n",
      "speed=3.36x\n",
      "progress=continue\n",
      "frame=8458\n",
      "fps=84.07\n",
      "stream_0_0_q=-0.0\n",
      "bitrate=N/A\n",
      "total_size=N/A\n",
      "out_time_us=337040000\n",
      "out_time_ms=337040000\n",
      "out_time=00:05:37.040000\n",
      "dup_frames=0\n",
      "drop_frames=0\n",
      "speed=3.35x\n",
      "progress=continue\n"
     ]
    },
    {
     "name": "stderr",
     "output_type": "stream",
     "text": [
      "frame= 8477 fps= 84 q=-0.0 size=N/A time=00:05:37.80 bitrate=N/A speed=3.34x    \r"
     ]
    },
    {
     "name": "stdout",
     "output_type": "stream",
     "text": [
      "frame=8477\n",
      "fps=83.83\n",
      "stream_0_0_q=-0.0\n",
      "bitrate=N/A\n",
      "total_size=N/A\n",
      "out_time_us=337800000\n",
      "out_time_ms=337800000\n",
      "out_time=00:05:37.800000\n",
      "dup_frames=0\n",
      "drop_frames=0\n",
      "speed=3.34x\n",
      "progress=continue\n"
     ]
    },
    {
     "name": "stderr",
     "output_type": "stream",
     "text": [
      "frame= 8492 fps= 83 q=-0.0 size=N/A time=00:05:38.40 bitrate=N/A speed=3.33x    \r"
     ]
    },
    {
     "name": "stdout",
     "output_type": "stream",
     "text": [
      "frame=8492\n",
      "fps=83.50\n",
      "stream_0_0_q=-0.0\n",
      "bitrate=N/A\n",
      "total_size=N/A\n",
      "out_time_us=338400000\n",
      "out_time_ms=338400000\n",
      "out_time=00:05:38.400000\n",
      "dup_frames=0\n",
      "drop_frames=0\n",
      "speed=3.33x\n",
      "progress=continue\n"
     ]
    },
    {
     "name": "stderr",
     "output_type": "stream",
     "text": [
      "frame= 8524 fps= 83 q=-0.0 size=N/A time=00:05:39.68 bitrate=N/A speed=3.32x    \r"
     ]
    },
    {
     "name": "stdout",
     "output_type": "stream",
     "text": [
      "frame=8524\n",
      "fps=83.39\n",
      "stream_0_0_q=-0.0\n",
      "bitrate=N/A\n",
      "total_size=N/A\n",
      "out_time_us=339680000\n",
      "out_time_ms=339680000\n",
      "out_time=00:05:39.680000\n",
      "dup_frames=0\n",
      "drop_frames=0\n",
      "speed=3.32x\n",
      "progress=continue\n"
     ]
    },
    {
     "name": "stderr",
     "output_type": "stream",
     "text": [
      "frame= 8543 fps= 83 q=-0.0 size=N/A time=00:05:40.44 bitrate=N/A speed=3.31x    \r"
     ]
    },
    {
     "name": "stdout",
     "output_type": "stream",
     "text": [
      "frame=8543\n",
      "fps=83.16\n",
      "stream_0_0_q=-0.0\n",
      "bitrate=N/A\n",
      "total_size=N/A\n",
      "out_time_us=340440000\n",
      "out_time_ms=340440000\n",
      "out_time=00:05:40.440000\n",
      "dup_frames=0\n",
      "drop_frames=0\n",
      "speed=3.31x\n",
      "progress=continue\n",
      "frame=8567\n",
      "fps=82.98\n",
      "stream_0_0_q=-0.0\n",
      "bitrate=N/A\n",
      "total_size=N/A\n",
      "out_time_us=341400000\n",
      "out_time_ms=341400000\n",
      "out_time=00:05:41.400000\n",
      "dup_frames=0\n",
      "drop_frames=0\n",
      "speed=3.31x\n",
      "progress=continue\n"
     ]
    },
    {
     "name": "stderr",
     "output_type": "stream",
     "text": [
      "frame= 8588 fps= 83 q=-0.0 size=N/A time=00:05:42.24 bitrate=N/A speed= 3.3x    \r"
     ]
    },
    {
     "name": "stdout",
     "output_type": "stream",
     "text": [
      "frame=8588\n",
      "fps=82.76\n",
      "stream_0_0_q=-0.0\n",
      "bitrate=N/A\n",
      "total_size=N/A\n",
      "out_time_us=342240000\n",
      "out_time_ms=342240000\n",
      "out_time=00:05:42.240000\n",
      "dup_frames=0\n",
      "drop_frames=0\n",
      "speed= 3.3x\n",
      "progress=continue\n",
      "frame=8607\n",
      "fps=82.55\n",
      "stream_0_0_q=-0.0\n",
      "bitrate=N/A\n",
      "total_size=N/A\n",
      "out_time_us=343000000\n",
      "out_time_ms=343000000\n",
      "out_time=00:05:43.000000\n",
      "dup_frames=0\n",
      "drop_frames=0\n",
      "speed=3.29x\n",
      "progress=continue\n"
     ]
    },
    {
     "name": "stderr",
     "output_type": "stream",
     "text": [
      "frame= 8607 fps= 83 q=-0.0 size=N/A time=00:05:43.00 bitrate=N/A speed=3.29x    \r"
     ]
    },
    {
     "name": "stdout",
     "output_type": "stream",
     "text": [
      "frame=8630\n",
      "fps=82.37\n",
      "stream_0_0_q=-0.0\n",
      "bitrate=N/A\n",
      "total_size=N/A\n",
      "out_time_us=343920000\n",
      "out_time_ms=343920000\n",
      "out_time=00:05:43.920000\n",
      "dup_frames=0\n",
      "drop_frames=0\n",
      "speed=3.28x\n",
      "progress=continue\n"
     ]
    },
    {
     "name": "stderr",
     "output_type": "stream",
     "text": [
      "frame= 8650 fps= 82 q=-0.0 size=N/A time=00:05:44.72 bitrate=N/A speed=3.27x    \r"
     ]
    },
    {
     "name": "stdout",
     "output_type": "stream",
     "text": [
      "frame=8650\n",
      "fps=82.16\n",
      "stream_0_0_q=-0.0\n",
      "bitrate=N/A\n",
      "total_size=N/A\n",
      "out_time_us=344720000\n",
      "out_time_ms=344720000\n",
      "out_time=00:05:44.720000\n",
      "dup_frames=0\n",
      "drop_frames=0\n",
      "speed=3.27x\n",
      "progress=continue\n"
     ]
    },
    {
     "name": "stderr",
     "output_type": "stream",
     "text": [
      "frame= 8657 fps= 82 q=-0.0 size=N/A time=00:05:45.00 bitrate=N/A speed=3.26x    \r"
     ]
    },
    {
     "name": "stdout",
     "output_type": "stream",
     "text": [
      "frame=8657\n",
      "fps=81.79\n",
      "stream_0_0_q=-0.0\n",
      "bitrate=N/A\n",
      "total_size=N/A\n",
      "out_time_us=345000000\n",
      "out_time_ms=345000000\n",
      "out_time=00:05:45.000000\n",
      "dup_frames=0\n",
      "drop_frames=0\n",
      "speed=3.26x\n",
      "progress=continue\n"
     ]
    },
    {
     "name": "stderr",
     "output_type": "stream",
     "text": [
      "frame= 8677 fps= 82 q=-0.0 size=N/A time=00:05:45.80 bitrate=N/A speed=3.25x    \r"
     ]
    },
    {
     "name": "stdout",
     "output_type": "stream",
     "text": [
      "frame=8677\n",
      "fps=81.59\n",
      "stream_0_0_q=-0.0\n",
      "bitrate=N/A\n",
      "total_size=N/A\n",
      "out_time_us=345800000\n",
      "out_time_ms=345800000\n",
      "out_time=00:05:45.800000\n",
      "dup_frames=0\n",
      "drop_frames=0\n",
      "speed=3.25x\n",
      "progress=continue\n"
     ]
    },
    {
     "name": "stderr",
     "output_type": "stream",
     "text": [
      "frame= 8728 fps= 82 q=-0.0 size=N/A time=00:05:47.84 bitrate=N/A speed=3.26x    \r"
     ]
    },
    {
     "name": "stdout",
     "output_type": "stream",
     "text": [
      "frame=8728\n",
      "fps=81.68\n",
      "stream_0_0_q=-0.0\n",
      "bitrate=N/A\n",
      "total_size=N/A\n",
      "out_time_us=347840000\n",
      "out_time_ms=347840000\n",
      "out_time=00:05:47.840000\n",
      "dup_frames=0\n",
      "drop_frames=0\n",
      "speed=3.26x\n",
      "progress=continue\n",
      "frame=8747\n",
      "fps=81.46\n",
      "stream_0_0_q=-0.0\n",
      "bitrate=N/A\n",
      "total_size=N/A\n",
      "out_time_us=348600000\n",
      "out_time_ms=348600000\n",
      "out_time=00:05:48.600000\n",
      "dup_frames=0\n",
      "drop_frames=0\n",
      "speed=3.25x\n",
      "progress=continue\n"
     ]
    },
    {
     "name": "stderr",
     "output_type": "stream",
     "text": [
      "frame= 8747 fps= 81 q=-0.0 size=N/A time=00:05:48.60 bitrate=N/A speed=3.25x    \r"
     ]
    },
    {
     "name": "stdout",
     "output_type": "stream",
     "text": [
      "frame=8766\n",
      "fps=81.26\n",
      "stream_0_0_q=-0.0\n",
      "bitrate=N/A\n",
      "total_size=N/A\n",
      "out_time_us=349360000\n",
      "out_time_ms=349360000\n",
      "out_time=00:05:49.360000\n",
      "dup_frames=0\n",
      "drop_frames=0\n",
      "speed=3.24x\n",
      "progress=continue\n"
     ]
    },
    {
     "name": "stderr",
     "output_type": "stream",
     "text": [
      "frame= 8766 fps= 81 q=-0.0 size=N/A time=00:05:49.36 bitrate=N/A speed=3.24x    \r"
     ]
    },
    {
     "name": "stdout",
     "output_type": "stream",
     "text": [
      "frame=8785\n",
      "fps=81.05\n",
      "stream_0_0_q=-0.0\n",
      "bitrate=N/A\n",
      "total_size=N/A\n",
      "out_time_us=350120000\n",
      "out_time_ms=350120000\n",
      "out_time=00:05:50.120000\n",
      "dup_frames=0\n",
      "drop_frames=0\n",
      "speed=3.23x\n",
      "progress=continue\n"
     ]
    },
    {
     "name": "stderr",
     "output_type": "stream",
     "text": [
      "frame= 8785 fps= 81 q=-0.0 size=N/A time=00:05:50.12 bitrate=N/A speed=3.23x    \r"
     ]
    },
    {
     "name": "stdout",
     "output_type": "stream",
     "text": [
      "frame=8804\n",
      "fps=80.85\n",
      "stream_0_0_q=-0.0\n",
      "bitrate=N/A\n",
      "total_size=N/A\n",
      "out_time_us=350880000\n",
      "out_time_ms=350880000\n",
      "out_time=00:05:50.880000\n",
      "dup_frames=0\n",
      "drop_frames=0\n",
      "speed=3.22x\n",
      "progress=continue\n"
     ]
    },
    {
     "name": "stderr",
     "output_type": "stream",
     "text": [
      "frame= 8804 fps= 81 q=-0.0 size=N/A time=00:05:50.88 bitrate=N/A speed=3.22x    \r"
     ]
    },
    {
     "name": "stdout",
     "output_type": "stream",
     "text": [
      "frame=8828\n",
      "fps=80.69\n",
      "stream_0_0_q=-0.0\n",
      "bitrate=N/A\n",
      "total_size=N/A\n",
      "out_time_us=351840000\n",
      "out_time_ms=351840000\n",
      "out_time=00:05:51.840000\n",
      "dup_frames=0\n",
      "drop_frames=0\n",
      "speed=3.22x\n",
      "progress=continue\n"
     ]
    },
    {
     "name": "stderr",
     "output_type": "stream",
     "text": [
      "frame= 8828 fps= 81 q=-0.0 size=N/A time=00:05:51.84 bitrate=N/A speed=3.22x    \r"
     ]
    },
    {
     "name": "stdout",
     "output_type": "stream",
     "text": [
      "frame=8851\n",
      "fps=80.52\n",
      "stream_0_0_q=-0.0\n",
      "bitrate=N/A\n",
      "total_size=N/A\n",
      "out_time_us=352760000\n",
      "out_time_ms=352760000\n",
      "out_time=00:05:52.760000\n",
      "dup_frames=0\n",
      "drop_frames=0\n",
      "speed=3.21x\n",
      "progress=continue\n"
     ]
    },
    {
     "name": "stderr",
     "output_type": "stream",
     "text": [
      "frame= 8871 fps= 80 q=-0.0 size=N/A time=00:05:53.56 bitrate=N/A speed= 3.2x    \r"
     ]
    },
    {
     "name": "stdout",
     "output_type": "stream",
     "text": [
      "frame=8871\n",
      "fps=80.34\n",
      "stream_0_0_q=-0.0\n",
      "bitrate=N/A\n",
      "total_size=N/A\n",
      "out_time_us=353560000\n",
      "out_time_ms=353560000\n",
      "out_time=00:05:53.560000\n",
      "dup_frames=0\n",
      "drop_frames=0\n",
      "speed= 3.2x\n",
      "progress=continue\n"
     ]
    },
    {
     "name": "stderr",
     "output_type": "stream",
     "text": [
      "frame= 8897 fps= 80 q=-0.0 size=N/A time=00:05:54.60 bitrate=N/A speed= 3.2x    \r"
     ]
    },
    {
     "name": "stdout",
     "output_type": "stream",
     "text": [
      "frame=8897\n",
      "fps=80.21\n",
      "stream_0_0_q=-0.0\n",
      "bitrate=N/A\n",
      "total_size=N/A\n",
      "out_time_us=354600000\n",
      "out_time_ms=354600000\n",
      "out_time=00:05:54.600000\n",
      "dup_frames=0\n",
      "drop_frames=0\n",
      "speed= 3.2x\n",
      "progress=continue\n",
      "frame=8906\n",
      "fps=79.84\n",
      "stream_0_0_q=-0.0\n",
      "bitrate=N/A\n",
      "total_size=N/A\n",
      "out_time_us=354960000\n",
      "out_time_ms=354960000\n",
      "out_time=00:05:54.960000\n",
      "dup_frames=0\n",
      "drop_frames=0\n",
      "speed=3.18x\n",
      "progress=continue\n"
     ]
    },
    {
     "name": "stderr",
     "output_type": "stream",
     "text": [
      "frame= 8950 fps= 80 q=-0.0 size=N/A time=00:05:56.72 bitrate=N/A speed=3.18x    \r"
     ]
    },
    {
     "name": "stdout",
     "output_type": "stream",
     "text": [
      "frame=8950\n",
      "fps=79.85\n",
      "stream_0_0_q=-0.0\n",
      "bitrate=N/A\n",
      "total_size=N/A\n",
      "out_time_us=356720000\n",
      "out_time_ms=356720000\n",
      "out_time=00:05:56.720000\n",
      "dup_frames=0\n",
      "drop_frames=0\n",
      "speed=3.18x\n",
      "progress=continue\n"
     ]
    },
    {
     "name": "stderr",
     "output_type": "stream",
     "text": [
      "frame= 8969 fps= 80 q=-0.0 size=N/A time=00:05:57.48 bitrate=N/A speed=3.17x    \r"
     ]
    },
    {
     "name": "stdout",
     "output_type": "stream",
     "text": [
      "frame=8969\n",
      "fps=79.66\n",
      "stream_0_0_q=-0.0\n",
      "bitrate=N/A\n",
      "total_size=N/A\n",
      "out_time_us=357480000\n",
      "out_time_ms=357480000\n",
      "out_time=00:05:57.480000\n",
      "dup_frames=0\n",
      "drop_frames=0\n",
      "speed=3.17x\n",
      "progress=continue\n"
     ]
    },
    {
     "name": "stderr",
     "output_type": "stream",
     "text": [
      "frame= 8989 fps= 79 q=-0.0 size=N/A time=00:05:58.28 bitrate=N/A speed=3.17x    \r"
     ]
    },
    {
     "name": "stdout",
     "output_type": "stream",
     "text": [
      "frame=8989\n",
      "fps=79.46\n",
      "stream_0_0_q=-0.0\n",
      "bitrate=N/A\n",
      "total_size=N/A\n",
      "out_time_us=358280000\n",
      "out_time_ms=358280000\n",
      "out_time=00:05:58.280000\n",
      "dup_frames=0\n",
      "drop_frames=0\n",
      "speed=3.17x\n",
      "progress=continue\n"
     ]
    },
    {
     "name": "stderr",
     "output_type": "stream",
     "text": [
      "frame= 9008 fps= 79 q=-0.0 size=N/A time=00:05:59.04 bitrate=N/A speed=3.16x    \r"
     ]
    },
    {
     "name": "stdout",
     "output_type": "stream",
     "text": [
      "frame=9008\n",
      "fps=79.27\n",
      "stream_0_0_q=-0.0\n",
      "bitrate=N/A\n",
      "total_size=N/A\n",
      "out_time_us=359040000\n",
      "out_time_ms=359040000\n",
      "out_time=00:05:59.040000\n",
      "dup_frames=0\n",
      "drop_frames=0\n",
      "speed=3.16x\n",
      "progress=continue\n"
     ]
    },
    {
     "name": "stderr",
     "output_type": "stream",
     "text": [
      "frame= 9028 fps= 79 q=-0.0 size=N/A time=00:05:59.84 bitrate=N/A speed=3.15x    \r"
     ]
    },
    {
     "name": "stdout",
     "output_type": "stream",
     "text": [
      "frame=9028\n",
      "fps=79.08\n",
      "stream_0_0_q=-0.0\n",
      "bitrate=N/A\n",
      "total_size=N/A\n",
      "out_time_us=359840000\n",
      "out_time_ms=359840000\n",
      "out_time=00:05:59.840000\n",
      "dup_frames=0\n",
      "drop_frames=0\n",
      "speed=3.15x\n",
      "progress=continue\n"
     ]
    },
    {
     "name": "stderr",
     "output_type": "stream",
     "text": [
      "frame= 9051 fps= 79 q=-0.0 size=N/A time=00:06:00.76 bitrate=N/A speed=3.15x    \r"
     ]
    },
    {
     "name": "stdout",
     "output_type": "stream",
     "text": [
      "frame=9051\n",
      "fps=78.94\n",
      "stream_0_0_q=-0.0\n",
      "bitrate=N/A\n",
      "total_size=N/A\n",
      "out_time_us=360760000\n",
      "out_time_ms=360760000\n",
      "out_time=00:06:00.760000\n",
      "dup_frames=0\n",
      "drop_frames=0\n",
      "speed=3.15x\n",
      "progress=continue\n"
     ]
    },
    {
     "name": "stderr",
     "output_type": "stream",
     "text": [
      "frame= 9071 fps= 79 q=-0.0 size=N/A time=00:06:01.56 bitrate=N/A speed=3.14x    \r"
     ]
    },
    {
     "name": "stdout",
     "output_type": "stream",
     "text": [
      "frame=9071\n",
      "fps=78.77\n",
      "stream_0_0_q=-0.0\n",
      "bitrate=N/A\n",
      "total_size=N/A\n",
      "out_time_us=361560000\n",
      "out_time_ms=361560000\n",
      "out_time=00:06:01.560000\n",
      "dup_frames=0\n",
      "drop_frames=0\n",
      "speed=3.14x\n",
      "progress=continue\n"
     ]
    },
    {
     "name": "stderr",
     "output_type": "stream",
     "text": [
      "frame= 9091 fps= 78 q=-0.0 size=N/A time=00:06:02.36 bitrate=N/A speed=3.12x    \r"
     ]
    },
    {
     "name": "stdout",
     "output_type": "stream",
     "text": [
      "frame=9091\n",
      "fps=78.39\n",
      "stream_0_0_q=-0.0\n",
      "bitrate=N/A\n",
      "total_size=N/A\n",
      "out_time_us=362360000\n",
      "out_time_ms=362360000\n",
      "out_time=00:06:02.360000\n",
      "dup_frames=0\n",
      "drop_frames=0\n",
      "speed=3.12x\n",
      "progress=continue\n"
     ]
    },
    {
     "name": "stderr",
     "output_type": "stream",
     "text": [
      "frame= 9129 fps= 78 q=-0.0 size=N/A time=00:06:03.88 bitrate=N/A speed=3.12x    \r"
     ]
    },
    {
     "name": "stdout",
     "output_type": "stream",
     "text": [
      "frame=9129\n",
      "fps=78.38\n",
      "stream_0_0_q=-0.0\n",
      "bitrate=N/A\n",
      "total_size=N/A\n",
      "out_time_us=363880000\n",
      "out_time_ms=363880000\n",
      "out_time=00:06:03.880000\n",
      "dup_frames=0\n",
      "drop_frames=0\n",
      "speed=3.12x\n",
      "progress=continue\n"
     ]
    },
    {
     "name": "stderr",
     "output_type": "stream",
     "text": [
      "frame= 9148 fps= 78 q=-0.0 size=N/A time=00:06:04.64 bitrate=N/A speed=3.12x    \r"
     ]
    },
    {
     "name": "stdout",
     "output_type": "stream",
     "text": [
      "frame=9148\n",
      "fps=78.20\n",
      "stream_0_0_q=-0.0\n",
      "bitrate=N/A\n",
      "total_size=N/A\n",
      "out_time_us=364640000\n",
      "out_time_ms=364640000\n",
      "out_time=00:06:04.640000\n",
      "dup_frames=0\n",
      "drop_frames=0\n",
      "speed=3.12x\n",
      "progress=continue\n"
     ]
    },
    {
     "name": "stderr",
     "output_type": "stream",
     "text": [
      "frame= 9172 fps= 78 q=-0.0 size=N/A time=00:06:05.60 bitrate=N/A speed=3.11x    \r"
     ]
    },
    {
     "name": "stdout",
     "output_type": "stream",
     "text": [
      "frame=9172\n",
      "fps=78.06\n",
      "stream_0_0_q=-0.0\n",
      "bitrate=N/A\n",
      "total_size=N/A\n",
      "out_time_us=365600000\n",
      "out_time_ms=365600000\n",
      "out_time=00:06:05.600000\n",
      "dup_frames=0\n",
      "drop_frames=0\n",
      "speed=3.11x\n",
      "progress=continue\n"
     ]
    },
    {
     "name": "stderr",
     "output_type": "stream",
     "text": [
      "frame= 9195 fps= 78 q=-0.0 size=N/A time=00:06:06.52 bitrate=N/A speed=3.11x    \r"
     ]
    },
    {
     "name": "stdout",
     "output_type": "stream",
     "text": [
      "frame=9195\n",
      "fps=77.92\n",
      "stream_0_0_q=-0.0\n",
      "bitrate=N/A\n",
      "total_size=N/A\n",
      "out_time_us=366520000\n",
      "out_time_ms=366520000\n",
      "out_time=00:06:06.520000\n",
      "dup_frames=0\n",
      "drop_frames=0\n",
      "speed=3.11x\n",
      "progress=continue\n"
     ]
    },
    {
     "name": "stderr",
     "output_type": "stream",
     "text": [
      "frame= 9217 fps= 78 q=-0.0 size=N/A time=00:06:07.40 bitrate=N/A speed= 3.1x    \r"
     ]
    },
    {
     "name": "stdout",
     "output_type": "stream",
     "text": [
      "frame=9217\n",
      "fps=77.76\n",
      "stream_0_0_q=-0.0\n",
      "bitrate=N/A\n",
      "total_size=N/A\n",
      "out_time_us=367400000\n",
      "out_time_ms=367400000\n",
      "out_time=00:06:07.400000\n",
      "dup_frames=0\n",
      "drop_frames=0\n",
      "speed= 3.1x\n",
      "progress=continue\n",
      "frame=9240\n",
      "fps=77.62\n",
      "stream_0_0_q=-0.0\n",
      "bitrate=N/A\n",
      "total_size=N/A\n",
      "out_time_us=368320000\n",
      "out_time_ms=368320000\n",
      "out_time=00:06:08.320000\n",
      "dup_frames=0\n",
      "drop_frames=0\n",
      "speed=3.09x\n",
      "progress=continue\n"
     ]
    },
    {
     "name": "stderr",
     "output_type": "stream",
     "text": [
      "frame= 9262 fps= 77 q=-0.0 size=N/A time=00:06:09.20 bitrate=N/A speed=3.09x    \r"
     ]
    },
    {
     "name": "stdout",
     "output_type": "stream",
     "text": [
      "frame=9262\n",
      "fps=77.47\n",
      "stream_0_0_q=-0.0\n",
      "bitrate=N/A\n",
      "total_size=N/A\n",
      "out_time_us=369200000\n",
      "out_time_ms=369200000\n",
      "out_time=00:06:09.200000\n",
      "dup_frames=0\n",
      "drop_frames=0\n",
      "speed=3.09x\n",
      "progress=continue\n",
      "frame=9282\n",
      "fps=77.31\n",
      "stream_0_0_q=-0.0\n",
      "bitrate=N/A\n",
      "total_size=N/A\n",
      "out_time_us=370000000\n",
      "out_time_ms=370000000\n",
      "out_time=00:06:10.000000\n",
      "dup_frames=0\n",
      "drop_frames=0\n",
      "speed=3.08x\n",
      "progress=continue\n"
     ]
    },
    {
     "name": "stderr",
     "output_type": "stream",
     "text": [
      "frame= 9301 fps= 77 q=-0.0 size=N/A time=00:06:10.76 bitrate=N/A speed=3.07x    \r"
     ]
    },
    {
     "name": "stdout",
     "output_type": "stream",
     "text": [
      "frame=9301\n",
      "fps=77.13\n",
      "stream_0_0_q=-0.0\n",
      "bitrate=N/A\n",
      "total_size=N/A\n",
      "out_time_us=370760000\n",
      "out_time_ms=370760000\n",
      "out_time=00:06:10.760000\n",
      "dup_frames=0\n",
      "drop_frames=0\n",
      "speed=3.07x\n",
      "progress=continue\n"
     ]
    },
    {
     "name": "stderr",
     "output_type": "stream",
     "text": [
      "frame= 9324 fps= 77 q=-0.0 size=N/A time=00:06:11.68 bitrate=N/A speed=3.07x    \r"
     ]
    },
    {
     "name": "stdout",
     "output_type": "stream",
     "text": [
      "frame=9324\n",
      "fps=77.01\n",
      "stream_0_0_q=-0.0\n",
      "bitrate=N/A\n",
      "total_size=N/A\n",
      "out_time_us=371680000\n",
      "out_time_ms=371680000\n",
      "out_time=00:06:11.680000\n",
      "dup_frames=0\n",
      "drop_frames=0\n",
      "speed=3.07x\n",
      "progress=continue\n"
     ]
    },
    {
     "name": "stderr",
     "output_type": "stream",
     "text": [
      "frame= 9342 fps= 77 q=-0.0 size=N/A time=00:06:12.40 bitrate=N/A speed=3.06x    \r"
     ]
    },
    {
     "name": "stdout",
     "output_type": "stream",
     "text": [
      "frame=9342\n",
      "fps=76.83\n",
      "stream_0_0_q=-0.0\n",
      "bitrate=N/A\n",
      "total_size=N/A\n",
      "out_time_us=372400000\n",
      "out_time_ms=372400000\n",
      "out_time=00:06:12.400000\n",
      "dup_frames=0\n",
      "drop_frames=0\n",
      "speed=3.06x\n",
      "progress=continue\n"
     ]
    },
    {
     "name": "stderr",
     "output_type": "stream",
     "text": [
      "frame= 9361 fps= 77 q=-0.0 size=N/A time=00:06:13.16 bitrate=N/A speed=3.06x    \r"
     ]
    },
    {
     "name": "stdout",
     "output_type": "stream",
     "text": [
      "frame=9361\n",
      "fps=76.66\n",
      "stream_0_0_q=-0.0\n",
      "bitrate=N/A\n",
      "total_size=N/A\n",
      "out_time_us=373160000\n",
      "out_time_ms=373160000\n",
      "out_time=00:06:13.160000\n",
      "dup_frames=0\n",
      "drop_frames=0\n",
      "speed=3.06x\n",
      "progress=continue\n"
     ]
    },
    {
     "name": "stderr",
     "output_type": "stream",
     "text": [
      "frame= 9388 fps= 77 q=-0.0 size=N/A time=00:06:14.24 bitrate=N/A speed=3.05x    \r"
     ]
    },
    {
     "name": "stdout",
     "output_type": "stream",
     "text": [
      "frame=9388\n",
      "fps=76.57\n",
      "stream_0_0_q=-0.0\n",
      "bitrate=N/A\n",
      "total_size=N/A\n",
      "out_time_us=374240000\n",
      "out_time_ms=374240000\n",
      "out_time=00:06:14.240000\n",
      "dup_frames=0\n",
      "drop_frames=0\n",
      "speed=3.05x\n",
      "progress=continue\n"
     ]
    },
    {
     "name": "stderr",
     "output_type": "stream",
     "text": [
      "frame= 9406 fps= 76 q=-0.0 size=N/A time=00:06:14.96 bitrate=N/A speed=3.05x    \r"
     ]
    },
    {
     "name": "stdout",
     "output_type": "stream",
     "text": [
      "frame=9406\n",
      "fps=76.40\n",
      "stream_0_0_q=-0.0\n",
      "bitrate=N/A\n",
      "total_size=N/A\n",
      "out_time_us=374960000\n",
      "out_time_ms=374960000\n",
      "out_time=00:06:14.960000\n",
      "dup_frames=0\n",
      "drop_frames=0\n",
      "speed=3.05x\n",
      "progress=continue\n"
     ]
    },
    {
     "name": "stderr",
     "output_type": "stream",
     "text": [
      "frame= 9428 fps= 76 q=-0.0 size=N/A time=00:06:15.84 bitrate=N/A speed=3.04x    \r"
     ]
    },
    {
     "name": "stdout",
     "output_type": "stream",
     "text": [
      "frame=9428\n",
      "fps=76.26\n",
      "stream_0_0_q=-0.0\n",
      "bitrate=N/A\n",
      "total_size=N/A\n",
      "out_time_us=375840000\n",
      "out_time_ms=375840000\n",
      "out_time=00:06:15.840000\n",
      "dup_frames=0\n",
      "drop_frames=0\n",
      "speed=3.04x\n",
      "progress=continue\n"
     ]
    },
    {
     "name": "stderr",
     "output_type": "stream",
     "text": [
      "frame= 9449 fps= 76 q=-0.0 size=N/A time=00:06:16.68 bitrate=N/A speed=3.03x    \r"
     ]
    },
    {
     "name": "stdout",
     "output_type": "stream",
     "text": [
      "frame=9449\n",
      "fps=76.11\n",
      "stream_0_0_q=-0.0\n",
      "bitrate=N/A\n",
      "total_size=N/A\n",
      "out_time_us=376680000\n",
      "out_time_ms=376680000\n",
      "out_time=00:06:16.680000\n",
      "dup_frames=0\n",
      "drop_frames=0\n",
      "speed=3.03x\n",
      "progress=continue\n"
     ]
    },
    {
     "name": "stderr",
     "output_type": "stream",
     "text": [
      "frame= 9473 fps= 76 q=-0.0 size=N/A time=00:06:17.64 bitrate=N/A speed=3.03x    \r"
     ]
    },
    {
     "name": "stdout",
     "output_type": "stream",
     "text": [
      "frame=9473\n",
      "fps=75.99\n",
      "stream_0_0_q=-0.0\n",
      "bitrate=N/A\n",
      "total_size=N/A\n",
      "out_time_us=377640000\n",
      "out_time_ms=377640000\n",
      "out_time=00:06:17.640000\n",
      "dup_frames=0\n",
      "drop_frames=0\n",
      "speed=3.03x\n",
      "progress=continue\n"
     ]
    },
    {
     "name": "stderr",
     "output_type": "stream",
     "text": [
      "frame= 9494 fps= 76 q=-0.0 size=N/A time=00:06:18.48 bitrate=N/A speed=3.02x    \r"
     ]
    },
    {
     "name": "stdout",
     "output_type": "stream",
     "text": [
      "frame=9494\n",
      "fps=75.86\n",
      "stream_0_0_q=-0.0\n",
      "bitrate=N/A\n",
      "total_size=N/A\n",
      "out_time_us=378480000\n",
      "out_time_ms=378480000\n",
      "out_time=00:06:18.480000\n",
      "dup_frames=0\n",
      "drop_frames=0\n",
      "speed=3.02x\n",
      "progress=continue\n"
     ]
    },
    {
     "name": "stderr",
     "output_type": "stream",
     "text": [
      "frame= 9511 fps= 76 q=-0.0 size=N/A time=00:06:19.16 bitrate=N/A speed=3.01x    \r"
     ]
    },
    {
     "name": "stdout",
     "output_type": "stream",
     "text": [
      "frame=9511\n",
      "fps=75.58\n",
      "stream_0_0_q=-0.0\n",
      "bitrate=N/A\n",
      "total_size=N/A\n",
      "out_time_us=379160000\n",
      "out_time_ms=379160000\n",
      "out_time=00:06:19.160000\n",
      "dup_frames=0\n",
      "drop_frames=0\n",
      "speed=3.01x\n",
      "progress=continue\n"
     ]
    },
    {
     "name": "stderr",
     "output_type": "stream",
     "text": [
      "frame= 9517 fps= 75 q=-0.0 size=N/A time=00:06:19.40 bitrate=N/A speed=   3x    \r"
     ]
    },
    {
     "name": "stdout",
     "output_type": "stream",
     "text": [
      "frame=9517\n",
      "fps=75.25\n",
      "stream_0_0_q=-0.0\n",
      "bitrate=N/A\n",
      "total_size=N/A\n",
      "out_time_us=379400000\n",
      "out_time_ms=379400000\n",
      "out_time=00:06:19.400000\n",
      "dup_frames=0\n",
      "drop_frames=0\n",
      "speed=   3x\n",
      "progress=continue\n"
     ]
    },
    {
     "name": "stderr",
     "output_type": "stream",
     "text": [
      "frame= 9526 fps= 75 q=-0.0 size=N/A time=00:06:19.76 bitrate=N/A speed=2.99x    \r"
     ]
    },
    {
     "name": "stdout",
     "output_type": "stream",
     "text": [
      "frame=9526\n",
      "fps=74.97\n",
      "stream_0_0_q=-0.0\n",
      "bitrate=N/A\n",
      "total_size=N/A\n",
      "out_time_us=379760000\n",
      "out_time_ms=379760000\n",
      "out_time=00:06:19.760000\n",
      "dup_frames=0\n",
      "drop_frames=0\n",
      "speed=2.99x\n",
      "progress=continue\n",
      "frame=9543\n",
      "fps=74.80\n",
      "stream_0_0_q=-0.0\n",
      "bitrate=N/A\n",
      "total_size=N/A\n",
      "out_time_us=380440000\n",
      "out_time_ms=380440000\n",
      "out_time=00:06:20.440000\n",
      "dup_frames=0\n",
      "drop_frames=0\n",
      "speed=2.98x\n",
      "progress=continue\n"
     ]
    },
    {
     "name": "stderr",
     "output_type": "stream",
     "text": [
      "frame= 9608 fps= 75 q=-0.0 size=N/A time=00:06:23.04 bitrate=N/A speed=2.99x    \r"
     ]
    },
    {
     "name": "stdout",
     "output_type": "stream",
     "text": [
      "frame=9608\n",
      "fps=75.01\n",
      "stream_0_0_q=-0.0\n",
      "bitrate=N/A\n",
      "total_size=N/A\n",
      "out_time_us=383040000\n",
      "out_time_ms=383040000\n",
      "out_time=00:06:23.040000\n",
      "dup_frames=0\n",
      "drop_frames=0\n",
      "speed=2.99x\n",
      "progress=continue\n",
      "frame=9637\n",
      "fps=74.94\n",
      "stream_0_0_q=-0.0\n",
      "bitrate=N/A\n",
      "total_size=N/A\n",
      "out_time_us=384200000\n",
      "out_time_ms=384200000\n",
      "out_time=00:06:24.200000\n",
      "dup_frames=0\n",
      "drop_frames=0\n",
      "speed=2.99x\n",
      "progress=continue\n"
     ]
    },
    {
     "name": "stderr",
     "output_type": "stream",
     "text": [
      "frame= 9657 fps= 75 q=-0.0 size=N/A time=00:06:25.00 bitrate=N/A speed=2.98x    \r"
     ]
    },
    {
     "name": "stdout",
     "output_type": "stream",
     "text": [
      "frame=9657\n",
      "fps=74.79\n",
      "stream_0_0_q=-0.0\n",
      "bitrate=N/A\n",
      "total_size=N/A\n",
      "out_time_us=385000000\n",
      "out_time_ms=385000000\n",
      "out_time=00:06:25.000000\n",
      "dup_frames=0\n",
      "drop_frames=0\n",
      "speed=2.98x\n",
      "progress=continue\n",
      "frame=9681\n",
      "fps=74.68\n",
      "stream_0_0_q=-0.0\n",
      "bitrate=N/A\n",
      "total_size=N/A\n",
      "out_time_us=385960000\n",
      "out_time_ms=385960000\n",
      "out_time=00:06:25.960000\n",
      "dup_frames=0\n",
      "drop_frames=0\n",
      "speed=2.98x\n",
      "progress=continue\n"
     ]
    },
    {
     "name": "stderr",
     "output_type": "stream",
     "text": [
      "frame= 9703 fps= 75 q=-0.0 size=N/A time=00:06:26.84 bitrate=N/A speed=2.97x    \r"
     ]
    },
    {
     "name": "stdout",
     "output_type": "stream",
     "text": [
      "frame=9703\n",
      "fps=74.56\n",
      "stream_0_0_q=-0.0\n",
      "bitrate=N/A\n",
      "total_size=N/A\n",
      "out_time_us=386840000\n",
      "out_time_ms=386840000\n",
      "out_time=00:06:26.840000\n",
      "dup_frames=0\n",
      "drop_frames=0\n",
      "speed=2.97x\n",
      "progress=continue\n"
     ]
    },
    {
     "name": "stderr",
     "output_type": "stream",
     "text": [
      "frame= 9723 fps= 74 q=-0.0 size=N/A time=00:06:27.64 bitrate=N/A speed=2.97x    \r"
     ]
    },
    {
     "name": "stdout",
     "output_type": "stream",
     "text": [
      "frame=9723\n",
      "fps=74.41\n",
      "stream_0_0_q=-0.0\n",
      "bitrate=N/A\n",
      "total_size=N/A\n",
      "out_time_us=387640000\n",
      "out_time_ms=387640000\n",
      "out_time=00:06:27.640000\n",
      "dup_frames=0\n",
      "drop_frames=0\n",
      "speed=2.97x\n",
      "progress=continue\n"
     ]
    },
    {
     "name": "stderr",
     "output_type": "stream",
     "text": [
      "frame= 9743 fps= 74 q=-0.0 size=N/A time=00:06:28.44 bitrate=N/A speed=2.96x    \r"
     ]
    },
    {
     "name": "stdout",
     "output_type": "stream",
     "text": [
      "frame=9743\n",
      "fps=74.28\n",
      "stream_0_0_q=-0.0\n",
      "bitrate=N/A\n",
      "total_size=N/A\n",
      "out_time_us=388440000\n",
      "out_time_ms=388440000\n",
      "out_time=00:06:28.440000\n",
      "dup_frames=0\n",
      "drop_frames=0\n",
      "speed=2.96x\n",
      "progress=continue\n",
      "frame=9766\n",
      "fps=74.17\n",
      "stream_0_0_q=-0.0\n",
      "bitrate=N/A\n",
      "total_size=N/A\n",
      "out_time_us=389360000\n",
      "out_time_ms=389360000\n",
      "out_time=00:06:29.360000\n",
      "dup_frames=0\n",
      "drop_frames=0\n",
      "speed=2.96x\n",
      "progress=continue\n"
     ]
    },
    {
     "name": "stderr",
     "output_type": "stream",
     "text": [
      "frame= 9766 fps= 74 q=-0.0 size=N/A time=00:06:29.36 bitrate=N/A speed=2.96x    \r"
     ]
    },
    {
     "name": "stdout",
     "output_type": "stream",
     "text": [
      "frame=9791\n",
      "fps=74.08\n",
      "stream_0_0_q=-0.0\n",
      "bitrate=N/A\n",
      "total_size=N/A\n",
      "out_time_us=390360000\n",
      "out_time_ms=390360000\n",
      "out_time=00:06:30.360000\n",
      "dup_frames=0\n",
      "drop_frames=0\n",
      "speed=2.95x\n",
      "progress=continue\n"
     ]
    },
    {
     "name": "stderr",
     "output_type": "stream",
     "text": [
      "frame= 9812 fps= 74 q=-0.0 size=N/A time=00:06:31.20 bitrate=N/A speed=2.95x    \r"
     ]
    },
    {
     "name": "stdout",
     "output_type": "stream",
     "text": [
      "frame=9812\n",
      "fps=73.95\n",
      "stream_0_0_q=-0.0\n",
      "bitrate=N/A\n",
      "total_size=N/A\n",
      "out_time_us=391200000\n",
      "out_time_ms=391200000\n",
      "out_time=00:06:31.200000\n",
      "dup_frames=0\n",
      "drop_frames=0\n",
      "speed=2.95x\n",
      "progress=continue\n"
     ]
    },
    {
     "name": "stderr",
     "output_type": "stream",
     "text": [
      "frame= 9835 fps= 74 q=-0.0 size=N/A time=00:06:32.12 bitrate=N/A speed=2.94x    \r"
     ]
    },
    {
     "name": "stdout",
     "output_type": "stream",
     "text": [
      "frame=9835\n",
      "fps=73.84\n",
      "stream_0_0_q=-0.0\n",
      "bitrate=N/A\n",
      "total_size=N/A\n",
      "out_time_us=392120000\n",
      "out_time_ms=392120000\n",
      "out_time=00:06:32.120000\n",
      "dup_frames=0\n",
      "drop_frames=0\n",
      "speed=2.94x\n",
      "progress=continue\n"
     ]
    },
    {
     "name": "stderr",
     "output_type": "stream",
     "text": [
      "frame= 9857 fps= 74 q=-0.0 size=N/A time=00:06:33.00 bitrate=N/A speed=2.94x    \r"
     ]
    },
    {
     "name": "stdout",
     "output_type": "stream",
     "text": [
      "frame=9857\n",
      "fps=73.72\n",
      "stream_0_0_q=-0.0\n",
      "bitrate=N/A\n",
      "total_size=N/A\n",
      "out_time_us=393000000\n",
      "out_time_ms=393000000\n",
      "out_time=00:06:33.000000\n",
      "dup_frames=0\n",
      "drop_frames=0\n",
      "speed=2.94x\n",
      "progress=continue\n"
     ]
    },
    {
     "name": "stderr",
     "output_type": "stream",
     "text": [
      "frame= 9880 fps= 74 q=-0.0 size=N/A time=00:06:33.92 bitrate=N/A speed=2.93x    \r"
     ]
    },
    {
     "name": "stdout",
     "output_type": "stream",
     "text": [
      "frame=9880\n",
      "fps=73.60\n",
      "stream_0_0_q=-0.0\n",
      "bitrate=N/A\n",
      "total_size=N/A\n",
      "out_time_us=393920000\n",
      "out_time_ms=393920000\n",
      "out_time=00:06:33.920000\n",
      "dup_frames=0\n",
      "drop_frames=0\n",
      "speed=2.93x\n",
      "progress=continue\n"
     ]
    },
    {
     "name": "stderr",
     "output_type": "stream",
     "text": [
      "frame= 9900 fps= 73 q=-0.0 size=N/A time=00:06:34.72 bitrate=N/A speed=2.93x    \r"
     ]
    },
    {
     "name": "stdout",
     "output_type": "stream",
     "text": [
      "frame=9900\n",
      "fps=73.48\n",
      "stream_0_0_q=-0.0\n",
      "bitrate=N/A\n",
      "total_size=N/A\n",
      "out_time_us=394720000\n",
      "out_time_ms=394720000\n",
      "out_time=00:06:34.720000\n",
      "dup_frames=0\n",
      "drop_frames=0\n",
      "speed=2.93x\n",
      "progress=continue\n"
     ]
    },
    {
     "name": "stderr",
     "output_type": "stream",
     "text": [
      "frame= 9919 fps= 73 q=-0.0 size=N/A time=00:06:35.48 bitrate=N/A speed=2.92x    \r"
     ]
    },
    {
     "name": "stdout",
     "output_type": "stream",
     "text": [
      "frame=9919\n",
      "fps=73.35\n",
      "stream_0_0_q=-0.0\n",
      "bitrate=N/A\n",
      "total_size=N/A\n",
      "out_time_us=395480000\n",
      "out_time_ms=395480000\n",
      "out_time=00:06:35.480000\n",
      "dup_frames=0\n",
      "drop_frames=0\n",
      "speed=2.92x\n",
      "progress=continue\n"
     ]
    },
    {
     "name": "stderr",
     "output_type": "stream",
     "text": [
      "frame= 9936 fps= 73 q=-0.0 size=N/A time=00:06:36.16 bitrate=N/A speed=2.92x    \r"
     ]
    },
    {
     "name": "stdout",
     "output_type": "stream",
     "text": [
      "frame=9936\n",
      "fps=73.20\n",
      "stream_0_0_q=-0.0\n",
      "bitrate=N/A\n",
      "total_size=N/A\n",
      "out_time_us=396160000\n",
      "out_time_ms=396160000\n",
      "out_time=00:06:36.160000\n",
      "dup_frames=0\n",
      "drop_frames=0\n",
      "speed=2.92x\n",
      "progress=continue\n"
     ]
    },
    {
     "name": "stderr",
     "output_type": "stream",
     "text": [
      "frame= 9955 fps= 73 q=-0.0 size=N/A time=00:06:36.92 bitrate=N/A speed=2.91x    \r"
     ]
    },
    {
     "name": "stdout",
     "output_type": "stream",
     "text": [
      "frame=9955\n",
      "fps=73.04\n",
      "stream_0_0_q=-0.0\n",
      "bitrate=N/A\n",
      "total_size=N/A\n",
      "out_time_us=396920000\n",
      "out_time_ms=396920000\n",
      "out_time=00:06:36.920000\n",
      "dup_frames=0\n",
      "drop_frames=0\n",
      "speed=2.91x\n",
      "progress=continue\n"
     ]
    },
    {
     "name": "stderr",
     "output_type": "stream",
     "text": [
      "frame= 9984 fps= 73 q=-0.0 size=N/A time=00:06:38.08 bitrate=N/A speed=2.91x    \r"
     ]
    },
    {
     "name": "stdout",
     "output_type": "stream",
     "text": [
      "frame=9984\n",
      "fps=72.98\n",
      "stream_0_0_q=-0.0\n",
      "bitrate=N/A\n",
      "total_size=N/A\n",
      "out_time_us=398080000\n",
      "out_time_ms=398080000\n",
      "out_time=00:06:38.080000\n",
      "dup_frames=0\n",
      "drop_frames=0\n",
      "speed=2.91x\n",
      "progress=continue\n"
     ]
    },
    {
     "name": "stderr",
     "output_type": "stream",
     "text": [
      "frame=10009 fps= 73 q=-0.0 size=N/A time=00:06:39.08 bitrate=N/A speed=2.91x    \r"
     ]
    },
    {
     "name": "stdout",
     "output_type": "stream",
     "text": [
      "frame=10009\n",
      "fps=72.90\n",
      "stream_0_0_q=-0.0\n",
      "bitrate=N/A\n",
      "total_size=N/A\n",
      "out_time_us=399080000\n",
      "out_time_ms=399080000\n",
      "out_time=00:06:39.080000\n",
      "dup_frames=0\n",
      "drop_frames=0\n",
      "speed=2.91x\n",
      "progress=continue\n"
     ]
    },
    {
     "name": "stderr",
     "output_type": "stream",
     "text": [
      "frame=10034 fps= 73 q=-0.0 size=N/A time=00:06:40.08 bitrate=N/A speed= 2.9x    \r"
     ]
    },
    {
     "name": "stdout",
     "output_type": "stream",
     "text": [
      "frame=10034\n",
      "fps=72.80\n",
      "stream_0_0_q=-0.0\n",
      "bitrate=N/A\n",
      "total_size=N/A\n",
      "out_time_us=400080000\n",
      "out_time_ms=400080000\n",
      "out_time=00:06:40.080000\n",
      "dup_frames=0\n",
      "drop_frames=0\n",
      "speed= 2.9x\n",
      "progress=continue\n"
     ]
    },
    {
     "name": "stderr",
     "output_type": "stream",
     "text": [
      "frame=10059 fps= 73 q=-0.0 size=N/A time=00:06:41.08 bitrate=N/A speed= 2.9x    \r"
     ]
    },
    {
     "name": "stdout",
     "output_type": "stream",
     "text": [
      "frame=10059\n",
      "fps=72.71\n",
      "stream_0_0_q=-0.0\n",
      "bitrate=N/A\n",
      "total_size=N/A\n",
      "out_time_us=401080000\n",
      "out_time_ms=401080000\n",
      "out_time=00:06:41.080000\n",
      "dup_frames=0\n",
      "drop_frames=0\n",
      "speed= 2.9x\n",
      "progress=continue\n"
     ]
    },
    {
     "name": "stderr",
     "output_type": "stream",
     "text": [
      "frame=10079 fps= 73 q=-0.0 size=N/A time=00:06:41.88 bitrate=N/A speed=2.89x    \r"
     ]
    },
    {
     "name": "stdout",
     "output_type": "stream",
     "text": [
      "frame=10079\n",
      "fps=72.54\n",
      "stream_0_0_q=-0.0\n",
      "bitrate=N/A\n",
      "total_size=N/A\n",
      "out_time_us=401880000\n",
      "out_time_ms=401880000\n",
      "out_time=00:06:41.880000\n",
      "dup_frames=0\n",
      "drop_frames=0\n",
      "speed=2.89x\n",
      "progress=continue\n"
     ]
    },
    {
     "name": "stderr",
     "output_type": "stream",
     "text": [
      "frame=10089 fps= 72 q=-0.0 size=N/A time=00:06:42.28 bitrate=N/A speed=2.88x    \r"
     ]
    },
    {
     "name": "stdout",
     "output_type": "stream",
     "text": [
      "frame=10089\n",
      "fps=72.31\n",
      "stream_0_0_q=-0.0\n",
      "bitrate=N/A\n",
      "total_size=N/A\n",
      "out_time_us=402280000\n",
      "out_time_ms=402280000\n",
      "out_time=00:06:42.280000\n",
      "dup_frames=0\n",
      "drop_frames=0\n",
      "speed=2.88x\n",
      "progress=continue\n"
     ]
    },
    {
     "name": "stderr",
     "output_type": "stream",
     "text": [
      "frame=10133 fps= 72 q=-0.0 size=N/A time=00:06:44.04 bitrate=N/A speed=2.89x    \r"
     ]
    },
    {
     "name": "stdout",
     "output_type": "stream",
     "text": [
      "frame=10133\n",
      "fps=72.36\n",
      "stream_0_0_q=-0.0\n",
      "bitrate=N/A\n",
      "total_size=N/A\n",
      "out_time_us=404040000\n",
      "out_time_ms=404040000\n",
      "out_time=00:06:44.040000\n",
      "dup_frames=0\n",
      "drop_frames=0\n",
      "speed=2.89x\n",
      "progress=continue\n"
     ]
    },
    {
     "name": "stderr",
     "output_type": "stream",
     "text": [
      "frame=10168 fps= 72 q=-0.0 size=N/A time=00:06:45.44 bitrate=N/A speed=2.88x    \r"
     ]
    },
    {
     "name": "stdout",
     "output_type": "stream",
     "text": [
      "frame=10168\n",
      "fps=72.34\n",
      "stream_0_0_q=-0.0\n",
      "bitrate=N/A\n",
      "total_size=N/A\n",
      "out_time_us=405440000\n",
      "out_time_ms=405440000\n",
      "out_time=00:06:45.440000\n",
      "dup_frames=0\n",
      "drop_frames=0\n",
      "speed=2.88x\n",
      "progress=continue\n"
     ]
    },
    {
     "name": "stderr",
     "output_type": "stream",
     "text": [
      "frame=10183 fps= 72 q=-0.0 size=N/A time=00:06:46.04 bitrate=N/A speed=2.88x    \r"
     ]
    },
    {
     "name": "stdout",
     "output_type": "stream",
     "text": [
      "frame=10183\n",
      "fps=72.19\n",
      "stream_0_0_q=-0.0\n",
      "bitrate=N/A\n",
      "total_size=N/A\n",
      "out_time_us=406040000\n",
      "out_time_ms=406040000\n",
      "out_time=00:06:46.040000\n",
      "dup_frames=0\n",
      "drop_frames=0\n",
      "speed=2.88x\n",
      "progress=continue\n"
     ]
    },
    {
     "name": "stderr",
     "output_type": "stream",
     "text": [
      "frame=10207 fps= 72 q=-0.0 size=N/A time=00:06:47.00 bitrate=N/A speed=2.87x    \r"
     ]
    },
    {
     "name": "stdout",
     "output_type": "stream",
     "text": [
      "frame=10207\n",
      "fps=72.10\n",
      "stream_0_0_q=-0.0\n",
      "bitrate=N/A\n",
      "total_size=N/A\n",
      "out_time_us=407000000\n",
      "out_time_ms=407000000\n",
      "out_time=00:06:47.000000\n",
      "dup_frames=0\n",
      "drop_frames=0\n",
      "speed=2.87x\n",
      "progress=continue\n"
     ]
    },
    {
     "name": "stderr",
     "output_type": "stream",
     "text": [
      "frame=10226 fps= 72 q=-0.0 size=N/A time=00:06:47.76 bitrate=N/A speed=2.87x    \r"
     ]
    },
    {
     "name": "stdout",
     "output_type": "stream",
     "text": [
      "frame=10226\n",
      "fps=71.96\n",
      "stream_0_0_q=-0.0\n",
      "bitrate=N/A\n",
      "total_size=N/A\n",
      "out_time_us=407760000\n",
      "out_time_ms=407760000\n",
      "out_time=00:06:47.760000\n",
      "dup_frames=0\n",
      "drop_frames=0\n",
      "speed=2.87x\n",
      "progress=continue\n"
     ]
    },
    {
     "name": "stderr",
     "output_type": "stream",
     "text": [
      "frame=10245 fps= 72 q=-0.0 size=N/A time=00:06:48.52 bitrate=N/A speed=2.86x    \r"
     ]
    },
    {
     "name": "stdout",
     "output_type": "stream",
     "text": [
      "frame=10245\n",
      "fps=71.84\n",
      "stream_0_0_q=-0.0\n",
      "bitrate=N/A\n",
      "total_size=N/A\n",
      "out_time_us=408520000\n",
      "out_time_ms=408520000\n",
      "out_time=00:06:48.520000\n",
      "dup_frames=0\n",
      "drop_frames=0\n",
      "speed=2.86x\n",
      "progress=continue\n"
     ]
    },
    {
     "name": "stderr",
     "output_type": "stream",
     "text": [
      "frame=10264 fps= 72 q=-0.0 size=N/A time=00:06:49.28 bitrate=N/A speed=2.86x    \r"
     ]
    },
    {
     "name": "stdout",
     "output_type": "stream",
     "text": [
      "frame=10264\n",
      "fps=71.72\n",
      "stream_0_0_q=-0.0\n",
      "bitrate=N/A\n",
      "total_size=N/A\n",
      "out_time_us=409280000\n",
      "out_time_ms=409280000\n",
      "out_time=00:06:49.280000\n",
      "dup_frames=0\n",
      "drop_frames=0\n",
      "speed=2.86x\n",
      "progress=continue\n"
     ]
    },
    {
     "name": "stderr",
     "output_type": "stream",
     "text": [
      "frame=10286 fps= 72 q=-0.0 size=N/A time=00:06:50.16 bitrate=N/A speed=2.86x    \r"
     ]
    },
    {
     "name": "stdout",
     "output_type": "stream",
     "text": [
      "frame=10286\n",
      "fps=71.62\n",
      "stream_0_0_q=-0.0\n",
      "bitrate=N/A\n",
      "total_size=N/A\n",
      "out_time_us=410160000\n",
      "out_time_ms=410160000\n",
      "out_time=00:06:50.160000\n",
      "dup_frames=0\n",
      "drop_frames=0\n",
      "speed=2.86x\n",
      "progress=continue\n"
     ]
    },
    {
     "name": "stderr",
     "output_type": "stream",
     "text": [
      "frame=10307 fps= 72 q=-0.0 size=N/A time=00:06:51.00 bitrate=N/A speed=2.85x    \r"
     ]
    },
    {
     "name": "stdout",
     "output_type": "stream",
     "text": [
      "frame=10307\n",
      "fps=71.52\n",
      "stream_0_0_q=-0.0\n",
      "bitrate=N/A\n",
      "total_size=N/A\n",
      "out_time_us=411000000\n",
      "out_time_ms=411000000\n",
      "out_time=00:06:51.000000\n",
      "dup_frames=0\n",
      "drop_frames=0\n",
      "speed=2.85x\n",
      "progress=continue\n"
     ]
    },
    {
     "name": "stderr",
     "output_type": "stream",
     "text": [
      "frame=10330 fps= 71 q=-0.0 size=N/A time=00:06:51.92 bitrate=N/A speed=2.85x    \r"
     ]
    },
    {
     "name": "stdout",
     "output_type": "stream",
     "text": [
      "frame=10330\n",
      "fps=71.42\n",
      "stream_0_0_q=-0.0\n",
      "bitrate=N/A\n",
      "total_size=N/A\n",
      "out_time_us=411920000\n",
      "out_time_ms=411920000\n",
      "out_time=00:06:51.920000\n",
      "dup_frames=0\n",
      "drop_frames=0\n",
      "speed=2.85x\n",
      "progress=continue\n"
     ]
    },
    {
     "name": "stderr",
     "output_type": "stream",
     "text": [
      "frame=10351 fps= 71 q=-0.0 size=N/A time=00:06:52.76 bitrate=N/A speed=2.84x    \r"
     ]
    },
    {
     "name": "stdout",
     "output_type": "stream",
     "text": [
      "frame=10351\n",
      "fps=71.31\n",
      "stream_0_0_q=-0.0\n",
      "bitrate=N/A\n",
      "total_size=N/A\n",
      "out_time_us=412760000\n",
      "out_time_ms=412760000\n",
      "out_time=00:06:52.760000\n",
      "dup_frames=0\n",
      "drop_frames=0\n",
      "speed=2.84x\n",
      "progress=continue\n"
     ]
    },
    {
     "name": "stderr",
     "output_type": "stream",
     "text": [
      "frame=10373 fps= 71 q=-0.0 size=N/A time=00:06:53.64 bitrate=N/A speed=2.84x    \r"
     ]
    },
    {
     "name": "stdout",
     "output_type": "stream",
     "text": [
      "frame=10373\n",
      "fps=71.21\n",
      "stream_0_0_q=-0.0\n",
      "bitrate=N/A\n",
      "total_size=N/A\n",
      "out_time_us=413640000\n",
      "out_time_ms=413640000\n",
      "out_time=00:06:53.640000\n",
      "dup_frames=0\n",
      "drop_frames=0\n",
      "speed=2.84x\n",
      "progress=continue\n",
      "frame=10400\n",
      "fps=71.15\n",
      "stream_0_0_q=-0.0\n",
      "bitrate=N/A\n",
      "total_size=N/A\n",
      "out_time_us=414720000\n",
      "out_time_ms=414720000\n",
      "out_time=00:06:54.720000\n",
      "dup_frames=0\n",
      "drop_frames=0\n",
      "speed=2.84x\n",
      "progress=continue\n"
     ]
    },
    {
     "name": "stderr",
     "output_type": "stream",
     "text": [
      "frame=10400 fps= 71 q=-0.0 size=N/A time=00:06:54.72 bitrate=N/A speed=2.84x    \r"
     ]
    },
    {
     "name": "stdout",
     "output_type": "stream",
     "text": [
      "frame=10422\n",
      "fps=71.06\n",
      "stream_0_0_q=-0.0\n",
      "bitrate=N/A\n",
      "total_size=N/A\n",
      "out_time_us=415600000\n",
      "out_time_ms=415600000\n",
      "out_time=00:06:55.600000\n",
      "dup_frames=0\n",
      "drop_frames=0\n",
      "speed=2.83x\n",
      "progress=continue\n"
     ]
    },
    {
     "name": "stderr",
     "output_type": "stream",
     "text": [
      "frame=10422 fps= 71 q=-0.0 size=N/A time=00:06:55.60 bitrate=N/A speed=2.83x    \r"
     ]
    },
    {
     "name": "stdout",
     "output_type": "stream",
     "text": [
      "frame=10446\n",
      "fps=70.96\n",
      "stream_0_0_q=-0.0\n",
      "bitrate=N/A\n",
      "total_size=N/A\n",
      "out_time_us=416560000\n",
      "out_time_ms=416560000\n",
      "out_time=00:06:56.560000\n",
      "dup_frames=0\n",
      "drop_frames=0\n",
      "speed=2.83x\n",
      "progress=continue\n"
     ]
    },
    {
     "name": "stderr",
     "output_type": "stream",
     "text": [
      "frame=10470 fps= 71 q=-0.0 size=N/A time=00:06:57.52 bitrate=N/A speed=2.83x    \r"
     ]
    },
    {
     "name": "stdout",
     "output_type": "stream",
     "text": [
      "frame=10470\n",
      "fps=70.87\n",
      "stream_0_0_q=-0.0\n",
      "bitrate=N/A\n",
      "total_size=N/A\n",
      "out_time_us=417520000\n",
      "out_time_ms=417520000\n",
      "out_time=00:06:57.520000\n",
      "dup_frames=0\n",
      "drop_frames=0\n",
      "speed=2.83x\n",
      "progress=continue\n"
     ]
    },
    {
     "name": "stderr",
     "output_type": "stream",
     "text": [
      "frame=10490 fps= 71 q=-0.0 size=N/A time=00:06:58.32 bitrate=N/A speed=2.82x    \r"
     ]
    },
    {
     "name": "stdout",
     "output_type": "stream",
     "text": [
      "frame=10490\n",
      "fps=70.76\n",
      "stream_0_0_q=-0.0\n",
      "bitrate=N/A\n",
      "total_size=N/A\n",
      "out_time_us=418320000\n",
      "out_time_ms=418320000\n",
      "out_time=00:06:58.320000\n",
      "dup_frames=0\n",
      "drop_frames=0\n",
      "speed=2.82x\n",
      "progress=continue\n",
      "frame=10509\n",
      "fps=70.64\n",
      "stream_0_0_q=-0.0\n",
      "bitrate=N/A\n",
      "total_size=N/A\n",
      "out_time_us=419080000\n",
      "out_time_ms=419080000\n",
      "out_time=00:06:59.080000\n",
      "dup_frames=0\n",
      "drop_frames=0\n",
      "speed=2.82x\n",
      "progress=continue\n"
     ]
    },
    {
     "name": "stderr",
     "output_type": "stream",
     "text": [
      "frame=10533 fps= 71 q=-0.0 size=N/A time=00:07:00.04 bitrate=N/A speed=2.81x    \r"
     ]
    },
    {
     "name": "stdout",
     "output_type": "stream",
     "text": [
      "frame=10533\n",
      "fps=70.57\n",
      "stream_0_0_q=-0.0\n",
      "bitrate=N/A\n",
      "total_size=N/A\n",
      "out_time_us=420040000\n",
      "out_time_ms=420040000\n",
      "out_time=00:07:00.040000\n",
      "dup_frames=0\n",
      "drop_frames=0\n",
      "speed=2.81x\n",
      "progress=continue\n"
     ]
    },
    {
     "name": "stderr",
     "output_type": "stream",
     "text": [
      "frame=10553 fps= 70 q=-0.0 size=N/A time=00:07:00.84 bitrate=N/A speed=2.81x    \r"
     ]
    },
    {
     "name": "stdout",
     "output_type": "stream",
     "text": [
      "frame=10553\n",
      "fps=70.46\n",
      "stream_0_0_q=-0.0\n",
      "bitrate=N/A\n",
      "total_size=N/A\n",
      "out_time_us=420840000\n",
      "out_time_ms=420840000\n",
      "out_time=00:07:00.840000\n",
      "dup_frames=0\n",
      "drop_frames=0\n",
      "speed=2.81x\n",
      "progress=continue\n",
      "frame=10572\n",
      "fps=70.35\n",
      "stream_0_0_q=-0.0\n",
      "bitrate=N/A\n",
      "total_size=N/A\n",
      "out_time_us=421600000\n",
      "out_time_ms=421600000\n",
      "out_time=00:07:01.600000\n",
      "dup_frames=0\n",
      "drop_frames=0\n",
      "speed=2.81x\n",
      "progress=continue\n"
     ]
    },
    {
     "name": "stderr",
     "output_type": "stream",
     "text": [
      "frame=10596 fps= 70 q=-0.0 size=N/A time=00:07:02.56 bitrate=N/A speed= 2.8x    \r"
     ]
    },
    {
     "name": "stdout",
     "output_type": "stream",
     "text": [
      "frame=10596\n",
      "fps=70.27\n",
      "stream_0_0_q=-0.0\n",
      "bitrate=N/A\n",
      "total_size=N/A\n",
      "out_time_us=422560000\n",
      "out_time_ms=422560000\n",
      "out_time=00:07:02.560000\n",
      "dup_frames=0\n",
      "drop_frames=0\n",
      "speed= 2.8x\n",
      "progress=continue\n",
      "frame=10617\n",
      "fps=70.17\n",
      "stream_0_0_q=-0.0\n",
      "bitrate=N/A\n",
      "total_size=N/A\n",
      "out_time_us=423400000\n",
      "out_time_ms=423400000\n",
      "out_time=00:07:03.400000\n",
      "dup_frames=0\n",
      "drop_frames=0\n",
      "speed= 2.8x\n",
      "progress=continue\n"
     ]
    },
    {
     "name": "stderr",
     "output_type": "stream",
     "text": [
      "frame=10617 fps= 70 q=-0.0 size=N/A time=00:07:03.40 bitrate=N/A speed= 2.8x    \r"
     ]
    },
    {
     "name": "stdout",
     "output_type": "stream",
     "text": [
      "frame=10635\n",
      "fps=70.06\n",
      "stream_0_0_q=-0.0\n",
      "bitrate=N/A\n",
      "total_size=N/A\n",
      "out_time_us=424120000\n",
      "out_time_ms=424120000\n",
      "out_time=00:07:04.120000\n",
      "dup_frames=0\n",
      "drop_frames=0\n",
      "speed=2.79x\n",
      "progress=continue\n"
     ]
    },
    {
     "name": "stderr",
     "output_type": "stream",
     "text": [
      "frame=10635 fps= 70 q=-0.0 size=N/A time=00:07:04.12 bitrate=N/A speed=2.79x    \r"
     ]
    },
    {
     "name": "stdout",
     "output_type": "stream",
     "text": [
      "frame=10653\n",
      "fps=69.94\n",
      "stream_0_0_q=-0.0\n",
      "bitrate=N/A\n",
      "total_size=N/A\n",
      "out_time_us=424840000\n",
      "out_time_ms=424840000\n",
      "out_time=00:07:04.840000\n",
      "dup_frames=0\n",
      "drop_frames=0\n",
      "speed=2.79x\n",
      "progress=continue\n"
     ]
    },
    {
     "name": "stderr",
     "output_type": "stream",
     "text": [
      "frame=10680 fps= 70 q=-0.0 size=N/A time=00:07:05.92 bitrate=N/A speed=2.79x    \r"
     ]
    },
    {
     "name": "stdout",
     "output_type": "stream",
     "text": [
      "frame=10680\n",
      "fps=69.89\n",
      "stream_0_0_q=-0.0\n",
      "bitrate=N/A\n",
      "total_size=N/A\n",
      "out_time_us=425920000\n",
      "out_time_ms=425920000\n",
      "out_time=00:07:05.920000\n",
      "dup_frames=0\n",
      "drop_frames=0\n",
      "speed=2.79x\n",
      "progress=continue\n",
      "frame=10698\n",
      "fps=69.78\n",
      "stream_0_0_q=-0.0\n",
      "bitrate=N/A\n",
      "total_size=N/A\n",
      "out_time_us=426640000\n",
      "out_time_ms=426640000\n",
      "out_time=00:07:06.640000\n",
      "dup_frames=0\n",
      "drop_frames=0\n",
      "speed=2.78x\n",
      "progress=continue\n"
     ]
    },
    {
     "name": "stderr",
     "output_type": "stream",
     "text": [
      "frame=10698 fps= 70 q=-0.0 size=N/A time=00:07:06.64 bitrate=N/A speed=2.78x    \r"
     ]
    },
    {
     "name": "stdout",
     "output_type": "stream",
     "text": [
      "frame=10717\n",
      "fps=69.67\n",
      "stream_0_0_q=-0.0\n",
      "bitrate=N/A\n",
      "total_size=N/A\n",
      "out_time_us=427400000\n",
      "out_time_ms=427400000\n",
      "out_time=00:07:07.400000\n",
      "dup_frames=0\n",
      "drop_frames=0\n",
      "speed=2.78x\n",
      "progress=continue\n"
     ]
    },
    {
     "name": "stderr",
     "output_type": "stream",
     "text": [
      "frame=10737 fps= 70 q=-0.0 size=N/A time=00:07:08.20 bitrate=N/A speed=2.77x    \r"
     ]
    },
    {
     "name": "stdout",
     "output_type": "stream",
     "text": [
      "frame=10737\n",
      "fps=69.56\n",
      "stream_0_0_q=-0.0\n",
      "bitrate=N/A\n",
      "total_size=N/A\n",
      "out_time_us=428200000\n",
      "out_time_ms=428200000\n",
      "out_time=00:07:08.200000\n",
      "dup_frames=0\n",
      "drop_frames=0\n",
      "speed=2.77x\n",
      "progress=continue\n",
      "frame=10757\n",
      "fps=69.45\n",
      "stream_0_0_q=-0.0\n",
      "bitrate=N/A\n",
      "total_size=N/A\n",
      "out_time_us=429000000\n",
      "out_time_ms=429000000\n",
      "out_time=00:07:09.000000\n",
      "dup_frames=0\n",
      "drop_frames=0\n",
      "speed=2.77x\n",
      "progress=continue\n"
     ]
    },
    {
     "name": "stderr",
     "output_type": "stream",
     "text": [
      "frame=10757 fps= 69 q=-0.0 size=N/A time=00:07:09.00 bitrate=N/A speed=2.77x    \r"
     ]
    },
    {
     "name": "stdout",
     "output_type": "stream",
     "text": [
      "frame=10780\n",
      "fps=69.37\n",
      "stream_0_0_q=-0.0\n",
      "bitrate=N/A\n",
      "total_size=N/A\n",
      "out_time_us=429920000\n",
      "out_time_ms=429920000\n",
      "out_time=00:07:09.920000\n",
      "dup_frames=0\n",
      "drop_frames=0\n",
      "speed=2.77x\n",
      "progress=continue\n"
     ]
    },
    {
     "name": "stderr",
     "output_type": "stream",
     "text": [
      "frame=10780 fps= 69 q=-0.0 size=N/A time=00:07:09.92 bitrate=N/A speed=2.77x    \r"
     ]
    },
    {
     "name": "stdout",
     "output_type": "stream",
     "text": [
      "frame=10797\n",
      "fps=69.23\n",
      "stream_0_0_q=-0.0\n",
      "bitrate=N/A\n",
      "total_size=N/A\n",
      "out_time_us=430600000\n",
      "out_time_ms=430600000\n",
      "out_time=00:07:10.600000\n",
      "dup_frames=0\n",
      "drop_frames=0\n",
      "speed=2.76x\n",
      "progress=continue\n"
     ]
    },
    {
     "name": "stderr",
     "output_type": "stream",
     "text": [
      "frame=10797 fps= 69 q=-0.0 size=N/A time=00:07:10.60 bitrate=N/A speed=2.76x    \r"
     ]
    },
    {
     "name": "stdout",
     "output_type": "stream",
     "text": [
      "frame=10820\n",
      "fps=69.15\n",
      "stream_0_0_q=-0.0\n",
      "bitrate=N/A\n",
      "total_size=N/A\n",
      "out_time_us=431520000\n",
      "out_time_ms=431520000\n",
      "out_time=00:07:11.520000\n",
      "dup_frames=0\n",
      "drop_frames=0\n",
      "speed=2.76x\n",
      "progress=continue\n"
     ]
    },
    {
     "name": "stderr",
     "output_type": "stream",
     "text": [
      "frame=10835 fps= 69 q=-0.0 size=N/A time=00:07:12.12 bitrate=N/A speed=2.75x    \r"
     ]
    },
    {
     "name": "stdout",
     "output_type": "stream",
     "text": [
      "frame=10835\n",
      "fps=68.99\n",
      "stream_0_0_q=-0.0\n",
      "bitrate=N/A\n",
      "total_size=N/A\n",
      "out_time_us=432120000\n",
      "out_time_ms=432120000\n",
      "out_time=00:07:12.120000\n",
      "dup_frames=0\n",
      "drop_frames=0\n",
      "speed=2.75x\n",
      "progress=continue\n",
      "frame=10864\n",
      "fps=68.95\n",
      "stream_0_0_q=-0.0\n",
      "bitrate=N/A\n",
      "total_size=N/A\n",
      "out_time_us=433280000\n",
      "out_time_ms=433280000\n",
      "out_time=00:07:13.280000\n",
      "dup_frames=0\n",
      "drop_frames=0\n",
      "speed=2.75x\n",
      "progress=continue\n"
     ]
    },
    {
     "name": "stderr",
     "output_type": "stream",
     "text": [
      "frame=10864 fps= 69 q=-0.0 size=N/A time=00:07:13.28 bitrate=N/A speed=2.75x    \r"
     ]
    },
    {
     "name": "stdout",
     "output_type": "stream",
     "text": [
      "frame=10885\n",
      "fps=68.87\n",
      "stream_0_0_q=-0.0\n",
      "bitrate=N/A\n",
      "total_size=N/A\n",
      "out_time_us=434120000\n",
      "out_time_ms=434120000\n",
      "out_time=00:07:14.120000\n",
      "dup_frames=0\n",
      "drop_frames=0\n",
      "speed=2.75x\n",
      "progress=continue\n"
     ]
    },
    {
     "name": "stderr",
     "output_type": "stream",
     "text": [
      "frame=10885 fps= 69 q=-0.0 size=N/A time=00:07:14.12 bitrate=N/A speed=2.75x    \r"
     ]
    },
    {
     "name": "stdout",
     "output_type": "stream",
     "text": [
      "frame=10907\n",
      "fps=68.79\n",
      "stream_0_0_q=-0.0\n",
      "bitrate=N/A\n",
      "total_size=N/A\n",
      "out_time_us=435000000\n",
      "out_time_ms=435000000\n",
      "out_time=00:07:15.000000\n",
      "dup_frames=0\n",
      "drop_frames=0\n",
      "speed=2.74x\n",
      "progress=continue\n"
     ]
    },
    {
     "name": "stderr",
     "output_type": "stream",
     "text": [
      "frame=10907 fps= 69 q=-0.0 size=N/A time=00:07:15.00 bitrate=N/A speed=2.74x    \r"
     ]
    },
    {
     "name": "stdout",
     "output_type": "stream",
     "text": [
      "frame=10932\n",
      "fps=68.72\n",
      "stream_0_0_q=-0.0\n",
      "bitrate=N/A\n",
      "total_size=N/A\n",
      "out_time_us=436000000\n",
      "out_time_ms=436000000\n",
      "out_time=00:07:16.000000\n",
      "dup_frames=0\n",
      "drop_frames=0\n",
      "speed=2.74x\n",
      "progress=continue\n"
     ]
    },
    {
     "name": "stderr",
     "output_type": "stream",
     "text": [
      "frame=10932 fps= 69 q=-0.0 size=N/A time=00:07:16.00 bitrate=N/A speed=2.74x    \r"
     ]
    },
    {
     "name": "stdout",
     "output_type": "stream",
     "text": [
      "frame=10952\n",
      "fps=68.62\n",
      "stream_0_0_q=-0.0\n",
      "bitrate=N/A\n",
      "total_size=N/A\n",
      "out_time_us=436800000\n",
      "out_time_ms=436800000\n",
      "out_time=00:07:16.800000\n",
      "dup_frames=0\n",
      "drop_frames=0\n",
      "speed=2.74x\n",
      "progress=continue\n"
     ]
    },
    {
     "name": "stderr",
     "output_type": "stream",
     "text": [
      "frame=10952 fps= 69 q=-0.0 size=N/A time=00:07:16.80 bitrate=N/A speed=2.74x    \r"
     ]
    },
    {
     "name": "stdout",
     "output_type": "stream",
     "text": [
      "frame=10976\n",
      "fps=68.55\n",
      "stream_0_0_q=-0.0\n",
      "bitrate=N/A\n",
      "total_size=N/A\n",
      "out_time_us=437760000\n",
      "out_time_ms=437760000\n",
      "out_time=00:07:17.760000\n",
      "dup_frames=0\n",
      "drop_frames=0\n",
      "speed=2.73x\n",
      "progress=continue\n"
     ]
    },
    {
     "name": "stderr",
     "output_type": "stream",
     "text": [
      "frame=10976 fps= 69 q=-0.0 size=N/A time=00:07:17.76 bitrate=N/A speed=2.73x    \r"
     ]
    },
    {
     "name": "stdout",
     "output_type": "stream",
     "text": [
      "frame=10990\n",
      "fps=68.38\n",
      "stream_0_0_q=-0.0\n",
      "bitrate=N/A\n",
      "total_size=N/A\n",
      "out_time_us=438320000\n",
      "out_time_ms=438320000\n",
      "out_time=00:07:18.320000\n",
      "dup_frames=0\n",
      "drop_frames=0\n",
      "speed=2.73x\n",
      "progress=continue\n"
     ]
    },
    {
     "name": "stderr",
     "output_type": "stream",
     "text": [
      "frame=11003 fps= 68 q=-0.0 size=N/A time=00:07:18.84 bitrate=N/A speed=2.72x    \r"
     ]
    },
    {
     "name": "stdout",
     "output_type": "stream",
     "text": [
      "frame=11003\n",
      "fps=68.22\n",
      "stream_0_0_q=-0.0\n",
      "bitrate=N/A\n",
      "total_size=N/A\n",
      "out_time_us=438840000\n",
      "out_time_ms=438840000\n",
      "out_time=00:07:18.840000\n",
      "dup_frames=0\n",
      "drop_frames=0\n",
      "speed=2.72x\n",
      "progress=continue\n",
      "frame=11016\n",
      "fps=68.07\n",
      "stream_0_0_q=-0.0\n",
      "bitrate=N/A\n",
      "total_size=N/A\n",
      "out_time_us=439360000\n",
      "out_time_ms=439360000\n",
      "out_time=00:07:19.360000\n",
      "dup_frames=0\n",
      "drop_frames=0\n",
      "speed=2.71x\n",
      "progress=continue\n"
     ]
    },
    {
     "name": "stderr",
     "output_type": "stream",
     "text": [
      "frame=11045 fps= 68 q=-0.0 size=N/A time=00:07:20.52 bitrate=N/A speed=2.71x    \r"
     ]
    },
    {
     "name": "stdout",
     "output_type": "stream",
     "text": [
      "frame=11045\n",
      "fps=68.04\n",
      "stream_0_0_q=-0.0\n",
      "bitrate=N/A\n",
      "total_size=N/A\n",
      "out_time_us=440520000\n",
      "out_time_ms=440520000\n",
      "out_time=00:07:20.520000\n",
      "dup_frames=0\n",
      "drop_frames=0\n",
      "speed=2.71x\n",
      "progress=continue\n"
     ]
    },
    {
     "name": "stderr",
     "output_type": "stream",
     "text": [
      "frame=11093 fps= 68 q=-0.0 size=N/A time=00:07:22.44 bitrate=N/A speed=2.72x    \r"
     ]
    },
    {
     "name": "stdout",
     "output_type": "stream",
     "text": [
      "frame=11093\n",
      "fps=68.12\n",
      "stream_0_0_q=-0.0\n",
      "bitrate=N/A\n",
      "total_size=N/A\n",
      "out_time_us=442440000\n",
      "out_time_ms=442440000\n",
      "out_time=00:07:22.440000\n",
      "dup_frames=0\n",
      "drop_frames=0\n",
      "speed=2.72x\n",
      "progress=continue\n",
      "frame=11116\n",
      "fps=68.05\n",
      "stream_0_0_q=-0.0\n",
      "bitrate=N/A\n",
      "total_size=N/A\n",
      "out_time_us=443360000\n",
      "out_time_ms=443360000\n",
      "out_time=00:07:23.360000\n",
      "dup_frames=0\n",
      "drop_frames=0\n",
      "speed=2.71x\n",
      "progress=continue\n"
     ]
    },
    {
     "name": "stderr",
     "output_type": "stream",
     "text": [
      "frame=11138 fps= 68 q=-0.0 size=N/A time=00:07:24.24 bitrate=N/A speed=2.71x    \r"
     ]
    },
    {
     "name": "stdout",
     "output_type": "stream",
     "text": [
      "frame=11138\n",
      "fps=67.97\n",
      "stream_0_0_q=-0.0\n",
      "bitrate=N/A\n",
      "total_size=N/A\n",
      "out_time_us=444240000\n",
      "out_time_ms=444240000\n",
      "out_time=00:07:24.240000\n",
      "dup_frames=0\n",
      "drop_frames=0\n",
      "speed=2.71x\n",
      "progress=continue\n"
     ]
    },
    {
     "name": "stderr",
     "output_type": "stream",
     "text": [
      "frame=11162 fps= 68 q=-0.0 size=N/A time=00:07:25.20 bitrate=N/A speed=2.71x    \r"
     ]
    },
    {
     "name": "stdout",
     "output_type": "stream",
     "text": [
      "frame=11162\n",
      "fps=67.91\n",
      "stream_0_0_q=-0.0\n",
      "bitrate=N/A\n",
      "total_size=N/A\n",
      "out_time_us=445200000\n",
      "out_time_ms=445200000\n",
      "out_time=00:07:25.200000\n",
      "dup_frames=0\n",
      "drop_frames=0\n",
      "speed=2.71x\n",
      "progress=continue\n"
     ]
    },
    {
     "name": "stderr",
     "output_type": "stream",
     "text": [
      "frame=11184 fps= 68 q=-0.0 size=N/A time=00:07:26.08 bitrate=N/A speed=2.71x    \r"
     ]
    },
    {
     "name": "stdout",
     "output_type": "stream",
     "text": [
      "frame=11184\n",
      "fps=67.83\n",
      "stream_0_0_q=-0.0\n",
      "bitrate=N/A\n",
      "total_size=N/A\n",
      "out_time_us=446080000\n",
      "out_time_ms=446080000\n",
      "out_time=00:07:26.080000\n",
      "dup_frames=0\n",
      "drop_frames=0\n",
      "speed=2.71x\n",
      "progress=continue\n"
     ]
    },
    {
     "name": "stderr",
     "output_type": "stream",
     "text": [
      "frame=11205 fps= 68 q=-0.0 size=N/A time=00:07:26.92 bitrate=N/A speed= 2.7x    \r"
     ]
    },
    {
     "name": "stdout",
     "output_type": "stream",
     "text": [
      "frame=11205\n",
      "fps=67.75\n",
      "stream_0_0_q=-0.0\n",
      "bitrate=N/A\n",
      "total_size=N/A\n",
      "out_time_us=446920000\n",
      "out_time_ms=446920000\n",
      "out_time=00:07:26.920000\n",
      "dup_frames=0\n",
      "drop_frames=0\n",
      "speed= 2.7x\n",
      "progress=continue\n"
     ]
    },
    {
     "name": "stderr",
     "output_type": "stream",
     "text": [
      "frame=11228 fps= 68 q=-0.0 size=N/A time=00:07:27.84 bitrate=N/A speed= 2.7x    \r"
     ]
    },
    {
     "name": "stdout",
     "output_type": "stream",
     "text": [
      "frame=11228\n",
      "fps=67.68\n",
      "stream_0_0_q=-0.0\n",
      "bitrate=N/A\n",
      "total_size=N/A\n",
      "out_time_us=447840000\n",
      "out_time_ms=447840000\n",
      "out_time=00:07:27.840000\n",
      "dup_frames=0\n",
      "drop_frames=0\n",
      "speed= 2.7x\n",
      "progress=continue\n"
     ]
    },
    {
     "name": "stderr",
     "output_type": "stream",
     "text": [
      "frame=11248 fps= 68 q=-0.0 size=N/A time=00:07:28.64 bitrate=N/A speed= 2.7x    \r"
     ]
    },
    {
     "name": "stdout",
     "output_type": "stream",
     "text": [
      "frame=11248\n",
      "fps=67.59\n",
      "stream_0_0_q=-0.0\n",
      "bitrate=N/A\n",
      "total_size=N/A\n",
      "out_time_us=448640000\n",
      "out_time_ms=448640000\n",
      "out_time=00:07:28.640000\n",
      "dup_frames=0\n",
      "drop_frames=0\n",
      "speed= 2.7x\n",
      "progress=continue\n",
      "frame=11271\n",
      "fps=67.52\n",
      "stream_0_0_q=-0.0\n",
      "bitrate=N/A\n",
      "total_size=N/A\n",
      "out_time_us=449560000\n",
      "out_time_ms=449560000\n",
      "out_time=00:07:29.560000\n",
      "dup_frames=0\n",
      "drop_frames=0\n",
      "speed=2.69x\n",
      "progress=continue\n"
     ]
    },
    {
     "name": "stderr",
     "output_type": "stream",
     "text": [
      "frame=11293 fps= 67 q=-0.0 size=N/A time=00:07:30.44 bitrate=N/A speed=2.69x    \r"
     ]
    },
    {
     "name": "stdout",
     "output_type": "stream",
     "text": [
      "frame=11293\n",
      "fps=67.44\n",
      "stream_0_0_q=-0.0\n",
      "bitrate=N/A\n",
      "total_size=N/A\n",
      "out_time_us=450440000\n",
      "out_time_ms=450440000\n",
      "out_time=00:07:30.440000\n",
      "dup_frames=0\n",
      "drop_frames=0\n",
      "speed=2.69x\n",
      "progress=continue\n",
      "frame=11316\n",
      "fps=67.37\n",
      "stream_0_0_q=-0.0\n",
      "bitrate=N/A\n",
      "total_size=N/A\n",
      "out_time_us=451360000\n",
      "out_time_ms=451360000\n",
      "out_time=00:07:31.360000\n",
      "dup_frames=0\n",
      "drop_frames=0\n",
      "speed=2.69x\n",
      "progress=continue\n"
     ]
    },
    {
     "name": "stderr",
     "output_type": "stream",
     "text": [
      "frame=11316 fps= 67 q=-0.0 size=N/A time=00:07:31.36 bitrate=N/A speed=2.69x    \r"
     ]
    },
    {
     "name": "stdout",
     "output_type": "stream",
     "text": [
      "frame=11336\n",
      "fps=67.28\n",
      "stream_0_0_q=-0.0\n",
      "bitrate=N/A\n",
      "total_size=N/A\n",
      "out_time_us=452160000\n",
      "out_time_ms=452160000\n",
      "out_time=00:07:32.160000\n",
      "dup_frames=0\n",
      "drop_frames=0\n",
      "speed=2.68x\n",
      "progress=continue\n"
     ]
    },
    {
     "name": "stderr",
     "output_type": "stream",
     "text": [
      "frame=11357 fps= 67 q=-0.0 size=N/A time=00:07:33.00 bitrate=N/A speed=2.68x    \r"
     ]
    },
    {
     "name": "stdout",
     "output_type": "stream",
     "text": [
      "frame=11357\n",
      "fps=67.21\n",
      "stream_0_0_q=-0.0\n",
      "bitrate=N/A\n",
      "total_size=N/A\n",
      "out_time_us=453000000\n",
      "out_time_ms=453000000\n",
      "out_time=00:07:33.000000\n",
      "dup_frames=0\n",
      "drop_frames=0\n",
      "speed=2.68x\n",
      "progress=continue\n"
     ]
    },
    {
     "name": "stderr",
     "output_type": "stream",
     "text": [
      "frame=11379 fps= 67 q=-0.0 size=N/A time=00:07:33.88 bitrate=N/A speed=2.68x    \r"
     ]
    },
    {
     "name": "stdout",
     "output_type": "stream",
     "text": [
      "frame=11379\n",
      "fps=67.14\n",
      "stream_0_0_q=-0.0\n",
      "bitrate=N/A\n",
      "total_size=N/A\n",
      "out_time_us=453880000\n",
      "out_time_ms=453880000\n",
      "out_time=00:07:33.880000\n",
      "dup_frames=0\n",
      "drop_frames=0\n",
      "speed=2.68x\n",
      "progress=continue\n"
     ]
    },
    {
     "name": "stderr",
     "output_type": "stream",
     "text": [
      "frame=11402 fps= 67 q=-0.0 size=N/A time=00:07:34.80 bitrate=N/A speed=2.68x    \r"
     ]
    },
    {
     "name": "stdout",
     "output_type": "stream",
     "text": [
      "frame=11402\n",
      "fps=67.07\n",
      "stream_0_0_q=-0.0\n",
      "bitrate=N/A\n",
      "total_size=N/A\n",
      "out_time_us=454800000\n",
      "out_time_ms=454800000\n",
      "out_time=00:07:34.800000\n",
      "dup_frames=0\n",
      "drop_frames=0\n",
      "speed=2.68x\n",
      "progress=continue\n"
     ]
    },
    {
     "name": "stderr",
     "output_type": "stream",
     "text": [
      "frame=11428 fps= 67 q=-0.0 size=N/A time=00:07:35.84 bitrate=N/A speed=2.67x    \r"
     ]
    },
    {
     "name": "stdout",
     "output_type": "stream",
     "text": [
      "frame=11428\n",
      "fps=67.02\n",
      "stream_0_0_q=-0.0\n",
      "bitrate=N/A\n",
      "total_size=N/A\n",
      "out_time_us=455840000\n",
      "out_time_ms=455840000\n",
      "out_time=00:07:35.840000\n",
      "dup_frames=0\n",
      "drop_frames=0\n",
      "speed=2.67x\n",
      "progress=continue\n"
     ]
    },
    {
     "name": "stderr",
     "output_type": "stream",
     "text": [
      "frame=11450 fps= 67 q=-0.0 size=N/A time=00:07:36.72 bitrate=N/A speed=2.67x    \r"
     ]
    },
    {
     "name": "stdout",
     "output_type": "stream",
     "text": [
      "frame=11450\n",
      "fps=66.95\n",
      "stream_0_0_q=-0.0\n",
      "bitrate=N/A\n",
      "total_size=N/A\n",
      "out_time_us=456720000\n",
      "out_time_ms=456720000\n",
      "out_time=00:07:36.720000\n",
      "dup_frames=0\n",
      "drop_frames=0\n",
      "speed=2.67x\n",
      "progress=continue\n",
      "frame=11474\n",
      "fps=66.88\n",
      "stream_0_0_q=-0.0\n",
      "bitrate=N/A\n",
      "total_size=N/A\n",
      "out_time_us=457680000\n",
      "out_time_ms=457680000\n",
      "out_time=00:07:37.680000\n",
      "dup_frames=0\n",
      "drop_frames=0\n",
      "speed=2.67x\n",
      "progress=continue\n"
     ]
    },
    {
     "name": "stderr",
     "output_type": "stream",
     "text": [
      "frame=11496 fps= 67 q=-0.0 size=N/A time=00:07:38.56 bitrate=N/A speed=2.66x    \r"
     ]
    },
    {
     "name": "stdout",
     "output_type": "stream",
     "text": [
      "frame=11496\n",
      "fps=66.81\n",
      "stream_0_0_q=-0.0\n",
      "bitrate=N/A\n",
      "total_size=N/A\n",
      "out_time_us=458560000\n",
      "out_time_ms=458560000\n",
      "out_time=00:07:38.560000\n",
      "dup_frames=0\n",
      "drop_frames=0\n",
      "speed=2.66x\n",
      "progress=continue\n"
     ]
    },
    {
     "name": "stderr",
     "output_type": "stream",
     "text": [
      "frame=11516 fps= 67 q=-0.0 size=N/A time=00:07:39.36 bitrate=N/A speed=2.66x    \r"
     ]
    },
    {
     "name": "stdout",
     "output_type": "stream",
     "text": [
      "frame=11516\n",
      "fps=66.72\n",
      "stream_0_0_q=-0.0\n",
      "bitrate=N/A\n",
      "total_size=N/A\n",
      "out_time_us=459360000\n",
      "out_time_ms=459360000\n",
      "out_time=00:07:39.360000\n",
      "dup_frames=0\n",
      "drop_frames=0\n",
      "speed=2.66x\n",
      "progress=continue\n",
      "frame=11536\n",
      "fps=66.64\n",
      "stream_0_0_q=-0.0\n",
      "bitrate=N/A\n",
      "total_size=N/A\n",
      "out_time_us=460160000\n",
      "out_time_ms=460160000\n",
      "out_time=00:07:40.160000\n",
      "dup_frames=0\n",
      "drop_frames=0\n",
      "speed=2.66x\n",
      "progress=continue\n"
     ]
    },
    {
     "name": "stderr",
     "output_type": "stream",
     "text": [
      "frame=11536 fps= 67 q=-0.0 size=N/A time=00:07:40.16 bitrate=N/A speed=2.66x    \r"
     ]
    },
    {
     "name": "stdout",
     "output_type": "stream",
     "text": [
      "frame=11556\n",
      "fps=66.55\n",
      "stream_0_0_q=-0.0\n",
      "bitrate=N/A\n",
      "total_size=N/A\n",
      "out_time_us=460960000\n",
      "out_time_ms=460960000\n",
      "out_time=00:07:40.960000\n",
      "dup_frames=0\n",
      "drop_frames=0\n",
      "speed=2.65x\n",
      "progress=continue\n"
     ]
    },
    {
     "name": "stderr",
     "output_type": "stream",
     "text": [
      "frame=11577 fps= 66 q=-0.0 size=N/A time=00:07:41.80 bitrate=N/A speed=2.65x    \r"
     ]
    },
    {
     "name": "stdout",
     "output_type": "stream",
     "text": [
      "frame=11577\n",
      "fps=66.47\n",
      "stream_0_0_q=-0.0\n",
      "bitrate=N/A\n",
      "total_size=N/A\n",
      "out_time_us=461800000\n",
      "out_time_ms=461800000\n",
      "out_time=00:07:41.800000\n",
      "dup_frames=0\n",
      "drop_frames=0\n",
      "speed=2.65x\n",
      "progress=continue\n"
     ]
    },
    {
     "name": "stderr",
     "output_type": "stream",
     "text": [
      "frame=11600 fps= 66 q=-0.0 size=N/A time=00:07:42.72 bitrate=N/A speed=2.65x    \r"
     ]
    },
    {
     "name": "stdout",
     "output_type": "stream",
     "text": [
      "frame=11600\n",
      "fps=66.41\n",
      "stream_0_0_q=-0.0\n",
      "bitrate=N/A\n",
      "total_size=N/A\n",
      "out_time_us=462720000\n",
      "out_time_ms=462720000\n",
      "out_time=00:07:42.720000\n",
      "dup_frames=0\n",
      "drop_frames=0\n",
      "speed=2.65x\n",
      "progress=continue\n",
      "frame=11628\n",
      "fps=66.38\n",
      "stream_0_0_q=-0.0\n",
      "bitrate=N/A\n",
      "total_size=N/A\n",
      "out_time_us=463840000\n",
      "out_time_ms=463840000\n",
      "out_time=00:07:43.840000\n",
      "dup_frames=0\n",
      "drop_frames=0\n",
      "speed=2.65x\n",
      "progress=continue\n"
     ]
    },
    {
     "name": "stderr",
     "output_type": "stream",
     "text": [
      "frame=11628 fps= 66 q=-0.0 size=N/A time=00:07:43.84 bitrate=N/A speed=2.65x    \r"
     ]
    },
    {
     "name": "stdout",
     "output_type": "stream",
     "text": [
      "frame=11637\n",
      "fps=66.24\n",
      "stream_0_0_q=-0.0\n",
      "bitrate=N/A\n",
      "total_size=N/A\n",
      "out_time_us=464200000\n",
      "out_time_ms=464200000\n",
      "out_time=00:07:44.200000\n",
      "dup_frames=0\n",
      "drop_frames=0\n",
      "speed=2.64x\n",
      "progress=continue\n"
     ]
    },
    {
     "name": "stderr",
     "output_type": "stream",
     "text": [
      "frame=11647 fps= 66 q=-0.0 size=N/A time=00:07:44.60 bitrate=N/A speed=2.64x    \r"
     ]
    },
    {
     "name": "stdout",
     "output_type": "stream",
     "text": [
      "frame=11647\n",
      "fps=66.11\n",
      "stream_0_0_q=-0.0\n",
      "bitrate=N/A\n",
      "total_size=N/A\n",
      "out_time_us=464600000\n",
      "out_time_ms=464600000\n",
      "out_time=00:07:44.600000\n",
      "dup_frames=0\n",
      "drop_frames=0\n",
      "speed=2.64x\n",
      "progress=continue\n"
     ]
    },
    {
     "name": "stderr",
     "output_type": "stream",
     "text": [
      "frame=11671 fps= 66 q=-0.0 size=N/A time=00:07:45.56 bitrate=N/A speed=2.63x    \r"
     ]
    },
    {
     "name": "stdout",
     "output_type": "stream",
     "text": [
      "frame=11671\n",
      "fps=66.06\n",
      "stream_0_0_q=-0.0\n",
      "bitrate=N/A\n",
      "total_size=N/A\n",
      "out_time_us=465560000\n",
      "out_time_ms=465560000\n",
      "out_time=00:07:45.560000\n",
      "dup_frames=0\n",
      "drop_frames=0\n",
      "speed=2.63x\n",
      "progress=continue\n"
     ]
    },
    {
     "name": "stderr",
     "output_type": "stream",
     "text": [
      "frame=11732 fps= 66 q=-0.0 size=N/A time=00:07:48.00 bitrate=N/A speed=2.64x    \r"
     ]
    },
    {
     "name": "stdout",
     "output_type": "stream",
     "text": [
      "frame=11732\n",
      "fps=66.21\n",
      "stream_0_0_q=-0.0\n",
      "bitrate=N/A\n",
      "total_size=N/A\n",
      "out_time_us=468000000\n",
      "out_time_ms=468000000\n",
      "out_time=00:07:48.000000\n",
      "dup_frames=0\n",
      "drop_frames=0\n",
      "speed=2.64x\n",
      "progress=continue\n"
     ]
    },
    {
     "name": "stderr",
     "output_type": "stream",
     "text": [
      "frame=11751 fps= 66 q=-0.0 size=N/A time=00:07:48.76 bitrate=N/A speed=2.64x    \r"
     ]
    },
    {
     "name": "stdout",
     "output_type": "stream",
     "text": [
      "frame=11751\n",
      "fps=66.12\n",
      "stream_0_0_q=-0.0\n",
      "bitrate=N/A\n",
      "total_size=N/A\n",
      "out_time_us=468760000\n",
      "out_time_ms=468760000\n",
      "out_time=00:07:48.760000\n",
      "dup_frames=0\n",
      "drop_frames=0\n",
      "speed=2.64x\n",
      "progress=continue\n"
     ]
    },
    {
     "name": "stderr",
     "output_type": "stream",
     "text": [
      "frame=11770 fps= 66 q=-0.0 size=N/A time=00:07:49.52 bitrate=N/A speed=2.63x    \r"
     ]
    },
    {
     "name": "stdout",
     "output_type": "stream",
     "text": [
      "frame=11770\n",
      "fps=66.04\n",
      "stream_0_0_q=-0.0\n",
      "bitrate=N/A\n",
      "total_size=N/A\n",
      "out_time_us=469520000\n",
      "out_time_ms=469520000\n",
      "out_time=00:07:49.520000\n",
      "dup_frames=0\n",
      "drop_frames=0\n",
      "speed=2.63x\n",
      "progress=continue\n"
     ]
    },
    {
     "name": "stderr",
     "output_type": "stream",
     "text": [
      "frame=11790 fps= 66 q=-0.0 size=N/A time=00:07:50.32 bitrate=N/A speed=2.63x    \r"
     ]
    },
    {
     "name": "stdout",
     "output_type": "stream",
     "text": [
      "frame=11790\n",
      "fps=65.96\n",
      "stream_0_0_q=-0.0\n",
      "bitrate=N/A\n",
      "total_size=N/A\n",
      "out_time_us=470320000\n",
      "out_time_ms=470320000\n",
      "out_time=00:07:50.320000\n",
      "dup_frames=0\n",
      "drop_frames=0\n",
      "speed=2.63x\n",
      "progress=continue\n",
      "frame=11809\n",
      "fps=65.87\n",
      "stream_0_0_q=-0.0\n",
      "bitrate=N/A\n",
      "total_size=N/A\n",
      "out_time_us=471080000\n",
      "out_time_ms=471080000\n",
      "out_time=00:07:51.080000\n",
      "dup_frames=0\n",
      "drop_frames=0\n",
      "speed=2.63x\n",
      "progress=continue\n"
     ]
    },
    {
     "name": "stderr",
     "output_type": "stream",
     "text": [
      "frame=11809 fps= 66 q=-0.0 size=N/A time=00:07:51.08 bitrate=N/A speed=2.63x    \r"
     ]
    },
    {
     "name": "stdout",
     "output_type": "stream",
     "text": [
      "frame=11828\n",
      "fps=65.79\n",
      "stream_0_0_q=-0.0\n",
      "bitrate=N/A\n",
      "total_size=N/A\n",
      "out_time_us=471840000\n",
      "out_time_ms=471840000\n",
      "out_time=00:07:51.840000\n",
      "dup_frames=0\n",
      "drop_frames=0\n",
      "speed=2.62x\n",
      "progress=continue\n"
     ]
    },
    {
     "name": "stderr",
     "output_type": "stream",
     "text": [
      "frame=11847 fps= 66 q=-0.0 size=N/A time=00:07:52.60 bitrate=N/A speed=2.62x    \r"
     ]
    },
    {
     "name": "stdout",
     "output_type": "stream",
     "text": [
      "frame=11847\n",
      "fps=65.71\n",
      "stream_0_0_q=-0.0\n",
      "bitrate=N/A\n",
      "total_size=N/A\n",
      "out_time_us=472600000\n",
      "out_time_ms=472600000\n",
      "out_time=00:07:52.600000\n",
      "dup_frames=0\n",
      "drop_frames=0\n",
      "speed=2.62x\n",
      "progress=continue\n"
     ]
    },
    {
     "name": "stderr",
     "output_type": "stream",
     "text": [
      "frame=11869 fps= 66 q=-0.0 size=N/A time=00:07:53.48 bitrate=N/A speed=2.62x    \r"
     ]
    },
    {
     "name": "stdout",
     "output_type": "stream",
     "text": [
      "frame=11869\n",
      "fps=65.64\n",
      "stream_0_0_q=-0.0\n",
      "bitrate=N/A\n",
      "total_size=N/A\n",
      "out_time_us=473480000\n",
      "out_time_ms=473480000\n",
      "out_time=00:07:53.480000\n",
      "dup_frames=0\n",
      "drop_frames=0\n",
      "speed=2.62x\n",
      "progress=continue\n"
     ]
    },
    {
     "name": "stderr",
     "output_type": "stream",
     "text": [
      "frame=11889 fps= 66 q=-0.0 size=N/A time=00:07:54.28 bitrate=N/A speed=2.62x    \r"
     ]
    },
    {
     "name": "stdout",
     "output_type": "stream",
     "text": [
      "frame=11889\n",
      "fps=65.56\n",
      "stream_0_0_q=-0.0\n",
      "bitrate=N/A\n",
      "total_size=N/A\n",
      "out_time_us=474280000\n",
      "out_time_ms=474280000\n",
      "out_time=00:07:54.280000\n",
      "dup_frames=0\n",
      "drop_frames=0\n",
      "speed=2.62x\n",
      "progress=continue\n"
     ]
    },
    {
     "name": "stderr",
     "output_type": "stream",
     "text": [
      "frame=11911 fps= 66 q=-0.0 size=N/A time=00:07:55.16 bitrate=N/A speed=2.61x    \r"
     ]
    },
    {
     "name": "stdout",
     "output_type": "stream",
     "text": [
      "frame=11911\n",
      "fps=65.50\n",
      "stream_0_0_q=-0.0\n",
      "bitrate=N/A\n",
      "total_size=N/A\n",
      "out_time_us=475160000\n",
      "out_time_ms=475160000\n",
      "out_time=00:07:55.160000\n",
      "dup_frames=0\n",
      "drop_frames=0\n",
      "speed=2.61x\n",
      "progress=continue\n"
     ]
    },
    {
     "name": "stderr",
     "output_type": "stream",
     "text": [
      "frame=11932 fps= 65 q=-0.0 size=N/A time=00:07:56.00 bitrate=N/A speed=2.61x    \r"
     ]
    },
    {
     "name": "stdout",
     "output_type": "stream",
     "text": [
      "frame=11932\n",
      "fps=65.43\n",
      "stream_0_0_q=-0.0\n",
      "bitrate=N/A\n",
      "total_size=N/A\n",
      "out_time_us=476000000\n",
      "out_time_ms=476000000\n",
      "out_time=00:07:56.000000\n",
      "dup_frames=0\n",
      "drop_frames=0\n",
      "speed=2.61x\n",
      "progress=continue\n"
     ]
    },
    {
     "name": "stderr",
     "output_type": "stream",
     "text": [
      "frame=11954 fps= 65 q=-0.0 size=N/A time=00:07:56.88 bitrate=N/A speed=2.61x    \r"
     ]
    },
    {
     "name": "stdout",
     "output_type": "stream",
     "text": [
      "frame=11954\n",
      "fps=65.36\n",
      "stream_0_0_q=-0.0\n",
      "bitrate=N/A\n",
      "total_size=N/A\n",
      "out_time_us=476880000\n",
      "out_time_ms=476880000\n",
      "out_time=00:07:56.880000\n",
      "dup_frames=0\n",
      "drop_frames=0\n",
      "speed=2.61x\n",
      "progress=continue\n"
     ]
    },
    {
     "name": "stderr",
     "output_type": "stream",
     "text": [
      "frame=11974 fps= 65 q=-0.0 size=N/A time=00:07:57.68 bitrate=N/A speed= 2.6x    \r"
     ]
    },
    {
     "name": "stdout",
     "output_type": "stream",
     "text": [
      "frame=11974\n",
      "fps=65.29\n",
      "stream_0_0_q=-0.0\n",
      "bitrate=N/A\n",
      "total_size=N/A\n",
      "out_time_us=477680000\n",
      "out_time_ms=477680000\n",
      "out_time=00:07:57.680000\n",
      "dup_frames=0\n",
      "drop_frames=0\n",
      "speed= 2.6x\n",
      "progress=continue\n"
     ]
    },
    {
     "name": "stderr",
     "output_type": "stream",
     "text": [
      "frame=11995 fps= 65 q=-0.0 size=N/A time=00:07:58.52 bitrate=N/A speed= 2.6x    \r"
     ]
    },
    {
     "name": "stdout",
     "output_type": "stream",
     "text": [
      "frame=11995\n",
      "fps=65.23\n",
      "stream_0_0_q=-0.0\n",
      "bitrate=N/A\n",
      "total_size=N/A\n",
      "out_time_us=478520000\n",
      "out_time_ms=478520000\n",
      "out_time=00:07:58.520000\n",
      "dup_frames=0\n",
      "drop_frames=0\n",
      "speed= 2.6x\n",
      "progress=continue\n"
     ]
    },
    {
     "name": "stderr",
     "output_type": "stream",
     "text": [
      "frame=12014 fps= 65 q=-0.0 size=N/A time=00:07:59.28 bitrate=N/A speed= 2.6x    \r"
     ]
    },
    {
     "name": "stdout",
     "output_type": "stream",
     "text": [
      "frame=12014\n",
      "fps=65.15\n",
      "stream_0_0_q=-0.0\n",
      "bitrate=N/A\n",
      "total_size=N/A\n",
      "out_time_us=479280000\n",
      "out_time_ms=479280000\n",
      "out_time=00:07:59.280000\n",
      "dup_frames=0\n",
      "drop_frames=0\n",
      "speed= 2.6x\n",
      "progress=continue\n"
     ]
    },
    {
     "name": "stderr",
     "output_type": "stream",
     "text": [
      "frame=12038 fps= 65 q=-0.0 size=N/A time=00:08:00.24 bitrate=N/A speed= 2.6x    \r"
     ]
    },
    {
     "name": "stdout",
     "output_type": "stream",
     "text": [
      "frame=12038\n",
      "fps=65.11\n",
      "stream_0_0_q=-0.0\n",
      "bitrate=N/A\n",
      "total_size=N/A\n",
      "out_time_us=480240000\n",
      "out_time_ms=480240000\n",
      "out_time=00:08:00.240000\n",
      "dup_frames=0\n",
      "drop_frames=0\n",
      "speed= 2.6x\n",
      "progress=continue\n"
     ]
    },
    {
     "name": "stderr",
     "output_type": "stream",
     "text": [
      "frame=12058 fps= 65 q=-0.0 size=N/A time=00:08:01.04 bitrate=N/A speed=2.59x    \r"
     ]
    },
    {
     "name": "stdout",
     "output_type": "stream",
     "text": [
      "frame=12058\n",
      "fps=65.03\n",
      "stream_0_0_q=-0.0\n",
      "bitrate=N/A\n",
      "total_size=N/A\n",
      "out_time_us=481040000\n",
      "out_time_ms=481040000\n",
      "out_time=00:08:01.040000\n",
      "dup_frames=0\n",
      "drop_frames=0\n",
      "speed=2.59x\n",
      "progress=continue\n"
     ]
    },
    {
     "name": "stderr",
     "output_type": "stream",
     "text": [
      "frame=12081 fps= 65 q=-0.0 size=N/A time=00:08:01.96 bitrate=N/A speed=2.59x    \r"
     ]
    },
    {
     "name": "stdout",
     "output_type": "stream",
     "text": [
      "frame=12081\n",
      "fps=64.98\n",
      "stream_0_0_q=-0.0\n",
      "bitrate=N/A\n",
      "total_size=N/A\n",
      "out_time_us=481960000\n",
      "out_time_ms=481960000\n",
      "out_time=00:08:01.960000\n",
      "dup_frames=0\n",
      "drop_frames=0\n",
      "speed=2.59x\n",
      "progress=continue\n"
     ]
    },
    {
     "name": "stderr",
     "output_type": "stream",
     "text": [
      "frame=12101 fps= 65 q=-0.0 size=N/A time=00:08:02.76 bitrate=N/A speed=2.59x    \r"
     ]
    },
    {
     "name": "stdout",
     "output_type": "stream",
     "text": [
      "frame=12101\n",
      "fps=64.91\n",
      "stream_0_0_q=-0.0\n",
      "bitrate=N/A\n",
      "total_size=N/A\n",
      "out_time_us=482760000\n",
      "out_time_ms=482760000\n",
      "out_time=00:08:02.760000\n",
      "dup_frames=0\n",
      "drop_frames=0\n",
      "speed=2.59x\n",
      "progress=continue\n"
     ]
    },
    {
     "name": "stderr",
     "output_type": "stream",
     "text": [
      "frame=12122 fps= 65 q=-0.0 size=N/A time=00:08:03.60 bitrate=N/A speed=2.59x    \r"
     ]
    },
    {
     "name": "stdout",
     "output_type": "stream",
     "text": [
      "frame=12122\n",
      "fps=64.84\n",
      "stream_0_0_q=-0.0\n",
      "bitrate=N/A\n",
      "total_size=N/A\n",
      "out_time_us=483600000\n",
      "out_time_ms=483600000\n",
      "out_time=00:08:03.600000\n",
      "dup_frames=0\n",
      "drop_frames=0\n",
      "speed=2.59x\n",
      "progress=continue\n"
     ]
    },
    {
     "name": "stderr",
     "output_type": "stream",
     "text": [
      "frame=12142 fps= 65 q=-0.0 size=N/A time=00:08:04.40 bitrate=N/A speed=2.58x    \r"
     ]
    },
    {
     "name": "stdout",
     "output_type": "stream",
     "text": [
      "frame=12142\n",
      "fps=64.77\n",
      "stream_0_0_q=-0.0\n",
      "bitrate=N/A\n",
      "total_size=N/A\n",
      "out_time_us=484400000\n",
      "out_time_ms=484400000\n",
      "out_time=00:08:04.400000\n",
      "dup_frames=0\n",
      "drop_frames=0\n",
      "speed=2.58x\n",
      "progress=continue\n"
     ]
    },
    {
     "name": "stderr",
     "output_type": "stream",
     "text": [
      "frame=12161 fps= 65 q=-0.0 size=N/A time=00:08:05.16 bitrate=N/A speed=2.58x    \r"
     ]
    },
    {
     "name": "stdout",
     "output_type": "stream",
     "text": [
      "frame=12161\n",
      "fps=64.69\n",
      "stream_0_0_q=-0.0\n",
      "bitrate=N/A\n",
      "total_size=N/A\n",
      "out_time_us=485160000\n",
      "out_time_ms=485160000\n",
      "out_time=00:08:05.160000\n",
      "dup_frames=0\n",
      "drop_frames=0\n",
      "speed=2.58x\n",
      "progress=continue\n"
     ]
    },
    {
     "name": "stderr",
     "output_type": "stream",
     "text": [
      "frame=12181 fps= 65 q=-0.0 size=N/A time=00:08:05.96 bitrate=N/A speed=2.58x    \r"
     ]
    },
    {
     "name": "stdout",
     "output_type": "stream",
     "text": [
      "frame=12181\n",
      "fps=64.62\n",
      "stream_0_0_q=-0.0\n",
      "bitrate=N/A\n",
      "total_size=N/A\n",
      "out_time_us=485960000\n",
      "out_time_ms=485960000\n",
      "out_time=00:08:05.960000\n",
      "dup_frames=0\n",
      "drop_frames=0\n",
      "speed=2.58x\n",
      "progress=continue\n"
     ]
    },
    {
     "name": "stderr",
     "output_type": "stream",
     "text": [
      "frame=12205 fps= 65 q=-0.0 size=N/A time=00:08:06.92 bitrate=N/A speed=2.58x    \r"
     ]
    },
    {
     "name": "stdout",
     "output_type": "stream",
     "text": [
      "frame=12205\n",
      "fps=64.57\n",
      "stream_0_0_q=-0.0\n",
      "bitrate=N/A\n",
      "total_size=N/A\n",
      "out_time_us=486920000\n",
      "out_time_ms=486920000\n",
      "out_time=00:08:06.920000\n",
      "dup_frames=0\n",
      "drop_frames=0\n",
      "speed=2.58x\n",
      "progress=continue\n"
     ]
    },
    {
     "name": "stderr",
     "output_type": "stream",
     "text": [
      "frame=12234 fps= 65 q=-0.0 size=N/A time=00:08:08.08 bitrate=N/A speed=2.58x    \r"
     ]
    },
    {
     "name": "stdout",
     "output_type": "stream",
     "text": [
      "frame=12234\n",
      "fps=64.55\n",
      "stream_0_0_q=-0.0\n",
      "bitrate=N/A\n",
      "total_size=N/A\n",
      "out_time_us=488080000\n",
      "out_time_ms=488080000\n",
      "out_time=00:08:08.080000\n",
      "dup_frames=0\n",
      "drop_frames=0\n",
      "speed=2.58x\n",
      "progress=continue\n"
     ]
    },
    {
     "name": "stderr",
     "output_type": "stream",
     "text": [
      "frame=12258 fps= 65 q=-0.0 size=N/A time=00:08:09.04 bitrate=N/A speed=2.57x    \r"
     ]
    },
    {
     "name": "stdout",
     "output_type": "stream",
     "text": [
      "frame=12258\n",
      "fps=64.50\n",
      "stream_0_0_q=-0.0\n",
      "bitrate=N/A\n",
      "total_size=N/A\n",
      "out_time_us=489040000\n",
      "out_time_ms=489040000\n",
      "out_time=00:08:09.040000\n",
      "dup_frames=0\n",
      "drop_frames=0\n",
      "speed=2.57x\n",
      "progress=continue\n"
     ]
    },
    {
     "name": "stderr",
     "output_type": "stream",
     "text": [
      "frame=12282 fps= 64 q=-0.0 size=N/A time=00:08:10.00 bitrate=N/A speed=2.57x    \r"
     ]
    },
    {
     "name": "stdout",
     "output_type": "stream",
     "text": [
      "frame=12282\n",
      "fps=64.46\n",
      "stream_0_0_q=-0.0\n",
      "bitrate=N/A\n",
      "total_size=N/A\n",
      "out_time_us=490000000\n",
      "out_time_ms=490000000\n",
      "out_time=00:08:10.000000\n",
      "dup_frames=0\n",
      "drop_frames=0\n",
      "speed=2.57x\n",
      "progress=continue\n"
     ]
    },
    {
     "name": "stderr",
     "output_type": "stream",
     "text": [
      "frame=12304 fps= 64 q=-0.0 size=N/A time=00:08:10.88 bitrate=N/A speed=2.57x    \r"
     ]
    },
    {
     "name": "stdout",
     "output_type": "stream",
     "text": [
      "frame=12304\n",
      "fps=64.35\n",
      "stream_0_0_q=-0.0\n",
      "bitrate=N/A\n",
      "total_size=N/A\n",
      "out_time_us=490880000\n",
      "out_time_ms=490880000\n",
      "out_time=00:08:10.880000\n",
      "dup_frames=0\n",
      "drop_frames=0\n",
      "speed=2.57x\n",
      "progress=continue\n"
     ]
    },
    {
     "name": "stderr",
     "output_type": "stream",
     "text": [
      "frame=12319 fps= 64 q=-0.0 size=N/A time=00:08:11.48 bitrate=N/A speed=2.56x    \r"
     ]
    },
    {
     "name": "stdout",
     "output_type": "stream",
     "text": [
      "frame=12319\n",
      "fps=64.24\n",
      "stream_0_0_q=-0.0\n",
      "bitrate=N/A\n",
      "total_size=N/A\n",
      "out_time_us=491480000\n",
      "out_time_ms=491480000\n",
      "out_time=00:08:11.480000\n",
      "dup_frames=0\n",
      "drop_frames=0\n",
      "speed=2.56x\n",
      "progress=continue\n"
     ]
    },
    {
     "name": "stderr",
     "output_type": "stream",
     "text": [
      "frame=12360 fps= 64 q=-0.0 size=N/A time=00:08:13.12 bitrate=N/A speed=2.56x    \r"
     ]
    },
    {
     "name": "stdout",
     "output_type": "stream",
     "text": [
      "frame=12360\n",
      "fps=64.28\n",
      "stream_0_0_q=-0.0\n",
      "bitrate=N/A\n",
      "total_size=N/A\n",
      "out_time_us=493120000\n",
      "out_time_ms=493120000\n",
      "out_time=00:08:13.120000\n",
      "dup_frames=0\n",
      "drop_frames=0\n",
      "speed=2.56x\n",
      "progress=continue\n",
      "frame=12385\n",
      "fps=64.24\n",
      "stream_0_0_q=-0.0\n",
      "bitrate=N/A\n",
      "total_size=N/A\n",
      "out_time_us=494120000\n",
      "out_time_ms=494120000\n",
      "out_time=00:08:14.120000\n",
      "dup_frames=0\n",
      "drop_frames=0\n",
      "speed=2.56x\n",
      "progress=continue\n"
     ]
    },
    {
     "name": "stderr",
     "output_type": "stream",
     "text": [
      "frame=12385 fps= 64 q=-0.0 size=N/A time=00:08:14.12 bitrate=N/A speed=2.56x    \r"
     ]
    },
    {
     "name": "stdout",
     "output_type": "stream",
     "text": [
      "frame=12404\n",
      "fps=64.17\n",
      "stream_0_0_q=-0.0\n",
      "bitrate=N/A\n",
      "total_size=N/A\n",
      "out_time_us=494880000\n",
      "out_time_ms=494880000\n",
      "out_time=00:08:14.880000\n",
      "dup_frames=0\n",
      "drop_frames=0\n",
      "speed=2.56x\n",
      "progress=continue\n"
     ]
    },
    {
     "name": "stderr",
     "output_type": "stream",
     "text": [
      "frame=12423 fps= 64 q=-0.0 size=N/A time=00:08:15.64 bitrate=N/A speed=2.56x    \r"
     ]
    },
    {
     "name": "stdout",
     "output_type": "stream",
     "text": [
      "frame=12423\n",
      "fps=64.10\n",
      "stream_0_0_q=-0.0\n",
      "bitrate=N/A\n",
      "total_size=N/A\n",
      "out_time_us=495640000\n",
      "out_time_ms=495640000\n",
      "out_time=00:08:15.640000\n",
      "dup_frames=0\n",
      "drop_frames=0\n",
      "speed=2.56x\n",
      "progress=continue\n"
     ]
    },
    {
     "name": "stderr",
     "output_type": "stream",
     "text": [
      "frame=12442 fps= 64 q=-0.0 size=N/A time=00:08:16.40 bitrate=N/A speed=2.55x    \r"
     ]
    },
    {
     "name": "stdout",
     "output_type": "stream",
     "text": [
      "frame=12442\n",
      "fps=64.03\n",
      "stream_0_0_q=-0.0\n",
      "bitrate=N/A\n",
      "total_size=N/A\n",
      "out_time_us=496400000\n",
      "out_time_ms=496400000\n",
      "out_time=00:08:16.400000\n",
      "dup_frames=0\n",
      "drop_frames=0\n",
      "speed=2.55x\n",
      "progress=continue\n"
     ]
    },
    {
     "name": "stderr",
     "output_type": "stream",
     "text": [
      "frame=12461 fps= 64 q=-0.0 size=N/A time=00:08:17.16 bitrate=N/A speed=2.55x    \r"
     ]
    },
    {
     "name": "stdout",
     "output_type": "stream",
     "text": [
      "frame=12461\n",
      "fps=63.96\n",
      "stream_0_0_q=-0.0\n",
      "bitrate=N/A\n",
      "total_size=N/A\n",
      "out_time_us=497160000\n",
      "out_time_ms=497160000\n",
      "out_time=00:08:17.160000\n",
      "dup_frames=0\n",
      "drop_frames=0\n",
      "speed=2.55x\n",
      "progress=continue\n",
      "frame=12484\n",
      "fps=63.91\n",
      "stream_0_0_q=-0.0\n",
      "bitrate=N/A\n",
      "total_size=N/A\n",
      "out_time_us=498080000\n",
      "out_time_ms=498080000\n",
      "out_time=00:08:18.080000\n",
      "dup_frames=0\n",
      "drop_frames=0\n",
      "speed=2.55x\n",
      "progress=continue\n"
     ]
    },
    {
     "name": "stderr",
     "output_type": "stream",
     "text": [
      "frame=12504 fps= 64 q=-0.0 size=N/A time=00:08:18.88 bitrate=N/A speed=2.55x    \r"
     ]
    },
    {
     "name": "stdout",
     "output_type": "stream",
     "text": [
      "frame=12504\n",
      "fps=63.84\n",
      "stream_0_0_q=-0.0\n",
      "bitrate=N/A\n",
      "total_size=N/A\n",
      "out_time_us=498880000\n",
      "out_time_ms=498880000\n",
      "out_time=00:08:18.880000\n",
      "dup_frames=0\n",
      "drop_frames=0\n",
      "speed=2.55x\n",
      "progress=continue\n"
     ]
    },
    {
     "name": "stderr",
     "output_type": "stream",
     "text": [
      "frame=12525 fps= 64 q=-0.0 size=N/A time=00:08:19.72 bitrate=N/A speed=2.54x    \r"
     ]
    },
    {
     "name": "stdout",
     "output_type": "stream",
     "text": [
      "frame=12525\n",
      "fps=63.77\n",
      "stream_0_0_q=-0.0\n",
      "bitrate=N/A\n",
      "total_size=N/A\n",
      "out_time_us=499720000\n",
      "out_time_ms=499720000\n",
      "out_time=00:08:19.720000\n",
      "dup_frames=0\n",
      "drop_frames=0\n",
      "speed=2.54x\n",
      "progress=continue\n"
     ]
    },
    {
     "name": "stderr",
     "output_type": "stream",
     "text": [
      "frame=12549 fps= 64 q=-0.0 size=N/A time=00:08:20.68 bitrate=N/A speed=2.54x    \r"
     ]
    },
    {
     "name": "stdout",
     "output_type": "stream",
     "text": [
      "frame=12549\n",
      "fps=63.73\n",
      "stream_0_0_q=-0.0\n",
      "bitrate=N/A\n",
      "total_size=N/A\n",
      "out_time_us=500680000\n",
      "out_time_ms=500680000\n",
      "out_time=00:08:20.680000\n",
      "dup_frames=0\n",
      "drop_frames=0\n",
      "speed=2.54x\n",
      "progress=continue\n",
      "frame=12569\n",
      "fps=63.66\n",
      "stream_0_0_q=-0.0\n",
      "bitrate=N/A\n",
      "total_size=N/A\n",
      "out_time_us=501480000\n",
      "out_time_ms=501480000\n",
      "out_time=00:08:21.480000\n",
      "dup_frames=0\n",
      "drop_frames=0\n",
      "speed=2.54x\n",
      "progress=continue\n"
     ]
    },
    {
     "name": "stderr",
     "output_type": "stream",
     "text": [
      "frame=12569 fps= 64 q=-0.0 size=N/A time=00:08:21.48 bitrate=N/A speed=2.54x    \r"
     ]
    },
    {
     "name": "stdout",
     "output_type": "stream",
     "text": [
      "frame=12590\n",
      "fps=63.60\n",
      "stream_0_0_q=-0.0\n",
      "bitrate=N/A\n",
      "total_size=N/A\n",
      "out_time_us=502320000\n",
      "out_time_ms=502320000\n",
      "out_time=00:08:22.320000\n",
      "dup_frames=0\n",
      "drop_frames=0\n",
      "speed=2.54x\n",
      "progress=continue\n"
     ]
    },
    {
     "name": "stderr",
     "output_type": "stream",
     "text": [
      "frame=12590 fps= 64 q=-0.0 size=N/A time=00:08:22.32 bitrate=N/A speed=2.54x    \r"
     ]
    },
    {
     "name": "stdout",
     "output_type": "stream",
     "text": [
      "frame=12615\n",
      "fps=63.56\n",
      "stream_0_0_q=-0.0\n",
      "bitrate=N/A\n",
      "total_size=N/A\n",
      "out_time_us=503320000\n",
      "out_time_ms=503320000\n",
      "out_time=00:08:23.320000\n",
      "dup_frames=0\n",
      "drop_frames=0\n",
      "speed=2.54x\n",
      "progress=continue\n"
     ]
    },
    {
     "name": "stderr",
     "output_type": "stream",
     "text": [
      "frame=12615 fps= 64 q=-0.0 size=N/A time=00:08:23.32 bitrate=N/A speed=2.54x    \r"
     ]
    },
    {
     "name": "stdout",
     "output_type": "stream",
     "text": [
      "frame=12644\n",
      "fps=63.54\n",
      "stream_0_0_q=-0.0\n",
      "bitrate=N/A\n",
      "total_size=N/A\n",
      "out_time_us=504480000\n",
      "out_time_ms=504480000\n",
      "out_time=00:08:24.480000\n",
      "dup_frames=0\n",
      "drop_frames=0\n",
      "speed=2.54x\n",
      "progress=continue\n"
     ]
    },
    {
     "name": "stderr",
     "output_type": "stream",
     "text": [
      "frame=12644 fps= 64 q=-0.0 size=N/A time=00:08:24.48 bitrate=N/A speed=2.54x    \r"
     ]
    },
    {
     "name": "stdout",
     "output_type": "stream",
     "text": [
      "frame=12663\n",
      "fps=63.48\n",
      "stream_0_0_q=-0.0\n",
      "bitrate=N/A\n",
      "total_size=N/A\n",
      "out_time_us=505240000\n",
      "out_time_ms=505240000\n",
      "out_time=00:08:25.240000\n",
      "dup_frames=0\n",
      "drop_frames=0\n",
      "speed=2.53x\n",
      "progress=continue\n"
     ]
    },
    {
     "name": "stderr",
     "output_type": "stream",
     "text": [
      "frame=12663 fps= 63 q=-0.0 size=N/A time=00:08:25.24 bitrate=N/A speed=2.53x    \r"
     ]
    },
    {
     "name": "stdout",
     "output_type": "stream",
     "text": [
      "frame=12685\n",
      "fps=63.43\n",
      "stream_0_0_q=-0.0\n",
      "bitrate=N/A\n",
      "total_size=N/A\n",
      "out_time_us=506120000\n",
      "out_time_ms=506120000\n",
      "out_time=00:08:26.120000\n",
      "dup_frames=0\n",
      "drop_frames=0\n",
      "speed=2.53x\n",
      "progress=continue\n"
     ]
    },
    {
     "name": "stderr",
     "output_type": "stream",
     "text": [
      "frame=12685 fps= 63 q=-0.0 size=N/A time=00:08:26.12 bitrate=N/A speed=2.53x    \r"
     ]
    },
    {
     "name": "stdout",
     "output_type": "stream",
     "text": [
      "frame=12710\n",
      "fps=63.39\n",
      "stream_0_0_q=-0.0\n",
      "bitrate=N/A\n",
      "total_size=N/A\n",
      "out_time_us=507120000\n",
      "out_time_ms=507120000\n",
      "out_time=00:08:27.120000\n",
      "dup_frames=0\n",
      "drop_frames=0\n",
      "speed=2.53x\n",
      "progress=continue\n"
     ]
    },
    {
     "name": "stderr",
     "output_type": "stream",
     "text": [
      "frame=12729 fps= 63 q=-0.0 size=N/A time=00:08:27.88 bitrate=N/A speed=2.53x    \r"
     ]
    },
    {
     "name": "stdout",
     "output_type": "stream",
     "text": [
      "frame=12729\n",
      "fps=63.32\n",
      "stream_0_0_q=-0.0\n",
      "bitrate=N/A\n",
      "total_size=N/A\n",
      "out_time_us=507880000\n",
      "out_time_ms=507880000\n",
      "out_time=00:08:27.880000\n",
      "dup_frames=0\n",
      "drop_frames=0\n",
      "speed=2.53x\n",
      "progress=continue\n"
     ]
    },
    {
     "name": "stderr",
     "output_type": "stream",
     "text": [
      "frame=12749 fps= 63 q=-0.0 size=N/A time=00:08:28.68 bitrate=N/A speed=2.52x    \r"
     ]
    },
    {
     "name": "stdout",
     "output_type": "stream",
     "text": [
      "frame=12749\n",
      "fps=63.26\n",
      "stream_0_0_q=-0.0\n",
      "bitrate=N/A\n",
      "total_size=N/A\n",
      "out_time_us=508680000\n",
      "out_time_ms=508680000\n",
      "out_time=00:08:28.680000\n",
      "dup_frames=0\n",
      "drop_frames=0\n",
      "speed=2.52x\n",
      "progress=continue\n",
      "frame=12761\n",
      "fps=63.16\n",
      "stream_0_0_q=-0.0\n",
      "bitrate=N/A\n",
      "total_size=N/A\n",
      "out_time_us=509160000\n",
      "out_time_ms=509160000\n",
      "out_time=00:08:29.160000\n",
      "dup_frames=0\n",
      "drop_frames=0\n",
      "speed=2.52x\n",
      "progress=continue\n"
     ]
    },
    {
     "name": "stderr",
     "output_type": "stream",
     "text": [
      "frame=12761 fps= 63 q=-0.0 size=N/A time=00:08:29.16 bitrate=N/A speed=2.52x    \r"
     ]
    },
    {
     "name": "stdout",
     "output_type": "stream",
     "text": [
      "frame=12789\n",
      "fps=63.14\n",
      "stream_0_0_q=-0.0\n",
      "bitrate=N/A\n",
      "total_size=N/A\n",
      "out_time_us=510280000\n",
      "out_time_ms=510280000\n",
      "out_time=00:08:30.280000\n",
      "dup_frames=0\n",
      "drop_frames=0\n",
      "speed=2.52x\n",
      "progress=continue\n"
     ]
    },
    {
     "name": "stderr",
     "output_type": "stream",
     "text": [
      "frame=12809 fps= 63 q=-0.0 size=N/A time=00:08:31.08 bitrate=N/A speed=2.52x    \r"
     ]
    },
    {
     "name": "stdout",
     "output_type": "stream",
     "text": [
      "frame=12809\n",
      "fps=63.08\n",
      "stream_0_0_q=-0.0\n",
      "bitrate=N/A\n",
      "total_size=N/A\n",
      "out_time_us=511080000\n",
      "out_time_ms=511080000\n",
      "out_time=00:08:31.080000\n",
      "dup_frames=0\n",
      "drop_frames=0\n",
      "speed=2.52x\n",
      "progress=continue\n"
     ]
    },
    {
     "name": "stderr",
     "output_type": "stream",
     "text": [
      "frame=12832 fps= 63 q=-0.0 size=N/A time=00:08:32.00 bitrate=N/A speed=2.51x    \r"
     ]
    },
    {
     "name": "stdout",
     "output_type": "stream",
     "text": [
      "frame=12832\n",
      "fps=63.03\n",
      "stream_0_0_q=-0.0\n",
      "bitrate=N/A\n",
      "total_size=N/A\n",
      "out_time_us=512000000\n",
      "out_time_ms=512000000\n",
      "out_time=00:08:32.000000\n",
      "dup_frames=0\n",
      "drop_frames=0\n",
      "speed=2.51x\n",
      "progress=continue\n",
      "frame=12862\n",
      "fps=63.02\n",
      "stream_0_0_q=-0.0\n",
      "bitrate=N/A\n",
      "total_size=N/A\n",
      "out_time_us=513200000\n",
      "out_time_ms=513200000\n",
      "out_time=00:08:33.200000\n",
      "dup_frames=0\n",
      "drop_frames=0\n",
      "speed=2.51x\n",
      "progress=continue\n"
     ]
    },
    {
     "name": "stderr",
     "output_type": "stream",
     "text": [
      "frame=12862 fps= 63 q=-0.0 size=N/A time=00:08:33.20 bitrate=N/A speed=2.51x    \r"
     ]
    },
    {
     "name": "stdout",
     "output_type": "stream",
     "text": [
      "frame=12885\n",
      "fps=62.97\n",
      "stream_0_0_q=-0.0\n",
      "bitrate=N/A\n",
      "total_size=N/A\n",
      "out_time_us=514120000\n",
      "out_time_ms=514120000\n",
      "out_time=00:08:34.120000\n",
      "dup_frames=0\n",
      "drop_frames=0\n",
      "speed=2.51x\n",
      "progress=continue\n"
     ]
    },
    {
     "name": "stderr",
     "output_type": "stream",
     "text": [
      "frame=12885 fps= 63 q=-0.0 size=N/A time=00:08:34.12 bitrate=N/A speed=2.51x    \r"
     ]
    },
    {
     "name": "stdout",
     "output_type": "stream",
     "text": [
      "frame=12909\n",
      "fps=62.93\n",
      "stream_0_0_q=-0.0\n",
      "bitrate=N/A\n",
      "total_size=N/A\n",
      "out_time_us=515080000\n",
      "out_time_ms=515080000\n",
      "out_time=00:08:35.080000\n",
      "dup_frames=0\n",
      "drop_frames=0\n",
      "speed=2.51x\n",
      "progress=continue\n"
     ]
    },
    {
     "name": "stderr",
     "output_type": "stream",
     "text": [
      "frame=12923 fps= 63 q=-0.0 size=N/A time=00:08:35.64 bitrate=N/A speed=2.51x    \r"
     ]
    },
    {
     "name": "stdout",
     "output_type": "stream",
     "text": [
      "frame=12923\n",
      "fps=62.80\n",
      "stream_0_0_q=-0.0\n",
      "bitrate=N/A\n",
      "total_size=N/A\n",
      "out_time_us=515640000\n",
      "out_time_ms=515640000\n",
      "out_time=00:08:35.640000\n",
      "dup_frames=0\n",
      "drop_frames=0\n",
      "speed=2.51x\n",
      "progress=continue\n"
     ]
    },
    {
     "name": "stderr",
     "output_type": "stream",
     "text": [
      "frame=12934 fps= 63 q=-0.0 size=N/A time=00:08:36.08 bitrate=N/A speed= 2.5x    \r"
     ]
    },
    {
     "name": "stdout",
     "output_type": "stream",
     "text": [
      "frame=12934\n",
      "fps=62.68\n",
      "stream_0_0_q=-0.0\n",
      "bitrate=N/A\n",
      "total_size=N/A\n",
      "out_time_us=516080000\n",
      "out_time_ms=516080000\n",
      "out_time=00:08:36.080000\n",
      "dup_frames=0\n",
      "drop_frames=0\n",
      "speed= 2.5x\n",
      "progress=continue\n",
      "frame=12940\n",
      "fps=62.56\n",
      "stream_0_0_q=-0.0\n",
      "bitrate=N/A\n",
      "total_size=N/A\n",
      "out_time_us=516320000\n",
      "out_time_ms=516320000\n",
      "out_time=00:08:36.320000\n",
      "dup_frames=0\n",
      "drop_frames=0\n",
      "speed= 2.5x\n",
      "progress=continue\n"
     ]
    },
    {
     "name": "stderr",
     "output_type": "stream",
     "text": [
      "frame=12940 fps= 63 q=-0.0 size=N/A time=00:08:36.32 bitrate=N/A speed= 2.5x    \r"
     ]
    },
    {
     "name": "stdout",
     "output_type": "stream",
     "text": [
      "frame=12979\n",
      "fps=62.59\n",
      "stream_0_0_q=-0.0\n",
      "bitrate=N/A\n",
      "total_size=N/A\n",
      "out_time_us=517880000\n",
      "out_time_ms=517880000\n",
      "out_time=00:08:37.880000\n",
      "dup_frames=0\n",
      "drop_frames=0\n",
      "speed= 2.5x\n",
      "progress=continue\n"
     ]
    },
    {
     "name": "stderr",
     "output_type": "stream",
     "text": [
      "frame=12979 fps= 63 q=-0.0 size=N/A time=00:08:37.88 bitrate=N/A speed= 2.5x    \r"
     ]
    },
    {
     "name": "stdout",
     "output_type": "stream",
     "text": [
      "frame=13017\n",
      "fps=62.62\n",
      "stream_0_0_q=-0.0\n",
      "bitrate=N/A\n",
      "total_size=N/A\n",
      "out_time_us=519400000\n",
      "out_time_ms=519400000\n",
      "out_time=00:08:39.400000\n",
      "dup_frames=0\n",
      "drop_frames=0\n",
      "speed= 2.5x\n",
      "progress=continue\n"
     ]
    },
    {
     "name": "stderr",
     "output_type": "stream",
     "text": [
      "frame=13017 fps= 63 q=-0.0 size=N/A time=00:08:39.40 bitrate=N/A speed= 2.5x    \r"
     ]
    },
    {
     "name": "stdout",
     "output_type": "stream",
     "text": [
      "frame=13042\n",
      "fps=62.58\n",
      "stream_0_0_q=-0.0\n",
      "bitrate=N/A\n",
      "total_size=N/A\n",
      "out_time_us=520400000\n",
      "out_time_ms=520400000\n",
      "out_time=00:08:40.400000\n",
      "dup_frames=0\n",
      "drop_frames=0\n",
      "speed= 2.5x\n",
      "progress=continue\n"
     ]
    },
    {
     "name": "stderr",
     "output_type": "stream",
     "text": [
      "frame=13042 fps= 63 q=-0.0 size=N/A time=00:08:40.40 bitrate=N/A speed= 2.5x    \r"
     ]
    },
    {
     "name": "stdout",
     "output_type": "stream",
     "text": [
      "frame=13062\n",
      "fps=62.52\n",
      "stream_0_0_q=-0.0\n",
      "bitrate=N/A\n",
      "total_size=N/A\n",
      "out_time_us=521200000\n",
      "out_time_ms=521200000\n",
      "out_time=00:08:41.200000\n",
      "dup_frames=0\n",
      "drop_frames=0\n",
      "speed=2.49x\n",
      "progress=continue\n"
     ]
    },
    {
     "name": "stderr",
     "output_type": "stream",
     "text": [
      "frame=13062 fps= 63 q=-0.0 size=N/A time=00:08:41.20 bitrate=N/A speed=2.49x    \r"
     ]
    },
    {
     "name": "stdout",
     "output_type": "stream",
     "text": [
      "frame=13087\n",
      "fps=62.49\n",
      "stream_0_0_q=-0.0\n",
      "bitrate=N/A\n",
      "total_size=N/A\n",
      "out_time_us=522200000\n",
      "out_time_ms=522200000\n",
      "out_time=00:08:42.200000\n",
      "dup_frames=0\n",
      "drop_frames=0\n",
      "speed=2.49x\n",
      "progress=continue\n"
     ]
    },
    {
     "name": "stderr",
     "output_type": "stream",
     "text": [
      "frame=13109 fps= 62 q=-0.0 size=N/A time=00:08:43.08 bitrate=N/A speed=2.49x    \r"
     ]
    },
    {
     "name": "stdout",
     "output_type": "stream",
     "text": [
      "frame=13109\n",
      "fps=62.44\n",
      "stream_0_0_q=-0.0\n",
      "bitrate=N/A\n",
      "total_size=N/A\n",
      "out_time_us=523080000\n",
      "out_time_ms=523080000\n",
      "out_time=00:08:43.080000\n",
      "dup_frames=0\n",
      "drop_frames=0\n",
      "speed=2.49x\n",
      "progress=continue\n",
      "frame=13129\n",
      "fps=62.38\n",
      "stream_0_0_q=-0.0\n",
      "bitrate=N/A\n",
      "total_size=N/A\n",
      "out_time_us=523880000\n",
      "out_time_ms=523880000\n",
      "out_time=00:08:43.880000\n",
      "dup_frames=0\n",
      "drop_frames=0\n",
      "speed=2.49x\n",
      "progress=continue\n"
     ]
    },
    {
     "name": "stderr",
     "output_type": "stream",
     "text": [
      "frame=13129 fps= 62 q=-0.0 size=N/A time=00:08:43.88 bitrate=N/A speed=2.49x    \r"
     ]
    },
    {
     "name": "stdout",
     "output_type": "stream",
     "text": [
      "frame=13153\n",
      "fps=62.34\n",
      "stream_0_0_q=-0.0\n",
      "bitrate=N/A\n",
      "total_size=N/A\n",
      "out_time_us=524840000\n",
      "out_time_ms=524840000\n",
      "out_time=00:08:44.840000\n",
      "dup_frames=0\n",
      "drop_frames=0\n",
      "speed=2.49x\n",
      "progress=continue\n"
     ]
    },
    {
     "name": "stderr",
     "output_type": "stream",
     "text": [
      "frame=13173 fps= 62 q=-0.0 size=N/A time=00:08:45.64 bitrate=N/A speed=2.49x    \r"
     ]
    },
    {
     "name": "stdout",
     "output_type": "stream",
     "text": [
      "frame=13173\n",
      "fps=62.28\n",
      "stream_0_0_q=-0.0\n",
      "bitrate=N/A\n",
      "total_size=N/A\n",
      "out_time_us=525640000\n",
      "out_time_ms=525640000\n",
      "out_time=00:08:45.640000\n",
      "dup_frames=0\n",
      "drop_frames=0\n",
      "speed=2.49x\n",
      "progress=continue\n"
     ]
    },
    {
     "name": "stderr",
     "output_type": "stream",
     "text": [
      "frame=13193 fps= 62 q=-0.0 size=N/A time=00:08:46.44 bitrate=N/A speed=2.48x    \r"
     ]
    },
    {
     "name": "stdout",
     "output_type": "stream",
     "text": [
      "frame=13193\n",
      "fps=62.22\n",
      "stream_0_0_q=-0.0\n",
      "bitrate=N/A\n",
      "total_size=N/A\n",
      "out_time_us=526440000\n",
      "out_time_ms=526440000\n",
      "out_time=00:08:46.440000\n",
      "dup_frames=0\n",
      "drop_frames=0\n",
      "speed=2.48x\n",
      "progress=continue\n",
      "frame=13214\n",
      "fps=62.17\n",
      "stream_0_0_q=-0.0\n",
      "bitrate=N/A\n",
      "total_size=N/A\n",
      "out_time_us=527280000\n",
      "out_time_ms=527280000\n",
      "out_time=00:08:47.280000\n",
      "dup_frames=0\n",
      "drop_frames=0\n",
      "speed=2.48x\n",
      "progress=continue\n"
     ]
    },
    {
     "name": "stderr",
     "output_type": "stream",
     "text": [
      "frame=13214 fps= 62 q=-0.0 size=N/A time=00:08:47.28 bitrate=N/A speed=2.48x    \r"
     ]
    },
    {
     "name": "stdout",
     "output_type": "stream",
     "text": [
      "frame=13237\n",
      "fps=62.13\n",
      "stream_0_0_q=-0.0\n",
      "bitrate=N/A\n",
      "total_size=N/A\n",
      "out_time_us=528200000\n",
      "out_time_ms=528200000\n",
      "out_time=00:08:48.200000\n",
      "dup_frames=0\n",
      "drop_frames=0\n",
      "speed=2.48x\n",
      "progress=continue\n"
     ]
    },
    {
     "name": "stderr",
     "output_type": "stream",
     "text": [
      "frame=13237 fps= 62 q=-0.0 size=N/A time=00:08:48.20 bitrate=N/A speed=2.48x    \r"
     ]
    },
    {
     "name": "stdout",
     "output_type": "stream",
     "text": [
      "frame=13264\n",
      "fps=62.10\n",
      "stream_0_0_q=-0.0\n",
      "bitrate=N/A\n",
      "total_size=N/A\n",
      "out_time_us=529280000\n",
      "out_time_ms=529280000\n",
      "out_time=00:08:49.280000\n",
      "dup_frames=0\n",
      "drop_frames=0\n",
      "speed=2.48x\n",
      "progress=continue\n"
     ]
    },
    {
     "name": "stderr",
     "output_type": "stream",
     "text": [
      "frame=13264 fps= 62 q=-0.0 size=N/A time=00:08:49.28 bitrate=N/A speed=2.48x    \r"
     ]
    },
    {
     "name": "stdout",
     "output_type": "stream",
     "text": [
      "frame=13283\n",
      "fps=62.05\n",
      "stream_0_0_q=-0.0\n",
      "bitrate=N/A\n",
      "total_size=N/A\n",
      "out_time_us=530040000\n",
      "out_time_ms=530040000\n",
      "out_time=00:08:50.040000\n",
      "dup_frames=0\n",
      "drop_frames=0\n",
      "speed=2.48x\n",
      "progress=continue\n"
     ]
    },
    {
     "name": "stderr",
     "output_type": "stream",
     "text": [
      "frame=13283 fps= 62 q=-0.0 size=N/A time=00:08:50.04 bitrate=N/A speed=2.48x    \r"
     ]
    },
    {
     "name": "stdout",
     "output_type": "stream",
     "text": [
      "frame=13300\n",
      "fps=61.98\n",
      "stream_0_0_q=-0.0\n",
      "bitrate=N/A\n",
      "total_size=N/A\n",
      "out_time_us=530720000\n",
      "out_time_ms=530720000\n",
      "out_time=00:08:50.720000\n",
      "dup_frames=0\n",
      "drop_frames=0\n",
      "speed=2.47x\n",
      "progress=continue\n"
     ]
    },
    {
     "name": "stderr",
     "output_type": "stream",
     "text": [
      "frame=13323 fps= 62 q=-0.0 size=N/A time=00:08:51.64 bitrate=N/A speed=2.47x    \r"
     ]
    },
    {
     "name": "stdout",
     "output_type": "stream",
     "text": [
      "frame=13323\n",
      "fps=61.93\n",
      "stream_0_0_q=-0.0\n",
      "bitrate=N/A\n",
      "total_size=N/A\n",
      "out_time_us=531640000\n",
      "out_time_ms=531640000\n",
      "out_time=00:08:51.640000\n",
      "dup_frames=0\n",
      "drop_frames=0\n",
      "speed=2.47x\n",
      "progress=continue\n",
      "frame=13342\n",
      "fps=61.88\n",
      "stream_0_0_q=-0.0\n",
      "bitrate=N/A\n",
      "total_size=N/A\n",
      "out_time_us=532400000\n",
      "out_time_ms=532400000\n",
      "out_time=00:08:52.400000\n",
      "dup_frames=0\n",
      "drop_frames=0\n",
      "speed=2.47x\n",
      "progress=continue\n"
     ]
    },
    {
     "name": "stderr",
     "output_type": "stream",
     "text": [
      "frame=13363 fps= 62 q=-0.0 size=N/A time=00:08:53.24 bitrate=N/A speed=2.47x    \r"
     ]
    },
    {
     "name": "stdout",
     "output_type": "stream",
     "text": [
      "frame=13363\n",
      "fps=61.83\n",
      "stream_0_0_q=-0.0\n",
      "bitrate=N/A\n",
      "total_size=N/A\n",
      "out_time_us=533240000\n",
      "out_time_ms=533240000\n",
      "out_time=00:08:53.240000\n",
      "dup_frames=0\n",
      "drop_frames=0\n",
      "speed=2.47x\n",
      "progress=continue\n",
      "frame=13382\n",
      "fps=61.76\n",
      "stream_0_0_q=-0.0\n",
      "bitrate=N/A\n",
      "total_size=N/A\n",
      "out_time_us=534000000\n",
      "out_time_ms=534000000\n",
      "out_time=00:08:54.000000\n",
      "dup_frames=0\n",
      "drop_frames=0\n",
      "speed=2.46x\n",
      "progress=continue\n"
     ]
    },
    {
     "name": "stderr",
     "output_type": "stream",
     "text": [
      "frame=13401 fps= 62 q=-0.0 size=N/A time=00:08:54.76 bitrate=N/A speed=2.46x    \r"
     ]
    },
    {
     "name": "stdout",
     "output_type": "stream",
     "text": [
      "frame=13401\n",
      "fps=61.70\n",
      "stream_0_0_q=-0.0\n",
      "bitrate=N/A\n",
      "total_size=N/A\n",
      "out_time_us=534760000\n",
      "out_time_ms=534760000\n",
      "out_time=00:08:54.760000\n",
      "dup_frames=0\n",
      "drop_frames=0\n",
      "speed=2.46x\n",
      "progress=continue\n",
      "frame=13419\n",
      "fps=61.65\n",
      "stream_0_0_q=-0.0\n",
      "bitrate=N/A\n",
      "total_size=N/A\n",
      "out_time_us=535480000\n",
      "out_time_ms=535480000\n",
      "out_time=00:08:55.480000\n",
      "dup_frames=0\n",
      "drop_frames=0\n",
      "speed=2.46x\n",
      "progress=continue\n"
     ]
    },
    {
     "name": "stderr",
     "output_type": "stream",
     "text": [
      "frame=13440 fps= 62 q=-0.0 size=N/A time=00:08:56.32 bitrate=N/A speed=2.46x    \r"
     ]
    },
    {
     "name": "stdout",
     "output_type": "stream",
     "text": [
      "frame=13440\n",
      "fps=61.60\n",
      "stream_0_0_q=-0.0\n",
      "bitrate=N/A\n",
      "total_size=N/A\n",
      "out_time_us=536320000\n",
      "out_time_ms=536320000\n",
      "out_time=00:08:56.320000\n",
      "dup_frames=0\n",
      "drop_frames=0\n",
      "speed=2.46x\n",
      "progress=continue\n",
      "frame=13468\n",
      "fps=61.59\n",
      "stream_0_0_q=-0.0\n",
      "bitrate=N/A\n",
      "total_size=N/A\n",
      "out_time_us=537440000\n",
      "out_time_ms=537440000\n",
      "out_time=00:08:57.440000\n",
      "dup_frames=0\n",
      "drop_frames=0\n",
      "speed=2.46x\n",
      "progress=continue\n"
     ]
    },
    {
     "name": "stderr",
     "output_type": "stream",
     "text": [
      "frame=13468 fps= 62 q=-0.0 size=N/A time=00:08:57.44 bitrate=N/A speed=2.46x    \r"
     ]
    },
    {
     "name": "stdout",
     "output_type": "stream",
     "text": [
      "frame=13490\n",
      "fps=61.54\n",
      "stream_0_0_q=-0.0\n",
      "bitrate=N/A\n",
      "total_size=N/A\n",
      "out_time_us=538320000\n",
      "out_time_ms=538320000\n",
      "out_time=00:08:58.320000\n",
      "dup_frames=0\n",
      "drop_frames=0\n",
      "speed=2.46x\n",
      "progress=continue\n"
     ]
    },
    {
     "name": "stderr",
     "output_type": "stream",
     "text": [
      "frame=13514 fps= 62 q=-0.0 size=N/A time=00:08:59.28 bitrate=N/A speed=2.45x    \r"
     ]
    },
    {
     "name": "stdout",
     "output_type": "stream",
     "text": [
      "frame=13514\n",
      "fps=61.51\n",
      "stream_0_0_q=-0.0\n",
      "bitrate=N/A\n",
      "total_size=N/A\n",
      "out_time_us=539280000\n",
      "out_time_ms=539280000\n",
      "out_time=00:08:59.280000\n",
      "dup_frames=0\n",
      "drop_frames=0\n",
      "speed=2.45x\n",
      "progress=continue\n"
     ]
    },
    {
     "name": "stderr",
     "output_type": "stream",
     "text": [
      "frame=13538 fps= 61 q=-0.0 size=N/A time=00:09:00.24 bitrate=N/A speed=2.45x    \r"
     ]
    },
    {
     "name": "stdout",
     "output_type": "stream",
     "text": [
      "frame=13538\n",
      "fps=61.48\n",
      "stream_0_0_q=-0.0\n",
      "bitrate=N/A\n",
      "total_size=N/A\n",
      "out_time_us=540240000\n",
      "out_time_ms=540240000\n",
      "out_time=00:09:00.240000\n",
      "dup_frames=0\n",
      "drop_frames=0\n",
      "speed=2.45x\n",
      "progress=continue\n",
      "frame=13561\n",
      "fps=61.43\n",
      "stream_0_0_q=-0.0\n",
      "bitrate=N/A\n",
      "total_size=N/A\n",
      "out_time_us=541160000\n",
      "out_time_ms=541160000\n",
      "out_time=00:09:01.160000\n",
      "dup_frames=0\n",
      "drop_frames=0\n",
      "speed=2.45x\n",
      "progress=continue\n"
     ]
    },
    {
     "name": "stderr",
     "output_type": "stream",
     "text": [
      "frame=13561 fps= 61 q=-0.0 size=N/A time=00:09:01.16 bitrate=N/A speed=2.45x    \r"
     ]
    },
    {
     "name": "stdout",
     "output_type": "stream",
     "text": [
      "frame=13569\n",
      "fps=61.32\n",
      "stream_0_0_q=-0.0\n",
      "bitrate=N/A\n",
      "total_size=N/A\n",
      "out_time_us=541480000\n",
      "out_time_ms=541480000\n",
      "out_time=00:09:01.480000\n",
      "dup_frames=0\n",
      "drop_frames=0\n",
      "speed=2.45x\n",
      "progress=continue\n"
     ]
    },
    {
     "name": "stderr",
     "output_type": "stream",
     "text": [
      "frame=13578 fps= 61 q=-0.0 size=N/A time=00:09:01.84 bitrate=N/A speed=2.44x    \r"
     ]
    },
    {
     "name": "stdout",
     "output_type": "stream",
     "text": [
      "frame=13578\n",
      "fps=61.19\n",
      "stream_0_0_q=-0.0\n",
      "bitrate=N/A\n",
      "total_size=N/A\n",
      "out_time_us=541840000\n",
      "out_time_ms=541840000\n",
      "out_time=00:09:01.840000\n",
      "dup_frames=0\n",
      "drop_frames=0\n",
      "speed=2.44x\n",
      "progress=continue\n"
     ]
    },
    {
     "name": "stderr",
     "output_type": "stream",
     "text": [
      "frame=13635 fps= 61 q=-0.0 size=N/A time=00:09:04.12 bitrate=N/A speed=2.45x    \r"
     ]
    },
    {
     "name": "stdout",
     "output_type": "stream",
     "text": [
      "frame=13635\n",
      "fps=61.31\n",
      "stream_0_0_q=-0.0\n",
      "bitrate=N/A\n",
      "total_size=N/A\n",
      "out_time_us=544120000\n",
      "out_time_ms=544120000\n",
      "out_time=00:09:04.120000\n",
      "dup_frames=0\n",
      "drop_frames=0\n",
      "speed=2.45x\n",
      "progress=continue\n",
      "frame=13671\n",
      "fps=61.33\n",
      "stream_0_0_q=-0.0\n",
      "bitrate=N/A\n",
      "total_size=N/A\n",
      "out_time_us=545560000\n",
      "out_time_ms=545560000\n",
      "out_time=00:09:05.560000\n",
      "dup_frames=0\n",
      "drop_frames=0\n",
      "speed=2.45x\n",
      "progress=continue\n"
     ]
    },
    {
     "name": "stderr",
     "output_type": "stream",
     "text": [
      "frame=13671 fps= 61 q=-0.0 size=N/A time=00:09:05.56 bitrate=N/A speed=2.45x    \r"
     ]
    },
    {
     "name": "stdout",
     "output_type": "stream",
     "text": [
      "frame=13690\n",
      "fps=61.27\n",
      "stream_0_0_q=-0.0\n",
      "bitrate=N/A\n",
      "total_size=N/A\n",
      "out_time_us=546320000\n",
      "out_time_ms=546320000\n",
      "out_time=00:09:06.320000\n",
      "dup_frames=0\n",
      "drop_frames=0\n",
      "speed=2.45x\n",
      "progress=continue\n"
     ]
    },
    {
     "name": "stderr",
     "output_type": "stream",
     "text": [
      "frame=13690 fps= 61 q=-0.0 size=N/A time=00:09:06.32 bitrate=N/A speed=2.45x    \r"
     ]
    },
    {
     "name": "stdout",
     "output_type": "stream",
     "text": [
      "frame=13709\n",
      "fps=61.22\n",
      "stream_0_0_q=-0.0\n",
      "bitrate=N/A\n",
      "total_size=N/A\n",
      "out_time_us=547080000\n",
      "out_time_ms=547080000\n",
      "out_time=00:09:07.080000\n",
      "dup_frames=0\n",
      "drop_frames=0\n",
      "speed=2.44x\n",
      "progress=continue\n"
     ]
    },
    {
     "name": "stderr",
     "output_type": "stream",
     "text": [
      "frame=13709 fps= 61 q=-0.0 size=N/A time=00:09:07.08 bitrate=N/A speed=2.44x    \r"
     ]
    },
    {
     "name": "stdout",
     "output_type": "stream",
     "text": [
      "frame=13728\n",
      "fps=61.17\n",
      "stream_0_0_q=-0.0\n",
      "bitrate=N/A\n",
      "total_size=N/A\n",
      "out_time_us=547840000\n",
      "out_time_ms=547840000\n",
      "out_time=00:09:07.840000\n",
      "dup_frames=0\n",
      "drop_frames=0\n",
      "speed=2.44x\n",
      "progress=continue\n"
     ]
    },
    {
     "name": "stderr",
     "output_type": "stream",
     "text": [
      "frame=13728 fps= 61 q=-0.0 size=N/A time=00:09:07.84 bitrate=N/A speed=2.44x    \r"
     ]
    },
    {
     "name": "stdout",
     "output_type": "stream",
     "text": [
      "frame=13746\n",
      "fps=61.11\n",
      "stream_0_0_q=-0.0\n",
      "bitrate=N/A\n",
      "total_size=N/A\n",
      "out_time_us=548560000\n",
      "out_time_ms=548560000\n",
      "out_time=00:09:08.560000\n",
      "dup_frames=0\n",
      "drop_frames=0\n",
      "speed=2.44x\n",
      "progress=continue\n"
     ]
    },
    {
     "name": "stderr",
     "output_type": "stream",
     "text": [
      "frame=13766 fps= 61 q=-0.0 size=N/A time=00:09:09.36 bitrate=N/A speed=2.44x    \r"
     ]
    },
    {
     "name": "stdout",
     "output_type": "stream",
     "text": [
      "frame=13766\n",
      "fps=61.06\n",
      "stream_0_0_q=-0.0\n",
      "bitrate=N/A\n",
      "total_size=N/A\n",
      "out_time_us=549360000\n",
      "out_time_ms=549360000\n",
      "out_time=00:09:09.360000\n",
      "dup_frames=0\n",
      "drop_frames=0\n",
      "speed=2.44x\n",
      "progress=continue\n"
     ]
    },
    {
     "name": "stderr",
     "output_type": "stream",
     "text": [
      "frame=13784 fps= 61 q=-0.0 size=N/A time=00:09:10.08 bitrate=N/A speed=2.43x    \r"
     ]
    },
    {
     "name": "stdout",
     "output_type": "stream",
     "text": [
      "frame=13784\n",
      "fps=61.00\n",
      "stream_0_0_q=-0.0\n",
      "bitrate=N/A\n",
      "total_size=N/A\n",
      "out_time_us=550080000\n",
      "out_time_ms=550080000\n",
      "out_time=00:09:10.080000\n",
      "dup_frames=0\n",
      "drop_frames=0\n",
      "speed=2.43x\n",
      "progress=continue\n"
     ]
    },
    {
     "name": "stderr",
     "output_type": "stream",
     "text": [
      "frame=13803 fps= 61 q=-0.0 size=N/A time=00:09:10.84 bitrate=N/A speed=2.43x    \r"
     ]
    },
    {
     "name": "stdout",
     "output_type": "stream",
     "text": [
      "frame=13803\n",
      "fps=60.94\n",
      "stream_0_0_q=-0.0\n",
      "bitrate=N/A\n",
      "total_size=N/A\n",
      "out_time_us=550840000\n",
      "out_time_ms=550840000\n",
      "out_time=00:09:10.840000\n",
      "dup_frames=0\n",
      "drop_frames=0\n",
      "speed=2.43x\n",
      "progress=continue\n"
     ]
    },
    {
     "name": "stderr",
     "output_type": "stream",
     "text": [
      "frame=13822 fps= 61 q=-0.0 size=N/A time=00:09:11.60 bitrate=N/A speed=2.43x    \r"
     ]
    },
    {
     "name": "stdout",
     "output_type": "stream",
     "text": [
      "frame=13822\n",
      "fps=60.89\n",
      "stream_0_0_q=-0.0\n",
      "bitrate=N/A\n",
      "total_size=N/A\n",
      "out_time_us=551600000\n",
      "out_time_ms=551600000\n",
      "out_time=00:09:11.600000\n",
      "dup_frames=0\n",
      "drop_frames=0\n",
      "speed=2.43x\n",
      "progress=continue\n",
      "frame=13841\n",
      "fps=60.84\n",
      "stream_0_0_q=-0.0\n",
      "bitrate=N/A\n",
      "total_size=N/A\n",
      "out_time_us=552360000\n",
      "out_time_ms=552360000\n",
      "out_time=00:09:12.360000\n",
      "dup_frames=0\n",
      "drop_frames=0\n",
      "speed=2.43x\n",
      "progress=continue\n"
     ]
    },
    {
     "name": "stderr",
     "output_type": "stream",
     "text": [
      "frame=13841 fps= 61 q=-0.0 size=N/A time=00:09:12.36 bitrate=N/A speed=2.43x    \r"
     ]
    },
    {
     "name": "stdout",
     "output_type": "stream",
     "text": [
      "frame=13863\n",
      "fps=60.80\n",
      "stream_0_0_q=-0.0\n",
      "bitrate=N/A\n",
      "total_size=N/A\n",
      "out_time_us=553240000\n",
      "out_time_ms=553240000\n",
      "out_time=00:09:13.240000\n",
      "dup_frames=0\n",
      "drop_frames=0\n",
      "speed=2.43x\n",
      "progress=continue\n"
     ]
    },
    {
     "name": "stderr",
     "output_type": "stream",
     "text": [
      "frame=13886 fps= 61 q=-0.0 size=N/A time=00:09:14.16 bitrate=N/A speed=2.42x    \r"
     ]
    },
    {
     "name": "stdout",
     "output_type": "stream",
     "text": [
      "frame=13886\n",
      "fps=60.76\n",
      "stream_0_0_q=-0.0\n",
      "bitrate=N/A\n",
      "total_size=N/A\n",
      "out_time_us=554160000\n",
      "out_time_ms=554160000\n",
      "out_time=00:09:14.160000\n",
      "dup_frames=0\n",
      "drop_frames=0\n",
      "speed=2.42x\n",
      "progress=continue\n"
     ]
    },
    {
     "name": "stderr",
     "output_type": "stream",
     "text": [
      "frame=13908 fps= 61 q=-0.0 size=N/A time=00:09:15.04 bitrate=N/A speed=2.42x    \r"
     ]
    },
    {
     "name": "stdout",
     "output_type": "stream",
     "text": [
      "frame=13908\n",
      "fps=60.72\n",
      "stream_0_0_q=-0.0\n",
      "bitrate=N/A\n",
      "total_size=N/A\n",
      "out_time_us=555040000\n",
      "out_time_ms=555040000\n",
      "out_time=00:09:15.040000\n",
      "dup_frames=0\n",
      "drop_frames=0\n",
      "speed=2.42x\n",
      "progress=continue\n"
     ]
    },
    {
     "name": "stderr",
     "output_type": "stream",
     "text": [
      "frame=13931 fps= 61 q=-0.0 size=N/A time=00:09:15.96 bitrate=N/A speed=2.42x    \r"
     ]
    },
    {
     "name": "stdout",
     "output_type": "stream",
     "text": [
      "frame=13931\n",
      "fps=60.69\n",
      "stream_0_0_q=-0.0\n",
      "bitrate=N/A\n",
      "total_size=N/A\n",
      "out_time_us=555960000\n",
      "out_time_ms=555960000\n",
      "out_time=00:09:15.960000\n",
      "dup_frames=0\n",
      "drop_frames=0\n",
      "speed=2.42x\n",
      "progress=continue\n",
      "frame=13954\n",
      "fps=60.65\n",
      "stream_0_0_q=-0.0\n",
      "bitrate=N/A\n",
      "total_size=N/A\n",
      "out_time_us=556880000\n",
      "out_time_ms=556880000\n",
      "out_time=00:09:16.880000\n",
      "dup_frames=0\n",
      "drop_frames=0\n",
      "speed=2.42x\n",
      "progress=continue\n"
     ]
    },
    {
     "name": "stderr",
     "output_type": "stream",
     "text": [
      "frame=13954 fps= 61 q=-0.0 size=N/A time=00:09:16.88 bitrate=N/A speed=2.42x    \r"
     ]
    },
    {
     "name": "stdout",
     "output_type": "stream",
     "text": [
      "frame=13976\n",
      "fps=60.61\n",
      "stream_0_0_q=-0.0\n",
      "bitrate=N/A\n",
      "total_size=N/A\n",
      "out_time_us=557760000\n",
      "out_time_ms=557760000\n",
      "out_time=00:09:17.760000\n",
      "dup_frames=0\n",
      "drop_frames=0\n",
      "speed=2.42x\n",
      "progress=continue\n"
     ]
    },
    {
     "name": "stderr",
     "output_type": "stream",
     "text": [
      "frame=13976 fps= 61 q=-0.0 size=N/A time=00:09:17.76 bitrate=N/A speed=2.42x    \r"
     ]
    },
    {
     "name": "stdout",
     "output_type": "stream",
     "text": [
      "frame=13996\n",
      "fps=60.56\n",
      "stream_0_0_q=-0.0\n",
      "bitrate=N/A\n",
      "total_size=N/A\n",
      "out_time_us=558560000\n",
      "out_time_ms=558560000\n",
      "out_time=00:09:18.560000\n",
      "dup_frames=0\n",
      "drop_frames=0\n",
      "speed=2.42x\n",
      "progress=continue\n"
     ]
    },
    {
     "name": "stderr",
     "output_type": "stream",
     "text": [
      "frame=13996 fps= 61 q=-0.0 size=N/A time=00:09:18.56 bitrate=N/A speed=2.42x    \r"
     ]
    },
    {
     "name": "stdout",
     "output_type": "stream",
     "text": [
      "frame=14015\n",
      "fps=60.51\n",
      "stream_0_0_q=-0.0\n",
      "bitrate=N/A\n",
      "total_size=N/A\n",
      "out_time_us=559320000\n",
      "out_time_ms=559320000\n",
      "out_time=00:09:19.320000\n",
      "dup_frames=0\n",
      "drop_frames=0\n",
      "speed=2.41x\n",
      "progress=continue\n"
     ]
    },
    {
     "name": "stderr",
     "output_type": "stream",
     "text": [
      "frame=14015 fps= 61 q=-0.0 size=N/A time=00:09:19.32 bitrate=N/A speed=2.41x    \r"
     ]
    },
    {
     "name": "stdout",
     "output_type": "stream",
     "text": [
      "frame=14030\n",
      "fps=60.43\n",
      "stream_0_0_q=-0.0\n",
      "bitrate=N/A\n",
      "total_size=N/A\n",
      "out_time_us=559920000\n",
      "out_time_ms=559920000\n",
      "out_time=00:09:19.920000\n",
      "dup_frames=0\n",
      "drop_frames=0\n",
      "speed=2.41x\n",
      "progress=continue\n"
     ]
    },
    {
     "name": "stderr",
     "output_type": "stream",
     "text": [
      "frame=14030 fps= 60 q=-0.0 size=N/A time=00:09:19.92 bitrate=N/A speed=2.41x    \r"
     ]
    },
    {
     "name": "stdout",
     "output_type": "stream",
     "text": [
      "frame=14058\n",
      "fps=60.41\n",
      "stream_0_0_q=-0.0\n",
      "bitrate=N/A\n",
      "total_size=N/A\n",
      "out_time_us=561040000\n",
      "out_time_ms=561040000\n",
      "out_time=00:09:21.040000\n",
      "dup_frames=0\n",
      "drop_frames=0\n",
      "speed=2.41x\n",
      "progress=continue\n"
     ]
    },
    {
     "name": "stderr",
     "output_type": "stream",
     "text": [
      "frame=14058 fps= 60 q=-0.0 size=N/A time=00:09:21.04 bitrate=N/A speed=2.41x    \r"
     ]
    },
    {
     "name": "stdout",
     "output_type": "stream",
     "text": [
      "frame=14085\n",
      "fps=60.40\n",
      "stream_0_0_q=-0.0\n",
      "bitrate=N/A\n",
      "total_size=N/A\n",
      "out_time_us=562120000\n",
      "out_time_ms=562120000\n",
      "out_time=00:09:22.120000\n",
      "dup_frames=0\n",
      "drop_frames=0\n",
      "speed=2.41x\n",
      "progress=continue\n"
     ]
    },
    {
     "name": "stderr",
     "output_type": "stream",
     "text": [
      "frame=14085 fps= 60 q=-0.0 size=N/A time=00:09:22.12 bitrate=N/A speed=2.41x    \r"
     ]
    },
    {
     "name": "stdout",
     "output_type": "stream",
     "text": [
      "frame=14107\n",
      "fps=60.36\n",
      "stream_0_0_q=-0.0\n",
      "bitrate=N/A\n",
      "total_size=N/A\n",
      "out_time_us=563000000\n",
      "out_time_ms=563000000\n",
      "out_time=00:09:23.000000\n",
      "dup_frames=0\n",
      "drop_frames=0\n",
      "speed=2.41x\n",
      "progress=continue\n"
     ]
    },
    {
     "name": "stderr",
     "output_type": "stream",
     "text": [
      "frame=14107 fps= 60 q=-0.0 size=N/A time=00:09:23.00 bitrate=N/A speed=2.41x    \r"
     ]
    },
    {
     "name": "stdout",
     "output_type": "stream",
     "text": [
      "frame=14130\n",
      "fps=60.33\n",
      "stream_0_0_q=-0.0\n",
      "bitrate=N/A\n",
      "total_size=N/A\n",
      "out_time_us=563920000\n",
      "out_time_ms=563920000\n",
      "out_time=00:09:23.920000\n",
      "dup_frames=0\n",
      "drop_frames=0\n",
      "speed=2.41x\n",
      "progress=continue\n"
     ]
    },
    {
     "name": "stderr",
     "output_type": "stream",
     "text": [
      "frame=14153 fps= 60 q=-0.0 size=N/A time=00:09:24.84 bitrate=N/A speed=2.41x    \r"
     ]
    },
    {
     "name": "stdout",
     "output_type": "stream",
     "text": [
      "frame=14153\n",
      "fps=60.30\n",
      "stream_0_0_q=-0.0\n",
      "bitrate=N/A\n",
      "total_size=N/A\n",
      "out_time_us=564840000\n",
      "out_time_ms=564840000\n",
      "out_time=00:09:24.840000\n",
      "dup_frames=0\n",
      "drop_frames=0\n",
      "speed=2.41x\n",
      "progress=continue\n",
      "frame=14176\n",
      "fps=60.26\n",
      "stream_0_0_q=-0.0\n",
      "bitrate=N/A\n",
      "total_size=N/A\n",
      "out_time_us=565760000\n",
      "out_time_ms=565760000\n",
      "out_time=00:09:25.760000\n",
      "dup_frames=0\n",
      "drop_frames=0\n",
      "speed=2.41x\n",
      "progress=continue\n"
     ]
    },
    {
     "name": "stderr",
     "output_type": "stream",
     "text": [
      "frame=14176 fps= 60 q=-0.0 size=N/A time=00:09:25.76 bitrate=N/A speed=2.41x    \r"
     ]
    },
    {
     "name": "stdout",
     "output_type": "stream",
     "text": [
      "frame=14186\n",
      "fps=60.16\n",
      "stream_0_0_q=-0.0\n",
      "bitrate=N/A\n",
      "total_size=N/A\n",
      "out_time_us=566160000\n",
      "out_time_ms=566160000\n",
      "out_time=00:09:26.160000\n",
      "dup_frames=0\n",
      "drop_frames=0\n",
      "speed= 2.4x\n",
      "progress=continue\n"
     ]
    },
    {
     "name": "stderr",
     "output_type": "stream",
     "text": [
      "frame=14195 fps= 60 q=-0.0 size=N/A time=00:09:26.52 bitrate=N/A speed=2.39x    \r"
     ]
    },
    {
     "name": "stdout",
     "output_type": "stream",
     "text": [
      "frame=14195\n",
      "fps=60.01\n",
      "stream_0_0_q=-0.0\n",
      "bitrate=N/A\n",
      "total_size=N/A\n",
      "out_time_us=566520000\n",
      "out_time_ms=566520000\n",
      "out_time=00:09:26.520000\n",
      "dup_frames=0\n",
      "drop_frames=0\n",
      "speed=2.39x\n",
      "progress=continue\n"
     ]
    },
    {
     "name": "stderr",
     "output_type": "stream",
     "text": [
      "frame=14204 fps= 60 q=-0.0 size=N/A time=00:09:26.88 bitrate=N/A speed=2.39x    \r"
     ]
    },
    {
     "name": "stdout",
     "output_type": "stream",
     "text": [
      "frame=14204\n",
      "fps=59.91\n",
      "stream_0_0_q=-0.0\n",
      "bitrate=N/A\n",
      "total_size=N/A\n",
      "out_time_us=566880000\n",
      "out_time_ms=566880000\n",
      "out_time=00:09:26.880000\n",
      "dup_frames=0\n",
      "drop_frames=0\n",
      "speed=2.39x\n",
      "progress=continue\n",
      "frame=14251\n",
      "fps=59.98\n",
      "stream_0_0_q=-0.0\n",
      "bitrate=N/A\n",
      "total_size=N/A\n",
      "out_time_us=568760000\n",
      "out_time_ms=568760000\n",
      "out_time=00:09:28.760000\n",
      "dup_frames=0\n",
      "drop_frames=0\n",
      "speed=2.39x\n",
      "progress=continue\n"
     ]
    },
    {
     "name": "stderr",
     "output_type": "stream",
     "text": [
      "frame=14251 fps= 60 q=-0.0 size=N/A time=00:09:28.76 bitrate=N/A speed=2.39x    \r"
     ]
    },
    {
     "name": "stdout",
     "output_type": "stream",
     "text": [
      "frame=14289\n",
      "fps=60.01\n",
      "stream_0_0_q=-0.0\n",
      "bitrate=N/A\n",
      "total_size=N/A\n",
      "out_time_us=570280000\n",
      "out_time_ms=570280000\n",
      "out_time=00:09:30.280000\n",
      "dup_frames=0\n",
      "drop_frames=0\n",
      "speed= 2.4x\n",
      "progress=continue\n"
     ]
    },
    {
     "name": "stderr",
     "output_type": "stream",
     "text": [
      "frame=14289 fps= 60 q=-0.0 size=N/A time=00:09:30.28 bitrate=N/A speed= 2.4x    \r"
     ]
    },
    {
     "name": "stdout",
     "output_type": "stream",
     "text": [
      "frame=14314\n",
      "fps=59.99\n",
      "stream_0_0_q=-0.0\n",
      "bitrate=N/A\n",
      "total_size=N/A\n",
      "out_time_us=571280000\n",
      "out_time_ms=571280000\n",
      "out_time=00:09:31.280000\n",
      "dup_frames=0\n",
      "drop_frames=0\n",
      "speed=2.39x\n",
      "progress=continue\n"
     ]
    },
    {
     "name": "stderr",
     "output_type": "stream",
     "text": [
      "frame=14340 fps= 60 q=-0.0 size=N/A time=00:09:32.32 bitrate=N/A speed=2.39x    \r"
     ]
    },
    {
     "name": "stdout",
     "output_type": "stream",
     "text": [
      "frame=14340\n",
      "fps=59.97\n",
      "stream_0_0_q=-0.0\n",
      "bitrate=N/A\n",
      "total_size=N/A\n",
      "out_time_us=572320000\n",
      "out_time_ms=572320000\n",
      "out_time=00:09:32.320000\n",
      "dup_frames=0\n",
      "drop_frames=0\n",
      "speed=2.39x\n",
      "progress=continue\n",
      "frame=14361\n",
      "fps=59.93\n",
      "stream_0_0_q=-0.0\n",
      "bitrate=N/A\n",
      "total_size=N/A\n",
      "out_time_us=573160000\n",
      "out_time_ms=573160000\n",
      "out_time=00:09:33.160000\n",
      "dup_frames=0\n",
      "drop_frames=0\n",
      "speed=2.39x\n",
      "progress=continue\n"
     ]
    },
    {
     "name": "stderr",
     "output_type": "stream",
     "text": [
      "frame=14361 fps= 60 q=-0.0 size=N/A time=00:09:33.16 bitrate=N/A speed=2.39x    \r"
     ]
    },
    {
     "name": "stdout",
     "output_type": "stream",
     "text": [
      "frame=14382\n",
      "fps=59.89\n",
      "stream_0_0_q=-0.0\n",
      "bitrate=N/A\n",
      "total_size=N/A\n",
      "out_time_us=574000000\n",
      "out_time_ms=574000000\n",
      "out_time=00:09:34.000000\n",
      "dup_frames=0\n",
      "drop_frames=0\n",
      "speed=2.39x\n",
      "progress=continue\n"
     ]
    },
    {
     "name": "stderr",
     "output_type": "stream",
     "text": [
      "frame=14382 fps= 60 q=-0.0 size=N/A time=00:09:34.00 bitrate=N/A speed=2.39x    \r"
     ]
    },
    {
     "name": "stdout",
     "output_type": "stream",
     "text": [
      "frame=14405\n",
      "fps=59.86\n",
      "stream_0_0_q=-0.0\n",
      "bitrate=N/A\n",
      "total_size=N/A\n",
      "out_time_us=574920000\n",
      "out_time_ms=574920000\n",
      "out_time=00:09:34.920000\n",
      "dup_frames=0\n",
      "drop_frames=0\n",
      "speed=2.39x\n",
      "progress=continue\n"
     ]
    },
    {
     "name": "stderr",
     "output_type": "stream",
     "text": [
      "frame=14405 fps= 60 q=-0.0 size=N/A time=00:09:34.92 bitrate=N/A speed=2.39x    \r"
     ]
    },
    {
     "name": "stdout",
     "output_type": "stream",
     "text": [
      "frame=14426\n",
      "fps=59.82\n",
      "stream_0_0_q=-0.0\n",
      "bitrate=N/A\n",
      "total_size=N/A\n",
      "out_time_us=575760000\n",
      "out_time_ms=575760000\n",
      "out_time=00:09:35.760000\n",
      "dup_frames=0\n",
      "drop_frames=0\n",
      "speed=2.39x\n",
      "progress=continue\n"
     ]
    },
    {
     "name": "stderr",
     "output_type": "stream",
     "text": [
      "frame=14426 fps= 60 q=-0.0 size=N/A time=00:09:35.76 bitrate=N/A speed=2.39x    \r"
     ]
    },
    {
     "name": "stdout",
     "output_type": "stream",
     "text": [
      "frame=14445\n",
      "fps=59.78\n",
      "stream_0_0_q=-0.0\n",
      "bitrate=N/A\n",
      "total_size=N/A\n",
      "out_time_us=576520000\n",
      "out_time_ms=576520000\n",
      "out_time=00:09:36.520000\n",
      "dup_frames=0\n",
      "drop_frames=0\n",
      "speed=2.39x\n",
      "progress=continue\n"
     ]
    },
    {
     "name": "stderr",
     "output_type": "stream",
     "text": [
      "frame=14445 fps= 60 q=-0.0 size=N/A time=00:09:36.52 bitrate=N/A speed=2.39x    \r"
     ]
    },
    {
     "name": "stdout",
     "output_type": "stream",
     "text": [
      "frame=14468\n",
      "fps=59.74\n",
      "stream_0_0_q=-0.0\n",
      "bitrate=N/A\n",
      "total_size=N/A\n",
      "out_time_us=577440000\n",
      "out_time_ms=577440000\n",
      "out_time=00:09:37.440000\n",
      "dup_frames=0\n",
      "drop_frames=0\n",
      "speed=2.38x\n",
      "progress=continue\n"
     ]
    },
    {
     "name": "stderr",
     "output_type": "stream",
     "text": [
      "frame=14468 fps= 60 q=-0.0 size=N/A time=00:09:37.44 bitrate=N/A speed=2.38x    \r"
     ]
    },
    {
     "name": "stdout",
     "output_type": "stream",
     "text": [
      "frame=14495\n",
      "fps=59.73\n",
      "stream_0_0_q=-0.0\n",
      "bitrate=N/A\n",
      "total_size=N/A\n",
      "out_time_us=578520000\n",
      "out_time_ms=578520000\n",
      "out_time=00:09:38.520000\n",
      "dup_frames=0\n",
      "drop_frames=0\n",
      "speed=2.38x\n",
      "progress=continue\n"
     ]
    },
    {
     "name": "stderr",
     "output_type": "stream",
     "text": [
      "frame=14495 fps= 60 q=-0.0 size=N/A time=00:09:38.52 bitrate=N/A speed=2.38x    \r"
     ]
    },
    {
     "name": "stdout",
     "output_type": "stream",
     "text": [
      "frame=14515\n",
      "fps=59.69\n",
      "stream_0_0_q=-0.0\n",
      "bitrate=N/A\n",
      "total_size=N/A\n",
      "out_time_us=579320000\n",
      "out_time_ms=579320000\n",
      "out_time=00:09:39.320000\n",
      "dup_frames=0\n",
      "drop_frames=0\n",
      "speed=2.38x\n",
      "progress=continue\n"
     ]
    },
    {
     "name": "stderr",
     "output_type": "stream",
     "text": [
      "frame=14515 fps= 60 q=-0.0 size=N/A time=00:09:39.32 bitrate=N/A speed=2.38x    \r"
     ]
    },
    {
     "name": "stdout",
     "output_type": "stream",
     "text": [
      "frame=14538\n",
      "fps=59.66\n",
      "stream_0_0_q=-0.0\n",
      "bitrate=N/A\n",
      "total_size=N/A\n",
      "out_time_us=580240000\n",
      "out_time_ms=580240000\n",
      "out_time=00:09:40.240000\n",
      "dup_frames=0\n",
      "drop_frames=0\n",
      "speed=2.38x\n",
      "progress=continue\n"
     ]
    },
    {
     "name": "stderr",
     "output_type": "stream",
     "text": [
      "frame=14538 fps= 60 q=-0.0 size=N/A time=00:09:40.24 bitrate=N/A speed=2.38x    \r"
     ]
    },
    {
     "name": "stdout",
     "output_type": "stream",
     "text": [
      "frame=14558\n",
      "fps=59.61\n",
      "stream_0_0_q=-0.0\n",
      "bitrate=N/A\n",
      "total_size=N/A\n",
      "out_time_us=581040000\n",
      "out_time_ms=581040000\n",
      "out_time=00:09:41.040000\n",
      "dup_frames=0\n",
      "drop_frames=0\n",
      "speed=2.38x\n",
      "progress=continue\n"
     ]
    },
    {
     "name": "stderr",
     "output_type": "stream",
     "text": [
      "frame=14558 fps= 60 q=-0.0 size=N/A time=00:09:41.04 bitrate=N/A speed=2.38x    \r"
     ]
    },
    {
     "name": "stdout",
     "output_type": "stream",
     "text": [
      "frame=14580\n",
      "fps=59.58\n",
      "stream_0_0_q=-0.0\n",
      "bitrate=N/A\n",
      "total_size=N/A\n",
      "out_time_us=581920000\n",
      "out_time_ms=581920000\n",
      "out_time=00:09:41.920000\n",
      "dup_frames=0\n",
      "drop_frames=0\n",
      "speed=2.38x\n",
      "progress=continue\n"
     ]
    },
    {
     "name": "stderr",
     "output_type": "stream",
     "text": [
      "frame=14580 fps= 60 q=-0.0 size=N/A time=00:09:41.92 bitrate=N/A speed=2.38x    \r"
     ]
    },
    {
     "name": "stdout",
     "output_type": "stream",
     "text": [
      "frame=14599\n",
      "fps=59.53\n",
      "stream_0_0_q=-0.0\n",
      "bitrate=N/A\n",
      "total_size=N/A\n",
      "out_time_us=582680000\n",
      "out_time_ms=582680000\n",
      "out_time=00:09:42.680000\n",
      "dup_frames=0\n",
      "drop_frames=0\n",
      "speed=2.38x\n",
      "progress=continue\n"
     ]
    },
    {
     "name": "stderr",
     "output_type": "stream",
     "text": [
      "frame=14599 fps= 60 q=-0.0 size=N/A time=00:09:42.68 bitrate=N/A speed=2.38x    \r"
     ]
    },
    {
     "name": "stdout",
     "output_type": "stream",
     "text": [
      "frame=14609\n",
      "fps=59.44\n",
      "stream_0_0_q=-0.0\n",
      "bitrate=N/A\n",
      "total_size=N/A\n",
      "out_time_us=583080000\n",
      "out_time_ms=583080000\n",
      "out_time=00:09:43.080000\n",
      "dup_frames=0\n",
      "drop_frames=0\n",
      "speed=2.37x\n",
      "progress=continue\n"
     ]
    },
    {
     "name": "stderr",
     "output_type": "stream",
     "text": [
      "frame=14609 fps= 59 q=-0.0 size=N/A time=00:09:43.08 bitrate=N/A speed=2.37x    \r"
     ]
    },
    {
     "name": "stdout",
     "output_type": "stream",
     "text": [
      "frame=14620\n",
      "fps=59.32\n",
      "stream_0_0_q=-0.0\n",
      "bitrate=N/A\n",
      "total_size=N/A\n",
      "out_time_us=583520000\n",
      "out_time_ms=583520000\n",
      "out_time=00:09:43.520000\n",
      "dup_frames=0\n",
      "drop_frames=0\n",
      "speed=2.37x\n",
      "progress=continue\n"
     ]
    },
    {
     "name": "stderr",
     "output_type": "stream",
     "text": [
      "frame=14620 fps= 59 q=-0.0 size=N/A time=00:09:43.52 bitrate=N/A speed=2.37x    \r"
     ]
    },
    {
     "name": "stdout",
     "output_type": "stream",
     "text": [
      "frame=14631\n",
      "fps=59.22\n",
      "stream_0_0_q=-0.0\n",
      "bitrate=N/A\n",
      "total_size=N/A\n",
      "out_time_us=583960000\n",
      "out_time_ms=583960000\n",
      "out_time=00:09:43.960000\n",
      "dup_frames=0\n",
      "drop_frames=0\n",
      "speed=2.36x\n",
      "progress=continue\n"
     ]
    },
    {
     "name": "stderr",
     "output_type": "stream",
     "text": [
      "frame=14631 fps= 59 q=-0.0 size=N/A time=00:09:43.96 bitrate=N/A speed=2.36x    \r"
     ]
    },
    {
     "name": "stdout",
     "output_type": "stream",
     "text": [
      "frame=14640\n",
      "fps=59.11\n",
      "stream_0_0_q=-0.0\n",
      "bitrate=N/A\n",
      "total_size=N/A\n",
      "out_time_us=584320000\n",
      "out_time_ms=584320000\n",
      "out_time=00:09:44.320000\n",
      "dup_frames=0\n",
      "drop_frames=0\n",
      "speed=2.36x\n",
      "progress=continue\n"
     ]
    },
    {
     "name": "stderr",
     "output_type": "stream",
     "text": [
      "frame=14640 fps= 59 q=-0.0 size=N/A time=00:09:44.32 bitrate=N/A speed=2.36x    \r"
     ]
    },
    {
     "name": "stdout",
     "output_type": "stream",
     "text": [
      "frame=14683\n",
      "fps=59.16\n",
      "stream_0_0_q=-0.0\n",
      "bitrate=N/A\n",
      "total_size=N/A\n",
      "out_time_us=586040000\n",
      "out_time_ms=586040000\n",
      "out_time=00:09:46.040000\n",
      "dup_frames=0\n",
      "drop_frames=0\n",
      "speed=2.36x\n",
      "progress=continue\n"
     ]
    },
    {
     "name": "stderr",
     "output_type": "stream",
     "text": [
      "frame=14683 fps= 59 q=-0.0 size=N/A time=00:09:46.04 bitrate=N/A speed=2.36x    \r"
     ]
    },
    {
     "name": "stdout",
     "output_type": "stream",
     "text": [
      "frame=14747\n",
      "fps=59.30\n",
      "stream_0_0_q=-0.0\n",
      "bitrate=N/A\n",
      "total_size=N/A\n",
      "out_time_us=588600000\n",
      "out_time_ms=588600000\n",
      "out_time=00:09:48.600000\n",
      "dup_frames=0\n",
      "drop_frames=0\n",
      "speed=2.37x\n",
      "progress=continue\n"
     ]
    },
    {
     "name": "stderr",
     "output_type": "stream",
     "text": [
      "frame=14747 fps= 59 q=-0.0 size=N/A time=00:09:48.60 bitrate=N/A speed=2.37x    \r"
     ]
    },
    {
     "name": "stdout",
     "output_type": "stream",
     "text": [
      "frame=14770\n",
      "fps=59.26\n",
      "stream_0_0_q=-0.0\n",
      "bitrate=N/A\n",
      "total_size=N/A\n",
      "out_time_us=589520000\n",
      "out_time_ms=589520000\n",
      "out_time=00:09:49.520000\n",
      "dup_frames=0\n",
      "drop_frames=0\n",
      "speed=2.37x\n",
      "progress=continue\n"
     ]
    },
    {
     "name": "stderr",
     "output_type": "stream",
     "text": [
      "frame=14790 fps= 59 q=-0.0 size=N/A time=00:09:50.32 bitrate=N/A speed=2.36x    \r"
     ]
    },
    {
     "name": "stdout",
     "output_type": "stream",
     "text": [
      "frame=14790\n",
      "fps=59.23\n",
      "stream_0_0_q=-0.0\n",
      "bitrate=N/A\n",
      "total_size=N/A\n",
      "out_time_us=590320000\n",
      "out_time_ms=590320000\n",
      "out_time=00:09:50.320000\n",
      "dup_frames=0\n",
      "drop_frames=0\n",
      "speed=2.36x\n",
      "progress=continue\n",
      "frame=14808\n",
      "fps=59.18\n",
      "stream_0_0_q=-0.0\n",
      "bitrate=N/A\n",
      "total_size=N/A\n",
      "out_time_us=591040000\n",
      "out_time_ms=591040000\n",
      "out_time=00:09:51.040000\n",
      "dup_frames=0\n",
      "drop_frames=0\n",
      "speed=2.36x\n",
      "progress=continue\n"
     ]
    },
    {
     "name": "stderr",
     "output_type": "stream",
     "text": [
      "frame=14830 fps= 59 q=-0.0 size=N/A time=00:09:51.92 bitrate=N/A speed=2.36x    \r"
     ]
    },
    {
     "name": "stdout",
     "output_type": "stream",
     "text": [
      "frame=14830\n",
      "fps=59.14\n",
      "stream_0_0_q=-0.0\n",
      "bitrate=N/A\n",
      "total_size=N/A\n",
      "out_time_us=591920000\n",
      "out_time_ms=591920000\n",
      "out_time=00:09:51.920000\n",
      "dup_frames=0\n",
      "drop_frames=0\n",
      "speed=2.36x\n",
      "progress=continue\n",
      "frame=14844\n",
      "fps=59.06\n",
      "stream_0_0_q=-0.0\n",
      "bitrate=N/A\n",
      "total_size=N/A\n",
      "out_time_us=592480000\n",
      "out_time_ms=592480000\n",
      "out_time=00:09:52.480000\n",
      "dup_frames=0\n",
      "drop_frames=0\n",
      "speed=2.36x\n",
      "progress=continue\n"
     ]
    },
    {
     "name": "stderr",
     "output_type": "stream",
     "text": [
      "frame=14856 fps= 59 q=-0.0 size=N/A time=00:09:52.96 bitrate=N/A speed=2.35x    \r"
     ]
    },
    {
     "name": "stdout",
     "output_type": "stream",
     "text": [
      "frame=14856\n",
      "fps=58.99\n",
      "stream_0_0_q=-0.0\n",
      "bitrate=N/A\n",
      "total_size=N/A\n",
      "out_time_us=592960000\n",
      "out_time_ms=592960000\n",
      "out_time=00:09:52.960000\n",
      "dup_frames=0\n",
      "drop_frames=0\n",
      "speed=2.35x\n",
      "progress=continue\n",
      "frame=14895\n",
      "fps=59.02\n",
      "stream_0_0_q=-0.0\n",
      "bitrate=N/A\n",
      "total_size=N/A\n",
      "out_time_us=594520000\n",
      "out_time_ms=594520000\n",
      "out_time=00:09:54.520000\n",
      "dup_frames=0\n",
      "drop_frames=0\n",
      "speed=2.36x\n",
      "progress=continue\n"
     ]
    },
    {
     "name": "stderr",
     "output_type": "stream",
     "text": [
      "frame=14932 fps= 59 q=-0.0 size=N/A time=00:09:56.00 bitrate=N/A speed=2.36x    \r"
     ]
    },
    {
     "name": "stdout",
     "output_type": "stream",
     "text": [
      "frame=14932\n",
      "fps=59.05\n",
      "stream_0_0_q=-0.0\n",
      "bitrate=N/A\n",
      "total_size=N/A\n",
      "out_time_us=596000000\n",
      "out_time_ms=596000000\n",
      "out_time=00:09:56.000000\n",
      "dup_frames=0\n",
      "drop_frames=0\n",
      "speed=2.36x\n",
      "progress=continue\n"
     ]
    },
    {
     "name": "stderr",
     "output_type": "stream",
     "text": [
      "frame=14951 fps= 59 q=-0.0 size=N/A time=00:09:56.76 bitrate=N/A speed=2.36x    \r"
     ]
    },
    {
     "name": "stdout",
     "output_type": "stream",
     "text": [
      "frame=14951\n",
      "fps=59.00\n",
      "stream_0_0_q=-0.0\n",
      "bitrate=N/A\n",
      "total_size=N/A\n",
      "out_time_us=596760000\n",
      "out_time_ms=596760000\n",
      "out_time=00:09:56.760000\n",
      "dup_frames=0\n",
      "drop_frames=0\n",
      "speed=2.36x\n",
      "progress=continue\n"
     ]
    },
    {
     "name": "stderr",
     "output_type": "stream",
     "text": [
      "frame=14971 fps= 59 q=-0.0 size=N/A time=00:09:57.56 bitrate=N/A speed=2.35x    \r"
     ]
    },
    {
     "name": "stdout",
     "output_type": "stream",
     "text": [
      "frame=14971\n",
      "fps=58.96\n",
      "stream_0_0_q=-0.0\n",
      "bitrate=N/A\n",
      "total_size=N/A\n",
      "out_time_us=597560000\n",
      "out_time_ms=597560000\n",
      "out_time=00:09:57.560000\n",
      "dup_frames=0\n",
      "drop_frames=0\n",
      "speed=2.35x\n",
      "progress=continue\n",
      "frame=14991\n",
      "fps=58.91\n",
      "stream_0_0_q=-0.0\n",
      "bitrate=N/A\n",
      "total_size=N/A\n",
      "out_time_us=598360000\n",
      "out_time_ms=598360000\n",
      "out_time=00:09:58.360000\n",
      "dup_frames=0\n",
      "drop_frames=0\n",
      "speed=2.35x\n",
      "progress=continue\n"
     ]
    },
    {
     "name": "stderr",
     "output_type": "stream",
     "text": [
      "frame=14991 fps= 59 q=-0.0 size=N/A time=00:09:58.36 bitrate=N/A speed=2.35x    \r"
     ]
    },
    {
     "name": "stdout",
     "output_type": "stream",
     "text": [
      "frame=15010\n",
      "fps=58.87\n",
      "stream_0_0_q=-0.0\n",
      "bitrate=N/A\n",
      "total_size=N/A\n",
      "out_time_us=599120000\n",
      "out_time_ms=599120000\n",
      "out_time=00:09:59.120000\n",
      "dup_frames=0\n",
      "drop_frames=0\n",
      "speed=2.35x\n",
      "progress=continue\n"
     ]
    },
    {
     "name": "stderr",
     "output_type": "stream",
     "text": [
      "frame=15029 fps= 59 q=-0.0 size=N/A time=00:09:59.88 bitrate=N/A speed=2.35x    \r"
     ]
    },
    {
     "name": "stdout",
     "output_type": "stream",
     "text": [
      "frame=15029\n",
      "fps=58.83\n",
      "stream_0_0_q=-0.0\n",
      "bitrate=N/A\n",
      "total_size=N/A\n",
      "out_time_us=599880000\n",
      "out_time_ms=599880000\n",
      "out_time=00:09:59.880000\n",
      "dup_frames=0\n",
      "drop_frames=0\n",
      "speed=2.35x\n",
      "progress=continue\n"
     ]
    },
    {
     "name": "stderr",
     "output_type": "stream",
     "text": [
      "frame=15048 fps= 59 q=-0.0 size=N/A time=00:10:00.64 bitrate=N/A speed=2.35x    \r"
     ]
    },
    {
     "name": "stdout",
     "output_type": "stream",
     "text": [
      "frame=15048\n",
      "fps=58.79\n",
      "stream_0_0_q=-0.0\n",
      "bitrate=N/A\n",
      "total_size=N/A\n",
      "out_time_us=600640000\n",
      "out_time_ms=600640000\n",
      "out_time=00:10:00.640000\n",
      "dup_frames=0\n",
      "drop_frames=0\n",
      "speed=2.35x\n",
      "progress=continue\n",
      "frame=15067\n",
      "fps=58.75\n",
      "stream_0_0_q=-0.0\n",
      "bitrate=N/A\n",
      "total_size=N/A\n",
      "out_time_us=601400000\n",
      "out_time_ms=601400000\n",
      "out_time=00:10:01.400000\n",
      "dup_frames=0\n",
      "drop_frames=0\n",
      "speed=2.34x\n",
      "progress=continue\n"
     ]
    },
    {
     "name": "stderr",
     "output_type": "stream",
     "text": [
      "frame=15088 fps= 59 q=-0.0 size=N/A time=00:10:02.24 bitrate=N/A speed=2.34x    \r"
     ]
    },
    {
     "name": "stdout",
     "output_type": "stream",
     "text": [
      "frame=15088\n",
      "fps=58.71\n",
      "stream_0_0_q=-0.0\n",
      "bitrate=N/A\n",
      "total_size=N/A\n",
      "out_time_us=602240000\n",
      "out_time_ms=602240000\n",
      "out_time=00:10:02.240000\n",
      "dup_frames=0\n",
      "drop_frames=0\n",
      "speed=2.34x\n",
      "progress=continue\n"
     ]
    },
    {
     "name": "stderr",
     "output_type": "stream",
     "text": [
      "frame=15111 fps= 59 q=-0.0 size=N/A time=00:10:03.16 bitrate=N/A speed=2.34x    \r"
     ]
    },
    {
     "name": "stdout",
     "output_type": "stream",
     "text": [
      "frame=15111\n",
      "fps=58.69\n",
      "stream_0_0_q=-0.0\n",
      "bitrate=N/A\n",
      "total_size=N/A\n",
      "out_time_us=603160000\n",
      "out_time_ms=603160000\n",
      "out_time=00:10:03.160000\n",
      "dup_frames=0\n",
      "drop_frames=0\n",
      "speed=2.34x\n",
      "progress=continue\n"
     ]
    },
    {
     "name": "stderr",
     "output_type": "stream",
     "text": [
      "frame=15136 fps= 59 q=-0.0 size=N/A time=00:10:04.16 bitrate=N/A speed=2.34x    \r"
     ]
    },
    {
     "name": "stdout",
     "output_type": "stream",
     "text": [
      "frame=15136\n",
      "fps=58.66\n",
      "stream_0_0_q=-0.0\n",
      "bitrate=N/A\n",
      "total_size=N/A\n",
      "out_time_us=604160000\n",
      "out_time_ms=604160000\n",
      "out_time=00:10:04.160000\n",
      "dup_frames=0\n",
      "drop_frames=0\n",
      "speed=2.34x\n",
      "progress=continue\n",
      "frame=15160\n",
      "fps=58.64\n",
      "stream_0_0_q=-0.0\n",
      "bitrate=N/A\n",
      "total_size=N/A\n",
      "out_time_us=605120000\n",
      "out_time_ms=605120000\n",
      "out_time=00:10:05.120000\n",
      "dup_frames=0\n",
      "drop_frames=0\n",
      "speed=2.34x\n",
      "progress=continue\n"
     ]
    },
    {
     "name": "stderr",
     "output_type": "stream",
     "text": [
      "frame=15180 fps= 59 q=-0.0 size=N/A time=00:10:05.92 bitrate=N/A speed=2.34x    \r"
     ]
    },
    {
     "name": "stdout",
     "output_type": "stream",
     "text": [
      "frame=15180\n",
      "fps=58.60\n",
      "stream_0_0_q=-0.0\n",
      "bitrate=N/A\n",
      "total_size=N/A\n",
      "out_time_us=605920000\n",
      "out_time_ms=605920000\n",
      "out_time=00:10:05.920000\n",
      "dup_frames=0\n",
      "drop_frames=0\n",
      "speed=2.34x\n",
      "progress=continue\n",
      "frame=15202\n",
      "fps=58.57\n",
      "stream_0_0_q=-0.0\n",
      "bitrate=N/A\n",
      "total_size=N/A\n",
      "out_time_us=606800000\n",
      "out_time_ms=606800000\n",
      "out_time=00:10:06.800000\n",
      "dup_frames=0\n",
      "drop_frames=0\n",
      "speed=2.34x\n",
      "progress=continue\n"
     ]
    },
    {
     "name": "stderr",
     "output_type": "stream",
     "text": [
      "frame=15227 fps= 59 q=-0.0 size=N/A time=00:10:07.80 bitrate=N/A speed=2.34x    \r"
     ]
    },
    {
     "name": "stdout",
     "output_type": "stream",
     "text": [
      "frame=15227\n",
      "fps=58.55\n",
      "stream_0_0_q=-0.0\n",
      "bitrate=N/A\n",
      "total_size=N/A\n",
      "out_time_us=607800000\n",
      "out_time_ms=607800000\n",
      "out_time=00:10:07.800000\n",
      "dup_frames=0\n",
      "drop_frames=0\n",
      "speed=2.34x\n",
      "progress=continue\n",
      "frame=15246\n",
      "fps=58.51\n",
      "stream_0_0_q=-0.0\n",
      "bitrate=N/A\n",
      "total_size=N/A\n",
      "out_time_us=608560000\n",
      "out_time_ms=608560000\n",
      "out_time=00:10:08.560000\n",
      "dup_frames=0\n",
      "drop_frames=0\n",
      "speed=2.34x\n",
      "progress=continue\n"
     ]
    },
    {
     "name": "stderr",
     "output_type": "stream",
     "text": [
      "frame=15263 fps= 58 q=-0.0 size=N/A time=00:10:09.24 bitrate=N/A speed=2.33x    \r"
     ]
    },
    {
     "name": "stdout",
     "output_type": "stream",
     "text": [
      "frame=15263\n",
      "fps=58.40\n",
      "stream_0_0_q=-0.0\n",
      "bitrate=N/A\n",
      "total_size=N/A\n",
      "out_time_us=609240000\n",
      "out_time_ms=609240000\n",
      "out_time=00:10:09.240000\n",
      "dup_frames=0\n",
      "drop_frames=0\n",
      "speed=2.33x\n",
      "progress=continue\n"
     ]
    },
    {
     "name": "stderr",
     "output_type": "stream",
     "text": [
      "frame=15295 fps= 58 q=-0.0 size=N/A time=00:10:10.52 bitrate=N/A speed=2.33x    \r"
     ]
    },
    {
     "name": "stdout",
     "output_type": "stream",
     "text": [
      "frame=15295\n",
      "fps=58.41\n",
      "stream_0_0_q=-0.0\n",
      "bitrate=N/A\n",
      "total_size=N/A\n",
      "out_time_us=610520000\n",
      "out_time_ms=610520000\n",
      "out_time=00:10:10.520000\n",
      "dup_frames=0\n",
      "drop_frames=0\n",
      "speed=2.33x\n",
      "progress=continue\n"
     ]
    },
    {
     "name": "stderr",
     "output_type": "stream",
     "text": [
      "frame=15322 fps= 58 q=-0.0 size=N/A time=00:10:11.60 bitrate=N/A speed=2.33x    \r"
     ]
    },
    {
     "name": "stdout",
     "output_type": "stream",
     "text": [
      "frame=15322\n",
      "fps=58.40\n",
      "stream_0_0_q=-0.0\n",
      "bitrate=N/A\n",
      "total_size=N/A\n",
      "out_time_us=611600000\n",
      "out_time_ms=611600000\n",
      "out_time=00:10:11.600000\n",
      "dup_frames=0\n",
      "drop_frames=0\n",
      "speed=2.33x\n",
      "progress=continue\n"
     ]
    },
    {
     "name": "stderr",
     "output_type": "stream",
     "text": [
      "frame=15346 fps= 58 q=-0.0 size=N/A time=00:10:12.56 bitrate=N/A speed=2.33x    \r"
     ]
    },
    {
     "name": "stdout",
     "output_type": "stream",
     "text": [
      "frame=15346\n",
      "fps=58.37\n",
      "stream_0_0_q=-0.0\n",
      "bitrate=N/A\n",
      "total_size=N/A\n",
      "out_time_us=612560000\n",
      "out_time_ms=612560000\n",
      "out_time=00:10:12.560000\n",
      "dup_frames=0\n",
      "drop_frames=0\n",
      "speed=2.33x\n",
      "progress=continue\n"
     ]
    },
    {
     "name": "stderr",
     "output_type": "stream",
     "text": [
      "frame=15369 fps= 58 q=-0.0 size=N/A time=00:10:13.48 bitrate=N/A speed=2.33x    \r"
     ]
    },
    {
     "name": "stdout",
     "output_type": "stream",
     "text": [
      "frame=15369\n",
      "fps=58.35\n",
      "stream_0_0_q=-0.0\n",
      "bitrate=N/A\n",
      "total_size=N/A\n",
      "out_time_us=613480000\n",
      "out_time_ms=613480000\n",
      "out_time=00:10:13.480000\n",
      "dup_frames=0\n",
      "drop_frames=0\n",
      "speed=2.33x\n",
      "progress=continue\n"
     ]
    },
    {
     "name": "stderr",
     "output_type": "stream",
     "text": [
      "frame=15390 fps= 58 q=-0.0 size=N/A time=00:10:14.32 bitrate=N/A speed=2.33x    \r"
     ]
    },
    {
     "name": "stdout",
     "output_type": "stream",
     "text": [
      "frame=15390\n",
      "fps=58.32\n",
      "stream_0_0_q=-0.0\n",
      "bitrate=N/A\n",
      "total_size=N/A\n",
      "out_time_us=614320000\n",
      "out_time_ms=614320000\n",
      "out_time=00:10:14.320000\n",
      "dup_frames=0\n",
      "drop_frames=0\n",
      "speed=2.33x\n",
      "progress=continue\n",
      "frame=15417\n",
      "fps=58.30\n",
      "stream_0_0_q=-0.0\n",
      "bitrate=N/A\n",
      "total_size=N/A\n",
      "out_time_us=615400000\n",
      "out_time_ms=615400000\n",
      "out_time=00:10:15.400000\n",
      "dup_frames=0\n",
      "drop_frames=0\n",
      "speed=2.33x\n",
      "progress=continue\n"
     ]
    },
    {
     "name": "stderr",
     "output_type": "stream",
     "text": [
      "frame=15417 fps= 58 q=-0.0 size=N/A time=00:10:15.40 bitrate=N/A speed=2.33x    \r"
     ]
    },
    {
     "name": "stdout",
     "output_type": "stream",
     "text": [
      "frame=15439\n",
      "fps=58.27\n",
      "stream_0_0_q=-0.0\n",
      "bitrate=N/A\n",
      "total_size=N/A\n",
      "out_time_us=616280000\n",
      "out_time_ms=616280000\n",
      "out_time=00:10:16.280000\n",
      "dup_frames=0\n",
      "drop_frames=0\n",
      "speed=2.33x\n",
      "progress=continue\n"
     ]
    },
    {
     "name": "stderr",
     "output_type": "stream",
     "text": [
      "frame=15439 fps= 58 q=-0.0 size=N/A time=00:10:16.28 bitrate=N/A speed=2.33x    \r"
     ]
    },
    {
     "name": "stdout",
     "output_type": "stream",
     "text": [
      "frame=15461\n",
      "fps=58.21\n",
      "stream_0_0_q=-0.0\n",
      "bitrate=N/A\n",
      "total_size=N/A\n",
      "out_time_us=617160000\n",
      "out_time_ms=617160000\n",
      "out_time=00:10:17.160000\n",
      "dup_frames=0\n",
      "drop_frames=0\n",
      "speed=2.32x\n",
      "progress=continue\n"
     ]
    },
    {
     "name": "stderr",
     "output_type": "stream",
     "text": [
      "frame=15461 fps= 58 q=-0.0 size=N/A time=00:10:17.16 bitrate=N/A speed=2.32x    \r"
     ]
    },
    {
     "name": "stdout",
     "output_type": "stream",
     "text": [
      "frame=15474\n",
      "fps=58.15\n",
      "stream_0_0_q=-0.0\n",
      "bitrate=N/A\n",
      "total_size=N/A\n",
      "out_time_us=617680000\n",
      "out_time_ms=617680000\n",
      "out_time=00:10:17.680000\n",
      "dup_frames=0\n",
      "drop_frames=0\n",
      "speed=2.32x\n",
      "progress=continue\n"
     ]
    },
    {
     "name": "stderr",
     "output_type": "stream",
     "text": [
      "frame=15504 fps= 58 q=-0.0 size=N/A time=00:10:18.88 bitrate=N/A speed=2.32x    \r"
     ]
    },
    {
     "name": "stdout",
     "output_type": "stream",
     "text": [
      "frame=15504\n",
      "fps=58.15\n",
      "stream_0_0_q=-0.0\n",
      "bitrate=N/A\n",
      "total_size=N/A\n",
      "out_time_us=618880000\n",
      "out_time_ms=618880000\n",
      "out_time=00:10:18.880000\n",
      "dup_frames=0\n",
      "drop_frames=0\n",
      "speed=2.32x\n",
      "progress=continue\n"
     ]
    },
    {
     "name": "stderr",
     "output_type": "stream",
     "text": [
      "frame=15545 fps= 58 q=-0.0 size=N/A time=00:10:20.52 bitrate=N/A speed=2.32x    \r"
     ]
    },
    {
     "name": "stdout",
     "output_type": "stream",
     "text": [
      "frame=15545\n",
      "fps=58.19\n",
      "stream_0_0_q=-0.0\n",
      "bitrate=N/A\n",
      "total_size=N/A\n",
      "out_time_us=620520000\n",
      "out_time_ms=620520000\n",
      "out_time=00:10:20.520000\n",
      "dup_frames=0\n",
      "drop_frames=0\n",
      "speed=2.32x\n",
      "progress=continue\n"
     ]
    },
    {
     "name": "stderr",
     "output_type": "stream",
     "text": [
      "frame=15564 fps= 58 q=-0.0 size=N/A time=00:10:21.28 bitrate=N/A speed=2.32x    \r"
     ]
    },
    {
     "name": "stdout",
     "output_type": "stream",
     "text": [
      "frame=15564\n",
      "fps=58.15\n",
      "stream_0_0_q=-0.0\n",
      "bitrate=N/A\n",
      "total_size=N/A\n",
      "out_time_us=621280000\n",
      "out_time_ms=621280000\n",
      "out_time=00:10:21.280000\n",
      "dup_frames=0\n",
      "drop_frames=0\n",
      "speed=2.32x\n",
      "progress=continue\n"
     ]
    },
    {
     "name": "stderr",
     "output_type": "stream",
     "text": [
      "frame=15583 fps= 58 q=-0.0 size=N/A time=00:10:22.04 bitrate=N/A speed=2.32x    \r"
     ]
    },
    {
     "name": "stdout",
     "output_type": "stream",
     "text": [
      "frame=15583\n",
      "fps=58.11\n",
      "stream_0_0_q=-0.0\n",
      "bitrate=N/A\n",
      "total_size=N/A\n",
      "out_time_us=622040000\n",
      "out_time_ms=622040000\n",
      "out_time=00:10:22.040000\n",
      "dup_frames=0\n",
      "drop_frames=0\n",
      "speed=2.32x\n",
      "progress=continue\n",
      "frame=15602\n",
      "fps=58.07\n",
      "stream_0_0_q=-0.0\n",
      "bitrate=N/A\n",
      "total_size=N/A\n",
      "out_time_us=622800000\n",
      "out_time_ms=622800000\n",
      "out_time=00:10:22.800000\n",
      "dup_frames=0\n",
      "drop_frames=0\n",
      "speed=2.32x\n",
      "progress=continue\n"
     ]
    },
    {
     "name": "stderr",
     "output_type": "stream",
     "text": [
      "frame=15622 fps= 58 q=-0.0 size=N/A time=00:10:23.60 bitrate=N/A speed=2.32x    \r"
     ]
    },
    {
     "name": "stdout",
     "output_type": "stream",
     "text": [
      "frame=15622\n",
      "fps=58.03\n",
      "stream_0_0_q=-0.0\n",
      "bitrate=N/A\n",
      "total_size=N/A\n",
      "out_time_us=623600000\n",
      "out_time_ms=623600000\n",
      "out_time=00:10:23.600000\n",
      "dup_frames=0\n",
      "drop_frames=0\n",
      "speed=2.32x\n",
      "progress=continue\n"
     ]
    },
    {
     "name": "stderr",
     "output_type": "stream",
     "text": [
      "frame=15642 fps= 58 q=-0.0 size=N/A time=00:10:24.40 bitrate=N/A speed=2.31x    \r"
     ]
    },
    {
     "name": "stdout",
     "output_type": "stream",
     "text": [
      "frame=15642\n",
      "fps=57.99\n",
      "stream_0_0_q=-0.0\n",
      "bitrate=N/A\n",
      "total_size=N/A\n",
      "out_time_us=624400000\n",
      "out_time_ms=624400000\n",
      "out_time=00:10:24.400000\n",
      "dup_frames=0\n",
      "drop_frames=0\n",
      "speed=2.31x\n",
      "progress=continue\n"
     ]
    },
    {
     "name": "stderr",
     "output_type": "stream",
     "text": [
      "frame=15661 fps= 58 q=-0.0 size=N/A time=00:10:25.16 bitrate=N/A speed=2.31x    \r"
     ]
    },
    {
     "name": "stdout",
     "output_type": "stream",
     "text": [
      "frame=15661\n",
      "fps=57.95\n",
      "stream_0_0_q=-0.0\n",
      "bitrate=N/A\n",
      "total_size=N/A\n",
      "out_time_us=625160000\n",
      "out_time_ms=625160000\n",
      "out_time=00:10:25.160000\n",
      "dup_frames=0\n",
      "drop_frames=0\n",
      "speed=2.31x\n",
      "progress=continue\n"
     ]
    },
    {
     "name": "stderr",
     "output_type": "stream",
     "text": [
      "frame=15680 fps= 58 q=-0.0 size=N/A time=00:10:25.92 bitrate=N/A speed=2.31x    \r"
     ]
    },
    {
     "name": "stdout",
     "output_type": "stream",
     "text": [
      "frame=15680\n",
      "fps=57.92\n",
      "stream_0_0_q=-0.0\n",
      "bitrate=N/A\n",
      "total_size=N/A\n",
      "out_time_us=625920000\n",
      "out_time_ms=625920000\n",
      "out_time=00:10:25.920000\n",
      "dup_frames=0\n",
      "drop_frames=0\n",
      "speed=2.31x\n",
      "progress=continue\n"
     ]
    },
    {
     "name": "stderr",
     "output_type": "stream",
     "text": [
      "frame=15700 fps= 58 q=-0.0 size=N/A time=00:10:26.72 bitrate=N/A speed=2.31x    \r"
     ]
    },
    {
     "name": "stdout",
     "output_type": "stream",
     "text": [
      "frame=15700\n",
      "fps=57.88\n",
      "stream_0_0_q=-0.0\n",
      "bitrate=N/A\n",
      "total_size=N/A\n",
      "out_time_us=626720000\n",
      "out_time_ms=626720000\n",
      "out_time=00:10:26.720000\n",
      "dup_frames=0\n",
      "drop_frames=0\n",
      "speed=2.31x\n",
      "progress=continue\n",
      "frame=15724\n",
      "fps=57.86\n",
      "stream_0_0_q=-0.0\n",
      "bitrate=N/A\n",
      "total_size=N/A\n",
      "out_time_us=627680000\n",
      "out_time_ms=627680000\n",
      "out_time=00:10:27.680000\n",
      "dup_frames=0\n",
      "drop_frames=0\n",
      "speed=2.31x\n",
      "progress=continue\n"
     ]
    },
    {
     "name": "stderr",
     "output_type": "stream",
     "text": [
      "frame=15745 fps= 58 q=-0.0 size=N/A time=00:10:28.52 bitrate=N/A speed=2.31x    \r"
     ]
    },
    {
     "name": "stdout",
     "output_type": "stream",
     "text": [
      "frame=15745\n",
      "fps=57.83\n",
      "stream_0_0_q=-0.0\n",
      "bitrate=N/A\n",
      "total_size=N/A\n",
      "out_time_us=628520000\n",
      "out_time_ms=628520000\n",
      "out_time=00:10:28.520000\n",
      "dup_frames=0\n",
      "drop_frames=0\n",
      "speed=2.31x\n",
      "progress=continue\n"
     ]
    },
    {
     "name": "stderr",
     "output_type": "stream",
     "text": [
      "frame=15768 fps= 58 q=-0.0 size=N/A time=00:10:29.44 bitrate=N/A speed=2.31x    \r"
     ]
    },
    {
     "name": "stdout",
     "output_type": "stream",
     "text": [
      "frame=15768\n",
      "fps=57.81\n",
      "stream_0_0_q=-0.0\n",
      "bitrate=N/A\n",
      "total_size=N/A\n",
      "out_time_us=629440000\n",
      "out_time_ms=629440000\n",
      "out_time=00:10:29.440000\n",
      "dup_frames=0\n",
      "drop_frames=0\n",
      "speed=2.31x\n",
      "progress=continue\n"
     ]
    },
    {
     "name": "stderr",
     "output_type": "stream",
     "text": [
      "frame=15790 fps= 58 q=-0.0 size=N/A time=00:10:30.32 bitrate=N/A speed=2.31x    \r"
     ]
    },
    {
     "name": "stdout",
     "output_type": "stream",
     "text": [
      "frame=15790\n",
      "fps=57.78\n",
      "stream_0_0_q=-0.0\n",
      "bitrate=N/A\n",
      "total_size=N/A\n",
      "out_time_us=630320000\n",
      "out_time_ms=630320000\n",
      "out_time=00:10:30.320000\n",
      "dup_frames=0\n",
      "drop_frames=0\n",
      "speed=2.31x\n",
      "progress=continue\n"
     ]
    },
    {
     "name": "stderr",
     "output_type": "stream",
     "text": [
      "frame=15812 fps= 58 q=-0.0 size=N/A time=00:10:31.20 bitrate=N/A speed=2.31x    \r"
     ]
    },
    {
     "name": "stdout",
     "output_type": "stream",
     "text": [
      "frame=15812\n",
      "fps=57.75\n",
      "stream_0_0_q=-0.0\n",
      "bitrate=N/A\n",
      "total_size=N/A\n",
      "out_time_us=631200000\n",
      "out_time_ms=631200000\n",
      "out_time=00:10:31.200000\n",
      "dup_frames=0\n",
      "drop_frames=0\n",
      "speed=2.31x\n",
      "progress=continue\n"
     ]
    },
    {
     "name": "stderr",
     "output_type": "stream",
     "text": [
      "frame=15834 fps= 58 q=-0.0 size=N/A time=00:10:32.08 bitrate=N/A speed= 2.3x    \r"
     ]
    },
    {
     "name": "stdout",
     "output_type": "stream",
     "text": [
      "frame=15834\n",
      "fps=57.73\n",
      "stream_0_0_q=-0.0\n",
      "bitrate=N/A\n",
      "total_size=N/A\n",
      "out_time_us=632080000\n",
      "out_time_ms=632080000\n",
      "out_time=00:10:32.080000\n",
      "dup_frames=0\n",
      "drop_frames=0\n",
      "speed= 2.3x\n",
      "progress=continue\n"
     ]
    },
    {
     "name": "stderr",
     "output_type": "stream",
     "text": [
      "frame=15857 fps= 58 q=-0.0 size=N/A time=00:10:33.00 bitrate=N/A speed= 2.3x    \r"
     ]
    },
    {
     "name": "stdout",
     "output_type": "stream",
     "text": [
      "frame=15857\n",
      "fps=57.70\n",
      "stream_0_0_q=-0.0\n",
      "bitrate=N/A\n",
      "total_size=N/A\n",
      "out_time_us=633000000\n",
      "out_time_ms=633000000\n",
      "out_time=00:10:33.000000\n",
      "dup_frames=0\n",
      "drop_frames=0\n",
      "speed= 2.3x\n",
      "progress=continue\n"
     ]
    },
    {
     "name": "stderr",
     "output_type": "stream",
     "text": [
      "frame=15874 fps= 58 q=-0.0 size=N/A time=00:10:33.68 bitrate=N/A speed= 2.3x    \r"
     ]
    },
    {
     "name": "stdout",
     "output_type": "stream",
     "text": [
      "frame=15874\n",
      "fps=57.62\n",
      "stream_0_0_q=-0.0\n",
      "bitrate=N/A\n",
      "total_size=N/A\n",
      "out_time_us=633680000\n",
      "out_time_ms=633680000\n",
      "out_time=00:10:33.680000\n",
      "dup_frames=0\n",
      "drop_frames=0\n",
      "speed= 2.3x\n",
      "progress=continue\n"
     ]
    },
    {
     "name": "stderr",
     "output_type": "stream",
     "text": [
      "frame=15906 fps= 58 q=-0.0 size=N/A time=00:10:34.96 bitrate=N/A speed= 2.3x    \r"
     ]
    },
    {
     "name": "stdout",
     "output_type": "stream",
     "text": [
      "frame=15906\n",
      "fps=57.63\n",
      "stream_0_0_q=-0.0\n",
      "bitrate=N/A\n",
      "total_size=N/A\n",
      "out_time_us=634960000\n",
      "out_time_ms=634960000\n",
      "out_time=00:10:34.960000\n",
      "dup_frames=0\n",
      "drop_frames=0\n",
      "speed= 2.3x\n",
      "progress=continue\n"
     ]
    },
    {
     "name": "stderr",
     "output_type": "stream",
     "text": [
      "frame=15925 fps= 58 q=-0.0 size=N/A time=00:10:35.72 bitrate=N/A speed= 2.3x    \r"
     ]
    },
    {
     "name": "stdout",
     "output_type": "stream",
     "text": [
      "frame=15925\n",
      "fps=57.59\n",
      "stream_0_0_q=-0.0\n",
      "bitrate=N/A\n",
      "total_size=N/A\n",
      "out_time_us=635720000\n",
      "out_time_ms=635720000\n",
      "out_time=00:10:35.720000\n",
      "dup_frames=0\n",
      "drop_frames=0\n",
      "speed= 2.3x\n",
      "progress=continue\n"
     ]
    },
    {
     "name": "stderr",
     "output_type": "stream",
     "text": [
      "frame=15948 fps= 58 q=-0.0 size=N/A time=00:10:36.64 bitrate=N/A speed= 2.3x    \r"
     ]
    },
    {
     "name": "stdout",
     "output_type": "stream",
     "text": [
      "frame=15948\n",
      "fps=57.57\n",
      "stream_0_0_q=-0.0\n",
      "bitrate=N/A\n",
      "total_size=N/A\n",
      "out_time_us=636640000\n",
      "out_time_ms=636640000\n",
      "out_time=00:10:36.640000\n",
      "dup_frames=0\n",
      "drop_frames=0\n",
      "speed= 2.3x\n",
      "progress=continue\n"
     ]
    },
    {
     "name": "stderr",
     "output_type": "stream",
     "text": [
      "frame=15970 fps= 58 q=-0.0 size=N/A time=00:10:37.52 bitrate=N/A speed= 2.3x    \r"
     ]
    },
    {
     "name": "stdout",
     "output_type": "stream",
     "text": [
      "frame=15970\n",
      "fps=57.54\n",
      "stream_0_0_q=-0.0\n",
      "bitrate=N/A\n",
      "total_size=N/A\n",
      "out_time_us=637520000\n",
      "out_time_ms=637520000\n",
      "out_time=00:10:37.520000\n",
      "dup_frames=0\n",
      "drop_frames=0\n",
      "speed= 2.3x\n",
      "progress=continue\n"
     ]
    },
    {
     "name": "stderr",
     "output_type": "stream",
     "text": [
      "frame=15993 fps= 58 q=-0.0 size=N/A time=00:10:38.44 bitrate=N/A speed= 2.3x    \r"
     ]
    },
    {
     "name": "stdout",
     "output_type": "stream",
     "text": [
      "frame=15993\n",
      "fps=57.52\n",
      "stream_0_0_q=-0.0\n",
      "bitrate=N/A\n",
      "total_size=N/A\n",
      "out_time_us=638440000\n",
      "out_time_ms=638440000\n",
      "out_time=00:10:38.440000\n",
      "dup_frames=0\n",
      "drop_frames=0\n",
      "speed= 2.3x\n",
      "progress=continue\n"
     ]
    },
    {
     "name": "stderr",
     "output_type": "stream",
     "text": [
      "frame=16015 fps= 57 q=-0.0 size=N/A time=00:10:39.32 bitrate=N/A speed= 2.3x    \r"
     ]
    },
    {
     "name": "stdout",
     "output_type": "stream",
     "text": [
      "frame=16015\n",
      "fps=57.49\n",
      "stream_0_0_q=-0.0\n",
      "bitrate=N/A\n",
      "total_size=N/A\n",
      "out_time_us=639320000\n",
      "out_time_ms=639320000\n",
      "out_time=00:10:39.320000\n",
      "dup_frames=0\n",
      "drop_frames=0\n",
      "speed= 2.3x\n",
      "progress=continue\n"
     ]
    },
    {
     "name": "stderr",
     "output_type": "stream",
     "text": [
      "frame=16034 fps= 57 q=-0.0 size=N/A time=00:10:40.08 bitrate=N/A speed=2.29x    \r"
     ]
    },
    {
     "name": "stdout",
     "output_type": "stream",
     "text": [
      "frame=16034\n",
      "fps=57.46\n",
      "stream_0_0_q=-0.0\n",
      "bitrate=N/A\n",
      "total_size=N/A\n",
      "out_time_us=640080000\n",
      "out_time_ms=640080000\n",
      "out_time=00:10:40.080000\n",
      "dup_frames=0\n",
      "drop_frames=0\n",
      "speed=2.29x\n",
      "progress=continue\n"
     ]
    },
    {
     "name": "stderr",
     "output_type": "stream",
     "text": [
      "frame=16056 fps= 57 q=-0.0 size=N/A time=00:10:40.96 bitrate=N/A speed=2.29x    \r"
     ]
    },
    {
     "name": "stdout",
     "output_type": "stream",
     "text": [
      "frame=16056\n",
      "fps=57.43\n",
      "stream_0_0_q=-0.0\n",
      "bitrate=N/A\n",
      "total_size=N/A\n",
      "out_time_us=640960000\n",
      "out_time_ms=640960000\n",
      "out_time=00:10:40.960000\n",
      "dup_frames=0\n",
      "drop_frames=0\n",
      "speed=2.29x\n",
      "progress=continue\n"
     ]
    },
    {
     "name": "stderr",
     "output_type": "stream",
     "text": [
      "frame=16080 fps= 57 q=-0.0 size=N/A time=00:10:41.92 bitrate=N/A speed=2.29x    \r"
     ]
    },
    {
     "name": "stdout",
     "output_type": "stream",
     "text": [
      "frame=16080\n",
      "fps=57.41\n",
      "stream_0_0_q=-0.0\n",
      "bitrate=N/A\n",
      "total_size=N/A\n",
      "out_time_us=641920000\n",
      "out_time_ms=641920000\n",
      "out_time=00:10:41.920000\n",
      "dup_frames=0\n",
      "drop_frames=0\n",
      "speed=2.29x\n",
      "progress=continue\n"
     ]
    },
    {
     "name": "stderr",
     "output_type": "stream",
     "text": [
      "frame=16100 fps= 57 q=-0.0 size=N/A time=00:10:42.72 bitrate=N/A speed=2.29x    \r"
     ]
    },
    {
     "name": "stdout",
     "output_type": "stream",
     "text": [
      "frame=16100\n",
      "fps=57.37\n",
      "stream_0_0_q=-0.0\n",
      "bitrate=N/A\n",
      "total_size=N/A\n",
      "out_time_us=642720000\n",
      "out_time_ms=642720000\n",
      "out_time=00:10:42.720000\n",
      "dup_frames=0\n",
      "drop_frames=0\n",
      "speed=2.29x\n",
      "progress=continue\n"
     ]
    },
    {
     "name": "stderr",
     "output_type": "stream",
     "text": [
      "frame=16116 fps= 57 q=-0.0 size=N/A time=00:10:43.36 bitrate=N/A speed=2.29x    \r"
     ]
    },
    {
     "name": "stdout",
     "output_type": "stream",
     "text": [
      "frame=16116\n",
      "fps=57.32\n",
      "stream_0_0_q=-0.0\n",
      "bitrate=N/A\n",
      "total_size=N/A\n",
      "out_time_us=643360000\n",
      "out_time_ms=643360000\n",
      "out_time=00:10:43.360000\n",
      "dup_frames=0\n",
      "drop_frames=0\n",
      "speed=2.29x\n",
      "progress=continue\n"
     ]
    },
    {
     "name": "stderr",
     "output_type": "stream",
     "text": [
      "frame=16134 fps= 57 q=-0.0 size=N/A time=00:10:44.08 bitrate=N/A speed=2.29x    \r"
     ]
    },
    {
     "name": "stdout",
     "output_type": "stream",
     "text": [
      "frame=16134\n",
      "fps=57.26\n",
      "stream_0_0_q=-0.0\n",
      "bitrate=N/A\n",
      "total_size=N/A\n",
      "out_time_us=644080000\n",
      "out_time_ms=644080000\n",
      "out_time=00:10:44.080000\n",
      "dup_frames=0\n",
      "drop_frames=0\n",
      "speed=2.29x\n",
      "progress=continue\n"
     ]
    },
    {
     "name": "stderr",
     "output_type": "stream",
     "text": [
      "frame=16149 fps= 57 q=-0.0 size=N/A time=00:10:44.68 bitrate=N/A speed=2.28x    \r"
     ]
    },
    {
     "name": "stdout",
     "output_type": "stream",
     "text": [
      "frame=16149\n",
      "fps=57.20\n",
      "stream_0_0_q=-0.0\n",
      "bitrate=N/A\n",
      "total_size=N/A\n",
      "out_time_us=644680000\n",
      "out_time_ms=644680000\n",
      "out_time=00:10:44.680000\n",
      "dup_frames=0\n",
      "drop_frames=0\n",
      "speed=2.28x\n",
      "progress=continue\n"
     ]
    },
    {
     "name": "stderr",
     "output_type": "stream",
     "text": [
      "frame=16180 fps= 57 q=-0.0 size=N/A time=00:10:45.92 bitrate=N/A speed=2.28x    \r"
     ]
    },
    {
     "name": "stdout",
     "output_type": "stream",
     "text": [
      "frame=16180\n",
      "fps=57.21\n",
      "stream_0_0_q=-0.0\n",
      "bitrate=N/A\n",
      "total_size=N/A\n",
      "out_time_us=645920000\n",
      "out_time_ms=645920000\n",
      "out_time=00:10:45.920000\n",
      "dup_frames=0\n",
      "drop_frames=0\n",
      "speed=2.28x\n",
      "progress=continue\n",
      "frame=16232\n",
      "fps=57.29\n",
      "stream_0_0_q=-0.0\n",
      "bitrate=N/A\n",
      "total_size=N/A\n",
      "out_time_us=648000000\n",
      "out_time_ms=648000000\n",
      "out_time=00:10:48.000000\n",
      "dup_frames=0\n",
      "drop_frames=0\n",
      "speed=2.29x\n",
      "progress=continue\n"
     ]
    },
    {
     "name": "stderr",
     "output_type": "stream",
     "text": [
      "frame=16251 fps= 57 q=-0.0 size=N/A time=00:10:48.76 bitrate=N/A speed=2.29x    \r"
     ]
    },
    {
     "name": "stdout",
     "output_type": "stream",
     "text": [
      "frame=16251\n",
      "fps=57.25\n",
      "stream_0_0_q=-0.0\n",
      "bitrate=N/A\n",
      "total_size=N/A\n",
      "out_time_us=648760000\n",
      "out_time_ms=648760000\n",
      "out_time=00:10:48.760000\n",
      "dup_frames=0\n",
      "drop_frames=0\n",
      "speed=2.29x\n",
      "progress=continue\n"
     ]
    },
    {
     "name": "stderr",
     "output_type": "stream",
     "text": [
      "frame=16269 fps= 57 q=-0.0 size=N/A time=00:10:49.48 bitrate=N/A speed=2.28x    \r"
     ]
    },
    {
     "name": "stdout",
     "output_type": "stream",
     "text": [
      "frame=16269\n",
      "fps=57.21\n",
      "stream_0_0_q=-0.0\n",
      "bitrate=N/A\n",
      "total_size=N/A\n",
      "out_time_us=649480000\n",
      "out_time_ms=649480000\n",
      "out_time=00:10:49.480000\n",
      "dup_frames=0\n",
      "drop_frames=0\n",
      "speed=2.28x\n",
      "progress=continue\n",
      "frame=16288\n",
      "fps=57.17\n",
      "stream_0_0_q=-0.0\n",
      "bitrate=N/A\n",
      "total_size=N/A\n",
      "out_time_us=650240000\n",
      "out_time_ms=650240000\n",
      "out_time=00:10:50.240000\n",
      "dup_frames=0\n",
      "drop_frames=0\n",
      "speed=2.28x\n",
      "progress=continue\n"
     ]
    },
    {
     "name": "stderr",
     "output_type": "stream",
     "text": [
      "frame=16288 fps= 57 q=-0.0 size=N/A time=00:10:50.24 bitrate=N/A speed=2.28x    \r"
     ]
    },
    {
     "name": "stdout",
     "output_type": "stream",
     "text": [
      "frame=16308\n",
      "fps=57.11\n",
      "stream_0_0_q=-0.0\n",
      "bitrate=N/A\n",
      "total_size=N/A\n",
      "out_time_us=651040000\n",
      "out_time_ms=651040000\n",
      "out_time=00:10:51.040000\n",
      "dup_frames=0\n",
      "drop_frames=0\n",
      "speed=2.28x\n",
      "progress=continue\n"
     ]
    },
    {
     "name": "stderr",
     "output_type": "stream",
     "text": [
      "frame=16321 fps= 57 q=-0.0 size=N/A time=00:10:51.56 bitrate=N/A speed=2.28x    \r"
     ]
    },
    {
     "name": "stdout",
     "output_type": "stream",
     "text": [
      "frame=16321\n",
      "fps=57.04\n",
      "stream_0_0_q=-0.0\n",
      "bitrate=N/A\n",
      "total_size=N/A\n",
      "out_time_us=651560000\n",
      "out_time_ms=651560000\n",
      "out_time=00:10:51.560000\n",
      "dup_frames=0\n",
      "drop_frames=0\n",
      "speed=2.28x\n",
      "progress=continue\n"
     ]
    },
    {
     "name": "stderr",
     "output_type": "stream",
     "text": [
      "frame=16365 fps= 57 q=-0.0 size=N/A time=00:10:53.32 bitrate=N/A speed=2.28x    \r"
     ]
    },
    {
     "name": "stdout",
     "output_type": "stream",
     "text": [
      "frame=16365\n",
      "fps=57.10\n",
      "stream_0_0_q=-0.0\n",
      "bitrate=N/A\n",
      "total_size=N/A\n",
      "out_time_us=653320000\n",
      "out_time_ms=653320000\n",
      "out_time=00:10:53.320000\n",
      "dup_frames=0\n",
      "drop_frames=0\n",
      "speed=2.28x\n",
      "progress=continue\n"
     ]
    },
    {
     "name": "stderr",
     "output_type": "stream",
     "text": [
      "frame=16385 fps= 57 q=-0.0 size=N/A time=00:10:54.12 bitrate=N/A speed=2.28x    \r"
     ]
    },
    {
     "name": "stdout",
     "output_type": "stream",
     "text": [
      "frame=16385\n",
      "fps=57.06\n",
      "stream_0_0_q=-0.0\n",
      "bitrate=N/A\n",
      "total_size=N/A\n",
      "out_time_us=654120000\n",
      "out_time_ms=654120000\n",
      "out_time=00:10:54.120000\n",
      "dup_frames=0\n",
      "drop_frames=0\n",
      "speed=2.28x\n",
      "progress=continue\n",
      "frame=16405\n",
      "fps=57.03\n",
      "stream_0_0_q=-0.0\n",
      "bitrate=N/A\n",
      "total_size=N/A\n",
      "out_time_us=654920000\n",
      "out_time_ms=654920000\n",
      "out_time=00:10:54.920000\n",
      "dup_frames=0\n",
      "drop_frames=0\n",
      "speed=2.28x\n",
      "progress=continue\n"
     ]
    },
    {
     "name": "stderr",
     "output_type": "stream",
     "text": [
      "frame=16405 fps= 57 q=-0.0 size=N/A time=00:10:54.92 bitrate=N/A speed=2.28x    \r"
     ]
    },
    {
     "name": "stdout",
     "output_type": "stream",
     "text": [
      "frame=16424\n",
      "fps=56.99\n",
      "stream_0_0_q=-0.0\n",
      "bitrate=N/A\n",
      "total_size=N/A\n",
      "out_time_us=655680000\n",
      "out_time_ms=655680000\n",
      "out_time=00:10:55.680000\n",
      "dup_frames=0\n",
      "drop_frames=0\n",
      "speed=2.28x\n",
      "progress=continue\n"
     ]
    },
    {
     "name": "stderr",
     "output_type": "stream",
     "text": [
      "frame=16444 fps= 57 q=-0.0 size=N/A time=00:10:56.48 bitrate=N/A speed=2.27x    \r"
     ]
    },
    {
     "name": "stdout",
     "output_type": "stream",
     "text": [
      "frame=16444\n",
      "fps=56.96\n",
      "stream_0_0_q=-0.0\n",
      "bitrate=N/A\n",
      "total_size=N/A\n",
      "out_time_us=656480000\n",
      "out_time_ms=656480000\n",
      "out_time=00:10:56.480000\n",
      "dup_frames=0\n",
      "drop_frames=0\n",
      "speed=2.27x\n",
      "progress=continue\n"
     ]
    },
    {
     "name": "stderr",
     "output_type": "stream",
     "text": [
      "frame=16466 fps= 57 q=-0.0 size=N/A time=00:10:57.36 bitrate=N/A speed=2.27x    \r"
     ]
    },
    {
     "name": "stdout",
     "output_type": "stream",
     "text": [
      "frame=16466\n",
      "fps=56.94\n",
      "stream_0_0_q=-0.0\n",
      "bitrate=N/A\n",
      "total_size=N/A\n",
      "out_time_us=657360000\n",
      "out_time_ms=657360000\n",
      "out_time=00:10:57.360000\n",
      "dup_frames=0\n",
      "drop_frames=0\n",
      "speed=2.27x\n",
      "progress=continue\n",
      "frame=16485\n",
      "fps=56.90\n",
      "stream_0_0_q=-0.0\n",
      "bitrate=N/A\n",
      "total_size=N/A\n",
      "out_time_us=658120000\n",
      "out_time_ms=658120000\n",
      "out_time=00:10:58.120000\n",
      "dup_frames=0\n",
      "drop_frames=0\n",
      "speed=2.27x\n",
      "progress=continue\n"
     ]
    },
    {
     "name": "stderr",
     "output_type": "stream",
     "text": [
      "frame=16507 fps= 57 q=-0.0 size=N/A time=00:10:59.00 bitrate=N/A speed=2.27x    \r"
     ]
    },
    {
     "name": "stdout",
     "output_type": "stream",
     "text": [
      "frame=16507\n",
      "fps=56.88\n",
      "stream_0_0_q=-0.0\n",
      "bitrate=N/A\n",
      "total_size=N/A\n",
      "out_time_us=659000000\n",
      "out_time_ms=659000000\n",
      "out_time=00:10:59.000000\n",
      "dup_frames=0\n",
      "drop_frames=0\n",
      "speed=2.27x\n",
      "progress=continue\n"
     ]
    },
    {
     "name": "stderr",
     "output_type": "stream",
     "text": [
      "frame=16535 fps= 57 q=-0.0 size=N/A time=00:11:00.12 bitrate=N/A speed=2.27x    \r"
     ]
    },
    {
     "name": "stdout",
     "output_type": "stream",
     "text": [
      "frame=16535\n",
      "fps=56.88\n",
      "stream_0_0_q=-0.0\n",
      "bitrate=N/A\n",
      "total_size=N/A\n",
      "out_time_us=660120000\n",
      "out_time_ms=660120000\n",
      "out_time=00:11:00.120000\n",
      "dup_frames=0\n",
      "drop_frames=0\n",
      "speed=2.27x\n",
      "progress=continue\n"
     ]
    },
    {
     "name": "stderr",
     "output_type": "stream",
     "text": [
      "frame=16557 fps= 57 q=-0.0 size=N/A time=00:11:01.00 bitrate=N/A speed=2.27x    \r"
     ]
    },
    {
     "name": "stdout",
     "output_type": "stream",
     "text": [
      "frame=16557\n",
      "fps=56.85\n",
      "stream_0_0_q=-0.0\n",
      "bitrate=N/A\n",
      "total_size=N/A\n",
      "out_time_us=661000000\n",
      "out_time_ms=661000000\n",
      "out_time=00:11:01.000000\n",
      "dup_frames=0\n",
      "drop_frames=0\n",
      "speed=2.27x\n",
      "progress=continue\n"
     ]
    },
    {
     "name": "stderr",
     "output_type": "stream",
     "text": [
      "frame=16577 fps= 57 q=-0.0 size=N/A time=00:11:01.80 bitrate=N/A speed=2.27x    \r"
     ]
    },
    {
     "name": "stdout",
     "output_type": "stream",
     "text": [
      "frame=16577\n",
      "fps=56.82\n",
      "stream_0_0_q=-0.0\n",
      "bitrate=N/A\n",
      "total_size=N/A\n",
      "out_time_us=661800000\n",
      "out_time_ms=661800000\n",
      "out_time=00:11:01.800000\n",
      "dup_frames=0\n",
      "drop_frames=0\n",
      "speed=2.27x\n",
      "progress=continue\n"
     ]
    },
    {
     "name": "stderr",
     "output_type": "stream",
     "text": [
      "frame=16600 fps= 57 q=-0.0 size=N/A time=00:11:02.72 bitrate=N/A speed=2.27x    \r"
     ]
    },
    {
     "name": "stdout",
     "output_type": "stream",
     "text": [
      "frame=16600\n",
      "fps=56.80\n",
      "stream_0_0_q=-0.0\n",
      "bitrate=N/A\n",
      "total_size=N/A\n",
      "out_time_us=662720000\n",
      "out_time_ms=662720000\n",
      "out_time=00:11:02.720000\n",
      "dup_frames=0\n",
      "drop_frames=0\n",
      "speed=2.27x\n",
      "progress=continue\n"
     ]
    },
    {
     "name": "stderr",
     "output_type": "stream",
     "text": [
      "frame=16622 fps= 57 q=-0.0 size=N/A time=00:11:03.60 bitrate=N/A speed=2.27x    \r"
     ]
    },
    {
     "name": "stdout",
     "output_type": "stream",
     "text": [
      "frame=16622\n",
      "fps=56.78\n",
      "stream_0_0_q=-0.0\n",
      "bitrate=N/A\n",
      "total_size=N/A\n",
      "out_time_us=663600000\n",
      "out_time_ms=663600000\n",
      "out_time=00:11:03.600000\n",
      "dup_frames=0\n",
      "drop_frames=0\n",
      "speed=2.27x\n",
      "progress=continue\n"
     ]
    },
    {
     "name": "stderr",
     "output_type": "stream",
     "text": [
      "frame=16643 fps= 57 q=-0.0 size=N/A time=00:11:04.44 bitrate=N/A speed=2.27x    \r"
     ]
    },
    {
     "name": "stdout",
     "output_type": "stream",
     "text": [
      "frame=16643\n",
      "fps=56.75\n",
      "stream_0_0_q=-0.0\n",
      "bitrate=N/A\n",
      "total_size=N/A\n",
      "out_time_us=664440000\n",
      "out_time_ms=664440000\n",
      "out_time=00:11:04.440000\n",
      "dup_frames=0\n",
      "drop_frames=0\n",
      "speed=2.27x\n",
      "progress=continue\n",
      "frame=16665\n",
      "fps=56.72\n",
      "stream_0_0_q=-0.0\n",
      "bitrate=N/A\n",
      "total_size=N/A\n",
      "out_time_us=665320000\n",
      "out_time_ms=665320000\n",
      "out_time=00:11:05.320000\n",
      "dup_frames=0\n",
      "drop_frames=0\n",
      "speed=2.26x\n",
      "progress=continue\n"
     ]
    },
    {
     "name": "stderr",
     "output_type": "stream",
     "text": [
      "frame=16665 fps= 57 q=-0.0 size=N/A time=00:11:05.32 bitrate=N/A speed=2.26x    \r"
     ]
    },
    {
     "name": "stdout",
     "output_type": "stream",
     "text": [
      "frame=16686\n",
      "fps=56.70\n",
      "stream_0_0_q=-0.0\n",
      "bitrate=N/A\n",
      "total_size=N/A\n",
      "out_time_us=666160000\n",
      "out_time_ms=666160000\n",
      "out_time=00:11:06.160000\n",
      "dup_frames=0\n",
      "drop_frames=0\n",
      "speed=2.26x\n",
      "progress=continue\n"
     ]
    },
    {
     "name": "stderr",
     "output_type": "stream",
     "text": [
      "frame=16705 fps= 57 q=-0.0 size=N/A time=00:11:06.92 bitrate=N/A speed=2.26x    \r"
     ]
    },
    {
     "name": "stdout",
     "output_type": "stream",
     "text": [
      "frame=16705\n",
      "fps=56.66\n",
      "stream_0_0_q=-0.0\n",
      "bitrate=N/A\n",
      "total_size=N/A\n",
      "out_time_us=666920000\n",
      "out_time_ms=666920000\n",
      "out_time=00:11:06.920000\n",
      "dup_frames=0\n",
      "drop_frames=0\n",
      "speed=2.26x\n",
      "progress=continue\n"
     ]
    },
    {
     "name": "stderr",
     "output_type": "stream",
     "text": [
      "frame=16725 fps= 57 q=-0.0 size=N/A time=00:11:07.72 bitrate=N/A speed=2.26x    \r"
     ]
    },
    {
     "name": "stdout",
     "output_type": "stream",
     "text": [
      "frame=16725\n",
      "fps=56.63\n",
      "stream_0_0_q=-0.0\n",
      "bitrate=N/A\n",
      "total_size=N/A\n",
      "out_time_us=667720000\n",
      "out_time_ms=667720000\n",
      "out_time=00:11:07.720000\n",
      "dup_frames=0\n",
      "drop_frames=0\n",
      "speed=2.26x\n",
      "progress=continue\n"
     ]
    },
    {
     "name": "stderr",
     "output_type": "stream",
     "text": [
      "frame=16752 fps= 57 q=-0.0 size=N/A time=00:11:08.80 bitrate=N/A speed=2.26x    \r"
     ]
    },
    {
     "name": "stdout",
     "output_type": "stream",
     "text": [
      "frame=16752\n",
      "fps=56.63\n",
      "stream_0_0_q=-0.0\n",
      "bitrate=N/A\n",
      "total_size=N/A\n",
      "out_time_us=668800000\n",
      "out_time_ms=668800000\n",
      "out_time=00:11:08.800000\n",
      "dup_frames=0\n",
      "drop_frames=0\n",
      "speed=2.26x\n",
      "progress=continue\n"
     ]
    },
    {
     "name": "stderr",
     "output_type": "stream",
     "text": [
      "frame=16771 fps= 57 q=-0.0 size=N/A time=00:11:09.56 bitrate=N/A speed=2.26x    \r"
     ]
    },
    {
     "name": "stdout",
     "output_type": "stream",
     "text": [
      "frame=16771\n",
      "fps=56.58\n",
      "stream_0_0_q=-0.0\n",
      "bitrate=N/A\n",
      "total_size=N/A\n",
      "out_time_us=669560000\n",
      "out_time_ms=669560000\n",
      "out_time=00:11:09.560000\n",
      "dup_frames=0\n",
      "drop_frames=0\n",
      "speed=2.26x\n",
      "progress=continue\n"
     ]
    },
    {
     "name": "stderr",
     "output_type": "stream",
     "text": [
      "frame=16797 fps= 57 q=-0.0 size=N/A time=00:11:10.60 bitrate=N/A speed=2.26x    \r"
     ]
    },
    {
     "name": "stdout",
     "output_type": "stream",
     "text": [
      "frame=16797\n",
      "fps=56.57\n",
      "stream_0_0_q=-0.0\n",
      "bitrate=N/A\n",
      "total_size=N/A\n",
      "out_time_us=670600000\n",
      "out_time_ms=670600000\n",
      "out_time=00:11:10.600000\n",
      "dup_frames=0\n",
      "drop_frames=0\n",
      "speed=2.26x\n",
      "progress=continue\n"
     ]
    },
    {
     "name": "stderr",
     "output_type": "stream",
     "text": [
      "frame=16821 fps= 57 q=-0.0 size=N/A time=00:11:11.56 bitrate=N/A speed=2.26x    \r"
     ]
    },
    {
     "name": "stdout",
     "output_type": "stream",
     "text": [
      "frame=16821\n",
      "fps=56.55\n",
      "stream_0_0_q=-0.0\n",
      "bitrate=N/A\n",
      "total_size=N/A\n",
      "out_time_us=671560000\n",
      "out_time_ms=671560000\n",
      "out_time=00:11:11.560000\n",
      "dup_frames=0\n",
      "drop_frames=0\n",
      "speed=2.26x\n",
      "progress=continue\n"
     ]
    },
    {
     "name": "stderr",
     "output_type": "stream",
     "text": [
      "frame=16836 fps= 57 q=-0.0 size=N/A time=00:11:12.16 bitrate=N/A speed=2.26x    \r"
     ]
    },
    {
     "name": "stdout",
     "output_type": "stream",
     "text": [
      "frame=16836\n",
      "fps=56.51\n",
      "stream_0_0_q=-0.0\n",
      "bitrate=N/A\n",
      "total_size=N/A\n",
      "out_time_us=672160000\n",
      "out_time_ms=672160000\n",
      "out_time=00:11:12.160000\n",
      "dup_frames=0\n",
      "drop_frames=0\n",
      "speed=2.26x\n",
      "progress=continue\n"
     ]
    },
    {
     "name": "stderr",
     "output_type": "stream",
     "text": [
      "frame=16865 fps= 57 q=-0.0 size=N/A time=00:11:13.32 bitrate=N/A speed=2.26x    \r"
     ]
    },
    {
     "name": "stdout",
     "output_type": "stream",
     "text": [
      "frame=16865\n",
      "fps=56.51\n",
      "stream_0_0_q=-0.0\n",
      "bitrate=N/A\n",
      "total_size=N/A\n",
      "out_time_us=673320000\n",
      "out_time_ms=673320000\n",
      "out_time=00:11:13.320000\n",
      "dup_frames=0\n",
      "drop_frames=0\n",
      "speed=2.26x\n",
      "progress=continue\n"
     ]
    },
    {
     "name": "stderr",
     "output_type": "stream",
     "text": [
      "frame=16885 fps= 56 q=-0.0 size=N/A time=00:11:14.12 bitrate=N/A speed=2.25x    \r"
     ]
    },
    {
     "name": "stdout",
     "output_type": "stream",
     "text": [
      "frame=16885\n",
      "fps=56.48\n",
      "stream_0_0_q=-0.0\n",
      "bitrate=N/A\n",
      "total_size=N/A\n",
      "out_time_us=674120000\n",
      "out_time_ms=674120000\n",
      "out_time=00:11:14.120000\n",
      "dup_frames=0\n",
      "drop_frames=0\n",
      "speed=2.25x\n",
      "progress=continue\n"
     ]
    },
    {
     "name": "stderr",
     "output_type": "stream",
     "text": [
      "frame=16908 fps= 56 q=-0.0 size=N/A time=00:11:15.04 bitrate=N/A speed=2.25x    \r"
     ]
    },
    {
     "name": "stdout",
     "output_type": "stream",
     "text": [
      "frame=16908\n",
      "fps=56.46\n",
      "stream_0_0_q=-0.0\n",
      "bitrate=N/A\n",
      "total_size=N/A\n",
      "out_time_us=675040000\n",
      "out_time_ms=675040000\n",
      "out_time=00:11:15.040000\n",
      "dup_frames=0\n",
      "drop_frames=0\n",
      "speed=2.25x\n",
      "progress=continue\n"
     ]
    },
    {
     "name": "stderr",
     "output_type": "stream",
     "text": [
      "frame=16929 fps= 56 q=-0.0 size=N/A time=00:11:15.88 bitrate=N/A speed=2.25x    \r"
     ]
    },
    {
     "name": "stdout",
     "output_type": "stream",
     "text": [
      "frame=16929\n",
      "fps=56.43\n",
      "stream_0_0_q=-0.0\n",
      "bitrate=N/A\n",
      "total_size=N/A\n",
      "out_time_us=675880000\n",
      "out_time_ms=675880000\n",
      "out_time=00:11:15.880000\n",
      "dup_frames=0\n",
      "drop_frames=0\n",
      "speed=2.25x\n",
      "progress=continue\n",
      "frame=16952\n",
      "fps=56.41\n",
      "stream_0_0_q=-0.0\n",
      "bitrate=N/A\n",
      "total_size=N/A\n",
      "out_time_us=676800000\n",
      "out_time_ms=676800000\n",
      "out_time=00:11:16.800000\n",
      "dup_frames=0\n",
      "drop_frames=0\n",
      "speed=2.25x\n",
      "progress=continue\n"
     ]
    },
    {
     "name": "stderr",
     "output_type": "stream",
     "text": [
      "frame=16952 fps= 56 q=-0.0 size=N/A time=00:11:16.80 bitrate=N/A speed=2.25x    \r"
     ]
    },
    {
     "name": "stdout",
     "output_type": "stream",
     "text": [
      "frame=16972\n",
      "fps=56.38\n",
      "stream_0_0_q=-0.0\n",
      "bitrate=N/A\n",
      "total_size=N/A\n",
      "out_time_us=677600000\n",
      "out_time_ms=677600000\n",
      "out_time=00:11:17.600000\n",
      "dup_frames=0\n",
      "drop_frames=0\n",
      "speed=2.25x\n",
      "progress=continue\n"
     ]
    },
    {
     "name": "stderr",
     "output_type": "stream",
     "text": [
      "frame=16992 fps= 56 q=-0.0 size=N/A time=00:11:18.40 bitrate=N/A speed=2.25x    \r"
     ]
    },
    {
     "name": "stdout",
     "output_type": "stream",
     "text": [
      "frame=16992\n",
      "fps=56.35\n",
      "stream_0_0_q=-0.0\n",
      "bitrate=N/A\n",
      "total_size=N/A\n",
      "out_time_us=678400000\n",
      "out_time_ms=678400000\n",
      "out_time=00:11:18.400000\n",
      "dup_frames=0\n",
      "drop_frames=0\n",
      "speed=2.25x\n",
      "progress=continue\n"
     ]
    },
    {
     "name": "stderr",
     "output_type": "stream",
     "text": [
      "frame=17013 fps= 56 q=-0.0 size=N/A time=00:11:19.24 bitrate=N/A speed=2.25x    \r"
     ]
    },
    {
     "name": "stdout",
     "output_type": "stream",
     "text": [
      "frame=17013\n",
      "fps=56.32\n",
      "stream_0_0_q=-0.0\n",
      "bitrate=N/A\n",
      "total_size=N/A\n",
      "out_time_us=679240000\n",
      "out_time_ms=679240000\n",
      "out_time=00:11:19.240000\n",
      "dup_frames=0\n",
      "drop_frames=0\n",
      "speed=2.25x\n",
      "progress=continue\n",
      "frame=17035\n",
      "fps=56.30\n",
      "stream_0_0_q=-0.0\n",
      "bitrate=N/A\n",
      "total_size=N/A\n",
      "out_time_us=680120000\n",
      "out_time_ms=680120000\n",
      "out_time=00:11:20.120000\n",
      "dup_frames=0\n",
      "drop_frames=0\n",
      "speed=2.25x\n",
      "progress=continue\n"
     ]
    },
    {
     "name": "stderr",
     "output_type": "stream",
     "text": [
      "frame=17057 fps= 56 q=-0.0 size=N/A time=00:11:21.00 bitrate=N/A speed=2.25x    \r"
     ]
    },
    {
     "name": "stdout",
     "output_type": "stream",
     "text": [
      "frame=17057\n",
      "fps=56.28\n",
      "stream_0_0_q=-0.0\n",
      "bitrate=N/A\n",
      "total_size=N/A\n",
      "out_time_us=681000000\n",
      "out_time_ms=681000000\n",
      "out_time=00:11:21.000000\n",
      "dup_frames=0\n",
      "drop_frames=0\n",
      "speed=2.25x\n",
      "progress=continue\n",
      "frame=17079\n",
      "fps=56.26\n",
      "stream_0_0_q=-0.0\n",
      "bitrate=N/A\n",
      "total_size=N/A\n",
      "out_time_us=681880000\n",
      "out_time_ms=681880000\n",
      "out_time=00:11:21.880000\n",
      "dup_frames=0\n",
      "drop_frames=0\n",
      "speed=2.25x\n",
      "progress=continue\n"
     ]
    },
    {
     "name": "stderr",
     "output_type": "stream",
     "text": [
      "frame=17101 fps= 56 q=-0.0 size=N/A time=00:11:22.76 bitrate=N/A speed=2.25x    \r"
     ]
    },
    {
     "name": "stdout",
     "output_type": "stream",
     "text": [
      "frame=17101\n",
      "fps=56.24\n",
      "stream_0_0_q=-0.0\n",
      "bitrate=N/A\n",
      "total_size=N/A\n",
      "out_time_us=682760000\n",
      "out_time_ms=682760000\n",
      "out_time=00:11:22.760000\n",
      "dup_frames=0\n",
      "drop_frames=0\n",
      "speed=2.25x\n",
      "progress=continue\n",
      "frame=17124\n",
      "fps=56.22\n",
      "stream_0_0_q=-0.0\n",
      "bitrate=N/A\n",
      "total_size=N/A\n",
      "out_time_us=683680000\n",
      "out_time_ms=683680000\n",
      "out_time=00:11:23.680000\n",
      "dup_frames=0\n",
      "drop_frames=0\n",
      "speed=2.24x\n",
      "progress=continue\n"
     ]
    },
    {
     "name": "stderr",
     "output_type": "stream",
     "text": [
      "frame=17124 fps= 56 q=-0.0 size=N/A time=00:11:23.68 bitrate=N/A speed=2.24x    \r"
     ]
    },
    {
     "name": "stdout",
     "output_type": "stream",
     "text": [
      "frame=17150\n",
      "fps=56.21\n",
      "stream_0_0_q=-0.0\n",
      "bitrate=N/A\n",
      "total_size=N/A\n",
      "out_time_us=684720000\n",
      "out_time_ms=684720000\n",
      "out_time=00:11:24.720000\n",
      "dup_frames=0\n",
      "drop_frames=0\n",
      "speed=2.24x\n",
      "progress=continue\n"
     ]
    },
    {
     "name": "stderr",
     "output_type": "stream",
     "text": [
      "frame=17172 fps= 56 q=-0.0 size=N/A time=00:11:25.60 bitrate=N/A speed=2.24x    \r"
     ]
    },
    {
     "name": "stdout",
     "output_type": "stream",
     "text": [
      "frame=17172\n",
      "fps=56.19\n",
      "stream_0_0_q=-0.0\n",
      "bitrate=N/A\n",
      "total_size=N/A\n",
      "out_time_us=685600000\n",
      "out_time_ms=685600000\n",
      "out_time=00:11:25.600000\n",
      "dup_frames=0\n",
      "drop_frames=0\n",
      "speed=2.24x\n",
      "progress=continue\n"
     ]
    },
    {
     "name": "stderr",
     "output_type": "stream",
     "text": [
      "frame=17193 fps= 56 q=-0.0 size=N/A time=00:11:26.44 bitrate=N/A speed=2.24x    \r"
     ]
    },
    {
     "name": "stdout",
     "output_type": "stream",
     "text": [
      "frame=17193\n",
      "fps=56.16\n",
      "stream_0_0_q=-0.0\n",
      "bitrate=N/A\n",
      "total_size=N/A\n",
      "out_time_us=686440000\n",
      "out_time_ms=686440000\n",
      "out_time=00:11:26.440000\n",
      "dup_frames=0\n",
      "drop_frames=0\n",
      "speed=2.24x\n",
      "progress=continue\n"
     ]
    },
    {
     "name": "stderr",
     "output_type": "stream",
     "text": [
      "frame=17212 fps= 56 q=-0.0 size=N/A time=00:11:27.20 bitrate=N/A speed=2.24x    \r"
     ]
    },
    {
     "name": "stdout",
     "output_type": "stream",
     "text": [
      "frame=17212\n",
      "fps=56.13\n",
      "stream_0_0_q=-0.0\n",
      "bitrate=N/A\n",
      "total_size=N/A\n",
      "out_time_us=687200000\n",
      "out_time_ms=687200000\n",
      "out_time=00:11:27.200000\n",
      "dup_frames=0\n",
      "drop_frames=0\n",
      "speed=2.24x\n",
      "progress=continue\n"
     ]
    },
    {
     "name": "stderr",
     "output_type": "stream",
     "text": [
      "frame=17233 fps= 56 q=-0.0 size=N/A time=00:11:28.04 bitrate=N/A speed=2.24x    \r"
     ]
    },
    {
     "name": "stdout",
     "output_type": "stream",
     "text": [
      "frame=17233\n",
      "fps=56.11\n",
      "stream_0_0_q=-0.0\n",
      "bitrate=N/A\n",
      "total_size=N/A\n",
      "out_time_us=688040000\n",
      "out_time_ms=688040000\n",
      "out_time=00:11:28.040000\n",
      "dup_frames=0\n",
      "drop_frames=0\n",
      "speed=2.24x\n",
      "progress=continue\n"
     ]
    },
    {
     "name": "stderr",
     "output_type": "stream",
     "text": [
      "frame=17252 fps= 56 q=-0.0 size=N/A time=00:11:28.80 bitrate=N/A speed=2.24x    \r"
     ]
    },
    {
     "name": "stdout",
     "output_type": "stream",
     "text": [
      "frame=17252\n",
      "fps=56.07\n",
      "stream_0_0_q=-0.0\n",
      "bitrate=N/A\n",
      "total_size=N/A\n",
      "out_time_us=688800000\n",
      "out_time_ms=688800000\n",
      "out_time=00:11:28.800000\n",
      "dup_frames=0\n",
      "drop_frames=0\n",
      "speed=2.24x\n",
      "progress=continue\n"
     ]
    },
    {
     "name": "stderr",
     "output_type": "stream",
     "text": [
      "frame=17272 fps= 56 q=-0.0 size=N/A time=00:11:29.60 bitrate=N/A speed=2.24x    \r"
     ]
    },
    {
     "name": "stdout",
     "output_type": "stream",
     "text": [
      "frame=17272\n",
      "fps=56.04\n",
      "stream_0_0_q=-0.0\n",
      "bitrate=N/A\n",
      "total_size=N/A\n",
      "out_time_us=689600000\n",
      "out_time_ms=689600000\n",
      "out_time=00:11:29.600000\n",
      "dup_frames=0\n",
      "drop_frames=0\n",
      "speed=2.24x\n",
      "progress=continue\n"
     ]
    },
    {
     "name": "stderr",
     "output_type": "stream",
     "text": [
      "frame=17290 fps= 56 q=-0.0 size=N/A time=00:11:30.32 bitrate=N/A speed=2.24x    \r"
     ]
    },
    {
     "name": "stdout",
     "output_type": "stream",
     "text": [
      "frame=17290\n",
      "fps=56.01\n",
      "stream_0_0_q=-0.0\n",
      "bitrate=N/A\n",
      "total_size=N/A\n",
      "out_time_us=690320000\n",
      "out_time_ms=690320000\n",
      "out_time=00:11:30.320000\n",
      "dup_frames=0\n",
      "drop_frames=0\n",
      "speed=2.24x\n",
      "progress=continue\n"
     ]
    },
    {
     "name": "stderr",
     "output_type": "stream",
     "text": [
      "frame=17312 fps= 56 q=-0.0 size=N/A time=00:11:31.20 bitrate=N/A speed=2.24x    \r"
     ]
    },
    {
     "name": "stdout",
     "output_type": "stream",
     "text": [
      "frame=17312\n",
      "fps=55.98\n",
      "stream_0_0_q=-0.0\n",
      "bitrate=N/A\n",
      "total_size=N/A\n",
      "out_time_us=691200000\n",
      "out_time_ms=691200000\n",
      "out_time=00:11:31.200000\n",
      "dup_frames=0\n",
      "drop_frames=0\n",
      "speed=2.24x\n",
      "progress=continue\n"
     ]
    },
    {
     "name": "stderr",
     "output_type": "stream",
     "text": [
      "frame=17336 fps= 56 q=-0.0 size=N/A time=00:11:32.16 bitrate=N/A speed=2.23x    \r"
     ]
    },
    {
     "name": "stdout",
     "output_type": "stream",
     "text": [
      "frame=17336\n",
      "fps=55.97\n",
      "stream_0_0_q=-0.0\n",
      "bitrate=N/A\n",
      "total_size=N/A\n",
      "out_time_us=692160000\n",
      "out_time_ms=692160000\n",
      "out_time=00:11:32.160000\n",
      "dup_frames=0\n",
      "drop_frames=0\n",
      "speed=2.23x\n",
      "progress=continue\n",
      "frame=17366\n",
      "fps=55.97\n",
      "stream_0_0_q=-0.0\n",
      "bitrate=N/A\n",
      "total_size=N/A\n",
      "out_time_us=693360000\n",
      "out_time_ms=693360000\n",
      "out_time=00:11:33.360000\n",
      "dup_frames=0\n",
      "drop_frames=0\n",
      "speed=2.23x\n",
      "progress=continue\n"
     ]
    },
    {
     "name": "stderr",
     "output_type": "stream",
     "text": [
      "frame=17389 fps= 56 q=-0.0 size=N/A time=00:11:34.28 bitrate=N/A speed=2.23x    \r"
     ]
    },
    {
     "name": "stdout",
     "output_type": "stream",
     "text": [
      "frame=17389\n",
      "fps=55.96\n",
      "stream_0_0_q=-0.0\n",
      "bitrate=N/A\n",
      "total_size=N/A\n",
      "out_time_us=694280000\n",
      "out_time_ms=694280000\n",
      "out_time=00:11:34.280000\n",
      "dup_frames=0\n",
      "drop_frames=0\n",
      "speed=2.23x\n",
      "progress=continue\n",
      "frame=17412\n",
      "fps=55.94\n",
      "stream_0_0_q=-0.0\n",
      "bitrate=N/A\n",
      "total_size=N/A\n",
      "out_time_us=695200000\n",
      "out_time_ms=695200000\n",
      "out_time=00:11:35.200000\n",
      "dup_frames=0\n",
      "drop_frames=0\n",
      "speed=2.23x\n",
      "progress=continue\n"
     ]
    },
    {
     "name": "stderr",
     "output_type": "stream",
     "text": [
      "frame=17421 fps= 56 q=-0.0 size=N/A time=00:11:35.56 bitrate=N/A speed=2.23x    \r"
     ]
    },
    {
     "name": "stdout",
     "output_type": "stream",
     "text": [
      "frame=17421\n",
      "fps=55.86\n",
      "stream_0_0_q=-0.0\n",
      "bitrate=N/A\n",
      "total_size=N/A\n",
      "out_time_us=695560000\n",
      "out_time_ms=695560000\n",
      "out_time=00:11:35.560000\n",
      "dup_frames=0\n",
      "drop_frames=0\n",
      "speed=2.23x\n",
      "progress=continue\n"
     ]
    },
    {
     "name": "stderr",
     "output_type": "stream",
     "text": [
      "frame=17440 fps= 56 q=-0.0 size=N/A time=00:11:36.32 bitrate=N/A speed=2.23x    \r"
     ]
    },
    {
     "name": "stdout",
     "output_type": "stream",
     "text": [
      "frame=17440\n",
      "fps=55.83\n",
      "stream_0_0_q=-0.0\n",
      "bitrate=N/A\n",
      "total_size=N/A\n",
      "out_time_us=696320000\n",
      "out_time_ms=696320000\n",
      "out_time=00:11:36.320000\n",
      "dup_frames=0\n",
      "drop_frames=0\n",
      "speed=2.23x\n",
      "progress=continue\n"
     ]
    },
    {
     "name": "stderr",
     "output_type": "stream",
     "text": [
      "frame=17492 fps= 56 q=-0.0 size=N/A time=00:11:38.40 bitrate=N/A speed=2.23x    \r"
     ]
    },
    {
     "name": "stdout",
     "output_type": "stream",
     "text": [
      "frame=17492\n",
      "fps=55.90\n",
      "stream_0_0_q=-0.0\n",
      "bitrate=N/A\n",
      "total_size=N/A\n",
      "out_time_us=698400000\n",
      "out_time_ms=698400000\n",
      "out_time=00:11:38.400000\n",
      "dup_frames=0\n",
      "drop_frames=0\n",
      "speed=2.23x\n",
      "progress=continue\n"
     ]
    },
    {
     "name": "stderr",
     "output_type": "stream",
     "text": [
      "frame=17516 fps= 56 q=-0.0 size=N/A time=00:11:39.36 bitrate=N/A speed=2.23x    \r"
     ]
    },
    {
     "name": "stdout",
     "output_type": "stream",
     "text": [
      "frame=17516\n",
      "fps=55.89\n",
      "stream_0_0_q=-0.0\n",
      "bitrate=N/A\n",
      "total_size=N/A\n",
      "out_time_us=699360000\n",
      "out_time_ms=699360000\n",
      "out_time=00:11:39.360000\n",
      "dup_frames=0\n",
      "drop_frames=0\n",
      "speed=2.23x\n",
      "progress=continue\n"
     ]
    },
    {
     "name": "stderr",
     "output_type": "stream",
     "text": [
      "frame=17535 fps= 56 q=-0.0 size=N/A time=00:11:40.12 bitrate=N/A speed=2.23x    \r"
     ]
    },
    {
     "name": "stdout",
     "output_type": "stream",
     "text": [
      "frame=17535\n",
      "fps=55.86\n",
      "stream_0_0_q=-0.0\n",
      "bitrate=N/A\n",
      "total_size=N/A\n",
      "out_time_us=700120000\n",
      "out_time_ms=700120000\n",
      "out_time=00:11:40.120000\n",
      "dup_frames=0\n",
      "drop_frames=0\n",
      "speed=2.23x\n",
      "progress=continue\n"
     ]
    },
    {
     "name": "stderr",
     "output_type": "stream",
     "text": [
      "frame=17554 fps= 56 q=-0.0 size=N/A time=00:11:40.88 bitrate=N/A speed=2.23x    \r"
     ]
    },
    {
     "name": "stdout",
     "output_type": "stream",
     "text": [
      "frame=17554\n",
      "fps=55.83\n",
      "stream_0_0_q=-0.0\n",
      "bitrate=N/A\n",
      "total_size=N/A\n",
      "out_time_us=700880000\n",
      "out_time_ms=700880000\n",
      "out_time=00:11:40.880000\n",
      "dup_frames=0\n",
      "drop_frames=0\n",
      "speed=2.23x\n",
      "progress=continue\n"
     ]
    },
    {
     "name": "stderr",
     "output_type": "stream",
     "text": [
      "frame=17574 fps= 56 q=-0.0 size=N/A time=00:11:41.68 bitrate=N/A speed=2.23x    \r"
     ]
    },
    {
     "name": "stdout",
     "output_type": "stream",
     "text": [
      "frame=17574\n",
      "fps=55.80\n",
      "stream_0_0_q=-0.0\n",
      "bitrate=N/A\n",
      "total_size=N/A\n",
      "out_time_us=701680000\n",
      "out_time_ms=701680000\n",
      "out_time=00:11:41.680000\n",
      "dup_frames=0\n",
      "drop_frames=0\n",
      "speed=2.23x\n",
      "progress=continue\n"
     ]
    },
    {
     "name": "stderr",
     "output_type": "stream",
     "text": [
      "frame=17593 fps= 56 q=-0.0 size=N/A time=00:11:42.44 bitrate=N/A speed=2.23x    \r"
     ]
    },
    {
     "name": "stdout",
     "output_type": "stream",
     "text": [
      "frame=17593\n",
      "fps=55.77\n",
      "stream_0_0_q=-0.0\n",
      "bitrate=N/A\n",
      "total_size=N/A\n",
      "out_time_us=702440000\n",
      "out_time_ms=702440000\n",
      "out_time=00:11:42.440000\n",
      "dup_frames=0\n",
      "drop_frames=0\n",
      "speed=2.23x\n",
      "progress=continue\n"
     ]
    },
    {
     "name": "stderr",
     "output_type": "stream",
     "text": [
      "frame=17612 fps= 56 q=-0.0 size=N/A time=00:11:43.20 bitrate=N/A speed=2.23x    \r"
     ]
    },
    {
     "name": "stdout",
     "output_type": "stream",
     "text": [
      "frame=17612\n",
      "fps=55.74\n",
      "stream_0_0_q=-0.0\n",
      "bitrate=N/A\n",
      "total_size=N/A\n",
      "out_time_us=703200000\n",
      "out_time_ms=703200000\n",
      "out_time=00:11:43.200000\n",
      "dup_frames=0\n",
      "drop_frames=0\n",
      "speed=2.23x\n",
      "progress=continue\n"
     ]
    },
    {
     "name": "stderr",
     "output_type": "stream",
     "text": [
      "frame=17630 fps= 56 q=-0.0 size=N/A time=00:11:43.92 bitrate=N/A speed=2.22x    \r"
     ]
    },
    {
     "name": "stdout",
     "output_type": "stream",
     "text": [
      "frame=17630\n",
      "fps=55.70\n",
      "stream_0_0_q=-0.0\n",
      "bitrate=N/A\n",
      "total_size=N/A\n",
      "out_time_us=703920000\n",
      "out_time_ms=703920000\n",
      "out_time=00:11:43.920000\n",
      "dup_frames=0\n",
      "drop_frames=0\n",
      "speed=2.22x\n",
      "progress=continue\n",
      "frame=17650\n",
      "fps=55.68\n",
      "stream_0_0_q=-0.0\n",
      "bitrate=N/A\n",
      "total_size=N/A\n",
      "out_time_us=704720000\n",
      "out_time_ms=704720000\n",
      "out_time=00:11:44.720000\n",
      "dup_frames=0\n",
      "drop_frames=0\n",
      "speed=2.22x\n",
      "progress=continue\n"
     ]
    },
    {
     "name": "stderr",
     "output_type": "stream",
     "text": [
      "frame=17670 fps= 56 q=-0.0 size=N/A time=00:11:45.52 bitrate=N/A speed=2.22x    \r"
     ]
    },
    {
     "name": "stdout",
     "output_type": "stream",
     "text": [
      "frame=17670\n",
      "fps=55.65\n",
      "stream_0_0_q=-0.0\n",
      "bitrate=N/A\n",
      "total_size=N/A\n",
      "out_time_us=705520000\n",
      "out_time_ms=705520000\n",
      "out_time=00:11:45.520000\n",
      "dup_frames=0\n",
      "drop_frames=0\n",
      "speed=2.22x\n",
      "progress=continue\n",
      "frame=17690\n",
      "fps=55.63\n",
      "stream_0_0_q=-0.0\n",
      "bitrate=N/A\n",
      "total_size=N/A\n",
      "out_time_us=706320000\n",
      "out_time_ms=706320000\n",
      "out_time=00:11:46.320000\n",
      "dup_frames=0\n",
      "drop_frames=0\n",
      "speed=2.22x\n",
      "progress=continue\n"
     ]
    },
    {
     "name": "stderr",
     "output_type": "stream",
     "text": [
      "frame=17709 fps= 56 q=-0.0 size=N/A time=00:11:47.08 bitrate=N/A speed=2.22x    \r"
     ]
    },
    {
     "name": "stdout",
     "output_type": "stream",
     "text": [
      "frame=17709\n",
      "fps=55.59\n",
      "stream_0_0_q=-0.0\n",
      "bitrate=N/A\n",
      "total_size=N/A\n",
      "out_time_us=707080000\n",
      "out_time_ms=707080000\n",
      "out_time=00:11:47.080000\n",
      "dup_frames=0\n",
      "drop_frames=0\n",
      "speed=2.22x\n",
      "progress=continue\n"
     ]
    },
    {
     "name": "stderr",
     "output_type": "stream",
     "text": [
      "frame=17732 fps= 56 q=-0.0 size=N/A time=00:11:48.00 bitrate=N/A speed=2.22x    \r"
     ]
    },
    {
     "name": "stdout",
     "output_type": "stream",
     "text": [
      "frame=17732\n",
      "fps=55.58\n",
      "stream_0_0_q=-0.0\n",
      "bitrate=N/A\n",
      "total_size=N/A\n",
      "out_time_us=708000000\n",
      "out_time_ms=708000000\n",
      "out_time=00:11:48.000000\n",
      "dup_frames=0\n",
      "drop_frames=0\n",
      "speed=2.22x\n",
      "progress=continue\n"
     ]
    },
    {
     "name": "stderr",
     "output_type": "stream",
     "text": [
      "frame=17761 fps= 56 q=-0.0 size=N/A time=00:11:49.16 bitrate=N/A speed=2.22x    \r"
     ]
    },
    {
     "name": "stdout",
     "output_type": "stream",
     "text": [
      "frame=17761\n",
      "fps=55.58\n",
      "stream_0_0_q=-0.0\n",
      "bitrate=N/A\n",
      "total_size=N/A\n",
      "out_time_us=709160000\n",
      "out_time_ms=709160000\n",
      "out_time=00:11:49.160000\n",
      "dup_frames=0\n",
      "drop_frames=0\n",
      "speed=2.22x\n",
      "progress=continue\n"
     ]
    },
    {
     "name": "stderr",
     "output_type": "stream",
     "text": [
      "frame=17784 fps= 56 q=-0.0 size=N/A time=00:11:50.08 bitrate=N/A speed=2.22x    \r"
     ]
    },
    {
     "name": "stdout",
     "output_type": "stream",
     "text": [
      "frame=17784\n",
      "fps=55.56\n",
      "stream_0_0_q=-0.0\n",
      "bitrate=N/A\n",
      "total_size=N/A\n",
      "out_time_us=710080000\n",
      "out_time_ms=710080000\n",
      "out_time=00:11:50.080000\n",
      "dup_frames=0\n",
      "drop_frames=0\n",
      "speed=2.22x\n",
      "progress=continue\n"
     ]
    },
    {
     "name": "stderr",
     "output_type": "stream",
     "text": [
      "frame=17807 fps= 56 q=-0.0 size=N/A time=00:11:51.00 bitrate=N/A speed=2.22x    \r"
     ]
    },
    {
     "name": "stdout",
     "output_type": "stream",
     "text": [
      "frame=17807\n",
      "fps=55.54\n",
      "stream_0_0_q=-0.0\n",
      "bitrate=N/A\n",
      "total_size=N/A\n",
      "out_time_us=711000000\n",
      "out_time_ms=711000000\n",
      "out_time=00:11:51.000000\n",
      "dup_frames=0\n",
      "drop_frames=0\n",
      "speed=2.22x\n",
      "progress=continue\n"
     ]
    },
    {
     "name": "stderr",
     "output_type": "stream",
     "text": [
      "frame=17831 fps= 56 q=-0.0 size=N/A time=00:11:51.96 bitrate=N/A speed=2.22x    \r"
     ]
    },
    {
     "name": "stdout",
     "output_type": "stream",
     "text": [
      "frame=17831\n",
      "fps=55.53\n",
      "stream_0_0_q=-0.0\n",
      "bitrate=N/A\n",
      "total_size=N/A\n",
      "out_time_us=711960000\n",
      "out_time_ms=711960000\n",
      "out_time=00:11:51.960000\n",
      "dup_frames=0\n",
      "drop_frames=0\n",
      "speed=2.22x\n",
      "progress=continue\n",
      "frame=17850\n",
      "fps=55.50\n",
      "stream_0_0_q=-0.0\n",
      "bitrate=N/A\n",
      "total_size=N/A\n",
      "out_time_us=712720000\n",
      "out_time_ms=712720000\n",
      "out_time=00:11:52.720000\n",
      "dup_frames=0\n",
      "drop_frames=0\n",
      "speed=2.22x\n",
      "progress=continue\n"
     ]
    },
    {
     "name": "stderr",
     "output_type": "stream",
     "text": [
      "frame=17850 fps= 55 q=-0.0 size=N/A time=00:11:52.72 bitrate=N/A speed=2.22x    \r"
     ]
    },
    {
     "name": "stdout",
     "output_type": "stream",
     "text": [
      "frame=17870\n",
      "fps=55.47\n",
      "stream_0_0_q=-0.0\n",
      "bitrate=N/A\n",
      "total_size=N/A\n",
      "out_time_us=713520000\n",
      "out_time_ms=713520000\n",
      "out_time=00:11:53.520000\n",
      "dup_frames=0\n",
      "drop_frames=0\n",
      "speed=2.21x\n",
      "progress=continue\n"
     ]
    },
    {
     "name": "stderr",
     "output_type": "stream",
     "text": [
      "frame=17889 fps= 55 q=-0.0 size=N/A time=00:11:54.28 bitrate=N/A speed=2.21x    \r"
     ]
    },
    {
     "name": "stdout",
     "output_type": "stream",
     "text": [
      "frame=17889\n",
      "fps=55.44\n",
      "stream_0_0_q=-0.0\n",
      "bitrate=N/A\n",
      "total_size=N/A\n",
      "out_time_us=714280000\n",
      "out_time_ms=714280000\n",
      "out_time=00:11:54.280000\n",
      "dup_frames=0\n",
      "drop_frames=0\n",
      "speed=2.21x\n",
      "progress=continue\n"
     ]
    },
    {
     "name": "stderr",
     "output_type": "stream",
     "text": [
      "frame=17908 fps= 55 q=-0.0 size=N/A time=00:11:55.04 bitrate=N/A speed=2.21x    \r"
     ]
    },
    {
     "name": "stdout",
     "output_type": "stream",
     "text": [
      "frame=17908\n",
      "fps=55.41\n",
      "stream_0_0_q=-0.0\n",
      "bitrate=N/A\n",
      "total_size=N/A\n",
      "out_time_us=715040000\n",
      "out_time_ms=715040000\n",
      "out_time=00:11:55.040000\n",
      "dup_frames=0\n",
      "drop_frames=0\n",
      "speed=2.21x\n",
      "progress=continue\n",
      "frame=17927\n",
      "fps=55.38\n",
      "stream_0_0_q=-0.0\n",
      "bitrate=N/A\n",
      "total_size=N/A\n",
      "out_time_us=715800000\n",
      "out_time_ms=715800000\n",
      "out_time=00:11:55.800000\n",
      "dup_frames=0\n",
      "drop_frames=0\n",
      "speed=2.21x\n",
      "progress=continue\n"
     ]
    },
    {
     "name": "stderr",
     "output_type": "stream",
     "text": [
      "frame=17948 fps= 55 q=-0.0 size=N/A time=00:11:56.64 bitrate=N/A speed=2.21x    \r"
     ]
    },
    {
     "name": "stdout",
     "output_type": "stream",
     "text": [
      "frame=17948\n",
      "fps=55.36\n",
      "stream_0_0_q=-0.0\n",
      "bitrate=N/A\n",
      "total_size=N/A\n",
      "out_time_us=716640000\n",
      "out_time_ms=716640000\n",
      "out_time=00:11:56.640000\n",
      "dup_frames=0\n",
      "drop_frames=0\n",
      "speed=2.21x\n",
      "progress=continue\n",
      "frame=17974\n",
      "fps=55.35\n",
      "stream_0_0_q=-0.0\n",
      "bitrate=N/A\n",
      "total_size=N/A\n",
      "out_time_us=717680000\n",
      "out_time_ms=717680000\n",
      "out_time=00:11:57.680000\n",
      "dup_frames=0\n",
      "drop_frames=0\n",
      "speed=2.21x\n",
      "progress=continue\n"
     ]
    },
    {
     "name": "stderr",
     "output_type": "stream",
     "text": [
      "frame=17974 fps= 55 q=-0.0 size=N/A time=00:11:57.68 bitrate=N/A speed=2.21x    \r"
     ]
    },
    {
     "name": "stdout",
     "output_type": "stream",
     "text": [
      "frame=17997\n",
      "fps=55.34\n",
      "stream_0_0_q=-0.0\n",
      "bitrate=N/A\n",
      "total_size=N/A\n",
      "out_time_us=718600000\n",
      "out_time_ms=718600000\n",
      "out_time=00:11:58.600000\n",
      "dup_frames=0\n",
      "drop_frames=0\n",
      "speed=2.21x\n",
      "progress=continue\n"
     ]
    },
    {
     "name": "stderr",
     "output_type": "stream",
     "text": [
      "frame=17997 fps= 55 q=-0.0 size=N/A time=00:11:58.60 bitrate=N/A speed=2.21x    \r"
     ]
    },
    {
     "name": "stdout",
     "output_type": "stream",
     "text": [
      "frame=18009\n",
      "fps=55.29\n",
      "stream_0_0_q=-0.0\n",
      "bitrate=N/A\n",
      "total_size=N/A\n",
      "out_time_us=719080000\n",
      "out_time_ms=719080000\n",
      "out_time=00:11:59.080000\n",
      "dup_frames=0\n",
      "drop_frames=0\n",
      "speed=2.21x\n",
      "progress=continue\n"
     ]
    },
    {
     "name": "stderr",
     "output_type": "stream",
     "text": [
      "frame=18046 fps= 55 q=-0.0 size=N/A time=00:12:00.56 bitrate=N/A speed=2.21x    \r"
     ]
    },
    {
     "name": "stdout",
     "output_type": "stream",
     "text": [
      "frame=18046\n",
      "fps=55.31\n",
      "stream_0_0_q=-0.0\n",
      "bitrate=N/A\n",
      "total_size=N/A\n",
      "out_time_us=720560000\n",
      "out_time_ms=720560000\n",
      "out_time=00:12:00.560000\n",
      "dup_frames=0\n",
      "drop_frames=0\n",
      "speed=2.21x\n",
      "progress=continue\n",
      "frame=18065\n",
      "fps=55.28\n",
      "stream_0_0_q=-0.0\n",
      "bitrate=N/A\n",
      "total_size=N/A\n",
      "out_time_us=721320000\n",
      "out_time_ms=721320000\n",
      "out_time=00:12:01.320000\n",
      "dup_frames=0\n",
      "drop_frames=0\n",
      "speed=2.21x\n",
      "progress=continue\n"
     ]
    },
    {
     "name": "stderr",
     "output_type": "stream",
     "text": [
      "frame=18065 fps= 55 q=-0.0 size=N/A time=00:12:01.32 bitrate=N/A speed=2.21x    \r"
     ]
    },
    {
     "name": "stdout",
     "output_type": "stream",
     "text": [
      "frame=18085\n",
      "fps=55.25\n",
      "stream_0_0_q=-0.0\n",
      "bitrate=N/A\n",
      "total_size=N/A\n",
      "out_time_us=722120000\n",
      "out_time_ms=722120000\n",
      "out_time=00:12:02.120000\n",
      "dup_frames=0\n",
      "drop_frames=0\n",
      "speed=2.21x\n",
      "progress=continue\n"
     ]
    },
    {
     "name": "stderr",
     "output_type": "stream",
     "text": [
      "frame=18085 fps= 55 q=-0.0 size=N/A time=00:12:02.12 bitrate=N/A speed=2.21x    \r"
     ]
    },
    {
     "name": "stdout",
     "output_type": "stream",
     "text": [
      "frame=18104\n",
      "fps=55.23\n",
      "stream_0_0_q=-0.0\n",
      "bitrate=N/A\n",
      "total_size=N/A\n",
      "out_time_us=722880000\n",
      "out_time_ms=722880000\n",
      "out_time=00:12:02.880000\n",
      "dup_frames=0\n",
      "drop_frames=0\n",
      "speed=2.21x\n",
      "progress=continue\n"
     ]
    },
    {
     "name": "stderr",
     "output_type": "stream",
     "text": [
      "frame=18104 fps= 55 q=-0.0 size=N/A time=00:12:02.88 bitrate=N/A speed=2.21x    \r"
     ]
    },
    {
     "name": "stdout",
     "output_type": "stream",
     "text": [
      "frame=18125\n",
      "fps=55.21\n",
      "stream_0_0_q=-0.0\n",
      "bitrate=N/A\n",
      "total_size=N/A\n",
      "out_time_us=723720000\n",
      "out_time_ms=723720000\n",
      "out_time=00:12:03.720000\n",
      "dup_frames=0\n",
      "drop_frames=0\n",
      "speed= 2.2x\n",
      "progress=continue\n"
     ]
    },
    {
     "name": "stderr",
     "output_type": "stream",
     "text": [
      "frame=18150 fps= 55 q=-0.0 size=N/A time=00:12:04.72 bitrate=N/A speed= 2.2x    \r"
     ]
    },
    {
     "name": "stdout",
     "output_type": "stream",
     "text": [
      "frame=18150\n",
      "fps=55.20\n",
      "stream_0_0_q=-0.0\n",
      "bitrate=N/A\n",
      "total_size=N/A\n",
      "out_time_us=724720000\n",
      "out_time_ms=724720000\n",
      "out_time=00:12:04.720000\n",
      "dup_frames=0\n",
      "drop_frames=0\n",
      "speed= 2.2x\n",
      "progress=continue\n"
     ]
    },
    {
     "name": "stderr",
     "output_type": "stream",
     "text": [
      "frame=18170 fps= 55 q=-0.0 size=N/A time=00:12:05.52 bitrate=N/A speed= 2.2x    \r"
     ]
    },
    {
     "name": "stdout",
     "output_type": "stream",
     "text": [
      "frame=18170\n",
      "fps=55.17\n",
      "stream_0_0_q=-0.0\n",
      "bitrate=N/A\n",
      "total_size=N/A\n",
      "out_time_us=725520000\n",
      "out_time_ms=725520000\n",
      "out_time=00:12:05.520000\n",
      "dup_frames=0\n",
      "drop_frames=0\n",
      "speed= 2.2x\n",
      "progress=continue\n"
     ]
    },
    {
     "name": "stderr",
     "output_type": "stream",
     "text": [
      "frame=18193 fps= 55 q=-0.0 size=N/A time=00:12:06.44 bitrate=N/A speed= 2.2x    \r"
     ]
    },
    {
     "name": "stdout",
     "output_type": "stream",
     "text": [
      "frame=18193\n",
      "fps=55.16\n",
      "stream_0_0_q=-0.0\n",
      "bitrate=N/A\n",
      "total_size=N/A\n",
      "out_time_us=726440000\n",
      "out_time_ms=726440000\n",
      "out_time=00:12:06.440000\n",
      "dup_frames=0\n",
      "drop_frames=0\n",
      "speed= 2.2x\n",
      "progress=continue\n",
      "frame=18217\n",
      "fps=55.15\n",
      "stream_0_0_q=-0.0\n",
      "bitrate=N/A\n",
      "total_size=N/A\n",
      "out_time_us=727400000\n",
      "out_time_ms=727400000\n",
      "out_time=00:12:07.400000\n",
      "dup_frames=0\n",
      "drop_frames=0\n",
      "speed= 2.2x\n",
      "progress=continue\n"
     ]
    },
    {
     "name": "stderr",
     "output_type": "stream",
     "text": [
      "frame=18239 fps= 55 q=-0.0 size=N/A time=00:12:08.28 bitrate=N/A speed= 2.2x    \r"
     ]
    },
    {
     "name": "stdout",
     "output_type": "stream",
     "text": [
      "frame=18239\n",
      "fps=55.13\n",
      "stream_0_0_q=-0.0\n",
      "bitrate=N/A\n",
      "total_size=N/A\n",
      "out_time_us=728280000\n",
      "out_time_ms=728280000\n",
      "out_time=00:12:08.280000\n",
      "dup_frames=0\n",
      "drop_frames=0\n",
      "speed= 2.2x\n",
      "progress=continue\n"
     ]
    },
    {
     "name": "stderr",
     "output_type": "stream",
     "text": [
      "frame=18261 fps= 55 q=-0.0 size=N/A time=00:12:09.16 bitrate=N/A speed= 2.2x    \r"
     ]
    },
    {
     "name": "stdout",
     "output_type": "stream",
     "text": [
      "frame=18261\n",
      "fps=55.11\n",
      "stream_0_0_q=-0.0\n",
      "bitrate=N/A\n",
      "total_size=N/A\n",
      "out_time_us=729160000\n",
      "out_time_ms=729160000\n",
      "out_time=00:12:09.160000\n",
      "dup_frames=0\n",
      "drop_frames=0\n",
      "speed= 2.2x\n",
      "progress=continue\n"
     ]
    },
    {
     "name": "stderr",
     "output_type": "stream",
     "text": [
      "frame=18280 fps= 55 q=-0.0 size=N/A time=00:12:09.92 bitrate=N/A speed= 2.2x    \r"
     ]
    },
    {
     "name": "stdout",
     "output_type": "stream",
     "text": [
      "frame=18280\n",
      "fps=55.08\n",
      "stream_0_0_q=-0.0\n",
      "bitrate=N/A\n",
      "total_size=N/A\n",
      "out_time_us=729920000\n",
      "out_time_ms=729920000\n",
      "out_time=00:12:09.920000\n",
      "dup_frames=0\n",
      "drop_frames=0\n",
      "speed= 2.2x\n",
      "progress=continue\n",
      "frame=18300\n",
      "fps=55.06\n",
      "stream_0_0_q=-0.0\n",
      "bitrate=N/A\n",
      "total_size=N/A\n",
      "out_time_us=730720000\n",
      "out_time_ms=730720000\n",
      "out_time=00:12:10.720000\n",
      "dup_frames=0\n",
      "drop_frames=0\n",
      "speed= 2.2x\n",
      "progress=continue\n"
     ]
    },
    {
     "name": "stderr",
     "output_type": "stream",
     "text": [
      "frame=18300 fps= 55 q=-0.0 size=N/A time=00:12:10.72 bitrate=N/A speed= 2.2x    \r"
     ]
    },
    {
     "name": "stdout",
     "output_type": "stream",
     "text": [
      "frame=18320\n",
      "fps=55.03\n",
      "stream_0_0_q=-0.0\n",
      "bitrate=N/A\n",
      "total_size=N/A\n",
      "out_time_us=731520000\n",
      "out_time_ms=731520000\n",
      "out_time=00:12:11.520000\n",
      "dup_frames=0\n",
      "drop_frames=0\n",
      "speed= 2.2x\n",
      "progress=continue\n"
     ]
    },
    {
     "name": "stderr",
     "output_type": "stream",
     "text": [
      "frame=18342 fps= 55 q=-0.0 size=N/A time=00:12:12.40 bitrate=N/A speed= 2.2x    \r"
     ]
    },
    {
     "name": "stdout",
     "output_type": "stream",
     "text": [
      "frame=18342\n",
      "fps=55.01\n",
      "stream_0_0_q=-0.0\n",
      "bitrate=N/A\n",
      "total_size=N/A\n",
      "out_time_us=732400000\n",
      "out_time_ms=732400000\n",
      "out_time=00:12:12.400000\n",
      "dup_frames=0\n",
      "drop_frames=0\n",
      "speed= 2.2x\n",
      "progress=continue\n"
     ]
    },
    {
     "name": "stderr",
     "output_type": "stream",
     "text": [
      "frame=18367 fps= 55 q=-0.0 size=N/A time=00:12:13.40 bitrate=N/A speed= 2.2x    \r"
     ]
    },
    {
     "name": "stdout",
     "output_type": "stream",
     "text": [
      "frame=18367\n",
      "fps=55.00\n",
      "stream_0_0_q=-0.0\n",
      "bitrate=N/A\n",
      "total_size=N/A\n",
      "out_time_us=733400000\n",
      "out_time_ms=733400000\n",
      "out_time=00:12:13.400000\n",
      "dup_frames=0\n",
      "drop_frames=0\n",
      "speed= 2.2x\n",
      "progress=continue\n",
      "frame=18388\n",
      "fps=54.98\n",
      "stream_0_0_q=-0.0\n",
      "bitrate=N/A\n",
      "total_size=N/A\n",
      "out_time_us=734240000\n",
      "out_time_ms=734240000\n",
      "out_time=00:12:14.240000\n",
      "dup_frames=0\n",
      "drop_frames=0\n",
      "speed= 2.2x\n",
      "progress=continue\n"
     ]
    },
    {
     "name": "stderr",
     "output_type": "stream",
     "text": [
      "frame=18388 fps= 55 q=-0.0 size=N/A time=00:12:14.24 bitrate=N/A speed= 2.2x    \r"
     ]
    },
    {
     "name": "stdout",
     "output_type": "stream",
     "text": [
      "frame=18411\n",
      "fps=54.96\n",
      "stream_0_0_q=-0.0\n",
      "bitrate=N/A\n",
      "total_size=N/A\n",
      "out_time_us=735160000\n",
      "out_time_ms=735160000\n",
      "out_time=00:12:15.160000\n",
      "dup_frames=0\n",
      "drop_frames=0\n",
      "speed=2.19x\n",
      "progress=continue\n"
     ]
    },
    {
     "name": "stderr",
     "output_type": "stream",
     "text": [
      "frame=18434 fps= 55 q=-0.0 size=N/A time=00:12:16.08 bitrate=N/A speed=2.19x    \r"
     ]
    },
    {
     "name": "stdout",
     "output_type": "stream",
     "text": [
      "frame=18434\n",
      "fps=54.95\n",
      "stream_0_0_q=-0.0\n",
      "bitrate=N/A\n",
      "total_size=N/A\n",
      "out_time_us=736080000\n",
      "out_time_ms=736080000\n",
      "out_time=00:12:16.080000\n",
      "dup_frames=0\n",
      "drop_frames=0\n",
      "speed=2.19x\n",
      "progress=continue\n",
      "frame=18455\n",
      "fps=54.93\n",
      "stream_0_0_q=-0.0\n",
      "bitrate=N/A\n",
      "total_size=N/A\n",
      "out_time_us=736920000\n",
      "out_time_ms=736920000\n",
      "out_time=00:12:16.920000\n",
      "dup_frames=0\n",
      "drop_frames=0\n",
      "speed=2.19x\n",
      "progress=continue\n"
     ]
    },
    {
     "name": "stderr",
     "output_type": "stream",
     "text": [
      "frame=18455 fps= 55 q=-0.0 size=N/A time=00:12:16.92 bitrate=N/A speed=2.19x    \r"
     ]
    },
    {
     "name": "stdout",
     "output_type": "stream",
     "text": [
      "frame=18475\n",
      "fps=54.90\n",
      "stream_0_0_q=-0.0\n",
      "bitrate=N/A\n",
      "total_size=N/A\n",
      "out_time_us=737720000\n",
      "out_time_ms=737720000\n",
      "out_time=00:12:17.720000\n",
      "dup_frames=0\n",
      "drop_frames=0\n",
      "speed=2.19x\n",
      "progress=continue\n"
     ]
    },
    {
     "name": "stderr",
     "output_type": "stream",
     "text": [
      "frame=18494 fps= 55 q=-0.0 size=N/A time=00:12:18.48 bitrate=N/A speed=2.19x    \r"
     ]
    },
    {
     "name": "stdout",
     "output_type": "stream",
     "text": [
      "frame=18494\n",
      "fps=54.88\n",
      "stream_0_0_q=-0.0\n",
      "bitrate=N/A\n",
      "total_size=N/A\n",
      "out_time_us=738480000\n",
      "out_time_ms=738480000\n",
      "out_time=00:12:18.480000\n",
      "dup_frames=0\n",
      "drop_frames=0\n",
      "speed=2.19x\n",
      "progress=continue\n"
     ]
    },
    {
     "name": "stderr",
     "output_type": "stream",
     "text": [
      "frame=18513 fps= 55 q=-0.0 size=N/A time=00:12:19.24 bitrate=N/A speed=2.19x    \r"
     ]
    },
    {
     "name": "stdout",
     "output_type": "stream",
     "text": [
      "frame=18513\n",
      "fps=54.85\n",
      "stream_0_0_q=-0.0\n",
      "bitrate=N/A\n",
      "total_size=N/A\n",
      "out_time_us=739240000\n",
      "out_time_ms=739240000\n",
      "out_time=00:12:19.240000\n",
      "dup_frames=0\n",
      "drop_frames=0\n",
      "speed=2.19x\n",
      "progress=continue\n"
     ]
    },
    {
     "name": "stderr",
     "output_type": "stream",
     "text": [
      "frame=18532 fps= 55 q=-0.0 size=N/A time=00:12:20.00 bitrate=N/A speed=2.19x    \r"
     ]
    },
    {
     "name": "stdout",
     "output_type": "stream",
     "text": [
      "frame=18532\n",
      "fps=54.82\n",
      "stream_0_0_q=-0.0\n",
      "bitrate=N/A\n",
      "total_size=N/A\n",
      "out_time_us=740000000\n",
      "out_time_ms=740000000\n",
      "out_time=00:12:20.000000\n",
      "dup_frames=0\n",
      "drop_frames=0\n",
      "speed=2.19x\n",
      "progress=continue\n",
      "frame=18551\n",
      "fps=54.80\n",
      "stream_0_0_q=-0.0\n",
      "bitrate=N/A\n",
      "total_size=N/A\n",
      "out_time_us=740760000\n",
      "out_time_ms=740760000\n",
      "out_time=00:12:20.760000\n",
      "dup_frames=0\n",
      "drop_frames=0\n",
      "speed=2.19x\n",
      "progress=continue\n"
     ]
    },
    {
     "name": "stderr",
     "output_type": "stream",
     "text": [
      "frame=18571 fps= 55 q=-0.0 size=N/A time=00:12:21.56 bitrate=N/A speed=2.19x    \r"
     ]
    },
    {
     "name": "stdout",
     "output_type": "stream",
     "text": [
      "frame=18571\n",
      "fps=54.77\n",
      "stream_0_0_q=-0.0\n",
      "bitrate=N/A\n",
      "total_size=N/A\n",
      "out_time_us=741560000\n",
      "out_time_ms=741560000\n",
      "out_time=00:12:21.560000\n",
      "dup_frames=0\n",
      "drop_frames=0\n",
      "speed=2.19x\n",
      "progress=continue\n"
     ]
    },
    {
     "name": "stderr",
     "output_type": "stream",
     "text": [
      "frame=18596 fps= 55 q=-0.0 size=N/A time=00:12:22.56 bitrate=N/A speed=2.19x    \r"
     ]
    },
    {
     "name": "stdout",
     "output_type": "stream",
     "text": [
      "frame=18596\n",
      "fps=54.76\n",
      "stream_0_0_q=-0.0\n",
      "bitrate=N/A\n",
      "total_size=N/A\n",
      "out_time_us=742560000\n",
      "out_time_ms=742560000\n",
      "out_time=00:12:22.560000\n",
      "dup_frames=0\n",
      "drop_frames=0\n",
      "speed=2.19x\n",
      "progress=continue\n"
     ]
    },
    {
     "name": "stderr",
     "output_type": "stream",
     "text": [
      "frame=18620 fps= 55 q=-0.0 size=N/A time=00:12:23.52 bitrate=N/A speed=2.19x    \r"
     ]
    },
    {
     "name": "stdout",
     "output_type": "stream",
     "text": [
      "frame=18620\n",
      "fps=54.75\n",
      "stream_0_0_q=-0.0\n",
      "bitrate=N/A\n",
      "total_size=N/A\n",
      "out_time_us=743520000\n",
      "out_time_ms=743520000\n",
      "out_time=00:12:23.520000\n",
      "dup_frames=0\n",
      "drop_frames=0\n",
      "speed=2.19x\n",
      "progress=continue\n"
     ]
    },
    {
     "name": "stderr",
     "output_type": "stream",
     "text": [
      "frame=18643 fps= 55 q=-0.0 size=N/A time=00:12:24.44 bitrate=N/A speed=2.19x    \r"
     ]
    },
    {
     "name": "stdout",
     "output_type": "stream",
     "text": [
      "frame=18643\n",
      "fps=54.74\n",
      "stream_0_0_q=-0.0\n",
      "bitrate=N/A\n",
      "total_size=N/A\n",
      "out_time_us=744440000\n",
      "out_time_ms=744440000\n",
      "out_time=00:12:24.440000\n",
      "dup_frames=0\n",
      "drop_frames=0\n",
      "speed=2.19x\n",
      "progress=continue\n"
     ]
    },
    {
     "name": "stderr",
     "output_type": "stream",
     "text": [
      "frame=18667 fps= 55 q=-0.0 size=N/A time=00:12:25.40 bitrate=N/A speed=2.19x    \r"
     ]
    },
    {
     "name": "stdout",
     "output_type": "stream",
     "text": [
      "frame=18667\n",
      "fps=54.73\n",
      "stream_0_0_q=-0.0\n",
      "bitrate=N/A\n",
      "total_size=N/A\n",
      "out_time_us=745400000\n",
      "out_time_ms=745400000\n",
      "out_time=00:12:25.400000\n",
      "dup_frames=0\n",
      "drop_frames=0\n",
      "speed=2.19x\n",
      "progress=continue\n"
     ]
    },
    {
     "name": "stderr",
     "output_type": "stream",
     "text": [
      "frame=18681 fps= 55 q=-0.0 size=N/A time=00:12:25.96 bitrate=N/A speed=2.18x    \r"
     ]
    },
    {
     "name": "stdout",
     "output_type": "stream",
     "text": [
      "frame=18681\n",
      "fps=54.66\n",
      "stream_0_0_q=-0.0\n",
      "bitrate=N/A\n",
      "total_size=N/A\n",
      "out_time_us=745960000\n",
      "out_time_ms=745960000\n",
      "out_time=00:12:25.960000\n",
      "dup_frames=0\n",
      "drop_frames=0\n",
      "speed=2.18x\n",
      "progress=continue\n"
     ]
    },
    {
     "name": "stderr",
     "output_type": "stream",
     "text": [
      "frame=18718 fps= 55 q=-0.0 size=N/A time=00:12:27.44 bitrate=N/A speed=2.18x    \r"
     ]
    },
    {
     "name": "stdout",
     "output_type": "stream",
     "text": [
      "frame=18718\n",
      "fps=54.68\n",
      "stream_0_0_q=-0.0\n",
      "bitrate=N/A\n",
      "total_size=N/A\n",
      "out_time_us=747440000\n",
      "out_time_ms=747440000\n",
      "out_time=00:12:27.440000\n",
      "dup_frames=0\n",
      "drop_frames=0\n",
      "speed=2.18x\n",
      "progress=continue\n",
      "frame=18737\n",
      "fps=54.66\n",
      "stream_0_0_q=-0.0\n",
      "bitrate=N/A\n",
      "total_size=N/A\n",
      "out_time_us=748200000\n",
      "out_time_ms=748200000\n",
      "out_time=00:12:28.200000\n",
      "dup_frames=0\n",
      "drop_frames=0\n",
      "speed=2.18x\n",
      "progress=continue\n"
     ]
    },
    {
     "name": "stderr",
     "output_type": "stream",
     "text": [
      "frame=18757 fps= 55 q=-0.0 size=N/A time=00:12:29.00 bitrate=N/A speed=2.18x    \r"
     ]
    },
    {
     "name": "stdout",
     "output_type": "stream",
     "text": [
      "frame=18757\n",
      "fps=54.63\n",
      "stream_0_0_q=-0.0\n",
      "bitrate=N/A\n",
      "total_size=N/A\n",
      "out_time_us=749000000\n",
      "out_time_ms=749000000\n",
      "out_time=00:12:29.000000\n",
      "dup_frames=0\n",
      "drop_frames=0\n",
      "speed=2.18x\n",
      "progress=continue\n",
      "frame=18777\n",
      "fps=54.61\n",
      "stream_0_0_q=-0.0\n",
      "bitrate=N/A\n",
      "total_size=N/A\n",
      "out_time_us=749800000\n",
      "out_time_ms=749800000\n",
      "out_time=00:12:29.800000\n",
      "dup_frames=0\n",
      "drop_frames=0\n",
      "speed=2.18x\n",
      "progress=continue\n"
     ]
    },
    {
     "name": "stderr",
     "output_type": "stream",
     "text": [
      "frame=18799 fps= 55 q=-0.0 size=N/A time=00:12:30.68 bitrate=N/A speed=2.18x    \r"
     ]
    },
    {
     "name": "stdout",
     "output_type": "stream",
     "text": [
      "frame=18799\n",
      "fps=54.59\n",
      "stream_0_0_q=-0.0\n",
      "bitrate=N/A\n",
      "total_size=N/A\n",
      "out_time_us=750680000\n",
      "out_time_ms=750680000\n",
      "out_time=00:12:30.680000\n",
      "dup_frames=0\n",
      "drop_frames=0\n",
      "speed=2.18x\n",
      "progress=continue\n"
     ]
    },
    {
     "name": "stderr",
     "output_type": "stream",
     "text": [
      "frame=18822 fps= 55 q=-0.0 size=N/A time=00:12:31.60 bitrate=N/A speed=2.18x    \r"
     ]
    },
    {
     "name": "stdout",
     "output_type": "stream",
     "text": [
      "frame=18822\n",
      "fps=54.58\n",
      "stream_0_0_q=-0.0\n",
      "bitrate=N/A\n",
      "total_size=N/A\n",
      "out_time_us=751600000\n",
      "out_time_ms=751600000\n",
      "out_time=00:12:31.600000\n",
      "dup_frames=0\n",
      "drop_frames=0\n",
      "speed=2.18x\n",
      "progress=continue\n"
     ]
    },
    {
     "name": "stderr",
     "output_type": "stream",
     "text": [
      "frame=18842 fps= 55 q=-0.0 size=N/A time=00:12:32.40 bitrate=N/A speed=2.18x    \r"
     ]
    },
    {
     "name": "stdout",
     "output_type": "stream",
     "text": [
      "frame=18842\n",
      "fps=54.55\n",
      "stream_0_0_q=-0.0\n",
      "bitrate=N/A\n",
      "total_size=N/A\n",
      "out_time_us=752400000\n",
      "out_time_ms=752400000\n",
      "out_time=00:12:32.400000\n",
      "dup_frames=0\n",
      "drop_frames=0\n",
      "speed=2.18x\n",
      "progress=continue\n",
      "frame=18861\n",
      "fps=54.53\n",
      "stream_0_0_q=-0.0\n",
      "bitrate=N/A\n",
      "total_size=N/A\n",
      "out_time_us=753160000\n",
      "out_time_ms=753160000\n",
      "out_time=00:12:33.160000\n",
      "dup_frames=0\n",
      "drop_frames=0\n",
      "speed=2.18x\n",
      "progress=continue\n"
     ]
    },
    {
     "name": "stderr",
     "output_type": "stream",
     "text": [
      "frame=18861 fps= 55 q=-0.0 size=N/A time=00:12:33.16 bitrate=N/A speed=2.18x    \r"
     ]
    },
    {
     "name": "stdout",
     "output_type": "stream",
     "text": [
      "frame=18881\n",
      "fps=54.50\n",
      "stream_0_0_q=-0.0\n",
      "bitrate=N/A\n",
      "total_size=N/A\n",
      "out_time_us=753960000\n",
      "out_time_ms=753960000\n",
      "out_time=00:12:33.960000\n",
      "dup_frames=0\n",
      "drop_frames=0\n",
      "speed=2.18x\n",
      "progress=continue\n"
     ]
    },
    {
     "name": "stderr",
     "output_type": "stream",
     "text": [
      "frame=18881 fps= 55 q=-0.0 size=N/A time=00:12:33.96 bitrate=N/A speed=2.18x    \r"
     ]
    },
    {
     "name": "stdout",
     "output_type": "stream",
     "text": [
      "frame=18902\n",
      "fps=54.48\n",
      "stream_0_0_q=-0.0\n",
      "bitrate=N/A\n",
      "total_size=N/A\n",
      "out_time_us=754800000\n",
      "out_time_ms=754800000\n",
      "out_time=00:12:34.800000\n",
      "dup_frames=0\n",
      "drop_frames=0\n",
      "speed=2.18x\n",
      "progress=continue\n"
     ]
    },
    {
     "name": "stderr",
     "output_type": "stream",
     "text": [
      "frame=18902 fps= 54 q=-0.0 size=N/A time=00:12:34.80 bitrate=N/A speed=2.18x    \r"
     ]
    },
    {
     "name": "stdout",
     "output_type": "stream",
     "text": [
      "frame=18922\n",
      "fps=54.46\n",
      "stream_0_0_q=-0.0\n",
      "bitrate=N/A\n",
      "total_size=N/A\n",
      "out_time_us=755600000\n",
      "out_time_ms=755600000\n",
      "out_time=00:12:35.600000\n",
      "dup_frames=0\n",
      "drop_frames=0\n",
      "speed=2.17x\n",
      "progress=continue\n"
     ]
    },
    {
     "name": "stderr",
     "output_type": "stream",
     "text": [
      "frame=18922 fps= 54 q=-0.0 size=N/A time=00:12:35.60 bitrate=N/A speed=2.17x    \r"
     ]
    },
    {
     "name": "stdout",
     "output_type": "stream",
     "text": [
      "frame=18942\n",
      "fps=54.44\n",
      "stream_0_0_q=-0.0\n",
      "bitrate=N/A\n",
      "total_size=N/A\n",
      "out_time_us=756400000\n",
      "out_time_ms=756400000\n",
      "out_time=00:12:36.400000\n",
      "dup_frames=0\n",
      "drop_frames=0\n",
      "speed=2.17x\n",
      "progress=continue\n"
     ]
    },
    {
     "name": "stderr",
     "output_type": "stream",
     "text": [
      "frame=18970 fps= 54 q=-0.0 size=N/A time=00:12:37.52 bitrate=N/A speed=2.17x    \r"
     ]
    },
    {
     "name": "stdout",
     "output_type": "stream",
     "text": [
      "frame=18970\n",
      "fps=54.44\n",
      "stream_0_0_q=-0.0\n",
      "bitrate=N/A\n",
      "total_size=N/A\n",
      "out_time_us=757520000\n",
      "out_time_ms=757520000\n",
      "out_time=00:12:37.520000\n",
      "dup_frames=0\n",
      "drop_frames=0\n",
      "speed=2.17x\n",
      "progress=continue\n",
      "frame=18991\n",
      "fps=54.41\n",
      "stream_0_0_q=-0.0\n",
      "bitrate=N/A\n",
      "total_size=N/A\n",
      "out_time_us=758360000\n",
      "out_time_ms=758360000\n",
      "out_time=00:12:38.360000\n",
      "dup_frames=0\n",
      "drop_frames=0\n",
      "speed=2.17x\n",
      "progress=continue\n"
     ]
    },
    {
     "name": "stderr",
     "output_type": "stream",
     "text": [
      "frame=18991 fps= 54 q=-0.0 size=N/A time=00:12:38.36 bitrate=N/A speed=2.17x    \r"
     ]
    },
    {
     "name": "stdout",
     "output_type": "stream",
     "text": [
      "frame=19014\n",
      "fps=54.40\n",
      "stream_0_0_q=-0.0\n",
      "bitrate=N/A\n",
      "total_size=N/A\n",
      "out_time_us=759280000\n",
      "out_time_ms=759280000\n",
      "out_time=00:12:39.280000\n",
      "dup_frames=0\n",
      "drop_frames=0\n",
      "speed=2.17x\n",
      "progress=continue\n"
     ]
    },
    {
     "name": "stderr",
     "output_type": "stream",
     "text": [
      "frame=19014 fps= 54 q=-0.0 size=N/A time=00:12:39.28 bitrate=N/A speed=2.17x    \r"
     ]
    },
    {
     "name": "stdout",
     "output_type": "stream",
     "text": [
      "frame=19036\n",
      "fps=54.39\n",
      "stream_0_0_q=-0.0\n",
      "bitrate=N/A\n",
      "total_size=N/A\n",
      "out_time_us=760160000\n",
      "out_time_ms=760160000\n",
      "out_time=00:12:40.160000\n",
      "dup_frames=0\n",
      "drop_frames=0\n",
      "speed=2.17x\n",
      "progress=continue\n"
     ]
    },
    {
     "name": "stderr",
     "output_type": "stream",
     "text": [
      "frame=19036 fps= 54 q=-0.0 size=N/A time=00:12:40.16 bitrate=N/A speed=2.17x    \r"
     ]
    },
    {
     "name": "stdout",
     "output_type": "stream",
     "text": [
      "frame=19056\n",
      "fps=54.36\n",
      "stream_0_0_q=-0.0\n",
      "bitrate=N/A\n",
      "total_size=N/A\n",
      "out_time_us=760960000\n",
      "out_time_ms=760960000\n",
      "out_time=00:12:40.960000\n",
      "dup_frames=0\n",
      "drop_frames=0\n",
      "speed=2.17x\n",
      "progress=continue\n"
     ]
    },
    {
     "name": "stderr",
     "output_type": "stream",
     "text": [
      "frame=19056 fps= 54 q=-0.0 size=N/A time=00:12:40.96 bitrate=N/A speed=2.17x    \r"
     ]
    },
    {
     "name": "stdout",
     "output_type": "stream",
     "text": [
      "frame=19077\n",
      "fps=54.34\n",
      "stream_0_0_q=-0.0\n",
      "bitrate=N/A\n",
      "total_size=N/A\n",
      "out_time_us=761800000\n",
      "out_time_ms=761800000\n",
      "out_time=00:12:41.800000\n",
      "dup_frames=0\n",
      "drop_frames=0\n",
      "speed=2.17x\n",
      "progress=continue\n"
     ]
    },
    {
     "name": "stderr",
     "output_type": "stream",
     "text": [
      "frame=19077 fps= 54 q=-0.0 size=N/A time=00:12:41.80 bitrate=N/A speed=2.17x    \r"
     ]
    },
    {
     "name": "stdout",
     "output_type": "stream",
     "text": [
      "frame=19097\n",
      "fps=54.32\n",
      "stream_0_0_q=-0.0\n",
      "bitrate=N/A\n",
      "total_size=N/A\n",
      "out_time_us=762600000\n",
      "out_time_ms=762600000\n",
      "out_time=00:12:42.600000\n",
      "dup_frames=0\n",
      "drop_frames=0\n",
      "speed=2.17x\n",
      "progress=continue\n"
     ]
    },
    {
     "name": "stderr",
     "output_type": "stream",
     "text": [
      "frame=19097 fps= 54 q=-0.0 size=N/A time=00:12:42.60 bitrate=N/A speed=2.17x    \r"
     ]
    },
    {
     "name": "stdout",
     "output_type": "stream",
     "text": [
      "frame=19117\n",
      "fps=54.30\n",
      "stream_0_0_q=-0.0\n",
      "bitrate=N/A\n",
      "total_size=N/A\n",
      "out_time_us=763400000\n",
      "out_time_ms=763400000\n",
      "out_time=00:12:43.400000\n",
      "dup_frames=0\n",
      "drop_frames=0\n",
      "speed=2.17x\n",
      "progress=continue\n"
     ]
    },
    {
     "name": "stderr",
     "output_type": "stream",
     "text": [
      "frame=19117 fps= 54 q=-0.0 size=N/A time=00:12:43.40 bitrate=N/A speed=2.17x    \r"
     ]
    },
    {
     "name": "stdout",
     "output_type": "stream",
     "text": [
      "frame=19137\n",
      "fps=54.28\n",
      "stream_0_0_q=-0.0\n",
      "bitrate=N/A\n",
      "total_size=N/A\n",
      "out_time_us=764200000\n",
      "out_time_ms=764200000\n",
      "out_time=00:12:44.200000\n",
      "dup_frames=0\n",
      "drop_frames=0\n",
      "speed=2.17x\n",
      "progress=continue\n"
     ]
    },
    {
     "name": "stderr",
     "output_type": "stream",
     "text": [
      "frame=19137 fps= 54 q=-0.0 size=N/A time=00:12:44.20 bitrate=N/A speed=2.17x    \r"
     ]
    },
    {
     "name": "stdout",
     "output_type": "stream",
     "text": [
      "frame=19156\n",
      "fps=54.25\n",
      "stream_0_0_q=-0.0\n",
      "bitrate=N/A\n",
      "total_size=N/A\n",
      "out_time_us=764960000\n",
      "out_time_ms=764960000\n",
      "out_time=00:12:44.960000\n",
      "dup_frames=0\n",
      "drop_frames=0\n",
      "speed=2.17x\n",
      "progress=continue\n"
     ]
    },
    {
     "name": "stderr",
     "output_type": "stream",
     "text": [
      "frame=19156 fps= 54 q=-0.0 size=N/A time=00:12:44.96 bitrate=N/A speed=2.17x    \r"
     ]
    },
    {
     "name": "stdout",
     "output_type": "stream",
     "text": [
      "frame=19181\n",
      "fps=54.24\n",
      "stream_0_0_q=-0.0\n",
      "bitrate=N/A\n",
      "total_size=N/A\n",
      "out_time_us=765960000\n",
      "out_time_ms=765960000\n",
      "out_time=00:12:45.960000\n",
      "dup_frames=0\n",
      "drop_frames=0\n",
      "speed=2.17x\n",
      "progress=continue\n"
     ]
    },
    {
     "name": "stderr",
     "output_type": "stream",
     "text": [
      "frame=19181 fps= 54 q=-0.0 size=N/A time=00:12:45.96 bitrate=N/A speed=2.17x    \r"
     ]
    },
    {
     "name": "stdout",
     "output_type": "stream",
     "text": [
      "frame=19205\n",
      "fps=54.23\n",
      "stream_0_0_q=-0.0\n",
      "bitrate=N/A\n",
      "total_size=N/A\n",
      "out_time_us=766920000\n",
      "out_time_ms=766920000\n",
      "out_time=00:12:46.920000\n",
      "dup_frames=0\n",
      "drop_frames=0\n",
      "speed=2.17x\n",
      "progress=continue\n"
     ]
    },
    {
     "name": "stderr",
     "output_type": "stream",
     "text": [
      "frame=19205 fps= 54 q=-0.0 size=N/A time=00:12:46.92 bitrate=N/A speed=2.17x    \r"
     ]
    },
    {
     "name": "stdout",
     "output_type": "stream",
     "text": [
      "frame=19230\n",
      "fps=54.22\n",
      "stream_0_0_q=-0.0\n",
      "bitrate=N/A\n",
      "total_size=N/A\n",
      "out_time_us=767920000\n",
      "out_time_ms=767920000\n",
      "out_time=00:12:47.920000\n",
      "dup_frames=0\n",
      "drop_frames=0\n",
      "speed=2.17x\n",
      "progress=continue\n"
     ]
    },
    {
     "name": "stderr",
     "output_type": "stream",
     "text": [
      "frame=19230 fps= 54 q=-0.0 size=N/A time=00:12:47.92 bitrate=N/A speed=2.17x    \r"
     ]
    },
    {
     "name": "stdout",
     "output_type": "stream",
     "text": [
      "frame=19255\n",
      "fps=54.22\n",
      "stream_0_0_q=-0.0\n",
      "bitrate=N/A\n",
      "total_size=N/A\n",
      "out_time_us=768920000\n",
      "out_time_ms=768920000\n",
      "out_time=00:12:48.920000\n",
      "dup_frames=0\n",
      "drop_frames=0\n",
      "speed=2.17x\n",
      "progress=continue\n"
     ]
    },
    {
     "name": "stderr",
     "output_type": "stream",
     "text": [
      "frame=19255 fps= 54 q=-0.0 size=N/A time=00:12:48.92 bitrate=N/A speed=2.17x    \r"
     ]
    },
    {
     "name": "stdout",
     "output_type": "stream",
     "text": [
      "frame=19267\n",
      "fps=54.17\n",
      "stream_0_0_q=-0.0\n",
      "bitrate=N/A\n",
      "total_size=N/A\n",
      "out_time_us=769400000\n",
      "out_time_ms=769400000\n",
      "out_time=00:12:49.400000\n",
      "dup_frames=0\n",
      "drop_frames=0\n",
      "speed=2.16x\n",
      "progress=continue\n"
     ]
    },
    {
     "name": "stderr",
     "output_type": "stream",
     "text": [
      "frame=19302 fps= 54 q=-0.0 size=N/A time=00:12:50.80 bitrate=N/A speed=2.16x    \r"
     ]
    },
    {
     "name": "stdout",
     "output_type": "stream",
     "text": [
      "frame=19302\n",
      "fps=54.19\n",
      "stream_0_0_q=-0.0\n",
      "bitrate=N/A\n",
      "total_size=N/A\n",
      "out_time_us=770800000\n",
      "out_time_ms=770800000\n",
      "out_time=00:12:50.800000\n",
      "dup_frames=0\n",
      "drop_frames=0\n",
      "speed=2.16x\n",
      "progress=continue\n"
     ]
    },
    {
     "name": "stderr",
     "output_type": "stream",
     "text": [
      "frame=19319 fps= 54 q=-0.0 size=N/A time=00:12:51.48 bitrate=N/A speed=2.16x    \r"
     ]
    },
    {
     "name": "stdout",
     "output_type": "stream",
     "text": [
      "frame=19319\n",
      "fps=54.16\n",
      "stream_0_0_q=-0.0\n",
      "bitrate=N/A\n",
      "total_size=N/A\n",
      "out_time_us=771480000\n",
      "out_time_ms=771480000\n",
      "out_time=00:12:51.480000\n",
      "dup_frames=0\n",
      "drop_frames=0\n",
      "speed=2.16x\n",
      "progress=continue\n",
      "frame=19344\n",
      "fps=54.15\n",
      "stream_0_0_q=-0.0\n",
      "bitrate=N/A\n",
      "total_size=N/A\n",
      "out_time_us=772480000\n",
      "out_time_ms=772480000\n",
      "out_time=00:12:52.480000\n",
      "dup_frames=0\n",
      "drop_frames=0\n",
      "speed=2.16x\n",
      "progress=continue\n"
     ]
    },
    {
     "name": "stderr",
     "output_type": "stream",
     "text": [
      "frame=19362 fps= 54 q=-0.0 size=N/A time=00:12:53.20 bitrate=N/A speed=2.16x    \r"
     ]
    },
    {
     "name": "stdout",
     "output_type": "stream",
     "text": [
      "frame=19362\n",
      "fps=54.12\n",
      "stream_0_0_q=-0.0\n",
      "bitrate=N/A\n",
      "total_size=N/A\n",
      "out_time_us=773200000\n",
      "out_time_ms=773200000\n",
      "out_time=00:12:53.200000\n",
      "dup_frames=0\n",
      "drop_frames=0\n",
      "speed=2.16x\n",
      "progress=continue\n",
      "frame=19381\n",
      "fps=54.10\n",
      "stream_0_0_q=-0.0\n",
      "bitrate=N/A\n",
      "total_size=N/A\n",
      "out_time_us=773960000\n",
      "out_time_ms=773960000\n",
      "out_time=00:12:53.960000\n",
      "dup_frames=0\n",
      "drop_frames=0\n",
      "speed=2.16x\n",
      "progress=continue\n"
     ]
    },
    {
     "name": "stderr",
     "output_type": "stream",
     "text": [
      "frame=19381 fps= 54 q=-0.0 size=N/A time=00:12:53.96 bitrate=N/A speed=2.16x    \r"
     ]
    },
    {
     "name": "stdout",
     "output_type": "stream",
     "text": [
      "frame=19400\n",
      "fps=54.08\n",
      "stream_0_0_q=-0.0\n",
      "bitrate=N/A\n",
      "total_size=N/A\n",
      "out_time_us=774720000\n",
      "out_time_ms=774720000\n",
      "out_time=00:12:54.720000\n",
      "dup_frames=0\n",
      "drop_frames=0\n",
      "speed=2.16x\n",
      "progress=continue\n"
     ]
    },
    {
     "name": "stderr",
     "output_type": "stream",
     "text": [
      "frame=19423 fps= 54 q=-0.0 size=N/A time=00:12:55.64 bitrate=N/A speed=2.16x    \r"
     ]
    },
    {
     "name": "stdout",
     "output_type": "stream",
     "text": [
      "frame=19423\n",
      "fps=54.06\n",
      "stream_0_0_q=-0.0\n",
      "bitrate=N/A\n",
      "total_size=N/A\n",
      "out_time_us=775640000\n",
      "out_time_ms=775640000\n",
      "out_time=00:12:55.640000\n",
      "dup_frames=0\n",
      "drop_frames=0\n",
      "speed=2.16x\n",
      "progress=continue\n"
     ]
    },
    {
     "name": "stderr",
     "output_type": "stream",
     "text": [
      "frame=19447 fps= 54 q=-0.0 size=N/A time=00:12:56.60 bitrate=N/A speed=2.16x    \r"
     ]
    },
    {
     "name": "stdout",
     "output_type": "stream",
     "text": [
      "frame=19447\n",
      "fps=54.05\n",
      "stream_0_0_q=-0.0\n",
      "bitrate=N/A\n",
      "total_size=N/A\n",
      "out_time_us=776600000\n",
      "out_time_ms=776600000\n",
      "out_time=00:12:56.600000\n",
      "dup_frames=0\n",
      "drop_frames=0\n",
      "speed=2.16x\n",
      "progress=continue\n"
     ]
    },
    {
     "name": "stderr",
     "output_type": "stream",
     "text": [
      "frame=19470 fps= 54 q=-0.0 size=N/A time=00:12:57.52 bitrate=N/A speed=2.16x    \r"
     ]
    },
    {
     "name": "stdout",
     "output_type": "stream",
     "text": [
      "frame=19470\n",
      "fps=54.03\n",
      "stream_0_0_q=-0.0\n",
      "bitrate=N/A\n",
      "total_size=N/A\n",
      "out_time_us=777520000\n",
      "out_time_ms=777520000\n",
      "out_time=00:12:57.520000\n",
      "dup_frames=0\n",
      "drop_frames=0\n",
      "speed=2.16x\n",
      "progress=continue\n"
     ]
    },
    {
     "name": "stderr",
     "output_type": "stream",
     "text": [
      "frame=19492 fps= 54 q=-0.0 size=N/A time=00:12:58.40 bitrate=N/A speed=2.16x    \r"
     ]
    },
    {
     "name": "stdout",
     "output_type": "stream",
     "text": [
      "frame=19492\n",
      "fps=54.02\n",
      "stream_0_0_q=-0.0\n",
      "bitrate=N/A\n",
      "total_size=N/A\n",
      "out_time_us=778400000\n",
      "out_time_ms=778400000\n",
      "out_time=00:12:58.400000\n",
      "dup_frames=0\n",
      "drop_frames=0\n",
      "speed=2.16x\n",
      "progress=continue\n"
     ]
    },
    {
     "name": "stderr",
     "output_type": "stream",
     "text": [
      "frame=19514 fps= 54 q=-0.0 size=N/A time=00:12:59.28 bitrate=N/A speed=2.16x    \r"
     ]
    },
    {
     "name": "stdout",
     "output_type": "stream",
     "text": [
      "frame=19514\n",
      "fps=54.00\n",
      "stream_0_0_q=-0.0\n",
      "bitrate=N/A\n",
      "total_size=N/A\n",
      "out_time_us=779280000\n",
      "out_time_ms=779280000\n",
      "out_time=00:12:59.280000\n",
      "dup_frames=0\n",
      "drop_frames=0\n",
      "speed=2.16x\n",
      "progress=continue\n"
     ]
    },
    {
     "name": "stderr",
     "output_type": "stream",
     "text": [
      "frame=19534 fps= 54 q=-0.0 size=N/A time=00:13:00.08 bitrate=N/A speed=2.16x    \r"
     ]
    },
    {
     "name": "stdout",
     "output_type": "stream",
     "text": [
      "frame=19534\n",
      "fps=53.98\n",
      "stream_0_0_q=-0.0\n",
      "bitrate=N/A\n",
      "total_size=N/A\n",
      "out_time_us=780080000\n",
      "out_time_ms=780080000\n",
      "out_time=00:13:00.080000\n",
      "dup_frames=0\n",
      "drop_frames=0\n",
      "speed=2.16x\n",
      "progress=continue\n"
     ]
    },
    {
     "name": "stderr",
     "output_type": "stream",
     "text": [
      "frame=19554 fps= 54 q=-0.0 size=N/A time=00:13:00.88 bitrate=N/A speed=2.15x    \r"
     ]
    },
    {
     "name": "stdout",
     "output_type": "stream",
     "text": [
      "frame=19554\n",
      "fps=53.96\n",
      "stream_0_0_q=-0.0\n",
      "bitrate=N/A\n",
      "total_size=N/A\n",
      "out_time_us=780880000\n",
      "out_time_ms=780880000\n",
      "out_time=00:13:00.880000\n",
      "dup_frames=0\n",
      "drop_frames=0\n",
      "speed=2.15x\n",
      "progress=continue\n"
     ]
    },
    {
     "name": "stderr",
     "output_type": "stream",
     "text": [
      "frame=19581 fps= 54 q=-0.0 size=N/A time=00:13:01.96 bitrate=N/A speed=2.15x    \r"
     ]
    },
    {
     "name": "stdout",
     "output_type": "stream",
     "text": [
      "frame=19581\n",
      "fps=53.96\n",
      "stream_0_0_q=-0.0\n",
      "bitrate=N/A\n",
      "total_size=N/A\n",
      "out_time_us=781960000\n",
      "out_time_ms=781960000\n",
      "out_time=00:13:01.960000\n",
      "dup_frames=0\n",
      "drop_frames=0\n",
      "speed=2.15x\n",
      "progress=continue\n"
     ]
    },
    {
     "name": "stderr",
     "output_type": "stream",
     "text": [
      "frame=19604 fps= 54 q=-0.0 size=N/A time=00:13:02.88 bitrate=N/A speed=2.15x    \r"
     ]
    },
    {
     "name": "stdout",
     "output_type": "stream",
     "text": [
      "frame=19604\n",
      "fps=53.94\n",
      "stream_0_0_q=-0.0\n",
      "bitrate=N/A\n",
      "total_size=N/A\n",
      "out_time_us=782880000\n",
      "out_time_ms=782880000\n",
      "out_time=00:13:02.880000\n",
      "dup_frames=0\n",
      "drop_frames=0\n",
      "speed=2.15x\n",
      "progress=continue\n"
     ]
    },
    {
     "name": "stderr",
     "output_type": "stream",
     "text": [
      "frame=19627 fps= 54 q=-0.0 size=N/A time=00:13:03.80 bitrate=N/A speed=2.15x    \r"
     ]
    },
    {
     "name": "stdout",
     "output_type": "stream",
     "text": [
      "frame=19627\n",
      "fps=53.93\n",
      "stream_0_0_q=-0.0\n",
      "bitrate=N/A\n",
      "total_size=N/A\n",
      "out_time_us=783800000\n",
      "out_time_ms=783800000\n",
      "out_time=00:13:03.800000\n",
      "dup_frames=0\n",
      "drop_frames=0\n",
      "speed=2.15x\n",
      "progress=continue\n"
     ]
    },
    {
     "name": "stderr",
     "output_type": "stream",
     "text": [
      "frame=19650 fps= 54 q=-0.0 size=N/A time=00:13:04.72 bitrate=N/A speed=2.15x    \r"
     ]
    },
    {
     "name": "stdout",
     "output_type": "stream",
     "text": [
      "frame=19650\n",
      "fps=53.91\n",
      "stream_0_0_q=-0.0\n",
      "bitrate=N/A\n",
      "total_size=N/A\n",
      "out_time_us=784720000\n",
      "out_time_ms=784720000\n",
      "out_time=00:13:04.720000\n",
      "dup_frames=0\n",
      "drop_frames=0\n",
      "speed=2.15x\n",
      "progress=continue\n"
     ]
    },
    {
     "name": "stderr",
     "output_type": "stream",
     "text": [
      "frame=19672 fps= 54 q=-0.0 size=N/A time=00:13:05.60 bitrate=N/A speed=2.15x    \r"
     ]
    },
    {
     "name": "stdout",
     "output_type": "stream",
     "text": [
      "frame=19672\n",
      "fps=53.90\n",
      "stream_0_0_q=-0.0\n",
      "bitrate=N/A\n",
      "total_size=N/A\n",
      "out_time_us=785600000\n",
      "out_time_ms=785600000\n",
      "out_time=00:13:05.600000\n",
      "dup_frames=0\n",
      "drop_frames=0\n",
      "speed=2.15x\n",
      "progress=continue\n"
     ]
    },
    {
     "name": "stderr",
     "output_type": "stream",
     "text": [
      "frame=19693 fps= 54 q=-0.0 size=N/A time=00:13:06.44 bitrate=N/A speed=2.15x    \r"
     ]
    },
    {
     "name": "stdout",
     "output_type": "stream",
     "text": [
      "frame=19693\n",
      "fps=53.88\n",
      "stream_0_0_q=-0.0\n",
      "bitrate=N/A\n",
      "total_size=N/A\n",
      "out_time_us=786440000\n",
      "out_time_ms=786440000\n",
      "out_time=00:13:06.440000\n",
      "dup_frames=0\n",
      "drop_frames=0\n",
      "speed=2.15x\n",
      "progress=continue\n"
     ]
    },
    {
     "name": "stderr",
     "output_type": "stream",
     "text": [
      "frame=19712 fps= 54 q=-0.0 size=N/A time=00:13:07.20 bitrate=N/A speed=2.15x    \r"
     ]
    },
    {
     "name": "stdout",
     "output_type": "stream",
     "text": [
      "frame=19712\n",
      "fps=53.86\n",
      "stream_0_0_q=-0.0\n",
      "bitrate=N/A\n",
      "total_size=N/A\n",
      "out_time_us=787200000\n",
      "out_time_ms=787200000\n",
      "out_time=00:13:07.200000\n",
      "dup_frames=0\n",
      "drop_frames=0\n",
      "speed=2.15x\n",
      "progress=continue\n",
      "frame=19733\n",
      "fps=53.84\n",
      "stream_0_0_q=-0.0\n",
      "bitrate=N/A\n",
      "total_size=N/A\n",
      "out_time_us=788040000\n",
      "out_time_ms=788040000\n",
      "out_time=00:13:08.040000\n",
      "dup_frames=0\n",
      "drop_frames=0\n",
      "speed=2.15x\n",
      "progress=continue\n"
     ]
    },
    {
     "name": "stderr",
     "output_type": "stream",
     "text": [
      "frame=19733 fps= 54 q=-0.0 size=N/A time=00:13:08.04 bitrate=N/A speed=2.15x    \r"
     ]
    },
    {
     "name": "stdout",
     "output_type": "stream",
     "text": [
      "frame=19750\n",
      "fps=53.81\n",
      "stream_0_0_q=-0.0\n",
      "bitrate=N/A\n",
      "total_size=N/A\n",
      "out_time_us=788720000\n",
      "out_time_ms=788720000\n",
      "out_time=00:13:08.720000\n",
      "dup_frames=0\n",
      "drop_frames=0\n",
      "speed=2.15x\n",
      "progress=continue\n"
     ]
    },
    {
     "name": "stderr",
     "output_type": "stream",
     "text": [
      "frame=19759 fps= 54 q=-0.0 size=N/A time=00:13:09.08 bitrate=N/A speed=2.15x    \r"
     ]
    },
    {
     "name": "stdout",
     "output_type": "stream",
     "text": [
      "frame=19759\n",
      "fps=53.74\n",
      "stream_0_0_q=-0.0\n",
      "bitrate=N/A\n",
      "total_size=N/A\n",
      "out_time_us=789080000\n",
      "out_time_ms=789080000\n",
      "out_time=00:13:09.080000\n",
      "dup_frames=0\n",
      "drop_frames=0\n",
      "speed=2.15x\n",
      "progress=continue\n"
     ]
    },
    {
     "name": "stderr",
     "output_type": "stream",
     "text": [
      "frame=19773 fps= 54 q=-0.0 size=N/A time=00:13:09.64 bitrate=N/A speed=2.14x    \r"
     ]
    },
    {
     "name": "stdout",
     "output_type": "stream",
     "text": [
      "frame=19773\n",
      "fps=53.71\n",
      "stream_0_0_q=-0.0\n",
      "bitrate=N/A\n",
      "total_size=N/A\n",
      "out_time_us=789640000\n",
      "out_time_ms=789640000\n",
      "out_time=00:13:09.640000\n",
      "dup_frames=0\n",
      "drop_frames=0\n",
      "speed=2.14x\n",
      "progress=continue\n"
     ]
    },
    {
     "name": "stderr",
     "output_type": "stream",
     "text": [
      "frame=19813 fps= 54 q=-0.0 size=N/A time=00:13:11.24 bitrate=N/A speed=2.15x    \r"
     ]
    },
    {
     "name": "stdout",
     "output_type": "stream",
     "text": [
      "frame=19813\n",
      "fps=53.74\n",
      "stream_0_0_q=-0.0\n",
      "bitrate=N/A\n",
      "total_size=N/A\n",
      "out_time_us=791240000\n",
      "out_time_ms=791240000\n",
      "out_time=00:13:11.240000\n",
      "dup_frames=0\n",
      "drop_frames=0\n",
      "speed=2.15x\n",
      "progress=continue\n",
      "frame=19841\n",
      "fps=53.74\n",
      "stream_0_0_q=-0.0\n",
      "bitrate=N/A\n",
      "total_size=N/A\n",
      "out_time_us=792360000\n",
      "out_time_ms=792360000\n",
      "out_time=00:13:12.360000\n",
      "dup_frames=0\n",
      "drop_frames=0\n",
      "speed=2.15x\n",
      "progress=continue\n"
     ]
    },
    {
     "name": "stderr",
     "output_type": "stream",
     "text": [
      "frame=19841 fps= 54 q=-0.0 size=N/A time=00:13:12.36 bitrate=N/A speed=2.15x    \r"
     ]
    },
    {
     "name": "stdout",
     "output_type": "stream",
     "text": [
      "frame=19861\n",
      "fps=53.72\n",
      "stream_0_0_q=-0.0\n",
      "bitrate=N/A\n",
      "total_size=N/A\n",
      "out_time_us=793160000\n",
      "out_time_ms=793160000\n",
      "out_time=00:13:13.160000\n",
      "dup_frames=0\n",
      "drop_frames=0\n",
      "speed=2.15x\n",
      "progress=continue\n"
     ]
    },
    {
     "name": "stderr",
     "output_type": "stream",
     "text": [
      "frame=19861 fps= 54 q=-0.0 size=N/A time=00:13:13.16 bitrate=N/A speed=2.15x    \r"
     ]
    },
    {
     "name": "stdout",
     "output_type": "stream",
     "text": [
      "frame=19881\n",
      "fps=53.70\n",
      "stream_0_0_q=-0.0\n",
      "bitrate=N/A\n",
      "total_size=N/A\n",
      "out_time_us=793960000\n",
      "out_time_ms=793960000\n",
      "out_time=00:13:13.960000\n",
      "dup_frames=0\n",
      "drop_frames=0\n",
      "speed=2.14x\n",
      "progress=continue\n"
     ]
    },
    {
     "name": "stderr",
     "output_type": "stream",
     "text": [
      "frame=19881 fps= 54 q=-0.0 size=N/A time=00:13:13.96 bitrate=N/A speed=2.14x    \r"
     ]
    },
    {
     "name": "stdout",
     "output_type": "stream",
     "text": [
      "frame=19898\n",
      "fps=53.66\n",
      "stream_0_0_q=-0.0\n",
      "bitrate=N/A\n",
      "total_size=N/A\n",
      "out_time_us=794640000\n",
      "out_time_ms=794640000\n",
      "out_time=00:13:14.640000\n",
      "dup_frames=0\n",
      "drop_frames=0\n",
      "speed=2.14x\n",
      "progress=continue\n"
     ]
    },
    {
     "name": "stderr",
     "output_type": "stream",
     "text": [
      "frame=19898 fps= 54 q=-0.0 size=N/A time=00:13:14.64 bitrate=N/A speed=2.14x    \r"
     ]
    },
    {
     "name": "stdout",
     "output_type": "stream",
     "text": [
      "frame=19919\n",
      "fps=53.65\n",
      "stream_0_0_q=-0.0\n",
      "bitrate=N/A\n",
      "total_size=N/A\n",
      "out_time_us=795480000\n",
      "out_time_ms=795480000\n",
      "out_time=00:13:15.480000\n",
      "dup_frames=0\n",
      "drop_frames=0\n",
      "speed=2.14x\n",
      "progress=continue\n"
     ]
    },
    {
     "name": "stderr",
     "output_type": "stream",
     "text": [
      "frame=19919 fps= 54 q=-0.0 size=N/A time=00:13:15.48 bitrate=N/A speed=2.14x    \r"
     ]
    },
    {
     "name": "stdout",
     "output_type": "stream",
     "text": [
      "frame=19936\n",
      "fps=53.61\n",
      "stream_0_0_q=-0.0\n",
      "bitrate=N/A\n",
      "total_size=N/A\n",
      "out_time_us=796160000\n",
      "out_time_ms=796160000\n",
      "out_time=00:13:16.160000\n",
      "dup_frames=0\n",
      "drop_frames=0\n",
      "speed=2.14x\n",
      "progress=continue\n"
     ]
    },
    {
     "name": "stderr",
     "output_type": "stream",
     "text": [
      "frame=19936 fps= 54 q=-0.0 size=N/A time=00:13:16.16 bitrate=N/A speed=2.14x    \r"
     ]
    },
    {
     "name": "stdout",
     "output_type": "stream",
     "text": [
      "frame=19962\n",
      "fps=53.61\n",
      "stream_0_0_q=-0.0\n",
      "bitrate=N/A\n",
      "total_size=N/A\n",
      "out_time_us=797200000\n",
      "out_time_ms=797200000\n",
      "out_time=00:13:17.200000\n",
      "dup_frames=0\n",
      "drop_frames=0\n",
      "speed=2.14x\n",
      "progress=continue\n"
     ]
    },
    {
     "name": "stderr",
     "output_type": "stream",
     "text": [
      "frame=19962 fps= 54 q=-0.0 size=N/A time=00:13:17.20 bitrate=N/A speed=2.14x    \r"
     ]
    },
    {
     "name": "stdout",
     "output_type": "stream",
     "text": [
      "frame=19984\n",
      "fps=53.59\n",
      "stream_0_0_q=-0.0\n",
      "bitrate=N/A\n",
      "total_size=N/A\n",
      "out_time_us=798080000\n",
      "out_time_ms=798080000\n",
      "out_time=00:13:18.080000\n",
      "dup_frames=0\n",
      "drop_frames=0\n",
      "speed=2.14x\n",
      "progress=continue\n"
     ]
    },
    {
     "name": "stderr",
     "output_type": "stream",
     "text": [
      "frame=19984 fps= 54 q=-0.0 size=N/A time=00:13:18.08 bitrate=N/A speed=2.14x    \r"
     ]
    },
    {
     "name": "stdout",
     "output_type": "stream",
     "text": [
      "frame=20006\n",
      "fps=53.58\n",
      "stream_0_0_q=-0.0\n",
      "bitrate=N/A\n",
      "total_size=N/A\n",
      "out_time_us=798960000\n",
      "out_time_ms=798960000\n",
      "out_time=00:13:18.960000\n",
      "dup_frames=0\n",
      "drop_frames=0\n",
      "speed=2.14x\n",
      "progress=continue\n"
     ]
    },
    {
     "name": "stderr",
     "output_type": "stream",
     "text": [
      "frame=20006 fps= 54 q=-0.0 size=N/A time=00:13:18.96 bitrate=N/A speed=2.14x    \r"
     ]
    },
    {
     "name": "stdout",
     "output_type": "stream",
     "text": [
      "frame=20029\n",
      "fps=53.57\n",
      "stream_0_0_q=-0.0\n",
      "bitrate=N/A\n",
      "total_size=N/A\n",
      "out_time_us=799880000\n",
      "out_time_ms=799880000\n",
      "out_time=00:13:19.880000\n",
      "dup_frames=0\n",
      "drop_frames=0\n",
      "speed=2.14x\n",
      "progress=continue\n"
     ]
    },
    {
     "name": "stderr",
     "output_type": "stream",
     "text": [
      "frame=20052 fps= 54 q=-0.0 size=N/A time=00:13:20.80 bitrate=N/A speed=2.14x    \r"
     ]
    },
    {
     "name": "stdout",
     "output_type": "stream",
     "text": [
      "frame=20052\n",
      "fps=53.56\n",
      "stream_0_0_q=-0.0\n",
      "bitrate=N/A\n",
      "total_size=N/A\n",
      "out_time_us=800800000\n",
      "out_time_ms=800800000\n",
      "out_time=00:13:20.800000\n",
      "dup_frames=0\n",
      "drop_frames=0\n",
      "speed=2.14x\n",
      "progress=continue\n"
     ]
    },
    {
     "name": "stderr",
     "output_type": "stream",
     "text": [
      "frame=20071 fps= 54 q=-0.0 size=N/A time=00:13:21.56 bitrate=N/A speed=2.14x    \r"
     ]
    },
    {
     "name": "stdout",
     "output_type": "stream",
     "text": [
      "frame=20071\n",
      "fps=53.54\n",
      "stream_0_0_q=-0.0\n",
      "bitrate=N/A\n",
      "total_size=N/A\n",
      "out_time_us=801560000\n",
      "out_time_ms=801560000\n",
      "out_time=00:13:21.560000\n",
      "dup_frames=0\n",
      "drop_frames=0\n",
      "speed=2.14x\n",
      "progress=continue\n"
     ]
    },
    {
     "name": "stderr",
     "output_type": "stream",
     "text": [
      "frame=20094 fps= 54 q=-0.0 size=N/A time=00:13:22.48 bitrate=N/A speed=2.14x    \r"
     ]
    },
    {
     "name": "stdout",
     "output_type": "stream",
     "text": [
      "frame=20094\n",
      "fps=53.52\n",
      "stream_0_0_q=-0.0\n",
      "bitrate=N/A\n",
      "total_size=N/A\n",
      "out_time_us=802480000\n",
      "out_time_ms=802480000\n",
      "out_time=00:13:22.480000\n",
      "dup_frames=0\n",
      "drop_frames=0\n",
      "speed=2.14x\n",
      "progress=continue\n"
     ]
    },
    {
     "name": "stderr",
     "output_type": "stream",
     "text": [
      "frame=20113 fps= 53 q=-0.0 size=N/A time=00:13:23.24 bitrate=N/A speed=2.14x    \r"
     ]
    },
    {
     "name": "stdout",
     "output_type": "stream",
     "text": [
      "frame=20113\n",
      "fps=53.50\n",
      "stream_0_0_q=-0.0\n",
      "bitrate=N/A\n",
      "total_size=N/A\n",
      "out_time_us=803240000\n",
      "out_time_ms=803240000\n",
      "out_time=00:13:23.240000\n",
      "dup_frames=0\n",
      "drop_frames=0\n",
      "speed=2.14x\n",
      "progress=continue\n"
     ]
    },
    {
     "name": "stderr",
     "output_type": "stream",
     "text": [
      "frame=20127 fps= 53 q=-0.0 size=N/A time=00:13:23.80 bitrate=N/A speed=2.13x    \r"
     ]
    },
    {
     "name": "stdout",
     "output_type": "stream",
     "text": [
      "frame=20127\n",
      "fps=53.44\n",
      "stream_0_0_q=-0.0\n",
      "bitrate=N/A\n",
      "total_size=N/A\n",
      "out_time_us=803800000\n",
      "out_time_ms=803800000\n",
      "out_time=00:13:23.800000\n",
      "dup_frames=0\n",
      "drop_frames=0\n",
      "speed=2.13x\n",
      "progress=continue\n",
      "frame=20162\n",
      "fps=53.46\n",
      "stream_0_0_q=-0.0\n",
      "bitrate=N/A\n",
      "total_size=N/A\n",
      "out_time_us=805200000\n",
      "out_time_ms=805200000\n",
      "out_time=00:13:25.200000\n",
      "dup_frames=0\n",
      "drop_frames=0\n",
      "speed=2.14x\n",
      "progress=continue\n"
     ]
    },
    {
     "name": "stderr",
     "output_type": "stream",
     "text": [
      "frame=20162 fps= 53 q=-0.0 size=N/A time=00:13:25.20 bitrate=N/A speed=2.14x    \r"
     ]
    },
    {
     "name": "stdout",
     "output_type": "stream",
     "text": [
      "frame=20175\n",
      "fps=53.34\n",
      "stream_0_0_q=-0.0\n",
      "bitrate=N/A\n",
      "total_size=N/A\n",
      "out_time_us=807000000\n",
      "out_time_ms=807000000\n",
      "out_time=00:13:27.000000\n",
      "dup_frames=0\n",
      "drop_frames=0\n",
      "speed=2.13x\n",
      "progress=end\n"
     ]
    },
    {
     "name": "stderr",
     "output_type": "stream",
     "text": [
      "frame=20175 fps= 53 q=-0.0 Lsize=N/A time=00:13:27.00 bitrate=N/A speed=2.13x    \n",
      "video:36956096kB audio:0kB subtitle:0kB other streams:0kB global headers:0kB muxing overhead: unknown\n"
     ]
    }
   ],
   "source": [
    "# Define start and end times for cropping\n",
    "# Sample 21: 0 - 182 seconds, in total, 4419 images (initial several layers are missing in the sony videos)\n",
    "# Sample 22: 0 - 179 seconds, in total \n",
    "# Sample 23: 0 - 6 min 47 seconds = 407\n",
    "# Sample 24: 0 - 13 min 27 seconds = 807\n",
    "# Sample 26: 0 - 6 min 43 seconds = 403\n",
    "\n",
    "start_time = 0  # Start time in seconds \n",
    "end_time = 807   # End time in seconds\n",
    "\n",
    "# Crop the video and save frames at 25 Hz\n",
    "# crop_video_and_save_frames(raw_video_file, image_output_folder, start_time, end_time, sample_index, target_fps=25)\n",
    "\n",
    "crop_video_and_save_frames_ffmpeg(raw_video_file, image_output_folder, start_time, end_time, sample_index, target_fps=25)"
   ]
  },
  {
   "cell_type": "markdown",
   "id": "f4fb235a-a798-4765-bef0-7ee2dc703b89",
   "metadata": {},
   "source": [
    "## Fix the index to match with the coaxial image stream."
   ]
  },
  {
   "cell_type": "code",
   "execution_count": 52,
   "id": "daa780bc-5ea2-410b-908a-99c635273750",
   "metadata": {},
   "outputs": [],
   "source": [
    "import os\n",
    "\n",
    "# Calculate the index offset\n",
    "index_offset = 1-32\n",
    "# Sample 21: offset is 5030 (coaxial) - 4430\n",
    "# Sample 22: offset is 4623 (coaxial) - 4469\n",
    "# Sample 23: offset is 11155 (coaxial) - 10104\n",
    "# Sample 24: offset is 1 - 32 (special case, the later part of 24 is disrgarded)\n",
    "# Sample 26: offset is 10749 (coaxial) - 10010\n",
    "\n",
    "# Get all PNG files in the directory\n",
    "image_files = [f for f in os.listdir(image_output_folder) if f.endswith(\".png\")]"
   ]
  },
  {
   "cell_type": "code",
   "execution_count": 53,
   "id": "9cac41b2-d013-487f-af23-f315b3bc3a0b",
   "metadata": {},
   "outputs": [
    {
     "data": {
      "application/json": {
       "ascii": false,
       "bar_format": null,
       "colour": null,
       "elapsed": 0.001638650894165039,
       "initial": 0,
       "n": 0,
       "ncols": null,
       "nrows": 24,
       "postfix": null,
       "prefix": "Renaming images",
       "rate": null,
       "total": 20175,
       "unit": "it",
       "unit_divisor": 1000,
       "unit_scale": false
      },
      "application/vnd.jupyter.widget-view+json": {
       "model_id": "869d3d07456c4350be7bb69c17cf6280",
       "version_major": 2,
       "version_minor": 0
      },
      "text/plain": [
       "Renaming images:   0%|          | 0/20175 [00:00<?, ?it/s]"
      ]
     },
     "metadata": {},
     "output_type": "display_data"
    }
   ],
   "source": [
    "from concurrent.futures import ThreadPoolExecutor, as_completed\n",
    "\n",
    "def copy_and_rename_file(filename, image_output_folder, sony_camera_image_folder, sample_index, index_offset):\n",
    "    parts = filename.split('_')\n",
    "    if len(parts) == 3:\n",
    "        current_index_part = parts[2].split('.')[0]  # This gets the numeric part of '<current_index>.png'\n",
    "        try:\n",
    "            current_index = int(current_index_part)\n",
    "            new_index = current_index + index_offset\n",
    "            new_filename = f'sample_{sample_index}_{new_index}.png'\n",
    "            current_file_path = os.path.join(image_output_folder, filename)\n",
    "            new_file_path = os.path.join(sony_camera_image_folder, new_filename)\n",
    "            shutil.copy2(current_file_path, new_file_path)\n",
    "            return filename, True\n",
    "        except ValueError:\n",
    "            return filename, False\n",
    "    return filename, False\n",
    "\n",
    "# Assume image_files, image_output_folder, sony_camera_image_folder, sample_index, index_offset are defined\n",
    "with ThreadPoolExecutor(max_workers=os.cpu_count()) as executor:\n",
    "    future_to_file = {executor.submit(copy_and_rename_file, filename, image_output_folder, sony_camera_image_folder, sample_index, index_offset): filename for filename in image_files}\n",
    "    \n",
    "    # Initialize progress bar\n",
    "    progress = tqdm(as_completed(future_to_file), total=len(image_files), desc=\"Renaming images\")\n",
    "    for future in progress:\n",
    "        filename, success = future.result()"
   ]
  },
  {
   "cell_type": "markdown",
   "id": "70f75a5e-1695-4020-8d5b-be281e140f09",
   "metadata": {},
   "source": [
    "## Further manual adjustment"
   ]
  },
  {
   "cell_type": "code",
   "execution_count": 54,
   "id": "0473fd77-6b80-4155-9f88-ac6cf28a563c",
   "metadata": {},
   "outputs": [],
   "source": [
    "import re\n",
    "def renumber_images_sequentially(folder_path):\n",
    "    \"\"\"\n",
    "    Renumber image files in a folder to ensure sequential numbering for each sample index.\n",
    "\n",
    "    Parameters:\n",
    "    - folder_path: The path to the folder containing the images.\n",
    "    \"\"\"\n",
    "    # Regex to match and extract sample_index and index from filenames\n",
    "    pattern = re.compile(r\"sample_(\\d+)_(\\d+).png\")\n",
    "    \n",
    "    # Dictionary to hold file paths grouped by sample_index\n",
    "    files_dict = {}\n",
    "\n",
    "    # Populate files_dict with filenames, grouped by sample_index\n",
    "    for filename in os.listdir(folder_path):\n",
    "        match = pattern.match(filename)\n",
    "        if match:\n",
    "            sample_index, index = match.groups()\n",
    "            if sample_index not in files_dict:\n",
    "                files_dict[sample_index] = []\n",
    "            files_dict[sample_index].append((int(index), filename))\n",
    "    \n",
    "    # Iterate through each group of files and renumber them\n",
    "    for sample_index, files in files_dict.items():\n",
    "        # Sort files by their original index\n",
    "        files.sort()\n",
    "        for new_index, (_, filename) in enumerate(tqdm(files, desc=f\"Renaming sample {sample_index}\"), start=1):\n",
    "            new_filename = f\"sample_{sample_index}_{new_index}.png\"\n",
    "            os.rename(os.path.join(folder_path, filename), os.path.join(folder_path, new_filename))\n"
   ]
  },
  {
   "cell_type": "code",
   "execution_count": 68,
   "id": "25d119d9-9be7-4278-9ca8-f3977cf5a69f",
   "metadata": {},
   "outputs": [
    {
     "data": {
      "application/json": {
       "ascii": false,
       "bar_format": null,
       "colour": null,
       "elapsed": 0.0015850067138671875,
       "initial": 0,
       "n": 0,
       "ncols": null,
       "nrows": 24,
       "postfix": null,
       "prefix": "Renaming sample 24",
       "rate": null,
       "total": 16325,
       "unit": "it",
       "unit_divisor": 1000,
       "unit_scale": false
      },
      "application/vnd.jupyter.widget-view+json": {
       "model_id": "8d6d4c1d39154d3fb438af226e0bbc5e",
       "version_major": 2,
       "version_minor": 0
      },
      "text/plain": [
       "Renaming sample 24:   0%|          | 0/16325 [00:00<?, ?it/s]"
      ]
     },
     "metadata": {},
     "output_type": "display_data"
    }
   ],
   "source": [
    "trial = \"/home/chenlequn/pan1/Dataset/LDED_acoustic_visual_monitoring_dataset/25Hz/24/trial\"\n",
    "renumber_images_sequentially(sony_camera_image_folder)"
   ]
  }
 ],
 "metadata": {
  "kernelspec": {
   "display_name": "Python 3 (ipykernel)",
   "language": "python",
   "name": "python3"
  },
  "language_info": {
   "codemirror_mode": {
    "name": "ipython",
    "version": 3
   },
   "file_extension": ".py",
   "mimetype": "text/x-python",
   "name": "python",
   "nbconvert_exporter": "python",
   "pygments_lexer": "ipython3",
   "version": "3.9.16"
  }
 },
 "nbformat": 4,
 "nbformat_minor": 5
}
